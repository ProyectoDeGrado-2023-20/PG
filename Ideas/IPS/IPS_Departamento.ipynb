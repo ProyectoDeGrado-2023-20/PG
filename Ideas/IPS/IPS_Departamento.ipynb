{
 "cells": [
  {
   "cell_type": "code",
   "execution_count": 231,
   "metadata": {},
   "outputs": [],
   "source": [
    "import pandas as pd\n",
    "import numpy as np\n",
    "import plotly.express as px\n",
    "import matplotlib.pyplot as plt\n",
    "from matplotlib_venn import venn2\n",
    "from matplotlib_venn import venn2_circles\n",
    "from matplotlib_venn import venn3\n",
    "from matplotlib_venn import venn3_circles"
   ]
  },
  {
   "cell_type": "markdown",
   "metadata": {},
   "source": [
    "# Datos Códigos Departamentos"
   ]
  },
  {
   "cell_type": "code",
   "execution_count": 232,
   "metadata": {},
   "outputs": [],
   "source": [
    "df_departamentos_codigos = pd.read_csv('../../Data/Departamentos_Codigos.csv')"
   ]
  },
  {
   "cell_type": "code",
   "execution_count": 233,
   "metadata": {},
   "outputs": [
    {
     "name": "stdout",
     "output_type": "stream",
     "text": [
      "<class 'pandas.core.frame.DataFrame'>\n",
      "RangeIndex: 33 entries, 0 to 32\n",
      "Data columns (total 10 columns):\n",
      " #   Column                               Non-Null Count  Dtype \n",
      "---  ------                               --------------  ----- \n",
      " 0   Codigo                               33 non-null     int64 \n",
      " 1   Departamento_DANE                    33 non-null     object\n",
      " 2   Departamento_DIVIPOLA                33 non-null     object\n",
      " 3   Departamento_REPS                    33 non-null     object\n",
      " 4   Departamento_IPS_Complejidad         33 non-null     object\n",
      " 5   Departamento_IPS_Atencion_Capacidad  33 non-null     object\n",
      " 6   Departamento_Capacidad_Instalada     33 non-null     object\n",
      " 7   Departamento_Radiografia             33 non-null     object\n",
      " 8   Departamento_Caracterizacion         33 non-null     object\n",
      " 9   Departamento                         33 non-null     object\n",
      "dtypes: int64(1), object(9)\n",
      "memory usage: 2.7+ KB\n"
     ]
    }
   ],
   "source": [
    "df_departamentos_codigos.info()"
   ]
  },
  {
   "cell_type": "markdown",
   "metadata": {},
   "source": [
    "# Datos REPS"
   ]
  },
  {
   "cell_type": "code",
   "execution_count": 234,
   "metadata": {},
   "outputs": [
    {
     "name": "stderr",
     "output_type": "stream",
     "text": [
      "C:\\Users\\SGM\\AppData\\Local\\Temp\\ipykernel_7172\\3122532733.py:1: DtypeWarning:\n",
      "\n",
      "Columns (0,2) have mixed types. Specify dtype option on import or set low_memory=False.\n",
      "\n"
     ]
    }
   ],
   "source": [
    "df_reps = pd.read_csv('../../Data/REPS.csv')"
   ]
  },
  {
   "cell_type": "code",
   "execution_count": 235,
   "metadata": {},
   "outputs": [],
   "source": [
    "df_reps['codigo_prestador'] = df_reps['CodigoPrestador']\n",
    "df_reps['codigo_habilitacion_sede'] = df_reps['CodigoHabilitacionSede']\n",
    "df_reps.iloc[56503]['CodigoPrestador'], df_reps.iloc[56503]['CodigoHabilitacionSede'], df_reps.iloc[74472]['CodigoPrestador'], df_reps.iloc[74472]['CodigoHabilitacionSede']\n",
    "\n",
    "df_reps.at[56503, 'codigo_prestador'] = df_reps.iloc[56503]['CodigoPrestador'].replace(\" \", \"\")\n",
    "df_reps.at[56503, 'codigo_habilitacion_sede'] = df_reps.iloc[56503]['CodigoHabilitacionSede'].replace(\" \", \"\")\n",
    "df_reps.at[74472, 'codigo_prestador'] = df_reps.iloc[74472]['CodigoPrestador'].replace(\" \", \"\")\n",
    "df_reps.at[74472, 'codigo_habilitacion_sede'] = df_reps.iloc[74472]['CodigoHabilitacionSede'].replace(\" \", \"\")\n",
    "\n",
    "df_reps['codigo_prestador'] = df_reps['codigo_prestador'].astype(np.int64)\n",
    "df_reps['codigo_habilitacion_sede'] = df_reps['codigo_habilitacion_sede'].astype(np.int64)"
   ]
  },
  {
   "cell_type": "code",
   "execution_count": 236,
   "metadata": {},
   "outputs": [],
   "source": [
    "columnas = [\n",
    "    'DepartamentoSedeDesc',\n",
    "    'MunicipioPrestadorDesc',\n",
    "    'MunicipioSedeDesc',\n",
    "    'codigo_prestador',\n",
    "    'codigo_habilitacion_sede',\n",
    "    'NaturalezaJuridica',\n",
    "    'ClasePrestadorDesc'\n",
    "]"
   ]
  },
  {
   "cell_type": "code",
   "execution_count": 237,
   "metadata": {},
   "outputs": [],
   "source": [
    "df_reps = df_reps[columnas]"
   ]
  },
  {
   "cell_type": "code",
   "execution_count": 238,
   "metadata": {},
   "outputs": [],
   "source": [
    "departamentos = [\n",
    "    'Amazonas', 'Antioquia', 'Arauca', 'Atlántico',\n",
    "    'Bogotá D.C', 'Bolívar', 'Boyacá', 'Caldas',\n",
    "    'Caquetá', 'Casanare', 'Cauca', 'Cesar', \n",
    "    'Chocó', 'Córdoba', 'Cundinamarca', 'Guainía', \n",
    "    'Guaviare', 'Huila', 'La Guajira', 'Magdalena',\n",
    "    'Meta', 'Nariño', 'Norte de Santander', 'Putumayo',\n",
    "    'Quindío', 'Risaralda', 'San Andrés y Providencia', 'Santander',\n",
    "    'Sucre', 'Tolima', 'Valle del cauca', 'Vaupés', \n",
    "    'Vichada'\n",
    "    ]\n",
    "\n",
    "distritos_especiales = [\n",
    "    'Barranquilla',\n",
    "    'Buenaventura',\n",
    "    'Cartagena',\n",
    "    'Santa Marta'\n",
    "]\n",
    "\n",
    "distritos_especiales_departamentos = {\n",
    "    'Barranquilla': 'Atlántico',\n",
    "    'Buenaventura': 'Valle del cauca',\n",
    "    'Cartagena': 'Bolívar',\n",
    "    'Santa Marta': 'Magdalena',\n",
    "    'Cali': 'Valle del cauca'\n",
    "}"
   ]
  },
  {
   "cell_type": "code",
   "execution_count": 239,
   "metadata": {},
   "outputs": [],
   "source": [
    "df_reps['Departamento'] = df_reps['DepartamentoSedeDesc'].replace(distritos_especiales_departamentos)"
   ]
  },
  {
   "cell_type": "code",
   "execution_count": 240,
   "metadata": {},
   "outputs": [],
   "source": [
    "df_reps = df_reps[df_reps['ClasePrestadorDesc'] == 'Instituciones Prestadoras de Servicios de Salud - IPS']"
   ]
  },
  {
   "cell_type": "code",
   "execution_count": 241,
   "metadata": {},
   "outputs": [
    {
     "name": "stdout",
     "output_type": "stream",
     "text": [
      "<class 'pandas.core.frame.DataFrame'>\n",
      "Index: 19726 entries, 0 to 76393\n",
      "Data columns (total 8 columns):\n",
      " #   Column                    Non-Null Count  Dtype \n",
      "---  ------                    --------------  ----- \n",
      " 0   DepartamentoSedeDesc      19726 non-null  object\n",
      " 1   MunicipioPrestadorDesc    19726 non-null  object\n",
      " 2   MunicipioSedeDesc         19726 non-null  object\n",
      " 3   codigo_prestador          19726 non-null  int64 \n",
      " 4   codigo_habilitacion_sede  19726 non-null  int64 \n",
      " 5   NaturalezaJuridica        19726 non-null  object\n",
      " 6   ClasePrestadorDesc        19726 non-null  object\n",
      " 7   Departamento              19726 non-null  object\n",
      "dtypes: int64(2), object(6)\n",
      "memory usage: 1.4+ MB\n"
     ]
    }
   ],
   "source": [
    "df_reps.info()"
   ]
  },
  {
   "cell_type": "code",
   "execution_count": 242,
   "metadata": {},
   "outputs": [
    {
     "data": {
      "text/html": [
       "<div>\n",
       "<style scoped>\n",
       "    .dataframe tbody tr th:only-of-type {\n",
       "        vertical-align: middle;\n",
       "    }\n",
       "\n",
       "    .dataframe tbody tr th {\n",
       "        vertical-align: top;\n",
       "    }\n",
       "\n",
       "    .dataframe thead th {\n",
       "        text-align: right;\n",
       "    }\n",
       "</style>\n",
       "<table border=\"1\" class=\"dataframe\">\n",
       "  <thead>\n",
       "    <tr style=\"text-align: right;\">\n",
       "      <th></th>\n",
       "      <th>DepartamentoSedeDesc</th>\n",
       "      <th>MunicipioPrestadorDesc</th>\n",
       "      <th>MunicipioSedeDesc</th>\n",
       "      <th>codigo_prestador</th>\n",
       "      <th>codigo_habilitacion_sede</th>\n",
       "      <th>NaturalezaJuridica</th>\n",
       "      <th>ClasePrestadorDesc</th>\n",
       "      <th>Departamento</th>\n",
       "    </tr>\n",
       "  </thead>\n",
       "  <tbody>\n",
       "    <tr>\n",
       "      <th>0</th>\n",
       "      <td>Amazonas</td>\n",
       "      <td>LETICIA</td>\n",
       "      <td>EL ENCANTO</td>\n",
       "      <td>9100100019</td>\n",
       "      <td>912630001911</td>\n",
       "      <td>Pública</td>\n",
       "      <td>Instituciones Prestadoras de Servicios de Salu...</td>\n",
       "      <td>Amazonas</td>\n",
       "    </tr>\n",
       "    <tr>\n",
       "      <th>1</th>\n",
       "      <td>Amazonas</td>\n",
       "      <td>LETICIA</td>\n",
       "      <td>LA CHORRERA</td>\n",
       "      <td>9100100019</td>\n",
       "      <td>914050001914</td>\n",
       "      <td>Pública</td>\n",
       "      <td>Instituciones Prestadoras de Servicios de Salu...</td>\n",
       "      <td>Amazonas</td>\n",
       "    </tr>\n",
       "    <tr>\n",
       "      <th>2</th>\n",
       "      <td>Amazonas</td>\n",
       "      <td>LETICIA</td>\n",
       "      <td>LA PEDRERA</td>\n",
       "      <td>9100100019</td>\n",
       "      <td>914070001915</td>\n",
       "      <td>Pública</td>\n",
       "      <td>Instituciones Prestadoras de Servicios de Salu...</td>\n",
       "      <td>Amazonas</td>\n",
       "    </tr>\n",
       "    <tr>\n",
       "      <th>3</th>\n",
       "      <td>Amazonas</td>\n",
       "      <td>LETICIA</td>\n",
       "      <td>LA VICTORIA</td>\n",
       "      <td>9100100019</td>\n",
       "      <td>914300001916</td>\n",
       "      <td>Pública</td>\n",
       "      <td>Instituciones Prestadoras de Servicios de Salu...</td>\n",
       "      <td>Amazonas</td>\n",
       "    </tr>\n",
       "    <tr>\n",
       "      <th>5</th>\n",
       "      <td>Amazonas</td>\n",
       "      <td>LETICIA</td>\n",
       "      <td>LETICIA</td>\n",
       "      <td>9100100019</td>\n",
       "      <td>910010001901</td>\n",
       "      <td>Pública</td>\n",
       "      <td>Instituciones Prestadoras de Servicios de Salu...</td>\n",
       "      <td>Amazonas</td>\n",
       "    </tr>\n",
       "  </tbody>\n",
       "</table>\n",
       "</div>"
      ],
      "text/plain": [
       "  DepartamentoSedeDesc MunicipioPrestadorDesc MunicipioSedeDesc  \\\n",
       "0             Amazonas                LETICIA        EL ENCANTO   \n",
       "1             Amazonas                LETICIA       LA CHORRERA   \n",
       "2             Amazonas                LETICIA        LA PEDRERA   \n",
       "3             Amazonas                LETICIA       LA VICTORIA   \n",
       "5             Amazonas                LETICIA           LETICIA   \n",
       "\n",
       "   codigo_prestador  codigo_habilitacion_sede NaturalezaJuridica  \\\n",
       "0        9100100019              912630001911            Pública   \n",
       "1        9100100019              914050001914            Pública   \n",
       "2        9100100019              914070001915            Pública   \n",
       "3        9100100019              914300001916            Pública   \n",
       "5        9100100019              910010001901            Pública   \n",
       "\n",
       "                                  ClasePrestadorDesc Departamento  \n",
       "0  Instituciones Prestadoras de Servicios de Salu...     Amazonas  \n",
       "1  Instituciones Prestadoras de Servicios de Salu...     Amazonas  \n",
       "2  Instituciones Prestadoras de Servicios de Salu...     Amazonas  \n",
       "3  Instituciones Prestadoras de Servicios de Salu...     Amazonas  \n",
       "5  Instituciones Prestadoras de Servicios de Salu...     Amazonas  "
      ]
     },
     "execution_count": 242,
     "metadata": {},
     "output_type": "execute_result"
    }
   ],
   "source": [
    "df_reps.head()"
   ]
  },
  {
   "cell_type": "markdown",
   "metadata": {},
   "source": [
    "# IPS por Departamento - 2022"
   ]
  },
  {
   "cell_type": "code",
   "execution_count": 243,
   "metadata": {},
   "outputs": [
    {
     "data": {
      "text/html": [
       "<div>\n",
       "<style scoped>\n",
       "    .dataframe tbody tr th:only-of-type {\n",
       "        vertical-align: middle;\n",
       "    }\n",
       "\n",
       "    .dataframe tbody tr th {\n",
       "        vertical-align: top;\n",
       "    }\n",
       "\n",
       "    .dataframe thead th {\n",
       "        text-align: right;\n",
       "    }\n",
       "</style>\n",
       "<table border=\"1\" class=\"dataframe\">\n",
       "  <thead>\n",
       "    <tr style=\"text-align: right;\">\n",
       "      <th></th>\n",
       "      <th>Departamento</th>\n",
       "      <th>IPS_2022</th>\n",
       "      <th>porcentaje</th>\n",
       "    </tr>\n",
       "  </thead>\n",
       "  <tbody>\n",
       "    <tr>\n",
       "      <th>0</th>\n",
       "      <td>Vichada</td>\n",
       "      <td>12</td>\n",
       "      <td>0.06</td>\n",
       "    </tr>\n",
       "    <tr>\n",
       "      <th>1</th>\n",
       "      <td>Guainía</td>\n",
       "      <td>12</td>\n",
       "      <td>0.06</td>\n",
       "    </tr>\n",
       "    <tr>\n",
       "      <th>2</th>\n",
       "      <td>San Andrés y Providencia</td>\n",
       "      <td>25</td>\n",
       "      <td>0.13</td>\n",
       "    </tr>\n",
       "    <tr>\n",
       "      <th>3</th>\n",
       "      <td>Amazonas</td>\n",
       "      <td>25</td>\n",
       "      <td>0.13</td>\n",
       "    </tr>\n",
       "    <tr>\n",
       "      <th>4</th>\n",
       "      <td>Guaviare</td>\n",
       "      <td>34</td>\n",
       "      <td>0.17</td>\n",
       "    </tr>\n",
       "    <tr>\n",
       "      <th>5</th>\n",
       "      <td>Vaupés</td>\n",
       "      <td>55</td>\n",
       "      <td>0.28</td>\n",
       "    </tr>\n",
       "    <tr>\n",
       "      <th>6</th>\n",
       "      <td>Caquetá</td>\n",
       "      <td>109</td>\n",
       "      <td>0.55</td>\n",
       "    </tr>\n",
       "    <tr>\n",
       "      <th>7</th>\n",
       "      <td>Putumayo</td>\n",
       "      <td>124</td>\n",
       "      <td>0.63</td>\n",
       "    </tr>\n",
       "    <tr>\n",
       "      <th>8</th>\n",
       "      <td>Arauca</td>\n",
       "      <td>142</td>\n",
       "      <td>0.72</td>\n",
       "    </tr>\n",
       "    <tr>\n",
       "      <th>9</th>\n",
       "      <td>Casanare</td>\n",
       "      <td>209</td>\n",
       "      <td>1.06</td>\n",
       "    </tr>\n",
       "    <tr>\n",
       "      <th>10</th>\n",
       "      <td>Quindío</td>\n",
       "      <td>236</td>\n",
       "      <td>1.20</td>\n",
       "    </tr>\n",
       "    <tr>\n",
       "      <th>11</th>\n",
       "      <td>Chocó</td>\n",
       "      <td>265</td>\n",
       "      <td>1.34</td>\n",
       "    </tr>\n",
       "    <tr>\n",
       "      <th>12</th>\n",
       "      <td>Caldas</td>\n",
       "      <td>345</td>\n",
       "      <td>1.75</td>\n",
       "    </tr>\n",
       "    <tr>\n",
       "      <th>13</th>\n",
       "      <td>Risaralda</td>\n",
       "      <td>368</td>\n",
       "      <td>1.87</td>\n",
       "    </tr>\n",
       "    <tr>\n",
       "      <th>14</th>\n",
       "      <td>Huila</td>\n",
       "      <td>373</td>\n",
       "      <td>1.89</td>\n",
       "    </tr>\n",
       "    <tr>\n",
       "      <th>15</th>\n",
       "      <td>La Guajira</td>\n",
       "      <td>427</td>\n",
       "      <td>2.16</td>\n",
       "    </tr>\n",
       "    <tr>\n",
       "      <th>16</th>\n",
       "      <td>Cauca</td>\n",
       "      <td>480</td>\n",
       "      <td>2.43</td>\n",
       "    </tr>\n",
       "    <tr>\n",
       "      <th>17</th>\n",
       "      <td>Meta</td>\n",
       "      <td>483</td>\n",
       "      <td>2.45</td>\n",
       "    </tr>\n",
       "    <tr>\n",
       "      <th>18</th>\n",
       "      <td>Sucre</td>\n",
       "      <td>513</td>\n",
       "      <td>2.60</td>\n",
       "    </tr>\n",
       "    <tr>\n",
       "      <th>19</th>\n",
       "      <td>Norte de Santander</td>\n",
       "      <td>518</td>\n",
       "      <td>2.63</td>\n",
       "    </tr>\n",
       "    <tr>\n",
       "      <th>20</th>\n",
       "      <td>Tolima</td>\n",
       "      <td>525</td>\n",
       "      <td>2.66</td>\n",
       "    </tr>\n",
       "    <tr>\n",
       "      <th>21</th>\n",
       "      <td>Boyacá</td>\n",
       "      <td>562</td>\n",
       "      <td>2.85</td>\n",
       "    </tr>\n",
       "    <tr>\n",
       "      <th>22</th>\n",
       "      <td>Cesar</td>\n",
       "      <td>611</td>\n",
       "      <td>3.10</td>\n",
       "    </tr>\n",
       "    <tr>\n",
       "      <th>23</th>\n",
       "      <td>Magdalena</td>\n",
       "      <td>693</td>\n",
       "      <td>3.51</td>\n",
       "    </tr>\n",
       "    <tr>\n",
       "      <th>24</th>\n",
       "      <td>Nariño</td>\n",
       "      <td>800</td>\n",
       "      <td>4.06</td>\n",
       "    </tr>\n",
       "    <tr>\n",
       "      <th>25</th>\n",
       "      <td>Cundinamarca</td>\n",
       "      <td>818</td>\n",
       "      <td>4.15</td>\n",
       "    </tr>\n",
       "    <tr>\n",
       "      <th>26</th>\n",
       "      <td>Córdoba</td>\n",
       "      <td>821</td>\n",
       "      <td>4.16</td>\n",
       "    </tr>\n",
       "    <tr>\n",
       "      <th>27</th>\n",
       "      <td>Bolívar</td>\n",
       "      <td>970</td>\n",
       "      <td>4.92</td>\n",
       "    </tr>\n",
       "    <tr>\n",
       "      <th>28</th>\n",
       "      <td>Santander</td>\n",
       "      <td>1048</td>\n",
       "      <td>5.31</td>\n",
       "    </tr>\n",
       "    <tr>\n",
       "      <th>29</th>\n",
       "      <td>Atlántico</td>\n",
       "      <td>1217</td>\n",
       "      <td>6.17</td>\n",
       "    </tr>\n",
       "    <tr>\n",
       "      <th>30</th>\n",
       "      <td>Valle del cauca</td>\n",
       "      <td>1869</td>\n",
       "      <td>9.47</td>\n",
       "    </tr>\n",
       "    <tr>\n",
       "      <th>31</th>\n",
       "      <td>Antioquia</td>\n",
       "      <td>2145</td>\n",
       "      <td>10.87</td>\n",
       "    </tr>\n",
       "    <tr>\n",
       "      <th>32</th>\n",
       "      <td>Bogotá D.C</td>\n",
       "      <td>2892</td>\n",
       "      <td>14.66</td>\n",
       "    </tr>\n",
       "  </tbody>\n",
       "</table>\n",
       "</div>"
      ],
      "text/plain": [
       "                Departamento  IPS_2022  porcentaje\n",
       "0                    Vichada        12        0.06\n",
       "1                    Guainía        12        0.06\n",
       "2   San Andrés y Providencia        25        0.13\n",
       "3                   Amazonas        25        0.13\n",
       "4                   Guaviare        34        0.17\n",
       "5                     Vaupés        55        0.28\n",
       "6                    Caquetá       109        0.55\n",
       "7                   Putumayo       124        0.63\n",
       "8                     Arauca       142        0.72\n",
       "9                   Casanare       209        1.06\n",
       "10                   Quindío       236        1.20\n",
       "11                     Chocó       265        1.34\n",
       "12                    Caldas       345        1.75\n",
       "13                 Risaralda       368        1.87\n",
       "14                     Huila       373        1.89\n",
       "15                La Guajira       427        2.16\n",
       "16                     Cauca       480        2.43\n",
       "17                      Meta       483        2.45\n",
       "18                     Sucre       513        2.60\n",
       "19        Norte de Santander       518        2.63\n",
       "20                    Tolima       525        2.66\n",
       "21                    Boyacá       562        2.85\n",
       "22                     Cesar       611        3.10\n",
       "23                 Magdalena       693        3.51\n",
       "24                    Nariño       800        4.06\n",
       "25              Cundinamarca       818        4.15\n",
       "26                   Córdoba       821        4.16\n",
       "27                   Bolívar       970        4.92\n",
       "28                 Santander      1048        5.31\n",
       "29                 Atlántico      1217        6.17\n",
       "30           Valle del cauca      1869        9.47\n",
       "31                 Antioquia      2145       10.87\n",
       "32                Bogotá D.C      2892       14.66"
      ]
     },
     "execution_count": 243,
     "metadata": {},
     "output_type": "execute_result"
    }
   ],
   "source": [
    "df_num_reps = df_reps.groupby('Departamento').agg(IPS_2022=('codigo_habilitacion_sede', 'count')).reset_index().sort_values('IPS_2022', ascending=True).reset_index(drop=True)\n",
    "df_num_reps['porcentaje'] = (df_num_reps['IPS_2022'] / (df_num_reps['IPS_2022'].sum()) * 100).round(2)\n",
    "df_num_reps"
   ]
  },
  {
   "cell_type": "code",
   "execution_count": 244,
   "metadata": {},
   "outputs": [
    {
     "data": {
      "application/vnd.plotly.v1+json": {
       "config": {
        "plotlyServerURL": "https://plot.ly"
       },
       "data": [
        {
         "alignmentgroup": "True",
         "hovertemplate": "IPS_2022=%{x}<br>Departamento=%{y}<extra></extra>",
         "legendgroup": "",
         "marker": {
          "color": [
           "#3364C7",
           "#3364C7",
           "#3364C7",
           "#3364C7",
           "#3364C7",
           "#3364C7",
           "#3364C7",
           "#3364C7",
           "#3364C7",
           "#3364C7",
           "#3364C7",
           "#3364C7",
           "#3364C7",
           "#3364C7",
           "#3364C7",
           "#3364C7",
           "#3364C7",
           "#3364C7",
           "#3364C7",
           "#3364C7",
           "#3364C7",
           "#3364C7",
           "#3364C7",
           "#3364C7",
           "#3364C7",
           "#3364C7",
           "#3364C7",
           "#3364C7",
           "#3364C7",
           "#3364C7",
           "#3364C7",
           "#3364C7",
           "#3364C7"
          ],
          "pattern": {
           "shape": ""
          }
         },
         "name": "",
         "offsetgroup": "",
         "orientation": "h",
         "showlegend": false,
         "text": [
          12,
          12,
          25,
          25,
          34,
          55,
          109,
          124,
          142,
          209,
          236,
          265,
          345,
          368,
          373,
          427,
          480,
          483,
          513,
          518,
          525,
          562,
          611,
          693,
          800,
          818,
          821,
          970,
          1048,
          1217,
          1869,
          2145,
          2892
         ],
         "textposition": "outside",
         "type": "bar",
         "x": [
          12,
          12,
          25,
          25,
          34,
          55,
          109,
          124,
          142,
          209,
          236,
          265,
          345,
          368,
          373,
          427,
          480,
          483,
          513,
          518,
          525,
          562,
          611,
          693,
          800,
          818,
          821,
          970,
          1048,
          1217,
          1869,
          2145,
          2892
         ],
         "xaxis": "x",
         "y": [
          "Vichada",
          "Guainía",
          "San Andrés y Providencia",
          "Amazonas",
          "Guaviare",
          "Vaupés",
          "Caquetá",
          "Putumayo",
          "Arauca",
          "Casanare",
          "Quindío",
          "Chocó",
          "Caldas",
          "Risaralda",
          "Huila",
          "La Guajira",
          "Cauca",
          "Meta",
          "Sucre",
          "Norte de Santander",
          "Tolima",
          "Boyacá",
          "Cesar",
          "Magdalena",
          "Nariño",
          "Cundinamarca",
          "Córdoba",
          "Bolívar",
          "Santander",
          "Atlántico",
          "Valle del cauca",
          "Antioquia",
          "Bogotá D.C"
         ],
         "yaxis": "y"
        }
       ],
       "layout": {
        "barmode": "relative",
        "height": 700,
        "legend": {
         "tracegroupgap": 0
        },
        "margin": {
         "t": 60
        },
        "template": {
         "data": {
          "bar": [
           {
            "error_x": {
             "color": "#2a3f5f"
            },
            "error_y": {
             "color": "#2a3f5f"
            },
            "marker": {
             "line": {
              "color": "#E5ECF6",
              "width": 0.5
             },
             "pattern": {
              "fillmode": "overlay",
              "size": 10,
              "solidity": 0.2
             }
            },
            "type": "bar"
           }
          ],
          "barpolar": [
           {
            "marker": {
             "line": {
              "color": "#E5ECF6",
              "width": 0.5
             },
             "pattern": {
              "fillmode": "overlay",
              "size": 10,
              "solidity": 0.2
             }
            },
            "type": "barpolar"
           }
          ],
          "carpet": [
           {
            "aaxis": {
             "endlinecolor": "#2a3f5f",
             "gridcolor": "white",
             "linecolor": "white",
             "minorgridcolor": "white",
             "startlinecolor": "#2a3f5f"
            },
            "baxis": {
             "endlinecolor": "#2a3f5f",
             "gridcolor": "white",
             "linecolor": "white",
             "minorgridcolor": "white",
             "startlinecolor": "#2a3f5f"
            },
            "type": "carpet"
           }
          ],
          "choropleth": [
           {
            "colorbar": {
             "outlinewidth": 0,
             "ticks": ""
            },
            "type": "choropleth"
           }
          ],
          "contour": [
           {
            "colorbar": {
             "outlinewidth": 0,
             "ticks": ""
            },
            "colorscale": [
             [
              0,
              "#0d0887"
             ],
             [
              0.1111111111111111,
              "#46039f"
             ],
             [
              0.2222222222222222,
              "#7201a8"
             ],
             [
              0.3333333333333333,
              "#9c179e"
             ],
             [
              0.4444444444444444,
              "#bd3786"
             ],
             [
              0.5555555555555556,
              "#d8576b"
             ],
             [
              0.6666666666666666,
              "#ed7953"
             ],
             [
              0.7777777777777778,
              "#fb9f3a"
             ],
             [
              0.8888888888888888,
              "#fdca26"
             ],
             [
              1,
              "#f0f921"
             ]
            ],
            "type": "contour"
           }
          ],
          "contourcarpet": [
           {
            "colorbar": {
             "outlinewidth": 0,
             "ticks": ""
            },
            "type": "contourcarpet"
           }
          ],
          "heatmap": [
           {
            "colorbar": {
             "outlinewidth": 0,
             "ticks": ""
            },
            "colorscale": [
             [
              0,
              "#0d0887"
             ],
             [
              0.1111111111111111,
              "#46039f"
             ],
             [
              0.2222222222222222,
              "#7201a8"
             ],
             [
              0.3333333333333333,
              "#9c179e"
             ],
             [
              0.4444444444444444,
              "#bd3786"
             ],
             [
              0.5555555555555556,
              "#d8576b"
             ],
             [
              0.6666666666666666,
              "#ed7953"
             ],
             [
              0.7777777777777778,
              "#fb9f3a"
             ],
             [
              0.8888888888888888,
              "#fdca26"
             ],
             [
              1,
              "#f0f921"
             ]
            ],
            "type": "heatmap"
           }
          ],
          "heatmapgl": [
           {
            "colorbar": {
             "outlinewidth": 0,
             "ticks": ""
            },
            "colorscale": [
             [
              0,
              "#0d0887"
             ],
             [
              0.1111111111111111,
              "#46039f"
             ],
             [
              0.2222222222222222,
              "#7201a8"
             ],
             [
              0.3333333333333333,
              "#9c179e"
             ],
             [
              0.4444444444444444,
              "#bd3786"
             ],
             [
              0.5555555555555556,
              "#d8576b"
             ],
             [
              0.6666666666666666,
              "#ed7953"
             ],
             [
              0.7777777777777778,
              "#fb9f3a"
             ],
             [
              0.8888888888888888,
              "#fdca26"
             ],
             [
              1,
              "#f0f921"
             ]
            ],
            "type": "heatmapgl"
           }
          ],
          "histogram": [
           {
            "marker": {
             "pattern": {
              "fillmode": "overlay",
              "size": 10,
              "solidity": 0.2
             }
            },
            "type": "histogram"
           }
          ],
          "histogram2d": [
           {
            "colorbar": {
             "outlinewidth": 0,
             "ticks": ""
            },
            "colorscale": [
             [
              0,
              "#0d0887"
             ],
             [
              0.1111111111111111,
              "#46039f"
             ],
             [
              0.2222222222222222,
              "#7201a8"
             ],
             [
              0.3333333333333333,
              "#9c179e"
             ],
             [
              0.4444444444444444,
              "#bd3786"
             ],
             [
              0.5555555555555556,
              "#d8576b"
             ],
             [
              0.6666666666666666,
              "#ed7953"
             ],
             [
              0.7777777777777778,
              "#fb9f3a"
             ],
             [
              0.8888888888888888,
              "#fdca26"
             ],
             [
              1,
              "#f0f921"
             ]
            ],
            "type": "histogram2d"
           }
          ],
          "histogram2dcontour": [
           {
            "colorbar": {
             "outlinewidth": 0,
             "ticks": ""
            },
            "colorscale": [
             [
              0,
              "#0d0887"
             ],
             [
              0.1111111111111111,
              "#46039f"
             ],
             [
              0.2222222222222222,
              "#7201a8"
             ],
             [
              0.3333333333333333,
              "#9c179e"
             ],
             [
              0.4444444444444444,
              "#bd3786"
             ],
             [
              0.5555555555555556,
              "#d8576b"
             ],
             [
              0.6666666666666666,
              "#ed7953"
             ],
             [
              0.7777777777777778,
              "#fb9f3a"
             ],
             [
              0.8888888888888888,
              "#fdca26"
             ],
             [
              1,
              "#f0f921"
             ]
            ],
            "type": "histogram2dcontour"
           }
          ],
          "mesh3d": [
           {
            "colorbar": {
             "outlinewidth": 0,
             "ticks": ""
            },
            "type": "mesh3d"
           }
          ],
          "parcoords": [
           {
            "line": {
             "colorbar": {
              "outlinewidth": 0,
              "ticks": ""
             }
            },
            "type": "parcoords"
           }
          ],
          "pie": [
           {
            "automargin": true,
            "type": "pie"
           }
          ],
          "scatter": [
           {
            "fillpattern": {
             "fillmode": "overlay",
             "size": 10,
             "solidity": 0.2
            },
            "type": "scatter"
           }
          ],
          "scatter3d": [
           {
            "line": {
             "colorbar": {
              "outlinewidth": 0,
              "ticks": ""
             }
            },
            "marker": {
             "colorbar": {
              "outlinewidth": 0,
              "ticks": ""
             }
            },
            "type": "scatter3d"
           }
          ],
          "scattercarpet": [
           {
            "marker": {
             "colorbar": {
              "outlinewidth": 0,
              "ticks": ""
             }
            },
            "type": "scattercarpet"
           }
          ],
          "scattergeo": [
           {
            "marker": {
             "colorbar": {
              "outlinewidth": 0,
              "ticks": ""
             }
            },
            "type": "scattergeo"
           }
          ],
          "scattergl": [
           {
            "marker": {
             "colorbar": {
              "outlinewidth": 0,
              "ticks": ""
             }
            },
            "type": "scattergl"
           }
          ],
          "scattermapbox": [
           {
            "marker": {
             "colorbar": {
              "outlinewidth": 0,
              "ticks": ""
             }
            },
            "type": "scattermapbox"
           }
          ],
          "scatterpolar": [
           {
            "marker": {
             "colorbar": {
              "outlinewidth": 0,
              "ticks": ""
             }
            },
            "type": "scatterpolar"
           }
          ],
          "scatterpolargl": [
           {
            "marker": {
             "colorbar": {
              "outlinewidth": 0,
              "ticks": ""
             }
            },
            "type": "scatterpolargl"
           }
          ],
          "scatterternary": [
           {
            "marker": {
             "colorbar": {
              "outlinewidth": 0,
              "ticks": ""
             }
            },
            "type": "scatterternary"
           }
          ],
          "surface": [
           {
            "colorbar": {
             "outlinewidth": 0,
             "ticks": ""
            },
            "colorscale": [
             [
              0,
              "#0d0887"
             ],
             [
              0.1111111111111111,
              "#46039f"
             ],
             [
              0.2222222222222222,
              "#7201a8"
             ],
             [
              0.3333333333333333,
              "#9c179e"
             ],
             [
              0.4444444444444444,
              "#bd3786"
             ],
             [
              0.5555555555555556,
              "#d8576b"
             ],
             [
              0.6666666666666666,
              "#ed7953"
             ],
             [
              0.7777777777777778,
              "#fb9f3a"
             ],
             [
              0.8888888888888888,
              "#fdca26"
             ],
             [
              1,
              "#f0f921"
             ]
            ],
            "type": "surface"
           }
          ],
          "table": [
           {
            "cells": {
             "fill": {
              "color": "#EBF0F8"
             },
             "line": {
              "color": "white"
             }
            },
            "header": {
             "fill": {
              "color": "#C8D4E3"
             },
             "line": {
              "color": "white"
             }
            },
            "type": "table"
           }
          ]
         },
         "layout": {
          "annotationdefaults": {
           "arrowcolor": "#2a3f5f",
           "arrowhead": 0,
           "arrowwidth": 1
          },
          "autotypenumbers": "strict",
          "coloraxis": {
           "colorbar": {
            "outlinewidth": 0,
            "ticks": ""
           }
          },
          "colorscale": {
           "diverging": [
            [
             0,
             "#8e0152"
            ],
            [
             0.1,
             "#c51b7d"
            ],
            [
             0.2,
             "#de77ae"
            ],
            [
             0.3,
             "#f1b6da"
            ],
            [
             0.4,
             "#fde0ef"
            ],
            [
             0.5,
             "#f7f7f7"
            ],
            [
             0.6,
             "#e6f5d0"
            ],
            [
             0.7,
             "#b8e186"
            ],
            [
             0.8,
             "#7fbc41"
            ],
            [
             0.9,
             "#4d9221"
            ],
            [
             1,
             "#276419"
            ]
           ],
           "sequential": [
            [
             0,
             "#0d0887"
            ],
            [
             0.1111111111111111,
             "#46039f"
            ],
            [
             0.2222222222222222,
             "#7201a8"
            ],
            [
             0.3333333333333333,
             "#9c179e"
            ],
            [
             0.4444444444444444,
             "#bd3786"
            ],
            [
             0.5555555555555556,
             "#d8576b"
            ],
            [
             0.6666666666666666,
             "#ed7953"
            ],
            [
             0.7777777777777778,
             "#fb9f3a"
            ],
            [
             0.8888888888888888,
             "#fdca26"
            ],
            [
             1,
             "#f0f921"
            ]
           ],
           "sequentialminus": [
            [
             0,
             "#0d0887"
            ],
            [
             0.1111111111111111,
             "#46039f"
            ],
            [
             0.2222222222222222,
             "#7201a8"
            ],
            [
             0.3333333333333333,
             "#9c179e"
            ],
            [
             0.4444444444444444,
             "#bd3786"
            ],
            [
             0.5555555555555556,
             "#d8576b"
            ],
            [
             0.6666666666666666,
             "#ed7953"
            ],
            [
             0.7777777777777778,
             "#fb9f3a"
            ],
            [
             0.8888888888888888,
             "#fdca26"
            ],
            [
             1,
             "#f0f921"
            ]
           ]
          },
          "colorway": [
           "#636efa",
           "#EF553B",
           "#00cc96",
           "#ab63fa",
           "#FFA15A",
           "#19d3f3",
           "#FF6692",
           "#B6E880",
           "#FF97FF",
           "#FECB52"
          ],
          "font": {
           "color": "#2a3f5f"
          },
          "geo": {
           "bgcolor": "white",
           "lakecolor": "white",
           "landcolor": "#E5ECF6",
           "showlakes": true,
           "showland": true,
           "subunitcolor": "white"
          },
          "hoverlabel": {
           "align": "left"
          },
          "hovermode": "closest",
          "mapbox": {
           "style": "light"
          },
          "paper_bgcolor": "white",
          "plot_bgcolor": "#E5ECF6",
          "polar": {
           "angularaxis": {
            "gridcolor": "white",
            "linecolor": "white",
            "ticks": ""
           },
           "bgcolor": "#E5ECF6",
           "radialaxis": {
            "gridcolor": "white",
            "linecolor": "white",
            "ticks": ""
           }
          },
          "scene": {
           "xaxis": {
            "backgroundcolor": "#E5ECF6",
            "gridcolor": "white",
            "gridwidth": 2,
            "linecolor": "white",
            "showbackground": true,
            "ticks": "",
            "zerolinecolor": "white"
           },
           "yaxis": {
            "backgroundcolor": "#E5ECF6",
            "gridcolor": "white",
            "gridwidth": 2,
            "linecolor": "white",
            "showbackground": true,
            "ticks": "",
            "zerolinecolor": "white"
           },
           "zaxis": {
            "backgroundcolor": "#E5ECF6",
            "gridcolor": "white",
            "gridwidth": 2,
            "linecolor": "white",
            "showbackground": true,
            "ticks": "",
            "zerolinecolor": "white"
           }
          },
          "shapedefaults": {
           "line": {
            "color": "#2a3f5f"
           }
          },
          "ternary": {
           "aaxis": {
            "gridcolor": "white",
            "linecolor": "white",
            "ticks": ""
           },
           "baxis": {
            "gridcolor": "white",
            "linecolor": "white",
            "ticks": ""
           },
           "bgcolor": "#E5ECF6",
           "caxis": {
            "gridcolor": "white",
            "linecolor": "white",
            "ticks": ""
           }
          },
          "title": {
           "x": 0.05
          },
          "xaxis": {
           "automargin": true,
           "gridcolor": "white",
           "linecolor": "white",
           "ticks": "",
           "title": {
            "standoff": 15
           },
           "zerolinecolor": "white",
           "zerolinewidth": 2
          },
          "yaxis": {
           "automargin": true,
           "gridcolor": "white",
           "linecolor": "white",
           "ticks": "",
           "title": {
            "standoff": 15
           },
           "zerolinecolor": "white",
           "zerolinewidth": 2
          }
         }
        },
        "title": {
         "text": "Número de IPS por Departamento - 2022"
        },
        "width": 800,
        "xaxis": {
         "anchor": "y",
         "domain": [
          0,
          1
         ],
         "range": [
          0,
          3100
         ],
         "title": {
          "text": "Número de IPS"
         }
        },
        "yaxis": {
         "anchor": "x",
         "domain": [
          0,
          1
         ],
         "title": {
          "text": "Departamento"
         }
        }
       }
      }
     },
     "metadata": {},
     "output_type": "display_data"
    }
   ],
   "source": [
    "fig = px.bar(data_frame=df_num_reps, \n",
    "             x='IPS_2022', \n",
    "             y='Departamento', \n",
    "             orientation='h')\n",
    "\n",
    "fig.update_xaxes(title_text='Número de IPS')\n",
    "fig.update_xaxes(range=[0,3100])\n",
    "fig.update_yaxes(title_text='Departamento')\n",
    "fig.update_layout(title='Número de IPS por Departamento - 2022')\n",
    "\n",
    "color_sequence = ['#3364C7' for i in departamentos]\n",
    "fig.update_traces(marker=dict(color=color_sequence))\n",
    "\n",
    "fig.update_traces(text=df_num_reps['IPS_2022'], textposition='outside')\n",
    "\n",
    "# fig.update_layout(plot_bgcolor='rgba(0,0,0,0)')\n",
    "\n",
    "fig.update_layout(width=800, height=700)\n",
    "\n",
    "fig.show()"
   ]
  },
  {
   "cell_type": "code",
   "execution_count": 245,
   "metadata": {},
   "outputs": [
    {
     "data": {
      "application/vnd.plotly.v1+json": {
       "config": {
        "plotlyServerURL": "https://plot.ly"
       },
       "data": [
        {
         "alignmentgroup": "True",
         "hovertemplate": "porcentaje=%{x}<br>Departamento=%{y}<extra></extra>",
         "legendgroup": "",
         "marker": {
          "color": [
           "#3364C7",
           "#3364C7",
           "#3364C7",
           "#3364C7",
           "#3364C7",
           "#3364C7",
           "#3364C7",
           "#3364C7",
           "#3364C7",
           "#3364C7",
           "#3364C7",
           "#3364C7",
           "#3364C7",
           "#3364C7",
           "#3364C7",
           "#3364C7",
           "#3364C7",
           "#3364C7",
           "#3364C7",
           "#3364C7",
           "#3364C7",
           "#3364C7",
           "#3364C7",
           "#3364C7",
           "#3364C7",
           "#3364C7",
           "#3364C7",
           "#3364C7",
           "#3364C7",
           "#3364C7",
           "#3364C7",
           "#3364C7",
           "#3364C7"
          ],
          "pattern": {
           "shape": ""
          }
         },
         "name": "",
         "offsetgroup": "",
         "orientation": "h",
         "showlegend": false,
         "text": [
          0.06,
          0.06,
          0.13,
          0.13,
          0.17,
          0.28,
          0.55,
          0.63,
          0.72,
          1.06,
          1.2,
          1.34,
          1.75,
          1.87,
          1.89,
          2.16,
          2.43,
          2.45,
          2.6,
          2.63,
          2.66,
          2.85,
          3.1,
          3.51,
          4.06,
          4.15,
          4.16,
          4.92,
          5.31,
          6.17,
          9.47,
          10.87,
          14.66
         ],
         "textposition": "outside",
         "type": "bar",
         "x": [
          0.06,
          0.06,
          0.13,
          0.13,
          0.17,
          0.28,
          0.55,
          0.63,
          0.72,
          1.06,
          1.2,
          1.34,
          1.75,
          1.87,
          1.89,
          2.16,
          2.43,
          2.45,
          2.6,
          2.63,
          2.66,
          2.85,
          3.1,
          3.51,
          4.06,
          4.15,
          4.16,
          4.92,
          5.31,
          6.17,
          9.47,
          10.87,
          14.66
         ],
         "xaxis": "x",
         "y": [
          "Vichada",
          "Guainía",
          "San Andrés y Providencia",
          "Amazonas",
          "Guaviare",
          "Vaupés",
          "Caquetá",
          "Putumayo",
          "Arauca",
          "Casanare",
          "Quindío",
          "Chocó",
          "Caldas",
          "Risaralda",
          "Huila",
          "La Guajira",
          "Cauca",
          "Meta",
          "Sucre",
          "Norte de Santander",
          "Tolima",
          "Boyacá",
          "Cesar",
          "Magdalena",
          "Nariño",
          "Cundinamarca",
          "Córdoba",
          "Bolívar",
          "Santander",
          "Atlántico",
          "Valle del cauca",
          "Antioquia",
          "Bogotá D.C"
         ],
         "yaxis": "y"
        }
       ],
       "layout": {
        "barmode": "relative",
        "height": 700,
        "legend": {
         "tracegroupgap": 0
        },
        "margin": {
         "t": 60
        },
        "template": {
         "data": {
          "bar": [
           {
            "error_x": {
             "color": "#2a3f5f"
            },
            "error_y": {
             "color": "#2a3f5f"
            },
            "marker": {
             "line": {
              "color": "#E5ECF6",
              "width": 0.5
             },
             "pattern": {
              "fillmode": "overlay",
              "size": 10,
              "solidity": 0.2
             }
            },
            "type": "bar"
           }
          ],
          "barpolar": [
           {
            "marker": {
             "line": {
              "color": "#E5ECF6",
              "width": 0.5
             },
             "pattern": {
              "fillmode": "overlay",
              "size": 10,
              "solidity": 0.2
             }
            },
            "type": "barpolar"
           }
          ],
          "carpet": [
           {
            "aaxis": {
             "endlinecolor": "#2a3f5f",
             "gridcolor": "white",
             "linecolor": "white",
             "minorgridcolor": "white",
             "startlinecolor": "#2a3f5f"
            },
            "baxis": {
             "endlinecolor": "#2a3f5f",
             "gridcolor": "white",
             "linecolor": "white",
             "minorgridcolor": "white",
             "startlinecolor": "#2a3f5f"
            },
            "type": "carpet"
           }
          ],
          "choropleth": [
           {
            "colorbar": {
             "outlinewidth": 0,
             "ticks": ""
            },
            "type": "choropleth"
           }
          ],
          "contour": [
           {
            "colorbar": {
             "outlinewidth": 0,
             "ticks": ""
            },
            "colorscale": [
             [
              0,
              "#0d0887"
             ],
             [
              0.1111111111111111,
              "#46039f"
             ],
             [
              0.2222222222222222,
              "#7201a8"
             ],
             [
              0.3333333333333333,
              "#9c179e"
             ],
             [
              0.4444444444444444,
              "#bd3786"
             ],
             [
              0.5555555555555556,
              "#d8576b"
             ],
             [
              0.6666666666666666,
              "#ed7953"
             ],
             [
              0.7777777777777778,
              "#fb9f3a"
             ],
             [
              0.8888888888888888,
              "#fdca26"
             ],
             [
              1,
              "#f0f921"
             ]
            ],
            "type": "contour"
           }
          ],
          "contourcarpet": [
           {
            "colorbar": {
             "outlinewidth": 0,
             "ticks": ""
            },
            "type": "contourcarpet"
           }
          ],
          "heatmap": [
           {
            "colorbar": {
             "outlinewidth": 0,
             "ticks": ""
            },
            "colorscale": [
             [
              0,
              "#0d0887"
             ],
             [
              0.1111111111111111,
              "#46039f"
             ],
             [
              0.2222222222222222,
              "#7201a8"
             ],
             [
              0.3333333333333333,
              "#9c179e"
             ],
             [
              0.4444444444444444,
              "#bd3786"
             ],
             [
              0.5555555555555556,
              "#d8576b"
             ],
             [
              0.6666666666666666,
              "#ed7953"
             ],
             [
              0.7777777777777778,
              "#fb9f3a"
             ],
             [
              0.8888888888888888,
              "#fdca26"
             ],
             [
              1,
              "#f0f921"
             ]
            ],
            "type": "heatmap"
           }
          ],
          "heatmapgl": [
           {
            "colorbar": {
             "outlinewidth": 0,
             "ticks": ""
            },
            "colorscale": [
             [
              0,
              "#0d0887"
             ],
             [
              0.1111111111111111,
              "#46039f"
             ],
             [
              0.2222222222222222,
              "#7201a8"
             ],
             [
              0.3333333333333333,
              "#9c179e"
             ],
             [
              0.4444444444444444,
              "#bd3786"
             ],
             [
              0.5555555555555556,
              "#d8576b"
             ],
             [
              0.6666666666666666,
              "#ed7953"
             ],
             [
              0.7777777777777778,
              "#fb9f3a"
             ],
             [
              0.8888888888888888,
              "#fdca26"
             ],
             [
              1,
              "#f0f921"
             ]
            ],
            "type": "heatmapgl"
           }
          ],
          "histogram": [
           {
            "marker": {
             "pattern": {
              "fillmode": "overlay",
              "size": 10,
              "solidity": 0.2
             }
            },
            "type": "histogram"
           }
          ],
          "histogram2d": [
           {
            "colorbar": {
             "outlinewidth": 0,
             "ticks": ""
            },
            "colorscale": [
             [
              0,
              "#0d0887"
             ],
             [
              0.1111111111111111,
              "#46039f"
             ],
             [
              0.2222222222222222,
              "#7201a8"
             ],
             [
              0.3333333333333333,
              "#9c179e"
             ],
             [
              0.4444444444444444,
              "#bd3786"
             ],
             [
              0.5555555555555556,
              "#d8576b"
             ],
             [
              0.6666666666666666,
              "#ed7953"
             ],
             [
              0.7777777777777778,
              "#fb9f3a"
             ],
             [
              0.8888888888888888,
              "#fdca26"
             ],
             [
              1,
              "#f0f921"
             ]
            ],
            "type": "histogram2d"
           }
          ],
          "histogram2dcontour": [
           {
            "colorbar": {
             "outlinewidth": 0,
             "ticks": ""
            },
            "colorscale": [
             [
              0,
              "#0d0887"
             ],
             [
              0.1111111111111111,
              "#46039f"
             ],
             [
              0.2222222222222222,
              "#7201a8"
             ],
             [
              0.3333333333333333,
              "#9c179e"
             ],
             [
              0.4444444444444444,
              "#bd3786"
             ],
             [
              0.5555555555555556,
              "#d8576b"
             ],
             [
              0.6666666666666666,
              "#ed7953"
             ],
             [
              0.7777777777777778,
              "#fb9f3a"
             ],
             [
              0.8888888888888888,
              "#fdca26"
             ],
             [
              1,
              "#f0f921"
             ]
            ],
            "type": "histogram2dcontour"
           }
          ],
          "mesh3d": [
           {
            "colorbar": {
             "outlinewidth": 0,
             "ticks": ""
            },
            "type": "mesh3d"
           }
          ],
          "parcoords": [
           {
            "line": {
             "colorbar": {
              "outlinewidth": 0,
              "ticks": ""
             }
            },
            "type": "parcoords"
           }
          ],
          "pie": [
           {
            "automargin": true,
            "type": "pie"
           }
          ],
          "scatter": [
           {
            "fillpattern": {
             "fillmode": "overlay",
             "size": 10,
             "solidity": 0.2
            },
            "type": "scatter"
           }
          ],
          "scatter3d": [
           {
            "line": {
             "colorbar": {
              "outlinewidth": 0,
              "ticks": ""
             }
            },
            "marker": {
             "colorbar": {
              "outlinewidth": 0,
              "ticks": ""
             }
            },
            "type": "scatter3d"
           }
          ],
          "scattercarpet": [
           {
            "marker": {
             "colorbar": {
              "outlinewidth": 0,
              "ticks": ""
             }
            },
            "type": "scattercarpet"
           }
          ],
          "scattergeo": [
           {
            "marker": {
             "colorbar": {
              "outlinewidth": 0,
              "ticks": ""
             }
            },
            "type": "scattergeo"
           }
          ],
          "scattergl": [
           {
            "marker": {
             "colorbar": {
              "outlinewidth": 0,
              "ticks": ""
             }
            },
            "type": "scattergl"
           }
          ],
          "scattermapbox": [
           {
            "marker": {
             "colorbar": {
              "outlinewidth": 0,
              "ticks": ""
             }
            },
            "type": "scattermapbox"
           }
          ],
          "scatterpolar": [
           {
            "marker": {
             "colorbar": {
              "outlinewidth": 0,
              "ticks": ""
             }
            },
            "type": "scatterpolar"
           }
          ],
          "scatterpolargl": [
           {
            "marker": {
             "colorbar": {
              "outlinewidth": 0,
              "ticks": ""
             }
            },
            "type": "scatterpolargl"
           }
          ],
          "scatterternary": [
           {
            "marker": {
             "colorbar": {
              "outlinewidth": 0,
              "ticks": ""
             }
            },
            "type": "scatterternary"
           }
          ],
          "surface": [
           {
            "colorbar": {
             "outlinewidth": 0,
             "ticks": ""
            },
            "colorscale": [
             [
              0,
              "#0d0887"
             ],
             [
              0.1111111111111111,
              "#46039f"
             ],
             [
              0.2222222222222222,
              "#7201a8"
             ],
             [
              0.3333333333333333,
              "#9c179e"
             ],
             [
              0.4444444444444444,
              "#bd3786"
             ],
             [
              0.5555555555555556,
              "#d8576b"
             ],
             [
              0.6666666666666666,
              "#ed7953"
             ],
             [
              0.7777777777777778,
              "#fb9f3a"
             ],
             [
              0.8888888888888888,
              "#fdca26"
             ],
             [
              1,
              "#f0f921"
             ]
            ],
            "type": "surface"
           }
          ],
          "table": [
           {
            "cells": {
             "fill": {
              "color": "#EBF0F8"
             },
             "line": {
              "color": "white"
             }
            },
            "header": {
             "fill": {
              "color": "#C8D4E3"
             },
             "line": {
              "color": "white"
             }
            },
            "type": "table"
           }
          ]
         },
         "layout": {
          "annotationdefaults": {
           "arrowcolor": "#2a3f5f",
           "arrowhead": 0,
           "arrowwidth": 1
          },
          "autotypenumbers": "strict",
          "coloraxis": {
           "colorbar": {
            "outlinewidth": 0,
            "ticks": ""
           }
          },
          "colorscale": {
           "diverging": [
            [
             0,
             "#8e0152"
            ],
            [
             0.1,
             "#c51b7d"
            ],
            [
             0.2,
             "#de77ae"
            ],
            [
             0.3,
             "#f1b6da"
            ],
            [
             0.4,
             "#fde0ef"
            ],
            [
             0.5,
             "#f7f7f7"
            ],
            [
             0.6,
             "#e6f5d0"
            ],
            [
             0.7,
             "#b8e186"
            ],
            [
             0.8,
             "#7fbc41"
            ],
            [
             0.9,
             "#4d9221"
            ],
            [
             1,
             "#276419"
            ]
           ],
           "sequential": [
            [
             0,
             "#0d0887"
            ],
            [
             0.1111111111111111,
             "#46039f"
            ],
            [
             0.2222222222222222,
             "#7201a8"
            ],
            [
             0.3333333333333333,
             "#9c179e"
            ],
            [
             0.4444444444444444,
             "#bd3786"
            ],
            [
             0.5555555555555556,
             "#d8576b"
            ],
            [
             0.6666666666666666,
             "#ed7953"
            ],
            [
             0.7777777777777778,
             "#fb9f3a"
            ],
            [
             0.8888888888888888,
             "#fdca26"
            ],
            [
             1,
             "#f0f921"
            ]
           ],
           "sequentialminus": [
            [
             0,
             "#0d0887"
            ],
            [
             0.1111111111111111,
             "#46039f"
            ],
            [
             0.2222222222222222,
             "#7201a8"
            ],
            [
             0.3333333333333333,
             "#9c179e"
            ],
            [
             0.4444444444444444,
             "#bd3786"
            ],
            [
             0.5555555555555556,
             "#d8576b"
            ],
            [
             0.6666666666666666,
             "#ed7953"
            ],
            [
             0.7777777777777778,
             "#fb9f3a"
            ],
            [
             0.8888888888888888,
             "#fdca26"
            ],
            [
             1,
             "#f0f921"
            ]
           ]
          },
          "colorway": [
           "#636efa",
           "#EF553B",
           "#00cc96",
           "#ab63fa",
           "#FFA15A",
           "#19d3f3",
           "#FF6692",
           "#B6E880",
           "#FF97FF",
           "#FECB52"
          ],
          "font": {
           "color": "#2a3f5f"
          },
          "geo": {
           "bgcolor": "white",
           "lakecolor": "white",
           "landcolor": "#E5ECF6",
           "showlakes": true,
           "showland": true,
           "subunitcolor": "white"
          },
          "hoverlabel": {
           "align": "left"
          },
          "hovermode": "closest",
          "mapbox": {
           "style": "light"
          },
          "paper_bgcolor": "white",
          "plot_bgcolor": "#E5ECF6",
          "polar": {
           "angularaxis": {
            "gridcolor": "white",
            "linecolor": "white",
            "ticks": ""
           },
           "bgcolor": "#E5ECF6",
           "radialaxis": {
            "gridcolor": "white",
            "linecolor": "white",
            "ticks": ""
           }
          },
          "scene": {
           "xaxis": {
            "backgroundcolor": "#E5ECF6",
            "gridcolor": "white",
            "gridwidth": 2,
            "linecolor": "white",
            "showbackground": true,
            "ticks": "",
            "zerolinecolor": "white"
           },
           "yaxis": {
            "backgroundcolor": "#E5ECF6",
            "gridcolor": "white",
            "gridwidth": 2,
            "linecolor": "white",
            "showbackground": true,
            "ticks": "",
            "zerolinecolor": "white"
           },
           "zaxis": {
            "backgroundcolor": "#E5ECF6",
            "gridcolor": "white",
            "gridwidth": 2,
            "linecolor": "white",
            "showbackground": true,
            "ticks": "",
            "zerolinecolor": "white"
           }
          },
          "shapedefaults": {
           "line": {
            "color": "#2a3f5f"
           }
          },
          "ternary": {
           "aaxis": {
            "gridcolor": "white",
            "linecolor": "white",
            "ticks": ""
           },
           "baxis": {
            "gridcolor": "white",
            "linecolor": "white",
            "ticks": ""
           },
           "bgcolor": "#E5ECF6",
           "caxis": {
            "gridcolor": "white",
            "linecolor": "white",
            "ticks": ""
           }
          },
          "title": {
           "x": 0.05
          },
          "xaxis": {
           "automargin": true,
           "gridcolor": "white",
           "linecolor": "white",
           "ticks": "",
           "title": {
            "standoff": 15
           },
           "zerolinecolor": "white",
           "zerolinewidth": 2
          },
          "yaxis": {
           "automargin": true,
           "gridcolor": "white",
           "linecolor": "white",
           "ticks": "",
           "title": {
            "standoff": 15
           },
           "zerolinecolor": "white",
           "zerolinewidth": 2
          }
         }
        },
        "title": {
         "text": "Porcentaje IPS por Departamento - 2022"
        },
        "width": 800,
        "xaxis": {
         "anchor": "y",
         "domain": [
          0,
          1
         ],
         "range": [
          0,
          16
         ],
         "title": {
          "text": "Porcentaje IPS (%)"
         }
        },
        "yaxis": {
         "anchor": "x",
         "domain": [
          0,
          1
         ],
         "title": {
          "text": "Departamento"
         }
        }
       }
      }
     },
     "metadata": {},
     "output_type": "display_data"
    }
   ],
   "source": [
    "fig = px.bar(data_frame=df_num_reps,\n",
    "             x='porcentaje',\n",
    "             y='Departamento', \n",
    "             orientation='h')\n",
    "\n",
    "fig.update_xaxes(title_text='Porcentaje IPS (%)')\n",
    "fig.update_xaxes(range=[0, 16])\n",
    "fig.update_yaxes(title_text='Departamento')\n",
    "fig.update_layout(title='Porcentaje IPS por Departamento - 2022')\n",
    "\n",
    "color_sequence = ['#3364C7' for i in departamentos]\n",
    "fig.update_traces(marker=dict(color=color_sequence))\n",
    "\n",
    "fig.update_traces(text=df_num_reps['porcentaje'], textposition='outside')\n",
    "\n",
    "fig.update_layout(width=800, height=700)\n",
    "\n",
    "fig.show()"
   ]
  },
  {
   "cell_type": "markdown",
   "metadata": {},
   "source": [
    "# IPS por Departamento - 2013"
   ]
  },
  {
   "cell_type": "code",
   "execution_count": 246,
   "metadata": {},
   "outputs": [],
   "source": [
    "df_radiografia = pd.read_csv(\"../../Data/Datos_Radiografia_Servicios_Salud.csv\")"
   ]
  },
  {
   "cell_type": "code",
   "execution_count": 247,
   "metadata": {},
   "outputs": [],
   "source": [
    "df_radiografia = df_radiografia.sort_values('Numero_IPS')\n",
    "df_radiografia['porcentaje'] = (df_radiografia['Numero_IPS'] / (df_radiografia['Numero_IPS'].sum()) * 100).round(2)"
   ]
  },
  {
   "cell_type": "code",
   "execution_count": 248,
   "metadata": {},
   "outputs": [
    {
     "data": {
      "text/html": [
       "<div>\n",
       "<style scoped>\n",
       "    .dataframe tbody tr th:only-of-type {\n",
       "        vertical-align: middle;\n",
       "    }\n",
       "\n",
       "    .dataframe tbody tr th {\n",
       "        vertical-align: top;\n",
       "    }\n",
       "\n",
       "    .dataframe thead th {\n",
       "        text-align: right;\n",
       "    }\n",
       "</style>\n",
       "<table border=\"1\" class=\"dataframe\">\n",
       "  <thead>\n",
       "    <tr style=\"text-align: right;\">\n",
       "      <th></th>\n",
       "      <th>Departamento</th>\n",
       "      <th>Numero_IPS</th>\n",
       "      <th>IPS/Habitantes</th>\n",
       "      <th>porcentaje</th>\n",
       "    </tr>\n",
       "  </thead>\n",
       "  <tbody>\n",
       "    <tr>\n",
       "      <th>32</th>\n",
       "      <td>Vaupés</td>\n",
       "      <td>4</td>\n",
       "      <td>9</td>\n",
       "      <td>0.02</td>\n",
       "    </tr>\n",
       "    <tr>\n",
       "      <th>31</th>\n",
       "      <td>Guainía</td>\n",
       "      <td>8</td>\n",
       "      <td>20</td>\n",
       "      <td>0.04</td>\n",
       "    </tr>\n",
       "    <tr>\n",
       "      <th>30</th>\n",
       "      <td>San Andrés y Providencia</td>\n",
       "      <td>17</td>\n",
       "      <td>23</td>\n",
       "      <td>0.09</td>\n",
       "    </tr>\n",
       "    <tr>\n",
       "      <th>29</th>\n",
       "      <td>Amazonas</td>\n",
       "      <td>25</td>\n",
       "      <td>34</td>\n",
       "      <td>0.13</td>\n",
       "    </tr>\n",
       "    <tr>\n",
       "      <th>28</th>\n",
       "      <td>Guaviare</td>\n",
       "      <td>27</td>\n",
       "      <td>25</td>\n",
       "      <td>0.14</td>\n",
       "    </tr>\n",
       "    <tr>\n",
       "      <th>27</th>\n",
       "      <td>Vichada</td>\n",
       "      <td>33</td>\n",
       "      <td>48</td>\n",
       "      <td>0.17</td>\n",
       "    </tr>\n",
       "    <tr>\n",
       "      <th>26</th>\n",
       "      <td>Caquetá</td>\n",
       "      <td>108</td>\n",
       "      <td>23</td>\n",
       "      <td>0.57</td>\n",
       "    </tr>\n",
       "    <tr>\n",
       "      <th>25</th>\n",
       "      <td>Arauca</td>\n",
       "      <td>133</td>\n",
       "      <td>52</td>\n",
       "      <td>0.70</td>\n",
       "    </tr>\n",
       "    <tr>\n",
       "      <th>24</th>\n",
       "      <td>Putumayo</td>\n",
       "      <td>191</td>\n",
       "      <td>57</td>\n",
       "      <td>1.01</td>\n",
       "    </tr>\n",
       "    <tr>\n",
       "      <th>23</th>\n",
       "      <td>Casanare</td>\n",
       "      <td>210</td>\n",
       "      <td>61</td>\n",
       "      <td>1.11</td>\n",
       "    </tr>\n",
       "    <tr>\n",
       "      <th>22</th>\n",
       "      <td>Chocó</td>\n",
       "      <td>231</td>\n",
       "      <td>47</td>\n",
       "      <td>1.22</td>\n",
       "    </tr>\n",
       "    <tr>\n",
       "      <th>21</th>\n",
       "      <td>Quindío</td>\n",
       "      <td>253</td>\n",
       "      <td>45</td>\n",
       "      <td>1.33</td>\n",
       "    </tr>\n",
       "    <tr>\n",
       "      <th>20</th>\n",
       "      <td>La Guajira</td>\n",
       "      <td>316</td>\n",
       "      <td>35</td>\n",
       "      <td>1.67</td>\n",
       "    </tr>\n",
       "    <tr>\n",
       "      <th>19</th>\n",
       "      <td>Risaralda</td>\n",
       "      <td>347</td>\n",
       "      <td>37</td>\n",
       "      <td>1.83</td>\n",
       "    </tr>\n",
       "    <tr>\n",
       "      <th>18</th>\n",
       "      <td>Huila</td>\n",
       "      <td>369</td>\n",
       "      <td>33</td>\n",
       "      <td>1.95</td>\n",
       "    </tr>\n",
       "    <tr>\n",
       "      <th>17</th>\n",
       "      <td>Meta</td>\n",
       "      <td>408</td>\n",
       "      <td>44</td>\n",
       "      <td>2.15</td>\n",
       "    </tr>\n",
       "    <tr>\n",
       "      <th>16</th>\n",
       "      <td>Caldas</td>\n",
       "      <td>419</td>\n",
       "      <td>43</td>\n",
       "      <td>2.21</td>\n",
       "    </tr>\n",
       "    <tr>\n",
       "      <th>15</th>\n",
       "      <td>Cauca</td>\n",
       "      <td>430</td>\n",
       "      <td>32</td>\n",
       "      <td>2.27</td>\n",
       "    </tr>\n",
       "    <tr>\n",
       "      <th>14</th>\n",
       "      <td>Tolima</td>\n",
       "      <td>470</td>\n",
       "      <td>34</td>\n",
       "      <td>2.48</td>\n",
       "    </tr>\n",
       "    <tr>\n",
       "      <th>13</th>\n",
       "      <td>Sucre</td>\n",
       "      <td>501</td>\n",
       "      <td>60</td>\n",
       "      <td>2.64</td>\n",
       "    </tr>\n",
       "    <tr>\n",
       "      <th>12</th>\n",
       "      <td>Boyacá</td>\n",
       "      <td>508</td>\n",
       "      <td>40</td>\n",
       "      <td>2.68</td>\n",
       "    </tr>\n",
       "    <tr>\n",
       "      <th>11</th>\n",
       "      <td>Norte de Santander</td>\n",
       "      <td>517</td>\n",
       "      <td>39</td>\n",
       "      <td>2.73</td>\n",
       "    </tr>\n",
       "    <tr>\n",
       "      <th>10</th>\n",
       "      <td>Cesar</td>\n",
       "      <td>528</td>\n",
       "      <td>53</td>\n",
       "      <td>2.78</td>\n",
       "    </tr>\n",
       "    <tr>\n",
       "      <th>9</th>\n",
       "      <td>Córdoba</td>\n",
       "      <td>550</td>\n",
       "      <td>33</td>\n",
       "      <td>2.90</td>\n",
       "    </tr>\n",
       "    <tr>\n",
       "      <th>8</th>\n",
       "      <td>Magdalena</td>\n",
       "      <td>600</td>\n",
       "      <td>49</td>\n",
       "      <td>3.16</td>\n",
       "    </tr>\n",
       "    <tr>\n",
       "      <th>7</th>\n",
       "      <td>Nariño</td>\n",
       "      <td>622</td>\n",
       "      <td>37</td>\n",
       "      <td>3.28</td>\n",
       "    </tr>\n",
       "    <tr>\n",
       "      <th>6</th>\n",
       "      <td>Cundinamarca</td>\n",
       "      <td>725</td>\n",
       "      <td>28</td>\n",
       "      <td>3.82</td>\n",
       "    </tr>\n",
       "    <tr>\n",
       "      <th>5</th>\n",
       "      <td>Bolívar</td>\n",
       "      <td>861</td>\n",
       "      <td>42</td>\n",
       "      <td>4.54</td>\n",
       "    </tr>\n",
       "    <tr>\n",
       "      <th>4</th>\n",
       "      <td>Atlántico</td>\n",
       "      <td>1028</td>\n",
       "      <td>43</td>\n",
       "      <td>5.42</td>\n",
       "    </tr>\n",
       "    <tr>\n",
       "      <th>3</th>\n",
       "      <td>Santander</td>\n",
       "      <td>1155</td>\n",
       "      <td>57</td>\n",
       "      <td>6.09</td>\n",
       "    </tr>\n",
       "    <tr>\n",
       "      <th>2</th>\n",
       "      <td>Antioquia</td>\n",
       "      <td>1945</td>\n",
       "      <td>31</td>\n",
       "      <td>10.26</td>\n",
       "    </tr>\n",
       "    <tr>\n",
       "      <th>1</th>\n",
       "      <td>Valle del cauca</td>\n",
       "      <td>2136</td>\n",
       "      <td>47</td>\n",
       "      <td>11.27</td>\n",
       "    </tr>\n",
       "    <tr>\n",
       "      <th>0</th>\n",
       "      <td>Bogotá D.C</td>\n",
       "      <td>3284</td>\n",
       "      <td>43</td>\n",
       "      <td>17.32</td>\n",
       "    </tr>\n",
       "  </tbody>\n",
       "</table>\n",
       "</div>"
      ],
      "text/plain": [
       "                Departamento  Numero_IPS  IPS/Habitantes  porcentaje\n",
       "32                    Vaupés           4               9        0.02\n",
       "31                   Guainía           8              20        0.04\n",
       "30  San Andrés y Providencia          17              23        0.09\n",
       "29                  Amazonas          25              34        0.13\n",
       "28                  Guaviare          27              25        0.14\n",
       "27                   Vichada          33              48        0.17\n",
       "26                   Caquetá         108              23        0.57\n",
       "25                    Arauca         133              52        0.70\n",
       "24                  Putumayo         191              57        1.01\n",
       "23                  Casanare         210              61        1.11\n",
       "22                     Chocó         231              47        1.22\n",
       "21                   Quindío         253              45        1.33\n",
       "20                La Guajira         316              35        1.67\n",
       "19                 Risaralda         347              37        1.83\n",
       "18                     Huila         369              33        1.95\n",
       "17                      Meta         408              44        2.15\n",
       "16                    Caldas         419              43        2.21\n",
       "15                     Cauca         430              32        2.27\n",
       "14                    Tolima         470              34        2.48\n",
       "13                     Sucre         501              60        2.64\n",
       "12                    Boyacá         508              40        2.68\n",
       "11        Norte de Santander         517              39        2.73\n",
       "10                     Cesar         528              53        2.78\n",
       "9                    Córdoba         550              33        2.90\n",
       "8                  Magdalena         600              49        3.16\n",
       "7                     Nariño         622              37        3.28\n",
       "6               Cundinamarca         725              28        3.82\n",
       "5                    Bolívar         861              42        4.54\n",
       "4                  Atlántico        1028              43        5.42\n",
       "3                  Santander        1155              57        6.09\n",
       "2                  Antioquia        1945              31       10.26\n",
       "1            Valle del cauca        2136              47       11.27\n",
       "0                 Bogotá D.C        3284              43       17.32"
      ]
     },
     "execution_count": 248,
     "metadata": {},
     "output_type": "execute_result"
    }
   ],
   "source": [
    "df_radiografia"
   ]
  },
  {
   "cell_type": "code",
   "execution_count": 249,
   "metadata": {},
   "outputs": [
    {
     "data": {
      "application/vnd.plotly.v1+json": {
       "config": {
        "plotlyServerURL": "https://plot.ly"
       },
       "data": [
        {
         "alignmentgroup": "True",
         "hovertemplate": "Numero_IPS=%{x}<br>Departamento=%{y}<extra></extra>",
         "legendgroup": "",
         "marker": {
          "color": [
           "#3364C7",
           "#3364C7",
           "#3364C7",
           "#3364C7",
           "#3364C7",
           "#3364C7",
           "#3364C7",
           "#3364C7",
           "#3364C7",
           "#3364C7",
           "#3364C7",
           "#3364C7",
           "#3364C7",
           "#3364C7",
           "#3364C7",
           "#3364C7",
           "#3364C7",
           "#3364C7",
           "#3364C7",
           "#3364C7",
           "#3364C7",
           "#3364C7",
           "#3364C7",
           "#3364C7",
           "#3364C7",
           "#3364C7",
           "#3364C7",
           "#3364C7",
           "#3364C7",
           "#3364C7",
           "#3364C7",
           "#3364C7",
           "#3364C7"
          ],
          "pattern": {
           "shape": ""
          }
         },
         "name": "",
         "offsetgroup": "",
         "orientation": "h",
         "showlegend": false,
         "text": [
          4,
          8,
          17,
          25,
          27,
          33,
          108,
          133,
          191,
          210,
          231,
          253,
          316,
          347,
          369,
          408,
          419,
          430,
          470,
          501,
          508,
          517,
          528,
          550,
          600,
          622,
          725,
          861,
          1028,
          1155,
          1945,
          2136,
          3284
         ],
         "textposition": "outside",
         "type": "bar",
         "x": [
          4,
          8,
          17,
          25,
          27,
          33,
          108,
          133,
          191,
          210,
          231,
          253,
          316,
          347,
          369,
          408,
          419,
          430,
          470,
          501,
          508,
          517,
          528,
          550,
          600,
          622,
          725,
          861,
          1028,
          1155,
          1945,
          2136,
          3284
         ],
         "xaxis": "x",
         "y": [
          "Vaupés",
          "Guainía",
          "San Andrés y Providencia",
          "Amazonas",
          "Guaviare",
          "Vichada",
          "Caquetá",
          "Arauca",
          "Putumayo",
          "Casanare",
          "Chocó",
          "Quindío",
          "La Guajira",
          "Risaralda",
          "Huila",
          "Meta",
          "Caldas",
          "Cauca",
          "Tolima",
          "Sucre",
          "Boyacá",
          "Norte de Santander",
          "Cesar",
          "Córdoba",
          "Magdalena",
          "Nariño",
          "Cundinamarca",
          "Bolívar",
          "Atlántico",
          "Santander",
          "Antioquia",
          "Valle del cauca",
          "Bogotá D.C"
         ],
         "yaxis": "y"
        }
       ],
       "layout": {
        "barmode": "relative",
        "height": 700,
        "legend": {
         "tracegroupgap": 0
        },
        "margin": {
         "t": 60
        },
        "template": {
         "data": {
          "bar": [
           {
            "error_x": {
             "color": "#2a3f5f"
            },
            "error_y": {
             "color": "#2a3f5f"
            },
            "marker": {
             "line": {
              "color": "#E5ECF6",
              "width": 0.5
             },
             "pattern": {
              "fillmode": "overlay",
              "size": 10,
              "solidity": 0.2
             }
            },
            "type": "bar"
           }
          ],
          "barpolar": [
           {
            "marker": {
             "line": {
              "color": "#E5ECF6",
              "width": 0.5
             },
             "pattern": {
              "fillmode": "overlay",
              "size": 10,
              "solidity": 0.2
             }
            },
            "type": "barpolar"
           }
          ],
          "carpet": [
           {
            "aaxis": {
             "endlinecolor": "#2a3f5f",
             "gridcolor": "white",
             "linecolor": "white",
             "minorgridcolor": "white",
             "startlinecolor": "#2a3f5f"
            },
            "baxis": {
             "endlinecolor": "#2a3f5f",
             "gridcolor": "white",
             "linecolor": "white",
             "minorgridcolor": "white",
             "startlinecolor": "#2a3f5f"
            },
            "type": "carpet"
           }
          ],
          "choropleth": [
           {
            "colorbar": {
             "outlinewidth": 0,
             "ticks": ""
            },
            "type": "choropleth"
           }
          ],
          "contour": [
           {
            "colorbar": {
             "outlinewidth": 0,
             "ticks": ""
            },
            "colorscale": [
             [
              0,
              "#0d0887"
             ],
             [
              0.1111111111111111,
              "#46039f"
             ],
             [
              0.2222222222222222,
              "#7201a8"
             ],
             [
              0.3333333333333333,
              "#9c179e"
             ],
             [
              0.4444444444444444,
              "#bd3786"
             ],
             [
              0.5555555555555556,
              "#d8576b"
             ],
             [
              0.6666666666666666,
              "#ed7953"
             ],
             [
              0.7777777777777778,
              "#fb9f3a"
             ],
             [
              0.8888888888888888,
              "#fdca26"
             ],
             [
              1,
              "#f0f921"
             ]
            ],
            "type": "contour"
           }
          ],
          "contourcarpet": [
           {
            "colorbar": {
             "outlinewidth": 0,
             "ticks": ""
            },
            "type": "contourcarpet"
           }
          ],
          "heatmap": [
           {
            "colorbar": {
             "outlinewidth": 0,
             "ticks": ""
            },
            "colorscale": [
             [
              0,
              "#0d0887"
             ],
             [
              0.1111111111111111,
              "#46039f"
             ],
             [
              0.2222222222222222,
              "#7201a8"
             ],
             [
              0.3333333333333333,
              "#9c179e"
             ],
             [
              0.4444444444444444,
              "#bd3786"
             ],
             [
              0.5555555555555556,
              "#d8576b"
             ],
             [
              0.6666666666666666,
              "#ed7953"
             ],
             [
              0.7777777777777778,
              "#fb9f3a"
             ],
             [
              0.8888888888888888,
              "#fdca26"
             ],
             [
              1,
              "#f0f921"
             ]
            ],
            "type": "heatmap"
           }
          ],
          "heatmapgl": [
           {
            "colorbar": {
             "outlinewidth": 0,
             "ticks": ""
            },
            "colorscale": [
             [
              0,
              "#0d0887"
             ],
             [
              0.1111111111111111,
              "#46039f"
             ],
             [
              0.2222222222222222,
              "#7201a8"
             ],
             [
              0.3333333333333333,
              "#9c179e"
             ],
             [
              0.4444444444444444,
              "#bd3786"
             ],
             [
              0.5555555555555556,
              "#d8576b"
             ],
             [
              0.6666666666666666,
              "#ed7953"
             ],
             [
              0.7777777777777778,
              "#fb9f3a"
             ],
             [
              0.8888888888888888,
              "#fdca26"
             ],
             [
              1,
              "#f0f921"
             ]
            ],
            "type": "heatmapgl"
           }
          ],
          "histogram": [
           {
            "marker": {
             "pattern": {
              "fillmode": "overlay",
              "size": 10,
              "solidity": 0.2
             }
            },
            "type": "histogram"
           }
          ],
          "histogram2d": [
           {
            "colorbar": {
             "outlinewidth": 0,
             "ticks": ""
            },
            "colorscale": [
             [
              0,
              "#0d0887"
             ],
             [
              0.1111111111111111,
              "#46039f"
             ],
             [
              0.2222222222222222,
              "#7201a8"
             ],
             [
              0.3333333333333333,
              "#9c179e"
             ],
             [
              0.4444444444444444,
              "#bd3786"
             ],
             [
              0.5555555555555556,
              "#d8576b"
             ],
             [
              0.6666666666666666,
              "#ed7953"
             ],
             [
              0.7777777777777778,
              "#fb9f3a"
             ],
             [
              0.8888888888888888,
              "#fdca26"
             ],
             [
              1,
              "#f0f921"
             ]
            ],
            "type": "histogram2d"
           }
          ],
          "histogram2dcontour": [
           {
            "colorbar": {
             "outlinewidth": 0,
             "ticks": ""
            },
            "colorscale": [
             [
              0,
              "#0d0887"
             ],
             [
              0.1111111111111111,
              "#46039f"
             ],
             [
              0.2222222222222222,
              "#7201a8"
             ],
             [
              0.3333333333333333,
              "#9c179e"
             ],
             [
              0.4444444444444444,
              "#bd3786"
             ],
             [
              0.5555555555555556,
              "#d8576b"
             ],
             [
              0.6666666666666666,
              "#ed7953"
             ],
             [
              0.7777777777777778,
              "#fb9f3a"
             ],
             [
              0.8888888888888888,
              "#fdca26"
             ],
             [
              1,
              "#f0f921"
             ]
            ],
            "type": "histogram2dcontour"
           }
          ],
          "mesh3d": [
           {
            "colorbar": {
             "outlinewidth": 0,
             "ticks": ""
            },
            "type": "mesh3d"
           }
          ],
          "parcoords": [
           {
            "line": {
             "colorbar": {
              "outlinewidth": 0,
              "ticks": ""
             }
            },
            "type": "parcoords"
           }
          ],
          "pie": [
           {
            "automargin": true,
            "type": "pie"
           }
          ],
          "scatter": [
           {
            "fillpattern": {
             "fillmode": "overlay",
             "size": 10,
             "solidity": 0.2
            },
            "type": "scatter"
           }
          ],
          "scatter3d": [
           {
            "line": {
             "colorbar": {
              "outlinewidth": 0,
              "ticks": ""
             }
            },
            "marker": {
             "colorbar": {
              "outlinewidth": 0,
              "ticks": ""
             }
            },
            "type": "scatter3d"
           }
          ],
          "scattercarpet": [
           {
            "marker": {
             "colorbar": {
              "outlinewidth": 0,
              "ticks": ""
             }
            },
            "type": "scattercarpet"
           }
          ],
          "scattergeo": [
           {
            "marker": {
             "colorbar": {
              "outlinewidth": 0,
              "ticks": ""
             }
            },
            "type": "scattergeo"
           }
          ],
          "scattergl": [
           {
            "marker": {
             "colorbar": {
              "outlinewidth": 0,
              "ticks": ""
             }
            },
            "type": "scattergl"
           }
          ],
          "scattermapbox": [
           {
            "marker": {
             "colorbar": {
              "outlinewidth": 0,
              "ticks": ""
             }
            },
            "type": "scattermapbox"
           }
          ],
          "scatterpolar": [
           {
            "marker": {
             "colorbar": {
              "outlinewidth": 0,
              "ticks": ""
             }
            },
            "type": "scatterpolar"
           }
          ],
          "scatterpolargl": [
           {
            "marker": {
             "colorbar": {
              "outlinewidth": 0,
              "ticks": ""
             }
            },
            "type": "scatterpolargl"
           }
          ],
          "scatterternary": [
           {
            "marker": {
             "colorbar": {
              "outlinewidth": 0,
              "ticks": ""
             }
            },
            "type": "scatterternary"
           }
          ],
          "surface": [
           {
            "colorbar": {
             "outlinewidth": 0,
             "ticks": ""
            },
            "colorscale": [
             [
              0,
              "#0d0887"
             ],
             [
              0.1111111111111111,
              "#46039f"
             ],
             [
              0.2222222222222222,
              "#7201a8"
             ],
             [
              0.3333333333333333,
              "#9c179e"
             ],
             [
              0.4444444444444444,
              "#bd3786"
             ],
             [
              0.5555555555555556,
              "#d8576b"
             ],
             [
              0.6666666666666666,
              "#ed7953"
             ],
             [
              0.7777777777777778,
              "#fb9f3a"
             ],
             [
              0.8888888888888888,
              "#fdca26"
             ],
             [
              1,
              "#f0f921"
             ]
            ],
            "type": "surface"
           }
          ],
          "table": [
           {
            "cells": {
             "fill": {
              "color": "#EBF0F8"
             },
             "line": {
              "color": "white"
             }
            },
            "header": {
             "fill": {
              "color": "#C8D4E3"
             },
             "line": {
              "color": "white"
             }
            },
            "type": "table"
           }
          ]
         },
         "layout": {
          "annotationdefaults": {
           "arrowcolor": "#2a3f5f",
           "arrowhead": 0,
           "arrowwidth": 1
          },
          "autotypenumbers": "strict",
          "coloraxis": {
           "colorbar": {
            "outlinewidth": 0,
            "ticks": ""
           }
          },
          "colorscale": {
           "diverging": [
            [
             0,
             "#8e0152"
            ],
            [
             0.1,
             "#c51b7d"
            ],
            [
             0.2,
             "#de77ae"
            ],
            [
             0.3,
             "#f1b6da"
            ],
            [
             0.4,
             "#fde0ef"
            ],
            [
             0.5,
             "#f7f7f7"
            ],
            [
             0.6,
             "#e6f5d0"
            ],
            [
             0.7,
             "#b8e186"
            ],
            [
             0.8,
             "#7fbc41"
            ],
            [
             0.9,
             "#4d9221"
            ],
            [
             1,
             "#276419"
            ]
           ],
           "sequential": [
            [
             0,
             "#0d0887"
            ],
            [
             0.1111111111111111,
             "#46039f"
            ],
            [
             0.2222222222222222,
             "#7201a8"
            ],
            [
             0.3333333333333333,
             "#9c179e"
            ],
            [
             0.4444444444444444,
             "#bd3786"
            ],
            [
             0.5555555555555556,
             "#d8576b"
            ],
            [
             0.6666666666666666,
             "#ed7953"
            ],
            [
             0.7777777777777778,
             "#fb9f3a"
            ],
            [
             0.8888888888888888,
             "#fdca26"
            ],
            [
             1,
             "#f0f921"
            ]
           ],
           "sequentialminus": [
            [
             0,
             "#0d0887"
            ],
            [
             0.1111111111111111,
             "#46039f"
            ],
            [
             0.2222222222222222,
             "#7201a8"
            ],
            [
             0.3333333333333333,
             "#9c179e"
            ],
            [
             0.4444444444444444,
             "#bd3786"
            ],
            [
             0.5555555555555556,
             "#d8576b"
            ],
            [
             0.6666666666666666,
             "#ed7953"
            ],
            [
             0.7777777777777778,
             "#fb9f3a"
            ],
            [
             0.8888888888888888,
             "#fdca26"
            ],
            [
             1,
             "#f0f921"
            ]
           ]
          },
          "colorway": [
           "#636efa",
           "#EF553B",
           "#00cc96",
           "#ab63fa",
           "#FFA15A",
           "#19d3f3",
           "#FF6692",
           "#B6E880",
           "#FF97FF",
           "#FECB52"
          ],
          "font": {
           "color": "#2a3f5f"
          },
          "geo": {
           "bgcolor": "white",
           "lakecolor": "white",
           "landcolor": "#E5ECF6",
           "showlakes": true,
           "showland": true,
           "subunitcolor": "white"
          },
          "hoverlabel": {
           "align": "left"
          },
          "hovermode": "closest",
          "mapbox": {
           "style": "light"
          },
          "paper_bgcolor": "white",
          "plot_bgcolor": "#E5ECF6",
          "polar": {
           "angularaxis": {
            "gridcolor": "white",
            "linecolor": "white",
            "ticks": ""
           },
           "bgcolor": "#E5ECF6",
           "radialaxis": {
            "gridcolor": "white",
            "linecolor": "white",
            "ticks": ""
           }
          },
          "scene": {
           "xaxis": {
            "backgroundcolor": "#E5ECF6",
            "gridcolor": "white",
            "gridwidth": 2,
            "linecolor": "white",
            "showbackground": true,
            "ticks": "",
            "zerolinecolor": "white"
           },
           "yaxis": {
            "backgroundcolor": "#E5ECF6",
            "gridcolor": "white",
            "gridwidth": 2,
            "linecolor": "white",
            "showbackground": true,
            "ticks": "",
            "zerolinecolor": "white"
           },
           "zaxis": {
            "backgroundcolor": "#E5ECF6",
            "gridcolor": "white",
            "gridwidth": 2,
            "linecolor": "white",
            "showbackground": true,
            "ticks": "",
            "zerolinecolor": "white"
           }
          },
          "shapedefaults": {
           "line": {
            "color": "#2a3f5f"
           }
          },
          "ternary": {
           "aaxis": {
            "gridcolor": "white",
            "linecolor": "white",
            "ticks": ""
           },
           "baxis": {
            "gridcolor": "white",
            "linecolor": "white",
            "ticks": ""
           },
           "bgcolor": "#E5ECF6",
           "caxis": {
            "gridcolor": "white",
            "linecolor": "white",
            "ticks": ""
           }
          },
          "title": {
           "x": 0.05
          },
          "xaxis": {
           "automargin": true,
           "gridcolor": "white",
           "linecolor": "white",
           "ticks": "",
           "title": {
            "standoff": 15
           },
           "zerolinecolor": "white",
           "zerolinewidth": 2
          },
          "yaxis": {
           "automargin": true,
           "gridcolor": "white",
           "linecolor": "white",
           "ticks": "",
           "title": {
            "standoff": 15
           },
           "zerolinecolor": "white",
           "zerolinewidth": 2
          }
         }
        },
        "title": {
         "text": "Número de IPS por Departamento - 2013"
        },
        "width": 800,
        "xaxis": {
         "anchor": "y",
         "domain": [
          0,
          1
         ],
         "range": [
          0,
          3500
         ],
         "title": {
          "text": "Número de IPS"
         }
        },
        "yaxis": {
         "anchor": "x",
         "domain": [
          0,
          1
         ],
         "title": {
          "text": "Departamento"
         }
        }
       }
      }
     },
     "metadata": {},
     "output_type": "display_data"
    }
   ],
   "source": [
    "fig = px.bar(data_frame=df_radiografia, x='Numero_IPS', y='Departamento', orientation='h')\n",
    "\n",
    "fig.update_xaxes(title_text='Número de IPS')\n",
    "fig.update_xaxes(range=[0,3500])\n",
    "fig.update_yaxes(title_text='Departamento')\n",
    "fig.update_layout(title='Número de IPS por Departamento - 2013')\n",
    "\n",
    "color_sequence = ['#3364C7' for i in departamentos]\n",
    "fig.update_traces(marker=dict(color=color_sequence))\n",
    "\n",
    "fig.update_traces(text=df_radiografia['Numero_IPS'], textposition='outside')\n",
    "\n",
    "# fig.update_layout(plot_bgcolor='rgba(0,0,0,0)')\n",
    "\n",
    "fig.update_layout(width=800, height=700)\n",
    "\n",
    "fig.show()"
   ]
  },
  {
   "cell_type": "code",
   "execution_count": 250,
   "metadata": {},
   "outputs": [
    {
     "data": {
      "application/vnd.plotly.v1+json": {
       "config": {
        "plotlyServerURL": "https://plot.ly"
       },
       "data": [
        {
         "alignmentgroup": "True",
         "hovertemplate": "porcentaje=%{x}<br>Departamento=%{y}<extra></extra>",
         "legendgroup": "",
         "marker": {
          "color": [
           "#3364C7",
           "#3364C7",
           "#3364C7",
           "#3364C7",
           "#3364C7",
           "#3364C7",
           "#3364C7",
           "#3364C7",
           "#3364C7",
           "#3364C7",
           "#3364C7",
           "#3364C7",
           "#3364C7",
           "#3364C7",
           "#3364C7",
           "#3364C7",
           "#3364C7",
           "#3364C7",
           "#3364C7",
           "#3364C7",
           "#3364C7",
           "#3364C7",
           "#3364C7",
           "#3364C7",
           "#3364C7",
           "#3364C7",
           "#3364C7",
           "#3364C7",
           "#3364C7",
           "#3364C7",
           "#3364C7",
           "#3364C7",
           "#3364C7"
          ],
          "pattern": {
           "shape": ""
          }
         },
         "name": "",
         "offsetgroup": "",
         "orientation": "h",
         "showlegend": false,
         "text": [
          0.02,
          0.04,
          0.09,
          0.13,
          0.14,
          0.17,
          0.57,
          0.7,
          1.01,
          1.11,
          1.22,
          1.33,
          1.67,
          1.83,
          1.95,
          2.15,
          2.21,
          2.27,
          2.48,
          2.64,
          2.68,
          2.73,
          2.78,
          2.9,
          3.16,
          3.28,
          3.82,
          4.54,
          5.42,
          6.09,
          10.26,
          11.27,
          17.32
         ],
         "textposition": "outside",
         "type": "bar",
         "x": [
          0.02,
          0.04,
          0.09,
          0.13,
          0.14,
          0.17,
          0.57,
          0.7,
          1.01,
          1.11,
          1.22,
          1.33,
          1.67,
          1.83,
          1.95,
          2.15,
          2.21,
          2.27,
          2.48,
          2.64,
          2.68,
          2.73,
          2.78,
          2.9,
          3.16,
          3.28,
          3.82,
          4.54,
          5.42,
          6.09,
          10.26,
          11.27,
          17.32
         ],
         "xaxis": "x",
         "y": [
          "Vaupés",
          "Guainía",
          "San Andrés y Providencia",
          "Amazonas",
          "Guaviare",
          "Vichada",
          "Caquetá",
          "Arauca",
          "Putumayo",
          "Casanare",
          "Chocó",
          "Quindío",
          "La Guajira",
          "Risaralda",
          "Huila",
          "Meta",
          "Caldas",
          "Cauca",
          "Tolima",
          "Sucre",
          "Boyacá",
          "Norte de Santander",
          "Cesar",
          "Córdoba",
          "Magdalena",
          "Nariño",
          "Cundinamarca",
          "Bolívar",
          "Atlántico",
          "Santander",
          "Antioquia",
          "Valle del cauca",
          "Bogotá D.C"
         ],
         "yaxis": "y"
        }
       ],
       "layout": {
        "barmode": "relative",
        "height": 700,
        "legend": {
         "tracegroupgap": 0
        },
        "margin": {
         "t": 60
        },
        "template": {
         "data": {
          "bar": [
           {
            "error_x": {
             "color": "#2a3f5f"
            },
            "error_y": {
             "color": "#2a3f5f"
            },
            "marker": {
             "line": {
              "color": "#E5ECF6",
              "width": 0.5
             },
             "pattern": {
              "fillmode": "overlay",
              "size": 10,
              "solidity": 0.2
             }
            },
            "type": "bar"
           }
          ],
          "barpolar": [
           {
            "marker": {
             "line": {
              "color": "#E5ECF6",
              "width": 0.5
             },
             "pattern": {
              "fillmode": "overlay",
              "size": 10,
              "solidity": 0.2
             }
            },
            "type": "barpolar"
           }
          ],
          "carpet": [
           {
            "aaxis": {
             "endlinecolor": "#2a3f5f",
             "gridcolor": "white",
             "linecolor": "white",
             "minorgridcolor": "white",
             "startlinecolor": "#2a3f5f"
            },
            "baxis": {
             "endlinecolor": "#2a3f5f",
             "gridcolor": "white",
             "linecolor": "white",
             "minorgridcolor": "white",
             "startlinecolor": "#2a3f5f"
            },
            "type": "carpet"
           }
          ],
          "choropleth": [
           {
            "colorbar": {
             "outlinewidth": 0,
             "ticks": ""
            },
            "type": "choropleth"
           }
          ],
          "contour": [
           {
            "colorbar": {
             "outlinewidth": 0,
             "ticks": ""
            },
            "colorscale": [
             [
              0,
              "#0d0887"
             ],
             [
              0.1111111111111111,
              "#46039f"
             ],
             [
              0.2222222222222222,
              "#7201a8"
             ],
             [
              0.3333333333333333,
              "#9c179e"
             ],
             [
              0.4444444444444444,
              "#bd3786"
             ],
             [
              0.5555555555555556,
              "#d8576b"
             ],
             [
              0.6666666666666666,
              "#ed7953"
             ],
             [
              0.7777777777777778,
              "#fb9f3a"
             ],
             [
              0.8888888888888888,
              "#fdca26"
             ],
             [
              1,
              "#f0f921"
             ]
            ],
            "type": "contour"
           }
          ],
          "contourcarpet": [
           {
            "colorbar": {
             "outlinewidth": 0,
             "ticks": ""
            },
            "type": "contourcarpet"
           }
          ],
          "heatmap": [
           {
            "colorbar": {
             "outlinewidth": 0,
             "ticks": ""
            },
            "colorscale": [
             [
              0,
              "#0d0887"
             ],
             [
              0.1111111111111111,
              "#46039f"
             ],
             [
              0.2222222222222222,
              "#7201a8"
             ],
             [
              0.3333333333333333,
              "#9c179e"
             ],
             [
              0.4444444444444444,
              "#bd3786"
             ],
             [
              0.5555555555555556,
              "#d8576b"
             ],
             [
              0.6666666666666666,
              "#ed7953"
             ],
             [
              0.7777777777777778,
              "#fb9f3a"
             ],
             [
              0.8888888888888888,
              "#fdca26"
             ],
             [
              1,
              "#f0f921"
             ]
            ],
            "type": "heatmap"
           }
          ],
          "heatmapgl": [
           {
            "colorbar": {
             "outlinewidth": 0,
             "ticks": ""
            },
            "colorscale": [
             [
              0,
              "#0d0887"
             ],
             [
              0.1111111111111111,
              "#46039f"
             ],
             [
              0.2222222222222222,
              "#7201a8"
             ],
             [
              0.3333333333333333,
              "#9c179e"
             ],
             [
              0.4444444444444444,
              "#bd3786"
             ],
             [
              0.5555555555555556,
              "#d8576b"
             ],
             [
              0.6666666666666666,
              "#ed7953"
             ],
             [
              0.7777777777777778,
              "#fb9f3a"
             ],
             [
              0.8888888888888888,
              "#fdca26"
             ],
             [
              1,
              "#f0f921"
             ]
            ],
            "type": "heatmapgl"
           }
          ],
          "histogram": [
           {
            "marker": {
             "pattern": {
              "fillmode": "overlay",
              "size": 10,
              "solidity": 0.2
             }
            },
            "type": "histogram"
           }
          ],
          "histogram2d": [
           {
            "colorbar": {
             "outlinewidth": 0,
             "ticks": ""
            },
            "colorscale": [
             [
              0,
              "#0d0887"
             ],
             [
              0.1111111111111111,
              "#46039f"
             ],
             [
              0.2222222222222222,
              "#7201a8"
             ],
             [
              0.3333333333333333,
              "#9c179e"
             ],
             [
              0.4444444444444444,
              "#bd3786"
             ],
             [
              0.5555555555555556,
              "#d8576b"
             ],
             [
              0.6666666666666666,
              "#ed7953"
             ],
             [
              0.7777777777777778,
              "#fb9f3a"
             ],
             [
              0.8888888888888888,
              "#fdca26"
             ],
             [
              1,
              "#f0f921"
             ]
            ],
            "type": "histogram2d"
           }
          ],
          "histogram2dcontour": [
           {
            "colorbar": {
             "outlinewidth": 0,
             "ticks": ""
            },
            "colorscale": [
             [
              0,
              "#0d0887"
             ],
             [
              0.1111111111111111,
              "#46039f"
             ],
             [
              0.2222222222222222,
              "#7201a8"
             ],
             [
              0.3333333333333333,
              "#9c179e"
             ],
             [
              0.4444444444444444,
              "#bd3786"
             ],
             [
              0.5555555555555556,
              "#d8576b"
             ],
             [
              0.6666666666666666,
              "#ed7953"
             ],
             [
              0.7777777777777778,
              "#fb9f3a"
             ],
             [
              0.8888888888888888,
              "#fdca26"
             ],
             [
              1,
              "#f0f921"
             ]
            ],
            "type": "histogram2dcontour"
           }
          ],
          "mesh3d": [
           {
            "colorbar": {
             "outlinewidth": 0,
             "ticks": ""
            },
            "type": "mesh3d"
           }
          ],
          "parcoords": [
           {
            "line": {
             "colorbar": {
              "outlinewidth": 0,
              "ticks": ""
             }
            },
            "type": "parcoords"
           }
          ],
          "pie": [
           {
            "automargin": true,
            "type": "pie"
           }
          ],
          "scatter": [
           {
            "fillpattern": {
             "fillmode": "overlay",
             "size": 10,
             "solidity": 0.2
            },
            "type": "scatter"
           }
          ],
          "scatter3d": [
           {
            "line": {
             "colorbar": {
              "outlinewidth": 0,
              "ticks": ""
             }
            },
            "marker": {
             "colorbar": {
              "outlinewidth": 0,
              "ticks": ""
             }
            },
            "type": "scatter3d"
           }
          ],
          "scattercarpet": [
           {
            "marker": {
             "colorbar": {
              "outlinewidth": 0,
              "ticks": ""
             }
            },
            "type": "scattercarpet"
           }
          ],
          "scattergeo": [
           {
            "marker": {
             "colorbar": {
              "outlinewidth": 0,
              "ticks": ""
             }
            },
            "type": "scattergeo"
           }
          ],
          "scattergl": [
           {
            "marker": {
             "colorbar": {
              "outlinewidth": 0,
              "ticks": ""
             }
            },
            "type": "scattergl"
           }
          ],
          "scattermapbox": [
           {
            "marker": {
             "colorbar": {
              "outlinewidth": 0,
              "ticks": ""
             }
            },
            "type": "scattermapbox"
           }
          ],
          "scatterpolar": [
           {
            "marker": {
             "colorbar": {
              "outlinewidth": 0,
              "ticks": ""
             }
            },
            "type": "scatterpolar"
           }
          ],
          "scatterpolargl": [
           {
            "marker": {
             "colorbar": {
              "outlinewidth": 0,
              "ticks": ""
             }
            },
            "type": "scatterpolargl"
           }
          ],
          "scatterternary": [
           {
            "marker": {
             "colorbar": {
              "outlinewidth": 0,
              "ticks": ""
             }
            },
            "type": "scatterternary"
           }
          ],
          "surface": [
           {
            "colorbar": {
             "outlinewidth": 0,
             "ticks": ""
            },
            "colorscale": [
             [
              0,
              "#0d0887"
             ],
             [
              0.1111111111111111,
              "#46039f"
             ],
             [
              0.2222222222222222,
              "#7201a8"
             ],
             [
              0.3333333333333333,
              "#9c179e"
             ],
             [
              0.4444444444444444,
              "#bd3786"
             ],
             [
              0.5555555555555556,
              "#d8576b"
             ],
             [
              0.6666666666666666,
              "#ed7953"
             ],
             [
              0.7777777777777778,
              "#fb9f3a"
             ],
             [
              0.8888888888888888,
              "#fdca26"
             ],
             [
              1,
              "#f0f921"
             ]
            ],
            "type": "surface"
           }
          ],
          "table": [
           {
            "cells": {
             "fill": {
              "color": "#EBF0F8"
             },
             "line": {
              "color": "white"
             }
            },
            "header": {
             "fill": {
              "color": "#C8D4E3"
             },
             "line": {
              "color": "white"
             }
            },
            "type": "table"
           }
          ]
         },
         "layout": {
          "annotationdefaults": {
           "arrowcolor": "#2a3f5f",
           "arrowhead": 0,
           "arrowwidth": 1
          },
          "autotypenumbers": "strict",
          "coloraxis": {
           "colorbar": {
            "outlinewidth": 0,
            "ticks": ""
           }
          },
          "colorscale": {
           "diverging": [
            [
             0,
             "#8e0152"
            ],
            [
             0.1,
             "#c51b7d"
            ],
            [
             0.2,
             "#de77ae"
            ],
            [
             0.3,
             "#f1b6da"
            ],
            [
             0.4,
             "#fde0ef"
            ],
            [
             0.5,
             "#f7f7f7"
            ],
            [
             0.6,
             "#e6f5d0"
            ],
            [
             0.7,
             "#b8e186"
            ],
            [
             0.8,
             "#7fbc41"
            ],
            [
             0.9,
             "#4d9221"
            ],
            [
             1,
             "#276419"
            ]
           ],
           "sequential": [
            [
             0,
             "#0d0887"
            ],
            [
             0.1111111111111111,
             "#46039f"
            ],
            [
             0.2222222222222222,
             "#7201a8"
            ],
            [
             0.3333333333333333,
             "#9c179e"
            ],
            [
             0.4444444444444444,
             "#bd3786"
            ],
            [
             0.5555555555555556,
             "#d8576b"
            ],
            [
             0.6666666666666666,
             "#ed7953"
            ],
            [
             0.7777777777777778,
             "#fb9f3a"
            ],
            [
             0.8888888888888888,
             "#fdca26"
            ],
            [
             1,
             "#f0f921"
            ]
           ],
           "sequentialminus": [
            [
             0,
             "#0d0887"
            ],
            [
             0.1111111111111111,
             "#46039f"
            ],
            [
             0.2222222222222222,
             "#7201a8"
            ],
            [
             0.3333333333333333,
             "#9c179e"
            ],
            [
             0.4444444444444444,
             "#bd3786"
            ],
            [
             0.5555555555555556,
             "#d8576b"
            ],
            [
             0.6666666666666666,
             "#ed7953"
            ],
            [
             0.7777777777777778,
             "#fb9f3a"
            ],
            [
             0.8888888888888888,
             "#fdca26"
            ],
            [
             1,
             "#f0f921"
            ]
           ]
          },
          "colorway": [
           "#636efa",
           "#EF553B",
           "#00cc96",
           "#ab63fa",
           "#FFA15A",
           "#19d3f3",
           "#FF6692",
           "#B6E880",
           "#FF97FF",
           "#FECB52"
          ],
          "font": {
           "color": "#2a3f5f"
          },
          "geo": {
           "bgcolor": "white",
           "lakecolor": "white",
           "landcolor": "#E5ECF6",
           "showlakes": true,
           "showland": true,
           "subunitcolor": "white"
          },
          "hoverlabel": {
           "align": "left"
          },
          "hovermode": "closest",
          "mapbox": {
           "style": "light"
          },
          "paper_bgcolor": "white",
          "plot_bgcolor": "#E5ECF6",
          "polar": {
           "angularaxis": {
            "gridcolor": "white",
            "linecolor": "white",
            "ticks": ""
           },
           "bgcolor": "#E5ECF6",
           "radialaxis": {
            "gridcolor": "white",
            "linecolor": "white",
            "ticks": ""
           }
          },
          "scene": {
           "xaxis": {
            "backgroundcolor": "#E5ECF6",
            "gridcolor": "white",
            "gridwidth": 2,
            "linecolor": "white",
            "showbackground": true,
            "ticks": "",
            "zerolinecolor": "white"
           },
           "yaxis": {
            "backgroundcolor": "#E5ECF6",
            "gridcolor": "white",
            "gridwidth": 2,
            "linecolor": "white",
            "showbackground": true,
            "ticks": "",
            "zerolinecolor": "white"
           },
           "zaxis": {
            "backgroundcolor": "#E5ECF6",
            "gridcolor": "white",
            "gridwidth": 2,
            "linecolor": "white",
            "showbackground": true,
            "ticks": "",
            "zerolinecolor": "white"
           }
          },
          "shapedefaults": {
           "line": {
            "color": "#2a3f5f"
           }
          },
          "ternary": {
           "aaxis": {
            "gridcolor": "white",
            "linecolor": "white",
            "ticks": ""
           },
           "baxis": {
            "gridcolor": "white",
            "linecolor": "white",
            "ticks": ""
           },
           "bgcolor": "#E5ECF6",
           "caxis": {
            "gridcolor": "white",
            "linecolor": "white",
            "ticks": ""
           }
          },
          "title": {
           "x": 0.05
          },
          "xaxis": {
           "automargin": true,
           "gridcolor": "white",
           "linecolor": "white",
           "ticks": "",
           "title": {
            "standoff": 15
           },
           "zerolinecolor": "white",
           "zerolinewidth": 2
          },
          "yaxis": {
           "automargin": true,
           "gridcolor": "white",
           "linecolor": "white",
           "ticks": "",
           "title": {
            "standoff": 15
           },
           "zerolinecolor": "white",
           "zerolinewidth": 2
          }
         }
        },
        "title": {
         "text": "Porcentaje IPS por Departamento - 2013"
        },
        "width": 800,
        "xaxis": {
         "anchor": "y",
         "domain": [
          0,
          1
         ],
         "range": [
          0,
          19
         ],
         "title": {
          "text": "Porcentaje IPS (%)"
         }
        },
        "yaxis": {
         "anchor": "x",
         "domain": [
          0,
          1
         ],
         "title": {
          "text": "Departamento"
         }
        }
       }
      }
     },
     "metadata": {},
     "output_type": "display_data"
    }
   ],
   "source": [
    "fig = px.bar(data_frame=df_radiografia,\n",
    "             x='porcentaje',\n",
    "             y='Departamento', \n",
    "             orientation='h')\n",
    "\n",
    "fig.update_xaxes(title_text='Porcentaje IPS (%)')\n",
    "fig.update_xaxes(range=[0, 19])\n",
    "fig.update_yaxes(title_text='Departamento')\n",
    "fig.update_layout(title='Porcentaje IPS por Departamento - 2013')\n",
    "\n",
    "color_sequence = ['#3364C7' for i in departamentos]\n",
    "fig.update_traces(marker=dict(color=color_sequence))\n",
    "\n",
    "fig.update_traces(text=df_radiografia['porcentaje'], textposition='outside')\n",
    "\n",
    "fig.update_layout(width=800, height=700)\n",
    "\n",
    "fig.show()"
   ]
  },
  {
   "cell_type": "markdown",
   "metadata": {},
   "source": [
    "# Cambios IPS - 2013-2022"
   ]
  },
  {
   "cell_type": "code",
   "execution_count": 251,
   "metadata": {},
   "outputs": [],
   "source": [
    "df_comparison = pd.merge(df_num_reps, df_radiografia, how='inner', left_on='Departamento', right_on='Departamento')"
   ]
  },
  {
   "cell_type": "code",
   "execution_count": 252,
   "metadata": {},
   "outputs": [
    {
     "data": {
      "text/html": [
       "<div>\n",
       "<style scoped>\n",
       "    .dataframe tbody tr th:only-of-type {\n",
       "        vertical-align: middle;\n",
       "    }\n",
       "\n",
       "    .dataframe tbody tr th {\n",
       "        vertical-align: top;\n",
       "    }\n",
       "\n",
       "    .dataframe thead th {\n",
       "        text-align: right;\n",
       "    }\n",
       "</style>\n",
       "<table border=\"1\" class=\"dataframe\">\n",
       "  <thead>\n",
       "    <tr style=\"text-align: right;\">\n",
       "      <th></th>\n",
       "      <th>Departamento</th>\n",
       "      <th>IPS_2022</th>\n",
       "      <th>porcentaje_x</th>\n",
       "      <th>Numero_IPS</th>\n",
       "      <th>IPS/Habitantes</th>\n",
       "      <th>porcentaje_y</th>\n",
       "    </tr>\n",
       "  </thead>\n",
       "  <tbody>\n",
       "    <tr>\n",
       "      <th>0</th>\n",
       "      <td>Vichada</td>\n",
       "      <td>12</td>\n",
       "      <td>0.06</td>\n",
       "      <td>33</td>\n",
       "      <td>48</td>\n",
       "      <td>0.17</td>\n",
       "    </tr>\n",
       "    <tr>\n",
       "      <th>1</th>\n",
       "      <td>Guainía</td>\n",
       "      <td>12</td>\n",
       "      <td>0.06</td>\n",
       "      <td>8</td>\n",
       "      <td>20</td>\n",
       "      <td>0.04</td>\n",
       "    </tr>\n",
       "    <tr>\n",
       "      <th>2</th>\n",
       "      <td>San Andrés y Providencia</td>\n",
       "      <td>25</td>\n",
       "      <td>0.13</td>\n",
       "      <td>17</td>\n",
       "      <td>23</td>\n",
       "      <td>0.09</td>\n",
       "    </tr>\n",
       "    <tr>\n",
       "      <th>3</th>\n",
       "      <td>Amazonas</td>\n",
       "      <td>25</td>\n",
       "      <td>0.13</td>\n",
       "      <td>25</td>\n",
       "      <td>34</td>\n",
       "      <td>0.13</td>\n",
       "    </tr>\n",
       "    <tr>\n",
       "      <th>4</th>\n",
       "      <td>Guaviare</td>\n",
       "      <td>34</td>\n",
       "      <td>0.17</td>\n",
       "      <td>27</td>\n",
       "      <td>25</td>\n",
       "      <td>0.14</td>\n",
       "    </tr>\n",
       "  </tbody>\n",
       "</table>\n",
       "</div>"
      ],
      "text/plain": [
       "               Departamento  IPS_2022  porcentaje_x  Numero_IPS  \\\n",
       "0                   Vichada        12          0.06          33   \n",
       "1                   Guainía        12          0.06           8   \n",
       "2  San Andrés y Providencia        25          0.13          17   \n",
       "3                  Amazonas        25          0.13          25   \n",
       "4                  Guaviare        34          0.17          27   \n",
       "\n",
       "   IPS/Habitantes  porcentaje_y  \n",
       "0              48          0.17  \n",
       "1              20          0.04  \n",
       "2              23          0.09  \n",
       "3              34          0.13  \n",
       "4              25          0.14  "
      ]
     },
     "execution_count": 252,
     "metadata": {},
     "output_type": "execute_result"
    }
   ],
   "source": [
    "df_comparison.head()"
   ]
  },
  {
   "cell_type": "code",
   "execution_count": 253,
   "metadata": {},
   "outputs": [],
   "source": [
    "df_comparison['cambio'] = df_comparison['IPS_2022'] - df_comparison['Numero_IPS']\n",
    "df_comparison['cambio_porcentual'] = ((df_comparison['IPS_2022'] - df_comparison['Numero_IPS']) / df_comparison['Numero_IPS'] * 1).round(2)\n",
    "# df_comparison.sort_values('cambio', ascending=True, inplace=True)"
   ]
  },
  {
   "cell_type": "code",
   "execution_count": 254,
   "metadata": {},
   "outputs": [
    {
     "data": {
      "text/html": [
       "<div>\n",
       "<style scoped>\n",
       "    .dataframe tbody tr th:only-of-type {\n",
       "        vertical-align: middle;\n",
       "    }\n",
       "\n",
       "    .dataframe tbody tr th {\n",
       "        vertical-align: top;\n",
       "    }\n",
       "\n",
       "    .dataframe thead th {\n",
       "        text-align: right;\n",
       "    }\n",
       "</style>\n",
       "<table border=\"1\" class=\"dataframe\">\n",
       "  <thead>\n",
       "    <tr style=\"text-align: right;\">\n",
       "      <th></th>\n",
       "      <th>Departamento</th>\n",
       "      <th>IPS_2022</th>\n",
       "      <th>porcentaje_x</th>\n",
       "      <th>Numero_IPS</th>\n",
       "      <th>IPS/Habitantes</th>\n",
       "      <th>porcentaje_y</th>\n",
       "      <th>cambio</th>\n",
       "      <th>cambio_porcentual</th>\n",
       "    </tr>\n",
       "  </thead>\n",
       "  <tbody>\n",
       "    <tr>\n",
       "      <th>0</th>\n",
       "      <td>Vichada</td>\n",
       "      <td>12</td>\n",
       "      <td>0.06</td>\n",
       "      <td>33</td>\n",
       "      <td>48</td>\n",
       "      <td>0.17</td>\n",
       "      <td>-21</td>\n",
       "      <td>-0.64</td>\n",
       "    </tr>\n",
       "    <tr>\n",
       "      <th>1</th>\n",
       "      <td>Guainía</td>\n",
       "      <td>12</td>\n",
       "      <td>0.06</td>\n",
       "      <td>8</td>\n",
       "      <td>20</td>\n",
       "      <td>0.04</td>\n",
       "      <td>4</td>\n",
       "      <td>0.50</td>\n",
       "    </tr>\n",
       "    <tr>\n",
       "      <th>2</th>\n",
       "      <td>San Andrés y Providencia</td>\n",
       "      <td>25</td>\n",
       "      <td>0.13</td>\n",
       "      <td>17</td>\n",
       "      <td>23</td>\n",
       "      <td>0.09</td>\n",
       "      <td>8</td>\n",
       "      <td>0.47</td>\n",
       "    </tr>\n",
       "    <tr>\n",
       "      <th>3</th>\n",
       "      <td>Amazonas</td>\n",
       "      <td>25</td>\n",
       "      <td>0.13</td>\n",
       "      <td>25</td>\n",
       "      <td>34</td>\n",
       "      <td>0.13</td>\n",
       "      <td>0</td>\n",
       "      <td>0.00</td>\n",
       "    </tr>\n",
       "    <tr>\n",
       "      <th>4</th>\n",
       "      <td>Guaviare</td>\n",
       "      <td>34</td>\n",
       "      <td>0.17</td>\n",
       "      <td>27</td>\n",
       "      <td>25</td>\n",
       "      <td>0.14</td>\n",
       "      <td>7</td>\n",
       "      <td>0.26</td>\n",
       "    </tr>\n",
       "    <tr>\n",
       "      <th>5</th>\n",
       "      <td>Vaupés</td>\n",
       "      <td>55</td>\n",
       "      <td>0.28</td>\n",
       "      <td>4</td>\n",
       "      <td>9</td>\n",
       "      <td>0.02</td>\n",
       "      <td>51</td>\n",
       "      <td>12.75</td>\n",
       "    </tr>\n",
       "    <tr>\n",
       "      <th>6</th>\n",
       "      <td>Caquetá</td>\n",
       "      <td>109</td>\n",
       "      <td>0.55</td>\n",
       "      <td>108</td>\n",
       "      <td>23</td>\n",
       "      <td>0.57</td>\n",
       "      <td>1</td>\n",
       "      <td>0.01</td>\n",
       "    </tr>\n",
       "    <tr>\n",
       "      <th>7</th>\n",
       "      <td>Putumayo</td>\n",
       "      <td>124</td>\n",
       "      <td>0.63</td>\n",
       "      <td>191</td>\n",
       "      <td>57</td>\n",
       "      <td>1.01</td>\n",
       "      <td>-67</td>\n",
       "      <td>-0.35</td>\n",
       "    </tr>\n",
       "    <tr>\n",
       "      <th>8</th>\n",
       "      <td>Arauca</td>\n",
       "      <td>142</td>\n",
       "      <td>0.72</td>\n",
       "      <td>133</td>\n",
       "      <td>52</td>\n",
       "      <td>0.70</td>\n",
       "      <td>9</td>\n",
       "      <td>0.07</td>\n",
       "    </tr>\n",
       "    <tr>\n",
       "      <th>9</th>\n",
       "      <td>Casanare</td>\n",
       "      <td>209</td>\n",
       "      <td>1.06</td>\n",
       "      <td>210</td>\n",
       "      <td>61</td>\n",
       "      <td>1.11</td>\n",
       "      <td>-1</td>\n",
       "      <td>-0.00</td>\n",
       "    </tr>\n",
       "    <tr>\n",
       "      <th>10</th>\n",
       "      <td>Quindío</td>\n",
       "      <td>236</td>\n",
       "      <td>1.20</td>\n",
       "      <td>253</td>\n",
       "      <td>45</td>\n",
       "      <td>1.33</td>\n",
       "      <td>-17</td>\n",
       "      <td>-0.07</td>\n",
       "    </tr>\n",
       "    <tr>\n",
       "      <th>11</th>\n",
       "      <td>Chocó</td>\n",
       "      <td>265</td>\n",
       "      <td>1.34</td>\n",
       "      <td>231</td>\n",
       "      <td>47</td>\n",
       "      <td>1.22</td>\n",
       "      <td>34</td>\n",
       "      <td>0.15</td>\n",
       "    </tr>\n",
       "    <tr>\n",
       "      <th>12</th>\n",
       "      <td>Caldas</td>\n",
       "      <td>345</td>\n",
       "      <td>1.75</td>\n",
       "      <td>419</td>\n",
       "      <td>43</td>\n",
       "      <td>2.21</td>\n",
       "      <td>-74</td>\n",
       "      <td>-0.18</td>\n",
       "    </tr>\n",
       "    <tr>\n",
       "      <th>13</th>\n",
       "      <td>Risaralda</td>\n",
       "      <td>368</td>\n",
       "      <td>1.87</td>\n",
       "      <td>347</td>\n",
       "      <td>37</td>\n",
       "      <td>1.83</td>\n",
       "      <td>21</td>\n",
       "      <td>0.06</td>\n",
       "    </tr>\n",
       "    <tr>\n",
       "      <th>14</th>\n",
       "      <td>Huila</td>\n",
       "      <td>373</td>\n",
       "      <td>1.89</td>\n",
       "      <td>369</td>\n",
       "      <td>33</td>\n",
       "      <td>1.95</td>\n",
       "      <td>4</td>\n",
       "      <td>0.01</td>\n",
       "    </tr>\n",
       "    <tr>\n",
       "      <th>15</th>\n",
       "      <td>La Guajira</td>\n",
       "      <td>427</td>\n",
       "      <td>2.16</td>\n",
       "      <td>316</td>\n",
       "      <td>35</td>\n",
       "      <td>1.67</td>\n",
       "      <td>111</td>\n",
       "      <td>0.35</td>\n",
       "    </tr>\n",
       "    <tr>\n",
       "      <th>16</th>\n",
       "      <td>Cauca</td>\n",
       "      <td>480</td>\n",
       "      <td>2.43</td>\n",
       "      <td>430</td>\n",
       "      <td>32</td>\n",
       "      <td>2.27</td>\n",
       "      <td>50</td>\n",
       "      <td>0.12</td>\n",
       "    </tr>\n",
       "    <tr>\n",
       "      <th>17</th>\n",
       "      <td>Meta</td>\n",
       "      <td>483</td>\n",
       "      <td>2.45</td>\n",
       "      <td>408</td>\n",
       "      <td>44</td>\n",
       "      <td>2.15</td>\n",
       "      <td>75</td>\n",
       "      <td>0.18</td>\n",
       "    </tr>\n",
       "    <tr>\n",
       "      <th>18</th>\n",
       "      <td>Sucre</td>\n",
       "      <td>513</td>\n",
       "      <td>2.60</td>\n",
       "      <td>501</td>\n",
       "      <td>60</td>\n",
       "      <td>2.64</td>\n",
       "      <td>12</td>\n",
       "      <td>0.02</td>\n",
       "    </tr>\n",
       "    <tr>\n",
       "      <th>19</th>\n",
       "      <td>Norte de Santander</td>\n",
       "      <td>518</td>\n",
       "      <td>2.63</td>\n",
       "      <td>517</td>\n",
       "      <td>39</td>\n",
       "      <td>2.73</td>\n",
       "      <td>1</td>\n",
       "      <td>0.00</td>\n",
       "    </tr>\n",
       "    <tr>\n",
       "      <th>20</th>\n",
       "      <td>Tolima</td>\n",
       "      <td>525</td>\n",
       "      <td>2.66</td>\n",
       "      <td>470</td>\n",
       "      <td>34</td>\n",
       "      <td>2.48</td>\n",
       "      <td>55</td>\n",
       "      <td>0.12</td>\n",
       "    </tr>\n",
       "    <tr>\n",
       "      <th>21</th>\n",
       "      <td>Boyacá</td>\n",
       "      <td>562</td>\n",
       "      <td>2.85</td>\n",
       "      <td>508</td>\n",
       "      <td>40</td>\n",
       "      <td>2.68</td>\n",
       "      <td>54</td>\n",
       "      <td>0.11</td>\n",
       "    </tr>\n",
       "    <tr>\n",
       "      <th>22</th>\n",
       "      <td>Cesar</td>\n",
       "      <td>611</td>\n",
       "      <td>3.10</td>\n",
       "      <td>528</td>\n",
       "      <td>53</td>\n",
       "      <td>2.78</td>\n",
       "      <td>83</td>\n",
       "      <td>0.16</td>\n",
       "    </tr>\n",
       "    <tr>\n",
       "      <th>23</th>\n",
       "      <td>Magdalena</td>\n",
       "      <td>693</td>\n",
       "      <td>3.51</td>\n",
       "      <td>600</td>\n",
       "      <td>49</td>\n",
       "      <td>3.16</td>\n",
       "      <td>93</td>\n",
       "      <td>0.16</td>\n",
       "    </tr>\n",
       "    <tr>\n",
       "      <th>24</th>\n",
       "      <td>Nariño</td>\n",
       "      <td>800</td>\n",
       "      <td>4.06</td>\n",
       "      <td>622</td>\n",
       "      <td>37</td>\n",
       "      <td>3.28</td>\n",
       "      <td>178</td>\n",
       "      <td>0.29</td>\n",
       "    </tr>\n",
       "    <tr>\n",
       "      <th>25</th>\n",
       "      <td>Cundinamarca</td>\n",
       "      <td>818</td>\n",
       "      <td>4.15</td>\n",
       "      <td>725</td>\n",
       "      <td>28</td>\n",
       "      <td>3.82</td>\n",
       "      <td>93</td>\n",
       "      <td>0.13</td>\n",
       "    </tr>\n",
       "    <tr>\n",
       "      <th>26</th>\n",
       "      <td>Córdoba</td>\n",
       "      <td>821</td>\n",
       "      <td>4.16</td>\n",
       "      <td>550</td>\n",
       "      <td>33</td>\n",
       "      <td>2.90</td>\n",
       "      <td>271</td>\n",
       "      <td>0.49</td>\n",
       "    </tr>\n",
       "    <tr>\n",
       "      <th>27</th>\n",
       "      <td>Bolívar</td>\n",
       "      <td>970</td>\n",
       "      <td>4.92</td>\n",
       "      <td>861</td>\n",
       "      <td>42</td>\n",
       "      <td>4.54</td>\n",
       "      <td>109</td>\n",
       "      <td>0.13</td>\n",
       "    </tr>\n",
       "    <tr>\n",
       "      <th>28</th>\n",
       "      <td>Santander</td>\n",
       "      <td>1048</td>\n",
       "      <td>5.31</td>\n",
       "      <td>1155</td>\n",
       "      <td>57</td>\n",
       "      <td>6.09</td>\n",
       "      <td>-107</td>\n",
       "      <td>-0.09</td>\n",
       "    </tr>\n",
       "    <tr>\n",
       "      <th>29</th>\n",
       "      <td>Atlántico</td>\n",
       "      <td>1217</td>\n",
       "      <td>6.17</td>\n",
       "      <td>1028</td>\n",
       "      <td>43</td>\n",
       "      <td>5.42</td>\n",
       "      <td>189</td>\n",
       "      <td>0.18</td>\n",
       "    </tr>\n",
       "    <tr>\n",
       "      <th>30</th>\n",
       "      <td>Valle del cauca</td>\n",
       "      <td>1869</td>\n",
       "      <td>9.47</td>\n",
       "      <td>2136</td>\n",
       "      <td>47</td>\n",
       "      <td>11.27</td>\n",
       "      <td>-267</td>\n",
       "      <td>-0.12</td>\n",
       "    </tr>\n",
       "    <tr>\n",
       "      <th>31</th>\n",
       "      <td>Antioquia</td>\n",
       "      <td>2145</td>\n",
       "      <td>10.87</td>\n",
       "      <td>1945</td>\n",
       "      <td>31</td>\n",
       "      <td>10.26</td>\n",
       "      <td>200</td>\n",
       "      <td>0.10</td>\n",
       "    </tr>\n",
       "    <tr>\n",
       "      <th>32</th>\n",
       "      <td>Bogotá D.C</td>\n",
       "      <td>2892</td>\n",
       "      <td>14.66</td>\n",
       "      <td>3284</td>\n",
       "      <td>43</td>\n",
       "      <td>17.32</td>\n",
       "      <td>-392</td>\n",
       "      <td>-0.12</td>\n",
       "    </tr>\n",
       "  </tbody>\n",
       "</table>\n",
       "</div>"
      ],
      "text/plain": [
       "                Departamento  IPS_2022  porcentaje_x  Numero_IPS  \\\n",
       "0                    Vichada        12          0.06          33   \n",
       "1                    Guainía        12          0.06           8   \n",
       "2   San Andrés y Providencia        25          0.13          17   \n",
       "3                   Amazonas        25          0.13          25   \n",
       "4                   Guaviare        34          0.17          27   \n",
       "5                     Vaupés        55          0.28           4   \n",
       "6                    Caquetá       109          0.55         108   \n",
       "7                   Putumayo       124          0.63         191   \n",
       "8                     Arauca       142          0.72         133   \n",
       "9                   Casanare       209          1.06         210   \n",
       "10                   Quindío       236          1.20         253   \n",
       "11                     Chocó       265          1.34         231   \n",
       "12                    Caldas       345          1.75         419   \n",
       "13                 Risaralda       368          1.87         347   \n",
       "14                     Huila       373          1.89         369   \n",
       "15                La Guajira       427          2.16         316   \n",
       "16                     Cauca       480          2.43         430   \n",
       "17                      Meta       483          2.45         408   \n",
       "18                     Sucre       513          2.60         501   \n",
       "19        Norte de Santander       518          2.63         517   \n",
       "20                    Tolima       525          2.66         470   \n",
       "21                    Boyacá       562          2.85         508   \n",
       "22                     Cesar       611          3.10         528   \n",
       "23                 Magdalena       693          3.51         600   \n",
       "24                    Nariño       800          4.06         622   \n",
       "25              Cundinamarca       818          4.15         725   \n",
       "26                   Córdoba       821          4.16         550   \n",
       "27                   Bolívar       970          4.92         861   \n",
       "28                 Santander      1048          5.31        1155   \n",
       "29                 Atlántico      1217          6.17        1028   \n",
       "30           Valle del cauca      1869          9.47        2136   \n",
       "31                 Antioquia      2145         10.87        1945   \n",
       "32                Bogotá D.C      2892         14.66        3284   \n",
       "\n",
       "    IPS/Habitantes  porcentaje_y  cambio  cambio_porcentual  \n",
       "0               48          0.17     -21              -0.64  \n",
       "1               20          0.04       4               0.50  \n",
       "2               23          0.09       8               0.47  \n",
       "3               34          0.13       0               0.00  \n",
       "4               25          0.14       7               0.26  \n",
       "5                9          0.02      51              12.75  \n",
       "6               23          0.57       1               0.01  \n",
       "7               57          1.01     -67              -0.35  \n",
       "8               52          0.70       9               0.07  \n",
       "9               61          1.11      -1              -0.00  \n",
       "10              45          1.33     -17              -0.07  \n",
       "11              47          1.22      34               0.15  \n",
       "12              43          2.21     -74              -0.18  \n",
       "13              37          1.83      21               0.06  \n",
       "14              33          1.95       4               0.01  \n",
       "15              35          1.67     111               0.35  \n",
       "16              32          2.27      50               0.12  \n",
       "17              44          2.15      75               0.18  \n",
       "18              60          2.64      12               0.02  \n",
       "19              39          2.73       1               0.00  \n",
       "20              34          2.48      55               0.12  \n",
       "21              40          2.68      54               0.11  \n",
       "22              53          2.78      83               0.16  \n",
       "23              49          3.16      93               0.16  \n",
       "24              37          3.28     178               0.29  \n",
       "25              28          3.82      93               0.13  \n",
       "26              33          2.90     271               0.49  \n",
       "27              42          4.54     109               0.13  \n",
       "28              57          6.09    -107              -0.09  \n",
       "29              43          5.42     189               0.18  \n",
       "30              47         11.27    -267              -0.12  \n",
       "31              31         10.26     200               0.10  \n",
       "32              43         17.32    -392              -0.12  "
      ]
     },
     "execution_count": 254,
     "metadata": {},
     "output_type": "execute_result"
    }
   ],
   "source": [
    "df_comparison"
   ]
  },
  {
   "cell_type": "code",
   "execution_count": 255,
   "metadata": {},
   "outputs": [
    {
     "data": {
      "application/vnd.plotly.v1+json": {
       "config": {
        "plotlyServerURL": "https://plot.ly"
       },
       "data": [
        {
         "alignmentgroup": "True",
         "hovertemplate": "cambio=%{x}<br>Departamento=%{y}<extra></extra>",
         "legendgroup": "",
         "marker": {
          "color": [
           "#5B9279",
           "#5B9279",
           "#5B9279",
           "#5B9279",
           "#5B9279",
           "#5B9279",
           "#5B9279",
           "#5B9279",
           "#5B9279",
           "#5B9279",
           "#5B9279",
           "#5B9279",
           "#5B9279",
           "#5B9279",
           "#5B9279",
           "#5B9279",
           "#5B9279",
           "#5B9279",
           "#5B9279",
           "#5B9279",
           "#5B9279",
           "#5B9279",
           "#5B9279",
           "#5B9279",
           "#5B9279",
           "#5B9279",
           "#5B9279",
           "#5B9279",
           "#5B9279",
           "#5B9279",
           "#5B9279",
           "#5B9279",
           "#5B9279"
          ],
          "pattern": {
           "shape": ""
          }
         },
         "name": "",
         "offsetgroup": "",
         "orientation": "h",
         "showlegend": false,
         "text": [
          -21,
          4,
          8,
          0,
          7,
          51,
          1,
          -67,
          9,
          -1,
          -17,
          34,
          -74,
          21,
          4,
          111,
          50,
          75,
          12,
          1,
          55,
          54,
          83,
          93,
          178,
          93,
          271,
          109,
          -107,
          189,
          -267,
          200,
          -392
         ],
         "textposition": "outside",
         "type": "bar",
         "x": [
          -21,
          4,
          8,
          0,
          7,
          51,
          1,
          -67,
          9,
          -1,
          -17,
          34,
          -74,
          21,
          4,
          111,
          50,
          75,
          12,
          1,
          55,
          54,
          83,
          93,
          178,
          93,
          271,
          109,
          -107,
          189,
          -267,
          200,
          -392
         ],
         "xaxis": "x",
         "y": [
          "Vichada",
          "Guainía",
          "San Andrés y Providencia",
          "Amazonas",
          "Guaviare",
          "Vaupés",
          "Caquetá",
          "Putumayo",
          "Arauca",
          "Casanare",
          "Quindío",
          "Chocó",
          "Caldas",
          "Risaralda",
          "Huila",
          "La Guajira",
          "Cauca",
          "Meta",
          "Sucre",
          "Norte de Santander",
          "Tolima",
          "Boyacá",
          "Cesar",
          "Magdalena",
          "Nariño",
          "Cundinamarca",
          "Córdoba",
          "Bolívar",
          "Santander",
          "Atlántico",
          "Valle del cauca",
          "Antioquia",
          "Bogotá D.C"
         ],
         "yaxis": "y"
        }
       ],
       "layout": {
        "barmode": "relative",
        "height": 700,
        "legend": {
         "tracegroupgap": 0
        },
        "margin": {
         "t": 60
        },
        "template": {
         "data": {
          "bar": [
           {
            "error_x": {
             "color": "#2a3f5f"
            },
            "error_y": {
             "color": "#2a3f5f"
            },
            "marker": {
             "line": {
              "color": "#E5ECF6",
              "width": 0.5
             },
             "pattern": {
              "fillmode": "overlay",
              "size": 10,
              "solidity": 0.2
             }
            },
            "type": "bar"
           }
          ],
          "barpolar": [
           {
            "marker": {
             "line": {
              "color": "#E5ECF6",
              "width": 0.5
             },
             "pattern": {
              "fillmode": "overlay",
              "size": 10,
              "solidity": 0.2
             }
            },
            "type": "barpolar"
           }
          ],
          "carpet": [
           {
            "aaxis": {
             "endlinecolor": "#2a3f5f",
             "gridcolor": "white",
             "linecolor": "white",
             "minorgridcolor": "white",
             "startlinecolor": "#2a3f5f"
            },
            "baxis": {
             "endlinecolor": "#2a3f5f",
             "gridcolor": "white",
             "linecolor": "white",
             "minorgridcolor": "white",
             "startlinecolor": "#2a3f5f"
            },
            "type": "carpet"
           }
          ],
          "choropleth": [
           {
            "colorbar": {
             "outlinewidth": 0,
             "ticks": ""
            },
            "type": "choropleth"
           }
          ],
          "contour": [
           {
            "colorbar": {
             "outlinewidth": 0,
             "ticks": ""
            },
            "colorscale": [
             [
              0,
              "#0d0887"
             ],
             [
              0.1111111111111111,
              "#46039f"
             ],
             [
              0.2222222222222222,
              "#7201a8"
             ],
             [
              0.3333333333333333,
              "#9c179e"
             ],
             [
              0.4444444444444444,
              "#bd3786"
             ],
             [
              0.5555555555555556,
              "#d8576b"
             ],
             [
              0.6666666666666666,
              "#ed7953"
             ],
             [
              0.7777777777777778,
              "#fb9f3a"
             ],
             [
              0.8888888888888888,
              "#fdca26"
             ],
             [
              1,
              "#f0f921"
             ]
            ],
            "type": "contour"
           }
          ],
          "contourcarpet": [
           {
            "colorbar": {
             "outlinewidth": 0,
             "ticks": ""
            },
            "type": "contourcarpet"
           }
          ],
          "heatmap": [
           {
            "colorbar": {
             "outlinewidth": 0,
             "ticks": ""
            },
            "colorscale": [
             [
              0,
              "#0d0887"
             ],
             [
              0.1111111111111111,
              "#46039f"
             ],
             [
              0.2222222222222222,
              "#7201a8"
             ],
             [
              0.3333333333333333,
              "#9c179e"
             ],
             [
              0.4444444444444444,
              "#bd3786"
             ],
             [
              0.5555555555555556,
              "#d8576b"
             ],
             [
              0.6666666666666666,
              "#ed7953"
             ],
             [
              0.7777777777777778,
              "#fb9f3a"
             ],
             [
              0.8888888888888888,
              "#fdca26"
             ],
             [
              1,
              "#f0f921"
             ]
            ],
            "type": "heatmap"
           }
          ],
          "heatmapgl": [
           {
            "colorbar": {
             "outlinewidth": 0,
             "ticks": ""
            },
            "colorscale": [
             [
              0,
              "#0d0887"
             ],
             [
              0.1111111111111111,
              "#46039f"
             ],
             [
              0.2222222222222222,
              "#7201a8"
             ],
             [
              0.3333333333333333,
              "#9c179e"
             ],
             [
              0.4444444444444444,
              "#bd3786"
             ],
             [
              0.5555555555555556,
              "#d8576b"
             ],
             [
              0.6666666666666666,
              "#ed7953"
             ],
             [
              0.7777777777777778,
              "#fb9f3a"
             ],
             [
              0.8888888888888888,
              "#fdca26"
             ],
             [
              1,
              "#f0f921"
             ]
            ],
            "type": "heatmapgl"
           }
          ],
          "histogram": [
           {
            "marker": {
             "pattern": {
              "fillmode": "overlay",
              "size": 10,
              "solidity": 0.2
             }
            },
            "type": "histogram"
           }
          ],
          "histogram2d": [
           {
            "colorbar": {
             "outlinewidth": 0,
             "ticks": ""
            },
            "colorscale": [
             [
              0,
              "#0d0887"
             ],
             [
              0.1111111111111111,
              "#46039f"
             ],
             [
              0.2222222222222222,
              "#7201a8"
             ],
             [
              0.3333333333333333,
              "#9c179e"
             ],
             [
              0.4444444444444444,
              "#bd3786"
             ],
             [
              0.5555555555555556,
              "#d8576b"
             ],
             [
              0.6666666666666666,
              "#ed7953"
             ],
             [
              0.7777777777777778,
              "#fb9f3a"
             ],
             [
              0.8888888888888888,
              "#fdca26"
             ],
             [
              1,
              "#f0f921"
             ]
            ],
            "type": "histogram2d"
           }
          ],
          "histogram2dcontour": [
           {
            "colorbar": {
             "outlinewidth": 0,
             "ticks": ""
            },
            "colorscale": [
             [
              0,
              "#0d0887"
             ],
             [
              0.1111111111111111,
              "#46039f"
             ],
             [
              0.2222222222222222,
              "#7201a8"
             ],
             [
              0.3333333333333333,
              "#9c179e"
             ],
             [
              0.4444444444444444,
              "#bd3786"
             ],
             [
              0.5555555555555556,
              "#d8576b"
             ],
             [
              0.6666666666666666,
              "#ed7953"
             ],
             [
              0.7777777777777778,
              "#fb9f3a"
             ],
             [
              0.8888888888888888,
              "#fdca26"
             ],
             [
              1,
              "#f0f921"
             ]
            ],
            "type": "histogram2dcontour"
           }
          ],
          "mesh3d": [
           {
            "colorbar": {
             "outlinewidth": 0,
             "ticks": ""
            },
            "type": "mesh3d"
           }
          ],
          "parcoords": [
           {
            "line": {
             "colorbar": {
              "outlinewidth": 0,
              "ticks": ""
             }
            },
            "type": "parcoords"
           }
          ],
          "pie": [
           {
            "automargin": true,
            "type": "pie"
           }
          ],
          "scatter": [
           {
            "fillpattern": {
             "fillmode": "overlay",
             "size": 10,
             "solidity": 0.2
            },
            "type": "scatter"
           }
          ],
          "scatter3d": [
           {
            "line": {
             "colorbar": {
              "outlinewidth": 0,
              "ticks": ""
             }
            },
            "marker": {
             "colorbar": {
              "outlinewidth": 0,
              "ticks": ""
             }
            },
            "type": "scatter3d"
           }
          ],
          "scattercarpet": [
           {
            "marker": {
             "colorbar": {
              "outlinewidth": 0,
              "ticks": ""
             }
            },
            "type": "scattercarpet"
           }
          ],
          "scattergeo": [
           {
            "marker": {
             "colorbar": {
              "outlinewidth": 0,
              "ticks": ""
             }
            },
            "type": "scattergeo"
           }
          ],
          "scattergl": [
           {
            "marker": {
             "colorbar": {
              "outlinewidth": 0,
              "ticks": ""
             }
            },
            "type": "scattergl"
           }
          ],
          "scattermapbox": [
           {
            "marker": {
             "colorbar": {
              "outlinewidth": 0,
              "ticks": ""
             }
            },
            "type": "scattermapbox"
           }
          ],
          "scatterpolar": [
           {
            "marker": {
             "colorbar": {
              "outlinewidth": 0,
              "ticks": ""
             }
            },
            "type": "scatterpolar"
           }
          ],
          "scatterpolargl": [
           {
            "marker": {
             "colorbar": {
              "outlinewidth": 0,
              "ticks": ""
             }
            },
            "type": "scatterpolargl"
           }
          ],
          "scatterternary": [
           {
            "marker": {
             "colorbar": {
              "outlinewidth": 0,
              "ticks": ""
             }
            },
            "type": "scatterternary"
           }
          ],
          "surface": [
           {
            "colorbar": {
             "outlinewidth": 0,
             "ticks": ""
            },
            "colorscale": [
             [
              0,
              "#0d0887"
             ],
             [
              0.1111111111111111,
              "#46039f"
             ],
             [
              0.2222222222222222,
              "#7201a8"
             ],
             [
              0.3333333333333333,
              "#9c179e"
             ],
             [
              0.4444444444444444,
              "#bd3786"
             ],
             [
              0.5555555555555556,
              "#d8576b"
             ],
             [
              0.6666666666666666,
              "#ed7953"
             ],
             [
              0.7777777777777778,
              "#fb9f3a"
             ],
             [
              0.8888888888888888,
              "#fdca26"
             ],
             [
              1,
              "#f0f921"
             ]
            ],
            "type": "surface"
           }
          ],
          "table": [
           {
            "cells": {
             "fill": {
              "color": "#EBF0F8"
             },
             "line": {
              "color": "white"
             }
            },
            "header": {
             "fill": {
              "color": "#C8D4E3"
             },
             "line": {
              "color": "white"
             }
            },
            "type": "table"
           }
          ]
         },
         "layout": {
          "annotationdefaults": {
           "arrowcolor": "#2a3f5f",
           "arrowhead": 0,
           "arrowwidth": 1
          },
          "autotypenumbers": "strict",
          "coloraxis": {
           "colorbar": {
            "outlinewidth": 0,
            "ticks": ""
           }
          },
          "colorscale": {
           "diverging": [
            [
             0,
             "#8e0152"
            ],
            [
             0.1,
             "#c51b7d"
            ],
            [
             0.2,
             "#de77ae"
            ],
            [
             0.3,
             "#f1b6da"
            ],
            [
             0.4,
             "#fde0ef"
            ],
            [
             0.5,
             "#f7f7f7"
            ],
            [
             0.6,
             "#e6f5d0"
            ],
            [
             0.7,
             "#b8e186"
            ],
            [
             0.8,
             "#7fbc41"
            ],
            [
             0.9,
             "#4d9221"
            ],
            [
             1,
             "#276419"
            ]
           ],
           "sequential": [
            [
             0,
             "#0d0887"
            ],
            [
             0.1111111111111111,
             "#46039f"
            ],
            [
             0.2222222222222222,
             "#7201a8"
            ],
            [
             0.3333333333333333,
             "#9c179e"
            ],
            [
             0.4444444444444444,
             "#bd3786"
            ],
            [
             0.5555555555555556,
             "#d8576b"
            ],
            [
             0.6666666666666666,
             "#ed7953"
            ],
            [
             0.7777777777777778,
             "#fb9f3a"
            ],
            [
             0.8888888888888888,
             "#fdca26"
            ],
            [
             1,
             "#f0f921"
            ]
           ],
           "sequentialminus": [
            [
             0,
             "#0d0887"
            ],
            [
             0.1111111111111111,
             "#46039f"
            ],
            [
             0.2222222222222222,
             "#7201a8"
            ],
            [
             0.3333333333333333,
             "#9c179e"
            ],
            [
             0.4444444444444444,
             "#bd3786"
            ],
            [
             0.5555555555555556,
             "#d8576b"
            ],
            [
             0.6666666666666666,
             "#ed7953"
            ],
            [
             0.7777777777777778,
             "#fb9f3a"
            ],
            [
             0.8888888888888888,
             "#fdca26"
            ],
            [
             1,
             "#f0f921"
            ]
           ]
          },
          "colorway": [
           "#636efa",
           "#EF553B",
           "#00cc96",
           "#ab63fa",
           "#FFA15A",
           "#19d3f3",
           "#FF6692",
           "#B6E880",
           "#FF97FF",
           "#FECB52"
          ],
          "font": {
           "color": "#2a3f5f"
          },
          "geo": {
           "bgcolor": "white",
           "lakecolor": "white",
           "landcolor": "#E5ECF6",
           "showlakes": true,
           "showland": true,
           "subunitcolor": "white"
          },
          "hoverlabel": {
           "align": "left"
          },
          "hovermode": "closest",
          "mapbox": {
           "style": "light"
          },
          "paper_bgcolor": "white",
          "plot_bgcolor": "#E5ECF6",
          "polar": {
           "angularaxis": {
            "gridcolor": "white",
            "linecolor": "white",
            "ticks": ""
           },
           "bgcolor": "#E5ECF6",
           "radialaxis": {
            "gridcolor": "white",
            "linecolor": "white",
            "ticks": ""
           }
          },
          "scene": {
           "xaxis": {
            "backgroundcolor": "#E5ECF6",
            "gridcolor": "white",
            "gridwidth": 2,
            "linecolor": "white",
            "showbackground": true,
            "ticks": "",
            "zerolinecolor": "white"
           },
           "yaxis": {
            "backgroundcolor": "#E5ECF6",
            "gridcolor": "white",
            "gridwidth": 2,
            "linecolor": "white",
            "showbackground": true,
            "ticks": "",
            "zerolinecolor": "white"
           },
           "zaxis": {
            "backgroundcolor": "#E5ECF6",
            "gridcolor": "white",
            "gridwidth": 2,
            "linecolor": "white",
            "showbackground": true,
            "ticks": "",
            "zerolinecolor": "white"
           }
          },
          "shapedefaults": {
           "line": {
            "color": "#2a3f5f"
           }
          },
          "ternary": {
           "aaxis": {
            "gridcolor": "white",
            "linecolor": "white",
            "ticks": ""
           },
           "baxis": {
            "gridcolor": "white",
            "linecolor": "white",
            "ticks": ""
           },
           "bgcolor": "#E5ECF6",
           "caxis": {
            "gridcolor": "white",
            "linecolor": "white",
            "ticks": ""
           }
          },
          "title": {
           "x": 0.05
          },
          "xaxis": {
           "automargin": true,
           "gridcolor": "white",
           "linecolor": "white",
           "ticks": "",
           "title": {
            "standoff": 15
           },
           "zerolinecolor": "white",
           "zerolinewidth": 2
          },
          "yaxis": {
           "automargin": true,
           "gridcolor": "white",
           "linecolor": "white",
           "ticks": "",
           "title": {
            "standoff": 15
           },
           "zerolinecolor": "white",
           "zerolinewidth": 2
          }
         }
        },
        "title": {
         "text": "Cambio en Número de IPS por Departamento - 2013-2022"
        },
        "width": 800,
        "xaxis": {
         "anchor": "y",
         "domain": [
          0,
          1
         ],
         "range": [
          -450,
          350
         ],
         "title": {
          "text": "Cambio en Número de IPS"
         }
        },
        "yaxis": {
         "anchor": "x",
         "domain": [
          0,
          1
         ],
         "title": {
          "text": "Departamento"
         }
        }
       }
      }
     },
     "metadata": {},
     "output_type": "display_data"
    }
   ],
   "source": [
    "fig = px.bar(data_frame=df_comparison, x='cambio', y='Departamento', orientation='h')\n",
    "\n",
    "fig.update_xaxes(title_text='Cambio en Número de IPS')\n",
    "fig.update_xaxes(range=[-450,350])\n",
    "fig.update_yaxes(title_text='Departamento')\n",
    "fig.update_layout(title='Cambio en Número de IPS por Departamento - 2013-2022')\n",
    "\n",
    "color_sequence = ['#5B9279' for i in departamentos]\n",
    "fig.update_traces(marker=dict(color=color_sequence))\n",
    "\n",
    "fig.update_traces(text=df_comparison['cambio'], textposition='outside')\n",
    "\n",
    "fig.update_layout(width=800, height=700)\n",
    "\n",
    "fig.show()"
   ]
  },
  {
   "cell_type": "code",
   "execution_count": 256,
   "metadata": {},
   "outputs": [
    {
     "data": {
      "application/vnd.plotly.v1+json": {
       "config": {
        "plotlyServerURL": "https://plot.ly"
       },
       "data": [
        {
         "alignmentgroup": "True",
         "hovertemplate": "cambio_porcentual=%{x}<br>Departamento=%{y}<extra></extra>",
         "legendgroup": "",
         "marker": {
          "color": [
           "#5B9279",
           "#5B9279",
           "#5B9279",
           "#5B9279",
           "#5B9279",
           "#5B9279",
           "#5B9279",
           "#5B9279",
           "#5B9279",
           "#5B9279",
           "#5B9279",
           "#5B9279",
           "#5B9279",
           "#5B9279",
           "#5B9279",
           "#5B9279",
           "#5B9279",
           "#5B9279",
           "#5B9279",
           "#5B9279",
           "#5B9279",
           "#5B9279",
           "#5B9279",
           "#5B9279",
           "#5B9279",
           "#5B9279",
           "#5B9279",
           "#5B9279",
           "#5B9279",
           "#5B9279",
           "#5B9279",
           "#5B9279",
           "#5B9279"
          ],
          "pattern": {
           "shape": ""
          }
         },
         "name": "",
         "offsetgroup": "",
         "orientation": "h",
         "showlegend": false,
         "text": [
          -0.64,
          0.5,
          0.47,
          0,
          0.26,
          12.75,
          0.01,
          -0.35,
          0.07,
          0,
          -0.07,
          0.15,
          -0.18,
          0.06,
          0.01,
          0.35,
          0.12,
          0.18,
          0.02,
          0,
          0.12,
          0.11,
          0.16,
          0.16,
          0.29,
          0.13,
          0.49,
          0.13,
          -0.09,
          0.18,
          -0.12,
          0.1,
          -0.12
         ],
         "textposition": "outside",
         "type": "bar",
         "x": [
          -0.64,
          0.5,
          0.47,
          0,
          0.26,
          12.75,
          0.01,
          -0.35,
          0.07,
          0,
          -0.07,
          0.15,
          -0.18,
          0.06,
          0.01,
          0.35,
          0.12,
          0.18,
          0.02,
          0,
          0.12,
          0.11,
          0.16,
          0.16,
          0.29,
          0.13,
          0.49,
          0.13,
          -0.09,
          0.18,
          -0.12,
          0.1,
          -0.12
         ],
         "xaxis": "x",
         "y": [
          "Vichada",
          "Guainía",
          "San Andrés y Providencia",
          "Amazonas",
          "Guaviare",
          "Vaupés",
          "Caquetá",
          "Putumayo",
          "Arauca",
          "Casanare",
          "Quindío",
          "Chocó",
          "Caldas",
          "Risaralda",
          "Huila",
          "La Guajira",
          "Cauca",
          "Meta",
          "Sucre",
          "Norte de Santander",
          "Tolima",
          "Boyacá",
          "Cesar",
          "Magdalena",
          "Nariño",
          "Cundinamarca",
          "Córdoba",
          "Bolívar",
          "Santander",
          "Atlántico",
          "Valle del cauca",
          "Antioquia",
          "Bogotá D.C"
         ],
         "yaxis": "y"
        }
       ],
       "layout": {
        "barmode": "relative",
        "height": 700,
        "legend": {
         "tracegroupgap": 0
        },
        "margin": {
         "t": 60
        },
        "template": {
         "data": {
          "bar": [
           {
            "error_x": {
             "color": "#2a3f5f"
            },
            "error_y": {
             "color": "#2a3f5f"
            },
            "marker": {
             "line": {
              "color": "#E5ECF6",
              "width": 0.5
             },
             "pattern": {
              "fillmode": "overlay",
              "size": 10,
              "solidity": 0.2
             }
            },
            "type": "bar"
           }
          ],
          "barpolar": [
           {
            "marker": {
             "line": {
              "color": "#E5ECF6",
              "width": 0.5
             },
             "pattern": {
              "fillmode": "overlay",
              "size": 10,
              "solidity": 0.2
             }
            },
            "type": "barpolar"
           }
          ],
          "carpet": [
           {
            "aaxis": {
             "endlinecolor": "#2a3f5f",
             "gridcolor": "white",
             "linecolor": "white",
             "minorgridcolor": "white",
             "startlinecolor": "#2a3f5f"
            },
            "baxis": {
             "endlinecolor": "#2a3f5f",
             "gridcolor": "white",
             "linecolor": "white",
             "minorgridcolor": "white",
             "startlinecolor": "#2a3f5f"
            },
            "type": "carpet"
           }
          ],
          "choropleth": [
           {
            "colorbar": {
             "outlinewidth": 0,
             "ticks": ""
            },
            "type": "choropleth"
           }
          ],
          "contour": [
           {
            "colorbar": {
             "outlinewidth": 0,
             "ticks": ""
            },
            "colorscale": [
             [
              0,
              "#0d0887"
             ],
             [
              0.1111111111111111,
              "#46039f"
             ],
             [
              0.2222222222222222,
              "#7201a8"
             ],
             [
              0.3333333333333333,
              "#9c179e"
             ],
             [
              0.4444444444444444,
              "#bd3786"
             ],
             [
              0.5555555555555556,
              "#d8576b"
             ],
             [
              0.6666666666666666,
              "#ed7953"
             ],
             [
              0.7777777777777778,
              "#fb9f3a"
             ],
             [
              0.8888888888888888,
              "#fdca26"
             ],
             [
              1,
              "#f0f921"
             ]
            ],
            "type": "contour"
           }
          ],
          "contourcarpet": [
           {
            "colorbar": {
             "outlinewidth": 0,
             "ticks": ""
            },
            "type": "contourcarpet"
           }
          ],
          "heatmap": [
           {
            "colorbar": {
             "outlinewidth": 0,
             "ticks": ""
            },
            "colorscale": [
             [
              0,
              "#0d0887"
             ],
             [
              0.1111111111111111,
              "#46039f"
             ],
             [
              0.2222222222222222,
              "#7201a8"
             ],
             [
              0.3333333333333333,
              "#9c179e"
             ],
             [
              0.4444444444444444,
              "#bd3786"
             ],
             [
              0.5555555555555556,
              "#d8576b"
             ],
             [
              0.6666666666666666,
              "#ed7953"
             ],
             [
              0.7777777777777778,
              "#fb9f3a"
             ],
             [
              0.8888888888888888,
              "#fdca26"
             ],
             [
              1,
              "#f0f921"
             ]
            ],
            "type": "heatmap"
           }
          ],
          "heatmapgl": [
           {
            "colorbar": {
             "outlinewidth": 0,
             "ticks": ""
            },
            "colorscale": [
             [
              0,
              "#0d0887"
             ],
             [
              0.1111111111111111,
              "#46039f"
             ],
             [
              0.2222222222222222,
              "#7201a8"
             ],
             [
              0.3333333333333333,
              "#9c179e"
             ],
             [
              0.4444444444444444,
              "#bd3786"
             ],
             [
              0.5555555555555556,
              "#d8576b"
             ],
             [
              0.6666666666666666,
              "#ed7953"
             ],
             [
              0.7777777777777778,
              "#fb9f3a"
             ],
             [
              0.8888888888888888,
              "#fdca26"
             ],
             [
              1,
              "#f0f921"
             ]
            ],
            "type": "heatmapgl"
           }
          ],
          "histogram": [
           {
            "marker": {
             "pattern": {
              "fillmode": "overlay",
              "size": 10,
              "solidity": 0.2
             }
            },
            "type": "histogram"
           }
          ],
          "histogram2d": [
           {
            "colorbar": {
             "outlinewidth": 0,
             "ticks": ""
            },
            "colorscale": [
             [
              0,
              "#0d0887"
             ],
             [
              0.1111111111111111,
              "#46039f"
             ],
             [
              0.2222222222222222,
              "#7201a8"
             ],
             [
              0.3333333333333333,
              "#9c179e"
             ],
             [
              0.4444444444444444,
              "#bd3786"
             ],
             [
              0.5555555555555556,
              "#d8576b"
             ],
             [
              0.6666666666666666,
              "#ed7953"
             ],
             [
              0.7777777777777778,
              "#fb9f3a"
             ],
             [
              0.8888888888888888,
              "#fdca26"
             ],
             [
              1,
              "#f0f921"
             ]
            ],
            "type": "histogram2d"
           }
          ],
          "histogram2dcontour": [
           {
            "colorbar": {
             "outlinewidth": 0,
             "ticks": ""
            },
            "colorscale": [
             [
              0,
              "#0d0887"
             ],
             [
              0.1111111111111111,
              "#46039f"
             ],
             [
              0.2222222222222222,
              "#7201a8"
             ],
             [
              0.3333333333333333,
              "#9c179e"
             ],
             [
              0.4444444444444444,
              "#bd3786"
             ],
             [
              0.5555555555555556,
              "#d8576b"
             ],
             [
              0.6666666666666666,
              "#ed7953"
             ],
             [
              0.7777777777777778,
              "#fb9f3a"
             ],
             [
              0.8888888888888888,
              "#fdca26"
             ],
             [
              1,
              "#f0f921"
             ]
            ],
            "type": "histogram2dcontour"
           }
          ],
          "mesh3d": [
           {
            "colorbar": {
             "outlinewidth": 0,
             "ticks": ""
            },
            "type": "mesh3d"
           }
          ],
          "parcoords": [
           {
            "line": {
             "colorbar": {
              "outlinewidth": 0,
              "ticks": ""
             }
            },
            "type": "parcoords"
           }
          ],
          "pie": [
           {
            "automargin": true,
            "type": "pie"
           }
          ],
          "scatter": [
           {
            "fillpattern": {
             "fillmode": "overlay",
             "size": 10,
             "solidity": 0.2
            },
            "type": "scatter"
           }
          ],
          "scatter3d": [
           {
            "line": {
             "colorbar": {
              "outlinewidth": 0,
              "ticks": ""
             }
            },
            "marker": {
             "colorbar": {
              "outlinewidth": 0,
              "ticks": ""
             }
            },
            "type": "scatter3d"
           }
          ],
          "scattercarpet": [
           {
            "marker": {
             "colorbar": {
              "outlinewidth": 0,
              "ticks": ""
             }
            },
            "type": "scattercarpet"
           }
          ],
          "scattergeo": [
           {
            "marker": {
             "colorbar": {
              "outlinewidth": 0,
              "ticks": ""
             }
            },
            "type": "scattergeo"
           }
          ],
          "scattergl": [
           {
            "marker": {
             "colorbar": {
              "outlinewidth": 0,
              "ticks": ""
             }
            },
            "type": "scattergl"
           }
          ],
          "scattermapbox": [
           {
            "marker": {
             "colorbar": {
              "outlinewidth": 0,
              "ticks": ""
             }
            },
            "type": "scattermapbox"
           }
          ],
          "scatterpolar": [
           {
            "marker": {
             "colorbar": {
              "outlinewidth": 0,
              "ticks": ""
             }
            },
            "type": "scatterpolar"
           }
          ],
          "scatterpolargl": [
           {
            "marker": {
             "colorbar": {
              "outlinewidth": 0,
              "ticks": ""
             }
            },
            "type": "scatterpolargl"
           }
          ],
          "scatterternary": [
           {
            "marker": {
             "colorbar": {
              "outlinewidth": 0,
              "ticks": ""
             }
            },
            "type": "scatterternary"
           }
          ],
          "surface": [
           {
            "colorbar": {
             "outlinewidth": 0,
             "ticks": ""
            },
            "colorscale": [
             [
              0,
              "#0d0887"
             ],
             [
              0.1111111111111111,
              "#46039f"
             ],
             [
              0.2222222222222222,
              "#7201a8"
             ],
             [
              0.3333333333333333,
              "#9c179e"
             ],
             [
              0.4444444444444444,
              "#bd3786"
             ],
             [
              0.5555555555555556,
              "#d8576b"
             ],
             [
              0.6666666666666666,
              "#ed7953"
             ],
             [
              0.7777777777777778,
              "#fb9f3a"
             ],
             [
              0.8888888888888888,
              "#fdca26"
             ],
             [
              1,
              "#f0f921"
             ]
            ],
            "type": "surface"
           }
          ],
          "table": [
           {
            "cells": {
             "fill": {
              "color": "#EBF0F8"
             },
             "line": {
              "color": "white"
             }
            },
            "header": {
             "fill": {
              "color": "#C8D4E3"
             },
             "line": {
              "color": "white"
             }
            },
            "type": "table"
           }
          ]
         },
         "layout": {
          "annotationdefaults": {
           "arrowcolor": "#2a3f5f",
           "arrowhead": 0,
           "arrowwidth": 1
          },
          "autotypenumbers": "strict",
          "coloraxis": {
           "colorbar": {
            "outlinewidth": 0,
            "ticks": ""
           }
          },
          "colorscale": {
           "diverging": [
            [
             0,
             "#8e0152"
            ],
            [
             0.1,
             "#c51b7d"
            ],
            [
             0.2,
             "#de77ae"
            ],
            [
             0.3,
             "#f1b6da"
            ],
            [
             0.4,
             "#fde0ef"
            ],
            [
             0.5,
             "#f7f7f7"
            ],
            [
             0.6,
             "#e6f5d0"
            ],
            [
             0.7,
             "#b8e186"
            ],
            [
             0.8,
             "#7fbc41"
            ],
            [
             0.9,
             "#4d9221"
            ],
            [
             1,
             "#276419"
            ]
           ],
           "sequential": [
            [
             0,
             "#0d0887"
            ],
            [
             0.1111111111111111,
             "#46039f"
            ],
            [
             0.2222222222222222,
             "#7201a8"
            ],
            [
             0.3333333333333333,
             "#9c179e"
            ],
            [
             0.4444444444444444,
             "#bd3786"
            ],
            [
             0.5555555555555556,
             "#d8576b"
            ],
            [
             0.6666666666666666,
             "#ed7953"
            ],
            [
             0.7777777777777778,
             "#fb9f3a"
            ],
            [
             0.8888888888888888,
             "#fdca26"
            ],
            [
             1,
             "#f0f921"
            ]
           ],
           "sequentialminus": [
            [
             0,
             "#0d0887"
            ],
            [
             0.1111111111111111,
             "#46039f"
            ],
            [
             0.2222222222222222,
             "#7201a8"
            ],
            [
             0.3333333333333333,
             "#9c179e"
            ],
            [
             0.4444444444444444,
             "#bd3786"
            ],
            [
             0.5555555555555556,
             "#d8576b"
            ],
            [
             0.6666666666666666,
             "#ed7953"
            ],
            [
             0.7777777777777778,
             "#fb9f3a"
            ],
            [
             0.8888888888888888,
             "#fdca26"
            ],
            [
             1,
             "#f0f921"
            ]
           ]
          },
          "colorway": [
           "#636efa",
           "#EF553B",
           "#00cc96",
           "#ab63fa",
           "#FFA15A",
           "#19d3f3",
           "#FF6692",
           "#B6E880",
           "#FF97FF",
           "#FECB52"
          ],
          "font": {
           "color": "#2a3f5f"
          },
          "geo": {
           "bgcolor": "white",
           "lakecolor": "white",
           "landcolor": "#E5ECF6",
           "showlakes": true,
           "showland": true,
           "subunitcolor": "white"
          },
          "hoverlabel": {
           "align": "left"
          },
          "hovermode": "closest",
          "mapbox": {
           "style": "light"
          },
          "paper_bgcolor": "white",
          "plot_bgcolor": "#E5ECF6",
          "polar": {
           "angularaxis": {
            "gridcolor": "white",
            "linecolor": "white",
            "ticks": ""
           },
           "bgcolor": "#E5ECF6",
           "radialaxis": {
            "gridcolor": "white",
            "linecolor": "white",
            "ticks": ""
           }
          },
          "scene": {
           "xaxis": {
            "backgroundcolor": "#E5ECF6",
            "gridcolor": "white",
            "gridwidth": 2,
            "linecolor": "white",
            "showbackground": true,
            "ticks": "",
            "zerolinecolor": "white"
           },
           "yaxis": {
            "backgroundcolor": "#E5ECF6",
            "gridcolor": "white",
            "gridwidth": 2,
            "linecolor": "white",
            "showbackground": true,
            "ticks": "",
            "zerolinecolor": "white"
           },
           "zaxis": {
            "backgroundcolor": "#E5ECF6",
            "gridcolor": "white",
            "gridwidth": 2,
            "linecolor": "white",
            "showbackground": true,
            "ticks": "",
            "zerolinecolor": "white"
           }
          },
          "shapedefaults": {
           "line": {
            "color": "#2a3f5f"
           }
          },
          "ternary": {
           "aaxis": {
            "gridcolor": "white",
            "linecolor": "white",
            "ticks": ""
           },
           "baxis": {
            "gridcolor": "white",
            "linecolor": "white",
            "ticks": ""
           },
           "bgcolor": "#E5ECF6",
           "caxis": {
            "gridcolor": "white",
            "linecolor": "white",
            "ticks": ""
           }
          },
          "title": {
           "x": 0.05
          },
          "xaxis": {
           "automargin": true,
           "gridcolor": "white",
           "linecolor": "white",
           "ticks": "",
           "title": {
            "standoff": 15
           },
           "zerolinecolor": "white",
           "zerolinewidth": 2
          },
          "yaxis": {
           "automargin": true,
           "gridcolor": "white",
           "linecolor": "white",
           "ticks": "",
           "title": {
            "standoff": 15
           },
           "zerolinecolor": "white",
           "zerolinewidth": 2
          }
         }
        },
        "title": {
         "text": "Cambio Porcentual en número de IPS por Departamento - 2013-2022"
        },
        "width": 800,
        "xaxis": {
         "anchor": "y",
         "domain": [
          0,
          1
         ],
         "range": [
          -2,
          14
         ],
         "title": {
          "text": "Número de IPS"
         }
        },
        "yaxis": {
         "anchor": "x",
         "domain": [
          0,
          1
         ],
         "title": {
          "text": "Departamento"
         }
        }
       }
      }
     },
     "metadata": {},
     "output_type": "display_data"
    }
   ],
   "source": [
    "fig = px.bar(data_frame=df_comparison, x='cambio_porcentual', y='Departamento', orientation='h')\n",
    "\n",
    "fig.update_xaxes(title_text='Número de IPS')\n",
    "fig.update_xaxes(range=[-2,14])\n",
    "fig.update_yaxes(title_text='Departamento')\n",
    "fig.update_layout(title='Cambio Porcentual en número de IPS por Departamento - 2013-2022')\n",
    "\n",
    "color_sequence = ['#5B9279' for i in departamentos]\n",
    "fig.update_traces(marker=dict(color=color_sequence))\n",
    "\n",
    "fig.update_traces(text=df_comparison['cambio_porcentual'], textposition='outside')\n",
    "\n",
    "fig.update_layout(width=800, height=700)\n",
    "\n",
    "fig.show()"
   ]
  },
  {
   "cell_type": "markdown",
   "metadata": {},
   "source": [
    "# Distribucion Naturaleza Juridica IPS - 2022"
   ]
  },
  {
   "cell_type": "code",
   "execution_count": 257,
   "metadata": {},
   "outputs": [
    {
     "data": {
      "text/html": [
       "<div>\n",
       "<style scoped>\n",
       "    .dataframe tbody tr th:only-of-type {\n",
       "        vertical-align: middle;\n",
       "    }\n",
       "\n",
       "    .dataframe tbody tr th {\n",
       "        vertical-align: top;\n",
       "    }\n",
       "\n",
       "    .dataframe thead th {\n",
       "        text-align: right;\n",
       "    }\n",
       "</style>\n",
       "<table border=\"1\" class=\"dataframe\">\n",
       "  <thead>\n",
       "    <tr style=\"text-align: right;\">\n",
       "      <th></th>\n",
       "      <th>NaturalezaJuridica</th>\n",
       "      <th>IPS_2022</th>\n",
       "      <th>Porcentaje</th>\n",
       "      <th>Category</th>\n",
       "    </tr>\n",
       "  </thead>\n",
       "  <tbody>\n",
       "    <tr>\n",
       "      <th>0</th>\n",
       "      <td>Mixta</td>\n",
       "      <td>60</td>\n",
       "      <td>0.30</td>\n",
       "      <td></td>\n",
       "    </tr>\n",
       "    <tr>\n",
       "      <th>1</th>\n",
       "      <td>Privada</td>\n",
       "      <td>16045</td>\n",
       "      <td>81.34</td>\n",
       "      <td></td>\n",
       "    </tr>\n",
       "    <tr>\n",
       "      <th>2</th>\n",
       "      <td>Pública</td>\n",
       "      <td>3621</td>\n",
       "      <td>18.36</td>\n",
       "      <td></td>\n",
       "    </tr>\n",
       "  </tbody>\n",
       "</table>\n",
       "</div>"
      ],
      "text/plain": [
       "  NaturalezaJuridica  IPS_2022  Porcentaje Category\n",
       "0              Mixta        60        0.30         \n",
       "1            Privada     16045       81.34         \n",
       "2            Pública      3621       18.36         "
      ]
     },
     "execution_count": 257,
     "metadata": {},
     "output_type": "execute_result"
    }
   ],
   "source": [
    "df_num_reps_naturaleza_global = df_reps.groupby('NaturalezaJuridica').agg(IPS_2022=('codigo_habilitacion_sede', 'count'))\n",
    "df_num_reps_naturaleza_global['Porcentaje'] = (df_num_reps_naturaleza_global['IPS_2022'] / df_num_reps_naturaleza_global['IPS_2022'].sum() * 100).round(2)\n",
    "df_num_reps_naturaleza_global = df_num_reps_naturaleza_global.reset_index()\n",
    "df_num_reps_naturaleza_global['Category'] = ''\n",
    "\n",
    "df_num_reps_naturaleza_global"
   ]
  },
  {
   "cell_type": "code",
   "execution_count": 258,
   "metadata": {},
   "outputs": [
    {
     "data": {
      "application/vnd.plotly.v1+json": {
       "config": {
        "plotlyServerURL": "https://plot.ly"
       },
       "data": [
        {
         "alignmentgroup": "True",
         "hovertemplate": "NaturalezaJuridica=Mixta<br>Category=%{x}<br>IPS_2022=%{y}<extra></extra>",
         "legendgroup": "Mixta",
         "marker": {
          "color": "#826251",
          "pattern": {
           "shape": ""
          }
         },
         "name": "Mixta",
         "offsetgroup": "Mixta",
         "orientation": "v",
         "showlegend": true,
         "textposition": "auto",
         "type": "bar",
         "x": [
          ""
         ],
         "xaxis": "x",
         "y": [
          60
         ],
         "yaxis": "y"
        },
        {
         "alignmentgroup": "True",
         "hovertemplate": "NaturalezaJuridica=Privada<br>Category=%{x}<br>IPS_2022=%{y}<extra></extra>",
         "legendgroup": "Privada",
         "marker": {
          "color": "#3364C7",
          "pattern": {
           "shape": ""
          }
         },
         "name": "Privada",
         "offsetgroup": "Privada",
         "orientation": "v",
         "showlegend": true,
         "textposition": "auto",
         "type": "bar",
         "x": [
          ""
         ],
         "xaxis": "x",
         "y": [
          16045
         ],
         "yaxis": "y"
        },
        {
         "alignmentgroup": "True",
         "hovertemplate": "NaturalezaJuridica=Pública<br>Category=%{x}<br>IPS_2022=%{y}<extra></extra>",
         "legendgroup": "Pública",
         "marker": {
          "color": "#8CBCB9",
          "pattern": {
           "shape": ""
          }
         },
         "name": "Pública",
         "offsetgroup": "Pública",
         "orientation": "v",
         "showlegend": true,
         "textposition": "auto",
         "type": "bar",
         "x": [
          ""
         ],
         "xaxis": "x",
         "y": [
          3621
         ],
         "yaxis": "y"
        }
       ],
       "layout": {
        "barmode": "stack",
        "height": 500,
        "legend": {
         "title": {
          "text": "Naturaleza Jurídica"
         },
         "tracegroupgap": 0
        },
        "template": {
         "data": {
          "bar": [
           {
            "error_x": {
             "color": "#2a3f5f"
            },
            "error_y": {
             "color": "#2a3f5f"
            },
            "marker": {
             "line": {
              "color": "#E5ECF6",
              "width": 0.5
             },
             "pattern": {
              "fillmode": "overlay",
              "size": 10,
              "solidity": 0.2
             }
            },
            "type": "bar"
           }
          ],
          "barpolar": [
           {
            "marker": {
             "line": {
              "color": "#E5ECF6",
              "width": 0.5
             },
             "pattern": {
              "fillmode": "overlay",
              "size": 10,
              "solidity": 0.2
             }
            },
            "type": "barpolar"
           }
          ],
          "carpet": [
           {
            "aaxis": {
             "endlinecolor": "#2a3f5f",
             "gridcolor": "white",
             "linecolor": "white",
             "minorgridcolor": "white",
             "startlinecolor": "#2a3f5f"
            },
            "baxis": {
             "endlinecolor": "#2a3f5f",
             "gridcolor": "white",
             "linecolor": "white",
             "minorgridcolor": "white",
             "startlinecolor": "#2a3f5f"
            },
            "type": "carpet"
           }
          ],
          "choropleth": [
           {
            "colorbar": {
             "outlinewidth": 0,
             "ticks": ""
            },
            "type": "choropleth"
           }
          ],
          "contour": [
           {
            "colorbar": {
             "outlinewidth": 0,
             "ticks": ""
            },
            "colorscale": [
             [
              0,
              "#0d0887"
             ],
             [
              0.1111111111111111,
              "#46039f"
             ],
             [
              0.2222222222222222,
              "#7201a8"
             ],
             [
              0.3333333333333333,
              "#9c179e"
             ],
             [
              0.4444444444444444,
              "#bd3786"
             ],
             [
              0.5555555555555556,
              "#d8576b"
             ],
             [
              0.6666666666666666,
              "#ed7953"
             ],
             [
              0.7777777777777778,
              "#fb9f3a"
             ],
             [
              0.8888888888888888,
              "#fdca26"
             ],
             [
              1,
              "#f0f921"
             ]
            ],
            "type": "contour"
           }
          ],
          "contourcarpet": [
           {
            "colorbar": {
             "outlinewidth": 0,
             "ticks": ""
            },
            "type": "contourcarpet"
           }
          ],
          "heatmap": [
           {
            "colorbar": {
             "outlinewidth": 0,
             "ticks": ""
            },
            "colorscale": [
             [
              0,
              "#0d0887"
             ],
             [
              0.1111111111111111,
              "#46039f"
             ],
             [
              0.2222222222222222,
              "#7201a8"
             ],
             [
              0.3333333333333333,
              "#9c179e"
             ],
             [
              0.4444444444444444,
              "#bd3786"
             ],
             [
              0.5555555555555556,
              "#d8576b"
             ],
             [
              0.6666666666666666,
              "#ed7953"
             ],
             [
              0.7777777777777778,
              "#fb9f3a"
             ],
             [
              0.8888888888888888,
              "#fdca26"
             ],
             [
              1,
              "#f0f921"
             ]
            ],
            "type": "heatmap"
           }
          ],
          "heatmapgl": [
           {
            "colorbar": {
             "outlinewidth": 0,
             "ticks": ""
            },
            "colorscale": [
             [
              0,
              "#0d0887"
             ],
             [
              0.1111111111111111,
              "#46039f"
             ],
             [
              0.2222222222222222,
              "#7201a8"
             ],
             [
              0.3333333333333333,
              "#9c179e"
             ],
             [
              0.4444444444444444,
              "#bd3786"
             ],
             [
              0.5555555555555556,
              "#d8576b"
             ],
             [
              0.6666666666666666,
              "#ed7953"
             ],
             [
              0.7777777777777778,
              "#fb9f3a"
             ],
             [
              0.8888888888888888,
              "#fdca26"
             ],
             [
              1,
              "#f0f921"
             ]
            ],
            "type": "heatmapgl"
           }
          ],
          "histogram": [
           {
            "marker": {
             "pattern": {
              "fillmode": "overlay",
              "size": 10,
              "solidity": 0.2
             }
            },
            "type": "histogram"
           }
          ],
          "histogram2d": [
           {
            "colorbar": {
             "outlinewidth": 0,
             "ticks": ""
            },
            "colorscale": [
             [
              0,
              "#0d0887"
             ],
             [
              0.1111111111111111,
              "#46039f"
             ],
             [
              0.2222222222222222,
              "#7201a8"
             ],
             [
              0.3333333333333333,
              "#9c179e"
             ],
             [
              0.4444444444444444,
              "#bd3786"
             ],
             [
              0.5555555555555556,
              "#d8576b"
             ],
             [
              0.6666666666666666,
              "#ed7953"
             ],
             [
              0.7777777777777778,
              "#fb9f3a"
             ],
             [
              0.8888888888888888,
              "#fdca26"
             ],
             [
              1,
              "#f0f921"
             ]
            ],
            "type": "histogram2d"
           }
          ],
          "histogram2dcontour": [
           {
            "colorbar": {
             "outlinewidth": 0,
             "ticks": ""
            },
            "colorscale": [
             [
              0,
              "#0d0887"
             ],
             [
              0.1111111111111111,
              "#46039f"
             ],
             [
              0.2222222222222222,
              "#7201a8"
             ],
             [
              0.3333333333333333,
              "#9c179e"
             ],
             [
              0.4444444444444444,
              "#bd3786"
             ],
             [
              0.5555555555555556,
              "#d8576b"
             ],
             [
              0.6666666666666666,
              "#ed7953"
             ],
             [
              0.7777777777777778,
              "#fb9f3a"
             ],
             [
              0.8888888888888888,
              "#fdca26"
             ],
             [
              1,
              "#f0f921"
             ]
            ],
            "type": "histogram2dcontour"
           }
          ],
          "mesh3d": [
           {
            "colorbar": {
             "outlinewidth": 0,
             "ticks": ""
            },
            "type": "mesh3d"
           }
          ],
          "parcoords": [
           {
            "line": {
             "colorbar": {
              "outlinewidth": 0,
              "ticks": ""
             }
            },
            "type": "parcoords"
           }
          ],
          "pie": [
           {
            "automargin": true,
            "type": "pie"
           }
          ],
          "scatter": [
           {
            "fillpattern": {
             "fillmode": "overlay",
             "size": 10,
             "solidity": 0.2
            },
            "type": "scatter"
           }
          ],
          "scatter3d": [
           {
            "line": {
             "colorbar": {
              "outlinewidth": 0,
              "ticks": ""
             }
            },
            "marker": {
             "colorbar": {
              "outlinewidth": 0,
              "ticks": ""
             }
            },
            "type": "scatter3d"
           }
          ],
          "scattercarpet": [
           {
            "marker": {
             "colorbar": {
              "outlinewidth": 0,
              "ticks": ""
             }
            },
            "type": "scattercarpet"
           }
          ],
          "scattergeo": [
           {
            "marker": {
             "colorbar": {
              "outlinewidth": 0,
              "ticks": ""
             }
            },
            "type": "scattergeo"
           }
          ],
          "scattergl": [
           {
            "marker": {
             "colorbar": {
              "outlinewidth": 0,
              "ticks": ""
             }
            },
            "type": "scattergl"
           }
          ],
          "scattermapbox": [
           {
            "marker": {
             "colorbar": {
              "outlinewidth": 0,
              "ticks": ""
             }
            },
            "type": "scattermapbox"
           }
          ],
          "scatterpolar": [
           {
            "marker": {
             "colorbar": {
              "outlinewidth": 0,
              "ticks": ""
             }
            },
            "type": "scatterpolar"
           }
          ],
          "scatterpolargl": [
           {
            "marker": {
             "colorbar": {
              "outlinewidth": 0,
              "ticks": ""
             }
            },
            "type": "scatterpolargl"
           }
          ],
          "scatterternary": [
           {
            "marker": {
             "colorbar": {
              "outlinewidth": 0,
              "ticks": ""
             }
            },
            "type": "scatterternary"
           }
          ],
          "surface": [
           {
            "colorbar": {
             "outlinewidth": 0,
             "ticks": ""
            },
            "colorscale": [
             [
              0,
              "#0d0887"
             ],
             [
              0.1111111111111111,
              "#46039f"
             ],
             [
              0.2222222222222222,
              "#7201a8"
             ],
             [
              0.3333333333333333,
              "#9c179e"
             ],
             [
              0.4444444444444444,
              "#bd3786"
             ],
             [
              0.5555555555555556,
              "#d8576b"
             ],
             [
              0.6666666666666666,
              "#ed7953"
             ],
             [
              0.7777777777777778,
              "#fb9f3a"
             ],
             [
              0.8888888888888888,
              "#fdca26"
             ],
             [
              1,
              "#f0f921"
             ]
            ],
            "type": "surface"
           }
          ],
          "table": [
           {
            "cells": {
             "fill": {
              "color": "#EBF0F8"
             },
             "line": {
              "color": "white"
             }
            },
            "header": {
             "fill": {
              "color": "#C8D4E3"
             },
             "line": {
              "color": "white"
             }
            },
            "type": "table"
           }
          ]
         },
         "layout": {
          "annotationdefaults": {
           "arrowcolor": "#2a3f5f",
           "arrowhead": 0,
           "arrowwidth": 1
          },
          "autotypenumbers": "strict",
          "coloraxis": {
           "colorbar": {
            "outlinewidth": 0,
            "ticks": ""
           }
          },
          "colorscale": {
           "diverging": [
            [
             0,
             "#8e0152"
            ],
            [
             0.1,
             "#c51b7d"
            ],
            [
             0.2,
             "#de77ae"
            ],
            [
             0.3,
             "#f1b6da"
            ],
            [
             0.4,
             "#fde0ef"
            ],
            [
             0.5,
             "#f7f7f7"
            ],
            [
             0.6,
             "#e6f5d0"
            ],
            [
             0.7,
             "#b8e186"
            ],
            [
             0.8,
             "#7fbc41"
            ],
            [
             0.9,
             "#4d9221"
            ],
            [
             1,
             "#276419"
            ]
           ],
           "sequential": [
            [
             0,
             "#0d0887"
            ],
            [
             0.1111111111111111,
             "#46039f"
            ],
            [
             0.2222222222222222,
             "#7201a8"
            ],
            [
             0.3333333333333333,
             "#9c179e"
            ],
            [
             0.4444444444444444,
             "#bd3786"
            ],
            [
             0.5555555555555556,
             "#d8576b"
            ],
            [
             0.6666666666666666,
             "#ed7953"
            ],
            [
             0.7777777777777778,
             "#fb9f3a"
            ],
            [
             0.8888888888888888,
             "#fdca26"
            ],
            [
             1,
             "#f0f921"
            ]
           ],
           "sequentialminus": [
            [
             0,
             "#0d0887"
            ],
            [
             0.1111111111111111,
             "#46039f"
            ],
            [
             0.2222222222222222,
             "#7201a8"
            ],
            [
             0.3333333333333333,
             "#9c179e"
            ],
            [
             0.4444444444444444,
             "#bd3786"
            ],
            [
             0.5555555555555556,
             "#d8576b"
            ],
            [
             0.6666666666666666,
             "#ed7953"
            ],
            [
             0.7777777777777778,
             "#fb9f3a"
            ],
            [
             0.8888888888888888,
             "#fdca26"
            ],
            [
             1,
             "#f0f921"
            ]
           ]
          },
          "colorway": [
           "#636efa",
           "#EF553B",
           "#00cc96",
           "#ab63fa",
           "#FFA15A",
           "#19d3f3",
           "#FF6692",
           "#B6E880",
           "#FF97FF",
           "#FECB52"
          ],
          "font": {
           "color": "#2a3f5f"
          },
          "geo": {
           "bgcolor": "white",
           "lakecolor": "white",
           "landcolor": "#E5ECF6",
           "showlakes": true,
           "showland": true,
           "subunitcolor": "white"
          },
          "hoverlabel": {
           "align": "left"
          },
          "hovermode": "closest",
          "mapbox": {
           "style": "light"
          },
          "paper_bgcolor": "white",
          "plot_bgcolor": "#E5ECF6",
          "polar": {
           "angularaxis": {
            "gridcolor": "white",
            "linecolor": "white",
            "ticks": ""
           },
           "bgcolor": "#E5ECF6",
           "radialaxis": {
            "gridcolor": "white",
            "linecolor": "white",
            "ticks": ""
           }
          },
          "scene": {
           "xaxis": {
            "backgroundcolor": "#E5ECF6",
            "gridcolor": "white",
            "gridwidth": 2,
            "linecolor": "white",
            "showbackground": true,
            "ticks": "",
            "zerolinecolor": "white"
           },
           "yaxis": {
            "backgroundcolor": "#E5ECF6",
            "gridcolor": "white",
            "gridwidth": 2,
            "linecolor": "white",
            "showbackground": true,
            "ticks": "",
            "zerolinecolor": "white"
           },
           "zaxis": {
            "backgroundcolor": "#E5ECF6",
            "gridcolor": "white",
            "gridwidth": 2,
            "linecolor": "white",
            "showbackground": true,
            "ticks": "",
            "zerolinecolor": "white"
           }
          },
          "shapedefaults": {
           "line": {
            "color": "#2a3f5f"
           }
          },
          "ternary": {
           "aaxis": {
            "gridcolor": "white",
            "linecolor": "white",
            "ticks": ""
           },
           "baxis": {
            "gridcolor": "white",
            "linecolor": "white",
            "ticks": ""
           },
           "bgcolor": "#E5ECF6",
           "caxis": {
            "gridcolor": "white",
            "linecolor": "white",
            "ticks": ""
           }
          },
          "title": {
           "x": 0.05
          },
          "xaxis": {
           "automargin": true,
           "gridcolor": "white",
           "linecolor": "white",
           "ticks": "",
           "title": {
            "standoff": 15
           },
           "zerolinecolor": "white",
           "zerolinewidth": 2
          },
          "yaxis": {
           "automargin": true,
           "gridcolor": "white",
           "linecolor": "white",
           "ticks": "",
           "title": {
            "standoff": 15
           },
           "zerolinecolor": "white",
           "zerolinewidth": 2
          }
         }
        },
        "title": {
         "text": "Número de IPS por Naturaleza Juridica - 2022"
        },
        "width": 500,
        "xaxis": {
         "anchor": "y",
         "domain": [
          0,
          1
         ],
         "title": {
          "text": ""
         }
        },
        "yaxis": {
         "anchor": "x",
         "domain": [
          0,
          1
         ],
         "range": [
          0,
          20000
         ],
         "title": {
          "text": "Número IPS"
         }
        }
       }
      }
     },
     "metadata": {},
     "output_type": "display_data"
    }
   ],
   "source": [
    "color_palette = {\n",
    "    'Privada': '#3364C7',\n",
    "    'Pública': '#8CBCB9',\n",
    "    'Mixta': '#826251'\n",
    "}\n",
    "\n",
    "fig = px.bar(df_num_reps_naturaleza_global, \n",
    "             x='Category',\n",
    "             y='IPS_2022',\n",
    "             color='NaturalezaJuridica',\n",
    "             barmode='stack',\n",
    "             width=500,\n",
    "             height=500,\n",
    "             color_discrete_map=color_palette,\n",
    "             title='Número de IPS por Naturaleza Juridica - 2022',\n",
    "             )\n",
    "\n",
    "fig.update_yaxes(range=[0,20000])\n",
    "fig.update_xaxes(title_text='')\n",
    "fig.update_yaxes(title_text='Número IPS')\n",
    "\n",
    "fig.update_layout(legend_title_text='Legends', legend=dict(title=dict(text='Naturaleza Jurídica')))\n",
    "\n",
    "# Show the plot\n",
    "fig.show()"
   ]
  },
  {
   "cell_type": "code",
   "execution_count": 259,
   "metadata": {},
   "outputs": [
    {
     "data": {
      "application/vnd.plotly.v1+json": {
       "config": {
        "plotlyServerURL": "https://plot.ly"
       },
       "data": [
        {
         "alignmentgroup": "True",
         "hovertemplate": "NaturalezaJuridica=Mixta<br>Category=%{x}<br>Porcentaje=%{y}<extra></extra>",
         "legendgroup": "Mixta",
         "marker": {
          "color": "#826251",
          "pattern": {
           "shape": ""
          }
         },
         "name": "Mixta",
         "offsetgroup": "Mixta",
         "orientation": "v",
         "showlegend": true,
         "textposition": "auto",
         "type": "bar",
         "x": [
          ""
         ],
         "xaxis": "x",
         "y": [
          0.3
         ],
         "yaxis": "y"
        },
        {
         "alignmentgroup": "True",
         "hovertemplate": "NaturalezaJuridica=Privada<br>Category=%{x}<br>Porcentaje=%{y}<extra></extra>",
         "legendgroup": "Privada",
         "marker": {
          "color": "#3364C7",
          "pattern": {
           "shape": ""
          }
         },
         "name": "Privada",
         "offsetgroup": "Privada",
         "orientation": "v",
         "showlegend": true,
         "textposition": "auto",
         "type": "bar",
         "x": [
          ""
         ],
         "xaxis": "x",
         "y": [
          81.34
         ],
         "yaxis": "y"
        },
        {
         "alignmentgroup": "True",
         "hovertemplate": "NaturalezaJuridica=Pública<br>Category=%{x}<br>Porcentaje=%{y}<extra></extra>",
         "legendgroup": "Pública",
         "marker": {
          "color": "#8CBCB9",
          "pattern": {
           "shape": ""
          }
         },
         "name": "Pública",
         "offsetgroup": "Pública",
         "orientation": "v",
         "showlegend": true,
         "textposition": "auto",
         "type": "bar",
         "x": [
          ""
         ],
         "xaxis": "x",
         "y": [
          18.36
         ],
         "yaxis": "y"
        }
       ],
       "layout": {
        "barmode": "stack",
        "height": 500,
        "legend": {
         "title": {
          "text": "Naturaleza Jurídica"
         },
         "tracegroupgap": 0
        },
        "template": {
         "data": {
          "bar": [
           {
            "error_x": {
             "color": "#2a3f5f"
            },
            "error_y": {
             "color": "#2a3f5f"
            },
            "marker": {
             "line": {
              "color": "#E5ECF6",
              "width": 0.5
             },
             "pattern": {
              "fillmode": "overlay",
              "size": 10,
              "solidity": 0.2
             }
            },
            "type": "bar"
           }
          ],
          "barpolar": [
           {
            "marker": {
             "line": {
              "color": "#E5ECF6",
              "width": 0.5
             },
             "pattern": {
              "fillmode": "overlay",
              "size": 10,
              "solidity": 0.2
             }
            },
            "type": "barpolar"
           }
          ],
          "carpet": [
           {
            "aaxis": {
             "endlinecolor": "#2a3f5f",
             "gridcolor": "white",
             "linecolor": "white",
             "minorgridcolor": "white",
             "startlinecolor": "#2a3f5f"
            },
            "baxis": {
             "endlinecolor": "#2a3f5f",
             "gridcolor": "white",
             "linecolor": "white",
             "minorgridcolor": "white",
             "startlinecolor": "#2a3f5f"
            },
            "type": "carpet"
           }
          ],
          "choropleth": [
           {
            "colorbar": {
             "outlinewidth": 0,
             "ticks": ""
            },
            "type": "choropleth"
           }
          ],
          "contour": [
           {
            "colorbar": {
             "outlinewidth": 0,
             "ticks": ""
            },
            "colorscale": [
             [
              0,
              "#0d0887"
             ],
             [
              0.1111111111111111,
              "#46039f"
             ],
             [
              0.2222222222222222,
              "#7201a8"
             ],
             [
              0.3333333333333333,
              "#9c179e"
             ],
             [
              0.4444444444444444,
              "#bd3786"
             ],
             [
              0.5555555555555556,
              "#d8576b"
             ],
             [
              0.6666666666666666,
              "#ed7953"
             ],
             [
              0.7777777777777778,
              "#fb9f3a"
             ],
             [
              0.8888888888888888,
              "#fdca26"
             ],
             [
              1,
              "#f0f921"
             ]
            ],
            "type": "contour"
           }
          ],
          "contourcarpet": [
           {
            "colorbar": {
             "outlinewidth": 0,
             "ticks": ""
            },
            "type": "contourcarpet"
           }
          ],
          "heatmap": [
           {
            "colorbar": {
             "outlinewidth": 0,
             "ticks": ""
            },
            "colorscale": [
             [
              0,
              "#0d0887"
             ],
             [
              0.1111111111111111,
              "#46039f"
             ],
             [
              0.2222222222222222,
              "#7201a8"
             ],
             [
              0.3333333333333333,
              "#9c179e"
             ],
             [
              0.4444444444444444,
              "#bd3786"
             ],
             [
              0.5555555555555556,
              "#d8576b"
             ],
             [
              0.6666666666666666,
              "#ed7953"
             ],
             [
              0.7777777777777778,
              "#fb9f3a"
             ],
             [
              0.8888888888888888,
              "#fdca26"
             ],
             [
              1,
              "#f0f921"
             ]
            ],
            "type": "heatmap"
           }
          ],
          "heatmapgl": [
           {
            "colorbar": {
             "outlinewidth": 0,
             "ticks": ""
            },
            "colorscale": [
             [
              0,
              "#0d0887"
             ],
             [
              0.1111111111111111,
              "#46039f"
             ],
             [
              0.2222222222222222,
              "#7201a8"
             ],
             [
              0.3333333333333333,
              "#9c179e"
             ],
             [
              0.4444444444444444,
              "#bd3786"
             ],
             [
              0.5555555555555556,
              "#d8576b"
             ],
             [
              0.6666666666666666,
              "#ed7953"
             ],
             [
              0.7777777777777778,
              "#fb9f3a"
             ],
             [
              0.8888888888888888,
              "#fdca26"
             ],
             [
              1,
              "#f0f921"
             ]
            ],
            "type": "heatmapgl"
           }
          ],
          "histogram": [
           {
            "marker": {
             "pattern": {
              "fillmode": "overlay",
              "size": 10,
              "solidity": 0.2
             }
            },
            "type": "histogram"
           }
          ],
          "histogram2d": [
           {
            "colorbar": {
             "outlinewidth": 0,
             "ticks": ""
            },
            "colorscale": [
             [
              0,
              "#0d0887"
             ],
             [
              0.1111111111111111,
              "#46039f"
             ],
             [
              0.2222222222222222,
              "#7201a8"
             ],
             [
              0.3333333333333333,
              "#9c179e"
             ],
             [
              0.4444444444444444,
              "#bd3786"
             ],
             [
              0.5555555555555556,
              "#d8576b"
             ],
             [
              0.6666666666666666,
              "#ed7953"
             ],
             [
              0.7777777777777778,
              "#fb9f3a"
             ],
             [
              0.8888888888888888,
              "#fdca26"
             ],
             [
              1,
              "#f0f921"
             ]
            ],
            "type": "histogram2d"
           }
          ],
          "histogram2dcontour": [
           {
            "colorbar": {
             "outlinewidth": 0,
             "ticks": ""
            },
            "colorscale": [
             [
              0,
              "#0d0887"
             ],
             [
              0.1111111111111111,
              "#46039f"
             ],
             [
              0.2222222222222222,
              "#7201a8"
             ],
             [
              0.3333333333333333,
              "#9c179e"
             ],
             [
              0.4444444444444444,
              "#bd3786"
             ],
             [
              0.5555555555555556,
              "#d8576b"
             ],
             [
              0.6666666666666666,
              "#ed7953"
             ],
             [
              0.7777777777777778,
              "#fb9f3a"
             ],
             [
              0.8888888888888888,
              "#fdca26"
             ],
             [
              1,
              "#f0f921"
             ]
            ],
            "type": "histogram2dcontour"
           }
          ],
          "mesh3d": [
           {
            "colorbar": {
             "outlinewidth": 0,
             "ticks": ""
            },
            "type": "mesh3d"
           }
          ],
          "parcoords": [
           {
            "line": {
             "colorbar": {
              "outlinewidth": 0,
              "ticks": ""
             }
            },
            "type": "parcoords"
           }
          ],
          "pie": [
           {
            "automargin": true,
            "type": "pie"
           }
          ],
          "scatter": [
           {
            "fillpattern": {
             "fillmode": "overlay",
             "size": 10,
             "solidity": 0.2
            },
            "type": "scatter"
           }
          ],
          "scatter3d": [
           {
            "line": {
             "colorbar": {
              "outlinewidth": 0,
              "ticks": ""
             }
            },
            "marker": {
             "colorbar": {
              "outlinewidth": 0,
              "ticks": ""
             }
            },
            "type": "scatter3d"
           }
          ],
          "scattercarpet": [
           {
            "marker": {
             "colorbar": {
              "outlinewidth": 0,
              "ticks": ""
             }
            },
            "type": "scattercarpet"
           }
          ],
          "scattergeo": [
           {
            "marker": {
             "colorbar": {
              "outlinewidth": 0,
              "ticks": ""
             }
            },
            "type": "scattergeo"
           }
          ],
          "scattergl": [
           {
            "marker": {
             "colorbar": {
              "outlinewidth": 0,
              "ticks": ""
             }
            },
            "type": "scattergl"
           }
          ],
          "scattermapbox": [
           {
            "marker": {
             "colorbar": {
              "outlinewidth": 0,
              "ticks": ""
             }
            },
            "type": "scattermapbox"
           }
          ],
          "scatterpolar": [
           {
            "marker": {
             "colorbar": {
              "outlinewidth": 0,
              "ticks": ""
             }
            },
            "type": "scatterpolar"
           }
          ],
          "scatterpolargl": [
           {
            "marker": {
             "colorbar": {
              "outlinewidth": 0,
              "ticks": ""
             }
            },
            "type": "scatterpolargl"
           }
          ],
          "scatterternary": [
           {
            "marker": {
             "colorbar": {
              "outlinewidth": 0,
              "ticks": ""
             }
            },
            "type": "scatterternary"
           }
          ],
          "surface": [
           {
            "colorbar": {
             "outlinewidth": 0,
             "ticks": ""
            },
            "colorscale": [
             [
              0,
              "#0d0887"
             ],
             [
              0.1111111111111111,
              "#46039f"
             ],
             [
              0.2222222222222222,
              "#7201a8"
             ],
             [
              0.3333333333333333,
              "#9c179e"
             ],
             [
              0.4444444444444444,
              "#bd3786"
             ],
             [
              0.5555555555555556,
              "#d8576b"
             ],
             [
              0.6666666666666666,
              "#ed7953"
             ],
             [
              0.7777777777777778,
              "#fb9f3a"
             ],
             [
              0.8888888888888888,
              "#fdca26"
             ],
             [
              1,
              "#f0f921"
             ]
            ],
            "type": "surface"
           }
          ],
          "table": [
           {
            "cells": {
             "fill": {
              "color": "#EBF0F8"
             },
             "line": {
              "color": "white"
             }
            },
            "header": {
             "fill": {
              "color": "#C8D4E3"
             },
             "line": {
              "color": "white"
             }
            },
            "type": "table"
           }
          ]
         },
         "layout": {
          "annotationdefaults": {
           "arrowcolor": "#2a3f5f",
           "arrowhead": 0,
           "arrowwidth": 1
          },
          "autotypenumbers": "strict",
          "coloraxis": {
           "colorbar": {
            "outlinewidth": 0,
            "ticks": ""
           }
          },
          "colorscale": {
           "diverging": [
            [
             0,
             "#8e0152"
            ],
            [
             0.1,
             "#c51b7d"
            ],
            [
             0.2,
             "#de77ae"
            ],
            [
             0.3,
             "#f1b6da"
            ],
            [
             0.4,
             "#fde0ef"
            ],
            [
             0.5,
             "#f7f7f7"
            ],
            [
             0.6,
             "#e6f5d0"
            ],
            [
             0.7,
             "#b8e186"
            ],
            [
             0.8,
             "#7fbc41"
            ],
            [
             0.9,
             "#4d9221"
            ],
            [
             1,
             "#276419"
            ]
           ],
           "sequential": [
            [
             0,
             "#0d0887"
            ],
            [
             0.1111111111111111,
             "#46039f"
            ],
            [
             0.2222222222222222,
             "#7201a8"
            ],
            [
             0.3333333333333333,
             "#9c179e"
            ],
            [
             0.4444444444444444,
             "#bd3786"
            ],
            [
             0.5555555555555556,
             "#d8576b"
            ],
            [
             0.6666666666666666,
             "#ed7953"
            ],
            [
             0.7777777777777778,
             "#fb9f3a"
            ],
            [
             0.8888888888888888,
             "#fdca26"
            ],
            [
             1,
             "#f0f921"
            ]
           ],
           "sequentialminus": [
            [
             0,
             "#0d0887"
            ],
            [
             0.1111111111111111,
             "#46039f"
            ],
            [
             0.2222222222222222,
             "#7201a8"
            ],
            [
             0.3333333333333333,
             "#9c179e"
            ],
            [
             0.4444444444444444,
             "#bd3786"
            ],
            [
             0.5555555555555556,
             "#d8576b"
            ],
            [
             0.6666666666666666,
             "#ed7953"
            ],
            [
             0.7777777777777778,
             "#fb9f3a"
            ],
            [
             0.8888888888888888,
             "#fdca26"
            ],
            [
             1,
             "#f0f921"
            ]
           ]
          },
          "colorway": [
           "#636efa",
           "#EF553B",
           "#00cc96",
           "#ab63fa",
           "#FFA15A",
           "#19d3f3",
           "#FF6692",
           "#B6E880",
           "#FF97FF",
           "#FECB52"
          ],
          "font": {
           "color": "#2a3f5f"
          },
          "geo": {
           "bgcolor": "white",
           "lakecolor": "white",
           "landcolor": "#E5ECF6",
           "showlakes": true,
           "showland": true,
           "subunitcolor": "white"
          },
          "hoverlabel": {
           "align": "left"
          },
          "hovermode": "closest",
          "mapbox": {
           "style": "light"
          },
          "paper_bgcolor": "white",
          "plot_bgcolor": "#E5ECF6",
          "polar": {
           "angularaxis": {
            "gridcolor": "white",
            "linecolor": "white",
            "ticks": ""
           },
           "bgcolor": "#E5ECF6",
           "radialaxis": {
            "gridcolor": "white",
            "linecolor": "white",
            "ticks": ""
           }
          },
          "scene": {
           "xaxis": {
            "backgroundcolor": "#E5ECF6",
            "gridcolor": "white",
            "gridwidth": 2,
            "linecolor": "white",
            "showbackground": true,
            "ticks": "",
            "zerolinecolor": "white"
           },
           "yaxis": {
            "backgroundcolor": "#E5ECF6",
            "gridcolor": "white",
            "gridwidth": 2,
            "linecolor": "white",
            "showbackground": true,
            "ticks": "",
            "zerolinecolor": "white"
           },
           "zaxis": {
            "backgroundcolor": "#E5ECF6",
            "gridcolor": "white",
            "gridwidth": 2,
            "linecolor": "white",
            "showbackground": true,
            "ticks": "",
            "zerolinecolor": "white"
           }
          },
          "shapedefaults": {
           "line": {
            "color": "#2a3f5f"
           }
          },
          "ternary": {
           "aaxis": {
            "gridcolor": "white",
            "linecolor": "white",
            "ticks": ""
           },
           "baxis": {
            "gridcolor": "white",
            "linecolor": "white",
            "ticks": ""
           },
           "bgcolor": "#E5ECF6",
           "caxis": {
            "gridcolor": "white",
            "linecolor": "white",
            "ticks": ""
           }
          },
          "title": {
           "x": 0.05
          },
          "xaxis": {
           "automargin": true,
           "gridcolor": "white",
           "linecolor": "white",
           "ticks": "",
           "title": {
            "standoff": 15
           },
           "zerolinecolor": "white",
           "zerolinewidth": 2
          },
          "yaxis": {
           "automargin": true,
           "gridcolor": "white",
           "linecolor": "white",
           "ticks": "",
           "title": {
            "standoff": 15
           },
           "zerolinecolor": "white",
           "zerolinewidth": 2
          }
         }
        },
        "title": {
         "text": "Porcentaje de IPS por Naturaleza Juridica - 2022"
        },
        "width": 500,
        "xaxis": {
         "anchor": "y",
         "domain": [
          0,
          1
         ],
         "title": {
          "text": ""
         }
        },
        "yaxis": {
         "anchor": "x",
         "domain": [
          0,
          1
         ],
         "range": [
          0,
          100
         ],
         "title": {
          "text": "Porcentaje IPS"
         }
        }
       }
      }
     },
     "metadata": {},
     "output_type": "display_data"
    }
   ],
   "source": [
    "color_palette = {\n",
    "    'Privada': '#3364C7',\n",
    "    'Pública': '#8CBCB9',\n",
    "    'Mixta': '#826251'\n",
    "}\n",
    "\n",
    "fig = px.bar(df_num_reps_naturaleza_global, \n",
    "             x='Category',\n",
    "             y='Porcentaje',\n",
    "             color='NaturalezaJuridica',\n",
    "             barmode='stack',\n",
    "             width=500,\n",
    "             height=500,\n",
    "             color_discrete_map=color_palette,\n",
    "             title='Porcentaje de IPS por Naturaleza Juridica - 2022',\n",
    "             )\n",
    "\n",
    "fig.update_yaxes(range=[0,100])\n",
    "fig.update_xaxes(title_text='')\n",
    "fig.update_yaxes(title_text='Porcentaje IPS')\n",
    "\n",
    "fig.update_layout(legend_title_text='Legends', legend=dict(title=dict(text='Naturaleza Jurídica')))\n",
    "\n",
    "# Show the plot\n",
    "fig.show()"
   ]
  },
  {
   "cell_type": "markdown",
   "metadata": {},
   "source": [
    "# Distribucion Naturaleza Juridica por Departamento IPS - 2022"
   ]
  },
  {
   "cell_type": "code",
   "execution_count": 260,
   "metadata": {},
   "outputs": [
    {
     "data": {
      "text/html": [
       "<div>\n",
       "<style scoped>\n",
       "    .dataframe tbody tr th:only-of-type {\n",
       "        vertical-align: middle;\n",
       "    }\n",
       "\n",
       "    .dataframe tbody tr th {\n",
       "        vertical-align: top;\n",
       "    }\n",
       "\n",
       "    .dataframe thead th {\n",
       "        text-align: right;\n",
       "    }\n",
       "</style>\n",
       "<table border=\"1\" class=\"dataframe\">\n",
       "  <thead>\n",
       "    <tr style=\"text-align: right;\">\n",
       "      <th></th>\n",
       "      <th>Departamento</th>\n",
       "      <th>NaturalezaJuridica</th>\n",
       "      <th>IPS_2022</th>\n",
       "    </tr>\n",
       "  </thead>\n",
       "  <tbody>\n",
       "    <tr>\n",
       "      <th>0</th>\n",
       "      <td>Amazonas</td>\n",
       "      <td>Mixta</td>\n",
       "      <td>0.0</td>\n",
       "    </tr>\n",
       "    <tr>\n",
       "      <th>1</th>\n",
       "      <td>Amazonas</td>\n",
       "      <td>Privada</td>\n",
       "      <td>13.0</td>\n",
       "    </tr>\n",
       "    <tr>\n",
       "      <th>2</th>\n",
       "      <td>Amazonas</td>\n",
       "      <td>Pública</td>\n",
       "      <td>12.0</td>\n",
       "    </tr>\n",
       "    <tr>\n",
       "      <th>3</th>\n",
       "      <td>Antioquia</td>\n",
       "      <td>Mixta</td>\n",
       "      <td>8.0</td>\n",
       "    </tr>\n",
       "    <tr>\n",
       "      <th>4</th>\n",
       "      <td>Antioquia</td>\n",
       "      <td>Privada</td>\n",
       "      <td>1861.0</td>\n",
       "    </tr>\n",
       "    <tr>\n",
       "      <th>...</th>\n",
       "      <td>...</td>\n",
       "      <td>...</td>\n",
       "      <td>...</td>\n",
       "    </tr>\n",
       "    <tr>\n",
       "      <th>94</th>\n",
       "      <td>Vaupés</td>\n",
       "      <td>Privada</td>\n",
       "      <td>1.0</td>\n",
       "    </tr>\n",
       "    <tr>\n",
       "      <th>95</th>\n",
       "      <td>Vaupés</td>\n",
       "      <td>Pública</td>\n",
       "      <td>54.0</td>\n",
       "    </tr>\n",
       "    <tr>\n",
       "      <th>96</th>\n",
       "      <td>Vichada</td>\n",
       "      <td>Mixta</td>\n",
       "      <td>0.0</td>\n",
       "    </tr>\n",
       "    <tr>\n",
       "      <th>97</th>\n",
       "      <td>Vichada</td>\n",
       "      <td>Privada</td>\n",
       "      <td>8.0</td>\n",
       "    </tr>\n",
       "    <tr>\n",
       "      <th>98</th>\n",
       "      <td>Vichada</td>\n",
       "      <td>Pública</td>\n",
       "      <td>4.0</td>\n",
       "    </tr>\n",
       "  </tbody>\n",
       "</table>\n",
       "<p>99 rows × 3 columns</p>\n",
       "</div>"
      ],
      "text/plain": [
       "   Departamento NaturalezaJuridica  IPS_2022\n",
       "0      Amazonas              Mixta       0.0\n",
       "1      Amazonas            Privada      13.0\n",
       "2      Amazonas            Pública      12.0\n",
       "3     Antioquia              Mixta       8.0\n",
       "4     Antioquia            Privada    1861.0\n",
       "..          ...                ...       ...\n",
       "94       Vaupés            Privada       1.0\n",
       "95       Vaupés            Pública      54.0\n",
       "96      Vichada              Mixta       0.0\n",
       "97      Vichada            Privada       8.0\n",
       "98      Vichada            Pública       4.0\n",
       "\n",
       "[99 rows x 3 columns]"
      ]
     },
     "execution_count": 260,
     "metadata": {},
     "output_type": "execute_result"
    }
   ],
   "source": [
    "df_num_reps_naturaleza = df_reps.groupby(['Departamento', 'NaturalezaJuridica']).agg(IPS_2022=('codigo_habilitacion_sede', 'count')).unstack().fillna(0).stack().reset_index()\n",
    "df_num_reps_naturaleza"
   ]
  },
  {
   "cell_type": "code",
   "execution_count": 261,
   "metadata": {},
   "outputs": [],
   "source": [
    "df_num_reps_naturaleza = df_reps.pivot_table(values='codigo_habilitacion_sede', index='Departamento', columns='NaturalezaJuridica', aggfunc='count').fillna(0).reset_index()\n",
    "\n",
    "df_num_reps_porcentaje = df_num_reps_naturaleza[['Departamento']].copy()\n",
    "\n",
    "df_num_reps_porcentaje['Mixta'] = (df_num_reps_naturaleza['Mixta'] / (df_num_reps_naturaleza['Mixta'] + df_num_reps_naturaleza['Privada'] + df_num_reps_naturaleza['Pública']) * 100).round(2)\n",
    "df_num_reps_porcentaje['Privada'] = (df_num_reps_naturaleza['Privada'] / (df_num_reps_naturaleza['Mixta'] + df_num_reps_naturaleza['Privada'] + df_num_reps_naturaleza['Pública']) * 100).round(2)\n",
    "df_num_reps_porcentaje['Pública'] = (df_num_reps_naturaleza['Pública'] / (df_num_reps_naturaleza['Mixta'] + df_num_reps_naturaleza['Privada'] + df_num_reps_naturaleza['Pública']) * 100).round(2)\n",
    "\n",
    "df_num_reps_porcentaje = df_num_reps_porcentaje.set_index('Departamento').stack().reset_index()\n",
    "\n",
    "df_num_reps_porcentaje.columns = ['Departamento', 'NaturalezaJuridica', 'IPS_2022']\n",
    "\n",
    "df_num_reps_naturaleza = df_num_reps_naturaleza.set_index('Departamento').stack().reset_index()\n",
    "df_num_reps_naturaleza.columns = ['Departamento', 'NaturalezaJuridica', 'IPS_2022']"
   ]
  },
  {
   "cell_type": "code",
   "execution_count": 262,
   "metadata": {},
   "outputs": [
    {
     "data": {
      "text/html": [
       "<div>\n",
       "<style scoped>\n",
       "    .dataframe tbody tr th:only-of-type {\n",
       "        vertical-align: middle;\n",
       "    }\n",
       "\n",
       "    .dataframe tbody tr th {\n",
       "        vertical-align: top;\n",
       "    }\n",
       "\n",
       "    .dataframe thead th {\n",
       "        text-align: right;\n",
       "    }\n",
       "</style>\n",
       "<table border=\"1\" class=\"dataframe\">\n",
       "  <thead>\n",
       "    <tr style=\"text-align: right;\">\n",
       "      <th></th>\n",
       "      <th>Departamento</th>\n",
       "      <th>NaturalezaJuridica</th>\n",
       "      <th>IPS_2022</th>\n",
       "    </tr>\n",
       "  </thead>\n",
       "  <tbody>\n",
       "    <tr>\n",
       "      <th>0</th>\n",
       "      <td>Amazonas</td>\n",
       "      <td>Mixta</td>\n",
       "      <td>0.0</td>\n",
       "    </tr>\n",
       "    <tr>\n",
       "      <th>1</th>\n",
       "      <td>Amazonas</td>\n",
       "      <td>Privada</td>\n",
       "      <td>13.0</td>\n",
       "    </tr>\n",
       "    <tr>\n",
       "      <th>2</th>\n",
       "      <td>Amazonas</td>\n",
       "      <td>Pública</td>\n",
       "      <td>12.0</td>\n",
       "    </tr>\n",
       "    <tr>\n",
       "      <th>3</th>\n",
       "      <td>Antioquia</td>\n",
       "      <td>Mixta</td>\n",
       "      <td>8.0</td>\n",
       "    </tr>\n",
       "    <tr>\n",
       "      <th>4</th>\n",
       "      <td>Antioquia</td>\n",
       "      <td>Privada</td>\n",
       "      <td>1861.0</td>\n",
       "    </tr>\n",
       "    <tr>\n",
       "      <th>...</th>\n",
       "      <td>...</td>\n",
       "      <td>...</td>\n",
       "      <td>...</td>\n",
       "    </tr>\n",
       "    <tr>\n",
       "      <th>94</th>\n",
       "      <td>Vaupés</td>\n",
       "      <td>Privada</td>\n",
       "      <td>1.0</td>\n",
       "    </tr>\n",
       "    <tr>\n",
       "      <th>95</th>\n",
       "      <td>Vaupés</td>\n",
       "      <td>Pública</td>\n",
       "      <td>54.0</td>\n",
       "    </tr>\n",
       "    <tr>\n",
       "      <th>96</th>\n",
       "      <td>Vichada</td>\n",
       "      <td>Mixta</td>\n",
       "      <td>0.0</td>\n",
       "    </tr>\n",
       "    <tr>\n",
       "      <th>97</th>\n",
       "      <td>Vichada</td>\n",
       "      <td>Privada</td>\n",
       "      <td>8.0</td>\n",
       "    </tr>\n",
       "    <tr>\n",
       "      <th>98</th>\n",
       "      <td>Vichada</td>\n",
       "      <td>Pública</td>\n",
       "      <td>4.0</td>\n",
       "    </tr>\n",
       "  </tbody>\n",
       "</table>\n",
       "<p>99 rows × 3 columns</p>\n",
       "</div>"
      ],
      "text/plain": [
       "   Departamento NaturalezaJuridica  IPS_2022\n",
       "0      Amazonas              Mixta       0.0\n",
       "1      Amazonas            Privada      13.0\n",
       "2      Amazonas            Pública      12.0\n",
       "3     Antioquia              Mixta       8.0\n",
       "4     Antioquia            Privada    1861.0\n",
       "..          ...                ...       ...\n",
       "94       Vaupés            Privada       1.0\n",
       "95       Vaupés            Pública      54.0\n",
       "96      Vichada              Mixta       0.0\n",
       "97      Vichada            Privada       8.0\n",
       "98      Vichada            Pública       4.0\n",
       "\n",
       "[99 rows x 3 columns]"
      ]
     },
     "execution_count": 262,
     "metadata": {},
     "output_type": "execute_result"
    }
   ],
   "source": [
    "df_num_reps_naturaleza"
   ]
  },
  {
   "cell_type": "code",
   "execution_count": 263,
   "metadata": {},
   "outputs": [
    {
     "data": {
      "text/html": [
       "<div>\n",
       "<style scoped>\n",
       "    .dataframe tbody tr th:only-of-type {\n",
       "        vertical-align: middle;\n",
       "    }\n",
       "\n",
       "    .dataframe tbody tr th {\n",
       "        vertical-align: top;\n",
       "    }\n",
       "\n",
       "    .dataframe thead th {\n",
       "        text-align: right;\n",
       "    }\n",
       "</style>\n",
       "<table border=\"1\" class=\"dataframe\">\n",
       "  <thead>\n",
       "    <tr style=\"text-align: right;\">\n",
       "      <th></th>\n",
       "      <th>Departamento</th>\n",
       "      <th>NaturalezaJuridica</th>\n",
       "      <th>IPS_2022</th>\n",
       "    </tr>\n",
       "  </thead>\n",
       "  <tbody>\n",
       "    <tr>\n",
       "      <th>0</th>\n",
       "      <td>Amazonas</td>\n",
       "      <td>Mixta</td>\n",
       "      <td>0.00</td>\n",
       "    </tr>\n",
       "    <tr>\n",
       "      <th>1</th>\n",
       "      <td>Amazonas</td>\n",
       "      <td>Privada</td>\n",
       "      <td>52.00</td>\n",
       "    </tr>\n",
       "    <tr>\n",
       "      <th>2</th>\n",
       "      <td>Amazonas</td>\n",
       "      <td>Pública</td>\n",
       "      <td>48.00</td>\n",
       "    </tr>\n",
       "    <tr>\n",
       "      <th>3</th>\n",
       "      <td>Antioquia</td>\n",
       "      <td>Mixta</td>\n",
       "      <td>0.37</td>\n",
       "    </tr>\n",
       "    <tr>\n",
       "      <th>4</th>\n",
       "      <td>Antioquia</td>\n",
       "      <td>Privada</td>\n",
       "      <td>86.76</td>\n",
       "    </tr>\n",
       "    <tr>\n",
       "      <th>...</th>\n",
       "      <td>...</td>\n",
       "      <td>...</td>\n",
       "      <td>...</td>\n",
       "    </tr>\n",
       "    <tr>\n",
       "      <th>94</th>\n",
       "      <td>Vaupés</td>\n",
       "      <td>Privada</td>\n",
       "      <td>1.82</td>\n",
       "    </tr>\n",
       "    <tr>\n",
       "      <th>95</th>\n",
       "      <td>Vaupés</td>\n",
       "      <td>Pública</td>\n",
       "      <td>98.18</td>\n",
       "    </tr>\n",
       "    <tr>\n",
       "      <th>96</th>\n",
       "      <td>Vichada</td>\n",
       "      <td>Mixta</td>\n",
       "      <td>0.00</td>\n",
       "    </tr>\n",
       "    <tr>\n",
       "      <th>97</th>\n",
       "      <td>Vichada</td>\n",
       "      <td>Privada</td>\n",
       "      <td>66.67</td>\n",
       "    </tr>\n",
       "    <tr>\n",
       "      <th>98</th>\n",
       "      <td>Vichada</td>\n",
       "      <td>Pública</td>\n",
       "      <td>33.33</td>\n",
       "    </tr>\n",
       "  </tbody>\n",
       "</table>\n",
       "<p>99 rows × 3 columns</p>\n",
       "</div>"
      ],
      "text/plain": [
       "   Departamento NaturalezaJuridica  IPS_2022\n",
       "0      Amazonas              Mixta      0.00\n",
       "1      Amazonas            Privada     52.00\n",
       "2      Amazonas            Pública     48.00\n",
       "3     Antioquia              Mixta      0.37\n",
       "4     Antioquia            Privada     86.76\n",
       "..          ...                ...       ...\n",
       "94       Vaupés            Privada      1.82\n",
       "95       Vaupés            Pública     98.18\n",
       "96      Vichada              Mixta      0.00\n",
       "97      Vichada            Privada     66.67\n",
       "98      Vichada            Pública     33.33\n",
       "\n",
       "[99 rows x 3 columns]"
      ]
     },
     "execution_count": 263,
     "metadata": {},
     "output_type": "execute_result"
    }
   ],
   "source": [
    "df_num_reps_porcentaje"
   ]
  },
  {
   "cell_type": "code",
   "execution_count": 264,
   "metadata": {},
   "outputs": [
    {
     "data": {
      "text/html": [
       "<div>\n",
       "<style scoped>\n",
       "    .dataframe tbody tr th:only-of-type {\n",
       "        vertical-align: middle;\n",
       "    }\n",
       "\n",
       "    .dataframe tbody tr th {\n",
       "        vertical-align: top;\n",
       "    }\n",
       "\n",
       "    .dataframe thead th {\n",
       "        text-align: right;\n",
       "    }\n",
       "</style>\n",
       "<table border=\"1\" class=\"dataframe\">\n",
       "  <thead>\n",
       "    <tr style=\"text-align: right;\">\n",
       "      <th></th>\n",
       "      <th>Departamento</th>\n",
       "      <th>NaturalezaJuridica</th>\n",
       "      <th>IPS_2022</th>\n",
       "    </tr>\n",
       "  </thead>\n",
       "  <tbody>\n",
       "    <tr>\n",
       "      <th>0</th>\n",
       "      <td>Vichada</td>\n",
       "      <td>Mixta</td>\n",
       "      <td>0.0</td>\n",
       "    </tr>\n",
       "    <tr>\n",
       "      <th>1</th>\n",
       "      <td>Vichada</td>\n",
       "      <td>Privada</td>\n",
       "      <td>8.0</td>\n",
       "    </tr>\n",
       "    <tr>\n",
       "      <th>2</th>\n",
       "      <td>Vichada</td>\n",
       "      <td>Pública</td>\n",
       "      <td>4.0</td>\n",
       "    </tr>\n",
       "    <tr>\n",
       "      <th>3</th>\n",
       "      <td>Guainía</td>\n",
       "      <td>Mixta</td>\n",
       "      <td>1.0</td>\n",
       "    </tr>\n",
       "    <tr>\n",
       "      <th>4</th>\n",
       "      <td>Guainía</td>\n",
       "      <td>Privada</td>\n",
       "      <td>6.0</td>\n",
       "    </tr>\n",
       "    <tr>\n",
       "      <th>...</th>\n",
       "      <td>...</td>\n",
       "      <td>...</td>\n",
       "      <td>...</td>\n",
       "    </tr>\n",
       "    <tr>\n",
       "      <th>94</th>\n",
       "      <td>Antioquia</td>\n",
       "      <td>Privada</td>\n",
       "      <td>1861.0</td>\n",
       "    </tr>\n",
       "    <tr>\n",
       "      <th>95</th>\n",
       "      <td>Antioquia</td>\n",
       "      <td>Pública</td>\n",
       "      <td>276.0</td>\n",
       "    </tr>\n",
       "    <tr>\n",
       "      <th>96</th>\n",
       "      <td>Bogotá D.C</td>\n",
       "      <td>Mixta</td>\n",
       "      <td>1.0</td>\n",
       "    </tr>\n",
       "    <tr>\n",
       "      <th>97</th>\n",
       "      <td>Bogotá D.C</td>\n",
       "      <td>Privada</td>\n",
       "      <td>2769.0</td>\n",
       "    </tr>\n",
       "    <tr>\n",
       "      <th>98</th>\n",
       "      <td>Bogotá D.C</td>\n",
       "      <td>Pública</td>\n",
       "      <td>122.0</td>\n",
       "    </tr>\n",
       "  </tbody>\n",
       "</table>\n",
       "<p>99 rows × 3 columns</p>\n",
       "</div>"
      ],
      "text/plain": [
       "   Departamento NaturalezaJuridica  IPS_2022\n",
       "0       Vichada              Mixta       0.0\n",
       "1       Vichada            Privada       8.0\n",
       "2       Vichada            Pública       4.0\n",
       "3       Guainía              Mixta       1.0\n",
       "4       Guainía            Privada       6.0\n",
       "..          ...                ...       ...\n",
       "94    Antioquia            Privada    1861.0\n",
       "95    Antioquia            Pública     276.0\n",
       "96   Bogotá D.C              Mixta       1.0\n",
       "97   Bogotá D.C            Privada    2769.0\n",
       "98   Bogotá D.C            Pública     122.0\n",
       "\n",
       "[99 rows x 3 columns]"
      ]
     },
     "execution_count": 264,
     "metadata": {},
     "output_type": "execute_result"
    }
   ],
   "source": [
    "df_num_reps_naturaleza = pd.merge(df_num_reps[['Departamento']], df_num_reps_naturaleza, how='inner', on='Departamento')\n",
    "df_num_reps_naturaleza"
   ]
  },
  {
   "cell_type": "code",
   "execution_count": 265,
   "metadata": {},
   "outputs": [
    {
     "data": {
      "application/vnd.plotly.v1+json": {
       "config": {
        "plotlyServerURL": "https://plot.ly"
       },
       "data": [
        {
         "alignmentgroup": "True",
         "hovertemplate": "NaturalezaJuridica=Mixta<br>IPS_2022=%{x}<br>Departamento=%{y}<extra></extra>",
         "legendgroup": "Mixta",
         "marker": {
          "color": "#826251",
          "pattern": {
           "shape": ""
          }
         },
         "name": "Mixta",
         "offsetgroup": "Mixta",
         "orientation": "h",
         "showlegend": true,
         "textposition": "auto",
         "type": "bar",
         "x": [
          0,
          1,
          0,
          0,
          0,
          0,
          0,
          0,
          1,
          1,
          0,
          2,
          1,
          0,
          0,
          0,
          0,
          0,
          1,
          0,
          1,
          0,
          0,
          0,
          3,
          0,
          0,
          0,
          0,
          39,
          1,
          8,
          1
         ],
         "xaxis": "x",
         "y": [
          "Vichada",
          "Guainía",
          "San Andrés y Providencia",
          "Amazonas",
          "Guaviare",
          "Vaupés",
          "Caquetá",
          "Putumayo",
          "Arauca",
          "Casanare",
          "Quindío",
          "Chocó",
          "Caldas",
          "Risaralda",
          "Huila",
          "La Guajira",
          "Cauca",
          "Meta",
          "Sucre",
          "Norte de Santander",
          "Tolima",
          "Boyacá",
          "Cesar",
          "Magdalena",
          "Nariño",
          "Cundinamarca",
          "Córdoba",
          "Bolívar",
          "Santander",
          "Atlántico",
          "Valle del cauca",
          "Antioquia",
          "Bogotá D.C"
         ],
         "yaxis": "y"
        },
        {
         "alignmentgroup": "True",
         "hovertemplate": "NaturalezaJuridica=Privada<br>IPS_2022=%{x}<br>Departamento=%{y}<extra></extra>",
         "legendgroup": "Privada",
         "marker": {
          "color": "#3364C7",
          "pattern": {
           "shape": ""
          }
         },
         "name": "Privada",
         "offsetgroup": "Privada",
         "orientation": "h",
         "showlegend": true,
         "textposition": "auto",
         "type": "bar",
         "x": [
          8,
          6,
          21,
          13,
          23,
          1,
          83,
          95,
          92,
          178,
          205,
          227,
          276,
          317,
          291,
          274,
          331,
          416,
          437,
          386,
          400,
          406,
          467,
          505,
          446,
          634,
          599,
          755,
          884,
          1095,
          1544,
          1861,
          2769
         ],
         "xaxis": "x",
         "y": [
          "Vichada",
          "Guainía",
          "San Andrés y Providencia",
          "Amazonas",
          "Guaviare",
          "Vaupés",
          "Caquetá",
          "Putumayo",
          "Arauca",
          "Casanare",
          "Quindío",
          "Chocó",
          "Caldas",
          "Risaralda",
          "Huila",
          "La Guajira",
          "Cauca",
          "Meta",
          "Sucre",
          "Norte de Santander",
          "Tolima",
          "Boyacá",
          "Cesar",
          "Magdalena",
          "Nariño",
          "Cundinamarca",
          "Córdoba",
          "Bolívar",
          "Santander",
          "Atlántico",
          "Valle del cauca",
          "Antioquia",
          "Bogotá D.C"
         ],
         "yaxis": "y"
        },
        {
         "alignmentgroup": "True",
         "hovertemplate": "NaturalezaJuridica=Pública<br>IPS_2022=%{x}<br>Departamento=%{y}<extra></extra>",
         "legendgroup": "Pública",
         "marker": {
          "color": "#8CBCB9",
          "pattern": {
           "shape": ""
          }
         },
         "name": "Pública",
         "offsetgroup": "Pública",
         "orientation": "h",
         "showlegend": true,
         "textposition": "auto",
         "type": "bar",
         "x": [
          4,
          5,
          4,
          12,
          11,
          54,
          26,
          29,
          49,
          30,
          31,
          36,
          68,
          51,
          82,
          153,
          149,
          67,
          75,
          132,
          124,
          156,
          144,
          188,
          351,
          184,
          222,
          215,
          164,
          83,
          324,
          276,
          122
         ],
         "xaxis": "x",
         "y": [
          "Vichada",
          "Guainía",
          "San Andrés y Providencia",
          "Amazonas",
          "Guaviare",
          "Vaupés",
          "Caquetá",
          "Putumayo",
          "Arauca",
          "Casanare",
          "Quindío",
          "Chocó",
          "Caldas",
          "Risaralda",
          "Huila",
          "La Guajira",
          "Cauca",
          "Meta",
          "Sucre",
          "Norte de Santander",
          "Tolima",
          "Boyacá",
          "Cesar",
          "Magdalena",
          "Nariño",
          "Cundinamarca",
          "Córdoba",
          "Bolívar",
          "Santander",
          "Atlántico",
          "Valle del cauca",
          "Antioquia",
          "Bogotá D.C"
         ],
         "yaxis": "y"
        }
       ],
       "layout": {
        "barmode": "relative",
        "height": 700,
        "legend": {
         "title": {
          "text": "Naturaleza Jurídica"
         },
         "tracegroupgap": 0
        },
        "margin": {
         "t": 60
        },
        "template": {
         "data": {
          "bar": [
           {
            "error_x": {
             "color": "#2a3f5f"
            },
            "error_y": {
             "color": "#2a3f5f"
            },
            "marker": {
             "line": {
              "color": "#E5ECF6",
              "width": 0.5
             },
             "pattern": {
              "fillmode": "overlay",
              "size": 10,
              "solidity": 0.2
             }
            },
            "type": "bar"
           }
          ],
          "barpolar": [
           {
            "marker": {
             "line": {
              "color": "#E5ECF6",
              "width": 0.5
             },
             "pattern": {
              "fillmode": "overlay",
              "size": 10,
              "solidity": 0.2
             }
            },
            "type": "barpolar"
           }
          ],
          "carpet": [
           {
            "aaxis": {
             "endlinecolor": "#2a3f5f",
             "gridcolor": "white",
             "linecolor": "white",
             "minorgridcolor": "white",
             "startlinecolor": "#2a3f5f"
            },
            "baxis": {
             "endlinecolor": "#2a3f5f",
             "gridcolor": "white",
             "linecolor": "white",
             "minorgridcolor": "white",
             "startlinecolor": "#2a3f5f"
            },
            "type": "carpet"
           }
          ],
          "choropleth": [
           {
            "colorbar": {
             "outlinewidth": 0,
             "ticks": ""
            },
            "type": "choropleth"
           }
          ],
          "contour": [
           {
            "colorbar": {
             "outlinewidth": 0,
             "ticks": ""
            },
            "colorscale": [
             [
              0,
              "#0d0887"
             ],
             [
              0.1111111111111111,
              "#46039f"
             ],
             [
              0.2222222222222222,
              "#7201a8"
             ],
             [
              0.3333333333333333,
              "#9c179e"
             ],
             [
              0.4444444444444444,
              "#bd3786"
             ],
             [
              0.5555555555555556,
              "#d8576b"
             ],
             [
              0.6666666666666666,
              "#ed7953"
             ],
             [
              0.7777777777777778,
              "#fb9f3a"
             ],
             [
              0.8888888888888888,
              "#fdca26"
             ],
             [
              1,
              "#f0f921"
             ]
            ],
            "type": "contour"
           }
          ],
          "contourcarpet": [
           {
            "colorbar": {
             "outlinewidth": 0,
             "ticks": ""
            },
            "type": "contourcarpet"
           }
          ],
          "heatmap": [
           {
            "colorbar": {
             "outlinewidth": 0,
             "ticks": ""
            },
            "colorscale": [
             [
              0,
              "#0d0887"
             ],
             [
              0.1111111111111111,
              "#46039f"
             ],
             [
              0.2222222222222222,
              "#7201a8"
             ],
             [
              0.3333333333333333,
              "#9c179e"
             ],
             [
              0.4444444444444444,
              "#bd3786"
             ],
             [
              0.5555555555555556,
              "#d8576b"
             ],
             [
              0.6666666666666666,
              "#ed7953"
             ],
             [
              0.7777777777777778,
              "#fb9f3a"
             ],
             [
              0.8888888888888888,
              "#fdca26"
             ],
             [
              1,
              "#f0f921"
             ]
            ],
            "type": "heatmap"
           }
          ],
          "heatmapgl": [
           {
            "colorbar": {
             "outlinewidth": 0,
             "ticks": ""
            },
            "colorscale": [
             [
              0,
              "#0d0887"
             ],
             [
              0.1111111111111111,
              "#46039f"
             ],
             [
              0.2222222222222222,
              "#7201a8"
             ],
             [
              0.3333333333333333,
              "#9c179e"
             ],
             [
              0.4444444444444444,
              "#bd3786"
             ],
             [
              0.5555555555555556,
              "#d8576b"
             ],
             [
              0.6666666666666666,
              "#ed7953"
             ],
             [
              0.7777777777777778,
              "#fb9f3a"
             ],
             [
              0.8888888888888888,
              "#fdca26"
             ],
             [
              1,
              "#f0f921"
             ]
            ],
            "type": "heatmapgl"
           }
          ],
          "histogram": [
           {
            "marker": {
             "pattern": {
              "fillmode": "overlay",
              "size": 10,
              "solidity": 0.2
             }
            },
            "type": "histogram"
           }
          ],
          "histogram2d": [
           {
            "colorbar": {
             "outlinewidth": 0,
             "ticks": ""
            },
            "colorscale": [
             [
              0,
              "#0d0887"
             ],
             [
              0.1111111111111111,
              "#46039f"
             ],
             [
              0.2222222222222222,
              "#7201a8"
             ],
             [
              0.3333333333333333,
              "#9c179e"
             ],
             [
              0.4444444444444444,
              "#bd3786"
             ],
             [
              0.5555555555555556,
              "#d8576b"
             ],
             [
              0.6666666666666666,
              "#ed7953"
             ],
             [
              0.7777777777777778,
              "#fb9f3a"
             ],
             [
              0.8888888888888888,
              "#fdca26"
             ],
             [
              1,
              "#f0f921"
             ]
            ],
            "type": "histogram2d"
           }
          ],
          "histogram2dcontour": [
           {
            "colorbar": {
             "outlinewidth": 0,
             "ticks": ""
            },
            "colorscale": [
             [
              0,
              "#0d0887"
             ],
             [
              0.1111111111111111,
              "#46039f"
             ],
             [
              0.2222222222222222,
              "#7201a8"
             ],
             [
              0.3333333333333333,
              "#9c179e"
             ],
             [
              0.4444444444444444,
              "#bd3786"
             ],
             [
              0.5555555555555556,
              "#d8576b"
             ],
             [
              0.6666666666666666,
              "#ed7953"
             ],
             [
              0.7777777777777778,
              "#fb9f3a"
             ],
             [
              0.8888888888888888,
              "#fdca26"
             ],
             [
              1,
              "#f0f921"
             ]
            ],
            "type": "histogram2dcontour"
           }
          ],
          "mesh3d": [
           {
            "colorbar": {
             "outlinewidth": 0,
             "ticks": ""
            },
            "type": "mesh3d"
           }
          ],
          "parcoords": [
           {
            "line": {
             "colorbar": {
              "outlinewidth": 0,
              "ticks": ""
             }
            },
            "type": "parcoords"
           }
          ],
          "pie": [
           {
            "automargin": true,
            "type": "pie"
           }
          ],
          "scatter": [
           {
            "fillpattern": {
             "fillmode": "overlay",
             "size": 10,
             "solidity": 0.2
            },
            "type": "scatter"
           }
          ],
          "scatter3d": [
           {
            "line": {
             "colorbar": {
              "outlinewidth": 0,
              "ticks": ""
             }
            },
            "marker": {
             "colorbar": {
              "outlinewidth": 0,
              "ticks": ""
             }
            },
            "type": "scatter3d"
           }
          ],
          "scattercarpet": [
           {
            "marker": {
             "colorbar": {
              "outlinewidth": 0,
              "ticks": ""
             }
            },
            "type": "scattercarpet"
           }
          ],
          "scattergeo": [
           {
            "marker": {
             "colorbar": {
              "outlinewidth": 0,
              "ticks": ""
             }
            },
            "type": "scattergeo"
           }
          ],
          "scattergl": [
           {
            "marker": {
             "colorbar": {
              "outlinewidth": 0,
              "ticks": ""
             }
            },
            "type": "scattergl"
           }
          ],
          "scattermapbox": [
           {
            "marker": {
             "colorbar": {
              "outlinewidth": 0,
              "ticks": ""
             }
            },
            "type": "scattermapbox"
           }
          ],
          "scatterpolar": [
           {
            "marker": {
             "colorbar": {
              "outlinewidth": 0,
              "ticks": ""
             }
            },
            "type": "scatterpolar"
           }
          ],
          "scatterpolargl": [
           {
            "marker": {
             "colorbar": {
              "outlinewidth": 0,
              "ticks": ""
             }
            },
            "type": "scatterpolargl"
           }
          ],
          "scatterternary": [
           {
            "marker": {
             "colorbar": {
              "outlinewidth": 0,
              "ticks": ""
             }
            },
            "type": "scatterternary"
           }
          ],
          "surface": [
           {
            "colorbar": {
             "outlinewidth": 0,
             "ticks": ""
            },
            "colorscale": [
             [
              0,
              "#0d0887"
             ],
             [
              0.1111111111111111,
              "#46039f"
             ],
             [
              0.2222222222222222,
              "#7201a8"
             ],
             [
              0.3333333333333333,
              "#9c179e"
             ],
             [
              0.4444444444444444,
              "#bd3786"
             ],
             [
              0.5555555555555556,
              "#d8576b"
             ],
             [
              0.6666666666666666,
              "#ed7953"
             ],
             [
              0.7777777777777778,
              "#fb9f3a"
             ],
             [
              0.8888888888888888,
              "#fdca26"
             ],
             [
              1,
              "#f0f921"
             ]
            ],
            "type": "surface"
           }
          ],
          "table": [
           {
            "cells": {
             "fill": {
              "color": "#EBF0F8"
             },
             "line": {
              "color": "white"
             }
            },
            "header": {
             "fill": {
              "color": "#C8D4E3"
             },
             "line": {
              "color": "white"
             }
            },
            "type": "table"
           }
          ]
         },
         "layout": {
          "annotationdefaults": {
           "arrowcolor": "#2a3f5f",
           "arrowhead": 0,
           "arrowwidth": 1
          },
          "autotypenumbers": "strict",
          "coloraxis": {
           "colorbar": {
            "outlinewidth": 0,
            "ticks": ""
           }
          },
          "colorscale": {
           "diverging": [
            [
             0,
             "#8e0152"
            ],
            [
             0.1,
             "#c51b7d"
            ],
            [
             0.2,
             "#de77ae"
            ],
            [
             0.3,
             "#f1b6da"
            ],
            [
             0.4,
             "#fde0ef"
            ],
            [
             0.5,
             "#f7f7f7"
            ],
            [
             0.6,
             "#e6f5d0"
            ],
            [
             0.7,
             "#b8e186"
            ],
            [
             0.8,
             "#7fbc41"
            ],
            [
             0.9,
             "#4d9221"
            ],
            [
             1,
             "#276419"
            ]
           ],
           "sequential": [
            [
             0,
             "#0d0887"
            ],
            [
             0.1111111111111111,
             "#46039f"
            ],
            [
             0.2222222222222222,
             "#7201a8"
            ],
            [
             0.3333333333333333,
             "#9c179e"
            ],
            [
             0.4444444444444444,
             "#bd3786"
            ],
            [
             0.5555555555555556,
             "#d8576b"
            ],
            [
             0.6666666666666666,
             "#ed7953"
            ],
            [
             0.7777777777777778,
             "#fb9f3a"
            ],
            [
             0.8888888888888888,
             "#fdca26"
            ],
            [
             1,
             "#f0f921"
            ]
           ],
           "sequentialminus": [
            [
             0,
             "#0d0887"
            ],
            [
             0.1111111111111111,
             "#46039f"
            ],
            [
             0.2222222222222222,
             "#7201a8"
            ],
            [
             0.3333333333333333,
             "#9c179e"
            ],
            [
             0.4444444444444444,
             "#bd3786"
            ],
            [
             0.5555555555555556,
             "#d8576b"
            ],
            [
             0.6666666666666666,
             "#ed7953"
            ],
            [
             0.7777777777777778,
             "#fb9f3a"
            ],
            [
             0.8888888888888888,
             "#fdca26"
            ],
            [
             1,
             "#f0f921"
            ]
           ]
          },
          "colorway": [
           "#636efa",
           "#EF553B",
           "#00cc96",
           "#ab63fa",
           "#FFA15A",
           "#19d3f3",
           "#FF6692",
           "#B6E880",
           "#FF97FF",
           "#FECB52"
          ],
          "font": {
           "color": "#2a3f5f"
          },
          "geo": {
           "bgcolor": "white",
           "lakecolor": "white",
           "landcolor": "#E5ECF6",
           "showlakes": true,
           "showland": true,
           "subunitcolor": "white"
          },
          "hoverlabel": {
           "align": "left"
          },
          "hovermode": "closest",
          "mapbox": {
           "style": "light"
          },
          "paper_bgcolor": "white",
          "plot_bgcolor": "#E5ECF6",
          "polar": {
           "angularaxis": {
            "gridcolor": "white",
            "linecolor": "white",
            "ticks": ""
           },
           "bgcolor": "#E5ECF6",
           "radialaxis": {
            "gridcolor": "white",
            "linecolor": "white",
            "ticks": ""
           }
          },
          "scene": {
           "xaxis": {
            "backgroundcolor": "#E5ECF6",
            "gridcolor": "white",
            "gridwidth": 2,
            "linecolor": "white",
            "showbackground": true,
            "ticks": "",
            "zerolinecolor": "white"
           },
           "yaxis": {
            "backgroundcolor": "#E5ECF6",
            "gridcolor": "white",
            "gridwidth": 2,
            "linecolor": "white",
            "showbackground": true,
            "ticks": "",
            "zerolinecolor": "white"
           },
           "zaxis": {
            "backgroundcolor": "#E5ECF6",
            "gridcolor": "white",
            "gridwidth": 2,
            "linecolor": "white",
            "showbackground": true,
            "ticks": "",
            "zerolinecolor": "white"
           }
          },
          "shapedefaults": {
           "line": {
            "color": "#2a3f5f"
           }
          },
          "ternary": {
           "aaxis": {
            "gridcolor": "white",
            "linecolor": "white",
            "ticks": ""
           },
           "baxis": {
            "gridcolor": "white",
            "linecolor": "white",
            "ticks": ""
           },
           "bgcolor": "#E5ECF6",
           "caxis": {
            "gridcolor": "white",
            "linecolor": "white",
            "ticks": ""
           }
          },
          "title": {
           "x": 0.05
          },
          "xaxis": {
           "automargin": true,
           "gridcolor": "white",
           "linecolor": "white",
           "ticks": "",
           "title": {
            "standoff": 15
           },
           "zerolinecolor": "white",
           "zerolinewidth": 2
          },
          "yaxis": {
           "automargin": true,
           "gridcolor": "white",
           "linecolor": "white",
           "ticks": "",
           "title": {
            "standoff": 15
           },
           "zerolinecolor": "white",
           "zerolinewidth": 2
          }
         }
        },
        "title": {
         "text": "Número de IPS por Departamento por Naturaleza Juridica- 2022"
        },
        "width": 800,
        "xaxis": {
         "anchor": "y",
         "domain": [
          0,
          1
         ],
         "range": [
          0,
          3100
         ],
         "title": {
          "text": "Número de IPS"
         }
        },
        "yaxis": {
         "anchor": "x",
         "domain": [
          0,
          1
         ],
         "title": {
          "text": "Departamento"
         }
        }
       }
      }
     },
     "metadata": {},
     "output_type": "display_data"
    }
   ],
   "source": [
    "color_palette = {\n",
    "    'Privada': '#3364C7',\n",
    "    'Pública': '#8CBCB9',\n",
    "    'Mixta': '#826251'\n",
    "}\n",
    "\n",
    "fig = px.bar(data_frame=df_num_reps_naturaleza, \n",
    "             x='IPS_2022', \n",
    "             y='Departamento', \n",
    "             color='NaturalezaJuridica', \n",
    "             orientation='h',\n",
    "             color_discrete_map=color_palette)\n",
    "\n",
    "fig.update_xaxes(title_text='Número de IPS')\n",
    "fig.update_xaxes(range=[0,3100])\n",
    "fig.update_yaxes(title_text='Departamento')\n",
    "fig.update_layout(title='Número de IPS por Departamento por Naturaleza Juridica- 2022')\n",
    "\n",
    "\n",
    "\n",
    "# color_sequence = ['#3364C7' for i in departamentos]\n",
    "# fig.update_traces(marker=dict(color=color_sequence))\n",
    "\n",
    "# fig.update_traces(text=df_num_reps['Y2022'], textposition='outside')\n",
    "\n",
    "fig.update_layout(legend_title_text='Legends', legend=dict(title=dict(text='Naturaleza Jurídica')))\n",
    "\n",
    "# fig.update_layout(plot_bgcolor='rgba(0,0,0,0)')\n",
    "\n",
    "fig.update_layout(width=800, height=700)\n",
    "\n",
    "fig.show()"
   ]
  },
  {
   "cell_type": "code",
   "execution_count": 266,
   "metadata": {},
   "outputs": [
    {
     "data": {
      "text/html": [
       "<div>\n",
       "<style scoped>\n",
       "    .dataframe tbody tr th:only-of-type {\n",
       "        vertical-align: middle;\n",
       "    }\n",
       "\n",
       "    .dataframe tbody tr th {\n",
       "        vertical-align: top;\n",
       "    }\n",
       "\n",
       "    .dataframe thead th {\n",
       "        text-align: right;\n",
       "    }\n",
       "</style>\n",
       "<table border=\"1\" class=\"dataframe\">\n",
       "  <thead>\n",
       "    <tr style=\"text-align: right;\">\n",
       "      <th></th>\n",
       "      <th>Departamento</th>\n",
       "      <th>NaturalezaJuridica</th>\n",
       "      <th>IPS_2022</th>\n",
       "    </tr>\n",
       "  </thead>\n",
       "  <tbody>\n",
       "    <tr>\n",
       "      <th>0</th>\n",
       "      <td>Vichada</td>\n",
       "      <td>Mixta</td>\n",
       "      <td>0.00</td>\n",
       "    </tr>\n",
       "    <tr>\n",
       "      <th>1</th>\n",
       "      <td>Vichada</td>\n",
       "      <td>Privada</td>\n",
       "      <td>66.67</td>\n",
       "    </tr>\n",
       "    <tr>\n",
       "      <th>2</th>\n",
       "      <td>Vichada</td>\n",
       "      <td>Pública</td>\n",
       "      <td>33.33</td>\n",
       "    </tr>\n",
       "    <tr>\n",
       "      <th>3</th>\n",
       "      <td>Guainía</td>\n",
       "      <td>Mixta</td>\n",
       "      <td>8.33</td>\n",
       "    </tr>\n",
       "    <tr>\n",
       "      <th>4</th>\n",
       "      <td>Guainía</td>\n",
       "      <td>Privada</td>\n",
       "      <td>50.00</td>\n",
       "    </tr>\n",
       "    <tr>\n",
       "      <th>...</th>\n",
       "      <td>...</td>\n",
       "      <td>...</td>\n",
       "      <td>...</td>\n",
       "    </tr>\n",
       "    <tr>\n",
       "      <th>94</th>\n",
       "      <td>Antioquia</td>\n",
       "      <td>Privada</td>\n",
       "      <td>86.76</td>\n",
       "    </tr>\n",
       "    <tr>\n",
       "      <th>95</th>\n",
       "      <td>Antioquia</td>\n",
       "      <td>Pública</td>\n",
       "      <td>12.87</td>\n",
       "    </tr>\n",
       "    <tr>\n",
       "      <th>96</th>\n",
       "      <td>Bogotá D.C</td>\n",
       "      <td>Mixta</td>\n",
       "      <td>0.03</td>\n",
       "    </tr>\n",
       "    <tr>\n",
       "      <th>97</th>\n",
       "      <td>Bogotá D.C</td>\n",
       "      <td>Privada</td>\n",
       "      <td>95.75</td>\n",
       "    </tr>\n",
       "    <tr>\n",
       "      <th>98</th>\n",
       "      <td>Bogotá D.C</td>\n",
       "      <td>Pública</td>\n",
       "      <td>4.22</td>\n",
       "    </tr>\n",
       "  </tbody>\n",
       "</table>\n",
       "<p>99 rows × 3 columns</p>\n",
       "</div>"
      ],
      "text/plain": [
       "   Departamento NaturalezaJuridica  IPS_2022\n",
       "0       Vichada              Mixta      0.00\n",
       "1       Vichada            Privada     66.67\n",
       "2       Vichada            Pública     33.33\n",
       "3       Guainía              Mixta      8.33\n",
       "4       Guainía            Privada     50.00\n",
       "..          ...                ...       ...\n",
       "94    Antioquia            Privada     86.76\n",
       "95    Antioquia            Pública     12.87\n",
       "96   Bogotá D.C              Mixta      0.03\n",
       "97   Bogotá D.C            Privada     95.75\n",
       "98   Bogotá D.C            Pública      4.22\n",
       "\n",
       "[99 rows x 3 columns]"
      ]
     },
     "execution_count": 266,
     "metadata": {},
     "output_type": "execute_result"
    }
   ],
   "source": [
    "df_num_reps_porcentaje = pd.merge(df_num_reps[['Departamento']], df_num_reps_porcentaje, how='inner', on='Departamento')\n",
    "df_num_reps_porcentaje"
   ]
  },
  {
   "cell_type": "code",
   "execution_count": 267,
   "metadata": {},
   "outputs": [
    {
     "data": {
      "application/vnd.plotly.v1+json": {
       "config": {
        "plotlyServerURL": "https://plot.ly"
       },
       "data": [
        {
         "alignmentgroup": "True",
         "hovertemplate": "NaturalezaJuridica=Mixta<br>IPS_2022=%{x}<br>Departamento=%{y}<extra></extra>",
         "legendgroup": "Mixta",
         "marker": {
          "color": "#826251",
          "pattern": {
           "shape": ""
          }
         },
         "name": "Mixta",
         "offsetgroup": "Mixta",
         "orientation": "h",
         "showlegend": true,
         "textposition": "auto",
         "type": "bar",
         "x": [
          0,
          8.33,
          0,
          0,
          0,
          0,
          0,
          0,
          0.7,
          0.48,
          0,
          0.75,
          0.29,
          0,
          0,
          0,
          0,
          0,
          0.19,
          0,
          0.19,
          0,
          0,
          0,
          0.38,
          0,
          0,
          0,
          0,
          3.2,
          0.05,
          0.37,
          0.03
         ],
         "xaxis": "x",
         "y": [
          "Vichada",
          "Guainía",
          "San Andrés y Providencia",
          "Amazonas",
          "Guaviare",
          "Vaupés",
          "Caquetá",
          "Putumayo",
          "Arauca",
          "Casanare",
          "Quindío",
          "Chocó",
          "Caldas",
          "Risaralda",
          "Huila",
          "La Guajira",
          "Cauca",
          "Meta",
          "Sucre",
          "Norte de Santander",
          "Tolima",
          "Boyacá",
          "Cesar",
          "Magdalena",
          "Nariño",
          "Cundinamarca",
          "Córdoba",
          "Bolívar",
          "Santander",
          "Atlántico",
          "Valle del cauca",
          "Antioquia",
          "Bogotá D.C"
         ],
         "yaxis": "y"
        },
        {
         "alignmentgroup": "True",
         "hovertemplate": "NaturalezaJuridica=Privada<br>IPS_2022=%{x}<br>Departamento=%{y}<extra></extra>",
         "legendgroup": "Privada",
         "marker": {
          "color": "#3364C7",
          "pattern": {
           "shape": ""
          }
         },
         "name": "Privada",
         "offsetgroup": "Privada",
         "orientation": "h",
         "showlegend": true,
         "textposition": "auto",
         "type": "bar",
         "x": [
          66.67,
          50,
          84,
          52,
          67.65,
          1.82,
          76.15,
          76.61,
          64.79,
          85.17,
          86.86,
          85.66,
          80,
          86.14,
          78.02,
          64.17,
          68.96,
          86.13,
          85.19,
          74.52,
          76.19,
          72.24,
          76.43,
          72.87,
          55.75,
          77.51,
          72.96,
          77.84,
          84.35,
          89.98,
          82.61,
          86.76,
          95.75
         ],
         "xaxis": "x",
         "y": [
          "Vichada",
          "Guainía",
          "San Andrés y Providencia",
          "Amazonas",
          "Guaviare",
          "Vaupés",
          "Caquetá",
          "Putumayo",
          "Arauca",
          "Casanare",
          "Quindío",
          "Chocó",
          "Caldas",
          "Risaralda",
          "Huila",
          "La Guajira",
          "Cauca",
          "Meta",
          "Sucre",
          "Norte de Santander",
          "Tolima",
          "Boyacá",
          "Cesar",
          "Magdalena",
          "Nariño",
          "Cundinamarca",
          "Córdoba",
          "Bolívar",
          "Santander",
          "Atlántico",
          "Valle del cauca",
          "Antioquia",
          "Bogotá D.C"
         ],
         "yaxis": "y"
        },
        {
         "alignmentgroup": "True",
         "hovertemplate": "NaturalezaJuridica=Pública<br>IPS_2022=%{x}<br>Departamento=%{y}<extra></extra>",
         "legendgroup": "Pública",
         "marker": {
          "color": "#8CBCB9",
          "pattern": {
           "shape": ""
          }
         },
         "name": "Pública",
         "offsetgroup": "Pública",
         "orientation": "h",
         "showlegend": true,
         "textposition": "auto",
         "type": "bar",
         "x": [
          33.33,
          41.67,
          16,
          48,
          32.35,
          98.18,
          23.85,
          23.39,
          34.51,
          14.35,
          13.14,
          13.58,
          19.71,
          13.86,
          21.98,
          35.83,
          31.04,
          13.87,
          14.62,
          25.48,
          23.62,
          27.76,
          23.57,
          27.13,
          43.88,
          22.49,
          27.04,
          22.16,
          15.65,
          6.82,
          17.34,
          12.87,
          4.22
         ],
         "xaxis": "x",
         "y": [
          "Vichada",
          "Guainía",
          "San Andrés y Providencia",
          "Amazonas",
          "Guaviare",
          "Vaupés",
          "Caquetá",
          "Putumayo",
          "Arauca",
          "Casanare",
          "Quindío",
          "Chocó",
          "Caldas",
          "Risaralda",
          "Huila",
          "La Guajira",
          "Cauca",
          "Meta",
          "Sucre",
          "Norte de Santander",
          "Tolima",
          "Boyacá",
          "Cesar",
          "Magdalena",
          "Nariño",
          "Cundinamarca",
          "Córdoba",
          "Bolívar",
          "Santander",
          "Atlántico",
          "Valle del cauca",
          "Antioquia",
          "Bogotá D.C"
         ],
         "yaxis": "y"
        }
       ],
       "layout": {
        "barmode": "relative",
        "height": 700,
        "legend": {
         "title": {
          "text": "Naturaleza Jurídica"
         },
         "tracegroupgap": 0
        },
        "margin": {
         "t": 60
        },
        "template": {
         "data": {
          "bar": [
           {
            "error_x": {
             "color": "#2a3f5f"
            },
            "error_y": {
             "color": "#2a3f5f"
            },
            "marker": {
             "line": {
              "color": "#E5ECF6",
              "width": 0.5
             },
             "pattern": {
              "fillmode": "overlay",
              "size": 10,
              "solidity": 0.2
             }
            },
            "type": "bar"
           }
          ],
          "barpolar": [
           {
            "marker": {
             "line": {
              "color": "#E5ECF6",
              "width": 0.5
             },
             "pattern": {
              "fillmode": "overlay",
              "size": 10,
              "solidity": 0.2
             }
            },
            "type": "barpolar"
           }
          ],
          "carpet": [
           {
            "aaxis": {
             "endlinecolor": "#2a3f5f",
             "gridcolor": "white",
             "linecolor": "white",
             "minorgridcolor": "white",
             "startlinecolor": "#2a3f5f"
            },
            "baxis": {
             "endlinecolor": "#2a3f5f",
             "gridcolor": "white",
             "linecolor": "white",
             "minorgridcolor": "white",
             "startlinecolor": "#2a3f5f"
            },
            "type": "carpet"
           }
          ],
          "choropleth": [
           {
            "colorbar": {
             "outlinewidth": 0,
             "ticks": ""
            },
            "type": "choropleth"
           }
          ],
          "contour": [
           {
            "colorbar": {
             "outlinewidth": 0,
             "ticks": ""
            },
            "colorscale": [
             [
              0,
              "#0d0887"
             ],
             [
              0.1111111111111111,
              "#46039f"
             ],
             [
              0.2222222222222222,
              "#7201a8"
             ],
             [
              0.3333333333333333,
              "#9c179e"
             ],
             [
              0.4444444444444444,
              "#bd3786"
             ],
             [
              0.5555555555555556,
              "#d8576b"
             ],
             [
              0.6666666666666666,
              "#ed7953"
             ],
             [
              0.7777777777777778,
              "#fb9f3a"
             ],
             [
              0.8888888888888888,
              "#fdca26"
             ],
             [
              1,
              "#f0f921"
             ]
            ],
            "type": "contour"
           }
          ],
          "contourcarpet": [
           {
            "colorbar": {
             "outlinewidth": 0,
             "ticks": ""
            },
            "type": "contourcarpet"
           }
          ],
          "heatmap": [
           {
            "colorbar": {
             "outlinewidth": 0,
             "ticks": ""
            },
            "colorscale": [
             [
              0,
              "#0d0887"
             ],
             [
              0.1111111111111111,
              "#46039f"
             ],
             [
              0.2222222222222222,
              "#7201a8"
             ],
             [
              0.3333333333333333,
              "#9c179e"
             ],
             [
              0.4444444444444444,
              "#bd3786"
             ],
             [
              0.5555555555555556,
              "#d8576b"
             ],
             [
              0.6666666666666666,
              "#ed7953"
             ],
             [
              0.7777777777777778,
              "#fb9f3a"
             ],
             [
              0.8888888888888888,
              "#fdca26"
             ],
             [
              1,
              "#f0f921"
             ]
            ],
            "type": "heatmap"
           }
          ],
          "heatmapgl": [
           {
            "colorbar": {
             "outlinewidth": 0,
             "ticks": ""
            },
            "colorscale": [
             [
              0,
              "#0d0887"
             ],
             [
              0.1111111111111111,
              "#46039f"
             ],
             [
              0.2222222222222222,
              "#7201a8"
             ],
             [
              0.3333333333333333,
              "#9c179e"
             ],
             [
              0.4444444444444444,
              "#bd3786"
             ],
             [
              0.5555555555555556,
              "#d8576b"
             ],
             [
              0.6666666666666666,
              "#ed7953"
             ],
             [
              0.7777777777777778,
              "#fb9f3a"
             ],
             [
              0.8888888888888888,
              "#fdca26"
             ],
             [
              1,
              "#f0f921"
             ]
            ],
            "type": "heatmapgl"
           }
          ],
          "histogram": [
           {
            "marker": {
             "pattern": {
              "fillmode": "overlay",
              "size": 10,
              "solidity": 0.2
             }
            },
            "type": "histogram"
           }
          ],
          "histogram2d": [
           {
            "colorbar": {
             "outlinewidth": 0,
             "ticks": ""
            },
            "colorscale": [
             [
              0,
              "#0d0887"
             ],
             [
              0.1111111111111111,
              "#46039f"
             ],
             [
              0.2222222222222222,
              "#7201a8"
             ],
             [
              0.3333333333333333,
              "#9c179e"
             ],
             [
              0.4444444444444444,
              "#bd3786"
             ],
             [
              0.5555555555555556,
              "#d8576b"
             ],
             [
              0.6666666666666666,
              "#ed7953"
             ],
             [
              0.7777777777777778,
              "#fb9f3a"
             ],
             [
              0.8888888888888888,
              "#fdca26"
             ],
             [
              1,
              "#f0f921"
             ]
            ],
            "type": "histogram2d"
           }
          ],
          "histogram2dcontour": [
           {
            "colorbar": {
             "outlinewidth": 0,
             "ticks": ""
            },
            "colorscale": [
             [
              0,
              "#0d0887"
             ],
             [
              0.1111111111111111,
              "#46039f"
             ],
             [
              0.2222222222222222,
              "#7201a8"
             ],
             [
              0.3333333333333333,
              "#9c179e"
             ],
             [
              0.4444444444444444,
              "#bd3786"
             ],
             [
              0.5555555555555556,
              "#d8576b"
             ],
             [
              0.6666666666666666,
              "#ed7953"
             ],
             [
              0.7777777777777778,
              "#fb9f3a"
             ],
             [
              0.8888888888888888,
              "#fdca26"
             ],
             [
              1,
              "#f0f921"
             ]
            ],
            "type": "histogram2dcontour"
           }
          ],
          "mesh3d": [
           {
            "colorbar": {
             "outlinewidth": 0,
             "ticks": ""
            },
            "type": "mesh3d"
           }
          ],
          "parcoords": [
           {
            "line": {
             "colorbar": {
              "outlinewidth": 0,
              "ticks": ""
             }
            },
            "type": "parcoords"
           }
          ],
          "pie": [
           {
            "automargin": true,
            "type": "pie"
           }
          ],
          "scatter": [
           {
            "fillpattern": {
             "fillmode": "overlay",
             "size": 10,
             "solidity": 0.2
            },
            "type": "scatter"
           }
          ],
          "scatter3d": [
           {
            "line": {
             "colorbar": {
              "outlinewidth": 0,
              "ticks": ""
             }
            },
            "marker": {
             "colorbar": {
              "outlinewidth": 0,
              "ticks": ""
             }
            },
            "type": "scatter3d"
           }
          ],
          "scattercarpet": [
           {
            "marker": {
             "colorbar": {
              "outlinewidth": 0,
              "ticks": ""
             }
            },
            "type": "scattercarpet"
           }
          ],
          "scattergeo": [
           {
            "marker": {
             "colorbar": {
              "outlinewidth": 0,
              "ticks": ""
             }
            },
            "type": "scattergeo"
           }
          ],
          "scattergl": [
           {
            "marker": {
             "colorbar": {
              "outlinewidth": 0,
              "ticks": ""
             }
            },
            "type": "scattergl"
           }
          ],
          "scattermapbox": [
           {
            "marker": {
             "colorbar": {
              "outlinewidth": 0,
              "ticks": ""
             }
            },
            "type": "scattermapbox"
           }
          ],
          "scatterpolar": [
           {
            "marker": {
             "colorbar": {
              "outlinewidth": 0,
              "ticks": ""
             }
            },
            "type": "scatterpolar"
           }
          ],
          "scatterpolargl": [
           {
            "marker": {
             "colorbar": {
              "outlinewidth": 0,
              "ticks": ""
             }
            },
            "type": "scatterpolargl"
           }
          ],
          "scatterternary": [
           {
            "marker": {
             "colorbar": {
              "outlinewidth": 0,
              "ticks": ""
             }
            },
            "type": "scatterternary"
           }
          ],
          "surface": [
           {
            "colorbar": {
             "outlinewidth": 0,
             "ticks": ""
            },
            "colorscale": [
             [
              0,
              "#0d0887"
             ],
             [
              0.1111111111111111,
              "#46039f"
             ],
             [
              0.2222222222222222,
              "#7201a8"
             ],
             [
              0.3333333333333333,
              "#9c179e"
             ],
             [
              0.4444444444444444,
              "#bd3786"
             ],
             [
              0.5555555555555556,
              "#d8576b"
             ],
             [
              0.6666666666666666,
              "#ed7953"
             ],
             [
              0.7777777777777778,
              "#fb9f3a"
             ],
             [
              0.8888888888888888,
              "#fdca26"
             ],
             [
              1,
              "#f0f921"
             ]
            ],
            "type": "surface"
           }
          ],
          "table": [
           {
            "cells": {
             "fill": {
              "color": "#EBF0F8"
             },
             "line": {
              "color": "white"
             }
            },
            "header": {
             "fill": {
              "color": "#C8D4E3"
             },
             "line": {
              "color": "white"
             }
            },
            "type": "table"
           }
          ]
         },
         "layout": {
          "annotationdefaults": {
           "arrowcolor": "#2a3f5f",
           "arrowhead": 0,
           "arrowwidth": 1
          },
          "autotypenumbers": "strict",
          "coloraxis": {
           "colorbar": {
            "outlinewidth": 0,
            "ticks": ""
           }
          },
          "colorscale": {
           "diverging": [
            [
             0,
             "#8e0152"
            ],
            [
             0.1,
             "#c51b7d"
            ],
            [
             0.2,
             "#de77ae"
            ],
            [
             0.3,
             "#f1b6da"
            ],
            [
             0.4,
             "#fde0ef"
            ],
            [
             0.5,
             "#f7f7f7"
            ],
            [
             0.6,
             "#e6f5d0"
            ],
            [
             0.7,
             "#b8e186"
            ],
            [
             0.8,
             "#7fbc41"
            ],
            [
             0.9,
             "#4d9221"
            ],
            [
             1,
             "#276419"
            ]
           ],
           "sequential": [
            [
             0,
             "#0d0887"
            ],
            [
             0.1111111111111111,
             "#46039f"
            ],
            [
             0.2222222222222222,
             "#7201a8"
            ],
            [
             0.3333333333333333,
             "#9c179e"
            ],
            [
             0.4444444444444444,
             "#bd3786"
            ],
            [
             0.5555555555555556,
             "#d8576b"
            ],
            [
             0.6666666666666666,
             "#ed7953"
            ],
            [
             0.7777777777777778,
             "#fb9f3a"
            ],
            [
             0.8888888888888888,
             "#fdca26"
            ],
            [
             1,
             "#f0f921"
            ]
           ],
           "sequentialminus": [
            [
             0,
             "#0d0887"
            ],
            [
             0.1111111111111111,
             "#46039f"
            ],
            [
             0.2222222222222222,
             "#7201a8"
            ],
            [
             0.3333333333333333,
             "#9c179e"
            ],
            [
             0.4444444444444444,
             "#bd3786"
            ],
            [
             0.5555555555555556,
             "#d8576b"
            ],
            [
             0.6666666666666666,
             "#ed7953"
            ],
            [
             0.7777777777777778,
             "#fb9f3a"
            ],
            [
             0.8888888888888888,
             "#fdca26"
            ],
            [
             1,
             "#f0f921"
            ]
           ]
          },
          "colorway": [
           "#636efa",
           "#EF553B",
           "#00cc96",
           "#ab63fa",
           "#FFA15A",
           "#19d3f3",
           "#FF6692",
           "#B6E880",
           "#FF97FF",
           "#FECB52"
          ],
          "font": {
           "color": "#2a3f5f"
          },
          "geo": {
           "bgcolor": "white",
           "lakecolor": "white",
           "landcolor": "#E5ECF6",
           "showlakes": true,
           "showland": true,
           "subunitcolor": "white"
          },
          "hoverlabel": {
           "align": "left"
          },
          "hovermode": "closest",
          "mapbox": {
           "style": "light"
          },
          "paper_bgcolor": "white",
          "plot_bgcolor": "#E5ECF6",
          "polar": {
           "angularaxis": {
            "gridcolor": "white",
            "linecolor": "white",
            "ticks": ""
           },
           "bgcolor": "#E5ECF6",
           "radialaxis": {
            "gridcolor": "white",
            "linecolor": "white",
            "ticks": ""
           }
          },
          "scene": {
           "xaxis": {
            "backgroundcolor": "#E5ECF6",
            "gridcolor": "white",
            "gridwidth": 2,
            "linecolor": "white",
            "showbackground": true,
            "ticks": "",
            "zerolinecolor": "white"
           },
           "yaxis": {
            "backgroundcolor": "#E5ECF6",
            "gridcolor": "white",
            "gridwidth": 2,
            "linecolor": "white",
            "showbackground": true,
            "ticks": "",
            "zerolinecolor": "white"
           },
           "zaxis": {
            "backgroundcolor": "#E5ECF6",
            "gridcolor": "white",
            "gridwidth": 2,
            "linecolor": "white",
            "showbackground": true,
            "ticks": "",
            "zerolinecolor": "white"
           }
          },
          "shapedefaults": {
           "line": {
            "color": "#2a3f5f"
           }
          },
          "ternary": {
           "aaxis": {
            "gridcolor": "white",
            "linecolor": "white",
            "ticks": ""
           },
           "baxis": {
            "gridcolor": "white",
            "linecolor": "white",
            "ticks": ""
           },
           "bgcolor": "#E5ECF6",
           "caxis": {
            "gridcolor": "white",
            "linecolor": "white",
            "ticks": ""
           }
          },
          "title": {
           "x": 0.05
          },
          "xaxis": {
           "automargin": true,
           "gridcolor": "white",
           "linecolor": "white",
           "ticks": "",
           "title": {
            "standoff": 15
           },
           "zerolinecolor": "white",
           "zerolinewidth": 2
          },
          "yaxis": {
           "automargin": true,
           "gridcolor": "white",
           "linecolor": "white",
           "ticks": "",
           "title": {
            "standoff": 15
           },
           "zerolinecolor": "white",
           "zerolinewidth": 2
          }
         }
        },
        "title": {
         "text": "Distribucion Naturaleza Juridica IPS por Departamento - 2022"
        },
        "width": 800,
        "xaxis": {
         "anchor": "y",
         "domain": [
          0,
          1
         ],
         "range": [
          0,
          100
         ],
         "title": {
          "text": "Porcentaje Naturaleza Juridica (%)"
         }
        },
        "yaxis": {
         "anchor": "x",
         "domain": [
          0,
          1
         ],
         "title": {
          "text": "Departamento"
         }
        }
       }
      }
     },
     "metadata": {},
     "output_type": "display_data"
    }
   ],
   "source": [
    "color_palette = {\n",
    "    'Privada': '#3364C7',\n",
    "    'Pública': '#8CBCB9',\n",
    "    'Mixta': '#826251'\n",
    "}\n",
    "\n",
    "fig = px.bar(data_frame=df_num_reps_porcentaje, \n",
    "             x='IPS_2022', \n",
    "             y='Departamento', \n",
    "             color='NaturalezaJuridica', \n",
    "             orientation='h',\n",
    "             color_discrete_map=color_palette)\n",
    "\n",
    "fig.update_xaxes(range=[0,100])\n",
    "fig.update_xaxes(title_text='Porcentaje Naturaleza Juridica (%)')\n",
    "fig.update_yaxes(title_text='Departamento')\n",
    "fig.update_layout(title='Distribucion Naturaleza Juridica IPS por Departamento - 2022')\n",
    "\n",
    "# color_sequence = ['#3364C7' for i in departamentos]\n",
    "# fig.update_traces(marker=dict(color=color_sequence))\n",
    "\n",
    "# fig.update_traces(text=df_num_reps['Y2022'], textposition='outside')\n",
    "\n",
    "fig.update_layout(legend_title_text='Legends', legend=dict(title=dict(text='Naturaleza Jurídica')))\n",
    "\n",
    "# fig.update_layout(plot_bgcolor='rgba(0,0,0,0)')\n",
    "\n",
    "fig.update_layout(width=800, height=700)\n",
    "\n",
    "fig.show()"
   ]
  },
  {
   "cell_type": "markdown",
   "metadata": {},
   "source": [
    "# Poblacion - 2022"
   ]
  },
  {
   "cell_type": "code",
   "execution_count": 268,
   "metadata": {},
   "outputs": [],
   "source": [
    "df_poblacion_2022 = pd.read_csv('../../Data/Poblacion_Departamento_2020_2050.csv')"
   ]
  },
  {
   "cell_type": "code",
   "execution_count": 269,
   "metadata": {},
   "outputs": [
    {
     "name": "stdout",
     "output_type": "stream",
     "text": [
      "<class 'pandas.core.frame.DataFrame'>\n",
      "RangeIndex: 2079 entries, 0 to 2078\n",
      "Data columns (total 5 columns):\n",
      " #   Column           Non-Null Count  Dtype \n",
      "---  ------           --------------  ----- \n",
      " 0   DP               2079 non-null   int64 \n",
      " 1   DPNOM            2079 non-null   object\n",
      " 2   AÑO              2079 non-null   int64 \n",
      " 3   ÁREA GEOGRÁFICA  2079 non-null   object\n",
      " 4   Población        2079 non-null   int64 \n",
      "dtypes: int64(3), object(2)\n",
      "memory usage: 81.3+ KB\n"
     ]
    }
   ],
   "source": [
    "df_poblacion_2022.info()"
   ]
  },
  {
   "cell_type": "code",
   "execution_count": 270,
   "metadata": {},
   "outputs": [
    {
     "data": {
      "text/html": [
       "<div>\n",
       "<style scoped>\n",
       "    .dataframe tbody tr th:only-of-type {\n",
       "        vertical-align: middle;\n",
       "    }\n",
       "\n",
       "    .dataframe tbody tr th {\n",
       "        vertical-align: top;\n",
       "    }\n",
       "\n",
       "    .dataframe thead th {\n",
       "        text-align: right;\n",
       "    }\n",
       "</style>\n",
       "<table border=\"1\" class=\"dataframe\">\n",
       "  <thead>\n",
       "    <tr style=\"text-align: right;\">\n",
       "      <th></th>\n",
       "      <th>DP</th>\n",
       "      <th>DPNOM</th>\n",
       "      <th>AÑO</th>\n",
       "      <th>ÁREA GEOGRÁFICA</th>\n",
       "      <th>Población</th>\n",
       "    </tr>\n",
       "  </thead>\n",
       "  <tbody>\n",
       "    <tr>\n",
       "      <th>0</th>\n",
       "      <td>5</td>\n",
       "      <td>Antioquia</td>\n",
       "      <td>2020</td>\n",
       "      <td>Cabecera</td>\n",
       "      <td>5250157</td>\n",
       "    </tr>\n",
       "    <tr>\n",
       "      <th>1</th>\n",
       "      <td>5</td>\n",
       "      <td>Antioquia</td>\n",
       "      <td>2020</td>\n",
       "      <td>Centros Poblados y Rural Disperso</td>\n",
       "      <td>1399244</td>\n",
       "    </tr>\n",
       "    <tr>\n",
       "      <th>2</th>\n",
       "      <td>5</td>\n",
       "      <td>Antioquia</td>\n",
       "      <td>2020</td>\n",
       "      <td>Total</td>\n",
       "      <td>6649401</td>\n",
       "    </tr>\n",
       "    <tr>\n",
       "      <th>3</th>\n",
       "      <td>5</td>\n",
       "      <td>Antioquia</td>\n",
       "      <td>2021</td>\n",
       "      <td>Cabecera</td>\n",
       "      <td>5350556</td>\n",
       "    </tr>\n",
       "    <tr>\n",
       "      <th>4</th>\n",
       "      <td>5</td>\n",
       "      <td>Antioquia</td>\n",
       "      <td>2021</td>\n",
       "      <td>Centros Poblados y Rural Disperso</td>\n",
       "      <td>1375663</td>\n",
       "    </tr>\n",
       "  </tbody>\n",
       "</table>\n",
       "</div>"
      ],
      "text/plain": [
       "   DP      DPNOM   AÑO                    ÁREA GEOGRÁFICA  Población\n",
       "0   5  Antioquia  2020                           Cabecera    5250157\n",
       "1   5  Antioquia  2020  Centros Poblados y Rural Disperso    1399244\n",
       "2   5  Antioquia  2020                              Total    6649401\n",
       "3   5  Antioquia  2021                           Cabecera    5350556\n",
       "4   5  Antioquia  2021  Centros Poblados y Rural Disperso    1375663"
      ]
     },
     "execution_count": 270,
     "metadata": {},
     "output_type": "execute_result"
    }
   ],
   "source": [
    "df_poblacion_2022.head()"
   ]
  },
  {
   "cell_type": "code",
   "execution_count": 271,
   "metadata": {},
   "outputs": [
    {
     "data": {
      "text/html": [
       "<div>\n",
       "<style scoped>\n",
       "    .dataframe tbody tr th:only-of-type {\n",
       "        vertical-align: middle;\n",
       "    }\n",
       "\n",
       "    .dataframe tbody tr th {\n",
       "        vertical-align: top;\n",
       "    }\n",
       "\n",
       "    .dataframe thead th {\n",
       "        text-align: right;\n",
       "    }\n",
       "</style>\n",
       "<table border=\"1\" class=\"dataframe\">\n",
       "  <thead>\n",
       "    <tr style=\"text-align: right;\">\n",
       "      <th></th>\n",
       "      <th>DP</th>\n",
       "      <th>DPNOM</th>\n",
       "      <th>Población</th>\n",
       "      <th>Población_M</th>\n",
       "      <th>Codigo</th>\n",
       "      <th>Departamento_DANE</th>\n",
       "      <th>Departamento</th>\n",
       "    </tr>\n",
       "  </thead>\n",
       "  <tbody>\n",
       "    <tr>\n",
       "      <th>0</th>\n",
       "      <td>97</td>\n",
       "      <td>Vaupés</td>\n",
       "      <td>45579</td>\n",
       "      <td>0.05</td>\n",
       "      <td>97</td>\n",
       "      <td>Vaupés</td>\n",
       "      <td>Vaupés</td>\n",
       "    </tr>\n",
       "    <tr>\n",
       "      <th>1</th>\n",
       "      <td>94</td>\n",
       "      <td>Guainía</td>\n",
       "      <td>55091</td>\n",
       "      <td>0.06</td>\n",
       "      <td>94</td>\n",
       "      <td>Guainía</td>\n",
       "      <td>Guainía</td>\n",
       "    </tr>\n",
       "    <tr>\n",
       "      <th>2</th>\n",
       "      <td>88</td>\n",
       "      <td>Archipiélago de San Andrés</td>\n",
       "      <td>62255</td>\n",
       "      <td>0.06</td>\n",
       "      <td>88</td>\n",
       "      <td>Archipiélago de San Andrés</td>\n",
       "      <td>San Andrés y Providencia</td>\n",
       "    </tr>\n",
       "    <tr>\n",
       "      <th>3</th>\n",
       "      <td>91</td>\n",
       "      <td>Amazonas</td>\n",
       "      <td>83690</td>\n",
       "      <td>0.08</td>\n",
       "      <td>91</td>\n",
       "      <td>Amazonas</td>\n",
       "      <td>Amazonas</td>\n",
       "    </tr>\n",
       "    <tr>\n",
       "      <th>4</th>\n",
       "      <td>95</td>\n",
       "      <td>Guaviare</td>\n",
       "      <td>94625</td>\n",
       "      <td>0.09</td>\n",
       "      <td>95</td>\n",
       "      <td>Guaviare</td>\n",
       "      <td>Guaviare</td>\n",
       "    </tr>\n",
       "    <tr>\n",
       "      <th>5</th>\n",
       "      <td>99</td>\n",
       "      <td>Vichada</td>\n",
       "      <td>120942</td>\n",
       "      <td>0.12</td>\n",
       "      <td>99</td>\n",
       "      <td>Vichada</td>\n",
       "      <td>Vichada</td>\n",
       "    </tr>\n",
       "    <tr>\n",
       "      <th>6</th>\n",
       "      <td>81</td>\n",
       "      <td>Arauca</td>\n",
       "      <td>307628</td>\n",
       "      <td>0.31</td>\n",
       "      <td>81</td>\n",
       "      <td>Arauca</td>\n",
       "      <td>Arauca</td>\n",
       "    </tr>\n",
       "    <tr>\n",
       "      <th>7</th>\n",
       "      <td>86</td>\n",
       "      <td>Putumayo</td>\n",
       "      <td>377095</td>\n",
       "      <td>0.38</td>\n",
       "      <td>86</td>\n",
       "      <td>Putumayo</td>\n",
       "      <td>Putumayo</td>\n",
       "    </tr>\n",
       "    <tr>\n",
       "      <th>8</th>\n",
       "      <td>18</td>\n",
       "      <td>Caquetá</td>\n",
       "      <td>421797</td>\n",
       "      <td>0.42</td>\n",
       "      <td>18</td>\n",
       "      <td>Caquetá</td>\n",
       "      <td>Caquetá</td>\n",
       "    </tr>\n",
       "    <tr>\n",
       "      <th>9</th>\n",
       "      <td>85</td>\n",
       "      <td>Casanare</td>\n",
       "      <td>459973</td>\n",
       "      <td>0.46</td>\n",
       "      <td>85</td>\n",
       "      <td>Casanare</td>\n",
       "      <td>Casanare</td>\n",
       "    </tr>\n",
       "    <tr>\n",
       "      <th>10</th>\n",
       "      <td>63</td>\n",
       "      <td>Quindio</td>\n",
       "      <td>559810</td>\n",
       "      <td>0.56</td>\n",
       "      <td>63</td>\n",
       "      <td>Quindio</td>\n",
       "      <td>Quindío</td>\n",
       "    </tr>\n",
       "    <tr>\n",
       "      <th>11</th>\n",
       "      <td>27</td>\n",
       "      <td>Chocó</td>\n",
       "      <td>584521</td>\n",
       "      <td>0.58</td>\n",
       "      <td>27</td>\n",
       "      <td>Chocó</td>\n",
       "      <td>Chocó</td>\n",
       "    </tr>\n",
       "    <tr>\n",
       "      <th>12</th>\n",
       "      <td>66</td>\n",
       "      <td>Risaralda</td>\n",
       "      <td>970138</td>\n",
       "      <td>0.97</td>\n",
       "      <td>66</td>\n",
       "      <td>Risaralda</td>\n",
       "      <td>Risaralda</td>\n",
       "    </tr>\n",
       "    <tr>\n",
       "      <th>13</th>\n",
       "      <td>70</td>\n",
       "      <td>Sucre</td>\n",
       "      <td>980942</td>\n",
       "      <td>0.98</td>\n",
       "      <td>70</td>\n",
       "      <td>Sucre</td>\n",
       "      <td>Sucre</td>\n",
       "    </tr>\n",
       "    <tr>\n",
       "      <th>14</th>\n",
       "      <td>44</td>\n",
       "      <td>La Guajira</td>\n",
       "      <td>1017121</td>\n",
       "      <td>1.02</td>\n",
       "      <td>44</td>\n",
       "      <td>La Guajira</td>\n",
       "      <td>La Guajira</td>\n",
       "    </tr>\n",
       "    <tr>\n",
       "      <th>15</th>\n",
       "      <td>17</td>\n",
       "      <td>Caldas</td>\n",
       "      <td>1034151</td>\n",
       "      <td>1.03</td>\n",
       "      <td>17</td>\n",
       "      <td>Caldas</td>\n",
       "      <td>Caldas</td>\n",
       "    </tr>\n",
       "    <tr>\n",
       "      <th>16</th>\n",
       "      <td>50</td>\n",
       "      <td>Meta</td>\n",
       "      <td>1113810</td>\n",
       "      <td>1.11</td>\n",
       "      <td>50</td>\n",
       "      <td>Meta</td>\n",
       "      <td>Meta</td>\n",
       "    </tr>\n",
       "    <tr>\n",
       "      <th>17</th>\n",
       "      <td>41</td>\n",
       "      <td>Huila</td>\n",
       "      <td>1164463</td>\n",
       "      <td>1.16</td>\n",
       "      <td>41</td>\n",
       "      <td>Huila</td>\n",
       "      <td>Huila</td>\n",
       "    </tr>\n",
       "    <tr>\n",
       "      <th>18</th>\n",
       "      <td>15</td>\n",
       "      <td>Boyacá</td>\n",
       "      <td>1285035</td>\n",
       "      <td>1.29</td>\n",
       "      <td>15</td>\n",
       "      <td>Boyacá</td>\n",
       "      <td>Boyacá</td>\n",
       "    </tr>\n",
       "    <tr>\n",
       "      <th>19</th>\n",
       "      <td>20</td>\n",
       "      <td>Cesar</td>\n",
       "      <td>1349162</td>\n",
       "      <td>1.35</td>\n",
       "      <td>20</td>\n",
       "      <td>Cesar</td>\n",
       "      <td>Cesar</td>\n",
       "    </tr>\n",
       "    <tr>\n",
       "      <th>20</th>\n",
       "      <td>73</td>\n",
       "      <td>Tolima</td>\n",
       "      <td>1367802</td>\n",
       "      <td>1.37</td>\n",
       "      <td>73</td>\n",
       "      <td>Tolima</td>\n",
       "      <td>Tolima</td>\n",
       "    </tr>\n",
       "    <tr>\n",
       "      <th>21</th>\n",
       "      <td>47</td>\n",
       "      <td>Magdalena</td>\n",
       "      <td>1476366</td>\n",
       "      <td>1.48</td>\n",
       "      <td>47</td>\n",
       "      <td>Magdalena</td>\n",
       "      <td>Magdalena</td>\n",
       "    </tr>\n",
       "    <tr>\n",
       "      <th>22</th>\n",
       "      <td>19</td>\n",
       "      <td>Cauca</td>\n",
       "      <td>1541265</td>\n",
       "      <td>1.54</td>\n",
       "      <td>19</td>\n",
       "      <td>Cauca</td>\n",
       "      <td>Cauca</td>\n",
       "    </tr>\n",
       "    <tr>\n",
       "      <th>23</th>\n",
       "      <td>54</td>\n",
       "      <td>Norte de Santander</td>\n",
       "      <td>1678975</td>\n",
       "      <td>1.68</td>\n",
       "      <td>54</td>\n",
       "      <td>Norte de Santander</td>\n",
       "      <td>Norte de Santander</td>\n",
       "    </tr>\n",
       "    <tr>\n",
       "      <th>24</th>\n",
       "      <td>52</td>\n",
       "      <td>Nariño</td>\n",
       "      <td>1689002</td>\n",
       "      <td>1.69</td>\n",
       "      <td>52</td>\n",
       "      <td>Nariño</td>\n",
       "      <td>Nariño</td>\n",
       "    </tr>\n",
       "    <tr>\n",
       "      <th>25</th>\n",
       "      <td>23</td>\n",
       "      <td>Córdoba</td>\n",
       "      <td>1882211</td>\n",
       "      <td>1.88</td>\n",
       "      <td>23</td>\n",
       "      <td>Córdoba</td>\n",
       "      <td>Córdoba</td>\n",
       "    </tr>\n",
       "    <tr>\n",
       "      <th>26</th>\n",
       "      <td>13</td>\n",
       "      <td>Bolívar</td>\n",
       "      <td>2227184</td>\n",
       "      <td>2.23</td>\n",
       "      <td>13</td>\n",
       "      <td>Bolívar</td>\n",
       "      <td>Bolívar</td>\n",
       "    </tr>\n",
       "    <tr>\n",
       "      <th>27</th>\n",
       "      <td>68</td>\n",
       "      <td>Santander</td>\n",
       "      <td>2335238</td>\n",
       "      <td>2.34</td>\n",
       "      <td>68</td>\n",
       "      <td>Santander</td>\n",
       "      <td>Santander</td>\n",
       "    </tr>\n",
       "    <tr>\n",
       "      <th>28</th>\n",
       "      <td>8</td>\n",
       "      <td>Atlántico</td>\n",
       "      <td>2774958</td>\n",
       "      <td>2.77</td>\n",
       "      <td>8</td>\n",
       "      <td>Atlántico</td>\n",
       "      <td>Atlántico</td>\n",
       "    </tr>\n",
       "    <tr>\n",
       "      <th>29</th>\n",
       "      <td>25</td>\n",
       "      <td>Cundinamarca</td>\n",
       "      <td>3334637</td>\n",
       "      <td>3.33</td>\n",
       "      <td>25</td>\n",
       "      <td>Cundinamarca</td>\n",
       "      <td>Cundinamarca</td>\n",
       "    </tr>\n",
       "    <tr>\n",
       "      <th>30</th>\n",
       "      <td>76</td>\n",
       "      <td>Valle del Cauca</td>\n",
       "      <td>4626064</td>\n",
       "      <td>4.63</td>\n",
       "      <td>76</td>\n",
       "      <td>Valle del Cauca</td>\n",
       "      <td>Valle del cauca</td>\n",
       "    </tr>\n",
       "    <tr>\n",
       "      <th>31</th>\n",
       "      <td>5</td>\n",
       "      <td>Antioquia</td>\n",
       "      <td>6787846</td>\n",
       "      <td>6.79</td>\n",
       "      <td>5</td>\n",
       "      <td>Antioquia</td>\n",
       "      <td>Antioquia</td>\n",
       "    </tr>\n",
       "    <tr>\n",
       "      <th>32</th>\n",
       "      <td>11</td>\n",
       "      <td>Bogotá, D.C.</td>\n",
       "      <td>7873316</td>\n",
       "      <td>7.87</td>\n",
       "      <td>11</td>\n",
       "      <td>Bogotá, D.C.</td>\n",
       "      <td>Bogotá D.C</td>\n",
       "    </tr>\n",
       "  </tbody>\n",
       "</table>\n",
       "</div>"
      ],
      "text/plain": [
       "    DP                       DPNOM  Población  Población_M  Codigo  \\\n",
       "0   97                      Vaupés      45579         0.05      97   \n",
       "1   94                     Guainía      55091         0.06      94   \n",
       "2   88  Archipiélago de San Andrés      62255         0.06      88   \n",
       "3   91                    Amazonas      83690         0.08      91   \n",
       "4   95                    Guaviare      94625         0.09      95   \n",
       "5   99                     Vichada     120942         0.12      99   \n",
       "6   81                      Arauca     307628         0.31      81   \n",
       "7   86                    Putumayo     377095         0.38      86   \n",
       "8   18                     Caquetá     421797         0.42      18   \n",
       "9   85                    Casanare     459973         0.46      85   \n",
       "10  63                     Quindio     559810         0.56      63   \n",
       "11  27                       Chocó     584521         0.58      27   \n",
       "12  66                   Risaralda     970138         0.97      66   \n",
       "13  70                       Sucre     980942         0.98      70   \n",
       "14  44                  La Guajira    1017121         1.02      44   \n",
       "15  17                      Caldas    1034151         1.03      17   \n",
       "16  50                        Meta    1113810         1.11      50   \n",
       "17  41                       Huila    1164463         1.16      41   \n",
       "18  15                      Boyacá    1285035         1.29      15   \n",
       "19  20                       Cesar    1349162         1.35      20   \n",
       "20  73                      Tolima    1367802         1.37      73   \n",
       "21  47                   Magdalena    1476366         1.48      47   \n",
       "22  19                       Cauca    1541265         1.54      19   \n",
       "23  54          Norte de Santander    1678975         1.68      54   \n",
       "24  52                      Nariño    1689002         1.69      52   \n",
       "25  23                     Córdoba    1882211         1.88      23   \n",
       "26  13                     Bolívar    2227184         2.23      13   \n",
       "27  68                   Santander    2335238         2.34      68   \n",
       "28   8                   Atlántico    2774958         2.77       8   \n",
       "29  25                Cundinamarca    3334637         3.33      25   \n",
       "30  76             Valle del Cauca    4626064         4.63      76   \n",
       "31   5                   Antioquia    6787846         6.79       5   \n",
       "32  11                Bogotá, D.C.    7873316         7.87      11   \n",
       "\n",
       "             Departamento_DANE              Departamento  \n",
       "0                       Vaupés                    Vaupés  \n",
       "1                      Guainía                   Guainía  \n",
       "2   Archipiélago de San Andrés  San Andrés y Providencia  \n",
       "3                     Amazonas                  Amazonas  \n",
       "4                     Guaviare                  Guaviare  \n",
       "5                      Vichada                   Vichada  \n",
       "6                       Arauca                    Arauca  \n",
       "7                     Putumayo                  Putumayo  \n",
       "8                      Caquetá                   Caquetá  \n",
       "9                     Casanare                  Casanare  \n",
       "10                     Quindio                   Quindío  \n",
       "11                       Chocó                     Chocó  \n",
       "12                   Risaralda                 Risaralda  \n",
       "13                       Sucre                     Sucre  \n",
       "14                  La Guajira                La Guajira  \n",
       "15                      Caldas                    Caldas  \n",
       "16                        Meta                      Meta  \n",
       "17                       Huila                     Huila  \n",
       "18                      Boyacá                    Boyacá  \n",
       "19                       Cesar                     Cesar  \n",
       "20                      Tolima                    Tolima  \n",
       "21                   Magdalena                 Magdalena  \n",
       "22                       Cauca                     Cauca  \n",
       "23          Norte de Santander        Norte de Santander  \n",
       "24                      Nariño                    Nariño  \n",
       "25                     Córdoba                   Córdoba  \n",
       "26                     Bolívar                   Bolívar  \n",
       "27                   Santander                 Santander  \n",
       "28                   Atlántico                 Atlántico  \n",
       "29                Cundinamarca              Cundinamarca  \n",
       "30             Valle del Cauca           Valle del cauca  \n",
       "31                   Antioquia                 Antioquia  \n",
       "32                Bogotá, D.C.                Bogotá D.C  "
      ]
     },
     "execution_count": 271,
     "metadata": {},
     "output_type": "execute_result"
    }
   ],
   "source": [
    "df_poblacion_2022 = df_poblacion_2022[(df_poblacion_2022['AÑO'] == 2022) & (df_poblacion_2022['ÁREA GEOGRÁFICA'] == 'Total')].reset_index(drop=True).drop(['AÑO', 'ÁREA GEOGRÁFICA'], axis=1).sort_values('Población').reset_index(drop=True)\n",
    "df_poblacion_2022['Población_M'] = (df_poblacion_2022['Población'] / 1e6).round(2)\n",
    "df_poblacion_2022 = pd.merge(df_poblacion_2022, df_departamentos_codigos[['Codigo', 'Departamento_DANE', 'Departamento']], how='inner', left_on='DPNOM', right_on='Departamento_DANE')\n",
    "df_poblacion_2022"
   ]
  },
  {
   "cell_type": "code",
   "execution_count": 272,
   "metadata": {},
   "outputs": [
    {
     "data": {
      "application/vnd.plotly.v1+json": {
       "config": {
        "plotlyServerURL": "https://plot.ly"
       },
       "data": [
        {
         "alignmentgroup": "True",
         "hovertemplate": "Población_M=%{x}<br>Departamento=%{y}<extra></extra>",
         "legendgroup": "",
         "marker": {
          "color": [
           "#3364C7",
           "#3364C7",
           "#3364C7",
           "#3364C7",
           "#3364C7",
           "#3364C7",
           "#3364C7",
           "#3364C7",
           "#3364C7",
           "#3364C7",
           "#3364C7",
           "#3364C7",
           "#3364C7",
           "#3364C7",
           "#3364C7",
           "#3364C7",
           "#3364C7",
           "#3364C7",
           "#3364C7",
           "#3364C7",
           "#3364C7",
           "#3364C7",
           "#3364C7",
           "#3364C7",
           "#3364C7",
           "#3364C7",
           "#3364C7",
           "#3364C7",
           "#3364C7",
           "#3364C7",
           "#3364C7",
           "#3364C7",
           "#3364C7"
          ],
          "pattern": {
           "shape": ""
          }
         },
         "name": "",
         "offsetgroup": "",
         "orientation": "h",
         "showlegend": false,
         "text": [
          0.05,
          0.06,
          0.06,
          0.08,
          0.09,
          0.12,
          0.31,
          0.38,
          0.42,
          0.46,
          0.56,
          0.58,
          0.97,
          0.98,
          1.02,
          1.03,
          1.11,
          1.16,
          1.29,
          1.35,
          1.37,
          1.48,
          1.54,
          1.68,
          1.69,
          1.88,
          2.23,
          2.34,
          2.77,
          3.33,
          4.63,
          6.79,
          7.87
         ],
         "textposition": "outside",
         "type": "bar",
         "x": [
          0.05,
          0.06,
          0.06,
          0.08,
          0.09,
          0.12,
          0.31,
          0.38,
          0.42,
          0.46,
          0.56,
          0.58,
          0.97,
          0.98,
          1.02,
          1.03,
          1.11,
          1.16,
          1.29,
          1.35,
          1.37,
          1.48,
          1.54,
          1.68,
          1.69,
          1.88,
          2.23,
          2.34,
          2.77,
          3.33,
          4.63,
          6.79,
          7.87
         ],
         "xaxis": "x",
         "y": [
          "Vaupés",
          "Guainía",
          "San Andrés y Providencia",
          "Amazonas",
          "Guaviare",
          "Vichada",
          "Arauca",
          "Putumayo",
          "Caquetá",
          "Casanare",
          "Quindío",
          "Chocó",
          "Risaralda",
          "Sucre",
          "La Guajira",
          "Caldas",
          "Meta",
          "Huila",
          "Boyacá",
          "Cesar",
          "Tolima",
          "Magdalena",
          "Cauca",
          "Norte de Santander",
          "Nariño",
          "Córdoba",
          "Bolívar",
          "Santander",
          "Atlántico",
          "Cundinamarca",
          "Valle del cauca",
          "Antioquia",
          "Bogotá D.C"
         ],
         "yaxis": "y"
        }
       ],
       "layout": {
        "barmode": "relative",
        "height": 700,
        "legend": {
         "tracegroupgap": 0
        },
        "margin": {
         "t": 60
        },
        "template": {
         "data": {
          "bar": [
           {
            "error_x": {
             "color": "#2a3f5f"
            },
            "error_y": {
             "color": "#2a3f5f"
            },
            "marker": {
             "line": {
              "color": "#E5ECF6",
              "width": 0.5
             },
             "pattern": {
              "fillmode": "overlay",
              "size": 10,
              "solidity": 0.2
             }
            },
            "type": "bar"
           }
          ],
          "barpolar": [
           {
            "marker": {
             "line": {
              "color": "#E5ECF6",
              "width": 0.5
             },
             "pattern": {
              "fillmode": "overlay",
              "size": 10,
              "solidity": 0.2
             }
            },
            "type": "barpolar"
           }
          ],
          "carpet": [
           {
            "aaxis": {
             "endlinecolor": "#2a3f5f",
             "gridcolor": "white",
             "linecolor": "white",
             "minorgridcolor": "white",
             "startlinecolor": "#2a3f5f"
            },
            "baxis": {
             "endlinecolor": "#2a3f5f",
             "gridcolor": "white",
             "linecolor": "white",
             "minorgridcolor": "white",
             "startlinecolor": "#2a3f5f"
            },
            "type": "carpet"
           }
          ],
          "choropleth": [
           {
            "colorbar": {
             "outlinewidth": 0,
             "ticks": ""
            },
            "type": "choropleth"
           }
          ],
          "contour": [
           {
            "colorbar": {
             "outlinewidth": 0,
             "ticks": ""
            },
            "colorscale": [
             [
              0,
              "#0d0887"
             ],
             [
              0.1111111111111111,
              "#46039f"
             ],
             [
              0.2222222222222222,
              "#7201a8"
             ],
             [
              0.3333333333333333,
              "#9c179e"
             ],
             [
              0.4444444444444444,
              "#bd3786"
             ],
             [
              0.5555555555555556,
              "#d8576b"
             ],
             [
              0.6666666666666666,
              "#ed7953"
             ],
             [
              0.7777777777777778,
              "#fb9f3a"
             ],
             [
              0.8888888888888888,
              "#fdca26"
             ],
             [
              1,
              "#f0f921"
             ]
            ],
            "type": "contour"
           }
          ],
          "contourcarpet": [
           {
            "colorbar": {
             "outlinewidth": 0,
             "ticks": ""
            },
            "type": "contourcarpet"
           }
          ],
          "heatmap": [
           {
            "colorbar": {
             "outlinewidth": 0,
             "ticks": ""
            },
            "colorscale": [
             [
              0,
              "#0d0887"
             ],
             [
              0.1111111111111111,
              "#46039f"
             ],
             [
              0.2222222222222222,
              "#7201a8"
             ],
             [
              0.3333333333333333,
              "#9c179e"
             ],
             [
              0.4444444444444444,
              "#bd3786"
             ],
             [
              0.5555555555555556,
              "#d8576b"
             ],
             [
              0.6666666666666666,
              "#ed7953"
             ],
             [
              0.7777777777777778,
              "#fb9f3a"
             ],
             [
              0.8888888888888888,
              "#fdca26"
             ],
             [
              1,
              "#f0f921"
             ]
            ],
            "type": "heatmap"
           }
          ],
          "heatmapgl": [
           {
            "colorbar": {
             "outlinewidth": 0,
             "ticks": ""
            },
            "colorscale": [
             [
              0,
              "#0d0887"
             ],
             [
              0.1111111111111111,
              "#46039f"
             ],
             [
              0.2222222222222222,
              "#7201a8"
             ],
             [
              0.3333333333333333,
              "#9c179e"
             ],
             [
              0.4444444444444444,
              "#bd3786"
             ],
             [
              0.5555555555555556,
              "#d8576b"
             ],
             [
              0.6666666666666666,
              "#ed7953"
             ],
             [
              0.7777777777777778,
              "#fb9f3a"
             ],
             [
              0.8888888888888888,
              "#fdca26"
             ],
             [
              1,
              "#f0f921"
             ]
            ],
            "type": "heatmapgl"
           }
          ],
          "histogram": [
           {
            "marker": {
             "pattern": {
              "fillmode": "overlay",
              "size": 10,
              "solidity": 0.2
             }
            },
            "type": "histogram"
           }
          ],
          "histogram2d": [
           {
            "colorbar": {
             "outlinewidth": 0,
             "ticks": ""
            },
            "colorscale": [
             [
              0,
              "#0d0887"
             ],
             [
              0.1111111111111111,
              "#46039f"
             ],
             [
              0.2222222222222222,
              "#7201a8"
             ],
             [
              0.3333333333333333,
              "#9c179e"
             ],
             [
              0.4444444444444444,
              "#bd3786"
             ],
             [
              0.5555555555555556,
              "#d8576b"
             ],
             [
              0.6666666666666666,
              "#ed7953"
             ],
             [
              0.7777777777777778,
              "#fb9f3a"
             ],
             [
              0.8888888888888888,
              "#fdca26"
             ],
             [
              1,
              "#f0f921"
             ]
            ],
            "type": "histogram2d"
           }
          ],
          "histogram2dcontour": [
           {
            "colorbar": {
             "outlinewidth": 0,
             "ticks": ""
            },
            "colorscale": [
             [
              0,
              "#0d0887"
             ],
             [
              0.1111111111111111,
              "#46039f"
             ],
             [
              0.2222222222222222,
              "#7201a8"
             ],
             [
              0.3333333333333333,
              "#9c179e"
             ],
             [
              0.4444444444444444,
              "#bd3786"
             ],
             [
              0.5555555555555556,
              "#d8576b"
             ],
             [
              0.6666666666666666,
              "#ed7953"
             ],
             [
              0.7777777777777778,
              "#fb9f3a"
             ],
             [
              0.8888888888888888,
              "#fdca26"
             ],
             [
              1,
              "#f0f921"
             ]
            ],
            "type": "histogram2dcontour"
           }
          ],
          "mesh3d": [
           {
            "colorbar": {
             "outlinewidth": 0,
             "ticks": ""
            },
            "type": "mesh3d"
           }
          ],
          "parcoords": [
           {
            "line": {
             "colorbar": {
              "outlinewidth": 0,
              "ticks": ""
             }
            },
            "type": "parcoords"
           }
          ],
          "pie": [
           {
            "automargin": true,
            "type": "pie"
           }
          ],
          "scatter": [
           {
            "fillpattern": {
             "fillmode": "overlay",
             "size": 10,
             "solidity": 0.2
            },
            "type": "scatter"
           }
          ],
          "scatter3d": [
           {
            "line": {
             "colorbar": {
              "outlinewidth": 0,
              "ticks": ""
             }
            },
            "marker": {
             "colorbar": {
              "outlinewidth": 0,
              "ticks": ""
             }
            },
            "type": "scatter3d"
           }
          ],
          "scattercarpet": [
           {
            "marker": {
             "colorbar": {
              "outlinewidth": 0,
              "ticks": ""
             }
            },
            "type": "scattercarpet"
           }
          ],
          "scattergeo": [
           {
            "marker": {
             "colorbar": {
              "outlinewidth": 0,
              "ticks": ""
             }
            },
            "type": "scattergeo"
           }
          ],
          "scattergl": [
           {
            "marker": {
             "colorbar": {
              "outlinewidth": 0,
              "ticks": ""
             }
            },
            "type": "scattergl"
           }
          ],
          "scattermapbox": [
           {
            "marker": {
             "colorbar": {
              "outlinewidth": 0,
              "ticks": ""
             }
            },
            "type": "scattermapbox"
           }
          ],
          "scatterpolar": [
           {
            "marker": {
             "colorbar": {
              "outlinewidth": 0,
              "ticks": ""
             }
            },
            "type": "scatterpolar"
           }
          ],
          "scatterpolargl": [
           {
            "marker": {
             "colorbar": {
              "outlinewidth": 0,
              "ticks": ""
             }
            },
            "type": "scatterpolargl"
           }
          ],
          "scatterternary": [
           {
            "marker": {
             "colorbar": {
              "outlinewidth": 0,
              "ticks": ""
             }
            },
            "type": "scatterternary"
           }
          ],
          "surface": [
           {
            "colorbar": {
             "outlinewidth": 0,
             "ticks": ""
            },
            "colorscale": [
             [
              0,
              "#0d0887"
             ],
             [
              0.1111111111111111,
              "#46039f"
             ],
             [
              0.2222222222222222,
              "#7201a8"
             ],
             [
              0.3333333333333333,
              "#9c179e"
             ],
             [
              0.4444444444444444,
              "#bd3786"
             ],
             [
              0.5555555555555556,
              "#d8576b"
             ],
             [
              0.6666666666666666,
              "#ed7953"
             ],
             [
              0.7777777777777778,
              "#fb9f3a"
             ],
             [
              0.8888888888888888,
              "#fdca26"
             ],
             [
              1,
              "#f0f921"
             ]
            ],
            "type": "surface"
           }
          ],
          "table": [
           {
            "cells": {
             "fill": {
              "color": "#EBF0F8"
             },
             "line": {
              "color": "white"
             }
            },
            "header": {
             "fill": {
              "color": "#C8D4E3"
             },
             "line": {
              "color": "white"
             }
            },
            "type": "table"
           }
          ]
         },
         "layout": {
          "annotationdefaults": {
           "arrowcolor": "#2a3f5f",
           "arrowhead": 0,
           "arrowwidth": 1
          },
          "autotypenumbers": "strict",
          "coloraxis": {
           "colorbar": {
            "outlinewidth": 0,
            "ticks": ""
           }
          },
          "colorscale": {
           "diverging": [
            [
             0,
             "#8e0152"
            ],
            [
             0.1,
             "#c51b7d"
            ],
            [
             0.2,
             "#de77ae"
            ],
            [
             0.3,
             "#f1b6da"
            ],
            [
             0.4,
             "#fde0ef"
            ],
            [
             0.5,
             "#f7f7f7"
            ],
            [
             0.6,
             "#e6f5d0"
            ],
            [
             0.7,
             "#b8e186"
            ],
            [
             0.8,
             "#7fbc41"
            ],
            [
             0.9,
             "#4d9221"
            ],
            [
             1,
             "#276419"
            ]
           ],
           "sequential": [
            [
             0,
             "#0d0887"
            ],
            [
             0.1111111111111111,
             "#46039f"
            ],
            [
             0.2222222222222222,
             "#7201a8"
            ],
            [
             0.3333333333333333,
             "#9c179e"
            ],
            [
             0.4444444444444444,
             "#bd3786"
            ],
            [
             0.5555555555555556,
             "#d8576b"
            ],
            [
             0.6666666666666666,
             "#ed7953"
            ],
            [
             0.7777777777777778,
             "#fb9f3a"
            ],
            [
             0.8888888888888888,
             "#fdca26"
            ],
            [
             1,
             "#f0f921"
            ]
           ],
           "sequentialminus": [
            [
             0,
             "#0d0887"
            ],
            [
             0.1111111111111111,
             "#46039f"
            ],
            [
             0.2222222222222222,
             "#7201a8"
            ],
            [
             0.3333333333333333,
             "#9c179e"
            ],
            [
             0.4444444444444444,
             "#bd3786"
            ],
            [
             0.5555555555555556,
             "#d8576b"
            ],
            [
             0.6666666666666666,
             "#ed7953"
            ],
            [
             0.7777777777777778,
             "#fb9f3a"
            ],
            [
             0.8888888888888888,
             "#fdca26"
            ],
            [
             1,
             "#f0f921"
            ]
           ]
          },
          "colorway": [
           "#636efa",
           "#EF553B",
           "#00cc96",
           "#ab63fa",
           "#FFA15A",
           "#19d3f3",
           "#FF6692",
           "#B6E880",
           "#FF97FF",
           "#FECB52"
          ],
          "font": {
           "color": "#2a3f5f"
          },
          "geo": {
           "bgcolor": "white",
           "lakecolor": "white",
           "landcolor": "#E5ECF6",
           "showlakes": true,
           "showland": true,
           "subunitcolor": "white"
          },
          "hoverlabel": {
           "align": "left"
          },
          "hovermode": "closest",
          "mapbox": {
           "style": "light"
          },
          "paper_bgcolor": "white",
          "plot_bgcolor": "#E5ECF6",
          "polar": {
           "angularaxis": {
            "gridcolor": "white",
            "linecolor": "white",
            "ticks": ""
           },
           "bgcolor": "#E5ECF6",
           "radialaxis": {
            "gridcolor": "white",
            "linecolor": "white",
            "ticks": ""
           }
          },
          "scene": {
           "xaxis": {
            "backgroundcolor": "#E5ECF6",
            "gridcolor": "white",
            "gridwidth": 2,
            "linecolor": "white",
            "showbackground": true,
            "ticks": "",
            "zerolinecolor": "white"
           },
           "yaxis": {
            "backgroundcolor": "#E5ECF6",
            "gridcolor": "white",
            "gridwidth": 2,
            "linecolor": "white",
            "showbackground": true,
            "ticks": "",
            "zerolinecolor": "white"
           },
           "zaxis": {
            "backgroundcolor": "#E5ECF6",
            "gridcolor": "white",
            "gridwidth": 2,
            "linecolor": "white",
            "showbackground": true,
            "ticks": "",
            "zerolinecolor": "white"
           }
          },
          "shapedefaults": {
           "line": {
            "color": "#2a3f5f"
           }
          },
          "ternary": {
           "aaxis": {
            "gridcolor": "white",
            "linecolor": "white",
            "ticks": ""
           },
           "baxis": {
            "gridcolor": "white",
            "linecolor": "white",
            "ticks": ""
           },
           "bgcolor": "#E5ECF6",
           "caxis": {
            "gridcolor": "white",
            "linecolor": "white",
            "ticks": ""
           }
          },
          "title": {
           "x": 0.05
          },
          "xaxis": {
           "automargin": true,
           "gridcolor": "white",
           "linecolor": "white",
           "ticks": "",
           "title": {
            "standoff": 15
           },
           "zerolinecolor": "white",
           "zerolinewidth": 2
          },
          "yaxis": {
           "automargin": true,
           "gridcolor": "white",
           "linecolor": "white",
           "ticks": "",
           "title": {
            "standoff": 15
           },
           "zerolinecolor": "white",
           "zerolinewidth": 2
          }
         }
        },
        "title": {
         "text": "Habitantes por Departamento - 2022"
        },
        "width": 800,
        "xaxis": {
         "anchor": "y",
         "domain": [
          0,
          1
         ],
         "range": [
          0,
          9
         ],
         "title": {
          "text": "Habitantes (Millones)"
         }
        },
        "yaxis": {
         "anchor": "x",
         "domain": [
          0,
          1
         ],
         "title": {
          "text": "Departamento"
         }
        }
       }
      }
     },
     "metadata": {},
     "output_type": "display_data"
    }
   ],
   "source": [
    "fig = px.bar(data_frame=df_poblacion_2022, \n",
    "             x='Población_M', \n",
    "             y='Departamento', \n",
    "             orientation='h')\n",
    "\n",
    "fig.update_xaxes(range=[0,9])\n",
    "fig.update_xaxes(title_text='Habitantes (Millones)')\n",
    "fig.update_yaxes(title_text='Departamento')\n",
    "fig.update_layout(title='Habitantes por Departamento - 2022')\n",
    "\n",
    "color_sequence = ['#3364C7' for i in departamentos]\n",
    "fig.update_traces(marker=dict(color=color_sequence))\n",
    "\n",
    "fig.update_traces(text=df_poblacion_2022['Población_M'], textposition='outside')\n",
    "\n",
    "# fig.update_layout(plot_bgcolor='rgba(0,0,0,0)')\n",
    "\n",
    "fig.update_layout(width=800, height=700)\n",
    "\n",
    "fig.show()"
   ]
  },
  {
   "cell_type": "code",
   "execution_count": 273,
   "metadata": {},
   "outputs": [
    {
     "data": {
      "image/png": "[encoded data removed]",
      "text/plain": [
       "<Figure size 640x480 with 1 Axes>"
      ]
     },
     "metadata": {},
     "output_type": "display_data"
    }
   ],
   "source": [
    "first_n_items = 5\n",
    "\n",
    "departamentos_top_ips_2013 = list(df_radiografia['Departamento'])[-first_n_items:]\n",
    "departamentos_top_ips = list(df_num_reps['Departamento'])[-first_n_items:]\n",
    "departamentos_top_poblacion = list(df_poblacion_2022['Departamento'])[-first_n_items:]\n",
    "\n",
    "set1 = set(departamentos_top_ips)\n",
    "set2 = set(departamentos_top_ips_2013)\n",
    "set3 = set(departamentos_top_poblacion)\n",
    "\n",
    "# Calculate the intersection\n",
    "# intersection = set1.intersection(set2)\n",
    "\n",
    "# Create a Venn diagram\n",
    "venn2([set1, set3], ('Top Departamentos IPS - 2022', 'Top Departamentos por Población - 2022'))\n",
    "\n",
    "venn2_circles([set1, set3], linestyle='dashed', linewidth=2, color='grey')\n",
    "\n",
    "# Add a label for the intersection (common items)\n",
    "# plt.annotate(intersection, xy=(0.3, 0.35), fontsize=12, color='red')\n",
    "\n",
    "plt.title(f'Departamentos que comparten top {first_n_items}')\n",
    "\n",
    "# Display the plot\n",
    "plt.show()"
   ]
  },
  {
   "cell_type": "markdown",
   "metadata": {},
   "source": [
    "# IPS por Habitantes - 2022"
   ]
  },
  {
   "cell_type": "code",
   "execution_count": 274,
   "metadata": {},
   "outputs": [
    {
     "data": {
      "text/plain": [
       "(19726, 51682692, 38.16751650629963)"
      ]
     },
     "execution_count": 274,
     "metadata": {},
     "output_type": "execute_result"
    }
   ],
   "source": [
    "df_num_reps['IPS_2022'].sum(), df_poblacion_2022['Población'].sum(), df_num_reps['IPS_2022'].sum() / df_poblacion_2022['Población'].sum() * 1e5"
   ]
  },
  {
   "cell_type": "code",
   "execution_count": 275,
   "metadata": {},
   "outputs": [
    {
     "data": {
      "text/html": [
       "<div>\n",
       "<style scoped>\n",
       "    .dataframe tbody tr th:only-of-type {\n",
       "        vertical-align: middle;\n",
       "    }\n",
       "\n",
       "    .dataframe tbody tr th {\n",
       "        vertical-align: top;\n",
       "    }\n",
       "\n",
       "    .dataframe thead th {\n",
       "        text-align: right;\n",
       "    }\n",
       "</style>\n",
       "<table border=\"1\" class=\"dataframe\">\n",
       "  <thead>\n",
       "    <tr style=\"text-align: right;\">\n",
       "      <th></th>\n",
       "      <th>Departamento</th>\n",
       "      <th>IPS_2022</th>\n",
       "      <th>porcentaje</th>\n",
       "      <th>DP</th>\n",
       "      <th>DPNOM</th>\n",
       "      <th>Población</th>\n",
       "      <th>Población_M</th>\n",
       "      <th>Codigo</th>\n",
       "      <th>Departamento_DANE</th>\n",
       "      <th>IPS/Habitantes</th>\n",
       "    </tr>\n",
       "  </thead>\n",
       "  <tbody>\n",
       "    <tr>\n",
       "      <th>0</th>\n",
       "      <td>Vichada</td>\n",
       "      <td>12</td>\n",
       "      <td>0.06</td>\n",
       "      <td>99</td>\n",
       "      <td>Vichada</td>\n",
       "      <td>120942</td>\n",
       "      <td>0.12</td>\n",
       "      <td>99</td>\n",
       "      <td>Vichada</td>\n",
       "      <td>10.0</td>\n",
       "    </tr>\n",
       "    <tr>\n",
       "      <th>1</th>\n",
       "      <td>Guainía</td>\n",
       "      <td>12</td>\n",
       "      <td>0.06</td>\n",
       "      <td>94</td>\n",
       "      <td>Guainía</td>\n",
       "      <td>55091</td>\n",
       "      <td>0.06</td>\n",
       "      <td>94</td>\n",
       "      <td>Guainía</td>\n",
       "      <td>22.0</td>\n",
       "    </tr>\n",
       "    <tr>\n",
       "      <th>2</th>\n",
       "      <td>Cundinamarca</td>\n",
       "      <td>818</td>\n",
       "      <td>4.15</td>\n",
       "      <td>25</td>\n",
       "      <td>Cundinamarca</td>\n",
       "      <td>3334637</td>\n",
       "      <td>3.33</td>\n",
       "      <td>25</td>\n",
       "      <td>Cundinamarca</td>\n",
       "      <td>25.0</td>\n",
       "    </tr>\n",
       "    <tr>\n",
       "      <th>3</th>\n",
       "      <td>Caquetá</td>\n",
       "      <td>109</td>\n",
       "      <td>0.55</td>\n",
       "      <td>18</td>\n",
       "      <td>Caquetá</td>\n",
       "      <td>421797</td>\n",
       "      <td>0.42</td>\n",
       "      <td>18</td>\n",
       "      <td>Caquetá</td>\n",
       "      <td>26.0</td>\n",
       "    </tr>\n",
       "    <tr>\n",
       "      <th>4</th>\n",
       "      <td>Amazonas</td>\n",
       "      <td>25</td>\n",
       "      <td>0.13</td>\n",
       "      <td>91</td>\n",
       "      <td>Amazonas</td>\n",
       "      <td>83690</td>\n",
       "      <td>0.08</td>\n",
       "      <td>91</td>\n",
       "      <td>Amazonas</td>\n",
       "      <td>30.0</td>\n",
       "    </tr>\n",
       "    <tr>\n",
       "      <th>5</th>\n",
       "      <td>Norte de Santander</td>\n",
       "      <td>518</td>\n",
       "      <td>2.63</td>\n",
       "      <td>54</td>\n",
       "      <td>Norte de Santander</td>\n",
       "      <td>1678975</td>\n",
       "      <td>1.68</td>\n",
       "      <td>54</td>\n",
       "      <td>Norte de Santander</td>\n",
       "      <td>31.0</td>\n",
       "    </tr>\n",
       "    <tr>\n",
       "      <th>6</th>\n",
       "      <td>Cauca</td>\n",
       "      <td>480</td>\n",
       "      <td>2.43</td>\n",
       "      <td>19</td>\n",
       "      <td>Cauca</td>\n",
       "      <td>1541265</td>\n",
       "      <td>1.54</td>\n",
       "      <td>19</td>\n",
       "      <td>Cauca</td>\n",
       "      <td>31.0</td>\n",
       "    </tr>\n",
       "    <tr>\n",
       "      <th>7</th>\n",
       "      <td>Antioquia</td>\n",
       "      <td>2145</td>\n",
       "      <td>10.87</td>\n",
       "      <td>5</td>\n",
       "      <td>Antioquia</td>\n",
       "      <td>6787846</td>\n",
       "      <td>6.79</td>\n",
       "      <td>5</td>\n",
       "      <td>Antioquia</td>\n",
       "      <td>32.0</td>\n",
       "    </tr>\n",
       "    <tr>\n",
       "      <th>8</th>\n",
       "      <td>Huila</td>\n",
       "      <td>373</td>\n",
       "      <td>1.89</td>\n",
       "      <td>41</td>\n",
       "      <td>Huila</td>\n",
       "      <td>1164463</td>\n",
       "      <td>1.16</td>\n",
       "      <td>41</td>\n",
       "      <td>Huila</td>\n",
       "      <td>32.0</td>\n",
       "    </tr>\n",
       "    <tr>\n",
       "      <th>9</th>\n",
       "      <td>Putumayo</td>\n",
       "      <td>124</td>\n",
       "      <td>0.63</td>\n",
       "      <td>86</td>\n",
       "      <td>Putumayo</td>\n",
       "      <td>377095</td>\n",
       "      <td>0.38</td>\n",
       "      <td>86</td>\n",
       "      <td>Putumayo</td>\n",
       "      <td>33.0</td>\n",
       "    </tr>\n",
       "    <tr>\n",
       "      <th>10</th>\n",
       "      <td>Caldas</td>\n",
       "      <td>345</td>\n",
       "      <td>1.75</td>\n",
       "      <td>17</td>\n",
       "      <td>Caldas</td>\n",
       "      <td>1034151</td>\n",
       "      <td>1.03</td>\n",
       "      <td>17</td>\n",
       "      <td>Caldas</td>\n",
       "      <td>33.0</td>\n",
       "    </tr>\n",
       "    <tr>\n",
       "      <th>11</th>\n",
       "      <td>Guaviare</td>\n",
       "      <td>34</td>\n",
       "      <td>0.17</td>\n",
       "      <td>95</td>\n",
       "      <td>Guaviare</td>\n",
       "      <td>94625</td>\n",
       "      <td>0.09</td>\n",
       "      <td>95</td>\n",
       "      <td>Guaviare</td>\n",
       "      <td>36.0</td>\n",
       "    </tr>\n",
       "    <tr>\n",
       "      <th>12</th>\n",
       "      <td>Bogotá D.C</td>\n",
       "      <td>2892</td>\n",
       "      <td>14.66</td>\n",
       "      <td>11</td>\n",
       "      <td>Bogotá, D.C.</td>\n",
       "      <td>7873316</td>\n",
       "      <td>7.87</td>\n",
       "      <td>11</td>\n",
       "      <td>Bogotá, D.C.</td>\n",
       "      <td>37.0</td>\n",
       "    </tr>\n",
       "    <tr>\n",
       "      <th>13</th>\n",
       "      <td>Risaralda</td>\n",
       "      <td>368</td>\n",
       "      <td>1.87</td>\n",
       "      <td>66</td>\n",
       "      <td>Risaralda</td>\n",
       "      <td>970138</td>\n",
       "      <td>0.97</td>\n",
       "      <td>66</td>\n",
       "      <td>Risaralda</td>\n",
       "      <td>38.0</td>\n",
       "    </tr>\n",
       "    <tr>\n",
       "      <th>14</th>\n",
       "      <td>Tolima</td>\n",
       "      <td>525</td>\n",
       "      <td>2.66</td>\n",
       "      <td>73</td>\n",
       "      <td>Tolima</td>\n",
       "      <td>1367802</td>\n",
       "      <td>1.37</td>\n",
       "      <td>73</td>\n",
       "      <td>Tolima</td>\n",
       "      <td>38.0</td>\n",
       "    </tr>\n",
       "    <tr>\n",
       "      <th>15</th>\n",
       "      <td>Valle del cauca</td>\n",
       "      <td>1869</td>\n",
       "      <td>9.47</td>\n",
       "      <td>76</td>\n",
       "      <td>Valle del Cauca</td>\n",
       "      <td>4626064</td>\n",
       "      <td>4.63</td>\n",
       "      <td>76</td>\n",
       "      <td>Valle del Cauca</td>\n",
       "      <td>40.0</td>\n",
       "    </tr>\n",
       "    <tr>\n",
       "      <th>16</th>\n",
       "      <td>San Andrés y Providencia</td>\n",
       "      <td>25</td>\n",
       "      <td>0.13</td>\n",
       "      <td>88</td>\n",
       "      <td>Archipiélago de San Andrés</td>\n",
       "      <td>62255</td>\n",
       "      <td>0.06</td>\n",
       "      <td>88</td>\n",
       "      <td>Archipiélago de San Andrés</td>\n",
       "      <td>40.0</td>\n",
       "    </tr>\n",
       "    <tr>\n",
       "      <th>17</th>\n",
       "      <td>Quindío</td>\n",
       "      <td>236</td>\n",
       "      <td>1.20</td>\n",
       "      <td>63</td>\n",
       "      <td>Quindio</td>\n",
       "      <td>559810</td>\n",
       "      <td>0.56</td>\n",
       "      <td>63</td>\n",
       "      <td>Quindio</td>\n",
       "      <td>42.0</td>\n",
       "    </tr>\n",
       "    <tr>\n",
       "      <th>18</th>\n",
       "      <td>La Guajira</td>\n",
       "      <td>427</td>\n",
       "      <td>2.16</td>\n",
       "      <td>44</td>\n",
       "      <td>La Guajira</td>\n",
       "      <td>1017121</td>\n",
       "      <td>1.02</td>\n",
       "      <td>44</td>\n",
       "      <td>La Guajira</td>\n",
       "      <td>42.0</td>\n",
       "    </tr>\n",
       "    <tr>\n",
       "      <th>19</th>\n",
       "      <td>Meta</td>\n",
       "      <td>483</td>\n",
       "      <td>2.45</td>\n",
       "      <td>50</td>\n",
       "      <td>Meta</td>\n",
       "      <td>1113810</td>\n",
       "      <td>1.11</td>\n",
       "      <td>50</td>\n",
       "      <td>Meta</td>\n",
       "      <td>43.0</td>\n",
       "    </tr>\n",
       "    <tr>\n",
       "      <th>20</th>\n",
       "      <td>Boyacá</td>\n",
       "      <td>562</td>\n",
       "      <td>2.85</td>\n",
       "      <td>15</td>\n",
       "      <td>Boyacá</td>\n",
       "      <td>1285035</td>\n",
       "      <td>1.29</td>\n",
       "      <td>15</td>\n",
       "      <td>Boyacá</td>\n",
       "      <td>44.0</td>\n",
       "    </tr>\n",
       "    <tr>\n",
       "      <th>21</th>\n",
       "      <td>Córdoba</td>\n",
       "      <td>821</td>\n",
       "      <td>4.16</td>\n",
       "      <td>23</td>\n",
       "      <td>Córdoba</td>\n",
       "      <td>1882211</td>\n",
       "      <td>1.88</td>\n",
       "      <td>23</td>\n",
       "      <td>Córdoba</td>\n",
       "      <td>44.0</td>\n",
       "    </tr>\n",
       "    <tr>\n",
       "      <th>22</th>\n",
       "      <td>Bolívar</td>\n",
       "      <td>970</td>\n",
       "      <td>4.92</td>\n",
       "      <td>13</td>\n",
       "      <td>Bolívar</td>\n",
       "      <td>2227184</td>\n",
       "      <td>2.23</td>\n",
       "      <td>13</td>\n",
       "      <td>Bolívar</td>\n",
       "      <td>44.0</td>\n",
       "    </tr>\n",
       "    <tr>\n",
       "      <th>23</th>\n",
       "      <td>Atlántico</td>\n",
       "      <td>1217</td>\n",
       "      <td>6.17</td>\n",
       "      <td>8</td>\n",
       "      <td>Atlántico</td>\n",
       "      <td>2774958</td>\n",
       "      <td>2.77</td>\n",
       "      <td>8</td>\n",
       "      <td>Atlántico</td>\n",
       "      <td>44.0</td>\n",
       "    </tr>\n",
       "    <tr>\n",
       "      <th>24</th>\n",
       "      <td>Chocó</td>\n",
       "      <td>265</td>\n",
       "      <td>1.34</td>\n",
       "      <td>27</td>\n",
       "      <td>Chocó</td>\n",
       "      <td>584521</td>\n",
       "      <td>0.58</td>\n",
       "      <td>27</td>\n",
       "      <td>Chocó</td>\n",
       "      <td>45.0</td>\n",
       "    </tr>\n",
       "    <tr>\n",
       "      <th>25</th>\n",
       "      <td>Santander</td>\n",
       "      <td>1048</td>\n",
       "      <td>5.31</td>\n",
       "      <td>68</td>\n",
       "      <td>Santander</td>\n",
       "      <td>2335238</td>\n",
       "      <td>2.34</td>\n",
       "      <td>68</td>\n",
       "      <td>Santander</td>\n",
       "      <td>45.0</td>\n",
       "    </tr>\n",
       "    <tr>\n",
       "      <th>26</th>\n",
       "      <td>Casanare</td>\n",
       "      <td>209</td>\n",
       "      <td>1.06</td>\n",
       "      <td>85</td>\n",
       "      <td>Casanare</td>\n",
       "      <td>459973</td>\n",
       "      <td>0.46</td>\n",
       "      <td>85</td>\n",
       "      <td>Casanare</td>\n",
       "      <td>45.0</td>\n",
       "    </tr>\n",
       "    <tr>\n",
       "      <th>27</th>\n",
       "      <td>Cesar</td>\n",
       "      <td>611</td>\n",
       "      <td>3.10</td>\n",
       "      <td>20</td>\n",
       "      <td>Cesar</td>\n",
       "      <td>1349162</td>\n",
       "      <td>1.35</td>\n",
       "      <td>20</td>\n",
       "      <td>Cesar</td>\n",
       "      <td>45.0</td>\n",
       "    </tr>\n",
       "    <tr>\n",
       "      <th>28</th>\n",
       "      <td>Arauca</td>\n",
       "      <td>142</td>\n",
       "      <td>0.72</td>\n",
       "      <td>81</td>\n",
       "      <td>Arauca</td>\n",
       "      <td>307628</td>\n",
       "      <td>0.31</td>\n",
       "      <td>81</td>\n",
       "      <td>Arauca</td>\n",
       "      <td>46.0</td>\n",
       "    </tr>\n",
       "    <tr>\n",
       "      <th>29</th>\n",
       "      <td>Magdalena</td>\n",
       "      <td>693</td>\n",
       "      <td>3.51</td>\n",
       "      <td>47</td>\n",
       "      <td>Magdalena</td>\n",
       "      <td>1476366</td>\n",
       "      <td>1.48</td>\n",
       "      <td>47</td>\n",
       "      <td>Magdalena</td>\n",
       "      <td>47.0</td>\n",
       "    </tr>\n",
       "    <tr>\n",
       "      <th>30</th>\n",
       "      <td>Nariño</td>\n",
       "      <td>800</td>\n",
       "      <td>4.06</td>\n",
       "      <td>52</td>\n",
       "      <td>Nariño</td>\n",
       "      <td>1689002</td>\n",
       "      <td>1.69</td>\n",
       "      <td>52</td>\n",
       "      <td>Nariño</td>\n",
       "      <td>47.0</td>\n",
       "    </tr>\n",
       "    <tr>\n",
       "      <th>31</th>\n",
       "      <td>Sucre</td>\n",
       "      <td>513</td>\n",
       "      <td>2.60</td>\n",
       "      <td>70</td>\n",
       "      <td>Sucre</td>\n",
       "      <td>980942</td>\n",
       "      <td>0.98</td>\n",
       "      <td>70</td>\n",
       "      <td>Sucre</td>\n",
       "      <td>52.0</td>\n",
       "    </tr>\n",
       "    <tr>\n",
       "      <th>32</th>\n",
       "      <td>Vaupés</td>\n",
       "      <td>55</td>\n",
       "      <td>0.28</td>\n",
       "      <td>97</td>\n",
       "      <td>Vaupés</td>\n",
       "      <td>45579</td>\n",
       "      <td>0.05</td>\n",
       "      <td>97</td>\n",
       "      <td>Vaupés</td>\n",
       "      <td>121.0</td>\n",
       "    </tr>\n",
       "  </tbody>\n",
       "</table>\n",
       "</div>"
      ],
      "text/plain": [
       "                Departamento  IPS_2022  porcentaje  DP  \\\n",
       "0                    Vichada        12        0.06  99   \n",
       "1                    Guainía        12        0.06  94   \n",
       "2               Cundinamarca       818        4.15  25   \n",
       "3                    Caquetá       109        0.55  18   \n",
       "4                   Amazonas        25        0.13  91   \n",
       "5         Norte de Santander       518        2.63  54   \n",
       "6                      Cauca       480        2.43  19   \n",
       "7                  Antioquia      2145       10.87   5   \n",
       "8                      Huila       373        1.89  41   \n",
       "9                   Putumayo       124        0.63  86   \n",
       "10                    Caldas       345        1.75  17   \n",
       "11                  Guaviare        34        0.17  95   \n",
       "12                Bogotá D.C      2892       14.66  11   \n",
       "13                 Risaralda       368        1.87  66   \n",
       "14                    Tolima       525        2.66  73   \n",
       "15           Valle del cauca      1869        9.47  76   \n",
       "16  San Andrés y Providencia        25        0.13  88   \n",
       "17                   Quindío       236        1.20  63   \n",
       "18                La Guajira       427        2.16  44   \n",
       "19                      Meta       483        2.45  50   \n",
       "20                    Boyacá       562        2.85  15   \n",
       "21                   Córdoba       821        4.16  23   \n",
       "22                   Bolívar       970        4.92  13   \n",
       "23                 Atlántico      1217        6.17   8   \n",
       "24                     Chocó       265        1.34  27   \n",
       "25                 Santander      1048        5.31  68   \n",
       "26                  Casanare       209        1.06  85   \n",
       "27                     Cesar       611        3.10  20   \n",
       "28                    Arauca       142        0.72  81   \n",
       "29                 Magdalena       693        3.51  47   \n",
       "30                    Nariño       800        4.06  52   \n",
       "31                     Sucre       513        2.60  70   \n",
       "32                    Vaupés        55        0.28  97   \n",
       "\n",
       "                         DPNOM  Población  Población_M  Codigo  \\\n",
       "0                      Vichada     120942         0.12      99   \n",
       "1                      Guainía      55091         0.06      94   \n",
       "2                 Cundinamarca    3334637         3.33      25   \n",
       "3                      Caquetá     421797         0.42      18   \n",
       "4                     Amazonas      83690         0.08      91   \n",
       "5           Norte de Santander    1678975         1.68      54   \n",
       "6                        Cauca    1541265         1.54      19   \n",
       "7                    Antioquia    6787846         6.79       5   \n",
       "8                        Huila    1164463         1.16      41   \n",
       "9                     Putumayo     377095         0.38      86   \n",
       "10                      Caldas    1034151         1.03      17   \n",
       "11                    Guaviare      94625         0.09      95   \n",
       "12                Bogotá, D.C.    7873316         7.87      11   \n",
       "13                   Risaralda     970138         0.97      66   \n",
       "14                      Tolima    1367802         1.37      73   \n",
       "15             Valle del Cauca    4626064         4.63      76   \n",
       "16  Archipiélago de San Andrés      62255         0.06      88   \n",
       "17                     Quindio     559810         0.56      63   \n",
       "18                  La Guajira    1017121         1.02      44   \n",
       "19                        Meta    1113810         1.11      50   \n",
       "20                      Boyacá    1285035         1.29      15   \n",
       "21                     Córdoba    1882211         1.88      23   \n",
       "22                     Bolívar    2227184         2.23      13   \n",
       "23                   Atlántico    2774958         2.77       8   \n",
       "24                       Chocó     584521         0.58      27   \n",
       "25                   Santander    2335238         2.34      68   \n",
       "26                    Casanare     459973         0.46      85   \n",
       "27                       Cesar    1349162         1.35      20   \n",
       "28                      Arauca     307628         0.31      81   \n",
       "29                   Magdalena    1476366         1.48      47   \n",
       "30                      Nariño    1689002         1.69      52   \n",
       "31                       Sucre     980942         0.98      70   \n",
       "32                      Vaupés      45579         0.05      97   \n",
       "\n",
       "             Departamento_DANE  IPS/Habitantes  \n",
       "0                      Vichada            10.0  \n",
       "1                      Guainía            22.0  \n",
       "2                 Cundinamarca            25.0  \n",
       "3                      Caquetá            26.0  \n",
       "4                     Amazonas            30.0  \n",
       "5           Norte de Santander            31.0  \n",
       "6                        Cauca            31.0  \n",
       "7                    Antioquia            32.0  \n",
       "8                        Huila            32.0  \n",
       "9                     Putumayo            33.0  \n",
       "10                      Caldas            33.0  \n",
       "11                    Guaviare            36.0  \n",
       "12                Bogotá, D.C.            37.0  \n",
       "13                   Risaralda            38.0  \n",
       "14                      Tolima            38.0  \n",
       "15             Valle del Cauca            40.0  \n",
       "16  Archipiélago de San Andrés            40.0  \n",
       "17                     Quindio            42.0  \n",
       "18                  La Guajira            42.0  \n",
       "19                        Meta            43.0  \n",
       "20                      Boyacá            44.0  \n",
       "21                     Córdoba            44.0  \n",
       "22                     Bolívar            44.0  \n",
       "23                   Atlántico            44.0  \n",
       "24                       Chocó            45.0  \n",
       "25                   Santander            45.0  \n",
       "26                    Casanare            45.0  \n",
       "27                       Cesar            45.0  \n",
       "28                      Arauca            46.0  \n",
       "29                   Magdalena            47.0  \n",
       "30                      Nariño            47.0  \n",
       "31                       Sucre            52.0  \n",
       "32                      Vaupés           121.0  "
      ]
     },
     "execution_count": 275,
     "metadata": {},
     "output_type": "execute_result"
    }
   ],
   "source": [
    "df_ips_por_habitantes = pd.merge(df_num_reps, df_poblacion_2022, how='inner', on='Departamento')\n",
    "df_ips_por_habitantes['IPS/Habitantes'] = (df_ips_por_habitantes['IPS_2022'] / df_ips_por_habitantes['Población'] * 1e5).round(0)\n",
    "df_ips_por_habitantes = df_ips_por_habitantes.sort_values('IPS/Habitantes', ascending=True).reset_index(drop=True)\n",
    "df_ips_por_habitantes"
   ]
  },
  {
   "cell_type": "code",
   "execution_count": 276,
   "metadata": {},
   "outputs": [
    {
     "data": {
      "application/vnd.plotly.v1+json": {
       "config": {
        "plotlyServerURL": "https://plot.ly"
       },
       "data": [
        {
         "alignmentgroup": "True",
         "hovertemplate": "IPS/Habitantes=%{x}<br>Departamento=%{y}<extra></extra>",
         "legendgroup": "",
         "marker": {
          "color": [
           "#3364C7",
           "#3364C7",
           "#3364C7",
           "#3364C7",
           "#3364C7",
           "#3364C7",
           "#3364C7",
           "#3364C7",
           "#3364C7",
           "#3364C7",
           "#3364C7",
           "#3364C7",
           "#3364C7",
           "#3364C7",
           "#3364C7",
           "#3364C7",
           "#3364C7",
           "#3364C7",
           "#3364C7",
           "#3364C7",
           "#3364C7",
           "#3364C7",
           "#3364C7",
           "#3364C7",
           "#3364C7",
           "#3364C7",
           "#3364C7",
           "#3364C7",
           "#3364C7",
           "#3364C7",
           "#3364C7",
           "#3364C7",
           "#3364C7"
          ],
          "pattern": {
           "shape": ""
          }
         },
         "name": "",
         "offsetgroup": "",
         "orientation": "h",
         "showlegend": false,
         "text": [
          10,
          22,
          25,
          26,
          30,
          31,
          31,
          32,
          32,
          33,
          33,
          36,
          37,
          38,
          38,
          40,
          40,
          42,
          42,
          43,
          44,
          44,
          44,
          44,
          45,
          45,
          45,
          45,
          46,
          47,
          47,
          52,
          121
         ],
         "textposition": "outside",
         "type": "bar",
         "x": [
          10,
          22,
          25,
          26,
          30,
          31,
          31,
          32,
          32,
          33,
          33,
          36,
          37,
          38,
          38,
          40,
          40,
          42,
          42,
          43,
          44,
          44,
          44,
          44,
          45,
          45,
          45,
          45,
          46,
          47,
          47,
          52,
          121
         ],
         "xaxis": "x",
         "y": [
          "Vichada",
          "Guainía",
          "Cundinamarca",
          "Caquetá",
          "Amazonas",
          "Norte de Santander",
          "Cauca",
          "Antioquia",
          "Huila",
          "Putumayo",
          "Caldas",
          "Guaviare",
          "Bogotá D.C",
          "Risaralda",
          "Tolima",
          "Valle del cauca",
          "San Andrés y Providencia",
          "Quindío",
          "La Guajira",
          "Meta",
          "Boyacá",
          "Córdoba",
          "Bolívar",
          "Atlántico",
          "Chocó",
          "Santander",
          "Casanare",
          "Cesar",
          "Arauca",
          "Magdalena",
          "Nariño",
          "Sucre",
          "Vaupés"
         ],
         "yaxis": "y"
        }
       ],
       "layout": {
        "barmode": "relative",
        "height": 700,
        "legend": {
         "tracegroupgap": 0
        },
        "margin": {
         "t": 60
        },
        "template": {
         "data": {
          "bar": [
           {
            "error_x": {
             "color": "#2a3f5f"
            },
            "error_y": {
             "color": "#2a3f5f"
            },
            "marker": {
             "line": {
              "color": "#E5ECF6",
              "width": 0.5
             },
             "pattern": {
              "fillmode": "overlay",
              "size": 10,
              "solidity": 0.2
             }
            },
            "type": "bar"
           }
          ],
          "barpolar": [
           {
            "marker": {
             "line": {
              "color": "#E5ECF6",
              "width": 0.5
             },
             "pattern": {
              "fillmode": "overlay",
              "size": 10,
              "solidity": 0.2
             }
            },
            "type": "barpolar"
           }
          ],
          "carpet": [
           {
            "aaxis": {
             "endlinecolor": "#2a3f5f",
             "gridcolor": "white",
             "linecolor": "white",
             "minorgridcolor": "white",
             "startlinecolor": "#2a3f5f"
            },
            "baxis": {
             "endlinecolor": "#2a3f5f",
             "gridcolor": "white",
             "linecolor": "white",
             "minorgridcolor": "white",
             "startlinecolor": "#2a3f5f"
            },
            "type": "carpet"
           }
          ],
          "choropleth": [
           {
            "colorbar": {
             "outlinewidth": 0,
             "ticks": ""
            },
            "type": "choropleth"
           }
          ],
          "contour": [
           {
            "colorbar": {
             "outlinewidth": 0,
             "ticks": ""
            },
            "colorscale": [
             [
              0,
              "#0d0887"
             ],
             [
              0.1111111111111111,
              "#46039f"
             ],
             [
              0.2222222222222222,
              "#7201a8"
             ],
             [
              0.3333333333333333,
              "#9c179e"
             ],
             [
              0.4444444444444444,
              "#bd3786"
             ],
             [
              0.5555555555555556,
              "#d8576b"
             ],
             [
              0.6666666666666666,
              "#ed7953"
             ],
             [
              0.7777777777777778,
              "#fb9f3a"
             ],
             [
              0.8888888888888888,
              "#fdca26"
             ],
             [
              1,
              "#f0f921"
             ]
            ],
            "type": "contour"
           }
          ],
          "contourcarpet": [
           {
            "colorbar": {
             "outlinewidth": 0,
             "ticks": ""
            },
            "type": "contourcarpet"
           }
          ],
          "heatmap": [
           {
            "colorbar": {
             "outlinewidth": 0,
             "ticks": ""
            },
            "colorscale": [
             [
              0,
              "#0d0887"
             ],
             [
              0.1111111111111111,
              "#46039f"
             ],
             [
              0.2222222222222222,
              "#7201a8"
             ],
             [
              0.3333333333333333,
              "#9c179e"
             ],
             [
              0.4444444444444444,
              "#bd3786"
             ],
             [
              0.5555555555555556,
              "#d8576b"
             ],
             [
              0.6666666666666666,
              "#ed7953"
             ],
             [
              0.7777777777777778,
              "#fb9f3a"
             ],
             [
              0.8888888888888888,
              "#fdca26"
             ],
             [
              1,
              "#f0f921"
             ]
            ],
            "type": "heatmap"
           }
          ],
          "heatmapgl": [
           {
            "colorbar": {
             "outlinewidth": 0,
             "ticks": ""
            },
            "colorscale": [
             [
              0,
              "#0d0887"
             ],
             [
              0.1111111111111111,
              "#46039f"
             ],
             [
              0.2222222222222222,
              "#7201a8"
             ],
             [
              0.3333333333333333,
              "#9c179e"
             ],
             [
              0.4444444444444444,
              "#bd3786"
             ],
             [
              0.5555555555555556,
              "#d8576b"
             ],
             [
              0.6666666666666666,
              "#ed7953"
             ],
             [
              0.7777777777777778,
              "#fb9f3a"
             ],
             [
              0.8888888888888888,
              "#fdca26"
             ],
             [
              1,
              "#f0f921"
             ]
            ],
            "type": "heatmapgl"
           }
          ],
          "histogram": [
           {
            "marker": {
             "pattern": {
              "fillmode": "overlay",
              "size": 10,
              "solidity": 0.2
             }
            },
            "type": "histogram"
           }
          ],
          "histogram2d": [
           {
            "colorbar": {
             "outlinewidth": 0,
             "ticks": ""
            },
            "colorscale": [
             [
              0,
              "#0d0887"
             ],
             [
              0.1111111111111111,
              "#46039f"
             ],
             [
              0.2222222222222222,
              "#7201a8"
             ],
             [
              0.3333333333333333,
              "#9c179e"
             ],
             [
              0.4444444444444444,
              "#bd3786"
             ],
             [
              0.5555555555555556,
              "#d8576b"
             ],
             [
              0.6666666666666666,
              "#ed7953"
             ],
             [
              0.7777777777777778,
              "#fb9f3a"
             ],
             [
              0.8888888888888888,
              "#fdca26"
             ],
             [
              1,
              "#f0f921"
             ]
            ],
            "type": "histogram2d"
           }
          ],
          "histogram2dcontour": [
           {
            "colorbar": {
             "outlinewidth": 0,
             "ticks": ""
            },
            "colorscale": [
             [
              0,
              "#0d0887"
             ],
             [
              0.1111111111111111,
              "#46039f"
             ],
             [
              0.2222222222222222,
              "#7201a8"
             ],
             [
              0.3333333333333333,
              "#9c179e"
             ],
             [
              0.4444444444444444,
              "#bd3786"
             ],
             [
              0.5555555555555556,
              "#d8576b"
             ],
             [
              0.6666666666666666,
              "#ed7953"
             ],
             [
              0.7777777777777778,
              "#fb9f3a"
             ],
             [
              0.8888888888888888,
              "#fdca26"
             ],
             [
              1,
              "#f0f921"
             ]
            ],
            "type": "histogram2dcontour"
           }
          ],
          "mesh3d": [
           {
            "colorbar": {
             "outlinewidth": 0,
             "ticks": ""
            },
            "type": "mesh3d"
           }
          ],
          "parcoords": [
           {
            "line": {
             "colorbar": {
              "outlinewidth": 0,
              "ticks": ""
             }
            },
            "type": "parcoords"
           }
          ],
          "pie": [
           {
            "automargin": true,
            "type": "pie"
           }
          ],
          "scatter": [
           {
            "fillpattern": {
             "fillmode": "overlay",
             "size": 10,
             "solidity": 0.2
            },
            "type": "scatter"
           }
          ],
          "scatter3d": [
           {
            "line": {
             "colorbar": {
              "outlinewidth": 0,
              "ticks": ""
             }
            },
            "marker": {
             "colorbar": {
              "outlinewidth": 0,
              "ticks": ""
             }
            },
            "type": "scatter3d"
           }
          ],
          "scattercarpet": [
           {
            "marker": {
             "colorbar": {
              "outlinewidth": 0,
              "ticks": ""
             }
            },
            "type": "scattercarpet"
           }
          ],
          "scattergeo": [
           {
            "marker": {
             "colorbar": {
              "outlinewidth": 0,
              "ticks": ""
             }
            },
            "type": "scattergeo"
           }
          ],
          "scattergl": [
           {
            "marker": {
             "colorbar": {
              "outlinewidth": 0,
              "ticks": ""
             }
            },
            "type": "scattergl"
           }
          ],
          "scattermapbox": [
           {
            "marker": {
             "colorbar": {
              "outlinewidth": 0,
              "ticks": ""
             }
            },
            "type": "scattermapbox"
           }
          ],
          "scatterpolar": [
           {
            "marker": {
             "colorbar": {
              "outlinewidth": 0,
              "ticks": ""
             }
            },
            "type": "scatterpolar"
           }
          ],
          "scatterpolargl": [
           {
            "marker": {
             "colorbar": {
              "outlinewidth": 0,
              "ticks": ""
             }
            },
            "type": "scatterpolargl"
           }
          ],
          "scatterternary": [
           {
            "marker": {
             "colorbar": {
              "outlinewidth": 0,
              "ticks": ""
             }
            },
            "type": "scatterternary"
           }
          ],
          "surface": [
           {
            "colorbar": {
             "outlinewidth": 0,
             "ticks": ""
            },
            "colorscale": [
             [
              0,
              "#0d0887"
             ],
             [
              0.1111111111111111,
              "#46039f"
             ],
             [
              0.2222222222222222,
              "#7201a8"
             ],
             [
              0.3333333333333333,
              "#9c179e"
             ],
             [
              0.4444444444444444,
              "#bd3786"
             ],
             [
              0.5555555555555556,
              "#d8576b"
             ],
             [
              0.6666666666666666,
              "#ed7953"
             ],
             [
              0.7777777777777778,
              "#fb9f3a"
             ],
             [
              0.8888888888888888,
              "#fdca26"
             ],
             [
              1,
              "#f0f921"
             ]
            ],
            "type": "surface"
           }
          ],
          "table": [
           {
            "cells": {
             "fill": {
              "color": "#EBF0F8"
             },
             "line": {
              "color": "white"
             }
            },
            "header": {
             "fill": {
              "color": "#C8D4E3"
             },
             "line": {
              "color": "white"
             }
            },
            "type": "table"
           }
          ]
         },
         "layout": {
          "annotationdefaults": {
           "arrowcolor": "#2a3f5f",
           "arrowhead": 0,
           "arrowwidth": 1
          },
          "autotypenumbers": "strict",
          "coloraxis": {
           "colorbar": {
            "outlinewidth": 0,
            "ticks": ""
           }
          },
          "colorscale": {
           "diverging": [
            [
             0,
             "#8e0152"
            ],
            [
             0.1,
             "#c51b7d"
            ],
            [
             0.2,
             "#de77ae"
            ],
            [
             0.3,
             "#f1b6da"
            ],
            [
             0.4,
             "#fde0ef"
            ],
            [
             0.5,
             "#f7f7f7"
            ],
            [
             0.6,
             "#e6f5d0"
            ],
            [
             0.7,
             "#b8e186"
            ],
            [
             0.8,
             "#7fbc41"
            ],
            [
             0.9,
             "#4d9221"
            ],
            [
             1,
             "#276419"
            ]
           ],
           "sequential": [
            [
             0,
             "#0d0887"
            ],
            [
             0.1111111111111111,
             "#46039f"
            ],
            [
             0.2222222222222222,
             "#7201a8"
            ],
            [
             0.3333333333333333,
             "#9c179e"
            ],
            [
             0.4444444444444444,
             "#bd3786"
            ],
            [
             0.5555555555555556,
             "#d8576b"
            ],
            [
             0.6666666666666666,
             "#ed7953"
            ],
            [
             0.7777777777777778,
             "#fb9f3a"
            ],
            [
             0.8888888888888888,
             "#fdca26"
            ],
            [
             1,
             "#f0f921"
            ]
           ],
           "sequentialminus": [
            [
             0,
             "#0d0887"
            ],
            [
             0.1111111111111111,
             "#46039f"
            ],
            [
             0.2222222222222222,
             "#7201a8"
            ],
            [
             0.3333333333333333,
             "#9c179e"
            ],
            [
             0.4444444444444444,
             "#bd3786"
            ],
            [
             0.5555555555555556,
             "#d8576b"
            ],
            [
             0.6666666666666666,
             "#ed7953"
            ],
            [
             0.7777777777777778,
             "#fb9f3a"
            ],
            [
             0.8888888888888888,
             "#fdca26"
            ],
            [
             1,
             "#f0f921"
            ]
           ]
          },
          "colorway": [
           "#636efa",
           "#EF553B",
           "#00cc96",
           "#ab63fa",
           "#FFA15A",
           "#19d3f3",
           "#FF6692",
           "#B6E880",
           "#FF97FF",
           "#FECB52"
          ],
          "font": {
           "color": "#2a3f5f"
          },
          "geo": {
           "bgcolor": "white",
           "lakecolor": "white",
           "landcolor": "#E5ECF6",
           "showlakes": true,
           "showland": true,
           "subunitcolor": "white"
          },
          "hoverlabel": {
           "align": "left"
          },
          "hovermode": "closest",
          "mapbox": {
           "style": "light"
          },
          "paper_bgcolor": "white",
          "plot_bgcolor": "#E5ECF6",
          "polar": {
           "angularaxis": {
            "gridcolor": "white",
            "linecolor": "white",
            "ticks": ""
           },
           "bgcolor": "#E5ECF6",
           "radialaxis": {
            "gridcolor": "white",
            "linecolor": "white",
            "ticks": ""
           }
          },
          "scene": {
           "xaxis": {
            "backgroundcolor": "#E5ECF6",
            "gridcolor": "white",
            "gridwidth": 2,
            "linecolor": "white",
            "showbackground": true,
            "ticks": "",
            "zerolinecolor": "white"
           },
           "yaxis": {
            "backgroundcolor": "#E5ECF6",
            "gridcolor": "white",
            "gridwidth": 2,
            "linecolor": "white",
            "showbackground": true,
            "ticks": "",
            "zerolinecolor": "white"
           },
           "zaxis": {
            "backgroundcolor": "#E5ECF6",
            "gridcolor": "white",
            "gridwidth": 2,
            "linecolor": "white",
            "showbackground": true,
            "ticks": "",
            "zerolinecolor": "white"
           }
          },
          "shapedefaults": {
           "line": {
            "color": "#2a3f5f"
           }
          },
          "ternary": {
           "aaxis": {
            "gridcolor": "white",
            "linecolor": "white",
            "ticks": ""
           },
           "baxis": {
            "gridcolor": "white",
            "linecolor": "white",
            "ticks": ""
           },
           "bgcolor": "#E5ECF6",
           "caxis": {
            "gridcolor": "white",
            "linecolor": "white",
            "ticks": ""
           }
          },
          "title": {
           "x": 0.05
          },
          "xaxis": {
           "automargin": true,
           "gridcolor": "white",
           "linecolor": "white",
           "ticks": "",
           "title": {
            "standoff": 15
           },
           "zerolinecolor": "white",
           "zerolinewidth": 2
          },
          "yaxis": {
           "automargin": true,
           "gridcolor": "white",
           "linecolor": "white",
           "ticks": "",
           "title": {
            "standoff": 15
           },
           "zerolinecolor": "white",
           "zerolinewidth": 2
          }
         }
        },
        "title": {
         "text": "Número de IPS por cada 100 mil habitantes por Departamento - 2022"
        },
        "width": 800,
        "xaxis": {
         "anchor": "y",
         "domain": [
          0,
          1
         ],
         "title": {
          "text": "IPS por cada 100 mil habitantes"
         }
        },
        "yaxis": {
         "anchor": "x",
         "domain": [
          0,
          1
         ],
         "title": {
          "text": "Departamento"
         }
        }
       }
      }
     },
     "metadata": {},
     "output_type": "display_data"
    }
   ],
   "source": [
    "fig = px.bar(data_frame=df_ips_por_habitantes, \n",
    "             x='IPS/Habitantes', \n",
    "             y='Departamento', \n",
    "             orientation='h')\n",
    "\n",
    "# fig.update_xaxes(range=[0,9])\n",
    "fig.update_xaxes(title_text='IPS por cada 100 mil habitantes')\n",
    "fig.update_yaxes(title_text='Departamento')\n",
    "fig.update_layout(title='Número de IPS por cada 100 mil habitantes por Departamento - 2022')\n",
    "\n",
    "color_sequence = ['#3364C7' for i in departamentos]\n",
    "fig.update_traces(marker=dict(color=color_sequence))\n",
    "\n",
    "fig.update_traces(text=df_ips_por_habitantes['IPS/Habitantes'], textposition='outside')\n",
    "\n",
    "# fig.update_layout(plot_bgcolor='rgba(0,0,0,0)')\n",
    "\n",
    "fig.update_layout(width=800, height=700)\n",
    "\n",
    "fig.show()"
   ]
  },
  {
   "cell_type": "markdown",
   "metadata": {},
   "source": [
    "# Cambios IPS/Habitantes - 2013-2022"
   ]
  },
  {
   "cell_type": "code",
   "execution_count": 285,
   "metadata": {},
   "outputs": [],
   "source": [
    "df_comparison = pd.merge(df_ips_por_habitantes, df_radiografia, how='inner', left_on='Departamento', right_on='Departamento', suffixes=['_2022', '_2013'])"
   ]
  },
  {
   "cell_type": "code",
   "execution_count": 286,
   "metadata": {},
   "outputs": [
    {
     "data": {
      "text/html": [
       "<div>\n",
       "<style scoped>\n",
       "    .dataframe tbody tr th:only-of-type {\n",
       "        vertical-align: middle;\n",
       "    }\n",
       "\n",
       "    .dataframe tbody tr th {\n",
       "        vertical-align: top;\n",
       "    }\n",
       "\n",
       "    .dataframe thead th {\n",
       "        text-align: right;\n",
       "    }\n",
       "</style>\n",
       "<table border=\"1\" class=\"dataframe\">\n",
       "  <thead>\n",
       "    <tr style=\"text-align: right;\">\n",
       "      <th></th>\n",
       "      <th>Departamento</th>\n",
       "      <th>IPS_2022</th>\n",
       "      <th>porcentaje_2022</th>\n",
       "      <th>DP</th>\n",
       "      <th>DPNOM</th>\n",
       "      <th>Población</th>\n",
       "      <th>Población_M</th>\n",
       "      <th>Codigo</th>\n",
       "      <th>Departamento_DANE</th>\n",
       "      <th>IPS/Habitantes_2022</th>\n",
       "      <th>Numero_IPS</th>\n",
       "      <th>IPS/Habitantes_2013</th>\n",
       "      <th>porcentaje_2013</th>\n",
       "    </tr>\n",
       "  </thead>\n",
       "  <tbody>\n",
       "    <tr>\n",
       "      <th>0</th>\n",
       "      <td>Vichada</td>\n",
       "      <td>12</td>\n",
       "      <td>0.06</td>\n",
       "      <td>99</td>\n",
       "      <td>Vichada</td>\n",
       "      <td>120942</td>\n",
       "      <td>0.12</td>\n",
       "      <td>99</td>\n",
       "      <td>Vichada</td>\n",
       "      <td>10.0</td>\n",
       "      <td>33</td>\n",
       "      <td>48</td>\n",
       "      <td>0.17</td>\n",
       "    </tr>\n",
       "    <tr>\n",
       "      <th>1</th>\n",
       "      <td>Guainía</td>\n",
       "      <td>12</td>\n",
       "      <td>0.06</td>\n",
       "      <td>94</td>\n",
       "      <td>Guainía</td>\n",
       "      <td>55091</td>\n",
       "      <td>0.06</td>\n",
       "      <td>94</td>\n",
       "      <td>Guainía</td>\n",
       "      <td>22.0</td>\n",
       "      <td>8</td>\n",
       "      <td>20</td>\n",
       "      <td>0.04</td>\n",
       "    </tr>\n",
       "    <tr>\n",
       "      <th>2</th>\n",
       "      <td>Cundinamarca</td>\n",
       "      <td>818</td>\n",
       "      <td>4.15</td>\n",
       "      <td>25</td>\n",
       "      <td>Cundinamarca</td>\n",
       "      <td>3334637</td>\n",
       "      <td>3.33</td>\n",
       "      <td>25</td>\n",
       "      <td>Cundinamarca</td>\n",
       "      <td>25.0</td>\n",
       "      <td>725</td>\n",
       "      <td>28</td>\n",
       "      <td>3.82</td>\n",
       "    </tr>\n",
       "    <tr>\n",
       "      <th>3</th>\n",
       "      <td>Caquetá</td>\n",
       "      <td>109</td>\n",
       "      <td>0.55</td>\n",
       "      <td>18</td>\n",
       "      <td>Caquetá</td>\n",
       "      <td>421797</td>\n",
       "      <td>0.42</td>\n",
       "      <td>18</td>\n",
       "      <td>Caquetá</td>\n",
       "      <td>26.0</td>\n",
       "      <td>108</td>\n",
       "      <td>23</td>\n",
       "      <td>0.57</td>\n",
       "    </tr>\n",
       "    <tr>\n",
       "      <th>4</th>\n",
       "      <td>Amazonas</td>\n",
       "      <td>25</td>\n",
       "      <td>0.13</td>\n",
       "      <td>91</td>\n",
       "      <td>Amazonas</td>\n",
       "      <td>83690</td>\n",
       "      <td>0.08</td>\n",
       "      <td>91</td>\n",
       "      <td>Amazonas</td>\n",
       "      <td>30.0</td>\n",
       "      <td>25</td>\n",
       "      <td>34</td>\n",
       "      <td>0.13</td>\n",
       "    </tr>\n",
       "  </tbody>\n",
       "</table>\n",
       "</div>"
      ],
      "text/plain": [
       "   Departamento  IPS_2022  porcentaje_2022  DP         DPNOM  Población  \\\n",
       "0       Vichada        12             0.06  99       Vichada     120942   \n",
       "1       Guainía        12             0.06  94       Guainía      55091   \n",
       "2  Cundinamarca       818             4.15  25  Cundinamarca    3334637   \n",
       "3       Caquetá       109             0.55  18       Caquetá     421797   \n",
       "4      Amazonas        25             0.13  91      Amazonas      83690   \n",
       "\n",
       "   Población_M  Codigo Departamento_DANE  IPS/Habitantes_2022  Numero_IPS  \\\n",
       "0         0.12      99           Vichada                 10.0          33   \n",
       "1         0.06      94           Guainía                 22.0           8   \n",
       "2         3.33      25      Cundinamarca                 25.0         725   \n",
       "3         0.42      18           Caquetá                 26.0         108   \n",
       "4         0.08      91          Amazonas                 30.0          25   \n",
       "\n",
       "   IPS/Habitantes_2013  porcentaje_2013  \n",
       "0                   48             0.17  \n",
       "1                   20             0.04  \n",
       "2                   28             3.82  \n",
       "3                   23             0.57  \n",
       "4                   34             0.13  "
      ]
     },
     "execution_count": 286,
     "metadata": {},
     "output_type": "execute_result"
    }
   ],
   "source": [
    "df_comparison.head()"
   ]
  },
  {
   "cell_type": "code",
   "execution_count": 287,
   "metadata": {},
   "outputs": [],
   "source": [
    "df_comparison['cambio'] = df_comparison['IPS/Habitantes_2022'] - df_comparison['IPS/Habitantes_2013']\n",
    "df_comparison['cambio_porcentual'] = ((df_comparison['IPS/Habitantes_2022'] - df_comparison['IPS/Habitantes_2013']) / df_comparison['IPS/Habitantes_2013'] * 1).round(2)\n",
    "# df_comparison.sort_values('cambio', ascending=True, inplace=True)"
   ]
  },
  {
   "cell_type": "code",
   "execution_count": 288,
   "metadata": {},
   "outputs": [
    {
     "data": {
      "text/html": [
       "<div>\n",
       "<style scoped>\n",
       "    .dataframe tbody tr th:only-of-type {\n",
       "        vertical-align: middle;\n",
       "    }\n",
       "\n",
       "    .dataframe tbody tr th {\n",
       "        vertical-align: top;\n",
       "    }\n",
       "\n",
       "    .dataframe thead th {\n",
       "        text-align: right;\n",
       "    }\n",
       "</style>\n",
       "<table border=\"1\" class=\"dataframe\">\n",
       "  <thead>\n",
       "    <tr style=\"text-align: right;\">\n",
       "      <th></th>\n",
       "      <th>Departamento</th>\n",
       "      <th>IPS_2022</th>\n",
       "      <th>porcentaje_2022</th>\n",
       "      <th>DP</th>\n",
       "      <th>DPNOM</th>\n",
       "      <th>Población</th>\n",
       "      <th>Población_M</th>\n",
       "      <th>Codigo</th>\n",
       "      <th>Departamento_DANE</th>\n",
       "      <th>IPS/Habitantes_2022</th>\n",
       "      <th>Numero_IPS</th>\n",
       "      <th>IPS/Habitantes_2013</th>\n",
       "      <th>porcentaje_2013</th>\n",
       "      <th>cambio</th>\n",
       "      <th>cambio_porcentual</th>\n",
       "    </tr>\n",
       "  </thead>\n",
       "  <tbody>\n",
       "    <tr>\n",
       "      <th>0</th>\n",
       "      <td>Vichada</td>\n",
       "      <td>12</td>\n",
       "      <td>0.06</td>\n",
       "      <td>99</td>\n",
       "      <td>Vichada</td>\n",
       "      <td>120942</td>\n",
       "      <td>0.12</td>\n",
       "      <td>99</td>\n",
       "      <td>Vichada</td>\n",
       "      <td>10.0</td>\n",
       "      <td>33</td>\n",
       "      <td>48</td>\n",
       "      <td>0.17</td>\n",
       "      <td>-38.0</td>\n",
       "      <td>-0.79</td>\n",
       "    </tr>\n",
       "    <tr>\n",
       "      <th>1</th>\n",
       "      <td>Guainía</td>\n",
       "      <td>12</td>\n",
       "      <td>0.06</td>\n",
       "      <td>94</td>\n",
       "      <td>Guainía</td>\n",
       "      <td>55091</td>\n",
       "      <td>0.06</td>\n",
       "      <td>94</td>\n",
       "      <td>Guainía</td>\n",
       "      <td>22.0</td>\n",
       "      <td>8</td>\n",
       "      <td>20</td>\n",
       "      <td>0.04</td>\n",
       "      <td>2.0</td>\n",
       "      <td>0.10</td>\n",
       "    </tr>\n",
       "    <tr>\n",
       "      <th>2</th>\n",
       "      <td>Cundinamarca</td>\n",
       "      <td>818</td>\n",
       "      <td>4.15</td>\n",
       "      <td>25</td>\n",
       "      <td>Cundinamarca</td>\n",
       "      <td>3334637</td>\n",
       "      <td>3.33</td>\n",
       "      <td>25</td>\n",
       "      <td>Cundinamarca</td>\n",
       "      <td>25.0</td>\n",
       "      <td>725</td>\n",
       "      <td>28</td>\n",
       "      <td>3.82</td>\n",
       "      <td>-3.0</td>\n",
       "      <td>-0.11</td>\n",
       "    </tr>\n",
       "    <tr>\n",
       "      <th>3</th>\n",
       "      <td>Caquetá</td>\n",
       "      <td>109</td>\n",
       "      <td>0.55</td>\n",
       "      <td>18</td>\n",
       "      <td>Caquetá</td>\n",
       "      <td>421797</td>\n",
       "      <td>0.42</td>\n",
       "      <td>18</td>\n",
       "      <td>Caquetá</td>\n",
       "      <td>26.0</td>\n",
       "      <td>108</td>\n",
       "      <td>23</td>\n",
       "      <td>0.57</td>\n",
       "      <td>3.0</td>\n",
       "      <td>0.13</td>\n",
       "    </tr>\n",
       "    <tr>\n",
       "      <th>4</th>\n",
       "      <td>Amazonas</td>\n",
       "      <td>25</td>\n",
       "      <td>0.13</td>\n",
       "      <td>91</td>\n",
       "      <td>Amazonas</td>\n",
       "      <td>83690</td>\n",
       "      <td>0.08</td>\n",
       "      <td>91</td>\n",
       "      <td>Amazonas</td>\n",
       "      <td>30.0</td>\n",
       "      <td>25</td>\n",
       "      <td>34</td>\n",
       "      <td>0.13</td>\n",
       "      <td>-4.0</td>\n",
       "      <td>-0.12</td>\n",
       "    </tr>\n",
       "    <tr>\n",
       "      <th>5</th>\n",
       "      <td>Norte de Santander</td>\n",
       "      <td>518</td>\n",
       "      <td>2.63</td>\n",
       "      <td>54</td>\n",
       "      <td>Norte de Santander</td>\n",
       "      <td>1678975</td>\n",
       "      <td>1.68</td>\n",
       "      <td>54</td>\n",
       "      <td>Norte de Santander</td>\n",
       "      <td>31.0</td>\n",
       "      <td>517</td>\n",
       "      <td>39</td>\n",
       "      <td>2.73</td>\n",
       "      <td>-8.0</td>\n",
       "      <td>-0.21</td>\n",
       "    </tr>\n",
       "    <tr>\n",
       "      <th>6</th>\n",
       "      <td>Cauca</td>\n",
       "      <td>480</td>\n",
       "      <td>2.43</td>\n",
       "      <td>19</td>\n",
       "      <td>Cauca</td>\n",
       "      <td>1541265</td>\n",
       "      <td>1.54</td>\n",
       "      <td>19</td>\n",
       "      <td>Cauca</td>\n",
       "      <td>31.0</td>\n",
       "      <td>430</td>\n",
       "      <td>32</td>\n",
       "      <td>2.27</td>\n",
       "      <td>-1.0</td>\n",
       "      <td>-0.03</td>\n",
       "    </tr>\n",
       "    <tr>\n",
       "      <th>7</th>\n",
       "      <td>Antioquia</td>\n",
       "      <td>2145</td>\n",
       "      <td>10.87</td>\n",
       "      <td>5</td>\n",
       "      <td>Antioquia</td>\n",
       "      <td>6787846</td>\n",
       "      <td>6.79</td>\n",
       "      <td>5</td>\n",
       "      <td>Antioquia</td>\n",
       "      <td>32.0</td>\n",
       "      <td>1945</td>\n",
       "      <td>31</td>\n",
       "      <td>10.26</td>\n",
       "      <td>1.0</td>\n",
       "      <td>0.03</td>\n",
       "    </tr>\n",
       "    <tr>\n",
       "      <th>8</th>\n",
       "      <td>Huila</td>\n",
       "      <td>373</td>\n",
       "      <td>1.89</td>\n",
       "      <td>41</td>\n",
       "      <td>Huila</td>\n",
       "      <td>1164463</td>\n",
       "      <td>1.16</td>\n",
       "      <td>41</td>\n",
       "      <td>Huila</td>\n",
       "      <td>32.0</td>\n",
       "      <td>369</td>\n",
       "      <td>33</td>\n",
       "      <td>1.95</td>\n",
       "      <td>-1.0</td>\n",
       "      <td>-0.03</td>\n",
       "    </tr>\n",
       "    <tr>\n",
       "      <th>9</th>\n",
       "      <td>Putumayo</td>\n",
       "      <td>124</td>\n",
       "      <td>0.63</td>\n",
       "      <td>86</td>\n",
       "      <td>Putumayo</td>\n",
       "      <td>377095</td>\n",
       "      <td>0.38</td>\n",
       "      <td>86</td>\n",
       "      <td>Putumayo</td>\n",
       "      <td>33.0</td>\n",
       "      <td>191</td>\n",
       "      <td>57</td>\n",
       "      <td>1.01</td>\n",
       "      <td>-24.0</td>\n",
       "      <td>-0.42</td>\n",
       "    </tr>\n",
       "    <tr>\n",
       "      <th>10</th>\n",
       "      <td>Caldas</td>\n",
       "      <td>345</td>\n",
       "      <td>1.75</td>\n",
       "      <td>17</td>\n",
       "      <td>Caldas</td>\n",
       "      <td>1034151</td>\n",
       "      <td>1.03</td>\n",
       "      <td>17</td>\n",
       "      <td>Caldas</td>\n",
       "      <td>33.0</td>\n",
       "      <td>419</td>\n",
       "      <td>43</td>\n",
       "      <td>2.21</td>\n",
       "      <td>-10.0</td>\n",
       "      <td>-0.23</td>\n",
       "    </tr>\n",
       "    <tr>\n",
       "      <th>11</th>\n",
       "      <td>Guaviare</td>\n",
       "      <td>34</td>\n",
       "      <td>0.17</td>\n",
       "      <td>95</td>\n",
       "      <td>Guaviare</td>\n",
       "      <td>94625</td>\n",
       "      <td>0.09</td>\n",
       "      <td>95</td>\n",
       "      <td>Guaviare</td>\n",
       "      <td>36.0</td>\n",
       "      <td>27</td>\n",
       "      <td>25</td>\n",
       "      <td>0.14</td>\n",
       "      <td>11.0</td>\n",
       "      <td>0.44</td>\n",
       "    </tr>\n",
       "    <tr>\n",
       "      <th>12</th>\n",
       "      <td>Bogotá D.C</td>\n",
       "      <td>2892</td>\n",
       "      <td>14.66</td>\n",
       "      <td>11</td>\n",
       "      <td>Bogotá, D.C.</td>\n",
       "      <td>7873316</td>\n",
       "      <td>7.87</td>\n",
       "      <td>11</td>\n",
       "      <td>Bogotá, D.C.</td>\n",
       "      <td>37.0</td>\n",
       "      <td>3284</td>\n",
       "      <td>43</td>\n",
       "      <td>17.32</td>\n",
       "      <td>-6.0</td>\n",
       "      <td>-0.14</td>\n",
       "    </tr>\n",
       "    <tr>\n",
       "      <th>13</th>\n",
       "      <td>Risaralda</td>\n",
       "      <td>368</td>\n",
       "      <td>1.87</td>\n",
       "      <td>66</td>\n",
       "      <td>Risaralda</td>\n",
       "      <td>970138</td>\n",
       "      <td>0.97</td>\n",
       "      <td>66</td>\n",
       "      <td>Risaralda</td>\n",
       "      <td>38.0</td>\n",
       "      <td>347</td>\n",
       "      <td>37</td>\n",
       "      <td>1.83</td>\n",
       "      <td>1.0</td>\n",
       "      <td>0.03</td>\n",
       "    </tr>\n",
       "    <tr>\n",
       "      <th>14</th>\n",
       "      <td>Tolima</td>\n",
       "      <td>525</td>\n",
       "      <td>2.66</td>\n",
       "      <td>73</td>\n",
       "      <td>Tolima</td>\n",
       "      <td>1367802</td>\n",
       "      <td>1.37</td>\n",
       "      <td>73</td>\n",
       "      <td>Tolima</td>\n",
       "      <td>38.0</td>\n",
       "      <td>470</td>\n",
       "      <td>34</td>\n",
       "      <td>2.48</td>\n",
       "      <td>4.0</td>\n",
       "      <td>0.12</td>\n",
       "    </tr>\n",
       "    <tr>\n",
       "      <th>15</th>\n",
       "      <td>Valle del cauca</td>\n",
       "      <td>1869</td>\n",
       "      <td>9.47</td>\n",
       "      <td>76</td>\n",
       "      <td>Valle del Cauca</td>\n",
       "      <td>4626064</td>\n",
       "      <td>4.63</td>\n",
       "      <td>76</td>\n",
       "      <td>Valle del Cauca</td>\n",
       "      <td>40.0</td>\n",
       "      <td>2136</td>\n",
       "      <td>47</td>\n",
       "      <td>11.27</td>\n",
       "      <td>-7.0</td>\n",
       "      <td>-0.15</td>\n",
       "    </tr>\n",
       "    <tr>\n",
       "      <th>16</th>\n",
       "      <td>San Andrés y Providencia</td>\n",
       "      <td>25</td>\n",
       "      <td>0.13</td>\n",
       "      <td>88</td>\n",
       "      <td>Archipiélago de San Andrés</td>\n",
       "      <td>62255</td>\n",
       "      <td>0.06</td>\n",
       "      <td>88</td>\n",
       "      <td>Archipiélago de San Andrés</td>\n",
       "      <td>40.0</td>\n",
       "      <td>17</td>\n",
       "      <td>23</td>\n",
       "      <td>0.09</td>\n",
       "      <td>17.0</td>\n",
       "      <td>0.74</td>\n",
       "    </tr>\n",
       "    <tr>\n",
       "      <th>17</th>\n",
       "      <td>Quindío</td>\n",
       "      <td>236</td>\n",
       "      <td>1.20</td>\n",
       "      <td>63</td>\n",
       "      <td>Quindio</td>\n",
       "      <td>559810</td>\n",
       "      <td>0.56</td>\n",
       "      <td>63</td>\n",
       "      <td>Quindio</td>\n",
       "      <td>42.0</td>\n",
       "      <td>253</td>\n",
       "      <td>45</td>\n",
       "      <td>1.33</td>\n",
       "      <td>-3.0</td>\n",
       "      <td>-0.07</td>\n",
       "    </tr>\n",
       "    <tr>\n",
       "      <th>18</th>\n",
       "      <td>La Guajira</td>\n",
       "      <td>427</td>\n",
       "      <td>2.16</td>\n",
       "      <td>44</td>\n",
       "      <td>La Guajira</td>\n",
       "      <td>1017121</td>\n",
       "      <td>1.02</td>\n",
       "      <td>44</td>\n",
       "      <td>La Guajira</td>\n",
       "      <td>42.0</td>\n",
       "      <td>316</td>\n",
       "      <td>35</td>\n",
       "      <td>1.67</td>\n",
       "      <td>7.0</td>\n",
       "      <td>0.20</td>\n",
       "    </tr>\n",
       "    <tr>\n",
       "      <th>19</th>\n",
       "      <td>Meta</td>\n",
       "      <td>483</td>\n",
       "      <td>2.45</td>\n",
       "      <td>50</td>\n",
       "      <td>Meta</td>\n",
       "      <td>1113810</td>\n",
       "      <td>1.11</td>\n",
       "      <td>50</td>\n",
       "      <td>Meta</td>\n",
       "      <td>43.0</td>\n",
       "      <td>408</td>\n",
       "      <td>44</td>\n",
       "      <td>2.15</td>\n",
       "      <td>-1.0</td>\n",
       "      <td>-0.02</td>\n",
       "    </tr>\n",
       "    <tr>\n",
       "      <th>20</th>\n",
       "      <td>Boyacá</td>\n",
       "      <td>562</td>\n",
       "      <td>2.85</td>\n",
       "      <td>15</td>\n",
       "      <td>Boyacá</td>\n",
       "      <td>1285035</td>\n",
       "      <td>1.29</td>\n",
       "      <td>15</td>\n",
       "      <td>Boyacá</td>\n",
       "      <td>44.0</td>\n",
       "      <td>508</td>\n",
       "      <td>40</td>\n",
       "      <td>2.68</td>\n",
       "      <td>4.0</td>\n",
       "      <td>0.10</td>\n",
       "    </tr>\n",
       "    <tr>\n",
       "      <th>21</th>\n",
       "      <td>Córdoba</td>\n",
       "      <td>821</td>\n",
       "      <td>4.16</td>\n",
       "      <td>23</td>\n",
       "      <td>Córdoba</td>\n",
       "      <td>1882211</td>\n",
       "      <td>1.88</td>\n",
       "      <td>23</td>\n",
       "      <td>Córdoba</td>\n",
       "      <td>44.0</td>\n",
       "      <td>550</td>\n",
       "      <td>33</td>\n",
       "      <td>2.90</td>\n",
       "      <td>11.0</td>\n",
       "      <td>0.33</td>\n",
       "    </tr>\n",
       "    <tr>\n",
       "      <th>22</th>\n",
       "      <td>Bolívar</td>\n",
       "      <td>970</td>\n",
       "      <td>4.92</td>\n",
       "      <td>13</td>\n",
       "      <td>Bolívar</td>\n",
       "      <td>2227184</td>\n",
       "      <td>2.23</td>\n",
       "      <td>13</td>\n",
       "      <td>Bolívar</td>\n",
       "      <td>44.0</td>\n",
       "      <td>861</td>\n",
       "      <td>42</td>\n",
       "      <td>4.54</td>\n",
       "      <td>2.0</td>\n",
       "      <td>0.05</td>\n",
       "    </tr>\n",
       "    <tr>\n",
       "      <th>23</th>\n",
       "      <td>Atlántico</td>\n",
       "      <td>1217</td>\n",
       "      <td>6.17</td>\n",
       "      <td>8</td>\n",
       "      <td>Atlántico</td>\n",
       "      <td>2774958</td>\n",
       "      <td>2.77</td>\n",
       "      <td>8</td>\n",
       "      <td>Atlántico</td>\n",
       "      <td>44.0</td>\n",
       "      <td>1028</td>\n",
       "      <td>43</td>\n",
       "      <td>5.42</td>\n",
       "      <td>1.0</td>\n",
       "      <td>0.02</td>\n",
       "    </tr>\n",
       "    <tr>\n",
       "      <th>24</th>\n",
       "      <td>Chocó</td>\n",
       "      <td>265</td>\n",
       "      <td>1.34</td>\n",
       "      <td>27</td>\n",
       "      <td>Chocó</td>\n",
       "      <td>584521</td>\n",
       "      <td>0.58</td>\n",
       "      <td>27</td>\n",
       "      <td>Chocó</td>\n",
       "      <td>45.0</td>\n",
       "      <td>231</td>\n",
       "      <td>47</td>\n",
       "      <td>1.22</td>\n",
       "      <td>-2.0</td>\n",
       "      <td>-0.04</td>\n",
       "    </tr>\n",
       "    <tr>\n",
       "      <th>25</th>\n",
       "      <td>Santander</td>\n",
       "      <td>1048</td>\n",
       "      <td>5.31</td>\n",
       "      <td>68</td>\n",
       "      <td>Santander</td>\n",
       "      <td>2335238</td>\n",
       "      <td>2.34</td>\n",
       "      <td>68</td>\n",
       "      <td>Santander</td>\n",
       "      <td>45.0</td>\n",
       "      <td>1155</td>\n",
       "      <td>57</td>\n",
       "      <td>6.09</td>\n",
       "      <td>-12.0</td>\n",
       "      <td>-0.21</td>\n",
       "    </tr>\n",
       "    <tr>\n",
       "      <th>26</th>\n",
       "      <td>Casanare</td>\n",
       "      <td>209</td>\n",
       "      <td>1.06</td>\n",
       "      <td>85</td>\n",
       "      <td>Casanare</td>\n",
       "      <td>459973</td>\n",
       "      <td>0.46</td>\n",
       "      <td>85</td>\n",
       "      <td>Casanare</td>\n",
       "      <td>45.0</td>\n",
       "      <td>210</td>\n",
       "      <td>61</td>\n",
       "      <td>1.11</td>\n",
       "      <td>-16.0</td>\n",
       "      <td>-0.26</td>\n",
       "    </tr>\n",
       "    <tr>\n",
       "      <th>27</th>\n",
       "      <td>Cesar</td>\n",
       "      <td>611</td>\n",
       "      <td>3.10</td>\n",
       "      <td>20</td>\n",
       "      <td>Cesar</td>\n",
       "      <td>1349162</td>\n",
       "      <td>1.35</td>\n",
       "      <td>20</td>\n",
       "      <td>Cesar</td>\n",
       "      <td>45.0</td>\n",
       "      <td>528</td>\n",
       "      <td>53</td>\n",
       "      <td>2.78</td>\n",
       "      <td>-8.0</td>\n",
       "      <td>-0.15</td>\n",
       "    </tr>\n",
       "    <tr>\n",
       "      <th>28</th>\n",
       "      <td>Arauca</td>\n",
       "      <td>142</td>\n",
       "      <td>0.72</td>\n",
       "      <td>81</td>\n",
       "      <td>Arauca</td>\n",
       "      <td>307628</td>\n",
       "      <td>0.31</td>\n",
       "      <td>81</td>\n",
       "      <td>Arauca</td>\n",
       "      <td>46.0</td>\n",
       "      <td>133</td>\n",
       "      <td>52</td>\n",
       "      <td>0.70</td>\n",
       "      <td>-6.0</td>\n",
       "      <td>-0.12</td>\n",
       "    </tr>\n",
       "    <tr>\n",
       "      <th>29</th>\n",
       "      <td>Magdalena</td>\n",
       "      <td>693</td>\n",
       "      <td>3.51</td>\n",
       "      <td>47</td>\n",
       "      <td>Magdalena</td>\n",
       "      <td>1476366</td>\n",
       "      <td>1.48</td>\n",
       "      <td>47</td>\n",
       "      <td>Magdalena</td>\n",
       "      <td>47.0</td>\n",
       "      <td>600</td>\n",
       "      <td>49</td>\n",
       "      <td>3.16</td>\n",
       "      <td>-2.0</td>\n",
       "      <td>-0.04</td>\n",
       "    </tr>\n",
       "    <tr>\n",
       "      <th>30</th>\n",
       "      <td>Nariño</td>\n",
       "      <td>800</td>\n",
       "      <td>4.06</td>\n",
       "      <td>52</td>\n",
       "      <td>Nariño</td>\n",
       "      <td>1689002</td>\n",
       "      <td>1.69</td>\n",
       "      <td>52</td>\n",
       "      <td>Nariño</td>\n",
       "      <td>47.0</td>\n",
       "      <td>622</td>\n",
       "      <td>37</td>\n",
       "      <td>3.28</td>\n",
       "      <td>10.0</td>\n",
       "      <td>0.27</td>\n",
       "    </tr>\n",
       "    <tr>\n",
       "      <th>31</th>\n",
       "      <td>Sucre</td>\n",
       "      <td>513</td>\n",
       "      <td>2.60</td>\n",
       "      <td>70</td>\n",
       "      <td>Sucre</td>\n",
       "      <td>980942</td>\n",
       "      <td>0.98</td>\n",
       "      <td>70</td>\n",
       "      <td>Sucre</td>\n",
       "      <td>52.0</td>\n",
       "      <td>501</td>\n",
       "      <td>60</td>\n",
       "      <td>2.64</td>\n",
       "      <td>-8.0</td>\n",
       "      <td>-0.13</td>\n",
       "    </tr>\n",
       "    <tr>\n",
       "      <th>32</th>\n",
       "      <td>Vaupés</td>\n",
       "      <td>55</td>\n",
       "      <td>0.28</td>\n",
       "      <td>97</td>\n",
       "      <td>Vaupés</td>\n",
       "      <td>45579</td>\n",
       "      <td>0.05</td>\n",
       "      <td>97</td>\n",
       "      <td>Vaupés</td>\n",
       "      <td>121.0</td>\n",
       "      <td>4</td>\n",
       "      <td>9</td>\n",
       "      <td>0.02</td>\n",
       "      <td>112.0</td>\n",
       "      <td>12.44</td>\n",
       "    </tr>\n",
       "  </tbody>\n",
       "</table>\n",
       "</div>"
      ],
      "text/plain": [
       "                Departamento  IPS_2022  porcentaje_2022  DP  \\\n",
       "0                    Vichada        12             0.06  99   \n",
       "1                    Guainía        12             0.06  94   \n",
       "2               Cundinamarca       818             4.15  25   \n",
       "3                    Caquetá       109             0.55  18   \n",
       "4                   Amazonas        25             0.13  91   \n",
       "5         Norte de Santander       518             2.63  54   \n",
       "6                      Cauca       480             2.43  19   \n",
       "7                  Antioquia      2145            10.87   5   \n",
       "8                      Huila       373             1.89  41   \n",
       "9                   Putumayo       124             0.63  86   \n",
       "10                    Caldas       345             1.75  17   \n",
       "11                  Guaviare        34             0.17  95   \n",
       "12                Bogotá D.C      2892            14.66  11   \n",
       "13                 Risaralda       368             1.87  66   \n",
       "14                    Tolima       525             2.66  73   \n",
       "15           Valle del cauca      1869             9.47  76   \n",
       "16  San Andrés y Providencia        25             0.13  88   \n",
       "17                   Quindío       236             1.20  63   \n",
       "18                La Guajira       427             2.16  44   \n",
       "19                      Meta       483             2.45  50   \n",
       "20                    Boyacá       562             2.85  15   \n",
       "21                   Córdoba       821             4.16  23   \n",
       "22                   Bolívar       970             4.92  13   \n",
       "23                 Atlántico      1217             6.17   8   \n",
       "24                     Chocó       265             1.34  27   \n",
       "25                 Santander      1048             5.31  68   \n",
       "26                  Casanare       209             1.06  85   \n",
       "27                     Cesar       611             3.10  20   \n",
       "28                    Arauca       142             0.72  81   \n",
       "29                 Magdalena       693             3.51  47   \n",
       "30                    Nariño       800             4.06  52   \n",
       "31                     Sucre       513             2.60  70   \n",
       "32                    Vaupés        55             0.28  97   \n",
       "\n",
       "                         DPNOM  Población  Población_M  Codigo  \\\n",
       "0                      Vichada     120942         0.12      99   \n",
       "1                      Guainía      55091         0.06      94   \n",
       "2                 Cundinamarca    3334637         3.33      25   \n",
       "3                      Caquetá     421797         0.42      18   \n",
       "4                     Amazonas      83690         0.08      91   \n",
       "5           Norte de Santander    1678975         1.68      54   \n",
       "6                        Cauca    1541265         1.54      19   \n",
       "7                    Antioquia    6787846         6.79       5   \n",
       "8                        Huila    1164463         1.16      41   \n",
       "9                     Putumayo     377095         0.38      86   \n",
       "10                      Caldas    1034151         1.03      17   \n",
       "11                    Guaviare      94625         0.09      95   \n",
       "12                Bogotá, D.C.    7873316         7.87      11   \n",
       "13                   Risaralda     970138         0.97      66   \n",
       "14                      Tolima    1367802         1.37      73   \n",
       "15             Valle del Cauca    4626064         4.63      76   \n",
       "16  Archipiélago de San Andrés      62255         0.06      88   \n",
       "17                     Quindio     559810         0.56      63   \n",
       "18                  La Guajira    1017121         1.02      44   \n",
       "19                        Meta    1113810         1.11      50   \n",
       "20                      Boyacá    1285035         1.29      15   \n",
       "21                     Córdoba    1882211         1.88      23   \n",
       "22                     Bolívar    2227184         2.23      13   \n",
       "23                   Atlántico    2774958         2.77       8   \n",
       "24                       Chocó     584521         0.58      27   \n",
       "25                   Santander    2335238         2.34      68   \n",
       "26                    Casanare     459973         0.46      85   \n",
       "27                       Cesar    1349162         1.35      20   \n",
       "28                      Arauca     307628         0.31      81   \n",
       "29                   Magdalena    1476366         1.48      47   \n",
       "30                      Nariño    1689002         1.69      52   \n",
       "31                       Sucre     980942         0.98      70   \n",
       "32                      Vaupés      45579         0.05      97   \n",
       "\n",
       "             Departamento_DANE  IPS/Habitantes_2022  Numero_IPS  \\\n",
       "0                      Vichada                 10.0          33   \n",
       "1                      Guainía                 22.0           8   \n",
       "2                 Cundinamarca                 25.0         725   \n",
       "3                      Caquetá                 26.0         108   \n",
       "4                     Amazonas                 30.0          25   \n",
       "5           Norte de Santander                 31.0         517   \n",
       "6                        Cauca                 31.0         430   \n",
       "7                    Antioquia                 32.0        1945   \n",
       "8                        Huila                 32.0         369   \n",
       "9                     Putumayo                 33.0         191   \n",
       "10                      Caldas                 33.0         419   \n",
       "11                    Guaviare                 36.0          27   \n",
       "12                Bogotá, D.C.                 37.0        3284   \n",
       "13                   Risaralda                 38.0         347   \n",
       "14                      Tolima                 38.0         470   \n",
       "15             Valle del Cauca                 40.0        2136   \n",
       "16  Archipiélago de San Andrés                 40.0          17   \n",
       "17                     Quindio                 42.0         253   \n",
       "18                  La Guajira                 42.0         316   \n",
       "19                        Meta                 43.0         408   \n",
       "20                      Boyacá                 44.0         508   \n",
       "21                     Córdoba                 44.0         550   \n",
       "22                     Bolívar                 44.0         861   \n",
       "23                   Atlántico                 44.0        1028   \n",
       "24                       Chocó                 45.0         231   \n",
       "25                   Santander                 45.0        1155   \n",
       "26                    Casanare                 45.0         210   \n",
       "27                       Cesar                 45.0         528   \n",
       "28                      Arauca                 46.0         133   \n",
       "29                   Magdalena                 47.0         600   \n",
       "30                      Nariño                 47.0         622   \n",
       "31                       Sucre                 52.0         501   \n",
       "32                      Vaupés                121.0           4   \n",
       "\n",
       "    IPS/Habitantes_2013  porcentaje_2013  cambio  cambio_porcentual  \n",
       "0                    48             0.17   -38.0              -0.79  \n",
       "1                    20             0.04     2.0               0.10  \n",
       "2                    28             3.82    -3.0              -0.11  \n",
       "3                    23             0.57     3.0               0.13  \n",
       "4                    34             0.13    -4.0              -0.12  \n",
       "5                    39             2.73    -8.0              -0.21  \n",
       "6                    32             2.27    -1.0              -0.03  \n",
       "7                    31            10.26     1.0               0.03  \n",
       "8                    33             1.95    -1.0              -0.03  \n",
       "9                    57             1.01   -24.0              -0.42  \n",
       "10                   43             2.21   -10.0              -0.23  \n",
       "11                   25             0.14    11.0               0.44  \n",
       "12                   43            17.32    -6.0              -0.14  \n",
       "13                   37             1.83     1.0               0.03  \n",
       "14                   34             2.48     4.0               0.12  \n",
       "15                   47            11.27    -7.0              -0.15  \n",
       "16                   23             0.09    17.0               0.74  \n",
       "17                   45             1.33    -3.0              -0.07  \n",
       "18                   35             1.67     7.0               0.20  \n",
       "19                   44             2.15    -1.0              -0.02  \n",
       "20                   40             2.68     4.0               0.10  \n",
       "21                   33             2.90    11.0               0.33  \n",
       "22                   42             4.54     2.0               0.05  \n",
       "23                   43             5.42     1.0               0.02  \n",
       "24                   47             1.22    -2.0              -0.04  \n",
       "25                   57             6.09   -12.0              -0.21  \n",
       "26                   61             1.11   -16.0              -0.26  \n",
       "27                   53             2.78    -8.0              -0.15  \n",
       "28                   52             0.70    -6.0              -0.12  \n",
       "29                   49             3.16    -2.0              -0.04  \n",
       "30                   37             3.28    10.0               0.27  \n",
       "31                   60             2.64    -8.0              -0.13  \n",
       "32                    9             0.02   112.0              12.44  "
      ]
     },
     "execution_count": 288,
     "metadata": {},
     "output_type": "execute_result"
    }
   ],
   "source": [
    "df_comparison"
   ]
  },
  {
   "cell_type": "code",
   "execution_count": 306,
   "metadata": {},
   "outputs": [
    {
     "data": {
      "application/vnd.plotly.v1+json": {
       "config": {
        "plotlyServerURL": "https://plot.ly"
       },
       "data": [
        {
         "alignmentgroup": "True",
         "hovertemplate": "cambio=%{x}<br>Departamento=%{y}<extra></extra>",
         "legendgroup": "",
         "marker": {
          "color": [
           "#5B9279",
           "#5B9279",
           "#5B9279",
           "#5B9279",
           "#5B9279",
           "#5B9279",
           "#5B9279",
           "#5B9279",
           "#5B9279",
           "#5B9279",
           "#5B9279",
           "#5B9279",
           "#5B9279",
           "#5B9279",
           "#5B9279",
           "#5B9279",
           "#5B9279",
           "#5B9279",
           "#5B9279",
           "#5B9279",
           "#5B9279",
           "#5B9279",
           "#5B9279",
           "#5B9279",
           "#5B9279",
           "#5B9279",
           "#5B9279",
           "#5B9279",
           "#5B9279",
           "#5B9279",
           "#5B9279",
           "#5B9279",
           "#5B9279"
          ],
          "pattern": {
           "shape": ""
          }
         },
         "name": "",
         "offsetgroup": "",
         "orientation": "h",
         "showlegend": false,
         "text": [
          -38,
          2,
          -3,
          3,
          -4,
          -8,
          -1,
          1,
          -1,
          -24,
          -10,
          11,
          -6,
          1,
          4,
          -7,
          17,
          -3,
          7,
          -1,
          4,
          11,
          2,
          1,
          -2,
          -12,
          -16,
          -8,
          -6,
          -2,
          10,
          -8,
          112
         ],
         "textposition": "outside",
         "type": "bar",
         "x": [
          -38,
          2,
          -3,
          3,
          -4,
          -8,
          -1,
          1,
          -1,
          -24,
          -10,
          11,
          -6,
          1,
          4,
          -7,
          17,
          -3,
          7,
          -1,
          4,
          11,
          2,
          1,
          -2,
          -12,
          -16,
          -8,
          -6,
          -2,
          10,
          -8,
          112
         ],
         "xaxis": "x",
         "y": [
          "Vichada",
          "Guainía",
          "Cundinamarca",
          "Caquetá",
          "Amazonas",
          "Norte de Santander",
          "Cauca",
          "Antioquia",
          "Huila",
          "Putumayo",
          "Caldas",
          "Guaviare",
          "Bogotá D.C",
          "Risaralda",
          "Tolima",
          "Valle del cauca",
          "San Andrés y Providencia",
          "Quindío",
          "La Guajira",
          "Meta",
          "Boyacá",
          "Córdoba",
          "Bolívar",
          "Atlántico",
          "Chocó",
          "Santander",
          "Casanare",
          "Cesar",
          "Arauca",
          "Magdalena",
          "Nariño",
          "Sucre",
          "Vaupés"
         ],
         "yaxis": "y"
        }
       ],
       "layout": {
        "barmode": "relative",
        "height": 700,
        "legend": {
         "tracegroupgap": 0
        },
        "margin": {
         "t": 60
        },
        "template": {
         "data": {
          "bar": [
           {
            "error_x": {
             "color": "#2a3f5f"
            },
            "error_y": {
             "color": "#2a3f5f"
            },
            "marker": {
             "line": {
              "color": "#E5ECF6",
              "width": 0.5
             },
             "pattern": {
              "fillmode": "overlay",
              "size": 10,
              "solidity": 0.2
             }
            },
            "type": "bar"
           }
          ],
          "barpolar": [
           {
            "marker": {
             "line": {
              "color": "#E5ECF6",
              "width": 0.5
             },
             "pattern": {
              "fillmode": "overlay",
              "size": 10,
              "solidity": 0.2
             }
            },
            "type": "barpolar"
           }
          ],
          "carpet": [
           {
            "aaxis": {
             "endlinecolor": "#2a3f5f",
             "gridcolor": "white",
             "linecolor": "white",
             "minorgridcolor": "white",
             "startlinecolor": "#2a3f5f"
            },
            "baxis": {
             "endlinecolor": "#2a3f5f",
             "gridcolor": "white",
             "linecolor": "white",
             "minorgridcolor": "white",
             "startlinecolor": "#2a3f5f"
            },
            "type": "carpet"
           }
          ],
          "choropleth": [
           {
            "colorbar": {
             "outlinewidth": 0,
             "ticks": ""
            },
            "type": "choropleth"
           }
          ],
          "contour": [
           {
            "colorbar": {
             "outlinewidth": 0,
             "ticks": ""
            },
            "colorscale": [
             [
              0,
              "#0d0887"
             ],
             [
              0.1111111111111111,
              "#46039f"
             ],
             [
              0.2222222222222222,
              "#7201a8"
             ],
             [
              0.3333333333333333,
              "#9c179e"
             ],
             [
              0.4444444444444444,
              "#bd3786"
             ],
             [
              0.5555555555555556,
              "#d8576b"
             ],
             [
              0.6666666666666666,
              "#ed7953"
             ],
             [
              0.7777777777777778,
              "#fb9f3a"
             ],
             [
              0.8888888888888888,
              "#fdca26"
             ],
             [
              1,
              "#f0f921"
             ]
            ],
            "type": "contour"
           }
          ],
          "contourcarpet": [
           {
            "colorbar": {
             "outlinewidth": 0,
             "ticks": ""
            },
            "type": "contourcarpet"
           }
          ],
          "heatmap": [
           {
            "colorbar": {
             "outlinewidth": 0,
             "ticks": ""
            },
            "colorscale": [
             [
              0,
              "#0d0887"
             ],
             [
              0.1111111111111111,
              "#46039f"
             ],
             [
              0.2222222222222222,
              "#7201a8"
             ],
             [
              0.3333333333333333,
              "#9c179e"
             ],
             [
              0.4444444444444444,
              "#bd3786"
             ],
             [
              0.5555555555555556,
              "#d8576b"
             ],
             [
              0.6666666666666666,
              "#ed7953"
             ],
             [
              0.7777777777777778,
              "#fb9f3a"
             ],
             [
              0.8888888888888888,
              "#fdca26"
             ],
             [
              1,
              "#f0f921"
             ]
            ],
            "type": "heatmap"
           }
          ],
          "heatmapgl": [
           {
            "colorbar": {
             "outlinewidth": 0,
             "ticks": ""
            },
            "colorscale": [
             [
              0,
              "#0d0887"
             ],
             [
              0.1111111111111111,
              "#46039f"
             ],
             [
              0.2222222222222222,
              "#7201a8"
             ],
             [
              0.3333333333333333,
              "#9c179e"
             ],
             [
              0.4444444444444444,
              "#bd3786"
             ],
             [
              0.5555555555555556,
              "#d8576b"
             ],
             [
              0.6666666666666666,
              "#ed7953"
             ],
             [
              0.7777777777777778,
              "#fb9f3a"
             ],
             [
              0.8888888888888888,
              "#fdca26"
             ],
             [
              1,
              "#f0f921"
             ]
            ],
            "type": "heatmapgl"
           }
          ],
          "histogram": [
           {
            "marker": {
             "pattern": {
              "fillmode": "overlay",
              "size": 10,
              "solidity": 0.2
             }
            },
            "type": "histogram"
           }
          ],
          "histogram2d": [
           {
            "colorbar": {
             "outlinewidth": 0,
             "ticks": ""
            },
            "colorscale": [
             [
              0,
              "#0d0887"
             ],
             [
              0.1111111111111111,
              "#46039f"
             ],
             [
              0.2222222222222222,
              "#7201a8"
             ],
             [
              0.3333333333333333,
              "#9c179e"
             ],
             [
              0.4444444444444444,
              "#bd3786"
             ],
             [
              0.5555555555555556,
              "#d8576b"
             ],
             [
              0.6666666666666666,
              "#ed7953"
             ],
             [
              0.7777777777777778,
              "#fb9f3a"
             ],
             [
              0.8888888888888888,
              "#fdca26"
             ],
             [
              1,
              "#f0f921"
             ]
            ],
            "type": "histogram2d"
           }
          ],
          "histogram2dcontour": [
           {
            "colorbar": {
             "outlinewidth": 0,
             "ticks": ""
            },
            "colorscale": [
             [
              0,
              "#0d0887"
             ],
             [
              0.1111111111111111,
              "#46039f"
             ],
             [
              0.2222222222222222,
              "#7201a8"
             ],
             [
              0.3333333333333333,
              "#9c179e"
             ],
             [
              0.4444444444444444,
              "#bd3786"
             ],
             [
              0.5555555555555556,
              "#d8576b"
             ],
             [
              0.6666666666666666,
              "#ed7953"
             ],
             [
              0.7777777777777778,
              "#fb9f3a"
             ],
             [
              0.8888888888888888,
              "#fdca26"
             ],
             [
              1,
              "#f0f921"
             ]
            ],
            "type": "histogram2dcontour"
           }
          ],
          "mesh3d": [
           {
            "colorbar": {
             "outlinewidth": 0,
             "ticks": ""
            },
            "type": "mesh3d"
           }
          ],
          "parcoords": [
           {
            "line": {
             "colorbar": {
              "outlinewidth": 0,
              "ticks": ""
             }
            },
            "type": "parcoords"
           }
          ],
          "pie": [
           {
            "automargin": true,
            "type": "pie"
           }
          ],
          "scatter": [
           {
            "fillpattern": {
             "fillmode": "overlay",
             "size": 10,
             "solidity": 0.2
            },
            "type": "scatter"
           }
          ],
          "scatter3d": [
           {
            "line": {
             "colorbar": {
              "outlinewidth": 0,
              "ticks": ""
             }
            },
            "marker": {
             "colorbar": {
              "outlinewidth": 0,
              "ticks": ""
             }
            },
            "type": "scatter3d"
           }
          ],
          "scattercarpet": [
           {
            "marker": {
             "colorbar": {
              "outlinewidth": 0,
              "ticks": ""
             }
            },
            "type": "scattercarpet"
           }
          ],
          "scattergeo": [
           {
            "marker": {
             "colorbar": {
              "outlinewidth": 0,
              "ticks": ""
             }
            },
            "type": "scattergeo"
           }
          ],
          "scattergl": [
           {
            "marker": {
             "colorbar": {
              "outlinewidth": 0,
              "ticks": ""
             }
            },
            "type": "scattergl"
           }
          ],
          "scattermapbox": [
           {
            "marker": {
             "colorbar": {
              "outlinewidth": 0,
              "ticks": ""
             }
            },
            "type": "scattermapbox"
           }
          ],
          "scatterpolar": [
           {
            "marker": {
             "colorbar": {
              "outlinewidth": 0,
              "ticks": ""
             }
            },
            "type": "scatterpolar"
           }
          ],
          "scatterpolargl": [
           {
            "marker": {
             "colorbar": {
              "outlinewidth": 0,
              "ticks": ""
             }
            },
            "type": "scatterpolargl"
           }
          ],
          "scatterternary": [
           {
            "marker": {
             "colorbar": {
              "outlinewidth": 0,
              "ticks": ""
             }
            },
            "type": "scatterternary"
           }
          ],
          "surface": [
           {
            "colorbar": {
             "outlinewidth": 0,
             "ticks": ""
            },
            "colorscale": [
             [
              0,
              "#0d0887"
             ],
             [
              0.1111111111111111,
              "#46039f"
             ],
             [
              0.2222222222222222,
              "#7201a8"
             ],
             [
              0.3333333333333333,
              "#9c179e"
             ],
             [
              0.4444444444444444,
              "#bd3786"
             ],
             [
              0.5555555555555556,
              "#d8576b"
             ],
             [
              0.6666666666666666,
              "#ed7953"
             ],
             [
              0.7777777777777778,
              "#fb9f3a"
             ],
             [
              0.8888888888888888,
              "#fdca26"
             ],
             [
              1,
              "#f0f921"
             ]
            ],
            "type": "surface"
           }
          ],
          "table": [
           {
            "cells": {
             "fill": {
              "color": "#EBF0F8"
             },
             "line": {
              "color": "white"
             }
            },
            "header": {
             "fill": {
              "color": "#C8D4E3"
             },
             "line": {
              "color": "white"
             }
            },
            "type": "table"
           }
          ]
         },
         "layout": {
          "annotationdefaults": {
           "arrowcolor": "#2a3f5f",
           "arrowhead": 0,
           "arrowwidth": 1
          },
          "autotypenumbers": "strict",
          "coloraxis": {
           "colorbar": {
            "outlinewidth": 0,
            "ticks": ""
           }
          },
          "colorscale": {
           "diverging": [
            [
             0,
             "#8e0152"
            ],
            [
             0.1,
             "#c51b7d"
            ],
            [
             0.2,
             "#de77ae"
            ],
            [
             0.3,
             "#f1b6da"
            ],
            [
             0.4,
             "#fde0ef"
            ],
            [
             0.5,
             "#f7f7f7"
            ],
            [
             0.6,
             "#e6f5d0"
            ],
            [
             0.7,
             "#b8e186"
            ],
            [
             0.8,
             "#7fbc41"
            ],
            [
             0.9,
             "#4d9221"
            ],
            [
             1,
             "#276419"
            ]
           ],
           "sequential": [
            [
             0,
             "#0d0887"
            ],
            [
             0.1111111111111111,
             "#46039f"
            ],
            [
             0.2222222222222222,
             "#7201a8"
            ],
            [
             0.3333333333333333,
             "#9c179e"
            ],
            [
             0.4444444444444444,
             "#bd3786"
            ],
            [
             0.5555555555555556,
             "#d8576b"
            ],
            [
             0.6666666666666666,
             "#ed7953"
            ],
            [
             0.7777777777777778,
             "#fb9f3a"
            ],
            [
             0.8888888888888888,
             "#fdca26"
            ],
            [
             1,
             "#f0f921"
            ]
           ],
           "sequentialminus": [
            [
             0,
             "#0d0887"
            ],
            [
             0.1111111111111111,
             "#46039f"
            ],
            [
             0.2222222222222222,
             "#7201a8"
            ],
            [
             0.3333333333333333,
             "#9c179e"
            ],
            [
             0.4444444444444444,
             "#bd3786"
            ],
            [
             0.5555555555555556,
             "#d8576b"
            ],
            [
             0.6666666666666666,
             "#ed7953"
            ],
            [
             0.7777777777777778,
             "#fb9f3a"
            ],
            [
             0.8888888888888888,
             "#fdca26"
            ],
            [
             1,
             "#f0f921"
            ]
           ]
          },
          "colorway": [
           "#636efa",
           "#EF553B",
           "#00cc96",
           "#ab63fa",
           "#FFA15A",
           "#19d3f3",
           "#FF6692",
           "#B6E880",
           "#FF97FF",
           "#FECB52"
          ],
          "font": {
           "color": "#2a3f5f"
          },
          "geo": {
           "bgcolor": "white",
           "lakecolor": "white",
           "landcolor": "#E5ECF6",
           "showlakes": true,
           "showland": true,
           "subunitcolor": "white"
          },
          "hoverlabel": {
           "align": "left"
          },
          "hovermode": "closest",
          "mapbox": {
           "style": "light"
          },
          "paper_bgcolor": "white",
          "plot_bgcolor": "#E5ECF6",
          "polar": {
           "angularaxis": {
            "gridcolor": "white",
            "linecolor": "white",
            "ticks": ""
           },
           "bgcolor": "#E5ECF6",
           "radialaxis": {
            "gridcolor": "white",
            "linecolor": "white",
            "ticks": ""
           }
          },
          "scene": {
           "xaxis": {
            "backgroundcolor": "#E5ECF6",
            "gridcolor": "white",
            "gridwidth": 2,
            "linecolor": "white",
            "showbackground": true,
            "ticks": "",
            "zerolinecolor": "white"
           },
           "yaxis": {
            "backgroundcolor": "#E5ECF6",
            "gridcolor": "white",
            "gridwidth": 2,
            "linecolor": "white",
            "showbackground": true,
            "ticks": "",
            "zerolinecolor": "white"
           },
           "zaxis": {
            "backgroundcolor": "#E5ECF6",
            "gridcolor": "white",
            "gridwidth": 2,
            "linecolor": "white",
            "showbackground": true,
            "ticks": "",
            "zerolinecolor": "white"
           }
          },
          "shapedefaults": {
           "line": {
            "color": "#2a3f5f"
           }
          },
          "ternary": {
           "aaxis": {
            "gridcolor": "white",
            "linecolor": "white",
            "ticks": ""
           },
           "baxis": {
            "gridcolor": "white",
            "linecolor": "white",
            "ticks": ""
           },
           "bgcolor": "#E5ECF6",
           "caxis": {
            "gridcolor": "white",
            "linecolor": "white",
            "ticks": ""
           }
          },
          "title": {
           "x": 0.05
          },
          "xaxis": {
           "automargin": true,
           "gridcolor": "white",
           "linecolor": "white",
           "ticks": "",
           "title": {
            "standoff": 15
           },
           "zerolinecolor": "white",
           "zerolinewidth": 2
          },
          "yaxis": {
           "automargin": true,
           "gridcolor": "white",
           "linecolor": "white",
           "ticks": "",
           "title": {
            "standoff": 15
           },
           "zerolinecolor": "white",
           "zerolinewidth": 2
          }
         }
        },
        "title": {
         "text": "Cambio en Número de IPS por Departamento - 2013-2022"
        },
        "width": 800,
        "xaxis": {
         "anchor": "y",
         "domain": [
          0,
          1
         ],
         "range": [
          -47,
          122
         ],
         "title": {
          "text": "Cambio en Número de IPS"
         }
        },
        "yaxis": {
         "anchor": "x",
         "domain": [
          0,
          1
         ],
         "title": {
          "text": "Departamento"
         }
        }
       }
      }
     },
     "metadata": {},
     "output_type": "display_data"
    }
   ],
   "source": [
    "fig = px.bar(data_frame=df_comparison, x='cambio', y='Departamento', orientation='h')\n",
    "\n",
    "fig.update_xaxes(title_text='Cambio en Número de IPS')\n",
    "fig.update_xaxes(range=[-47,122])\n",
    "fig.update_yaxes(title_text='Departamento')\n",
    "fig.update_layout(title='Cambio en Número de IPS por Departamento - 2013-2022')\n",
    "\n",
    "color_sequence = ['#5B9279' for i in departamentos]\n",
    "fig.update_traces(marker=dict(color=color_sequence))\n",
    "\n",
    "fig.update_traces(text=df_comparison['cambio'], textposition='outside')\n",
    "\n",
    "fig.update_layout(width=800, height=700)\n",
    "\n",
    "fig.show()"
   ]
  },
  {
   "cell_type": "code",
   "execution_count": 296,
   "metadata": {},
   "outputs": [
    {
     "data": {
      "application/vnd.plotly.v1+json": {
       "config": {
        "plotlyServerURL": "https://plot.ly"
       },
       "data": [
        {
         "alignmentgroup": "True",
         "hovertemplate": "cambio_porcentual=%{x}<br>Departamento=%{y}<extra></extra>",
         "legendgroup": "",
         "marker": {
          "color": [
           "#5B9279",
           "#5B9279",
           "#5B9279",
           "#5B9279",
           "#5B9279",
           "#5B9279",
           "#5B9279",
           "#5B9279",
           "#5B9279",
           "#5B9279",
           "#5B9279",
           "#5B9279",
           "#5B9279",
           "#5B9279",
           "#5B9279",
           "#5B9279",
           "#5B9279",
           "#5B9279",
           "#5B9279",
           "#5B9279",
           "#5B9279",
           "#5B9279",
           "#5B9279",
           "#5B9279",
           "#5B9279",
           "#5B9279",
           "#5B9279",
           "#5B9279",
           "#5B9279",
           "#5B9279",
           "#5B9279",
           "#5B9279",
           "#5B9279"
          ],
          "pattern": {
           "shape": ""
          }
         },
         "name": "",
         "offsetgroup": "",
         "orientation": "h",
         "showlegend": false,
         "text": [
          -0.79,
          0.1,
          -0.11,
          0.13,
          -0.12,
          -0.21,
          -0.03,
          0.03,
          -0.03,
          -0.42,
          -0.23,
          0.44,
          -0.14,
          0.03,
          0.12,
          -0.15,
          0.74,
          -0.07,
          0.2,
          -0.02,
          0.1,
          0.33,
          0.05,
          0.02,
          -0.04,
          -0.21,
          -0.26,
          -0.15,
          -0.12,
          -0.04,
          0.27,
          -0.13,
          12.44
         ],
         "textposition": "outside",
         "type": "bar",
         "x": [
          -0.79,
          0.1,
          -0.11,
          0.13,
          -0.12,
          -0.21,
          -0.03,
          0.03,
          -0.03,
          -0.42,
          -0.23,
          0.44,
          -0.14,
          0.03,
          0.12,
          -0.15,
          0.74,
          -0.07,
          0.2,
          -0.02,
          0.1,
          0.33,
          0.05,
          0.02,
          -0.04,
          -0.21,
          -0.26,
          -0.15,
          -0.12,
          -0.04,
          0.27,
          -0.13,
          12.44
         ],
         "xaxis": "x",
         "y": [
          "Vichada",
          "Guainía",
          "Cundinamarca",
          "Caquetá",
          "Amazonas",
          "Norte de Santander",
          "Cauca",
          "Antioquia",
          "Huila",
          "Putumayo",
          "Caldas",
          "Guaviare",
          "Bogotá D.C",
          "Risaralda",
          "Tolima",
          "Valle del cauca",
          "San Andrés y Providencia",
          "Quindío",
          "La Guajira",
          "Meta",
          "Boyacá",
          "Córdoba",
          "Bolívar",
          "Atlántico",
          "Chocó",
          "Santander",
          "Casanare",
          "Cesar",
          "Arauca",
          "Magdalena",
          "Nariño",
          "Sucre",
          "Vaupés"
         ],
         "yaxis": "y"
        }
       ],
       "layout": {
        "barmode": "relative",
        "height": 700,
        "legend": {
         "tracegroupgap": 0
        },
        "margin": {
         "t": 60
        },
        "template": {
         "data": {
          "bar": [
           {
            "error_x": {
             "color": "#2a3f5f"
            },
            "error_y": {
             "color": "#2a3f5f"
            },
            "marker": {
             "line": {
              "color": "#E5ECF6",
              "width": 0.5
             },
             "pattern": {
              "fillmode": "overlay",
              "size": 10,
              "solidity": 0.2
             }
            },
            "type": "bar"
           }
          ],
          "barpolar": [
           {
            "marker": {
             "line": {
              "color": "#E5ECF6",
              "width": 0.5
             },
             "pattern": {
              "fillmode": "overlay",
              "size": 10,
              "solidity": 0.2
             }
            },
            "type": "barpolar"
           }
          ],
          "carpet": [
           {
            "aaxis": {
             "endlinecolor": "#2a3f5f",
             "gridcolor": "white",
             "linecolor": "white",
             "minorgridcolor": "white",
             "startlinecolor": "#2a3f5f"
            },
            "baxis": {
             "endlinecolor": "#2a3f5f",
             "gridcolor": "white",
             "linecolor": "white",
             "minorgridcolor": "white",
             "startlinecolor": "#2a3f5f"
            },
            "type": "carpet"
           }
          ],
          "choropleth": [
           {
            "colorbar": {
             "outlinewidth": 0,
             "ticks": ""
            },
            "type": "choropleth"
           }
          ],
          "contour": [
           {
            "colorbar": {
             "outlinewidth": 0,
             "ticks": ""
            },
            "colorscale": [
             [
              0,
              "#0d0887"
             ],
             [
              0.1111111111111111,
              "#46039f"
             ],
             [
              0.2222222222222222,
              "#7201a8"
             ],
             [
              0.3333333333333333,
              "#9c179e"
             ],
             [
              0.4444444444444444,
              "#bd3786"
             ],
             [
              0.5555555555555556,
              "#d8576b"
             ],
             [
              0.6666666666666666,
              "#ed7953"
             ],
             [
              0.7777777777777778,
              "#fb9f3a"
             ],
             [
              0.8888888888888888,
              "#fdca26"
             ],
             [
              1,
              "#f0f921"
             ]
            ],
            "type": "contour"
           }
          ],
          "contourcarpet": [
           {
            "colorbar": {
             "outlinewidth": 0,
             "ticks": ""
            },
            "type": "contourcarpet"
           }
          ],
          "heatmap": [
           {
            "colorbar": {
             "outlinewidth": 0,
             "ticks": ""
            },
            "colorscale": [
             [
              0,
              "#0d0887"
             ],
             [
              0.1111111111111111,
              "#46039f"
             ],
             [
              0.2222222222222222,
              "#7201a8"
             ],
             [
              0.3333333333333333,
              "#9c179e"
             ],
             [
              0.4444444444444444,
              "#bd3786"
             ],
             [
              0.5555555555555556,
              "#d8576b"
             ],
             [
              0.6666666666666666,
              "#ed7953"
             ],
             [
              0.7777777777777778,
              "#fb9f3a"
             ],
             [
              0.8888888888888888,
              "#fdca26"
             ],
             [
              1,
              "#f0f921"
             ]
            ],
            "type": "heatmap"
           }
          ],
          "heatmapgl": [
           {
            "colorbar": {
             "outlinewidth": 0,
             "ticks": ""
            },
            "colorscale": [
             [
              0,
              "#0d0887"
             ],
             [
              0.1111111111111111,
              "#46039f"
             ],
             [
              0.2222222222222222,
              "#7201a8"
             ],
             [
              0.3333333333333333,
              "#9c179e"
             ],
             [
              0.4444444444444444,
              "#bd3786"
             ],
             [
              0.5555555555555556,
              "#d8576b"
             ],
             [
              0.6666666666666666,
              "#ed7953"
             ],
             [
              0.7777777777777778,
              "#fb9f3a"
             ],
             [
              0.8888888888888888,
              "#fdca26"
             ],
             [
              1,
              "#f0f921"
             ]
            ],
            "type": "heatmapgl"
           }
          ],
          "histogram": [
           {
            "marker": {
             "pattern": {
              "fillmode": "overlay",
              "size": 10,
              "solidity": 0.2
             }
            },
            "type": "histogram"
           }
          ],
          "histogram2d": [
           {
            "colorbar": {
             "outlinewidth": 0,
             "ticks": ""
            },
            "colorscale": [
             [
              0,
              "#0d0887"
             ],
             [
              0.1111111111111111,
              "#46039f"
             ],
             [
              0.2222222222222222,
              "#7201a8"
             ],
             [
              0.3333333333333333,
              "#9c179e"
             ],
             [
              0.4444444444444444,
              "#bd3786"
             ],
             [
              0.5555555555555556,
              "#d8576b"
             ],
             [
              0.6666666666666666,
              "#ed7953"
             ],
             [
              0.7777777777777778,
              "#fb9f3a"
             ],
             [
              0.8888888888888888,
              "#fdca26"
             ],
             [
              1,
              "#f0f921"
             ]
            ],
            "type": "histogram2d"
           }
          ],
          "histogram2dcontour": [
           {
            "colorbar": {
             "outlinewidth": 0,
             "ticks": ""
            },
            "colorscale": [
             [
              0,
              "#0d0887"
             ],
             [
              0.1111111111111111,
              "#46039f"
             ],
             [
              0.2222222222222222,
              "#7201a8"
             ],
             [
              0.3333333333333333,
              "#9c179e"
             ],
             [
              0.4444444444444444,
              "#bd3786"
             ],
             [
              0.5555555555555556,
              "#d8576b"
             ],
             [
              0.6666666666666666,
              "#ed7953"
             ],
             [
              0.7777777777777778,
              "#fb9f3a"
             ],
             [
              0.8888888888888888,
              "#fdca26"
             ],
             [
              1,
              "#f0f921"
             ]
            ],
            "type": "histogram2dcontour"
           }
          ],
          "mesh3d": [
           {
            "colorbar": {
             "outlinewidth": 0,
             "ticks": ""
            },
            "type": "mesh3d"
           }
          ],
          "parcoords": [
           {
            "line": {
             "colorbar": {
              "outlinewidth": 0,
              "ticks": ""
             }
            },
            "type": "parcoords"
           }
          ],
          "pie": [
           {
            "automargin": true,
            "type": "pie"
           }
          ],
          "scatter": [
           {
            "fillpattern": {
             "fillmode": "overlay",
             "size": 10,
             "solidity": 0.2
            },
            "type": "scatter"
           }
          ],
          "scatter3d": [
           {
            "line": {
             "colorbar": {
              "outlinewidth": 0,
              "ticks": ""
             }
            },
            "marker": {
             "colorbar": {
              "outlinewidth": 0,
              "ticks": ""
             }
            },
            "type": "scatter3d"
           }
          ],
          "scattercarpet": [
           {
            "marker": {
             "colorbar": {
              "outlinewidth": 0,
              "ticks": ""
             }
            },
            "type": "scattercarpet"
           }
          ],
          "scattergeo": [
           {
            "marker": {
             "colorbar": {
              "outlinewidth": 0,
              "ticks": ""
             }
            },
            "type": "scattergeo"
           }
          ],
          "scattergl": [
           {
            "marker": {
             "colorbar": {
              "outlinewidth": 0,
              "ticks": ""
             }
            },
            "type": "scattergl"
           }
          ],
          "scattermapbox": [
           {
            "marker": {
             "colorbar": {
              "outlinewidth": 0,
              "ticks": ""
             }
            },
            "type": "scattermapbox"
           }
          ],
          "scatterpolar": [
           {
            "marker": {
             "colorbar": {
              "outlinewidth": 0,
              "ticks": ""
             }
            },
            "type": "scatterpolar"
           }
          ],
          "scatterpolargl": [
           {
            "marker": {
             "colorbar": {
              "outlinewidth": 0,
              "ticks": ""
             }
            },
            "type": "scatterpolargl"
           }
          ],
          "scatterternary": [
           {
            "marker": {
             "colorbar": {
              "outlinewidth": 0,
              "ticks": ""
             }
            },
            "type": "scatterternary"
           }
          ],
          "surface": [
           {
            "colorbar": {
             "outlinewidth": 0,
             "ticks": ""
            },
            "colorscale": [
             [
              0,
              "#0d0887"
             ],
             [
              0.1111111111111111,
              "#46039f"
             ],
             [
              0.2222222222222222,
              "#7201a8"
             ],
             [
              0.3333333333333333,
              "#9c179e"
             ],
             [
              0.4444444444444444,
              "#bd3786"
             ],
             [
              0.5555555555555556,
              "#d8576b"
             ],
             [
              0.6666666666666666,
              "#ed7953"
             ],
             [
              0.7777777777777778,
              "#fb9f3a"
             ],
             [
              0.8888888888888888,
              "#fdca26"
             ],
             [
              1,
              "#f0f921"
             ]
            ],
            "type": "surface"
           }
          ],
          "table": [
           {
            "cells": {
             "fill": {
              "color": "#EBF0F8"
             },
             "line": {
              "color": "white"
             }
            },
            "header": {
             "fill": {
              "color": "#C8D4E3"
             },
             "line": {
              "color": "white"
             }
            },
            "type": "table"
           }
          ]
         },
         "layout": {
          "annotationdefaults": {
           "arrowcolor": "#2a3f5f",
           "arrowhead": 0,
           "arrowwidth": 1
          },
          "autotypenumbers": "strict",
          "coloraxis": {
           "colorbar": {
            "outlinewidth": 0,
            "ticks": ""
           }
          },
          "colorscale": {
           "diverging": [
            [
             0,
             "#8e0152"
            ],
            [
             0.1,
             "#c51b7d"
            ],
            [
             0.2,
             "#de77ae"
            ],
            [
             0.3,
             "#f1b6da"
            ],
            [
             0.4,
             "#fde0ef"
            ],
            [
             0.5,
             "#f7f7f7"
            ],
            [
             0.6,
             "#e6f5d0"
            ],
            [
             0.7,
             "#b8e186"
            ],
            [
             0.8,
             "#7fbc41"
            ],
            [
             0.9,
             "#4d9221"
            ],
            [
             1,
             "#276419"
            ]
           ],
           "sequential": [
            [
             0,
             "#0d0887"
            ],
            [
             0.1111111111111111,
             "#46039f"
            ],
            [
             0.2222222222222222,
             "#7201a8"
            ],
            [
             0.3333333333333333,
             "#9c179e"
            ],
            [
             0.4444444444444444,
             "#bd3786"
            ],
            [
             0.5555555555555556,
             "#d8576b"
            ],
            [
             0.6666666666666666,
             "#ed7953"
            ],
            [
             0.7777777777777778,
             "#fb9f3a"
            ],
            [
             0.8888888888888888,
             "#fdca26"
            ],
            [
             1,
             "#f0f921"
            ]
           ],
           "sequentialminus": [
            [
             0,
             "#0d0887"
            ],
            [
             0.1111111111111111,
             "#46039f"
            ],
            [
             0.2222222222222222,
             "#7201a8"
            ],
            [
             0.3333333333333333,
             "#9c179e"
            ],
            [
             0.4444444444444444,
             "#bd3786"
            ],
            [
             0.5555555555555556,
             "#d8576b"
            ],
            [
             0.6666666666666666,
             "#ed7953"
            ],
            [
             0.7777777777777778,
             "#fb9f3a"
            ],
            [
             0.8888888888888888,
             "#fdca26"
            ],
            [
             1,
             "#f0f921"
            ]
           ]
          },
          "colorway": [
           "#636efa",
           "#EF553B",
           "#00cc96",
           "#ab63fa",
           "#FFA15A",
           "#19d3f3",
           "#FF6692",
           "#B6E880",
           "#FF97FF",
           "#FECB52"
          ],
          "font": {
           "color": "#2a3f5f"
          },
          "geo": {
           "bgcolor": "white",
           "lakecolor": "white",
           "landcolor": "#E5ECF6",
           "showlakes": true,
           "showland": true,
           "subunitcolor": "white"
          },
          "hoverlabel": {
           "align": "left"
          },
          "hovermode": "closest",
          "mapbox": {
           "style": "light"
          },
          "paper_bgcolor": "white",
          "plot_bgcolor": "#E5ECF6",
          "polar": {
           "angularaxis": {
            "gridcolor": "white",
            "linecolor": "white",
            "ticks": ""
           },
           "bgcolor": "#E5ECF6",
           "radialaxis": {
            "gridcolor": "white",
            "linecolor": "white",
            "ticks": ""
           }
          },
          "scene": {
           "xaxis": {
            "backgroundcolor": "#E5ECF6",
            "gridcolor": "white",
            "gridwidth": 2,
            "linecolor": "white",
            "showbackground": true,
            "ticks": "",
            "zerolinecolor": "white"
           },
           "yaxis": {
            "backgroundcolor": "#E5ECF6",
            "gridcolor": "white",
            "gridwidth": 2,
            "linecolor": "white",
            "showbackground": true,
            "ticks": "",
            "zerolinecolor": "white"
           },
           "zaxis": {
            "backgroundcolor": "#E5ECF6",
            "gridcolor": "white",
            "gridwidth": 2,
            "linecolor": "white",
            "showbackground": true,
            "ticks": "",
            "zerolinecolor": "white"
           }
          },
          "shapedefaults": {
           "line": {
            "color": "#2a3f5f"
           }
          },
          "ternary": {
           "aaxis": {
            "gridcolor": "white",
            "linecolor": "white",
            "ticks": ""
           },
           "baxis": {
            "gridcolor": "white",
            "linecolor": "white",
            "ticks": ""
           },
           "bgcolor": "#E5ECF6",
           "caxis": {
            "gridcolor": "white",
            "linecolor": "white",
            "ticks": ""
           }
          },
          "title": {
           "x": 0.05
          },
          "xaxis": {
           "automargin": true,
           "gridcolor": "white",
           "linecolor": "white",
           "ticks": "",
           "title": {
            "standoff": 15
           },
           "zerolinecolor": "white",
           "zerolinewidth": 2
          },
          "yaxis": {
           "automargin": true,
           "gridcolor": "white",
           "linecolor": "white",
           "ticks": "",
           "title": {
            "standoff": 15
           },
           "zerolinecolor": "white",
           "zerolinewidth": 2
          }
         }
        },
        "title": {
         "text": "Cambio Porcentual en número de IPS por Departamento - 2013-2022"
        },
        "width": 800,
        "xaxis": {
         "anchor": "y",
         "domain": [
          0,
          1
         ],
         "range": [
          -2,
          14
         ],
         "title": {
          "text": "Número de IPS"
         }
        },
        "yaxis": {
         "anchor": "x",
         "domain": [
          0,
          1
         ],
         "title": {
          "text": "Departamento"
         }
        }
       }
      }
     },
     "metadata": {},
     "output_type": "display_data"
    }
   ],
   "source": [
    "fig = px.bar(data_frame=df_comparison, x='cambio_porcentual', y='Departamento', orientation='h')\n",
    "\n",
    "fig.update_xaxes(title_text='Número de IPS')\n",
    "fig.update_xaxes(range=[-2,14])\n",
    "fig.update_yaxes(title_text='Departamento')\n",
    "fig.update_layout(title='Cambio Porcentual en número de IPS por Departamento - 2013-2022')\n",
    "\n",
    "color_sequence = ['#5B9279' for i in departamentos]\n",
    "fig.update_traces(marker=dict(color=color_sequence))\n",
    "\n",
    "fig.update_traces(text=df_comparison['cambio_porcentual'], textposition='outside')\n",
    "\n",
    "fig.update_layout(width=800, height=700)\n",
    "\n",
    "fig.show()"
   ]
  }
 ],
 "metadata": {
  "kernelspec": {
   "display_name": "env",
   "language": "python",
   "name": "python3"
  },
  "language_info": {
   "codemirror_mode": {
    "name": "ipython",
    "version": 3
   },
   "file_extension": ".py",
   "mimetype": "text/x-python",
   "name": "python",
   "nbconvert_exporter": "python",
   "pygments_lexer": "ipython3",
   "version": "3.10.6"
  }
 },
 "nbformat": 4,
 "nbformat_minor": 2
}
