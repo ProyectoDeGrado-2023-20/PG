{
 "cells": [
  {
   "cell_type": "code",
   "execution_count": 1,
   "metadata": {},
   "outputs": [],
   "source": [
    "import pandas as pd\n",
    "import numpy as np\n",
    "import plotly.express as px"
   ]
  },
  {
   "cell_type": "code",
   "execution_count": 2,
   "metadata": {},
   "outputs": [
    {
     "name": "stderr",
     "output_type": "stream",
     "text": [
      "C:\\Users\\SGM\\AppData\\Local\\Temp\\ipykernel_15688\\3122532733.py:1: DtypeWarning: Columns (0,2) have mixed types. Specify dtype option on import or set low_memory=False.\n",
      "  df_reps = pd.read_csv('../../Data/REPS.csv')\n"
     ]
    }
   ],
   "source": [
    "df_reps = pd.read_csv('../../Data/REPS.csv')"
   ]
  },
  {
   "cell_type": "code",
   "execution_count": 3,
   "metadata": {},
   "outputs": [],
   "source": [
    "df_reps['codigo_prestador'] = df_reps['CodigoPrestador']\n",
    "df_reps['codigo_habilitacion_sede'] = df_reps['CodigoHabilitacionSede']\n",
    "df_reps.iloc[56503]['CodigoPrestador'], df_reps.iloc[56503]['CodigoHabilitacionSede'], df_reps.iloc[74472]['CodigoPrestador'], df_reps.iloc[74472]['CodigoHabilitacionSede']\n",
    "\n",
    "df_reps.at[56503, 'codigo_prestador'] = df_reps.iloc[56503]['CodigoPrestador'].replace(\" \", \"\")\n",
    "df_reps.at[56503, 'codigo_habilitacion_sede'] = df_reps.iloc[56503]['CodigoHabilitacionSede'].replace(\" \", \"\")\n",
    "df_reps.at[74472, 'codigo_prestador'] = df_reps.iloc[74472]['CodigoPrestador'].replace(\" \", \"\")\n",
    "df_reps.at[74472, 'codigo_habilitacion_sede'] = df_reps.iloc[74472]['CodigoHabilitacionSede'].replace(\" \", \"\")\n",
    "\n",
    "df_reps['codigo_prestador'] = df_reps['codigo_prestador'].astype(np.int64)\n",
    "df_reps['codigo_habilitacion_sede'] = df_reps['codigo_habilitacion_sede'].astype(np.int64)"
   ]
  },
  {
   "cell_type": "code",
   "execution_count": 4,
   "metadata": {},
   "outputs": [],
   "source": [
    "columnas = [\n",
    "    'DepartamentoSedeDesc',\n",
    "    'MunicipioPrestadorDesc',\n",
    "    'MunicipioSedeDesc',\n",
    "    'codigo_prestador',\n",
    "    'codigo_habilitacion_sede',\n",
    "    'NaturalezaJuridica',\n",
    "    'ClasePrestadorDesc'\n",
    "]"
   ]
  },
  {
   "cell_type": "code",
   "execution_count": 5,
   "metadata": {},
   "outputs": [],
   "source": [
    "df_reps = df_reps[columnas]"
   ]
  },
  {
   "cell_type": "code",
   "execution_count": 6,
   "metadata": {},
   "outputs": [],
   "source": [
    "departamentos = [\n",
    "    'Amazonas', 'Antioquia', 'Arauca', 'Atlántico',\n",
    "    'Bogotá D.C', 'Bolívar', 'Boyacá', 'Caldas',\n",
    "    'Caquetá', 'Casanare', 'Cauca', 'Cesar', \n",
    "    'Chocó', 'Córdoba', 'Cundinamarca', 'Guainía', \n",
    "    'Guaviare', 'Huila', 'La Guajira', 'Magdalena',\n",
    "    'Meta', 'Nariño', 'Norte de Santander', 'Putumayo',\n",
    "    'Quindío', 'Risaralda', 'San Andrés y Providencia', 'Santander',\n",
    "    'Sucre', 'Tolima', 'Valle del cauca', 'Vaupés', \n",
    "    'Vichada'\n",
    "    ]\n",
    "\n",
    "distritos_especiales = [\n",
    "    'Barranquilla',\n",
    "    'Buenaventura',\n",
    "    'Cartagena',\n",
    "    'Santa Marta'\n",
    "]\n",
    "\n",
    "distritos_especiales_departamentos = {\n",
    "    'Barranquilla': 'Atlántico',\n",
    "    'Buenaventura': 'Valle del cauca',\n",
    "    'Cartagena': 'Bolívar',\n",
    "    'Santa Marta': 'Magdalena',\n",
    "    'Cali': 'Valle del cauca'\n",
    "}"
   ]
  },
  {
   "cell_type": "code",
   "execution_count": 7,
   "metadata": {},
   "outputs": [],
   "source": [
    "df_reps['Departamento'] = df_reps['DepartamentoSedeDesc'].replace(distritos_especiales_departamentos)"
   ]
  },
  {
   "cell_type": "code",
   "execution_count": 8,
   "metadata": {},
   "outputs": [],
   "source": [
    "df_reps = df_reps[df_reps['ClasePrestadorDesc'] == 'Instituciones Prestadoras de Servicios de Salud - IPS']"
   ]
  },
  {
   "cell_type": "code",
   "execution_count": 9,
   "metadata": {},
   "outputs": [
    {
     "name": "stdout",
     "output_type": "stream",
     "text": [
      "<class 'pandas.core.frame.DataFrame'>\n",
      "Index: 19726 entries, 0 to 76393\n",
      "Data columns (total 8 columns):\n",
      " #   Column                    Non-Null Count  Dtype \n",
      "---  ------                    --------------  ----- \n",
      " 0   DepartamentoSedeDesc      19726 non-null  object\n",
      " 1   MunicipioPrestadorDesc    19726 non-null  object\n",
      " 2   MunicipioSedeDesc         19726 non-null  object\n",
      " 3   codigo_prestador          19726 non-null  int64 \n",
      " 4   codigo_habilitacion_sede  19726 non-null  int64 \n",
      " 5   NaturalezaJuridica        19726 non-null  object\n",
      " 6   ClasePrestadorDesc        19726 non-null  object\n",
      " 7   Departamento              19726 non-null  object\n",
      "dtypes: int64(2), object(6)\n",
      "memory usage: 1.4+ MB\n"
     ]
    }
   ],
   "source": [
    "df_reps.info()"
   ]
  },
  {
   "cell_type": "code",
   "execution_count": 10,
   "metadata": {},
   "outputs": [
    {
     "data": {
      "text/html": [
       "<div>\n",
       "<style scoped>\n",
       "    .dataframe tbody tr th:only-of-type {\n",
       "        vertical-align: middle;\n",
       "    }\n",
       "\n",
       "    .dataframe tbody tr th {\n",
       "        vertical-align: top;\n",
       "    }\n",
       "\n",
       "    .dataframe thead th {\n",
       "        text-align: right;\n",
       "    }\n",
       "</style>\n",
       "<table border=\"1\" class=\"dataframe\">\n",
       "  <thead>\n",
       "    <tr style=\"text-align: right;\">\n",
       "      <th></th>\n",
       "      <th>DepartamentoSedeDesc</th>\n",
       "      <th>MunicipioPrestadorDesc</th>\n",
       "      <th>MunicipioSedeDesc</th>\n",
       "      <th>codigo_prestador</th>\n",
       "      <th>codigo_habilitacion_sede</th>\n",
       "      <th>NaturalezaJuridica</th>\n",
       "      <th>ClasePrestadorDesc</th>\n",
       "      <th>Departamento</th>\n",
       "    </tr>\n",
       "  </thead>\n",
       "  <tbody>\n",
       "    <tr>\n",
       "      <th>0</th>\n",
       "      <td>Amazonas</td>\n",
       "      <td>LETICIA</td>\n",
       "      <td>EL ENCANTO</td>\n",
       "      <td>9100100019</td>\n",
       "      <td>912630001911</td>\n",
       "      <td>Pública</td>\n",
       "      <td>Instituciones Prestadoras de Servicios de Salu...</td>\n",
       "      <td>Amazonas</td>\n",
       "    </tr>\n",
       "    <tr>\n",
       "      <th>1</th>\n",
       "      <td>Amazonas</td>\n",
       "      <td>LETICIA</td>\n",
       "      <td>LA CHORRERA</td>\n",
       "      <td>9100100019</td>\n",
       "      <td>914050001914</td>\n",
       "      <td>Pública</td>\n",
       "      <td>Instituciones Prestadoras de Servicios de Salu...</td>\n",
       "      <td>Amazonas</td>\n",
       "    </tr>\n",
       "    <tr>\n",
       "      <th>2</th>\n",
       "      <td>Amazonas</td>\n",
       "      <td>LETICIA</td>\n",
       "      <td>LA PEDRERA</td>\n",
       "      <td>9100100019</td>\n",
       "      <td>914070001915</td>\n",
       "      <td>Pública</td>\n",
       "      <td>Instituciones Prestadoras de Servicios de Salu...</td>\n",
       "      <td>Amazonas</td>\n",
       "    </tr>\n",
       "    <tr>\n",
       "      <th>3</th>\n",
       "      <td>Amazonas</td>\n",
       "      <td>LETICIA</td>\n",
       "      <td>LA VICTORIA</td>\n",
       "      <td>9100100019</td>\n",
       "      <td>914300001916</td>\n",
       "      <td>Pública</td>\n",
       "      <td>Instituciones Prestadoras de Servicios de Salu...</td>\n",
       "      <td>Amazonas</td>\n",
       "    </tr>\n",
       "    <tr>\n",
       "      <th>5</th>\n",
       "      <td>Amazonas</td>\n",
       "      <td>LETICIA</td>\n",
       "      <td>LETICIA</td>\n",
       "      <td>9100100019</td>\n",
       "      <td>910010001901</td>\n",
       "      <td>Pública</td>\n",
       "      <td>Instituciones Prestadoras de Servicios de Salu...</td>\n",
       "      <td>Amazonas</td>\n",
       "    </tr>\n",
       "  </tbody>\n",
       "</table>\n",
       "</div>"
      ],
      "text/plain": [
       "  DepartamentoSedeDesc MunicipioPrestadorDesc MunicipioSedeDesc  \\\n",
       "0             Amazonas                LETICIA        EL ENCANTO   \n",
       "1             Amazonas                LETICIA       LA CHORRERA   \n",
       "2             Amazonas                LETICIA        LA PEDRERA   \n",
       "3             Amazonas                LETICIA       LA VICTORIA   \n",
       "5             Amazonas                LETICIA           LETICIA   \n",
       "\n",
       "   codigo_prestador  codigo_habilitacion_sede NaturalezaJuridica  \\\n",
       "0        9100100019              912630001911            Pública   \n",
       "1        9100100019              914050001914            Pública   \n",
       "2        9100100019              914070001915            Pública   \n",
       "3        9100100019              914300001916            Pública   \n",
       "5        9100100019              910010001901            Pública   \n",
       "\n",
       "                                  ClasePrestadorDesc Departamento  \n",
       "0  Instituciones Prestadoras de Servicios de Salu...     Amazonas  \n",
       "1  Instituciones Prestadoras de Servicios de Salu...     Amazonas  \n",
       "2  Instituciones Prestadoras de Servicios de Salu...     Amazonas  \n",
       "3  Instituciones Prestadoras de Servicios de Salu...     Amazonas  \n",
       "5  Instituciones Prestadoras de Servicios de Salu...     Amazonas  "
      ]
     },
     "execution_count": 10,
     "metadata": {},
     "output_type": "execute_result"
    }
   ],
   "source": [
    "df_reps.head()"
   ]
  },
  {
   "cell_type": "markdown",
   "metadata": {},
   "source": [
    "# Sedes"
   ]
  },
  {
   "cell_type": "code",
   "execution_count": 58,
   "metadata": {},
   "outputs": [
    {
     "data": {
      "text/html": [
       "<div>\n",
       "<style scoped>\n",
       "    .dataframe tbody tr th:only-of-type {\n",
       "        vertical-align: middle;\n",
       "    }\n",
       "\n",
       "    .dataframe tbody tr th {\n",
       "        vertical-align: top;\n",
       "    }\n",
       "\n",
       "    .dataframe thead th {\n",
       "        text-align: right;\n",
       "    }\n",
       "</style>\n",
       "<table border=\"1\" class=\"dataframe\">\n",
       "  <thead>\n",
       "    <tr style=\"text-align: right;\">\n",
       "      <th></th>\n",
       "      <th>count</th>\n",
       "    </tr>\n",
       "    <tr>\n",
       "      <th>NaturalezaJuridica</th>\n",
       "      <th></th>\n",
       "    </tr>\n",
       "  </thead>\n",
       "  <tbody>\n",
       "    <tr>\n",
       "      <th>Mixta</th>\n",
       "      <td>60</td>\n",
       "    </tr>\n",
       "    <tr>\n",
       "      <th>Privada</th>\n",
       "      <td>16045</td>\n",
       "    </tr>\n",
       "    <tr>\n",
       "      <th>Pública</th>\n",
       "      <td>3621</td>\n",
       "    </tr>\n",
       "  </tbody>\n",
       "</table>\n",
       "</div>"
      ],
      "text/plain": [
       "                    count\n",
       "NaturalezaJuridica       \n",
       "Mixta                  60\n",
       "Privada             16045\n",
       "Pública              3621"
      ]
     },
     "execution_count": 58,
     "metadata": {},
     "output_type": "execute_result"
    }
   ],
   "source": [
    "df_reps.groupby(['NaturalezaJuridica']).agg(count=('codigo_habilitacion_sede', 'count'))"
   ]
  },
  {
   "cell_type": "code",
   "execution_count": 12,
   "metadata": {},
   "outputs": [
    {
     "data": {
      "text/plain": [
       "11072"
      ]
     },
     "execution_count": 12,
     "metadata": {},
     "output_type": "execute_result"
    }
   ],
   "source": [
    "len(df_reps['codigo_prestador'].unique())"
   ]
  },
  {
   "cell_type": "code",
   "execution_count": 13,
   "metadata": {},
   "outputs": [
    {
     "data": {
      "text/plain": [
       "19726"
      ]
     },
     "execution_count": 13,
     "metadata": {},
     "output_type": "execute_result"
    }
   ],
   "source": [
    "len(df_reps['codigo_habilitacion_sede'].unique())"
   ]
  },
  {
   "cell_type": "code",
   "execution_count": 67,
   "metadata": {},
   "outputs": [],
   "source": [
    "df_prestadores = df_reps[['codigo_prestador', 'NaturalezaJuridica']].drop_duplicates()"
   ]
  },
  {
   "cell_type": "code",
   "execution_count": 69,
   "metadata": {},
   "outputs": [
    {
     "data": {
      "text/html": [
       "<div>\n",
       "<style scoped>\n",
       "    .dataframe tbody tr th:only-of-type {\n",
       "        vertical-align: middle;\n",
       "    }\n",
       "\n",
       "    .dataframe tbody tr th {\n",
       "        vertical-align: top;\n",
       "    }\n",
       "\n",
       "    .dataframe thead th {\n",
       "        text-align: right;\n",
       "    }\n",
       "</style>\n",
       "<table border=\"1\" class=\"dataframe\">\n",
       "  <thead>\n",
       "    <tr style=\"text-align: right;\">\n",
       "      <th></th>\n",
       "      <th>codigo_prestador</th>\n",
       "      <th>NaturalezaJuridica</th>\n",
       "    </tr>\n",
       "  </thead>\n",
       "  <tbody>\n",
       "    <tr>\n",
       "      <th>0</th>\n",
       "      <td>9100100019</td>\n",
       "      <td>Pública</td>\n",
       "    </tr>\n",
       "    <tr>\n",
       "      <th>13</th>\n",
       "      <td>9100100069</td>\n",
       "      <td>Privada</td>\n",
       "    </tr>\n",
       "    <tr>\n",
       "      <th>15</th>\n",
       "      <td>9100100088</td>\n",
       "      <td>Privada</td>\n",
       "    </tr>\n",
       "    <tr>\n",
       "      <th>21</th>\n",
       "      <td>9100100113</td>\n",
       "      <td>Privada</td>\n",
       "    </tr>\n",
       "    <tr>\n",
       "      <th>26</th>\n",
       "      <td>9100100141</td>\n",
       "      <td>Privada</td>\n",
       "    </tr>\n",
       "  </tbody>\n",
       "</table>\n",
       "</div>"
      ],
      "text/plain": [
       "    codigo_prestador NaturalezaJuridica\n",
       "0         9100100019            Pública\n",
       "13        9100100069            Privada\n",
       "15        9100100088            Privada\n",
       "21        9100100113            Privada\n",
       "26        9100100141            Privada"
      ]
     },
     "execution_count": 69,
     "metadata": {},
     "output_type": "execute_result"
    }
   ],
   "source": [
    "df_prestadores.head()"
   ]
  },
  {
   "cell_type": "markdown",
   "metadata": {},
   "source": [
    "# Prestadores"
   ]
  },
  {
   "cell_type": "code",
   "execution_count": 70,
   "metadata": {},
   "outputs": [
    {
     "data": {
      "text/html": [
       "<div>\n",
       "<style scoped>\n",
       "    .dataframe tbody tr th:only-of-type {\n",
       "        vertical-align: middle;\n",
       "    }\n",
       "\n",
       "    .dataframe tbody tr th {\n",
       "        vertical-align: top;\n",
       "    }\n",
       "\n",
       "    .dataframe thead th {\n",
       "        text-align: right;\n",
       "    }\n",
       "</style>\n",
       "<table border=\"1\" class=\"dataframe\">\n",
       "  <thead>\n",
       "    <tr style=\"text-align: right;\">\n",
       "      <th></th>\n",
       "      <th>count</th>\n",
       "    </tr>\n",
       "    <tr>\n",
       "      <th>NaturalezaJuridica</th>\n",
       "      <th></th>\n",
       "    </tr>\n",
       "  </thead>\n",
       "  <tbody>\n",
       "    <tr>\n",
       "      <th>Mixta</th>\n",
       "      <td>18</td>\n",
       "    </tr>\n",
       "    <tr>\n",
       "      <th>Privada</th>\n",
       "      <td>10055</td>\n",
       "    </tr>\n",
       "    <tr>\n",
       "      <th>Pública</th>\n",
       "      <td>999</td>\n",
       "    </tr>\n",
       "  </tbody>\n",
       "</table>\n",
       "</div>"
      ],
      "text/plain": [
       "                    count\n",
       "NaturalezaJuridica       \n",
       "Mixta                  18\n",
       "Privada             10055\n",
       "Pública               999"
      ]
     },
     "execution_count": 70,
     "metadata": {},
     "output_type": "execute_result"
    }
   ],
   "source": [
    "df_prestadores.groupby(['NaturalezaJuridica']).agg(count=('codigo_prestador', 'count'))"
   ]
  },
  {
   "cell_type": "code",
   "execution_count": 23,
   "metadata": {},
   "outputs": [],
   "source": [
    "df_ips = pd.read_csv(\"../../Data/IPS_Complejidad.csv\")"
   ]
  },
  {
   "cell_type": "code",
   "execution_count": 24,
   "metadata": {},
   "outputs": [],
   "source": [
    "departamentos = [\n",
    "    'Amazonas', 'Antioquia', 'Arauca', 'Atlántico',\n",
    "    'Bogotá D.C', 'Bolívar', 'Boyacá', 'Caldas',\n",
    "    'Caquetá', 'Casanare', 'Cauca', 'Cesar', \n",
    "    'Chocó', 'Córdoba', 'Cundinamarca', 'Guainía', \n",
    "    'Guaviare', 'Huila', 'La Guajira', 'Magdalena',\n",
    "    'Meta', 'Nariño', 'Norte de Santander', 'Putumayo',\n",
    "    'Quindío', 'Risaralda', 'San Andrés y Providencia', 'Santander',\n",
    "    'Sucre', 'Tolima', 'Valle del cauca', 'Vaupés', \n",
    "    'Vichada'\n",
    "    ]\n",
    "\n",
    "distritos_especiales = [\n",
    "    'Barranquilla',\n",
    "    'Buenaventura',\n",
    "    'Cartagena',\n",
    "    'Santa Marta'\n",
    "]\n",
    "\n",
    "distritos_especiales_departamentos = {\n",
    "    'Barranquilla': 'Atlántico',\n",
    "    'Buenaventura': 'Valle del cauca',\n",
    "    'Cartagena': 'Bolívar',\n",
    "    'Santa Marta': 'Magdalena'\n",
    "}"
   ]
  },
  {
   "cell_type": "code",
   "execution_count": 25,
   "metadata": {},
   "outputs": [],
   "source": [
    "columnas = [\n",
    "    'depa_nombre',\n",
    "    'muni_nombre',\n",
    "    'codigo_habilitacion',\n",
    "    'razon_social',\n",
    "    'nivel',\n",
    "    'habilitado',\n",
    "    'naju_codigo',\n",
    "    'naju_nombre',\n",
    "    'clase_persona'\n",
    "]"
   ]
  },
  {
   "cell_type": "code",
   "execution_count": 26,
   "metadata": {},
   "outputs": [],
   "source": [
    "df_ips = df_ips[columnas]"
   ]
  },
  {
   "cell_type": "code",
   "execution_count": 27,
   "metadata": {},
   "outputs": [],
   "source": [
    "df_ips['Departamento'] = df_ips['depa_nombre'].replace(distritos_especiales_departamentos)"
   ]
  },
  {
   "cell_type": "code",
   "execution_count": 28,
   "metadata": {},
   "outputs": [
    {
     "name": "stdout",
     "output_type": "stream",
     "text": [
      "<class 'pandas.core.frame.DataFrame'>\n",
      "RangeIndex: 11466 entries, 0 to 11465\n",
      "Data columns (total 10 columns):\n",
      " #   Column               Non-Null Count  Dtype  \n",
      "---  ------               --------------  -----  \n",
      " 0   depa_nombre          11466 non-null  object \n",
      " 1   muni_nombre          11466 non-null  object \n",
      " 2   codigo_habilitacion  11466 non-null  int64  \n",
      " 3   razon_social         11466 non-null  object \n",
      " 4   nivel                1002 non-null   float64\n",
      " 5   habilitado           11466 non-null  object \n",
      " 6   naju_codigo          11466 non-null  int64  \n",
      " 7   naju_nombre          11466 non-null  object \n",
      " 8   clase_persona        11466 non-null  object \n",
      " 9   Departamento         11466 non-null  object \n",
      "dtypes: float64(1), int64(2), object(7)\n",
      "memory usage: 895.9+ KB\n"
     ]
    }
   ],
   "source": [
    "df_ips.info()"
   ]
  },
  {
   "cell_type": "code",
   "execution_count": 29,
   "metadata": {},
   "outputs": [
    {
     "data": {
      "text/html": [
       "<div>\n",
       "<style scoped>\n",
       "    .dataframe tbody tr th:only-of-type {\n",
       "        vertical-align: middle;\n",
       "    }\n",
       "\n",
       "    .dataframe tbody tr th {\n",
       "        vertical-align: top;\n",
       "    }\n",
       "\n",
       "    .dataframe thead th {\n",
       "        text-align: right;\n",
       "    }\n",
       "</style>\n",
       "<table border=\"1\" class=\"dataframe\">\n",
       "  <thead>\n",
       "    <tr style=\"text-align: right;\">\n",
       "      <th></th>\n",
       "      <th>depa_nombre</th>\n",
       "      <th>muni_nombre</th>\n",
       "      <th>codigo_habilitacion</th>\n",
       "      <th>razon_social</th>\n",
       "      <th>nivel</th>\n",
       "      <th>habilitado</th>\n",
       "      <th>naju_codigo</th>\n",
       "      <th>naju_nombre</th>\n",
       "      <th>clase_persona</th>\n",
       "      <th>Departamento</th>\n",
       "    </tr>\n",
       "  </thead>\n",
       "  <tbody>\n",
       "    <tr>\n",
       "      <th>0</th>\n",
       "      <td>Amazonas</td>\n",
       "      <td>LETICIA</td>\n",
       "      <td>9100100019</td>\n",
       "      <td>E.S.E. HOSPITAL SAN RAFAEL DE LETICIA</td>\n",
       "      <td>2.0</td>\n",
       "      <td>SI</td>\n",
       "      <td>4</td>\n",
       "      <td>Pública</td>\n",
       "      <td>JURIDICO</td>\n",
       "      <td>Amazonas</td>\n",
       "    </tr>\n",
       "    <tr>\n",
       "      <th>1</th>\n",
       "      <td>Amazonas</td>\n",
       "      <td>LETICIA</td>\n",
       "      <td>9100100185</td>\n",
       "      <td>FREYA SKIN AND BODY CARE S.A.S TWO</td>\n",
       "      <td>NaN</td>\n",
       "      <td>SI</td>\n",
       "      <td>1</td>\n",
       "      <td>Privada</td>\n",
       "      <td>JURIDICO</td>\n",
       "      <td>Amazonas</td>\n",
       "    </tr>\n",
       "    <tr>\n",
       "      <th>2</th>\n",
       "      <td>Amazonas</td>\n",
       "      <td>LETICIA</td>\n",
       "      <td>9100100069</td>\n",
       "      <td>FUNDACION CLINICA LETICIA</td>\n",
       "      <td>NaN</td>\n",
       "      <td>SI</td>\n",
       "      <td>1</td>\n",
       "      <td>Privada</td>\n",
       "      <td>JURIDICO</td>\n",
       "      <td>Amazonas</td>\n",
       "    </tr>\n",
       "    <tr>\n",
       "      <th>3</th>\n",
       "      <td>Amazonas</td>\n",
       "      <td>LETICIA</td>\n",
       "      <td>9100100158</td>\n",
       "      <td>IMPROVE QUALITY REDUCE COST SAVE LIFES AUDITOR...</td>\n",
       "      <td>NaN</td>\n",
       "      <td>SI</td>\n",
       "      <td>1</td>\n",
       "      <td>Privada</td>\n",
       "      <td>JURIDICO</td>\n",
       "      <td>Amazonas</td>\n",
       "    </tr>\n",
       "    <tr>\n",
       "      <th>4</th>\n",
       "      <td>Amazonas</td>\n",
       "      <td>LETICIA</td>\n",
       "      <td>9100100144</td>\n",
       "      <td>INSTITUTO PARA LA PREVENCIÓN, EL TRATAMIENTO Y...</td>\n",
       "      <td>NaN</td>\n",
       "      <td>SI</td>\n",
       "      <td>1</td>\n",
       "      <td>Privada</td>\n",
       "      <td>JURIDICO</td>\n",
       "      <td>Amazonas</td>\n",
       "    </tr>\n",
       "  </tbody>\n",
       "</table>\n",
       "</div>"
      ],
      "text/plain": [
       "  depa_nombre muni_nombre  codigo_habilitacion  \\\n",
       "0    Amazonas     LETICIA           9100100019   \n",
       "1    Amazonas     LETICIA           9100100185   \n",
       "2    Amazonas     LETICIA           9100100069   \n",
       "3    Amazonas     LETICIA           9100100158   \n",
       "4    Amazonas     LETICIA           9100100144   \n",
       "\n",
       "                                        razon_social  nivel habilitado  \\\n",
       "0              E.S.E. HOSPITAL SAN RAFAEL DE LETICIA    2.0         SI   \n",
       "1                 FREYA SKIN AND BODY CARE S.A.S TWO    NaN         SI   \n",
       "2                          FUNDACION CLINICA LETICIA    NaN         SI   \n",
       "3  IMPROVE QUALITY REDUCE COST SAVE LIFES AUDITOR...    NaN         SI   \n",
       "4  INSTITUTO PARA LA PREVENCIÓN, EL TRATAMIENTO Y...    NaN         SI   \n",
       "\n",
       "   naju_codigo naju_nombre clase_persona Departamento  \n",
       "0            4     Pública      JURIDICO     Amazonas  \n",
       "1            1     Privada      JURIDICO     Amazonas  \n",
       "2            1     Privada      JURIDICO     Amazonas  \n",
       "3            1     Privada      JURIDICO     Amazonas  \n",
       "4            1     Privada      JURIDICO     Amazonas  "
      ]
     },
     "execution_count": 29,
     "metadata": {},
     "output_type": "execute_result"
    }
   ],
   "source": [
    "df_ips.head()"
   ]
  },
  {
   "cell_type": "code",
   "execution_count": 65,
   "metadata": {},
   "outputs": [
    {
     "data": {
      "text/html": [
       "<div>\n",
       "<style scoped>\n",
       "    .dataframe tbody tr th:only-of-type {\n",
       "        vertical-align: middle;\n",
       "    }\n",
       "\n",
       "    .dataframe tbody tr th {\n",
       "        vertical-align: top;\n",
       "    }\n",
       "\n",
       "    .dataframe thead th {\n",
       "        text-align: right;\n",
       "    }\n",
       "</style>\n",
       "<table border=\"1\" class=\"dataframe\">\n",
       "  <thead>\n",
       "    <tr style=\"text-align: right;\">\n",
       "      <th></th>\n",
       "      <th>count</th>\n",
       "    </tr>\n",
       "    <tr>\n",
       "      <th>naju_nombre</th>\n",
       "      <th></th>\n",
       "    </tr>\n",
       "  </thead>\n",
       "  <tbody>\n",
       "    <tr>\n",
       "      <th>Mixta</th>\n",
       "      <td>18</td>\n",
       "    </tr>\n",
       "    <tr>\n",
       "      <th>Privada</th>\n",
       "      <td>10446</td>\n",
       "    </tr>\n",
       "    <tr>\n",
       "      <th>Pública</th>\n",
       "      <td>1002</td>\n",
       "    </tr>\n",
       "  </tbody>\n",
       "</table>\n",
       "</div>"
      ],
      "text/plain": [
       "             count\n",
       "naju_nombre       \n",
       "Mixta           18\n",
       "Privada      10446\n",
       "Pública       1002"
      ]
     },
     "execution_count": 65,
     "metadata": {},
     "output_type": "execute_result"
    }
   ],
   "source": [
    "df_ips.groupby(['naju_nombre']).agg(count=('codigo_habilitacion', 'count'))"
   ]
  },
  {
   "cell_type": "code",
   "execution_count": 56,
   "metadata": {},
   "outputs": [
    {
     "data": {
      "text/html": [
       "<div>\n",
       "<style scoped>\n",
       "    .dataframe tbody tr th:only-of-type {\n",
       "        vertical-align: middle;\n",
       "    }\n",
       "\n",
       "    .dataframe tbody tr th {\n",
       "        vertical-align: top;\n",
       "    }\n",
       "\n",
       "    .dataframe thead th {\n",
       "        text-align: right;\n",
       "    }\n",
       "</style>\n",
       "<table border=\"1\" class=\"dataframe\">\n",
       "  <thead>\n",
       "    <tr style=\"text-align: right;\">\n",
       "      <th></th>\n",
       "      <th>depa_nombre</th>\n",
       "      <th>muni_nombre</th>\n",
       "      <th>codigo_habilitacion</th>\n",
       "      <th>razon_social</th>\n",
       "      <th>nivel</th>\n",
       "      <th>habilitado</th>\n",
       "      <th>naju_codigo</th>\n",
       "      <th>naju_nombre</th>\n",
       "      <th>clase_persona</th>\n",
       "      <th>Departamento</th>\n",
       "      <th>codigo_prestador</th>\n",
       "    </tr>\n",
       "  </thead>\n",
       "  <tbody>\n",
       "    <tr>\n",
       "      <th>0</th>\n",
       "      <td>Amazonas</td>\n",
       "      <td>LETICIA</td>\n",
       "      <td>9100100019</td>\n",
       "      <td>E.S.E. HOSPITAL SAN RAFAEL DE LETICIA</td>\n",
       "      <td>2.0</td>\n",
       "      <td>SI</td>\n",
       "      <td>4</td>\n",
       "      <td>Pública</td>\n",
       "      <td>JURIDICO</td>\n",
       "      <td>Amazonas</td>\n",
       "      <td>9100100019</td>\n",
       "    </tr>\n",
       "    <tr>\n",
       "      <th>1</th>\n",
       "      <td>Amazonas</td>\n",
       "      <td>LETICIA</td>\n",
       "      <td>9100100185</td>\n",
       "      <td>FREYA SKIN AND BODY CARE S.A.S TWO</td>\n",
       "      <td>NaN</td>\n",
       "      <td>SI</td>\n",
       "      <td>1</td>\n",
       "      <td>Privada</td>\n",
       "      <td>JURIDICO</td>\n",
       "      <td>Amazonas</td>\n",
       "      <td>9100100185</td>\n",
       "    </tr>\n",
       "    <tr>\n",
       "      <th>2</th>\n",
       "      <td>Amazonas</td>\n",
       "      <td>LETICIA</td>\n",
       "      <td>9100100069</td>\n",
       "      <td>FUNDACION CLINICA LETICIA</td>\n",
       "      <td>NaN</td>\n",
       "      <td>SI</td>\n",
       "      <td>1</td>\n",
       "      <td>Privada</td>\n",
       "      <td>JURIDICO</td>\n",
       "      <td>Amazonas</td>\n",
       "      <td>9100100069</td>\n",
       "    </tr>\n",
       "    <tr>\n",
       "      <th>3</th>\n",
       "      <td>Amazonas</td>\n",
       "      <td>LETICIA</td>\n",
       "      <td>9100100158</td>\n",
       "      <td>IMPROVE QUALITY REDUCE COST SAVE LIFES AUDITOR...</td>\n",
       "      <td>NaN</td>\n",
       "      <td>SI</td>\n",
       "      <td>1</td>\n",
       "      <td>Privada</td>\n",
       "      <td>JURIDICO</td>\n",
       "      <td>Amazonas</td>\n",
       "      <td>9100100158</td>\n",
       "    </tr>\n",
       "    <tr>\n",
       "      <th>4</th>\n",
       "      <td>Amazonas</td>\n",
       "      <td>LETICIA</td>\n",
       "      <td>9100100144</td>\n",
       "      <td>INSTITUTO PARA LA PREVENCIÓN, EL TRATAMIENTO Y...</td>\n",
       "      <td>NaN</td>\n",
       "      <td>SI</td>\n",
       "      <td>1</td>\n",
       "      <td>Privada</td>\n",
       "      <td>JURIDICO</td>\n",
       "      <td>Amazonas</td>\n",
       "      <td>9100100144</td>\n",
       "    </tr>\n",
       "    <tr>\n",
       "      <th>...</th>\n",
       "      <td>...</td>\n",
       "      <td>...</td>\n",
       "      <td>...</td>\n",
       "      <td>...</td>\n",
       "      <td>...</td>\n",
       "      <td>...</td>\n",
       "      <td>...</td>\n",
       "      <td>...</td>\n",
       "      <td>...</td>\n",
       "      <td>...</td>\n",
       "      <td>...</td>\n",
       "    </tr>\n",
       "    <tr>\n",
       "      <th>10177</th>\n",
       "      <td>Vichada</td>\n",
       "      <td>LA PRIMAVERA</td>\n",
       "      <td>9952400091</td>\n",
       "      <td>DEFENSALUD HUMANDA IPS SAS</td>\n",
       "      <td>NaN</td>\n",
       "      <td>SI</td>\n",
       "      <td>1</td>\n",
       "      <td>Privada</td>\n",
       "      <td>JURIDICO</td>\n",
       "      <td>Vichada</td>\n",
       "      <td>9952400091</td>\n",
       "    </tr>\n",
       "    <tr>\n",
       "      <th>10178</th>\n",
       "      <td>Vichada</td>\n",
       "      <td>PUERTO CARREÑO</td>\n",
       "      <td>9900100127</td>\n",
       "      <td>CORPORACIÓN SOCIAL LA FONTANA</td>\n",
       "      <td>NaN</td>\n",
       "      <td>SI</td>\n",
       "      <td>1</td>\n",
       "      <td>Privada</td>\n",
       "      <td>JURIDICO</td>\n",
       "      <td>Vichada</td>\n",
       "      <td>9900100127</td>\n",
       "    </tr>\n",
       "    <tr>\n",
       "      <th>10179</th>\n",
       "      <td>Vichada</td>\n",
       "      <td>PUERTO CARREÑO</td>\n",
       "      <td>9900100006</td>\n",
       "      <td>E.S.E. HOSPITAL DEPARTAMENTAL SAN JUAN DE DIOS</td>\n",
       "      <td>2.0</td>\n",
       "      <td>SI</td>\n",
       "      <td>4</td>\n",
       "      <td>Pública</td>\n",
       "      <td>JURIDICO</td>\n",
       "      <td>Vichada</td>\n",
       "      <td>9900100006</td>\n",
       "    </tr>\n",
       "    <tr>\n",
       "      <th>10180</th>\n",
       "      <td>Vichada</td>\n",
       "      <td>PUERTO CARREÑO</td>\n",
       "      <td>9900100117</td>\n",
       "      <td>IPS DIPOSALUD SAS</td>\n",
       "      <td>NaN</td>\n",
       "      <td>SI</td>\n",
       "      <td>1</td>\n",
       "      <td>Privada</td>\n",
       "      <td>JURIDICO</td>\n",
       "      <td>Vichada</td>\n",
       "      <td>9900100117</td>\n",
       "    </tr>\n",
       "    <tr>\n",
       "      <th>10181</th>\n",
       "      <td>Vichada</td>\n",
       "      <td>SANTA ROSALÍA</td>\n",
       "      <td>9962400122</td>\n",
       "      <td>IPS INCI SALUD SAS</td>\n",
       "      <td>NaN</td>\n",
       "      <td>SI</td>\n",
       "      <td>1</td>\n",
       "      <td>Privada</td>\n",
       "      <td>JURIDICO</td>\n",
       "      <td>Vichada</td>\n",
       "      <td>9962400122</td>\n",
       "    </tr>\n",
       "  </tbody>\n",
       "</table>\n",
       "<p>10182 rows × 11 columns</p>\n",
       "</div>"
      ],
      "text/plain": [
       "      depa_nombre     muni_nombre  codigo_habilitacion  \\\n",
       "0        Amazonas         LETICIA           9100100019   \n",
       "1        Amazonas         LETICIA           9100100185   \n",
       "2        Amazonas         LETICIA           9100100069   \n",
       "3        Amazonas         LETICIA           9100100158   \n",
       "4        Amazonas         LETICIA           9100100144   \n",
       "...           ...             ...                  ...   \n",
       "10177     Vichada    LA PRIMAVERA           9952400091   \n",
       "10178     Vichada  PUERTO CARREÑO           9900100127   \n",
       "10179     Vichada  PUERTO CARREÑO           9900100006   \n",
       "10180     Vichada  PUERTO CARREÑO           9900100117   \n",
       "10181     Vichada   SANTA ROSALÍA           9962400122   \n",
       "\n",
       "                                            razon_social  nivel habilitado  \\\n",
       "0                  E.S.E. HOSPITAL SAN RAFAEL DE LETICIA    2.0         SI   \n",
       "1                     FREYA SKIN AND BODY CARE S.A.S TWO    NaN         SI   \n",
       "2                              FUNDACION CLINICA LETICIA    NaN         SI   \n",
       "3      IMPROVE QUALITY REDUCE COST SAVE LIFES AUDITOR...    NaN         SI   \n",
       "4      INSTITUTO PARA LA PREVENCIÓN, EL TRATAMIENTO Y...    NaN         SI   \n",
       "...                                                  ...    ...        ...   \n",
       "10177                         DEFENSALUD HUMANDA IPS SAS    NaN         SI   \n",
       "10178                      CORPORACIÓN SOCIAL LA FONTANA    NaN         SI   \n",
       "10179     E.S.E. HOSPITAL DEPARTAMENTAL SAN JUAN DE DIOS    2.0         SI   \n",
       "10180                                  IPS DIPOSALUD SAS    NaN         SI   \n",
       "10181                                 IPS INCI SALUD SAS    NaN         SI   \n",
       "\n",
       "       naju_codigo naju_nombre clase_persona Departamento  codigo_prestador  \n",
       "0                4     Pública      JURIDICO     Amazonas        9100100019  \n",
       "1                1     Privada      JURIDICO     Amazonas        9100100185  \n",
       "2                1     Privada      JURIDICO     Amazonas        9100100069  \n",
       "3                1     Privada      JURIDICO     Amazonas        9100100158  \n",
       "4                1     Privada      JURIDICO     Amazonas        9100100144  \n",
       "...            ...         ...           ...          ...               ...  \n",
       "10177            1     Privada      JURIDICO      Vichada        9952400091  \n",
       "10178            1     Privada      JURIDICO      Vichada        9900100127  \n",
       "10179            4     Pública      JURIDICO      Vichada        9900100006  \n",
       "10180            1     Privada      JURIDICO      Vichada        9900100117  \n",
       "10181            1     Privada      JURIDICO      Vichada        9962400122  \n",
       "\n",
       "[10182 rows x 11 columns]"
      ]
     },
     "execution_count": 56,
     "metadata": {},
     "output_type": "execute_result"
    }
   ],
   "source": [
    "pd.merge(df_ips, df_prestadores, how='inner', left_on='codigo_habilitacion', right_on='codigo_prestador')"
   ]
  },
  {
   "cell_type": "markdown",
   "metadata": {},
   "source": [
    "# 2016"
   ]
  },
  {
   "cell_type": "code",
   "execution_count": 48,
   "metadata": {},
   "outputs": [],
   "source": [
    "df_caracterizacion = pd.read_csv('../../Data/Datos_Caracterizacion_REPS.csv')"
   ]
  },
  {
   "cell_type": "code",
   "execution_count": 49,
   "metadata": {},
   "outputs": [
    {
     "data": {
      "text/html": [
       "<div>\n",
       "<style scoped>\n",
       "    .dataframe tbody tr th:only-of-type {\n",
       "        vertical-align: middle;\n",
       "    }\n",
       "\n",
       "    .dataframe tbody tr th {\n",
       "        vertical-align: top;\n",
       "    }\n",
       "\n",
       "    .dataframe thead th {\n",
       "        text-align: right;\n",
       "    }\n",
       "</style>\n",
       "<table border=\"1\" class=\"dataframe\">\n",
       "  <thead>\n",
       "    <tr style=\"text-align: right;\">\n",
       "      <th></th>\n",
       "      <th>Departamento</th>\n",
       "      <th>Privada</th>\n",
       "      <th>Pública</th>\n",
       "      <th>Mixta</th>\n",
       "      <th>Total general</th>\n",
       "    </tr>\n",
       "  </thead>\n",
       "  <tbody>\n",
       "    <tr>\n",
       "      <th>0</th>\n",
       "      <td>Amazonas</td>\n",
       "      <td>12</td>\n",
       "      <td>1</td>\n",
       "      <td>0</td>\n",
       "      <td>13</td>\n",
       "    </tr>\n",
       "    <tr>\n",
       "      <th>1</th>\n",
       "      <td>Antioquia</td>\n",
       "      <td>808</td>\n",
       "      <td>129</td>\n",
       "      <td>3</td>\n",
       "      <td>940</td>\n",
       "    </tr>\n",
       "    <tr>\n",
       "      <th>2</th>\n",
       "      <td>Arauca</td>\n",
       "      <td>57</td>\n",
       "      <td>5</td>\n",
       "      <td>1</td>\n",
       "      <td>63</td>\n",
       "    </tr>\n",
       "    <tr>\n",
       "      <th>3</th>\n",
       "      <td>Atlántico</td>\n",
       "      <td>748</td>\n",
       "      <td>28</td>\n",
       "      <td>2</td>\n",
       "      <td>778</td>\n",
       "    </tr>\n",
       "    <tr>\n",
       "      <th>4</th>\n",
       "      <td>Bogotá D.C</td>\n",
       "      <td>1639</td>\n",
       "      <td>9</td>\n",
       "      <td>2</td>\n",
       "      <td>1650</td>\n",
       "    </tr>\n",
       "  </tbody>\n",
       "</table>\n",
       "</div>"
      ],
      "text/plain": [
       "  Departamento  Privada  Pública  Mixta  Total general\n",
       "0     Amazonas       12        1      0             13\n",
       "1    Antioquia      808      129      3            940\n",
       "2       Arauca       57        5      1             63\n",
       "3    Atlántico      748       28      2            778\n",
       "4   Bogotá D.C     1639        9      2           1650"
      ]
     },
     "execution_count": 49,
     "metadata": {},
     "output_type": "execute_result"
    }
   ],
   "source": [
    "df_caracterizacion.head()"
   ]
  },
  {
   "cell_type": "code",
   "execution_count": 77,
   "metadata": {},
   "outputs": [
    {
     "data": {
      "text/html": [
       "<div>\n",
       "<style scoped>\n",
       "    .dataframe tbody tr th:only-of-type {\n",
       "        vertical-align: middle;\n",
       "    }\n",
       "\n",
       "    .dataframe tbody tr th {\n",
       "        vertical-align: top;\n",
       "    }\n",
       "\n",
       "    .dataframe thead th {\n",
       "        text-align: right;\n",
       "    }\n",
       "</style>\n",
       "<table border=\"1\" class=\"dataframe\">\n",
       "  <thead>\n",
       "    <tr style=\"text-align: right;\">\n",
       "      <th></th>\n",
       "      <th>Naturaleza_Juridica</th>\n",
       "      <th>Cantidad</th>\n",
       "    </tr>\n",
       "  </thead>\n",
       "  <tbody>\n",
       "    <tr>\n",
       "      <th>0</th>\n",
       "      <td>Mixta</td>\n",
       "      <td>19</td>\n",
       "    </tr>\n",
       "    <tr>\n",
       "      <th>1</th>\n",
       "      <td>Privada</td>\n",
       "      <td>9333</td>\n",
       "    </tr>\n",
       "    <tr>\n",
       "      <th>2</th>\n",
       "      <td>Pública</td>\n",
       "      <td>1015</td>\n",
       "    </tr>\n",
       "  </tbody>\n",
       "</table>\n",
       "</div>"
      ],
      "text/plain": [
       "  Naturaleza_Juridica  Cantidad\n",
       "0               Mixta        19\n",
       "1             Privada      9333\n",
       "2             Pública      1015"
      ]
     },
     "execution_count": 77,
     "metadata": {},
     "output_type": "execute_result"
    }
   ],
   "source": [
    "df_caracterizacion_naju = pd.DataFrame(\n",
    "    {\n",
    "        'Naturaleza_Juridica': ['Mixta', 'Privada', 'Pública'],\n",
    "        'Cantidad': [19, 9333, 1015]\n",
    "    }\n",
    ")\n",
    "df_caracterizacion_naju"
   ]
  },
  {
   "cell_type": "code",
   "execution_count": 50,
   "metadata": {},
   "outputs": [
    {
     "data": {
      "text/plain": [
       "10367"
      ]
     },
     "execution_count": 50,
     "metadata": {},
     "output_type": "execute_result"
    }
   ],
   "source": [
    "df_caracterizacion['Total general'].sum()"
   ]
  },
  {
   "cell_type": "code",
   "execution_count": 60,
   "metadata": {},
   "outputs": [
    {
     "data": {
      "text/plain": [
       "9333"
      ]
     },
     "execution_count": 60,
     "metadata": {},
     "output_type": "execute_result"
    }
   ],
   "source": [
    "df_caracterizacion['Privada'].sum()"
   ]
  },
  {
   "cell_type": "code",
   "execution_count": 61,
   "metadata": {},
   "outputs": [
    {
     "data": {
      "text/plain": [
       "1015"
      ]
     },
     "execution_count": 61,
     "metadata": {},
     "output_type": "execute_result"
    }
   ],
   "source": [
    "df_caracterizacion['Pública'].sum()"
   ]
  },
  {
   "cell_type": "code",
   "execution_count": 62,
   "metadata": {},
   "outputs": [
    {
     "data": {
      "text/plain": [
       "19"
      ]
     },
     "execution_count": 62,
     "metadata": {},
     "output_type": "execute_result"
    }
   ],
   "source": [
    "df_caracterizacion['Mixta'].sum()"
   ]
  },
  {
   "cell_type": "markdown",
   "metadata": {},
   "source": [
    "# 2013"
   ]
  },
  {
   "cell_type": "code",
   "execution_count": 47,
   "metadata": {},
   "outputs": [],
   "source": [
    "df_radiografia = pd.read_csv('../../Data/Datos_Radiografia_Servicios_Salud.csv')"
   ]
  },
  {
   "cell_type": "code",
   "execution_count": 51,
   "metadata": {},
   "outputs": [
    {
     "data": {
      "text/html": [
       "<div>\n",
       "<style scoped>\n",
       "    .dataframe tbody tr th:only-of-type {\n",
       "        vertical-align: middle;\n",
       "    }\n",
       "\n",
       "    .dataframe tbody tr th {\n",
       "        vertical-align: top;\n",
       "    }\n",
       "\n",
       "    .dataframe thead th {\n",
       "        text-align: right;\n",
       "    }\n",
       "</style>\n",
       "<table border=\"1\" class=\"dataframe\">\n",
       "  <thead>\n",
       "    <tr style=\"text-align: right;\">\n",
       "      <th></th>\n",
       "      <th>Departamento</th>\n",
       "      <th>Numero_IPS</th>\n",
       "    </tr>\n",
       "  </thead>\n",
       "  <tbody>\n",
       "    <tr>\n",
       "      <th>0</th>\n",
       "      <td>Bogotá D.C</td>\n",
       "      <td>3284</td>\n",
       "    </tr>\n",
       "    <tr>\n",
       "      <th>1</th>\n",
       "      <td>Valle del Cauca</td>\n",
       "      <td>2136</td>\n",
       "    </tr>\n",
       "    <tr>\n",
       "      <th>2</th>\n",
       "      <td>Antioquia</td>\n",
       "      <td>1945</td>\n",
       "    </tr>\n",
       "    <tr>\n",
       "      <th>3</th>\n",
       "      <td>Santander</td>\n",
       "      <td>1155</td>\n",
       "    </tr>\n",
       "    <tr>\n",
       "      <th>4</th>\n",
       "      <td>Atlántico</td>\n",
       "      <td>1028</td>\n",
       "    </tr>\n",
       "  </tbody>\n",
       "</table>\n",
       "</div>"
      ],
      "text/plain": [
       "      Departamento  Numero_IPS\n",
       "0       Bogotá D.C        3284\n",
       "1  Valle del Cauca        2136\n",
       "2        Antioquia        1945\n",
       "3        Santander        1155\n",
       "4        Atlántico        1028"
      ]
     },
     "execution_count": 51,
     "metadata": {},
     "output_type": "execute_result"
    }
   ],
   "source": [
    "df_radiografia.head()"
   ]
  },
  {
   "cell_type": "code",
   "execution_count": 53,
   "metadata": {},
   "outputs": [
    {
     "data": {
      "text/plain": [
       "18959"
      ]
     },
     "execution_count": 53,
     "metadata": {},
     "output_type": "execute_result"
    }
   ],
   "source": [
    "df_radiografia['Numero_IPS'].sum()"
   ]
  },
  {
   "cell_type": "code",
   "execution_count": 74,
   "metadata": {},
   "outputs": [],
   "source": [
    "df_radiografia_naju = pd.DataFrame(\n",
    "    {\n",
    "        'Naturaleza_Juridica': ['Mixta', 'Privada', 'Pública'],\n",
    "        'Cantidad': [75, 14996, 3888]        \n",
    "    }\n",
    ")"
   ]
  },
  {
   "cell_type": "code",
   "execution_count": 75,
   "metadata": {},
   "outputs": [
    {
     "data": {
      "text/html": [
       "<div>\n",
       "<style scoped>\n",
       "    .dataframe tbody tr th:only-of-type {\n",
       "        vertical-align: middle;\n",
       "    }\n",
       "\n",
       "    .dataframe tbody tr th {\n",
       "        vertical-align: top;\n",
       "    }\n",
       "\n",
       "    .dataframe thead th {\n",
       "        text-align: right;\n",
       "    }\n",
       "</style>\n",
       "<table border=\"1\" class=\"dataframe\">\n",
       "  <thead>\n",
       "    <tr style=\"text-align: right;\">\n",
       "      <th></th>\n",
       "      <th>Naturaleza_Juridica</th>\n",
       "      <th>Cantidad</th>\n",
       "    </tr>\n",
       "  </thead>\n",
       "  <tbody>\n",
       "    <tr>\n",
       "      <th>0</th>\n",
       "      <td>Mixta</td>\n",
       "      <td>75</td>\n",
       "    </tr>\n",
       "    <tr>\n",
       "      <th>1</th>\n",
       "      <td>Privada</td>\n",
       "      <td>14996</td>\n",
       "    </tr>\n",
       "    <tr>\n",
       "      <th>2</th>\n",
       "      <td>Pública</td>\n",
       "      <td>3888</td>\n",
       "    </tr>\n",
       "  </tbody>\n",
       "</table>\n",
       "</div>"
      ],
      "text/plain": [
       "  Naturaleza_Juridica  Cantidad\n",
       "0               Mixta        75\n",
       "1             Privada     14996\n",
       "2             Pública      3888"
      ]
     },
     "execution_count": 75,
     "metadata": {},
     "output_type": "execute_result"
    }
   ],
   "source": [
    "df_radiografia_naju"
   ]
  },
  {
   "cell_type": "markdown",
   "metadata": {},
   "source": [
    "# Resumen"
   ]
  },
  {
   "cell_type": "code",
   "execution_count": 78,
   "metadata": {},
   "outputs": [],
   "source": [
    "data = {\n",
    "    'Naturaleza Juridica': ['Mixta', 'Privada', 'Pública'],\n",
    "    '2013': [75, 14996, 3888],\n",
    "    '2016': [19, 9333, 1015],\n",
    "    'REPS Sedes': [60, 16045, 3621],\n",
    "    'REPS Prestadores': [18, 10055, 999]\n",
    "}\n",
    "\n",
    "df = pd.DataFrame(data)"
   ]
  },
  {
   "cell_type": "code",
   "execution_count": 80,
   "metadata": {},
   "outputs": [
    {
     "data": {
      "text/html": [
       "<div>\n",
       "<style scoped>\n",
       "    .dataframe tbody tr th:only-of-type {\n",
       "        vertical-align: middle;\n",
       "    }\n",
       "\n",
       "    .dataframe tbody tr th {\n",
       "        vertical-align: top;\n",
       "    }\n",
       "\n",
       "    .dataframe thead th {\n",
       "        text-align: right;\n",
       "    }\n",
       "</style>\n",
       "<table border=\"1\" class=\"dataframe\">\n",
       "  <thead>\n",
       "    <tr style=\"text-align: right;\">\n",
       "      <th></th>\n",
       "      <th>Naturaleza Juridica</th>\n",
       "      <th>2013</th>\n",
       "      <th>2016</th>\n",
       "      <th>REPS Sedes</th>\n",
       "      <th>REPS Prestadores</th>\n",
       "    </tr>\n",
       "  </thead>\n",
       "  <tbody>\n",
       "    <tr>\n",
       "      <th>0</th>\n",
       "      <td>Mixta</td>\n",
       "      <td>75</td>\n",
       "      <td>19</td>\n",
       "      <td>60</td>\n",
       "      <td>18</td>\n",
       "    </tr>\n",
       "    <tr>\n",
       "      <th>1</th>\n",
       "      <td>Privada</td>\n",
       "      <td>14996</td>\n",
       "      <td>9333</td>\n",
       "      <td>16045</td>\n",
       "      <td>10055</td>\n",
       "    </tr>\n",
       "    <tr>\n",
       "      <th>2</th>\n",
       "      <td>Pública</td>\n",
       "      <td>3888</td>\n",
       "      <td>1015</td>\n",
       "      <td>3621</td>\n",
       "      <td>999</td>\n",
       "    </tr>\n",
       "  </tbody>\n",
       "</table>\n",
       "</div>"
      ],
      "text/plain": [
       "  Naturaleza Juridica   2013  2016  REPS Sedes  REPS Prestadores\n",
       "0               Mixta     75    19          60                18\n",
       "1             Privada  14996  9333       16045             10055\n",
       "2             Pública   3888  1015        3621               999"
      ]
     },
     "execution_count": 80,
     "metadata": {},
     "output_type": "execute_result"
    }
   ],
   "source": [
    "df"
   ]
  },
  {
   "cell_type": "code",
   "execution_count": 82,
   "metadata": {},
   "outputs": [
    {
     "data": {
      "text/html": [
       "<div>\n",
       "<style scoped>\n",
       "    .dataframe tbody tr th:only-of-type {\n",
       "        vertical-align: middle;\n",
       "    }\n",
       "\n",
       "    .dataframe tbody tr th {\n",
       "        vertical-align: top;\n",
       "    }\n",
       "\n",
       "    .dataframe thead th {\n",
       "        text-align: right;\n",
       "    }\n",
       "</style>\n",
       "<table border=\"1\" class=\"dataframe\">\n",
       "  <thead>\n",
       "    <tr style=\"text-align: right;\">\n",
       "      <th></th>\n",
       "      <th>Naturaleza Juridica</th>\n",
       "      <th>Category</th>\n",
       "      <th>Value</th>\n",
       "    </tr>\n",
       "  </thead>\n",
       "  <tbody>\n",
       "    <tr>\n",
       "      <th>0</th>\n",
       "      <td>Mixta</td>\n",
       "      <td>2013</td>\n",
       "      <td>75</td>\n",
       "    </tr>\n",
       "    <tr>\n",
       "      <th>1</th>\n",
       "      <td>Privada</td>\n",
       "      <td>2013</td>\n",
       "      <td>14996</td>\n",
       "    </tr>\n",
       "    <tr>\n",
       "      <th>2</th>\n",
       "      <td>Pública</td>\n",
       "      <td>2013</td>\n",
       "      <td>3888</td>\n",
       "    </tr>\n",
       "    <tr>\n",
       "      <th>3</th>\n",
       "      <td>Mixta</td>\n",
       "      <td>2016</td>\n",
       "      <td>19</td>\n",
       "    </tr>\n",
       "    <tr>\n",
       "      <th>4</th>\n",
       "      <td>Privada</td>\n",
       "      <td>2016</td>\n",
       "      <td>9333</td>\n",
       "    </tr>\n",
       "    <tr>\n",
       "      <th>5</th>\n",
       "      <td>Pública</td>\n",
       "      <td>2016</td>\n",
       "      <td>1015</td>\n",
       "    </tr>\n",
       "    <tr>\n",
       "      <th>6</th>\n",
       "      <td>Mixta</td>\n",
       "      <td>REPS Sedes</td>\n",
       "      <td>60</td>\n",
       "    </tr>\n",
       "    <tr>\n",
       "      <th>7</th>\n",
       "      <td>Privada</td>\n",
       "      <td>REPS Sedes</td>\n",
       "      <td>16045</td>\n",
       "    </tr>\n",
       "    <tr>\n",
       "      <th>8</th>\n",
       "      <td>Pública</td>\n",
       "      <td>REPS Sedes</td>\n",
       "      <td>3621</td>\n",
       "    </tr>\n",
       "    <tr>\n",
       "      <th>9</th>\n",
       "      <td>Mixta</td>\n",
       "      <td>REPS Prestadores</td>\n",
       "      <td>18</td>\n",
       "    </tr>\n",
       "    <tr>\n",
       "      <th>10</th>\n",
       "      <td>Privada</td>\n",
       "      <td>REPS Prestadores</td>\n",
       "      <td>10055</td>\n",
       "    </tr>\n",
       "    <tr>\n",
       "      <th>11</th>\n",
       "      <td>Pública</td>\n",
       "      <td>REPS Prestadores</td>\n",
       "      <td>999</td>\n",
       "    </tr>\n",
       "  </tbody>\n",
       "</table>\n",
       "</div>"
      ],
      "text/plain": [
       "   Naturaleza Juridica          Category  Value\n",
       "0                Mixta              2013     75\n",
       "1              Privada              2013  14996\n",
       "2              Pública              2013   3888\n",
       "3                Mixta              2016     19\n",
       "4              Privada              2016   9333\n",
       "5              Pública              2016   1015\n",
       "6                Mixta        REPS Sedes     60\n",
       "7              Privada        REPS Sedes  16045\n",
       "8              Pública        REPS Sedes   3621\n",
       "9                Mixta  REPS Prestadores     18\n",
       "10             Privada  REPS Prestadores  10055\n",
       "11             Pública  REPS Prestadores    999"
      ]
     },
     "execution_count": 82,
     "metadata": {},
     "output_type": "execute_result"
    }
   ],
   "source": [
    "df_melted = df.melt(id_vars=['Naturaleza Juridica'], var_name='Category', value_name='Value')\n",
    "df_melted"
   ]
  },
  {
   "cell_type": "code",
   "execution_count": 99,
   "metadata": {},
   "outputs": [
    {
     "data": {
      "application/vnd.plotly.v1+json": {
       "config": {
        "plotlyServerURL": "https://plot.ly"
       },
       "data": [
        {
         "alignmentgroup": "True",
         "hovertemplate": "Naturaleza Juridica=Mixta<br>Category=%{x}<br>Value=%{y}<extra></extra>",
         "legendgroup": "Mixta",
         "marker": {
          "color": "#826251",
          "pattern": {
           "shape": ""
          }
         },
         "name": "Mixta",
         "offsetgroup": "Mixta",
         "orientation": "v",
         "showlegend": true,
         "textposition": "auto",
         "type": "bar",
         "x": [
          "2013",
          "2016",
          "REPS Sedes",
          "REPS Prestadores"
         ],
         "xaxis": "x",
         "y": [
          75,
          19,
          60,
          18
         ],
         "yaxis": "y"
        },
        {
         "alignmentgroup": "True",
         "hovertemplate": "Naturaleza Juridica=Privada<br>Category=%{x}<br>Value=%{y}<extra></extra>",
         "legendgroup": "Privada",
         "marker": {
          "color": "#3364C7",
          "pattern": {
           "shape": ""
          }
         },
         "name": "Privada",
         "offsetgroup": "Privada",
         "orientation": "v",
         "showlegend": true,
         "textposition": "auto",
         "type": "bar",
         "x": [
          "2013",
          "2016",
          "REPS Sedes",
          "REPS Prestadores"
         ],
         "xaxis": "x",
         "y": [
          14996,
          9333,
          16045,
          10055
         ],
         "yaxis": "y"
        },
        {
         "alignmentgroup": "True",
         "hovertemplate": "Naturaleza Juridica=Pública<br>Category=%{x}<br>Value=%{y}<extra></extra>",
         "legendgroup": "Pública",
         "marker": {
          "color": "#8CBCB9",
          "pattern": {
           "shape": ""
          }
         },
         "name": "Pública",
         "offsetgroup": "Pública",
         "orientation": "v",
         "showlegend": true,
         "textposition": "auto",
         "type": "bar",
         "x": [
          "2013",
          "2016",
          "REPS Sedes",
          "REPS Prestadores"
         ],
         "xaxis": "x",
         "y": [
          3888,
          1015,
          3621,
          999
         ],
         "yaxis": "y"
        }
       ],
       "layout": {
        "barmode": "stack",
        "height": 500,
        "legend": {
         "title": {
          "text": "Naturaleza Juridica"
         },
         "tracegroupgap": 0
        },
        "template": {
         "data": {
          "bar": [
           {
            "error_x": {
             "color": "#2a3f5f"
            },
            "error_y": {
             "color": "#2a3f5f"
            },
            "marker": {
             "line": {
              "color": "#E5ECF6",
              "width": 0.5
             },
             "pattern": {
              "fillmode": "overlay",
              "size": 10,
              "solidity": 0.2
             }
            },
            "type": "bar"
           }
          ],
          "barpolar": [
           {
            "marker": {
             "line": {
              "color": "#E5ECF6",
              "width": 0.5
             },
             "pattern": {
              "fillmode": "overlay",
              "size": 10,
              "solidity": 0.2
             }
            },
            "type": "barpolar"
           }
          ],
          "carpet": [
           {
            "aaxis": {
             "endlinecolor": "#2a3f5f",
             "gridcolor": "white",
             "linecolor": "white",
             "minorgridcolor": "white",
             "startlinecolor": "#2a3f5f"
            },
            "baxis": {
             "endlinecolor": "#2a3f5f",
             "gridcolor": "white",
             "linecolor": "white",
             "minorgridcolor": "white",
             "startlinecolor": "#2a3f5f"
            },
            "type": "carpet"
           }
          ],
          "choropleth": [
           {
            "colorbar": {
             "outlinewidth": 0,
             "ticks": ""
            },
            "type": "choropleth"
           }
          ],
          "contour": [
           {
            "colorbar": {
             "outlinewidth": 0,
             "ticks": ""
            },
            "colorscale": [
             [
              0,
              "#0d0887"
             ],
             [
              0.1111111111111111,
              "#46039f"
             ],
             [
              0.2222222222222222,
              "#7201a8"
             ],
             [
              0.3333333333333333,
              "#9c179e"
             ],
             [
              0.4444444444444444,
              "#bd3786"
             ],
             [
              0.5555555555555556,
              "#d8576b"
             ],
             [
              0.6666666666666666,
              "#ed7953"
             ],
             [
              0.7777777777777778,
              "#fb9f3a"
             ],
             [
              0.8888888888888888,
              "#fdca26"
             ],
             [
              1,
              "#f0f921"
             ]
            ],
            "type": "contour"
           }
          ],
          "contourcarpet": [
           {
            "colorbar": {
             "outlinewidth": 0,
             "ticks": ""
            },
            "type": "contourcarpet"
           }
          ],
          "heatmap": [
           {
            "colorbar": {
             "outlinewidth": 0,
             "ticks": ""
            },
            "colorscale": [
             [
              0,
              "#0d0887"
             ],
             [
              0.1111111111111111,
              "#46039f"
             ],
             [
              0.2222222222222222,
              "#7201a8"
             ],
             [
              0.3333333333333333,
              "#9c179e"
             ],
             [
              0.4444444444444444,
              "#bd3786"
             ],
             [
              0.5555555555555556,
              "#d8576b"
             ],
             [
              0.6666666666666666,
              "#ed7953"
             ],
             [
              0.7777777777777778,
              "#fb9f3a"
             ],
             [
              0.8888888888888888,
              "#fdca26"
             ],
             [
              1,
              "#f0f921"
             ]
            ],
            "type": "heatmap"
           }
          ],
          "heatmapgl": [
           {
            "colorbar": {
             "outlinewidth": 0,
             "ticks": ""
            },
            "colorscale": [
             [
              0,
              "#0d0887"
             ],
             [
              0.1111111111111111,
              "#46039f"
             ],
             [
              0.2222222222222222,
              "#7201a8"
             ],
             [
              0.3333333333333333,
              "#9c179e"
             ],
             [
              0.4444444444444444,
              "#bd3786"
             ],
             [
              0.5555555555555556,
              "#d8576b"
             ],
             [
              0.6666666666666666,
              "#ed7953"
             ],
             [
              0.7777777777777778,
              "#fb9f3a"
             ],
             [
              0.8888888888888888,
              "#fdca26"
             ],
             [
              1,
              "#f0f921"
             ]
            ],
            "type": "heatmapgl"
           }
          ],
          "histogram": [
           {
            "marker": {
             "pattern": {
              "fillmode": "overlay",
              "size": 10,
              "solidity": 0.2
             }
            },
            "type": "histogram"
           }
          ],
          "histogram2d": [
           {
            "colorbar": {
             "outlinewidth": 0,
             "ticks": ""
            },
            "colorscale": [
             [
              0,
              "#0d0887"
             ],
             [
              0.1111111111111111,
              "#46039f"
             ],
             [
              0.2222222222222222,
              "#7201a8"
             ],
             [
              0.3333333333333333,
              "#9c179e"
             ],
             [
              0.4444444444444444,
              "#bd3786"
             ],
             [
              0.5555555555555556,
              "#d8576b"
             ],
             [
              0.6666666666666666,
              "#ed7953"
             ],
             [
              0.7777777777777778,
              "#fb9f3a"
             ],
             [
              0.8888888888888888,
              "#fdca26"
             ],
             [
              1,
              "#f0f921"
             ]
            ],
            "type": "histogram2d"
           }
          ],
          "histogram2dcontour": [
           {
            "colorbar": {
             "outlinewidth": 0,
             "ticks": ""
            },
            "colorscale": [
             [
              0,
              "#0d0887"
             ],
             [
              0.1111111111111111,
              "#46039f"
             ],
             [
              0.2222222222222222,
              "#7201a8"
             ],
             [
              0.3333333333333333,
              "#9c179e"
             ],
             [
              0.4444444444444444,
              "#bd3786"
             ],
             [
              0.5555555555555556,
              "#d8576b"
             ],
             [
              0.6666666666666666,
              "#ed7953"
             ],
             [
              0.7777777777777778,
              "#fb9f3a"
             ],
             [
              0.8888888888888888,
              "#fdca26"
             ],
             [
              1,
              "#f0f921"
             ]
            ],
            "type": "histogram2dcontour"
           }
          ],
          "mesh3d": [
           {
            "colorbar": {
             "outlinewidth": 0,
             "ticks": ""
            },
            "type": "mesh3d"
           }
          ],
          "parcoords": [
           {
            "line": {
             "colorbar": {
              "outlinewidth": 0,
              "ticks": ""
             }
            },
            "type": "parcoords"
           }
          ],
          "pie": [
           {
            "automargin": true,
            "type": "pie"
           }
          ],
          "scatter": [
           {
            "fillpattern": {
             "fillmode": "overlay",
             "size": 10,
             "solidity": 0.2
            },
            "type": "scatter"
           }
          ],
          "scatter3d": [
           {
            "line": {
             "colorbar": {
              "outlinewidth": 0,
              "ticks": ""
             }
            },
            "marker": {
             "colorbar": {
              "outlinewidth": 0,
              "ticks": ""
             }
            },
            "type": "scatter3d"
           }
          ],
          "scattercarpet": [
           {
            "marker": {
             "colorbar": {
              "outlinewidth": 0,
              "ticks": ""
             }
            },
            "type": "scattercarpet"
           }
          ],
          "scattergeo": [
           {
            "marker": {
             "colorbar": {
              "outlinewidth": 0,
              "ticks": ""
             }
            },
            "type": "scattergeo"
           }
          ],
          "scattergl": [
           {
            "marker": {
             "colorbar": {
              "outlinewidth": 0,
              "ticks": ""
             }
            },
            "type": "scattergl"
           }
          ],
          "scattermapbox": [
           {
            "marker": {
             "colorbar": {
              "outlinewidth": 0,
              "ticks": ""
             }
            },
            "type": "scattermapbox"
           }
          ],
          "scatterpolar": [
           {
            "marker": {
             "colorbar": {
              "outlinewidth": 0,
              "ticks": ""
             }
            },
            "type": "scatterpolar"
           }
          ],
          "scatterpolargl": [
           {
            "marker": {
             "colorbar": {
              "outlinewidth": 0,
              "ticks": ""
             }
            },
            "type": "scatterpolargl"
           }
          ],
          "scatterternary": [
           {
            "marker": {
             "colorbar": {
              "outlinewidth": 0,
              "ticks": ""
             }
            },
            "type": "scatterternary"
           }
          ],
          "surface": [
           {
            "colorbar": {
             "outlinewidth": 0,
             "ticks": ""
            },
            "colorscale": [
             [
              0,
              "#0d0887"
             ],
             [
              0.1111111111111111,
              "#46039f"
             ],
             [
              0.2222222222222222,
              "#7201a8"
             ],
             [
              0.3333333333333333,
              "#9c179e"
             ],
             [
              0.4444444444444444,
              "#bd3786"
             ],
             [
              0.5555555555555556,
              "#d8576b"
             ],
             [
              0.6666666666666666,
              "#ed7953"
             ],
             [
              0.7777777777777778,
              "#fb9f3a"
             ],
             [
              0.8888888888888888,
              "#fdca26"
             ],
             [
              1,
              "#f0f921"
             ]
            ],
            "type": "surface"
           }
          ],
          "table": [
           {
            "cells": {
             "fill": {
              "color": "#EBF0F8"
             },
             "line": {
              "color": "white"
             }
            },
            "header": {
             "fill": {
              "color": "#C8D4E3"
             },
             "line": {
              "color": "white"
             }
            },
            "type": "table"
           }
          ]
         },
         "layout": {
          "annotationdefaults": {
           "arrowcolor": "#2a3f5f",
           "arrowhead": 0,
           "arrowwidth": 1
          },
          "autotypenumbers": "strict",
          "coloraxis": {
           "colorbar": {
            "outlinewidth": 0,
            "ticks": ""
           }
          },
          "colorscale": {
           "diverging": [
            [
             0,
             "#8e0152"
            ],
            [
             0.1,
             "#c51b7d"
            ],
            [
             0.2,
             "#de77ae"
            ],
            [
             0.3,
             "#f1b6da"
            ],
            [
             0.4,
             "#fde0ef"
            ],
            [
             0.5,
             "#f7f7f7"
            ],
            [
             0.6,
             "#e6f5d0"
            ],
            [
             0.7,
             "#b8e186"
            ],
            [
             0.8,
             "#7fbc41"
            ],
            [
             0.9,
             "#4d9221"
            ],
            [
             1,
             "#276419"
            ]
           ],
           "sequential": [
            [
             0,
             "#0d0887"
            ],
            [
             0.1111111111111111,
             "#46039f"
            ],
            [
             0.2222222222222222,
             "#7201a8"
            ],
            [
             0.3333333333333333,
             "#9c179e"
            ],
            [
             0.4444444444444444,
             "#bd3786"
            ],
            [
             0.5555555555555556,
             "#d8576b"
            ],
            [
             0.6666666666666666,
             "#ed7953"
            ],
            [
             0.7777777777777778,
             "#fb9f3a"
            ],
            [
             0.8888888888888888,
             "#fdca26"
            ],
            [
             1,
             "#f0f921"
            ]
           ],
           "sequentialminus": [
            [
             0,
             "#0d0887"
            ],
            [
             0.1111111111111111,
             "#46039f"
            ],
            [
             0.2222222222222222,
             "#7201a8"
            ],
            [
             0.3333333333333333,
             "#9c179e"
            ],
            [
             0.4444444444444444,
             "#bd3786"
            ],
            [
             0.5555555555555556,
             "#d8576b"
            ],
            [
             0.6666666666666666,
             "#ed7953"
            ],
            [
             0.7777777777777778,
             "#fb9f3a"
            ],
            [
             0.8888888888888888,
             "#fdca26"
            ],
            [
             1,
             "#f0f921"
            ]
           ]
          },
          "colorway": [
           "#636efa",
           "#EF553B",
           "#00cc96",
           "#ab63fa",
           "#FFA15A",
           "#19d3f3",
           "#FF6692",
           "#B6E880",
           "#FF97FF",
           "#FECB52"
          ],
          "font": {
           "color": "#2a3f5f"
          },
          "geo": {
           "bgcolor": "white",
           "lakecolor": "white",
           "landcolor": "#E5ECF6",
           "showlakes": true,
           "showland": true,
           "subunitcolor": "white"
          },
          "hoverlabel": {
           "align": "left"
          },
          "hovermode": "closest",
          "mapbox": {
           "style": "light"
          },
          "paper_bgcolor": "white",
          "plot_bgcolor": "#E5ECF6",
          "polar": {
           "angularaxis": {
            "gridcolor": "white",
            "linecolor": "white",
            "ticks": ""
           },
           "bgcolor": "#E5ECF6",
           "radialaxis": {
            "gridcolor": "white",
            "linecolor": "white",
            "ticks": ""
           }
          },
          "scene": {
           "xaxis": {
            "backgroundcolor": "#E5ECF6",
            "gridcolor": "white",
            "gridwidth": 2,
            "linecolor": "white",
            "showbackground": true,
            "ticks": "",
            "zerolinecolor": "white"
           },
           "yaxis": {
            "backgroundcolor": "#E5ECF6",
            "gridcolor": "white",
            "gridwidth": 2,
            "linecolor": "white",
            "showbackground": true,
            "ticks": "",
            "zerolinecolor": "white"
           },
           "zaxis": {
            "backgroundcolor": "#E5ECF6",
            "gridcolor": "white",
            "gridwidth": 2,
            "linecolor": "white",
            "showbackground": true,
            "ticks": "",
            "zerolinecolor": "white"
           }
          },
          "shapedefaults": {
           "line": {
            "color": "#2a3f5f"
           }
          },
          "ternary": {
           "aaxis": {
            "gridcolor": "white",
            "linecolor": "white",
            "ticks": ""
           },
           "baxis": {
            "gridcolor": "white",
            "linecolor": "white",
            "ticks": ""
           },
           "bgcolor": "#E5ECF6",
           "caxis": {
            "gridcolor": "white",
            "linecolor": "white",
            "ticks": ""
           }
          },
          "title": {
           "x": 0.05
          },
          "xaxis": {
           "automargin": true,
           "gridcolor": "white",
           "linecolor": "white",
           "ticks": "",
           "title": {
            "standoff": 15
           },
           "zerolinecolor": "white",
           "zerolinewidth": 2
          },
          "yaxis": {
           "automargin": true,
           "gridcolor": "white",
           "linecolor": "white",
           "ticks": "",
           "title": {
            "standoff": 15
           },
           "zerolinecolor": "white",
           "zerolinewidth": 2
          }
         }
        },
        "title": {
         "text": "Número de IPS por Investigación"
        },
        "width": 700,
        "xaxis": {
         "anchor": "y",
         "domain": [
          0,
          1
         ],
         "title": {
          "text": "Método"
         }
        },
        "yaxis": {
         "anchor": "x",
         "domain": [
          0,
          1
         ],
         "range": [
          0,
          20000
         ],
         "title": {
          "text": "Número IPS"
         }
        }
       }
      }
     },
     "metadata": {},
     "output_type": "display_data"
    }
   ],
   "source": [
    "color_palette = {\n",
    "    'Privada': '#3364C7',\n",
    "    'Pública': '#8CBCB9',\n",
    "    'Mixta': '#826251'\n",
    "}\n",
    "\n",
    "fig = px.bar(df_melted, \n",
    "             x='Category',\n",
    "             y='Value',\n",
    "             color='Naturaleza Juridica',\n",
    "             barmode='stack',\n",
    "             width=700,\n",
    "             height=500,\n",
    "             color_discrete_map=color_palette,\n",
    "             title='Número de IPS por Investigación',\n",
    "             )\n",
    "\n",
    "fig.update_yaxes(range=[0,20000])\n",
    "fig.update_xaxes(title_text='Método')\n",
    "fig.update_yaxes(title_text='Número IPS')\n",
    "\n",
    "# Show the plot\n",
    "fig.show()"
   ]
  }
 ],
 "metadata": {
  "kernelspec": {
   "display_name": "env",
   "language": "python",
   "name": "python3"
  },
  "language_info": {
   "codemirror_mode": {
    "name": "ipython",
    "version": 3
   },
   "file_extension": ".py",
   "mimetype": "text/x-python",
   "name": "python",
   "nbconvert_exporter": "python",
   "pygments_lexer": "ipython3",
   "version": "3.10.6"
  }
 },
 "nbformat": 4,
 "nbformat_minor": 2
}
