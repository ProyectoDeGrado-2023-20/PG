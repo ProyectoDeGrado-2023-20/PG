{
 "cells": [
  {
   "cell_type": "code",
   "execution_count": 1,
   "metadata": {},
   "outputs": [],
   "source": [
    "import pandas as pd\n",
    "import numpy as np\n",
    "import plotly.express as px"
   ]
  },
  {
   "cell_type": "markdown",
   "metadata": {},
   "source": [
    "# Datos Códigos Departamentos"
   ]
  },
  {
   "cell_type": "code",
   "execution_count": 156,
   "metadata": {},
   "outputs": [],
   "source": [
    "df_departamentos_codigos = pd.read_csv('../../Data/Departamentos_Codigos.csv')"
   ]
  },
  {
   "cell_type": "code",
   "execution_count": 157,
   "metadata": {},
   "outputs": [
    {
     "name": "stdout",
     "output_type": "stream",
     "text": [
      "<class 'pandas.core.frame.DataFrame'>\n",
      "RangeIndex: 33 entries, 0 to 32\n",
      "Data columns (total 10 columns):\n",
      " #   Column                               Non-Null Count  Dtype \n",
      "---  ------                               --------------  ----- \n",
      " 0   Codigo                               33 non-null     int64 \n",
      " 1   Departamento_DANE                    33 non-null     object\n",
      " 2   Departamento_DIVIPOLA                33 non-null     object\n",
      " 3   Departamento_REPS                    33 non-null     object\n",
      " 4   Departamento_IPS_Complejidad         33 non-null     object\n",
      " 5   Departamento_IPS_Atencion_Capacidad  33 non-null     object\n",
      " 6   Departamento_Capacidad_Instalada     33 non-null     object\n",
      " 7   Departamento_Radiografia             33 non-null     object\n",
      " 8   Departamento_Caracterizacion         33 non-null     object\n",
      " 9   Departamento                         33 non-null     object\n",
      "dtypes: int64(1), object(9)\n",
      "memory usage: 2.7+ KB\n"
     ]
    }
   ],
   "source": [
    "df_departamentos_codigos.info()"
   ]
  },
  {
   "cell_type": "code",
   "execution_count": 158,
   "metadata": {},
   "outputs": [
    {
     "data": {
      "text/html": [
       "<div>\n",
       "<style scoped>\n",
       "    .dataframe tbody tr th:only-of-type {\n",
       "        vertical-align: middle;\n",
       "    }\n",
       "\n",
       "    .dataframe tbody tr th {\n",
       "        vertical-align: top;\n",
       "    }\n",
       "\n",
       "    .dataframe thead th {\n",
       "        text-align: right;\n",
       "    }\n",
       "</style>\n",
       "<table border=\"1\" class=\"dataframe\">\n",
       "  <thead>\n",
       "    <tr style=\"text-align: right;\">\n",
       "      <th></th>\n",
       "      <th>Codigo</th>\n",
       "      <th>Departamento_DANE</th>\n",
       "      <th>Departamento_DIVIPOLA</th>\n",
       "      <th>Departamento_REPS</th>\n",
       "      <th>Departamento_IPS_Complejidad</th>\n",
       "      <th>Departamento_IPS_Atencion_Capacidad</th>\n",
       "      <th>Departamento_Capacidad_Instalada</th>\n",
       "      <th>Departamento_Radiografia</th>\n",
       "      <th>Departamento_Caracterizacion</th>\n",
       "      <th>Departamento</th>\n",
       "    </tr>\n",
       "  </thead>\n",
       "  <tbody>\n",
       "    <tr>\n",
       "      <th>0</th>\n",
       "      <td>5</td>\n",
       "      <td>Antioquia</td>\n",
       "      <td>ANTIOQUIA</td>\n",
       "      <td>Antioquia</td>\n",
       "      <td>Antioquia</td>\n",
       "      <td>Antioquia</td>\n",
       "      <td>Antioquia</td>\n",
       "      <td>Antioquia</td>\n",
       "      <td>Antioquia</td>\n",
       "      <td>Antioquia</td>\n",
       "    </tr>\n",
       "    <tr>\n",
       "      <th>1</th>\n",
       "      <td>8</td>\n",
       "      <td>Atlántico</td>\n",
       "      <td>ATLÁNTICO</td>\n",
       "      <td>AtlÃ¡ntico</td>\n",
       "      <td>AtlÃ¡ntico</td>\n",
       "      <td>AtlÃ¡ntico</td>\n",
       "      <td>AtlÃ¡ntico</td>\n",
       "      <td>Atlántico</td>\n",
       "      <td>Atlántico</td>\n",
       "      <td>Atlántico</td>\n",
       "    </tr>\n",
       "    <tr>\n",
       "      <th>2</th>\n",
       "      <td>11</td>\n",
       "      <td>Bogotá, D.C.</td>\n",
       "      <td>BOGOTÁ, D.C.</td>\n",
       "      <td>BogotÃ¡ D.C</td>\n",
       "      <td>BogotÃ¡ D.C</td>\n",
       "      <td>BogotÃ¡ D.C</td>\n",
       "      <td>BogotÃ¡, D.C.</td>\n",
       "      <td>Bogotá D.C</td>\n",
       "      <td>Bogotá D.C</td>\n",
       "      <td>Bogotá D.C</td>\n",
       "    </tr>\n",
       "    <tr>\n",
       "      <th>3</th>\n",
       "      <td>13</td>\n",
       "      <td>Bolívar</td>\n",
       "      <td>BOLÍVAR</td>\n",
       "      <td>BolÃ­var</td>\n",
       "      <td>BolÃ­var</td>\n",
       "      <td>BolÃ­var</td>\n",
       "      <td>BolÃ­var</td>\n",
       "      <td>Bolívar</td>\n",
       "      <td>Bolívar</td>\n",
       "      <td>Bolívar</td>\n",
       "    </tr>\n",
       "    <tr>\n",
       "      <th>4</th>\n",
       "      <td>15</td>\n",
       "      <td>Boyacá</td>\n",
       "      <td>BOYACÁ</td>\n",
       "      <td>BoyacÃ¡</td>\n",
       "      <td>BoyacÃ¡</td>\n",
       "      <td>BoyacÃ¡</td>\n",
       "      <td>BoyacÃ¡</td>\n",
       "      <td>Boyacá</td>\n",
       "      <td>Boyacá</td>\n",
       "      <td>Boyacá</td>\n",
       "    </tr>\n",
       "  </tbody>\n",
       "</table>\n",
       "</div>"
      ],
      "text/plain": [
       "   Codigo Departamento_DANE Departamento_DIVIPOLA Departamento_REPS  \\\n",
       "0       5         Antioquia             ANTIOQUIA         Antioquia   \n",
       "1       8         Atlántico             ATLÁNTICO        AtlÃ¡ntico   \n",
       "2      11      Bogotá, D.C.          BOGOTÁ, D.C.       BogotÃ¡ D.C   \n",
       "3      13           Bolívar               BOLÍVAR          BolÃ­var   \n",
       "4      15            Boyacá                BOYACÁ           BoyacÃ¡   \n",
       "\n",
       "  Departamento_IPS_Complejidad Departamento_IPS_Atencion_Capacidad  \\\n",
       "0                    Antioquia                           Antioquia   \n",
       "1                   AtlÃ¡ntico                          AtlÃ¡ntico   \n",
       "2                  BogotÃ¡ D.C                         BogotÃ¡ D.C   \n",
       "3                     BolÃ­var                            BolÃ­var   \n",
       "4                      BoyacÃ¡                             BoyacÃ¡   \n",
       "\n",
       "  Departamento_Capacidad_Instalada Departamento_Radiografia  \\\n",
       "0                        Antioquia                Antioquia   \n",
       "1                       AtlÃ¡ntico                Atlántico   \n",
       "2                    BogotÃ¡, D.C.               Bogotá D.C   \n",
       "3                         BolÃ­var                  Bolívar   \n",
       "4                          BoyacÃ¡                   Boyacá   \n",
       "\n",
       "  Departamento_Caracterizacion Departamento  \n",
       "0                    Antioquia    Antioquia  \n",
       "1                    Atlántico    Atlántico  \n",
       "2                   Bogotá D.C   Bogotá D.C  \n",
       "3                      Bolívar      Bolívar  \n",
       "4                       Boyacá       Boyacá  "
      ]
     },
     "execution_count": 158,
     "metadata": {},
     "output_type": "execute_result"
    }
   ],
   "source": [
    "df_departamentos_codigos.head()"
   ]
  },
  {
   "cell_type": "markdown",
   "metadata": {},
   "source": [
    "# Datos Códigos Municipios"
   ]
  },
  {
   "cell_type": "code",
   "execution_count": 17,
   "metadata": {},
   "outputs": [],
   "source": [
    "df_municipios_codigos = pd.read_csv('../../Data/Departamentos_Municipios_Codigos.csv')"
   ]
  },
  {
   "cell_type": "code",
   "execution_count": 18,
   "metadata": {},
   "outputs": [
    {
     "name": "stdout",
     "output_type": "stream",
     "text": [
      "<class 'pandas.core.frame.DataFrame'>\n",
      "RangeIndex: 1121 entries, 0 to 1120\n",
      "Data columns (total 9 columns):\n",
      " #   Column                            Non-Null Count  Dtype \n",
      "---  ------                            --------------  ----- \n",
      " 0   Codigo_Departamento               1121 non-null   int64 \n",
      " 1   Departamento                      1121 non-null   object\n",
      " 2   Codigo_Municipio                  1121 non-null   int64 \n",
      " 3   Municipio                         1121 non-null   object\n",
      " 4   Municipio_DIVIPOLA                1121 non-null   object\n",
      " 5   Municipio_Poblacion               1121 non-null   object\n",
      " 6   Municipio_REPS                    1121 non-null   object\n",
      " 7   Municipio_IPS_Complejidad         1121 non-null   object\n",
      " 8   Municipio_IPS_Atencion_Capacidad  1121 non-null   object\n",
      "dtypes: int64(2), object(7)\n",
      "memory usage: 78.9+ KB\n"
     ]
    }
   ],
   "source": [
    "df_municipios_codigos.info()"
   ]
  },
  {
   "cell_type": "code",
   "execution_count": 19,
   "metadata": {},
   "outputs": [
    {
     "data": {
      "text/html": [
       "<div>\n",
       "<style scoped>\n",
       "    .dataframe tbody tr th:only-of-type {\n",
       "        vertical-align: middle;\n",
       "    }\n",
       "\n",
       "    .dataframe tbody tr th {\n",
       "        vertical-align: top;\n",
       "    }\n",
       "\n",
       "    .dataframe thead th {\n",
       "        text-align: right;\n",
       "    }\n",
       "</style>\n",
       "<table border=\"1\" class=\"dataframe\">\n",
       "  <thead>\n",
       "    <tr style=\"text-align: right;\">\n",
       "      <th></th>\n",
       "      <th>Codigo_Departamento</th>\n",
       "      <th>Departamento</th>\n",
       "      <th>Codigo_Municipio</th>\n",
       "      <th>Municipio</th>\n",
       "      <th>Municipio_DIVIPOLA</th>\n",
       "      <th>Municipio_Poblacion</th>\n",
       "      <th>Municipio_REPS</th>\n",
       "      <th>Municipio_IPS_Complejidad</th>\n",
       "      <th>Municipio_IPS_Atencion_Capacidad</th>\n",
       "    </tr>\n",
       "  </thead>\n",
       "  <tbody>\n",
       "    <tr>\n",
       "      <th>0</th>\n",
       "      <td>5</td>\n",
       "      <td>ANTIOQUIA</td>\n",
       "      <td>5001</td>\n",
       "      <td>Medellín</td>\n",
       "      <td>MEDELLÍN</td>\n",
       "      <td>Medellín</td>\n",
       "      <td>MEDELLÃN</td>\n",
       "      <td>MEDELLÃN</td>\n",
       "      <td>MEDELLÃN</td>\n",
       "    </tr>\n",
       "    <tr>\n",
       "      <th>1</th>\n",
       "      <td>5</td>\n",
       "      <td>ANTIOQUIA</td>\n",
       "      <td>5002</td>\n",
       "      <td>Abejorral</td>\n",
       "      <td>ABEJORRAL</td>\n",
       "      <td>Abejorral</td>\n",
       "      <td>ABEJORRAL</td>\n",
       "      <td>ABEJORRAL</td>\n",
       "      <td>ABEJORRAL</td>\n",
       "    </tr>\n",
       "    <tr>\n",
       "      <th>2</th>\n",
       "      <td>5</td>\n",
       "      <td>ANTIOQUIA</td>\n",
       "      <td>5004</td>\n",
       "      <td>Abriaquí</td>\n",
       "      <td>ABRIAQUÍ</td>\n",
       "      <td>Abriaquí</td>\n",
       "      <td>ABRIAQUÃ</td>\n",
       "      <td>ABRIAQUÃ</td>\n",
       "      <td>ABRIAQUÃ</td>\n",
       "    </tr>\n",
       "    <tr>\n",
       "      <th>3</th>\n",
       "      <td>5</td>\n",
       "      <td>ANTIOQUIA</td>\n",
       "      <td>5021</td>\n",
       "      <td>Alejandría</td>\n",
       "      <td>ALEJANDRÍA</td>\n",
       "      <td>Alejandría</td>\n",
       "      <td>ALEJANDRÃA</td>\n",
       "      <td>ALEJANDRÃA</td>\n",
       "      <td>ALEJANDRÃA</td>\n",
       "    </tr>\n",
       "    <tr>\n",
       "      <th>4</th>\n",
       "      <td>5</td>\n",
       "      <td>ANTIOQUIA</td>\n",
       "      <td>5030</td>\n",
       "      <td>Amagá</td>\n",
       "      <td>AMAGÁ</td>\n",
       "      <td>Amagá</td>\n",
       "      <td>AMAGÃ</td>\n",
       "      <td>AMAGÃ</td>\n",
       "      <td>AMAGÃ</td>\n",
       "    </tr>\n",
       "  </tbody>\n",
       "</table>\n",
       "</div>"
      ],
      "text/plain": [
       "   Codigo_Departamento Departamento  Codigo_Municipio   Municipio  \\\n",
       "0                    5    ANTIOQUIA              5001    Medellín   \n",
       "1                    5    ANTIOQUIA              5002   Abejorral   \n",
       "2                    5    ANTIOQUIA              5004    Abriaquí   \n",
       "3                    5    ANTIOQUIA              5021  Alejandría   \n",
       "4                    5    ANTIOQUIA              5030       Amagá   \n",
       "\n",
       "  Municipio_DIVIPOLA Municipio_Poblacion Municipio_REPS  \\\n",
       "0           MEDELLÍN            Medellín      MEDELLÃN   \n",
       "1          ABEJORRAL           Abejorral      ABEJORRAL   \n",
       "2           ABRIAQUÍ            Abriaquí      ABRIAQUÃ   \n",
       "3         ALEJANDRÍA          Alejandría    ALEJANDRÃA   \n",
       "4              AMAGÁ               Amagá         AMAGÃ   \n",
       "\n",
       "  Municipio_IPS_Complejidad Municipio_IPS_Atencion_Capacidad  \n",
       "0                 MEDELLÃN                        MEDELLÃN  \n",
       "1                 ABEJORRAL                        ABEJORRAL  \n",
       "2                 ABRIAQUÃ                        ABRIAQUÃ  \n",
       "3               ALEJANDRÃA                      ALEJANDRÃA  \n",
       "4                    AMAGÃ                           AMAGÃ  "
      ]
     },
     "execution_count": 19,
     "metadata": {},
     "output_type": "execute_result"
    }
   ],
   "source": [
    "df_municipios_codigos.head()"
   ]
  },
  {
   "cell_type": "markdown",
   "metadata": {},
   "source": [
    "# Datos REPS"
   ]
  },
  {
   "cell_type": "code",
   "execution_count": 179,
   "metadata": {},
   "outputs": [
    {
     "name": "stderr",
     "output_type": "stream",
     "text": [
      "C:\\Users\\SGM\\AppData\\Local\\Temp\\ipykernel_13232\\3122532733.py:1: DtypeWarning:\n",
      "\n",
      "Columns (0,2) have mixed types. Specify dtype option on import or set low_memory=False.\n",
      "\n"
     ]
    }
   ],
   "source": [
    "df_reps = pd.read_csv('../../Data/REPS.csv')"
   ]
  },
  {
   "cell_type": "code",
   "execution_count": 180,
   "metadata": {},
   "outputs": [],
   "source": [
    "df_reps['codigo_prestador'] = df_reps['CodigoPrestador']\n",
    "df_reps['codigo_habilitacion_sede'] = df_reps['CodigoHabilitacionSede']\n",
    "df_reps.iloc[56503]['CodigoPrestador'], df_reps.iloc[56503]['CodigoHabilitacionSede'], df_reps.iloc[74472]['CodigoPrestador'], df_reps.iloc[74472]['CodigoHabilitacionSede']\n",
    "\n",
    "df_reps.at[56503, 'codigo_prestador'] = df_reps.iloc[56503]['CodigoPrestador'].replace(\" \", \"\")\n",
    "df_reps.at[56503, 'codigo_habilitacion_sede'] = df_reps.iloc[56503]['CodigoHabilitacionSede'].replace(\" \", \"\")\n",
    "df_reps.at[74472, 'codigo_prestador'] = df_reps.iloc[74472]['CodigoPrestador'].replace(\" \", \"\")\n",
    "df_reps.at[74472, 'codigo_habilitacion_sede'] = df_reps.iloc[74472]['CodigoHabilitacionSede'].replace(\" \", \"\")\n",
    "\n",
    "df_reps['codigo_prestador'] = df_reps['codigo_prestador'].astype(np.int64)\n",
    "df_reps['codigo_habilitacion_sede'] = df_reps['codigo_habilitacion_sede'].astype(np.int64)"
   ]
  },
  {
   "cell_type": "code",
   "execution_count": 181,
   "metadata": {},
   "outputs": [],
   "source": [
    "columnas = [\n",
    "    'DepartamentoSedeDesc',\n",
    "    'MunicipioPrestadorDesc',\n",
    "    'MunicipioSede',\n",
    "    'MunicipioSedeDesc',\n",
    "    'codigo_prestador',\n",
    "    'codigo_habilitacion_sede',\n",
    "    'NaturalezaJuridica',\n",
    "    'ClasePrestadorDesc'\n",
    "]"
   ]
  },
  {
   "cell_type": "code",
   "execution_count": 182,
   "metadata": {},
   "outputs": [],
   "source": [
    "df_reps = df_reps[columnas]"
   ]
  },
  {
   "cell_type": "code",
   "execution_count": 183,
   "metadata": {},
   "outputs": [],
   "source": [
    "departamentos = [\n",
    "    'Amazonas', 'Antioquia', 'Arauca', 'Atlántico',\n",
    "    'Bogotá D.C', 'Bolívar', 'Boyacá', 'Caldas',\n",
    "    'Caquetá', 'Casanare', 'Cauca', 'Cesar', \n",
    "    'Chocó', 'Córdoba', 'Cundinamarca', 'Guainía', \n",
    "    'Guaviare', 'Huila', 'La Guajira', 'Magdalena',\n",
    "    'Meta', 'Nariño', 'Norte de Santander', 'Putumayo',\n",
    "    'Quindío', 'Risaralda', 'San Andrés y Providencia', 'Santander',\n",
    "    'Sucre', 'Tolima', 'Valle del cauca', 'Vaupés', \n",
    "    'Vichada'\n",
    "    ]\n",
    "\n",
    "distritos_especiales = [\n",
    "    'Barranquilla',\n",
    "    'Buenaventura',\n",
    "    'Cartagena',\n",
    "    'Santa Marta'\n",
    "]\n",
    "\n",
    "distritos_especiales_departamentos = {\n",
    "    'Barranquilla': 'Atlántico',\n",
    "    'Buenaventura': 'Valle del cauca',\n",
    "    'Cartagena': 'Bolívar',\n",
    "    'Santa Marta': 'Magdalena',\n",
    "    'Cali': 'Valle del cauca'\n",
    "}"
   ]
  },
  {
   "cell_type": "code",
   "execution_count": 184,
   "metadata": {},
   "outputs": [],
   "source": [
    "df_reps['Departamento'] = df_reps['DepartamentoSedeDesc'].replace(distritos_especiales_departamentos)"
   ]
  },
  {
   "cell_type": "code",
   "execution_count": 185,
   "metadata": {},
   "outputs": [],
   "source": [
    "df_reps = df_reps[df_reps['ClasePrestadorDesc'] == 'Instituciones Prestadoras de Servicios de Salud - IPS']"
   ]
  },
  {
   "cell_type": "code",
   "execution_count": 186,
   "metadata": {},
   "outputs": [
    {
     "name": "stdout",
     "output_type": "stream",
     "text": [
      "<class 'pandas.core.frame.DataFrame'>\n",
      "Index: 19726 entries, 0 to 76393\n",
      "Data columns (total 9 columns):\n",
      " #   Column                    Non-Null Count  Dtype \n",
      "---  ------                    --------------  ----- \n",
      " 0   DepartamentoSedeDesc      19726 non-null  object\n",
      " 1   MunicipioPrestadorDesc    19726 non-null  object\n",
      " 2   MunicipioSede             19726 non-null  int64 \n",
      " 3   MunicipioSedeDesc         19726 non-null  object\n",
      " 4   codigo_prestador          19726 non-null  int64 \n",
      " 5   codigo_habilitacion_sede  19726 non-null  int64 \n",
      " 6   NaturalezaJuridica        19726 non-null  object\n",
      " 7   ClasePrestadorDesc        19726 non-null  object\n",
      " 8   Departamento              19726 non-null  object\n",
      "dtypes: int64(3), object(6)\n",
      "memory usage: 1.5+ MB\n"
     ]
    }
   ],
   "source": [
    "df_reps.info()"
   ]
  },
  {
   "cell_type": "code",
   "execution_count": 187,
   "metadata": {},
   "outputs": [
    {
     "data": {
      "text/html": [
       "<div>\n",
       "<style scoped>\n",
       "    .dataframe tbody tr th:only-of-type {\n",
       "        vertical-align: middle;\n",
       "    }\n",
       "\n",
       "    .dataframe tbody tr th {\n",
       "        vertical-align: top;\n",
       "    }\n",
       "\n",
       "    .dataframe thead th {\n",
       "        text-align: right;\n",
       "    }\n",
       "</style>\n",
       "<table border=\"1\" class=\"dataframe\">\n",
       "  <thead>\n",
       "    <tr style=\"text-align: right;\">\n",
       "      <th></th>\n",
       "      <th>DepartamentoSedeDesc</th>\n",
       "      <th>MunicipioPrestadorDesc</th>\n",
       "      <th>MunicipioSede</th>\n",
       "      <th>MunicipioSedeDesc</th>\n",
       "      <th>codigo_prestador</th>\n",
       "      <th>codigo_habilitacion_sede</th>\n",
       "      <th>NaturalezaJuridica</th>\n",
       "      <th>ClasePrestadorDesc</th>\n",
       "      <th>Departamento</th>\n",
       "    </tr>\n",
       "  </thead>\n",
       "  <tbody>\n",
       "    <tr>\n",
       "      <th>0</th>\n",
       "      <td>Amazonas</td>\n",
       "      <td>LETICIA</td>\n",
       "      <td>91263</td>\n",
       "      <td>EL ENCANTO</td>\n",
       "      <td>9100100019</td>\n",
       "      <td>912630001911</td>\n",
       "      <td>Pública</td>\n",
       "      <td>Instituciones Prestadoras de Servicios de Salu...</td>\n",
       "      <td>Amazonas</td>\n",
       "    </tr>\n",
       "    <tr>\n",
       "      <th>1</th>\n",
       "      <td>Amazonas</td>\n",
       "      <td>LETICIA</td>\n",
       "      <td>91405</td>\n",
       "      <td>LA CHORRERA</td>\n",
       "      <td>9100100019</td>\n",
       "      <td>914050001914</td>\n",
       "      <td>Pública</td>\n",
       "      <td>Instituciones Prestadoras de Servicios de Salu...</td>\n",
       "      <td>Amazonas</td>\n",
       "    </tr>\n",
       "    <tr>\n",
       "      <th>2</th>\n",
       "      <td>Amazonas</td>\n",
       "      <td>LETICIA</td>\n",
       "      <td>91407</td>\n",
       "      <td>LA PEDRERA</td>\n",
       "      <td>9100100019</td>\n",
       "      <td>914070001915</td>\n",
       "      <td>Pública</td>\n",
       "      <td>Instituciones Prestadoras de Servicios de Salu...</td>\n",
       "      <td>Amazonas</td>\n",
       "    </tr>\n",
       "    <tr>\n",
       "      <th>3</th>\n",
       "      <td>Amazonas</td>\n",
       "      <td>LETICIA</td>\n",
       "      <td>91430</td>\n",
       "      <td>LA VICTORIA</td>\n",
       "      <td>9100100019</td>\n",
       "      <td>914300001916</td>\n",
       "      <td>Pública</td>\n",
       "      <td>Instituciones Prestadoras de Servicios de Salu...</td>\n",
       "      <td>Amazonas</td>\n",
       "    </tr>\n",
       "    <tr>\n",
       "      <th>5</th>\n",
       "      <td>Amazonas</td>\n",
       "      <td>LETICIA</td>\n",
       "      <td>91001</td>\n",
       "      <td>LETICIA</td>\n",
       "      <td>9100100019</td>\n",
       "      <td>910010001901</td>\n",
       "      <td>Pública</td>\n",
       "      <td>Instituciones Prestadoras de Servicios de Salu...</td>\n",
       "      <td>Amazonas</td>\n",
       "    </tr>\n",
       "  </tbody>\n",
       "</table>\n",
       "</div>"
      ],
      "text/plain": [
       "  DepartamentoSedeDesc MunicipioPrestadorDesc  MunicipioSede  \\\n",
       "0             Amazonas                LETICIA          91263   \n",
       "1             Amazonas                LETICIA          91405   \n",
       "2             Amazonas                LETICIA          91407   \n",
       "3             Amazonas                LETICIA          91430   \n",
       "5             Amazonas                LETICIA          91001   \n",
       "\n",
       "  MunicipioSedeDesc  codigo_prestador  codigo_habilitacion_sede  \\\n",
       "0        EL ENCANTO        9100100019              912630001911   \n",
       "1       LA CHORRERA        9100100019              914050001914   \n",
       "2        LA PEDRERA        9100100019              914070001915   \n",
       "3       LA VICTORIA        9100100019              914300001916   \n",
       "5           LETICIA        9100100019              910010001901   \n",
       "\n",
       "  NaturalezaJuridica                                 ClasePrestadorDesc  \\\n",
       "0            Pública  Instituciones Prestadoras de Servicios de Salu...   \n",
       "1            Pública  Instituciones Prestadoras de Servicios de Salu...   \n",
       "2            Pública  Instituciones Prestadoras de Servicios de Salu...   \n",
       "3            Pública  Instituciones Prestadoras de Servicios de Salu...   \n",
       "5            Pública  Instituciones Prestadoras de Servicios de Salu...   \n",
       "\n",
       "  Departamento  \n",
       "0     Amazonas  \n",
       "1     Amazonas  \n",
       "2     Amazonas  \n",
       "3     Amazonas  \n",
       "5     Amazonas  "
      ]
     },
     "execution_count": 187,
     "metadata": {},
     "output_type": "execute_result"
    }
   ],
   "source": [
    "df_reps.head()"
   ]
  },
  {
   "cell_type": "markdown",
   "metadata": {},
   "source": [
    "# IPS por Municipio - 2022"
   ]
  },
  {
   "cell_type": "code",
   "execution_count": 188,
   "metadata": {},
   "outputs": [],
   "source": [
    "df_reps = pd.merge(df_reps, df_municipios_codigos[['Codigo_Municipio', 'Municipio']], how='inner', left_on='MunicipioSede', right_on='Codigo_Municipio')\n",
    "df_reps = pd.merge(df_reps, df_departamentos_codigos[['Codigo', 'Departamento']], how='left', left_on='Departamento', right_on='Departamento')\n",
    "df_reps['Municipio_Departamento'] = df_reps['Municipio'] + \" (\" + df_reps['Departamento'] + \")\""
   ]
  },
  {
   "cell_type": "code",
   "execution_count": 190,
   "metadata": {},
   "outputs": [
    {
     "data": {
      "text/html": [
       "<div>\n",
       "<style scoped>\n",
       "    .dataframe tbody tr th:only-of-type {\n",
       "        vertical-align: middle;\n",
       "    }\n",
       "\n",
       "    .dataframe tbody tr th {\n",
       "        vertical-align: top;\n",
       "    }\n",
       "\n",
       "    .dataframe thead th {\n",
       "        text-align: right;\n",
       "    }\n",
       "</style>\n",
       "<table border=\"1\" class=\"dataframe\">\n",
       "  <thead>\n",
       "    <tr style=\"text-align: right;\">\n",
       "      <th></th>\n",
       "      <th>DepartamentoSedeDesc</th>\n",
       "      <th>MunicipioPrestadorDesc</th>\n",
       "      <th>MunicipioSede</th>\n",
       "      <th>MunicipioSedeDesc</th>\n",
       "      <th>codigo_prestador</th>\n",
       "      <th>codigo_habilitacion_sede</th>\n",
       "      <th>NaturalezaJuridica</th>\n",
       "      <th>ClasePrestadorDesc</th>\n",
       "      <th>Departamento</th>\n",
       "      <th>Codigo_Municipio</th>\n",
       "      <th>Municipio</th>\n",
       "      <th>Codigo</th>\n",
       "      <th>Municipio_Departamento</th>\n",
       "    </tr>\n",
       "  </thead>\n",
       "  <tbody>\n",
       "    <tr>\n",
       "      <th>0</th>\n",
       "      <td>Amazonas</td>\n",
       "      <td>LETICIA</td>\n",
       "      <td>91263</td>\n",
       "      <td>EL ENCANTO</td>\n",
       "      <td>9100100019</td>\n",
       "      <td>912630001911</td>\n",
       "      <td>Pública</td>\n",
       "      <td>Instituciones Prestadoras de Servicios de Salu...</td>\n",
       "      <td>Amazonas</td>\n",
       "      <td>91263</td>\n",
       "      <td>El Encanto</td>\n",
       "      <td>91</td>\n",
       "      <td>El Encanto (Amazonas)</td>\n",
       "    </tr>\n",
       "    <tr>\n",
       "      <th>1</th>\n",
       "      <td>Amazonas</td>\n",
       "      <td>LETICIA</td>\n",
       "      <td>91405</td>\n",
       "      <td>LA CHORRERA</td>\n",
       "      <td>9100100019</td>\n",
       "      <td>914050001914</td>\n",
       "      <td>Pública</td>\n",
       "      <td>Instituciones Prestadoras de Servicios de Salu...</td>\n",
       "      <td>Amazonas</td>\n",
       "      <td>91405</td>\n",
       "      <td>La Chorrera</td>\n",
       "      <td>91</td>\n",
       "      <td>La Chorrera (Amazonas)</td>\n",
       "    </tr>\n",
       "    <tr>\n",
       "      <th>2</th>\n",
       "      <td>Amazonas</td>\n",
       "      <td>LETICIA</td>\n",
       "      <td>91407</td>\n",
       "      <td>LA PEDRERA</td>\n",
       "      <td>9100100019</td>\n",
       "      <td>914070001915</td>\n",
       "      <td>Pública</td>\n",
       "      <td>Instituciones Prestadoras de Servicios de Salu...</td>\n",
       "      <td>Amazonas</td>\n",
       "      <td>91407</td>\n",
       "      <td>La Pedrera</td>\n",
       "      <td>91</td>\n",
       "      <td>La Pedrera (Amazonas)</td>\n",
       "    </tr>\n",
       "    <tr>\n",
       "      <th>3</th>\n",
       "      <td>Amazonas</td>\n",
       "      <td>LETICIA</td>\n",
       "      <td>91430</td>\n",
       "      <td>LA VICTORIA</td>\n",
       "      <td>9100100019</td>\n",
       "      <td>914300001916</td>\n",
       "      <td>Pública</td>\n",
       "      <td>Instituciones Prestadoras de Servicios de Salu...</td>\n",
       "      <td>Amazonas</td>\n",
       "      <td>91430</td>\n",
       "      <td>La Victoria</td>\n",
       "      <td>91</td>\n",
       "      <td>La Victoria (Amazonas)</td>\n",
       "    </tr>\n",
       "    <tr>\n",
       "      <th>4</th>\n",
       "      <td>Amazonas</td>\n",
       "      <td>LETICIA</td>\n",
       "      <td>91001</td>\n",
       "      <td>LETICIA</td>\n",
       "      <td>9100100019</td>\n",
       "      <td>910010001901</td>\n",
       "      <td>Pública</td>\n",
       "      <td>Instituciones Prestadoras de Servicios de Salu...</td>\n",
       "      <td>Amazonas</td>\n",
       "      <td>91001</td>\n",
       "      <td>Leticia</td>\n",
       "      <td>91</td>\n",
       "      <td>Leticia (Amazonas)</td>\n",
       "    </tr>\n",
       "  </tbody>\n",
       "</table>\n",
       "</div>"
      ],
      "text/plain": [
       "  DepartamentoSedeDesc MunicipioPrestadorDesc  MunicipioSede  \\\n",
       "0             Amazonas                LETICIA          91263   \n",
       "1             Amazonas                LETICIA          91405   \n",
       "2             Amazonas                LETICIA          91407   \n",
       "3             Amazonas                LETICIA          91430   \n",
       "4             Amazonas                LETICIA          91001   \n",
       "\n",
       "  MunicipioSedeDesc  codigo_prestador  codigo_habilitacion_sede  \\\n",
       "0        EL ENCANTO        9100100019              912630001911   \n",
       "1       LA CHORRERA        9100100019              914050001914   \n",
       "2        LA PEDRERA        9100100019              914070001915   \n",
       "3       LA VICTORIA        9100100019              914300001916   \n",
       "4           LETICIA        9100100019              910010001901   \n",
       "\n",
       "  NaturalezaJuridica                                 ClasePrestadorDesc  \\\n",
       "0            Pública  Instituciones Prestadoras de Servicios de Salu...   \n",
       "1            Pública  Instituciones Prestadoras de Servicios de Salu...   \n",
       "2            Pública  Instituciones Prestadoras de Servicios de Salu...   \n",
       "3            Pública  Instituciones Prestadoras de Servicios de Salu...   \n",
       "4            Pública  Instituciones Prestadoras de Servicios de Salu...   \n",
       "\n",
       "  Departamento  Codigo_Municipio    Municipio  Codigo  Municipio_Departamento  \n",
       "0     Amazonas             91263   El Encanto      91   El Encanto (Amazonas)  \n",
       "1     Amazonas             91405  La Chorrera      91  La Chorrera (Amazonas)  \n",
       "2     Amazonas             91407   La Pedrera      91   La Pedrera (Amazonas)  \n",
       "3     Amazonas             91430  La Victoria      91  La Victoria (Amazonas)  \n",
       "4     Amazonas             91001      Leticia      91      Leticia (Amazonas)  "
      ]
     },
     "execution_count": 190,
     "metadata": {},
     "output_type": "execute_result"
    }
   ],
   "source": [
    "df_reps.head()"
   ]
  },
  {
   "cell_type": "code",
   "execution_count": 191,
   "metadata": {},
   "outputs": [],
   "source": [
    "df_num_reps = df_reps.groupby('Municipio_Departamento').agg(IPS_2022=('codigo_habilitacion_sede', 'count')).reset_index().sort_values('IPS_2022', ascending=True).reset_index(drop=True)"
   ]
  },
  {
   "cell_type": "code",
   "execution_count": 217,
   "metadata": {},
   "outputs": [
    {
     "data": {
      "text/html": [
       "<div>\n",
       "<style scoped>\n",
       "    .dataframe tbody tr th:only-of-type {\n",
       "        vertical-align: middle;\n",
       "    }\n",
       "\n",
       "    .dataframe tbody tr th {\n",
       "        vertical-align: top;\n",
       "    }\n",
       "\n",
       "    .dataframe thead th {\n",
       "        text-align: right;\n",
       "    }\n",
       "</style>\n",
       "<table border=\"1\" class=\"dataframe\">\n",
       "  <thead>\n",
       "    <tr style=\"text-align: right;\">\n",
       "      <th></th>\n",
       "      <th>Municipio_Departamento</th>\n",
       "      <th>IPS_2022</th>\n",
       "    </tr>\n",
       "  </thead>\n",
       "  <tbody>\n",
       "    <tr>\n",
       "      <th>0</th>\n",
       "      <td>Firavitoba (Boyacá)</td>\n",
       "      <td>1</td>\n",
       "    </tr>\n",
       "    <tr>\n",
       "      <th>1</th>\n",
       "      <td>Saboyá (Boyacá)</td>\n",
       "      <td>1</td>\n",
       "    </tr>\n",
       "    <tr>\n",
       "      <th>2</th>\n",
       "      <td>Solita (Caquetá)</td>\n",
       "      <td>1</td>\n",
       "    </tr>\n",
       "    <tr>\n",
       "      <th>3</th>\n",
       "      <td>El Castillo (Meta)</td>\n",
       "      <td>1</td>\n",
       "    </tr>\n",
       "    <tr>\n",
       "      <th>4</th>\n",
       "      <td>Somondoco (Boyacá)</td>\n",
       "      <td>1</td>\n",
       "    </tr>\n",
       "    <tr>\n",
       "      <th>...</th>\n",
       "      <td>...</td>\n",
       "      <td>...</td>\n",
       "    </tr>\n",
       "    <tr>\n",
       "      <th>1111</th>\n",
       "      <td>Cartagena de Indias (Bolívar)</td>\n",
       "      <td>604</td>\n",
       "    </tr>\n",
       "    <tr>\n",
       "      <th>1112</th>\n",
       "      <td>Barranquilla (Atlántico)</td>\n",
       "      <td>817</td>\n",
       "    </tr>\n",
       "    <tr>\n",
       "      <th>1113</th>\n",
       "      <td>Cali (Valle del cauca)</td>\n",
       "      <td>1064</td>\n",
       "    </tr>\n",
       "    <tr>\n",
       "      <th>1114</th>\n",
       "      <td>Medellín (Antioquia)</td>\n",
       "      <td>1167</td>\n",
       "    </tr>\n",
       "    <tr>\n",
       "      <th>1115</th>\n",
       "      <td>Bogotá, D.C. (Bogotá D.C)</td>\n",
       "      <td>2892</td>\n",
       "    </tr>\n",
       "  </tbody>\n",
       "</table>\n",
       "<p>1116 rows × 2 columns</p>\n",
       "</div>"
      ],
      "text/plain": [
       "             Municipio_Departamento  IPS_2022\n",
       "0               Firavitoba (Boyacá)         1\n",
       "1                   Saboyá (Boyacá)         1\n",
       "2                  Solita (Caquetá)         1\n",
       "3                El Castillo (Meta)         1\n",
       "4                Somondoco (Boyacá)         1\n",
       "...                             ...       ...\n",
       "1111  Cartagena de Indias (Bolívar)       604\n",
       "1112       Barranquilla (Atlántico)       817\n",
       "1113         Cali (Valle del cauca)      1064\n",
       "1114           Medellín (Antioquia)      1167\n",
       "1115      Bogotá, D.C. (Bogotá D.C)      2892\n",
       "\n",
       "[1116 rows x 2 columns]"
      ]
     },
     "execution_count": 217,
     "metadata": {},
     "output_type": "execute_result"
    }
   ],
   "source": [
    "df_num_reps"
   ]
  },
  {
   "cell_type": "code",
   "execution_count": 204,
   "metadata": {},
   "outputs": [
    {
     "data": {
      "application/vnd.plotly.v1+json": {
       "config": {
        "plotlyServerURL": "https://plot.ly"
       },
       "data": [
        {
         "alignmentgroup": "True",
         "hovertemplate": "IPS_2022=%{x}<br>Municipio_Departamento=%{y}<extra></extra>",
         "legendgroup": "",
         "marker": {
          "color": [
           "#3364C7",
           "#3364C7",
           "#3364C7",
           "#3364C7",
           "#3364C7",
           "#3364C7",
           "#3364C7",
           "#3364C7",
           "#3364C7",
           "#3364C7",
           "#3364C7",
           "#3364C7",
           "#3364C7",
           "#3364C7",
           "#3364C7",
           "#3364C7",
           "#3364C7",
           "#3364C7",
           "#3364C7",
           "#3364C7",
           "#3364C7",
           "#3364C7",
           "#3364C7",
           "#3364C7",
           "#3364C7",
           "#3364C7",
           "#3364C7",
           "#3364C7",
           "#3364C7",
           "#3364C7",
           "#3364C7",
           "#3364C7",
           "#3364C7",
           "#3364C7",
           "#3364C7",
           "#3364C7",
           "#3364C7",
           "#3364C7",
           "#3364C7",
           "#3364C7",
           "#3364C7",
           "#3364C7",
           "#3364C7",
           "#3364C7",
           "#3364C7",
           "#3364C7",
           "#3364C7",
           "#3364C7",
           "#3364C7",
           "#3364C7",
           "#3364C7",
           "#3364C7",
           "#3364C7",
           "#3364C7",
           "#3364C7",
           "#3364C7",
           "#3364C7",
           "#3364C7",
           "#3364C7",
           "#3364C7",
           "#3364C7",
           "#3364C7",
           "#3364C7",
           "#3364C7",
           "#3364C7",
           "#3364C7",
           "#3364C7",
           "#3364C7",
           "#3364C7",
           "#3364C7",
           "#3364C7",
           "#3364C7",
           "#3364C7",
           "#3364C7",
           "#3364C7",
           "#3364C7",
           "#3364C7",
           "#3364C7",
           "#3364C7",
           "#3364C7",
           "#3364C7",
           "#3364C7",
           "#3364C7",
           "#3364C7",
           "#3364C7",
           "#3364C7",
           "#3364C7",
           "#3364C7",
           "#3364C7",
           "#3364C7",
           "#3364C7",
           "#3364C7",
           "#3364C7",
           "#3364C7",
           "#3364C7",
           "#3364C7",
           "#3364C7",
           "#3364C7",
           "#3364C7",
           "#3364C7",
           "#3364C7",
           "#3364C7",
           "#3364C7",
           "#3364C7",
           "#3364C7",
           "#3364C7",
           "#3364C7",
           "#3364C7",
           "#3364C7",
           "#3364C7",
           "#3364C7",
           "#3364C7",
           "#3364C7",
           "#3364C7",
           "#3364C7",
           "#3364C7",
           "#3364C7",
           "#3364C7",
           "#3364C7",
           "#3364C7",
           "#3364C7",
           "#3364C7",
           "#3364C7",
           "#3364C7",
           "#3364C7",
           "#3364C7",
           "#3364C7",
           "#3364C7",
           "#3364C7",
           "#3364C7",
           "#3364C7",
           "#3364C7",
           "#3364C7",
           "#3364C7",
           "#3364C7",
           "#3364C7",
           "#3364C7",
           "#3364C7",
           "#3364C7",
           "#3364C7",
           "#3364C7",
           "#3364C7",
           "#3364C7",
           "#3364C7",
           "#3364C7",
           "#3364C7",
           "#3364C7",
           "#3364C7",
           "#3364C7",
           "#3364C7",
           "#3364C7",
           "#3364C7",
           "#3364C7",
           "#3364C7",
           "#3364C7",
           "#3364C7",
           "#3364C7",
           "#3364C7",
           "#3364C7",
           "#3364C7",
           "#3364C7",
           "#3364C7",
           "#3364C7",
           "#3364C7",
           "#3364C7",
           "#3364C7",
           "#3364C7",
           "#3364C7",
           "#3364C7",
           "#3364C7",
           "#3364C7",
           "#3364C7",
           "#3364C7",
           "#3364C7",
           "#3364C7",
           "#3364C7",
           "#3364C7",
           "#3364C7",
           "#3364C7",
           "#3364C7",
           "#3364C7",
           "#3364C7",
           "#3364C7",
           "#3364C7",
           "#3364C7",
           "#3364C7",
           "#3364C7",
           "#3364C7",
           "#3364C7",
           "#3364C7",
           "#3364C7",
           "#3364C7",
           "#3364C7",
           "#3364C7",
           "#3364C7",
           "#3364C7",
           "#3364C7",
           "#3364C7",
           "#3364C7",
           "#3364C7",
           "#3364C7",
           "#3364C7",
           "#3364C7",
           "#3364C7",
           "#3364C7",
           "#3364C7",
           "#3364C7",
           "#3364C7",
           "#3364C7",
           "#3364C7",
           "#3364C7",
           "#3364C7",
           "#3364C7",
           "#3364C7",
           "#3364C7",
           "#3364C7",
           "#3364C7",
           "#3364C7",
           "#3364C7",
           "#3364C7",
           "#3364C7",
           "#3364C7",
           "#3364C7",
           "#3364C7",
           "#3364C7",
           "#3364C7",
           "#3364C7",
           "#3364C7",
           "#3364C7",
           "#3364C7",
           "#3364C7",
           "#3364C7",
           "#3364C7",
           "#3364C7",
           "#3364C7",
           "#3364C7",
           "#3364C7",
           "#3364C7",
           "#3364C7",
           "#3364C7",
           "#3364C7",
           "#3364C7",
           "#3364C7",
           "#3364C7",
           "#3364C7",
           "#3364C7",
           "#3364C7",
           "#3364C7",
           "#3364C7",
           "#3364C7",
           "#3364C7",
           "#3364C7",
           "#3364C7",
           "#3364C7",
           "#3364C7",
           "#3364C7",
           "#3364C7",
           "#3364C7",
           "#3364C7",
           "#3364C7",
           "#3364C7",
           "#3364C7",
           "#3364C7",
           "#3364C7",
           "#3364C7",
           "#3364C7",
           "#3364C7",
           "#3364C7",
           "#3364C7",
           "#3364C7",
           "#3364C7",
           "#3364C7",
           "#3364C7",
           "#3364C7",
           "#3364C7",
           "#3364C7",
           "#3364C7",
           "#3364C7",
           "#3364C7",
           "#3364C7",
           "#3364C7",
           "#3364C7",
           "#3364C7",
           "#3364C7",
           "#3364C7",
           "#3364C7",
           "#3364C7",
           "#3364C7",
           "#3364C7",
           "#3364C7",
           "#3364C7",
           "#3364C7",
           "#3364C7",
           "#3364C7",
           "#3364C7",
           "#3364C7",
           "#3364C7",
           "#3364C7",
           "#3364C7",
           "#3364C7",
           "#3364C7",
           "#3364C7",
           "#3364C7",
           "#3364C7",
           "#3364C7",
           "#3364C7",
           "#3364C7",
           "#3364C7",
           "#3364C7",
           "#3364C7",
           "#3364C7",
           "#3364C7",
           "#3364C7",
           "#3364C7",
           "#3364C7",
           "#3364C7",
           "#3364C7",
           "#3364C7",
           "#3364C7",
           "#3364C7",
           "#3364C7",
           "#3364C7",
           "#3364C7",
           "#3364C7",
           "#3364C7",
           "#3364C7",
           "#3364C7",
           "#3364C7",
           "#3364C7",
           "#3364C7",
           "#3364C7",
           "#3364C7",
           "#3364C7",
           "#3364C7",
           "#3364C7",
           "#3364C7",
           "#3364C7",
           "#3364C7",
           "#3364C7",
           "#3364C7",
           "#3364C7",
           "#3364C7",
           "#3364C7",
           "#3364C7",
           "#3364C7",
           "#3364C7",
           "#3364C7",
           "#3364C7",
           "#3364C7",
           "#3364C7",
           "#3364C7",
           "#3364C7",
           "#3364C7",
           "#3364C7",
           "#3364C7",
           "#3364C7",
           "#3364C7",
           "#3364C7",
           "#3364C7",
           "#3364C7",
           "#3364C7",
           "#3364C7",
           "#3364C7",
           "#3364C7",
           "#3364C7",
           "#3364C7",
           "#3364C7",
           "#3364C7",
           "#3364C7",
           "#3364C7",
           "#3364C7",
           "#3364C7",
           "#3364C7",
           "#3364C7",
           "#3364C7",
           "#3364C7",
           "#3364C7",
           "#3364C7",
           "#3364C7",
           "#3364C7",
           "#3364C7",
           "#3364C7",
           "#3364C7",
           "#3364C7",
           "#3364C7",
           "#3364C7",
           "#3364C7",
           "#3364C7",
           "#3364C7",
           "#3364C7",
           "#3364C7",
           "#3364C7",
           "#3364C7",
           "#3364C7",
           "#3364C7",
           "#3364C7",
           "#3364C7",
           "#3364C7",
           "#3364C7",
           "#3364C7",
           "#3364C7",
           "#3364C7",
           "#3364C7",
           "#3364C7",
           "#3364C7",
           "#3364C7",
           "#3364C7",
           "#3364C7",
           "#3364C7",
           "#3364C7",
           "#3364C7",
           "#3364C7",
           "#3364C7",
           "#3364C7",
           "#3364C7",
           "#3364C7",
           "#3364C7",
           "#3364C7",
           "#3364C7",
           "#3364C7",
           "#3364C7",
           "#3364C7",
           "#3364C7",
           "#3364C7",
           "#3364C7",
           "#3364C7",
           "#3364C7",
           "#3364C7",
           "#3364C7",
           "#3364C7",
           "#3364C7",
           "#3364C7",
           "#3364C7",
           "#3364C7",
           "#3364C7",
           "#3364C7",
           "#3364C7",
           "#3364C7",
           "#3364C7",
           "#3364C7",
           "#3364C7",
           "#3364C7",
           "#3364C7",
           "#3364C7",
           "#3364C7",
           "#3364C7",
           "#3364C7",
           "#3364C7",
           "#3364C7",
           "#3364C7",
           "#3364C7",
           "#3364C7",
           "#3364C7",
           "#3364C7",
           "#3364C7",
           "#3364C7",
           "#3364C7",
           "#3364C7",
           "#3364C7",
           "#3364C7",
           "#3364C7",
           "#3364C7",
           "#3364C7",
           "#3364C7",
           "#3364C7",
           "#3364C7",
           "#3364C7",
           "#3364C7",
           "#3364C7",
           "#3364C7",
           "#3364C7",
           "#3364C7",
           "#3364C7",
           "#3364C7",
           "#3364C7",
           "#3364C7",
           "#3364C7",
           "#3364C7",
           "#3364C7",
           "#3364C7",
           "#3364C7",
           "#3364C7",
           "#3364C7",
           "#3364C7",
           "#3364C7",
           "#3364C7",
           "#3364C7",
           "#3364C7",
           "#3364C7",
           "#3364C7",
           "#3364C7",
           "#3364C7",
           "#3364C7",
           "#3364C7",
           "#3364C7",
           "#3364C7",
           "#3364C7",
           "#3364C7",
           "#3364C7",
           "#3364C7",
           "#3364C7",
           "#3364C7",
           "#3364C7",
           "#3364C7",
           "#3364C7",
           "#3364C7",
           "#3364C7",
           "#3364C7",
           "#3364C7",
           "#3364C7",
           "#3364C7",
           "#3364C7",
           "#3364C7",
           "#3364C7",
           "#3364C7",
           "#3364C7",
           "#3364C7",
           "#3364C7",
           "#3364C7",
           "#3364C7",
           "#3364C7",
           "#3364C7",
           "#3364C7",
           "#3364C7",
           "#3364C7",
           "#3364C7",
           "#3364C7",
           "#3364C7",
           "#3364C7",
           "#3364C7",
           "#3364C7",
           "#3364C7",
           "#3364C7",
           "#3364C7",
           "#3364C7",
           "#3364C7",
           "#3364C7",
           "#3364C7",
           "#3364C7",
           "#3364C7",
           "#3364C7",
           "#3364C7",
           "#3364C7",
           "#3364C7",
           "#3364C7",
           "#3364C7",
           "#3364C7",
           "#3364C7",
           "#3364C7",
           "#3364C7",
           "#3364C7",
           "#3364C7",
           "#3364C7",
           "#3364C7",
           "#3364C7",
           "#3364C7",
           "#3364C7",
           "#3364C7",
           "#3364C7",
           "#3364C7",
           "#3364C7",
           "#3364C7",
           "#3364C7",
           "#3364C7",
           "#3364C7",
           "#3364C7",
           "#3364C7",
           "#3364C7",
           "#3364C7",
           "#3364C7",
           "#3364C7",
           "#3364C7",
           "#3364C7",
           "#3364C7",
           "#3364C7",
           "#3364C7",
           "#3364C7",
           "#3364C7",
           "#3364C7",
           "#3364C7",
           "#3364C7",
           "#3364C7",
           "#3364C7",
           "#3364C7",
           "#3364C7",
           "#3364C7",
           "#3364C7",
           "#3364C7",
           "#3364C7",
           "#3364C7",
           "#3364C7",
           "#3364C7",
           "#3364C7",
           "#3364C7",
           "#3364C7",
           "#3364C7",
           "#3364C7",
           "#3364C7",
           "#3364C7",
           "#3364C7",
           "#3364C7",
           "#3364C7",
           "#3364C7",
           "#3364C7",
           "#3364C7",
           "#3364C7",
           "#3364C7",
           "#3364C7",
           "#3364C7",
           "#3364C7",
           "#3364C7",
           "#3364C7",
           "#3364C7",
           "#3364C7",
           "#3364C7",
           "#3364C7",
           "#3364C7",
           "#3364C7",
           "#3364C7",
           "#3364C7",
           "#3364C7",
           "#3364C7",
           "#3364C7",
           "#3364C7",
           "#3364C7",
           "#3364C7",
           "#3364C7",
           "#3364C7",
           "#3364C7",
           "#3364C7",
           "#3364C7",
           "#3364C7",
           "#3364C7",
           "#3364C7",
           "#3364C7",
           "#3364C7",
           "#3364C7",
           "#3364C7",
           "#3364C7",
           "#3364C7",
           "#3364C7",
           "#3364C7",
           "#3364C7",
           "#3364C7",
           "#3364C7",
           "#3364C7",
           "#3364C7",
           "#3364C7",
           "#3364C7",
           "#3364C7",
           "#3364C7",
           "#3364C7",
           "#3364C7",
           "#3364C7",
           "#3364C7",
           "#3364C7",
           "#3364C7",
           "#3364C7",
           "#3364C7",
           "#3364C7",
           "#3364C7",
           "#3364C7",
           "#3364C7",
           "#3364C7",
           "#3364C7",
           "#3364C7",
           "#3364C7",
           "#3364C7",
           "#3364C7",
           "#3364C7",
           "#3364C7",
           "#3364C7",
           "#3364C7",
           "#3364C7",
           "#3364C7",
           "#3364C7",
           "#3364C7",
           "#3364C7",
           "#3364C7",
           "#3364C7",
           "#3364C7",
           "#3364C7",
           "#3364C7",
           "#3364C7",
           "#3364C7",
           "#3364C7",
           "#3364C7",
           "#3364C7",
           "#3364C7",
           "#3364C7",
           "#3364C7",
           "#3364C7",
           "#3364C7",
           "#3364C7",
           "#3364C7",
           "#3364C7",
           "#3364C7",
           "#3364C7",
           "#3364C7",
           "#3364C7",
           "#3364C7",
           "#3364C7",
           "#3364C7",
           "#3364C7",
           "#3364C7",
           "#3364C7",
           "#3364C7",
           "#3364C7",
           "#3364C7",
           "#3364C7",
           "#3364C7",
           "#3364C7",
           "#3364C7",
           "#3364C7",
           "#3364C7",
           "#3364C7",
           "#3364C7",
           "#3364C7",
           "#3364C7",
           "#3364C7",
           "#3364C7",
           "#3364C7",
           "#3364C7",
           "#3364C7",
           "#3364C7",
           "#3364C7",
           "#3364C7",
           "#3364C7",
           "#3364C7",
           "#3364C7",
           "#3364C7",
           "#3364C7",
           "#3364C7",
           "#3364C7",
           "#3364C7",
           "#3364C7",
           "#3364C7",
           "#3364C7",
           "#3364C7",
           "#3364C7",
           "#3364C7",
           "#3364C7",
           "#3364C7",
           "#3364C7",
           "#3364C7",
           "#3364C7",
           "#3364C7",
           "#3364C7",
           "#3364C7",
           "#3364C7",
           "#3364C7",
           "#3364C7",
           "#3364C7",
           "#3364C7",
           "#3364C7",
           "#3364C7",
           "#3364C7",
           "#3364C7",
           "#3364C7",
           "#3364C7",
           "#3364C7",
           "#3364C7",
           "#3364C7",
           "#3364C7",
           "#3364C7",
           "#3364C7",
           "#3364C7",
           "#3364C7",
           "#3364C7",
           "#3364C7",
           "#3364C7",
           "#3364C7",
           "#3364C7",
           "#3364C7",
           "#3364C7",
           "#3364C7",
           "#3364C7",
           "#3364C7",
           "#3364C7",
           "#3364C7",
           "#3364C7",
           "#3364C7",
           "#3364C7",
           "#3364C7",
           "#3364C7",
           "#3364C7",
           "#3364C7",
           "#3364C7",
           "#3364C7",
           "#3364C7",
           "#3364C7",
           "#3364C7",
           "#3364C7",
           "#3364C7",
           "#3364C7",
           "#3364C7",
           "#3364C7",
           "#3364C7",
           "#3364C7",
           "#3364C7",
           "#3364C7",
           "#3364C7",
           "#3364C7",
           "#3364C7",
           "#3364C7",
           "#3364C7",
           "#3364C7",
           "#3364C7",
           "#3364C7",
           "#3364C7",
           "#3364C7",
           "#3364C7",
           "#3364C7",
           "#3364C7",
           "#3364C7",
           "#3364C7",
           "#3364C7",
           "#3364C7",
           "#3364C7",
           "#3364C7",
           "#3364C7",
           "#3364C7",
           "#3364C7",
           "#3364C7",
           "#3364C7",
           "#3364C7",
           "#3364C7",
           "#3364C7",
           "#3364C7",
           "#3364C7",
           "#3364C7",
           "#3364C7",
           "#3364C7",
           "#3364C7",
           "#3364C7",
           "#3364C7",
           "#3364C7",
           "#3364C7",
           "#3364C7",
           "#3364C7",
           "#3364C7",
           "#3364C7",
           "#3364C7",
           "#3364C7",
           "#3364C7",
           "#3364C7",
           "#3364C7",
           "#3364C7",
           "#3364C7",
           "#3364C7",
           "#3364C7",
           "#3364C7",
           "#3364C7",
           "#3364C7",
           "#3364C7",
           "#3364C7",
           "#3364C7",
           "#3364C7",
           "#3364C7",
           "#3364C7",
           "#3364C7",
           "#3364C7",
           "#3364C7",
           "#3364C7",
           "#3364C7",
           "#3364C7",
           "#3364C7",
           "#3364C7",
           "#3364C7",
           "#3364C7",
           "#3364C7",
           "#3364C7",
           "#3364C7",
           "#3364C7",
           "#3364C7",
           "#3364C7",
           "#3364C7",
           "#3364C7",
           "#3364C7",
           "#3364C7",
           "#3364C7",
           "#3364C7",
           "#3364C7",
           "#3364C7",
           "#3364C7",
           "#3364C7",
           "#3364C7",
           "#3364C7",
           "#3364C7",
           "#3364C7",
           "#3364C7",
           "#3364C7",
           "#3364C7",
           "#3364C7",
           "#3364C7",
           "#3364C7",
           "#3364C7",
           "#3364C7",
           "#3364C7",
           "#3364C7",
           "#3364C7",
           "#3364C7",
           "#3364C7",
           "#3364C7",
           "#3364C7",
           "#3364C7",
           "#3364C7",
           "#3364C7",
           "#3364C7",
           "#3364C7",
           "#3364C7",
           "#3364C7",
           "#3364C7",
           "#3364C7",
           "#3364C7",
           "#3364C7",
           "#3364C7",
           "#3364C7",
           "#3364C7",
           "#3364C7",
           "#3364C7",
           "#3364C7",
           "#3364C7",
           "#3364C7",
           "#3364C7",
           "#3364C7",
           "#3364C7",
           "#3364C7",
           "#3364C7",
           "#3364C7",
           "#3364C7",
           "#3364C7",
           "#3364C7",
           "#3364C7",
           "#3364C7",
           "#3364C7",
           "#3364C7",
           "#3364C7",
           "#3364C7",
           "#3364C7",
           "#3364C7",
           "#3364C7",
           "#3364C7",
           "#3364C7",
           "#3364C7",
           "#3364C7",
           "#3364C7",
           "#3364C7",
           "#3364C7",
           "#3364C7",
           "#3364C7",
           "#3364C7",
           "#3364C7",
           "#3364C7",
           "#3364C7",
           "#3364C7",
           "#3364C7",
           "#3364C7",
           "#3364C7",
           "#3364C7",
           "#3364C7",
           "#3364C7",
           "#3364C7",
           "#3364C7",
           "#3364C7",
           "#3364C7",
           "#3364C7",
           "#3364C7",
           "#3364C7",
           "#3364C7",
           "#3364C7",
           "#3364C7",
           "#3364C7",
           "#3364C7",
           "#3364C7",
           "#3364C7",
           "#3364C7",
           "#3364C7",
           "#3364C7",
           "#3364C7",
           "#3364C7",
           "#3364C7",
           "#3364C7",
           "#3364C7",
           "#3364C7",
           "#3364C7",
           "#3364C7",
           "#3364C7",
           "#3364C7",
           "#3364C7",
           "#3364C7",
           "#3364C7",
           "#3364C7",
           "#3364C7",
           "#3364C7",
           "#3364C7",
           "#3364C7",
           "#3364C7",
           "#3364C7",
           "#3364C7",
           "#3364C7",
           "#3364C7",
           "#3364C7",
           "#3364C7",
           "#3364C7",
           "#3364C7",
           "#3364C7",
           "#3364C7",
           "#3364C7",
           "#3364C7",
           "#3364C7",
           "#3364C7",
           "#3364C7",
           "#3364C7",
           "#3364C7",
           "#3364C7",
           "#3364C7",
           "#3364C7",
           "#3364C7",
           "#3364C7",
           "#3364C7",
           "#3364C7",
           "#3364C7",
           "#3364C7",
           "#3364C7",
           "#3364C7",
           "#3364C7",
           "#3364C7",
           "#3364C7",
           "#3364C7",
           "#3364C7",
           "#3364C7",
           "#3364C7",
           "#3364C7",
           "#3364C7",
           "#3364C7",
           "#3364C7",
           "#3364C7",
           "#3364C7",
           "#3364C7",
           "#3364C7",
           "#3364C7",
           "#3364C7",
           "#3364C7",
           "#3364C7",
           "#3364C7",
           "#3364C7",
           "#3364C7",
           "#3364C7",
           "#3364C7",
           "#3364C7",
           "#3364C7",
           "#3364C7",
           "#3364C7",
           "#3364C7",
           "#3364C7",
           "#3364C7",
           "#3364C7",
           "#3364C7",
           "#3364C7",
           "#3364C7",
           "#3364C7",
           "#3364C7",
           "#3364C7",
           "#3364C7",
           "#3364C7",
           "#3364C7",
           "#3364C7",
           "#3364C7",
           "#3364C7",
           "#3364C7",
           "#3364C7",
           "#3364C7",
           "#3364C7",
           "#3364C7",
           "#3364C7",
           "#3364C7",
           "#3364C7",
           "#3364C7",
           "#3364C7",
           "#3364C7",
           "#3364C7",
           "#3364C7",
           "#3364C7",
           "#3364C7",
           "#3364C7",
           "#3364C7",
           "#3364C7",
           "#3364C7",
           "#3364C7",
           "#3364C7",
           "#3364C7",
           "#3364C7",
           "#3364C7",
           "#3364C7",
           "#3364C7",
           "#3364C7",
           "#3364C7",
           "#3364C7",
           "#3364C7",
           "#3364C7",
           "#3364C7",
           "#3364C7",
           "#3364C7",
           "#3364C7",
           "#3364C7",
           "#3364C7",
           "#3364C7",
           "#3364C7",
           "#3364C7",
           "#3364C7",
           "#3364C7",
           "#3364C7",
           "#3364C7",
           "#3364C7",
           "#3364C7"
          ],
          "pattern": {
           "shape": ""
          }
         },
         "name": "",
         "offsetgroup": "",
         "orientation": "h",
         "showlegend": false,
         "text": [
          110,
          110,
          113,
          114,
          119,
          133,
          138,
          149,
          153,
          162,
          195,
          202,
          225,
          226,
          229,
          246,
          263,
          295,
          312,
          319,
          349,
          360,
          363,
          394,
          475,
          604,
          817,
          1064,
          1167,
          2892
         ],
         "textposition": "outside",
         "type": "bar",
         "x": [
          110,
          110,
          113,
          114,
          119,
          133,
          138,
          149,
          153,
          162,
          195,
          202,
          225,
          226,
          229,
          246,
          263,
          295,
          312,
          319,
          349,
          360,
          363,
          394,
          475,
          604,
          817,
          1064,
          1167,
          2892
         ],
         "xaxis": "x",
         "y": [
          "Tuluá (Valle del cauca)",
          "Barrancabermeja (Santander)",
          "Soledad (Atlántico)",
          "Chía (Cundinamarca)",
          "Rionegro (Antioquia)",
          "Yopal (Casanare)",
          "Floridablanca (Santander)",
          "Quibdó (Chocó)",
          "Riohacha (La Guajira)",
          "Palmira (Valle del cauca)",
          "Tunja (Boyacá)",
          "Armenia (Quindío)",
          "Neiva (Huila)",
          "Manizales (Caldas)",
          "Popayán (Cauca)",
          "Pasto (Nariño)",
          "Sincelejo (Sucre)",
          "Pereira (Risaralda)",
          "San José de Cúcuta (Norte de Santander)",
          "Villavicencio (Meta)",
          "Valledupar (Cesar)",
          "Santa Marta (Magdalena)",
          "Ibagué (Tolima)",
          "Montería (Córdoba)",
          "Bucaramanga (Santander)",
          "Cartagena de Indias (Bolívar)",
          "Barranquilla (Atlántico)",
          "Cali (Valle del cauca)",
          "Medellín (Antioquia)",
          "Bogotá, D.C. (Bogotá D.C)"
         ],
         "yaxis": "y"
        }
       ],
       "layout": {
        "barmode": "relative",
        "height": 700,
        "legend": {
         "tracegroupgap": 0
        },
        "margin": {
         "t": 60
        },
        "template": {
         "data": {
          "bar": [
           {
            "error_x": {
             "color": "#2a3f5f"
            },
            "error_y": {
             "color": "#2a3f5f"
            },
            "marker": {
             "line": {
              "color": "#E5ECF6",
              "width": 0.5
             },
             "pattern": {
              "fillmode": "overlay",
              "size": 10,
              "solidity": 0.2
             }
            },
            "type": "bar"
           }
          ],
          "barpolar": [
           {
            "marker": {
             "line": {
              "color": "#E5ECF6",
              "width": 0.5
             },
             "pattern": {
              "fillmode": "overlay",
              "size": 10,
              "solidity": 0.2
             }
            },
            "type": "barpolar"
           }
          ],
          "carpet": [
           {
            "aaxis": {
             "endlinecolor": "#2a3f5f",
             "gridcolor": "white",
             "linecolor": "white",
             "minorgridcolor": "white",
             "startlinecolor": "#2a3f5f"
            },
            "baxis": {
             "endlinecolor": "#2a3f5f",
             "gridcolor": "white",
             "linecolor": "white",
             "minorgridcolor": "white",
             "startlinecolor": "#2a3f5f"
            },
            "type": "carpet"
           }
          ],
          "choropleth": [
           {
            "colorbar": {
             "outlinewidth": 0,
             "ticks": ""
            },
            "type": "choropleth"
           }
          ],
          "contour": [
           {
            "colorbar": {
             "outlinewidth": 0,
             "ticks": ""
            },
            "colorscale": [
             [
              0,
              "#0d0887"
             ],
             [
              0.1111111111111111,
              "#46039f"
             ],
             [
              0.2222222222222222,
              "#7201a8"
             ],
             [
              0.3333333333333333,
              "#9c179e"
             ],
             [
              0.4444444444444444,
              "#bd3786"
             ],
             [
              0.5555555555555556,
              "#d8576b"
             ],
             [
              0.6666666666666666,
              "#ed7953"
             ],
             [
              0.7777777777777778,
              "#fb9f3a"
             ],
             [
              0.8888888888888888,
              "#fdca26"
             ],
             [
              1,
              "#f0f921"
             ]
            ],
            "type": "contour"
           }
          ],
          "contourcarpet": [
           {
            "colorbar": {
             "outlinewidth": 0,
             "ticks": ""
            },
            "type": "contourcarpet"
           }
          ],
          "heatmap": [
           {
            "colorbar": {
             "outlinewidth": 0,
             "ticks": ""
            },
            "colorscale": [
             [
              0,
              "#0d0887"
             ],
             [
              0.1111111111111111,
              "#46039f"
             ],
             [
              0.2222222222222222,
              "#7201a8"
             ],
             [
              0.3333333333333333,
              "#9c179e"
             ],
             [
              0.4444444444444444,
              "#bd3786"
             ],
             [
              0.5555555555555556,
              "#d8576b"
             ],
             [
              0.6666666666666666,
              "#ed7953"
             ],
             [
              0.7777777777777778,
              "#fb9f3a"
             ],
             [
              0.8888888888888888,
              "#fdca26"
             ],
             [
              1,
              "#f0f921"
             ]
            ],
            "type": "heatmap"
           }
          ],
          "heatmapgl": [
           {
            "colorbar": {
             "outlinewidth": 0,
             "ticks": ""
            },
            "colorscale": [
             [
              0,
              "#0d0887"
             ],
             [
              0.1111111111111111,
              "#46039f"
             ],
             [
              0.2222222222222222,
              "#7201a8"
             ],
             [
              0.3333333333333333,
              "#9c179e"
             ],
             [
              0.4444444444444444,
              "#bd3786"
             ],
             [
              0.5555555555555556,
              "#d8576b"
             ],
             [
              0.6666666666666666,
              "#ed7953"
             ],
             [
              0.7777777777777778,
              "#fb9f3a"
             ],
             [
              0.8888888888888888,
              "#fdca26"
             ],
             [
              1,
              "#f0f921"
             ]
            ],
            "type": "heatmapgl"
           }
          ],
          "histogram": [
           {
            "marker": {
             "pattern": {
              "fillmode": "overlay",
              "size": 10,
              "solidity": 0.2
             }
            },
            "type": "histogram"
           }
          ],
          "histogram2d": [
           {
            "colorbar": {
             "outlinewidth": 0,
             "ticks": ""
            },
            "colorscale": [
             [
              0,
              "#0d0887"
             ],
             [
              0.1111111111111111,
              "#46039f"
             ],
             [
              0.2222222222222222,
              "#7201a8"
             ],
             [
              0.3333333333333333,
              "#9c179e"
             ],
             [
              0.4444444444444444,
              "#bd3786"
             ],
             [
              0.5555555555555556,
              "#d8576b"
             ],
             [
              0.6666666666666666,
              "#ed7953"
             ],
             [
              0.7777777777777778,
              "#fb9f3a"
             ],
             [
              0.8888888888888888,
              "#fdca26"
             ],
             [
              1,
              "#f0f921"
             ]
            ],
            "type": "histogram2d"
           }
          ],
          "histogram2dcontour": [
           {
            "colorbar": {
             "outlinewidth": 0,
             "ticks": ""
            },
            "colorscale": [
             [
              0,
              "#0d0887"
             ],
             [
              0.1111111111111111,
              "#46039f"
             ],
             [
              0.2222222222222222,
              "#7201a8"
             ],
             [
              0.3333333333333333,
              "#9c179e"
             ],
             [
              0.4444444444444444,
              "#bd3786"
             ],
             [
              0.5555555555555556,
              "#d8576b"
             ],
             [
              0.6666666666666666,
              "#ed7953"
             ],
             [
              0.7777777777777778,
              "#fb9f3a"
             ],
             [
              0.8888888888888888,
              "#fdca26"
             ],
             [
              1,
              "#f0f921"
             ]
            ],
            "type": "histogram2dcontour"
           }
          ],
          "mesh3d": [
           {
            "colorbar": {
             "outlinewidth": 0,
             "ticks": ""
            },
            "type": "mesh3d"
           }
          ],
          "parcoords": [
           {
            "line": {
             "colorbar": {
              "outlinewidth": 0,
              "ticks": ""
             }
            },
            "type": "parcoords"
           }
          ],
          "pie": [
           {
            "automargin": true,
            "type": "pie"
           }
          ],
          "scatter": [
           {
            "fillpattern": {
             "fillmode": "overlay",
             "size": 10,
             "solidity": 0.2
            },
            "type": "scatter"
           }
          ],
          "scatter3d": [
           {
            "line": {
             "colorbar": {
              "outlinewidth": 0,
              "ticks": ""
             }
            },
            "marker": {
             "colorbar": {
              "outlinewidth": 0,
              "ticks": ""
             }
            },
            "type": "scatter3d"
           }
          ],
          "scattercarpet": [
           {
            "marker": {
             "colorbar": {
              "outlinewidth": 0,
              "ticks": ""
             }
            },
            "type": "scattercarpet"
           }
          ],
          "scattergeo": [
           {
            "marker": {
             "colorbar": {
              "outlinewidth": 0,
              "ticks": ""
             }
            },
            "type": "scattergeo"
           }
          ],
          "scattergl": [
           {
            "marker": {
             "colorbar": {
              "outlinewidth": 0,
              "ticks": ""
             }
            },
            "type": "scattergl"
           }
          ],
          "scattermapbox": [
           {
            "marker": {
             "colorbar": {
              "outlinewidth": 0,
              "ticks": ""
             }
            },
            "type": "scattermapbox"
           }
          ],
          "scatterpolar": [
           {
            "marker": {
             "colorbar": {
              "outlinewidth": 0,
              "ticks": ""
             }
            },
            "type": "scatterpolar"
           }
          ],
          "scatterpolargl": [
           {
            "marker": {
             "colorbar": {
              "outlinewidth": 0,
              "ticks": ""
             }
            },
            "type": "scatterpolargl"
           }
          ],
          "scatterternary": [
           {
            "marker": {
             "colorbar": {
              "outlinewidth": 0,
              "ticks": ""
             }
            },
            "type": "scatterternary"
           }
          ],
          "surface": [
           {
            "colorbar": {
             "outlinewidth": 0,
             "ticks": ""
            },
            "colorscale": [
             [
              0,
              "#0d0887"
             ],
             [
              0.1111111111111111,
              "#46039f"
             ],
             [
              0.2222222222222222,
              "#7201a8"
             ],
             [
              0.3333333333333333,
              "#9c179e"
             ],
             [
              0.4444444444444444,
              "#bd3786"
             ],
             [
              0.5555555555555556,
              "#d8576b"
             ],
             [
              0.6666666666666666,
              "#ed7953"
             ],
             [
              0.7777777777777778,
              "#fb9f3a"
             ],
             [
              0.8888888888888888,
              "#fdca26"
             ],
             [
              1,
              "#f0f921"
             ]
            ],
            "type": "surface"
           }
          ],
          "table": [
           {
            "cells": {
             "fill": {
              "color": "#EBF0F8"
             },
             "line": {
              "color": "white"
             }
            },
            "header": {
             "fill": {
              "color": "#C8D4E3"
             },
             "line": {
              "color": "white"
             }
            },
            "type": "table"
           }
          ]
         },
         "layout": {
          "annotationdefaults": {
           "arrowcolor": "#2a3f5f",
           "arrowhead": 0,
           "arrowwidth": 1
          },
          "autotypenumbers": "strict",
          "coloraxis": {
           "colorbar": {
            "outlinewidth": 0,
            "ticks": ""
           }
          },
          "colorscale": {
           "diverging": [
            [
             0,
             "#8e0152"
            ],
            [
             0.1,
             "#c51b7d"
            ],
            [
             0.2,
             "#de77ae"
            ],
            [
             0.3,
             "#f1b6da"
            ],
            [
             0.4,
             "#fde0ef"
            ],
            [
             0.5,
             "#f7f7f7"
            ],
            [
             0.6,
             "#e6f5d0"
            ],
            [
             0.7,
             "#b8e186"
            ],
            [
             0.8,
             "#7fbc41"
            ],
            [
             0.9,
             "#4d9221"
            ],
            [
             1,
             "#276419"
            ]
           ],
           "sequential": [
            [
             0,
             "#0d0887"
            ],
            [
             0.1111111111111111,
             "#46039f"
            ],
            [
             0.2222222222222222,
             "#7201a8"
            ],
            [
             0.3333333333333333,
             "#9c179e"
            ],
            [
             0.4444444444444444,
             "#bd3786"
            ],
            [
             0.5555555555555556,
             "#d8576b"
            ],
            [
             0.6666666666666666,
             "#ed7953"
            ],
            [
             0.7777777777777778,
             "#fb9f3a"
            ],
            [
             0.8888888888888888,
             "#fdca26"
            ],
            [
             1,
             "#f0f921"
            ]
           ],
           "sequentialminus": [
            [
             0,
             "#0d0887"
            ],
            [
             0.1111111111111111,
             "#46039f"
            ],
            [
             0.2222222222222222,
             "#7201a8"
            ],
            [
             0.3333333333333333,
             "#9c179e"
            ],
            [
             0.4444444444444444,
             "#bd3786"
            ],
            [
             0.5555555555555556,
             "#d8576b"
            ],
            [
             0.6666666666666666,
             "#ed7953"
            ],
            [
             0.7777777777777778,
             "#fb9f3a"
            ],
            [
             0.8888888888888888,
             "#fdca26"
            ],
            [
             1,
             "#f0f921"
            ]
           ]
          },
          "colorway": [
           "#636efa",
           "#EF553B",
           "#00cc96",
           "#ab63fa",
           "#FFA15A",
           "#19d3f3",
           "#FF6692",
           "#B6E880",
           "#FF97FF",
           "#FECB52"
          ],
          "font": {
           "color": "#2a3f5f"
          },
          "geo": {
           "bgcolor": "white",
           "lakecolor": "white",
           "landcolor": "#E5ECF6",
           "showlakes": true,
           "showland": true,
           "subunitcolor": "white"
          },
          "hoverlabel": {
           "align": "left"
          },
          "hovermode": "closest",
          "mapbox": {
           "style": "light"
          },
          "paper_bgcolor": "white",
          "plot_bgcolor": "#E5ECF6",
          "polar": {
           "angularaxis": {
            "gridcolor": "white",
            "linecolor": "white",
            "ticks": ""
           },
           "bgcolor": "#E5ECF6",
           "radialaxis": {
            "gridcolor": "white",
            "linecolor": "white",
            "ticks": ""
           }
          },
          "scene": {
           "xaxis": {
            "backgroundcolor": "#E5ECF6",
            "gridcolor": "white",
            "gridwidth": 2,
            "linecolor": "white",
            "showbackground": true,
            "ticks": "",
            "zerolinecolor": "white"
           },
           "yaxis": {
            "backgroundcolor": "#E5ECF6",
            "gridcolor": "white",
            "gridwidth": 2,
            "linecolor": "white",
            "showbackground": true,
            "ticks": "",
            "zerolinecolor": "white"
           },
           "zaxis": {
            "backgroundcolor": "#E5ECF6",
            "gridcolor": "white",
            "gridwidth": 2,
            "linecolor": "white",
            "showbackground": true,
            "ticks": "",
            "zerolinecolor": "white"
           }
          },
          "shapedefaults": {
           "line": {
            "color": "#2a3f5f"
           }
          },
          "ternary": {
           "aaxis": {
            "gridcolor": "white",
            "linecolor": "white",
            "ticks": ""
           },
           "baxis": {
            "gridcolor": "white",
            "linecolor": "white",
            "ticks": ""
           },
           "bgcolor": "#E5ECF6",
           "caxis": {
            "gridcolor": "white",
            "linecolor": "white",
            "ticks": ""
           }
          },
          "title": {
           "x": 0.05
          },
          "xaxis": {
           "automargin": true,
           "gridcolor": "white",
           "linecolor": "white",
           "ticks": "",
           "title": {
            "standoff": 15
           },
           "zerolinecolor": "white",
           "zerolinewidth": 2
          },
          "yaxis": {
           "automargin": true,
           "gridcolor": "white",
           "linecolor": "white",
           "ticks": "",
           "title": {
            "standoff": 15
           },
           "zerolinecolor": "white",
           "zerolinewidth": 2
          }
         }
        },
        "title": {
         "text": "Número de IPS por Municipio - 2022"
        },
        "width": 800,
        "xaxis": {
         "anchor": "y",
         "domain": [
          0,
          1
         ],
         "range": [
          0,
          3200
         ],
         "title": {
          "text": "Número de IPS"
         }
        },
        "yaxis": {
         "anchor": "x",
         "domain": [
          0,
          1
         ],
         "title": {
          "text": "Municipio"
         }
        }
       }
      }
     },
     "metadata": {},
     "output_type": "display_data"
    }
   ],
   "source": [
    "top_bars = 30\n",
    "fig = px.bar(data_frame=df_num_reps.iloc[-top_bars:], \n",
    "             x='IPS_2022', \n",
    "             y='Municipio_Departamento', \n",
    "             orientation='h')\n",
    "\n",
    "fig.update_xaxes(title_text='Número de IPS')\n",
    "fig.update_xaxes(range=[0,3200])\n",
    "fig.update_yaxes(title_text='Municipio')\n",
    "fig.update_layout(title='Número de IPS por Municipio - 2022')\n",
    "\n",
    "color_sequence = ['#3364C7' for i in df_num_reps['Municipio_Departamento']]\n",
    "fig.update_traces(marker=dict(color=color_sequence))\n",
    "\n",
    "fig.update_traces(text=df_num_reps['IPS_2022'].iloc[-top_bars:], textposition='outside')\n",
    "\n",
    "# fig.update_layout(plot_bgcolor='rgba(0,0,0,0)')\n",
    "\n",
    "fig.update_layout(width=800, height=700)\n",
    "\n",
    "fig.show()"
   ]
  },
  {
   "cell_type": "code",
   "execution_count": 205,
   "metadata": {},
   "outputs": [
    {
     "data": {
      "application/vnd.plotly.v1+json": {
       "config": {
        "plotlyServerURL": "https://plot.ly"
       },
       "data": [
        {
         "alignmentgroup": "True",
         "hovertemplate": "IPS_2022=%{x}<br>Municipio_Departamento=%{y}<extra></extra>",
         "legendgroup": "",
         "marker": {
          "color": [
           "#3364C7",
           "#3364C7",
           "#3364C7",
           "#3364C7",
           "#3364C7",
           "#3364C7",
           "#3364C7",
           "#3364C7",
           "#3364C7",
           "#3364C7",
           "#3364C7",
           "#3364C7",
           "#3364C7",
           "#3364C7",
           "#3364C7",
           "#3364C7",
           "#3364C7",
           "#3364C7",
           "#3364C7",
           "#3364C7",
           "#3364C7",
           "#3364C7",
           "#3364C7",
           "#3364C7",
           "#3364C7",
           "#3364C7",
           "#3364C7",
           "#3364C7",
           "#3364C7",
           "#3364C7",
           "#3364C7",
           "#3364C7",
           "#3364C7",
           "#3364C7",
           "#3364C7",
           "#3364C7",
           "#3364C7",
           "#3364C7",
           "#3364C7",
           "#3364C7",
           "#3364C7",
           "#3364C7",
           "#3364C7",
           "#3364C7",
           "#3364C7",
           "#3364C7",
           "#3364C7",
           "#3364C7",
           "#3364C7",
           "#3364C7",
           "#3364C7",
           "#3364C7",
           "#3364C7",
           "#3364C7",
           "#3364C7",
           "#3364C7",
           "#3364C7",
           "#3364C7",
           "#3364C7",
           "#3364C7",
           "#3364C7",
           "#3364C7",
           "#3364C7",
           "#3364C7",
           "#3364C7",
           "#3364C7",
           "#3364C7",
           "#3364C7",
           "#3364C7",
           "#3364C7",
           "#3364C7",
           "#3364C7",
           "#3364C7",
           "#3364C7",
           "#3364C7",
           "#3364C7",
           "#3364C7",
           "#3364C7",
           "#3364C7",
           "#3364C7",
           "#3364C7",
           "#3364C7",
           "#3364C7",
           "#3364C7",
           "#3364C7",
           "#3364C7",
           "#3364C7",
           "#3364C7",
           "#3364C7",
           "#3364C7",
           "#3364C7",
           "#3364C7",
           "#3364C7",
           "#3364C7",
           "#3364C7",
           "#3364C7",
           "#3364C7",
           "#3364C7",
           "#3364C7",
           "#3364C7",
           "#3364C7",
           "#3364C7",
           "#3364C7",
           "#3364C7",
           "#3364C7",
           "#3364C7",
           "#3364C7",
           "#3364C7",
           "#3364C7",
           "#3364C7",
           "#3364C7",
           "#3364C7",
           "#3364C7",
           "#3364C7",
           "#3364C7",
           "#3364C7",
           "#3364C7",
           "#3364C7",
           "#3364C7",
           "#3364C7",
           "#3364C7",
           "#3364C7",
           "#3364C7",
           "#3364C7",
           "#3364C7",
           "#3364C7",
           "#3364C7",
           "#3364C7",
           "#3364C7",
           "#3364C7",
           "#3364C7",
           "#3364C7",
           "#3364C7",
           "#3364C7",
           "#3364C7",
           "#3364C7",
           "#3364C7",
           "#3364C7",
           "#3364C7",
           "#3364C7",
           "#3364C7",
           "#3364C7",
           "#3364C7",
           "#3364C7",
           "#3364C7",
           "#3364C7",
           "#3364C7",
           "#3364C7",
           "#3364C7",
           "#3364C7",
           "#3364C7",
           "#3364C7",
           "#3364C7",
           "#3364C7",
           "#3364C7",
           "#3364C7",
           "#3364C7",
           "#3364C7",
           "#3364C7",
           "#3364C7",
           "#3364C7",
           "#3364C7",
           "#3364C7",
           "#3364C7",
           "#3364C7",
           "#3364C7",
           "#3364C7",
           "#3364C7",
           "#3364C7",
           "#3364C7",
           "#3364C7",
           "#3364C7",
           "#3364C7",
           "#3364C7",
           "#3364C7",
           "#3364C7",
           "#3364C7",
           "#3364C7",
           "#3364C7",
           "#3364C7",
           "#3364C7",
           "#3364C7",
           "#3364C7",
           "#3364C7",
           "#3364C7",
           "#3364C7",
           "#3364C7",
           "#3364C7",
           "#3364C7",
           "#3364C7",
           "#3364C7",
           "#3364C7",
           "#3364C7",
           "#3364C7",
           "#3364C7",
           "#3364C7",
           "#3364C7",
           "#3364C7",
           "#3364C7",
           "#3364C7",
           "#3364C7",
           "#3364C7",
           "#3364C7",
           "#3364C7",
           "#3364C7",
           "#3364C7",
           "#3364C7",
           "#3364C7",
           "#3364C7",
           "#3364C7",
           "#3364C7",
           "#3364C7",
           "#3364C7",
           "#3364C7",
           "#3364C7",
           "#3364C7",
           "#3364C7",
           "#3364C7",
           "#3364C7",
           "#3364C7",
           "#3364C7",
           "#3364C7",
           "#3364C7",
           "#3364C7",
           "#3364C7",
           "#3364C7",
           "#3364C7",
           "#3364C7",
           "#3364C7",
           "#3364C7",
           "#3364C7",
           "#3364C7",
           "#3364C7",
           "#3364C7",
           "#3364C7",
           "#3364C7",
           "#3364C7",
           "#3364C7",
           "#3364C7",
           "#3364C7",
           "#3364C7",
           "#3364C7",
           "#3364C7",
           "#3364C7",
           "#3364C7",
           "#3364C7",
           "#3364C7",
           "#3364C7",
           "#3364C7",
           "#3364C7",
           "#3364C7",
           "#3364C7",
           "#3364C7",
           "#3364C7",
           "#3364C7",
           "#3364C7",
           "#3364C7",
           "#3364C7",
           "#3364C7",
           "#3364C7",
           "#3364C7",
           "#3364C7",
           "#3364C7",
           "#3364C7",
           "#3364C7",
           "#3364C7",
           "#3364C7",
           "#3364C7",
           "#3364C7",
           "#3364C7",
           "#3364C7",
           "#3364C7",
           "#3364C7",
           "#3364C7",
           "#3364C7",
           "#3364C7",
           "#3364C7",
           "#3364C7",
           "#3364C7",
           "#3364C7",
           "#3364C7",
           "#3364C7",
           "#3364C7",
           "#3364C7",
           "#3364C7",
           "#3364C7",
           "#3364C7",
           "#3364C7",
           "#3364C7",
           "#3364C7",
           "#3364C7",
           "#3364C7",
           "#3364C7",
           "#3364C7",
           "#3364C7",
           "#3364C7",
           "#3364C7",
           "#3364C7",
           "#3364C7",
           "#3364C7",
           "#3364C7",
           "#3364C7",
           "#3364C7",
           "#3364C7",
           "#3364C7",
           "#3364C7",
           "#3364C7",
           "#3364C7",
           "#3364C7",
           "#3364C7",
           "#3364C7",
           "#3364C7",
           "#3364C7",
           "#3364C7",
           "#3364C7",
           "#3364C7",
           "#3364C7",
           "#3364C7",
           "#3364C7",
           "#3364C7",
           "#3364C7",
           "#3364C7",
           "#3364C7",
           "#3364C7",
           "#3364C7",
           "#3364C7",
           "#3364C7",
           "#3364C7",
           "#3364C7",
           "#3364C7",
           "#3364C7",
           "#3364C7",
           "#3364C7",
           "#3364C7",
           "#3364C7",
           "#3364C7",
           "#3364C7",
           "#3364C7",
           "#3364C7",
           "#3364C7",
           "#3364C7",
           "#3364C7",
           "#3364C7",
           "#3364C7",
           "#3364C7",
           "#3364C7",
           "#3364C7",
           "#3364C7",
           "#3364C7",
           "#3364C7",
           "#3364C7",
           "#3364C7",
           "#3364C7",
           "#3364C7",
           "#3364C7",
           "#3364C7",
           "#3364C7",
           "#3364C7",
           "#3364C7",
           "#3364C7",
           "#3364C7",
           "#3364C7",
           "#3364C7",
           "#3364C7",
           "#3364C7",
           "#3364C7",
           "#3364C7",
           "#3364C7",
           "#3364C7",
           "#3364C7",
           "#3364C7",
           "#3364C7",
           "#3364C7",
           "#3364C7",
           "#3364C7",
           "#3364C7",
           "#3364C7",
           "#3364C7",
           "#3364C7",
           "#3364C7",
           "#3364C7",
           "#3364C7",
           "#3364C7",
           "#3364C7",
           "#3364C7",
           "#3364C7",
           "#3364C7",
           "#3364C7",
           "#3364C7",
           "#3364C7",
           "#3364C7",
           "#3364C7",
           "#3364C7",
           "#3364C7",
           "#3364C7",
           "#3364C7",
           "#3364C7",
           "#3364C7",
           "#3364C7",
           "#3364C7",
           "#3364C7",
           "#3364C7",
           "#3364C7",
           "#3364C7",
           "#3364C7",
           "#3364C7",
           "#3364C7",
           "#3364C7",
           "#3364C7",
           "#3364C7",
           "#3364C7",
           "#3364C7",
           "#3364C7",
           "#3364C7",
           "#3364C7",
           "#3364C7",
           "#3364C7",
           "#3364C7",
           "#3364C7",
           "#3364C7",
           "#3364C7",
           "#3364C7",
           "#3364C7",
           "#3364C7",
           "#3364C7",
           "#3364C7",
           "#3364C7",
           "#3364C7",
           "#3364C7",
           "#3364C7",
           "#3364C7",
           "#3364C7",
           "#3364C7",
           "#3364C7",
           "#3364C7",
           "#3364C7",
           "#3364C7",
           "#3364C7",
           "#3364C7",
           "#3364C7",
           "#3364C7",
           "#3364C7",
           "#3364C7",
           "#3364C7",
           "#3364C7",
           "#3364C7",
           "#3364C7",
           "#3364C7",
           "#3364C7",
           "#3364C7",
           "#3364C7",
           "#3364C7",
           "#3364C7",
           "#3364C7",
           "#3364C7",
           "#3364C7",
           "#3364C7",
           "#3364C7",
           "#3364C7",
           "#3364C7",
           "#3364C7",
           "#3364C7",
           "#3364C7",
           "#3364C7",
           "#3364C7",
           "#3364C7",
           "#3364C7",
           "#3364C7",
           "#3364C7",
           "#3364C7",
           "#3364C7",
           "#3364C7",
           "#3364C7",
           "#3364C7",
           "#3364C7",
           "#3364C7",
           "#3364C7",
           "#3364C7",
           "#3364C7",
           "#3364C7",
           "#3364C7",
           "#3364C7",
           "#3364C7",
           "#3364C7",
           "#3364C7",
           "#3364C7",
           "#3364C7",
           "#3364C7",
           "#3364C7",
           "#3364C7",
           "#3364C7",
           "#3364C7",
           "#3364C7",
           "#3364C7",
           "#3364C7",
           "#3364C7",
           "#3364C7",
           "#3364C7",
           "#3364C7",
           "#3364C7",
           "#3364C7",
           "#3364C7",
           "#3364C7",
           "#3364C7",
           "#3364C7",
           "#3364C7",
           "#3364C7",
           "#3364C7",
           "#3364C7",
           "#3364C7",
           "#3364C7",
           "#3364C7",
           "#3364C7",
           "#3364C7",
           "#3364C7",
           "#3364C7",
           "#3364C7",
           "#3364C7",
           "#3364C7",
           "#3364C7",
           "#3364C7",
           "#3364C7",
           "#3364C7",
           "#3364C7",
           "#3364C7",
           "#3364C7",
           "#3364C7",
           "#3364C7",
           "#3364C7",
           "#3364C7",
           "#3364C7",
           "#3364C7",
           "#3364C7",
           "#3364C7",
           "#3364C7",
           "#3364C7",
           "#3364C7",
           "#3364C7",
           "#3364C7",
           "#3364C7",
           "#3364C7",
           "#3364C7",
           "#3364C7",
           "#3364C7",
           "#3364C7",
           "#3364C7",
           "#3364C7",
           "#3364C7",
           "#3364C7",
           "#3364C7",
           "#3364C7",
           "#3364C7",
           "#3364C7",
           "#3364C7",
           "#3364C7",
           "#3364C7",
           "#3364C7",
           "#3364C7",
           "#3364C7",
           "#3364C7",
           "#3364C7",
           "#3364C7",
           "#3364C7",
           "#3364C7",
           "#3364C7",
           "#3364C7",
           "#3364C7",
           "#3364C7",
           "#3364C7",
           "#3364C7",
           "#3364C7",
           "#3364C7",
           "#3364C7",
           "#3364C7",
           "#3364C7",
           "#3364C7",
           "#3364C7",
           "#3364C7",
           "#3364C7",
           "#3364C7",
           "#3364C7",
           "#3364C7",
           "#3364C7",
           "#3364C7",
           "#3364C7",
           "#3364C7",
           "#3364C7",
           "#3364C7",
           "#3364C7",
           "#3364C7",
           "#3364C7",
           "#3364C7",
           "#3364C7",
           "#3364C7",
           "#3364C7",
           "#3364C7",
           "#3364C7",
           "#3364C7",
           "#3364C7",
           "#3364C7",
           "#3364C7",
           "#3364C7",
           "#3364C7",
           "#3364C7",
           "#3364C7",
           "#3364C7",
           "#3364C7",
           "#3364C7",
           "#3364C7",
           "#3364C7",
           "#3364C7",
           "#3364C7",
           "#3364C7",
           "#3364C7",
           "#3364C7",
           "#3364C7",
           "#3364C7",
           "#3364C7",
           "#3364C7",
           "#3364C7",
           "#3364C7",
           "#3364C7",
           "#3364C7",
           "#3364C7",
           "#3364C7",
           "#3364C7",
           "#3364C7",
           "#3364C7",
           "#3364C7",
           "#3364C7",
           "#3364C7",
           "#3364C7",
           "#3364C7",
           "#3364C7",
           "#3364C7",
           "#3364C7",
           "#3364C7",
           "#3364C7",
           "#3364C7",
           "#3364C7",
           "#3364C7",
           "#3364C7",
           "#3364C7",
           "#3364C7",
           "#3364C7",
           "#3364C7",
           "#3364C7",
           "#3364C7",
           "#3364C7",
           "#3364C7",
           "#3364C7",
           "#3364C7",
           "#3364C7",
           "#3364C7",
           "#3364C7",
           "#3364C7",
           "#3364C7",
           "#3364C7",
           "#3364C7",
           "#3364C7",
           "#3364C7",
           "#3364C7",
           "#3364C7",
           "#3364C7",
           "#3364C7",
           "#3364C7",
           "#3364C7",
           "#3364C7",
           "#3364C7",
           "#3364C7",
           "#3364C7",
           "#3364C7",
           "#3364C7",
           "#3364C7",
           "#3364C7",
           "#3364C7",
           "#3364C7",
           "#3364C7",
           "#3364C7",
           "#3364C7",
           "#3364C7",
           "#3364C7",
           "#3364C7",
           "#3364C7",
           "#3364C7",
           "#3364C7",
           "#3364C7",
           "#3364C7",
           "#3364C7",
           "#3364C7",
           "#3364C7",
           "#3364C7",
           "#3364C7",
           "#3364C7",
           "#3364C7",
           "#3364C7",
           "#3364C7",
           "#3364C7",
           "#3364C7",
           "#3364C7",
           "#3364C7",
           "#3364C7",
           "#3364C7",
           "#3364C7",
           "#3364C7",
           "#3364C7",
           "#3364C7",
           "#3364C7",
           "#3364C7",
           "#3364C7",
           "#3364C7",
           "#3364C7",
           "#3364C7",
           "#3364C7",
           "#3364C7",
           "#3364C7",
           "#3364C7",
           "#3364C7",
           "#3364C7",
           "#3364C7",
           "#3364C7",
           "#3364C7",
           "#3364C7",
           "#3364C7",
           "#3364C7",
           "#3364C7",
           "#3364C7",
           "#3364C7",
           "#3364C7",
           "#3364C7",
           "#3364C7",
           "#3364C7",
           "#3364C7",
           "#3364C7",
           "#3364C7",
           "#3364C7",
           "#3364C7",
           "#3364C7",
           "#3364C7",
           "#3364C7",
           "#3364C7",
           "#3364C7",
           "#3364C7",
           "#3364C7",
           "#3364C7",
           "#3364C7",
           "#3364C7",
           "#3364C7",
           "#3364C7",
           "#3364C7",
           "#3364C7",
           "#3364C7",
           "#3364C7",
           "#3364C7",
           "#3364C7",
           "#3364C7",
           "#3364C7",
           "#3364C7",
           "#3364C7",
           "#3364C7",
           "#3364C7",
           "#3364C7",
           "#3364C7",
           "#3364C7",
           "#3364C7",
           "#3364C7",
           "#3364C7",
           "#3364C7",
           "#3364C7",
           "#3364C7",
           "#3364C7",
           "#3364C7",
           "#3364C7",
           "#3364C7",
           "#3364C7",
           "#3364C7",
           "#3364C7",
           "#3364C7",
           "#3364C7",
           "#3364C7",
           "#3364C7",
           "#3364C7",
           "#3364C7",
           "#3364C7",
           "#3364C7",
           "#3364C7",
           "#3364C7",
           "#3364C7",
           "#3364C7",
           "#3364C7",
           "#3364C7",
           "#3364C7",
           "#3364C7",
           "#3364C7",
           "#3364C7",
           "#3364C7",
           "#3364C7",
           "#3364C7",
           "#3364C7",
           "#3364C7",
           "#3364C7",
           "#3364C7",
           "#3364C7",
           "#3364C7",
           "#3364C7",
           "#3364C7",
           "#3364C7",
           "#3364C7",
           "#3364C7",
           "#3364C7",
           "#3364C7",
           "#3364C7",
           "#3364C7",
           "#3364C7",
           "#3364C7",
           "#3364C7",
           "#3364C7",
           "#3364C7",
           "#3364C7",
           "#3364C7",
           "#3364C7",
           "#3364C7",
           "#3364C7",
           "#3364C7",
           "#3364C7",
           "#3364C7",
           "#3364C7",
           "#3364C7",
           "#3364C7",
           "#3364C7",
           "#3364C7",
           "#3364C7",
           "#3364C7",
           "#3364C7",
           "#3364C7",
           "#3364C7",
           "#3364C7",
           "#3364C7",
           "#3364C7",
           "#3364C7",
           "#3364C7",
           "#3364C7",
           "#3364C7",
           "#3364C7",
           "#3364C7",
           "#3364C7",
           "#3364C7",
           "#3364C7",
           "#3364C7",
           "#3364C7",
           "#3364C7",
           "#3364C7",
           "#3364C7",
           "#3364C7",
           "#3364C7",
           "#3364C7",
           "#3364C7",
           "#3364C7",
           "#3364C7",
           "#3364C7",
           "#3364C7",
           "#3364C7",
           "#3364C7",
           "#3364C7",
           "#3364C7",
           "#3364C7",
           "#3364C7",
           "#3364C7",
           "#3364C7",
           "#3364C7",
           "#3364C7",
           "#3364C7",
           "#3364C7",
           "#3364C7",
           "#3364C7",
           "#3364C7",
           "#3364C7",
           "#3364C7",
           "#3364C7",
           "#3364C7",
           "#3364C7",
           "#3364C7",
           "#3364C7",
           "#3364C7",
           "#3364C7",
           "#3364C7",
           "#3364C7",
           "#3364C7",
           "#3364C7",
           "#3364C7",
           "#3364C7",
           "#3364C7",
           "#3364C7",
           "#3364C7",
           "#3364C7",
           "#3364C7",
           "#3364C7",
           "#3364C7",
           "#3364C7",
           "#3364C7",
           "#3364C7",
           "#3364C7",
           "#3364C7",
           "#3364C7",
           "#3364C7",
           "#3364C7",
           "#3364C7",
           "#3364C7",
           "#3364C7",
           "#3364C7",
           "#3364C7",
           "#3364C7",
           "#3364C7",
           "#3364C7",
           "#3364C7",
           "#3364C7",
           "#3364C7",
           "#3364C7",
           "#3364C7",
           "#3364C7",
           "#3364C7",
           "#3364C7",
           "#3364C7",
           "#3364C7",
           "#3364C7",
           "#3364C7",
           "#3364C7",
           "#3364C7",
           "#3364C7",
           "#3364C7",
           "#3364C7",
           "#3364C7",
           "#3364C7",
           "#3364C7",
           "#3364C7",
           "#3364C7",
           "#3364C7",
           "#3364C7",
           "#3364C7",
           "#3364C7",
           "#3364C7",
           "#3364C7",
           "#3364C7",
           "#3364C7",
           "#3364C7",
           "#3364C7",
           "#3364C7",
           "#3364C7",
           "#3364C7",
           "#3364C7",
           "#3364C7",
           "#3364C7",
           "#3364C7",
           "#3364C7",
           "#3364C7",
           "#3364C7",
           "#3364C7",
           "#3364C7",
           "#3364C7",
           "#3364C7",
           "#3364C7",
           "#3364C7",
           "#3364C7",
           "#3364C7",
           "#3364C7",
           "#3364C7",
           "#3364C7",
           "#3364C7",
           "#3364C7",
           "#3364C7",
           "#3364C7",
           "#3364C7",
           "#3364C7",
           "#3364C7",
           "#3364C7",
           "#3364C7",
           "#3364C7",
           "#3364C7",
           "#3364C7",
           "#3364C7",
           "#3364C7",
           "#3364C7",
           "#3364C7",
           "#3364C7",
           "#3364C7",
           "#3364C7",
           "#3364C7",
           "#3364C7",
           "#3364C7",
           "#3364C7",
           "#3364C7",
           "#3364C7",
           "#3364C7",
           "#3364C7",
           "#3364C7",
           "#3364C7",
           "#3364C7",
           "#3364C7",
           "#3364C7",
           "#3364C7",
           "#3364C7",
           "#3364C7",
           "#3364C7",
           "#3364C7",
           "#3364C7",
           "#3364C7",
           "#3364C7",
           "#3364C7",
           "#3364C7",
           "#3364C7",
           "#3364C7",
           "#3364C7",
           "#3364C7",
           "#3364C7",
           "#3364C7",
           "#3364C7",
           "#3364C7",
           "#3364C7",
           "#3364C7",
           "#3364C7",
           "#3364C7",
           "#3364C7",
           "#3364C7",
           "#3364C7",
           "#3364C7",
           "#3364C7",
           "#3364C7",
           "#3364C7",
           "#3364C7",
           "#3364C7",
           "#3364C7",
           "#3364C7",
           "#3364C7",
           "#3364C7",
           "#3364C7",
           "#3364C7",
           "#3364C7",
           "#3364C7",
           "#3364C7",
           "#3364C7",
           "#3364C7",
           "#3364C7",
           "#3364C7",
           "#3364C7",
           "#3364C7",
           "#3364C7",
           "#3364C7",
           "#3364C7",
           "#3364C7",
           "#3364C7",
           "#3364C7",
           "#3364C7",
           "#3364C7",
           "#3364C7",
           "#3364C7",
           "#3364C7",
           "#3364C7",
           "#3364C7",
           "#3364C7",
           "#3364C7",
           "#3364C7",
           "#3364C7",
           "#3364C7",
           "#3364C7",
           "#3364C7",
           "#3364C7",
           "#3364C7",
           "#3364C7",
           "#3364C7",
           "#3364C7",
           "#3364C7",
           "#3364C7",
           "#3364C7",
           "#3364C7",
           "#3364C7",
           "#3364C7",
           "#3364C7",
           "#3364C7",
           "#3364C7",
           "#3364C7",
           "#3364C7",
           "#3364C7",
           "#3364C7",
           "#3364C7",
           "#3364C7",
           "#3364C7",
           "#3364C7",
           "#3364C7",
           "#3364C7",
           "#3364C7",
           "#3364C7",
           "#3364C7",
           "#3364C7",
           "#3364C7",
           "#3364C7",
           "#3364C7",
           "#3364C7",
           "#3364C7",
           "#3364C7",
           "#3364C7",
           "#3364C7",
           "#3364C7",
           "#3364C7",
           "#3364C7",
           "#3364C7",
           "#3364C7",
           "#3364C7",
           "#3364C7",
           "#3364C7",
           "#3364C7",
           "#3364C7",
           "#3364C7",
           "#3364C7",
           "#3364C7",
           "#3364C7",
           "#3364C7"
          ],
          "pattern": {
           "shape": ""
          }
         },
         "name": "",
         "offsetgroup": "",
         "orientation": "h",
         "showlegend": false,
         "text": [
          1,
          1,
          1,
          1,
          1,
          1,
          1,
          1,
          1,
          1,
          1,
          1,
          1,
          1,
          1,
          1,
          1,
          1,
          1,
          1,
          1,
          1,
          1,
          1,
          1,
          1,
          1,
          1,
          1,
          1
         ],
         "textposition": "outside",
         "type": "bar",
         "x": [
          1,
          1,
          1,
          1,
          1,
          1,
          1,
          1,
          1,
          1,
          1,
          1,
          1,
          1,
          1,
          1,
          1,
          1,
          1,
          1,
          1,
          1,
          1,
          1,
          1,
          1,
          1,
          1,
          1,
          1
         ],
         "xaxis": "x",
         "y": [
          "Firavitoba (Boyacá)",
          "Saboyá (Boyacá)",
          "Solita (Caquetá)",
          "El Castillo (Meta)",
          "Somondoco (Boyacá)",
          "Sabanalarga (Casanare)",
          "Sabanalarga (Antioquia)",
          "Ráquira (Boyacá)",
          "Rovira (Tolima)",
          "Sora (Boyacá)",
          "El Calvario (Meta)",
          "Saladoblanco (Huila)",
          "El Cairo (Valle del cauca)",
          "Rondón (Boyacá)",
          "Durania (Norte de Santander)",
          "Roncesvalles (Tolima)",
          "Manta (Cundinamarca)",
          "Dolores (Tolima)",
          "Risaralda (Caldas)",
          "Suaza (Huila)",
          "Sucre (Cauca)",
          "Margarita (Bolívar)",
          "Córdoba (Quindío)",
          "Soracá (Boyacá)",
          "Marmato (Caldas)",
          "Socotá (Boyacá)",
          "Machetá (Cundinamarca)",
          "Liborina (Antioquia)",
          "Sasaima (Cundinamarca)",
          "Sativanorte (Boyacá)"
         ],
         "yaxis": "y"
        }
       ],
       "layout": {
        "barmode": "relative",
        "height": 700,
        "legend": {
         "tracegroupgap": 0
        },
        "margin": {
         "t": 60
        },
        "template": {
         "data": {
          "bar": [
           {
            "error_x": {
             "color": "#2a3f5f"
            },
            "error_y": {
             "color": "#2a3f5f"
            },
            "marker": {
             "line": {
              "color": "#E5ECF6",
              "width": 0.5
             },
             "pattern": {
              "fillmode": "overlay",
              "size": 10,
              "solidity": 0.2
             }
            },
            "type": "bar"
           }
          ],
          "barpolar": [
           {
            "marker": {
             "line": {
              "color": "#E5ECF6",
              "width": 0.5
             },
             "pattern": {
              "fillmode": "overlay",
              "size": 10,
              "solidity": 0.2
             }
            },
            "type": "barpolar"
           }
          ],
          "carpet": [
           {
            "aaxis": {
             "endlinecolor": "#2a3f5f",
             "gridcolor": "white",
             "linecolor": "white",
             "minorgridcolor": "white",
             "startlinecolor": "#2a3f5f"
            },
            "baxis": {
             "endlinecolor": "#2a3f5f",
             "gridcolor": "white",
             "linecolor": "white",
             "minorgridcolor": "white",
             "startlinecolor": "#2a3f5f"
            },
            "type": "carpet"
           }
          ],
          "choropleth": [
           {
            "colorbar": {
             "outlinewidth": 0,
             "ticks": ""
            },
            "type": "choropleth"
           }
          ],
          "contour": [
           {
            "colorbar": {
             "outlinewidth": 0,
             "ticks": ""
            },
            "colorscale": [
             [
              0,
              "#0d0887"
             ],
             [
              0.1111111111111111,
              "#46039f"
             ],
             [
              0.2222222222222222,
              "#7201a8"
             ],
             [
              0.3333333333333333,
              "#9c179e"
             ],
             [
              0.4444444444444444,
              "#bd3786"
             ],
             [
              0.5555555555555556,
              "#d8576b"
             ],
             [
              0.6666666666666666,
              "#ed7953"
             ],
             [
              0.7777777777777778,
              "#fb9f3a"
             ],
             [
              0.8888888888888888,
              "#fdca26"
             ],
             [
              1,
              "#f0f921"
             ]
            ],
            "type": "contour"
           }
          ],
          "contourcarpet": [
           {
            "colorbar": {
             "outlinewidth": 0,
             "ticks": ""
            },
            "type": "contourcarpet"
           }
          ],
          "heatmap": [
           {
            "colorbar": {
             "outlinewidth": 0,
             "ticks": ""
            },
            "colorscale": [
             [
              0,
              "#0d0887"
             ],
             [
              0.1111111111111111,
              "#46039f"
             ],
             [
              0.2222222222222222,
              "#7201a8"
             ],
             [
              0.3333333333333333,
              "#9c179e"
             ],
             [
              0.4444444444444444,
              "#bd3786"
             ],
             [
              0.5555555555555556,
              "#d8576b"
             ],
             [
              0.6666666666666666,
              "#ed7953"
             ],
             [
              0.7777777777777778,
              "#fb9f3a"
             ],
             [
              0.8888888888888888,
              "#fdca26"
             ],
             [
              1,
              "#f0f921"
             ]
            ],
            "type": "heatmap"
           }
          ],
          "heatmapgl": [
           {
            "colorbar": {
             "outlinewidth": 0,
             "ticks": ""
            },
            "colorscale": [
             [
              0,
              "#0d0887"
             ],
             [
              0.1111111111111111,
              "#46039f"
             ],
             [
              0.2222222222222222,
              "#7201a8"
             ],
             [
              0.3333333333333333,
              "#9c179e"
             ],
             [
              0.4444444444444444,
              "#bd3786"
             ],
             [
              0.5555555555555556,
              "#d8576b"
             ],
             [
              0.6666666666666666,
              "#ed7953"
             ],
             [
              0.7777777777777778,
              "#fb9f3a"
             ],
             [
              0.8888888888888888,
              "#fdca26"
             ],
             [
              1,
              "#f0f921"
             ]
            ],
            "type": "heatmapgl"
           }
          ],
          "histogram": [
           {
            "marker": {
             "pattern": {
              "fillmode": "overlay",
              "size": 10,
              "solidity": 0.2
             }
            },
            "type": "histogram"
           }
          ],
          "histogram2d": [
           {
            "colorbar": {
             "outlinewidth": 0,
             "ticks": ""
            },
            "colorscale": [
             [
              0,
              "#0d0887"
             ],
             [
              0.1111111111111111,
              "#46039f"
             ],
             [
              0.2222222222222222,
              "#7201a8"
             ],
             [
              0.3333333333333333,
              "#9c179e"
             ],
             [
              0.4444444444444444,
              "#bd3786"
             ],
             [
              0.5555555555555556,
              "#d8576b"
             ],
             [
              0.6666666666666666,
              "#ed7953"
             ],
             [
              0.7777777777777778,
              "#fb9f3a"
             ],
             [
              0.8888888888888888,
              "#fdca26"
             ],
             [
              1,
              "#f0f921"
             ]
            ],
            "type": "histogram2d"
           }
          ],
          "histogram2dcontour": [
           {
            "colorbar": {
             "outlinewidth": 0,
             "ticks": ""
            },
            "colorscale": [
             [
              0,
              "#0d0887"
             ],
             [
              0.1111111111111111,
              "#46039f"
             ],
             [
              0.2222222222222222,
              "#7201a8"
             ],
             [
              0.3333333333333333,
              "#9c179e"
             ],
             [
              0.4444444444444444,
              "#bd3786"
             ],
             [
              0.5555555555555556,
              "#d8576b"
             ],
             [
              0.6666666666666666,
              "#ed7953"
             ],
             [
              0.7777777777777778,
              "#fb9f3a"
             ],
             [
              0.8888888888888888,
              "#fdca26"
             ],
             [
              1,
              "#f0f921"
             ]
            ],
            "type": "histogram2dcontour"
           }
          ],
          "mesh3d": [
           {
            "colorbar": {
             "outlinewidth": 0,
             "ticks": ""
            },
            "type": "mesh3d"
           }
          ],
          "parcoords": [
           {
            "line": {
             "colorbar": {
              "outlinewidth": 0,
              "ticks": ""
             }
            },
            "type": "parcoords"
           }
          ],
          "pie": [
           {
            "automargin": true,
            "type": "pie"
           }
          ],
          "scatter": [
           {
            "fillpattern": {
             "fillmode": "overlay",
             "size": 10,
             "solidity": 0.2
            },
            "type": "scatter"
           }
          ],
          "scatter3d": [
           {
            "line": {
             "colorbar": {
              "outlinewidth": 0,
              "ticks": ""
             }
            },
            "marker": {
             "colorbar": {
              "outlinewidth": 0,
              "ticks": ""
             }
            },
            "type": "scatter3d"
           }
          ],
          "scattercarpet": [
           {
            "marker": {
             "colorbar": {
              "outlinewidth": 0,
              "ticks": ""
             }
            },
            "type": "scattercarpet"
           }
          ],
          "scattergeo": [
           {
            "marker": {
             "colorbar": {
              "outlinewidth": 0,
              "ticks": ""
             }
            },
            "type": "scattergeo"
           }
          ],
          "scattergl": [
           {
            "marker": {
             "colorbar": {
              "outlinewidth": 0,
              "ticks": ""
             }
            },
            "type": "scattergl"
           }
          ],
          "scattermapbox": [
           {
            "marker": {
             "colorbar": {
              "outlinewidth": 0,
              "ticks": ""
             }
            },
            "type": "scattermapbox"
           }
          ],
          "scatterpolar": [
           {
            "marker": {
             "colorbar": {
              "outlinewidth": 0,
              "ticks": ""
             }
            },
            "type": "scatterpolar"
           }
          ],
          "scatterpolargl": [
           {
            "marker": {
             "colorbar": {
              "outlinewidth": 0,
              "ticks": ""
             }
            },
            "type": "scatterpolargl"
           }
          ],
          "scatterternary": [
           {
            "marker": {
             "colorbar": {
              "outlinewidth": 0,
              "ticks": ""
             }
            },
            "type": "scatterternary"
           }
          ],
          "surface": [
           {
            "colorbar": {
             "outlinewidth": 0,
             "ticks": ""
            },
            "colorscale": [
             [
              0,
              "#0d0887"
             ],
             [
              0.1111111111111111,
              "#46039f"
             ],
             [
              0.2222222222222222,
              "#7201a8"
             ],
             [
              0.3333333333333333,
              "#9c179e"
             ],
             [
              0.4444444444444444,
              "#bd3786"
             ],
             [
              0.5555555555555556,
              "#d8576b"
             ],
             [
              0.6666666666666666,
              "#ed7953"
             ],
             [
              0.7777777777777778,
              "#fb9f3a"
             ],
             [
              0.8888888888888888,
              "#fdca26"
             ],
             [
              1,
              "#f0f921"
             ]
            ],
            "type": "surface"
           }
          ],
          "table": [
           {
            "cells": {
             "fill": {
              "color": "#EBF0F8"
             },
             "line": {
              "color": "white"
             }
            },
            "header": {
             "fill": {
              "color": "#C8D4E3"
             },
             "line": {
              "color": "white"
             }
            },
            "type": "table"
           }
          ]
         },
         "layout": {
          "annotationdefaults": {
           "arrowcolor": "#2a3f5f",
           "arrowhead": 0,
           "arrowwidth": 1
          },
          "autotypenumbers": "strict",
          "coloraxis": {
           "colorbar": {
            "outlinewidth": 0,
            "ticks": ""
           }
          },
          "colorscale": {
           "diverging": [
            [
             0,
             "#8e0152"
            ],
            [
             0.1,
             "#c51b7d"
            ],
            [
             0.2,
             "#de77ae"
            ],
            [
             0.3,
             "#f1b6da"
            ],
            [
             0.4,
             "#fde0ef"
            ],
            [
             0.5,
             "#f7f7f7"
            ],
            [
             0.6,
             "#e6f5d0"
            ],
            [
             0.7,
             "#b8e186"
            ],
            [
             0.8,
             "#7fbc41"
            ],
            [
             0.9,
             "#4d9221"
            ],
            [
             1,
             "#276419"
            ]
           ],
           "sequential": [
            [
             0,
             "#0d0887"
            ],
            [
             0.1111111111111111,
             "#46039f"
            ],
            [
             0.2222222222222222,
             "#7201a8"
            ],
            [
             0.3333333333333333,
             "#9c179e"
            ],
            [
             0.4444444444444444,
             "#bd3786"
            ],
            [
             0.5555555555555556,
             "#d8576b"
            ],
            [
             0.6666666666666666,
             "#ed7953"
            ],
            [
             0.7777777777777778,
             "#fb9f3a"
            ],
            [
             0.8888888888888888,
             "#fdca26"
            ],
            [
             1,
             "#f0f921"
            ]
           ],
           "sequentialminus": [
            [
             0,
             "#0d0887"
            ],
            [
             0.1111111111111111,
             "#46039f"
            ],
            [
             0.2222222222222222,
             "#7201a8"
            ],
            [
             0.3333333333333333,
             "#9c179e"
            ],
            [
             0.4444444444444444,
             "#bd3786"
            ],
            [
             0.5555555555555556,
             "#d8576b"
            ],
            [
             0.6666666666666666,
             "#ed7953"
            ],
            [
             0.7777777777777778,
             "#fb9f3a"
            ],
            [
             0.8888888888888888,
             "#fdca26"
            ],
            [
             1,
             "#f0f921"
            ]
           ]
          },
          "colorway": [
           "#636efa",
           "#EF553B",
           "#00cc96",
           "#ab63fa",
           "#FFA15A",
           "#19d3f3",
           "#FF6692",
           "#B6E880",
           "#FF97FF",
           "#FECB52"
          ],
          "font": {
           "color": "#2a3f5f"
          },
          "geo": {
           "bgcolor": "white",
           "lakecolor": "white",
           "landcolor": "#E5ECF6",
           "showlakes": true,
           "showland": true,
           "subunitcolor": "white"
          },
          "hoverlabel": {
           "align": "left"
          },
          "hovermode": "closest",
          "mapbox": {
           "style": "light"
          },
          "paper_bgcolor": "white",
          "plot_bgcolor": "#E5ECF6",
          "polar": {
           "angularaxis": {
            "gridcolor": "white",
            "linecolor": "white",
            "ticks": ""
           },
           "bgcolor": "#E5ECF6",
           "radialaxis": {
            "gridcolor": "white",
            "linecolor": "white",
            "ticks": ""
           }
          },
          "scene": {
           "xaxis": {
            "backgroundcolor": "#E5ECF6",
            "gridcolor": "white",
            "gridwidth": 2,
            "linecolor": "white",
            "showbackground": true,
            "ticks": "",
            "zerolinecolor": "white"
           },
           "yaxis": {
            "backgroundcolor": "#E5ECF6",
            "gridcolor": "white",
            "gridwidth": 2,
            "linecolor": "white",
            "showbackground": true,
            "ticks": "",
            "zerolinecolor": "white"
           },
           "zaxis": {
            "backgroundcolor": "#E5ECF6",
            "gridcolor": "white",
            "gridwidth": 2,
            "linecolor": "white",
            "showbackground": true,
            "ticks": "",
            "zerolinecolor": "white"
           }
          },
          "shapedefaults": {
           "line": {
            "color": "#2a3f5f"
           }
          },
          "ternary": {
           "aaxis": {
            "gridcolor": "white",
            "linecolor": "white",
            "ticks": ""
           },
           "baxis": {
            "gridcolor": "white",
            "linecolor": "white",
            "ticks": ""
           },
           "bgcolor": "#E5ECF6",
           "caxis": {
            "gridcolor": "white",
            "linecolor": "white",
            "ticks": ""
           }
          },
          "title": {
           "x": 0.05
          },
          "xaxis": {
           "automargin": true,
           "gridcolor": "white",
           "linecolor": "white",
           "ticks": "",
           "title": {
            "standoff": 15
           },
           "zerolinecolor": "white",
           "zerolinewidth": 2
          },
          "yaxis": {
           "automargin": true,
           "gridcolor": "white",
           "linecolor": "white",
           "ticks": "",
           "title": {
            "standoff": 15
           },
           "zerolinecolor": "white",
           "zerolinewidth": 2
          }
         }
        },
        "title": {
         "text": "Número de IPS por Municipio - 2022"
        },
        "width": 800,
        "xaxis": {
         "anchor": "y",
         "domain": [
          0,
          1
         ],
         "title": {
          "text": "Número de IPS"
         }
        },
        "yaxis": {
         "anchor": "x",
         "domain": [
          0,
          1
         ],
         "title": {
          "text": "Municipio"
         }
        }
       }
      }
     },
     "metadata": {},
     "output_type": "display_data"
    }
   ],
   "source": [
    "top_bars = 30\n",
    "fig = px.bar(data_frame=df_num_reps.iloc[:top_bars], \n",
    "             x='IPS_2022', \n",
    "             y='Municipio_Departamento', \n",
    "             orientation='h')\n",
    "\n",
    "fig.update_xaxes(title_text='Número de IPS')\n",
    "# fig.update_xaxes(range=[0,3100])\n",
    "fig.update_yaxes(title_text='Municipio')\n",
    "fig.update_layout(title='Número de IPS por Municipio - 2022')\n",
    "\n",
    "color_sequence = ['#3364C7' for i in df_num_reps['Municipio_Departamento']]\n",
    "fig.update_traces(marker=dict(color=color_sequence))\n",
    "\n",
    "fig.update_traces(text=df_num_reps['IPS_2022'].iloc[:top_bars], textposition='outside')\n",
    "\n",
    "# fig.update_layout(plot_bgcolor='rgba(0,0,0,0)')\n",
    "\n",
    "fig.update_layout(width=800, height=700)\n",
    "\n",
    "fig.show()"
   ]
  },
  {
   "cell_type": "markdown",
   "metadata": {},
   "source": [
    "# Poblacion - 2022"
   ]
  },
  {
   "cell_type": "code",
   "execution_count": 227,
   "metadata": {},
   "outputs": [],
   "source": [
    "df_poblacion_2022 = pd.read_csv('../../Data/Poblacion_Municipio_2020_2035.csv')"
   ]
  },
  {
   "cell_type": "code",
   "execution_count": 228,
   "metadata": {},
   "outputs": [
    {
     "name": "stdout",
     "output_type": "stream",
     "text": [
      "<class 'pandas.core.frame.DataFrame'>\n",
      "RangeIndex: 53856 entries, 0 to 53855\n",
      "Data columns (total 7 columns):\n",
      " #   Column           Non-Null Count  Dtype \n",
      "---  ------           --------------  ----- \n",
      " 0   DP               53856 non-null  int64 \n",
      " 1   DPNOM            53856 non-null  object\n",
      " 2   MPIO             53856 non-null  int64 \n",
      " 3   DPMP             53856 non-null  object\n",
      " 4   AÑO              53856 non-null  int64 \n",
      " 5   ÁREA GEOGRÁFICA  53856 non-null  object\n",
      " 6   Población        53856 non-null  int64 \n",
      "dtypes: int64(4), object(3)\n",
      "memory usage: 2.9+ MB\n"
     ]
    }
   ],
   "source": [
    "df_poblacion_2022.info()"
   ]
  },
  {
   "cell_type": "code",
   "execution_count": 229,
   "metadata": {},
   "outputs": [
    {
     "data": {
      "text/html": [
       "<div>\n",
       "<style scoped>\n",
       "    .dataframe tbody tr th:only-of-type {\n",
       "        vertical-align: middle;\n",
       "    }\n",
       "\n",
       "    .dataframe tbody tr th {\n",
       "        vertical-align: top;\n",
       "    }\n",
       "\n",
       "    .dataframe thead th {\n",
       "        text-align: right;\n",
       "    }\n",
       "</style>\n",
       "<table border=\"1\" class=\"dataframe\">\n",
       "  <thead>\n",
       "    <tr style=\"text-align: right;\">\n",
       "      <th></th>\n",
       "      <th>DP</th>\n",
       "      <th>DPNOM</th>\n",
       "      <th>MPIO</th>\n",
       "      <th>DPMP</th>\n",
       "      <th>AÑO</th>\n",
       "      <th>ÁREA GEOGRÁFICA</th>\n",
       "      <th>Población</th>\n",
       "    </tr>\n",
       "  </thead>\n",
       "  <tbody>\n",
       "    <tr>\n",
       "      <th>0</th>\n",
       "      <td>5</td>\n",
       "      <td>Antioquia</td>\n",
       "      <td>5001</td>\n",
       "      <td>Medellín</td>\n",
       "      <td>2020</td>\n",
       "      <td>Cabecera Municipal</td>\n",
       "      <td>2476569</td>\n",
       "    </tr>\n",
       "    <tr>\n",
       "      <th>1</th>\n",
       "      <td>5</td>\n",
       "      <td>Antioquia</td>\n",
       "      <td>5001</td>\n",
       "      <td>Medellín</td>\n",
       "      <td>2020</td>\n",
       "      <td>Centros Poblados y Rural Disperso</td>\n",
       "      <td>43023</td>\n",
       "    </tr>\n",
       "    <tr>\n",
       "      <th>2</th>\n",
       "      <td>5</td>\n",
       "      <td>Antioquia</td>\n",
       "      <td>5001</td>\n",
       "      <td>Medellín</td>\n",
       "      <td>2020</td>\n",
       "      <td>Total</td>\n",
       "      <td>2519592</td>\n",
       "    </tr>\n",
       "    <tr>\n",
       "      <th>3</th>\n",
       "      <td>5</td>\n",
       "      <td>Antioquia</td>\n",
       "      <td>5001</td>\n",
       "      <td>Medellín</td>\n",
       "      <td>2021</td>\n",
       "      <td>Cabecera Municipal</td>\n",
       "      <td>2506656</td>\n",
       "    </tr>\n",
       "    <tr>\n",
       "      <th>4</th>\n",
       "      <td>5</td>\n",
       "      <td>Antioquia</td>\n",
       "      <td>5001</td>\n",
       "      <td>Medellín</td>\n",
       "      <td>2021</td>\n",
       "      <td>Centros Poblados y Rural Disperso</td>\n",
       "      <td>42352</td>\n",
       "    </tr>\n",
       "  </tbody>\n",
       "</table>\n",
       "</div>"
      ],
      "text/plain": [
       "   DP      DPNOM  MPIO      DPMP   AÑO                    ÁREA GEOGRÁFICA  \\\n",
       "0   5  Antioquia  5001  Medellín  2020                 Cabecera Municipal   \n",
       "1   5  Antioquia  5001  Medellín  2020  Centros Poblados y Rural Disperso   \n",
       "2   5  Antioquia  5001  Medellín  2020                              Total   \n",
       "3   5  Antioquia  5001  Medellín  2021                 Cabecera Municipal   \n",
       "4   5  Antioquia  5001  Medellín  2021  Centros Poblados y Rural Disperso   \n",
       "\n",
       "   Población  \n",
       "0    2476569  \n",
       "1      43023  \n",
       "2    2519592  \n",
       "3    2506656  \n",
       "4      42352  "
      ]
     },
     "execution_count": 229,
     "metadata": {},
     "output_type": "execute_result"
    }
   ],
   "source": [
    "df_poblacion_2022.head()"
   ]
  },
  {
   "cell_type": "code",
   "execution_count": 230,
   "metadata": {},
   "outputs": [
    {
     "data": {
      "text/html": [
       "<div>\n",
       "<style scoped>\n",
       "    .dataframe tbody tr th:only-of-type {\n",
       "        vertical-align: middle;\n",
       "    }\n",
       "\n",
       "    .dataframe tbody tr th {\n",
       "        vertical-align: top;\n",
       "    }\n",
       "\n",
       "    .dataframe thead th {\n",
       "        text-align: right;\n",
       "    }\n",
       "</style>\n",
       "<table border=\"1\" class=\"dataframe\">\n",
       "  <thead>\n",
       "    <tr style=\"text-align: right;\">\n",
       "      <th></th>\n",
       "      <th>DP</th>\n",
       "      <th>DPNOM</th>\n",
       "      <th>MPIO</th>\n",
       "      <th>DPMP</th>\n",
       "      <th>Población</th>\n",
       "      <th>Codigo_Municipio</th>\n",
       "      <th>Municipio</th>\n",
       "      <th>Codigo</th>\n",
       "      <th>Departamento</th>\n",
       "      <th>Municipio_Departamento</th>\n",
       "    </tr>\n",
       "  </thead>\n",
       "  <tbody>\n",
       "    <tr>\n",
       "      <th>0</th>\n",
       "      <td>94</td>\n",
       "      <td>Guainía</td>\n",
       "      <td>94885</td>\n",
       "      <td>La Guadalupe (ANM)</td>\n",
       "      <td>310</td>\n",
       "      <td>94885</td>\n",
       "      <td>La Guadalupe</td>\n",
       "      <td>94</td>\n",
       "      <td>Guainía</td>\n",
       "      <td>La Guadalupe (Guainía)</td>\n",
       "    </tr>\n",
       "    <tr>\n",
       "      <th>1</th>\n",
       "      <td>94</td>\n",
       "      <td>Guainía</td>\n",
       "      <td>94886</td>\n",
       "      <td>Cacahual (ANM)</td>\n",
       "      <td>969</td>\n",
       "      <td>94886</td>\n",
       "      <td>Cacahual</td>\n",
       "      <td>94</td>\n",
       "      <td>Guainía</td>\n",
       "      <td>Cacahual (Guainía)</td>\n",
       "    </tr>\n",
       "    <tr>\n",
       "      <th>2</th>\n",
       "      <td>94</td>\n",
       "      <td>Guainía</td>\n",
       "      <td>94888</td>\n",
       "      <td>Morichal (ANM)</td>\n",
       "      <td>985</td>\n",
       "      <td>94888</td>\n",
       "      <td>Morichal</td>\n",
       "      <td>94</td>\n",
       "      <td>Guainía</td>\n",
       "      <td>Morichal (Guainía)</td>\n",
       "    </tr>\n",
       "    <tr>\n",
       "      <th>3</th>\n",
       "      <td>94</td>\n",
       "      <td>Guainía</td>\n",
       "      <td>94883</td>\n",
       "      <td>San Felipe (ANM)</td>\n",
       "      <td>1913</td>\n",
       "      <td>94883</td>\n",
       "      <td>San Felipe</td>\n",
       "      <td>94</td>\n",
       "      <td>Guainía</td>\n",
       "      <td>San Felipe (Guainía)</td>\n",
       "    </tr>\n",
       "    <tr>\n",
       "      <th>4</th>\n",
       "      <td>94</td>\n",
       "      <td>Guainía</td>\n",
       "      <td>94884</td>\n",
       "      <td>Puerto Colombia (ANM)</td>\n",
       "      <td>2111</td>\n",
       "      <td>94884</td>\n",
       "      <td>Puerto Colombia</td>\n",
       "      <td>94</td>\n",
       "      <td>Guainía</td>\n",
       "      <td>Puerto Colombia (Guainía)</td>\n",
       "    </tr>\n",
       "    <tr>\n",
       "      <th>...</th>\n",
       "      <td>...</td>\n",
       "      <td>...</td>\n",
       "      <td>...</td>\n",
       "      <td>...</td>\n",
       "      <td>...</td>\n",
       "      <td>...</td>\n",
       "      <td>...</td>\n",
       "      <td>...</td>\n",
       "      <td>...</td>\n",
       "      <td>...</td>\n",
       "    </tr>\n",
       "    <tr>\n",
       "      <th>1116</th>\n",
       "      <td>23</td>\n",
       "      <td>Córdoba</td>\n",
       "      <td>23162</td>\n",
       "      <td>Cereté</td>\n",
       "      <td>112124</td>\n",
       "      <td>23162</td>\n",
       "      <td>Cereté</td>\n",
       "      <td>23</td>\n",
       "      <td>Córdoba</td>\n",
       "      <td>Cereté (Córdoba)</td>\n",
       "    </tr>\n",
       "    <tr>\n",
       "      <th>1117</th>\n",
       "      <td>23</td>\n",
       "      <td>Córdoba</td>\n",
       "      <td>23660</td>\n",
       "      <td>Sahagún</td>\n",
       "      <td>114033</td>\n",
       "      <td>23660</td>\n",
       "      <td>Sahagún</td>\n",
       "      <td>23</td>\n",
       "      <td>Córdoba</td>\n",
       "      <td>Sahagún (Córdoba)</td>\n",
       "    </tr>\n",
       "    <tr>\n",
       "      <th>1118</th>\n",
       "      <td>23</td>\n",
       "      <td>Córdoba</td>\n",
       "      <td>23417</td>\n",
       "      <td>Lorica</td>\n",
       "      <td>116772</td>\n",
       "      <td>23417</td>\n",
       "      <td>Lorica</td>\n",
       "      <td>23</td>\n",
       "      <td>Córdoba</td>\n",
       "      <td>Lorica (Córdoba)</td>\n",
       "    </tr>\n",
       "    <tr>\n",
       "      <th>1119</th>\n",
       "      <td>23</td>\n",
       "      <td>Córdoba</td>\n",
       "      <td>23001</td>\n",
       "      <td>Montería</td>\n",
       "      <td>518608</td>\n",
       "      <td>23001</td>\n",
       "      <td>Montería</td>\n",
       "      <td>23</td>\n",
       "      <td>Córdoba</td>\n",
       "      <td>Montería (Córdoba)</td>\n",
       "    </tr>\n",
       "    <tr>\n",
       "      <th>1120</th>\n",
       "      <td>11</td>\n",
       "      <td>Bogotá, D.C.</td>\n",
       "      <td>11001</td>\n",
       "      <td>Bogotá, D.C.</td>\n",
       "      <td>7873316</td>\n",
       "      <td>11001</td>\n",
       "      <td>Bogotá, D.C.</td>\n",
       "      <td>11</td>\n",
       "      <td>Bogotá D.C</td>\n",
       "      <td>Bogotá, D.C. (Bogotá D.C)</td>\n",
       "    </tr>\n",
       "  </tbody>\n",
       "</table>\n",
       "<p>1121 rows × 10 columns</p>\n",
       "</div>"
      ],
      "text/plain": [
       "      DP         DPNOM   MPIO                   DPMP  Población  \\\n",
       "0     94       Guainía  94885     La Guadalupe (ANM)        310   \n",
       "1     94       Guainía  94886         Cacahual (ANM)        969   \n",
       "2     94       Guainía  94888         Morichal (ANM)        985   \n",
       "3     94       Guainía  94883       San Felipe (ANM)       1913   \n",
       "4     94       Guainía  94884  Puerto Colombia (ANM)       2111   \n",
       "...   ..           ...    ...                    ...        ...   \n",
       "1116  23       Córdoba  23162                 Cereté     112124   \n",
       "1117  23       Córdoba  23660                Sahagún     114033   \n",
       "1118  23       Córdoba  23417                 Lorica     116772   \n",
       "1119  23       Córdoba  23001               Montería     518608   \n",
       "1120  11  Bogotá, D.C.  11001           Bogotá, D.C.    7873316   \n",
       "\n",
       "      Codigo_Municipio        Municipio  Codigo Departamento  \\\n",
       "0                94885     La Guadalupe      94      Guainía   \n",
       "1                94886         Cacahual      94      Guainía   \n",
       "2                94888         Morichal      94      Guainía   \n",
       "3                94883       San Felipe      94      Guainía   \n",
       "4                94884  Puerto Colombia      94      Guainía   \n",
       "...                ...              ...     ...          ...   \n",
       "1116             23162           Cereté      23      Córdoba   \n",
       "1117             23660          Sahagún      23      Córdoba   \n",
       "1118             23417           Lorica      23      Córdoba   \n",
       "1119             23001         Montería      23      Córdoba   \n",
       "1120             11001     Bogotá, D.C.      11   Bogotá D.C   \n",
       "\n",
       "         Municipio_Departamento  \n",
       "0        La Guadalupe (Guainía)  \n",
       "1            Cacahual (Guainía)  \n",
       "2            Morichal (Guainía)  \n",
       "3          San Felipe (Guainía)  \n",
       "4     Puerto Colombia (Guainía)  \n",
       "...                         ...  \n",
       "1116           Cereté (Córdoba)  \n",
       "1117          Sahagún (Córdoba)  \n",
       "1118           Lorica (Córdoba)  \n",
       "1119         Montería (Córdoba)  \n",
       "1120  Bogotá, D.C. (Bogotá D.C)  \n",
       "\n",
       "[1121 rows x 10 columns]"
      ]
     },
     "execution_count": 230,
     "metadata": {},
     "output_type": "execute_result"
    }
   ],
   "source": [
    "df_poblacion_2022 = df_poblacion_2022[(df_poblacion_2022['AÑO'] == 2022) & (df_poblacion_2022['ÁREA GEOGRÁFICA'] == 'Total')].reset_index(drop=True).drop(['AÑO', 'ÁREA GEOGRÁFICA'], axis=1).sort_values('Población').reset_index(drop=True)\n",
    "df_poblacion_2022 = pd.merge(df_poblacion_2022, df_municipios_codigos[['Codigo_Municipio', 'Municipio']], how='inner', left_on='MPIO', right_on='Codigo_Municipio')\n",
    "df_poblacion_2022 = pd.merge(df_poblacion_2022, df_departamentos_codigos[['Codigo', 'Departamento']], how='inner', left_on='DP', right_on='Codigo')\n",
    "df_poblacion_2022['Municipio_Departamento'] = df_poblacion_2022['Municipio'] + \" (\" + df_poblacion_2022['Departamento'] + \")\"\n",
    "\n",
    "df_poblacion_2022"
   ]
  },
  {
   "cell_type": "code",
   "execution_count": 231,
   "metadata": {},
   "outputs": [],
   "source": [
    "df_ips_por_habitantes = pd.merge(df_num_reps, df_poblacion_2022, how='right', on='Municipio_Departamento')\n",
    "df_ips_por_habitantes.fillna(0, inplace=True)\n",
    "df_ips_por_habitantes['IPS/Habitantes'] = (df_ips_por_habitantes['IPS_2022'] / df_ips_por_habitantes['Población'] * 1e5).round(0)\n",
    "df_ips_por_habitantes = df_ips_por_habitantes.sort_values('IPS/Habitantes', ascending=True).reset_index(drop=True)"
   ]
  },
  {
   "cell_type": "code",
   "execution_count": 226,
   "metadata": {},
   "outputs": [
    {
     "data": {
      "text/html": [
       "<div>\n",
       "<style scoped>\n",
       "    .dataframe tbody tr th:only-of-type {\n",
       "        vertical-align: middle;\n",
       "    }\n",
       "\n",
       "    .dataframe tbody tr th {\n",
       "        vertical-align: top;\n",
       "    }\n",
       "\n",
       "    .dataframe thead th {\n",
       "        text-align: right;\n",
       "    }\n",
       "</style>\n",
       "<table border=\"1\" class=\"dataframe\">\n",
       "  <thead>\n",
       "    <tr style=\"text-align: right;\">\n",
       "      <th></th>\n",
       "      <th>Municipio_Departamento</th>\n",
       "      <th>IPS_2022</th>\n",
       "      <th>DP</th>\n",
       "      <th>DPNOM</th>\n",
       "      <th>MPIO</th>\n",
       "      <th>DPMP</th>\n",
       "      <th>Población</th>\n",
       "      <th>Codigo_Municipio</th>\n",
       "      <th>Municipio</th>\n",
       "      <th>Codigo</th>\n",
       "      <th>Departamento</th>\n",
       "      <th>IPS/Habitantes</th>\n",
       "    </tr>\n",
       "  </thead>\n",
       "  <tbody>\n",
       "    <tr>\n",
       "      <th>0</th>\n",
       "      <td>La Guadalupe (Guainía)</td>\n",
       "      <td>0.0</td>\n",
       "      <td>94</td>\n",
       "      <td>Guainía</td>\n",
       "      <td>94885</td>\n",
       "      <td>La Guadalupe (ANM)</td>\n",
       "      <td>310</td>\n",
       "      <td>94885</td>\n",
       "      <td>La Guadalupe</td>\n",
       "      <td>94</td>\n",
       "      <td>Guainía</td>\n",
       "      <td>0.0</td>\n",
       "    </tr>\n",
       "    <tr>\n",
       "      <th>1</th>\n",
       "      <td>Cacahual (Guainía)</td>\n",
       "      <td>0.0</td>\n",
       "      <td>94</td>\n",
       "      <td>Guainía</td>\n",
       "      <td>94886</td>\n",
       "      <td>Cacahual (ANM)</td>\n",
       "      <td>969</td>\n",
       "      <td>94886</td>\n",
       "      <td>Cacahual</td>\n",
       "      <td>94</td>\n",
       "      <td>Guainía</td>\n",
       "      <td>0.0</td>\n",
       "    </tr>\n",
       "    <tr>\n",
       "      <th>2</th>\n",
       "      <td>Morichal (Guainía)</td>\n",
       "      <td>0.0</td>\n",
       "      <td>94</td>\n",
       "      <td>Guainía</td>\n",
       "      <td>94888</td>\n",
       "      <td>Morichal (ANM)</td>\n",
       "      <td>985</td>\n",
       "      <td>94888</td>\n",
       "      <td>Morichal</td>\n",
       "      <td>94</td>\n",
       "      <td>Guainía</td>\n",
       "      <td>0.0</td>\n",
       "    </tr>\n",
       "    <tr>\n",
       "      <th>3</th>\n",
       "      <td>Puerto Colombia (Guainía)</td>\n",
       "      <td>0.0</td>\n",
       "      <td>94</td>\n",
       "      <td>Guainía</td>\n",
       "      <td>94884</td>\n",
       "      <td>Puerto Colombia (ANM)</td>\n",
       "      <td>2111</td>\n",
       "      <td>94884</td>\n",
       "      <td>Puerto Colombia</td>\n",
       "      <td>94</td>\n",
       "      <td>Guainía</td>\n",
       "      <td>0.0</td>\n",
       "    </tr>\n",
       "    <tr>\n",
       "      <th>4</th>\n",
       "      <td>Pana Pana (Guainía)</td>\n",
       "      <td>0.0</td>\n",
       "      <td>94</td>\n",
       "      <td>Guainía</td>\n",
       "      <td>94887</td>\n",
       "      <td>Pana Pana (ANM)</td>\n",
       "      <td>2210</td>\n",
       "      <td>94887</td>\n",
       "      <td>Pana Pana</td>\n",
       "      <td>94</td>\n",
       "      <td>Guainía</td>\n",
       "      <td>0.0</td>\n",
       "    </tr>\n",
       "    <tr>\n",
       "      <th>...</th>\n",
       "      <td>...</td>\n",
       "      <td>...</td>\n",
       "      <td>...</td>\n",
       "      <td>...</td>\n",
       "      <td>...</td>\n",
       "      <td>...</td>\n",
       "      <td>...</td>\n",
       "      <td>...</td>\n",
       "      <td>...</td>\n",
       "      <td>...</td>\n",
       "      <td>...</td>\n",
       "      <td>...</td>\n",
       "    </tr>\n",
       "    <tr>\n",
       "      <th>1116</th>\n",
       "      <td>Carurú (Vaupés)</td>\n",
       "      <td>5.0</td>\n",
       "      <td>97</td>\n",
       "      <td>Vaupés</td>\n",
       "      <td>97161</td>\n",
       "      <td>Carurú</td>\n",
       "      <td>3408</td>\n",
       "      <td>97161</td>\n",
       "      <td>Carurú</td>\n",
       "      <td>97</td>\n",
       "      <td>Vaupés</td>\n",
       "      <td>147.0</td>\n",
       "    </tr>\n",
       "    <tr>\n",
       "      <th>1117</th>\n",
       "      <td>La Victoria (Amazonas)</td>\n",
       "      <td>1.0</td>\n",
       "      <td>91</td>\n",
       "      <td>Amazonas</td>\n",
       "      <td>91430</td>\n",
       "      <td>La Victoria (ANM)</td>\n",
       "      <td>668</td>\n",
       "      <td>91430</td>\n",
       "      <td>La Victoria</td>\n",
       "      <td>91</td>\n",
       "      <td>Amazonas</td>\n",
       "      <td>150.0</td>\n",
       "    </tr>\n",
       "    <tr>\n",
       "      <th>1118</th>\n",
       "      <td>Taraira (Vaupés)</td>\n",
       "      <td>4.0</td>\n",
       "      <td>97</td>\n",
       "      <td>Vaupés</td>\n",
       "      <td>97666</td>\n",
       "      <td>Taraira</td>\n",
       "      <td>2481</td>\n",
       "      <td>97666</td>\n",
       "      <td>Taraira</td>\n",
       "      <td>97</td>\n",
       "      <td>Vaupés</td>\n",
       "      <td>161.0</td>\n",
       "    </tr>\n",
       "    <tr>\n",
       "      <th>1119</th>\n",
       "      <td>Pacoa (Vaupés)</td>\n",
       "      <td>10.0</td>\n",
       "      <td>97</td>\n",
       "      <td>Vaupés</td>\n",
       "      <td>97511</td>\n",
       "      <td>Pacoa (ANM)</td>\n",
       "      <td>4573</td>\n",
       "      <td>97511</td>\n",
       "      <td>Pacoa</td>\n",
       "      <td>97</td>\n",
       "      <td>Vaupés</td>\n",
       "      <td>219.0</td>\n",
       "    </tr>\n",
       "    <tr>\n",
       "      <th>1120</th>\n",
       "      <td>Yavaraté (Vaupés)</td>\n",
       "      <td>5.0</td>\n",
       "      <td>97</td>\n",
       "      <td>Vaupés</td>\n",
       "      <td>97889</td>\n",
       "      <td>Yavaraté (ANM)</td>\n",
       "      <td>1171</td>\n",
       "      <td>97889</td>\n",
       "      <td>Yavaraté</td>\n",
       "      <td>97</td>\n",
       "      <td>Vaupés</td>\n",
       "      <td>427.0</td>\n",
       "    </tr>\n",
       "  </tbody>\n",
       "</table>\n",
       "<p>1121 rows × 12 columns</p>\n",
       "</div>"
      ],
      "text/plain": [
       "         Municipio_Departamento  IPS_2022  DP     DPNOM   MPIO  \\\n",
       "0        La Guadalupe (Guainía)       0.0  94   Guainía  94885   \n",
       "1            Cacahual (Guainía)       0.0  94   Guainía  94886   \n",
       "2            Morichal (Guainía)       0.0  94   Guainía  94888   \n",
       "3     Puerto Colombia (Guainía)       0.0  94   Guainía  94884   \n",
       "4           Pana Pana (Guainía)       0.0  94   Guainía  94887   \n",
       "...                         ...       ...  ..       ...    ...   \n",
       "1116            Carurú (Vaupés)       5.0  97    Vaupés  97161   \n",
       "1117     La Victoria (Amazonas)       1.0  91  Amazonas  91430   \n",
       "1118           Taraira (Vaupés)       4.0  97    Vaupés  97666   \n",
       "1119             Pacoa (Vaupés)      10.0  97    Vaupés  97511   \n",
       "1120          Yavaraté (Vaupés)       5.0  97    Vaupés  97889   \n",
       "\n",
       "                       DPMP  Población  Codigo_Municipio        Municipio  \\\n",
       "0        La Guadalupe (ANM)        310             94885     La Guadalupe   \n",
       "1            Cacahual (ANM)        969             94886         Cacahual   \n",
       "2            Morichal (ANM)        985             94888         Morichal   \n",
       "3     Puerto Colombia (ANM)       2111             94884  Puerto Colombia   \n",
       "4           Pana Pana (ANM)       2210             94887        Pana Pana   \n",
       "...                     ...        ...               ...              ...   \n",
       "1116                 Carurú       3408             97161           Carurú   \n",
       "1117      La Victoria (ANM)        668             91430      La Victoria   \n",
       "1118                Taraira       2481             97666          Taraira   \n",
       "1119            Pacoa (ANM)       4573             97511            Pacoa   \n",
       "1120         Yavaraté (ANM)       1171             97889         Yavaraté   \n",
       "\n",
       "      Codigo Departamento  IPS/Habitantes  \n",
       "0         94      Guainía             0.0  \n",
       "1         94      Guainía             0.0  \n",
       "2         94      Guainía             0.0  \n",
       "3         94      Guainía             0.0  \n",
       "4         94      Guainía             0.0  \n",
       "...      ...          ...             ...  \n",
       "1116      97       Vaupés           147.0  \n",
       "1117      91     Amazonas           150.0  \n",
       "1118      97       Vaupés           161.0  \n",
       "1119      97       Vaupés           219.0  \n",
       "1120      97       Vaupés           427.0  \n",
       "\n",
       "[1121 rows x 12 columns]"
      ]
     },
     "execution_count": 226,
     "metadata": {},
     "output_type": "execute_result"
    }
   ],
   "source": [
    "df_ips_por_habitantes"
   ]
  },
  {
   "cell_type": "code",
   "execution_count": 243,
   "metadata": {},
   "outputs": [
    {
     "data": {
      "text/plain": [
       "<Axes: >"
      ]
     },
     "execution_count": 243,
     "metadata": {},
     "output_type": "execute_result"
    },
    {
     "data": {
      "image/png": "[encoded data removed]",
      "text/plain": [
       "<Figure size 640x480 with 1 Axes>"
      ]
     },
     "metadata": {},
     "output_type": "display_data"
    }
   ],
   "source": [
    "df_ips_por_habitantes['IPS/Habitantes'].hist(bins=100)"
   ]
  },
  {
   "cell_type": "code",
   "execution_count": 236,
   "metadata": {},
   "outputs": [
    {
     "data": {
      "application/vnd.plotly.v1+json": {
       "config": {
        "plotlyServerURL": "https://plot.ly"
       },
       "data": [
        {
         "alignmentgroup": "True",
         "hovertemplate": "IPS/Habitantes=%{x}<br>Municipio_Departamento=%{y}<extra></extra>",
         "legendgroup": "",
         "marker": {
          "color": [
           "#3364C7",
           "#3364C7",
           "#3364C7",
           "#3364C7",
           "#3364C7",
           "#3364C7",
           "#3364C7",
           "#3364C7",
           "#3364C7",
           "#3364C7",
           "#3364C7",
           "#3364C7",
           "#3364C7",
           "#3364C7",
           "#3364C7",
           "#3364C7",
           "#3364C7",
           "#3364C7",
           "#3364C7",
           "#3364C7",
           "#3364C7",
           "#3364C7",
           "#3364C7",
           "#3364C7",
           "#3364C7",
           "#3364C7",
           "#3364C7",
           "#3364C7",
           "#3364C7",
           "#3364C7",
           "#3364C7",
           "#3364C7",
           "#3364C7",
           "#3364C7",
           "#3364C7",
           "#3364C7",
           "#3364C7",
           "#3364C7",
           "#3364C7",
           "#3364C7",
           "#3364C7",
           "#3364C7",
           "#3364C7",
           "#3364C7",
           "#3364C7",
           "#3364C7",
           "#3364C7",
           "#3364C7",
           "#3364C7",
           "#3364C7",
           "#3364C7",
           "#3364C7",
           "#3364C7",
           "#3364C7",
           "#3364C7",
           "#3364C7",
           "#3364C7",
           "#3364C7",
           "#3364C7",
           "#3364C7",
           "#3364C7",
           "#3364C7",
           "#3364C7",
           "#3364C7",
           "#3364C7",
           "#3364C7",
           "#3364C7",
           "#3364C7",
           "#3364C7",
           "#3364C7",
           "#3364C7",
           "#3364C7",
           "#3364C7",
           "#3364C7",
           "#3364C7",
           "#3364C7",
           "#3364C7",
           "#3364C7",
           "#3364C7",
           "#3364C7",
           "#3364C7",
           "#3364C7",
           "#3364C7",
           "#3364C7",
           "#3364C7",
           "#3364C7",
           "#3364C7",
           "#3364C7",
           "#3364C7",
           "#3364C7",
           "#3364C7",
           "#3364C7",
           "#3364C7",
           "#3364C7",
           "#3364C7",
           "#3364C7",
           "#3364C7",
           "#3364C7",
           "#3364C7",
           "#3364C7",
           "#3364C7",
           "#3364C7",
           "#3364C7",
           "#3364C7",
           "#3364C7",
           "#3364C7",
           "#3364C7",
           "#3364C7",
           "#3364C7",
           "#3364C7",
           "#3364C7",
           "#3364C7",
           "#3364C7",
           "#3364C7",
           "#3364C7",
           "#3364C7",
           "#3364C7",
           "#3364C7",
           "#3364C7",
           "#3364C7",
           "#3364C7",
           "#3364C7",
           "#3364C7",
           "#3364C7",
           "#3364C7",
           "#3364C7",
           "#3364C7",
           "#3364C7",
           "#3364C7",
           "#3364C7",
           "#3364C7",
           "#3364C7",
           "#3364C7",
           "#3364C7",
           "#3364C7",
           "#3364C7",
           "#3364C7",
           "#3364C7",
           "#3364C7",
           "#3364C7",
           "#3364C7",
           "#3364C7",
           "#3364C7",
           "#3364C7",
           "#3364C7",
           "#3364C7",
           "#3364C7",
           "#3364C7",
           "#3364C7",
           "#3364C7",
           "#3364C7",
           "#3364C7",
           "#3364C7",
           "#3364C7",
           "#3364C7",
           "#3364C7",
           "#3364C7",
           "#3364C7",
           "#3364C7",
           "#3364C7",
           "#3364C7",
           "#3364C7",
           "#3364C7",
           "#3364C7",
           "#3364C7",
           "#3364C7",
           "#3364C7",
           "#3364C7",
           "#3364C7",
           "#3364C7",
           "#3364C7",
           "#3364C7",
           "#3364C7",
           "#3364C7",
           "#3364C7",
           "#3364C7",
           "#3364C7",
           "#3364C7",
           "#3364C7",
           "#3364C7",
           "#3364C7",
           "#3364C7",
           "#3364C7",
           "#3364C7",
           "#3364C7",
           "#3364C7",
           "#3364C7",
           "#3364C7",
           "#3364C7",
           "#3364C7",
           "#3364C7",
           "#3364C7",
           "#3364C7",
           "#3364C7",
           "#3364C7",
           "#3364C7",
           "#3364C7",
           "#3364C7",
           "#3364C7",
           "#3364C7",
           "#3364C7",
           "#3364C7",
           "#3364C7",
           "#3364C7",
           "#3364C7",
           "#3364C7",
           "#3364C7",
           "#3364C7",
           "#3364C7",
           "#3364C7",
           "#3364C7",
           "#3364C7",
           "#3364C7",
           "#3364C7",
           "#3364C7",
           "#3364C7",
           "#3364C7",
           "#3364C7",
           "#3364C7",
           "#3364C7",
           "#3364C7",
           "#3364C7",
           "#3364C7",
           "#3364C7",
           "#3364C7",
           "#3364C7",
           "#3364C7",
           "#3364C7",
           "#3364C7",
           "#3364C7",
           "#3364C7",
           "#3364C7",
           "#3364C7",
           "#3364C7",
           "#3364C7",
           "#3364C7",
           "#3364C7",
           "#3364C7",
           "#3364C7",
           "#3364C7",
           "#3364C7",
           "#3364C7",
           "#3364C7",
           "#3364C7",
           "#3364C7",
           "#3364C7",
           "#3364C7",
           "#3364C7",
           "#3364C7",
           "#3364C7",
           "#3364C7",
           "#3364C7",
           "#3364C7",
           "#3364C7",
           "#3364C7",
           "#3364C7",
           "#3364C7",
           "#3364C7",
           "#3364C7",
           "#3364C7",
           "#3364C7",
           "#3364C7",
           "#3364C7",
           "#3364C7",
           "#3364C7",
           "#3364C7",
           "#3364C7",
           "#3364C7",
           "#3364C7",
           "#3364C7",
           "#3364C7",
           "#3364C7",
           "#3364C7",
           "#3364C7",
           "#3364C7",
           "#3364C7",
           "#3364C7",
           "#3364C7",
           "#3364C7",
           "#3364C7",
           "#3364C7",
           "#3364C7",
           "#3364C7",
           "#3364C7",
           "#3364C7",
           "#3364C7",
           "#3364C7",
           "#3364C7",
           "#3364C7",
           "#3364C7",
           "#3364C7",
           "#3364C7",
           "#3364C7",
           "#3364C7",
           "#3364C7",
           "#3364C7",
           "#3364C7",
           "#3364C7",
           "#3364C7",
           "#3364C7",
           "#3364C7",
           "#3364C7",
           "#3364C7",
           "#3364C7",
           "#3364C7",
           "#3364C7",
           "#3364C7",
           "#3364C7",
           "#3364C7",
           "#3364C7",
           "#3364C7",
           "#3364C7",
           "#3364C7",
           "#3364C7",
           "#3364C7",
           "#3364C7",
           "#3364C7",
           "#3364C7",
           "#3364C7",
           "#3364C7",
           "#3364C7",
           "#3364C7",
           "#3364C7",
           "#3364C7",
           "#3364C7",
           "#3364C7",
           "#3364C7",
           "#3364C7",
           "#3364C7",
           "#3364C7",
           "#3364C7",
           "#3364C7",
           "#3364C7",
           "#3364C7",
           "#3364C7",
           "#3364C7",
           "#3364C7",
           "#3364C7",
           "#3364C7",
           "#3364C7",
           "#3364C7",
           "#3364C7",
           "#3364C7",
           "#3364C7",
           "#3364C7",
           "#3364C7",
           "#3364C7",
           "#3364C7",
           "#3364C7",
           "#3364C7",
           "#3364C7",
           "#3364C7",
           "#3364C7",
           "#3364C7",
           "#3364C7",
           "#3364C7",
           "#3364C7",
           "#3364C7",
           "#3364C7",
           "#3364C7",
           "#3364C7",
           "#3364C7",
           "#3364C7",
           "#3364C7",
           "#3364C7",
           "#3364C7",
           "#3364C7",
           "#3364C7",
           "#3364C7",
           "#3364C7",
           "#3364C7",
           "#3364C7",
           "#3364C7",
           "#3364C7",
           "#3364C7",
           "#3364C7",
           "#3364C7",
           "#3364C7",
           "#3364C7",
           "#3364C7",
           "#3364C7",
           "#3364C7",
           "#3364C7",
           "#3364C7",
           "#3364C7",
           "#3364C7",
           "#3364C7",
           "#3364C7",
           "#3364C7",
           "#3364C7",
           "#3364C7",
           "#3364C7",
           "#3364C7",
           "#3364C7",
           "#3364C7",
           "#3364C7",
           "#3364C7",
           "#3364C7",
           "#3364C7",
           "#3364C7",
           "#3364C7",
           "#3364C7",
           "#3364C7",
           "#3364C7",
           "#3364C7",
           "#3364C7",
           "#3364C7",
           "#3364C7",
           "#3364C7",
           "#3364C7",
           "#3364C7",
           "#3364C7",
           "#3364C7",
           "#3364C7",
           "#3364C7",
           "#3364C7",
           "#3364C7",
           "#3364C7",
           "#3364C7",
           "#3364C7",
           "#3364C7",
           "#3364C7",
           "#3364C7",
           "#3364C7",
           "#3364C7",
           "#3364C7",
           "#3364C7",
           "#3364C7",
           "#3364C7",
           "#3364C7",
           "#3364C7",
           "#3364C7",
           "#3364C7",
           "#3364C7",
           "#3364C7",
           "#3364C7",
           "#3364C7",
           "#3364C7",
           "#3364C7",
           "#3364C7",
           "#3364C7",
           "#3364C7",
           "#3364C7",
           "#3364C7",
           "#3364C7",
           "#3364C7",
           "#3364C7",
           "#3364C7",
           "#3364C7",
           "#3364C7",
           "#3364C7",
           "#3364C7",
           "#3364C7",
           "#3364C7",
           "#3364C7",
           "#3364C7",
           "#3364C7",
           "#3364C7",
           "#3364C7",
           "#3364C7",
           "#3364C7",
           "#3364C7",
           "#3364C7",
           "#3364C7",
           "#3364C7",
           "#3364C7",
           "#3364C7",
           "#3364C7",
           "#3364C7",
           "#3364C7",
           "#3364C7",
           "#3364C7",
           "#3364C7",
           "#3364C7",
           "#3364C7",
           "#3364C7",
           "#3364C7",
           "#3364C7",
           "#3364C7",
           "#3364C7",
           "#3364C7",
           "#3364C7",
           "#3364C7",
           "#3364C7",
           "#3364C7",
           "#3364C7",
           "#3364C7",
           "#3364C7",
           "#3364C7",
           "#3364C7",
           "#3364C7",
           "#3364C7",
           "#3364C7",
           "#3364C7",
           "#3364C7",
           "#3364C7",
           "#3364C7",
           "#3364C7",
           "#3364C7",
           "#3364C7",
           "#3364C7",
           "#3364C7",
           "#3364C7",
           "#3364C7",
           "#3364C7",
           "#3364C7",
           "#3364C7",
           "#3364C7",
           "#3364C7",
           "#3364C7",
           "#3364C7",
           "#3364C7",
           "#3364C7",
           "#3364C7",
           "#3364C7",
           "#3364C7",
           "#3364C7",
           "#3364C7",
           "#3364C7",
           "#3364C7",
           "#3364C7",
           "#3364C7",
           "#3364C7",
           "#3364C7",
           "#3364C7",
           "#3364C7",
           "#3364C7",
           "#3364C7",
           "#3364C7",
           "#3364C7",
           "#3364C7",
           "#3364C7",
           "#3364C7",
           "#3364C7",
           "#3364C7",
           "#3364C7",
           "#3364C7",
           "#3364C7",
           "#3364C7",
           "#3364C7",
           "#3364C7",
           "#3364C7",
           "#3364C7",
           "#3364C7",
           "#3364C7",
           "#3364C7",
           "#3364C7",
           "#3364C7",
           "#3364C7",
           "#3364C7",
           "#3364C7",
           "#3364C7",
           "#3364C7",
           "#3364C7",
           "#3364C7",
           "#3364C7",
           "#3364C7",
           "#3364C7",
           "#3364C7",
           "#3364C7",
           "#3364C7",
           "#3364C7",
           "#3364C7",
           "#3364C7",
           "#3364C7",
           "#3364C7",
           "#3364C7",
           "#3364C7",
           "#3364C7",
           "#3364C7",
           "#3364C7",
           "#3364C7",
           "#3364C7",
           "#3364C7",
           "#3364C7",
           "#3364C7",
           "#3364C7",
           "#3364C7",
           "#3364C7",
           "#3364C7",
           "#3364C7",
           "#3364C7",
           "#3364C7",
           "#3364C7",
           "#3364C7",
           "#3364C7",
           "#3364C7",
           "#3364C7",
           "#3364C7",
           "#3364C7",
           "#3364C7",
           "#3364C7",
           "#3364C7",
           "#3364C7",
           "#3364C7",
           "#3364C7",
           "#3364C7",
           "#3364C7",
           "#3364C7",
           "#3364C7",
           "#3364C7",
           "#3364C7",
           "#3364C7",
           "#3364C7",
           "#3364C7",
           "#3364C7",
           "#3364C7",
           "#3364C7",
           "#3364C7",
           "#3364C7",
           "#3364C7",
           "#3364C7",
           "#3364C7",
           "#3364C7",
           "#3364C7",
           "#3364C7",
           "#3364C7",
           "#3364C7",
           "#3364C7",
           "#3364C7",
           "#3364C7",
           "#3364C7",
           "#3364C7",
           "#3364C7",
           "#3364C7",
           "#3364C7",
           "#3364C7",
           "#3364C7",
           "#3364C7",
           "#3364C7",
           "#3364C7",
           "#3364C7",
           "#3364C7",
           "#3364C7",
           "#3364C7",
           "#3364C7",
           "#3364C7",
           "#3364C7",
           "#3364C7",
           "#3364C7",
           "#3364C7",
           "#3364C7",
           "#3364C7",
           "#3364C7",
           "#3364C7",
           "#3364C7",
           "#3364C7",
           "#3364C7",
           "#3364C7",
           "#3364C7",
           "#3364C7",
           "#3364C7",
           "#3364C7",
           "#3364C7",
           "#3364C7",
           "#3364C7",
           "#3364C7",
           "#3364C7",
           "#3364C7",
           "#3364C7",
           "#3364C7",
           "#3364C7",
           "#3364C7",
           "#3364C7",
           "#3364C7",
           "#3364C7",
           "#3364C7",
           "#3364C7",
           "#3364C7",
           "#3364C7",
           "#3364C7",
           "#3364C7",
           "#3364C7",
           "#3364C7",
           "#3364C7",
           "#3364C7",
           "#3364C7",
           "#3364C7",
           "#3364C7",
           "#3364C7",
           "#3364C7",
           "#3364C7",
           "#3364C7",
           "#3364C7",
           "#3364C7",
           "#3364C7",
           "#3364C7",
           "#3364C7",
           "#3364C7",
           "#3364C7",
           "#3364C7",
           "#3364C7",
           "#3364C7",
           "#3364C7",
           "#3364C7",
           "#3364C7",
           "#3364C7",
           "#3364C7",
           "#3364C7",
           "#3364C7",
           "#3364C7",
           "#3364C7",
           "#3364C7",
           "#3364C7",
           "#3364C7",
           "#3364C7",
           "#3364C7",
           "#3364C7",
           "#3364C7",
           "#3364C7",
           "#3364C7",
           "#3364C7",
           "#3364C7",
           "#3364C7",
           "#3364C7",
           "#3364C7",
           "#3364C7",
           "#3364C7",
           "#3364C7",
           "#3364C7",
           "#3364C7",
           "#3364C7",
           "#3364C7",
           "#3364C7",
           "#3364C7",
           "#3364C7",
           "#3364C7",
           "#3364C7",
           "#3364C7",
           "#3364C7",
           "#3364C7",
           "#3364C7",
           "#3364C7",
           "#3364C7",
           "#3364C7",
           "#3364C7",
           "#3364C7",
           "#3364C7",
           "#3364C7",
           "#3364C7",
           "#3364C7",
           "#3364C7",
           "#3364C7",
           "#3364C7",
           "#3364C7",
           "#3364C7",
           "#3364C7",
           "#3364C7",
           "#3364C7",
           "#3364C7",
           "#3364C7",
           "#3364C7",
           "#3364C7",
           "#3364C7",
           "#3364C7",
           "#3364C7",
           "#3364C7",
           "#3364C7",
           "#3364C7",
           "#3364C7",
           "#3364C7",
           "#3364C7",
           "#3364C7",
           "#3364C7",
           "#3364C7",
           "#3364C7",
           "#3364C7",
           "#3364C7",
           "#3364C7",
           "#3364C7",
           "#3364C7",
           "#3364C7",
           "#3364C7",
           "#3364C7",
           "#3364C7",
           "#3364C7",
           "#3364C7",
           "#3364C7",
           "#3364C7",
           "#3364C7",
           "#3364C7",
           "#3364C7",
           "#3364C7",
           "#3364C7",
           "#3364C7",
           "#3364C7",
           "#3364C7",
           "#3364C7",
           "#3364C7",
           "#3364C7",
           "#3364C7",
           "#3364C7",
           "#3364C7",
           "#3364C7",
           "#3364C7",
           "#3364C7",
           "#3364C7",
           "#3364C7",
           "#3364C7",
           "#3364C7",
           "#3364C7",
           "#3364C7",
           "#3364C7",
           "#3364C7",
           "#3364C7",
           "#3364C7",
           "#3364C7",
           "#3364C7",
           "#3364C7",
           "#3364C7",
           "#3364C7",
           "#3364C7",
           "#3364C7",
           "#3364C7",
           "#3364C7",
           "#3364C7",
           "#3364C7",
           "#3364C7",
           "#3364C7",
           "#3364C7",
           "#3364C7",
           "#3364C7",
           "#3364C7",
           "#3364C7",
           "#3364C7",
           "#3364C7",
           "#3364C7",
           "#3364C7",
           "#3364C7",
           "#3364C7",
           "#3364C7",
           "#3364C7",
           "#3364C7",
           "#3364C7",
           "#3364C7",
           "#3364C7",
           "#3364C7",
           "#3364C7",
           "#3364C7",
           "#3364C7",
           "#3364C7",
           "#3364C7",
           "#3364C7",
           "#3364C7",
           "#3364C7",
           "#3364C7",
           "#3364C7",
           "#3364C7",
           "#3364C7",
           "#3364C7",
           "#3364C7",
           "#3364C7",
           "#3364C7",
           "#3364C7",
           "#3364C7",
           "#3364C7",
           "#3364C7",
           "#3364C7",
           "#3364C7",
           "#3364C7",
           "#3364C7",
           "#3364C7",
           "#3364C7",
           "#3364C7",
           "#3364C7",
           "#3364C7",
           "#3364C7",
           "#3364C7",
           "#3364C7",
           "#3364C7",
           "#3364C7",
           "#3364C7",
           "#3364C7",
           "#3364C7",
           "#3364C7",
           "#3364C7",
           "#3364C7",
           "#3364C7",
           "#3364C7",
           "#3364C7",
           "#3364C7",
           "#3364C7",
           "#3364C7",
           "#3364C7",
           "#3364C7",
           "#3364C7",
           "#3364C7",
           "#3364C7",
           "#3364C7",
           "#3364C7",
           "#3364C7",
           "#3364C7",
           "#3364C7",
           "#3364C7",
           "#3364C7",
           "#3364C7",
           "#3364C7",
           "#3364C7",
           "#3364C7",
           "#3364C7",
           "#3364C7",
           "#3364C7",
           "#3364C7",
           "#3364C7",
           "#3364C7",
           "#3364C7",
           "#3364C7",
           "#3364C7",
           "#3364C7",
           "#3364C7",
           "#3364C7",
           "#3364C7",
           "#3364C7",
           "#3364C7",
           "#3364C7",
           "#3364C7",
           "#3364C7",
           "#3364C7",
           "#3364C7",
           "#3364C7",
           "#3364C7",
           "#3364C7",
           "#3364C7",
           "#3364C7",
           "#3364C7",
           "#3364C7",
           "#3364C7",
           "#3364C7",
           "#3364C7",
           "#3364C7",
           "#3364C7",
           "#3364C7",
           "#3364C7",
           "#3364C7",
           "#3364C7",
           "#3364C7",
           "#3364C7",
           "#3364C7",
           "#3364C7",
           "#3364C7",
           "#3364C7",
           "#3364C7",
           "#3364C7",
           "#3364C7",
           "#3364C7",
           "#3364C7",
           "#3364C7",
           "#3364C7",
           "#3364C7",
           "#3364C7",
           "#3364C7",
           "#3364C7",
           "#3364C7",
           "#3364C7",
           "#3364C7",
           "#3364C7",
           "#3364C7",
           "#3364C7",
           "#3364C7",
           "#3364C7",
           "#3364C7",
           "#3364C7",
           "#3364C7",
           "#3364C7",
           "#3364C7",
           "#3364C7",
           "#3364C7",
           "#3364C7",
           "#3364C7",
           "#3364C7",
           "#3364C7",
           "#3364C7",
           "#3364C7",
           "#3364C7",
           "#3364C7",
           "#3364C7",
           "#3364C7",
           "#3364C7",
           "#3364C7",
           "#3364C7",
           "#3364C7",
           "#3364C7",
           "#3364C7",
           "#3364C7",
           "#3364C7",
           "#3364C7",
           "#3364C7",
           "#3364C7",
           "#3364C7",
           "#3364C7",
           "#3364C7",
           "#3364C7",
           "#3364C7",
           "#3364C7",
           "#3364C7",
           "#3364C7",
           "#3364C7",
           "#3364C7",
           "#3364C7",
           "#3364C7",
           "#3364C7",
           "#3364C7",
           "#3364C7",
           "#3364C7",
           "#3364C7",
           "#3364C7",
           "#3364C7",
           "#3364C7",
           "#3364C7",
           "#3364C7",
           "#3364C7",
           "#3364C7",
           "#3364C7",
           "#3364C7",
           "#3364C7",
           "#3364C7",
           "#3364C7",
           "#3364C7",
           "#3364C7",
           "#3364C7",
           "#3364C7",
           "#3364C7",
           "#3364C7",
           "#3364C7",
           "#3364C7",
           "#3364C7",
           "#3364C7",
           "#3364C7",
           "#3364C7",
           "#3364C7",
           "#3364C7",
           "#3364C7",
           "#3364C7",
           "#3364C7",
           "#3364C7",
           "#3364C7",
           "#3364C7",
           "#3364C7",
           "#3364C7",
           "#3364C7",
           "#3364C7",
           "#3364C7",
           "#3364C7",
           "#3364C7",
           "#3364C7",
           "#3364C7",
           "#3364C7",
           "#3364C7",
           "#3364C7",
           "#3364C7",
           "#3364C7",
           "#3364C7",
           "#3364C7",
           "#3364C7",
           "#3364C7",
           "#3364C7",
           "#3364C7",
           "#3364C7",
           "#3364C7",
           "#3364C7",
           "#3364C7",
           "#3364C7",
           "#3364C7",
           "#3364C7",
           "#3364C7",
           "#3364C7",
           "#3364C7",
           "#3364C7",
           "#3364C7",
           "#3364C7",
           "#3364C7",
           "#3364C7",
           "#3364C7",
           "#3364C7",
           "#3364C7",
           "#3364C7",
           "#3364C7",
           "#3364C7",
           "#3364C7",
           "#3364C7",
           "#3364C7",
           "#3364C7",
           "#3364C7",
           "#3364C7",
           "#3364C7",
           "#3364C7",
           "#3364C7",
           "#3364C7",
           "#3364C7",
           "#3364C7",
           "#3364C7",
           "#3364C7",
           "#3364C7",
           "#3364C7",
           "#3364C7",
           "#3364C7",
           "#3364C7",
           "#3364C7",
           "#3364C7",
           "#3364C7",
           "#3364C7",
           "#3364C7",
           "#3364C7",
           "#3364C7",
           "#3364C7",
           "#3364C7",
           "#3364C7",
           "#3364C7",
           "#3364C7",
           "#3364C7",
           "#3364C7",
           "#3364C7",
           "#3364C7",
           "#3364C7",
           "#3364C7",
           "#3364C7",
           "#3364C7",
           "#3364C7",
           "#3364C7",
           "#3364C7",
           "#3364C7"
          ],
          "pattern": {
           "shape": ""
          }
         },
         "name": "",
         "offsetgroup": "",
         "orientation": "h",
         "showlegend": false,
         "text": [
          80,
          81,
          82,
          82,
          84,
          85,
          86,
          88,
          90,
          91,
          93,
          94,
          94,
          96,
          98,
          98,
          100,
          100,
          101,
          106,
          106,
          107,
          107,
          128,
          129,
          147,
          150,
          161,
          219,
          427
         ],
         "textposition": "outside",
         "type": "bar",
         "x": [
          80,
          81,
          82,
          82,
          84,
          85,
          86,
          88,
          90,
          91,
          93,
          94,
          94,
          96,
          98,
          98,
          100,
          100,
          101,
          106,
          106,
          107,
          107,
          128,
          129,
          147,
          150,
          161,
          219,
          427
         ],
         "xaxis": "x",
         "y": [
          "Puerres (Nariño)",
          "Pulí (Cundinamarca)",
          "Cumbitara (Nariño)",
          "Rionegro (Antioquia)",
          "Busbanzá (Boyacá)",
          "La Victoria (Boyacá)",
          "Sincelejo (Sucre)",
          "Sativasur (Boyacá)",
          "Mitú (Vaupés)",
          "Albán (Nariño)",
          "Puerto Arica (Amazonas)",
          "Tutazá (Boyacá)",
          "Potosí (Nariño)",
          "Mallama (Nariño)",
          "Policarpa (Nariño)",
          "Iza (Boyacá)",
          "Beltrán (Cundinamarca)",
          "Oicatá (Boyacá)",
          "San Juan del Cesar (La Guajira)",
          "Río Iró (Chocó)",
          "Tunja (Boyacá)",
          "Puerto Colombia (Atlántico)",
          "Quibdó (Chocó)",
          "Papunahua (Vaupés)",
          "Puerto Alegría (Amazonas)",
          "Carurú (Vaupés)",
          "La Victoria (Amazonas)",
          "Taraira (Vaupés)",
          "Pacoa (Vaupés)",
          "Yavaraté (Vaupés)"
         ],
         "yaxis": "y"
        }
       ],
       "layout": {
        "barmode": "relative",
        "height": 700,
        "legend": {
         "tracegroupgap": 0
        },
        "margin": {
         "t": 60
        },
        "template": {
         "data": {
          "bar": [
           {
            "error_x": {
             "color": "#2a3f5f"
            },
            "error_y": {
             "color": "#2a3f5f"
            },
            "marker": {
             "line": {
              "color": "#E5ECF6",
              "width": 0.5
             },
             "pattern": {
              "fillmode": "overlay",
              "size": 10,
              "solidity": 0.2
             }
            },
            "type": "bar"
           }
          ],
          "barpolar": [
           {
            "marker": {
             "line": {
              "color": "#E5ECF6",
              "width": 0.5
             },
             "pattern": {
              "fillmode": "overlay",
              "size": 10,
              "solidity": 0.2
             }
            },
            "type": "barpolar"
           }
          ],
          "carpet": [
           {
            "aaxis": {
             "endlinecolor": "#2a3f5f",
             "gridcolor": "white",
             "linecolor": "white",
             "minorgridcolor": "white",
             "startlinecolor": "#2a3f5f"
            },
            "baxis": {
             "endlinecolor": "#2a3f5f",
             "gridcolor": "white",
             "linecolor": "white",
             "minorgridcolor": "white",
             "startlinecolor": "#2a3f5f"
            },
            "type": "carpet"
           }
          ],
          "choropleth": [
           {
            "colorbar": {
             "outlinewidth": 0,
             "ticks": ""
            },
            "type": "choropleth"
           }
          ],
          "contour": [
           {
            "colorbar": {
             "outlinewidth": 0,
             "ticks": ""
            },
            "colorscale": [
             [
              0,
              "#0d0887"
             ],
             [
              0.1111111111111111,
              "#46039f"
             ],
             [
              0.2222222222222222,
              "#7201a8"
             ],
             [
              0.3333333333333333,
              "#9c179e"
             ],
             [
              0.4444444444444444,
              "#bd3786"
             ],
             [
              0.5555555555555556,
              "#d8576b"
             ],
             [
              0.6666666666666666,
              "#ed7953"
             ],
             [
              0.7777777777777778,
              "#fb9f3a"
             ],
             [
              0.8888888888888888,
              "#fdca26"
             ],
             [
              1,
              "#f0f921"
             ]
            ],
            "type": "contour"
           }
          ],
          "contourcarpet": [
           {
            "colorbar": {
             "outlinewidth": 0,
             "ticks": ""
            },
            "type": "contourcarpet"
           }
          ],
          "heatmap": [
           {
            "colorbar": {
             "outlinewidth": 0,
             "ticks": ""
            },
            "colorscale": [
             [
              0,
              "#0d0887"
             ],
             [
              0.1111111111111111,
              "#46039f"
             ],
             [
              0.2222222222222222,
              "#7201a8"
             ],
             [
              0.3333333333333333,
              "#9c179e"
             ],
             [
              0.4444444444444444,
              "#bd3786"
             ],
             [
              0.5555555555555556,
              "#d8576b"
             ],
             [
              0.6666666666666666,
              "#ed7953"
             ],
             [
              0.7777777777777778,
              "#fb9f3a"
             ],
             [
              0.8888888888888888,
              "#fdca26"
             ],
             [
              1,
              "#f0f921"
             ]
            ],
            "type": "heatmap"
           }
          ],
          "heatmapgl": [
           {
            "colorbar": {
             "outlinewidth": 0,
             "ticks": ""
            },
            "colorscale": [
             [
              0,
              "#0d0887"
             ],
             [
              0.1111111111111111,
              "#46039f"
             ],
             [
              0.2222222222222222,
              "#7201a8"
             ],
             [
              0.3333333333333333,
              "#9c179e"
             ],
             [
              0.4444444444444444,
              "#bd3786"
             ],
             [
              0.5555555555555556,
              "#d8576b"
             ],
             [
              0.6666666666666666,
              "#ed7953"
             ],
             [
              0.7777777777777778,
              "#fb9f3a"
             ],
             [
              0.8888888888888888,
              "#fdca26"
             ],
             [
              1,
              "#f0f921"
             ]
            ],
            "type": "heatmapgl"
           }
          ],
          "histogram": [
           {
            "marker": {
             "pattern": {
              "fillmode": "overlay",
              "size": 10,
              "solidity": 0.2
             }
            },
            "type": "histogram"
           }
          ],
          "histogram2d": [
           {
            "colorbar": {
             "outlinewidth": 0,
             "ticks": ""
            },
            "colorscale": [
             [
              0,
              "#0d0887"
             ],
             [
              0.1111111111111111,
              "#46039f"
             ],
             [
              0.2222222222222222,
              "#7201a8"
             ],
             [
              0.3333333333333333,
              "#9c179e"
             ],
             [
              0.4444444444444444,
              "#bd3786"
             ],
             [
              0.5555555555555556,
              "#d8576b"
             ],
             [
              0.6666666666666666,
              "#ed7953"
             ],
             [
              0.7777777777777778,
              "#fb9f3a"
             ],
             [
              0.8888888888888888,
              "#fdca26"
             ],
             [
              1,
              "#f0f921"
             ]
            ],
            "type": "histogram2d"
           }
          ],
          "histogram2dcontour": [
           {
            "colorbar": {
             "outlinewidth": 0,
             "ticks": ""
            },
            "colorscale": [
             [
              0,
              "#0d0887"
             ],
             [
              0.1111111111111111,
              "#46039f"
             ],
             [
              0.2222222222222222,
              "#7201a8"
             ],
             [
              0.3333333333333333,
              "#9c179e"
             ],
             [
              0.4444444444444444,
              "#bd3786"
             ],
             [
              0.5555555555555556,
              "#d8576b"
             ],
             [
              0.6666666666666666,
              "#ed7953"
             ],
             [
              0.7777777777777778,
              "#fb9f3a"
             ],
             [
              0.8888888888888888,
              "#fdca26"
             ],
             [
              1,
              "#f0f921"
             ]
            ],
            "type": "histogram2dcontour"
           }
          ],
          "mesh3d": [
           {
            "colorbar": {
             "outlinewidth": 0,
             "ticks": ""
            },
            "type": "mesh3d"
           }
          ],
          "parcoords": [
           {
            "line": {
             "colorbar": {
              "outlinewidth": 0,
              "ticks": ""
             }
            },
            "type": "parcoords"
           }
          ],
          "pie": [
           {
            "automargin": true,
            "type": "pie"
           }
          ],
          "scatter": [
           {
            "fillpattern": {
             "fillmode": "overlay",
             "size": 10,
             "solidity": 0.2
            },
            "type": "scatter"
           }
          ],
          "scatter3d": [
           {
            "line": {
             "colorbar": {
              "outlinewidth": 0,
              "ticks": ""
             }
            },
            "marker": {
             "colorbar": {
              "outlinewidth": 0,
              "ticks": ""
             }
            },
            "type": "scatter3d"
           }
          ],
          "scattercarpet": [
           {
            "marker": {
             "colorbar": {
              "outlinewidth": 0,
              "ticks": ""
             }
            },
            "type": "scattercarpet"
           }
          ],
          "scattergeo": [
           {
            "marker": {
             "colorbar": {
              "outlinewidth": 0,
              "ticks": ""
             }
            },
            "type": "scattergeo"
           }
          ],
          "scattergl": [
           {
            "marker": {
             "colorbar": {
              "outlinewidth": 0,
              "ticks": ""
             }
            },
            "type": "scattergl"
           }
          ],
          "scattermapbox": [
           {
            "marker": {
             "colorbar": {
              "outlinewidth": 0,
              "ticks": ""
             }
            },
            "type": "scattermapbox"
           }
          ],
          "scatterpolar": [
           {
            "marker": {
             "colorbar": {
              "outlinewidth": 0,
              "ticks": ""
             }
            },
            "type": "scatterpolar"
           }
          ],
          "scatterpolargl": [
           {
            "marker": {
             "colorbar": {
              "outlinewidth": 0,
              "ticks": ""
             }
            },
            "type": "scatterpolargl"
           }
          ],
          "scatterternary": [
           {
            "marker": {
             "colorbar": {
              "outlinewidth": 0,
              "ticks": ""
             }
            },
            "type": "scatterternary"
           }
          ],
          "surface": [
           {
            "colorbar": {
             "outlinewidth": 0,
             "ticks": ""
            },
            "colorscale": [
             [
              0,
              "#0d0887"
             ],
             [
              0.1111111111111111,
              "#46039f"
             ],
             [
              0.2222222222222222,
              "#7201a8"
             ],
             [
              0.3333333333333333,
              "#9c179e"
             ],
             [
              0.4444444444444444,
              "#bd3786"
             ],
             [
              0.5555555555555556,
              "#d8576b"
             ],
             [
              0.6666666666666666,
              "#ed7953"
             ],
             [
              0.7777777777777778,
              "#fb9f3a"
             ],
             [
              0.8888888888888888,
              "#fdca26"
             ],
             [
              1,
              "#f0f921"
             ]
            ],
            "type": "surface"
           }
          ],
          "table": [
           {
            "cells": {
             "fill": {
              "color": "#EBF0F8"
             },
             "line": {
              "color": "white"
             }
            },
            "header": {
             "fill": {
              "color": "#C8D4E3"
             },
             "line": {
              "color": "white"
             }
            },
            "type": "table"
           }
          ]
         },
         "layout": {
          "annotationdefaults": {
           "arrowcolor": "#2a3f5f",
           "arrowhead": 0,
           "arrowwidth": 1
          },
          "autotypenumbers": "strict",
          "coloraxis": {
           "colorbar": {
            "outlinewidth": 0,
            "ticks": ""
           }
          },
          "colorscale": {
           "diverging": [
            [
             0,
             "#8e0152"
            ],
            [
             0.1,
             "#c51b7d"
            ],
            [
             0.2,
             "#de77ae"
            ],
            [
             0.3,
             "#f1b6da"
            ],
            [
             0.4,
             "#fde0ef"
            ],
            [
             0.5,
             "#f7f7f7"
            ],
            [
             0.6,
             "#e6f5d0"
            ],
            [
             0.7,
             "#b8e186"
            ],
            [
             0.8,
             "#7fbc41"
            ],
            [
             0.9,
             "#4d9221"
            ],
            [
             1,
             "#276419"
            ]
           ],
           "sequential": [
            [
             0,
             "#0d0887"
            ],
            [
             0.1111111111111111,
             "#46039f"
            ],
            [
             0.2222222222222222,
             "#7201a8"
            ],
            [
             0.3333333333333333,
             "#9c179e"
            ],
            [
             0.4444444444444444,
             "#bd3786"
            ],
            [
             0.5555555555555556,
             "#d8576b"
            ],
            [
             0.6666666666666666,
             "#ed7953"
            ],
            [
             0.7777777777777778,
             "#fb9f3a"
            ],
            [
             0.8888888888888888,
             "#fdca26"
            ],
            [
             1,
             "#f0f921"
            ]
           ],
           "sequentialminus": [
            [
             0,
             "#0d0887"
            ],
            [
             0.1111111111111111,
             "#46039f"
            ],
            [
             0.2222222222222222,
             "#7201a8"
            ],
            [
             0.3333333333333333,
             "#9c179e"
            ],
            [
             0.4444444444444444,
             "#bd3786"
            ],
            [
             0.5555555555555556,
             "#d8576b"
            ],
            [
             0.6666666666666666,
             "#ed7953"
            ],
            [
             0.7777777777777778,
             "#fb9f3a"
            ],
            [
             0.8888888888888888,
             "#fdca26"
            ],
            [
             1,
             "#f0f921"
            ]
           ]
          },
          "colorway": [
           "#636efa",
           "#EF553B",
           "#00cc96",
           "#ab63fa",
           "#FFA15A",
           "#19d3f3",
           "#FF6692",
           "#B6E880",
           "#FF97FF",
           "#FECB52"
          ],
          "font": {
           "color": "#2a3f5f"
          },
          "geo": {
           "bgcolor": "white",
           "lakecolor": "white",
           "landcolor": "#E5ECF6",
           "showlakes": true,
           "showland": true,
           "subunitcolor": "white"
          },
          "hoverlabel": {
           "align": "left"
          },
          "hovermode": "closest",
          "mapbox": {
           "style": "light"
          },
          "paper_bgcolor": "white",
          "plot_bgcolor": "#E5ECF6",
          "polar": {
           "angularaxis": {
            "gridcolor": "white",
            "linecolor": "white",
            "ticks": ""
           },
           "bgcolor": "#E5ECF6",
           "radialaxis": {
            "gridcolor": "white",
            "linecolor": "white",
            "ticks": ""
           }
          },
          "scene": {
           "xaxis": {
            "backgroundcolor": "#E5ECF6",
            "gridcolor": "white",
            "gridwidth": 2,
            "linecolor": "white",
            "showbackground": true,
            "ticks": "",
            "zerolinecolor": "white"
           },
           "yaxis": {
            "backgroundcolor": "#E5ECF6",
            "gridcolor": "white",
            "gridwidth": 2,
            "linecolor": "white",
            "showbackground": true,
            "ticks": "",
            "zerolinecolor": "white"
           },
           "zaxis": {
            "backgroundcolor": "#E5ECF6",
            "gridcolor": "white",
            "gridwidth": 2,
            "linecolor": "white",
            "showbackground": true,
            "ticks": "",
            "zerolinecolor": "white"
           }
          },
          "shapedefaults": {
           "line": {
            "color": "#2a3f5f"
           }
          },
          "ternary": {
           "aaxis": {
            "gridcolor": "white",
            "linecolor": "white",
            "ticks": ""
           },
           "baxis": {
            "gridcolor": "white",
            "linecolor": "white",
            "ticks": ""
           },
           "bgcolor": "#E5ECF6",
           "caxis": {
            "gridcolor": "white",
            "linecolor": "white",
            "ticks": ""
           }
          },
          "title": {
           "x": 0.05
          },
          "xaxis": {
           "automargin": true,
           "gridcolor": "white",
           "linecolor": "white",
           "ticks": "",
           "title": {
            "standoff": 15
           },
           "zerolinecolor": "white",
           "zerolinewidth": 2
          },
          "yaxis": {
           "automargin": true,
           "gridcolor": "white",
           "linecolor": "white",
           "ticks": "",
           "title": {
            "standoff": 15
           },
           "zerolinecolor": "white",
           "zerolinewidth": 2
          }
         }
        },
        "title": {
         "text": "Número de IPS por cada 100 mil habitantes por Municipio - 2022"
        },
        "width": 800,
        "xaxis": {
         "anchor": "y",
         "domain": [
          0,
          1
         ],
         "range": [
          0,
          460
         ],
         "title": {
          "text": "IPS por cada 100 mil habitantes"
         }
        },
        "yaxis": {
         "anchor": "x",
         "domain": [
          0,
          1
         ],
         "title": {
          "text": "Municipio"
         }
        }
       }
      }
     },
     "metadata": {},
     "output_type": "display_data"
    }
   ],
   "source": [
    "top_bars = 30\n",
    "fig = px.bar(data_frame=df_ips_por_habitantes.iloc[-top_bars:], \n",
    "             x='IPS/Habitantes', \n",
    "             y='Municipio_Departamento', \n",
    "             orientation='h')\n",
    "\n",
    "fig.update_xaxes(title_text='IPS por cada 100 mil habitantes')\n",
    "fig.update_xaxes(range=[0,460])\n",
    "fig.update_yaxes(title_text='Municipio')\n",
    "fig.update_layout(title='Número de IPS por cada 100 mil habitantes por Municipio - 2022')\n",
    "\n",
    "color_sequence = ['#3364C7' for i in df_ips_por_habitantes['Municipio']]\n",
    "fig.update_traces(marker=dict(color=color_sequence))\n",
    "\n",
    "fig.update_traces(text=df_ips_por_habitantes['IPS/Habitantes'].iloc[-top_bars:], textposition='outside')\n",
    "\n",
    "# fig.update_layout(plot_bgcolor='rgba(0,0,0,0)')\n",
    "\n",
    "fig.update_layout(width=800, height=700)\n",
    "\n",
    "fig.show()"
   ]
  },
  {
   "cell_type": "code",
   "execution_count": 238,
   "metadata": {},
   "outputs": [
    {
     "data": {
      "application/vnd.plotly.v1+json": {
       "config": {
        "plotlyServerURL": "https://plot.ly"
       },
       "data": [
        {
         "alignmentgroup": "True",
         "hovertemplate": "IPS/Habitantes=%{x}<br>Municipio_Departamento=%{y}<extra></extra>",
         "legendgroup": "",
         "marker": {
          "color": [
           "#3364C7",
           "#3364C7",
           "#3364C7",
           "#3364C7",
           "#3364C7",
           "#3364C7",
           "#3364C7",
           "#3364C7",
           "#3364C7",
           "#3364C7",
           "#3364C7",
           "#3364C7",
           "#3364C7",
           "#3364C7",
           "#3364C7",
           "#3364C7",
           "#3364C7",
           "#3364C7",
           "#3364C7",
           "#3364C7",
           "#3364C7",
           "#3364C7",
           "#3364C7",
           "#3364C7",
           "#3364C7",
           "#3364C7",
           "#3364C7",
           "#3364C7",
           "#3364C7",
           "#3364C7",
           "#3364C7",
           "#3364C7",
           "#3364C7",
           "#3364C7",
           "#3364C7",
           "#3364C7",
           "#3364C7",
           "#3364C7",
           "#3364C7",
           "#3364C7",
           "#3364C7",
           "#3364C7",
           "#3364C7",
           "#3364C7",
           "#3364C7",
           "#3364C7",
           "#3364C7",
           "#3364C7",
           "#3364C7",
           "#3364C7",
           "#3364C7",
           "#3364C7",
           "#3364C7",
           "#3364C7",
           "#3364C7",
           "#3364C7",
           "#3364C7",
           "#3364C7",
           "#3364C7",
           "#3364C7",
           "#3364C7",
           "#3364C7",
           "#3364C7",
           "#3364C7",
           "#3364C7",
           "#3364C7",
           "#3364C7",
           "#3364C7",
           "#3364C7",
           "#3364C7",
           "#3364C7",
           "#3364C7",
           "#3364C7",
           "#3364C7",
           "#3364C7",
           "#3364C7",
           "#3364C7",
           "#3364C7",
           "#3364C7",
           "#3364C7",
           "#3364C7",
           "#3364C7",
           "#3364C7",
           "#3364C7",
           "#3364C7",
           "#3364C7",
           "#3364C7",
           "#3364C7",
           "#3364C7",
           "#3364C7",
           "#3364C7",
           "#3364C7",
           "#3364C7",
           "#3364C7",
           "#3364C7",
           "#3364C7",
           "#3364C7",
           "#3364C7",
           "#3364C7",
           "#3364C7",
           "#3364C7",
           "#3364C7",
           "#3364C7",
           "#3364C7",
           "#3364C7",
           "#3364C7",
           "#3364C7",
           "#3364C7",
           "#3364C7",
           "#3364C7",
           "#3364C7",
           "#3364C7",
           "#3364C7",
           "#3364C7",
           "#3364C7",
           "#3364C7",
           "#3364C7",
           "#3364C7",
           "#3364C7",
           "#3364C7",
           "#3364C7",
           "#3364C7",
           "#3364C7",
           "#3364C7",
           "#3364C7",
           "#3364C7",
           "#3364C7",
           "#3364C7",
           "#3364C7",
           "#3364C7",
           "#3364C7",
           "#3364C7",
           "#3364C7",
           "#3364C7",
           "#3364C7",
           "#3364C7",
           "#3364C7",
           "#3364C7",
           "#3364C7",
           "#3364C7",
           "#3364C7",
           "#3364C7",
           "#3364C7",
           "#3364C7",
           "#3364C7",
           "#3364C7",
           "#3364C7",
           "#3364C7",
           "#3364C7",
           "#3364C7",
           "#3364C7",
           "#3364C7",
           "#3364C7",
           "#3364C7",
           "#3364C7",
           "#3364C7",
           "#3364C7",
           "#3364C7",
           "#3364C7",
           "#3364C7",
           "#3364C7",
           "#3364C7",
           "#3364C7",
           "#3364C7",
           "#3364C7",
           "#3364C7",
           "#3364C7",
           "#3364C7",
           "#3364C7",
           "#3364C7",
           "#3364C7",
           "#3364C7",
           "#3364C7",
           "#3364C7",
           "#3364C7",
           "#3364C7",
           "#3364C7",
           "#3364C7",
           "#3364C7",
           "#3364C7",
           "#3364C7",
           "#3364C7",
           "#3364C7",
           "#3364C7",
           "#3364C7",
           "#3364C7",
           "#3364C7",
           "#3364C7",
           "#3364C7",
           "#3364C7",
           "#3364C7",
           "#3364C7",
           "#3364C7",
           "#3364C7",
           "#3364C7",
           "#3364C7",
           "#3364C7",
           "#3364C7",
           "#3364C7",
           "#3364C7",
           "#3364C7",
           "#3364C7",
           "#3364C7",
           "#3364C7",
           "#3364C7",
           "#3364C7",
           "#3364C7",
           "#3364C7",
           "#3364C7",
           "#3364C7",
           "#3364C7",
           "#3364C7",
           "#3364C7",
           "#3364C7",
           "#3364C7",
           "#3364C7",
           "#3364C7",
           "#3364C7",
           "#3364C7",
           "#3364C7",
           "#3364C7",
           "#3364C7",
           "#3364C7",
           "#3364C7",
           "#3364C7",
           "#3364C7",
           "#3364C7",
           "#3364C7",
           "#3364C7",
           "#3364C7",
           "#3364C7",
           "#3364C7",
           "#3364C7",
           "#3364C7",
           "#3364C7",
           "#3364C7",
           "#3364C7",
           "#3364C7",
           "#3364C7",
           "#3364C7",
           "#3364C7",
           "#3364C7",
           "#3364C7",
           "#3364C7",
           "#3364C7",
           "#3364C7",
           "#3364C7",
           "#3364C7",
           "#3364C7",
           "#3364C7",
           "#3364C7",
           "#3364C7",
           "#3364C7",
           "#3364C7",
           "#3364C7",
           "#3364C7",
           "#3364C7",
           "#3364C7",
           "#3364C7",
           "#3364C7",
           "#3364C7",
           "#3364C7",
           "#3364C7",
           "#3364C7",
           "#3364C7",
           "#3364C7",
           "#3364C7",
           "#3364C7",
           "#3364C7",
           "#3364C7",
           "#3364C7",
           "#3364C7",
           "#3364C7",
           "#3364C7",
           "#3364C7",
           "#3364C7",
           "#3364C7",
           "#3364C7",
           "#3364C7",
           "#3364C7",
           "#3364C7",
           "#3364C7",
           "#3364C7",
           "#3364C7",
           "#3364C7",
           "#3364C7",
           "#3364C7",
           "#3364C7",
           "#3364C7",
           "#3364C7",
           "#3364C7",
           "#3364C7",
           "#3364C7",
           "#3364C7",
           "#3364C7",
           "#3364C7",
           "#3364C7",
           "#3364C7",
           "#3364C7",
           "#3364C7",
           "#3364C7",
           "#3364C7",
           "#3364C7",
           "#3364C7",
           "#3364C7",
           "#3364C7",
           "#3364C7",
           "#3364C7",
           "#3364C7",
           "#3364C7",
           "#3364C7",
           "#3364C7",
           "#3364C7",
           "#3364C7",
           "#3364C7",
           "#3364C7",
           "#3364C7",
           "#3364C7",
           "#3364C7",
           "#3364C7",
           "#3364C7",
           "#3364C7",
           "#3364C7",
           "#3364C7",
           "#3364C7",
           "#3364C7",
           "#3364C7",
           "#3364C7",
           "#3364C7",
           "#3364C7",
           "#3364C7",
           "#3364C7",
           "#3364C7",
           "#3364C7",
           "#3364C7",
           "#3364C7",
           "#3364C7",
           "#3364C7",
           "#3364C7",
           "#3364C7",
           "#3364C7",
           "#3364C7",
           "#3364C7",
           "#3364C7",
           "#3364C7",
           "#3364C7",
           "#3364C7",
           "#3364C7",
           "#3364C7",
           "#3364C7",
           "#3364C7",
           "#3364C7",
           "#3364C7",
           "#3364C7",
           "#3364C7",
           "#3364C7",
           "#3364C7",
           "#3364C7",
           "#3364C7",
           "#3364C7",
           "#3364C7",
           "#3364C7",
           "#3364C7",
           "#3364C7",
           "#3364C7",
           "#3364C7",
           "#3364C7",
           "#3364C7",
           "#3364C7",
           "#3364C7",
           "#3364C7",
           "#3364C7",
           "#3364C7",
           "#3364C7",
           "#3364C7",
           "#3364C7",
           "#3364C7",
           "#3364C7",
           "#3364C7",
           "#3364C7",
           "#3364C7",
           "#3364C7",
           "#3364C7",
           "#3364C7",
           "#3364C7",
           "#3364C7",
           "#3364C7",
           "#3364C7",
           "#3364C7",
           "#3364C7",
           "#3364C7",
           "#3364C7",
           "#3364C7",
           "#3364C7",
           "#3364C7",
           "#3364C7",
           "#3364C7",
           "#3364C7",
           "#3364C7",
           "#3364C7",
           "#3364C7",
           "#3364C7",
           "#3364C7",
           "#3364C7",
           "#3364C7",
           "#3364C7",
           "#3364C7",
           "#3364C7",
           "#3364C7",
           "#3364C7",
           "#3364C7",
           "#3364C7",
           "#3364C7",
           "#3364C7",
           "#3364C7",
           "#3364C7",
           "#3364C7",
           "#3364C7",
           "#3364C7",
           "#3364C7",
           "#3364C7",
           "#3364C7",
           "#3364C7",
           "#3364C7",
           "#3364C7",
           "#3364C7",
           "#3364C7",
           "#3364C7",
           "#3364C7",
           "#3364C7",
           "#3364C7",
           "#3364C7",
           "#3364C7",
           "#3364C7",
           "#3364C7",
           "#3364C7",
           "#3364C7",
           "#3364C7",
           "#3364C7",
           "#3364C7",
           "#3364C7",
           "#3364C7",
           "#3364C7",
           "#3364C7",
           "#3364C7",
           "#3364C7",
           "#3364C7",
           "#3364C7",
           "#3364C7",
           "#3364C7",
           "#3364C7",
           "#3364C7",
           "#3364C7",
           "#3364C7",
           "#3364C7",
           "#3364C7",
           "#3364C7",
           "#3364C7",
           "#3364C7",
           "#3364C7",
           "#3364C7",
           "#3364C7",
           "#3364C7",
           "#3364C7",
           "#3364C7",
           "#3364C7",
           "#3364C7",
           "#3364C7",
           "#3364C7",
           "#3364C7",
           "#3364C7",
           "#3364C7",
           "#3364C7",
           "#3364C7",
           "#3364C7",
           "#3364C7",
           "#3364C7",
           "#3364C7",
           "#3364C7",
           "#3364C7",
           "#3364C7",
           "#3364C7",
           "#3364C7",
           "#3364C7",
           "#3364C7",
           "#3364C7",
           "#3364C7",
           "#3364C7",
           "#3364C7",
           "#3364C7",
           "#3364C7",
           "#3364C7",
           "#3364C7",
           "#3364C7",
           "#3364C7",
           "#3364C7",
           "#3364C7",
           "#3364C7",
           "#3364C7",
           "#3364C7",
           "#3364C7",
           "#3364C7",
           "#3364C7",
           "#3364C7",
           "#3364C7",
           "#3364C7",
           "#3364C7",
           "#3364C7",
           "#3364C7",
           "#3364C7",
           "#3364C7",
           "#3364C7",
           "#3364C7",
           "#3364C7",
           "#3364C7",
           "#3364C7",
           "#3364C7",
           "#3364C7",
           "#3364C7",
           "#3364C7",
           "#3364C7",
           "#3364C7",
           "#3364C7",
           "#3364C7",
           "#3364C7",
           "#3364C7",
           "#3364C7",
           "#3364C7",
           "#3364C7",
           "#3364C7",
           "#3364C7",
           "#3364C7",
           "#3364C7",
           "#3364C7",
           "#3364C7",
           "#3364C7",
           "#3364C7",
           "#3364C7",
           "#3364C7",
           "#3364C7",
           "#3364C7",
           "#3364C7",
           "#3364C7",
           "#3364C7",
           "#3364C7",
           "#3364C7",
           "#3364C7",
           "#3364C7",
           "#3364C7",
           "#3364C7",
           "#3364C7",
           "#3364C7",
           "#3364C7",
           "#3364C7",
           "#3364C7",
           "#3364C7",
           "#3364C7",
           "#3364C7",
           "#3364C7",
           "#3364C7",
           "#3364C7",
           "#3364C7",
           "#3364C7",
           "#3364C7",
           "#3364C7",
           "#3364C7",
           "#3364C7",
           "#3364C7",
           "#3364C7",
           "#3364C7",
           "#3364C7",
           "#3364C7",
           "#3364C7",
           "#3364C7",
           "#3364C7",
           "#3364C7",
           "#3364C7",
           "#3364C7",
           "#3364C7",
           "#3364C7",
           "#3364C7",
           "#3364C7",
           "#3364C7",
           "#3364C7",
           "#3364C7",
           "#3364C7",
           "#3364C7",
           "#3364C7",
           "#3364C7",
           "#3364C7",
           "#3364C7",
           "#3364C7",
           "#3364C7",
           "#3364C7",
           "#3364C7",
           "#3364C7",
           "#3364C7",
           "#3364C7",
           "#3364C7",
           "#3364C7",
           "#3364C7",
           "#3364C7",
           "#3364C7",
           "#3364C7",
           "#3364C7",
           "#3364C7",
           "#3364C7",
           "#3364C7",
           "#3364C7",
           "#3364C7",
           "#3364C7",
           "#3364C7",
           "#3364C7",
           "#3364C7",
           "#3364C7",
           "#3364C7",
           "#3364C7",
           "#3364C7",
           "#3364C7",
           "#3364C7",
           "#3364C7",
           "#3364C7",
           "#3364C7",
           "#3364C7",
           "#3364C7",
           "#3364C7",
           "#3364C7",
           "#3364C7",
           "#3364C7",
           "#3364C7",
           "#3364C7",
           "#3364C7",
           "#3364C7",
           "#3364C7",
           "#3364C7",
           "#3364C7",
           "#3364C7",
           "#3364C7",
           "#3364C7",
           "#3364C7",
           "#3364C7",
           "#3364C7",
           "#3364C7",
           "#3364C7",
           "#3364C7",
           "#3364C7",
           "#3364C7",
           "#3364C7",
           "#3364C7",
           "#3364C7",
           "#3364C7",
           "#3364C7",
           "#3364C7",
           "#3364C7",
           "#3364C7",
           "#3364C7",
           "#3364C7",
           "#3364C7",
           "#3364C7",
           "#3364C7",
           "#3364C7",
           "#3364C7",
           "#3364C7",
           "#3364C7",
           "#3364C7",
           "#3364C7",
           "#3364C7",
           "#3364C7",
           "#3364C7",
           "#3364C7",
           "#3364C7",
           "#3364C7",
           "#3364C7",
           "#3364C7",
           "#3364C7",
           "#3364C7",
           "#3364C7",
           "#3364C7",
           "#3364C7",
           "#3364C7",
           "#3364C7",
           "#3364C7",
           "#3364C7",
           "#3364C7",
           "#3364C7",
           "#3364C7",
           "#3364C7",
           "#3364C7",
           "#3364C7",
           "#3364C7",
           "#3364C7",
           "#3364C7",
           "#3364C7",
           "#3364C7",
           "#3364C7",
           "#3364C7",
           "#3364C7",
           "#3364C7",
           "#3364C7",
           "#3364C7",
           "#3364C7",
           "#3364C7",
           "#3364C7",
           "#3364C7",
           "#3364C7",
           "#3364C7",
           "#3364C7",
           "#3364C7",
           "#3364C7",
           "#3364C7",
           "#3364C7",
           "#3364C7",
           "#3364C7",
           "#3364C7",
           "#3364C7",
           "#3364C7",
           "#3364C7",
           "#3364C7",
           "#3364C7",
           "#3364C7",
           "#3364C7",
           "#3364C7",
           "#3364C7",
           "#3364C7",
           "#3364C7",
           "#3364C7",
           "#3364C7",
           "#3364C7",
           "#3364C7",
           "#3364C7",
           "#3364C7",
           "#3364C7",
           "#3364C7",
           "#3364C7",
           "#3364C7",
           "#3364C7",
           "#3364C7",
           "#3364C7",
           "#3364C7",
           "#3364C7",
           "#3364C7",
           "#3364C7",
           "#3364C7",
           "#3364C7",
           "#3364C7",
           "#3364C7",
           "#3364C7",
           "#3364C7",
           "#3364C7",
           "#3364C7",
           "#3364C7",
           "#3364C7",
           "#3364C7",
           "#3364C7",
           "#3364C7",
           "#3364C7",
           "#3364C7",
           "#3364C7",
           "#3364C7",
           "#3364C7",
           "#3364C7",
           "#3364C7",
           "#3364C7",
           "#3364C7",
           "#3364C7",
           "#3364C7",
           "#3364C7",
           "#3364C7",
           "#3364C7",
           "#3364C7",
           "#3364C7",
           "#3364C7",
           "#3364C7",
           "#3364C7",
           "#3364C7",
           "#3364C7",
           "#3364C7",
           "#3364C7",
           "#3364C7",
           "#3364C7",
           "#3364C7",
           "#3364C7",
           "#3364C7",
           "#3364C7",
           "#3364C7",
           "#3364C7",
           "#3364C7",
           "#3364C7",
           "#3364C7",
           "#3364C7",
           "#3364C7",
           "#3364C7",
           "#3364C7",
           "#3364C7",
           "#3364C7",
           "#3364C7",
           "#3364C7",
           "#3364C7",
           "#3364C7",
           "#3364C7",
           "#3364C7",
           "#3364C7",
           "#3364C7",
           "#3364C7",
           "#3364C7",
           "#3364C7",
           "#3364C7",
           "#3364C7",
           "#3364C7",
           "#3364C7",
           "#3364C7",
           "#3364C7",
           "#3364C7",
           "#3364C7",
           "#3364C7",
           "#3364C7",
           "#3364C7",
           "#3364C7",
           "#3364C7",
           "#3364C7",
           "#3364C7",
           "#3364C7",
           "#3364C7",
           "#3364C7",
           "#3364C7",
           "#3364C7",
           "#3364C7",
           "#3364C7",
           "#3364C7",
           "#3364C7",
           "#3364C7",
           "#3364C7",
           "#3364C7",
           "#3364C7",
           "#3364C7",
           "#3364C7",
           "#3364C7",
           "#3364C7",
           "#3364C7",
           "#3364C7",
           "#3364C7",
           "#3364C7",
           "#3364C7",
           "#3364C7",
           "#3364C7",
           "#3364C7",
           "#3364C7",
           "#3364C7",
           "#3364C7",
           "#3364C7",
           "#3364C7",
           "#3364C7",
           "#3364C7",
           "#3364C7",
           "#3364C7",
           "#3364C7",
           "#3364C7",
           "#3364C7",
           "#3364C7",
           "#3364C7",
           "#3364C7",
           "#3364C7",
           "#3364C7",
           "#3364C7",
           "#3364C7",
           "#3364C7",
           "#3364C7",
           "#3364C7",
           "#3364C7",
           "#3364C7",
           "#3364C7",
           "#3364C7",
           "#3364C7",
           "#3364C7",
           "#3364C7",
           "#3364C7",
           "#3364C7",
           "#3364C7",
           "#3364C7",
           "#3364C7",
           "#3364C7",
           "#3364C7",
           "#3364C7",
           "#3364C7",
           "#3364C7",
           "#3364C7",
           "#3364C7",
           "#3364C7",
           "#3364C7",
           "#3364C7",
           "#3364C7",
           "#3364C7",
           "#3364C7",
           "#3364C7",
           "#3364C7",
           "#3364C7",
           "#3364C7",
           "#3364C7",
           "#3364C7",
           "#3364C7",
           "#3364C7",
           "#3364C7",
           "#3364C7",
           "#3364C7",
           "#3364C7",
           "#3364C7",
           "#3364C7",
           "#3364C7",
           "#3364C7",
           "#3364C7",
           "#3364C7",
           "#3364C7",
           "#3364C7",
           "#3364C7",
           "#3364C7",
           "#3364C7",
           "#3364C7",
           "#3364C7",
           "#3364C7",
           "#3364C7",
           "#3364C7",
           "#3364C7",
           "#3364C7",
           "#3364C7",
           "#3364C7",
           "#3364C7",
           "#3364C7",
           "#3364C7",
           "#3364C7",
           "#3364C7",
           "#3364C7",
           "#3364C7",
           "#3364C7",
           "#3364C7",
           "#3364C7",
           "#3364C7",
           "#3364C7",
           "#3364C7",
           "#3364C7",
           "#3364C7",
           "#3364C7",
           "#3364C7",
           "#3364C7",
           "#3364C7",
           "#3364C7",
           "#3364C7",
           "#3364C7",
           "#3364C7",
           "#3364C7",
           "#3364C7",
           "#3364C7",
           "#3364C7",
           "#3364C7",
           "#3364C7",
           "#3364C7",
           "#3364C7",
           "#3364C7",
           "#3364C7",
           "#3364C7",
           "#3364C7",
           "#3364C7",
           "#3364C7",
           "#3364C7",
           "#3364C7",
           "#3364C7",
           "#3364C7",
           "#3364C7",
           "#3364C7",
           "#3364C7",
           "#3364C7",
           "#3364C7",
           "#3364C7",
           "#3364C7",
           "#3364C7",
           "#3364C7",
           "#3364C7",
           "#3364C7",
           "#3364C7",
           "#3364C7",
           "#3364C7",
           "#3364C7",
           "#3364C7",
           "#3364C7",
           "#3364C7",
           "#3364C7",
           "#3364C7",
           "#3364C7",
           "#3364C7",
           "#3364C7",
           "#3364C7",
           "#3364C7",
           "#3364C7",
           "#3364C7",
           "#3364C7",
           "#3364C7",
           "#3364C7",
           "#3364C7",
           "#3364C7",
           "#3364C7",
           "#3364C7",
           "#3364C7",
           "#3364C7",
           "#3364C7",
           "#3364C7",
           "#3364C7",
           "#3364C7",
           "#3364C7",
           "#3364C7",
           "#3364C7",
           "#3364C7",
           "#3364C7",
           "#3364C7",
           "#3364C7",
           "#3364C7",
           "#3364C7",
           "#3364C7",
           "#3364C7",
           "#3364C7",
           "#3364C7",
           "#3364C7",
           "#3364C7",
           "#3364C7",
           "#3364C7",
           "#3364C7",
           "#3364C7",
           "#3364C7",
           "#3364C7",
           "#3364C7",
           "#3364C7",
           "#3364C7",
           "#3364C7",
           "#3364C7",
           "#3364C7",
           "#3364C7",
           "#3364C7",
           "#3364C7",
           "#3364C7",
           "#3364C7",
           "#3364C7",
           "#3364C7",
           "#3364C7",
           "#3364C7",
           "#3364C7",
           "#3364C7",
           "#3364C7",
           "#3364C7",
           "#3364C7",
           "#3364C7",
           "#3364C7",
           "#3364C7",
           "#3364C7",
           "#3364C7",
           "#3364C7",
           "#3364C7",
           "#3364C7",
           "#3364C7",
           "#3364C7",
           "#3364C7",
           "#3364C7",
           "#3364C7",
           "#3364C7",
           "#3364C7",
           "#3364C7",
           "#3364C7",
           "#3364C7",
           "#3364C7",
           "#3364C7",
           "#3364C7",
           "#3364C7",
           "#3364C7",
           "#3364C7",
           "#3364C7",
           "#3364C7",
           "#3364C7",
           "#3364C7",
           "#3364C7",
           "#3364C7",
           "#3364C7",
           "#3364C7",
           "#3364C7",
           "#3364C7",
           "#3364C7",
           "#3364C7",
           "#3364C7",
           "#3364C7",
           "#3364C7",
           "#3364C7",
           "#3364C7",
           "#3364C7",
           "#3364C7",
           "#3364C7",
           "#3364C7",
           "#3364C7",
           "#3364C7",
           "#3364C7",
           "#3364C7",
           "#3364C7",
           "#3364C7",
           "#3364C7",
           "#3364C7",
           "#3364C7",
           "#3364C7",
           "#3364C7",
           "#3364C7",
           "#3364C7",
           "#3364C7",
           "#3364C7",
           "#3364C7",
           "#3364C7",
           "#3364C7",
           "#3364C7",
           "#3364C7",
           "#3364C7",
           "#3364C7",
           "#3364C7",
           "#3364C7",
           "#3364C7",
           "#3364C7",
           "#3364C7",
           "#3364C7",
           "#3364C7"
          ],
          "pattern": {
           "shape": ""
          }
         },
         "name": "",
         "offsetgroup": "",
         "orientation": "h",
         "showlegend": false,
         "text": [
          0,
          0,
          0,
          0,
          0,
          3,
          3,
          3,
          3,
          3,
          4,
          4,
          4,
          4,
          4,
          4,
          4,
          4,
          4,
          5,
          5,
          5,
          5,
          5,
          5,
          6,
          6,
          6,
          6,
          6
         ],
         "textposition": "outside",
         "type": "bar",
         "x": [
          0,
          0,
          0,
          0,
          0,
          3,
          3,
          3,
          3,
          3,
          4,
          4,
          4,
          4,
          4,
          4,
          4,
          4,
          4,
          5,
          5,
          5,
          5,
          5,
          5,
          6,
          6,
          6,
          6,
          6
         ],
         "xaxis": "x",
         "y": [
          "La Guadalupe (Guainía)",
          "Cacahual (Guainía)",
          "Morichal (Guainía)",
          "Puerto Colombia (Guainía)",
          "Pana Pana (Guainía)",
          "Suárez (Cauca)",
          "Tarazá (Antioquia)",
          "Urrao (Antioquia)",
          "Flandes (Tolima)",
          "Quimbaya (Quindío)",
          "Cogua (Cundinamarca)",
          "Suaza (Huila)",
          "Belén de Umbría (Risaralda)",
          "Timaná (Huila)",
          "Concordia (Antioquia)",
          "San Vicente (Antioquia)",
          "Zaragoza (Antioquia)",
          "Rovira (Tolima)",
          "Santa Bárbara (Antioquia)",
          "Villa Rica (Cauca)",
          "Los Córdobas (Córdoba)",
          "Trujillo (Valle del cauca)",
          "Cumaribo (Vichada)",
          "Chinácota (Norte de Santander)",
          "San Juan de Urabá (Antioquia)",
          "Cocorná (Antioquia)",
          "Cañasgordas (Antioquia)",
          "Aquitania (Boyacá)",
          "Aipe (Huila)",
          "Tocaima (Cundinamarca)"
         ],
         "yaxis": "y"
        }
       ],
       "layout": {
        "barmode": "relative",
        "height": 700,
        "legend": {
         "tracegroupgap": 0
        },
        "margin": {
         "t": 60
        },
        "template": {
         "data": {
          "bar": [
           {
            "error_x": {
             "color": "#2a3f5f"
            },
            "error_y": {
             "color": "#2a3f5f"
            },
            "marker": {
             "line": {
              "color": "#E5ECF6",
              "width": 0.5
             },
             "pattern": {
              "fillmode": "overlay",
              "size": 10,
              "solidity": 0.2
             }
            },
            "type": "bar"
           }
          ],
          "barpolar": [
           {
            "marker": {
             "line": {
              "color": "#E5ECF6",
              "width": 0.5
             },
             "pattern": {
              "fillmode": "overlay",
              "size": 10,
              "solidity": 0.2
             }
            },
            "type": "barpolar"
           }
          ],
          "carpet": [
           {
            "aaxis": {
             "endlinecolor": "#2a3f5f",
             "gridcolor": "white",
             "linecolor": "white",
             "minorgridcolor": "white",
             "startlinecolor": "#2a3f5f"
            },
            "baxis": {
             "endlinecolor": "#2a3f5f",
             "gridcolor": "white",
             "linecolor": "white",
             "minorgridcolor": "white",
             "startlinecolor": "#2a3f5f"
            },
            "type": "carpet"
           }
          ],
          "choropleth": [
           {
            "colorbar": {
             "outlinewidth": 0,
             "ticks": ""
            },
            "type": "choropleth"
           }
          ],
          "contour": [
           {
            "colorbar": {
             "outlinewidth": 0,
             "ticks": ""
            },
            "colorscale": [
             [
              0,
              "#0d0887"
             ],
             [
              0.1111111111111111,
              "#46039f"
             ],
             [
              0.2222222222222222,
              "#7201a8"
             ],
             [
              0.3333333333333333,
              "#9c179e"
             ],
             [
              0.4444444444444444,
              "#bd3786"
             ],
             [
              0.5555555555555556,
              "#d8576b"
             ],
             [
              0.6666666666666666,
              "#ed7953"
             ],
             [
              0.7777777777777778,
              "#fb9f3a"
             ],
             [
              0.8888888888888888,
              "#fdca26"
             ],
             [
              1,
              "#f0f921"
             ]
            ],
            "type": "contour"
           }
          ],
          "contourcarpet": [
           {
            "colorbar": {
             "outlinewidth": 0,
             "ticks": ""
            },
            "type": "contourcarpet"
           }
          ],
          "heatmap": [
           {
            "colorbar": {
             "outlinewidth": 0,
             "ticks": ""
            },
            "colorscale": [
             [
              0,
              "#0d0887"
             ],
             [
              0.1111111111111111,
              "#46039f"
             ],
             [
              0.2222222222222222,
              "#7201a8"
             ],
             [
              0.3333333333333333,
              "#9c179e"
             ],
             [
              0.4444444444444444,
              "#bd3786"
             ],
             [
              0.5555555555555556,
              "#d8576b"
             ],
             [
              0.6666666666666666,
              "#ed7953"
             ],
             [
              0.7777777777777778,
              "#fb9f3a"
             ],
             [
              0.8888888888888888,
              "#fdca26"
             ],
             [
              1,
              "#f0f921"
             ]
            ],
            "type": "heatmap"
           }
          ],
          "heatmapgl": [
           {
            "colorbar": {
             "outlinewidth": 0,
             "ticks": ""
            },
            "colorscale": [
             [
              0,
              "#0d0887"
             ],
             [
              0.1111111111111111,
              "#46039f"
             ],
             [
              0.2222222222222222,
              "#7201a8"
             ],
             [
              0.3333333333333333,
              "#9c179e"
             ],
             [
              0.4444444444444444,
              "#bd3786"
             ],
             [
              0.5555555555555556,
              "#d8576b"
             ],
             [
              0.6666666666666666,
              "#ed7953"
             ],
             [
              0.7777777777777778,
              "#fb9f3a"
             ],
             [
              0.8888888888888888,
              "#fdca26"
             ],
             [
              1,
              "#f0f921"
             ]
            ],
            "type": "heatmapgl"
           }
          ],
          "histogram": [
           {
            "marker": {
             "pattern": {
              "fillmode": "overlay",
              "size": 10,
              "solidity": 0.2
             }
            },
            "type": "histogram"
           }
          ],
          "histogram2d": [
           {
            "colorbar": {
             "outlinewidth": 0,
             "ticks": ""
            },
            "colorscale": [
             [
              0,
              "#0d0887"
             ],
             [
              0.1111111111111111,
              "#46039f"
             ],
             [
              0.2222222222222222,
              "#7201a8"
             ],
             [
              0.3333333333333333,
              "#9c179e"
             ],
             [
              0.4444444444444444,
              "#bd3786"
             ],
             [
              0.5555555555555556,
              "#d8576b"
             ],
             [
              0.6666666666666666,
              "#ed7953"
             ],
             [
              0.7777777777777778,
              "#fb9f3a"
             ],
             [
              0.8888888888888888,
              "#fdca26"
             ],
             [
              1,
              "#f0f921"
             ]
            ],
            "type": "histogram2d"
           }
          ],
          "histogram2dcontour": [
           {
            "colorbar": {
             "outlinewidth": 0,
             "ticks": ""
            },
            "colorscale": [
             [
              0,
              "#0d0887"
             ],
             [
              0.1111111111111111,
              "#46039f"
             ],
             [
              0.2222222222222222,
              "#7201a8"
             ],
             [
              0.3333333333333333,
              "#9c179e"
             ],
             [
              0.4444444444444444,
              "#bd3786"
             ],
             [
              0.5555555555555556,
              "#d8576b"
             ],
             [
              0.6666666666666666,
              "#ed7953"
             ],
             [
              0.7777777777777778,
              "#fb9f3a"
             ],
             [
              0.8888888888888888,
              "#fdca26"
             ],
             [
              1,
              "#f0f921"
             ]
            ],
            "type": "histogram2dcontour"
           }
          ],
          "mesh3d": [
           {
            "colorbar": {
             "outlinewidth": 0,
             "ticks": ""
            },
            "type": "mesh3d"
           }
          ],
          "parcoords": [
           {
            "line": {
             "colorbar": {
              "outlinewidth": 0,
              "ticks": ""
             }
            },
            "type": "parcoords"
           }
          ],
          "pie": [
           {
            "automargin": true,
            "type": "pie"
           }
          ],
          "scatter": [
           {
            "fillpattern": {
             "fillmode": "overlay",
             "size": 10,
             "solidity": 0.2
            },
            "type": "scatter"
           }
          ],
          "scatter3d": [
           {
            "line": {
             "colorbar": {
              "outlinewidth": 0,
              "ticks": ""
             }
            },
            "marker": {
             "colorbar": {
              "outlinewidth": 0,
              "ticks": ""
             }
            },
            "type": "scatter3d"
           }
          ],
          "scattercarpet": [
           {
            "marker": {
             "colorbar": {
              "outlinewidth": 0,
              "ticks": ""
             }
            },
            "type": "scattercarpet"
           }
          ],
          "scattergeo": [
           {
            "marker": {
             "colorbar": {
              "outlinewidth": 0,
              "ticks": ""
             }
            },
            "type": "scattergeo"
           }
          ],
          "scattergl": [
           {
            "marker": {
             "colorbar": {
              "outlinewidth": 0,
              "ticks": ""
             }
            },
            "type": "scattergl"
           }
          ],
          "scattermapbox": [
           {
            "marker": {
             "colorbar": {
              "outlinewidth": 0,
              "ticks": ""
             }
            },
            "type": "scattermapbox"
           }
          ],
          "scatterpolar": [
           {
            "marker": {
             "colorbar": {
              "outlinewidth": 0,
              "ticks": ""
             }
            },
            "type": "scatterpolar"
           }
          ],
          "scatterpolargl": [
           {
            "marker": {
             "colorbar": {
              "outlinewidth": 0,
              "ticks": ""
             }
            },
            "type": "scatterpolargl"
           }
          ],
          "scatterternary": [
           {
            "marker": {
             "colorbar": {
              "outlinewidth": 0,
              "ticks": ""
             }
            },
            "type": "scatterternary"
           }
          ],
          "surface": [
           {
            "colorbar": {
             "outlinewidth": 0,
             "ticks": ""
            },
            "colorscale": [
             [
              0,
              "#0d0887"
             ],
             [
              0.1111111111111111,
              "#46039f"
             ],
             [
              0.2222222222222222,
              "#7201a8"
             ],
             [
              0.3333333333333333,
              "#9c179e"
             ],
             [
              0.4444444444444444,
              "#bd3786"
             ],
             [
              0.5555555555555556,
              "#d8576b"
             ],
             [
              0.6666666666666666,
              "#ed7953"
             ],
             [
              0.7777777777777778,
              "#fb9f3a"
             ],
             [
              0.8888888888888888,
              "#fdca26"
             ],
             [
              1,
              "#f0f921"
             ]
            ],
            "type": "surface"
           }
          ],
          "table": [
           {
            "cells": {
             "fill": {
              "color": "#EBF0F8"
             },
             "line": {
              "color": "white"
             }
            },
            "header": {
             "fill": {
              "color": "#C8D4E3"
             },
             "line": {
              "color": "white"
             }
            },
            "type": "table"
           }
          ]
         },
         "layout": {
          "annotationdefaults": {
           "arrowcolor": "#2a3f5f",
           "arrowhead": 0,
           "arrowwidth": 1
          },
          "autotypenumbers": "strict",
          "coloraxis": {
           "colorbar": {
            "outlinewidth": 0,
            "ticks": ""
           }
          },
          "colorscale": {
           "diverging": [
            [
             0,
             "#8e0152"
            ],
            [
             0.1,
             "#c51b7d"
            ],
            [
             0.2,
             "#de77ae"
            ],
            [
             0.3,
             "#f1b6da"
            ],
            [
             0.4,
             "#fde0ef"
            ],
            [
             0.5,
             "#f7f7f7"
            ],
            [
             0.6,
             "#e6f5d0"
            ],
            [
             0.7,
             "#b8e186"
            ],
            [
             0.8,
             "#7fbc41"
            ],
            [
             0.9,
             "#4d9221"
            ],
            [
             1,
             "#276419"
            ]
           ],
           "sequential": [
            [
             0,
             "#0d0887"
            ],
            [
             0.1111111111111111,
             "#46039f"
            ],
            [
             0.2222222222222222,
             "#7201a8"
            ],
            [
             0.3333333333333333,
             "#9c179e"
            ],
            [
             0.4444444444444444,
             "#bd3786"
            ],
            [
             0.5555555555555556,
             "#d8576b"
            ],
            [
             0.6666666666666666,
             "#ed7953"
            ],
            [
             0.7777777777777778,
             "#fb9f3a"
            ],
            [
             0.8888888888888888,
             "#fdca26"
            ],
            [
             1,
             "#f0f921"
            ]
           ],
           "sequentialminus": [
            [
             0,
             "#0d0887"
            ],
            [
             0.1111111111111111,
             "#46039f"
            ],
            [
             0.2222222222222222,
             "#7201a8"
            ],
            [
             0.3333333333333333,
             "#9c179e"
            ],
            [
             0.4444444444444444,
             "#bd3786"
            ],
            [
             0.5555555555555556,
             "#d8576b"
            ],
            [
             0.6666666666666666,
             "#ed7953"
            ],
            [
             0.7777777777777778,
             "#fb9f3a"
            ],
            [
             0.8888888888888888,
             "#fdca26"
            ],
            [
             1,
             "#f0f921"
            ]
           ]
          },
          "colorway": [
           "#636efa",
           "#EF553B",
           "#00cc96",
           "#ab63fa",
           "#FFA15A",
           "#19d3f3",
           "#FF6692",
           "#B6E880",
           "#FF97FF",
           "#FECB52"
          ],
          "font": {
           "color": "#2a3f5f"
          },
          "geo": {
           "bgcolor": "white",
           "lakecolor": "white",
           "landcolor": "#E5ECF6",
           "showlakes": true,
           "showland": true,
           "subunitcolor": "white"
          },
          "hoverlabel": {
           "align": "left"
          },
          "hovermode": "closest",
          "mapbox": {
           "style": "light"
          },
          "paper_bgcolor": "white",
          "plot_bgcolor": "#E5ECF6",
          "polar": {
           "angularaxis": {
            "gridcolor": "white",
            "linecolor": "white",
            "ticks": ""
           },
           "bgcolor": "#E5ECF6",
           "radialaxis": {
            "gridcolor": "white",
            "linecolor": "white",
            "ticks": ""
           }
          },
          "scene": {
           "xaxis": {
            "backgroundcolor": "#E5ECF6",
            "gridcolor": "white",
            "gridwidth": 2,
            "linecolor": "white",
            "showbackground": true,
            "ticks": "",
            "zerolinecolor": "white"
           },
           "yaxis": {
            "backgroundcolor": "#E5ECF6",
            "gridcolor": "white",
            "gridwidth": 2,
            "linecolor": "white",
            "showbackground": true,
            "ticks": "",
            "zerolinecolor": "white"
           },
           "zaxis": {
            "backgroundcolor": "#E5ECF6",
            "gridcolor": "white",
            "gridwidth": 2,
            "linecolor": "white",
            "showbackground": true,
            "ticks": "",
            "zerolinecolor": "white"
           }
          },
          "shapedefaults": {
           "line": {
            "color": "#2a3f5f"
           }
          },
          "ternary": {
           "aaxis": {
            "gridcolor": "white",
            "linecolor": "white",
            "ticks": ""
           },
           "baxis": {
            "gridcolor": "white",
            "linecolor": "white",
            "ticks": ""
           },
           "bgcolor": "#E5ECF6",
           "caxis": {
            "gridcolor": "white",
            "linecolor": "white",
            "ticks": ""
           }
          },
          "title": {
           "x": 0.05
          },
          "xaxis": {
           "automargin": true,
           "gridcolor": "white",
           "linecolor": "white",
           "ticks": "",
           "title": {
            "standoff": 15
           },
           "zerolinecolor": "white",
           "zerolinewidth": 2
          },
          "yaxis": {
           "automargin": true,
           "gridcolor": "white",
           "linecolor": "white",
           "ticks": "",
           "title": {
            "standoff": 15
           },
           "zerolinecolor": "white",
           "zerolinewidth": 2
          }
         }
        },
        "title": {
         "text": "Número de IPS por Municipio - 2022"
        },
        "width": 800,
        "xaxis": {
         "anchor": "y",
         "domain": [
          0,
          1
         ],
         "title": {
          "text": "Número de IPS"
         }
        },
        "yaxis": {
         "anchor": "x",
         "domain": [
          0,
          1
         ],
         "title": {
          "text": "Municipio"
         }
        }
       }
      }
     },
     "metadata": {},
     "output_type": "display_data"
    }
   ],
   "source": [
    "top_bars = 30\n",
    "fig = px.bar(data_frame=df_ips_por_habitantes.iloc[:top_bars], \n",
    "             x='IPS/Habitantes', \n",
    "             y='Municipio_Departamento', \n",
    "             orientation='h')\n",
    "\n",
    "fig.update_xaxes(title_text='Número de IPS')\n",
    "# fig.update_xaxes(range=[0,3100])\n",
    "fig.update_yaxes(title_text='Municipio')\n",
    "fig.update_layout(title='Número de IPS por Municipio - 2022')\n",
    "\n",
    "color_sequence = ['#3364C7' for i in df_ips_por_habitantes['Municipio_Departamento']]\n",
    "fig.update_traces(marker=dict(color=color_sequence))\n",
    "\n",
    "fig.update_traces(text=df_ips_por_habitantes['IPS/Habitantes'].iloc[:top_bars], textposition='outside')\n",
    "\n",
    "# fig.update_layout(plot_bgcolor='rgba(0,0,0,0)')\n",
    "\n",
    "fig.update_layout(width=800, height=700)\n",
    "\n",
    "fig.show()"
   ]
  },
  {
   "cell_type": "code",
   "execution_count": null,
   "metadata": {},
   "outputs": [],
   "source": []
  }
 ],
 "metadata": {
  "kernelspec": {
   "display_name": "env",
   "language": "python",
   "name": "python3"
  },
  "language_info": {
   "codemirror_mode": {
    "name": "ipython",
    "version": 3
   },
   "file_extension": ".py",
   "mimetype": "text/x-python",
   "name": "python",
   "nbconvert_exporter": "python",
   "pygments_lexer": "ipython3",
   "version": "3.10.6"
  }
 },
 "nbformat": 4,
 "nbformat_minor": 2
}
