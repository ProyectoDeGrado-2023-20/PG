{
 "cells": [
  {
   "cell_type": "code",
   "execution_count": 1,
   "metadata": {},
   "outputs": [],
   "source": [
    "import pandas as pd\n",
    "import osmium\n",
    "import networkx as nx"
   ]
  },
  {
   "cell_type": "markdown",
   "metadata": {},
   "source": [
    "# Datos - Latitud, Longitud - Municipios"
   ]
  },
  {
   "cell_type": "code",
   "execution_count": 2,
   "metadata": {},
   "outputs": [],
   "source": [
    "df_municipios_ubicacion = pd.read_csv('../../Data/DIVIPOLA_Municipios.csv')"
   ]
  },
  {
   "cell_type": "code",
   "execution_count": 3,
   "metadata": {},
   "outputs": [
    {
     "name": "stdout",
     "output_type": "stream",
     "text": [
      "<class 'pandas.core.frame.DataFrame'>\n",
      "RangeIndex: 1121 entries, 0 to 1120\n",
      "Data columns (total 7 columns):\n",
      " #   Column        Non-Null Count  Dtype  \n",
      "---  ------        --------------  -----  \n",
      " 0   Código_Dep    1121 non-null   int64  \n",
      " 1   Departamento  1121 non-null   object \n",
      " 2   Código_Mun    1121 non-null   int64  \n",
      " 3   Municipio     1121 non-null   object \n",
      " 4   Tipo          1121 non-null   object \n",
      " 5   Latitud       1121 non-null   float64\n",
      " 6   Longitud      1121 non-null   float64\n",
      "dtypes: float64(2), int64(2), object(3)\n",
      "memory usage: 61.4+ KB\n"
     ]
    }
   ],
   "source": [
    "df_municipios_ubicacion.info()"
   ]
  },
  {
   "cell_type": "code",
   "execution_count": 4,
   "metadata": {},
   "outputs": [
    {
     "data": {
      "text/html": [
       "<div>\n",
       "<style scoped>\n",
       "    .dataframe tbody tr th:only-of-type {\n",
       "        vertical-align: middle;\n",
       "    }\n",
       "\n",
       "    .dataframe tbody tr th {\n",
       "        vertical-align: top;\n",
       "    }\n",
       "\n",
       "    .dataframe thead th {\n",
       "        text-align: right;\n",
       "    }\n",
       "</style>\n",
       "<table border=\"1\" class=\"dataframe\">\n",
       "  <thead>\n",
       "    <tr style=\"text-align: right;\">\n",
       "      <th></th>\n",
       "      <th>Código_Dep</th>\n",
       "      <th>Departamento</th>\n",
       "      <th>Código_Mun</th>\n",
       "      <th>Municipio</th>\n",
       "      <th>Tipo</th>\n",
       "      <th>Latitud</th>\n",
       "      <th>Longitud</th>\n",
       "    </tr>\n",
       "  </thead>\n",
       "  <tbody>\n",
       "    <tr>\n",
       "      <th>0</th>\n",
       "      <td>5</td>\n",
       "      <td>ANTIOQUIA</td>\n",
       "      <td>5001</td>\n",
       "      <td>MEDELLÍN</td>\n",
       "      <td>Municipio</td>\n",
       "      <td>6.257590</td>\n",
       "      <td>-75.611031</td>\n",
       "    </tr>\n",
       "    <tr>\n",
       "      <th>1</th>\n",
       "      <td>5</td>\n",
       "      <td>ANTIOQUIA</td>\n",
       "      <td>5002</td>\n",
       "      <td>ABEJORRAL</td>\n",
       "      <td>Municipio</td>\n",
       "      <td>5.803728</td>\n",
       "      <td>-75.438474</td>\n",
       "    </tr>\n",
       "    <tr>\n",
       "      <th>2</th>\n",
       "      <td>5</td>\n",
       "      <td>ANTIOQUIA</td>\n",
       "      <td>5004</td>\n",
       "      <td>ABRIAQUÍ</td>\n",
       "      <td>Municipio</td>\n",
       "      <td>6.627569</td>\n",
       "      <td>-76.085978</td>\n",
       "    </tr>\n",
       "    <tr>\n",
       "      <th>3</th>\n",
       "      <td>5</td>\n",
       "      <td>ANTIOQUIA</td>\n",
       "      <td>5021</td>\n",
       "      <td>ALEJANDRÍA</td>\n",
       "      <td>Municipio</td>\n",
       "      <td>6.365534</td>\n",
       "      <td>-75.090597</td>\n",
       "    </tr>\n",
       "    <tr>\n",
       "      <th>4</th>\n",
       "      <td>5</td>\n",
       "      <td>ANTIOQUIA</td>\n",
       "      <td>5030</td>\n",
       "      <td>AMAGÁ</td>\n",
       "      <td>Municipio</td>\n",
       "      <td>6.032922</td>\n",
       "      <td>-75.708003</td>\n",
       "    </tr>\n",
       "  </tbody>\n",
       "</table>\n",
       "</div>"
      ],
      "text/plain": [
       "   Código_Dep Departamento  Código_Mun   Municipio       Tipo   Latitud  \\\n",
       "0           5    ANTIOQUIA        5001    MEDELLÍN  Municipio  6.257590   \n",
       "1           5    ANTIOQUIA        5002   ABEJORRAL  Municipio  5.803728   \n",
       "2           5    ANTIOQUIA        5004    ABRIAQUÍ  Municipio  6.627569   \n",
       "3           5    ANTIOQUIA        5021  ALEJANDRÍA  Municipio  6.365534   \n",
       "4           5    ANTIOQUIA        5030       AMAGÁ  Municipio  6.032922   \n",
       "\n",
       "    Longitud  \n",
       "0 -75.611031  \n",
       "1 -75.438474  \n",
       "2 -76.085978  \n",
       "3 -75.090597  \n",
       "4 -75.708003  "
      ]
     },
     "execution_count": 4,
     "metadata": {},
     "output_type": "execute_result"
    }
   ],
   "source": [
    "df_municipios_ubicacion.head()"
   ]
  },
  {
   "cell_type": "markdown",
   "metadata": {},
   "source": [
    "# Grafo"
   ]
  },
  {
   "cell_type": "code",
   "execution_count": 2,
   "metadata": {},
   "outputs": [],
   "source": [
    "class CounterHandler(osmium.SimpleHandler):\n",
    "    def __init__(self) -> None:\n",
    "        osmium.SimpleHandler.__init__(self)\n",
    "        self.num_nodes = 0\n",
    "    \n",
    "    def node(self, node):\n",
    "        self.num_nodes += 1"
   ]
  },
  {
   "cell_type": "code",
   "execution_count": 3,
   "metadata": {},
   "outputs": [],
   "source": [
    "handler = CounterHandler()"
   ]
  },
  {
   "cell_type": "code",
   "execution_count": 4,
   "metadata": {},
   "outputs": [],
   "source": [
    "handler.apply_file('../../Data/colombia-latest.osm.pbf')"
   ]
  },
  {
   "cell_type": "code",
   "execution_count": 5,
   "metadata": {},
   "outputs": [
    {
     "name": "stdout",
     "output_type": "stream",
     "text": [
      "38269251\n"
     ]
    }
   ],
   "source": [
    "print(handler.num_nodes)"
   ]
  },
  {
   "cell_type": "code",
   "execution_count": 5,
   "metadata": {},
   "outputs": [],
   "source": [
    "class RoadHandler(osmium.SimpleHandler):\n",
    "    def __init__(self):\n",
    "        super(RoadHandler, self).__init__()\n",
    "        self.graph = nx.Graph()\n",
    "\n",
    "    def way(self, w):\n",
    "        if 'highway' in w.tags:\n",
    "            road_id = w.id\n",
    "            nodes = [node.ref for node in w.nodes]\n",
    "            self.graph.add_edges_from(zip(nodes, nodes[1:]), road_id=road_id)\n"
   ]
  },
  {
   "cell_type": "code",
   "execution_count": 6,
   "metadata": {},
   "outputs": [],
   "source": [
    "road_handler = RoadHandler()\n",
    "road_handler.apply_file(\"../../Data/colombia-latest.osm.pbf\")"
   ]
  },
  {
   "cell_type": "code",
   "execution_count": 7,
   "metadata": {},
   "outputs": [
    {
     "data": {
      "text/plain": [
       "((6.257590259, -75.61103107), (5.803728154, -75.43847353))"
      ]
     },
     "execution_count": 7,
     "metadata": {},
     "output_type": "execute_result"
    }
   ],
   "source": [
    "mun_a = df_municipios_ubicacion.iloc[0]\n",
    "point_a = (mun_a.iloc[5], mun_a.iloc[6])\n",
    "mun_b = df_municipios_ubicacion.iloc[1]\n",
    "point_b = (mun_b.iloc[5], mun_b.iloc[6])\n",
    "\n",
    "point_a, point_b"
   ]
  },
  {
   "cell_type": "code",
   "execution_count": 19,
   "metadata": {},
   "outputs": [
    {
     "data": {
      "text/plain": [
       "networkx.classes.reportviews.NodeView"
      ]
     },
     "execution_count": 19,
     "metadata": {},
     "output_type": "execute_result"
    }
   ],
   "source": [
    "type(road_handler.graph.nodes)"
   ]
  },
  {
   "cell_type": "code",
   "execution_count": 12,
   "metadata": {},
   "outputs": [
    {
     "name": "stdout",
     "output_type": "stream",
     "text": [
      "1110651131\n",
      "<class 'int'>\n",
      "1110651144\n",
      "<class 'int'>\n",
      "1778508096\n",
      "<class 'int'>\n",
      "9429606593\n",
      "<class 'int'>\n",
      "253762179\n",
      "<class 'int'>\n",
      "7985809281\n",
      "<class 'int'>\n",
      "5107946411\n",
      "<class 'int'>\n",
      "339058332\n",
      "<class 'int'>\n",
      "7985809282\n",
      "<class 'int'>\n",
      "5108012311\n",
      "<class 'int'>\n",
      "7990304983\n",
      "<class 'int'>\n"
     ]
    }
   ],
   "source": [
    "a = 0\n",
    "for i in road_handler.graph.nodes:\n",
    "    print(i)\n",
    "    print(type(i))\n",
    "    a += 1\n",
    "    if a > 10:\n",
    "        break"
   ]
  },
  {
   "cell_type": "code",
   "execution_count": null,
   "metadata": {},
   "outputs": [],
   "source": [
    "road_handler.graph.nodes"
   ]
  },
  {
   "cell_type": "code",
   "execution_count": 8,
   "metadata": {},
   "outputs": [
    {
     "ename": "TypeError",
     "evalue": "'int' object is not subscriptable",
     "output_type": "error",
     "traceback": [
      "\u001b[1;31m---------------------------------------------------------------------------\u001b[0m",
      "\u001b[1;31mTypeError\u001b[0m                                 Traceback (most recent call last)",
      "\u001b[1;32mc:\\Users\\SGM\\Documents\\Proyecto de Grado\\Ideas\\IPS\\Distancias_Prueba.ipynb Cell 15\u001b[0m line \u001b[0;36m1\n\u001b[1;32m----> <a href='vscode-notebook-cell:/c%3A/Users/SGM/Documents/Proyecto%20de%20Grado/Ideas/IPS/Distancias_Prueba.ipynb#X20sZmlsZQ%3D%3D?line=0'>1</a>\u001b[0m nearest_node_to_a \u001b[39m=\u001b[39m \u001b[39mmin\u001b[39;49m(road_handler\u001b[39m.\u001b[39;49mgraph\u001b[39m.\u001b[39;49mnodes, key\u001b[39m=\u001b[39;49m\u001b[39mlambda\u001b[39;49;00m node: (node[\u001b[39m0\u001b[39;49m] \u001b[39m-\u001b[39;49m point_a[\u001b[39m0\u001b[39;49m])\u001b[39m*\u001b[39;49m\u001b[39m*\u001b[39;49m\u001b[39m2\u001b[39;49m \u001b[39m+\u001b[39;49m (node[\u001b[39m1\u001b[39;49m] \u001b[39m-\u001b[39;49m point_a[\u001b[39m1\u001b[39;49m])\u001b[39m*\u001b[39;49m\u001b[39m*\u001b[39;49m\u001b[39m2\u001b[39;49m)\n\u001b[0;32m      <a href='vscode-notebook-cell:/c%3A/Users/SGM/Documents/Proyecto%20de%20Grado/Ideas/IPS/Distancias_Prueba.ipynb#X20sZmlsZQ%3D%3D?line=1'>2</a>\u001b[0m \u001b[39m# nearest_node_to_b = min(road_handler.graph.nodes, key=lambda node: (node[0] - point_b[0])**2 + (node[1] - point_b[1])**2)\u001b[39;00m\n",
      "\u001b[1;32mc:\\Users\\SGM\\Documents\\Proyecto de Grado\\Ideas\\IPS\\Distancias_Prueba.ipynb Cell 15\u001b[0m line \u001b[0;36m1\n\u001b[1;32m----> <a href='vscode-notebook-cell:/c%3A/Users/SGM/Documents/Proyecto%20de%20Grado/Ideas/IPS/Distancias_Prueba.ipynb#X20sZmlsZQ%3D%3D?line=0'>1</a>\u001b[0m nearest_node_to_a \u001b[39m=\u001b[39m \u001b[39mmin\u001b[39m(road_handler\u001b[39m.\u001b[39mgraph\u001b[39m.\u001b[39mnodes, key\u001b[39m=\u001b[39m\u001b[39mlambda\u001b[39;00m node: (node[\u001b[39m0\u001b[39;49m] \u001b[39m-\u001b[39m point_a[\u001b[39m0\u001b[39m])\u001b[39m*\u001b[39m\u001b[39m*\u001b[39m\u001b[39m2\u001b[39m \u001b[39m+\u001b[39m (node[\u001b[39m1\u001b[39m] \u001b[39m-\u001b[39m point_a[\u001b[39m1\u001b[39m])\u001b[39m*\u001b[39m\u001b[39m*\u001b[39m\u001b[39m2\u001b[39m)\n\u001b[0;32m      <a href='vscode-notebook-cell:/c%3A/Users/SGM/Documents/Proyecto%20de%20Grado/Ideas/IPS/Distancias_Prueba.ipynb#X20sZmlsZQ%3D%3D?line=1'>2</a>\u001b[0m \u001b[39m# nearest_node_to_b = min(road_handler.graph.nodes, key=lambda node: (node[0] - point_b[0])**2 + (node[1] - point_b[1])**2)\u001b[39;00m\n",
      "\u001b[1;31mTypeError\u001b[0m: 'int' object is not subscriptable"
     ]
    }
   ],
   "source": [
    "nearest_node_to_a = min(road_handler.graph.nodes, key=lambda node: (node[0] - point_a[0])**2 + (node[1] - point_a[1])**2)\n",
    "# nearest_node_to_b = min(road_handler.graph.nodes, key=lambda node: (node[0] - point_b[0])**2 + (node[1] - point_b[1])**2)"
   ]
  },
  {
   "cell_type": "code",
   "execution_count": 9,
   "metadata": {},
   "outputs": [
    {
     "ename": "NameError",
     "evalue": "name 'nearest_node_to_a' is not defined",
     "output_type": "error",
     "traceback": [
      "\u001b[1;31m---------------------------------------------------------------------------\u001b[0m",
      "\u001b[1;31mNameError\u001b[0m                                 Traceback (most recent call last)",
      "\u001b[1;32mc:\\Users\\SGM\\Documents\\Proyecto de Grado\\Ideas\\IPS\\Distancias_Prueba.ipynb Cell 15\u001b[0m line \u001b[0;36m1\n\u001b[1;32m----> <a href='vscode-notebook-cell:/c%3A/Users/SGM/Documents/Proyecto%20de%20Grado/Ideas/IPS/Distancias_Prueba.ipynb#X20sZmlsZQ%3D%3D?line=0'>1</a>\u001b[0m shortest_path \u001b[39m=\u001b[39m nx\u001b[39m.\u001b[39mshortest_path(road_handler\u001b[39m.\u001b[39mgraph, source\u001b[39m=\u001b[39mnearest_node_to_a, target\u001b[39m=\u001b[39mnearest_node_to_b)\n",
      "\u001b[1;31mNameError\u001b[0m: name 'nearest_node_to_a' is not defined"
     ]
    }
   ],
   "source": [
    "shortest_path = nx.shortest_path(road_handler.graph, source=nearest_node_to_a, target=nearest_node_to_b)"
   ]
  },
  {
   "cell_type": "code",
   "execution_count": null,
   "metadata": {},
   "outputs": [],
   "source": [
    "road_distance = sum(road_handler.graph.get_edge_data(u, v)[\"length\"] for u, v in zip(shortest_path, shortest_path[1:]))\n"
   ]
  }
 ],
 "metadata": {
  "kernelspec": {
   "display_name": "env",
   "language": "python",
   "name": "python3"
  },
  "language_info": {
   "codemirror_mode": {
    "name": "ipython",
    "version": 3
   },
   "file_extension": ".py",
   "mimetype": "text/x-python",
   "name": "python",
   "nbconvert_exporter": "python",
   "pygments_lexer": "ipython3",
   "version": "3.10.6"
  }
 },
 "nbformat": 4,
 "nbformat_minor": 2
}
