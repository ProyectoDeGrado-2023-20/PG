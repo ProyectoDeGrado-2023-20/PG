{
 "cells": [
  {
   "cell_type": "code",
   "execution_count": 2,
   "metadata": {},
   "outputs": [],
   "source": [
    "import pandas as pd\n",
    "import numpy as np\n",
    "import plotly.express as px"
   ]
  },
  {
   "cell_type": "code",
   "execution_count": 3,
   "metadata": {},
   "outputs": [],
   "source": [
    "df_ips = pd.read_csv(\"../../Data/IPS_Complejidad.csv\")"
   ]
  },
  {
   "cell_type": "code",
   "execution_count": 4,
   "metadata": {},
   "outputs": [
    {
     "name": "stdout",
     "output_type": "stream",
     "text": [
      "<class 'pandas.core.frame.DataFrame'>\n",
      "RangeIndex: 11466 entries, 0 to 11465\n",
      "Data columns (total 27 columns):\n",
      " #   Column                 Non-Null Count  Dtype  \n",
      "---  ------                 --------------  -----  \n",
      " 0   depa_nombre            11466 non-null  object \n",
      " 1   muni_nombre            11466 non-null  object \n",
      " 2   codigo_habilitacion    11466 non-null  int64  \n",
      " 3   nombre_prestador       11466 non-null  object \n",
      " 4   tido_codigo            0 non-null      float64\n",
      " 5   nits_nit               11466 non-null  int64  \n",
      " 6   razon_social           11466 non-null  object \n",
      " 7   clpr_codigo            11466 non-null  int64  \n",
      " 8   clpr_nombre            11466 non-null  object \n",
      " 9   ese                    3501 non-null   object \n",
      " 10  direccion              11466 non-null  object \n",
      " 11  telefono               11453 non-null  object \n",
      " 12  fax                    4727 non-null   object \n",
      " 13  email                  11452 non-null  object \n",
      " 14  gerente                0 non-null      float64\n",
      " 15  nivel                  1002 non-null   float64\n",
      " 16  caracter               1009 non-null   object \n",
      " 17  habilitado             11466 non-null  object \n",
      " 18  fecha_radicacion       11466 non-null  int64  \n",
      " 19  fecha_vencimiento      11466 non-null  int64  \n",
      " 20  fecha_cierre           1 non-null      float64\n",
      " 21  dv                     11464 non-null  float64\n",
      " 22  clase_persona          11466 non-null  object \n",
      " 23  naju_codigo            11466 non-null  int64  \n",
      " 24  naju_nombre            11466 non-null  object \n",
      " 25  numero_sede_principal  11455 non-null  float64\n",
      " 26  fecha_corte_REPS       11466 non-null  object \n",
      "dtypes: float64(6), int64(6), object(15)\n",
      "memory usage: 2.4+ MB\n"
     ]
    }
   ],
   "source": [
    "df_ips.info()"
   ]
  },
  {
   "cell_type": "code",
   "execution_count": 5,
   "metadata": {},
   "outputs": [
    {
     "data": {
      "text/html": [
       "<div>\n",
       "<style scoped>\n",
       "    .dataframe tbody tr th:only-of-type {\n",
       "        vertical-align: middle;\n",
       "    }\n",
       "\n",
       "    .dataframe tbody tr th {\n",
       "        vertical-align: top;\n",
       "    }\n",
       "\n",
       "    .dataframe thead th {\n",
       "        text-align: right;\n",
       "    }\n",
       "</style>\n",
       "<table border=\"1\" class=\"dataframe\">\n",
       "  <thead>\n",
       "    <tr style=\"text-align: right;\">\n",
       "      <th></th>\n",
       "      <th>depa_nombre</th>\n",
       "      <th>muni_nombre</th>\n",
       "      <th>codigo_habilitacion</th>\n",
       "      <th>nombre_prestador</th>\n",
       "      <th>tido_codigo</th>\n",
       "      <th>nits_nit</th>\n",
       "      <th>razon_social</th>\n",
       "      <th>clpr_codigo</th>\n",
       "      <th>clpr_nombre</th>\n",
       "      <th>ese</th>\n",
       "      <th>...</th>\n",
       "      <th>habilitado</th>\n",
       "      <th>fecha_radicacion</th>\n",
       "      <th>fecha_vencimiento</th>\n",
       "      <th>fecha_cierre</th>\n",
       "      <th>dv</th>\n",
       "      <th>clase_persona</th>\n",
       "      <th>naju_codigo</th>\n",
       "      <th>naju_nombre</th>\n",
       "      <th>numero_sede_principal</th>\n",
       "      <th>fecha_corte_REPS</th>\n",
       "    </tr>\n",
       "  </thead>\n",
       "  <tbody>\n",
       "    <tr>\n",
       "      <th>0</th>\n",
       "      <td>Amazonas</td>\n",
       "      <td>LETICIA</td>\n",
       "      <td>9100100019</td>\n",
       "      <td>E.S.E. HOSPITAL SAN RAFAEL DE LETICIA</td>\n",
       "      <td>NaN</td>\n",
       "      <td>838000096</td>\n",
       "      <td>E.S.E. HOSPITAL SAN RAFAEL DE LETICIA</td>\n",
       "      <td>1</td>\n",
       "      <td>Instituciones - IPS</td>\n",
       "      <td>SI</td>\n",
       "      <td>...</td>\n",
       "      <td>SI</td>\n",
       "      <td>20030409</td>\n",
       "      <td>20220831</td>\n",
       "      <td>NaN</td>\n",
       "      <td>7.0</td>\n",
       "      <td>JURIDICO</td>\n",
       "      <td>4</td>\n",
       "      <td>Pública</td>\n",
       "      <td>1.0</td>\n",
       "      <td>Fecha corte REPS: Jun 16 2022 2:33PM</td>\n",
       "    </tr>\n",
       "    <tr>\n",
       "      <th>1</th>\n",
       "      <td>Amazonas</td>\n",
       "      <td>LETICIA</td>\n",
       "      <td>9100100185</td>\n",
       "      <td>FREYA SKIN AND BODY CARE S.A.S TWO</td>\n",
       "      <td>NaN</td>\n",
       "      <td>901438650</td>\n",
       "      <td>FREYA SKIN AND BODY CARE S.A.S TWO</td>\n",
       "      <td>1</td>\n",
       "      <td>Instituciones - IPS</td>\n",
       "      <td>NaN</td>\n",
       "      <td>...</td>\n",
       "      <td>SI</td>\n",
       "      <td>20201221</td>\n",
       "      <td>20241220</td>\n",
       "      <td>NaN</td>\n",
       "      <td>7.0</td>\n",
       "      <td>JURIDICO</td>\n",
       "      <td>1</td>\n",
       "      <td>Privada</td>\n",
       "      <td>1.0</td>\n",
       "      <td>Fecha corte REPS: Jun 16 2022 2:33PM</td>\n",
       "    </tr>\n",
       "    <tr>\n",
       "      <th>2</th>\n",
       "      <td>Amazonas</td>\n",
       "      <td>LETICIA</td>\n",
       "      <td>9100100069</td>\n",
       "      <td>FUNDACION CLINICA LETICIA</td>\n",
       "      <td>NaN</td>\n",
       "      <td>900142282</td>\n",
       "      <td>FUNDACION CLINICA LETICIA</td>\n",
       "      <td>1</td>\n",
       "      <td>Instituciones - IPS</td>\n",
       "      <td>NO</td>\n",
       "      <td>...</td>\n",
       "      <td>SI</td>\n",
       "      <td>20070625</td>\n",
       "      <td>20220831</td>\n",
       "      <td>NaN</td>\n",
       "      <td>4.0</td>\n",
       "      <td>JURIDICO</td>\n",
       "      <td>1</td>\n",
       "      <td>Privada</td>\n",
       "      <td>1.0</td>\n",
       "      <td>Fecha corte REPS: Jun 16 2022 2:33PM</td>\n",
       "    </tr>\n",
       "    <tr>\n",
       "      <th>3</th>\n",
       "      <td>Amazonas</td>\n",
       "      <td>LETICIA</td>\n",
       "      <td>9100100158</td>\n",
       "      <td>IMPROVE QUALITY REDUCE COST SAVE LIFES AUDITOR...</td>\n",
       "      <td>NaN</td>\n",
       "      <td>900784482</td>\n",
       "      <td>IMPROVE QUALITY REDUCE COST SAVE LIFES AUDITOR...</td>\n",
       "      <td>1</td>\n",
       "      <td>Instituciones - IPS</td>\n",
       "      <td>NaN</td>\n",
       "      <td>...</td>\n",
       "      <td>SI</td>\n",
       "      <td>20161025</td>\n",
       "      <td>20230831</td>\n",
       "      <td>NaN</td>\n",
       "      <td>5.0</td>\n",
       "      <td>JURIDICO</td>\n",
       "      <td>1</td>\n",
       "      <td>Privada</td>\n",
       "      <td>1.0</td>\n",
       "      <td>Fecha corte REPS: Jun 16 2022 2:33PM</td>\n",
       "    </tr>\n",
       "    <tr>\n",
       "      <th>4</th>\n",
       "      <td>Amazonas</td>\n",
       "      <td>LETICIA</td>\n",
       "      <td>9100100144</td>\n",
       "      <td>INSTITUTO PARA LA PREVENCIÓN, EL TRATAMIENTO Y...</td>\n",
       "      <td>NaN</td>\n",
       "      <td>900275974</td>\n",
       "      <td>INSTITUTO PARA LA PREVENCIÓN, EL TRATAMIENTO Y...</td>\n",
       "      <td>1</td>\n",
       "      <td>Instituciones - IPS</td>\n",
       "      <td>NaN</td>\n",
       "      <td>...</td>\n",
       "      <td>SI</td>\n",
       "      <td>20151026</td>\n",
       "      <td>20220831</td>\n",
       "      <td>NaN</td>\n",
       "      <td>3.0</td>\n",
       "      <td>JURIDICO</td>\n",
       "      <td>1</td>\n",
       "      <td>Privada</td>\n",
       "      <td>1.0</td>\n",
       "      <td>Fecha corte REPS: Jun 16 2022 2:33PM</td>\n",
       "    </tr>\n",
       "  </tbody>\n",
       "</table>\n",
       "<p>5 rows × 27 columns</p>\n",
       "</div>"
      ],
      "text/plain": [
       "  depa_nombre muni_nombre  codigo_habilitacion  \\\n",
       "0    Amazonas     LETICIA           9100100019   \n",
       "1    Amazonas     LETICIA           9100100185   \n",
       "2    Amazonas     LETICIA           9100100069   \n",
       "3    Amazonas     LETICIA           9100100158   \n",
       "4    Amazonas     LETICIA           9100100144   \n",
       "\n",
       "                                    nombre_prestador  tido_codigo   nits_nit  \\\n",
       "0              E.S.E. HOSPITAL SAN RAFAEL DE LETICIA          NaN  838000096   \n",
       "1                 FREYA SKIN AND BODY CARE S.A.S TWO          NaN  901438650   \n",
       "2                          FUNDACION CLINICA LETICIA          NaN  900142282   \n",
       "3  IMPROVE QUALITY REDUCE COST SAVE LIFES AUDITOR...          NaN  900784482   \n",
       "4  INSTITUTO PARA LA PREVENCIÓN, EL TRATAMIENTO Y...          NaN  900275974   \n",
       "\n",
       "                                        razon_social  clpr_codigo  \\\n",
       "0              E.S.E. HOSPITAL SAN RAFAEL DE LETICIA            1   \n",
       "1                 FREYA SKIN AND BODY CARE S.A.S TWO            1   \n",
       "2                          FUNDACION CLINICA LETICIA            1   \n",
       "3  IMPROVE QUALITY REDUCE COST SAVE LIFES AUDITOR...            1   \n",
       "4  INSTITUTO PARA LA PREVENCIÓN, EL TRATAMIENTO Y...            1   \n",
       "\n",
       "           clpr_nombre  ese  ... habilitado fecha_radicacion  \\\n",
       "0  Instituciones - IPS   SI  ...         SI         20030409   \n",
       "1  Instituciones - IPS  NaN  ...         SI         20201221   \n",
       "2  Instituciones - IPS   NO  ...         SI         20070625   \n",
       "3  Instituciones - IPS  NaN  ...         SI         20161025   \n",
       "4  Instituciones - IPS  NaN  ...         SI         20151026   \n",
       "\n",
       "  fecha_vencimiento fecha_cierre   dv  clase_persona naju_codigo naju_nombre  \\\n",
       "0          20220831          NaN  7.0       JURIDICO           4     Pública   \n",
       "1          20241220          NaN  7.0       JURIDICO           1     Privada   \n",
       "2          20220831          NaN  4.0       JURIDICO           1     Privada   \n",
       "3          20230831          NaN  5.0       JURIDICO           1     Privada   \n",
       "4          20220831          NaN  3.0       JURIDICO           1     Privada   \n",
       "\n",
       "   numero_sede_principal                      fecha_corte_REPS  \n",
       "0                    1.0  Fecha corte REPS: Jun 16 2022 2:33PM  \n",
       "1                    1.0  Fecha corte REPS: Jun 16 2022 2:33PM  \n",
       "2                    1.0  Fecha corte REPS: Jun 16 2022 2:33PM  \n",
       "3                    1.0  Fecha corte REPS: Jun 16 2022 2:33PM  \n",
       "4                    1.0  Fecha corte REPS: Jun 16 2022 2:33PM  \n",
       "\n",
       "[5 rows x 27 columns]"
      ]
     },
     "execution_count": 5,
     "metadata": {},
     "output_type": "execute_result"
    }
   ],
   "source": [
    "df_ips.head()"
   ]
  },
  {
   "cell_type": "code",
   "execution_count": 6,
   "metadata": {},
   "outputs": [],
   "source": [
    "departamentos = [\n",
    "    'Amazonas', 'Antioquia', 'Arauca', 'Atlántico',\n",
    "    'Bogotá D.C', 'Bolívar', 'Boyacá', 'Caldas',\n",
    "    'Caquetá', 'Casanare', 'Cauca', 'Cesar', \n",
    "    'Chocó', 'Córdoba', 'Cundinamarca', 'Guainía', \n",
    "    'Guaviare', 'Huila', 'La Guajira', 'Magdalena',\n",
    "    'Meta', 'Nariño', 'Norte de Santander', 'Putumayo',\n",
    "    'Quindío', 'Risaralda', 'San Andrés y Providencia', 'Santander',\n",
    "    'Sucre', 'Tolima', 'Valle del cauca', 'Vaupés', \n",
    "    'Vichada'\n",
    "    ]\n",
    "\n",
    "distritos_especiales = [\n",
    "    'Barranquilla',\n",
    "    'Buenaventura',\n",
    "    'Cartagena',\n",
    "    'Santa Marta'\n",
    "]\n",
    "\n",
    "distritos_especiales_departamentos = {\n",
    "    'Barranquilla': 'Atlántico',\n",
    "    'Buenaventura': 'Valle del cauca',\n",
    "    'Cartagena': 'Bolívar',\n",
    "    'Santa Marta': 'Magdalena'\n",
    "}"
   ]
  },
  {
   "cell_type": "code",
   "execution_count": 7,
   "metadata": {},
   "outputs": [],
   "source": [
    "columnas = [\n",
    "    'depa_nombre',\n",
    "    'muni_nombre',\n",
    "    'codigo_habilitacion',\n",
    "    'razon_social',\n",
    "    'nivel',\n",
    "    'habilitado',\n",
    "    'naju_codigo',\n",
    "    'naju_nombre',\n",
    "    'clase_persona'\n",
    "]"
   ]
  },
  {
   "cell_type": "code",
   "execution_count": 8,
   "metadata": {},
   "outputs": [],
   "source": [
    "df_ips = df_ips[columnas]"
   ]
  },
  {
   "cell_type": "code",
   "execution_count": 9,
   "metadata": {},
   "outputs": [
    {
     "data": {
      "text/html": [
       "<div>\n",
       "<style scoped>\n",
       "    .dataframe tbody tr th:only-of-type {\n",
       "        vertical-align: middle;\n",
       "    }\n",
       "\n",
       "    .dataframe tbody tr th {\n",
       "        vertical-align: top;\n",
       "    }\n",
       "\n",
       "    .dataframe thead th {\n",
       "        text-align: right;\n",
       "    }\n",
       "</style>\n",
       "<table border=\"1\" class=\"dataframe\">\n",
       "  <thead>\n",
       "    <tr style=\"text-align: right;\">\n",
       "      <th></th>\n",
       "      <th>depa_nombre</th>\n",
       "      <th>muni_nombre</th>\n",
       "      <th>codigo_habilitacion</th>\n",
       "      <th>razon_social</th>\n",
       "      <th>nivel</th>\n",
       "      <th>habilitado</th>\n",
       "      <th>naju_codigo</th>\n",
       "      <th>naju_nombre</th>\n",
       "      <th>clase_persona</th>\n",
       "    </tr>\n",
       "  </thead>\n",
       "  <tbody>\n",
       "    <tr>\n",
       "      <th>0</th>\n",
       "      <td>Amazonas</td>\n",
       "      <td>LETICIA</td>\n",
       "      <td>9100100019</td>\n",
       "      <td>E.S.E. HOSPITAL SAN RAFAEL DE LETICIA</td>\n",
       "      <td>2.0</td>\n",
       "      <td>SI</td>\n",
       "      <td>4</td>\n",
       "      <td>Pública</td>\n",
       "      <td>JURIDICO</td>\n",
       "    </tr>\n",
       "    <tr>\n",
       "      <th>1</th>\n",
       "      <td>Amazonas</td>\n",
       "      <td>LETICIA</td>\n",
       "      <td>9100100185</td>\n",
       "      <td>FREYA SKIN AND BODY CARE S.A.S TWO</td>\n",
       "      <td>NaN</td>\n",
       "      <td>SI</td>\n",
       "      <td>1</td>\n",
       "      <td>Privada</td>\n",
       "      <td>JURIDICO</td>\n",
       "    </tr>\n",
       "    <tr>\n",
       "      <th>2</th>\n",
       "      <td>Amazonas</td>\n",
       "      <td>LETICIA</td>\n",
       "      <td>9100100069</td>\n",
       "      <td>FUNDACION CLINICA LETICIA</td>\n",
       "      <td>NaN</td>\n",
       "      <td>SI</td>\n",
       "      <td>1</td>\n",
       "      <td>Privada</td>\n",
       "      <td>JURIDICO</td>\n",
       "    </tr>\n",
       "    <tr>\n",
       "      <th>3</th>\n",
       "      <td>Amazonas</td>\n",
       "      <td>LETICIA</td>\n",
       "      <td>9100100158</td>\n",
       "      <td>IMPROVE QUALITY REDUCE COST SAVE LIFES AUDITOR...</td>\n",
       "      <td>NaN</td>\n",
       "      <td>SI</td>\n",
       "      <td>1</td>\n",
       "      <td>Privada</td>\n",
       "      <td>JURIDICO</td>\n",
       "    </tr>\n",
       "    <tr>\n",
       "      <th>4</th>\n",
       "      <td>Amazonas</td>\n",
       "      <td>LETICIA</td>\n",
       "      <td>9100100144</td>\n",
       "      <td>INSTITUTO PARA LA PREVENCIÓN, EL TRATAMIENTO Y...</td>\n",
       "      <td>NaN</td>\n",
       "      <td>SI</td>\n",
       "      <td>1</td>\n",
       "      <td>Privada</td>\n",
       "      <td>JURIDICO</td>\n",
       "    </tr>\n",
       "  </tbody>\n",
       "</table>\n",
       "</div>"
      ],
      "text/plain": [
       "  depa_nombre muni_nombre  codigo_habilitacion  \\\n",
       "0    Amazonas     LETICIA           9100100019   \n",
       "1    Amazonas     LETICIA           9100100185   \n",
       "2    Amazonas     LETICIA           9100100069   \n",
       "3    Amazonas     LETICIA           9100100158   \n",
       "4    Amazonas     LETICIA           9100100144   \n",
       "\n",
       "                                        razon_social  nivel habilitado  \\\n",
       "0              E.S.E. HOSPITAL SAN RAFAEL DE LETICIA    2.0         SI   \n",
       "1                 FREYA SKIN AND BODY CARE S.A.S TWO    NaN         SI   \n",
       "2                          FUNDACION CLINICA LETICIA    NaN         SI   \n",
       "3  IMPROVE QUALITY REDUCE COST SAVE LIFES AUDITOR...    NaN         SI   \n",
       "4  INSTITUTO PARA LA PREVENCIÓN, EL TRATAMIENTO Y...    NaN         SI   \n",
       "\n",
       "   naju_codigo naju_nombre clase_persona  \n",
       "0            4     Pública      JURIDICO  \n",
       "1            1     Privada      JURIDICO  \n",
       "2            1     Privada      JURIDICO  \n",
       "3            1     Privada      JURIDICO  \n",
       "4            1     Privada      JURIDICO  "
      ]
     },
     "execution_count": 9,
     "metadata": {},
     "output_type": "execute_result"
    }
   ],
   "source": [
    "df_ips.head()"
   ]
  },
  {
   "cell_type": "code",
   "execution_count": 10,
   "metadata": {},
   "outputs": [
    {
     "data": {
      "text/plain": [
       "(array(['Amazonas', 'Antioquia', 'Arauca', 'Atlántico', 'Barranquilla',\n",
       "        'Bogotá D.C', 'Bolívar', 'Boyacá', 'Buenaventura', 'Caldas',\n",
       "        'Caquetá', 'Cartagena', 'Casanare', 'Cauca', 'Cesar', 'Chocó',\n",
       "        'Córdoba', 'Cundinamarca', 'Guainía', 'Guaviare', 'Huila',\n",
       "        'La Guajira', 'Magdalena', 'Meta', 'Nariño', 'Norte de Santander',\n",
       "        'Putumayo', 'Quindío', 'Risaralda', 'San Andrés y Providencia',\n",
       "        'Santa Marta', 'Santander', 'Sucre', 'Tolima', 'Valle del cauca',\n",
       "        'Vaupés', 'Vichada'], dtype=object),\n",
       " 37)"
      ]
     },
     "execution_count": 10,
     "metadata": {},
     "output_type": "execute_result"
    }
   ],
   "source": [
    "df_ips['depa_nombre'].unique(), len(df_ips['depa_nombre'].unique())"
   ]
  },
  {
   "cell_type": "code",
   "execution_count": 11,
   "metadata": {},
   "outputs": [],
   "source": [
    "df_ips['departamento'] = df_ips['depa_nombre'].replace(distritos_especiales_departamentos)"
   ]
  },
  {
   "cell_type": "code",
   "execution_count": 12,
   "metadata": {},
   "outputs": [
    {
     "data": {
      "text/plain": [
       "(array(['Amazonas', 'Antioquia', 'Arauca', 'Atlántico', 'Bogotá D.C',\n",
       "        'Bolívar', 'Boyacá', 'Valle del cauca', 'Caldas', 'Caquetá',\n",
       "        'Casanare', 'Cauca', 'Cesar', 'Chocó', 'Córdoba', 'Cundinamarca',\n",
       "        'Guainía', 'Guaviare', 'Huila', 'La Guajira', 'Magdalena', 'Meta',\n",
       "        'Nariño', 'Norte de Santander', 'Putumayo', 'Quindío', 'Risaralda',\n",
       "        'San Andrés y Providencia', 'Santander', 'Sucre', 'Tolima',\n",
       "        'Vaupés', 'Vichada'], dtype=object),\n",
       " 33)"
      ]
     },
     "execution_count": 12,
     "metadata": {},
     "output_type": "execute_result"
    }
   ],
   "source": [
    "df_ips['departamento'].unique(), len(df_ips['departamento'].unique())"
   ]
  },
  {
   "cell_type": "code",
   "execution_count": 13,
   "metadata": {},
   "outputs": [
    {
     "data": {
      "text/html": [
       "<div>\n",
       "<style scoped>\n",
       "    .dataframe tbody tr th:only-of-type {\n",
       "        vertical-align: middle;\n",
       "    }\n",
       "\n",
       "    .dataframe tbody tr th {\n",
       "        vertical-align: top;\n",
       "    }\n",
       "\n",
       "    .dataframe thead th {\n",
       "        text-align: right;\n",
       "    }\n",
       "</style>\n",
       "<table border=\"1\" class=\"dataframe\">\n",
       "  <thead>\n",
       "    <tr style=\"text-align: right;\">\n",
       "      <th></th>\n",
       "      <th>depa_nombre</th>\n",
       "      <th>muni_nombre</th>\n",
       "      <th>codigo_habilitacion</th>\n",
       "      <th>razon_social</th>\n",
       "      <th>nivel</th>\n",
       "      <th>habilitado</th>\n",
       "      <th>naju_codigo</th>\n",
       "      <th>naju_nombre</th>\n",
       "      <th>clase_persona</th>\n",
       "      <th>departamento</th>\n",
       "    </tr>\n",
       "  </thead>\n",
       "  <tbody>\n",
       "    <tr>\n",
       "      <th>0</th>\n",
       "      <td>Amazonas</td>\n",
       "      <td>LETICIA</td>\n",
       "      <td>9100100019</td>\n",
       "      <td>E.S.E. HOSPITAL SAN RAFAEL DE LETICIA</td>\n",
       "      <td>2.0</td>\n",
       "      <td>SI</td>\n",
       "      <td>4</td>\n",
       "      <td>Pública</td>\n",
       "      <td>JURIDICO</td>\n",
       "      <td>Amazonas</td>\n",
       "    </tr>\n",
       "    <tr>\n",
       "      <th>1</th>\n",
       "      <td>Amazonas</td>\n",
       "      <td>LETICIA</td>\n",
       "      <td>9100100185</td>\n",
       "      <td>FREYA SKIN AND BODY CARE S.A.S TWO</td>\n",
       "      <td>NaN</td>\n",
       "      <td>SI</td>\n",
       "      <td>1</td>\n",
       "      <td>Privada</td>\n",
       "      <td>JURIDICO</td>\n",
       "      <td>Amazonas</td>\n",
       "    </tr>\n",
       "    <tr>\n",
       "      <th>2</th>\n",
       "      <td>Amazonas</td>\n",
       "      <td>LETICIA</td>\n",
       "      <td>9100100069</td>\n",
       "      <td>FUNDACION CLINICA LETICIA</td>\n",
       "      <td>NaN</td>\n",
       "      <td>SI</td>\n",
       "      <td>1</td>\n",
       "      <td>Privada</td>\n",
       "      <td>JURIDICO</td>\n",
       "      <td>Amazonas</td>\n",
       "    </tr>\n",
       "    <tr>\n",
       "      <th>3</th>\n",
       "      <td>Amazonas</td>\n",
       "      <td>LETICIA</td>\n",
       "      <td>9100100158</td>\n",
       "      <td>IMPROVE QUALITY REDUCE COST SAVE LIFES AUDITOR...</td>\n",
       "      <td>NaN</td>\n",
       "      <td>SI</td>\n",
       "      <td>1</td>\n",
       "      <td>Privada</td>\n",
       "      <td>JURIDICO</td>\n",
       "      <td>Amazonas</td>\n",
       "    </tr>\n",
       "    <tr>\n",
       "      <th>4</th>\n",
       "      <td>Amazonas</td>\n",
       "      <td>LETICIA</td>\n",
       "      <td>9100100144</td>\n",
       "      <td>INSTITUTO PARA LA PREVENCIÓN, EL TRATAMIENTO Y...</td>\n",
       "      <td>NaN</td>\n",
       "      <td>SI</td>\n",
       "      <td>1</td>\n",
       "      <td>Privada</td>\n",
       "      <td>JURIDICO</td>\n",
       "      <td>Amazonas</td>\n",
       "    </tr>\n",
       "  </tbody>\n",
       "</table>\n",
       "</div>"
      ],
      "text/plain": [
       "  depa_nombre muni_nombre  codigo_habilitacion  \\\n",
       "0    Amazonas     LETICIA           9100100019   \n",
       "1    Amazonas     LETICIA           9100100185   \n",
       "2    Amazonas     LETICIA           9100100069   \n",
       "3    Amazonas     LETICIA           9100100158   \n",
       "4    Amazonas     LETICIA           9100100144   \n",
       "\n",
       "                                        razon_social  nivel habilitado  \\\n",
       "0              E.S.E. HOSPITAL SAN RAFAEL DE LETICIA    2.0         SI   \n",
       "1                 FREYA SKIN AND BODY CARE S.A.S TWO    NaN         SI   \n",
       "2                          FUNDACION CLINICA LETICIA    NaN         SI   \n",
       "3  IMPROVE QUALITY REDUCE COST SAVE LIFES AUDITOR...    NaN         SI   \n",
       "4  INSTITUTO PARA LA PREVENCIÓN, EL TRATAMIENTO Y...    NaN         SI   \n",
       "\n",
       "   naju_codigo naju_nombre clase_persona departamento  \n",
       "0            4     Pública      JURIDICO     Amazonas  \n",
       "1            1     Privada      JURIDICO     Amazonas  \n",
       "2            1     Privada      JURIDICO     Amazonas  \n",
       "3            1     Privada      JURIDICO     Amazonas  \n",
       "4            1     Privada      JURIDICO     Amazonas  "
      ]
     },
     "execution_count": 13,
     "metadata": {},
     "output_type": "execute_result"
    }
   ],
   "source": [
    "df_ips.head()"
   ]
  },
  {
   "cell_type": "code",
   "execution_count": 14,
   "metadata": {},
   "outputs": [
    {
     "data": {
      "text/html": [
       "<div>\n",
       "<style scoped>\n",
       "    .dataframe tbody tr th:only-of-type {\n",
       "        vertical-align: middle;\n",
       "    }\n",
       "\n",
       "    .dataframe tbody tr th {\n",
       "        vertical-align: top;\n",
       "    }\n",
       "\n",
       "    .dataframe thead th {\n",
       "        text-align: right;\n",
       "    }\n",
       "</style>\n",
       "<table border=\"1\" class=\"dataframe\">\n",
       "  <thead>\n",
       "    <tr style=\"text-align: right;\">\n",
       "      <th></th>\n",
       "      <th>departamento</th>\n",
       "      <th>Y2022</th>\n",
       "    </tr>\n",
       "  </thead>\n",
       "  <tbody>\n",
       "    <tr>\n",
       "      <th>31</th>\n",
       "      <td>Vaupés</td>\n",
       "      <td>3</td>\n",
       "    </tr>\n",
       "    <tr>\n",
       "      <th>32</th>\n",
       "      <td>Vichada</td>\n",
       "      <td>8</td>\n",
       "    </tr>\n",
       "    <tr>\n",
       "      <th>15</th>\n",
       "      <td>Guainía</td>\n",
       "      <td>8</td>\n",
       "    </tr>\n",
       "    <tr>\n",
       "      <th>0</th>\n",
       "      <td>Amazonas</td>\n",
       "      <td>14</td>\n",
       "    </tr>\n",
       "    <tr>\n",
       "      <th>16</th>\n",
       "      <td>Guaviare</td>\n",
       "      <td>17</td>\n",
       "    </tr>\n",
       "    <tr>\n",
       "      <th>26</th>\n",
       "      <td>San Andrés y Providencia</td>\n",
       "      <td>22</td>\n",
       "    </tr>\n",
       "    <tr>\n",
       "      <th>2</th>\n",
       "      <td>Arauca</td>\n",
       "      <td>60</td>\n",
       "    </tr>\n",
       "    <tr>\n",
       "      <th>8</th>\n",
       "      <td>Caquetá</td>\n",
       "      <td>69</td>\n",
       "    </tr>\n",
       "    <tr>\n",
       "      <th>23</th>\n",
       "      <td>Putumayo</td>\n",
       "      <td>73</td>\n",
       "    </tr>\n",
       "    <tr>\n",
       "      <th>9</th>\n",
       "      <td>Casanare</td>\n",
       "      <td>135</td>\n",
       "    </tr>\n",
       "    <tr>\n",
       "      <th>12</th>\n",
       "      <td>Chocó</td>\n",
       "      <td>167</td>\n",
       "    </tr>\n",
       "    <tr>\n",
       "      <th>24</th>\n",
       "      <td>Quindío</td>\n",
       "      <td>178</td>\n",
       "    </tr>\n",
       "    <tr>\n",
       "      <th>18</th>\n",
       "      <td>La Guajira</td>\n",
       "      <td>214</td>\n",
       "    </tr>\n",
       "    <tr>\n",
       "      <th>17</th>\n",
       "      <td>Huila</td>\n",
       "      <td>235</td>\n",
       "    </tr>\n",
       "    <tr>\n",
       "      <th>7</th>\n",
       "      <td>Caldas</td>\n",
       "      <td>238</td>\n",
       "    </tr>\n",
       "    <tr>\n",
       "      <th>25</th>\n",
       "      <td>Risaralda</td>\n",
       "      <td>239</td>\n",
       "    </tr>\n",
       "    <tr>\n",
       "      <th>10</th>\n",
       "      <td>Cauca</td>\n",
       "      <td>266</td>\n",
       "    </tr>\n",
       "    <tr>\n",
       "      <th>20</th>\n",
       "      <td>Meta</td>\n",
       "      <td>295</td>\n",
       "    </tr>\n",
       "    <tr>\n",
       "      <th>22</th>\n",
       "      <td>Norte de Santander</td>\n",
       "      <td>301</td>\n",
       "    </tr>\n",
       "    <tr>\n",
       "      <th>28</th>\n",
       "      <td>Sucre</td>\n",
       "      <td>338</td>\n",
       "    </tr>\n",
       "    <tr>\n",
       "      <th>21</th>\n",
       "      <td>Nariño</td>\n",
       "      <td>360</td>\n",
       "    </tr>\n",
       "    <tr>\n",
       "      <th>6</th>\n",
       "      <td>Boyacá</td>\n",
       "      <td>371</td>\n",
       "    </tr>\n",
       "    <tr>\n",
       "      <th>29</th>\n",
       "      <td>Tolima</td>\n",
       "      <td>384</td>\n",
       "    </tr>\n",
       "    <tr>\n",
       "      <th>19</th>\n",
       "      <td>Magdalena</td>\n",
       "      <td>415</td>\n",
       "    </tr>\n",
       "    <tr>\n",
       "      <th>11</th>\n",
       "      <td>Cesar</td>\n",
       "      <td>418</td>\n",
       "    </tr>\n",
       "    <tr>\n",
       "      <th>13</th>\n",
       "      <td>Cundinamarca</td>\n",
       "      <td>457</td>\n",
       "    </tr>\n",
       "    <tr>\n",
       "      <th>14</th>\n",
       "      <td>Córdoba</td>\n",
       "      <td>461</td>\n",
       "    </tr>\n",
       "    <tr>\n",
       "      <th>5</th>\n",
       "      <td>Bolívar</td>\n",
       "      <td>599</td>\n",
       "    </tr>\n",
       "    <tr>\n",
       "      <th>27</th>\n",
       "      <td>Santander</td>\n",
       "      <td>706</td>\n",
       "    </tr>\n",
       "    <tr>\n",
       "      <th>3</th>\n",
       "      <td>Atlántico</td>\n",
       "      <td>864</td>\n",
       "    </tr>\n",
       "    <tr>\n",
       "      <th>30</th>\n",
       "      <td>Valle del cauca</td>\n",
       "      <td>941</td>\n",
       "    </tr>\n",
       "    <tr>\n",
       "      <th>1</th>\n",
       "      <td>Antioquia</td>\n",
       "      <td>994</td>\n",
       "    </tr>\n",
       "    <tr>\n",
       "      <th>4</th>\n",
       "      <td>Bogotá D.C</td>\n",
       "      <td>1616</td>\n",
       "    </tr>\n",
       "  </tbody>\n",
       "</table>\n",
       "</div>"
      ],
      "text/plain": [
       "                departamento  Y2022\n",
       "31                    Vaupés      3\n",
       "32                   Vichada      8\n",
       "15                   Guainía      8\n",
       "0                   Amazonas     14\n",
       "16                  Guaviare     17\n",
       "26  San Andrés y Providencia     22\n",
       "2                     Arauca     60\n",
       "8                    Caquetá     69\n",
       "23                  Putumayo     73\n",
       "9                   Casanare    135\n",
       "12                     Chocó    167\n",
       "24                   Quindío    178\n",
       "18                La Guajira    214\n",
       "17                     Huila    235\n",
       "7                     Caldas    238\n",
       "25                 Risaralda    239\n",
       "10                     Cauca    266\n",
       "20                      Meta    295\n",
       "22        Norte de Santander    301\n",
       "28                     Sucre    338\n",
       "21                    Nariño    360\n",
       "6                     Boyacá    371\n",
       "29                    Tolima    384\n",
       "19                 Magdalena    415\n",
       "11                     Cesar    418\n",
       "13              Cundinamarca    457\n",
       "14                   Córdoba    461\n",
       "5                    Bolívar    599\n",
       "27                 Santander    706\n",
       "3                  Atlántico    864\n",
       "30           Valle del cauca    941\n",
       "1                  Antioquia    994\n",
       "4                 Bogotá D.C   1616"
      ]
     },
     "execution_count": 14,
     "metadata": {},
     "output_type": "execute_result"
    }
   ],
   "source": [
    "df_num_ips = df_ips.groupby('departamento').agg(Y2022=('razon_social', 'count')).reset_index().sort_values('Y2022', ascending=True)\n",
    "df_num_ips"
   ]
  },
  {
   "cell_type": "code",
   "execution_count": 15,
   "metadata": {},
   "outputs": [
    {
     "data": {
      "application/vnd.plotly.v1+json": {
       "config": {
        "plotlyServerURL": "https://plot.ly"
       },
       "data": [
        {
         "alignmentgroup": "True",
         "hovertemplate": "Y2022=%{x}<br>departamento=%{y}<extra></extra>",
         "legendgroup": "",
         "marker": {
          "color": [
           "#5B9279",
           "#5B9279",
           "#5B9279",
           "#5B9279",
           "#5B9279",
           "#5B9279",
           "#5B9279",
           "#5B9279",
           "#5B9279",
           "#5B9279",
           "#5B9279",
           "#5B9279",
           "#5B9279",
           "#5B9279",
           "#5B9279",
           "#5B9279",
           "#5B9279",
           "#5B9279",
           "#5B9279",
           "#5B9279",
           "#5B9279",
           "#5B9279",
           "#5B9279",
           "#5B9279",
           "#5B9279",
           "#5B9279",
           "#5B9279",
           "#5B9279",
           "#5B9279",
           "#5B9279",
           "#5B9279",
           "#5B9279",
           "#5B9279"
          ],
          "pattern": {
           "shape": ""
          }
         },
         "name": "",
         "offsetgroup": "",
         "orientation": "h",
         "showlegend": false,
         "text": [
          3,
          8,
          8,
          14,
          17,
          22,
          60,
          69,
          73,
          135,
          167,
          178,
          214,
          235,
          238,
          239,
          266,
          295,
          301,
          338,
          360,
          371,
          384,
          415,
          418,
          457,
          461,
          599,
          706,
          864,
          941,
          994,
          1616
         ],
         "textposition": "outside",
         "type": "bar",
         "x": [
          3,
          8,
          8,
          14,
          17,
          22,
          60,
          69,
          73,
          135,
          167,
          178,
          214,
          235,
          238,
          239,
          266,
          295,
          301,
          338,
          360,
          371,
          384,
          415,
          418,
          457,
          461,
          599,
          706,
          864,
          941,
          994,
          1616
         ],
         "xaxis": "x",
         "y": [
          "Vaupés",
          "Vichada",
          "Guainía",
          "Amazonas",
          "Guaviare",
          "San Andrés y Providencia",
          "Arauca",
          "Caquetá",
          "Putumayo",
          "Casanare",
          "Chocó",
          "Quindío",
          "La Guajira",
          "Huila",
          "Caldas",
          "Risaralda",
          "Cauca",
          "Meta",
          "Norte de Santander",
          "Sucre",
          "Nariño",
          "Boyacá",
          "Tolima",
          "Magdalena",
          "Cesar",
          "Cundinamarca",
          "Córdoba",
          "Bolívar",
          "Santander",
          "Atlántico",
          "Valle del cauca",
          "Antioquia",
          "Bogotá D.C"
         ],
         "yaxis": "y"
        }
       ],
       "layout": {
        "barmode": "relative",
        "height": 700,
        "legend": {
         "tracegroupgap": 0
        },
        "margin": {
         "t": 60
        },
        "template": {
         "data": {
          "bar": [
           {
            "error_x": {
             "color": "#2a3f5f"
            },
            "error_y": {
             "color": "#2a3f5f"
            },
            "marker": {
             "line": {
              "color": "#E5ECF6",
              "width": 0.5
             },
             "pattern": {
              "fillmode": "overlay",
              "size": 10,
              "solidity": 0.2
             }
            },
            "type": "bar"
           }
          ],
          "barpolar": [
           {
            "marker": {
             "line": {
              "color": "#E5ECF6",
              "width": 0.5
             },
             "pattern": {
              "fillmode": "overlay",
              "size": 10,
              "solidity": 0.2
             }
            },
            "type": "barpolar"
           }
          ],
          "carpet": [
           {
            "aaxis": {
             "endlinecolor": "#2a3f5f",
             "gridcolor": "white",
             "linecolor": "white",
             "minorgridcolor": "white",
             "startlinecolor": "#2a3f5f"
            },
            "baxis": {
             "endlinecolor": "#2a3f5f",
             "gridcolor": "white",
             "linecolor": "white",
             "minorgridcolor": "white",
             "startlinecolor": "#2a3f5f"
            },
            "type": "carpet"
           }
          ],
          "choropleth": [
           {
            "colorbar": {
             "outlinewidth": 0,
             "ticks": ""
            },
            "type": "choropleth"
           }
          ],
          "contour": [
           {
            "colorbar": {
             "outlinewidth": 0,
             "ticks": ""
            },
            "colorscale": [
             [
              0,
              "#0d0887"
             ],
             [
              0.1111111111111111,
              "#46039f"
             ],
             [
              0.2222222222222222,
              "#7201a8"
             ],
             [
              0.3333333333333333,
              "#9c179e"
             ],
             [
              0.4444444444444444,
              "#bd3786"
             ],
             [
              0.5555555555555556,
              "#d8576b"
             ],
             [
              0.6666666666666666,
              "#ed7953"
             ],
             [
              0.7777777777777778,
              "#fb9f3a"
             ],
             [
              0.8888888888888888,
              "#fdca26"
             ],
             [
              1,
              "#f0f921"
             ]
            ],
            "type": "contour"
           }
          ],
          "contourcarpet": [
           {
            "colorbar": {
             "outlinewidth": 0,
             "ticks": ""
            },
            "type": "contourcarpet"
           }
          ],
          "heatmap": [
           {
            "colorbar": {
             "outlinewidth": 0,
             "ticks": ""
            },
            "colorscale": [
             [
              0,
              "#0d0887"
             ],
             [
              0.1111111111111111,
              "#46039f"
             ],
             [
              0.2222222222222222,
              "#7201a8"
             ],
             [
              0.3333333333333333,
              "#9c179e"
             ],
             [
              0.4444444444444444,
              "#bd3786"
             ],
             [
              0.5555555555555556,
              "#d8576b"
             ],
             [
              0.6666666666666666,
              "#ed7953"
             ],
             [
              0.7777777777777778,
              "#fb9f3a"
             ],
             [
              0.8888888888888888,
              "#fdca26"
             ],
             [
              1,
              "#f0f921"
             ]
            ],
            "type": "heatmap"
           }
          ],
          "heatmapgl": [
           {
            "colorbar": {
             "outlinewidth": 0,
             "ticks": ""
            },
            "colorscale": [
             [
              0,
              "#0d0887"
             ],
             [
              0.1111111111111111,
              "#46039f"
             ],
             [
              0.2222222222222222,
              "#7201a8"
             ],
             [
              0.3333333333333333,
              "#9c179e"
             ],
             [
              0.4444444444444444,
              "#bd3786"
             ],
             [
              0.5555555555555556,
              "#d8576b"
             ],
             [
              0.6666666666666666,
              "#ed7953"
             ],
             [
              0.7777777777777778,
              "#fb9f3a"
             ],
             [
              0.8888888888888888,
              "#fdca26"
             ],
             [
              1,
              "#f0f921"
             ]
            ],
            "type": "heatmapgl"
           }
          ],
          "histogram": [
           {
            "marker": {
             "pattern": {
              "fillmode": "overlay",
              "size": 10,
              "solidity": 0.2
             }
            },
            "type": "histogram"
           }
          ],
          "histogram2d": [
           {
            "colorbar": {
             "outlinewidth": 0,
             "ticks": ""
            },
            "colorscale": [
             [
              0,
              "#0d0887"
             ],
             [
              0.1111111111111111,
              "#46039f"
             ],
             [
              0.2222222222222222,
              "#7201a8"
             ],
             [
              0.3333333333333333,
              "#9c179e"
             ],
             [
              0.4444444444444444,
              "#bd3786"
             ],
             [
              0.5555555555555556,
              "#d8576b"
             ],
             [
              0.6666666666666666,
              "#ed7953"
             ],
             [
              0.7777777777777778,
              "#fb9f3a"
             ],
             [
              0.8888888888888888,
              "#fdca26"
             ],
             [
              1,
              "#f0f921"
             ]
            ],
            "type": "histogram2d"
           }
          ],
          "histogram2dcontour": [
           {
            "colorbar": {
             "outlinewidth": 0,
             "ticks": ""
            },
            "colorscale": [
             [
              0,
              "#0d0887"
             ],
             [
              0.1111111111111111,
              "#46039f"
             ],
             [
              0.2222222222222222,
              "#7201a8"
             ],
             [
              0.3333333333333333,
              "#9c179e"
             ],
             [
              0.4444444444444444,
              "#bd3786"
             ],
             [
              0.5555555555555556,
              "#d8576b"
             ],
             [
              0.6666666666666666,
              "#ed7953"
             ],
             [
              0.7777777777777778,
              "#fb9f3a"
             ],
             [
              0.8888888888888888,
              "#fdca26"
             ],
             [
              1,
              "#f0f921"
             ]
            ],
            "type": "histogram2dcontour"
           }
          ],
          "mesh3d": [
           {
            "colorbar": {
             "outlinewidth": 0,
             "ticks": ""
            },
            "type": "mesh3d"
           }
          ],
          "parcoords": [
           {
            "line": {
             "colorbar": {
              "outlinewidth": 0,
              "ticks": ""
             }
            },
            "type": "parcoords"
           }
          ],
          "pie": [
           {
            "automargin": true,
            "type": "pie"
           }
          ],
          "scatter": [
           {
            "fillpattern": {
             "fillmode": "overlay",
             "size": 10,
             "solidity": 0.2
            },
            "type": "scatter"
           }
          ],
          "scatter3d": [
           {
            "line": {
             "colorbar": {
              "outlinewidth": 0,
              "ticks": ""
             }
            },
            "marker": {
             "colorbar": {
              "outlinewidth": 0,
              "ticks": ""
             }
            },
            "type": "scatter3d"
           }
          ],
          "scattercarpet": [
           {
            "marker": {
             "colorbar": {
              "outlinewidth": 0,
              "ticks": ""
             }
            },
            "type": "scattercarpet"
           }
          ],
          "scattergeo": [
           {
            "marker": {
             "colorbar": {
              "outlinewidth": 0,
              "ticks": ""
             }
            },
            "type": "scattergeo"
           }
          ],
          "scattergl": [
           {
            "marker": {
             "colorbar": {
              "outlinewidth": 0,
              "ticks": ""
             }
            },
            "type": "scattergl"
           }
          ],
          "scattermapbox": [
           {
            "marker": {
             "colorbar": {
              "outlinewidth": 0,
              "ticks": ""
             }
            },
            "type": "scattermapbox"
           }
          ],
          "scatterpolar": [
           {
            "marker": {
             "colorbar": {
              "outlinewidth": 0,
              "ticks": ""
             }
            },
            "type": "scatterpolar"
           }
          ],
          "scatterpolargl": [
           {
            "marker": {
             "colorbar": {
              "outlinewidth": 0,
              "ticks": ""
             }
            },
            "type": "scatterpolargl"
           }
          ],
          "scatterternary": [
           {
            "marker": {
             "colorbar": {
              "outlinewidth": 0,
              "ticks": ""
             }
            },
            "type": "scatterternary"
           }
          ],
          "surface": [
           {
            "colorbar": {
             "outlinewidth": 0,
             "ticks": ""
            },
            "colorscale": [
             [
              0,
              "#0d0887"
             ],
             [
              0.1111111111111111,
              "#46039f"
             ],
             [
              0.2222222222222222,
              "#7201a8"
             ],
             [
              0.3333333333333333,
              "#9c179e"
             ],
             [
              0.4444444444444444,
              "#bd3786"
             ],
             [
              0.5555555555555556,
              "#d8576b"
             ],
             [
              0.6666666666666666,
              "#ed7953"
             ],
             [
              0.7777777777777778,
              "#fb9f3a"
             ],
             [
              0.8888888888888888,
              "#fdca26"
             ],
             [
              1,
              "#f0f921"
             ]
            ],
            "type": "surface"
           }
          ],
          "table": [
           {
            "cells": {
             "fill": {
              "color": "#EBF0F8"
             },
             "line": {
              "color": "white"
             }
            },
            "header": {
             "fill": {
              "color": "#C8D4E3"
             },
             "line": {
              "color": "white"
             }
            },
            "type": "table"
           }
          ]
         },
         "layout": {
          "annotationdefaults": {
           "arrowcolor": "#2a3f5f",
           "arrowhead": 0,
           "arrowwidth": 1
          },
          "autotypenumbers": "strict",
          "coloraxis": {
           "colorbar": {
            "outlinewidth": 0,
            "ticks": ""
           }
          },
          "colorscale": {
           "diverging": [
            [
             0,
             "#8e0152"
            ],
            [
             0.1,
             "#c51b7d"
            ],
            [
             0.2,
             "#de77ae"
            ],
            [
             0.3,
             "#f1b6da"
            ],
            [
             0.4,
             "#fde0ef"
            ],
            [
             0.5,
             "#f7f7f7"
            ],
            [
             0.6,
             "#e6f5d0"
            ],
            [
             0.7,
             "#b8e186"
            ],
            [
             0.8,
             "#7fbc41"
            ],
            [
             0.9,
             "#4d9221"
            ],
            [
             1,
             "#276419"
            ]
           ],
           "sequential": [
            [
             0,
             "#0d0887"
            ],
            [
             0.1111111111111111,
             "#46039f"
            ],
            [
             0.2222222222222222,
             "#7201a8"
            ],
            [
             0.3333333333333333,
             "#9c179e"
            ],
            [
             0.4444444444444444,
             "#bd3786"
            ],
            [
             0.5555555555555556,
             "#d8576b"
            ],
            [
             0.6666666666666666,
             "#ed7953"
            ],
            [
             0.7777777777777778,
             "#fb9f3a"
            ],
            [
             0.8888888888888888,
             "#fdca26"
            ],
            [
             1,
             "#f0f921"
            ]
           ],
           "sequentialminus": [
            [
             0,
             "#0d0887"
            ],
            [
             0.1111111111111111,
             "#46039f"
            ],
            [
             0.2222222222222222,
             "#7201a8"
            ],
            [
             0.3333333333333333,
             "#9c179e"
            ],
            [
             0.4444444444444444,
             "#bd3786"
            ],
            [
             0.5555555555555556,
             "#d8576b"
            ],
            [
             0.6666666666666666,
             "#ed7953"
            ],
            [
             0.7777777777777778,
             "#fb9f3a"
            ],
            [
             0.8888888888888888,
             "#fdca26"
            ],
            [
             1,
             "#f0f921"
            ]
           ]
          },
          "colorway": [
           "#636efa",
           "#EF553B",
           "#00cc96",
           "#ab63fa",
           "#FFA15A",
           "#19d3f3",
           "#FF6692",
           "#B6E880",
           "#FF97FF",
           "#FECB52"
          ],
          "font": {
           "color": "#2a3f5f"
          },
          "geo": {
           "bgcolor": "white",
           "lakecolor": "white",
           "landcolor": "#E5ECF6",
           "showlakes": true,
           "showland": true,
           "subunitcolor": "white"
          },
          "hoverlabel": {
           "align": "left"
          },
          "hovermode": "closest",
          "mapbox": {
           "style": "light"
          },
          "paper_bgcolor": "white",
          "plot_bgcolor": "#E5ECF6",
          "polar": {
           "angularaxis": {
            "gridcolor": "white",
            "linecolor": "white",
            "ticks": ""
           },
           "bgcolor": "#E5ECF6",
           "radialaxis": {
            "gridcolor": "white",
            "linecolor": "white",
            "ticks": ""
           }
          },
          "scene": {
           "xaxis": {
            "backgroundcolor": "#E5ECF6",
            "gridcolor": "white",
            "gridwidth": 2,
            "linecolor": "white",
            "showbackground": true,
            "ticks": "",
            "zerolinecolor": "white"
           },
           "yaxis": {
            "backgroundcolor": "#E5ECF6",
            "gridcolor": "white",
            "gridwidth": 2,
            "linecolor": "white",
            "showbackground": true,
            "ticks": "",
            "zerolinecolor": "white"
           },
           "zaxis": {
            "backgroundcolor": "#E5ECF6",
            "gridcolor": "white",
            "gridwidth": 2,
            "linecolor": "white",
            "showbackground": true,
            "ticks": "",
            "zerolinecolor": "white"
           }
          },
          "shapedefaults": {
           "line": {
            "color": "#2a3f5f"
           }
          },
          "ternary": {
           "aaxis": {
            "gridcolor": "white",
            "linecolor": "white",
            "ticks": ""
           },
           "baxis": {
            "gridcolor": "white",
            "linecolor": "white",
            "ticks": ""
           },
           "bgcolor": "#E5ECF6",
           "caxis": {
            "gridcolor": "white",
            "linecolor": "white",
            "ticks": ""
           }
          },
          "title": {
           "x": 0.05
          },
          "xaxis": {
           "automargin": true,
           "gridcolor": "white",
           "linecolor": "white",
           "ticks": "",
           "title": {
            "standoff": 15
           },
           "zerolinecolor": "white",
           "zerolinewidth": 2
          },
          "yaxis": {
           "automargin": true,
           "gridcolor": "white",
           "linecolor": "white",
           "ticks": "",
           "title": {
            "standoff": 15
           },
           "zerolinecolor": "white",
           "zerolinewidth": 2
          }
         }
        },
        "title": {
         "text": "Número de IPS por Departamento - 2022"
        },
        "width": 800,
        "xaxis": {
         "anchor": "y",
         "domain": [
          0,
          1
         ],
         "range": [
          0,
          1800
         ],
         "title": {
          "text": "Número de IPS"
         }
        },
        "yaxis": {
         "anchor": "x",
         "domain": [
          0,
          1
         ],
         "title": {
          "text": "Departamento"
         }
        }
       }
      }
     },
     "metadata": {},
     "output_type": "display_data"
    }
   ],
   "source": [
    "fig = px.bar(data_frame=df_num_ips, x='Y2022', y='departamento', orientation='h')\n",
    "\n",
    "fig.update_xaxes(title_text='Número de IPS')\n",
    "fig.update_xaxes(range=[0,1800])\n",
    "fig.update_yaxes(title_text='Departamento')\n",
    "fig.update_layout(title='Número de IPS por Departamento - 2022')\n",
    "\n",
    "color_sequence = ['#5B9279' for i in departamentos]\n",
    "fig.update_traces(marker=dict(color=color_sequence))\n",
    "\n",
    "fig.update_traces(text=df_num_ips['Y2022'], textposition='outside')\n",
    "\n",
    "fig.update_layout(width=800, height=700)\n"
   ]
  },
  {
   "cell_type": "code",
   "execution_count": 16,
   "metadata": {},
   "outputs": [
    {
     "name": "stderr",
     "output_type": "stream",
     "text": [
      "C:\\Users\\SGM\\AppData\\Local\\Temp\\ipykernel_16972\\2778322687.py:2: DtypeWarning:\n",
      "\n",
      "Columns (0,2) have mixed types. Specify dtype option on import or set low_memory=False.\n",
      "\n"
     ]
    }
   ],
   "source": [
    "dtype_options = {'CodigoPrestador': np.int64, 'CodigoHabilitacionSede': np.int64}\n",
    "df_reps = pd.read_csv(\"../../Data/REPS.csv\")"
   ]
  },
  {
   "cell_type": "code",
   "execution_count": 17,
   "metadata": {},
   "outputs": [
    {
     "name": "stdout",
     "output_type": "stream",
     "text": [
      "<class 'pandas.core.frame.DataFrame'>\n",
      "RangeIndex: 76395 entries, 0 to 76394\n",
      "Data columns (total 22 columns):\n",
      " #   Column                     Non-Null Count  Dtype \n",
      "---  ------                     --------------  ----- \n",
      " 0   CodigoPrestador            76395 non-null  object\n",
      " 1   NombrePrestador            76395 non-null  object\n",
      " 2   CodigoHabilitacionSede     76395 non-null  object\n",
      " 3   NombreSede                 76395 non-null  object\n",
      " 4   TipoIdentificacion         76395 non-null  object\n",
      " 5   NumeroIdentificacion       76395 non-null  int64 \n",
      " 6   NaturalezaJuridica         76395 non-null  object\n",
      " 7   ESE                        17394 non-null  object\n",
      " 8   MunicipioPrestador         76395 non-null  int64 \n",
      " 9   DepartamentoPrestadorDesc  76395 non-null  object\n",
      " 10  MunicipioPrestadorDesc     76395 non-null  object\n",
      " 11  DireccionPrestador         76395 non-null  object\n",
      " 12  EmailPrestador             76370 non-null  object\n",
      " 13  TelefonoPrestador          76304 non-null  object\n",
      " 14  MunicipioSede              76395 non-null  int64 \n",
      " 15  DepartamentoSedeDesc       76395 non-null  object\n",
      " 16  MunicipioSedeDesc          76395 non-null  object\n",
      " 17  DireccionSede              76351 non-null  object\n",
      " 18  EmailSede                  76362 non-null  object\n",
      " 19  TelefonoSede               74820 non-null  object\n",
      " 20  ClasePrestadorDesc         76395 non-null  object\n",
      " 21  FechaCorte                 76395 non-null  object\n",
      "dtypes: int64(3), object(19)\n",
      "memory usage: 12.8+ MB\n"
     ]
    }
   ],
   "source": [
    "df_reps.info()"
   ]
  },
  {
   "cell_type": "code",
   "execution_count": 18,
   "metadata": {},
   "outputs": [],
   "source": [
    "df_reps['codigo_prestador'] = df_reps['CodigoPrestador']\n",
    "df_reps['codigo_habilitacion_sede'] = df_reps['CodigoHabilitacionSede']\n",
    "df_reps.iloc[56503]['CodigoPrestador'], df_reps.iloc[56503]['CodigoHabilitacionSede'], df_reps.iloc[74472]['CodigoPrestador'], df_reps.iloc[74472]['CodigoHabilitacionSede']\n",
    "\n",
    "df_reps.at[56503, 'codigo_prestador'] = df_reps.iloc[56503]['CodigoPrestador'].replace(\" \", \"\")\n",
    "df_reps.at[56503, 'codigo_habilitacion_sede'] = df_reps.iloc[56503]['CodigoHabilitacionSede'].replace(\" \", \"\")\n",
    "df_reps.at[74472, 'codigo_prestador'] = df_reps.iloc[74472]['CodigoPrestador'].replace(\" \", \"\")\n",
    "df_reps.at[74472, 'codigo_habilitacion_sede'] = df_reps.iloc[74472]['CodigoHabilitacionSede'].replace(\" \", \"\")\n",
    "\n",
    "df_reps['codigo_prestador'] = df_reps['codigo_prestador'].astype(np.int64)\n",
    "df_reps['codigo_habilitacion_sede'] = df_reps['codigo_habilitacion_sede'].astype(np.int64)"
   ]
  },
  {
   "cell_type": "code",
   "execution_count": 19,
   "metadata": {},
   "outputs": [
    {
     "data": {
      "text/html": [
       "<div>\n",
       "<style scoped>\n",
       "    .dataframe tbody tr th:only-of-type {\n",
       "        vertical-align: middle;\n",
       "    }\n",
       "\n",
       "    .dataframe tbody tr th {\n",
       "        vertical-align: top;\n",
       "    }\n",
       "\n",
       "    .dataframe thead th {\n",
       "        text-align: right;\n",
       "    }\n",
       "</style>\n",
       "<table border=\"1\" class=\"dataframe\">\n",
       "  <thead>\n",
       "    <tr style=\"text-align: right;\">\n",
       "      <th></th>\n",
       "      <th>CodigoPrestador</th>\n",
       "      <th>NombrePrestador</th>\n",
       "      <th>CodigoHabilitacionSede</th>\n",
       "      <th>NombreSede</th>\n",
       "      <th>TipoIdentificacion</th>\n",
       "      <th>NumeroIdentificacion</th>\n",
       "      <th>NaturalezaJuridica</th>\n",
       "      <th>ESE</th>\n",
       "      <th>MunicipioPrestador</th>\n",
       "      <th>DepartamentoPrestadorDesc</th>\n",
       "      <th>...</th>\n",
       "      <th>MunicipioSede</th>\n",
       "      <th>DepartamentoSedeDesc</th>\n",
       "      <th>MunicipioSedeDesc</th>\n",
       "      <th>DireccionSede</th>\n",
       "      <th>EmailSede</th>\n",
       "      <th>TelefonoSede</th>\n",
       "      <th>ClasePrestadorDesc</th>\n",
       "      <th>FechaCorte</th>\n",
       "      <th>codigo_prestador</th>\n",
       "      <th>codigo_habilitacion_sede</th>\n",
       "    </tr>\n",
       "  </thead>\n",
       "  <tbody>\n",
       "    <tr>\n",
       "      <th>0</th>\n",
       "      <td>9100100019</td>\n",
       "      <td>E.S.E. HOSPITAL SAN RAFAEL DE LETICIA</td>\n",
       "      <td>912630001911</td>\n",
       "      <td>CENTRO DE SALUD SAN RAFAEL - E.S.E HOSPITAL SA...</td>\n",
       "      <td>NI</td>\n",
       "      <td>838000096</td>\n",
       "      <td>Pública</td>\n",
       "      <td>SI</td>\n",
       "      <td>91001</td>\n",
       "      <td>Amazonas</td>\n",
       "      <td>...</td>\n",
       "      <td>91263</td>\n",
       "      <td>Amazonas</td>\n",
       "      <td>EL ENCANTO</td>\n",
       "      <td>CORREGIMIENTO DEL ENCANTO</td>\n",
       "      <td>sanrafael@esehospitalsanrafael-leticia-amazona...</td>\n",
       "      <td>3203016139</td>\n",
       "      <td>Instituciones Prestadoras de Servicios de Salu...</td>\n",
       "      <td>Fecha corte REPS: Jul 4 2023 1:19PM</td>\n",
       "      <td>9100100019</td>\n",
       "      <td>912630001911</td>\n",
       "    </tr>\n",
       "    <tr>\n",
       "      <th>1</th>\n",
       "      <td>9100100019</td>\n",
       "      <td>E.S.E. HOSPITAL SAN RAFAEL DE LETICIA</td>\n",
       "      <td>914050001914</td>\n",
       "      <td>CENTRO DE SALUD DE LA CHORRERA- E.S.E HOSPITAL...</td>\n",
       "      <td>NI</td>\n",
       "      <td>838000096</td>\n",
       "      <td>Pública</td>\n",
       "      <td>SI</td>\n",
       "      <td>91001</td>\n",
       "      <td>Amazonas</td>\n",
       "      <td>...</td>\n",
       "      <td>91405</td>\n",
       "      <td>Amazonas</td>\n",
       "      <td>LA CHORRERA</td>\n",
       "      <td>CORREGIMIENTO DE LA CHORRERA</td>\n",
       "      <td>chorrera@esehospitalsanrafael-leticia-amazonas...</td>\n",
       "      <td>3203016132</td>\n",
       "      <td>Instituciones Prestadoras de Servicios de Salu...</td>\n",
       "      <td>Fecha corte REPS: Jul 4 2023 1:19PM</td>\n",
       "      <td>9100100019</td>\n",
       "      <td>914050001914</td>\n",
       "    </tr>\n",
       "    <tr>\n",
       "      <th>2</th>\n",
       "      <td>9100100019</td>\n",
       "      <td>E.S.E. HOSPITAL SAN RAFAEL DE LETICIA</td>\n",
       "      <td>914070001915</td>\n",
       "      <td>CENTRO DE SALUD DE LA PEDRERA - E.S.E HOSPITAL...</td>\n",
       "      <td>NI</td>\n",
       "      <td>838000096</td>\n",
       "      <td>Pública</td>\n",
       "      <td>SI</td>\n",
       "      <td>91001</td>\n",
       "      <td>Amazonas</td>\n",
       "      <td>...</td>\n",
       "      <td>91407</td>\n",
       "      <td>Amazonas</td>\n",
       "      <td>LA PEDRERA</td>\n",
       "      <td>CORREGIMIENTO DE LA PEDRERA</td>\n",
       "      <td>pedrera@esehospitalsanrafael-leticia-amazonas....</td>\n",
       "      <td>3203014882</td>\n",
       "      <td>Instituciones Prestadoras de Servicios de Salu...</td>\n",
       "      <td>Fecha corte REPS: Jul 4 2023 1:19PM</td>\n",
       "      <td>9100100019</td>\n",
       "      <td>914070001915</td>\n",
       "    </tr>\n",
       "    <tr>\n",
       "      <th>3</th>\n",
       "      <td>9100100019</td>\n",
       "      <td>E.S.E. HOSPITAL SAN RAFAEL DE LETICIA</td>\n",
       "      <td>914300001916</td>\n",
       "      <td>LA VICTORIA ESE SAN FARAEL DE LETICIA</td>\n",
       "      <td>NI</td>\n",
       "      <td>838000096</td>\n",
       "      <td>Pública</td>\n",
       "      <td>SI</td>\n",
       "      <td>91001</td>\n",
       "      <td>Amazonas</td>\n",
       "      <td>...</td>\n",
       "      <td>91430</td>\n",
       "      <td>Amazonas</td>\n",
       "      <td>LA VICTORIA</td>\n",
       "      <td>LA VICTORIA</td>\n",
       "      <td>hsanrafael1@yahoo.com</td>\n",
       "      <td>985227075</td>\n",
       "      <td>Instituciones Prestadoras de Servicios de Salu...</td>\n",
       "      <td>Fecha corte REPS: Jul 4 2023 1:19PM</td>\n",
       "      <td>9100100019</td>\n",
       "      <td>914300001916</td>\n",
       "    </tr>\n",
       "    <tr>\n",
       "      <th>4</th>\n",
       "      <td>9100100017</td>\n",
       "      <td>MANUEL DE JESUS LUBO OROZCO</td>\n",
       "      <td>910010001701</td>\n",
       "      <td>MANUEL DE JESUS LUBO OROZCO</td>\n",
       "      <td>CC</td>\n",
       "      <td>72019333</td>\n",
       "      <td>Privada</td>\n",
       "      <td>NaN</td>\n",
       "      <td>91001</td>\n",
       "      <td>Amazonas</td>\n",
       "      <td>...</td>\n",
       "      <td>91001</td>\n",
       "      <td>Amazonas</td>\n",
       "      <td>LETICIA</td>\n",
       "      <td>Carrera 6 No. 10-12 Local 2</td>\n",
       "      <td>lubomanu@gmail.com</td>\n",
       "      <td>314-3580254</td>\n",
       "      <td>Profesional Independiente</td>\n",
       "      <td>Fecha corte REPS: Jul 4 2023 1:19PM</td>\n",
       "      <td>9100100017</td>\n",
       "      <td>910010001701</td>\n",
       "    </tr>\n",
       "  </tbody>\n",
       "</table>\n",
       "<p>5 rows × 24 columns</p>\n",
       "</div>"
      ],
      "text/plain": [
       "  CodigoPrestador                        NombrePrestador  \\\n",
       "0      9100100019  E.S.E. HOSPITAL SAN RAFAEL DE LETICIA   \n",
       "1      9100100019  E.S.E. HOSPITAL SAN RAFAEL DE LETICIA   \n",
       "2      9100100019  E.S.E. HOSPITAL SAN RAFAEL DE LETICIA   \n",
       "3      9100100019  E.S.E. HOSPITAL SAN RAFAEL DE LETICIA   \n",
       "4      9100100017            MANUEL DE JESUS LUBO OROZCO   \n",
       "\n",
       "  CodigoHabilitacionSede                                         NombreSede  \\\n",
       "0           912630001911  CENTRO DE SALUD SAN RAFAEL - E.S.E HOSPITAL SA...   \n",
       "1           914050001914  CENTRO DE SALUD DE LA CHORRERA- E.S.E HOSPITAL...   \n",
       "2           914070001915  CENTRO DE SALUD DE LA PEDRERA - E.S.E HOSPITAL...   \n",
       "3           914300001916              LA VICTORIA ESE SAN FARAEL DE LETICIA   \n",
       "4           910010001701                        MANUEL DE JESUS LUBO OROZCO   \n",
       "\n",
       "  TipoIdentificacion  NumeroIdentificacion NaturalezaJuridica  ESE  \\\n",
       "0                 NI             838000096            Pública   SI   \n",
       "1                 NI             838000096            Pública   SI   \n",
       "2                 NI             838000096            Pública   SI   \n",
       "3                 NI             838000096            Pública   SI   \n",
       "4                 CC              72019333            Privada  NaN   \n",
       "\n",
       "   MunicipioPrestador DepartamentoPrestadorDesc  ... MunicipioSede  \\\n",
       "0               91001                  Amazonas  ...         91263   \n",
       "1               91001                  Amazonas  ...         91405   \n",
       "2               91001                  Amazonas  ...         91407   \n",
       "3               91001                  Amazonas  ...         91430   \n",
       "4               91001                  Amazonas  ...         91001   \n",
       "\n",
       "  DepartamentoSedeDesc MunicipioSedeDesc                 DireccionSede  \\\n",
       "0             Amazonas        EL ENCANTO     CORREGIMIENTO DEL ENCANTO   \n",
       "1             Amazonas       LA CHORRERA  CORREGIMIENTO DE LA CHORRERA   \n",
       "2             Amazonas        LA PEDRERA   CORREGIMIENTO DE LA PEDRERA   \n",
       "3             Amazonas       LA VICTORIA                   LA VICTORIA   \n",
       "4             Amazonas           LETICIA   Carrera 6 No. 10-12 Local 2   \n",
       "\n",
       "                                           EmailSede TelefonoSede  \\\n",
       "0  sanrafael@esehospitalsanrafael-leticia-amazona...   3203016139   \n",
       "1  chorrera@esehospitalsanrafael-leticia-amazonas...   3203016132   \n",
       "2  pedrera@esehospitalsanrafael-leticia-amazonas....   3203014882   \n",
       "3                              hsanrafael1@yahoo.com    985227075   \n",
       "4                                 lubomanu@gmail.com  314-3580254   \n",
       "\n",
       "                                  ClasePrestadorDesc  \\\n",
       "0  Instituciones Prestadoras de Servicios de Salu...   \n",
       "1  Instituciones Prestadoras de Servicios de Salu...   \n",
       "2  Instituciones Prestadoras de Servicios de Salu...   \n",
       "3  Instituciones Prestadoras de Servicios de Salu...   \n",
       "4                          Profesional Independiente   \n",
       "\n",
       "                            FechaCorte codigo_prestador  \\\n",
       "0  Fecha corte REPS: Jul 4 2023 1:19PM       9100100019   \n",
       "1  Fecha corte REPS: Jul 4 2023 1:19PM       9100100019   \n",
       "2  Fecha corte REPS: Jul 4 2023 1:19PM       9100100019   \n",
       "3  Fecha corte REPS: Jul 4 2023 1:19PM       9100100019   \n",
       "4  Fecha corte REPS: Jul 4 2023 1:19PM       9100100017   \n",
       "\n",
       "  codigo_habilitacion_sede  \n",
       "0             912630001911  \n",
       "1             914050001914  \n",
       "2             914070001915  \n",
       "3             914300001916  \n",
       "4             910010001701  \n",
       "\n",
       "[5 rows x 24 columns]"
      ]
     },
     "execution_count": 19,
     "metadata": {},
     "output_type": "execute_result"
    }
   ],
   "source": [
    "df_reps.head()"
   ]
  },
  {
   "cell_type": "code",
   "execution_count": 20,
   "metadata": {},
   "outputs": [],
   "source": [
    "columnas = [\n",
    "    'DepartamentoSedeDesc',\n",
    "    'MunicipioPrestadorDesc',\n",
    "    'MunicipioSedeDesc',\n",
    "    'codigo_prestador',\n",
    "    'codigo_habilitacion_sede',\n",
    "    'NaturalezaJuridica',\n",
    "    'ClasePrestadorDesc'\n",
    "]"
   ]
  },
  {
   "cell_type": "code",
   "execution_count": 21,
   "metadata": {},
   "outputs": [],
   "source": [
    "df_reps = df_reps[columnas]"
   ]
  },
  {
   "cell_type": "code",
   "execution_count": 22,
   "metadata": {},
   "outputs": [
    {
     "data": {
      "text/html": [
       "<div>\n",
       "<style scoped>\n",
       "    .dataframe tbody tr th:only-of-type {\n",
       "        vertical-align: middle;\n",
       "    }\n",
       "\n",
       "    .dataframe tbody tr th {\n",
       "        vertical-align: top;\n",
       "    }\n",
       "\n",
       "    .dataframe thead th {\n",
       "        text-align: right;\n",
       "    }\n",
       "</style>\n",
       "<table border=\"1\" class=\"dataframe\">\n",
       "  <thead>\n",
       "    <tr style=\"text-align: right;\">\n",
       "      <th></th>\n",
       "      <th>DepartamentoSedeDesc</th>\n",
       "      <th>MunicipioPrestadorDesc</th>\n",
       "      <th>MunicipioSedeDesc</th>\n",
       "      <th>codigo_prestador</th>\n",
       "      <th>codigo_habilitacion_sede</th>\n",
       "      <th>NaturalezaJuridica</th>\n",
       "      <th>ClasePrestadorDesc</th>\n",
       "    </tr>\n",
       "  </thead>\n",
       "  <tbody>\n",
       "    <tr>\n",
       "      <th>0</th>\n",
       "      <td>Amazonas</td>\n",
       "      <td>LETICIA</td>\n",
       "      <td>EL ENCANTO</td>\n",
       "      <td>9100100019</td>\n",
       "      <td>912630001911</td>\n",
       "      <td>Pública</td>\n",
       "      <td>Instituciones Prestadoras de Servicios de Salu...</td>\n",
       "    </tr>\n",
       "    <tr>\n",
       "      <th>1</th>\n",
       "      <td>Amazonas</td>\n",
       "      <td>LETICIA</td>\n",
       "      <td>LA CHORRERA</td>\n",
       "      <td>9100100019</td>\n",
       "      <td>914050001914</td>\n",
       "      <td>Pública</td>\n",
       "      <td>Instituciones Prestadoras de Servicios de Salu...</td>\n",
       "    </tr>\n",
       "    <tr>\n",
       "      <th>2</th>\n",
       "      <td>Amazonas</td>\n",
       "      <td>LETICIA</td>\n",
       "      <td>LA PEDRERA</td>\n",
       "      <td>9100100019</td>\n",
       "      <td>914070001915</td>\n",
       "      <td>Pública</td>\n",
       "      <td>Instituciones Prestadoras de Servicios de Salu...</td>\n",
       "    </tr>\n",
       "    <tr>\n",
       "      <th>3</th>\n",
       "      <td>Amazonas</td>\n",
       "      <td>LETICIA</td>\n",
       "      <td>LA VICTORIA</td>\n",
       "      <td>9100100019</td>\n",
       "      <td>914300001916</td>\n",
       "      <td>Pública</td>\n",
       "      <td>Instituciones Prestadoras de Servicios de Salu...</td>\n",
       "    </tr>\n",
       "    <tr>\n",
       "      <th>4</th>\n",
       "      <td>Amazonas</td>\n",
       "      <td>LETICIA</td>\n",
       "      <td>LETICIA</td>\n",
       "      <td>9100100017</td>\n",
       "      <td>910010001701</td>\n",
       "      <td>Privada</td>\n",
       "      <td>Profesional Independiente</td>\n",
       "    </tr>\n",
       "  </tbody>\n",
       "</table>\n",
       "</div>"
      ],
      "text/plain": [
       "  DepartamentoSedeDesc MunicipioPrestadorDesc MunicipioSedeDesc  \\\n",
       "0             Amazonas                LETICIA        EL ENCANTO   \n",
       "1             Amazonas                LETICIA       LA CHORRERA   \n",
       "2             Amazonas                LETICIA        LA PEDRERA   \n",
       "3             Amazonas                LETICIA       LA VICTORIA   \n",
       "4             Amazonas                LETICIA           LETICIA   \n",
       "\n",
       "   codigo_prestador  codigo_habilitacion_sede NaturalezaJuridica  \\\n",
       "0        9100100019              912630001911            Pública   \n",
       "1        9100100019              914050001914            Pública   \n",
       "2        9100100019              914070001915            Pública   \n",
       "3        9100100019              914300001916            Pública   \n",
       "4        9100100017              910010001701            Privada   \n",
       "\n",
       "                                  ClasePrestadorDesc  \n",
       "0  Instituciones Prestadoras de Servicios de Salu...  \n",
       "1  Instituciones Prestadoras de Servicios de Salu...  \n",
       "2  Instituciones Prestadoras de Servicios de Salu...  \n",
       "3  Instituciones Prestadoras de Servicios de Salu...  \n",
       "4                          Profesional Independiente  "
      ]
     },
     "execution_count": 22,
     "metadata": {},
     "output_type": "execute_result"
    }
   ],
   "source": [
    "df_reps.head()"
   ]
  },
  {
   "cell_type": "code",
   "execution_count": 23,
   "metadata": {},
   "outputs": [],
   "source": [
    "departamentos = [\n",
    "    'Amazonas', 'Antioquia', 'Arauca', 'Atlántico',\n",
    "    'Bogotá D.C', 'Bolívar', 'Boyacá', 'Caldas',\n",
    "    'Caquetá', 'Casanare', 'Cauca', 'Cesar', \n",
    "    'Chocó', 'Córdoba', 'Cundinamarca', 'Guainía', \n",
    "    'Guaviare', 'Huila', 'La Guajira', 'Magdalena',\n",
    "    'Meta', 'Nariño', 'Norte de Santander', 'Putumayo',\n",
    "    'Quindío', 'Risaralda', 'San Andrés y Providencia', 'Santander',\n",
    "    'Sucre', 'Tolima', 'Valle del cauca', 'Vaupés', \n",
    "    'Vichada'\n",
    "    ]\n",
    "\n",
    "distritos_especiales = [\n",
    "    'Barranquilla',\n",
    "    'Buenaventura',\n",
    "    'Cartagena',\n",
    "    'Santa Marta'\n",
    "]\n",
    "\n",
    "distritos_especiales_departamentos = {\n",
    "    'Barranquilla': 'Atlántico',\n",
    "    'Buenaventura': 'Valle del cauca',\n",
    "    'Cartagena': 'Bolívar',\n",
    "    'Santa Marta': 'Magdalena',\n",
    "    'Cali': 'Valle del cauca'\n",
    "}"
   ]
  },
  {
   "cell_type": "code",
   "execution_count": 24,
   "metadata": {},
   "outputs": [
    {
     "data": {
      "text/plain": [
       "(array(['Amazonas', 'Antioquia', 'Arauca', 'Atlántico', 'Barranquilla',\n",
       "        'Bogotá D.C', 'Bolívar', 'Boyacá', 'Buenaventura', 'Caldas',\n",
       "        'Cali', 'Caquetá', 'Cartagena', 'Casanare', 'Cauca', 'Cesar',\n",
       "        'Chocó', 'Córdoba', 'Cundinamarca', 'Guainía', 'Guaviare', 'Huila',\n",
       "        'La Guajira', 'Magdalena', 'Meta', 'Nariño', 'Norte de Santander',\n",
       "        'Putumayo', 'Quindío', 'Risaralda', 'San Andrés y Providencia',\n",
       "        'Santa Marta', 'Santander', 'Sucre', 'Tolima', 'Valle del cauca',\n",
       "        'Vaupés', 'Vichada'], dtype=object),\n",
       " 38)"
      ]
     },
     "execution_count": 24,
     "metadata": {},
     "output_type": "execute_result"
    }
   ],
   "source": [
    "df_reps['DepartamentoSedeDesc'].unique(), len(df_reps['DepartamentoSedeDesc'].unique())"
   ]
  },
  {
   "cell_type": "code",
   "execution_count": 25,
   "metadata": {},
   "outputs": [],
   "source": [
    "df_reps['departamento'] = df_reps['DepartamentoSedeDesc'].replace(distritos_especiales_departamentos)"
   ]
  },
  {
   "cell_type": "code",
   "execution_count": 26,
   "metadata": {},
   "outputs": [
    {
     "data": {
      "text/plain": [
       "(array(['Amazonas', 'Antioquia', 'Arauca', 'Atlántico', 'Bogotá D.C',\n",
       "        'Bolívar', 'Boyacá', 'Caldas', 'Caquetá', 'Casanare', 'Cauca',\n",
       "        'Cesar', 'Chocó', 'Cundinamarca', 'Córdoba', 'Guainía', 'Guaviare',\n",
       "        'Huila', 'La Guajira', 'Magdalena', 'Meta', 'Nariño',\n",
       "        'Norte de Santander', 'Putumayo', 'Quindío', 'Risaralda',\n",
       "        'San Andrés y Providencia', 'Santander', 'Sucre', 'Tolima',\n",
       "        'Valle del cauca', 'Vaupés', 'Vichada'], dtype=object),\n",
       " 33)"
      ]
     },
     "execution_count": 26,
     "metadata": {},
     "output_type": "execute_result"
    }
   ],
   "source": [
    "np.sort(df_reps['departamento'].unique()), len(df_reps['departamento'].unique())"
   ]
  },
  {
   "cell_type": "code",
   "execution_count": 27,
   "metadata": {},
   "outputs": [
    {
     "data": {
      "text/html": [
       "<div>\n",
       "<style scoped>\n",
       "    .dataframe tbody tr th:only-of-type {\n",
       "        vertical-align: middle;\n",
       "    }\n",
       "\n",
       "    .dataframe tbody tr th {\n",
       "        vertical-align: top;\n",
       "    }\n",
       "\n",
       "    .dataframe thead th {\n",
       "        text-align: right;\n",
       "    }\n",
       "</style>\n",
       "<table border=\"1\" class=\"dataframe\">\n",
       "  <thead>\n",
       "    <tr style=\"text-align: right;\">\n",
       "      <th></th>\n",
       "      <th>DepartamentoSedeDesc</th>\n",
       "      <th>MunicipioPrestadorDesc</th>\n",
       "      <th>MunicipioSedeDesc</th>\n",
       "      <th>codigo_prestador</th>\n",
       "      <th>codigo_habilitacion_sede</th>\n",
       "      <th>NaturalezaJuridica</th>\n",
       "      <th>ClasePrestadorDesc</th>\n",
       "      <th>departamento</th>\n",
       "    </tr>\n",
       "  </thead>\n",
       "  <tbody>\n",
       "    <tr>\n",
       "      <th>0</th>\n",
       "      <td>Amazonas</td>\n",
       "      <td>LETICIA</td>\n",
       "      <td>EL ENCANTO</td>\n",
       "      <td>9100100019</td>\n",
       "      <td>912630001911</td>\n",
       "      <td>Pública</td>\n",
       "      <td>Instituciones Prestadoras de Servicios de Salu...</td>\n",
       "      <td>Amazonas</td>\n",
       "    </tr>\n",
       "    <tr>\n",
       "      <th>1</th>\n",
       "      <td>Amazonas</td>\n",
       "      <td>LETICIA</td>\n",
       "      <td>LA CHORRERA</td>\n",
       "      <td>9100100019</td>\n",
       "      <td>914050001914</td>\n",
       "      <td>Pública</td>\n",
       "      <td>Instituciones Prestadoras de Servicios de Salu...</td>\n",
       "      <td>Amazonas</td>\n",
       "    </tr>\n",
       "    <tr>\n",
       "      <th>2</th>\n",
       "      <td>Amazonas</td>\n",
       "      <td>LETICIA</td>\n",
       "      <td>LA PEDRERA</td>\n",
       "      <td>9100100019</td>\n",
       "      <td>914070001915</td>\n",
       "      <td>Pública</td>\n",
       "      <td>Instituciones Prestadoras de Servicios de Salu...</td>\n",
       "      <td>Amazonas</td>\n",
       "    </tr>\n",
       "    <tr>\n",
       "      <th>3</th>\n",
       "      <td>Amazonas</td>\n",
       "      <td>LETICIA</td>\n",
       "      <td>LA VICTORIA</td>\n",
       "      <td>9100100019</td>\n",
       "      <td>914300001916</td>\n",
       "      <td>Pública</td>\n",
       "      <td>Instituciones Prestadoras de Servicios de Salu...</td>\n",
       "      <td>Amazonas</td>\n",
       "    </tr>\n",
       "    <tr>\n",
       "      <th>4</th>\n",
       "      <td>Amazonas</td>\n",
       "      <td>LETICIA</td>\n",
       "      <td>LETICIA</td>\n",
       "      <td>9100100017</td>\n",
       "      <td>910010001701</td>\n",
       "      <td>Privada</td>\n",
       "      <td>Profesional Independiente</td>\n",
       "      <td>Amazonas</td>\n",
       "    </tr>\n",
       "  </tbody>\n",
       "</table>\n",
       "</div>"
      ],
      "text/plain": [
       "  DepartamentoSedeDesc MunicipioPrestadorDesc MunicipioSedeDesc  \\\n",
       "0             Amazonas                LETICIA        EL ENCANTO   \n",
       "1             Amazonas                LETICIA       LA CHORRERA   \n",
       "2             Amazonas                LETICIA        LA PEDRERA   \n",
       "3             Amazonas                LETICIA       LA VICTORIA   \n",
       "4             Amazonas                LETICIA           LETICIA   \n",
       "\n",
       "   codigo_prestador  codigo_habilitacion_sede NaturalezaJuridica  \\\n",
       "0        9100100019              912630001911            Pública   \n",
       "1        9100100019              914050001914            Pública   \n",
       "2        9100100019              914070001915            Pública   \n",
       "3        9100100019              914300001916            Pública   \n",
       "4        9100100017              910010001701            Privada   \n",
       "\n",
       "                                  ClasePrestadorDesc departamento  \n",
       "0  Instituciones Prestadoras de Servicios de Salu...     Amazonas  \n",
       "1  Instituciones Prestadoras de Servicios de Salu...     Amazonas  \n",
       "2  Instituciones Prestadoras de Servicios de Salu...     Amazonas  \n",
       "3  Instituciones Prestadoras de Servicios de Salu...     Amazonas  \n",
       "4                          Profesional Independiente     Amazonas  "
      ]
     },
     "execution_count": 27,
     "metadata": {},
     "output_type": "execute_result"
    }
   ],
   "source": [
    "df_reps.head()"
   ]
  },
  {
   "cell_type": "code",
   "execution_count": 28,
   "metadata": {},
   "outputs": [
    {
     "data": {
      "text/html": [
       "<div>\n",
       "<style scoped>\n",
       "    .dataframe tbody tr th:only-of-type {\n",
       "        vertical-align: middle;\n",
       "    }\n",
       "\n",
       "    .dataframe tbody tr th {\n",
       "        vertical-align: top;\n",
       "    }\n",
       "\n",
       "    .dataframe thead th {\n",
       "        text-align: right;\n",
       "    }\n",
       "</style>\n",
       "<table border=\"1\" class=\"dataframe\">\n",
       "  <thead>\n",
       "    <tr style=\"text-align: right;\">\n",
       "      <th></th>\n",
       "      <th>departamento</th>\n",
       "      <th>Y2022</th>\n",
       "    </tr>\n",
       "  </thead>\n",
       "  <tbody>\n",
       "    <tr>\n",
       "      <th>15</th>\n",
       "      <td>Guainía</td>\n",
       "      <td>17</td>\n",
       "    </tr>\n",
       "    <tr>\n",
       "      <th>32</th>\n",
       "      <td>Vichada</td>\n",
       "      <td>35</td>\n",
       "    </tr>\n",
       "    <tr>\n",
       "      <th>31</th>\n",
       "      <td>Vaupés</td>\n",
       "      <td>62</td>\n",
       "    </tr>\n",
       "    <tr>\n",
       "      <th>0</th>\n",
       "      <td>Amazonas</td>\n",
       "      <td>72</td>\n",
       "    </tr>\n",
       "    <tr>\n",
       "      <th>16</th>\n",
       "      <td>Guaviare</td>\n",
       "      <td>83</td>\n",
       "    </tr>\n",
       "    <tr>\n",
       "      <th>26</th>\n",
       "      <td>San Andrés y Providencia</td>\n",
       "      <td>96</td>\n",
       "    </tr>\n",
       "    <tr>\n",
       "      <th>8</th>\n",
       "      <td>Caquetá</td>\n",
       "      <td>295</td>\n",
       "    </tr>\n",
       "    <tr>\n",
       "      <th>23</th>\n",
       "      <td>Putumayo</td>\n",
       "      <td>299</td>\n",
       "    </tr>\n",
       "    <tr>\n",
       "      <th>2</th>\n",
       "      <td>Arauca</td>\n",
       "      <td>335</td>\n",
       "    </tr>\n",
       "    <tr>\n",
       "      <th>12</th>\n",
       "      <td>Chocó</td>\n",
       "      <td>387</td>\n",
       "    </tr>\n",
       "    <tr>\n",
       "      <th>9</th>\n",
       "      <td>Casanare</td>\n",
       "      <td>555</td>\n",
       "    </tr>\n",
       "    <tr>\n",
       "      <th>18</th>\n",
       "      <td>La Guajira</td>\n",
       "      <td>635</td>\n",
       "    </tr>\n",
       "    <tr>\n",
       "      <th>28</th>\n",
       "      <td>Sucre</td>\n",
       "      <td>992</td>\n",
       "    </tr>\n",
       "    <tr>\n",
       "      <th>24</th>\n",
       "      <td>Quindío</td>\n",
       "      <td>1080</td>\n",
       "    </tr>\n",
       "    <tr>\n",
       "      <th>20</th>\n",
       "      <td>Meta</td>\n",
       "      <td>1155</td>\n",
       "    </tr>\n",
       "    <tr>\n",
       "      <th>10</th>\n",
       "      <td>Cauca</td>\n",
       "      <td>1184</td>\n",
       "    </tr>\n",
       "    <tr>\n",
       "      <th>19</th>\n",
       "      <td>Magdalena</td>\n",
       "      <td>1198</td>\n",
       "    </tr>\n",
       "    <tr>\n",
       "      <th>11</th>\n",
       "      <td>Cesar</td>\n",
       "      <td>1208</td>\n",
       "    </tr>\n",
       "    <tr>\n",
       "      <th>14</th>\n",
       "      <td>Córdoba</td>\n",
       "      <td>1444</td>\n",
       "    </tr>\n",
       "    <tr>\n",
       "      <th>17</th>\n",
       "      <td>Huila</td>\n",
       "      <td>1467</td>\n",
       "    </tr>\n",
       "    <tr>\n",
       "      <th>29</th>\n",
       "      <td>Tolima</td>\n",
       "      <td>1581</td>\n",
       "    </tr>\n",
       "    <tr>\n",
       "      <th>25</th>\n",
       "      <td>Risaralda</td>\n",
       "      <td>1714</td>\n",
       "    </tr>\n",
       "    <tr>\n",
       "      <th>7</th>\n",
       "      <td>Caldas</td>\n",
       "      <td>1733</td>\n",
       "    </tr>\n",
       "    <tr>\n",
       "      <th>6</th>\n",
       "      <td>Boyacá</td>\n",
       "      <td>1938</td>\n",
       "    </tr>\n",
       "    <tr>\n",
       "      <th>22</th>\n",
       "      <td>Norte de Santander</td>\n",
       "      <td>1987</td>\n",
       "    </tr>\n",
       "    <tr>\n",
       "      <th>5</th>\n",
       "      <td>Bolívar</td>\n",
       "      <td>2233</td>\n",
       "    </tr>\n",
       "    <tr>\n",
       "      <th>21</th>\n",
       "      <td>Nariño</td>\n",
       "      <td>2286</td>\n",
       "    </tr>\n",
       "    <tr>\n",
       "      <th>3</th>\n",
       "      <td>Atlántico</td>\n",
       "      <td>3002</td>\n",
       "    </tr>\n",
       "    <tr>\n",
       "      <th>27</th>\n",
       "      <td>Santander</td>\n",
       "      <td>3118</td>\n",
       "    </tr>\n",
       "    <tr>\n",
       "      <th>13</th>\n",
       "      <td>Cundinamarca</td>\n",
       "      <td>3393</td>\n",
       "    </tr>\n",
       "    <tr>\n",
       "      <th>30</th>\n",
       "      <td>Valle del cauca</td>\n",
       "      <td>7438</td>\n",
       "    </tr>\n",
       "    <tr>\n",
       "      <th>1</th>\n",
       "      <td>Antioquia</td>\n",
       "      <td>15836</td>\n",
       "    </tr>\n",
       "    <tr>\n",
       "      <th>4</th>\n",
       "      <td>Bogotá D.C</td>\n",
       "      <td>17537</td>\n",
       "    </tr>\n",
       "  </tbody>\n",
       "</table>\n",
       "</div>"
      ],
      "text/plain": [
       "                departamento  Y2022\n",
       "15                   Guainía     17\n",
       "32                   Vichada     35\n",
       "31                    Vaupés     62\n",
       "0                   Amazonas     72\n",
       "16                  Guaviare     83\n",
       "26  San Andrés y Providencia     96\n",
       "8                    Caquetá    295\n",
       "23                  Putumayo    299\n",
       "2                     Arauca    335\n",
       "12                     Chocó    387\n",
       "9                   Casanare    555\n",
       "18                La Guajira    635\n",
       "28                     Sucre    992\n",
       "24                   Quindío   1080\n",
       "20                      Meta   1155\n",
       "10                     Cauca   1184\n",
       "19                 Magdalena   1198\n",
       "11                     Cesar   1208\n",
       "14                   Córdoba   1444\n",
       "17                     Huila   1467\n",
       "29                    Tolima   1581\n",
       "25                 Risaralda   1714\n",
       "7                     Caldas   1733\n",
       "6                     Boyacá   1938\n",
       "22        Norte de Santander   1987\n",
       "5                    Bolívar   2233\n",
       "21                    Nariño   2286\n",
       "3                  Atlántico   3002\n",
       "27                 Santander   3118\n",
       "13              Cundinamarca   3393\n",
       "30           Valle del cauca   7438\n",
       "1                  Antioquia  15836\n",
       "4                 Bogotá D.C  17537"
      ]
     },
     "execution_count": 28,
     "metadata": {},
     "output_type": "execute_result"
    }
   ],
   "source": [
    "df_num_reps = df_reps.groupby('departamento').agg(Y2022=('codigo_habilitacion_sede', 'count')).reset_index().sort_values('Y2022', ascending=True)\n",
    "df_num_reps"
   ]
  },
  {
   "cell_type": "code",
   "execution_count": 29,
   "metadata": {},
   "outputs": [
    {
     "data": {
      "application/vnd.plotly.v1+json": {
       "config": {
        "plotlyServerURL": "https://plot.ly"
       },
       "data": [
        {
         "alignmentgroup": "True",
         "hovertemplate": "Y2022=%{x}<br>departamento=%{y}<extra></extra>",
         "legendgroup": "",
         "marker": {
          "color": [
           "#5B9279",
           "#5B9279",
           "#5B9279",
           "#5B9279",
           "#5B9279",
           "#5B9279",
           "#5B9279",
           "#5B9279",
           "#5B9279",
           "#5B9279",
           "#5B9279",
           "#5B9279",
           "#5B9279",
           "#5B9279",
           "#5B9279",
           "#5B9279",
           "#5B9279",
           "#5B9279",
           "#5B9279",
           "#5B9279",
           "#5B9279",
           "#5B9279",
           "#5B9279",
           "#5B9279",
           "#5B9279",
           "#5B9279",
           "#5B9279",
           "#5B9279",
           "#5B9279",
           "#5B9279",
           "#5B9279",
           "#5B9279",
           "#5B9279"
          ],
          "pattern": {
           "shape": ""
          }
         },
         "name": "",
         "offsetgroup": "",
         "orientation": "h",
         "showlegend": false,
         "text": [
          17,
          35,
          62,
          72,
          83,
          96,
          295,
          299,
          335,
          387,
          555,
          635,
          992,
          1080,
          1155,
          1184,
          1198,
          1208,
          1444,
          1467,
          1581,
          1714,
          1733,
          1938,
          1987,
          2233,
          2286,
          3002,
          3118,
          3393,
          7438,
          15836,
          17537
         ],
         "textposition": "outside",
         "type": "bar",
         "x": [
          17,
          35,
          62,
          72,
          83,
          96,
          295,
          299,
          335,
          387,
          555,
          635,
          992,
          1080,
          1155,
          1184,
          1198,
          1208,
          1444,
          1467,
          1581,
          1714,
          1733,
          1938,
          1987,
          2233,
          2286,
          3002,
          3118,
          3393,
          7438,
          15836,
          17537
         ],
         "xaxis": "x",
         "y": [
          "Guainía",
          "Vichada",
          "Vaupés",
          "Amazonas",
          "Guaviare",
          "San Andrés y Providencia",
          "Caquetá",
          "Putumayo",
          "Arauca",
          "Chocó",
          "Casanare",
          "La Guajira",
          "Sucre",
          "Quindío",
          "Meta",
          "Cauca",
          "Magdalena",
          "Cesar",
          "Córdoba",
          "Huila",
          "Tolima",
          "Risaralda",
          "Caldas",
          "Boyacá",
          "Norte de Santander",
          "Bolívar",
          "Nariño",
          "Atlántico",
          "Santander",
          "Cundinamarca",
          "Valle del cauca",
          "Antioquia",
          "Bogotá D.C"
         ],
         "yaxis": "y"
        }
       ],
       "layout": {
        "barmode": "relative",
        "height": 700,
        "legend": {
         "tracegroupgap": 0
        },
        "margin": {
         "t": 60
        },
        "template": {
         "data": {
          "bar": [
           {
            "error_x": {
             "color": "#2a3f5f"
            },
            "error_y": {
             "color": "#2a3f5f"
            },
            "marker": {
             "line": {
              "color": "#E5ECF6",
              "width": 0.5
             },
             "pattern": {
              "fillmode": "overlay",
              "size": 10,
              "solidity": 0.2
             }
            },
            "type": "bar"
           }
          ],
          "barpolar": [
           {
            "marker": {
             "line": {
              "color": "#E5ECF6",
              "width": 0.5
             },
             "pattern": {
              "fillmode": "overlay",
              "size": 10,
              "solidity": 0.2
             }
            },
            "type": "barpolar"
           }
          ],
          "carpet": [
           {
            "aaxis": {
             "endlinecolor": "#2a3f5f",
             "gridcolor": "white",
             "linecolor": "white",
             "minorgridcolor": "white",
             "startlinecolor": "#2a3f5f"
            },
            "baxis": {
             "endlinecolor": "#2a3f5f",
             "gridcolor": "white",
             "linecolor": "white",
             "minorgridcolor": "white",
             "startlinecolor": "#2a3f5f"
            },
            "type": "carpet"
           }
          ],
          "choropleth": [
           {
            "colorbar": {
             "outlinewidth": 0,
             "ticks": ""
            },
            "type": "choropleth"
           }
          ],
          "contour": [
           {
            "colorbar": {
             "outlinewidth": 0,
             "ticks": ""
            },
            "colorscale": [
             [
              0,
              "#0d0887"
             ],
             [
              0.1111111111111111,
              "#46039f"
             ],
             [
              0.2222222222222222,
              "#7201a8"
             ],
             [
              0.3333333333333333,
              "#9c179e"
             ],
             [
              0.4444444444444444,
              "#bd3786"
             ],
             [
              0.5555555555555556,
              "#d8576b"
             ],
             [
              0.6666666666666666,
              "#ed7953"
             ],
             [
              0.7777777777777778,
              "#fb9f3a"
             ],
             [
              0.8888888888888888,
              "#fdca26"
             ],
             [
              1,
              "#f0f921"
             ]
            ],
            "type": "contour"
           }
          ],
          "contourcarpet": [
           {
            "colorbar": {
             "outlinewidth": 0,
             "ticks": ""
            },
            "type": "contourcarpet"
           }
          ],
          "heatmap": [
           {
            "colorbar": {
             "outlinewidth": 0,
             "ticks": ""
            },
            "colorscale": [
             [
              0,
              "#0d0887"
             ],
             [
              0.1111111111111111,
              "#46039f"
             ],
             [
              0.2222222222222222,
              "#7201a8"
             ],
             [
              0.3333333333333333,
              "#9c179e"
             ],
             [
              0.4444444444444444,
              "#bd3786"
             ],
             [
              0.5555555555555556,
              "#d8576b"
             ],
             [
              0.6666666666666666,
              "#ed7953"
             ],
             [
              0.7777777777777778,
              "#fb9f3a"
             ],
             [
              0.8888888888888888,
              "#fdca26"
             ],
             [
              1,
              "#f0f921"
             ]
            ],
            "type": "heatmap"
           }
          ],
          "heatmapgl": [
           {
            "colorbar": {
             "outlinewidth": 0,
             "ticks": ""
            },
            "colorscale": [
             [
              0,
              "#0d0887"
             ],
             [
              0.1111111111111111,
              "#46039f"
             ],
             [
              0.2222222222222222,
              "#7201a8"
             ],
             [
              0.3333333333333333,
              "#9c179e"
             ],
             [
              0.4444444444444444,
              "#bd3786"
             ],
             [
              0.5555555555555556,
              "#d8576b"
             ],
             [
              0.6666666666666666,
              "#ed7953"
             ],
             [
              0.7777777777777778,
              "#fb9f3a"
             ],
             [
              0.8888888888888888,
              "#fdca26"
             ],
             [
              1,
              "#f0f921"
             ]
            ],
            "type": "heatmapgl"
           }
          ],
          "histogram": [
           {
            "marker": {
             "pattern": {
              "fillmode": "overlay",
              "size": 10,
              "solidity": 0.2
             }
            },
            "type": "histogram"
           }
          ],
          "histogram2d": [
           {
            "colorbar": {
             "outlinewidth": 0,
             "ticks": ""
            },
            "colorscale": [
             [
              0,
              "#0d0887"
             ],
             [
              0.1111111111111111,
              "#46039f"
             ],
             [
              0.2222222222222222,
              "#7201a8"
             ],
             [
              0.3333333333333333,
              "#9c179e"
             ],
             [
              0.4444444444444444,
              "#bd3786"
             ],
             [
              0.5555555555555556,
              "#d8576b"
             ],
             [
              0.6666666666666666,
              "#ed7953"
             ],
             [
              0.7777777777777778,
              "#fb9f3a"
             ],
             [
              0.8888888888888888,
              "#fdca26"
             ],
             [
              1,
              "#f0f921"
             ]
            ],
            "type": "histogram2d"
           }
          ],
          "histogram2dcontour": [
           {
            "colorbar": {
             "outlinewidth": 0,
             "ticks": ""
            },
            "colorscale": [
             [
              0,
              "#0d0887"
             ],
             [
              0.1111111111111111,
              "#46039f"
             ],
             [
              0.2222222222222222,
              "#7201a8"
             ],
             [
              0.3333333333333333,
              "#9c179e"
             ],
             [
              0.4444444444444444,
              "#bd3786"
             ],
             [
              0.5555555555555556,
              "#d8576b"
             ],
             [
              0.6666666666666666,
              "#ed7953"
             ],
             [
              0.7777777777777778,
              "#fb9f3a"
             ],
             [
              0.8888888888888888,
              "#fdca26"
             ],
             [
              1,
              "#f0f921"
             ]
            ],
            "type": "histogram2dcontour"
           }
          ],
          "mesh3d": [
           {
            "colorbar": {
             "outlinewidth": 0,
             "ticks": ""
            },
            "type": "mesh3d"
           }
          ],
          "parcoords": [
           {
            "line": {
             "colorbar": {
              "outlinewidth": 0,
              "ticks": ""
             }
            },
            "type": "parcoords"
           }
          ],
          "pie": [
           {
            "automargin": true,
            "type": "pie"
           }
          ],
          "scatter": [
           {
            "fillpattern": {
             "fillmode": "overlay",
             "size": 10,
             "solidity": 0.2
            },
            "type": "scatter"
           }
          ],
          "scatter3d": [
           {
            "line": {
             "colorbar": {
              "outlinewidth": 0,
              "ticks": ""
             }
            },
            "marker": {
             "colorbar": {
              "outlinewidth": 0,
              "ticks": ""
             }
            },
            "type": "scatter3d"
           }
          ],
          "scattercarpet": [
           {
            "marker": {
             "colorbar": {
              "outlinewidth": 0,
              "ticks": ""
             }
            },
            "type": "scattercarpet"
           }
          ],
          "scattergeo": [
           {
            "marker": {
             "colorbar": {
              "outlinewidth": 0,
              "ticks": ""
             }
            },
            "type": "scattergeo"
           }
          ],
          "scattergl": [
           {
            "marker": {
             "colorbar": {
              "outlinewidth": 0,
              "ticks": ""
             }
            },
            "type": "scattergl"
           }
          ],
          "scattermapbox": [
           {
            "marker": {
             "colorbar": {
              "outlinewidth": 0,
              "ticks": ""
             }
            },
            "type": "scattermapbox"
           }
          ],
          "scatterpolar": [
           {
            "marker": {
             "colorbar": {
              "outlinewidth": 0,
              "ticks": ""
             }
            },
            "type": "scatterpolar"
           }
          ],
          "scatterpolargl": [
           {
            "marker": {
             "colorbar": {
              "outlinewidth": 0,
              "ticks": ""
             }
            },
            "type": "scatterpolargl"
           }
          ],
          "scatterternary": [
           {
            "marker": {
             "colorbar": {
              "outlinewidth": 0,
              "ticks": ""
             }
            },
            "type": "scatterternary"
           }
          ],
          "surface": [
           {
            "colorbar": {
             "outlinewidth": 0,
             "ticks": ""
            },
            "colorscale": [
             [
              0,
              "#0d0887"
             ],
             [
              0.1111111111111111,
              "#46039f"
             ],
             [
              0.2222222222222222,
              "#7201a8"
             ],
             [
              0.3333333333333333,
              "#9c179e"
             ],
             [
              0.4444444444444444,
              "#bd3786"
             ],
             [
              0.5555555555555556,
              "#d8576b"
             ],
             [
              0.6666666666666666,
              "#ed7953"
             ],
             [
              0.7777777777777778,
              "#fb9f3a"
             ],
             [
              0.8888888888888888,
              "#fdca26"
             ],
             [
              1,
              "#f0f921"
             ]
            ],
            "type": "surface"
           }
          ],
          "table": [
           {
            "cells": {
             "fill": {
              "color": "#EBF0F8"
             },
             "line": {
              "color": "white"
             }
            },
            "header": {
             "fill": {
              "color": "#C8D4E3"
             },
             "line": {
              "color": "white"
             }
            },
            "type": "table"
           }
          ]
         },
         "layout": {
          "annotationdefaults": {
           "arrowcolor": "#2a3f5f",
           "arrowhead": 0,
           "arrowwidth": 1
          },
          "autotypenumbers": "strict",
          "coloraxis": {
           "colorbar": {
            "outlinewidth": 0,
            "ticks": ""
           }
          },
          "colorscale": {
           "diverging": [
            [
             0,
             "#8e0152"
            ],
            [
             0.1,
             "#c51b7d"
            ],
            [
             0.2,
             "#de77ae"
            ],
            [
             0.3,
             "#f1b6da"
            ],
            [
             0.4,
             "#fde0ef"
            ],
            [
             0.5,
             "#f7f7f7"
            ],
            [
             0.6,
             "#e6f5d0"
            ],
            [
             0.7,
             "#b8e186"
            ],
            [
             0.8,
             "#7fbc41"
            ],
            [
             0.9,
             "#4d9221"
            ],
            [
             1,
             "#276419"
            ]
           ],
           "sequential": [
            [
             0,
             "#0d0887"
            ],
            [
             0.1111111111111111,
             "#46039f"
            ],
            [
             0.2222222222222222,
             "#7201a8"
            ],
            [
             0.3333333333333333,
             "#9c179e"
            ],
            [
             0.4444444444444444,
             "#bd3786"
            ],
            [
             0.5555555555555556,
             "#d8576b"
            ],
            [
             0.6666666666666666,
             "#ed7953"
            ],
            [
             0.7777777777777778,
             "#fb9f3a"
            ],
            [
             0.8888888888888888,
             "#fdca26"
            ],
            [
             1,
             "#f0f921"
            ]
           ],
           "sequentialminus": [
            [
             0,
             "#0d0887"
            ],
            [
             0.1111111111111111,
             "#46039f"
            ],
            [
             0.2222222222222222,
             "#7201a8"
            ],
            [
             0.3333333333333333,
             "#9c179e"
            ],
            [
             0.4444444444444444,
             "#bd3786"
            ],
            [
             0.5555555555555556,
             "#d8576b"
            ],
            [
             0.6666666666666666,
             "#ed7953"
            ],
            [
             0.7777777777777778,
             "#fb9f3a"
            ],
            [
             0.8888888888888888,
             "#fdca26"
            ],
            [
             1,
             "#f0f921"
            ]
           ]
          },
          "colorway": [
           "#636efa",
           "#EF553B",
           "#00cc96",
           "#ab63fa",
           "#FFA15A",
           "#19d3f3",
           "#FF6692",
           "#B6E880",
           "#FF97FF",
           "#FECB52"
          ],
          "font": {
           "color": "#2a3f5f"
          },
          "geo": {
           "bgcolor": "white",
           "lakecolor": "white",
           "landcolor": "#E5ECF6",
           "showlakes": true,
           "showland": true,
           "subunitcolor": "white"
          },
          "hoverlabel": {
           "align": "left"
          },
          "hovermode": "closest",
          "mapbox": {
           "style": "light"
          },
          "paper_bgcolor": "white",
          "plot_bgcolor": "#E5ECF6",
          "polar": {
           "angularaxis": {
            "gridcolor": "white",
            "linecolor": "white",
            "ticks": ""
           },
           "bgcolor": "#E5ECF6",
           "radialaxis": {
            "gridcolor": "white",
            "linecolor": "white",
            "ticks": ""
           }
          },
          "scene": {
           "xaxis": {
            "backgroundcolor": "#E5ECF6",
            "gridcolor": "white",
            "gridwidth": 2,
            "linecolor": "white",
            "showbackground": true,
            "ticks": "",
            "zerolinecolor": "white"
           },
           "yaxis": {
            "backgroundcolor": "#E5ECF6",
            "gridcolor": "white",
            "gridwidth": 2,
            "linecolor": "white",
            "showbackground": true,
            "ticks": "",
            "zerolinecolor": "white"
           },
           "zaxis": {
            "backgroundcolor": "#E5ECF6",
            "gridcolor": "white",
            "gridwidth": 2,
            "linecolor": "white",
            "showbackground": true,
            "ticks": "",
            "zerolinecolor": "white"
           }
          },
          "shapedefaults": {
           "line": {
            "color": "#2a3f5f"
           }
          },
          "ternary": {
           "aaxis": {
            "gridcolor": "white",
            "linecolor": "white",
            "ticks": ""
           },
           "baxis": {
            "gridcolor": "white",
            "linecolor": "white",
            "ticks": ""
           },
           "bgcolor": "#E5ECF6",
           "caxis": {
            "gridcolor": "white",
            "linecolor": "white",
            "ticks": ""
           }
          },
          "title": {
           "x": 0.05
          },
          "xaxis": {
           "automargin": true,
           "gridcolor": "white",
           "linecolor": "white",
           "ticks": "",
           "title": {
            "standoff": 15
           },
           "zerolinecolor": "white",
           "zerolinewidth": 2
          },
          "yaxis": {
           "automargin": true,
           "gridcolor": "white",
           "linecolor": "white",
           "ticks": "",
           "title": {
            "standoff": 15
           },
           "zerolinecolor": "white",
           "zerolinewidth": 2
          }
         }
        },
        "title": {
         "text": "Número de IPS por Departamento - 2022"
        },
        "width": 800,
        "xaxis": {
         "anchor": "y",
         "domain": [
          0,
          1
         ],
         "range": [
          0,
          19000
         ],
         "title": {
          "text": "Número de IPS"
         }
        },
        "yaxis": {
         "anchor": "x",
         "domain": [
          0,
          1
         ],
         "title": {
          "text": "Departamento"
         }
        }
       }
      }
     },
     "metadata": {},
     "output_type": "display_data"
    }
   ],
   "source": [
    "fig = px.bar(data_frame=df_num_reps, x='Y2022', y='departamento', orientation='h')\n",
    "\n",
    "fig.update_xaxes(title_text='Número de IPS')\n",
    "fig.update_xaxes(range=[0,19000])\n",
    "fig.update_yaxes(title_text='Departamento')\n",
    "fig.update_layout(title='Número de IPS por Departamento - 2022')\n",
    "\n",
    "color_sequence = ['#5B9279' for i in departamentos]\n",
    "fig.update_traces(marker=dict(color=color_sequence))\n",
    "\n",
    "fig.update_traces(text=df_num_reps['Y2022'], textposition='outside')\n",
    "\n",
    "fig.update_layout(width=800, height=700)\n"
   ]
  },
  {
   "cell_type": "code",
   "execution_count": 30,
   "metadata": {},
   "outputs": [
    {
     "data": {
      "text/html": [
       "<div>\n",
       "<style scoped>\n",
       "    .dataframe tbody tr th:only-of-type {\n",
       "        vertical-align: middle;\n",
       "    }\n",
       "\n",
       "    .dataframe tbody tr th {\n",
       "        vertical-align: top;\n",
       "    }\n",
       "\n",
       "    .dataframe thead th {\n",
       "        text-align: right;\n",
       "    }\n",
       "</style>\n",
       "<table border=\"1\" class=\"dataframe\">\n",
       "  <thead>\n",
       "    <tr style=\"text-align: right;\">\n",
       "      <th></th>\n",
       "      <th>depa_nombre</th>\n",
       "      <th>muni_nombre</th>\n",
       "      <th>codigo_habilitacion</th>\n",
       "      <th>razon_social</th>\n",
       "      <th>nivel</th>\n",
       "      <th>habilitado</th>\n",
       "      <th>naju_codigo</th>\n",
       "      <th>naju_nombre</th>\n",
       "      <th>clase_persona</th>\n",
       "      <th>departamento_x</th>\n",
       "      <th>DepartamentoSedeDesc</th>\n",
       "      <th>MunicipioPrestadorDesc</th>\n",
       "      <th>MunicipioSedeDesc</th>\n",
       "      <th>codigo_prestador</th>\n",
       "      <th>codigo_habilitacion_sede</th>\n",
       "      <th>NaturalezaJuridica</th>\n",
       "      <th>ClasePrestadorDesc</th>\n",
       "      <th>departamento_y</th>\n",
       "    </tr>\n",
       "  </thead>\n",
       "  <tbody>\n",
       "    <tr>\n",
       "      <th>0</th>\n",
       "      <td>Amazonas</td>\n",
       "      <td>LETICIA</td>\n",
       "      <td>9100100019</td>\n",
       "      <td>E.S.E. HOSPITAL SAN RAFAEL DE LETICIA</td>\n",
       "      <td>2.0</td>\n",
       "      <td>SI</td>\n",
       "      <td>4</td>\n",
       "      <td>Pública</td>\n",
       "      <td>JURIDICO</td>\n",
       "      <td>Amazonas</td>\n",
       "      <td>Amazonas</td>\n",
       "      <td>LETICIA</td>\n",
       "      <td>EL ENCANTO</td>\n",
       "      <td>9100100019</td>\n",
       "      <td>912630001911</td>\n",
       "      <td>Pública</td>\n",
       "      <td>Instituciones Prestadoras de Servicios de Salu...</td>\n",
       "      <td>Amazonas</td>\n",
       "    </tr>\n",
       "    <tr>\n",
       "      <th>1</th>\n",
       "      <td>Amazonas</td>\n",
       "      <td>LETICIA</td>\n",
       "      <td>9100100019</td>\n",
       "      <td>E.S.E. HOSPITAL SAN RAFAEL DE LETICIA</td>\n",
       "      <td>2.0</td>\n",
       "      <td>SI</td>\n",
       "      <td>4</td>\n",
       "      <td>Pública</td>\n",
       "      <td>JURIDICO</td>\n",
       "      <td>Amazonas</td>\n",
       "      <td>Amazonas</td>\n",
       "      <td>LETICIA</td>\n",
       "      <td>LA CHORRERA</td>\n",
       "      <td>9100100019</td>\n",
       "      <td>914050001914</td>\n",
       "      <td>Pública</td>\n",
       "      <td>Instituciones Prestadoras de Servicios de Salu...</td>\n",
       "      <td>Amazonas</td>\n",
       "    </tr>\n",
       "    <tr>\n",
       "      <th>2</th>\n",
       "      <td>Amazonas</td>\n",
       "      <td>LETICIA</td>\n",
       "      <td>9100100019</td>\n",
       "      <td>E.S.E. HOSPITAL SAN RAFAEL DE LETICIA</td>\n",
       "      <td>2.0</td>\n",
       "      <td>SI</td>\n",
       "      <td>4</td>\n",
       "      <td>Pública</td>\n",
       "      <td>JURIDICO</td>\n",
       "      <td>Amazonas</td>\n",
       "      <td>Amazonas</td>\n",
       "      <td>LETICIA</td>\n",
       "      <td>LA PEDRERA</td>\n",
       "      <td>9100100019</td>\n",
       "      <td>914070001915</td>\n",
       "      <td>Pública</td>\n",
       "      <td>Instituciones Prestadoras de Servicios de Salu...</td>\n",
       "      <td>Amazonas</td>\n",
       "    </tr>\n",
       "    <tr>\n",
       "      <th>3</th>\n",
       "      <td>Amazonas</td>\n",
       "      <td>LETICIA</td>\n",
       "      <td>9100100019</td>\n",
       "      <td>E.S.E. HOSPITAL SAN RAFAEL DE LETICIA</td>\n",
       "      <td>2.0</td>\n",
       "      <td>SI</td>\n",
       "      <td>4</td>\n",
       "      <td>Pública</td>\n",
       "      <td>JURIDICO</td>\n",
       "      <td>Amazonas</td>\n",
       "      <td>Amazonas</td>\n",
       "      <td>LETICIA</td>\n",
       "      <td>LA VICTORIA</td>\n",
       "      <td>9100100019</td>\n",
       "      <td>914300001916</td>\n",
       "      <td>Pública</td>\n",
       "      <td>Instituciones Prestadoras de Servicios de Salu...</td>\n",
       "      <td>Amazonas</td>\n",
       "    </tr>\n",
       "    <tr>\n",
       "      <th>4</th>\n",
       "      <td>Amazonas</td>\n",
       "      <td>LETICIA</td>\n",
       "      <td>9100100019</td>\n",
       "      <td>E.S.E. HOSPITAL SAN RAFAEL DE LETICIA</td>\n",
       "      <td>2.0</td>\n",
       "      <td>SI</td>\n",
       "      <td>4</td>\n",
       "      <td>Pública</td>\n",
       "      <td>JURIDICO</td>\n",
       "      <td>Amazonas</td>\n",
       "      <td>Amazonas</td>\n",
       "      <td>LETICIA</td>\n",
       "      <td>LETICIA</td>\n",
       "      <td>9100100019</td>\n",
       "      <td>910010001901</td>\n",
       "      <td>Pública</td>\n",
       "      <td>Instituciones Prestadoras de Servicios de Salu...</td>\n",
       "      <td>Amazonas</td>\n",
       "    </tr>\n",
       "    <tr>\n",
       "      <th>...</th>\n",
       "      <td>...</td>\n",
       "      <td>...</td>\n",
       "      <td>...</td>\n",
       "      <td>...</td>\n",
       "      <td>...</td>\n",
       "      <td>...</td>\n",
       "      <td>...</td>\n",
       "      <td>...</td>\n",
       "      <td>...</td>\n",
       "      <td>...</td>\n",
       "      <td>...</td>\n",
       "      <td>...</td>\n",
       "      <td>...</td>\n",
       "      <td>...</td>\n",
       "      <td>...</td>\n",
       "      <td>...</td>\n",
       "      <td>...</td>\n",
       "      <td>...</td>\n",
       "    </tr>\n",
       "    <tr>\n",
       "      <th>18644</th>\n",
       "      <td>Vichada</td>\n",
       "      <td>PUERTO CARREÑO</td>\n",
       "      <td>9900100006</td>\n",
       "      <td>E.S.E. HOSPITAL DEPARTAMENTAL SAN JUAN DE DIOS</td>\n",
       "      <td>2.0</td>\n",
       "      <td>SI</td>\n",
       "      <td>4</td>\n",
       "      <td>Pública</td>\n",
       "      <td>JURIDICO</td>\n",
       "      <td>Vichada</td>\n",
       "      <td>Vichada</td>\n",
       "      <td>PUERTO CARREÑO</td>\n",
       "      <td>LA PRIMAVERA</td>\n",
       "      <td>9900100006</td>\n",
       "      <td>995240000608</td>\n",
       "      <td>Pública</td>\n",
       "      <td>Instituciones Prestadoras de Servicios de Salu...</td>\n",
       "      <td>Vichada</td>\n",
       "    </tr>\n",
       "    <tr>\n",
       "      <th>18645</th>\n",
       "      <td>Vichada</td>\n",
       "      <td>PUERTO CARREÑO</td>\n",
       "      <td>9900100006</td>\n",
       "      <td>E.S.E. HOSPITAL DEPARTAMENTAL SAN JUAN DE DIOS</td>\n",
       "      <td>2.0</td>\n",
       "      <td>SI</td>\n",
       "      <td>4</td>\n",
       "      <td>Pública</td>\n",
       "      <td>JURIDICO</td>\n",
       "      <td>Vichada</td>\n",
       "      <td>Vichada</td>\n",
       "      <td>PUERTO CARREÑO</td>\n",
       "      <td>PUERTO CARREÑO</td>\n",
       "      <td>9900100006</td>\n",
       "      <td>990010000601</td>\n",
       "      <td>Pública</td>\n",
       "      <td>Instituciones Prestadoras de Servicios de Salu...</td>\n",
       "      <td>Vichada</td>\n",
       "    </tr>\n",
       "    <tr>\n",
       "      <th>18646</th>\n",
       "      <td>Vichada</td>\n",
       "      <td>PUERTO CARREÑO</td>\n",
       "      <td>9900100006</td>\n",
       "      <td>E.S.E. HOSPITAL DEPARTAMENTAL SAN JUAN DE DIOS</td>\n",
       "      <td>2.0</td>\n",
       "      <td>SI</td>\n",
       "      <td>4</td>\n",
       "      <td>Pública</td>\n",
       "      <td>JURIDICO</td>\n",
       "      <td>Vichada</td>\n",
       "      <td>Vichada</td>\n",
       "      <td>PUERTO CARREÑO</td>\n",
       "      <td>SANTA ROSALÍA</td>\n",
       "      <td>9900100006</td>\n",
       "      <td>996240000609</td>\n",
       "      <td>Pública</td>\n",
       "      <td>Instituciones Prestadoras de Servicios de Salu...</td>\n",
       "      <td>Vichada</td>\n",
       "    </tr>\n",
       "    <tr>\n",
       "      <th>18647</th>\n",
       "      <td>Vichada</td>\n",
       "      <td>PUERTO CARREÑO</td>\n",
       "      <td>9900100117</td>\n",
       "      <td>IPS DIPOSALUD SAS</td>\n",
       "      <td>NaN</td>\n",
       "      <td>SI</td>\n",
       "      <td>1</td>\n",
       "      <td>Privada</td>\n",
       "      <td>JURIDICO</td>\n",
       "      <td>Vichada</td>\n",
       "      <td>Vichada</td>\n",
       "      <td>PUERTO CARREÑO</td>\n",
       "      <td>PUERTO CARREÑO</td>\n",
       "      <td>9900100117</td>\n",
       "      <td>990010011701</td>\n",
       "      <td>Privada</td>\n",
       "      <td>Instituciones Prestadoras de Servicios de Salu...</td>\n",
       "      <td>Vichada</td>\n",
       "    </tr>\n",
       "    <tr>\n",
       "      <th>18648</th>\n",
       "      <td>Vichada</td>\n",
       "      <td>SANTA ROSALÍA</td>\n",
       "      <td>9962400122</td>\n",
       "      <td>IPS INCI SALUD SAS</td>\n",
       "      <td>NaN</td>\n",
       "      <td>SI</td>\n",
       "      <td>1</td>\n",
       "      <td>Privada</td>\n",
       "      <td>JURIDICO</td>\n",
       "      <td>Vichada</td>\n",
       "      <td>Vichada</td>\n",
       "      <td>SANTA ROSALÍA</td>\n",
       "      <td>SANTA ROSALÍA</td>\n",
       "      <td>9962400122</td>\n",
       "      <td>996240012201</td>\n",
       "      <td>Privada</td>\n",
       "      <td>Instituciones Prestadoras de Servicios de Salu...</td>\n",
       "      <td>Vichada</td>\n",
       "    </tr>\n",
       "  </tbody>\n",
       "</table>\n",
       "<p>18649 rows × 18 columns</p>\n",
       "</div>"
      ],
      "text/plain": [
       "      depa_nombre     muni_nombre  codigo_habilitacion  \\\n",
       "0        Amazonas         LETICIA           9100100019   \n",
       "1        Amazonas         LETICIA           9100100019   \n",
       "2        Amazonas         LETICIA           9100100019   \n",
       "3        Amazonas         LETICIA           9100100019   \n",
       "4        Amazonas         LETICIA           9100100019   \n",
       "...           ...             ...                  ...   \n",
       "18644     Vichada  PUERTO CARREÑO           9900100006   \n",
       "18645     Vichada  PUERTO CARREÑO           9900100006   \n",
       "18646     Vichada  PUERTO CARREÑO           9900100006   \n",
       "18647     Vichada  PUERTO CARREÑO           9900100117   \n",
       "18648     Vichada   SANTA ROSALÍA           9962400122   \n",
       "\n",
       "                                         razon_social  nivel habilitado  \\\n",
       "0               E.S.E. HOSPITAL SAN RAFAEL DE LETICIA    2.0         SI   \n",
       "1               E.S.E. HOSPITAL SAN RAFAEL DE LETICIA    2.0         SI   \n",
       "2               E.S.E. HOSPITAL SAN RAFAEL DE LETICIA    2.0         SI   \n",
       "3               E.S.E. HOSPITAL SAN RAFAEL DE LETICIA    2.0         SI   \n",
       "4               E.S.E. HOSPITAL SAN RAFAEL DE LETICIA    2.0         SI   \n",
       "...                                               ...    ...        ...   \n",
       "18644  E.S.E. HOSPITAL DEPARTAMENTAL SAN JUAN DE DIOS    2.0         SI   \n",
       "18645  E.S.E. HOSPITAL DEPARTAMENTAL SAN JUAN DE DIOS    2.0         SI   \n",
       "18646  E.S.E. HOSPITAL DEPARTAMENTAL SAN JUAN DE DIOS    2.0         SI   \n",
       "18647                               IPS DIPOSALUD SAS    NaN         SI   \n",
       "18648                              IPS INCI SALUD SAS    NaN         SI   \n",
       "\n",
       "       naju_codigo naju_nombre clase_persona departamento_x  \\\n",
       "0                4     Pública      JURIDICO       Amazonas   \n",
       "1                4     Pública      JURIDICO       Amazonas   \n",
       "2                4     Pública      JURIDICO       Amazonas   \n",
       "3                4     Pública      JURIDICO       Amazonas   \n",
       "4                4     Pública      JURIDICO       Amazonas   \n",
       "...            ...         ...           ...            ...   \n",
       "18644            4     Pública      JURIDICO        Vichada   \n",
       "18645            4     Pública      JURIDICO        Vichada   \n",
       "18646            4     Pública      JURIDICO        Vichada   \n",
       "18647            1     Privada      JURIDICO        Vichada   \n",
       "18648            1     Privada      JURIDICO        Vichada   \n",
       "\n",
       "      DepartamentoSedeDesc MunicipioPrestadorDesc MunicipioSedeDesc  \\\n",
       "0                 Amazonas                LETICIA        EL ENCANTO   \n",
       "1                 Amazonas                LETICIA       LA CHORRERA   \n",
       "2                 Amazonas                LETICIA        LA PEDRERA   \n",
       "3                 Amazonas                LETICIA       LA VICTORIA   \n",
       "4                 Amazonas                LETICIA           LETICIA   \n",
       "...                    ...                    ...               ...   \n",
       "18644              Vichada         PUERTO CARREÑO      LA PRIMAVERA   \n",
       "18645              Vichada         PUERTO CARREÑO    PUERTO CARREÑO   \n",
       "18646              Vichada         PUERTO CARREÑO     SANTA ROSALÍA   \n",
       "18647              Vichada         PUERTO CARREÑO    PUERTO CARREÑO   \n",
       "18648              Vichada          SANTA ROSALÍA     SANTA ROSALÍA   \n",
       "\n",
       "       codigo_prestador  codigo_habilitacion_sede NaturalezaJuridica  \\\n",
       "0            9100100019              912630001911            Pública   \n",
       "1            9100100019              914050001914            Pública   \n",
       "2            9100100019              914070001915            Pública   \n",
       "3            9100100019              914300001916            Pública   \n",
       "4            9100100019              910010001901            Pública   \n",
       "...                 ...                       ...                ...   \n",
       "18644        9900100006              995240000608            Pública   \n",
       "18645        9900100006              990010000601            Pública   \n",
       "18646        9900100006              996240000609            Pública   \n",
       "18647        9900100117              990010011701            Privada   \n",
       "18648        9962400122              996240012201            Privada   \n",
       "\n",
       "                                      ClasePrestadorDesc departamento_y  \n",
       "0      Instituciones Prestadoras de Servicios de Salu...       Amazonas  \n",
       "1      Instituciones Prestadoras de Servicios de Salu...       Amazonas  \n",
       "2      Instituciones Prestadoras de Servicios de Salu...       Amazonas  \n",
       "3      Instituciones Prestadoras de Servicios de Salu...       Amazonas  \n",
       "4      Instituciones Prestadoras de Servicios de Salu...       Amazonas  \n",
       "...                                                  ...            ...  \n",
       "18644  Instituciones Prestadoras de Servicios de Salu...        Vichada  \n",
       "18645  Instituciones Prestadoras de Servicios de Salu...        Vichada  \n",
       "18646  Instituciones Prestadoras de Servicios de Salu...        Vichada  \n",
       "18647  Instituciones Prestadoras de Servicios de Salu...        Vichada  \n",
       "18648  Instituciones Prestadoras de Servicios de Salu...        Vichada  \n",
       "\n",
       "[18649 rows x 18 columns]"
      ]
     },
     "execution_count": 30,
     "metadata": {},
     "output_type": "execute_result"
    }
   ],
   "source": [
    "pd.merge(df_ips, df_reps, how='inner', left_on='codigo_habilitacion', right_on='codigo_prestador')"
   ]
  },
  {
   "cell_type": "code",
   "execution_count": 31,
   "metadata": {},
   "outputs": [],
   "source": [
    "df_reps = df_reps[df_reps['ClasePrestadorDesc'] == 'Instituciones Prestadoras de Servicios de Salud - IPS']"
   ]
  },
  {
   "cell_type": "code",
   "execution_count": 32,
   "metadata": {},
   "outputs": [
    {
     "name": "stdout",
     "output_type": "stream",
     "text": [
      "<class 'pandas.core.frame.DataFrame'>\n",
      "Index: 19726 entries, 0 to 76393\n",
      "Data columns (total 8 columns):\n",
      " #   Column                    Non-Null Count  Dtype \n",
      "---  ------                    --------------  ----- \n",
      " 0   DepartamentoSedeDesc      19726 non-null  object\n",
      " 1   MunicipioPrestadorDesc    19726 non-null  object\n",
      " 2   MunicipioSedeDesc         19726 non-null  object\n",
      " 3   codigo_prestador          19726 non-null  int64 \n",
      " 4   codigo_habilitacion_sede  19726 non-null  int64 \n",
      " 5   NaturalezaJuridica        19726 non-null  object\n",
      " 6   ClasePrestadorDesc        19726 non-null  object\n",
      " 7   departamento              19726 non-null  object\n",
      "dtypes: int64(2), object(6)\n",
      "memory usage: 1.4+ MB\n"
     ]
    }
   ],
   "source": [
    "df_reps.info()"
   ]
  },
  {
   "cell_type": "code",
   "execution_count": 33,
   "metadata": {},
   "outputs": [
    {
     "data": {
      "text/html": [
       "<div>\n",
       "<style scoped>\n",
       "    .dataframe tbody tr th:only-of-type {\n",
       "        vertical-align: middle;\n",
       "    }\n",
       "\n",
       "    .dataframe tbody tr th {\n",
       "        vertical-align: top;\n",
       "    }\n",
       "\n",
       "    .dataframe thead th {\n",
       "        text-align: right;\n",
       "    }\n",
       "</style>\n",
       "<table border=\"1\" class=\"dataframe\">\n",
       "  <thead>\n",
       "    <tr style=\"text-align: right;\">\n",
       "      <th></th>\n",
       "      <th>DepartamentoSedeDesc</th>\n",
       "      <th>MunicipioPrestadorDesc</th>\n",
       "      <th>MunicipioSedeDesc</th>\n",
       "      <th>codigo_prestador</th>\n",
       "      <th>codigo_habilitacion_sede</th>\n",
       "      <th>NaturalezaJuridica</th>\n",
       "      <th>ClasePrestadorDesc</th>\n",
       "      <th>departamento</th>\n",
       "    </tr>\n",
       "  </thead>\n",
       "  <tbody>\n",
       "    <tr>\n",
       "      <th>0</th>\n",
       "      <td>Amazonas</td>\n",
       "      <td>LETICIA</td>\n",
       "      <td>EL ENCANTO</td>\n",
       "      <td>9100100019</td>\n",
       "      <td>912630001911</td>\n",
       "      <td>Pública</td>\n",
       "      <td>Instituciones Prestadoras de Servicios de Salu...</td>\n",
       "      <td>Amazonas</td>\n",
       "    </tr>\n",
       "    <tr>\n",
       "      <th>1</th>\n",
       "      <td>Amazonas</td>\n",
       "      <td>LETICIA</td>\n",
       "      <td>LA CHORRERA</td>\n",
       "      <td>9100100019</td>\n",
       "      <td>914050001914</td>\n",
       "      <td>Pública</td>\n",
       "      <td>Instituciones Prestadoras de Servicios de Salu...</td>\n",
       "      <td>Amazonas</td>\n",
       "    </tr>\n",
       "    <tr>\n",
       "      <th>2</th>\n",
       "      <td>Amazonas</td>\n",
       "      <td>LETICIA</td>\n",
       "      <td>LA PEDRERA</td>\n",
       "      <td>9100100019</td>\n",
       "      <td>914070001915</td>\n",
       "      <td>Pública</td>\n",
       "      <td>Instituciones Prestadoras de Servicios de Salu...</td>\n",
       "      <td>Amazonas</td>\n",
       "    </tr>\n",
       "    <tr>\n",
       "      <th>3</th>\n",
       "      <td>Amazonas</td>\n",
       "      <td>LETICIA</td>\n",
       "      <td>LA VICTORIA</td>\n",
       "      <td>9100100019</td>\n",
       "      <td>914300001916</td>\n",
       "      <td>Pública</td>\n",
       "      <td>Instituciones Prestadoras de Servicios de Salu...</td>\n",
       "      <td>Amazonas</td>\n",
       "    </tr>\n",
       "    <tr>\n",
       "      <th>5</th>\n",
       "      <td>Amazonas</td>\n",
       "      <td>LETICIA</td>\n",
       "      <td>LETICIA</td>\n",
       "      <td>9100100019</td>\n",
       "      <td>910010001901</td>\n",
       "      <td>Pública</td>\n",
       "      <td>Instituciones Prestadoras de Servicios de Salu...</td>\n",
       "      <td>Amazonas</td>\n",
       "    </tr>\n",
       "  </tbody>\n",
       "</table>\n",
       "</div>"
      ],
      "text/plain": [
       "  DepartamentoSedeDesc MunicipioPrestadorDesc MunicipioSedeDesc  \\\n",
       "0             Amazonas                LETICIA        EL ENCANTO   \n",
       "1             Amazonas                LETICIA       LA CHORRERA   \n",
       "2             Amazonas                LETICIA        LA PEDRERA   \n",
       "3             Amazonas                LETICIA       LA VICTORIA   \n",
       "5             Amazonas                LETICIA           LETICIA   \n",
       "\n",
       "   codigo_prestador  codigo_habilitacion_sede NaturalezaJuridica  \\\n",
       "0        9100100019              912630001911            Pública   \n",
       "1        9100100019              914050001914            Pública   \n",
       "2        9100100019              914070001915            Pública   \n",
       "3        9100100019              914300001916            Pública   \n",
       "5        9100100019              910010001901            Pública   \n",
       "\n",
       "                                  ClasePrestadorDesc departamento  \n",
       "0  Instituciones Prestadoras de Servicios de Salu...     Amazonas  \n",
       "1  Instituciones Prestadoras de Servicios de Salu...     Amazonas  \n",
       "2  Instituciones Prestadoras de Servicios de Salu...     Amazonas  \n",
       "3  Instituciones Prestadoras de Servicios de Salu...     Amazonas  \n",
       "5  Instituciones Prestadoras de Servicios de Salu...     Amazonas  "
      ]
     },
     "execution_count": 33,
     "metadata": {},
     "output_type": "execute_result"
    }
   ],
   "source": [
    "df_reps.head()"
   ]
  },
  {
   "cell_type": "code",
   "execution_count": 34,
   "metadata": {},
   "outputs": [
    {
     "data": {
      "text/plain": [
       "11072"
      ]
     },
     "execution_count": 34,
     "metadata": {},
     "output_type": "execute_result"
    }
   ],
   "source": [
    "len(df_reps['codigo_prestador'].unique())"
   ]
  },
  {
   "cell_type": "code",
   "execution_count": 35,
   "metadata": {},
   "outputs": [
    {
     "data": {
      "text/plain": [
       "19726"
      ]
     },
     "execution_count": 35,
     "metadata": {},
     "output_type": "execute_result"
    }
   ],
   "source": [
    "len(df_reps['codigo_habilitacion_sede'].unique())"
   ]
  },
  {
   "cell_type": "code",
   "execution_count": 36,
   "metadata": {},
   "outputs": [
    {
     "data": {
      "text/plain": [
       "11466"
      ]
     },
     "execution_count": 36,
     "metadata": {},
     "output_type": "execute_result"
    }
   ],
   "source": [
    "len(df_ips['codigo_habilitacion'].unique())"
   ]
  },
  {
   "cell_type": "code",
   "execution_count": 37,
   "metadata": {},
   "outputs": [
    {
     "data": {
      "text/plain": [
       "(10182, 0.8880167451596023)"
      ]
     },
     "execution_count": 37,
     "metadata": {},
     "output_type": "execute_result"
    }
   ],
   "source": [
    "len(pd.merge(df_ips, df_reps, how='inner', left_on='codigo_habilitacion', right_on='codigo_prestador')['codigo_prestador'].unique()), len(pd.merge(df_ips, df_reps, how='inner', left_on='codigo_habilitacion', right_on='codigo_prestador')['codigo_prestador'].unique())/len(df_ips)"
   ]
  },
  {
   "cell_type": "code",
   "execution_count": 38,
   "metadata": {},
   "outputs": [
    {
     "data": {
      "text/html": [
       "<div>\n",
       "<style scoped>\n",
       "    .dataframe tbody tr th:only-of-type {\n",
       "        vertical-align: middle;\n",
       "    }\n",
       "\n",
       "    .dataframe tbody tr th {\n",
       "        vertical-align: top;\n",
       "    }\n",
       "\n",
       "    .dataframe thead th {\n",
       "        text-align: right;\n",
       "    }\n",
       "</style>\n",
       "<table border=\"1\" class=\"dataframe\">\n",
       "  <thead>\n",
       "    <tr style=\"text-align: right;\">\n",
       "      <th></th>\n",
       "      <th>departamento</th>\n",
       "      <th>Y2022</th>\n",
       "      <th>porcentaje</th>\n",
       "    </tr>\n",
       "  </thead>\n",
       "  <tbody>\n",
       "    <tr>\n",
       "      <th>32</th>\n",
       "      <td>Vichada</td>\n",
       "      <td>12</td>\n",
       "      <td>0.06</td>\n",
       "    </tr>\n",
       "    <tr>\n",
       "      <th>15</th>\n",
       "      <td>Guainía</td>\n",
       "      <td>12</td>\n",
       "      <td>0.06</td>\n",
       "    </tr>\n",
       "    <tr>\n",
       "      <th>26</th>\n",
       "      <td>San Andrés y Providencia</td>\n",
       "      <td>25</td>\n",
       "      <td>0.13</td>\n",
       "    </tr>\n",
       "    <tr>\n",
       "      <th>0</th>\n",
       "      <td>Amazonas</td>\n",
       "      <td>25</td>\n",
       "      <td>0.13</td>\n",
       "    </tr>\n",
       "    <tr>\n",
       "      <th>16</th>\n",
       "      <td>Guaviare</td>\n",
       "      <td>34</td>\n",
       "      <td>0.17</td>\n",
       "    </tr>\n",
       "    <tr>\n",
       "      <th>31</th>\n",
       "      <td>Vaupés</td>\n",
       "      <td>55</td>\n",
       "      <td>0.28</td>\n",
       "    </tr>\n",
       "    <tr>\n",
       "      <th>8</th>\n",
       "      <td>Caquetá</td>\n",
       "      <td>109</td>\n",
       "      <td>0.55</td>\n",
       "    </tr>\n",
       "    <tr>\n",
       "      <th>23</th>\n",
       "      <td>Putumayo</td>\n",
       "      <td>124</td>\n",
       "      <td>0.63</td>\n",
       "    </tr>\n",
       "    <tr>\n",
       "      <th>2</th>\n",
       "      <td>Arauca</td>\n",
       "      <td>142</td>\n",
       "      <td>0.72</td>\n",
       "    </tr>\n",
       "    <tr>\n",
       "      <th>9</th>\n",
       "      <td>Casanare</td>\n",
       "      <td>209</td>\n",
       "      <td>1.06</td>\n",
       "    </tr>\n",
       "    <tr>\n",
       "      <th>24</th>\n",
       "      <td>Quindío</td>\n",
       "      <td>236</td>\n",
       "      <td>1.20</td>\n",
       "    </tr>\n",
       "    <tr>\n",
       "      <th>12</th>\n",
       "      <td>Chocó</td>\n",
       "      <td>265</td>\n",
       "      <td>1.34</td>\n",
       "    </tr>\n",
       "    <tr>\n",
       "      <th>7</th>\n",
       "      <td>Caldas</td>\n",
       "      <td>345</td>\n",
       "      <td>1.75</td>\n",
       "    </tr>\n",
       "    <tr>\n",
       "      <th>25</th>\n",
       "      <td>Risaralda</td>\n",
       "      <td>368</td>\n",
       "      <td>1.87</td>\n",
       "    </tr>\n",
       "    <tr>\n",
       "      <th>17</th>\n",
       "      <td>Huila</td>\n",
       "      <td>373</td>\n",
       "      <td>1.89</td>\n",
       "    </tr>\n",
       "    <tr>\n",
       "      <th>18</th>\n",
       "      <td>La Guajira</td>\n",
       "      <td>427</td>\n",
       "      <td>2.16</td>\n",
       "    </tr>\n",
       "    <tr>\n",
       "      <th>10</th>\n",
       "      <td>Cauca</td>\n",
       "      <td>480</td>\n",
       "      <td>2.43</td>\n",
       "    </tr>\n",
       "    <tr>\n",
       "      <th>20</th>\n",
       "      <td>Meta</td>\n",
       "      <td>483</td>\n",
       "      <td>2.45</td>\n",
       "    </tr>\n",
       "    <tr>\n",
       "      <th>28</th>\n",
       "      <td>Sucre</td>\n",
       "      <td>513</td>\n",
       "      <td>2.60</td>\n",
       "    </tr>\n",
       "    <tr>\n",
       "      <th>22</th>\n",
       "      <td>Norte de Santander</td>\n",
       "      <td>518</td>\n",
       "      <td>2.63</td>\n",
       "    </tr>\n",
       "    <tr>\n",
       "      <th>29</th>\n",
       "      <td>Tolima</td>\n",
       "      <td>525</td>\n",
       "      <td>2.66</td>\n",
       "    </tr>\n",
       "    <tr>\n",
       "      <th>6</th>\n",
       "      <td>Boyacá</td>\n",
       "      <td>562</td>\n",
       "      <td>2.85</td>\n",
       "    </tr>\n",
       "    <tr>\n",
       "      <th>11</th>\n",
       "      <td>Cesar</td>\n",
       "      <td>611</td>\n",
       "      <td>3.10</td>\n",
       "    </tr>\n",
       "    <tr>\n",
       "      <th>19</th>\n",
       "      <td>Magdalena</td>\n",
       "      <td>693</td>\n",
       "      <td>3.51</td>\n",
       "    </tr>\n",
       "    <tr>\n",
       "      <th>21</th>\n",
       "      <td>Nariño</td>\n",
       "      <td>800</td>\n",
       "      <td>4.06</td>\n",
       "    </tr>\n",
       "    <tr>\n",
       "      <th>13</th>\n",
       "      <td>Cundinamarca</td>\n",
       "      <td>818</td>\n",
       "      <td>4.15</td>\n",
       "    </tr>\n",
       "    <tr>\n",
       "      <th>14</th>\n",
       "      <td>Córdoba</td>\n",
       "      <td>821</td>\n",
       "      <td>4.16</td>\n",
       "    </tr>\n",
       "    <tr>\n",
       "      <th>5</th>\n",
       "      <td>Bolívar</td>\n",
       "      <td>970</td>\n",
       "      <td>4.92</td>\n",
       "    </tr>\n",
       "    <tr>\n",
       "      <th>27</th>\n",
       "      <td>Santander</td>\n",
       "      <td>1048</td>\n",
       "      <td>5.31</td>\n",
       "    </tr>\n",
       "    <tr>\n",
       "      <th>3</th>\n",
       "      <td>Atlántico</td>\n",
       "      <td>1217</td>\n",
       "      <td>6.17</td>\n",
       "    </tr>\n",
       "    <tr>\n",
       "      <th>30</th>\n",
       "      <td>Valle del cauca</td>\n",
       "      <td>1869</td>\n",
       "      <td>9.47</td>\n",
       "    </tr>\n",
       "    <tr>\n",
       "      <th>1</th>\n",
       "      <td>Antioquia</td>\n",
       "      <td>2145</td>\n",
       "      <td>10.87</td>\n",
       "    </tr>\n",
       "    <tr>\n",
       "      <th>4</th>\n",
       "      <td>Bogotá D.C</td>\n",
       "      <td>2892</td>\n",
       "      <td>14.66</td>\n",
       "    </tr>\n",
       "  </tbody>\n",
       "</table>\n",
       "</div>"
      ],
      "text/plain": [
       "                departamento  Y2022  porcentaje\n",
       "32                   Vichada     12        0.06\n",
       "15                   Guainía     12        0.06\n",
       "26  San Andrés y Providencia     25        0.13\n",
       "0                   Amazonas     25        0.13\n",
       "16                  Guaviare     34        0.17\n",
       "31                    Vaupés     55        0.28\n",
       "8                    Caquetá    109        0.55\n",
       "23                  Putumayo    124        0.63\n",
       "2                     Arauca    142        0.72\n",
       "9                   Casanare    209        1.06\n",
       "24                   Quindío    236        1.20\n",
       "12                     Chocó    265        1.34\n",
       "7                     Caldas    345        1.75\n",
       "25                 Risaralda    368        1.87\n",
       "17                     Huila    373        1.89\n",
       "18                La Guajira    427        2.16\n",
       "10                     Cauca    480        2.43\n",
       "20                      Meta    483        2.45\n",
       "28                     Sucre    513        2.60\n",
       "22        Norte de Santander    518        2.63\n",
       "29                    Tolima    525        2.66\n",
       "6                     Boyacá    562        2.85\n",
       "11                     Cesar    611        3.10\n",
       "19                 Magdalena    693        3.51\n",
       "21                    Nariño    800        4.06\n",
       "13              Cundinamarca    818        4.15\n",
       "14                   Córdoba    821        4.16\n",
       "5                    Bolívar    970        4.92\n",
       "27                 Santander   1048        5.31\n",
       "3                  Atlántico   1217        6.17\n",
       "30           Valle del cauca   1869        9.47\n",
       "1                  Antioquia   2145       10.87\n",
       "4                 Bogotá D.C   2892       14.66"
      ]
     },
     "execution_count": 38,
     "metadata": {},
     "output_type": "execute_result"
    }
   ],
   "source": [
    "df_num_reps = df_reps.groupby('departamento').agg(Y2022=('codigo_habilitacion_sede', 'count')).reset_index().sort_values('Y2022', ascending=True)\n",
    "df_num_reps['porcentaje'] = (df_num_reps['Y2022'] / (df_num_reps['Y2022'].sum()) * 100).round(2)\n",
    "df_num_reps"
   ]
  },
  {
   "cell_type": "code",
   "execution_count": 39,
   "metadata": {},
   "outputs": [
    {
     "data": {
      "application/vnd.plotly.v1+json": {
       "config": {
        "plotlyServerURL": "https://plot.ly"
       },
       "data": [
        {
         "alignmentgroup": "True",
         "hovertemplate": "Y2022=%{x}<br>departamento=%{y}<extra></extra>",
         "legendgroup": "",
         "marker": {
          "color": [
           "#5B9279",
           "#5B9279",
           "#5B9279",
           "#5B9279",
           "#5B9279",
           "#5B9279",
           "#5B9279",
           "#5B9279",
           "#5B9279",
           "#5B9279",
           "#5B9279",
           "#5B9279",
           "#5B9279",
           "#5B9279",
           "#5B9279",
           "#5B9279",
           "#5B9279",
           "#5B9279",
           "#5B9279",
           "#5B9279",
           "#5B9279",
           "#5B9279",
           "#5B9279",
           "#5B9279",
           "#5B9279",
           "#5B9279",
           "#5B9279",
           "#5B9279",
           "#5B9279",
           "#5B9279",
           "#5B9279",
           "#5B9279",
           "#5B9279"
          ],
          "pattern": {
           "shape": ""
          }
         },
         "name": "",
         "offsetgroup": "",
         "orientation": "h",
         "showlegend": false,
         "text": [
          12,
          12,
          25,
          25,
          34,
          55,
          109,
          124,
          142,
          209,
          236,
          265,
          345,
          368,
          373,
          427,
          480,
          483,
          513,
          518,
          525,
          562,
          611,
          693,
          800,
          818,
          821,
          970,
          1048,
          1217,
          1869,
          2145,
          2892
         ],
         "textposition": "outside",
         "type": "bar",
         "x": [
          12,
          12,
          25,
          25,
          34,
          55,
          109,
          124,
          142,
          209,
          236,
          265,
          345,
          368,
          373,
          427,
          480,
          483,
          513,
          518,
          525,
          562,
          611,
          693,
          800,
          818,
          821,
          970,
          1048,
          1217,
          1869,
          2145,
          2892
         ],
         "xaxis": "x",
         "y": [
          "Vichada",
          "Guainía",
          "San Andrés y Providencia",
          "Amazonas",
          "Guaviare",
          "Vaupés",
          "Caquetá",
          "Putumayo",
          "Arauca",
          "Casanare",
          "Quindío",
          "Chocó",
          "Caldas",
          "Risaralda",
          "Huila",
          "La Guajira",
          "Cauca",
          "Meta",
          "Sucre",
          "Norte de Santander",
          "Tolima",
          "Boyacá",
          "Cesar",
          "Magdalena",
          "Nariño",
          "Cundinamarca",
          "Córdoba",
          "Bolívar",
          "Santander",
          "Atlántico",
          "Valle del cauca",
          "Antioquia",
          "Bogotá D.C"
         ],
         "yaxis": "y"
        }
       ],
       "layout": {
        "barmode": "relative",
        "height": 700,
        "legend": {
         "tracegroupgap": 0
        },
        "margin": {
         "t": 60
        },
        "template": {
         "data": {
          "bar": [
           {
            "error_x": {
             "color": "#2a3f5f"
            },
            "error_y": {
             "color": "#2a3f5f"
            },
            "marker": {
             "line": {
              "color": "#E5ECF6",
              "width": 0.5
             },
             "pattern": {
              "fillmode": "overlay",
              "size": 10,
              "solidity": 0.2
             }
            },
            "type": "bar"
           }
          ],
          "barpolar": [
           {
            "marker": {
             "line": {
              "color": "#E5ECF6",
              "width": 0.5
             },
             "pattern": {
              "fillmode": "overlay",
              "size": 10,
              "solidity": 0.2
             }
            },
            "type": "barpolar"
           }
          ],
          "carpet": [
           {
            "aaxis": {
             "endlinecolor": "#2a3f5f",
             "gridcolor": "white",
             "linecolor": "white",
             "minorgridcolor": "white",
             "startlinecolor": "#2a3f5f"
            },
            "baxis": {
             "endlinecolor": "#2a3f5f",
             "gridcolor": "white",
             "linecolor": "white",
             "minorgridcolor": "white",
             "startlinecolor": "#2a3f5f"
            },
            "type": "carpet"
           }
          ],
          "choropleth": [
           {
            "colorbar": {
             "outlinewidth": 0,
             "ticks": ""
            },
            "type": "choropleth"
           }
          ],
          "contour": [
           {
            "colorbar": {
             "outlinewidth": 0,
             "ticks": ""
            },
            "colorscale": [
             [
              0,
              "#0d0887"
             ],
             [
              0.1111111111111111,
              "#46039f"
             ],
             [
              0.2222222222222222,
              "#7201a8"
             ],
             [
              0.3333333333333333,
              "#9c179e"
             ],
             [
              0.4444444444444444,
              "#bd3786"
             ],
             [
              0.5555555555555556,
              "#d8576b"
             ],
             [
              0.6666666666666666,
              "#ed7953"
             ],
             [
              0.7777777777777778,
              "#fb9f3a"
             ],
             [
              0.8888888888888888,
              "#fdca26"
             ],
             [
              1,
              "#f0f921"
             ]
            ],
            "type": "contour"
           }
          ],
          "contourcarpet": [
           {
            "colorbar": {
             "outlinewidth": 0,
             "ticks": ""
            },
            "type": "contourcarpet"
           }
          ],
          "heatmap": [
           {
            "colorbar": {
             "outlinewidth": 0,
             "ticks": ""
            },
            "colorscale": [
             [
              0,
              "#0d0887"
             ],
             [
              0.1111111111111111,
              "#46039f"
             ],
             [
              0.2222222222222222,
              "#7201a8"
             ],
             [
              0.3333333333333333,
              "#9c179e"
             ],
             [
              0.4444444444444444,
              "#bd3786"
             ],
             [
              0.5555555555555556,
              "#d8576b"
             ],
             [
              0.6666666666666666,
              "#ed7953"
             ],
             [
              0.7777777777777778,
              "#fb9f3a"
             ],
             [
              0.8888888888888888,
              "#fdca26"
             ],
             [
              1,
              "#f0f921"
             ]
            ],
            "type": "heatmap"
           }
          ],
          "heatmapgl": [
           {
            "colorbar": {
             "outlinewidth": 0,
             "ticks": ""
            },
            "colorscale": [
             [
              0,
              "#0d0887"
             ],
             [
              0.1111111111111111,
              "#46039f"
             ],
             [
              0.2222222222222222,
              "#7201a8"
             ],
             [
              0.3333333333333333,
              "#9c179e"
             ],
             [
              0.4444444444444444,
              "#bd3786"
             ],
             [
              0.5555555555555556,
              "#d8576b"
             ],
             [
              0.6666666666666666,
              "#ed7953"
             ],
             [
              0.7777777777777778,
              "#fb9f3a"
             ],
             [
              0.8888888888888888,
              "#fdca26"
             ],
             [
              1,
              "#f0f921"
             ]
            ],
            "type": "heatmapgl"
           }
          ],
          "histogram": [
           {
            "marker": {
             "pattern": {
              "fillmode": "overlay",
              "size": 10,
              "solidity": 0.2
             }
            },
            "type": "histogram"
           }
          ],
          "histogram2d": [
           {
            "colorbar": {
             "outlinewidth": 0,
             "ticks": ""
            },
            "colorscale": [
             [
              0,
              "#0d0887"
             ],
             [
              0.1111111111111111,
              "#46039f"
             ],
             [
              0.2222222222222222,
              "#7201a8"
             ],
             [
              0.3333333333333333,
              "#9c179e"
             ],
             [
              0.4444444444444444,
              "#bd3786"
             ],
             [
              0.5555555555555556,
              "#d8576b"
             ],
             [
              0.6666666666666666,
              "#ed7953"
             ],
             [
              0.7777777777777778,
              "#fb9f3a"
             ],
             [
              0.8888888888888888,
              "#fdca26"
             ],
             [
              1,
              "#f0f921"
             ]
            ],
            "type": "histogram2d"
           }
          ],
          "histogram2dcontour": [
           {
            "colorbar": {
             "outlinewidth": 0,
             "ticks": ""
            },
            "colorscale": [
             [
              0,
              "#0d0887"
             ],
             [
              0.1111111111111111,
              "#46039f"
             ],
             [
              0.2222222222222222,
              "#7201a8"
             ],
             [
              0.3333333333333333,
              "#9c179e"
             ],
             [
              0.4444444444444444,
              "#bd3786"
             ],
             [
              0.5555555555555556,
              "#d8576b"
             ],
             [
              0.6666666666666666,
              "#ed7953"
             ],
             [
              0.7777777777777778,
              "#fb9f3a"
             ],
             [
              0.8888888888888888,
              "#fdca26"
             ],
             [
              1,
              "#f0f921"
             ]
            ],
            "type": "histogram2dcontour"
           }
          ],
          "mesh3d": [
           {
            "colorbar": {
             "outlinewidth": 0,
             "ticks": ""
            },
            "type": "mesh3d"
           }
          ],
          "parcoords": [
           {
            "line": {
             "colorbar": {
              "outlinewidth": 0,
              "ticks": ""
             }
            },
            "type": "parcoords"
           }
          ],
          "pie": [
           {
            "automargin": true,
            "type": "pie"
           }
          ],
          "scatter": [
           {
            "fillpattern": {
             "fillmode": "overlay",
             "size": 10,
             "solidity": 0.2
            },
            "type": "scatter"
           }
          ],
          "scatter3d": [
           {
            "line": {
             "colorbar": {
              "outlinewidth": 0,
              "ticks": ""
             }
            },
            "marker": {
             "colorbar": {
              "outlinewidth": 0,
              "ticks": ""
             }
            },
            "type": "scatter3d"
           }
          ],
          "scattercarpet": [
           {
            "marker": {
             "colorbar": {
              "outlinewidth": 0,
              "ticks": ""
             }
            },
            "type": "scattercarpet"
           }
          ],
          "scattergeo": [
           {
            "marker": {
             "colorbar": {
              "outlinewidth": 0,
              "ticks": ""
             }
            },
            "type": "scattergeo"
           }
          ],
          "scattergl": [
           {
            "marker": {
             "colorbar": {
              "outlinewidth": 0,
              "ticks": ""
             }
            },
            "type": "scattergl"
           }
          ],
          "scattermapbox": [
           {
            "marker": {
             "colorbar": {
              "outlinewidth": 0,
              "ticks": ""
             }
            },
            "type": "scattermapbox"
           }
          ],
          "scatterpolar": [
           {
            "marker": {
             "colorbar": {
              "outlinewidth": 0,
              "ticks": ""
             }
            },
            "type": "scatterpolar"
           }
          ],
          "scatterpolargl": [
           {
            "marker": {
             "colorbar": {
              "outlinewidth": 0,
              "ticks": ""
             }
            },
            "type": "scatterpolargl"
           }
          ],
          "scatterternary": [
           {
            "marker": {
             "colorbar": {
              "outlinewidth": 0,
              "ticks": ""
             }
            },
            "type": "scatterternary"
           }
          ],
          "surface": [
           {
            "colorbar": {
             "outlinewidth": 0,
             "ticks": ""
            },
            "colorscale": [
             [
              0,
              "#0d0887"
             ],
             [
              0.1111111111111111,
              "#46039f"
             ],
             [
              0.2222222222222222,
              "#7201a8"
             ],
             [
              0.3333333333333333,
              "#9c179e"
             ],
             [
              0.4444444444444444,
              "#bd3786"
             ],
             [
              0.5555555555555556,
              "#d8576b"
             ],
             [
              0.6666666666666666,
              "#ed7953"
             ],
             [
              0.7777777777777778,
              "#fb9f3a"
             ],
             [
              0.8888888888888888,
              "#fdca26"
             ],
             [
              1,
              "#f0f921"
             ]
            ],
            "type": "surface"
           }
          ],
          "table": [
           {
            "cells": {
             "fill": {
              "color": "#EBF0F8"
             },
             "line": {
              "color": "white"
             }
            },
            "header": {
             "fill": {
              "color": "#C8D4E3"
             },
             "line": {
              "color": "white"
             }
            },
            "type": "table"
           }
          ]
         },
         "layout": {
          "annotationdefaults": {
           "arrowcolor": "#2a3f5f",
           "arrowhead": 0,
           "arrowwidth": 1
          },
          "autotypenumbers": "strict",
          "coloraxis": {
           "colorbar": {
            "outlinewidth": 0,
            "ticks": ""
           }
          },
          "colorscale": {
           "diverging": [
            [
             0,
             "#8e0152"
            ],
            [
             0.1,
             "#c51b7d"
            ],
            [
             0.2,
             "#de77ae"
            ],
            [
             0.3,
             "#f1b6da"
            ],
            [
             0.4,
             "#fde0ef"
            ],
            [
             0.5,
             "#f7f7f7"
            ],
            [
             0.6,
             "#e6f5d0"
            ],
            [
             0.7,
             "#b8e186"
            ],
            [
             0.8,
             "#7fbc41"
            ],
            [
             0.9,
             "#4d9221"
            ],
            [
             1,
             "#276419"
            ]
           ],
           "sequential": [
            [
             0,
             "#0d0887"
            ],
            [
             0.1111111111111111,
             "#46039f"
            ],
            [
             0.2222222222222222,
             "#7201a8"
            ],
            [
             0.3333333333333333,
             "#9c179e"
            ],
            [
             0.4444444444444444,
             "#bd3786"
            ],
            [
             0.5555555555555556,
             "#d8576b"
            ],
            [
             0.6666666666666666,
             "#ed7953"
            ],
            [
             0.7777777777777778,
             "#fb9f3a"
            ],
            [
             0.8888888888888888,
             "#fdca26"
            ],
            [
             1,
             "#f0f921"
            ]
           ],
           "sequentialminus": [
            [
             0,
             "#0d0887"
            ],
            [
             0.1111111111111111,
             "#46039f"
            ],
            [
             0.2222222222222222,
             "#7201a8"
            ],
            [
             0.3333333333333333,
             "#9c179e"
            ],
            [
             0.4444444444444444,
             "#bd3786"
            ],
            [
             0.5555555555555556,
             "#d8576b"
            ],
            [
             0.6666666666666666,
             "#ed7953"
            ],
            [
             0.7777777777777778,
             "#fb9f3a"
            ],
            [
             0.8888888888888888,
             "#fdca26"
            ],
            [
             1,
             "#f0f921"
            ]
           ]
          },
          "colorway": [
           "#636efa",
           "#EF553B",
           "#00cc96",
           "#ab63fa",
           "#FFA15A",
           "#19d3f3",
           "#FF6692",
           "#B6E880",
           "#FF97FF",
           "#FECB52"
          ],
          "font": {
           "color": "#2a3f5f"
          },
          "geo": {
           "bgcolor": "white",
           "lakecolor": "white",
           "landcolor": "#E5ECF6",
           "showlakes": true,
           "showland": true,
           "subunitcolor": "white"
          },
          "hoverlabel": {
           "align": "left"
          },
          "hovermode": "closest",
          "mapbox": {
           "style": "light"
          },
          "paper_bgcolor": "white",
          "plot_bgcolor": "#E5ECF6",
          "polar": {
           "angularaxis": {
            "gridcolor": "white",
            "linecolor": "white",
            "ticks": ""
           },
           "bgcolor": "#E5ECF6",
           "radialaxis": {
            "gridcolor": "white",
            "linecolor": "white",
            "ticks": ""
           }
          },
          "scene": {
           "xaxis": {
            "backgroundcolor": "#E5ECF6",
            "gridcolor": "white",
            "gridwidth": 2,
            "linecolor": "white",
            "showbackground": true,
            "ticks": "",
            "zerolinecolor": "white"
           },
           "yaxis": {
            "backgroundcolor": "#E5ECF6",
            "gridcolor": "white",
            "gridwidth": 2,
            "linecolor": "white",
            "showbackground": true,
            "ticks": "",
            "zerolinecolor": "white"
           },
           "zaxis": {
            "backgroundcolor": "#E5ECF6",
            "gridcolor": "white",
            "gridwidth": 2,
            "linecolor": "white",
            "showbackground": true,
            "ticks": "",
            "zerolinecolor": "white"
           }
          },
          "shapedefaults": {
           "line": {
            "color": "#2a3f5f"
           }
          },
          "ternary": {
           "aaxis": {
            "gridcolor": "white",
            "linecolor": "white",
            "ticks": ""
           },
           "baxis": {
            "gridcolor": "white",
            "linecolor": "white",
            "ticks": ""
           },
           "bgcolor": "#E5ECF6",
           "caxis": {
            "gridcolor": "white",
            "linecolor": "white",
            "ticks": ""
           }
          },
          "title": {
           "x": 0.05
          },
          "xaxis": {
           "automargin": true,
           "gridcolor": "white",
           "linecolor": "white",
           "ticks": "",
           "title": {
            "standoff": 15
           },
           "zerolinecolor": "white",
           "zerolinewidth": 2
          },
          "yaxis": {
           "automargin": true,
           "gridcolor": "white",
           "linecolor": "white",
           "ticks": "",
           "title": {
            "standoff": 15
           },
           "zerolinecolor": "white",
           "zerolinewidth": 2
          }
         }
        },
        "title": {
         "text": "Número de IPS por Departamento - 2022"
        },
        "width": 800,
        "xaxis": {
         "anchor": "y",
         "domain": [
          0,
          1
         ],
         "range": [
          0,
          3100
         ],
         "title": {
          "text": "Número de IPS"
         }
        },
        "yaxis": {
         "anchor": "x",
         "domain": [
          0,
          1
         ],
         "title": {
          "text": "Departamento"
         }
        }
       }
      }
     },
     "metadata": {},
     "output_type": "display_data"
    }
   ],
   "source": [
    "fig = px.bar(data_frame=df_num_reps, x='Y2022', y='departamento', orientation='h')\n",
    "\n",
    "fig.update_xaxes(title_text='Número de IPS')\n",
    "fig.update_xaxes(range=[0,3100])\n",
    "fig.update_yaxes(title_text='Departamento')\n",
    "fig.update_layout(title='Número de IPS por Departamento - 2022')\n",
    "\n",
    "color_sequence = ['#5B9279' for i in departamentos]\n",
    "fig.update_traces(marker=dict(color=color_sequence))\n",
    "\n",
    "fig.update_traces(text=df_num_reps['Y2022'], textposition='outside')\n",
    "\n",
    "fig.update_layout(width=800, height=700)\n"
   ]
  },
  {
   "cell_type": "code",
   "execution_count": 40,
   "metadata": {},
   "outputs": [
    {
     "data": {
      "application/vnd.plotly.v1+json": {
       "config": {
        "plotlyServerURL": "https://plot.ly"
       },
       "data": [
        {
         "alignmentgroup": "True",
         "hovertemplate": "porcentaje=%{x}<br>departamento=%{y}<extra></extra>",
         "legendgroup": "",
         "marker": {
          "color": [
           "#5B9279",
           "#5B9279",
           "#5B9279",
           "#5B9279",
           "#5B9279",
           "#5B9279",
           "#5B9279",
           "#5B9279",
           "#5B9279",
           "#5B9279",
           "#5B9279",
           "#5B9279",
           "#5B9279",
           "#5B9279",
           "#5B9279",
           "#5B9279",
           "#5B9279",
           "#5B9279",
           "#5B9279",
           "#5B9279",
           "#5B9279",
           "#5B9279",
           "#5B9279",
           "#5B9279",
           "#5B9279",
           "#5B9279",
           "#5B9279",
           "#5B9279",
           "#5B9279",
           "#5B9279",
           "#5B9279",
           "#5B9279",
           "#5B9279"
          ],
          "pattern": {
           "shape": ""
          }
         },
         "name": "",
         "offsetgroup": "",
         "orientation": "h",
         "showlegend": false,
         "text": [
          0.06,
          0.06,
          0.13,
          0.13,
          0.17,
          0.28,
          0.55,
          0.63,
          0.72,
          1.06,
          1.2,
          1.34,
          1.75,
          1.87,
          1.89,
          2.16,
          2.43,
          2.45,
          2.6,
          2.63,
          2.66,
          2.85,
          3.1,
          3.51,
          4.06,
          4.15,
          4.16,
          4.92,
          5.31,
          6.17,
          9.47,
          10.87,
          14.66
         ],
         "textposition": "outside",
         "type": "bar",
         "x": [
          0.06,
          0.06,
          0.13,
          0.13,
          0.17,
          0.28,
          0.55,
          0.63,
          0.72,
          1.06,
          1.2,
          1.34,
          1.75,
          1.87,
          1.89,
          2.16,
          2.43,
          2.45,
          2.6,
          2.63,
          2.66,
          2.85,
          3.1,
          3.51,
          4.06,
          4.15,
          4.16,
          4.92,
          5.31,
          6.17,
          9.47,
          10.87,
          14.66
         ],
         "xaxis": "x",
         "y": [
          "Vichada",
          "Guainía",
          "San Andrés y Providencia",
          "Amazonas",
          "Guaviare",
          "Vaupés",
          "Caquetá",
          "Putumayo",
          "Arauca",
          "Casanare",
          "Quindío",
          "Chocó",
          "Caldas",
          "Risaralda",
          "Huila",
          "La Guajira",
          "Cauca",
          "Meta",
          "Sucre",
          "Norte de Santander",
          "Tolima",
          "Boyacá",
          "Cesar",
          "Magdalena",
          "Nariño",
          "Cundinamarca",
          "Córdoba",
          "Bolívar",
          "Santander",
          "Atlántico",
          "Valle del cauca",
          "Antioquia",
          "Bogotá D.C"
         ],
         "yaxis": "y"
        }
       ],
       "layout": {
        "barmode": "relative",
        "height": 700,
        "legend": {
         "tracegroupgap": 0
        },
        "margin": {
         "t": 60
        },
        "template": {
         "data": {
          "bar": [
           {
            "error_x": {
             "color": "#2a3f5f"
            },
            "error_y": {
             "color": "#2a3f5f"
            },
            "marker": {
             "line": {
              "color": "#E5ECF6",
              "width": 0.5
             },
             "pattern": {
              "fillmode": "overlay",
              "size": 10,
              "solidity": 0.2
             }
            },
            "type": "bar"
           }
          ],
          "barpolar": [
           {
            "marker": {
             "line": {
              "color": "#E5ECF6",
              "width": 0.5
             },
             "pattern": {
              "fillmode": "overlay",
              "size": 10,
              "solidity": 0.2
             }
            },
            "type": "barpolar"
           }
          ],
          "carpet": [
           {
            "aaxis": {
             "endlinecolor": "#2a3f5f",
             "gridcolor": "white",
             "linecolor": "white",
             "minorgridcolor": "white",
             "startlinecolor": "#2a3f5f"
            },
            "baxis": {
             "endlinecolor": "#2a3f5f",
             "gridcolor": "white",
             "linecolor": "white",
             "minorgridcolor": "white",
             "startlinecolor": "#2a3f5f"
            },
            "type": "carpet"
           }
          ],
          "choropleth": [
           {
            "colorbar": {
             "outlinewidth": 0,
             "ticks": ""
            },
            "type": "choropleth"
           }
          ],
          "contour": [
           {
            "colorbar": {
             "outlinewidth": 0,
             "ticks": ""
            },
            "colorscale": [
             [
              0,
              "#0d0887"
             ],
             [
              0.1111111111111111,
              "#46039f"
             ],
             [
              0.2222222222222222,
              "#7201a8"
             ],
             [
              0.3333333333333333,
              "#9c179e"
             ],
             [
              0.4444444444444444,
              "#bd3786"
             ],
             [
              0.5555555555555556,
              "#d8576b"
             ],
             [
              0.6666666666666666,
              "#ed7953"
             ],
             [
              0.7777777777777778,
              "#fb9f3a"
             ],
             [
              0.8888888888888888,
              "#fdca26"
             ],
             [
              1,
              "#f0f921"
             ]
            ],
            "type": "contour"
           }
          ],
          "contourcarpet": [
           {
            "colorbar": {
             "outlinewidth": 0,
             "ticks": ""
            },
            "type": "contourcarpet"
           }
          ],
          "heatmap": [
           {
            "colorbar": {
             "outlinewidth": 0,
             "ticks": ""
            },
            "colorscale": [
             [
              0,
              "#0d0887"
             ],
             [
              0.1111111111111111,
              "#46039f"
             ],
             [
              0.2222222222222222,
              "#7201a8"
             ],
             [
              0.3333333333333333,
              "#9c179e"
             ],
             [
              0.4444444444444444,
              "#bd3786"
             ],
             [
              0.5555555555555556,
              "#d8576b"
             ],
             [
              0.6666666666666666,
              "#ed7953"
             ],
             [
              0.7777777777777778,
              "#fb9f3a"
             ],
             [
              0.8888888888888888,
              "#fdca26"
             ],
             [
              1,
              "#f0f921"
             ]
            ],
            "type": "heatmap"
           }
          ],
          "heatmapgl": [
           {
            "colorbar": {
             "outlinewidth": 0,
             "ticks": ""
            },
            "colorscale": [
             [
              0,
              "#0d0887"
             ],
             [
              0.1111111111111111,
              "#46039f"
             ],
             [
              0.2222222222222222,
              "#7201a8"
             ],
             [
              0.3333333333333333,
              "#9c179e"
             ],
             [
              0.4444444444444444,
              "#bd3786"
             ],
             [
              0.5555555555555556,
              "#d8576b"
             ],
             [
              0.6666666666666666,
              "#ed7953"
             ],
             [
              0.7777777777777778,
              "#fb9f3a"
             ],
             [
              0.8888888888888888,
              "#fdca26"
             ],
             [
              1,
              "#f0f921"
             ]
            ],
            "type": "heatmapgl"
           }
          ],
          "histogram": [
           {
            "marker": {
             "pattern": {
              "fillmode": "overlay",
              "size": 10,
              "solidity": 0.2
             }
            },
            "type": "histogram"
           }
          ],
          "histogram2d": [
           {
            "colorbar": {
             "outlinewidth": 0,
             "ticks": ""
            },
            "colorscale": [
             [
              0,
              "#0d0887"
             ],
             [
              0.1111111111111111,
              "#46039f"
             ],
             [
              0.2222222222222222,
              "#7201a8"
             ],
             [
              0.3333333333333333,
              "#9c179e"
             ],
             [
              0.4444444444444444,
              "#bd3786"
             ],
             [
              0.5555555555555556,
              "#d8576b"
             ],
             [
              0.6666666666666666,
              "#ed7953"
             ],
             [
              0.7777777777777778,
              "#fb9f3a"
             ],
             [
              0.8888888888888888,
              "#fdca26"
             ],
             [
              1,
              "#f0f921"
             ]
            ],
            "type": "histogram2d"
           }
          ],
          "histogram2dcontour": [
           {
            "colorbar": {
             "outlinewidth": 0,
             "ticks": ""
            },
            "colorscale": [
             [
              0,
              "#0d0887"
             ],
             [
              0.1111111111111111,
              "#46039f"
             ],
             [
              0.2222222222222222,
              "#7201a8"
             ],
             [
              0.3333333333333333,
              "#9c179e"
             ],
             [
              0.4444444444444444,
              "#bd3786"
             ],
             [
              0.5555555555555556,
              "#d8576b"
             ],
             [
              0.6666666666666666,
              "#ed7953"
             ],
             [
              0.7777777777777778,
              "#fb9f3a"
             ],
             [
              0.8888888888888888,
              "#fdca26"
             ],
             [
              1,
              "#f0f921"
             ]
            ],
            "type": "histogram2dcontour"
           }
          ],
          "mesh3d": [
           {
            "colorbar": {
             "outlinewidth": 0,
             "ticks": ""
            },
            "type": "mesh3d"
           }
          ],
          "parcoords": [
           {
            "line": {
             "colorbar": {
              "outlinewidth": 0,
              "ticks": ""
             }
            },
            "type": "parcoords"
           }
          ],
          "pie": [
           {
            "automargin": true,
            "type": "pie"
           }
          ],
          "scatter": [
           {
            "fillpattern": {
             "fillmode": "overlay",
             "size": 10,
             "solidity": 0.2
            },
            "type": "scatter"
           }
          ],
          "scatter3d": [
           {
            "line": {
             "colorbar": {
              "outlinewidth": 0,
              "ticks": ""
             }
            },
            "marker": {
             "colorbar": {
              "outlinewidth": 0,
              "ticks": ""
             }
            },
            "type": "scatter3d"
           }
          ],
          "scattercarpet": [
           {
            "marker": {
             "colorbar": {
              "outlinewidth": 0,
              "ticks": ""
             }
            },
            "type": "scattercarpet"
           }
          ],
          "scattergeo": [
           {
            "marker": {
             "colorbar": {
              "outlinewidth": 0,
              "ticks": ""
             }
            },
            "type": "scattergeo"
           }
          ],
          "scattergl": [
           {
            "marker": {
             "colorbar": {
              "outlinewidth": 0,
              "ticks": ""
             }
            },
            "type": "scattergl"
           }
          ],
          "scattermapbox": [
           {
            "marker": {
             "colorbar": {
              "outlinewidth": 0,
              "ticks": ""
             }
            },
            "type": "scattermapbox"
           }
          ],
          "scatterpolar": [
           {
            "marker": {
             "colorbar": {
              "outlinewidth": 0,
              "ticks": ""
             }
            },
            "type": "scatterpolar"
           }
          ],
          "scatterpolargl": [
           {
            "marker": {
             "colorbar": {
              "outlinewidth": 0,
              "ticks": ""
             }
            },
            "type": "scatterpolargl"
           }
          ],
          "scatterternary": [
           {
            "marker": {
             "colorbar": {
              "outlinewidth": 0,
              "ticks": ""
             }
            },
            "type": "scatterternary"
           }
          ],
          "surface": [
           {
            "colorbar": {
             "outlinewidth": 0,
             "ticks": ""
            },
            "colorscale": [
             [
              0,
              "#0d0887"
             ],
             [
              0.1111111111111111,
              "#46039f"
             ],
             [
              0.2222222222222222,
              "#7201a8"
             ],
             [
              0.3333333333333333,
              "#9c179e"
             ],
             [
              0.4444444444444444,
              "#bd3786"
             ],
             [
              0.5555555555555556,
              "#d8576b"
             ],
             [
              0.6666666666666666,
              "#ed7953"
             ],
             [
              0.7777777777777778,
              "#fb9f3a"
             ],
             [
              0.8888888888888888,
              "#fdca26"
             ],
             [
              1,
              "#f0f921"
             ]
            ],
            "type": "surface"
           }
          ],
          "table": [
           {
            "cells": {
             "fill": {
              "color": "#EBF0F8"
             },
             "line": {
              "color": "white"
             }
            },
            "header": {
             "fill": {
              "color": "#C8D4E3"
             },
             "line": {
              "color": "white"
             }
            },
            "type": "table"
           }
          ]
         },
         "layout": {
          "annotationdefaults": {
           "arrowcolor": "#2a3f5f",
           "arrowhead": 0,
           "arrowwidth": 1
          },
          "autotypenumbers": "strict",
          "coloraxis": {
           "colorbar": {
            "outlinewidth": 0,
            "ticks": ""
           }
          },
          "colorscale": {
           "diverging": [
            [
             0,
             "#8e0152"
            ],
            [
             0.1,
             "#c51b7d"
            ],
            [
             0.2,
             "#de77ae"
            ],
            [
             0.3,
             "#f1b6da"
            ],
            [
             0.4,
             "#fde0ef"
            ],
            [
             0.5,
             "#f7f7f7"
            ],
            [
             0.6,
             "#e6f5d0"
            ],
            [
             0.7,
             "#b8e186"
            ],
            [
             0.8,
             "#7fbc41"
            ],
            [
             0.9,
             "#4d9221"
            ],
            [
             1,
             "#276419"
            ]
           ],
           "sequential": [
            [
             0,
             "#0d0887"
            ],
            [
             0.1111111111111111,
             "#46039f"
            ],
            [
             0.2222222222222222,
             "#7201a8"
            ],
            [
             0.3333333333333333,
             "#9c179e"
            ],
            [
             0.4444444444444444,
             "#bd3786"
            ],
            [
             0.5555555555555556,
             "#d8576b"
            ],
            [
             0.6666666666666666,
             "#ed7953"
            ],
            [
             0.7777777777777778,
             "#fb9f3a"
            ],
            [
             0.8888888888888888,
             "#fdca26"
            ],
            [
             1,
             "#f0f921"
            ]
           ],
           "sequentialminus": [
            [
             0,
             "#0d0887"
            ],
            [
             0.1111111111111111,
             "#46039f"
            ],
            [
             0.2222222222222222,
             "#7201a8"
            ],
            [
             0.3333333333333333,
             "#9c179e"
            ],
            [
             0.4444444444444444,
             "#bd3786"
            ],
            [
             0.5555555555555556,
             "#d8576b"
            ],
            [
             0.6666666666666666,
             "#ed7953"
            ],
            [
             0.7777777777777778,
             "#fb9f3a"
            ],
            [
             0.8888888888888888,
             "#fdca26"
            ],
            [
             1,
             "#f0f921"
            ]
           ]
          },
          "colorway": [
           "#636efa",
           "#EF553B",
           "#00cc96",
           "#ab63fa",
           "#FFA15A",
           "#19d3f3",
           "#FF6692",
           "#B6E880",
           "#FF97FF",
           "#FECB52"
          ],
          "font": {
           "color": "#2a3f5f"
          },
          "geo": {
           "bgcolor": "white",
           "lakecolor": "white",
           "landcolor": "#E5ECF6",
           "showlakes": true,
           "showland": true,
           "subunitcolor": "white"
          },
          "hoverlabel": {
           "align": "left"
          },
          "hovermode": "closest",
          "mapbox": {
           "style": "light"
          },
          "paper_bgcolor": "white",
          "plot_bgcolor": "#E5ECF6",
          "polar": {
           "angularaxis": {
            "gridcolor": "white",
            "linecolor": "white",
            "ticks": ""
           },
           "bgcolor": "#E5ECF6",
           "radialaxis": {
            "gridcolor": "white",
            "linecolor": "white",
            "ticks": ""
           }
          },
          "scene": {
           "xaxis": {
            "backgroundcolor": "#E5ECF6",
            "gridcolor": "white",
            "gridwidth": 2,
            "linecolor": "white",
            "showbackground": true,
            "ticks": "",
            "zerolinecolor": "white"
           },
           "yaxis": {
            "backgroundcolor": "#E5ECF6",
            "gridcolor": "white",
            "gridwidth": 2,
            "linecolor": "white",
            "showbackground": true,
            "ticks": "",
            "zerolinecolor": "white"
           },
           "zaxis": {
            "backgroundcolor": "#E5ECF6",
            "gridcolor": "white",
            "gridwidth": 2,
            "linecolor": "white",
            "showbackground": true,
            "ticks": "",
            "zerolinecolor": "white"
           }
          },
          "shapedefaults": {
           "line": {
            "color": "#2a3f5f"
           }
          },
          "ternary": {
           "aaxis": {
            "gridcolor": "white",
            "linecolor": "white",
            "ticks": ""
           },
           "baxis": {
            "gridcolor": "white",
            "linecolor": "white",
            "ticks": ""
           },
           "bgcolor": "#E5ECF6",
           "caxis": {
            "gridcolor": "white",
            "linecolor": "white",
            "ticks": ""
           }
          },
          "title": {
           "x": 0.05
          },
          "xaxis": {
           "automargin": true,
           "gridcolor": "white",
           "linecolor": "white",
           "ticks": "",
           "title": {
            "standoff": 15
           },
           "zerolinecolor": "white",
           "zerolinewidth": 2
          },
          "yaxis": {
           "automargin": true,
           "gridcolor": "white",
           "linecolor": "white",
           "ticks": "",
           "title": {
            "standoff": 15
           },
           "zerolinecolor": "white",
           "zerolinewidth": 2
          }
         }
        },
        "title": {
         "text": "Porcentaje IPS por Departamento sobre Total - 2022"
        },
        "width": 800,
        "xaxis": {
         "anchor": "y",
         "domain": [
          0,
          1
         ],
         "range": [
          0,
          16
         ],
         "title": {
          "text": "Porcentaje IPS (%)"
         }
        },
        "yaxis": {
         "anchor": "x",
         "domain": [
          0,
          1
         ],
         "title": {
          "text": "Departamento"
         }
        }
       }
      }
     },
     "metadata": {},
     "output_type": "display_data"
    }
   ],
   "source": [
    "fig = px.bar(data_frame=df_num_reps, x='porcentaje', y='departamento', orientation='h')\n",
    "\n",
    "fig.update_xaxes(title_text='Porcentaje IPS (%)')\n",
    "fig.update_xaxes(range=[0, 16])\n",
    "fig.update_yaxes(title_text='Departamento')\n",
    "fig.update_layout(title='Porcentaje IPS por Departamento sobre Total - 2022')\n",
    "\n",
    "color_sequence = ['#5B9279' for i in departamentos]\n",
    "fig.update_traces(marker=dict(color=color_sequence))\n",
    "\n",
    "fig.update_traces(text=df_num_reps['porcentaje'], textposition='outside')\n",
    "\n",
    "fig.update_layout(width=800, height=700)\n"
   ]
  },
  {
   "cell_type": "code",
   "execution_count": 41,
   "metadata": {},
   "outputs": [],
   "source": [
    "df_radiografia = pd.read_csv(\"../../Data/Datos_Radiografia_Servicios_Salud.csv.csv\")"
   ]
  },
  {
   "cell_type": "code",
   "execution_count": 42,
   "metadata": {},
   "outputs": [
    {
     "name": "stdout",
     "output_type": "stream",
     "text": [
      "<class 'pandas.core.frame.DataFrame'>\n",
      "RangeIndex: 33 entries, 0 to 32\n",
      "Data columns (total 2 columns):\n",
      " #   Column        Non-Null Count  Dtype \n",
      "---  ------        --------------  ----- \n",
      " 0   Departamento  33 non-null     object\n",
      " 1   Numero_IPS    33 non-null     int64 \n",
      "dtypes: int64(1), object(1)\n",
      "memory usage: 656.0+ bytes\n"
     ]
    }
   ],
   "source": [
    "df_radiografia.info()"
   ]
  },
  {
   "cell_type": "code",
   "execution_count": 43,
   "metadata": {},
   "outputs": [
    {
     "data": {
      "text/html": [
       "<div>\n",
       "<style scoped>\n",
       "    .dataframe tbody tr th:only-of-type {\n",
       "        vertical-align: middle;\n",
       "    }\n",
       "\n",
       "    .dataframe tbody tr th {\n",
       "        vertical-align: top;\n",
       "    }\n",
       "\n",
       "    .dataframe thead th {\n",
       "        text-align: right;\n",
       "    }\n",
       "</style>\n",
       "<table border=\"1\" class=\"dataframe\">\n",
       "  <thead>\n",
       "    <tr style=\"text-align: right;\">\n",
       "      <th></th>\n",
       "      <th>Departamento</th>\n",
       "      <th>Numero_IPS</th>\n",
       "    </tr>\n",
       "  </thead>\n",
       "  <tbody>\n",
       "    <tr>\n",
       "      <th>0</th>\n",
       "      <td>Bogotá D.C</td>\n",
       "      <td>3284</td>\n",
       "    </tr>\n",
       "    <tr>\n",
       "      <th>1</th>\n",
       "      <td>Valle del Cauca</td>\n",
       "      <td>2136</td>\n",
       "    </tr>\n",
       "    <tr>\n",
       "      <th>2</th>\n",
       "      <td>Antioquia</td>\n",
       "      <td>1945</td>\n",
       "    </tr>\n",
       "    <tr>\n",
       "      <th>3</th>\n",
       "      <td>Santander</td>\n",
       "      <td>1155</td>\n",
       "    </tr>\n",
       "    <tr>\n",
       "      <th>4</th>\n",
       "      <td>Atlántico</td>\n",
       "      <td>1028</td>\n",
       "    </tr>\n",
       "  </tbody>\n",
       "</table>\n",
       "</div>"
      ],
      "text/plain": [
       "      Departamento  Numero_IPS\n",
       "0       Bogotá D.C        3284\n",
       "1  Valle del Cauca        2136\n",
       "2        Antioquia        1945\n",
       "3        Santander        1155\n",
       "4        Atlántico        1028"
      ]
     },
     "execution_count": 43,
     "metadata": {},
     "output_type": "execute_result"
    }
   ],
   "source": [
    "df_radiografia.head()"
   ]
  },
  {
   "cell_type": "code",
   "execution_count": 44,
   "metadata": {},
   "outputs": [],
   "source": [
    "df_comparison = pd.merge(df_num_reps, df_radiografia, how='inner', left_on='departamento', right_on='Departamento')"
   ]
  },
  {
   "cell_type": "code",
   "execution_count": 45,
   "metadata": {},
   "outputs": [
    {
     "data": {
      "text/html": [
       "<div>\n",
       "<style scoped>\n",
       "    .dataframe tbody tr th:only-of-type {\n",
       "        vertical-align: middle;\n",
       "    }\n",
       "\n",
       "    .dataframe tbody tr th {\n",
       "        vertical-align: top;\n",
       "    }\n",
       "\n",
       "    .dataframe thead th {\n",
       "        text-align: right;\n",
       "    }\n",
       "</style>\n",
       "<table border=\"1\" class=\"dataframe\">\n",
       "  <thead>\n",
       "    <tr style=\"text-align: right;\">\n",
       "      <th></th>\n",
       "      <th>departamento</th>\n",
       "      <th>Y2022</th>\n",
       "      <th>porcentaje</th>\n",
       "      <th>Departamento</th>\n",
       "      <th>Numero_IPS</th>\n",
       "    </tr>\n",
       "  </thead>\n",
       "  <tbody>\n",
       "    <tr>\n",
       "      <th>0</th>\n",
       "      <td>Vichada</td>\n",
       "      <td>12</td>\n",
       "      <td>0.06</td>\n",
       "      <td>Vichada</td>\n",
       "      <td>33</td>\n",
       "    </tr>\n",
       "    <tr>\n",
       "      <th>1</th>\n",
       "      <td>Guainía</td>\n",
       "      <td>12</td>\n",
       "      <td>0.06</td>\n",
       "      <td>Guainía</td>\n",
       "      <td>8</td>\n",
       "    </tr>\n",
       "    <tr>\n",
       "      <th>2</th>\n",
       "      <td>San Andrés y Providencia</td>\n",
       "      <td>25</td>\n",
       "      <td>0.13</td>\n",
       "      <td>San Andrés y Providencia</td>\n",
       "      <td>17</td>\n",
       "    </tr>\n",
       "    <tr>\n",
       "      <th>3</th>\n",
       "      <td>Amazonas</td>\n",
       "      <td>25</td>\n",
       "      <td>0.13</td>\n",
       "      <td>Amazonas</td>\n",
       "      <td>25</td>\n",
       "    </tr>\n",
       "    <tr>\n",
       "      <th>4</th>\n",
       "      <td>Guaviare</td>\n",
       "      <td>34</td>\n",
       "      <td>0.17</td>\n",
       "      <td>Guaviare</td>\n",
       "      <td>27</td>\n",
       "    </tr>\n",
       "  </tbody>\n",
       "</table>\n",
       "</div>"
      ],
      "text/plain": [
       "               departamento  Y2022  porcentaje              Departamento  \\\n",
       "0                   Vichada     12        0.06                   Vichada   \n",
       "1                   Guainía     12        0.06                   Guainía   \n",
       "2  San Andrés y Providencia     25        0.13  San Andrés y Providencia   \n",
       "3                  Amazonas     25        0.13                  Amazonas   \n",
       "4                  Guaviare     34        0.17                  Guaviare   \n",
       "\n",
       "   Numero_IPS  \n",
       "0          33  \n",
       "1           8  \n",
       "2          17  \n",
       "3          25  \n",
       "4          27  "
      ]
     },
     "execution_count": 45,
     "metadata": {},
     "output_type": "execute_result"
    }
   ],
   "source": [
    "df_comparison.head()"
   ]
  },
  {
   "cell_type": "code",
   "execution_count": 46,
   "metadata": {},
   "outputs": [],
   "source": [
    "df_comparison['cambio'] = df_comparison['Y2022'] - df_comparison['Numero_IPS']\n",
    "df_comparison['cambio_porcentual'] = ((df_comparison['Y2022'] - df_comparison['Numero_IPS']) / df_comparison['Numero_IPS'] * 100).round(2)\n",
    "# df_comparison.sort_values('cambio', ascending=True, inplace=True)"
   ]
  },
  {
   "cell_type": "code",
   "execution_count": 47,
   "metadata": {},
   "outputs": [
    {
     "data": {
      "text/html": [
       "<div>\n",
       "<style scoped>\n",
       "    .dataframe tbody tr th:only-of-type {\n",
       "        vertical-align: middle;\n",
       "    }\n",
       "\n",
       "    .dataframe tbody tr th {\n",
       "        vertical-align: top;\n",
       "    }\n",
       "\n",
       "    .dataframe thead th {\n",
       "        text-align: right;\n",
       "    }\n",
       "</style>\n",
       "<table border=\"1\" class=\"dataframe\">\n",
       "  <thead>\n",
       "    <tr style=\"text-align: right;\">\n",
       "      <th></th>\n",
       "      <th>departamento</th>\n",
       "      <th>Y2022</th>\n",
       "      <th>porcentaje</th>\n",
       "      <th>Departamento</th>\n",
       "      <th>Numero_IPS</th>\n",
       "      <th>cambio</th>\n",
       "      <th>cambio_porcentual</th>\n",
       "    </tr>\n",
       "  </thead>\n",
       "  <tbody>\n",
       "    <tr>\n",
       "      <th>0</th>\n",
       "      <td>Vichada</td>\n",
       "      <td>12</td>\n",
       "      <td>0.06</td>\n",
       "      <td>Vichada</td>\n",
       "      <td>33</td>\n",
       "      <td>-21</td>\n",
       "      <td>-63.64</td>\n",
       "    </tr>\n",
       "    <tr>\n",
       "      <th>1</th>\n",
       "      <td>Guainía</td>\n",
       "      <td>12</td>\n",
       "      <td>0.06</td>\n",
       "      <td>Guainía</td>\n",
       "      <td>8</td>\n",
       "      <td>4</td>\n",
       "      <td>50.00</td>\n",
       "    </tr>\n",
       "    <tr>\n",
       "      <th>2</th>\n",
       "      <td>San Andrés y Providencia</td>\n",
       "      <td>25</td>\n",
       "      <td>0.13</td>\n",
       "      <td>San Andrés y Providencia</td>\n",
       "      <td>17</td>\n",
       "      <td>8</td>\n",
       "      <td>47.06</td>\n",
       "    </tr>\n",
       "    <tr>\n",
       "      <th>3</th>\n",
       "      <td>Amazonas</td>\n",
       "      <td>25</td>\n",
       "      <td>0.13</td>\n",
       "      <td>Amazonas</td>\n",
       "      <td>25</td>\n",
       "      <td>0</td>\n",
       "      <td>0.00</td>\n",
       "    </tr>\n",
       "    <tr>\n",
       "      <th>4</th>\n",
       "      <td>Guaviare</td>\n",
       "      <td>34</td>\n",
       "      <td>0.17</td>\n",
       "      <td>Guaviare</td>\n",
       "      <td>27</td>\n",
       "      <td>7</td>\n",
       "      <td>25.93</td>\n",
       "    </tr>\n",
       "    <tr>\n",
       "      <th>5</th>\n",
       "      <td>Vaupés</td>\n",
       "      <td>55</td>\n",
       "      <td>0.28</td>\n",
       "      <td>Vaupés</td>\n",
       "      <td>4</td>\n",
       "      <td>51</td>\n",
       "      <td>1275.00</td>\n",
       "    </tr>\n",
       "    <tr>\n",
       "      <th>6</th>\n",
       "      <td>Caquetá</td>\n",
       "      <td>109</td>\n",
       "      <td>0.55</td>\n",
       "      <td>Caquetá</td>\n",
       "      <td>108</td>\n",
       "      <td>1</td>\n",
       "      <td>0.93</td>\n",
       "    </tr>\n",
       "    <tr>\n",
       "      <th>7</th>\n",
       "      <td>Putumayo</td>\n",
       "      <td>124</td>\n",
       "      <td>0.63</td>\n",
       "      <td>Putumayo</td>\n",
       "      <td>191</td>\n",
       "      <td>-67</td>\n",
       "      <td>-35.08</td>\n",
       "    </tr>\n",
       "    <tr>\n",
       "      <th>8</th>\n",
       "      <td>Arauca</td>\n",
       "      <td>142</td>\n",
       "      <td>0.72</td>\n",
       "      <td>Arauca</td>\n",
       "      <td>133</td>\n",
       "      <td>9</td>\n",
       "      <td>6.77</td>\n",
       "    </tr>\n",
       "    <tr>\n",
       "      <th>9</th>\n",
       "      <td>Casanare</td>\n",
       "      <td>209</td>\n",
       "      <td>1.06</td>\n",
       "      <td>Casanare</td>\n",
       "      <td>210</td>\n",
       "      <td>-1</td>\n",
       "      <td>-0.48</td>\n",
       "    </tr>\n",
       "    <tr>\n",
       "      <th>10</th>\n",
       "      <td>Quindío</td>\n",
       "      <td>236</td>\n",
       "      <td>1.20</td>\n",
       "      <td>Quindío</td>\n",
       "      <td>253</td>\n",
       "      <td>-17</td>\n",
       "      <td>-6.72</td>\n",
       "    </tr>\n",
       "    <tr>\n",
       "      <th>11</th>\n",
       "      <td>Chocó</td>\n",
       "      <td>265</td>\n",
       "      <td>1.34</td>\n",
       "      <td>Chocó</td>\n",
       "      <td>231</td>\n",
       "      <td>34</td>\n",
       "      <td>14.72</td>\n",
       "    </tr>\n",
       "    <tr>\n",
       "      <th>12</th>\n",
       "      <td>Caldas</td>\n",
       "      <td>345</td>\n",
       "      <td>1.75</td>\n",
       "      <td>Caldas</td>\n",
       "      <td>419</td>\n",
       "      <td>-74</td>\n",
       "      <td>-17.66</td>\n",
       "    </tr>\n",
       "    <tr>\n",
       "      <th>13</th>\n",
       "      <td>Risaralda</td>\n",
       "      <td>368</td>\n",
       "      <td>1.87</td>\n",
       "      <td>Risaralda</td>\n",
       "      <td>347</td>\n",
       "      <td>21</td>\n",
       "      <td>6.05</td>\n",
       "    </tr>\n",
       "    <tr>\n",
       "      <th>14</th>\n",
       "      <td>Huila</td>\n",
       "      <td>373</td>\n",
       "      <td>1.89</td>\n",
       "      <td>Huila</td>\n",
       "      <td>369</td>\n",
       "      <td>4</td>\n",
       "      <td>1.08</td>\n",
       "    </tr>\n",
       "    <tr>\n",
       "      <th>15</th>\n",
       "      <td>La Guajira</td>\n",
       "      <td>427</td>\n",
       "      <td>2.16</td>\n",
       "      <td>La Guajira</td>\n",
       "      <td>316</td>\n",
       "      <td>111</td>\n",
       "      <td>35.13</td>\n",
       "    </tr>\n",
       "    <tr>\n",
       "      <th>16</th>\n",
       "      <td>Cauca</td>\n",
       "      <td>480</td>\n",
       "      <td>2.43</td>\n",
       "      <td>Cauca</td>\n",
       "      <td>430</td>\n",
       "      <td>50</td>\n",
       "      <td>11.63</td>\n",
       "    </tr>\n",
       "    <tr>\n",
       "      <th>17</th>\n",
       "      <td>Meta</td>\n",
       "      <td>483</td>\n",
       "      <td>2.45</td>\n",
       "      <td>Meta</td>\n",
       "      <td>408</td>\n",
       "      <td>75</td>\n",
       "      <td>18.38</td>\n",
       "    </tr>\n",
       "    <tr>\n",
       "      <th>18</th>\n",
       "      <td>Sucre</td>\n",
       "      <td>513</td>\n",
       "      <td>2.60</td>\n",
       "      <td>Sucre</td>\n",
       "      <td>501</td>\n",
       "      <td>12</td>\n",
       "      <td>2.40</td>\n",
       "    </tr>\n",
       "    <tr>\n",
       "      <th>19</th>\n",
       "      <td>Norte de Santander</td>\n",
       "      <td>518</td>\n",
       "      <td>2.63</td>\n",
       "      <td>Norte de Santander</td>\n",
       "      <td>517</td>\n",
       "      <td>1</td>\n",
       "      <td>0.19</td>\n",
       "    </tr>\n",
       "    <tr>\n",
       "      <th>20</th>\n",
       "      <td>Tolima</td>\n",
       "      <td>525</td>\n",
       "      <td>2.66</td>\n",
       "      <td>Tolima</td>\n",
       "      <td>470</td>\n",
       "      <td>55</td>\n",
       "      <td>11.70</td>\n",
       "    </tr>\n",
       "    <tr>\n",
       "      <th>21</th>\n",
       "      <td>Boyacá</td>\n",
       "      <td>562</td>\n",
       "      <td>2.85</td>\n",
       "      <td>Boyacá</td>\n",
       "      <td>508</td>\n",
       "      <td>54</td>\n",
       "      <td>10.63</td>\n",
       "    </tr>\n",
       "    <tr>\n",
       "      <th>22</th>\n",
       "      <td>Cesar</td>\n",
       "      <td>611</td>\n",
       "      <td>3.10</td>\n",
       "      <td>Cesar</td>\n",
       "      <td>528</td>\n",
       "      <td>83</td>\n",
       "      <td>15.72</td>\n",
       "    </tr>\n",
       "    <tr>\n",
       "      <th>23</th>\n",
       "      <td>Magdalena</td>\n",
       "      <td>693</td>\n",
       "      <td>3.51</td>\n",
       "      <td>Magdalena</td>\n",
       "      <td>600</td>\n",
       "      <td>93</td>\n",
       "      <td>15.50</td>\n",
       "    </tr>\n",
       "    <tr>\n",
       "      <th>24</th>\n",
       "      <td>Nariño</td>\n",
       "      <td>800</td>\n",
       "      <td>4.06</td>\n",
       "      <td>Nariño</td>\n",
       "      <td>622</td>\n",
       "      <td>178</td>\n",
       "      <td>28.62</td>\n",
       "    </tr>\n",
       "    <tr>\n",
       "      <th>25</th>\n",
       "      <td>Cundinamarca</td>\n",
       "      <td>818</td>\n",
       "      <td>4.15</td>\n",
       "      <td>Cundinamarca</td>\n",
       "      <td>725</td>\n",
       "      <td>93</td>\n",
       "      <td>12.83</td>\n",
       "    </tr>\n",
       "    <tr>\n",
       "      <th>26</th>\n",
       "      <td>Córdoba</td>\n",
       "      <td>821</td>\n",
       "      <td>4.16</td>\n",
       "      <td>Córdoba</td>\n",
       "      <td>550</td>\n",
       "      <td>271</td>\n",
       "      <td>49.27</td>\n",
       "    </tr>\n",
       "    <tr>\n",
       "      <th>27</th>\n",
       "      <td>Bolívar</td>\n",
       "      <td>970</td>\n",
       "      <td>4.92</td>\n",
       "      <td>Bolívar</td>\n",
       "      <td>861</td>\n",
       "      <td>109</td>\n",
       "      <td>12.66</td>\n",
       "    </tr>\n",
       "    <tr>\n",
       "      <th>28</th>\n",
       "      <td>Santander</td>\n",
       "      <td>1048</td>\n",
       "      <td>5.31</td>\n",
       "      <td>Santander</td>\n",
       "      <td>1155</td>\n",
       "      <td>-107</td>\n",
       "      <td>-9.26</td>\n",
       "    </tr>\n",
       "    <tr>\n",
       "      <th>29</th>\n",
       "      <td>Atlántico</td>\n",
       "      <td>1217</td>\n",
       "      <td>6.17</td>\n",
       "      <td>Atlántico</td>\n",
       "      <td>1028</td>\n",
       "      <td>189</td>\n",
       "      <td>18.39</td>\n",
       "    </tr>\n",
       "    <tr>\n",
       "      <th>30</th>\n",
       "      <td>Antioquia</td>\n",
       "      <td>2145</td>\n",
       "      <td>10.87</td>\n",
       "      <td>Antioquia</td>\n",
       "      <td>1945</td>\n",
       "      <td>200</td>\n",
       "      <td>10.28</td>\n",
       "    </tr>\n",
       "    <tr>\n",
       "      <th>31</th>\n",
       "      <td>Bogotá D.C</td>\n",
       "      <td>2892</td>\n",
       "      <td>14.66</td>\n",
       "      <td>Bogotá D.C</td>\n",
       "      <td>3284</td>\n",
       "      <td>-392</td>\n",
       "      <td>-11.94</td>\n",
       "    </tr>\n",
       "  </tbody>\n",
       "</table>\n",
       "</div>"
      ],
      "text/plain": [
       "                departamento  Y2022  porcentaje              Departamento  \\\n",
       "0                    Vichada     12        0.06                   Vichada   \n",
       "1                    Guainía     12        0.06                   Guainía   \n",
       "2   San Andrés y Providencia     25        0.13  San Andrés y Providencia   \n",
       "3                   Amazonas     25        0.13                  Amazonas   \n",
       "4                   Guaviare     34        0.17                  Guaviare   \n",
       "5                     Vaupés     55        0.28                    Vaupés   \n",
       "6                    Caquetá    109        0.55                   Caquetá   \n",
       "7                   Putumayo    124        0.63                  Putumayo   \n",
       "8                     Arauca    142        0.72                    Arauca   \n",
       "9                   Casanare    209        1.06                  Casanare   \n",
       "10                   Quindío    236        1.20                   Quindío   \n",
       "11                     Chocó    265        1.34                     Chocó   \n",
       "12                    Caldas    345        1.75                    Caldas   \n",
       "13                 Risaralda    368        1.87                 Risaralda   \n",
       "14                     Huila    373        1.89                     Huila   \n",
       "15                La Guajira    427        2.16                La Guajira   \n",
       "16                     Cauca    480        2.43                     Cauca   \n",
       "17                      Meta    483        2.45                      Meta   \n",
       "18                     Sucre    513        2.60                     Sucre   \n",
       "19        Norte de Santander    518        2.63        Norte de Santander   \n",
       "20                    Tolima    525        2.66                    Tolima   \n",
       "21                    Boyacá    562        2.85                    Boyacá   \n",
       "22                     Cesar    611        3.10                     Cesar   \n",
       "23                 Magdalena    693        3.51                 Magdalena   \n",
       "24                    Nariño    800        4.06                    Nariño   \n",
       "25              Cundinamarca    818        4.15              Cundinamarca   \n",
       "26                   Córdoba    821        4.16                   Córdoba   \n",
       "27                   Bolívar    970        4.92                   Bolívar   \n",
       "28                 Santander   1048        5.31                 Santander   \n",
       "29                 Atlántico   1217        6.17                 Atlántico   \n",
       "30                 Antioquia   2145       10.87                 Antioquia   \n",
       "31                Bogotá D.C   2892       14.66                Bogotá D.C   \n",
       "\n",
       "    Numero_IPS  cambio  cambio_porcentual  \n",
       "0           33     -21             -63.64  \n",
       "1            8       4              50.00  \n",
       "2           17       8              47.06  \n",
       "3           25       0               0.00  \n",
       "4           27       7              25.93  \n",
       "5            4      51            1275.00  \n",
       "6          108       1               0.93  \n",
       "7          191     -67             -35.08  \n",
       "8          133       9               6.77  \n",
       "9          210      -1              -0.48  \n",
       "10         253     -17              -6.72  \n",
       "11         231      34              14.72  \n",
       "12         419     -74             -17.66  \n",
       "13         347      21               6.05  \n",
       "14         369       4               1.08  \n",
       "15         316     111              35.13  \n",
       "16         430      50              11.63  \n",
       "17         408      75              18.38  \n",
       "18         501      12               2.40  \n",
       "19         517       1               0.19  \n",
       "20         470      55              11.70  \n",
       "21         508      54              10.63  \n",
       "22         528      83              15.72  \n",
       "23         600      93              15.50  \n",
       "24         622     178              28.62  \n",
       "25         725      93              12.83  \n",
       "26         550     271              49.27  \n",
       "27         861     109              12.66  \n",
       "28        1155    -107              -9.26  \n",
       "29        1028     189              18.39  \n",
       "30        1945     200              10.28  \n",
       "31        3284    -392             -11.94  "
      ]
     },
     "execution_count": 47,
     "metadata": {},
     "output_type": "execute_result"
    }
   ],
   "source": [
    "df_comparison"
   ]
  },
  {
   "cell_type": "code",
   "execution_count": 48,
   "metadata": {},
   "outputs": [
    {
     "data": {
      "application/vnd.plotly.v1+json": {
       "config": {
        "plotlyServerURL": "https://plot.ly"
       },
       "data": [
        {
         "alignmentgroup": "True",
         "hovertemplate": "cambio=%{x}<br>departamento=%{y}<extra></extra>",
         "legendgroup": "",
         "marker": {
          "color": [
           "#5B9279",
           "#5B9279",
           "#5B9279",
           "#5B9279",
           "#5B9279",
           "#5B9279",
           "#5B9279",
           "#5B9279",
           "#5B9279",
           "#5B9279",
           "#5B9279",
           "#5B9279",
           "#5B9279",
           "#5B9279",
           "#5B9279",
           "#5B9279",
           "#5B9279",
           "#5B9279",
           "#5B9279",
           "#5B9279",
           "#5B9279",
           "#5B9279",
           "#5B9279",
           "#5B9279",
           "#5B9279",
           "#5B9279",
           "#5B9279",
           "#5B9279",
           "#5B9279",
           "#5B9279",
           "#5B9279",
           "#5B9279",
           "#5B9279"
          ],
          "pattern": {
           "shape": ""
          }
         },
         "name": "",
         "offsetgroup": "",
         "orientation": "h",
         "showlegend": false,
         "text": [
          -21,
          4,
          8,
          0,
          7,
          51,
          1,
          -67,
          9,
          -1,
          -17,
          34,
          -74,
          21,
          4,
          111,
          50,
          75,
          12,
          1,
          55,
          54,
          83,
          93,
          178,
          93,
          271,
          109,
          -107,
          189,
          200,
          -392
         ],
         "textposition": "outside",
         "type": "bar",
         "x": [
          -21,
          4,
          8,
          0,
          7,
          51,
          1,
          -67,
          9,
          -1,
          -17,
          34,
          -74,
          21,
          4,
          111,
          50,
          75,
          12,
          1,
          55,
          54,
          83,
          93,
          178,
          93,
          271,
          109,
          -107,
          189,
          200,
          -392
         ],
         "xaxis": "x",
         "y": [
          "Vichada",
          "Guainía",
          "San Andrés y Providencia",
          "Amazonas",
          "Guaviare",
          "Vaupés",
          "Caquetá",
          "Putumayo",
          "Arauca",
          "Casanare",
          "Quindío",
          "Chocó",
          "Caldas",
          "Risaralda",
          "Huila",
          "La Guajira",
          "Cauca",
          "Meta",
          "Sucre",
          "Norte de Santander",
          "Tolima",
          "Boyacá",
          "Cesar",
          "Magdalena",
          "Nariño",
          "Cundinamarca",
          "Córdoba",
          "Bolívar",
          "Santander",
          "Atlántico",
          "Antioquia",
          "Bogotá D.C"
         ],
         "yaxis": "y"
        }
       ],
       "layout": {
        "barmode": "relative",
        "height": 700,
        "legend": {
         "tracegroupgap": 0
        },
        "margin": {
         "t": 60
        },
        "template": {
         "data": {
          "bar": [
           {
            "error_x": {
             "color": "#2a3f5f"
            },
            "error_y": {
             "color": "#2a3f5f"
            },
            "marker": {
             "line": {
              "color": "#E5ECF6",
              "width": 0.5
             },
             "pattern": {
              "fillmode": "overlay",
              "size": 10,
              "solidity": 0.2
             }
            },
            "type": "bar"
           }
          ],
          "barpolar": [
           {
            "marker": {
             "line": {
              "color": "#E5ECF6",
              "width": 0.5
             },
             "pattern": {
              "fillmode": "overlay",
              "size": 10,
              "solidity": 0.2
             }
            },
            "type": "barpolar"
           }
          ],
          "carpet": [
           {
            "aaxis": {
             "endlinecolor": "#2a3f5f",
             "gridcolor": "white",
             "linecolor": "white",
             "minorgridcolor": "white",
             "startlinecolor": "#2a3f5f"
            },
            "baxis": {
             "endlinecolor": "#2a3f5f",
             "gridcolor": "white",
             "linecolor": "white",
             "minorgridcolor": "white",
             "startlinecolor": "#2a3f5f"
            },
            "type": "carpet"
           }
          ],
          "choropleth": [
           {
            "colorbar": {
             "outlinewidth": 0,
             "ticks": ""
            },
            "type": "choropleth"
           }
          ],
          "contour": [
           {
            "colorbar": {
             "outlinewidth": 0,
             "ticks": ""
            },
            "colorscale": [
             [
              0,
              "#0d0887"
             ],
             [
              0.1111111111111111,
              "#46039f"
             ],
             [
              0.2222222222222222,
              "#7201a8"
             ],
             [
              0.3333333333333333,
              "#9c179e"
             ],
             [
              0.4444444444444444,
              "#bd3786"
             ],
             [
              0.5555555555555556,
              "#d8576b"
             ],
             [
              0.6666666666666666,
              "#ed7953"
             ],
             [
              0.7777777777777778,
              "#fb9f3a"
             ],
             [
              0.8888888888888888,
              "#fdca26"
             ],
             [
              1,
              "#f0f921"
             ]
            ],
            "type": "contour"
           }
          ],
          "contourcarpet": [
           {
            "colorbar": {
             "outlinewidth": 0,
             "ticks": ""
            },
            "type": "contourcarpet"
           }
          ],
          "heatmap": [
           {
            "colorbar": {
             "outlinewidth": 0,
             "ticks": ""
            },
            "colorscale": [
             [
              0,
              "#0d0887"
             ],
             [
              0.1111111111111111,
              "#46039f"
             ],
             [
              0.2222222222222222,
              "#7201a8"
             ],
             [
              0.3333333333333333,
              "#9c179e"
             ],
             [
              0.4444444444444444,
              "#bd3786"
             ],
             [
              0.5555555555555556,
              "#d8576b"
             ],
             [
              0.6666666666666666,
              "#ed7953"
             ],
             [
              0.7777777777777778,
              "#fb9f3a"
             ],
             [
              0.8888888888888888,
              "#fdca26"
             ],
             [
              1,
              "#f0f921"
             ]
            ],
            "type": "heatmap"
           }
          ],
          "heatmapgl": [
           {
            "colorbar": {
             "outlinewidth": 0,
             "ticks": ""
            },
            "colorscale": [
             [
              0,
              "#0d0887"
             ],
             [
              0.1111111111111111,
              "#46039f"
             ],
             [
              0.2222222222222222,
              "#7201a8"
             ],
             [
              0.3333333333333333,
              "#9c179e"
             ],
             [
              0.4444444444444444,
              "#bd3786"
             ],
             [
              0.5555555555555556,
              "#d8576b"
             ],
             [
              0.6666666666666666,
              "#ed7953"
             ],
             [
              0.7777777777777778,
              "#fb9f3a"
             ],
             [
              0.8888888888888888,
              "#fdca26"
             ],
             [
              1,
              "#f0f921"
             ]
            ],
            "type": "heatmapgl"
           }
          ],
          "histogram": [
           {
            "marker": {
             "pattern": {
              "fillmode": "overlay",
              "size": 10,
              "solidity": 0.2
             }
            },
            "type": "histogram"
           }
          ],
          "histogram2d": [
           {
            "colorbar": {
             "outlinewidth": 0,
             "ticks": ""
            },
            "colorscale": [
             [
              0,
              "#0d0887"
             ],
             [
              0.1111111111111111,
              "#46039f"
             ],
             [
              0.2222222222222222,
              "#7201a8"
             ],
             [
              0.3333333333333333,
              "#9c179e"
             ],
             [
              0.4444444444444444,
              "#bd3786"
             ],
             [
              0.5555555555555556,
              "#d8576b"
             ],
             [
              0.6666666666666666,
              "#ed7953"
             ],
             [
              0.7777777777777778,
              "#fb9f3a"
             ],
             [
              0.8888888888888888,
              "#fdca26"
             ],
             [
              1,
              "#f0f921"
             ]
            ],
            "type": "histogram2d"
           }
          ],
          "histogram2dcontour": [
           {
            "colorbar": {
             "outlinewidth": 0,
             "ticks": ""
            },
            "colorscale": [
             [
              0,
              "#0d0887"
             ],
             [
              0.1111111111111111,
              "#46039f"
             ],
             [
              0.2222222222222222,
              "#7201a8"
             ],
             [
              0.3333333333333333,
              "#9c179e"
             ],
             [
              0.4444444444444444,
              "#bd3786"
             ],
             [
              0.5555555555555556,
              "#d8576b"
             ],
             [
              0.6666666666666666,
              "#ed7953"
             ],
             [
              0.7777777777777778,
              "#fb9f3a"
             ],
             [
              0.8888888888888888,
              "#fdca26"
             ],
             [
              1,
              "#f0f921"
             ]
            ],
            "type": "histogram2dcontour"
           }
          ],
          "mesh3d": [
           {
            "colorbar": {
             "outlinewidth": 0,
             "ticks": ""
            },
            "type": "mesh3d"
           }
          ],
          "parcoords": [
           {
            "line": {
             "colorbar": {
              "outlinewidth": 0,
              "ticks": ""
             }
            },
            "type": "parcoords"
           }
          ],
          "pie": [
           {
            "automargin": true,
            "type": "pie"
           }
          ],
          "scatter": [
           {
            "fillpattern": {
             "fillmode": "overlay",
             "size": 10,
             "solidity": 0.2
            },
            "type": "scatter"
           }
          ],
          "scatter3d": [
           {
            "line": {
             "colorbar": {
              "outlinewidth": 0,
              "ticks": ""
             }
            },
            "marker": {
             "colorbar": {
              "outlinewidth": 0,
              "ticks": ""
             }
            },
            "type": "scatter3d"
           }
          ],
          "scattercarpet": [
           {
            "marker": {
             "colorbar": {
              "outlinewidth": 0,
              "ticks": ""
             }
            },
            "type": "scattercarpet"
           }
          ],
          "scattergeo": [
           {
            "marker": {
             "colorbar": {
              "outlinewidth": 0,
              "ticks": ""
             }
            },
            "type": "scattergeo"
           }
          ],
          "scattergl": [
           {
            "marker": {
             "colorbar": {
              "outlinewidth": 0,
              "ticks": ""
             }
            },
            "type": "scattergl"
           }
          ],
          "scattermapbox": [
           {
            "marker": {
             "colorbar": {
              "outlinewidth": 0,
              "ticks": ""
             }
            },
            "type": "scattermapbox"
           }
          ],
          "scatterpolar": [
           {
            "marker": {
             "colorbar": {
              "outlinewidth": 0,
              "ticks": ""
             }
            },
            "type": "scatterpolar"
           }
          ],
          "scatterpolargl": [
           {
            "marker": {
             "colorbar": {
              "outlinewidth": 0,
              "ticks": ""
             }
            },
            "type": "scatterpolargl"
           }
          ],
          "scatterternary": [
           {
            "marker": {
             "colorbar": {
              "outlinewidth": 0,
              "ticks": ""
             }
            },
            "type": "scatterternary"
           }
          ],
          "surface": [
           {
            "colorbar": {
             "outlinewidth": 0,
             "ticks": ""
            },
            "colorscale": [
             [
              0,
              "#0d0887"
             ],
             [
              0.1111111111111111,
              "#46039f"
             ],
             [
              0.2222222222222222,
              "#7201a8"
             ],
             [
              0.3333333333333333,
              "#9c179e"
             ],
             [
              0.4444444444444444,
              "#bd3786"
             ],
             [
              0.5555555555555556,
              "#d8576b"
             ],
             [
              0.6666666666666666,
              "#ed7953"
             ],
             [
              0.7777777777777778,
              "#fb9f3a"
             ],
             [
              0.8888888888888888,
              "#fdca26"
             ],
             [
              1,
              "#f0f921"
             ]
            ],
            "type": "surface"
           }
          ],
          "table": [
           {
            "cells": {
             "fill": {
              "color": "#EBF0F8"
             },
             "line": {
              "color": "white"
             }
            },
            "header": {
             "fill": {
              "color": "#C8D4E3"
             },
             "line": {
              "color": "white"
             }
            },
            "type": "table"
           }
          ]
         },
         "layout": {
          "annotationdefaults": {
           "arrowcolor": "#2a3f5f",
           "arrowhead": 0,
           "arrowwidth": 1
          },
          "autotypenumbers": "strict",
          "coloraxis": {
           "colorbar": {
            "outlinewidth": 0,
            "ticks": ""
           }
          },
          "colorscale": {
           "diverging": [
            [
             0,
             "#8e0152"
            ],
            [
             0.1,
             "#c51b7d"
            ],
            [
             0.2,
             "#de77ae"
            ],
            [
             0.3,
             "#f1b6da"
            ],
            [
             0.4,
             "#fde0ef"
            ],
            [
             0.5,
             "#f7f7f7"
            ],
            [
             0.6,
             "#e6f5d0"
            ],
            [
             0.7,
             "#b8e186"
            ],
            [
             0.8,
             "#7fbc41"
            ],
            [
             0.9,
             "#4d9221"
            ],
            [
             1,
             "#276419"
            ]
           ],
           "sequential": [
            [
             0,
             "#0d0887"
            ],
            [
             0.1111111111111111,
             "#46039f"
            ],
            [
             0.2222222222222222,
             "#7201a8"
            ],
            [
             0.3333333333333333,
             "#9c179e"
            ],
            [
             0.4444444444444444,
             "#bd3786"
            ],
            [
             0.5555555555555556,
             "#d8576b"
            ],
            [
             0.6666666666666666,
             "#ed7953"
            ],
            [
             0.7777777777777778,
             "#fb9f3a"
            ],
            [
             0.8888888888888888,
             "#fdca26"
            ],
            [
             1,
             "#f0f921"
            ]
           ],
           "sequentialminus": [
            [
             0,
             "#0d0887"
            ],
            [
             0.1111111111111111,
             "#46039f"
            ],
            [
             0.2222222222222222,
             "#7201a8"
            ],
            [
             0.3333333333333333,
             "#9c179e"
            ],
            [
             0.4444444444444444,
             "#bd3786"
            ],
            [
             0.5555555555555556,
             "#d8576b"
            ],
            [
             0.6666666666666666,
             "#ed7953"
            ],
            [
             0.7777777777777778,
             "#fb9f3a"
            ],
            [
             0.8888888888888888,
             "#fdca26"
            ],
            [
             1,
             "#f0f921"
            ]
           ]
          },
          "colorway": [
           "#636efa",
           "#EF553B",
           "#00cc96",
           "#ab63fa",
           "#FFA15A",
           "#19d3f3",
           "#FF6692",
           "#B6E880",
           "#FF97FF",
           "#FECB52"
          ],
          "font": {
           "color": "#2a3f5f"
          },
          "geo": {
           "bgcolor": "white",
           "lakecolor": "white",
           "landcolor": "#E5ECF6",
           "showlakes": true,
           "showland": true,
           "subunitcolor": "white"
          },
          "hoverlabel": {
           "align": "left"
          },
          "hovermode": "closest",
          "mapbox": {
           "style": "light"
          },
          "paper_bgcolor": "white",
          "plot_bgcolor": "#E5ECF6",
          "polar": {
           "angularaxis": {
            "gridcolor": "white",
            "linecolor": "white",
            "ticks": ""
           },
           "bgcolor": "#E5ECF6",
           "radialaxis": {
            "gridcolor": "white",
            "linecolor": "white",
            "ticks": ""
           }
          },
          "scene": {
           "xaxis": {
            "backgroundcolor": "#E5ECF6",
            "gridcolor": "white",
            "gridwidth": 2,
            "linecolor": "white",
            "showbackground": true,
            "ticks": "",
            "zerolinecolor": "white"
           },
           "yaxis": {
            "backgroundcolor": "#E5ECF6",
            "gridcolor": "white",
            "gridwidth": 2,
            "linecolor": "white",
            "showbackground": true,
            "ticks": "",
            "zerolinecolor": "white"
           },
           "zaxis": {
            "backgroundcolor": "#E5ECF6",
            "gridcolor": "white",
            "gridwidth": 2,
            "linecolor": "white",
            "showbackground": true,
            "ticks": "",
            "zerolinecolor": "white"
           }
          },
          "shapedefaults": {
           "line": {
            "color": "#2a3f5f"
           }
          },
          "ternary": {
           "aaxis": {
            "gridcolor": "white",
            "linecolor": "white",
            "ticks": ""
           },
           "baxis": {
            "gridcolor": "white",
            "linecolor": "white",
            "ticks": ""
           },
           "bgcolor": "#E5ECF6",
           "caxis": {
            "gridcolor": "white",
            "linecolor": "white",
            "ticks": ""
           }
          },
          "title": {
           "x": 0.05
          },
          "xaxis": {
           "automargin": true,
           "gridcolor": "white",
           "linecolor": "white",
           "ticks": "",
           "title": {
            "standoff": 15
           },
           "zerolinecolor": "white",
           "zerolinewidth": 2
          },
          "yaxis": {
           "automargin": true,
           "gridcolor": "white",
           "linecolor": "white",
           "ticks": "",
           "title": {
            "standoff": 15
           },
           "zerolinecolor": "white",
           "zerolinewidth": 2
          }
         }
        },
        "title": {
         "text": "Cambio en Número de IPS por Departamento - 2022-2013"
        },
        "width": 800,
        "xaxis": {
         "anchor": "y",
         "domain": [
          0,
          1
         ],
         "range": [
          -450,
          350
         ],
         "title": {
          "text": "Cambio en Número de IPS"
         }
        },
        "yaxis": {
         "anchor": "x",
         "domain": [
          0,
          1
         ],
         "title": {
          "text": "Departamento"
         }
        }
       }
      }
     },
     "metadata": {},
     "output_type": "display_data"
    }
   ],
   "source": [
    "fig = px.bar(data_frame=df_comparison, x='cambio', y='departamento', orientation='h')\n",
    "\n",
    "fig.update_xaxes(title_text='Cambio en Número de IPS')\n",
    "fig.update_xaxes(range=[-450,350])\n",
    "fig.update_yaxes(title_text='Departamento')\n",
    "fig.update_layout(title='Cambio en Número de IPS por Departamento - 2022-2013')\n",
    "\n",
    "color_sequence = ['#5B9279' for i in departamentos]\n",
    "fig.update_traces(marker=dict(color=color_sequence))\n",
    "\n",
    "fig.update_traces(text=df_comparison['cambio'], textposition='outside')\n",
    "\n",
    "fig.update_layout(width=800, height=700)\n"
   ]
  },
  {
   "cell_type": "code",
   "execution_count": 53,
   "metadata": {},
   "outputs": [
    {
     "data": {
      "application/vnd.plotly.v1+json": {
       "config": {
        "plotlyServerURL": "https://plot.ly"
       },
       "data": [
        {
         "alignmentgroup": "True",
         "hovertemplate": "cambio_porcentual=%{x}<br>departamento=%{y}<extra></extra>",
         "legendgroup": "",
         "marker": {
          "color": [
           "#5B9279",
           "#5B9279",
           "#5B9279",
           "#5B9279",
           "#5B9279",
           "#5B9279",
           "#5B9279",
           "#5B9279",
           "#5B9279",
           "#5B9279",
           "#5B9279",
           "#5B9279",
           "#5B9279",
           "#5B9279",
           "#5B9279",
           "#5B9279",
           "#5B9279",
           "#5B9279",
           "#5B9279",
           "#5B9279",
           "#5B9279",
           "#5B9279",
           "#5B9279",
           "#5B9279",
           "#5B9279",
           "#5B9279",
           "#5B9279",
           "#5B9279",
           "#5B9279",
           "#5B9279",
           "#5B9279",
           "#5B9279",
           "#5B9279"
          ],
          "pattern": {
           "shape": ""
          }
         },
         "name": "",
         "offsetgroup": "",
         "orientation": "h",
         "showlegend": false,
         "text": [
          -63.64,
          50,
          47.06,
          0,
          25.93,
          1275,
          0.93,
          -35.08,
          6.77,
          -0.48,
          -6.72,
          14.72,
          -17.66,
          6.05,
          1.08,
          35.13,
          11.63,
          18.38,
          2.4,
          0.19,
          11.7,
          10.63,
          15.72,
          15.5,
          28.62,
          12.83,
          49.27,
          12.66,
          -9.26,
          18.39,
          10.28,
          -11.94
         ],
         "textposition": "outside",
         "type": "bar",
         "x": [
          -63.64,
          50,
          47.06,
          0,
          25.93,
          1275,
          0.93,
          -35.08,
          6.77,
          -0.48,
          -6.72,
          14.72,
          -17.66,
          6.05,
          1.08,
          35.13,
          11.63,
          18.38,
          2.4,
          0.19,
          11.7,
          10.63,
          15.72,
          15.5,
          28.62,
          12.83,
          49.27,
          12.66,
          -9.26,
          18.39,
          10.28,
          -11.94
         ],
         "xaxis": "x",
         "y": [
          "Vichada",
          "Guainía",
          "San Andrés y Providencia",
          "Amazonas",
          "Guaviare",
          "Vaupés",
          "Caquetá",
          "Putumayo",
          "Arauca",
          "Casanare",
          "Quindío",
          "Chocó",
          "Caldas",
          "Risaralda",
          "Huila",
          "La Guajira",
          "Cauca",
          "Meta",
          "Sucre",
          "Norte de Santander",
          "Tolima",
          "Boyacá",
          "Cesar",
          "Magdalena",
          "Nariño",
          "Cundinamarca",
          "Córdoba",
          "Bolívar",
          "Santander",
          "Atlántico",
          "Antioquia",
          "Bogotá D.C"
         ],
         "yaxis": "y"
        }
       ],
       "layout": {
        "barmode": "relative",
        "height": 700,
        "legend": {
         "tracegroupgap": 0
        },
        "margin": {
         "t": 60
        },
        "template": {
         "data": {
          "bar": [
           {
            "error_x": {
             "color": "#2a3f5f"
            },
            "error_y": {
             "color": "#2a3f5f"
            },
            "marker": {
             "line": {
              "color": "#E5ECF6",
              "width": 0.5
             },
             "pattern": {
              "fillmode": "overlay",
              "size": 10,
              "solidity": 0.2
             }
            },
            "type": "bar"
           }
          ],
          "barpolar": [
           {
            "marker": {
             "line": {
              "color": "#E5ECF6",
              "width": 0.5
             },
             "pattern": {
              "fillmode": "overlay",
              "size": 10,
              "solidity": 0.2
             }
            },
            "type": "barpolar"
           }
          ],
          "carpet": [
           {
            "aaxis": {
             "endlinecolor": "#2a3f5f",
             "gridcolor": "white",
             "linecolor": "white",
             "minorgridcolor": "white",
             "startlinecolor": "#2a3f5f"
            },
            "baxis": {
             "endlinecolor": "#2a3f5f",
             "gridcolor": "white",
             "linecolor": "white",
             "minorgridcolor": "white",
             "startlinecolor": "#2a3f5f"
            },
            "type": "carpet"
           }
          ],
          "choropleth": [
           {
            "colorbar": {
             "outlinewidth": 0,
             "ticks": ""
            },
            "type": "choropleth"
           }
          ],
          "contour": [
           {
            "colorbar": {
             "outlinewidth": 0,
             "ticks": ""
            },
            "colorscale": [
             [
              0,
              "#0d0887"
             ],
             [
              0.1111111111111111,
              "#46039f"
             ],
             [
              0.2222222222222222,
              "#7201a8"
             ],
             [
              0.3333333333333333,
              "#9c179e"
             ],
             [
              0.4444444444444444,
              "#bd3786"
             ],
             [
              0.5555555555555556,
              "#d8576b"
             ],
             [
              0.6666666666666666,
              "#ed7953"
             ],
             [
              0.7777777777777778,
              "#fb9f3a"
             ],
             [
              0.8888888888888888,
              "#fdca26"
             ],
             [
              1,
              "#f0f921"
             ]
            ],
            "type": "contour"
           }
          ],
          "contourcarpet": [
           {
            "colorbar": {
             "outlinewidth": 0,
             "ticks": ""
            },
            "type": "contourcarpet"
           }
          ],
          "heatmap": [
           {
            "colorbar": {
             "outlinewidth": 0,
             "ticks": ""
            },
            "colorscale": [
             [
              0,
              "#0d0887"
             ],
             [
              0.1111111111111111,
              "#46039f"
             ],
             [
              0.2222222222222222,
              "#7201a8"
             ],
             [
              0.3333333333333333,
              "#9c179e"
             ],
             [
              0.4444444444444444,
              "#bd3786"
             ],
             [
              0.5555555555555556,
              "#d8576b"
             ],
             [
              0.6666666666666666,
              "#ed7953"
             ],
             [
              0.7777777777777778,
              "#fb9f3a"
             ],
             [
              0.8888888888888888,
              "#fdca26"
             ],
             [
              1,
              "#f0f921"
             ]
            ],
            "type": "heatmap"
           }
          ],
          "heatmapgl": [
           {
            "colorbar": {
             "outlinewidth": 0,
             "ticks": ""
            },
            "colorscale": [
             [
              0,
              "#0d0887"
             ],
             [
              0.1111111111111111,
              "#46039f"
             ],
             [
              0.2222222222222222,
              "#7201a8"
             ],
             [
              0.3333333333333333,
              "#9c179e"
             ],
             [
              0.4444444444444444,
              "#bd3786"
             ],
             [
              0.5555555555555556,
              "#d8576b"
             ],
             [
              0.6666666666666666,
              "#ed7953"
             ],
             [
              0.7777777777777778,
              "#fb9f3a"
             ],
             [
              0.8888888888888888,
              "#fdca26"
             ],
             [
              1,
              "#f0f921"
             ]
            ],
            "type": "heatmapgl"
           }
          ],
          "histogram": [
           {
            "marker": {
             "pattern": {
              "fillmode": "overlay",
              "size": 10,
              "solidity": 0.2
             }
            },
            "type": "histogram"
           }
          ],
          "histogram2d": [
           {
            "colorbar": {
             "outlinewidth": 0,
             "ticks": ""
            },
            "colorscale": [
             [
              0,
              "#0d0887"
             ],
             [
              0.1111111111111111,
              "#46039f"
             ],
             [
              0.2222222222222222,
              "#7201a8"
             ],
             [
              0.3333333333333333,
              "#9c179e"
             ],
             [
              0.4444444444444444,
              "#bd3786"
             ],
             [
              0.5555555555555556,
              "#d8576b"
             ],
             [
              0.6666666666666666,
              "#ed7953"
             ],
             [
              0.7777777777777778,
              "#fb9f3a"
             ],
             [
              0.8888888888888888,
              "#fdca26"
             ],
             [
              1,
              "#f0f921"
             ]
            ],
            "type": "histogram2d"
           }
          ],
          "histogram2dcontour": [
           {
            "colorbar": {
             "outlinewidth": 0,
             "ticks": ""
            },
            "colorscale": [
             [
              0,
              "#0d0887"
             ],
             [
              0.1111111111111111,
              "#46039f"
             ],
             [
              0.2222222222222222,
              "#7201a8"
             ],
             [
              0.3333333333333333,
              "#9c179e"
             ],
             [
              0.4444444444444444,
              "#bd3786"
             ],
             [
              0.5555555555555556,
              "#d8576b"
             ],
             [
              0.6666666666666666,
              "#ed7953"
             ],
             [
              0.7777777777777778,
              "#fb9f3a"
             ],
             [
              0.8888888888888888,
              "#fdca26"
             ],
             [
              1,
              "#f0f921"
             ]
            ],
            "type": "histogram2dcontour"
           }
          ],
          "mesh3d": [
           {
            "colorbar": {
             "outlinewidth": 0,
             "ticks": ""
            },
            "type": "mesh3d"
           }
          ],
          "parcoords": [
           {
            "line": {
             "colorbar": {
              "outlinewidth": 0,
              "ticks": ""
             }
            },
            "type": "parcoords"
           }
          ],
          "pie": [
           {
            "automargin": true,
            "type": "pie"
           }
          ],
          "scatter": [
           {
            "fillpattern": {
             "fillmode": "overlay",
             "size": 10,
             "solidity": 0.2
            },
            "type": "scatter"
           }
          ],
          "scatter3d": [
           {
            "line": {
             "colorbar": {
              "outlinewidth": 0,
              "ticks": ""
             }
            },
            "marker": {
             "colorbar": {
              "outlinewidth": 0,
              "ticks": ""
             }
            },
            "type": "scatter3d"
           }
          ],
          "scattercarpet": [
           {
            "marker": {
             "colorbar": {
              "outlinewidth": 0,
              "ticks": ""
             }
            },
            "type": "scattercarpet"
           }
          ],
          "scattergeo": [
           {
            "marker": {
             "colorbar": {
              "outlinewidth": 0,
              "ticks": ""
             }
            },
            "type": "scattergeo"
           }
          ],
          "scattergl": [
           {
            "marker": {
             "colorbar": {
              "outlinewidth": 0,
              "ticks": ""
             }
            },
            "type": "scattergl"
           }
          ],
          "scattermapbox": [
           {
            "marker": {
             "colorbar": {
              "outlinewidth": 0,
              "ticks": ""
             }
            },
            "type": "scattermapbox"
           }
          ],
          "scatterpolar": [
           {
            "marker": {
             "colorbar": {
              "outlinewidth": 0,
              "ticks": ""
             }
            },
            "type": "scatterpolar"
           }
          ],
          "scatterpolargl": [
           {
            "marker": {
             "colorbar": {
              "outlinewidth": 0,
              "ticks": ""
             }
            },
            "type": "scatterpolargl"
           }
          ],
          "scatterternary": [
           {
            "marker": {
             "colorbar": {
              "outlinewidth": 0,
              "ticks": ""
             }
            },
            "type": "scatterternary"
           }
          ],
          "surface": [
           {
            "colorbar": {
             "outlinewidth": 0,
             "ticks": ""
            },
            "colorscale": [
             [
              0,
              "#0d0887"
             ],
             [
              0.1111111111111111,
              "#46039f"
             ],
             [
              0.2222222222222222,
              "#7201a8"
             ],
             [
              0.3333333333333333,
              "#9c179e"
             ],
             [
              0.4444444444444444,
              "#bd3786"
             ],
             [
              0.5555555555555556,
              "#d8576b"
             ],
             [
              0.6666666666666666,
              "#ed7953"
             ],
             [
              0.7777777777777778,
              "#fb9f3a"
             ],
             [
              0.8888888888888888,
              "#fdca26"
             ],
             [
              1,
              "#f0f921"
             ]
            ],
            "type": "surface"
           }
          ],
          "table": [
           {
            "cells": {
             "fill": {
              "color": "#EBF0F8"
             },
             "line": {
              "color": "white"
             }
            },
            "header": {
             "fill": {
              "color": "#C8D4E3"
             },
             "line": {
              "color": "white"
             }
            },
            "type": "table"
           }
          ]
         },
         "layout": {
          "annotationdefaults": {
           "arrowcolor": "#2a3f5f",
           "arrowhead": 0,
           "arrowwidth": 1
          },
          "autotypenumbers": "strict",
          "coloraxis": {
           "colorbar": {
            "outlinewidth": 0,
            "ticks": ""
           }
          },
          "colorscale": {
           "diverging": [
            [
             0,
             "#8e0152"
            ],
            [
             0.1,
             "#c51b7d"
            ],
            [
             0.2,
             "#de77ae"
            ],
            [
             0.3,
             "#f1b6da"
            ],
            [
             0.4,
             "#fde0ef"
            ],
            [
             0.5,
             "#f7f7f7"
            ],
            [
             0.6,
             "#e6f5d0"
            ],
            [
             0.7,
             "#b8e186"
            ],
            [
             0.8,
             "#7fbc41"
            ],
            [
             0.9,
             "#4d9221"
            ],
            [
             1,
             "#276419"
            ]
           ],
           "sequential": [
            [
             0,
             "#0d0887"
            ],
            [
             0.1111111111111111,
             "#46039f"
            ],
            [
             0.2222222222222222,
             "#7201a8"
            ],
            [
             0.3333333333333333,
             "#9c179e"
            ],
            [
             0.4444444444444444,
             "#bd3786"
            ],
            [
             0.5555555555555556,
             "#d8576b"
            ],
            [
             0.6666666666666666,
             "#ed7953"
            ],
            [
             0.7777777777777778,
             "#fb9f3a"
            ],
            [
             0.8888888888888888,
             "#fdca26"
            ],
            [
             1,
             "#f0f921"
            ]
           ],
           "sequentialminus": [
            [
             0,
             "#0d0887"
            ],
            [
             0.1111111111111111,
             "#46039f"
            ],
            [
             0.2222222222222222,
             "#7201a8"
            ],
            [
             0.3333333333333333,
             "#9c179e"
            ],
            [
             0.4444444444444444,
             "#bd3786"
            ],
            [
             0.5555555555555556,
             "#d8576b"
            ],
            [
             0.6666666666666666,
             "#ed7953"
            ],
            [
             0.7777777777777778,
             "#fb9f3a"
            ],
            [
             0.8888888888888888,
             "#fdca26"
            ],
            [
             1,
             "#f0f921"
            ]
           ]
          },
          "colorway": [
           "#636efa",
           "#EF553B",
           "#00cc96",
           "#ab63fa",
           "#FFA15A",
           "#19d3f3",
           "#FF6692",
           "#B6E880",
           "#FF97FF",
           "#FECB52"
          ],
          "font": {
           "color": "#2a3f5f"
          },
          "geo": {
           "bgcolor": "white",
           "lakecolor": "white",
           "landcolor": "#E5ECF6",
           "showlakes": true,
           "showland": true,
           "subunitcolor": "white"
          },
          "hoverlabel": {
           "align": "left"
          },
          "hovermode": "closest",
          "mapbox": {
           "style": "light"
          },
          "paper_bgcolor": "white",
          "plot_bgcolor": "#E5ECF6",
          "polar": {
           "angularaxis": {
            "gridcolor": "white",
            "linecolor": "white",
            "ticks": ""
           },
           "bgcolor": "#E5ECF6",
           "radialaxis": {
            "gridcolor": "white",
            "linecolor": "white",
            "ticks": ""
           }
          },
          "scene": {
           "xaxis": {
            "backgroundcolor": "#E5ECF6",
            "gridcolor": "white",
            "gridwidth": 2,
            "linecolor": "white",
            "showbackground": true,
            "ticks": "",
            "zerolinecolor": "white"
           },
           "yaxis": {
            "backgroundcolor": "#E5ECF6",
            "gridcolor": "white",
            "gridwidth": 2,
            "linecolor": "white",
            "showbackground": true,
            "ticks": "",
            "zerolinecolor": "white"
           },
           "zaxis": {
            "backgroundcolor": "#E5ECF6",
            "gridcolor": "white",
            "gridwidth": 2,
            "linecolor": "white",
            "showbackground": true,
            "ticks": "",
            "zerolinecolor": "white"
           }
          },
          "shapedefaults": {
           "line": {
            "color": "#2a3f5f"
           }
          },
          "ternary": {
           "aaxis": {
            "gridcolor": "white",
            "linecolor": "white",
            "ticks": ""
           },
           "baxis": {
            "gridcolor": "white",
            "linecolor": "white",
            "ticks": ""
           },
           "bgcolor": "#E5ECF6",
           "caxis": {
            "gridcolor": "white",
            "linecolor": "white",
            "ticks": ""
           }
          },
          "title": {
           "x": 0.05
          },
          "xaxis": {
           "automargin": true,
           "gridcolor": "white",
           "linecolor": "white",
           "ticks": "",
           "title": {
            "standoff": 15
           },
           "zerolinecolor": "white",
           "zerolinewidth": 2
          },
          "yaxis": {
           "automargin": true,
           "gridcolor": "white",
           "linecolor": "white",
           "ticks": "",
           "title": {
            "standoff": 15
           },
           "zerolinecolor": "white",
           "zerolinewidth": 2
          }
         }
        },
        "title": {
         "text": "Cambio Porcentual en número de IPS por Departamento - 2022"
        },
        "width": 800,
        "xaxis": {
         "anchor": "y",
         "domain": [
          0,
          1
         ],
         "range": [
          -180,
          1400
         ],
         "title": {
          "text": "Número de IPS"
         }
        },
        "yaxis": {
         "anchor": "x",
         "domain": [
          0,
          1
         ],
         "title": {
          "text": "Departamento"
         }
        }
       }
      }
     },
     "metadata": {},
     "output_type": "display_data"
    }
   ],
   "source": [
    "fig = px.bar(data_frame=df_comparison, x='cambio_porcentual', y='departamento', orientation='h')\n",
    "\n",
    "fig.update_xaxes(title_text='Número de IPS')\n",
    "fig.update_xaxes(range=[-180,1400])\n",
    "fig.update_yaxes(title_text='Departamento')\n",
    "fig.update_layout(title='Cambio Porcentual en número de IPS por Departamento - 2022')\n",
    "\n",
    "color_sequence = ['#5B9279' for i in departamentos]\n",
    "fig.update_traces(marker=dict(color=color_sequence))\n",
    "\n",
    "fig.update_traces(text=df_comparison['cambio_porcentual'], textposition='outside')\n",
    "\n",
    "fig.update_layout(width=800, height=700)\n"
   ]
  },
  {
   "cell_type": "code",
   "execution_count": null,
   "metadata": {},
   "outputs": [],
   "source": []
  }
 ],
 "metadata": {
  "kernelspec": {
   "display_name": "env",
   "language": "python",
   "name": "python3"
  },
  "language_info": {
   "codemirror_mode": {
    "name": "ipython",
    "version": 3
   },
   "file_extension": ".py",
   "mimetype": "text/x-python",
   "name": "python",
   "nbconvert_exporter": "python",
   "pygments_lexer": "ipython3",
   "version": "3.10.6"
  },
  "orig_nbformat": 4
 },
 "nbformat": 4,
 "nbformat_minor": 2
}
