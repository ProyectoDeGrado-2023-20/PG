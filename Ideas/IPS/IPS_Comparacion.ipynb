{
 "cells": [
  {
   "cell_type": "code",
   "execution_count": 1,
   "metadata": {},
   "outputs": [],
   "source": [
    "import pandas as pd\n",
    "import numpy as np\n",
    "import plotly.express as px\n",
    "import plotly.graph_objects as go"
   ]
  },
  {
   "cell_type": "code",
   "execution_count": 2,
   "metadata": {},
   "outputs": [
    {
     "name": "stderr",
     "output_type": "stream",
     "text": [
      "C:\\Users\\SGM\\AppData\\Local\\Temp\\ipykernel_17808\\3122532733.py:1: DtypeWarning: Columns (0,2) have mixed types. Specify dtype option on import or set low_memory=False.\n",
      "  df_reps = pd.read_csv('../../Data/REPS.csv')\n"
     ]
    }
   ],
   "source": [
    "df_reps = pd.read_csv('../../Data/REPS.csv')"
   ]
  },
  {
   "cell_type": "code",
   "execution_count": 3,
   "metadata": {},
   "outputs": [],
   "source": [
    "df_reps['codigo_prestador'] = df_reps['CodigoPrestador']\n",
    "df_reps['codigo_habilitacion_sede'] = df_reps['CodigoHabilitacionSede']\n",
    "df_reps.iloc[56503]['CodigoPrestador'], df_reps.iloc[56503]['CodigoHabilitacionSede'], df_reps.iloc[74472]['CodigoPrestador'], df_reps.iloc[74472]['CodigoHabilitacionSede']\n",
    "\n",
    "df_reps.at[56503, 'codigo_prestador'] = df_reps.iloc[56503]['CodigoPrestador'].replace(\" \", \"\")\n",
    "df_reps.at[56503, 'codigo_habilitacion_sede'] = df_reps.iloc[56503]['CodigoHabilitacionSede'].replace(\" \", \"\")\n",
    "df_reps.at[74472, 'codigo_prestador'] = df_reps.iloc[74472]['CodigoPrestador'].replace(\" \", \"\")\n",
    "df_reps.at[74472, 'codigo_habilitacion_sede'] = df_reps.iloc[74472]['CodigoHabilitacionSede'].replace(\" \", \"\")\n",
    "\n",
    "df_reps['codigo_prestador'] = df_reps['codigo_prestador'].astype(np.int64)\n",
    "df_reps['codigo_habilitacion_sede'] = df_reps['codigo_habilitacion_sede'].astype(np.int64)"
   ]
  },
  {
   "cell_type": "code",
   "execution_count": 4,
   "metadata": {},
   "outputs": [],
   "source": [
    "columnas = [\n",
    "    'DepartamentoSedeDesc',\n",
    "    'MunicipioPrestadorDesc',\n",
    "    'MunicipioSedeDesc',\n",
    "    'codigo_prestador',\n",
    "    'codigo_habilitacion_sede',\n",
    "    'NaturalezaJuridica',\n",
    "    'ClasePrestadorDesc'\n",
    "]"
   ]
  },
  {
   "cell_type": "code",
   "execution_count": 5,
   "metadata": {},
   "outputs": [],
   "source": [
    "df_reps = df_reps[columnas]"
   ]
  },
  {
   "cell_type": "code",
   "execution_count": 6,
   "metadata": {},
   "outputs": [],
   "source": [
    "departamentos = [\n",
    "    'Amazonas', 'Antioquia', 'Arauca', 'Atlántico',\n",
    "    'Bogotá D.C', 'Bolívar', 'Boyacá', 'Caldas',\n",
    "    'Caquetá', 'Casanare', 'Cauca', 'Cesar', \n",
    "    'Chocó', 'Córdoba', 'Cundinamarca', 'Guainía', \n",
    "    'Guaviare', 'Huila', 'La Guajira', 'Magdalena',\n",
    "    'Meta', 'Nariño', 'Norte de Santander', 'Putumayo',\n",
    "    'Quindío', 'Risaralda', 'San Andrés y Providencia', 'Santander',\n",
    "    'Sucre', 'Tolima', 'Valle del cauca', 'Vaupés', \n",
    "    'Vichada'\n",
    "    ]\n",
    "\n",
    "distritos_especiales = [\n",
    "    'Barranquilla',\n",
    "    'Buenaventura',\n",
    "    'Cartagena',\n",
    "    'Santa Marta'\n",
    "]\n",
    "\n",
    "distritos_especiales_departamentos = {\n",
    "    'Barranquilla': 'Atlántico',\n",
    "    'Buenaventura': 'Valle del cauca',\n",
    "    'Cartagena': 'Bolívar',\n",
    "    'Santa Marta': 'Magdalena',\n",
    "    'Cali': 'Valle del cauca'\n",
    "}"
   ]
  },
  {
   "cell_type": "code",
   "execution_count": 7,
   "metadata": {},
   "outputs": [],
   "source": [
    "df_reps['Departamento'] = df_reps['DepartamentoSedeDesc'].replace(distritos_especiales_departamentos)"
   ]
  },
  {
   "cell_type": "code",
   "execution_count": 8,
   "metadata": {},
   "outputs": [],
   "source": [
    "df_reps = df_reps[df_reps['ClasePrestadorDesc'] == 'Instituciones Prestadoras de Servicios de Salud - IPS']"
   ]
  },
  {
   "cell_type": "code",
   "execution_count": 9,
   "metadata": {},
   "outputs": [
    {
     "name": "stdout",
     "output_type": "stream",
     "text": [
      "<class 'pandas.core.frame.DataFrame'>\n",
      "Index: 19726 entries, 0 to 76393\n",
      "Data columns (total 8 columns):\n",
      " #   Column                    Non-Null Count  Dtype \n",
      "---  ------                    --------------  ----- \n",
      " 0   DepartamentoSedeDesc      19726 non-null  object\n",
      " 1   MunicipioPrestadorDesc    19726 non-null  object\n",
      " 2   MunicipioSedeDesc         19726 non-null  object\n",
      " 3   codigo_prestador          19726 non-null  int64 \n",
      " 4   codigo_habilitacion_sede  19726 non-null  int64 \n",
      " 5   NaturalezaJuridica        19726 non-null  object\n",
      " 6   ClasePrestadorDesc        19726 non-null  object\n",
      " 7   Departamento              19726 non-null  object\n",
      "dtypes: int64(2), object(6)\n",
      "memory usage: 1.4+ MB\n"
     ]
    }
   ],
   "source": [
    "df_reps.info()"
   ]
  },
  {
   "cell_type": "code",
   "execution_count": 10,
   "metadata": {},
   "outputs": [
    {
     "data": {
      "text/html": [
       "<div>\n",
       "<style scoped>\n",
       "    .dataframe tbody tr th:only-of-type {\n",
       "        vertical-align: middle;\n",
       "    }\n",
       "\n",
       "    .dataframe tbody tr th {\n",
       "        vertical-align: top;\n",
       "    }\n",
       "\n",
       "    .dataframe thead th {\n",
       "        text-align: right;\n",
       "    }\n",
       "</style>\n",
       "<table border=\"1\" class=\"dataframe\">\n",
       "  <thead>\n",
       "    <tr style=\"text-align: right;\">\n",
       "      <th></th>\n",
       "      <th>DepartamentoSedeDesc</th>\n",
       "      <th>MunicipioPrestadorDesc</th>\n",
       "      <th>MunicipioSedeDesc</th>\n",
       "      <th>codigo_prestador</th>\n",
       "      <th>codigo_habilitacion_sede</th>\n",
       "      <th>NaturalezaJuridica</th>\n",
       "      <th>ClasePrestadorDesc</th>\n",
       "      <th>Departamento</th>\n",
       "    </tr>\n",
       "  </thead>\n",
       "  <tbody>\n",
       "    <tr>\n",
       "      <th>0</th>\n",
       "      <td>Amazonas</td>\n",
       "      <td>LETICIA</td>\n",
       "      <td>EL ENCANTO</td>\n",
       "      <td>9100100019</td>\n",
       "      <td>912630001911</td>\n",
       "      <td>Pública</td>\n",
       "      <td>Instituciones Prestadoras de Servicios de Salu...</td>\n",
       "      <td>Amazonas</td>\n",
       "    </tr>\n",
       "    <tr>\n",
       "      <th>1</th>\n",
       "      <td>Amazonas</td>\n",
       "      <td>LETICIA</td>\n",
       "      <td>LA CHORRERA</td>\n",
       "      <td>9100100019</td>\n",
       "      <td>914050001914</td>\n",
       "      <td>Pública</td>\n",
       "      <td>Instituciones Prestadoras de Servicios de Salu...</td>\n",
       "      <td>Amazonas</td>\n",
       "    </tr>\n",
       "    <tr>\n",
       "      <th>2</th>\n",
       "      <td>Amazonas</td>\n",
       "      <td>LETICIA</td>\n",
       "      <td>LA PEDRERA</td>\n",
       "      <td>9100100019</td>\n",
       "      <td>914070001915</td>\n",
       "      <td>Pública</td>\n",
       "      <td>Instituciones Prestadoras de Servicios de Salu...</td>\n",
       "      <td>Amazonas</td>\n",
       "    </tr>\n",
       "    <tr>\n",
       "      <th>3</th>\n",
       "      <td>Amazonas</td>\n",
       "      <td>LETICIA</td>\n",
       "      <td>LA VICTORIA</td>\n",
       "      <td>9100100019</td>\n",
       "      <td>914300001916</td>\n",
       "      <td>Pública</td>\n",
       "      <td>Instituciones Prestadoras de Servicios de Salu...</td>\n",
       "      <td>Amazonas</td>\n",
       "    </tr>\n",
       "    <tr>\n",
       "      <th>5</th>\n",
       "      <td>Amazonas</td>\n",
       "      <td>LETICIA</td>\n",
       "      <td>LETICIA</td>\n",
       "      <td>9100100019</td>\n",
       "      <td>910010001901</td>\n",
       "      <td>Pública</td>\n",
       "      <td>Instituciones Prestadoras de Servicios de Salu...</td>\n",
       "      <td>Amazonas</td>\n",
       "    </tr>\n",
       "  </tbody>\n",
       "</table>\n",
       "</div>"
      ],
      "text/plain": [
       "  DepartamentoSedeDesc MunicipioPrestadorDesc MunicipioSedeDesc  \\\n",
       "0             Amazonas                LETICIA        EL ENCANTO   \n",
       "1             Amazonas                LETICIA       LA CHORRERA   \n",
       "2             Amazonas                LETICIA        LA PEDRERA   \n",
       "3             Amazonas                LETICIA       LA VICTORIA   \n",
       "5             Amazonas                LETICIA           LETICIA   \n",
       "\n",
       "   codigo_prestador  codigo_habilitacion_sede NaturalezaJuridica  \\\n",
       "0        9100100019              912630001911            Pública   \n",
       "1        9100100019              914050001914            Pública   \n",
       "2        9100100019              914070001915            Pública   \n",
       "3        9100100019              914300001916            Pública   \n",
       "5        9100100019              910010001901            Pública   \n",
       "\n",
       "                                  ClasePrestadorDesc Departamento  \n",
       "0  Instituciones Prestadoras de Servicios de Salu...     Amazonas  \n",
       "1  Instituciones Prestadoras de Servicios de Salu...     Amazonas  \n",
       "2  Instituciones Prestadoras de Servicios de Salu...     Amazonas  \n",
       "3  Instituciones Prestadoras de Servicios de Salu...     Amazonas  \n",
       "5  Instituciones Prestadoras de Servicios de Salu...     Amazonas  "
      ]
     },
     "execution_count": 10,
     "metadata": {},
     "output_type": "execute_result"
    }
   ],
   "source": [
    "df_reps.head()"
   ]
  },
  {
   "cell_type": "code",
   "execution_count": 11,
   "metadata": {},
   "outputs": [
    {
     "data": {
      "text/html": [
       "<div>\n",
       "<style scoped>\n",
       "    .dataframe tbody tr th:only-of-type {\n",
       "        vertical-align: middle;\n",
       "    }\n",
       "\n",
       "    .dataframe tbody tr th {\n",
       "        vertical-align: top;\n",
       "    }\n",
       "\n",
       "    .dataframe thead th {\n",
       "        text-align: right;\n",
       "    }\n",
       "</style>\n",
       "<table border=\"1\" class=\"dataframe\">\n",
       "  <thead>\n",
       "    <tr style=\"text-align: right;\">\n",
       "      <th></th>\n",
       "      <th>Departamento</th>\n",
       "      <th>Y2022</th>\n",
       "      <th>Departamento_Upper</th>\n",
       "    </tr>\n",
       "  </thead>\n",
       "  <tbody>\n",
       "    <tr>\n",
       "      <th>32</th>\n",
       "      <td>Vichada</td>\n",
       "      <td>12</td>\n",
       "      <td>VICHADA</td>\n",
       "    </tr>\n",
       "    <tr>\n",
       "      <th>15</th>\n",
       "      <td>Guainía</td>\n",
       "      <td>12</td>\n",
       "      <td>GUAINÍA</td>\n",
       "    </tr>\n",
       "    <tr>\n",
       "      <th>26</th>\n",
       "      <td>San Andrés y Providencia</td>\n",
       "      <td>25</td>\n",
       "      <td>SAN ANDRÉS Y PROVIDENCIA</td>\n",
       "    </tr>\n",
       "    <tr>\n",
       "      <th>0</th>\n",
       "      <td>Amazonas</td>\n",
       "      <td>25</td>\n",
       "      <td>AMAZONAS</td>\n",
       "    </tr>\n",
       "    <tr>\n",
       "      <th>16</th>\n",
       "      <td>Guaviare</td>\n",
       "      <td>34</td>\n",
       "      <td>GUAVIARE</td>\n",
       "    </tr>\n",
       "    <tr>\n",
       "      <th>31</th>\n",
       "      <td>Vaupés</td>\n",
       "      <td>55</td>\n",
       "      <td>VAUPÉS</td>\n",
       "    </tr>\n",
       "    <tr>\n",
       "      <th>8</th>\n",
       "      <td>Caquetá</td>\n",
       "      <td>109</td>\n",
       "      <td>CAQUETÁ</td>\n",
       "    </tr>\n",
       "    <tr>\n",
       "      <th>23</th>\n",
       "      <td>Putumayo</td>\n",
       "      <td>124</td>\n",
       "      <td>PUTUMAYO</td>\n",
       "    </tr>\n",
       "    <tr>\n",
       "      <th>2</th>\n",
       "      <td>Arauca</td>\n",
       "      <td>142</td>\n",
       "      <td>ARAUCA</td>\n",
       "    </tr>\n",
       "    <tr>\n",
       "      <th>9</th>\n",
       "      <td>Casanare</td>\n",
       "      <td>209</td>\n",
       "      <td>CASANARE</td>\n",
       "    </tr>\n",
       "    <tr>\n",
       "      <th>24</th>\n",
       "      <td>Quindío</td>\n",
       "      <td>236</td>\n",
       "      <td>QUINDÍO</td>\n",
       "    </tr>\n",
       "    <tr>\n",
       "      <th>12</th>\n",
       "      <td>Chocó</td>\n",
       "      <td>265</td>\n",
       "      <td>CHOCÓ</td>\n",
       "    </tr>\n",
       "    <tr>\n",
       "      <th>7</th>\n",
       "      <td>Caldas</td>\n",
       "      <td>345</td>\n",
       "      <td>CALDAS</td>\n",
       "    </tr>\n",
       "    <tr>\n",
       "      <th>25</th>\n",
       "      <td>Risaralda</td>\n",
       "      <td>368</td>\n",
       "      <td>RISARALDA</td>\n",
       "    </tr>\n",
       "    <tr>\n",
       "      <th>17</th>\n",
       "      <td>Huila</td>\n",
       "      <td>373</td>\n",
       "      <td>HUILA</td>\n",
       "    </tr>\n",
       "    <tr>\n",
       "      <th>18</th>\n",
       "      <td>La Guajira</td>\n",
       "      <td>427</td>\n",
       "      <td>LA GUAJIRA</td>\n",
       "    </tr>\n",
       "    <tr>\n",
       "      <th>10</th>\n",
       "      <td>Cauca</td>\n",
       "      <td>480</td>\n",
       "      <td>CAUCA</td>\n",
       "    </tr>\n",
       "    <tr>\n",
       "      <th>20</th>\n",
       "      <td>Meta</td>\n",
       "      <td>483</td>\n",
       "      <td>META</td>\n",
       "    </tr>\n",
       "    <tr>\n",
       "      <th>28</th>\n",
       "      <td>Sucre</td>\n",
       "      <td>513</td>\n",
       "      <td>SUCRE</td>\n",
       "    </tr>\n",
       "    <tr>\n",
       "      <th>22</th>\n",
       "      <td>Norte de Santander</td>\n",
       "      <td>518</td>\n",
       "      <td>NORTE DE SANTANDER</td>\n",
       "    </tr>\n",
       "    <tr>\n",
       "      <th>29</th>\n",
       "      <td>Tolima</td>\n",
       "      <td>525</td>\n",
       "      <td>TOLIMA</td>\n",
       "    </tr>\n",
       "    <tr>\n",
       "      <th>6</th>\n",
       "      <td>Boyacá</td>\n",
       "      <td>562</td>\n",
       "      <td>BOYACÁ</td>\n",
       "    </tr>\n",
       "    <tr>\n",
       "      <th>11</th>\n",
       "      <td>Cesar</td>\n",
       "      <td>611</td>\n",
       "      <td>CESAR</td>\n",
       "    </tr>\n",
       "    <tr>\n",
       "      <th>19</th>\n",
       "      <td>Magdalena</td>\n",
       "      <td>693</td>\n",
       "      <td>MAGDALENA</td>\n",
       "    </tr>\n",
       "    <tr>\n",
       "      <th>21</th>\n",
       "      <td>Nariño</td>\n",
       "      <td>800</td>\n",
       "      <td>NARIÑO</td>\n",
       "    </tr>\n",
       "    <tr>\n",
       "      <th>13</th>\n",
       "      <td>Cundinamarca</td>\n",
       "      <td>818</td>\n",
       "      <td>CUNDINAMARCA</td>\n",
       "    </tr>\n",
       "    <tr>\n",
       "      <th>14</th>\n",
       "      <td>Córdoba</td>\n",
       "      <td>821</td>\n",
       "      <td>CÓRDOBA</td>\n",
       "    </tr>\n",
       "    <tr>\n",
       "      <th>5</th>\n",
       "      <td>Bolívar</td>\n",
       "      <td>970</td>\n",
       "      <td>BOLÍVAR</td>\n",
       "    </tr>\n",
       "    <tr>\n",
       "      <th>27</th>\n",
       "      <td>Santander</td>\n",
       "      <td>1048</td>\n",
       "      <td>SANTANDER</td>\n",
       "    </tr>\n",
       "    <tr>\n",
       "      <th>3</th>\n",
       "      <td>Atlántico</td>\n",
       "      <td>1217</td>\n",
       "      <td>ATLÁNTICO</td>\n",
       "    </tr>\n",
       "    <tr>\n",
       "      <th>30</th>\n",
       "      <td>Valle del cauca</td>\n",
       "      <td>1869</td>\n",
       "      <td>VALLE DEL CAUCA</td>\n",
       "    </tr>\n",
       "    <tr>\n",
       "      <th>1</th>\n",
       "      <td>Antioquia</td>\n",
       "      <td>2145</td>\n",
       "      <td>ANTIOQUIA</td>\n",
       "    </tr>\n",
       "    <tr>\n",
       "      <th>4</th>\n",
       "      <td>Bogotá D.C</td>\n",
       "      <td>2892</td>\n",
       "      <td>BOGOTÁ D.C</td>\n",
       "    </tr>\n",
       "  </tbody>\n",
       "</table>\n",
       "</div>"
      ],
      "text/plain": [
       "                Departamento  Y2022        Departamento_Upper\n",
       "32                   Vichada     12                   VICHADA\n",
       "15                   Guainía     12                   GUAINÍA\n",
       "26  San Andrés y Providencia     25  SAN ANDRÉS Y PROVIDENCIA\n",
       "0                   Amazonas     25                  AMAZONAS\n",
       "16                  Guaviare     34                  GUAVIARE\n",
       "31                    Vaupés     55                    VAUPÉS\n",
       "8                    Caquetá    109                   CAQUETÁ\n",
       "23                  Putumayo    124                  PUTUMAYO\n",
       "2                     Arauca    142                    ARAUCA\n",
       "9                   Casanare    209                  CASANARE\n",
       "24                   Quindío    236                   QUINDÍO\n",
       "12                     Chocó    265                     CHOCÓ\n",
       "7                     Caldas    345                    CALDAS\n",
       "25                 Risaralda    368                 RISARALDA\n",
       "17                     Huila    373                     HUILA\n",
       "18                La Guajira    427                LA GUAJIRA\n",
       "10                     Cauca    480                     CAUCA\n",
       "20                      Meta    483                      META\n",
       "28                     Sucre    513                     SUCRE\n",
       "22        Norte de Santander    518        NORTE DE SANTANDER\n",
       "29                    Tolima    525                    TOLIMA\n",
       "6                     Boyacá    562                    BOYACÁ\n",
       "11                     Cesar    611                     CESAR\n",
       "19                 Magdalena    693                 MAGDALENA\n",
       "21                    Nariño    800                    NARIÑO\n",
       "13              Cundinamarca    818              CUNDINAMARCA\n",
       "14                   Córdoba    821                   CÓRDOBA\n",
       "5                    Bolívar    970                   BOLÍVAR\n",
       "27                 Santander   1048                 SANTANDER\n",
       "3                  Atlántico   1217                 ATLÁNTICO\n",
       "30           Valle del cauca   1869           VALLE DEL CAUCA\n",
       "1                  Antioquia   2145                 ANTIOQUIA\n",
       "4                 Bogotá D.C   2892                BOGOTÁ D.C"
      ]
     },
     "execution_count": 11,
     "metadata": {},
     "output_type": "execute_result"
    }
   ],
   "source": [
    "df_num_reps = df_reps.groupby('Departamento').agg(Y2022=('codigo_habilitacion_sede', 'count')).reset_index().sort_values('Y2022', ascending=True)\n",
    "df_num_reps['Departamento_Upper'] = df_num_reps['Departamento'].str.upper()\n",
    "df_num_reps"
   ]
  },
  {
   "cell_type": "code",
   "execution_count": 12,
   "metadata": {},
   "outputs": [],
   "source": [
    "df_num_radiografia = pd.read_csv('../../Data/Datos_Radiografia_Servicios_Salud.csv')"
   ]
  },
  {
   "cell_type": "code",
   "execution_count": 13,
   "metadata": {},
   "outputs": [
    {
     "name": "stdout",
     "output_type": "stream",
     "text": [
      "<class 'pandas.core.frame.DataFrame'>\n",
      "RangeIndex: 33 entries, 0 to 32\n",
      "Data columns (total 2 columns):\n",
      " #   Column        Non-Null Count  Dtype \n",
      "---  ------        --------------  ----- \n",
      " 0   Departamento  33 non-null     object\n",
      " 1   Numero_IPS    33 non-null     int64 \n",
      "dtypes: int64(1), object(1)\n",
      "memory usage: 656.0+ bytes\n"
     ]
    }
   ],
   "source": [
    "df_num_radiografia.info()"
   ]
  },
  {
   "cell_type": "code",
   "execution_count": 14,
   "metadata": {},
   "outputs": [
    {
     "data": {
      "text/html": [
       "<div>\n",
       "<style scoped>\n",
       "    .dataframe tbody tr th:only-of-type {\n",
       "        vertical-align: middle;\n",
       "    }\n",
       "\n",
       "    .dataframe tbody tr th {\n",
       "        vertical-align: top;\n",
       "    }\n",
       "\n",
       "    .dataframe thead th {\n",
       "        text-align: right;\n",
       "    }\n",
       "</style>\n",
       "<table border=\"1\" class=\"dataframe\">\n",
       "  <thead>\n",
       "    <tr style=\"text-align: right;\">\n",
       "      <th></th>\n",
       "      <th>Departamento</th>\n",
       "      <th>Numero_IPS</th>\n",
       "      <th>Departamento_Upper</th>\n",
       "    </tr>\n",
       "  </thead>\n",
       "  <tbody>\n",
       "    <tr>\n",
       "      <th>0</th>\n",
       "      <td>Bogotá D.C</td>\n",
       "      <td>3284</td>\n",
       "      <td>BOGOTÁ D.C</td>\n",
       "    </tr>\n",
       "    <tr>\n",
       "      <th>1</th>\n",
       "      <td>Valle del Cauca</td>\n",
       "      <td>2136</td>\n",
       "      <td>VALLE DEL CAUCA</td>\n",
       "    </tr>\n",
       "    <tr>\n",
       "      <th>2</th>\n",
       "      <td>Antioquia</td>\n",
       "      <td>1945</td>\n",
       "      <td>ANTIOQUIA</td>\n",
       "    </tr>\n",
       "    <tr>\n",
       "      <th>3</th>\n",
       "      <td>Santander</td>\n",
       "      <td>1155</td>\n",
       "      <td>SANTANDER</td>\n",
       "    </tr>\n",
       "    <tr>\n",
       "      <th>4</th>\n",
       "      <td>Atlántico</td>\n",
       "      <td>1028</td>\n",
       "      <td>ATLÁNTICO</td>\n",
       "    </tr>\n",
       "    <tr>\n",
       "      <th>5</th>\n",
       "      <td>Bolívar</td>\n",
       "      <td>861</td>\n",
       "      <td>BOLÍVAR</td>\n",
       "    </tr>\n",
       "    <tr>\n",
       "      <th>6</th>\n",
       "      <td>Cundinamarca</td>\n",
       "      <td>725</td>\n",
       "      <td>CUNDINAMARCA</td>\n",
       "    </tr>\n",
       "    <tr>\n",
       "      <th>7</th>\n",
       "      <td>Nariño</td>\n",
       "      <td>622</td>\n",
       "      <td>NARIÑO</td>\n",
       "    </tr>\n",
       "    <tr>\n",
       "      <th>8</th>\n",
       "      <td>Magdalena</td>\n",
       "      <td>600</td>\n",
       "      <td>MAGDALENA</td>\n",
       "    </tr>\n",
       "    <tr>\n",
       "      <th>9</th>\n",
       "      <td>Córdoba</td>\n",
       "      <td>550</td>\n",
       "      <td>CÓRDOBA</td>\n",
       "    </tr>\n",
       "    <tr>\n",
       "      <th>10</th>\n",
       "      <td>Cesar</td>\n",
       "      <td>528</td>\n",
       "      <td>CESAR</td>\n",
       "    </tr>\n",
       "    <tr>\n",
       "      <th>11</th>\n",
       "      <td>Norte de Santander</td>\n",
       "      <td>517</td>\n",
       "      <td>NORTE DE SANTANDER</td>\n",
       "    </tr>\n",
       "    <tr>\n",
       "      <th>12</th>\n",
       "      <td>Boyacá</td>\n",
       "      <td>508</td>\n",
       "      <td>BOYACÁ</td>\n",
       "    </tr>\n",
       "    <tr>\n",
       "      <th>13</th>\n",
       "      <td>Sucre</td>\n",
       "      <td>501</td>\n",
       "      <td>SUCRE</td>\n",
       "    </tr>\n",
       "    <tr>\n",
       "      <th>14</th>\n",
       "      <td>Tolima</td>\n",
       "      <td>470</td>\n",
       "      <td>TOLIMA</td>\n",
       "    </tr>\n",
       "    <tr>\n",
       "      <th>15</th>\n",
       "      <td>Cauca</td>\n",
       "      <td>430</td>\n",
       "      <td>CAUCA</td>\n",
       "    </tr>\n",
       "    <tr>\n",
       "      <th>16</th>\n",
       "      <td>Caldas</td>\n",
       "      <td>419</td>\n",
       "      <td>CALDAS</td>\n",
       "    </tr>\n",
       "    <tr>\n",
       "      <th>17</th>\n",
       "      <td>Meta</td>\n",
       "      <td>408</td>\n",
       "      <td>META</td>\n",
       "    </tr>\n",
       "    <tr>\n",
       "      <th>18</th>\n",
       "      <td>Huila</td>\n",
       "      <td>369</td>\n",
       "      <td>HUILA</td>\n",
       "    </tr>\n",
       "    <tr>\n",
       "      <th>19</th>\n",
       "      <td>Risaralda</td>\n",
       "      <td>347</td>\n",
       "      <td>RISARALDA</td>\n",
       "    </tr>\n",
       "    <tr>\n",
       "      <th>20</th>\n",
       "      <td>La Guajira</td>\n",
       "      <td>316</td>\n",
       "      <td>LA GUAJIRA</td>\n",
       "    </tr>\n",
       "    <tr>\n",
       "      <th>21</th>\n",
       "      <td>Quindío</td>\n",
       "      <td>253</td>\n",
       "      <td>QUINDÍO</td>\n",
       "    </tr>\n",
       "    <tr>\n",
       "      <th>22</th>\n",
       "      <td>Chocó</td>\n",
       "      <td>231</td>\n",
       "      <td>CHOCÓ</td>\n",
       "    </tr>\n",
       "    <tr>\n",
       "      <th>23</th>\n",
       "      <td>Casanare</td>\n",
       "      <td>210</td>\n",
       "      <td>CASANARE</td>\n",
       "    </tr>\n",
       "    <tr>\n",
       "      <th>24</th>\n",
       "      <td>Putumayo</td>\n",
       "      <td>191</td>\n",
       "      <td>PUTUMAYO</td>\n",
       "    </tr>\n",
       "    <tr>\n",
       "      <th>25</th>\n",
       "      <td>Arauca</td>\n",
       "      <td>133</td>\n",
       "      <td>ARAUCA</td>\n",
       "    </tr>\n",
       "    <tr>\n",
       "      <th>26</th>\n",
       "      <td>Caquetá</td>\n",
       "      <td>108</td>\n",
       "      <td>CAQUETÁ</td>\n",
       "    </tr>\n",
       "    <tr>\n",
       "      <th>27</th>\n",
       "      <td>Vichada</td>\n",
       "      <td>33</td>\n",
       "      <td>VICHADA</td>\n",
       "    </tr>\n",
       "    <tr>\n",
       "      <th>28</th>\n",
       "      <td>Guaviare</td>\n",
       "      <td>27</td>\n",
       "      <td>GUAVIARE</td>\n",
       "    </tr>\n",
       "    <tr>\n",
       "      <th>29</th>\n",
       "      <td>Amazonas</td>\n",
       "      <td>25</td>\n",
       "      <td>AMAZONAS</td>\n",
       "    </tr>\n",
       "    <tr>\n",
       "      <th>30</th>\n",
       "      <td>San Andrés y Providencia</td>\n",
       "      <td>17</td>\n",
       "      <td>SAN ANDRÉS Y PROVIDENCIA</td>\n",
       "    </tr>\n",
       "    <tr>\n",
       "      <th>31</th>\n",
       "      <td>Guainía</td>\n",
       "      <td>8</td>\n",
       "      <td>GUAINÍA</td>\n",
       "    </tr>\n",
       "    <tr>\n",
       "      <th>32</th>\n",
       "      <td>Vaupés</td>\n",
       "      <td>4</td>\n",
       "      <td>VAUPÉS</td>\n",
       "    </tr>\n",
       "  </tbody>\n",
       "</table>\n",
       "</div>"
      ],
      "text/plain": [
       "                Departamento  Numero_IPS        Departamento_Upper\n",
       "0                 Bogotá D.C        3284                BOGOTÁ D.C\n",
       "1            Valle del Cauca        2136           VALLE DEL CAUCA\n",
       "2                  Antioquia        1945                 ANTIOQUIA\n",
       "3                  Santander        1155                 SANTANDER\n",
       "4                  Atlántico        1028                 ATLÁNTICO\n",
       "5                    Bolívar         861                   BOLÍVAR\n",
       "6               Cundinamarca         725              CUNDINAMARCA\n",
       "7                     Nariño         622                    NARIÑO\n",
       "8                  Magdalena         600                 MAGDALENA\n",
       "9                    Córdoba         550                   CÓRDOBA\n",
       "10                     Cesar         528                     CESAR\n",
       "11        Norte de Santander         517        NORTE DE SANTANDER\n",
       "12                    Boyacá         508                    BOYACÁ\n",
       "13                     Sucre         501                     SUCRE\n",
       "14                    Tolima         470                    TOLIMA\n",
       "15                     Cauca         430                     CAUCA\n",
       "16                    Caldas         419                    CALDAS\n",
       "17                      Meta         408                      META\n",
       "18                     Huila         369                     HUILA\n",
       "19                 Risaralda         347                 RISARALDA\n",
       "20                La Guajira         316                LA GUAJIRA\n",
       "21                   Quindío         253                   QUINDÍO\n",
       "22                     Chocó         231                     CHOCÓ\n",
       "23                  Casanare         210                  CASANARE\n",
       "24                  Putumayo         191                  PUTUMAYO\n",
       "25                    Arauca         133                    ARAUCA\n",
       "26                   Caquetá         108                   CAQUETÁ\n",
       "27                   Vichada          33                   VICHADA\n",
       "28                  Guaviare          27                  GUAVIARE\n",
       "29                  Amazonas          25                  AMAZONAS\n",
       "30  San Andrés y Providencia          17  SAN ANDRÉS Y PROVIDENCIA\n",
       "31                   Guainía           8                   GUAINÍA\n",
       "32                    Vaupés           4                    VAUPÉS"
      ]
     },
     "execution_count": 14,
     "metadata": {},
     "output_type": "execute_result"
    }
   ],
   "source": [
    "df_num_radiografia['Departamento_Upper'] = df_num_radiografia['Departamento'].str.upper()\n",
    "df_num_radiografia"
   ]
  },
  {
   "cell_type": "code",
   "execution_count": 15,
   "metadata": {},
   "outputs": [],
   "source": [
    "df_num_caracterizacion = pd.read_csv('../../Data/Datos_Caracterizacion_REPS.csv')"
   ]
  },
  {
   "cell_type": "code",
   "execution_count": 16,
   "metadata": {},
   "outputs": [
    {
     "name": "stdout",
     "output_type": "stream",
     "text": [
      "<class 'pandas.core.frame.DataFrame'>\n",
      "RangeIndex: 33 entries, 0 to 32\n",
      "Data columns (total 5 columns):\n",
      " #   Column         Non-Null Count  Dtype \n",
      "---  ------         --------------  ----- \n",
      " 0   Departamento   33 non-null     object\n",
      " 1   Privada        33 non-null     int64 \n",
      " 2   Pública        33 non-null     int64 \n",
      " 3   Mixta          33 non-null     int64 \n",
      " 4   Total general  33 non-null     int64 \n",
      "dtypes: int64(4), object(1)\n",
      "memory usage: 1.4+ KB\n"
     ]
    }
   ],
   "source": [
    "df_num_caracterizacion.info()"
   ]
  },
  {
   "cell_type": "code",
   "execution_count": 17,
   "metadata": {},
   "outputs": [
    {
     "data": {
      "text/html": [
       "<div>\n",
       "<style scoped>\n",
       "    .dataframe tbody tr th:only-of-type {\n",
       "        vertical-align: middle;\n",
       "    }\n",
       "\n",
       "    .dataframe tbody tr th {\n",
       "        vertical-align: top;\n",
       "    }\n",
       "\n",
       "    .dataframe thead th {\n",
       "        text-align: right;\n",
       "    }\n",
       "</style>\n",
       "<table border=\"1\" class=\"dataframe\">\n",
       "  <thead>\n",
       "    <tr style=\"text-align: right;\">\n",
       "      <th></th>\n",
       "      <th>Departamento</th>\n",
       "      <th>Privada</th>\n",
       "      <th>Pública</th>\n",
       "      <th>Mixta</th>\n",
       "      <th>Total general</th>\n",
       "      <th>Departamento_Upper</th>\n",
       "    </tr>\n",
       "  </thead>\n",
       "  <tbody>\n",
       "    <tr>\n",
       "      <th>0</th>\n",
       "      <td>Amazonas</td>\n",
       "      <td>12</td>\n",
       "      <td>1</td>\n",
       "      <td>0</td>\n",
       "      <td>13</td>\n",
       "      <td>AMAZONAS</td>\n",
       "    </tr>\n",
       "    <tr>\n",
       "      <th>1</th>\n",
       "      <td>Antioquia</td>\n",
       "      <td>808</td>\n",
       "      <td>129</td>\n",
       "      <td>3</td>\n",
       "      <td>940</td>\n",
       "      <td>ANTIOQUIA</td>\n",
       "    </tr>\n",
       "    <tr>\n",
       "      <th>2</th>\n",
       "      <td>Arauca</td>\n",
       "      <td>57</td>\n",
       "      <td>5</td>\n",
       "      <td>1</td>\n",
       "      <td>63</td>\n",
       "      <td>ARAUCA</td>\n",
       "    </tr>\n",
       "    <tr>\n",
       "      <th>3</th>\n",
       "      <td>Atlántico</td>\n",
       "      <td>748</td>\n",
       "      <td>28</td>\n",
       "      <td>2</td>\n",
       "      <td>778</td>\n",
       "      <td>ATLÁNTICO</td>\n",
       "    </tr>\n",
       "    <tr>\n",
       "      <th>4</th>\n",
       "      <td>Bogotá D.C</td>\n",
       "      <td>1639</td>\n",
       "      <td>9</td>\n",
       "      <td>2</td>\n",
       "      <td>1650</td>\n",
       "      <td>BOGOTÁ D.C</td>\n",
       "    </tr>\n",
       "    <tr>\n",
       "      <th>5</th>\n",
       "      <td>Bolívar</td>\n",
       "      <td>457</td>\n",
       "      <td>43</td>\n",
       "      <td>0</td>\n",
       "      <td>500</td>\n",
       "      <td>BOLÍVAR</td>\n",
       "    </tr>\n",
       "    <tr>\n",
       "      <th>6</th>\n",
       "      <td>Boyacá</td>\n",
       "      <td>226</td>\n",
       "      <td>105</td>\n",
       "      <td>0</td>\n",
       "      <td>331</td>\n",
       "      <td>BOYACÁ</td>\n",
       "    </tr>\n",
       "    <tr>\n",
       "      <th>7</th>\n",
       "      <td>Caldas</td>\n",
       "      <td>172</td>\n",
       "      <td>31</td>\n",
       "      <td>1</td>\n",
       "      <td>204</td>\n",
       "      <td>CALDAS</td>\n",
       "    </tr>\n",
       "    <tr>\n",
       "      <th>8</th>\n",
       "      <td>Caquetá</td>\n",
       "      <td>59</td>\n",
       "      <td>6</td>\n",
       "      <td>0</td>\n",
       "      <td>65</td>\n",
       "      <td>CAQUETÁ</td>\n",
       "    </tr>\n",
       "    <tr>\n",
       "      <th>9</th>\n",
       "      <td>Casanare</td>\n",
       "      <td>122</td>\n",
       "      <td>6</td>\n",
       "      <td>0</td>\n",
       "      <td>128</td>\n",
       "      <td>CASANARE</td>\n",
       "    </tr>\n",
       "    <tr>\n",
       "      <th>10</th>\n",
       "      <td>Cauca</td>\n",
       "      <td>193</td>\n",
       "      <td>29</td>\n",
       "      <td>0</td>\n",
       "      <td>222</td>\n",
       "      <td>CAUCA</td>\n",
       "    </tr>\n",
       "    <tr>\n",
       "      <th>11</th>\n",
       "      <td>Cesar</td>\n",
       "      <td>313</td>\n",
       "      <td>29</td>\n",
       "      <td>1</td>\n",
       "      <td>343</td>\n",
       "      <td>CESAR</td>\n",
       "    </tr>\n",
       "    <tr>\n",
       "      <th>12</th>\n",
       "      <td>Chocó</td>\n",
       "      <td>150</td>\n",
       "      <td>4</td>\n",
       "      <td>1</td>\n",
       "      <td>155</td>\n",
       "      <td>CHOCÓ</td>\n",
       "    </tr>\n",
       "    <tr>\n",
       "      <th>13</th>\n",
       "      <td>Córdoba</td>\n",
       "      <td>356</td>\n",
       "      <td>32</td>\n",
       "      <td>0</td>\n",
       "      <td>388</td>\n",
       "      <td>CÓRDOBA</td>\n",
       "    </tr>\n",
       "    <tr>\n",
       "      <th>14</th>\n",
       "      <td>Cundinamarca</td>\n",
       "      <td>254</td>\n",
       "      <td>52</td>\n",
       "      <td>0</td>\n",
       "      <td>306</td>\n",
       "      <td>CUNDINAMARCA</td>\n",
       "    </tr>\n",
       "    <tr>\n",
       "      <th>15</th>\n",
       "      <td>Guainía</td>\n",
       "      <td>6</td>\n",
       "      <td>0</td>\n",
       "      <td>0</td>\n",
       "      <td>6</td>\n",
       "      <td>GUAINÍA</td>\n",
       "    </tr>\n",
       "    <tr>\n",
       "      <th>16</th>\n",
       "      <td>Guaviare</td>\n",
       "      <td>13</td>\n",
       "      <td>2</td>\n",
       "      <td>0</td>\n",
       "      <td>15</td>\n",
       "      <td>GUAVIARE</td>\n",
       "    </tr>\n",
       "    <tr>\n",
       "      <th>17</th>\n",
       "      <td>Huila</td>\n",
       "      <td>179</td>\n",
       "      <td>41</td>\n",
       "      <td>0</td>\n",
       "      <td>220</td>\n",
       "      <td>HUILA</td>\n",
       "    </tr>\n",
       "    <tr>\n",
       "      <th>18</th>\n",
       "      <td>La Guajira</td>\n",
       "      <td>115</td>\n",
       "      <td>47</td>\n",
       "      <td>0</td>\n",
       "      <td>162</td>\n",
       "      <td>LA GUAJIRA</td>\n",
       "    </tr>\n",
       "    <tr>\n",
       "      <th>19</th>\n",
       "      <td>Magdalena</td>\n",
       "      <td>337</td>\n",
       "      <td>36</td>\n",
       "      <td>0</td>\n",
       "      <td>373</td>\n",
       "      <td>MAGDALENA</td>\n",
       "    </tr>\n",
       "    <tr>\n",
       "      <th>20</th>\n",
       "      <td>Meta</td>\n",
       "      <td>230</td>\n",
       "      <td>15</td>\n",
       "      <td>0</td>\n",
       "      <td>245</td>\n",
       "      <td>META</td>\n",
       "    </tr>\n",
       "    <tr>\n",
       "      <th>21</th>\n",
       "      <td>Nariño</td>\n",
       "      <td>224</td>\n",
       "      <td>81</td>\n",
       "      <td>2</td>\n",
       "      <td>307</td>\n",
       "      <td>NARIÑO</td>\n",
       "    </tr>\n",
       "    <tr>\n",
       "      <th>22</th>\n",
       "      <td>Norte de Santander</td>\n",
       "      <td>253</td>\n",
       "      <td>17</td>\n",
       "      <td>0</td>\n",
       "      <td>270</td>\n",
       "      <td>NORTE DE SANTANDER</td>\n",
       "    </tr>\n",
       "    <tr>\n",
       "      <th>23</th>\n",
       "      <td>Putumayo</td>\n",
       "      <td>60</td>\n",
       "      <td>11</td>\n",
       "      <td>0</td>\n",
       "      <td>71</td>\n",
       "      <td>PUTUMAYO</td>\n",
       "    </tr>\n",
       "    <tr>\n",
       "      <th>24</th>\n",
       "      <td>Quindío</td>\n",
       "      <td>143</td>\n",
       "      <td>14</td>\n",
       "      <td>0</td>\n",
       "      <td>157</td>\n",
       "      <td>QUINDÍO</td>\n",
       "    </tr>\n",
       "    <tr>\n",
       "      <th>25</th>\n",
       "      <td>Risaralda</td>\n",
       "      <td>194</td>\n",
       "      <td>16</td>\n",
       "      <td>1</td>\n",
       "      <td>211</td>\n",
       "      <td>RISARALDA</td>\n",
       "    </tr>\n",
       "    <tr>\n",
       "      <th>26</th>\n",
       "      <td>San Andrés y Providencia</td>\n",
       "      <td>13</td>\n",
       "      <td>0</td>\n",
       "      <td>1</td>\n",
       "      <td>14</td>\n",
       "      <td>SAN ANDRÉS Y PROVIDENCIA</td>\n",
       "    </tr>\n",
       "    <tr>\n",
       "      <th>27</th>\n",
       "      <td>Santander</td>\n",
       "      <td>570</td>\n",
       "      <td>85</td>\n",
       "      <td>1</td>\n",
       "      <td>656</td>\n",
       "      <td>SANTANDER</td>\n",
       "    </tr>\n",
       "    <tr>\n",
       "      <th>28</th>\n",
       "      <td>Sucre</td>\n",
       "      <td>262</td>\n",
       "      <td>29</td>\n",
       "      <td>1</td>\n",
       "      <td>292</td>\n",
       "      <td>SUCRE</td>\n",
       "    </tr>\n",
       "    <tr>\n",
       "      <th>29</th>\n",
       "      <td>Tolima</td>\n",
       "      <td>250</td>\n",
       "      <td>52</td>\n",
       "      <td>1</td>\n",
       "      <td>303</td>\n",
       "      <td>TOLIMA</td>\n",
       "    </tr>\n",
       "    <tr>\n",
       "      <th>30</th>\n",
       "      <td>Valle del cauca</td>\n",
       "      <td>910</td>\n",
       "      <td>55</td>\n",
       "      <td>1</td>\n",
       "      <td>966</td>\n",
       "      <td>VALLE DEL CAUCA</td>\n",
       "    </tr>\n",
       "    <tr>\n",
       "      <th>31</th>\n",
       "      <td>Vaupés</td>\n",
       "      <td>1</td>\n",
       "      <td>1</td>\n",
       "      <td>0</td>\n",
       "      <td>2</td>\n",
       "      <td>VAUPÉS</td>\n",
       "    </tr>\n",
       "    <tr>\n",
       "      <th>32</th>\n",
       "      <td>Vichada</td>\n",
       "      <td>7</td>\n",
       "      <td>4</td>\n",
       "      <td>0</td>\n",
       "      <td>11</td>\n",
       "      <td>VICHADA</td>\n",
       "    </tr>\n",
       "  </tbody>\n",
       "</table>\n",
       "</div>"
      ],
      "text/plain": [
       "                Departamento  Privada  Pública  Mixta  Total general  \\\n",
       "0                   Amazonas       12        1      0             13   \n",
       "1                  Antioquia      808      129      3            940   \n",
       "2                     Arauca       57        5      1             63   \n",
       "3                  Atlántico      748       28      2            778   \n",
       "4                 Bogotá D.C     1639        9      2           1650   \n",
       "5                    Bolívar      457       43      0            500   \n",
       "6                     Boyacá      226      105      0            331   \n",
       "7                     Caldas      172       31      1            204   \n",
       "8                    Caquetá       59        6      0             65   \n",
       "9                   Casanare      122        6      0            128   \n",
       "10                     Cauca      193       29      0            222   \n",
       "11                     Cesar      313       29      1            343   \n",
       "12                     Chocó      150        4      1            155   \n",
       "13                   Córdoba      356       32      0            388   \n",
       "14              Cundinamarca      254       52      0            306   \n",
       "15                   Guainía        6        0      0              6   \n",
       "16                  Guaviare       13        2      0             15   \n",
       "17                     Huila      179       41      0            220   \n",
       "18                La Guajira      115       47      0            162   \n",
       "19                 Magdalena      337       36      0            373   \n",
       "20                      Meta      230       15      0            245   \n",
       "21                    Nariño      224       81      2            307   \n",
       "22        Norte de Santander      253       17      0            270   \n",
       "23                  Putumayo       60       11      0             71   \n",
       "24                   Quindío      143       14      0            157   \n",
       "25                 Risaralda      194       16      1            211   \n",
       "26  San Andrés y Providencia       13        0      1             14   \n",
       "27                 Santander      570       85      1            656   \n",
       "28                     Sucre      262       29      1            292   \n",
       "29                    Tolima      250       52      1            303   \n",
       "30           Valle del cauca      910       55      1            966   \n",
       "31                    Vaupés        1        1      0              2   \n",
       "32                   Vichada        7        4      0             11   \n",
       "\n",
       "          Departamento_Upper  \n",
       "0                   AMAZONAS  \n",
       "1                  ANTIOQUIA  \n",
       "2                     ARAUCA  \n",
       "3                  ATLÁNTICO  \n",
       "4                 BOGOTÁ D.C  \n",
       "5                    BOLÍVAR  \n",
       "6                     BOYACÁ  \n",
       "7                     CALDAS  \n",
       "8                    CAQUETÁ  \n",
       "9                   CASANARE  \n",
       "10                     CAUCA  \n",
       "11                     CESAR  \n",
       "12                     CHOCÓ  \n",
       "13                   CÓRDOBA  \n",
       "14              CUNDINAMARCA  \n",
       "15                   GUAINÍA  \n",
       "16                  GUAVIARE  \n",
       "17                     HUILA  \n",
       "18                LA GUAJIRA  \n",
       "19                 MAGDALENA  \n",
       "20                      META  \n",
       "21                    NARIÑO  \n",
       "22        NORTE DE SANTANDER  \n",
       "23                  PUTUMAYO  \n",
       "24                   QUINDÍO  \n",
       "25                 RISARALDA  \n",
       "26  SAN ANDRÉS Y PROVIDENCIA  \n",
       "27                 SANTANDER  \n",
       "28                     SUCRE  \n",
       "29                    TOLIMA  \n",
       "30           VALLE DEL CAUCA  \n",
       "31                    VAUPÉS  \n",
       "32                   VICHADA  "
      ]
     },
     "execution_count": 17,
     "metadata": {},
     "output_type": "execute_result"
    }
   ],
   "source": [
    "df_num_caracterizacion['Departamento_Upper'] = df_num_caracterizacion['Departamento'].str.upper()\n",
    "df_num_caracterizacion"
   ]
  },
  {
   "cell_type": "code",
   "execution_count": 18,
   "metadata": {},
   "outputs": [],
   "source": [
    "df_divipola = pd.read_csv('../../Data/DIVIPOLA_Municipios.csv')"
   ]
  },
  {
   "cell_type": "code",
   "execution_count": 19,
   "metadata": {},
   "outputs": [
    {
     "name": "stdout",
     "output_type": "stream",
     "text": [
      "<class 'pandas.core.frame.DataFrame'>\n",
      "RangeIndex: 1121 entries, 0 to 1120\n",
      "Data columns (total 7 columns):\n",
      " #   Column        Non-Null Count  Dtype  \n",
      "---  ------        --------------  -----  \n",
      " 0   Código_Dep    1121 non-null   int64  \n",
      " 1   Departamento  1121 non-null   object \n",
      " 2   Código_Mun    1121 non-null   int64  \n",
      " 3   Municipio     1121 non-null   object \n",
      " 4   Tipo          1121 non-null   object \n",
      " 5   Latitud       1121 non-null   float64\n",
      " 6   Longitud      1121 non-null   float64\n",
      "dtypes: float64(2), int64(2), object(3)\n",
      "memory usage: 61.4+ KB\n"
     ]
    }
   ],
   "source": [
    "df_divipola.info()"
   ]
  },
  {
   "cell_type": "code",
   "execution_count": 20,
   "metadata": {},
   "outputs": [
    {
     "data": {
      "text/html": [
       "<div>\n",
       "<style scoped>\n",
       "    .dataframe tbody tr th:only-of-type {\n",
       "        vertical-align: middle;\n",
       "    }\n",
       "\n",
       "    .dataframe tbody tr th {\n",
       "        vertical-align: top;\n",
       "    }\n",
       "\n",
       "    .dataframe thead th {\n",
       "        text-align: right;\n",
       "    }\n",
       "</style>\n",
       "<table border=\"1\" class=\"dataframe\">\n",
       "  <thead>\n",
       "    <tr style=\"text-align: right;\">\n",
       "      <th></th>\n",
       "      <th>Código_Dep</th>\n",
       "      <th>Departamento</th>\n",
       "      <th>Código_Mun</th>\n",
       "      <th>Municipio</th>\n",
       "      <th>Tipo</th>\n",
       "      <th>Latitud</th>\n",
       "      <th>Longitud</th>\n",
       "    </tr>\n",
       "  </thead>\n",
       "  <tbody>\n",
       "    <tr>\n",
       "      <th>0</th>\n",
       "      <td>5</td>\n",
       "      <td>ANTIOQUIA</td>\n",
       "      <td>5001</td>\n",
       "      <td>MEDELLÍN</td>\n",
       "      <td>Municipio</td>\n",
       "      <td>6.257590</td>\n",
       "      <td>-75.611031</td>\n",
       "    </tr>\n",
       "    <tr>\n",
       "      <th>1</th>\n",
       "      <td>5</td>\n",
       "      <td>ANTIOQUIA</td>\n",
       "      <td>5002</td>\n",
       "      <td>ABEJORRAL</td>\n",
       "      <td>Municipio</td>\n",
       "      <td>5.803728</td>\n",
       "      <td>-75.438474</td>\n",
       "    </tr>\n",
       "    <tr>\n",
       "      <th>2</th>\n",
       "      <td>5</td>\n",
       "      <td>ANTIOQUIA</td>\n",
       "      <td>5004</td>\n",
       "      <td>ABRIAQUÍ</td>\n",
       "      <td>Municipio</td>\n",
       "      <td>6.627569</td>\n",
       "      <td>-76.085978</td>\n",
       "    </tr>\n",
       "    <tr>\n",
       "      <th>3</th>\n",
       "      <td>5</td>\n",
       "      <td>ANTIOQUIA</td>\n",
       "      <td>5021</td>\n",
       "      <td>ALEJANDRÍA</td>\n",
       "      <td>Municipio</td>\n",
       "      <td>6.365534</td>\n",
       "      <td>-75.090597</td>\n",
       "    </tr>\n",
       "    <tr>\n",
       "      <th>4</th>\n",
       "      <td>5</td>\n",
       "      <td>ANTIOQUIA</td>\n",
       "      <td>5030</td>\n",
       "      <td>AMAGÁ</td>\n",
       "      <td>Municipio</td>\n",
       "      <td>6.032922</td>\n",
       "      <td>-75.708003</td>\n",
       "    </tr>\n",
       "  </tbody>\n",
       "</table>\n",
       "</div>"
      ],
      "text/plain": [
       "   Código_Dep Departamento  Código_Mun   Municipio       Tipo   Latitud  \\\n",
       "0           5    ANTIOQUIA        5001    MEDELLÍN  Municipio  6.257590   \n",
       "1           5    ANTIOQUIA        5002   ABEJORRAL  Municipio  5.803728   \n",
       "2           5    ANTIOQUIA        5004    ABRIAQUÍ  Municipio  6.627569   \n",
       "3           5    ANTIOQUIA        5021  ALEJANDRÍA  Municipio  6.365534   \n",
       "4           5    ANTIOQUIA        5030       AMAGÁ  Municipio  6.032922   \n",
       "\n",
       "    Longitud  \n",
       "0 -75.611031  \n",
       "1 -75.438474  \n",
       "2 -76.085978  \n",
       "3 -75.090597  \n",
       "4 -75.708003  "
      ]
     },
     "execution_count": 20,
     "metadata": {},
     "output_type": "execute_result"
    }
   ],
   "source": [
    "df_divipola.head()"
   ]
  },
  {
   "cell_type": "code",
   "execution_count": 21,
   "metadata": {},
   "outputs": [],
   "source": [
    "df_departamentos = df_divipola[['Código_Dep', 'Departamento']].drop_duplicates().sort_values('Departamento').reset_index(drop=True)"
   ]
  },
  {
   "cell_type": "code",
   "execution_count": 22,
   "metadata": {},
   "outputs": [
    {
     "name": "stdout",
     "output_type": "stream",
     "text": [
      "<class 'pandas.core.frame.DataFrame'>\n",
      "RangeIndex: 33 entries, 0 to 32\n",
      "Data columns (total 2 columns):\n",
      " #   Column        Non-Null Count  Dtype \n",
      "---  ------        --------------  ----- \n",
      " 0   Código_Dep    33 non-null     int64 \n",
      " 1   Departamento  33 non-null     object\n",
      "dtypes: int64(1), object(1)\n",
      "memory usage: 656.0+ bytes\n"
     ]
    }
   ],
   "source": [
    "df_departamentos.info()"
   ]
  },
  {
   "cell_type": "code",
   "execution_count": 23,
   "metadata": {},
   "outputs": [
    {
     "data": {
      "text/html": [
       "<div>\n",
       "<style scoped>\n",
       "    .dataframe tbody tr th:only-of-type {\n",
       "        vertical-align: middle;\n",
       "    }\n",
       "\n",
       "    .dataframe tbody tr th {\n",
       "        vertical-align: top;\n",
       "    }\n",
       "\n",
       "    .dataframe thead th {\n",
       "        text-align: right;\n",
       "    }\n",
       "</style>\n",
       "<table border=\"1\" class=\"dataframe\">\n",
       "  <thead>\n",
       "    <tr style=\"text-align: right;\">\n",
       "      <th></th>\n",
       "      <th>Código_Dep</th>\n",
       "      <th>Departamento</th>\n",
       "    </tr>\n",
       "  </thead>\n",
       "  <tbody>\n",
       "    <tr>\n",
       "      <th>0</th>\n",
       "      <td>91</td>\n",
       "      <td>AMAZONAS</td>\n",
       "    </tr>\n",
       "    <tr>\n",
       "      <th>1</th>\n",
       "      <td>5</td>\n",
       "      <td>ANTIOQUIA</td>\n",
       "    </tr>\n",
       "    <tr>\n",
       "      <th>2</th>\n",
       "      <td>81</td>\n",
       "      <td>ARAUCA</td>\n",
       "    </tr>\n",
       "    <tr>\n",
       "      <th>3</th>\n",
       "      <td>88</td>\n",
       "      <td>ARCHIPIÉLAGO DE SAN ANDRÉS, PROVIDENCIA Y SANT...</td>\n",
       "    </tr>\n",
       "    <tr>\n",
       "      <th>4</th>\n",
       "      <td>8</td>\n",
       "      <td>ATLÁNTICO</td>\n",
       "    </tr>\n",
       "    <tr>\n",
       "      <th>5</th>\n",
       "      <td>11</td>\n",
       "      <td>BOGOTÁ, D.C.</td>\n",
       "    </tr>\n",
       "    <tr>\n",
       "      <th>6</th>\n",
       "      <td>13</td>\n",
       "      <td>BOLÍVAR</td>\n",
       "    </tr>\n",
       "    <tr>\n",
       "      <th>7</th>\n",
       "      <td>15</td>\n",
       "      <td>BOYACÁ</td>\n",
       "    </tr>\n",
       "    <tr>\n",
       "      <th>8</th>\n",
       "      <td>17</td>\n",
       "      <td>CALDAS</td>\n",
       "    </tr>\n",
       "    <tr>\n",
       "      <th>9</th>\n",
       "      <td>18</td>\n",
       "      <td>CAQUETÁ</td>\n",
       "    </tr>\n",
       "    <tr>\n",
       "      <th>10</th>\n",
       "      <td>85</td>\n",
       "      <td>CASANARE</td>\n",
       "    </tr>\n",
       "    <tr>\n",
       "      <th>11</th>\n",
       "      <td>19</td>\n",
       "      <td>CAUCA</td>\n",
       "    </tr>\n",
       "    <tr>\n",
       "      <th>12</th>\n",
       "      <td>20</td>\n",
       "      <td>CESAR</td>\n",
       "    </tr>\n",
       "    <tr>\n",
       "      <th>13</th>\n",
       "      <td>27</td>\n",
       "      <td>CHOCÓ</td>\n",
       "    </tr>\n",
       "    <tr>\n",
       "      <th>14</th>\n",
       "      <td>25</td>\n",
       "      <td>CUNDINAMARCA</td>\n",
       "    </tr>\n",
       "    <tr>\n",
       "      <th>15</th>\n",
       "      <td>23</td>\n",
       "      <td>CÓRDOBA</td>\n",
       "    </tr>\n",
       "    <tr>\n",
       "      <th>16</th>\n",
       "      <td>94</td>\n",
       "      <td>GUAINÍA</td>\n",
       "    </tr>\n",
       "    <tr>\n",
       "      <th>17</th>\n",
       "      <td>95</td>\n",
       "      <td>GUAVIARE</td>\n",
       "    </tr>\n",
       "    <tr>\n",
       "      <th>18</th>\n",
       "      <td>41</td>\n",
       "      <td>HUILA</td>\n",
       "    </tr>\n",
       "    <tr>\n",
       "      <th>19</th>\n",
       "      <td>44</td>\n",
       "      <td>LA GUAJIRA</td>\n",
       "    </tr>\n",
       "    <tr>\n",
       "      <th>20</th>\n",
       "      <td>47</td>\n",
       "      <td>MAGDALENA</td>\n",
       "    </tr>\n",
       "    <tr>\n",
       "      <th>21</th>\n",
       "      <td>50</td>\n",
       "      <td>META</td>\n",
       "    </tr>\n",
       "    <tr>\n",
       "      <th>22</th>\n",
       "      <td>52</td>\n",
       "      <td>NARIÑO</td>\n",
       "    </tr>\n",
       "    <tr>\n",
       "      <th>23</th>\n",
       "      <td>54</td>\n",
       "      <td>NORTE DE SANTANDER</td>\n",
       "    </tr>\n",
       "    <tr>\n",
       "      <th>24</th>\n",
       "      <td>86</td>\n",
       "      <td>PUTUMAYO</td>\n",
       "    </tr>\n",
       "    <tr>\n",
       "      <th>25</th>\n",
       "      <td>63</td>\n",
       "      <td>QUINDÍO</td>\n",
       "    </tr>\n",
       "    <tr>\n",
       "      <th>26</th>\n",
       "      <td>66</td>\n",
       "      <td>RISARALDA</td>\n",
       "    </tr>\n",
       "    <tr>\n",
       "      <th>27</th>\n",
       "      <td>68</td>\n",
       "      <td>SANTANDER</td>\n",
       "    </tr>\n",
       "    <tr>\n",
       "      <th>28</th>\n",
       "      <td>70</td>\n",
       "      <td>SUCRE</td>\n",
       "    </tr>\n",
       "    <tr>\n",
       "      <th>29</th>\n",
       "      <td>73</td>\n",
       "      <td>TOLIMA</td>\n",
       "    </tr>\n",
       "    <tr>\n",
       "      <th>30</th>\n",
       "      <td>76</td>\n",
       "      <td>VALLE DEL CAUCA</td>\n",
       "    </tr>\n",
       "    <tr>\n",
       "      <th>31</th>\n",
       "      <td>97</td>\n",
       "      <td>VAUPÉS</td>\n",
       "    </tr>\n",
       "    <tr>\n",
       "      <th>32</th>\n",
       "      <td>99</td>\n",
       "      <td>VICHADA</td>\n",
       "    </tr>\n",
       "  </tbody>\n",
       "</table>\n",
       "</div>"
      ],
      "text/plain": [
       "    Código_Dep                                       Departamento\n",
       "0           91                                           AMAZONAS\n",
       "1            5                                          ANTIOQUIA\n",
       "2           81                                             ARAUCA\n",
       "3           88  ARCHIPIÉLAGO DE SAN ANDRÉS, PROVIDENCIA Y SANT...\n",
       "4            8                                          ATLÁNTICO\n",
       "5           11                                       BOGOTÁ, D.C.\n",
       "6           13                                            BOLÍVAR\n",
       "7           15                                             BOYACÁ\n",
       "8           17                                             CALDAS\n",
       "9           18                                            CAQUETÁ\n",
       "10          85                                           CASANARE\n",
       "11          19                                              CAUCA\n",
       "12          20                                              CESAR\n",
       "13          27                                              CHOCÓ\n",
       "14          25                                       CUNDINAMARCA\n",
       "15          23                                            CÓRDOBA\n",
       "16          94                                            GUAINÍA\n",
       "17          95                                           GUAVIARE\n",
       "18          41                                              HUILA\n",
       "19          44                                         LA GUAJIRA\n",
       "20          47                                          MAGDALENA\n",
       "21          50                                               META\n",
       "22          52                                             NARIÑO\n",
       "23          54                                 NORTE DE SANTANDER\n",
       "24          86                                           PUTUMAYO\n",
       "25          63                                            QUINDÍO\n",
       "26          66                                          RISARALDA\n",
       "27          68                                          SANTANDER\n",
       "28          70                                              SUCRE\n",
       "29          73                                             TOLIMA\n",
       "30          76                                    VALLE DEL CAUCA\n",
       "31          97                                             VAUPÉS\n",
       "32          99                                            VICHADA"
      ]
     },
     "execution_count": 23,
     "metadata": {},
     "output_type": "execute_result"
    }
   ],
   "source": [
    "df_departamentos"
   ]
  },
  {
   "cell_type": "code",
   "execution_count": 24,
   "metadata": {},
   "outputs": [],
   "source": [
    "df_departamentos.at[3, 'Departamento'] = 'SAN ANDRÉS Y PROVIDENCIA'\n",
    "df_departamentos.at[5, 'Departamento'] = 'BOGOTÁ D.C'\n",
    "df_departamentos = df_departamentos.sort_values('Departamento')"
   ]
  },
  {
   "cell_type": "code",
   "execution_count": 25,
   "metadata": {},
   "outputs": [
    {
     "data": {
      "text/html": [
       "<div>\n",
       "<style scoped>\n",
       "    .dataframe tbody tr th:only-of-type {\n",
       "        vertical-align: middle;\n",
       "    }\n",
       "\n",
       "    .dataframe tbody tr th {\n",
       "        vertical-align: top;\n",
       "    }\n",
       "\n",
       "    .dataframe thead th {\n",
       "        text-align: right;\n",
       "    }\n",
       "</style>\n",
       "<table border=\"1\" class=\"dataframe\">\n",
       "  <thead>\n",
       "    <tr style=\"text-align: right;\">\n",
       "      <th></th>\n",
       "      <th>Código_Dep</th>\n",
       "      <th>Departamento</th>\n",
       "    </tr>\n",
       "  </thead>\n",
       "  <tbody>\n",
       "    <tr>\n",
       "      <th>0</th>\n",
       "      <td>91</td>\n",
       "      <td>AMAZONAS</td>\n",
       "    </tr>\n",
       "    <tr>\n",
       "      <th>1</th>\n",
       "      <td>5</td>\n",
       "      <td>ANTIOQUIA</td>\n",
       "    </tr>\n",
       "    <tr>\n",
       "      <th>2</th>\n",
       "      <td>81</td>\n",
       "      <td>ARAUCA</td>\n",
       "    </tr>\n",
       "    <tr>\n",
       "      <th>4</th>\n",
       "      <td>8</td>\n",
       "      <td>ATLÁNTICO</td>\n",
       "    </tr>\n",
       "    <tr>\n",
       "      <th>5</th>\n",
       "      <td>11</td>\n",
       "      <td>BOGOTÁ D.C</td>\n",
       "    </tr>\n",
       "    <tr>\n",
       "      <th>6</th>\n",
       "      <td>13</td>\n",
       "      <td>BOLÍVAR</td>\n",
       "    </tr>\n",
       "    <tr>\n",
       "      <th>7</th>\n",
       "      <td>15</td>\n",
       "      <td>BOYACÁ</td>\n",
       "    </tr>\n",
       "    <tr>\n",
       "      <th>8</th>\n",
       "      <td>17</td>\n",
       "      <td>CALDAS</td>\n",
       "    </tr>\n",
       "    <tr>\n",
       "      <th>9</th>\n",
       "      <td>18</td>\n",
       "      <td>CAQUETÁ</td>\n",
       "    </tr>\n",
       "    <tr>\n",
       "      <th>10</th>\n",
       "      <td>85</td>\n",
       "      <td>CASANARE</td>\n",
       "    </tr>\n",
       "    <tr>\n",
       "      <th>11</th>\n",
       "      <td>19</td>\n",
       "      <td>CAUCA</td>\n",
       "    </tr>\n",
       "    <tr>\n",
       "      <th>12</th>\n",
       "      <td>20</td>\n",
       "      <td>CESAR</td>\n",
       "    </tr>\n",
       "    <tr>\n",
       "      <th>13</th>\n",
       "      <td>27</td>\n",
       "      <td>CHOCÓ</td>\n",
       "    </tr>\n",
       "    <tr>\n",
       "      <th>14</th>\n",
       "      <td>25</td>\n",
       "      <td>CUNDINAMARCA</td>\n",
       "    </tr>\n",
       "    <tr>\n",
       "      <th>15</th>\n",
       "      <td>23</td>\n",
       "      <td>CÓRDOBA</td>\n",
       "    </tr>\n",
       "    <tr>\n",
       "      <th>16</th>\n",
       "      <td>94</td>\n",
       "      <td>GUAINÍA</td>\n",
       "    </tr>\n",
       "    <tr>\n",
       "      <th>17</th>\n",
       "      <td>95</td>\n",
       "      <td>GUAVIARE</td>\n",
       "    </tr>\n",
       "    <tr>\n",
       "      <th>18</th>\n",
       "      <td>41</td>\n",
       "      <td>HUILA</td>\n",
       "    </tr>\n",
       "    <tr>\n",
       "      <th>19</th>\n",
       "      <td>44</td>\n",
       "      <td>LA GUAJIRA</td>\n",
       "    </tr>\n",
       "    <tr>\n",
       "      <th>20</th>\n",
       "      <td>47</td>\n",
       "      <td>MAGDALENA</td>\n",
       "    </tr>\n",
       "    <tr>\n",
       "      <th>21</th>\n",
       "      <td>50</td>\n",
       "      <td>META</td>\n",
       "    </tr>\n",
       "    <tr>\n",
       "      <th>22</th>\n",
       "      <td>52</td>\n",
       "      <td>NARIÑO</td>\n",
       "    </tr>\n",
       "    <tr>\n",
       "      <th>23</th>\n",
       "      <td>54</td>\n",
       "      <td>NORTE DE SANTANDER</td>\n",
       "    </tr>\n",
       "    <tr>\n",
       "      <th>24</th>\n",
       "      <td>86</td>\n",
       "      <td>PUTUMAYO</td>\n",
       "    </tr>\n",
       "    <tr>\n",
       "      <th>25</th>\n",
       "      <td>63</td>\n",
       "      <td>QUINDÍO</td>\n",
       "    </tr>\n",
       "    <tr>\n",
       "      <th>26</th>\n",
       "      <td>66</td>\n",
       "      <td>RISARALDA</td>\n",
       "    </tr>\n",
       "    <tr>\n",
       "      <th>3</th>\n",
       "      <td>88</td>\n",
       "      <td>SAN ANDRÉS Y PROVIDENCIA</td>\n",
       "    </tr>\n",
       "    <tr>\n",
       "      <th>27</th>\n",
       "      <td>68</td>\n",
       "      <td>SANTANDER</td>\n",
       "    </tr>\n",
       "    <tr>\n",
       "      <th>28</th>\n",
       "      <td>70</td>\n",
       "      <td>SUCRE</td>\n",
       "    </tr>\n",
       "    <tr>\n",
       "      <th>29</th>\n",
       "      <td>73</td>\n",
       "      <td>TOLIMA</td>\n",
       "    </tr>\n",
       "    <tr>\n",
       "      <th>30</th>\n",
       "      <td>76</td>\n",
       "      <td>VALLE DEL CAUCA</td>\n",
       "    </tr>\n",
       "    <tr>\n",
       "      <th>31</th>\n",
       "      <td>97</td>\n",
       "      <td>VAUPÉS</td>\n",
       "    </tr>\n",
       "    <tr>\n",
       "      <th>32</th>\n",
       "      <td>99</td>\n",
       "      <td>VICHADA</td>\n",
       "    </tr>\n",
       "  </tbody>\n",
       "</table>\n",
       "</div>"
      ],
      "text/plain": [
       "    Código_Dep              Departamento\n",
       "0           91                  AMAZONAS\n",
       "1            5                 ANTIOQUIA\n",
       "2           81                    ARAUCA\n",
       "4            8                 ATLÁNTICO\n",
       "5           11                BOGOTÁ D.C\n",
       "6           13                   BOLÍVAR\n",
       "7           15                    BOYACÁ\n",
       "8           17                    CALDAS\n",
       "9           18                   CAQUETÁ\n",
       "10          85                  CASANARE\n",
       "11          19                     CAUCA\n",
       "12          20                     CESAR\n",
       "13          27                     CHOCÓ\n",
       "14          25              CUNDINAMARCA\n",
       "15          23                   CÓRDOBA\n",
       "16          94                   GUAINÍA\n",
       "17          95                  GUAVIARE\n",
       "18          41                     HUILA\n",
       "19          44                LA GUAJIRA\n",
       "20          47                 MAGDALENA\n",
       "21          50                      META\n",
       "22          52                    NARIÑO\n",
       "23          54        NORTE DE SANTANDER\n",
       "24          86                  PUTUMAYO\n",
       "25          63                   QUINDÍO\n",
       "26          66                 RISARALDA\n",
       "3           88  SAN ANDRÉS Y PROVIDENCIA\n",
       "27          68                 SANTANDER\n",
       "28          70                     SUCRE\n",
       "29          73                    TOLIMA\n",
       "30          76           VALLE DEL CAUCA\n",
       "31          97                    VAUPÉS\n",
       "32          99                   VICHADA"
      ]
     },
     "execution_count": 25,
     "metadata": {},
     "output_type": "execute_result"
    }
   ],
   "source": [
    "df_departamentos"
   ]
  },
  {
   "cell_type": "code",
   "execution_count": 26,
   "metadata": {},
   "outputs": [],
   "source": [
    "df_comparacion = pd.merge(pd.merge(pd.merge(df_num_radiografia, df_num_caracterizacion, how='inner', on='Departamento_Upper'), df_num_reps, how='inner', on='Departamento_Upper'), df_departamentos, how='inner', left_on='Departamento_Upper', right_on='Departamento', suffixes=['_a', '_b'])"
   ]
  },
  {
   "cell_type": "code",
   "execution_count": 27,
   "metadata": {},
   "outputs": [
    {
     "name": "stdout",
     "output_type": "stream",
     "text": [
      "<class 'pandas.core.frame.DataFrame'>\n",
      "RangeIndex: 33 entries, 0 to 32\n",
      "Data columns (total 12 columns):\n",
      " #   Column              Non-Null Count  Dtype \n",
      "---  ------              --------------  ----- \n",
      " 0   Departamento_x      33 non-null     object\n",
      " 1   Numero_IPS          33 non-null     int64 \n",
      " 2   Departamento_Upper  33 non-null     object\n",
      " 3   Departamento_y      33 non-null     object\n",
      " 4   Privada             33 non-null     int64 \n",
      " 5   Pública             33 non-null     int64 \n",
      " 6   Mixta               33 non-null     int64 \n",
      " 7   Total general       33 non-null     int64 \n",
      " 8   Departamento_a      33 non-null     object\n",
      " 9   Y2022               33 non-null     int64 \n",
      " 10  Código_Dep          33 non-null     int64 \n",
      " 11  Departamento_b      33 non-null     object\n",
      "dtypes: int64(7), object(5)\n",
      "memory usage: 3.2+ KB\n"
     ]
    }
   ],
   "source": [
    "df_comparacion.info()"
   ]
  },
  {
   "cell_type": "code",
   "execution_count": 28,
   "metadata": {},
   "outputs": [],
   "source": [
    "df_comparacion['Departamento'] = df_comparacion['Departamento_x']\n",
    "df_comparacion['2013'] = df_comparacion['Numero_IPS']\n",
    "df_comparacion['2016'] = df_comparacion['Total general']\n",
    "df_comparacion['2022'] = df_comparacion['Y2022']\n",
    "\n",
    "columnas = ['Departamento', '2013', '2016', '2022']\n",
    "\n",
    "df_comparacion = df_comparacion[columnas]"
   ]
  },
  {
   "cell_type": "code",
   "execution_count": 29,
   "metadata": {},
   "outputs": [
    {
     "data": {
      "text/html": [
       "<div>\n",
       "<style scoped>\n",
       "    .dataframe tbody tr th:only-of-type {\n",
       "        vertical-align: middle;\n",
       "    }\n",
       "\n",
       "    .dataframe tbody tr th {\n",
       "        vertical-align: top;\n",
       "    }\n",
       "\n",
       "    .dataframe thead th {\n",
       "        text-align: right;\n",
       "    }\n",
       "</style>\n",
       "<table border=\"1\" class=\"dataframe\">\n",
       "  <thead>\n",
       "    <tr style=\"text-align: right;\">\n",
       "      <th></th>\n",
       "      <th>Departamento</th>\n",
       "      <th>2013</th>\n",
       "      <th>2016</th>\n",
       "      <th>2022</th>\n",
       "    </tr>\n",
       "  </thead>\n",
       "  <tbody>\n",
       "    <tr>\n",
       "      <th>0</th>\n",
       "      <td>Bogotá D.C</td>\n",
       "      <td>3284</td>\n",
       "      <td>1650</td>\n",
       "      <td>2892</td>\n",
       "    </tr>\n",
       "    <tr>\n",
       "      <th>1</th>\n",
       "      <td>Valle del Cauca</td>\n",
       "      <td>2136</td>\n",
       "      <td>966</td>\n",
       "      <td>1869</td>\n",
       "    </tr>\n",
       "    <tr>\n",
       "      <th>2</th>\n",
       "      <td>Antioquia</td>\n",
       "      <td>1945</td>\n",
       "      <td>940</td>\n",
       "      <td>2145</td>\n",
       "    </tr>\n",
       "    <tr>\n",
       "      <th>3</th>\n",
       "      <td>Santander</td>\n",
       "      <td>1155</td>\n",
       "      <td>656</td>\n",
       "      <td>1048</td>\n",
       "    </tr>\n",
       "    <tr>\n",
       "      <th>4</th>\n",
       "      <td>Atlántico</td>\n",
       "      <td>1028</td>\n",
       "      <td>778</td>\n",
       "      <td>1217</td>\n",
       "    </tr>\n",
       "    <tr>\n",
       "      <th>5</th>\n",
       "      <td>Bolívar</td>\n",
       "      <td>861</td>\n",
       "      <td>500</td>\n",
       "      <td>970</td>\n",
       "    </tr>\n",
       "    <tr>\n",
       "      <th>6</th>\n",
       "      <td>Cundinamarca</td>\n",
       "      <td>725</td>\n",
       "      <td>306</td>\n",
       "      <td>818</td>\n",
       "    </tr>\n",
       "    <tr>\n",
       "      <th>7</th>\n",
       "      <td>Nariño</td>\n",
       "      <td>622</td>\n",
       "      <td>307</td>\n",
       "      <td>800</td>\n",
       "    </tr>\n",
       "    <tr>\n",
       "      <th>8</th>\n",
       "      <td>Magdalena</td>\n",
       "      <td>600</td>\n",
       "      <td>373</td>\n",
       "      <td>693</td>\n",
       "    </tr>\n",
       "    <tr>\n",
       "      <th>9</th>\n",
       "      <td>Córdoba</td>\n",
       "      <td>550</td>\n",
       "      <td>388</td>\n",
       "      <td>821</td>\n",
       "    </tr>\n",
       "    <tr>\n",
       "      <th>10</th>\n",
       "      <td>Cesar</td>\n",
       "      <td>528</td>\n",
       "      <td>343</td>\n",
       "      <td>611</td>\n",
       "    </tr>\n",
       "    <tr>\n",
       "      <th>11</th>\n",
       "      <td>Norte de Santander</td>\n",
       "      <td>517</td>\n",
       "      <td>270</td>\n",
       "      <td>518</td>\n",
       "    </tr>\n",
       "    <tr>\n",
       "      <th>12</th>\n",
       "      <td>Boyacá</td>\n",
       "      <td>508</td>\n",
       "      <td>331</td>\n",
       "      <td>562</td>\n",
       "    </tr>\n",
       "    <tr>\n",
       "      <th>13</th>\n",
       "      <td>Sucre</td>\n",
       "      <td>501</td>\n",
       "      <td>292</td>\n",
       "      <td>513</td>\n",
       "    </tr>\n",
       "    <tr>\n",
       "      <th>14</th>\n",
       "      <td>Tolima</td>\n",
       "      <td>470</td>\n",
       "      <td>303</td>\n",
       "      <td>525</td>\n",
       "    </tr>\n",
       "    <tr>\n",
       "      <th>15</th>\n",
       "      <td>Cauca</td>\n",
       "      <td>430</td>\n",
       "      <td>222</td>\n",
       "      <td>480</td>\n",
       "    </tr>\n",
       "    <tr>\n",
       "      <th>16</th>\n",
       "      <td>Caldas</td>\n",
       "      <td>419</td>\n",
       "      <td>204</td>\n",
       "      <td>345</td>\n",
       "    </tr>\n",
       "    <tr>\n",
       "      <th>17</th>\n",
       "      <td>Meta</td>\n",
       "      <td>408</td>\n",
       "      <td>245</td>\n",
       "      <td>483</td>\n",
       "    </tr>\n",
       "    <tr>\n",
       "      <th>18</th>\n",
       "      <td>Huila</td>\n",
       "      <td>369</td>\n",
       "      <td>220</td>\n",
       "      <td>373</td>\n",
       "    </tr>\n",
       "    <tr>\n",
       "      <th>19</th>\n",
       "      <td>Risaralda</td>\n",
       "      <td>347</td>\n",
       "      <td>211</td>\n",
       "      <td>368</td>\n",
       "    </tr>\n",
       "    <tr>\n",
       "      <th>20</th>\n",
       "      <td>La Guajira</td>\n",
       "      <td>316</td>\n",
       "      <td>162</td>\n",
       "      <td>427</td>\n",
       "    </tr>\n",
       "    <tr>\n",
       "      <th>21</th>\n",
       "      <td>Quindío</td>\n",
       "      <td>253</td>\n",
       "      <td>157</td>\n",
       "      <td>236</td>\n",
       "    </tr>\n",
       "    <tr>\n",
       "      <th>22</th>\n",
       "      <td>Chocó</td>\n",
       "      <td>231</td>\n",
       "      <td>155</td>\n",
       "      <td>265</td>\n",
       "    </tr>\n",
       "    <tr>\n",
       "      <th>23</th>\n",
       "      <td>Casanare</td>\n",
       "      <td>210</td>\n",
       "      <td>128</td>\n",
       "      <td>209</td>\n",
       "    </tr>\n",
       "    <tr>\n",
       "      <th>24</th>\n",
       "      <td>Putumayo</td>\n",
       "      <td>191</td>\n",
       "      <td>71</td>\n",
       "      <td>124</td>\n",
       "    </tr>\n",
       "    <tr>\n",
       "      <th>25</th>\n",
       "      <td>Arauca</td>\n",
       "      <td>133</td>\n",
       "      <td>63</td>\n",
       "      <td>142</td>\n",
       "    </tr>\n",
       "    <tr>\n",
       "      <th>26</th>\n",
       "      <td>Caquetá</td>\n",
       "      <td>108</td>\n",
       "      <td>65</td>\n",
       "      <td>109</td>\n",
       "    </tr>\n",
       "    <tr>\n",
       "      <th>27</th>\n",
       "      <td>Vichada</td>\n",
       "      <td>33</td>\n",
       "      <td>11</td>\n",
       "      <td>12</td>\n",
       "    </tr>\n",
       "    <tr>\n",
       "      <th>28</th>\n",
       "      <td>Guaviare</td>\n",
       "      <td>27</td>\n",
       "      <td>15</td>\n",
       "      <td>34</td>\n",
       "    </tr>\n",
       "    <tr>\n",
       "      <th>29</th>\n",
       "      <td>Amazonas</td>\n",
       "      <td>25</td>\n",
       "      <td>13</td>\n",
       "      <td>25</td>\n",
       "    </tr>\n",
       "    <tr>\n",
       "      <th>30</th>\n",
       "      <td>San Andrés y Providencia</td>\n",
       "      <td>17</td>\n",
       "      <td>14</td>\n",
       "      <td>25</td>\n",
       "    </tr>\n",
       "    <tr>\n",
       "      <th>31</th>\n",
       "      <td>Guainía</td>\n",
       "      <td>8</td>\n",
       "      <td>6</td>\n",
       "      <td>12</td>\n",
       "    </tr>\n",
       "    <tr>\n",
       "      <th>32</th>\n",
       "      <td>Vaupés</td>\n",
       "      <td>4</td>\n",
       "      <td>2</td>\n",
       "      <td>55</td>\n",
       "    </tr>\n",
       "  </tbody>\n",
       "</table>\n",
       "</div>"
      ],
      "text/plain": [
       "                Departamento  2013  2016  2022\n",
       "0                 Bogotá D.C  3284  1650  2892\n",
       "1            Valle del Cauca  2136   966  1869\n",
       "2                  Antioquia  1945   940  2145\n",
       "3                  Santander  1155   656  1048\n",
       "4                  Atlántico  1028   778  1217\n",
       "5                    Bolívar   861   500   970\n",
       "6               Cundinamarca   725   306   818\n",
       "7                     Nariño   622   307   800\n",
       "8                  Magdalena   600   373   693\n",
       "9                    Córdoba   550   388   821\n",
       "10                     Cesar   528   343   611\n",
       "11        Norte de Santander   517   270   518\n",
       "12                    Boyacá   508   331   562\n",
       "13                     Sucre   501   292   513\n",
       "14                    Tolima   470   303   525\n",
       "15                     Cauca   430   222   480\n",
       "16                    Caldas   419   204   345\n",
       "17                      Meta   408   245   483\n",
       "18                     Huila   369   220   373\n",
       "19                 Risaralda   347   211   368\n",
       "20                La Guajira   316   162   427\n",
       "21                   Quindío   253   157   236\n",
       "22                     Chocó   231   155   265\n",
       "23                  Casanare   210   128   209\n",
       "24                  Putumayo   191    71   124\n",
       "25                    Arauca   133    63   142\n",
       "26                   Caquetá   108    65   109\n",
       "27                   Vichada    33    11    12\n",
       "28                  Guaviare    27    15    34\n",
       "29                  Amazonas    25    13    25\n",
       "30  San Andrés y Providencia    17    14    25\n",
       "31                   Guainía     8     6    12\n",
       "32                    Vaupés     4     2    55"
      ]
     },
     "execution_count": 29,
     "metadata": {},
     "output_type": "execute_result"
    }
   ],
   "source": [
    "df_comparacion"
   ]
  },
  {
   "cell_type": "code",
   "execution_count": 51,
   "metadata": {},
   "outputs": [],
   "source": [
    "df_graph = df_comparacion.transpose().reset_index()"
   ]
  },
  {
   "cell_type": "code",
   "execution_count": 52,
   "metadata": {},
   "outputs": [
    {
     "data": {
      "text/html": [
       "<div>\n",
       "<style scoped>\n",
       "    .dataframe tbody tr th:only-of-type {\n",
       "        vertical-align: middle;\n",
       "    }\n",
       "\n",
       "    .dataframe tbody tr th {\n",
       "        vertical-align: top;\n",
       "    }\n",
       "\n",
       "    .dataframe thead th {\n",
       "        text-align: right;\n",
       "    }\n",
       "</style>\n",
       "<table border=\"1\" class=\"dataframe\">\n",
       "  <thead>\n",
       "    <tr style=\"text-align: right;\">\n",
       "      <th></th>\n",
       "      <th>index</th>\n",
       "      <th>0</th>\n",
       "      <th>1</th>\n",
       "      <th>2</th>\n",
       "      <th>3</th>\n",
       "      <th>4</th>\n",
       "      <th>5</th>\n",
       "      <th>6</th>\n",
       "      <th>7</th>\n",
       "      <th>8</th>\n",
       "      <th>...</th>\n",
       "      <th>23</th>\n",
       "      <th>24</th>\n",
       "      <th>25</th>\n",
       "      <th>26</th>\n",
       "      <th>27</th>\n",
       "      <th>28</th>\n",
       "      <th>29</th>\n",
       "      <th>30</th>\n",
       "      <th>31</th>\n",
       "      <th>32</th>\n",
       "    </tr>\n",
       "  </thead>\n",
       "  <tbody>\n",
       "    <tr>\n",
       "      <th>0</th>\n",
       "      <td>Departamento</td>\n",
       "      <td>Bogotá D.C</td>\n",
       "      <td>Valle del Cauca</td>\n",
       "      <td>Antioquia</td>\n",
       "      <td>Santander</td>\n",
       "      <td>Atlántico</td>\n",
       "      <td>Bolívar</td>\n",
       "      <td>Cundinamarca</td>\n",
       "      <td>Nariño</td>\n",
       "      <td>Magdalena</td>\n",
       "      <td>...</td>\n",
       "      <td>Casanare</td>\n",
       "      <td>Putumayo</td>\n",
       "      <td>Arauca</td>\n",
       "      <td>Caquetá</td>\n",
       "      <td>Vichada</td>\n",
       "      <td>Guaviare</td>\n",
       "      <td>Amazonas</td>\n",
       "      <td>San Andrés y Providencia</td>\n",
       "      <td>Guainía</td>\n",
       "      <td>Vaupés</td>\n",
       "    </tr>\n",
       "    <tr>\n",
       "      <th>1</th>\n",
       "      <td>2013</td>\n",
       "      <td>3284</td>\n",
       "      <td>2136</td>\n",
       "      <td>1945</td>\n",
       "      <td>1155</td>\n",
       "      <td>1028</td>\n",
       "      <td>861</td>\n",
       "      <td>725</td>\n",
       "      <td>622</td>\n",
       "      <td>600</td>\n",
       "      <td>...</td>\n",
       "      <td>210</td>\n",
       "      <td>191</td>\n",
       "      <td>133</td>\n",
       "      <td>108</td>\n",
       "      <td>33</td>\n",
       "      <td>27</td>\n",
       "      <td>25</td>\n",
       "      <td>17</td>\n",
       "      <td>8</td>\n",
       "      <td>4</td>\n",
       "    </tr>\n",
       "    <tr>\n",
       "      <th>2</th>\n",
       "      <td>2016</td>\n",
       "      <td>1650</td>\n",
       "      <td>966</td>\n",
       "      <td>940</td>\n",
       "      <td>656</td>\n",
       "      <td>778</td>\n",
       "      <td>500</td>\n",
       "      <td>306</td>\n",
       "      <td>307</td>\n",
       "      <td>373</td>\n",
       "      <td>...</td>\n",
       "      <td>128</td>\n",
       "      <td>71</td>\n",
       "      <td>63</td>\n",
       "      <td>65</td>\n",
       "      <td>11</td>\n",
       "      <td>15</td>\n",
       "      <td>13</td>\n",
       "      <td>14</td>\n",
       "      <td>6</td>\n",
       "      <td>2</td>\n",
       "    </tr>\n",
       "    <tr>\n",
       "      <th>3</th>\n",
       "      <td>2022</td>\n",
       "      <td>2892</td>\n",
       "      <td>1869</td>\n",
       "      <td>2145</td>\n",
       "      <td>1048</td>\n",
       "      <td>1217</td>\n",
       "      <td>970</td>\n",
       "      <td>818</td>\n",
       "      <td>800</td>\n",
       "      <td>693</td>\n",
       "      <td>...</td>\n",
       "      <td>209</td>\n",
       "      <td>124</td>\n",
       "      <td>142</td>\n",
       "      <td>109</td>\n",
       "      <td>12</td>\n",
       "      <td>34</td>\n",
       "      <td>25</td>\n",
       "      <td>25</td>\n",
       "      <td>12</td>\n",
       "      <td>55</td>\n",
       "    </tr>\n",
       "  </tbody>\n",
       "</table>\n",
       "<p>4 rows × 34 columns</p>\n",
       "</div>"
      ],
      "text/plain": [
       "          index           0                1          2          3          4  \\\n",
       "0  Departamento  Bogotá D.C  Valle del Cauca  Antioquia  Santander  Atlántico   \n",
       "1          2013        3284             2136       1945       1155       1028   \n",
       "2          2016        1650              966        940        656        778   \n",
       "3          2022        2892             1869       2145       1048       1217   \n",
       "\n",
       "         5             6       7          8  ...        23        24      25  \\\n",
       "0  Bolívar  Cundinamarca  Nariño  Magdalena  ...  Casanare  Putumayo  Arauca   \n",
       "1      861           725     622        600  ...       210       191     133   \n",
       "2      500           306     307        373  ...       128        71      63   \n",
       "3      970           818     800        693  ...       209       124     142   \n",
       "\n",
       "        26       27        28        29                        30       31  \\\n",
       "0  Caquetá  Vichada  Guaviare  Amazonas  San Andrés y Providencia  Guainía   \n",
       "1      108       33        27        25                        17        8   \n",
       "2       65       11        15        13                        14        6   \n",
       "3      109       12        34        25                        25       12   \n",
       "\n",
       "       32  \n",
       "0  Vaupés  \n",
       "1       4  \n",
       "2       2  \n",
       "3      55  \n",
       "\n",
       "[4 rows x 34 columns]"
      ]
     },
     "execution_count": 52,
     "metadata": {},
     "output_type": "execute_result"
    }
   ],
   "source": [
    "df_graph"
   ]
  },
  {
   "cell_type": "code",
   "execution_count": 53,
   "metadata": {},
   "outputs": [
    {
     "data": {
      "text/plain": [
       "(Index(['index',       0,       1,       2,       3,       4,       5,       6,\n",
       "              7,       8,       9,      10,      11,      12,      13,      14,\n",
       "             15,      16,      17,      18,      19,      20,      21,      22,\n",
       "             23,      24,      25,      26,      27,      28,      29,      30,\n",
       "             31,      32],\n",
       "       dtype='object'),\n",
       " 34)"
      ]
     },
     "execution_count": 53,
     "metadata": {},
     "output_type": "execute_result"
    }
   ],
   "source": [
    "df_graph.columns, len(df_graph.columns)"
   ]
  },
  {
   "cell_type": "code",
   "execution_count": 54,
   "metadata": {},
   "outputs": [
    {
     "data": {
      "text/html": [
       "<div>\n",
       "<style scoped>\n",
       "    .dataframe tbody tr th:only-of-type {\n",
       "        vertical-align: middle;\n",
       "    }\n",
       "\n",
       "    .dataframe tbody tr th {\n",
       "        vertical-align: top;\n",
       "    }\n",
       "\n",
       "    .dataframe thead th {\n",
       "        text-align: right;\n",
       "    }\n",
       "</style>\n",
       "<table border=\"1\" class=\"dataframe\">\n",
       "  <thead>\n",
       "    <tr style=\"text-align: right;\">\n",
       "      <th></th>\n",
       "      <th>Año</th>\n",
       "      <th>Bogotá D.C</th>\n",
       "      <th>Valle del Cauca</th>\n",
       "      <th>Antioquia</th>\n",
       "      <th>Santander</th>\n",
       "      <th>Atlántico</th>\n",
       "      <th>Bolívar</th>\n",
       "      <th>Cundinamarca</th>\n",
       "      <th>Nariño</th>\n",
       "      <th>Magdalena</th>\n",
       "      <th>...</th>\n",
       "      <th>Casanare</th>\n",
       "      <th>Putumayo</th>\n",
       "      <th>Arauca</th>\n",
       "      <th>Caquetá</th>\n",
       "      <th>Vichada</th>\n",
       "      <th>Guaviare</th>\n",
       "      <th>Amazonas</th>\n",
       "      <th>San Andrés y Providencia</th>\n",
       "      <th>Guainía</th>\n",
       "      <th>Vaupés</th>\n",
       "    </tr>\n",
       "  </thead>\n",
       "  <tbody>\n",
       "    <tr>\n",
       "      <th>1</th>\n",
       "      <td>2013</td>\n",
       "      <td>3284</td>\n",
       "      <td>2136</td>\n",
       "      <td>1945</td>\n",
       "      <td>1155</td>\n",
       "      <td>1028</td>\n",
       "      <td>861</td>\n",
       "      <td>725</td>\n",
       "      <td>622</td>\n",
       "      <td>600</td>\n",
       "      <td>...</td>\n",
       "      <td>210</td>\n",
       "      <td>191</td>\n",
       "      <td>133</td>\n",
       "      <td>108</td>\n",
       "      <td>33</td>\n",
       "      <td>27</td>\n",
       "      <td>25</td>\n",
       "      <td>17</td>\n",
       "      <td>8</td>\n",
       "      <td>4</td>\n",
       "    </tr>\n",
       "    <tr>\n",
       "      <th>2</th>\n",
       "      <td>2016</td>\n",
       "      <td>1650</td>\n",
       "      <td>966</td>\n",
       "      <td>940</td>\n",
       "      <td>656</td>\n",
       "      <td>778</td>\n",
       "      <td>500</td>\n",
       "      <td>306</td>\n",
       "      <td>307</td>\n",
       "      <td>373</td>\n",
       "      <td>...</td>\n",
       "      <td>128</td>\n",
       "      <td>71</td>\n",
       "      <td>63</td>\n",
       "      <td>65</td>\n",
       "      <td>11</td>\n",
       "      <td>15</td>\n",
       "      <td>13</td>\n",
       "      <td>14</td>\n",
       "      <td>6</td>\n",
       "      <td>2</td>\n",
       "    </tr>\n",
       "    <tr>\n",
       "      <th>3</th>\n",
       "      <td>2022</td>\n",
       "      <td>2892</td>\n",
       "      <td>1869</td>\n",
       "      <td>2145</td>\n",
       "      <td>1048</td>\n",
       "      <td>1217</td>\n",
       "      <td>970</td>\n",
       "      <td>818</td>\n",
       "      <td>800</td>\n",
       "      <td>693</td>\n",
       "      <td>...</td>\n",
       "      <td>209</td>\n",
       "      <td>124</td>\n",
       "      <td>142</td>\n",
       "      <td>109</td>\n",
       "      <td>12</td>\n",
       "      <td>34</td>\n",
       "      <td>25</td>\n",
       "      <td>25</td>\n",
       "      <td>12</td>\n",
       "      <td>55</td>\n",
       "    </tr>\n",
       "  </tbody>\n",
       "</table>\n",
       "<p>3 rows × 34 columns</p>\n",
       "</div>"
      ],
      "text/plain": [
       "    Año Bogotá D.C Valle del Cauca Antioquia Santander Atlántico Bolívar  \\\n",
       "1  2013       3284            2136      1945      1155      1028     861   \n",
       "2  2016       1650             966       940       656       778     500   \n",
       "3  2022       2892            1869      2145      1048      1217     970   \n",
       "\n",
       "  Cundinamarca Nariño Magdalena  ... Casanare Putumayo Arauca Caquetá Vichada  \\\n",
       "1          725    622       600  ...      210      191    133     108      33   \n",
       "2          306    307       373  ...      128       71     63      65      11   \n",
       "3          818    800       693  ...      209      124    142     109      12   \n",
       "\n",
       "  Guaviare Amazonas San Andrés y Providencia Guainía Vaupés  \n",
       "1       27       25                       17       8      4  \n",
       "2       15       13                       14       6      2  \n",
       "3       34       25                       25      12     55  \n",
       "\n",
       "[3 rows x 34 columns]"
      ]
     },
     "execution_count": 54,
     "metadata": {},
     "output_type": "execute_result"
    }
   ],
   "source": [
    "columnas = list(df_graph.iloc[0, 1:])\n",
    "df_graph.columns = ['Año'] + columnas\n",
    "df_graph.drop(0, inplace=True)\n",
    "# df_graph.drop(2, inplace=True)\n",
    "df_graph"
   ]
  },
  {
   "cell_type": "code",
   "execution_count": 55,
   "metadata": {},
   "outputs": [
    {
     "data": {
      "application/vnd.plotly.v1+json": {
       "config": {
        "plotlyServerURL": "https://plot.ly"
       },
       "data": [
        {
         "mode": "lines+markers",
         "name": "Bogotá D.C",
         "type": "scatter",
         "x": [
          "2013",
          "2016",
          "2022"
         ],
         "y": [
          3284,
          1650,
          2892
         ]
        },
        {
         "mode": "lines+markers",
         "name": "Valle del Cauca",
         "type": "scatter",
         "x": [
          "2013",
          "2016",
          "2022"
         ],
         "y": [
          2136,
          966,
          1869
         ]
        },
        {
         "mode": "lines+markers",
         "name": "Antioquia",
         "type": "scatter",
         "x": [
          "2013",
          "2016",
          "2022"
         ],
         "y": [
          1945,
          940,
          2145
         ]
        },
        {
         "mode": "lines+markers",
         "name": "Santander",
         "type": "scatter",
         "x": [
          "2013",
          "2016",
          "2022"
         ],
         "y": [
          1155,
          656,
          1048
         ]
        },
        {
         "mode": "lines+markers",
         "name": "Atlántico",
         "type": "scatter",
         "x": [
          "2013",
          "2016",
          "2022"
         ],
         "y": [
          1028,
          778,
          1217
         ]
        },
        {
         "mode": "lines+markers",
         "name": "Bolívar",
         "type": "scatter",
         "x": [
          "2013",
          "2016",
          "2022"
         ],
         "y": [
          861,
          500,
          970
         ]
        },
        {
         "mode": "lines+markers",
         "name": "Cundinamarca",
         "type": "scatter",
         "x": [
          "2013",
          "2016",
          "2022"
         ],
         "y": [
          725,
          306,
          818
         ]
        },
        {
         "mode": "lines+markers",
         "name": "Nariño",
         "type": "scatter",
         "x": [
          "2013",
          "2016",
          "2022"
         ],
         "y": [
          622,
          307,
          800
         ]
        },
        {
         "mode": "lines+markers",
         "name": "Magdalena",
         "type": "scatter",
         "x": [
          "2013",
          "2016",
          "2022"
         ],
         "y": [
          600,
          373,
          693
         ]
        },
        {
         "mode": "lines+markers",
         "name": "Córdoba",
         "type": "scatter",
         "x": [
          "2013",
          "2016",
          "2022"
         ],
         "y": [
          550,
          388,
          821
         ]
        },
        {
         "mode": "lines+markers",
         "name": "Cesar",
         "type": "scatter",
         "x": [
          "2013",
          "2016",
          "2022"
         ],
         "y": [
          528,
          343,
          611
         ]
        },
        {
         "mode": "lines+markers",
         "name": "Norte de Santander",
         "type": "scatter",
         "x": [
          "2013",
          "2016",
          "2022"
         ],
         "y": [
          517,
          270,
          518
         ]
        },
        {
         "mode": "lines+markers",
         "name": "Boyacá",
         "type": "scatter",
         "x": [
          "2013",
          "2016",
          "2022"
         ],
         "y": [
          508,
          331,
          562
         ]
        },
        {
         "mode": "lines+markers",
         "name": "Sucre",
         "type": "scatter",
         "x": [
          "2013",
          "2016",
          "2022"
         ],
         "y": [
          501,
          292,
          513
         ]
        },
        {
         "mode": "lines+markers",
         "name": "Tolima",
         "type": "scatter",
         "x": [
          "2013",
          "2016",
          "2022"
         ],
         "y": [
          470,
          303,
          525
         ]
        },
        {
         "mode": "lines+markers",
         "name": "Cauca",
         "type": "scatter",
         "x": [
          "2013",
          "2016",
          "2022"
         ],
         "y": [
          430,
          222,
          480
         ]
        },
        {
         "mode": "lines+markers",
         "name": "Caldas",
         "type": "scatter",
         "x": [
          "2013",
          "2016",
          "2022"
         ],
         "y": [
          419,
          204,
          345
         ]
        },
        {
         "mode": "lines+markers",
         "name": "Meta",
         "type": "scatter",
         "x": [
          "2013",
          "2016",
          "2022"
         ],
         "y": [
          408,
          245,
          483
         ]
        },
        {
         "mode": "lines+markers",
         "name": "Huila",
         "type": "scatter",
         "x": [
          "2013",
          "2016",
          "2022"
         ],
         "y": [
          369,
          220,
          373
         ]
        },
        {
         "mode": "lines+markers",
         "name": "Risaralda",
         "type": "scatter",
         "x": [
          "2013",
          "2016",
          "2022"
         ],
         "y": [
          347,
          211,
          368
         ]
        },
        {
         "mode": "lines+markers",
         "name": "La Guajira",
         "type": "scatter",
         "x": [
          "2013",
          "2016",
          "2022"
         ],
         "y": [
          316,
          162,
          427
         ]
        },
        {
         "mode": "lines+markers",
         "name": "Quindío",
         "type": "scatter",
         "x": [
          "2013",
          "2016",
          "2022"
         ],
         "y": [
          253,
          157,
          236
         ]
        },
        {
         "mode": "lines+markers",
         "name": "Chocó",
         "type": "scatter",
         "x": [
          "2013",
          "2016",
          "2022"
         ],
         "y": [
          231,
          155,
          265
         ]
        },
        {
         "mode": "lines+markers",
         "name": "Casanare",
         "type": "scatter",
         "x": [
          "2013",
          "2016",
          "2022"
         ],
         "y": [
          210,
          128,
          209
         ]
        },
        {
         "mode": "lines+markers",
         "name": "Putumayo",
         "type": "scatter",
         "x": [
          "2013",
          "2016",
          "2022"
         ],
         "y": [
          191,
          71,
          124
         ]
        },
        {
         "mode": "lines+markers",
         "name": "Arauca",
         "type": "scatter",
         "x": [
          "2013",
          "2016",
          "2022"
         ],
         "y": [
          133,
          63,
          142
         ]
        },
        {
         "mode": "lines+markers",
         "name": "Caquetá",
         "type": "scatter",
         "x": [
          "2013",
          "2016",
          "2022"
         ],
         "y": [
          108,
          65,
          109
         ]
        },
        {
         "mode": "lines+markers",
         "name": "Vichada",
         "type": "scatter",
         "x": [
          "2013",
          "2016",
          "2022"
         ],
         "y": [
          33,
          11,
          12
         ]
        },
        {
         "mode": "lines+markers",
         "name": "Guaviare",
         "type": "scatter",
         "x": [
          "2013",
          "2016",
          "2022"
         ],
         "y": [
          27,
          15,
          34
         ]
        },
        {
         "mode": "lines+markers",
         "name": "Amazonas",
         "type": "scatter",
         "x": [
          "2013",
          "2016",
          "2022"
         ],
         "y": [
          25,
          13,
          25
         ]
        },
        {
         "mode": "lines+markers",
         "name": "San Andrés y Providencia",
         "type": "scatter",
         "x": [
          "2013",
          "2016",
          "2022"
         ],
         "y": [
          17,
          14,
          25
         ]
        },
        {
         "mode": "lines+markers",
         "name": "Guainía",
         "type": "scatter",
         "x": [
          "2013",
          "2016",
          "2022"
         ],
         "y": [
          8,
          6,
          12
         ]
        },
        {
         "mode": "lines+markers",
         "name": "Vaupés",
         "type": "scatter",
         "x": [
          "2013",
          "2016",
          "2022"
         ],
         "y": [
          4,
          2,
          55
         ]
        }
       ],
       "layout": {
        "height": 500,
        "template": {
         "data": {
          "bar": [
           {
            "error_x": {
             "color": "#2a3f5f"
            },
            "error_y": {
             "color": "#2a3f5f"
            },
            "marker": {
             "line": {
              "color": "#E5ECF6",
              "width": 0.5
             },
             "pattern": {
              "fillmode": "overlay",
              "size": 10,
              "solidity": 0.2
             }
            },
            "type": "bar"
           }
          ],
          "barpolar": [
           {
            "marker": {
             "line": {
              "color": "#E5ECF6",
              "width": 0.5
             },
             "pattern": {
              "fillmode": "overlay",
              "size": 10,
              "solidity": 0.2
             }
            },
            "type": "barpolar"
           }
          ],
          "carpet": [
           {
            "aaxis": {
             "endlinecolor": "#2a3f5f",
             "gridcolor": "white",
             "linecolor": "white",
             "minorgridcolor": "white",
             "startlinecolor": "#2a3f5f"
            },
            "baxis": {
             "endlinecolor": "#2a3f5f",
             "gridcolor": "white",
             "linecolor": "white",
             "minorgridcolor": "white",
             "startlinecolor": "#2a3f5f"
            },
            "type": "carpet"
           }
          ],
          "choropleth": [
           {
            "colorbar": {
             "outlinewidth": 0,
             "ticks": ""
            },
            "type": "choropleth"
           }
          ],
          "contour": [
           {
            "colorbar": {
             "outlinewidth": 0,
             "ticks": ""
            },
            "colorscale": [
             [
              0,
              "#0d0887"
             ],
             [
              0.1111111111111111,
              "#46039f"
             ],
             [
              0.2222222222222222,
              "#7201a8"
             ],
             [
              0.3333333333333333,
              "#9c179e"
             ],
             [
              0.4444444444444444,
              "#bd3786"
             ],
             [
              0.5555555555555556,
              "#d8576b"
             ],
             [
              0.6666666666666666,
              "#ed7953"
             ],
             [
              0.7777777777777778,
              "#fb9f3a"
             ],
             [
              0.8888888888888888,
              "#fdca26"
             ],
             [
              1,
              "#f0f921"
             ]
            ],
            "type": "contour"
           }
          ],
          "contourcarpet": [
           {
            "colorbar": {
             "outlinewidth": 0,
             "ticks": ""
            },
            "type": "contourcarpet"
           }
          ],
          "heatmap": [
           {
            "colorbar": {
             "outlinewidth": 0,
             "ticks": ""
            },
            "colorscale": [
             [
              0,
              "#0d0887"
             ],
             [
              0.1111111111111111,
              "#46039f"
             ],
             [
              0.2222222222222222,
              "#7201a8"
             ],
             [
              0.3333333333333333,
              "#9c179e"
             ],
             [
              0.4444444444444444,
              "#bd3786"
             ],
             [
              0.5555555555555556,
              "#d8576b"
             ],
             [
              0.6666666666666666,
              "#ed7953"
             ],
             [
              0.7777777777777778,
              "#fb9f3a"
             ],
             [
              0.8888888888888888,
              "#fdca26"
             ],
             [
              1,
              "#f0f921"
             ]
            ],
            "type": "heatmap"
           }
          ],
          "heatmapgl": [
           {
            "colorbar": {
             "outlinewidth": 0,
             "ticks": ""
            },
            "colorscale": [
             [
              0,
              "#0d0887"
             ],
             [
              0.1111111111111111,
              "#46039f"
             ],
             [
              0.2222222222222222,
              "#7201a8"
             ],
             [
              0.3333333333333333,
              "#9c179e"
             ],
             [
              0.4444444444444444,
              "#bd3786"
             ],
             [
              0.5555555555555556,
              "#d8576b"
             ],
             [
              0.6666666666666666,
              "#ed7953"
             ],
             [
              0.7777777777777778,
              "#fb9f3a"
             ],
             [
              0.8888888888888888,
              "#fdca26"
             ],
             [
              1,
              "#f0f921"
             ]
            ],
            "type": "heatmapgl"
           }
          ],
          "histogram": [
           {
            "marker": {
             "pattern": {
              "fillmode": "overlay",
              "size": 10,
              "solidity": 0.2
             }
            },
            "type": "histogram"
           }
          ],
          "histogram2d": [
           {
            "colorbar": {
             "outlinewidth": 0,
             "ticks": ""
            },
            "colorscale": [
             [
              0,
              "#0d0887"
             ],
             [
              0.1111111111111111,
              "#46039f"
             ],
             [
              0.2222222222222222,
              "#7201a8"
             ],
             [
              0.3333333333333333,
              "#9c179e"
             ],
             [
              0.4444444444444444,
              "#bd3786"
             ],
             [
              0.5555555555555556,
              "#d8576b"
             ],
             [
              0.6666666666666666,
              "#ed7953"
             ],
             [
              0.7777777777777778,
              "#fb9f3a"
             ],
             [
              0.8888888888888888,
              "#fdca26"
             ],
             [
              1,
              "#f0f921"
             ]
            ],
            "type": "histogram2d"
           }
          ],
          "histogram2dcontour": [
           {
            "colorbar": {
             "outlinewidth": 0,
             "ticks": ""
            },
            "colorscale": [
             [
              0,
              "#0d0887"
             ],
             [
              0.1111111111111111,
              "#46039f"
             ],
             [
              0.2222222222222222,
              "#7201a8"
             ],
             [
              0.3333333333333333,
              "#9c179e"
             ],
             [
              0.4444444444444444,
              "#bd3786"
             ],
             [
              0.5555555555555556,
              "#d8576b"
             ],
             [
              0.6666666666666666,
              "#ed7953"
             ],
             [
              0.7777777777777778,
              "#fb9f3a"
             ],
             [
              0.8888888888888888,
              "#fdca26"
             ],
             [
              1,
              "#f0f921"
             ]
            ],
            "type": "histogram2dcontour"
           }
          ],
          "mesh3d": [
           {
            "colorbar": {
             "outlinewidth": 0,
             "ticks": ""
            },
            "type": "mesh3d"
           }
          ],
          "parcoords": [
           {
            "line": {
             "colorbar": {
              "outlinewidth": 0,
              "ticks": ""
             }
            },
            "type": "parcoords"
           }
          ],
          "pie": [
           {
            "automargin": true,
            "type": "pie"
           }
          ],
          "scatter": [
           {
            "fillpattern": {
             "fillmode": "overlay",
             "size": 10,
             "solidity": 0.2
            },
            "type": "scatter"
           }
          ],
          "scatter3d": [
           {
            "line": {
             "colorbar": {
              "outlinewidth": 0,
              "ticks": ""
             }
            },
            "marker": {
             "colorbar": {
              "outlinewidth": 0,
              "ticks": ""
             }
            },
            "type": "scatter3d"
           }
          ],
          "scattercarpet": [
           {
            "marker": {
             "colorbar": {
              "outlinewidth": 0,
              "ticks": ""
             }
            },
            "type": "scattercarpet"
           }
          ],
          "scattergeo": [
           {
            "marker": {
             "colorbar": {
              "outlinewidth": 0,
              "ticks": ""
             }
            },
            "type": "scattergeo"
           }
          ],
          "scattergl": [
           {
            "marker": {
             "colorbar": {
              "outlinewidth": 0,
              "ticks": ""
             }
            },
            "type": "scattergl"
           }
          ],
          "scattermapbox": [
           {
            "marker": {
             "colorbar": {
              "outlinewidth": 0,
              "ticks": ""
             }
            },
            "type": "scattermapbox"
           }
          ],
          "scatterpolar": [
           {
            "marker": {
             "colorbar": {
              "outlinewidth": 0,
              "ticks": ""
             }
            },
            "type": "scatterpolar"
           }
          ],
          "scatterpolargl": [
           {
            "marker": {
             "colorbar": {
              "outlinewidth": 0,
              "ticks": ""
             }
            },
            "type": "scatterpolargl"
           }
          ],
          "scatterternary": [
           {
            "marker": {
             "colorbar": {
              "outlinewidth": 0,
              "ticks": ""
             }
            },
            "type": "scatterternary"
           }
          ],
          "surface": [
           {
            "colorbar": {
             "outlinewidth": 0,
             "ticks": ""
            },
            "colorscale": [
             [
              0,
              "#0d0887"
             ],
             [
              0.1111111111111111,
              "#46039f"
             ],
             [
              0.2222222222222222,
              "#7201a8"
             ],
             [
              0.3333333333333333,
              "#9c179e"
             ],
             [
              0.4444444444444444,
              "#bd3786"
             ],
             [
              0.5555555555555556,
              "#d8576b"
             ],
             [
              0.6666666666666666,
              "#ed7953"
             ],
             [
              0.7777777777777778,
              "#fb9f3a"
             ],
             [
              0.8888888888888888,
              "#fdca26"
             ],
             [
              1,
              "#f0f921"
             ]
            ],
            "type": "surface"
           }
          ],
          "table": [
           {
            "cells": {
             "fill": {
              "color": "#EBF0F8"
             },
             "line": {
              "color": "white"
             }
            },
            "header": {
             "fill": {
              "color": "#C8D4E3"
             },
             "line": {
              "color": "white"
             }
            },
            "type": "table"
           }
          ]
         },
         "layout": {
          "annotationdefaults": {
           "arrowcolor": "#2a3f5f",
           "arrowhead": 0,
           "arrowwidth": 1
          },
          "autotypenumbers": "strict",
          "coloraxis": {
           "colorbar": {
            "outlinewidth": 0,
            "ticks": ""
           }
          },
          "colorscale": {
           "diverging": [
            [
             0,
             "#8e0152"
            ],
            [
             0.1,
             "#c51b7d"
            ],
            [
             0.2,
             "#de77ae"
            ],
            [
             0.3,
             "#f1b6da"
            ],
            [
             0.4,
             "#fde0ef"
            ],
            [
             0.5,
             "#f7f7f7"
            ],
            [
             0.6,
             "#e6f5d0"
            ],
            [
             0.7,
             "#b8e186"
            ],
            [
             0.8,
             "#7fbc41"
            ],
            [
             0.9,
             "#4d9221"
            ],
            [
             1,
             "#276419"
            ]
           ],
           "sequential": [
            [
             0,
             "#0d0887"
            ],
            [
             0.1111111111111111,
             "#46039f"
            ],
            [
             0.2222222222222222,
             "#7201a8"
            ],
            [
             0.3333333333333333,
             "#9c179e"
            ],
            [
             0.4444444444444444,
             "#bd3786"
            ],
            [
             0.5555555555555556,
             "#d8576b"
            ],
            [
             0.6666666666666666,
             "#ed7953"
            ],
            [
             0.7777777777777778,
             "#fb9f3a"
            ],
            [
             0.8888888888888888,
             "#fdca26"
            ],
            [
             1,
             "#f0f921"
            ]
           ],
           "sequentialminus": [
            [
             0,
             "#0d0887"
            ],
            [
             0.1111111111111111,
             "#46039f"
            ],
            [
             0.2222222222222222,
             "#7201a8"
            ],
            [
             0.3333333333333333,
             "#9c179e"
            ],
            [
             0.4444444444444444,
             "#bd3786"
            ],
            [
             0.5555555555555556,
             "#d8576b"
            ],
            [
             0.6666666666666666,
             "#ed7953"
            ],
            [
             0.7777777777777778,
             "#fb9f3a"
            ],
            [
             0.8888888888888888,
             "#fdca26"
            ],
            [
             1,
             "#f0f921"
            ]
           ]
          },
          "colorway": [
           "#636efa",
           "#EF553B",
           "#00cc96",
           "#ab63fa",
           "#FFA15A",
           "#19d3f3",
           "#FF6692",
           "#B6E880",
           "#FF97FF",
           "#FECB52"
          ],
          "font": {
           "color": "#2a3f5f"
          },
          "geo": {
           "bgcolor": "white",
           "lakecolor": "white",
           "landcolor": "#E5ECF6",
           "showlakes": true,
           "showland": true,
           "subunitcolor": "white"
          },
          "hoverlabel": {
           "align": "left"
          },
          "hovermode": "closest",
          "mapbox": {
           "style": "light"
          },
          "paper_bgcolor": "white",
          "plot_bgcolor": "#E5ECF6",
          "polar": {
           "angularaxis": {
            "gridcolor": "white",
            "linecolor": "white",
            "ticks": ""
           },
           "bgcolor": "#E5ECF6",
           "radialaxis": {
            "gridcolor": "white",
            "linecolor": "white",
            "ticks": ""
           }
          },
          "scene": {
           "xaxis": {
            "backgroundcolor": "#E5ECF6",
            "gridcolor": "white",
            "gridwidth": 2,
            "linecolor": "white",
            "showbackground": true,
            "ticks": "",
            "zerolinecolor": "white"
           },
           "yaxis": {
            "backgroundcolor": "#E5ECF6",
            "gridcolor": "white",
            "gridwidth": 2,
            "linecolor": "white",
            "showbackground": true,
            "ticks": "",
            "zerolinecolor": "white"
           },
           "zaxis": {
            "backgroundcolor": "#E5ECF6",
            "gridcolor": "white",
            "gridwidth": 2,
            "linecolor": "white",
            "showbackground": true,
            "ticks": "",
            "zerolinecolor": "white"
           }
          },
          "shapedefaults": {
           "line": {
            "color": "#2a3f5f"
           }
          },
          "ternary": {
           "aaxis": {
            "gridcolor": "white",
            "linecolor": "white",
            "ticks": ""
           },
           "baxis": {
            "gridcolor": "white",
            "linecolor": "white",
            "ticks": ""
           },
           "bgcolor": "#E5ECF6",
           "caxis": {
            "gridcolor": "white",
            "linecolor": "white",
            "ticks": ""
           }
          },
          "title": {
           "x": 0.05
          },
          "xaxis": {
           "automargin": true,
           "gridcolor": "white",
           "linecolor": "white",
           "ticks": "",
           "title": {
            "standoff": 15
           },
           "zerolinecolor": "white",
           "zerolinewidth": 2
          },
          "yaxis": {
           "automargin": true,
           "gridcolor": "white",
           "linecolor": "white",
           "ticks": "",
           "title": {
            "standoff": 15
           },
           "zerolinecolor": "white",
           "zerolinewidth": 2
          }
         }
        },
        "title": {
         "text": "Número de IPS por Año por Departamento"
        },
        "width": 1200,
        "xaxis": {
         "title": {
          "text": "Año"
         }
        },
        "yaxis": {
         "range": [
          0,
          3400
         ],
         "title": {
          "text": "Número de IPS"
         }
        }
       }
      }
     },
     "metadata": {},
     "output_type": "display_data"
    }
   ],
   "source": [
    "fig = go.Figure()\n",
    "\n",
    "for department in columnas:\n",
    "    fig.add_trace(go.Scatter(x=df_graph['Año'],\n",
    "                             y=df_graph[department], \n",
    "                             mode='lines+markers',\n",
    "                             name=department))\n",
    "    \n",
    "fig.update_layout(\n",
    "    title='Número de IPS por Año por Departamento',\n",
    "    xaxis_title='Año',\n",
    "    yaxis_title='Número de IPS'\n",
    ")\n",
    "    \n",
    "fig.update_yaxes(range=[0,3400])\n",
    "\n",
    "# color_sequence = ['#3364C7' for i in departamentos]\n",
    "# fig.update_traces(marker=dict(color=color_sequence))\n",
    "\n",
    "# fig.update_traces(text=df_num_reps['Y2022'], textposition='outside')\n",
    "\n",
    "# fig.update_layout(plot_bgcolor='rgba(0,0,0,0)')\n",
    "                #   , paper_bgcolor='rgba(0,0,0,1)')\n",
    "\n",
    "fig.update_layout(width=1200, height=500)\n",
    "    \n",
    "fig.show()"
   ]
  },
  {
   "cell_type": "code",
   "execution_count": 35,
   "metadata": {},
   "outputs": [
    {
     "data": {
      "application/vnd.plotly.v1+json": {
       "config": {
        "plotlyServerURL": "https://plot.ly"
       },
       "data": [
        {
         "mode": "lines+markers",
         "name": "2013",
         "type": "scatter",
         "x": [
          "Bogotá D.C",
          "Valle del Cauca",
          "Antioquia",
          "Santander",
          "Atlántico",
          "Bolívar",
          "Cundinamarca",
          "Nariño",
          "Magdalena",
          "Córdoba",
          "Cesar",
          "Norte de Santander",
          "Boyacá",
          "Sucre",
          "Tolima",
          "Cauca",
          "Caldas",
          "Meta",
          "Huila",
          "Risaralda",
          "La Guajira",
          "Quindío",
          "Chocó",
          "Casanare",
          "Putumayo",
          "Arauca",
          "Caquetá",
          "Vichada",
          "Guaviare",
          "Amazonas",
          "San Andrés y Providencia",
          "Guainía",
          "Vaupés"
         ],
         "y": [
          3284,
          2136,
          1945,
          1155,
          1028,
          861,
          725,
          622,
          600,
          550,
          528,
          517,
          508,
          501,
          470,
          430,
          419,
          408,
          369,
          347,
          316,
          253,
          231,
          210,
          191,
          133,
          108,
          33,
          27,
          25,
          17,
          8,
          4
         ]
        },
        {
         "mode": "lines+markers",
         "name": "2016",
         "type": "scatter",
         "x": [
          "Bogotá D.C",
          "Valle del Cauca",
          "Antioquia",
          "Santander",
          "Atlántico",
          "Bolívar",
          "Cundinamarca",
          "Nariño",
          "Magdalena",
          "Córdoba",
          "Cesar",
          "Norte de Santander",
          "Boyacá",
          "Sucre",
          "Tolima",
          "Cauca",
          "Caldas",
          "Meta",
          "Huila",
          "Risaralda",
          "La Guajira",
          "Quindío",
          "Chocó",
          "Casanare",
          "Putumayo",
          "Arauca",
          "Caquetá",
          "Vichada",
          "Guaviare",
          "Amazonas",
          "San Andrés y Providencia",
          "Guainía",
          "Vaupés"
         ],
         "y": [
          1650,
          966,
          940,
          656,
          778,
          500,
          306,
          307,
          373,
          388,
          343,
          270,
          331,
          292,
          303,
          222,
          204,
          245,
          220,
          211,
          162,
          157,
          155,
          128,
          71,
          63,
          65,
          11,
          15,
          13,
          14,
          6,
          2
         ]
        },
        {
         "mode": "lines+markers",
         "name": "2022",
         "type": "scatter",
         "x": [
          "Bogotá D.C",
          "Valle del Cauca",
          "Antioquia",
          "Santander",
          "Atlántico",
          "Bolívar",
          "Cundinamarca",
          "Nariño",
          "Magdalena",
          "Córdoba",
          "Cesar",
          "Norte de Santander",
          "Boyacá",
          "Sucre",
          "Tolima",
          "Cauca",
          "Caldas",
          "Meta",
          "Huila",
          "Risaralda",
          "La Guajira",
          "Quindío",
          "Chocó",
          "Casanare",
          "Putumayo",
          "Arauca",
          "Caquetá",
          "Vichada",
          "Guaviare",
          "Amazonas",
          "San Andrés y Providencia",
          "Guainía",
          "Vaupés"
         ],
         "y": [
          2892,
          1869,
          2145,
          1048,
          1217,
          970,
          818,
          800,
          693,
          821,
          611,
          518,
          562,
          513,
          525,
          480,
          345,
          483,
          373,
          368,
          427,
          236,
          265,
          209,
          124,
          142,
          109,
          12,
          34,
          25,
          25,
          12,
          55
         ]
        }
       ],
       "layout": {
        "template": {
         "data": {
          "bar": [
           {
            "error_x": {
             "color": "#2a3f5f"
            },
            "error_y": {
             "color": "#2a3f5f"
            },
            "marker": {
             "line": {
              "color": "#E5ECF6",
              "width": 0.5
             },
             "pattern": {
              "fillmode": "overlay",
              "size": 10,
              "solidity": 0.2
             }
            },
            "type": "bar"
           }
          ],
          "barpolar": [
           {
            "marker": {
             "line": {
              "color": "#E5ECF6",
              "width": 0.5
             },
             "pattern": {
              "fillmode": "overlay",
              "size": 10,
              "solidity": 0.2
             }
            },
            "type": "barpolar"
           }
          ],
          "carpet": [
           {
            "aaxis": {
             "endlinecolor": "#2a3f5f",
             "gridcolor": "white",
             "linecolor": "white",
             "minorgridcolor": "white",
             "startlinecolor": "#2a3f5f"
            },
            "baxis": {
             "endlinecolor": "#2a3f5f",
             "gridcolor": "white",
             "linecolor": "white",
             "minorgridcolor": "white",
             "startlinecolor": "#2a3f5f"
            },
            "type": "carpet"
           }
          ],
          "choropleth": [
           {
            "colorbar": {
             "outlinewidth": 0,
             "ticks": ""
            },
            "type": "choropleth"
           }
          ],
          "contour": [
           {
            "colorbar": {
             "outlinewidth": 0,
             "ticks": ""
            },
            "colorscale": [
             [
              0,
              "#0d0887"
             ],
             [
              0.1111111111111111,
              "#46039f"
             ],
             [
              0.2222222222222222,
              "#7201a8"
             ],
             [
              0.3333333333333333,
              "#9c179e"
             ],
             [
              0.4444444444444444,
              "#bd3786"
             ],
             [
              0.5555555555555556,
              "#d8576b"
             ],
             [
              0.6666666666666666,
              "#ed7953"
             ],
             [
              0.7777777777777778,
              "#fb9f3a"
             ],
             [
              0.8888888888888888,
              "#fdca26"
             ],
             [
              1,
              "#f0f921"
             ]
            ],
            "type": "contour"
           }
          ],
          "contourcarpet": [
           {
            "colorbar": {
             "outlinewidth": 0,
             "ticks": ""
            },
            "type": "contourcarpet"
           }
          ],
          "heatmap": [
           {
            "colorbar": {
             "outlinewidth": 0,
             "ticks": ""
            },
            "colorscale": [
             [
              0,
              "#0d0887"
             ],
             [
              0.1111111111111111,
              "#46039f"
             ],
             [
              0.2222222222222222,
              "#7201a8"
             ],
             [
              0.3333333333333333,
              "#9c179e"
             ],
             [
              0.4444444444444444,
              "#bd3786"
             ],
             [
              0.5555555555555556,
              "#d8576b"
             ],
             [
              0.6666666666666666,
              "#ed7953"
             ],
             [
              0.7777777777777778,
              "#fb9f3a"
             ],
             [
              0.8888888888888888,
              "#fdca26"
             ],
             [
              1,
              "#f0f921"
             ]
            ],
            "type": "heatmap"
           }
          ],
          "heatmapgl": [
           {
            "colorbar": {
             "outlinewidth": 0,
             "ticks": ""
            },
            "colorscale": [
             [
              0,
              "#0d0887"
             ],
             [
              0.1111111111111111,
              "#46039f"
             ],
             [
              0.2222222222222222,
              "#7201a8"
             ],
             [
              0.3333333333333333,
              "#9c179e"
             ],
             [
              0.4444444444444444,
              "#bd3786"
             ],
             [
              0.5555555555555556,
              "#d8576b"
             ],
             [
              0.6666666666666666,
              "#ed7953"
             ],
             [
              0.7777777777777778,
              "#fb9f3a"
             ],
             [
              0.8888888888888888,
              "#fdca26"
             ],
             [
              1,
              "#f0f921"
             ]
            ],
            "type": "heatmapgl"
           }
          ],
          "histogram": [
           {
            "marker": {
             "pattern": {
              "fillmode": "overlay",
              "size": 10,
              "solidity": 0.2
             }
            },
            "type": "histogram"
           }
          ],
          "histogram2d": [
           {
            "colorbar": {
             "outlinewidth": 0,
             "ticks": ""
            },
            "colorscale": [
             [
              0,
              "#0d0887"
             ],
             [
              0.1111111111111111,
              "#46039f"
             ],
             [
              0.2222222222222222,
              "#7201a8"
             ],
             [
              0.3333333333333333,
              "#9c179e"
             ],
             [
              0.4444444444444444,
              "#bd3786"
             ],
             [
              0.5555555555555556,
              "#d8576b"
             ],
             [
              0.6666666666666666,
              "#ed7953"
             ],
             [
              0.7777777777777778,
              "#fb9f3a"
             ],
             [
              0.8888888888888888,
              "#fdca26"
             ],
             [
              1,
              "#f0f921"
             ]
            ],
            "type": "histogram2d"
           }
          ],
          "histogram2dcontour": [
           {
            "colorbar": {
             "outlinewidth": 0,
             "ticks": ""
            },
            "colorscale": [
             [
              0,
              "#0d0887"
             ],
             [
              0.1111111111111111,
              "#46039f"
             ],
             [
              0.2222222222222222,
              "#7201a8"
             ],
             [
              0.3333333333333333,
              "#9c179e"
             ],
             [
              0.4444444444444444,
              "#bd3786"
             ],
             [
              0.5555555555555556,
              "#d8576b"
             ],
             [
              0.6666666666666666,
              "#ed7953"
             ],
             [
              0.7777777777777778,
              "#fb9f3a"
             ],
             [
              0.8888888888888888,
              "#fdca26"
             ],
             [
              1,
              "#f0f921"
             ]
            ],
            "type": "histogram2dcontour"
           }
          ],
          "mesh3d": [
           {
            "colorbar": {
             "outlinewidth": 0,
             "ticks": ""
            },
            "type": "mesh3d"
           }
          ],
          "parcoords": [
           {
            "line": {
             "colorbar": {
              "outlinewidth": 0,
              "ticks": ""
             }
            },
            "type": "parcoords"
           }
          ],
          "pie": [
           {
            "automargin": true,
            "type": "pie"
           }
          ],
          "scatter": [
           {
            "fillpattern": {
             "fillmode": "overlay",
             "size": 10,
             "solidity": 0.2
            },
            "type": "scatter"
           }
          ],
          "scatter3d": [
           {
            "line": {
             "colorbar": {
              "outlinewidth": 0,
              "ticks": ""
             }
            },
            "marker": {
             "colorbar": {
              "outlinewidth": 0,
              "ticks": ""
             }
            },
            "type": "scatter3d"
           }
          ],
          "scattercarpet": [
           {
            "marker": {
             "colorbar": {
              "outlinewidth": 0,
              "ticks": ""
             }
            },
            "type": "scattercarpet"
           }
          ],
          "scattergeo": [
           {
            "marker": {
             "colorbar": {
              "outlinewidth": 0,
              "ticks": ""
             }
            },
            "type": "scattergeo"
           }
          ],
          "scattergl": [
           {
            "marker": {
             "colorbar": {
              "outlinewidth": 0,
              "ticks": ""
             }
            },
            "type": "scattergl"
           }
          ],
          "scattermapbox": [
           {
            "marker": {
             "colorbar": {
              "outlinewidth": 0,
              "ticks": ""
             }
            },
            "type": "scattermapbox"
           }
          ],
          "scatterpolar": [
           {
            "marker": {
             "colorbar": {
              "outlinewidth": 0,
              "ticks": ""
             }
            },
            "type": "scatterpolar"
           }
          ],
          "scatterpolargl": [
           {
            "marker": {
             "colorbar": {
              "outlinewidth": 0,
              "ticks": ""
             }
            },
            "type": "scatterpolargl"
           }
          ],
          "scatterternary": [
           {
            "marker": {
             "colorbar": {
              "outlinewidth": 0,
              "ticks": ""
             }
            },
            "type": "scatterternary"
           }
          ],
          "surface": [
           {
            "colorbar": {
             "outlinewidth": 0,
             "ticks": ""
            },
            "colorscale": [
             [
              0,
              "#0d0887"
             ],
             [
              0.1111111111111111,
              "#46039f"
             ],
             [
              0.2222222222222222,
              "#7201a8"
             ],
             [
              0.3333333333333333,
              "#9c179e"
             ],
             [
              0.4444444444444444,
              "#bd3786"
             ],
             [
              0.5555555555555556,
              "#d8576b"
             ],
             [
              0.6666666666666666,
              "#ed7953"
             ],
             [
              0.7777777777777778,
              "#fb9f3a"
             ],
             [
              0.8888888888888888,
              "#fdca26"
             ],
             [
              1,
              "#f0f921"
             ]
            ],
            "type": "surface"
           }
          ],
          "table": [
           {
            "cells": {
             "fill": {
              "color": "#EBF0F8"
             },
             "line": {
              "color": "white"
             }
            },
            "header": {
             "fill": {
              "color": "#C8D4E3"
             },
             "line": {
              "color": "white"
             }
            },
            "type": "table"
           }
          ]
         },
         "layout": {
          "annotationdefaults": {
           "arrowcolor": "#2a3f5f",
           "arrowhead": 0,
           "arrowwidth": 1
          },
          "autotypenumbers": "strict",
          "coloraxis": {
           "colorbar": {
            "outlinewidth": 0,
            "ticks": ""
           }
          },
          "colorscale": {
           "diverging": [
            [
             0,
             "#8e0152"
            ],
            [
             0.1,
             "#c51b7d"
            ],
            [
             0.2,
             "#de77ae"
            ],
            [
             0.3,
             "#f1b6da"
            ],
            [
             0.4,
             "#fde0ef"
            ],
            [
             0.5,
             "#f7f7f7"
            ],
            [
             0.6,
             "#e6f5d0"
            ],
            [
             0.7,
             "#b8e186"
            ],
            [
             0.8,
             "#7fbc41"
            ],
            [
             0.9,
             "#4d9221"
            ],
            [
             1,
             "#276419"
            ]
           ],
           "sequential": [
            [
             0,
             "#0d0887"
            ],
            [
             0.1111111111111111,
             "#46039f"
            ],
            [
             0.2222222222222222,
             "#7201a8"
            ],
            [
             0.3333333333333333,
             "#9c179e"
            ],
            [
             0.4444444444444444,
             "#bd3786"
            ],
            [
             0.5555555555555556,
             "#d8576b"
            ],
            [
             0.6666666666666666,
             "#ed7953"
            ],
            [
             0.7777777777777778,
             "#fb9f3a"
            ],
            [
             0.8888888888888888,
             "#fdca26"
            ],
            [
             1,
             "#f0f921"
            ]
           ],
           "sequentialminus": [
            [
             0,
             "#0d0887"
            ],
            [
             0.1111111111111111,
             "#46039f"
            ],
            [
             0.2222222222222222,
             "#7201a8"
            ],
            [
             0.3333333333333333,
             "#9c179e"
            ],
            [
             0.4444444444444444,
             "#bd3786"
            ],
            [
             0.5555555555555556,
             "#d8576b"
            ],
            [
             0.6666666666666666,
             "#ed7953"
            ],
            [
             0.7777777777777778,
             "#fb9f3a"
            ],
            [
             0.8888888888888888,
             "#fdca26"
            ],
            [
             1,
             "#f0f921"
            ]
           ]
          },
          "colorway": [
           "#636efa",
           "#EF553B",
           "#00cc96",
           "#ab63fa",
           "#FFA15A",
           "#19d3f3",
           "#FF6692",
           "#B6E880",
           "#FF97FF",
           "#FECB52"
          ],
          "font": {
           "color": "#2a3f5f"
          },
          "geo": {
           "bgcolor": "white",
           "lakecolor": "white",
           "landcolor": "#E5ECF6",
           "showlakes": true,
           "showland": true,
           "subunitcolor": "white"
          },
          "hoverlabel": {
           "align": "left"
          },
          "hovermode": "closest",
          "mapbox": {
           "style": "light"
          },
          "paper_bgcolor": "white",
          "plot_bgcolor": "#E5ECF6",
          "polar": {
           "angularaxis": {
            "gridcolor": "white",
            "linecolor": "white",
            "ticks": ""
           },
           "bgcolor": "#E5ECF6",
           "radialaxis": {
            "gridcolor": "white",
            "linecolor": "white",
            "ticks": ""
           }
          },
          "scene": {
           "xaxis": {
            "backgroundcolor": "#E5ECF6",
            "gridcolor": "white",
            "gridwidth": 2,
            "linecolor": "white",
            "showbackground": true,
            "ticks": "",
            "zerolinecolor": "white"
           },
           "yaxis": {
            "backgroundcolor": "#E5ECF6",
            "gridcolor": "white",
            "gridwidth": 2,
            "linecolor": "white",
            "showbackground": true,
            "ticks": "",
            "zerolinecolor": "white"
           },
           "zaxis": {
            "backgroundcolor": "#E5ECF6",
            "gridcolor": "white",
            "gridwidth": 2,
            "linecolor": "white",
            "showbackground": true,
            "ticks": "",
            "zerolinecolor": "white"
           }
          },
          "shapedefaults": {
           "line": {
            "color": "#2a3f5f"
           }
          },
          "ternary": {
           "aaxis": {
            "gridcolor": "white",
            "linecolor": "white",
            "ticks": ""
           },
           "baxis": {
            "gridcolor": "white",
            "linecolor": "white",
            "ticks": ""
           },
           "bgcolor": "#E5ECF6",
           "caxis": {
            "gridcolor": "white",
            "linecolor": "white",
            "ticks": ""
           }
          },
          "title": {
           "x": 0.05
          },
          "xaxis": {
           "automargin": true,
           "gridcolor": "white",
           "linecolor": "white",
           "ticks": "",
           "title": {
            "standoff": 15
           },
           "zerolinecolor": "white",
           "zerolinewidth": 2
          },
          "yaxis": {
           "automargin": true,
           "gridcolor": "white",
           "linecolor": "white",
           "ticks": "",
           "title": {
            "standoff": 15
           },
           "zerolinecolor": "white",
           "zerolinewidth": 2
          }
         }
        },
        "title": {
         "text": "Line Graph of Departamento Data Over the Years"
        },
        "xaxis": {
         "title": {
          "text": "Departamento"
         }
        },
        "yaxis": {
         "title": {
          "text": "Values"
         }
        }
       }
      }
     },
     "metadata": {},
     "output_type": "display_data"
    }
   ],
   "source": [
    "# Create a line graph\n",
    "fig = go.Figure()\n",
    "\n",
    "# Add traces for each year\n",
    "for year in ['2013', '2016', '2022']:\n",
    "    fig.add_trace(go.Scatter(x=df_comparacion['Departamento'], y=df_comparacion[year], mode='lines+markers', name=year))\n",
    "\n",
    "# Update layout\n",
    "fig.update_layout(\n",
    "    title='Line Graph of Departamento Data Over the Years',\n",
    "    xaxis_title='Departamento',\n",
    "    yaxis_title='Values'\n",
    ")\n",
    "\n",
    "# Show the plot\n",
    "fig.show()"
   ]
  },
  {
   "cell_type": "code",
   "execution_count": 36,
   "metadata": {},
   "outputs": [
    {
     "data": {
      "application/vnd.plotly.v1+json": {
       "config": {
        "plotlyServerURL": "https://plot.ly"
       },
       "data": [
        {
         "alignmentgroup": "True",
         "hovertemplate": "Y2022=%{x}<br>Departamento=%{y}<extra></extra>",
         "legendgroup": "",
         "marker": {
          "color": [
           "#3364C7",
           "#3364C7",
           "#3364C7",
           "#3364C7",
           "#3364C7",
           "#3364C7",
           "#3364C7",
           "#3364C7",
           "#3364C7",
           "#3364C7",
           "#3364C7",
           "#3364C7",
           "#3364C7",
           "#3364C7",
           "#3364C7",
           "#3364C7",
           "#3364C7",
           "#3364C7",
           "#3364C7",
           "#3364C7",
           "#3364C7",
           "#3364C7",
           "#3364C7",
           "#3364C7",
           "#3364C7",
           "#3364C7",
           "#3364C7",
           "#3364C7",
           "#3364C7",
           "#3364C7",
           "#3364C7",
           "#3364C7",
           "#3364C7"
          ],
          "pattern": {
           "shape": ""
          }
         },
         "name": "",
         "offsetgroup": "",
         "orientation": "h",
         "showlegend": false,
         "text": [
          12,
          12,
          25,
          25,
          34,
          55,
          109,
          124,
          142,
          209,
          236,
          265,
          345,
          368,
          373,
          427,
          480,
          483,
          513,
          518,
          525,
          562,
          611,
          693,
          800,
          818,
          821,
          970,
          1048,
          1217,
          1869,
          2145,
          2892
         ],
         "textposition": "outside",
         "type": "bar",
         "x": [
          12,
          12,
          25,
          25,
          34,
          55,
          109,
          124,
          142,
          209,
          236,
          265,
          345,
          368,
          373,
          427,
          480,
          483,
          513,
          518,
          525,
          562,
          611,
          693,
          800,
          818,
          821,
          970,
          1048,
          1217,
          1869,
          2145,
          2892
         ],
         "xaxis": "x",
         "y": [
          "Vichada",
          "Guainía",
          "San Andrés y Providencia",
          "Amazonas",
          "Guaviare",
          "Vaupés",
          "Caquetá",
          "Putumayo",
          "Arauca",
          "Casanare",
          "Quindío",
          "Chocó",
          "Caldas",
          "Risaralda",
          "Huila",
          "La Guajira",
          "Cauca",
          "Meta",
          "Sucre",
          "Norte de Santander",
          "Tolima",
          "Boyacá",
          "Cesar",
          "Magdalena",
          "Nariño",
          "Cundinamarca",
          "Córdoba",
          "Bolívar",
          "Santander",
          "Atlántico",
          "Valle del cauca",
          "Antioquia",
          "Bogotá D.C"
         ],
         "yaxis": "y"
        }
       ],
       "layout": {
        "barmode": "relative",
        "height": 700,
        "legend": {
         "tracegroupgap": 0
        },
        "margin": {
         "t": 60
        },
        "plot_bgcolor": "rgba(0,0,0,0)",
        "template": {
         "data": {
          "bar": [
           {
            "error_x": {
             "color": "#2a3f5f"
            },
            "error_y": {
             "color": "#2a3f5f"
            },
            "marker": {
             "line": {
              "color": "#E5ECF6",
              "width": 0.5
             },
             "pattern": {
              "fillmode": "overlay",
              "size": 10,
              "solidity": 0.2
             }
            },
            "type": "bar"
           }
          ],
          "barpolar": [
           {
            "marker": {
             "line": {
              "color": "#E5ECF6",
              "width": 0.5
             },
             "pattern": {
              "fillmode": "overlay",
              "size": 10,
              "solidity": 0.2
             }
            },
            "type": "barpolar"
           }
          ],
          "carpet": [
           {
            "aaxis": {
             "endlinecolor": "#2a3f5f",
             "gridcolor": "white",
             "linecolor": "white",
             "minorgridcolor": "white",
             "startlinecolor": "#2a3f5f"
            },
            "baxis": {
             "endlinecolor": "#2a3f5f",
             "gridcolor": "white",
             "linecolor": "white",
             "minorgridcolor": "white",
             "startlinecolor": "#2a3f5f"
            },
            "type": "carpet"
           }
          ],
          "choropleth": [
           {
            "colorbar": {
             "outlinewidth": 0,
             "ticks": ""
            },
            "type": "choropleth"
           }
          ],
          "contour": [
           {
            "colorbar": {
             "outlinewidth": 0,
             "ticks": ""
            },
            "colorscale": [
             [
              0,
              "#0d0887"
             ],
             [
              0.1111111111111111,
              "#46039f"
             ],
             [
              0.2222222222222222,
              "#7201a8"
             ],
             [
              0.3333333333333333,
              "#9c179e"
             ],
             [
              0.4444444444444444,
              "#bd3786"
             ],
             [
              0.5555555555555556,
              "#d8576b"
             ],
             [
              0.6666666666666666,
              "#ed7953"
             ],
             [
              0.7777777777777778,
              "#fb9f3a"
             ],
             [
              0.8888888888888888,
              "#fdca26"
             ],
             [
              1,
              "#f0f921"
             ]
            ],
            "type": "contour"
           }
          ],
          "contourcarpet": [
           {
            "colorbar": {
             "outlinewidth": 0,
             "ticks": ""
            },
            "type": "contourcarpet"
           }
          ],
          "heatmap": [
           {
            "colorbar": {
             "outlinewidth": 0,
             "ticks": ""
            },
            "colorscale": [
             [
              0,
              "#0d0887"
             ],
             [
              0.1111111111111111,
              "#46039f"
             ],
             [
              0.2222222222222222,
              "#7201a8"
             ],
             [
              0.3333333333333333,
              "#9c179e"
             ],
             [
              0.4444444444444444,
              "#bd3786"
             ],
             [
              0.5555555555555556,
              "#d8576b"
             ],
             [
              0.6666666666666666,
              "#ed7953"
             ],
             [
              0.7777777777777778,
              "#fb9f3a"
             ],
             [
              0.8888888888888888,
              "#fdca26"
             ],
             [
              1,
              "#f0f921"
             ]
            ],
            "type": "heatmap"
           }
          ],
          "heatmapgl": [
           {
            "colorbar": {
             "outlinewidth": 0,
             "ticks": ""
            },
            "colorscale": [
             [
              0,
              "#0d0887"
             ],
             [
              0.1111111111111111,
              "#46039f"
             ],
             [
              0.2222222222222222,
              "#7201a8"
             ],
             [
              0.3333333333333333,
              "#9c179e"
             ],
             [
              0.4444444444444444,
              "#bd3786"
             ],
             [
              0.5555555555555556,
              "#d8576b"
             ],
             [
              0.6666666666666666,
              "#ed7953"
             ],
             [
              0.7777777777777778,
              "#fb9f3a"
             ],
             [
              0.8888888888888888,
              "#fdca26"
             ],
             [
              1,
              "#f0f921"
             ]
            ],
            "type": "heatmapgl"
           }
          ],
          "histogram": [
           {
            "marker": {
             "pattern": {
              "fillmode": "overlay",
              "size": 10,
              "solidity": 0.2
             }
            },
            "type": "histogram"
           }
          ],
          "histogram2d": [
           {
            "colorbar": {
             "outlinewidth": 0,
             "ticks": ""
            },
            "colorscale": [
             [
              0,
              "#0d0887"
             ],
             [
              0.1111111111111111,
              "#46039f"
             ],
             [
              0.2222222222222222,
              "#7201a8"
             ],
             [
              0.3333333333333333,
              "#9c179e"
             ],
             [
              0.4444444444444444,
              "#bd3786"
             ],
             [
              0.5555555555555556,
              "#d8576b"
             ],
             [
              0.6666666666666666,
              "#ed7953"
             ],
             [
              0.7777777777777778,
              "#fb9f3a"
             ],
             [
              0.8888888888888888,
              "#fdca26"
             ],
             [
              1,
              "#f0f921"
             ]
            ],
            "type": "histogram2d"
           }
          ],
          "histogram2dcontour": [
           {
            "colorbar": {
             "outlinewidth": 0,
             "ticks": ""
            },
            "colorscale": [
             [
              0,
              "#0d0887"
             ],
             [
              0.1111111111111111,
              "#46039f"
             ],
             [
              0.2222222222222222,
              "#7201a8"
             ],
             [
              0.3333333333333333,
              "#9c179e"
             ],
             [
              0.4444444444444444,
              "#bd3786"
             ],
             [
              0.5555555555555556,
              "#d8576b"
             ],
             [
              0.6666666666666666,
              "#ed7953"
             ],
             [
              0.7777777777777778,
              "#fb9f3a"
             ],
             [
              0.8888888888888888,
              "#fdca26"
             ],
             [
              1,
              "#f0f921"
             ]
            ],
            "type": "histogram2dcontour"
           }
          ],
          "mesh3d": [
           {
            "colorbar": {
             "outlinewidth": 0,
             "ticks": ""
            },
            "type": "mesh3d"
           }
          ],
          "parcoords": [
           {
            "line": {
             "colorbar": {
              "outlinewidth": 0,
              "ticks": ""
             }
            },
            "type": "parcoords"
           }
          ],
          "pie": [
           {
            "automargin": true,
            "type": "pie"
           }
          ],
          "scatter": [
           {
            "fillpattern": {
             "fillmode": "overlay",
             "size": 10,
             "solidity": 0.2
            },
            "type": "scatter"
           }
          ],
          "scatter3d": [
           {
            "line": {
             "colorbar": {
              "outlinewidth": 0,
              "ticks": ""
             }
            },
            "marker": {
             "colorbar": {
              "outlinewidth": 0,
              "ticks": ""
             }
            },
            "type": "scatter3d"
           }
          ],
          "scattercarpet": [
           {
            "marker": {
             "colorbar": {
              "outlinewidth": 0,
              "ticks": ""
             }
            },
            "type": "scattercarpet"
           }
          ],
          "scattergeo": [
           {
            "marker": {
             "colorbar": {
              "outlinewidth": 0,
              "ticks": ""
             }
            },
            "type": "scattergeo"
           }
          ],
          "scattergl": [
           {
            "marker": {
             "colorbar": {
              "outlinewidth": 0,
              "ticks": ""
             }
            },
            "type": "scattergl"
           }
          ],
          "scattermapbox": [
           {
            "marker": {
             "colorbar": {
              "outlinewidth": 0,
              "ticks": ""
             }
            },
            "type": "scattermapbox"
           }
          ],
          "scatterpolar": [
           {
            "marker": {
             "colorbar": {
              "outlinewidth": 0,
              "ticks": ""
             }
            },
            "type": "scatterpolar"
           }
          ],
          "scatterpolargl": [
           {
            "marker": {
             "colorbar": {
              "outlinewidth": 0,
              "ticks": ""
             }
            },
            "type": "scatterpolargl"
           }
          ],
          "scatterternary": [
           {
            "marker": {
             "colorbar": {
              "outlinewidth": 0,
              "ticks": ""
             }
            },
            "type": "scatterternary"
           }
          ],
          "surface": [
           {
            "colorbar": {
             "outlinewidth": 0,
             "ticks": ""
            },
            "colorscale": [
             [
              0,
              "#0d0887"
             ],
             [
              0.1111111111111111,
              "#46039f"
             ],
             [
              0.2222222222222222,
              "#7201a8"
             ],
             [
              0.3333333333333333,
              "#9c179e"
             ],
             [
              0.4444444444444444,
              "#bd3786"
             ],
             [
              0.5555555555555556,
              "#d8576b"
             ],
             [
              0.6666666666666666,
              "#ed7953"
             ],
             [
              0.7777777777777778,
              "#fb9f3a"
             ],
             [
              0.8888888888888888,
              "#fdca26"
             ],
             [
              1,
              "#f0f921"
             ]
            ],
            "type": "surface"
           }
          ],
          "table": [
           {
            "cells": {
             "fill": {
              "color": "#EBF0F8"
             },
             "line": {
              "color": "white"
             }
            },
            "header": {
             "fill": {
              "color": "#C8D4E3"
             },
             "line": {
              "color": "white"
             }
            },
            "type": "table"
           }
          ]
         },
         "layout": {
          "annotationdefaults": {
           "arrowcolor": "#2a3f5f",
           "arrowhead": 0,
           "arrowwidth": 1
          },
          "autotypenumbers": "strict",
          "coloraxis": {
           "colorbar": {
            "outlinewidth": 0,
            "ticks": ""
           }
          },
          "colorscale": {
           "diverging": [
            [
             0,
             "#8e0152"
            ],
            [
             0.1,
             "#c51b7d"
            ],
            [
             0.2,
             "#de77ae"
            ],
            [
             0.3,
             "#f1b6da"
            ],
            [
             0.4,
             "#fde0ef"
            ],
            [
             0.5,
             "#f7f7f7"
            ],
            [
             0.6,
             "#e6f5d0"
            ],
            [
             0.7,
             "#b8e186"
            ],
            [
             0.8,
             "#7fbc41"
            ],
            [
             0.9,
             "#4d9221"
            ],
            [
             1,
             "#276419"
            ]
           ],
           "sequential": [
            [
             0,
             "#0d0887"
            ],
            [
             0.1111111111111111,
             "#46039f"
            ],
            [
             0.2222222222222222,
             "#7201a8"
            ],
            [
             0.3333333333333333,
             "#9c179e"
            ],
            [
             0.4444444444444444,
             "#bd3786"
            ],
            [
             0.5555555555555556,
             "#d8576b"
            ],
            [
             0.6666666666666666,
             "#ed7953"
            ],
            [
             0.7777777777777778,
             "#fb9f3a"
            ],
            [
             0.8888888888888888,
             "#fdca26"
            ],
            [
             1,
             "#f0f921"
            ]
           ],
           "sequentialminus": [
            [
             0,
             "#0d0887"
            ],
            [
             0.1111111111111111,
             "#46039f"
            ],
            [
             0.2222222222222222,
             "#7201a8"
            ],
            [
             0.3333333333333333,
             "#9c179e"
            ],
            [
             0.4444444444444444,
             "#bd3786"
            ],
            [
             0.5555555555555556,
             "#d8576b"
            ],
            [
             0.6666666666666666,
             "#ed7953"
            ],
            [
             0.7777777777777778,
             "#fb9f3a"
            ],
            [
             0.8888888888888888,
             "#fdca26"
            ],
            [
             1,
             "#f0f921"
            ]
           ]
          },
          "colorway": [
           "#636efa",
           "#EF553B",
           "#00cc96",
           "#ab63fa",
           "#FFA15A",
           "#19d3f3",
           "#FF6692",
           "#B6E880",
           "#FF97FF",
           "#FECB52"
          ],
          "font": {
           "color": "#2a3f5f"
          },
          "geo": {
           "bgcolor": "white",
           "lakecolor": "white",
           "landcolor": "#E5ECF6",
           "showlakes": true,
           "showland": true,
           "subunitcolor": "white"
          },
          "hoverlabel": {
           "align": "left"
          },
          "hovermode": "closest",
          "mapbox": {
           "style": "light"
          },
          "paper_bgcolor": "white",
          "plot_bgcolor": "#E5ECF6",
          "polar": {
           "angularaxis": {
            "gridcolor": "white",
            "linecolor": "white",
            "ticks": ""
           },
           "bgcolor": "#E5ECF6",
           "radialaxis": {
            "gridcolor": "white",
            "linecolor": "white",
            "ticks": ""
           }
          },
          "scene": {
           "xaxis": {
            "backgroundcolor": "#E5ECF6",
            "gridcolor": "white",
            "gridwidth": 2,
            "linecolor": "white",
            "showbackground": true,
            "ticks": "",
            "zerolinecolor": "white"
           },
           "yaxis": {
            "backgroundcolor": "#E5ECF6",
            "gridcolor": "white",
            "gridwidth": 2,
            "linecolor": "white",
            "showbackground": true,
            "ticks": "",
            "zerolinecolor": "white"
           },
           "zaxis": {
            "backgroundcolor": "#E5ECF6",
            "gridcolor": "white",
            "gridwidth": 2,
            "linecolor": "white",
            "showbackground": true,
            "ticks": "",
            "zerolinecolor": "white"
           }
          },
          "shapedefaults": {
           "line": {
            "color": "#2a3f5f"
           }
          },
          "ternary": {
           "aaxis": {
            "gridcolor": "white",
            "linecolor": "white",
            "ticks": ""
           },
           "baxis": {
            "gridcolor": "white",
            "linecolor": "white",
            "ticks": ""
           },
           "bgcolor": "#E5ECF6",
           "caxis": {
            "gridcolor": "white",
            "linecolor": "white",
            "ticks": ""
           }
          },
          "title": {
           "x": 0.05
          },
          "xaxis": {
           "automargin": true,
           "gridcolor": "white",
           "linecolor": "white",
           "ticks": "",
           "title": {
            "standoff": 15
           },
           "zerolinecolor": "white",
           "zerolinewidth": 2
          },
          "yaxis": {
           "automargin": true,
           "gridcolor": "white",
           "linecolor": "white",
           "ticks": "",
           "title": {
            "standoff": 15
           },
           "zerolinecolor": "white",
           "zerolinewidth": 2
          }
         }
        },
        "title": {
         "text": "Número de IPS por Departamento - 2022"
        },
        "width": 800,
        "xaxis": {
         "anchor": "y",
         "domain": [
          0,
          1
         ],
         "range": [
          0,
          3100
         ],
         "title": {
          "text": "Número de IPS"
         }
        },
        "yaxis": {
         "anchor": "x",
         "domain": [
          0,
          1
         ],
         "title": {
          "text": "Departamento"
         }
        }
       }
      }
     },
     "metadata": {},
     "output_type": "display_data"
    }
   ],
   "source": [
    "fig = px.bar(data_frame=df_num_reps, x='Y2022', y='Departamento', orientation='h')\n",
    "\n",
    "fig.update_xaxes(title_text='Número de IPS')\n",
    "fig.update_xaxes(range=[0,3100])\n",
    "fig.update_yaxes(title_text='Departamento')\n",
    "fig.update_layout(title='Número de IPS por Departamento - 2022')\n",
    "\n",
    "color_sequence = ['#3364C7' for i in departamentos]\n",
    "fig.update_traces(marker=dict(color=color_sequence))\n",
    "\n",
    "fig.update_traces(text=df_num_reps['Y2022'], textposition='outside')\n",
    "\n",
    "fig.update_layout(plot_bgcolor='rgba(0,0,0,0)')\n",
    "                #   , paper_bgcolor='rgba(0,0,0,1)')\n",
    "\n",
    "fig.update_layout(width=800, height=700)\n"
   ]
  }
 ],
 "metadata": {
  "kernelspec": {
   "display_name": "env",
   "language": "python",
   "name": "python3"
  },
  "language_info": {
   "codemirror_mode": {
    "name": "ipython",
    "version": 3
   },
   "file_extension": ".py",
   "mimetype": "text/x-python",
   "name": "python",
   "nbconvert_exporter": "python",
   "pygments_lexer": "ipython3",
   "version": "3.10.6"
  }
 },
 "nbformat": 4,
 "nbformat_minor": 2
}
