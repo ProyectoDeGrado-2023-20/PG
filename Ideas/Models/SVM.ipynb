{
 "cells": [
  {
   "cell_type": "markdown",
   "metadata": {},
   "source": [
    "# Librerías"
   ]
  },
  {
   "cell_type": "code",
   "execution_count": 52,
   "metadata": {},
   "outputs": [],
   "source": [
    "import pandas as pd\n",
    "import numpy as np\n",
    "from sklearn.model_selection import train_test_split\n",
    "from sklearn.preprocessing import StandardScaler\n",
    "from sklearn.svm import SVC\n",
    "from sklearn.model_selection import GridSearchCV\n",
    "from sklearn.metrics import confusion_matrix\n",
    "from sklearn.metrics import ConfusionMatrixDisplay\n",
    "from sklearn.metrics import classification_report\n",
    "from sklearn.metrics import roc_auc_score\n",
    "from imblearn.over_sampling import SMOTE\n",
    "from imblearn.over_sampling import RandomOverSampler\n",
    "from collections import Counter\n",
    "# import plotly.express as px\n",
    "# import plotly.graph_objects as go\n",
    "# import matplotlib.pyplot as plt\n",
    "# import json"
   ]
  },
  {
   "cell_type": "markdown",
   "metadata": {},
   "source": [
    "# Datos"
   ]
  },
  {
   "cell_type": "code",
   "execution_count": 53,
   "metadata": {},
   "outputs": [],
   "source": [
    "df = pd.read_csv('../../Data/IPS_Atencion_Capacidad_Transformed.csv')"
   ]
  },
  {
   "cell_type": "code",
   "execution_count": 54,
   "metadata": {},
   "outputs": [
    {
     "data": {
      "text/html": [
       "<div>\n",
       "<style scoped>\n",
       "    .dataframe tbody tr th:only-of-type {\n",
       "        vertical-align: middle;\n",
       "    }\n",
       "\n",
       "    .dataframe tbody tr th {\n",
       "        vertical-align: top;\n",
       "    }\n",
       "\n",
       "    .dataframe thead th {\n",
       "        text-align: right;\n",
       "    }\n",
       "</style>\n",
       "<table border=\"1\" class=\"dataframe\">\n",
       "  <thead>\n",
       "    <tr style=\"text-align: right;\">\n",
       "      <th></th>\n",
       "      <th>codigo_sede</th>\n",
       "      <th>num nivel atencion</th>\n",
       "      <th>naturaleza</th>\n",
       "      <th>Ambulancias-Básica</th>\n",
       "      <th>Ambulancias-Medicalizada</th>\n",
       "      <th>Camas-Adultos</th>\n",
       "      <th>Camas-Atención del Parto</th>\n",
       "      <th>Camas-Cuidado Agudo Mental</th>\n",
       "      <th>Camas-Cuidado Intensivo Adulto</th>\n",
       "      <th>Camas-Cuidado Intensivo Neonatal</th>\n",
       "      <th>...</th>\n",
       "      <th>Salas-Procedimientos</th>\n",
       "      <th>Salas-Quirófano</th>\n",
       "      <th>Salas-Sala de Cirugía</th>\n",
       "      <th>Salas-Sala de Radioterapia</th>\n",
       "      <th>Sillas-Otras patologías</th>\n",
       "      <th>Sillas-SPA</th>\n",
       "      <th>Sillas-Salud Mental</th>\n",
       "      <th>Sillas-Sillas de Hemodiálisis</th>\n",
       "      <th>Sillas-Sillas de Quimioterapia</th>\n",
       "      <th>Unidad movil-Unidad Móvil</th>\n",
       "    </tr>\n",
       "  </thead>\n",
       "  <tbody>\n",
       "    <tr>\n",
       "      <th>0</th>\n",
       "      <td>50010001201</td>\n",
       "      <td>NaN</td>\n",
       "      <td>Privada</td>\n",
       "      <td>0</td>\n",
       "      <td>0</td>\n",
       "      <td>0</td>\n",
       "      <td>0</td>\n",
       "      <td>0</td>\n",
       "      <td>0</td>\n",
       "      <td>0</td>\n",
       "      <td>...</td>\n",
       "      <td>1</td>\n",
       "      <td>0</td>\n",
       "      <td>0</td>\n",
       "      <td>0</td>\n",
       "      <td>0</td>\n",
       "      <td>0</td>\n",
       "      <td>0</td>\n",
       "      <td>0</td>\n",
       "      <td>0</td>\n",
       "      <td>0</td>\n",
       "    </tr>\n",
       "    <tr>\n",
       "      <th>1</th>\n",
       "      <td>50010016401</td>\n",
       "      <td>NaN</td>\n",
       "      <td>Privada</td>\n",
       "      <td>0</td>\n",
       "      <td>0</td>\n",
       "      <td>0</td>\n",
       "      <td>0</td>\n",
       "      <td>0</td>\n",
       "      <td>0</td>\n",
       "      <td>0</td>\n",
       "      <td>...</td>\n",
       "      <td>4</td>\n",
       "      <td>0</td>\n",
       "      <td>0</td>\n",
       "      <td>0</td>\n",
       "      <td>0</td>\n",
       "      <td>0</td>\n",
       "      <td>0</td>\n",
       "      <td>0</td>\n",
       "      <td>0</td>\n",
       "      <td>0</td>\n",
       "    </tr>\n",
       "    <tr>\n",
       "      <th>2</th>\n",
       "      <td>50010025201</td>\n",
       "      <td>NaN</td>\n",
       "      <td>Privada</td>\n",
       "      <td>0</td>\n",
       "      <td>0</td>\n",
       "      <td>0</td>\n",
       "      <td>0</td>\n",
       "      <td>0</td>\n",
       "      <td>0</td>\n",
       "      <td>0</td>\n",
       "      <td>...</td>\n",
       "      <td>1</td>\n",
       "      <td>0</td>\n",
       "      <td>0</td>\n",
       "      <td>0</td>\n",
       "      <td>0</td>\n",
       "      <td>0</td>\n",
       "      <td>0</td>\n",
       "      <td>0</td>\n",
       "      <td>0</td>\n",
       "      <td>0</td>\n",
       "    </tr>\n",
       "    <tr>\n",
       "      <th>3</th>\n",
       "      <td>50010025204</td>\n",
       "      <td>NaN</td>\n",
       "      <td>Privada</td>\n",
       "      <td>0</td>\n",
       "      <td>0</td>\n",
       "      <td>0</td>\n",
       "      <td>0</td>\n",
       "      <td>0</td>\n",
       "      <td>0</td>\n",
       "      <td>0</td>\n",
       "      <td>...</td>\n",
       "      <td>6</td>\n",
       "      <td>0</td>\n",
       "      <td>0</td>\n",
       "      <td>0</td>\n",
       "      <td>0</td>\n",
       "      <td>0</td>\n",
       "      <td>0</td>\n",
       "      <td>0</td>\n",
       "      <td>0</td>\n",
       "      <td>0</td>\n",
       "    </tr>\n",
       "    <tr>\n",
       "      <th>4</th>\n",
       "      <td>50010029701</td>\n",
       "      <td>NaN</td>\n",
       "      <td>Privada</td>\n",
       "      <td>0</td>\n",
       "      <td>0</td>\n",
       "      <td>0</td>\n",
       "      <td>0</td>\n",
       "      <td>0</td>\n",
       "      <td>0</td>\n",
       "      <td>0</td>\n",
       "      <td>...</td>\n",
       "      <td>0</td>\n",
       "      <td>0</td>\n",
       "      <td>0</td>\n",
       "      <td>0</td>\n",
       "      <td>0</td>\n",
       "      <td>0</td>\n",
       "      <td>0</td>\n",
       "      <td>0</td>\n",
       "      <td>0</td>\n",
       "      <td>1</td>\n",
       "    </tr>\n",
       "    <tr>\n",
       "      <th>...</th>\n",
       "      <td>...</td>\n",
       "      <td>...</td>\n",
       "      <td>...</td>\n",
       "      <td>...</td>\n",
       "      <td>...</td>\n",
       "      <td>...</td>\n",
       "      <td>...</td>\n",
       "      <td>...</td>\n",
       "      <td>...</td>\n",
       "      <td>...</td>\n",
       "      <td>...</td>\n",
       "      <td>...</td>\n",
       "      <td>...</td>\n",
       "      <td>...</td>\n",
       "      <td>...</td>\n",
       "      <td>...</td>\n",
       "      <td>...</td>\n",
       "      <td>...</td>\n",
       "      <td>...</td>\n",
       "      <td>...</td>\n",
       "      <td>...</td>\n",
       "    </tr>\n",
       "    <tr>\n",
       "      <th>15542</th>\n",
       "      <td>996240000609</td>\n",
       "      <td>2.0</td>\n",
       "      <td>Pública</td>\n",
       "      <td>2</td>\n",
       "      <td>0</td>\n",
       "      <td>6</td>\n",
       "      <td>0</td>\n",
       "      <td>0</td>\n",
       "      <td>0</td>\n",
       "      <td>0</td>\n",
       "      <td>...</td>\n",
       "      <td>1</td>\n",
       "      <td>0</td>\n",
       "      <td>0</td>\n",
       "      <td>0</td>\n",
       "      <td>0</td>\n",
       "      <td>0</td>\n",
       "      <td>0</td>\n",
       "      <td>0</td>\n",
       "      <td>0</td>\n",
       "      <td>0</td>\n",
       "    </tr>\n",
       "    <tr>\n",
       "      <th>15543</th>\n",
       "      <td>997730000607</td>\n",
       "      <td>2.0</td>\n",
       "      <td>Pública</td>\n",
       "      <td>3</td>\n",
       "      <td>0</td>\n",
       "      <td>12</td>\n",
       "      <td>0</td>\n",
       "      <td>0</td>\n",
       "      <td>0</td>\n",
       "      <td>0</td>\n",
       "      <td>...</td>\n",
       "      <td>1</td>\n",
       "      <td>0</td>\n",
       "      <td>0</td>\n",
       "      <td>0</td>\n",
       "      <td>0</td>\n",
       "      <td>0</td>\n",
       "      <td>0</td>\n",
       "      <td>0</td>\n",
       "      <td>0</td>\n",
       "      <td>0</td>\n",
       "    </tr>\n",
       "    <tr>\n",
       "      <th>15544</th>\n",
       "      <td>997730011401</td>\n",
       "      <td>NaN</td>\n",
       "      <td>Privada</td>\n",
       "      <td>0</td>\n",
       "      <td>0</td>\n",
       "      <td>0</td>\n",
       "      <td>0</td>\n",
       "      <td>0</td>\n",
       "      <td>0</td>\n",
       "      <td>0</td>\n",
       "      <td>...</td>\n",
       "      <td>0</td>\n",
       "      <td>0</td>\n",
       "      <td>0</td>\n",
       "      <td>0</td>\n",
       "      <td>0</td>\n",
       "      <td>0</td>\n",
       "      <td>0</td>\n",
       "      <td>0</td>\n",
       "      <td>0</td>\n",
       "      <td>0</td>\n",
       "    </tr>\n",
       "    <tr>\n",
       "      <th>15545</th>\n",
       "      <td>997730013001</td>\n",
       "      <td>NaN</td>\n",
       "      <td>Privada</td>\n",
       "      <td>0</td>\n",
       "      <td>0</td>\n",
       "      <td>0</td>\n",
       "      <td>0</td>\n",
       "      <td>0</td>\n",
       "      <td>0</td>\n",
       "      <td>0</td>\n",
       "      <td>...</td>\n",
       "      <td>1</td>\n",
       "      <td>0</td>\n",
       "      <td>0</td>\n",
       "      <td>0</td>\n",
       "      <td>0</td>\n",
       "      <td>0</td>\n",
       "      <td>0</td>\n",
       "      <td>0</td>\n",
       "      <td>0</td>\n",
       "      <td>0</td>\n",
       "    </tr>\n",
       "    <tr>\n",
       "      <th>15546</th>\n",
       "      <td>997730014501</td>\n",
       "      <td>NaN</td>\n",
       "      <td>Privada</td>\n",
       "      <td>0</td>\n",
       "      <td>0</td>\n",
       "      <td>0</td>\n",
       "      <td>0</td>\n",
       "      <td>0</td>\n",
       "      <td>0</td>\n",
       "      <td>0</td>\n",
       "      <td>...</td>\n",
       "      <td>0</td>\n",
       "      <td>0</td>\n",
       "      <td>0</td>\n",
       "      <td>0</td>\n",
       "      <td>0</td>\n",
       "      <td>0</td>\n",
       "      <td>0</td>\n",
       "      <td>0</td>\n",
       "      <td>0</td>\n",
       "      <td>0</td>\n",
       "    </tr>\n",
       "  </tbody>\n",
       "</table>\n",
       "<p>15547 rows × 66 columns</p>\n",
       "</div>"
      ],
      "text/plain": [
       "        codigo_sede  num nivel atencion naturaleza  Ambulancias-Básica  \\\n",
       "0       50010001201                 NaN    Privada                   0   \n",
       "1       50010016401                 NaN    Privada                   0   \n",
       "2       50010025201                 NaN    Privada                   0   \n",
       "3       50010025204                 NaN    Privada                   0   \n",
       "4       50010029701                 NaN    Privada                   0   \n",
       "...             ...                 ...        ...                 ...   \n",
       "15542  996240000609                 2.0    Pública                   2   \n",
       "15543  997730000607                 2.0    Pública                   3   \n",
       "15544  997730011401                 NaN    Privada                   0   \n",
       "15545  997730013001                 NaN    Privada                   0   \n",
       "15546  997730014501                 NaN    Privada                   0   \n",
       "\n",
       "       Ambulancias-Medicalizada  Camas-Adultos  Camas-Atención del Parto  \\\n",
       "0                             0              0                         0   \n",
       "1                             0              0                         0   \n",
       "2                             0              0                         0   \n",
       "3                             0              0                         0   \n",
       "4                             0              0                         0   \n",
       "...                         ...            ...                       ...   \n",
       "15542                         0              6                         0   \n",
       "15543                         0             12                         0   \n",
       "15544                         0              0                         0   \n",
       "15545                         0              0                         0   \n",
       "15546                         0              0                         0   \n",
       "\n",
       "       Camas-Cuidado Agudo Mental  Camas-Cuidado Intensivo Adulto  \\\n",
       "0                               0                               0   \n",
       "1                               0                               0   \n",
       "2                               0                               0   \n",
       "3                               0                               0   \n",
       "4                               0                               0   \n",
       "...                           ...                             ...   \n",
       "15542                           0                               0   \n",
       "15543                           0                               0   \n",
       "15544                           0                               0   \n",
       "15545                           0                               0   \n",
       "15546                           0                               0   \n",
       "\n",
       "       Camas-Cuidado Intensivo Neonatal  ...  Salas-Procedimientos  \\\n",
       "0                                     0  ...                     1   \n",
       "1                                     0  ...                     4   \n",
       "2                                     0  ...                     1   \n",
       "3                                     0  ...                     6   \n",
       "4                                     0  ...                     0   \n",
       "...                                 ...  ...                   ...   \n",
       "15542                                 0  ...                     1   \n",
       "15543                                 0  ...                     1   \n",
       "15544                                 0  ...                     0   \n",
       "15545                                 0  ...                     1   \n",
       "15546                                 0  ...                     0   \n",
       "\n",
       "       Salas-Quirófano  Salas-Sala de Cirugía  Salas-Sala de Radioterapia  \\\n",
       "0                    0                      0                           0   \n",
       "1                    0                      0                           0   \n",
       "2                    0                      0                           0   \n",
       "3                    0                      0                           0   \n",
       "4                    0                      0                           0   \n",
       "...                ...                    ...                         ...   \n",
       "15542                0                      0                           0   \n",
       "15543                0                      0                           0   \n",
       "15544                0                      0                           0   \n",
       "15545                0                      0                           0   \n",
       "15546                0                      0                           0   \n",
       "\n",
       "       Sillas-Otras patologías  Sillas-SPA  Sillas-Salud Mental  \\\n",
       "0                            0           0                    0   \n",
       "1                            0           0                    0   \n",
       "2                            0           0                    0   \n",
       "3                            0           0                    0   \n",
       "4                            0           0                    0   \n",
       "...                        ...         ...                  ...   \n",
       "15542                        0           0                    0   \n",
       "15543                        0           0                    0   \n",
       "15544                        0           0                    0   \n",
       "15545                        0           0                    0   \n",
       "15546                        0           0                    0   \n",
       "\n",
       "       Sillas-Sillas de Hemodiálisis  Sillas-Sillas de Quimioterapia  \\\n",
       "0                                  0                               0   \n",
       "1                                  0                               0   \n",
       "2                                  0                               0   \n",
       "3                                  0                               0   \n",
       "4                                  0                               0   \n",
       "...                              ...                             ...   \n",
       "15542                              0                               0   \n",
       "15543                              0                               0   \n",
       "15544                              0                               0   \n",
       "15545                              0                               0   \n",
       "15546                              0                               0   \n",
       "\n",
       "       Unidad movil-Unidad Móvil  \n",
       "0                              0  \n",
       "1                              0  \n",
       "2                              0  \n",
       "3                              0  \n",
       "4                              1  \n",
       "...                          ...  \n",
       "15542                          0  \n",
       "15543                          0  \n",
       "15544                          0  \n",
       "15545                          0  \n",
       "15546                          0  \n",
       "\n",
       "[15547 rows x 66 columns]"
      ]
     },
     "execution_count": 54,
     "metadata": {},
     "output_type": "execute_result"
    }
   ],
   "source": [
    "df"
   ]
  },
  {
   "cell_type": "code",
   "execution_count": 55,
   "metadata": {},
   "outputs": [],
   "source": [
    "df_publicas = df[df['naturaleza'] == 'Pública'].copy()\n",
    "df_publicas.dropna(inplace=True)\n",
    "df_publicas['num nivel atencion'] = df_publicas['num nivel atencion'].astype('int64')"
   ]
  },
  {
   "cell_type": "code",
   "execution_count": 56,
   "metadata": {},
   "outputs": [
    {
     "name": "stdout",
     "output_type": "stream",
     "text": [
      "<class 'pandas.core.frame.DataFrame'>\n",
      "Index: 3312 entries, 79 to 15543\n",
      "Data columns (total 66 columns):\n",
      " #   Column                                             Non-Null Count  Dtype \n",
      "---  ------                                             --------------  ----- \n",
      " 0   codigo_sede                                        3312 non-null   int64 \n",
      " 1   num nivel atencion                                 3312 non-null   int64 \n",
      " 2   naturaleza                                         3312 non-null   object\n",
      " 3   Ambulancias-Básica                                 3312 non-null   int64 \n",
      " 4   Ambulancias-Medicalizada                           3312 non-null   int64 \n",
      " 5   Camas-Adultos                                      3312 non-null   int64 \n",
      " 6   Camas-Atención del Parto                           3312 non-null   int64 \n",
      " 7   Camas-Cuidado Agudo Mental                         3312 non-null   int64 \n",
      " 8   Camas-Cuidado Intensivo Adulto                     3312 non-null   int64 \n",
      " 9   Camas-Cuidado Intensivo Neonatal                   3312 non-null   int64 \n",
      " 10  Camas-Cuidado Intensivo Pediátrico                 3312 non-null   int64 \n",
      " 11  Camas-Cuidado Intermedio Adulto                    3312 non-null   int64 \n",
      " 12  Camas-Cuidado Intermedio Neonatal                  3312 non-null   int64 \n",
      " 13  Camas-Cuidado Intermedio Pediátrico                3312 non-null   int64 \n",
      " 14  Camas-Cuidado básico neonatal                      3312 non-null   int64 \n",
      " 15  Camas-Cuna Básico Neonatal                         3312 non-null   int64 \n",
      " 16  Camas-Cuna Intensiva Neonatal                      3312 non-null   int64 \n",
      " 17  Camas-Cuna Intensiva Pediátrica                    3312 non-null   int64 \n",
      " 18  Camas-Cuna Intermedia Neonatal                     3312 non-null   int64 \n",
      " 19  Camas-Cuna Intermedia Pediátrica                   3312 non-null   int64 \n",
      " 20  Camas-Farmacodependencia                           3312 non-null   int64 \n",
      " 21  Camas-Incubadora Básico Neonatal                   3312 non-null   int64 \n",
      " 22  Camas-Incubadora Intensiva Neonatal                3312 non-null   int64 \n",
      " 23  Camas-Incubadora Intermedia Neonatal               3312 non-null   int64 \n",
      " 24  Camas-Institución Paciente Crónico                 3312 non-null   int64 \n",
      " 25  Camas-Intensiva Adultos                            3312 non-null   int64 \n",
      " 26  Camas-Intensiva Pediátrica                         3312 non-null   int64 \n",
      " 27  Camas-Intensiva Quemado Adulto                     3312 non-null   int64 \n",
      " 28  Camas-Intensiva Quemado pediátrica                 3312 non-null   int64 \n",
      " 29  Camas-Intermedia Adultos                           3312 non-null   int64 \n",
      " 30  Camas-Intermedia Pediátrica                        3312 non-null   int64 \n",
      " 31  Camas-Obstetricia                                  3312 non-null   int64 \n",
      " 32  Camas-Paciente crónico con ventilador              3312 non-null   int64 \n",
      " 33  Camas-Paciente crónico sin ventilador              3312 non-null   int64 \n",
      " 34  Camas-Pediátrica                                   3312 non-null   int64 \n",
      " 35  Camas-Psiquiatría                                  3312 non-null   int64 \n",
      " 36  Camas-SPA Adultos                                  3312 non-null   int64 \n",
      " 37  Camas-SPA Básico Adultos                           3312 non-null   int64 \n",
      " 38  Camas-SPA Básico Pediátricos                       3312 non-null   int64 \n",
      " 39  Camas-SPA Pediátricas                              3312 non-null   int64 \n",
      " 40  Camas-Salud Mental                                 3312 non-null   int64 \n",
      " 41  Camas-Salud Mental Adulto                          3312 non-null   int64 \n",
      " 42  Camas-Salud Mental Pediátrico                      3312 non-null   int64 \n",
      " 43  Camas-TPR                                          3312 non-null   int64 \n",
      " 44  Camas-Transplante de progenitores hematopoyeticos  3312 non-null   int64 \n",
      " 45  Camas-Unidad de Quemados Adulto                    3312 non-null   int64 \n",
      " 46  Camas-Unidad de Quemados Pediátrico                3312 non-null   int64 \n",
      " 47  Camillas-Observación Adultos Hombres               3312 non-null   int64 \n",
      " 48  Camillas-Observación Adultos Mujeres               3312 non-null   int64 \n",
      " 49  Camillas-Observación Pediátrica                    3312 non-null   int64 \n",
      " 50  Camillas-Otras patologías                          3312 non-null   int64 \n",
      " 51  Camillas-SPA                                       3312 non-null   int64 \n",
      " 52  Camillas-Salud Mental                              3312 non-null   int64 \n",
      " 53  Consultorios-Consulta Externa                      3312 non-null   int64 \n",
      " 54  Consultorios-Urgencias                             3312 non-null   int64 \n",
      " 55  Salas-Partos                                       3312 non-null   int64 \n",
      " 56  Salas-Procedimientos                               3312 non-null   int64 \n",
      " 57  Salas-Quirófano                                    3312 non-null   int64 \n",
      " 58  Salas-Sala de Cirugía                              3312 non-null   int64 \n",
      " 59  Salas-Sala de Radioterapia                         3312 non-null   int64 \n",
      " 60  Sillas-Otras patologías                            3312 non-null   int64 \n",
      " 61  Sillas-SPA                                         3312 non-null   int64 \n",
      " 62  Sillas-Salud Mental                                3312 non-null   int64 \n",
      " 63  Sillas-Sillas de Hemodiálisis                      3312 non-null   int64 \n",
      " 64  Sillas-Sillas de Quimioterapia                     3312 non-null   int64 \n",
      " 65  Unidad movil-Unidad Móvil                          3312 non-null   int64 \n",
      "dtypes: int64(65), object(1)\n",
      "memory usage: 1.7+ MB\n"
     ]
    }
   ],
   "source": [
    "df_publicas.info()"
   ]
  },
  {
   "cell_type": "code",
   "execution_count": 57,
   "metadata": {},
   "outputs": [
    {
     "data": {
      "text/html": [
       "<div>\n",
       "<style scoped>\n",
       "    .dataframe tbody tr th:only-of-type {\n",
       "        vertical-align: middle;\n",
       "    }\n",
       "\n",
       "    .dataframe tbody tr th {\n",
       "        vertical-align: top;\n",
       "    }\n",
       "\n",
       "    .dataframe thead th {\n",
       "        text-align: right;\n",
       "    }\n",
       "</style>\n",
       "<table border=\"1\" class=\"dataframe\">\n",
       "  <thead>\n",
       "    <tr style=\"text-align: right;\">\n",
       "      <th></th>\n",
       "      <th>codigo_sede</th>\n",
       "      <th>num nivel atencion</th>\n",
       "      <th>naturaleza</th>\n",
       "      <th>Ambulancias-Básica</th>\n",
       "      <th>Ambulancias-Medicalizada</th>\n",
       "      <th>Camas-Adultos</th>\n",
       "      <th>Camas-Atención del Parto</th>\n",
       "      <th>Camas-Cuidado Agudo Mental</th>\n",
       "      <th>Camas-Cuidado Intensivo Adulto</th>\n",
       "      <th>Camas-Cuidado Intensivo Neonatal</th>\n",
       "      <th>...</th>\n",
       "      <th>Salas-Procedimientos</th>\n",
       "      <th>Salas-Quirófano</th>\n",
       "      <th>Salas-Sala de Cirugía</th>\n",
       "      <th>Salas-Sala de Radioterapia</th>\n",
       "      <th>Sillas-Otras patologías</th>\n",
       "      <th>Sillas-SPA</th>\n",
       "      <th>Sillas-Salud Mental</th>\n",
       "      <th>Sillas-Sillas de Hemodiálisis</th>\n",
       "      <th>Sillas-Sillas de Quimioterapia</th>\n",
       "      <th>Unidad movil-Unidad Móvil</th>\n",
       "    </tr>\n",
       "  </thead>\n",
       "  <tbody>\n",
       "    <tr>\n",
       "      <th>79</th>\n",
       "      <td>50010214401</td>\n",
       "      <td>3</td>\n",
       "      <td>Pública</td>\n",
       "      <td>0</td>\n",
       "      <td>0</td>\n",
       "      <td>176</td>\n",
       "      <td>0</td>\n",
       "      <td>0</td>\n",
       "      <td>48</td>\n",
       "      <td>10</td>\n",
       "      <td>...</td>\n",
       "      <td>3</td>\n",
       "      <td>8</td>\n",
       "      <td>0</td>\n",
       "      <td>0</td>\n",
       "      <td>0</td>\n",
       "      <td>0</td>\n",
       "      <td>0</td>\n",
       "      <td>0</td>\n",
       "      <td>4</td>\n",
       "      <td>0</td>\n",
       "    </tr>\n",
       "    <tr>\n",
       "      <th>87</th>\n",
       "      <td>50010217802</td>\n",
       "      <td>2</td>\n",
       "      <td>Pública</td>\n",
       "      <td>0</td>\n",
       "      <td>2</td>\n",
       "      <td>47</td>\n",
       "      <td>0</td>\n",
       "      <td>0</td>\n",
       "      <td>0</td>\n",
       "      <td>0</td>\n",
       "      <td>...</td>\n",
       "      <td>1</td>\n",
       "      <td>0</td>\n",
       "      <td>3</td>\n",
       "      <td>0</td>\n",
       "      <td>0</td>\n",
       "      <td>0</td>\n",
       "      <td>0</td>\n",
       "      <td>0</td>\n",
       "      <td>0</td>\n",
       "      <td>0</td>\n",
       "    </tr>\n",
       "    <tr>\n",
       "      <th>88</th>\n",
       "      <td>50010217804</td>\n",
       "      <td>2</td>\n",
       "      <td>Pública</td>\n",
       "      <td>0</td>\n",
       "      <td>0</td>\n",
       "      <td>43</td>\n",
       "      <td>0</td>\n",
       "      <td>0</td>\n",
       "      <td>0</td>\n",
       "      <td>0</td>\n",
       "      <td>...</td>\n",
       "      <td>1</td>\n",
       "      <td>0</td>\n",
       "      <td>2</td>\n",
       "      <td>0</td>\n",
       "      <td>0</td>\n",
       "      <td>0</td>\n",
       "      <td>0</td>\n",
       "      <td>0</td>\n",
       "      <td>0</td>\n",
       "      <td>0</td>\n",
       "    </tr>\n",
       "    <tr>\n",
       "      <th>89</th>\n",
       "      <td>50010217807</td>\n",
       "      <td>2</td>\n",
       "      <td>Pública</td>\n",
       "      <td>0</td>\n",
       "      <td>0</td>\n",
       "      <td>12</td>\n",
       "      <td>0</td>\n",
       "      <td>0</td>\n",
       "      <td>0</td>\n",
       "      <td>0</td>\n",
       "      <td>...</td>\n",
       "      <td>1</td>\n",
       "      <td>0</td>\n",
       "      <td>0</td>\n",
       "      <td>0</td>\n",
       "      <td>0</td>\n",
       "      <td>0</td>\n",
       "      <td>0</td>\n",
       "      <td>0</td>\n",
       "      <td>0</td>\n",
       "      <td>0</td>\n",
       "    </tr>\n",
       "    <tr>\n",
       "      <th>90</th>\n",
       "      <td>50010217808</td>\n",
       "      <td>2</td>\n",
       "      <td>Pública</td>\n",
       "      <td>24</td>\n",
       "      <td>0</td>\n",
       "      <td>34</td>\n",
       "      <td>0</td>\n",
       "      <td>0</td>\n",
       "      <td>0</td>\n",
       "      <td>0</td>\n",
       "      <td>...</td>\n",
       "      <td>1</td>\n",
       "      <td>0</td>\n",
       "      <td>0</td>\n",
       "      <td>0</td>\n",
       "      <td>0</td>\n",
       "      <td>0</td>\n",
       "      <td>0</td>\n",
       "      <td>0</td>\n",
       "      <td>0</td>\n",
       "      <td>1</td>\n",
       "    </tr>\n",
       "    <tr>\n",
       "      <th>...</th>\n",
       "      <td>...</td>\n",
       "      <td>...</td>\n",
       "      <td>...</td>\n",
       "      <td>...</td>\n",
       "      <td>...</td>\n",
       "      <td>...</td>\n",
       "      <td>...</td>\n",
       "      <td>...</td>\n",
       "      <td>...</td>\n",
       "      <td>...</td>\n",
       "      <td>...</td>\n",
       "      <td>...</td>\n",
       "      <td>...</td>\n",
       "      <td>...</td>\n",
       "      <td>...</td>\n",
       "      <td>...</td>\n",
       "      <td>...</td>\n",
       "      <td>...</td>\n",
       "      <td>...</td>\n",
       "      <td>...</td>\n",
       "      <td>...</td>\n",
       "    </tr>\n",
       "    <tr>\n",
       "      <th>15535</th>\n",
       "      <td>976660000103</td>\n",
       "      <td>2</td>\n",
       "      <td>Pública</td>\n",
       "      <td>0</td>\n",
       "      <td>0</td>\n",
       "      <td>2</td>\n",
       "      <td>0</td>\n",
       "      <td>0</td>\n",
       "      <td>0</td>\n",
       "      <td>0</td>\n",
       "      <td>...</td>\n",
       "      <td>0</td>\n",
       "      <td>0</td>\n",
       "      <td>0</td>\n",
       "      <td>0</td>\n",
       "      <td>0</td>\n",
       "      <td>0</td>\n",
       "      <td>0</td>\n",
       "      <td>0</td>\n",
       "      <td>0</td>\n",
       "      <td>0</td>\n",
       "    </tr>\n",
       "    <tr>\n",
       "      <th>15536</th>\n",
       "      <td>990010000601</td>\n",
       "      <td>2</td>\n",
       "      <td>Pública</td>\n",
       "      <td>3</td>\n",
       "      <td>0</td>\n",
       "      <td>15</td>\n",
       "      <td>0</td>\n",
       "      <td>0</td>\n",
       "      <td>0</td>\n",
       "      <td>0</td>\n",
       "      <td>...</td>\n",
       "      <td>1</td>\n",
       "      <td>0</td>\n",
       "      <td>2</td>\n",
       "      <td>0</td>\n",
       "      <td>0</td>\n",
       "      <td>0</td>\n",
       "      <td>0</td>\n",
       "      <td>0</td>\n",
       "      <td>0</td>\n",
       "      <td>1</td>\n",
       "    </tr>\n",
       "    <tr>\n",
       "      <th>15540</th>\n",
       "      <td>995240000608</td>\n",
       "      <td>2</td>\n",
       "      <td>Pública</td>\n",
       "      <td>2</td>\n",
       "      <td>0</td>\n",
       "      <td>6</td>\n",
       "      <td>0</td>\n",
       "      <td>0</td>\n",
       "      <td>0</td>\n",
       "      <td>0</td>\n",
       "      <td>...</td>\n",
       "      <td>1</td>\n",
       "      <td>0</td>\n",
       "      <td>0</td>\n",
       "      <td>0</td>\n",
       "      <td>0</td>\n",
       "      <td>0</td>\n",
       "      <td>0</td>\n",
       "      <td>0</td>\n",
       "      <td>0</td>\n",
       "      <td>0</td>\n",
       "    </tr>\n",
       "    <tr>\n",
       "      <th>15542</th>\n",
       "      <td>996240000609</td>\n",
       "      <td>2</td>\n",
       "      <td>Pública</td>\n",
       "      <td>2</td>\n",
       "      <td>0</td>\n",
       "      <td>6</td>\n",
       "      <td>0</td>\n",
       "      <td>0</td>\n",
       "      <td>0</td>\n",
       "      <td>0</td>\n",
       "      <td>...</td>\n",
       "      <td>1</td>\n",
       "      <td>0</td>\n",
       "      <td>0</td>\n",
       "      <td>0</td>\n",
       "      <td>0</td>\n",
       "      <td>0</td>\n",
       "      <td>0</td>\n",
       "      <td>0</td>\n",
       "      <td>0</td>\n",
       "      <td>0</td>\n",
       "    </tr>\n",
       "    <tr>\n",
       "      <th>15543</th>\n",
       "      <td>997730000607</td>\n",
       "      <td>2</td>\n",
       "      <td>Pública</td>\n",
       "      <td>3</td>\n",
       "      <td>0</td>\n",
       "      <td>12</td>\n",
       "      <td>0</td>\n",
       "      <td>0</td>\n",
       "      <td>0</td>\n",
       "      <td>0</td>\n",
       "      <td>...</td>\n",
       "      <td>1</td>\n",
       "      <td>0</td>\n",
       "      <td>0</td>\n",
       "      <td>0</td>\n",
       "      <td>0</td>\n",
       "      <td>0</td>\n",
       "      <td>0</td>\n",
       "      <td>0</td>\n",
       "      <td>0</td>\n",
       "      <td>0</td>\n",
       "    </tr>\n",
       "  </tbody>\n",
       "</table>\n",
       "<p>3312 rows × 66 columns</p>\n",
       "</div>"
      ],
      "text/plain": [
       "        codigo_sede  num nivel atencion naturaleza  Ambulancias-Básica  \\\n",
       "79      50010214401                   3    Pública                   0   \n",
       "87      50010217802                   2    Pública                   0   \n",
       "88      50010217804                   2    Pública                   0   \n",
       "89      50010217807                   2    Pública                   0   \n",
       "90      50010217808                   2    Pública                  24   \n",
       "...             ...                 ...        ...                 ...   \n",
       "15535  976660000103                   2    Pública                   0   \n",
       "15536  990010000601                   2    Pública                   3   \n",
       "15540  995240000608                   2    Pública                   2   \n",
       "15542  996240000609                   2    Pública                   2   \n",
       "15543  997730000607                   2    Pública                   3   \n",
       "\n",
       "       Ambulancias-Medicalizada  Camas-Adultos  Camas-Atención del Parto  \\\n",
       "79                            0            176                         0   \n",
       "87                            2             47                         0   \n",
       "88                            0             43                         0   \n",
       "89                            0             12                         0   \n",
       "90                            0             34                         0   \n",
       "...                         ...            ...                       ...   \n",
       "15535                         0              2                         0   \n",
       "15536                         0             15                         0   \n",
       "15540                         0              6                         0   \n",
       "15542                         0              6                         0   \n",
       "15543                         0             12                         0   \n",
       "\n",
       "       Camas-Cuidado Agudo Mental  Camas-Cuidado Intensivo Adulto  \\\n",
       "79                              0                              48   \n",
       "87                              0                               0   \n",
       "88                              0                               0   \n",
       "89                              0                               0   \n",
       "90                              0                               0   \n",
       "...                           ...                             ...   \n",
       "15535                           0                               0   \n",
       "15536                           0                               0   \n",
       "15540                           0                               0   \n",
       "15542                           0                               0   \n",
       "15543                           0                               0   \n",
       "\n",
       "       Camas-Cuidado Intensivo Neonatal  ...  Salas-Procedimientos  \\\n",
       "79                                   10  ...                     3   \n",
       "87                                    0  ...                     1   \n",
       "88                                    0  ...                     1   \n",
       "89                                    0  ...                     1   \n",
       "90                                    0  ...                     1   \n",
       "...                                 ...  ...                   ...   \n",
       "15535                                 0  ...                     0   \n",
       "15536                                 0  ...                     1   \n",
       "15540                                 0  ...                     1   \n",
       "15542                                 0  ...                     1   \n",
       "15543                                 0  ...                     1   \n",
       "\n",
       "       Salas-Quirófano  Salas-Sala de Cirugía  Salas-Sala de Radioterapia  \\\n",
       "79                   8                      0                           0   \n",
       "87                   0                      3                           0   \n",
       "88                   0                      2                           0   \n",
       "89                   0                      0                           0   \n",
       "90                   0                      0                           0   \n",
       "...                ...                    ...                         ...   \n",
       "15535                0                      0                           0   \n",
       "15536                0                      2                           0   \n",
       "15540                0                      0                           0   \n",
       "15542                0                      0                           0   \n",
       "15543                0                      0                           0   \n",
       "\n",
       "       Sillas-Otras patologías  Sillas-SPA  Sillas-Salud Mental  \\\n",
       "79                           0           0                    0   \n",
       "87                           0           0                    0   \n",
       "88                           0           0                    0   \n",
       "89                           0           0                    0   \n",
       "90                           0           0                    0   \n",
       "...                        ...         ...                  ...   \n",
       "15535                        0           0                    0   \n",
       "15536                        0           0                    0   \n",
       "15540                        0           0                    0   \n",
       "15542                        0           0                    0   \n",
       "15543                        0           0                    0   \n",
       "\n",
       "       Sillas-Sillas de Hemodiálisis  Sillas-Sillas de Quimioterapia  \\\n",
       "79                                 0                               4   \n",
       "87                                 0                               0   \n",
       "88                                 0                               0   \n",
       "89                                 0                               0   \n",
       "90                                 0                               0   \n",
       "...                              ...                             ...   \n",
       "15535                              0                               0   \n",
       "15536                              0                               0   \n",
       "15540                              0                               0   \n",
       "15542                              0                               0   \n",
       "15543                              0                               0   \n",
       "\n",
       "       Unidad movil-Unidad Móvil  \n",
       "79                             0  \n",
       "87                             0  \n",
       "88                             0  \n",
       "89                             0  \n",
       "90                             1  \n",
       "...                          ...  \n",
       "15535                          0  \n",
       "15536                          1  \n",
       "15540                          0  \n",
       "15542                          0  \n",
       "15543                          0  \n",
       "\n",
       "[3312 rows x 66 columns]"
      ]
     },
     "execution_count": 57,
     "metadata": {},
     "output_type": "execute_result"
    }
   ],
   "source": [
    "df_publicas"
   ]
  },
  {
   "cell_type": "markdown",
   "metadata": {},
   "source": [
    "## Desbalanceo"
   ]
  },
  {
   "cell_type": "code",
   "execution_count": 58,
   "metadata": {},
   "outputs": [
    {
     "data": {
      "text/html": [
       "<div>\n",
       "<style scoped>\n",
       "    .dataframe tbody tr th:only-of-type {\n",
       "        vertical-align: middle;\n",
       "    }\n",
       "\n",
       "    .dataframe tbody tr th {\n",
       "        vertical-align: top;\n",
       "    }\n",
       "\n",
       "    .dataframe thead th {\n",
       "        text-align: right;\n",
       "    }\n",
       "</style>\n",
       "<table border=\"1\" class=\"dataframe\">\n",
       "  <thead>\n",
       "    <tr style=\"text-align: right;\">\n",
       "      <th></th>\n",
       "      <th>count</th>\n",
       "    </tr>\n",
       "    <tr>\n",
       "      <th>num nivel atencion</th>\n",
       "      <th></th>\n",
       "    </tr>\n",
       "  </thead>\n",
       "  <tbody>\n",
       "    <tr>\n",
       "      <th>1</th>\n",
       "      <td>2738</td>\n",
       "    </tr>\n",
       "    <tr>\n",
       "      <th>2</th>\n",
       "      <td>416</td>\n",
       "    </tr>\n",
       "    <tr>\n",
       "      <th>3</th>\n",
       "      <td>158</td>\n",
       "    </tr>\n",
       "  </tbody>\n",
       "</table>\n",
       "</div>"
      ],
      "text/plain": [
       "                    count\n",
       "num nivel atencion       \n",
       "1                    2738\n",
       "2                     416\n",
       "3                     158"
      ]
     },
     "execution_count": 58,
     "metadata": {},
     "output_type": "execute_result"
    }
   ],
   "source": [
    "df_publicas.groupby(['num nivel atencion']).agg(count=('codigo_sede', 'count'))"
   ]
  },
  {
   "cell_type": "markdown",
   "metadata": {},
   "source": [
    "# Modelo"
   ]
  },
  {
   "cell_type": "markdown",
   "metadata": {},
   "source": [
    "## X and Y"
   ]
  },
  {
   "cell_type": "code",
   "execution_count": 59,
   "metadata": {},
   "outputs": [],
   "source": [
    "y = df_publicas['num nivel atencion'].copy()\n",
    "X = df_publicas[list(df_publicas.columns)[3:]].copy()"
   ]
  },
  {
   "cell_type": "markdown",
   "metadata": {},
   "source": [
    "## Train - Test Split"
   ]
  },
  {
   "cell_type": "code",
   "execution_count": 60,
   "metadata": {},
   "outputs": [],
   "source": [
    "X_train, X_test, y_train, y_test = train_test_split(X, y, train_size=0.7, random_state=1, shuffle=True)"
   ]
  },
  {
   "cell_type": "code",
   "execution_count": 61,
   "metadata": {},
   "outputs": [
    {
     "data": {
      "text/plain": [
       "((2318, 63), (994, 63), (2318,), (994,))"
      ]
     },
     "execution_count": 61,
     "metadata": {},
     "output_type": "execute_result"
    }
   ],
   "source": [
    "X_train.shape, X_test.shape, y_train.shape, y_test.shape"
   ]
  },
  {
   "cell_type": "markdown",
   "metadata": {},
   "source": [
    "## Scale"
   ]
  },
  {
   "cell_type": "code",
   "execution_count": 62,
   "metadata": {},
   "outputs": [],
   "source": [
    "scaler = StandardScaler()\n",
    "scaler.fit(X_train)\n",
    "X_train_scaled = scaler.transform(X_train)\n",
    "X_test_scaled = scaler.transform(X_test)"
   ]
  },
  {
   "cell_type": "markdown",
   "metadata": {},
   "source": [
    "## Training"
   ]
  },
  {
   "cell_type": "code",
   "execution_count": 12,
   "metadata": {},
   "outputs": [
    {
     "data": {
      "text/html": [
       "<style>#sk-container-id-1 {color: black;}#sk-container-id-1 pre{padding: 0;}#sk-container-id-1 div.sk-toggleable {background-color: white;}#sk-container-id-1 label.sk-toggleable__label {cursor: pointer;display: block;width: 100%;margin-bottom: 0;padding: 0.3em;box-sizing: border-box;text-align: center;}#sk-container-id-1 label.sk-toggleable__label-arrow:before {content: \"▸\";float: left;margin-right: 0.25em;color: #696969;}#sk-container-id-1 label.sk-toggleable__label-arrow:hover:before {color: black;}#sk-container-id-1 div.sk-estimator:hover label.sk-toggleable__label-arrow:before {color: black;}#sk-container-id-1 div.sk-toggleable__content {max-height: 0;max-width: 0;overflow: hidden;text-align: left;background-color: #f0f8ff;}#sk-container-id-1 div.sk-toggleable__content pre {margin: 0.2em;color: black;border-radius: 0.25em;background-color: #f0f8ff;}#sk-container-id-1 input.sk-toggleable__control:checked~div.sk-toggleable__content {max-height: 200px;max-width: 100%;overflow: auto;}#sk-container-id-1 input.sk-toggleable__control:checked~label.sk-toggleable__label-arrow:before {content: \"▾\";}#sk-container-id-1 div.sk-estimator input.sk-toggleable__control:checked~label.sk-toggleable__label {background-color: #d4ebff;}#sk-container-id-1 div.sk-label input.sk-toggleable__control:checked~label.sk-toggleable__label {background-color: #d4ebff;}#sk-container-id-1 input.sk-hidden--visually {border: 0;clip: rect(1px 1px 1px 1px);clip: rect(1px, 1px, 1px, 1px);height: 1px;margin: -1px;overflow: hidden;padding: 0;position: absolute;width: 1px;}#sk-container-id-1 div.sk-estimator {font-family: monospace;background-color: #f0f8ff;border: 1px dotted black;border-radius: 0.25em;box-sizing: border-box;margin-bottom: 0.5em;}#sk-container-id-1 div.sk-estimator:hover {background-color: #d4ebff;}#sk-container-id-1 div.sk-parallel-item::after {content: \"\";width: 100%;border-bottom: 1px solid gray;flex-grow: 1;}#sk-container-id-1 div.sk-label:hover label.sk-toggleable__label {background-color: #d4ebff;}#sk-container-id-1 div.sk-serial::before {content: \"\";position: absolute;border-left: 1px solid gray;box-sizing: border-box;top: 0;bottom: 0;left: 50%;z-index: 0;}#sk-container-id-1 div.sk-serial {display: flex;flex-direction: column;align-items: center;background-color: white;padding-right: 0.2em;padding-left: 0.2em;position: relative;}#sk-container-id-1 div.sk-item {position: relative;z-index: 1;}#sk-container-id-1 div.sk-parallel {display: flex;align-items: stretch;justify-content: center;background-color: white;position: relative;}#sk-container-id-1 div.sk-item::before, #sk-container-id-1 div.sk-parallel-item::before {content: \"\";position: absolute;border-left: 1px solid gray;box-sizing: border-box;top: 0;bottom: 0;left: 50%;z-index: -1;}#sk-container-id-1 div.sk-parallel-item {display: flex;flex-direction: column;z-index: 1;position: relative;background-color: white;}#sk-container-id-1 div.sk-parallel-item:first-child::after {align-self: flex-end;width: 50%;}#sk-container-id-1 div.sk-parallel-item:last-child::after {align-self: flex-start;width: 50%;}#sk-container-id-1 div.sk-parallel-item:only-child::after {width: 0;}#sk-container-id-1 div.sk-dashed-wrapped {border: 1px dashed gray;margin: 0 0.4em 0.5em 0.4em;box-sizing: border-box;padding-bottom: 0.4em;background-color: white;}#sk-container-id-1 div.sk-label label {font-family: monospace;font-weight: bold;display: inline-block;line-height: 1.2em;}#sk-container-id-1 div.sk-label-container {text-align: center;}#sk-container-id-1 div.sk-container {/* jupyter's `normalize.less` sets `[hidden] { display: none; }` but bootstrap.min.css set `[hidden] { display: none !important; }` so we also need the `!important` here to be able to override the default hidden behavior on the sphinx rendered scikit-learn.org. See: https://github.com/scikit-learn/scikit-learn/issues/21755 */display: inline-block !important;position: relative;}#sk-container-id-1 div.sk-text-repr-fallback {display: none;}</style><div id=\"sk-container-id-1\" class=\"sk-top-container\"><div class=\"sk-text-repr-fallback\"><pre>SVC(decision_function_shape=&#x27;ovo&#x27;, probability=True, random_state=1)</pre><b>In a Jupyter environment, please rerun this cell to show the HTML representation or trust the notebook. <br />On GitHub, the HTML representation is unable to render, please try loading this page with nbviewer.org.</b></div><div class=\"sk-container\" hidden><div class=\"sk-item\"><div class=\"sk-estimator sk-toggleable\"><input class=\"sk-toggleable__control sk-hidden--visually\" id=\"sk-estimator-id-1\" type=\"checkbox\" checked><label for=\"sk-estimator-id-1\" class=\"sk-toggleable__label sk-toggleable__label-arrow\">SVC</label><div class=\"sk-toggleable__content\"><pre>SVC(decision_function_shape=&#x27;ovo&#x27;, probability=True, random_state=1)</pre></div></div></div></div></div>"
      ],
      "text/plain": [
       "SVC(decision_function_shape='ovo', probability=True, random_state=1)"
      ]
     },
     "execution_count": 12,
     "metadata": {},
     "output_type": "execute_result"
    }
   ],
   "source": [
    "clf_svc = SVC(decision_function_shape='ovo',\n",
    "              random_state=1,\n",
    "              probability=True)\n",
    "clf_svc.fit(X_train_scaled, y_train)"
   ]
  },
  {
   "cell_type": "markdown",
   "metadata": {},
   "source": [
    "## Testing"
   ]
  },
  {
   "cell_type": "code",
   "execution_count": 13,
   "metadata": {},
   "outputs": [],
   "source": [
    "predictions = clf_svc.predict(X_test_scaled)\n",
    "cm = confusion_matrix(y_test, predictions)"
   ]
  },
  {
   "cell_type": "code",
   "execution_count": 14,
   "metadata": {},
   "outputs": [
    {
     "data": {
      "text/plain": [
       "<sklearn.metrics._plot.confusion_matrix.ConfusionMatrixDisplay at 0x113e99e6e60>"
      ]
     },
     "execution_count": 14,
     "metadata": {},
     "output_type": "execute_result"
    },
    {
     "data": {
      "image/png": "[encoded data removed]",
      "text/plain": [
       "<Figure size 640x480 with 2 Axes>"
      ]
     },
     "metadata": {},
     "output_type": "display_data"
    }
   ],
   "source": [
    "disp = ConfusionMatrixDisplay(confusion_matrix=cm,\n",
    "                              display_labels=clf_svc.classes_)\n",
    "disp.plot()"
   ]
  },
  {
   "cell_type": "code",
   "execution_count": 15,
   "metadata": {},
   "outputs": [
    {
     "name": "stdout",
     "output_type": "stream",
     "text": [
      "              precision    recall  f1-score   support\n",
      "\n",
      "           1       0.88      0.99      0.94       833\n",
      "           2       0.67      0.31      0.42       122\n",
      "           3       0.00      0.00      0.00        39\n",
      "\n",
      "    accuracy                           0.87       994\n",
      "   macro avg       0.52      0.44      0.45       994\n",
      "weighted avg       0.82      0.87      0.84       994\n",
      "\n"
     ]
    },
    {
     "name": "stderr",
     "output_type": "stream",
     "text": [
      "c:\\Users\\SGM\\Documents\\Proyecto de Grado\\env\\lib\\site-packages\\sklearn\\metrics\\_classification.py:1471: UndefinedMetricWarning: Precision and F-score are ill-defined and being set to 0.0 in labels with no predicted samples. Use `zero_division` parameter to control this behavior.\n",
      "  _warn_prf(average, modifier, msg_start, len(result))\n",
      "c:\\Users\\SGM\\Documents\\Proyecto de Grado\\env\\lib\\site-packages\\sklearn\\metrics\\_classification.py:1471: UndefinedMetricWarning: Precision and F-score are ill-defined and being set to 0.0 in labels with no predicted samples. Use `zero_division` parameter to control this behavior.\n",
      "  _warn_prf(average, modifier, msg_start, len(result))\n",
      "c:\\Users\\SGM\\Documents\\Proyecto de Grado\\env\\lib\\site-packages\\sklearn\\metrics\\_classification.py:1471: UndefinedMetricWarning: Precision and F-score are ill-defined and being set to 0.0 in labels with no predicted samples. Use `zero_division` parameter to control this behavior.\n",
      "  _warn_prf(average, modifier, msg_start, len(result))\n"
     ]
    }
   ],
   "source": [
    "print(classification_report(y_test, predictions))"
   ]
  },
  {
   "cell_type": "code",
   "execution_count": 16,
   "metadata": {},
   "outputs": [
    {
     "data": {
      "text/plain": [
       "0.7273342712452783"
      ]
     },
     "execution_count": 16,
     "metadata": {},
     "output_type": "execute_result"
    }
   ],
   "source": [
    "roc_auc_score(y_test, clf_svc.predict_proba(X_test_scaled), multi_class='ovo')"
   ]
  },
  {
   "cell_type": "markdown",
   "metadata": {},
   "source": [
    "## GridSearchCV"
   ]
  },
  {
   "cell_type": "code",
   "execution_count": 17,
   "metadata": {},
   "outputs": [],
   "source": [
    "param_grid = [\n",
    "    {\n",
    "        'C': [0.5, 1, 10, 100],\n",
    "        'gamma': ['scale', 1, 0.1, 0.01, 0.001],\n",
    "        'kernel': ['rbf']\n",
    "    }\n",
    "]"
   ]
  },
  {
   "cell_type": "code",
   "execution_count": 18,
   "metadata": {},
   "outputs": [],
   "source": [
    "optimal_params = GridSearchCV(\n",
    "    SVC(),\n",
    "    param_grid=param_grid,\n",
    "    cv=5,\n",
    "    scoring='f1_macro',\n",
    "    verbose=3\n",
    ")"
   ]
  },
  {
   "cell_type": "code",
   "execution_count": 19,
   "metadata": {},
   "outputs": [
    {
     "name": "stdout",
     "output_type": "stream",
     "text": [
      "Fitting 5 folds for each of 24 candidates, totalling 120 fits\n",
      "[CV 1/5] END ....C=0.5, gamma=scale, kernel=rbf;, score=0.393 total time=   0.1s\n",
      "[CV 2/5] END ....C=0.5, gamma=scale, kernel=rbf;, score=0.444 total time=   0.1s\n",
      "[CV 3/5] END ....C=0.5, gamma=scale, kernel=rbf;, score=0.349 total time=   0.0s\n",
      "[CV 4/5] END ....C=0.5, gamma=scale, kernel=rbf;, score=0.447 total time=   0.0s\n",
      "[CV 5/5] END ....C=0.5, gamma=scale, kernel=rbf;, score=0.447 total time=   0.1s\n",
      "[CV 1/5] END ........C=0.5, gamma=1, kernel=rbf;, score=0.301 total time=   0.2s\n",
      "[CV 2/5] END ........C=0.5, gamma=1, kernel=rbf;, score=0.301 total time=   0.3s\n",
      "[CV 3/5] END ........C=0.5, gamma=1, kernel=rbf;, score=0.301 total time=   0.4s\n",
      "[CV 4/5] END ........C=0.5, gamma=1, kernel=rbf;, score=0.301 total time=   0.4s\n",
      "[CV 5/5] END ........C=0.5, gamma=1, kernel=rbf;, score=0.301 total time=   0.2s\n",
      "[CV 1/5] END ......C=0.5, gamma=0.1, kernel=rbf;, score=0.395 total time=   0.1s\n",
      "[CV 2/5] END ......C=0.5, gamma=0.1, kernel=rbf;, score=0.444 total time=   0.1s\n",
      "[CV 3/5] END ......C=0.5, gamma=0.1, kernel=rbf;, score=0.357 total time=   0.1s\n",
      "[CV 4/5] END ......C=0.5, gamma=0.1, kernel=rbf;, score=0.447 total time=   0.1s\n",
      "[CV 5/5] END ......C=0.5, gamma=0.1, kernel=rbf;, score=0.443 total time=   0.3s\n",
      "[CV 1/5] END .....C=0.5, gamma=0.01, kernel=rbf;, score=0.393 total time=   0.1s\n",
      "[CV 2/5] END .....C=0.5, gamma=0.01, kernel=rbf;, score=0.446 total time=   0.1s\n",
      "[CV 3/5] END .....C=0.5, gamma=0.01, kernel=rbf;, score=0.341 total time=   0.1s\n",
      "[CV 4/5] END .....C=0.5, gamma=0.01, kernel=rbf;, score=0.448 total time=   0.1s\n",
      "[CV 5/5] END .....C=0.5, gamma=0.01, kernel=rbf;, score=0.447 total time=   0.0s\n",
      "[CV 1/5] END ....C=0.5, gamma=0.001, kernel=rbf;, score=0.323 total time=   0.1s\n",
      "[CV 2/5] END ....C=0.5, gamma=0.001, kernel=rbf;, score=0.417 total time=   0.0s\n",
      "[CV 3/5] END ....C=0.5, gamma=0.001, kernel=rbf;, score=0.363 total time=   0.1s\n",
      "[CV 4/5] END ....C=0.5, gamma=0.001, kernel=rbf;, score=0.510 total time=   0.1s\n",
      "[CV 5/5] END ....C=0.5, gamma=0.001, kernel=rbf;, score=0.472 total time=   0.1s\n",
      "[CV 1/5] END ....C=0.5, gamma=0.001, kernel=rbf;, score=0.323 total time=   0.0s\n",
      "[CV 2/5] END ....C=0.5, gamma=0.001, kernel=rbf;, score=0.417 total time=   0.0s\n",
      "[CV 3/5] END ....C=0.5, gamma=0.001, kernel=rbf;, score=0.363 total time=   0.1s\n",
      "[CV 4/5] END ....C=0.5, gamma=0.001, kernel=rbf;, score=0.510 total time=   0.2s\n",
      "[CV 5/5] END ....C=0.5, gamma=0.001, kernel=rbf;, score=0.472 total time=   0.1s\n",
      "[CV 1/5] END ......C=1, gamma=scale, kernel=rbf;, score=0.393 total time=   0.1s\n",
      "[CV 2/5] END ......C=1, gamma=scale, kernel=rbf;, score=0.444 total time=   0.1s\n",
      "[CV 3/5] END ......C=1, gamma=scale, kernel=rbf;, score=0.360 total time=   0.1s\n",
      "[CV 4/5] END ......C=1, gamma=scale, kernel=rbf;, score=0.454 total time=   0.1s\n",
      "[CV 5/5] END ......C=1, gamma=scale, kernel=rbf;, score=0.441 total time=   0.0s\n",
      "[CV 1/5] END ..........C=1, gamma=1, kernel=rbf;, score=0.322 total time=   0.2s\n",
      "[CV 2/5] END ..........C=1, gamma=1, kernel=rbf;, score=0.311 total time=   0.2s\n",
      "[CV 3/5] END ..........C=1, gamma=1, kernel=rbf;, score=0.322 total time=   0.2s\n",
      "[CV 4/5] END ..........C=1, gamma=1, kernel=rbf;, score=0.301 total time=   0.3s\n",
      "[CV 5/5] END ..........C=1, gamma=1, kernel=rbf;, score=0.313 total time=   0.2s\n",
      "[CV 1/5] END ........C=1, gamma=0.1, kernel=rbf;, score=0.397 total time=   0.1s\n",
      "[CV 2/5] END ........C=1, gamma=0.1, kernel=rbf;, score=0.444 total time=   0.1s\n",
      "[CV 3/5] END ........C=1, gamma=0.1, kernel=rbf;, score=0.357 total time=   0.1s\n",
      "[CV 4/5] END ........C=1, gamma=0.1, kernel=rbf;, score=0.459 total time=   0.1s\n",
      "[CV 5/5] END ........C=1, gamma=0.1, kernel=rbf;, score=0.443 total time=   0.1s\n",
      "[CV 1/5] END .......C=1, gamma=0.01, kernel=rbf;, score=0.393 total time=   0.1s\n",
      "[CV 2/5] END .......C=1, gamma=0.01, kernel=rbf;, score=0.460 total time=   0.0s\n",
      "[CV 3/5] END .......C=1, gamma=0.01, kernel=rbf;, score=0.351 total time=   0.1s\n",
      "[CV 4/5] END .......C=1, gamma=0.01, kernel=rbf;, score=0.450 total time=   0.0s\n",
      "[CV 5/5] END .......C=1, gamma=0.01, kernel=rbf;, score=0.441 total time=   0.0s\n",
      "[CV 1/5] END ......C=1, gamma=0.001, kernel=rbf;, score=0.451 total time=   0.0s\n",
      "[CV 2/5] END ......C=1, gamma=0.001, kernel=rbf;, score=0.435 total time=   0.2s\n",
      "[CV 3/5] END ......C=1, gamma=0.001, kernel=rbf;, score=0.383 total time=   0.1s\n",
      "[CV 4/5] END ......C=1, gamma=0.001, kernel=rbf;, score=0.554 total time=   0.1s\n",
      "[CV 5/5] END ......C=1, gamma=0.001, kernel=rbf;, score=0.497 total time=   0.0s\n",
      "[CV 1/5] END ......C=1, gamma=0.001, kernel=rbf;, score=0.451 total time=   0.0s\n",
      "[CV 2/5] END ......C=1, gamma=0.001, kernel=rbf;, score=0.435 total time=   0.0s\n",
      "[CV 3/5] END ......C=1, gamma=0.001, kernel=rbf;, score=0.383 total time=   0.0s\n",
      "[CV 4/5] END ......C=1, gamma=0.001, kernel=rbf;, score=0.554 total time=   0.0s\n",
      "[CV 5/5] END ......C=1, gamma=0.001, kernel=rbf;, score=0.497 total time=   0.1s\n",
      "[CV 1/5] END .....C=10, gamma=scale, kernel=rbf;, score=0.384 total time=   0.1s\n",
      "[CV 2/5] END .....C=10, gamma=scale, kernel=rbf;, score=0.444 total time=   0.1s\n",
      "[CV 3/5] END .....C=10, gamma=scale, kernel=rbf;, score=0.422 total time=   0.1s\n",
      "[CV 4/5] END .....C=10, gamma=scale, kernel=rbf;, score=0.461 total time=   0.1s\n",
      "[CV 5/5] END .....C=10, gamma=scale, kernel=rbf;, score=0.467 total time=   0.1s\n",
      "[CV 1/5] END .........C=10, gamma=1, kernel=rbf;, score=0.322 total time=   0.3s\n",
      "[CV 2/5] END .........C=10, gamma=1, kernel=rbf;, score=0.311 total time=   0.2s\n",
      "[CV 3/5] END .........C=10, gamma=1, kernel=rbf;, score=0.365 total time=   0.2s\n",
      "[CV 4/5] END .........C=10, gamma=1, kernel=rbf;, score=0.319 total time=   0.2s\n",
      "[CV 5/5] END .........C=10, gamma=1, kernel=rbf;, score=0.333 total time=   0.3s\n",
      "[CV 1/5] END .......C=10, gamma=0.1, kernel=rbf;, score=0.419 total time=   0.2s\n",
      "[CV 2/5] END .......C=10, gamma=0.1, kernel=rbf;, score=0.441 total time=   0.2s\n",
      "[CV 3/5] END .......C=10, gamma=0.1, kernel=rbf;, score=0.363 total time=   0.3s\n",
      "[CV 4/5] END .......C=10, gamma=0.1, kernel=rbf;, score=0.483 total time=   0.1s\n",
      "[CV 5/5] END .......C=10, gamma=0.1, kernel=rbf;, score=0.470 total time=   0.1s\n",
      "[CV 1/5] END ......C=10, gamma=0.01, kernel=rbf;, score=0.419 total time=   0.0s\n",
      "[CV 2/5] END ......C=10, gamma=0.01, kernel=rbf;, score=0.485 total time=   0.1s\n",
      "[CV 3/5] END ......C=10, gamma=0.01, kernel=rbf;, score=0.351 total time=   0.1s\n",
      "[CV 4/5] END ......C=10, gamma=0.01, kernel=rbf;, score=0.546 total time=   0.1s\n",
      "[CV 5/5] END ......C=10, gamma=0.01, kernel=rbf;, score=0.434 total time=   0.1s\n",
      "[CV 1/5] END .....C=10, gamma=0.001, kernel=rbf;, score=0.542 total time=   0.1s\n",
      "[CV 2/5] END .....C=10, gamma=0.001, kernel=rbf;, score=0.440 total time=   0.0s\n",
      "[CV 3/5] END .....C=10, gamma=0.001, kernel=rbf;, score=0.392 total time=   0.0s\n",
      "[CV 4/5] END .....C=10, gamma=0.001, kernel=rbf;, score=0.584 total time=   0.0s\n",
      "[CV 5/5] END .....C=10, gamma=0.001, kernel=rbf;, score=0.512 total time=   0.1s\n",
      "[CV 1/5] END .....C=10, gamma=0.001, kernel=rbf;, score=0.542 total time=   0.1s\n",
      "[CV 2/5] END .....C=10, gamma=0.001, kernel=rbf;, score=0.440 total time=   0.1s\n",
      "[CV 3/5] END .....C=10, gamma=0.001, kernel=rbf;, score=0.392 total time=   0.0s\n",
      "[CV 4/5] END .....C=10, gamma=0.001, kernel=rbf;, score=0.584 total time=   0.1s\n",
      "[CV 5/5] END .....C=10, gamma=0.001, kernel=rbf;, score=0.512 total time=   0.0s\n",
      "[CV 1/5] END ....C=100, gamma=scale, kernel=rbf;, score=0.461 total time=   0.2s\n",
      "[CV 2/5] END ....C=100, gamma=scale, kernel=rbf;, score=0.444 total time=   0.3s\n",
      "[CV 3/5] END ....C=100, gamma=scale, kernel=rbf;, score=0.458 total time=   0.3s\n",
      "[CV 4/5] END ....C=100, gamma=scale, kernel=rbf;, score=0.521 total time=   0.3s\n",
      "[CV 5/5] END ....C=100, gamma=scale, kernel=rbf;, score=0.478 total time=   0.3s\n",
      "[CV 1/5] END ........C=100, gamma=1, kernel=rbf;, score=0.320 total time=   0.5s\n",
      "[CV 2/5] END ........C=100, gamma=1, kernel=rbf;, score=0.311 total time=   0.7s\n",
      "[CV 3/5] END ........C=100, gamma=1, kernel=rbf;, score=0.373 total time=   1.5s\n",
      "[CV 4/5] END ........C=100, gamma=1, kernel=rbf;, score=0.316 total time=   0.7s\n",
      "[CV 5/5] END ........C=100, gamma=1, kernel=rbf;, score=0.331 total time=   0.7s\n",
      "[CV 1/5] END ......C=100, gamma=0.1, kernel=rbf;, score=0.425 total time=   0.4s\n",
      "[CV 2/5] END ......C=100, gamma=0.1, kernel=rbf;, score=0.336 total time=   0.4s\n",
      "[CV 3/5] END ......C=100, gamma=0.1, kernel=rbf;, score=0.406 total time=   0.3s\n",
      "[CV 4/5] END ......C=100, gamma=0.1, kernel=rbf;, score=0.480 total time=   0.6s\n",
      "[CV 5/5] END ......C=100, gamma=0.1, kernel=rbf;, score=0.539 total time=   0.3s\n",
      "[CV 1/5] END .....C=100, gamma=0.01, kernel=rbf;, score=0.453 total time=   0.2s\n",
      "[CV 2/5] END .....C=100, gamma=0.01, kernel=rbf;, score=0.457 total time=   0.2s\n",
      "[CV 3/5] END .....C=100, gamma=0.01, kernel=rbf;, score=0.466 total time=   0.2s\n",
      "[CV 4/5] END .....C=100, gamma=0.01, kernel=rbf;, score=0.521 total time=   0.3s\n",
      "[CV 5/5] END .....C=100, gamma=0.01, kernel=rbf;, score=0.495 total time=   0.2s\n",
      "[CV 1/5] END ....C=100, gamma=0.001, kernel=rbf;, score=0.523 total time=   0.1s\n",
      "[CV 2/5] END ....C=100, gamma=0.001, kernel=rbf;, score=0.422 total time=   0.2s\n",
      "[CV 3/5] END ....C=100, gamma=0.001, kernel=rbf;, score=0.369 total time=   0.1s\n",
      "[CV 4/5] END ....C=100, gamma=0.001, kernel=rbf;, score=0.506 total time=   0.1s\n",
      "[CV 5/5] END ....C=100, gamma=0.001, kernel=rbf;, score=0.503 total time=   0.2s\n",
      "[CV 1/5] END ....C=100, gamma=0.001, kernel=rbf;, score=0.523 total time=   0.2s\n",
      "[CV 2/5] END ....C=100, gamma=0.001, kernel=rbf;, score=0.422 total time=   0.1s\n",
      "[CV 3/5] END ....C=100, gamma=0.001, kernel=rbf;, score=0.369 total time=   0.3s\n",
      "[CV 4/5] END ....C=100, gamma=0.001, kernel=rbf;, score=0.506 total time=   0.1s\n",
      "[CV 5/5] END ....C=100, gamma=0.001, kernel=rbf;, score=0.503 total time=   0.3s\n"
     ]
    },
    {
     "data": {
      "text/html": [
       "<style>#sk-container-id-2 {color: black;}#sk-container-id-2 pre{padding: 0;}#sk-container-id-2 div.sk-toggleable {background-color: white;}#sk-container-id-2 label.sk-toggleable__label {cursor: pointer;display: block;width: 100%;margin-bottom: 0;padding: 0.3em;box-sizing: border-box;text-align: center;}#sk-container-id-2 label.sk-toggleable__label-arrow:before {content: \"▸\";float: left;margin-right: 0.25em;color: #696969;}#sk-container-id-2 label.sk-toggleable__label-arrow:hover:before {color: black;}#sk-container-id-2 div.sk-estimator:hover label.sk-toggleable__label-arrow:before {color: black;}#sk-container-id-2 div.sk-toggleable__content {max-height: 0;max-width: 0;overflow: hidden;text-align: left;background-color: #f0f8ff;}#sk-container-id-2 div.sk-toggleable__content pre {margin: 0.2em;color: black;border-radius: 0.25em;background-color: #f0f8ff;}#sk-container-id-2 input.sk-toggleable__control:checked~div.sk-toggleable__content {max-height: 200px;max-width: 100%;overflow: auto;}#sk-container-id-2 input.sk-toggleable__control:checked~label.sk-toggleable__label-arrow:before {content: \"▾\";}#sk-container-id-2 div.sk-estimator input.sk-toggleable__control:checked~label.sk-toggleable__label {background-color: #d4ebff;}#sk-container-id-2 div.sk-label input.sk-toggleable__control:checked~label.sk-toggleable__label {background-color: #d4ebff;}#sk-container-id-2 input.sk-hidden--visually {border: 0;clip: rect(1px 1px 1px 1px);clip: rect(1px, 1px, 1px, 1px);height: 1px;margin: -1px;overflow: hidden;padding: 0;position: absolute;width: 1px;}#sk-container-id-2 div.sk-estimator {font-family: monospace;background-color: #f0f8ff;border: 1px dotted black;border-radius: 0.25em;box-sizing: border-box;margin-bottom: 0.5em;}#sk-container-id-2 div.sk-estimator:hover {background-color: #d4ebff;}#sk-container-id-2 div.sk-parallel-item::after {content: \"\";width: 100%;border-bottom: 1px solid gray;flex-grow: 1;}#sk-container-id-2 div.sk-label:hover label.sk-toggleable__label {background-color: #d4ebff;}#sk-container-id-2 div.sk-serial::before {content: \"\";position: absolute;border-left: 1px solid gray;box-sizing: border-box;top: 0;bottom: 0;left: 50%;z-index: 0;}#sk-container-id-2 div.sk-serial {display: flex;flex-direction: column;align-items: center;background-color: white;padding-right: 0.2em;padding-left: 0.2em;position: relative;}#sk-container-id-2 div.sk-item {position: relative;z-index: 1;}#sk-container-id-2 div.sk-parallel {display: flex;align-items: stretch;justify-content: center;background-color: white;position: relative;}#sk-container-id-2 div.sk-item::before, #sk-container-id-2 div.sk-parallel-item::before {content: \"\";position: absolute;border-left: 1px solid gray;box-sizing: border-box;top: 0;bottom: 0;left: 50%;z-index: -1;}#sk-container-id-2 div.sk-parallel-item {display: flex;flex-direction: column;z-index: 1;position: relative;background-color: white;}#sk-container-id-2 div.sk-parallel-item:first-child::after {align-self: flex-end;width: 50%;}#sk-container-id-2 div.sk-parallel-item:last-child::after {align-self: flex-start;width: 50%;}#sk-container-id-2 div.sk-parallel-item:only-child::after {width: 0;}#sk-container-id-2 div.sk-dashed-wrapped {border: 1px dashed gray;margin: 0 0.4em 0.5em 0.4em;box-sizing: border-box;padding-bottom: 0.4em;background-color: white;}#sk-container-id-2 div.sk-label label {font-family: monospace;font-weight: bold;display: inline-block;line-height: 1.2em;}#sk-container-id-2 div.sk-label-container {text-align: center;}#sk-container-id-2 div.sk-container {/* jupyter's `normalize.less` sets `[hidden] { display: none; }` but bootstrap.min.css set `[hidden] { display: none !important; }` so we also need the `!important` here to be able to override the default hidden behavior on the sphinx rendered scikit-learn.org. See: https://github.com/scikit-learn/scikit-learn/issues/21755 */display: inline-block !important;position: relative;}#sk-container-id-2 div.sk-text-repr-fallback {display: none;}</style><div id=\"sk-container-id-2\" class=\"sk-top-container\"><div class=\"sk-text-repr-fallback\"><pre>GridSearchCV(cv=5, estimator=SVC(),\n",
       "             param_grid=[{&#x27;C&#x27;: [0.5, 1, 10, 100],\n",
       "                          &#x27;gamma&#x27;: [&#x27;scale&#x27;, 1, 0.1, 0.01, 0.001, 0.001],\n",
       "                          &#x27;kernel&#x27;: [&#x27;rbf&#x27;]}],\n",
       "             scoring=&#x27;f1_macro&#x27;, verbose=3)</pre><b>In a Jupyter environment, please rerun this cell to show the HTML representation or trust the notebook. <br />On GitHub, the HTML representation is unable to render, please try loading this page with nbviewer.org.</b></div><div class=\"sk-container\" hidden><div class=\"sk-item sk-dashed-wrapped\"><div class=\"sk-label-container\"><div class=\"sk-label sk-toggleable\"><input class=\"sk-toggleable__control sk-hidden--visually\" id=\"sk-estimator-id-2\" type=\"checkbox\" ><label for=\"sk-estimator-id-2\" class=\"sk-toggleable__label sk-toggleable__label-arrow\">GridSearchCV</label><div class=\"sk-toggleable__content\"><pre>GridSearchCV(cv=5, estimator=SVC(),\n",
       "             param_grid=[{&#x27;C&#x27;: [0.5, 1, 10, 100],\n",
       "                          &#x27;gamma&#x27;: [&#x27;scale&#x27;, 1, 0.1, 0.01, 0.001, 0.001],\n",
       "                          &#x27;kernel&#x27;: [&#x27;rbf&#x27;]}],\n",
       "             scoring=&#x27;f1_macro&#x27;, verbose=3)</pre></div></div></div><div class=\"sk-parallel\"><div class=\"sk-parallel-item\"><div class=\"sk-item\"><div class=\"sk-label-container\"><div class=\"sk-label sk-toggleable\"><input class=\"sk-toggleable__control sk-hidden--visually\" id=\"sk-estimator-id-3\" type=\"checkbox\" ><label for=\"sk-estimator-id-3\" class=\"sk-toggleable__label sk-toggleable__label-arrow\">estimator: SVC</label><div class=\"sk-toggleable__content\"><pre>SVC()</pre></div></div></div><div class=\"sk-serial\"><div class=\"sk-item\"><div class=\"sk-estimator sk-toggleable\"><input class=\"sk-toggleable__control sk-hidden--visually\" id=\"sk-estimator-id-4\" type=\"checkbox\" ><label for=\"sk-estimator-id-4\" class=\"sk-toggleable__label sk-toggleable__label-arrow\">SVC</label><div class=\"sk-toggleable__content\"><pre>SVC()</pre></div></div></div></div></div></div></div></div></div></div>"
      ],
      "text/plain": [
       "GridSearchCV(cv=5, estimator=SVC(),\n",
       "             param_grid=[{'C': [0.5, 1, 10, 100],\n",
       "                          'gamma': ['scale', 1, 0.1, 0.01, 0.001, 0.001],\n",
       "                          'kernel': ['rbf']}],\n",
       "             scoring='f1_macro', verbose=3)"
      ]
     },
     "execution_count": 19,
     "metadata": {},
     "output_type": "execute_result"
    }
   ],
   "source": [
    "optimal_params.fit(X_train_scaled, y_train)\n",
    "# print(optimal_params)"
   ]
  },
  {
   "cell_type": "code",
   "execution_count": null,
   "metadata": {},
   "outputs": [
    {
     "data": {
      "text/plain": [
       "({'C': 10, 'gamma': 0.001, 'kernel': 'rbf'}, 0.49404256935966656)"
      ]
     },
     "metadata": {},
     "output_type": "display_data"
    }
   ],
   "source": [
    "optimal_params.best_params_, optimal_params.best_score_"
   ]
  },
  {
   "cell_type": "code",
   "execution_count": 17,
   "metadata": {},
   "outputs": [],
   "source": [
    "param_grid = [\n",
    "    {\n",
    "        'C': [0.5, 1, 10],\n",
    "        'gamma': ['scale', 1, 0.1, 0.01, 0.001],\n",
    "        'kernel': ['linear']\n",
    "    }\n",
    "]"
   ]
  },
  {
   "cell_type": "code",
   "execution_count": 18,
   "metadata": {},
   "outputs": [],
   "source": [
    "optimal_params = GridSearchCV(\n",
    "    SVC(),\n",
    "    param_grid=param_grid,\n",
    "    cv=5,\n",
    "    scoring='f1_macro',\n",
    "    verbose=3\n",
    ")"
   ]
  },
  {
   "cell_type": "code",
   "execution_count": 19,
   "metadata": {},
   "outputs": [
    {
     "name": "stdout",
     "output_type": "stream",
     "text": [
      "Fitting 5 folds for each of 18 candidates, totalling 90 fits\n",
      "[CV 1/5] END .C=0.5, gamma=scale, kernel=linear;, score=0.466 total time=   0.1s\n",
      "[CV 2/5] END .C=0.5, gamma=scale, kernel=linear;, score=0.429 total time=   0.2s\n",
      "[CV 3/5] END .C=0.5, gamma=scale, kernel=linear;, score=0.412 total time=   0.1s\n",
      "[CV 4/5] END .C=0.5, gamma=scale, kernel=linear;, score=0.527 total time=   0.1s\n",
      "[CV 5/5] END .C=0.5, gamma=scale, kernel=linear;, score=0.477 total time=   0.0s\n",
      "[CV 1/5] END .....C=0.5, gamma=1, kernel=linear;, score=0.466 total time=   0.0s\n",
      "[CV 2/5] END .....C=0.5, gamma=1, kernel=linear;, score=0.429 total time=   0.1s\n",
      "[CV 3/5] END .....C=0.5, gamma=1, kernel=linear;, score=0.412 total time=   0.1s\n",
      "[CV 4/5] END .....C=0.5, gamma=1, kernel=linear;, score=0.527 total time=   0.1s\n",
      "[CV 5/5] END .....C=0.5, gamma=1, kernel=linear;, score=0.477 total time=   0.0s\n",
      "[CV 1/5] END ...C=0.5, gamma=0.1, kernel=linear;, score=0.466 total time=   0.1s\n",
      "[CV 2/5] END ...C=0.5, gamma=0.1, kernel=linear;, score=0.429 total time=   0.0s\n",
      "[CV 3/5] END ...C=0.5, gamma=0.1, kernel=linear;, score=0.412 total time=   0.0s\n",
      "[CV 4/5] END ...C=0.5, gamma=0.1, kernel=linear;, score=0.527 total time=   0.1s\n",
      "[CV 5/5] END ...C=0.5, gamma=0.1, kernel=linear;, score=0.477 total time=   0.0s\n",
      "[CV 1/5] END ..C=0.5, gamma=0.01, kernel=linear;, score=0.466 total time=   0.1s\n",
      "[CV 2/5] END ..C=0.5, gamma=0.01, kernel=linear;, score=0.429 total time=   0.1s\n",
      "[CV 3/5] END ..C=0.5, gamma=0.01, kernel=linear;, score=0.412 total time=   0.1s\n",
      "[CV 4/5] END ..C=0.5, gamma=0.01, kernel=linear;, score=0.527 total time=   0.1s\n",
      "[CV 5/5] END ..C=0.5, gamma=0.01, kernel=linear;, score=0.477 total time=   0.0s\n",
      "[CV 1/5] END .C=0.5, gamma=0.001, kernel=linear;, score=0.466 total time=   0.0s\n",
      "[CV 2/5] END .C=0.5, gamma=0.001, kernel=linear;, score=0.429 total time=   0.0s\n",
      "[CV 3/5] END .C=0.5, gamma=0.001, kernel=linear;, score=0.412 total time=   0.1s\n",
      "[CV 4/5] END .C=0.5, gamma=0.001, kernel=linear;, score=0.527 total time=   0.1s\n",
      "[CV 5/5] END .C=0.5, gamma=0.001, kernel=linear;, score=0.477 total time=   0.0s\n",
      "[CV 1/5] END .C=0.5, gamma=0.001, kernel=linear;, score=0.466 total time=   0.1s\n",
      "[CV 2/5] END .C=0.5, gamma=0.001, kernel=linear;, score=0.429 total time=   0.1s\n",
      "[CV 3/5] END .C=0.5, gamma=0.001, kernel=linear;, score=0.412 total time=   0.1s\n",
      "[CV 4/5] END .C=0.5, gamma=0.001, kernel=linear;, score=0.527 total time=   0.1s\n",
      "[CV 5/5] END .C=0.5, gamma=0.001, kernel=linear;, score=0.477 total time=   0.0s\n",
      "[CV 1/5] END ...C=1, gamma=scale, kernel=linear;, score=0.466 total time=   0.4s\n",
      "[CV 2/5] END ...C=1, gamma=scale, kernel=linear;, score=0.430 total time=   0.2s\n",
      "[CV 3/5] END ...C=1, gamma=scale, kernel=linear;, score=0.433 total time=   0.4s\n",
      "[CV 4/5] END ...C=1, gamma=scale, kernel=linear;, score=0.527 total time=   0.2s\n",
      "[CV 5/5] END ...C=1, gamma=scale, kernel=linear;, score=0.477 total time=   0.1s\n",
      "[CV 1/5] END .......C=1, gamma=1, kernel=linear;, score=0.466 total time=   0.2s\n",
      "[CV 2/5] END .......C=1, gamma=1, kernel=linear;, score=0.430 total time=   0.2s\n",
      "[CV 3/5] END .......C=1, gamma=1, kernel=linear;, score=0.433 total time=   0.4s\n",
      "[CV 4/5] END .......C=1, gamma=1, kernel=linear;, score=0.527 total time=   0.2s\n",
      "[CV 5/5] END .......C=1, gamma=1, kernel=linear;, score=0.477 total time=   0.1s\n",
      "[CV 1/5] END .....C=1, gamma=0.1, kernel=linear;, score=0.466 total time=   0.2s\n",
      "[CV 2/5] END .....C=1, gamma=0.1, kernel=linear;, score=0.430 total time=   0.2s\n",
      "[CV 3/5] END .....C=1, gamma=0.1, kernel=linear;, score=0.433 total time=   0.3s\n",
      "[CV 4/5] END .....C=1, gamma=0.1, kernel=linear;, score=0.527 total time=   0.2s\n",
      "[CV 5/5] END .....C=1, gamma=0.1, kernel=linear;, score=0.477 total time=   0.0s\n",
      "[CV 1/5] END ....C=1, gamma=0.01, kernel=linear;, score=0.466 total time=   0.3s\n",
      "[CV 2/5] END ....C=1, gamma=0.01, kernel=linear;, score=0.430 total time=   0.2s\n",
      "[CV 3/5] END ....C=1, gamma=0.01, kernel=linear;, score=0.433 total time=   0.2s\n",
      "[CV 4/5] END ....C=1, gamma=0.01, kernel=linear;, score=0.527 total time=   0.2s\n",
      "[CV 5/5] END ....C=1, gamma=0.01, kernel=linear;, score=0.477 total time=   0.0s\n",
      "[CV 1/5] END ...C=1, gamma=0.001, kernel=linear;, score=0.466 total time=   0.2s\n",
      "[CV 2/5] END ...C=1, gamma=0.001, kernel=linear;, score=0.430 total time=   0.1s\n",
      "[CV 3/5] END ...C=1, gamma=0.001, kernel=linear;, score=0.433 total time=   0.2s\n",
      "[CV 4/5] END ...C=1, gamma=0.001, kernel=linear;, score=0.527 total time=   0.2s\n",
      "[CV 5/5] END ...C=1, gamma=0.001, kernel=linear;, score=0.477 total time=   0.0s\n",
      "[CV 1/5] END ...C=1, gamma=0.001, kernel=linear;, score=0.466 total time=   0.3s\n",
      "[CV 2/5] END ...C=1, gamma=0.001, kernel=linear;, score=0.430 total time=   0.2s\n",
      "[CV 3/5] END ...C=1, gamma=0.001, kernel=linear;, score=0.433 total time=   0.2s\n",
      "[CV 4/5] END ...C=1, gamma=0.001, kernel=linear;, score=0.527 total time=   0.2s\n",
      "[CV 5/5] END ...C=1, gamma=0.001, kernel=linear;, score=0.477 total time=   0.0s\n",
      "[CV 1/5] END ..C=10, gamma=scale, kernel=linear;, score=0.487 total time=   2.8s\n",
      "[CV 2/5] END ..C=10, gamma=scale, kernel=linear;, score=0.420 total time=   3.9s\n",
      "[CV 3/5] END ..C=10, gamma=scale, kernel=linear;, score=0.447 total time=   1.7s\n",
      "[CV 4/5] END ..C=10, gamma=scale, kernel=linear;, score=0.546 total time=   4.5s\n",
      "[CV 5/5] END ..C=10, gamma=scale, kernel=linear;, score=0.517 total time=   2.0s\n",
      "[CV 1/5] END ......C=10, gamma=1, kernel=linear;, score=0.487 total time=   3.1s\n",
      "[CV 2/5] END ......C=10, gamma=1, kernel=linear;, score=0.420 total time=   8.5s\n",
      "[CV 3/5] END ......C=10, gamma=1, kernel=linear;, score=0.447 total time=   3.9s\n",
      "[CV 4/5] END ......C=10, gamma=1, kernel=linear;, score=0.546 total time=   7.0s\n",
      "[CV 5/5] END ......C=10, gamma=1, kernel=linear;, score=0.517 total time=   2.3s\n",
      "[CV 1/5] END ....C=10, gamma=0.1, kernel=linear;, score=0.487 total time=   3.8s\n",
      "[CV 2/5] END ....C=10, gamma=0.1, kernel=linear;, score=0.420 total time=   4.1s\n",
      "[CV 3/5] END ....C=10, gamma=0.1, kernel=linear;, score=0.447 total time=   1.7s\n",
      "[CV 4/5] END ....C=10, gamma=0.1, kernel=linear;, score=0.546 total time=   4.3s\n",
      "[CV 5/5] END ....C=10, gamma=0.1, kernel=linear;, score=0.517 total time=   1.5s\n",
      "[CV 1/5] END ...C=10, gamma=0.01, kernel=linear;, score=0.487 total time=   2.7s\n",
      "[CV 2/5] END ...C=10, gamma=0.01, kernel=linear;, score=0.420 total time=   3.9s\n",
      "[CV 3/5] END ...C=10, gamma=0.01, kernel=linear;, score=0.447 total time=   1.5s\n",
      "[CV 4/5] END ...C=10, gamma=0.01, kernel=linear;, score=0.546 total time=   4.1s\n",
      "[CV 5/5] END ...C=10, gamma=0.01, kernel=linear;, score=0.517 total time=   1.4s\n",
      "[CV 1/5] END ..C=10, gamma=0.001, kernel=linear;, score=0.487 total time=   2.7s\n",
      "[CV 2/5] END ..C=10, gamma=0.001, kernel=linear;, score=0.420 total time=   4.8s\n",
      "[CV 3/5] END ..C=10, gamma=0.001, kernel=linear;, score=0.447 total time=   2.0s\n",
      "[CV 4/5] END ..C=10, gamma=0.001, kernel=linear;, score=0.546 total time=   4.5s\n",
      "[CV 5/5] END ..C=10, gamma=0.001, kernel=linear;, score=0.517 total time=   1.3s\n",
      "[CV 1/5] END ..C=10, gamma=0.001, kernel=linear;, score=0.487 total time=   2.9s\n",
      "[CV 2/5] END ..C=10, gamma=0.001, kernel=linear;, score=0.420 total time=   3.9s\n",
      "[CV 3/5] END ..C=10, gamma=0.001, kernel=linear;, score=0.447 total time=   1.7s\n",
      "[CV 4/5] END ..C=10, gamma=0.001, kernel=linear;, score=0.546 total time=   4.3s\n",
      "[CV 5/5] END ..C=10, gamma=0.001, kernel=linear;, score=0.517 total time=   1.4s\n"
     ]
    },
    {
     "data": {
      "text/html": [
       "<style>#sk-container-id-2 {color: black;}#sk-container-id-2 pre{padding: 0;}#sk-container-id-2 div.sk-toggleable {background-color: white;}#sk-container-id-2 label.sk-toggleable__label {cursor: pointer;display: block;width: 100%;margin-bottom: 0;padding: 0.3em;box-sizing: border-box;text-align: center;}#sk-container-id-2 label.sk-toggleable__label-arrow:before {content: \"▸\";float: left;margin-right: 0.25em;color: #696969;}#sk-container-id-2 label.sk-toggleable__label-arrow:hover:before {color: black;}#sk-container-id-2 div.sk-estimator:hover label.sk-toggleable__label-arrow:before {color: black;}#sk-container-id-2 div.sk-toggleable__content {max-height: 0;max-width: 0;overflow: hidden;text-align: left;background-color: #f0f8ff;}#sk-container-id-2 div.sk-toggleable__content pre {margin: 0.2em;color: black;border-radius: 0.25em;background-color: #f0f8ff;}#sk-container-id-2 input.sk-toggleable__control:checked~div.sk-toggleable__content {max-height: 200px;max-width: 100%;overflow: auto;}#sk-container-id-2 input.sk-toggleable__control:checked~label.sk-toggleable__label-arrow:before {content: \"▾\";}#sk-container-id-2 div.sk-estimator input.sk-toggleable__control:checked~label.sk-toggleable__label {background-color: #d4ebff;}#sk-container-id-2 div.sk-label input.sk-toggleable__control:checked~label.sk-toggleable__label {background-color: #d4ebff;}#sk-container-id-2 input.sk-hidden--visually {border: 0;clip: rect(1px 1px 1px 1px);clip: rect(1px, 1px, 1px, 1px);height: 1px;margin: -1px;overflow: hidden;padding: 0;position: absolute;width: 1px;}#sk-container-id-2 div.sk-estimator {font-family: monospace;background-color: #f0f8ff;border: 1px dotted black;border-radius: 0.25em;box-sizing: border-box;margin-bottom: 0.5em;}#sk-container-id-2 div.sk-estimator:hover {background-color: #d4ebff;}#sk-container-id-2 div.sk-parallel-item::after {content: \"\";width: 100%;border-bottom: 1px solid gray;flex-grow: 1;}#sk-container-id-2 div.sk-label:hover label.sk-toggleable__label {background-color: #d4ebff;}#sk-container-id-2 div.sk-serial::before {content: \"\";position: absolute;border-left: 1px solid gray;box-sizing: border-box;top: 0;bottom: 0;left: 50%;z-index: 0;}#sk-container-id-2 div.sk-serial {display: flex;flex-direction: column;align-items: center;background-color: white;padding-right: 0.2em;padding-left: 0.2em;position: relative;}#sk-container-id-2 div.sk-item {position: relative;z-index: 1;}#sk-container-id-2 div.sk-parallel {display: flex;align-items: stretch;justify-content: center;background-color: white;position: relative;}#sk-container-id-2 div.sk-item::before, #sk-container-id-2 div.sk-parallel-item::before {content: \"\";position: absolute;border-left: 1px solid gray;box-sizing: border-box;top: 0;bottom: 0;left: 50%;z-index: -1;}#sk-container-id-2 div.sk-parallel-item {display: flex;flex-direction: column;z-index: 1;position: relative;background-color: white;}#sk-container-id-2 div.sk-parallel-item:first-child::after {align-self: flex-end;width: 50%;}#sk-container-id-2 div.sk-parallel-item:last-child::after {align-self: flex-start;width: 50%;}#sk-container-id-2 div.sk-parallel-item:only-child::after {width: 0;}#sk-container-id-2 div.sk-dashed-wrapped {border: 1px dashed gray;margin: 0 0.4em 0.5em 0.4em;box-sizing: border-box;padding-bottom: 0.4em;background-color: white;}#sk-container-id-2 div.sk-label label {font-family: monospace;font-weight: bold;display: inline-block;line-height: 1.2em;}#sk-container-id-2 div.sk-label-container {text-align: center;}#sk-container-id-2 div.sk-container {/* jupyter's `normalize.less` sets `[hidden] { display: none; }` but bootstrap.min.css set `[hidden] { display: none !important; }` so we also need the `!important` here to be able to override the default hidden behavior on the sphinx rendered scikit-learn.org. See: https://github.com/scikit-learn/scikit-learn/issues/21755 */display: inline-block !important;position: relative;}#sk-container-id-2 div.sk-text-repr-fallback {display: none;}</style><div id=\"sk-container-id-2\" class=\"sk-top-container\"><div class=\"sk-text-repr-fallback\"><pre>GridSearchCV(cv=5, estimator=SVC(),\n",
       "             param_grid=[{&#x27;C&#x27;: [0.5, 1, 10],\n",
       "                          &#x27;gamma&#x27;: [&#x27;scale&#x27;, 1, 0.1, 0.01, 0.001, 0.001],\n",
       "                          &#x27;kernel&#x27;: [&#x27;linear&#x27;]}],\n",
       "             scoring=&#x27;f1_macro&#x27;, verbose=3)</pre><b>In a Jupyter environment, please rerun this cell to show the HTML representation or trust the notebook. <br />On GitHub, the HTML representation is unable to render, please try loading this page with nbviewer.org.</b></div><div class=\"sk-container\" hidden><div class=\"sk-item sk-dashed-wrapped\"><div class=\"sk-label-container\"><div class=\"sk-label sk-toggleable\"><input class=\"sk-toggleable__control sk-hidden--visually\" id=\"sk-estimator-id-2\" type=\"checkbox\" ><label for=\"sk-estimator-id-2\" class=\"sk-toggleable__label sk-toggleable__label-arrow\">GridSearchCV</label><div class=\"sk-toggleable__content\"><pre>GridSearchCV(cv=5, estimator=SVC(),\n",
       "             param_grid=[{&#x27;C&#x27;: [0.5, 1, 10],\n",
       "                          &#x27;gamma&#x27;: [&#x27;scale&#x27;, 1, 0.1, 0.01, 0.001, 0.001],\n",
       "                          &#x27;kernel&#x27;: [&#x27;linear&#x27;]}],\n",
       "             scoring=&#x27;f1_macro&#x27;, verbose=3)</pre></div></div></div><div class=\"sk-parallel\"><div class=\"sk-parallel-item\"><div class=\"sk-item\"><div class=\"sk-label-container\"><div class=\"sk-label sk-toggleable\"><input class=\"sk-toggleable__control sk-hidden--visually\" id=\"sk-estimator-id-3\" type=\"checkbox\" ><label for=\"sk-estimator-id-3\" class=\"sk-toggleable__label sk-toggleable__label-arrow\">estimator: SVC</label><div class=\"sk-toggleable__content\"><pre>SVC()</pre></div></div></div><div class=\"sk-serial\"><div class=\"sk-item\"><div class=\"sk-estimator sk-toggleable\"><input class=\"sk-toggleable__control sk-hidden--visually\" id=\"sk-estimator-id-4\" type=\"checkbox\" ><label for=\"sk-estimator-id-4\" class=\"sk-toggleable__label sk-toggleable__label-arrow\">SVC</label><div class=\"sk-toggleable__content\"><pre>SVC()</pre></div></div></div></div></div></div></div></div></div></div>"
      ],
      "text/plain": [
       "GridSearchCV(cv=5, estimator=SVC(),\n",
       "             param_grid=[{'C': [0.5, 1, 10],\n",
       "                          'gamma': ['scale', 1, 0.1, 0.01, 0.001, 0.001],\n",
       "                          'kernel': ['linear']}],\n",
       "             scoring='f1_macro', verbose=3)"
      ]
     },
     "execution_count": 19,
     "metadata": {},
     "output_type": "execute_result"
    }
   ],
   "source": [
    "optimal_params.fit(X_train_scaled, y_train)\n",
    "# print(optimal_params)"
   ]
  },
  {
   "cell_type": "code",
   "execution_count": 20,
   "metadata": {},
   "outputs": [
    {
     "data": {
      "text/plain": [
       "({'C': 10, 'gamma': 'scale', 'kernel': 'linear'}, 0.48316285402722026)"
      ]
     },
     "execution_count": 20,
     "metadata": {},
     "output_type": "execute_result"
    }
   ],
   "source": [
    "optimal_params.best_params_, optimal_params.best_score_"
   ]
  },
  {
   "cell_type": "markdown",
   "metadata": {},
   "source": [
    "## Training"
   ]
  },
  {
   "cell_type": "code",
   "execution_count": 68,
   "metadata": {},
   "outputs": [
    {
     "data": {
      "text/html": [
       "<style>#sk-container-id-9 {color: black;}#sk-container-id-9 pre{padding: 0;}#sk-container-id-9 div.sk-toggleable {background-color: white;}#sk-container-id-9 label.sk-toggleable__label {cursor: pointer;display: block;width: 100%;margin-bottom: 0;padding: 0.3em;box-sizing: border-box;text-align: center;}#sk-container-id-9 label.sk-toggleable__label-arrow:before {content: \"▸\";float: left;margin-right: 0.25em;color: #696969;}#sk-container-id-9 label.sk-toggleable__label-arrow:hover:before {color: black;}#sk-container-id-9 div.sk-estimator:hover label.sk-toggleable__label-arrow:before {color: black;}#sk-container-id-9 div.sk-toggleable__content {max-height: 0;max-width: 0;overflow: hidden;text-align: left;background-color: #f0f8ff;}#sk-container-id-9 div.sk-toggleable__content pre {margin: 0.2em;color: black;border-radius: 0.25em;background-color: #f0f8ff;}#sk-container-id-9 input.sk-toggleable__control:checked~div.sk-toggleable__content {max-height: 200px;max-width: 100%;overflow: auto;}#sk-container-id-9 input.sk-toggleable__control:checked~label.sk-toggleable__label-arrow:before {content: \"▾\";}#sk-container-id-9 div.sk-estimator input.sk-toggleable__control:checked~label.sk-toggleable__label {background-color: #d4ebff;}#sk-container-id-9 div.sk-label input.sk-toggleable__control:checked~label.sk-toggleable__label {background-color: #d4ebff;}#sk-container-id-9 input.sk-hidden--visually {border: 0;clip: rect(1px 1px 1px 1px);clip: rect(1px, 1px, 1px, 1px);height: 1px;margin: -1px;overflow: hidden;padding: 0;position: absolute;width: 1px;}#sk-container-id-9 div.sk-estimator {font-family: monospace;background-color: #f0f8ff;border: 1px dotted black;border-radius: 0.25em;box-sizing: border-box;margin-bottom: 0.5em;}#sk-container-id-9 div.sk-estimator:hover {background-color: #d4ebff;}#sk-container-id-9 div.sk-parallel-item::after {content: \"\";width: 100%;border-bottom: 1px solid gray;flex-grow: 1;}#sk-container-id-9 div.sk-label:hover label.sk-toggleable__label {background-color: #d4ebff;}#sk-container-id-9 div.sk-serial::before {content: \"\";position: absolute;border-left: 1px solid gray;box-sizing: border-box;top: 0;bottom: 0;left: 50%;z-index: 0;}#sk-container-id-9 div.sk-serial {display: flex;flex-direction: column;align-items: center;background-color: white;padding-right: 0.2em;padding-left: 0.2em;position: relative;}#sk-container-id-9 div.sk-item {position: relative;z-index: 1;}#sk-container-id-9 div.sk-parallel {display: flex;align-items: stretch;justify-content: center;background-color: white;position: relative;}#sk-container-id-9 div.sk-item::before, #sk-container-id-9 div.sk-parallel-item::before {content: \"\";position: absolute;border-left: 1px solid gray;box-sizing: border-box;top: 0;bottom: 0;left: 50%;z-index: -1;}#sk-container-id-9 div.sk-parallel-item {display: flex;flex-direction: column;z-index: 1;position: relative;background-color: white;}#sk-container-id-9 div.sk-parallel-item:first-child::after {align-self: flex-end;width: 50%;}#sk-container-id-9 div.sk-parallel-item:last-child::after {align-self: flex-start;width: 50%;}#sk-container-id-9 div.sk-parallel-item:only-child::after {width: 0;}#sk-container-id-9 div.sk-dashed-wrapped {border: 1px dashed gray;margin: 0 0.4em 0.5em 0.4em;box-sizing: border-box;padding-bottom: 0.4em;background-color: white;}#sk-container-id-9 div.sk-label label {font-family: monospace;font-weight: bold;display: inline-block;line-height: 1.2em;}#sk-container-id-9 div.sk-label-container {text-align: center;}#sk-container-id-9 div.sk-container {/* jupyter's `normalize.less` sets `[hidden] { display: none; }` but bootstrap.min.css set `[hidden] { display: none !important; }` so we also need the `!important` here to be able to override the default hidden behavior on the sphinx rendered scikit-learn.org. See: https://github.com/scikit-learn/scikit-learn/issues/21755 */display: inline-block !important;position: relative;}#sk-container-id-9 div.sk-text-repr-fallback {display: none;}</style><div id=\"sk-container-id-9\" class=\"sk-top-container\"><div class=\"sk-text-repr-fallback\"><pre>SVC(C=10, decision_function_shape=&#x27;ovo&#x27;, gamma=0.001, probability=True,\n",
       "    random_state=1)</pre><b>In a Jupyter environment, please rerun this cell to show the HTML representation or trust the notebook. <br />On GitHub, the HTML representation is unable to render, please try loading this page with nbviewer.org.</b></div><div class=\"sk-container\" hidden><div class=\"sk-item\"><div class=\"sk-estimator sk-toggleable\"><input class=\"sk-toggleable__control sk-hidden--visually\" id=\"sk-estimator-id-15\" type=\"checkbox\" checked><label for=\"sk-estimator-id-15\" class=\"sk-toggleable__label sk-toggleable__label-arrow\">SVC</label><div class=\"sk-toggleable__content\"><pre>SVC(C=10, decision_function_shape=&#x27;ovo&#x27;, gamma=0.001, probability=True,\n",
       "    random_state=1)</pre></div></div></div></div></div>"
      ],
      "text/plain": [
       "SVC(C=10, decision_function_shape='ovo', gamma=0.001, probability=True,\n",
       "    random_state=1)"
      ]
     },
     "execution_count": 68,
     "metadata": {},
     "output_type": "execute_result"
    }
   ],
   "source": [
    "clf_svc = SVC(decision_function_shape='ovo',\n",
    "              random_state=1,\n",
    "              probability=True,\n",
    "              C=10,\n",
    "              gamma=0.001,\n",
    "              kernel='rbf')\n",
    "clf_svc.fit(X_train_scaled, y_train)"
   ]
  },
  {
   "cell_type": "markdown",
   "metadata": {},
   "source": [
    "## Testing"
   ]
  },
  {
   "cell_type": "code",
   "execution_count": 69,
   "metadata": {},
   "outputs": [],
   "source": [
    "predictions = clf_svc.predict(X_test_scaled)\n",
    "cm = confusion_matrix(y_test, predictions)"
   ]
  },
  {
   "cell_type": "code",
   "execution_count": 70,
   "metadata": {},
   "outputs": [
    {
     "data": {
      "text/plain": [
       "<sklearn.metrics._plot.confusion_matrix.ConfusionMatrixDisplay at 0x113f4aaa3b0>"
      ]
     },
     "execution_count": 70,
     "metadata": {},
     "output_type": "execute_result"
    },
    {
     "data": {
      "image/png": "[encoded data removed]",
      "text/plain": [
       "<Figure size 640x480 with 2 Axes>"
      ]
     },
     "metadata": {},
     "output_type": "display_data"
    }
   ],
   "source": [
    "disp = ConfusionMatrixDisplay(confusion_matrix=cm,\n",
    "                              display_labels=clf_svc.classes_)\n",
    "disp.plot()"
   ]
  },
  {
   "cell_type": "code",
   "execution_count": 71,
   "metadata": {},
   "outputs": [
    {
     "name": "stdout",
     "output_type": "stream",
     "text": [
      "              precision    recall  f1-score   support\n",
      "\n",
      "           1       0.88      1.00      0.93       833\n",
      "           2       0.75      0.22      0.34       122\n",
      "           3       0.50      0.15      0.24        39\n",
      "\n",
      "    accuracy                           0.87       994\n",
      "   macro avg       0.71      0.46      0.50       994\n",
      "weighted avg       0.85      0.87      0.83       994\n",
      "\n"
     ]
    }
   ],
   "source": [
    "print(classification_report(y_test, predictions))"
   ]
  },
  {
   "cell_type": "code",
   "execution_count": 67,
   "metadata": {},
   "outputs": [
    {
     "data": {
      "text/plain": [
       "0.6771247801348365"
      ]
     },
     "execution_count": 67,
     "metadata": {},
     "output_type": "execute_result"
    }
   ],
   "source": [
    "roc_auc_score(y_test, clf_svc.predict_proba(X_test_scaled), multi_class='ovo')"
   ]
  },
  {
   "cell_type": "markdown",
   "metadata": {},
   "source": [
    "## Oversampling"
   ]
  },
  {
   "cell_type": "code",
   "execution_count": 97,
   "metadata": {},
   "outputs": [],
   "source": [
    "sm = SMOTE(random_state=1)\n",
    "X_train_resample, y_train_resample = sm.fit_resample(X_train, y_train)"
   ]
  },
  {
   "cell_type": "code",
   "execution_count": 21,
   "metadata": {},
   "outputs": [],
   "source": [
    "ros = RandomOverSampler(random_state=1)\n",
    "X_train_resample, y_train_resample = ros.fit_resample(X_train, y_train)"
   ]
  },
  {
   "cell_type": "code",
   "execution_count": 22,
   "metadata": {},
   "outputs": [
    {
     "data": {
      "text/plain": [
       "((5715, 63), (994, 63), (5715,), (994,))"
      ]
     },
     "execution_count": 22,
     "metadata": {},
     "output_type": "execute_result"
    }
   ],
   "source": [
    "X_train_resample.shape, X_test.shape, y_train_resample.shape, y_test.shape"
   ]
  },
  {
   "cell_type": "code",
   "execution_count": 23,
   "metadata": {},
   "outputs": [],
   "source": [
    "counter = Counter(y)\n",
    "counter1 = Counter(y_train)\n",
    "counter2 = Counter(y_train_resample)"
   ]
  },
  {
   "cell_type": "code",
   "execution_count": 24,
   "metadata": {},
   "outputs": [
    {
     "data": {
      "text/plain": [
       "(Counter({1: 2738, 2: 416, 3: 158}),\n",
       " Counter({1: 1905, 2: 294, 3: 119}),\n",
       " Counter({1: 1905, 2: 1905, 3: 1905}))"
      ]
     },
     "execution_count": 24,
     "metadata": {},
     "output_type": "execute_result"
    }
   ],
   "source": [
    "counter, counter1, counter2"
   ]
  },
  {
   "cell_type": "markdown",
   "metadata": {},
   "source": [
    "## Scale"
   ]
  },
  {
   "cell_type": "code",
   "execution_count": 25,
   "metadata": {},
   "outputs": [],
   "source": [
    "scaler = StandardScaler()\n",
    "scaler.fit(X_train_resample)\n",
    "X_train_scaled = scaler.transform(X_train_resample)\n",
    "X_test_scaled = scaler.transform(X_test)"
   ]
  },
  {
   "cell_type": "markdown",
   "metadata": {},
   "source": [
    "## Training"
   ]
  },
  {
   "cell_type": "code",
   "execution_count": 26,
   "metadata": {},
   "outputs": [
    {
     "data": {
      "text/html": [
       "<style>#sk-container-id-3 {color: black;}#sk-container-id-3 pre{padding: 0;}#sk-container-id-3 div.sk-toggleable {background-color: white;}#sk-container-id-3 label.sk-toggleable__label {cursor: pointer;display: block;width: 100%;margin-bottom: 0;padding: 0.3em;box-sizing: border-box;text-align: center;}#sk-container-id-3 label.sk-toggleable__label-arrow:before {content: \"▸\";float: left;margin-right: 0.25em;color: #696969;}#sk-container-id-3 label.sk-toggleable__label-arrow:hover:before {color: black;}#sk-container-id-3 div.sk-estimator:hover label.sk-toggleable__label-arrow:before {color: black;}#sk-container-id-3 div.sk-toggleable__content {max-height: 0;max-width: 0;overflow: hidden;text-align: left;background-color: #f0f8ff;}#sk-container-id-3 div.sk-toggleable__content pre {margin: 0.2em;color: black;border-radius: 0.25em;background-color: #f0f8ff;}#sk-container-id-3 input.sk-toggleable__control:checked~div.sk-toggleable__content {max-height: 200px;max-width: 100%;overflow: auto;}#sk-container-id-3 input.sk-toggleable__control:checked~label.sk-toggleable__label-arrow:before {content: \"▾\";}#sk-container-id-3 div.sk-estimator input.sk-toggleable__control:checked~label.sk-toggleable__label {background-color: #d4ebff;}#sk-container-id-3 div.sk-label input.sk-toggleable__control:checked~label.sk-toggleable__label {background-color: #d4ebff;}#sk-container-id-3 input.sk-hidden--visually {border: 0;clip: rect(1px 1px 1px 1px);clip: rect(1px, 1px, 1px, 1px);height: 1px;margin: -1px;overflow: hidden;padding: 0;position: absolute;width: 1px;}#sk-container-id-3 div.sk-estimator {font-family: monospace;background-color: #f0f8ff;border: 1px dotted black;border-radius: 0.25em;box-sizing: border-box;margin-bottom: 0.5em;}#sk-container-id-3 div.sk-estimator:hover {background-color: #d4ebff;}#sk-container-id-3 div.sk-parallel-item::after {content: \"\";width: 100%;border-bottom: 1px solid gray;flex-grow: 1;}#sk-container-id-3 div.sk-label:hover label.sk-toggleable__label {background-color: #d4ebff;}#sk-container-id-3 div.sk-serial::before {content: \"\";position: absolute;border-left: 1px solid gray;box-sizing: border-box;top: 0;bottom: 0;left: 50%;z-index: 0;}#sk-container-id-3 div.sk-serial {display: flex;flex-direction: column;align-items: center;background-color: white;padding-right: 0.2em;padding-left: 0.2em;position: relative;}#sk-container-id-3 div.sk-item {position: relative;z-index: 1;}#sk-container-id-3 div.sk-parallel {display: flex;align-items: stretch;justify-content: center;background-color: white;position: relative;}#sk-container-id-3 div.sk-item::before, #sk-container-id-3 div.sk-parallel-item::before {content: \"\";position: absolute;border-left: 1px solid gray;box-sizing: border-box;top: 0;bottom: 0;left: 50%;z-index: -1;}#sk-container-id-3 div.sk-parallel-item {display: flex;flex-direction: column;z-index: 1;position: relative;background-color: white;}#sk-container-id-3 div.sk-parallel-item:first-child::after {align-self: flex-end;width: 50%;}#sk-container-id-3 div.sk-parallel-item:last-child::after {align-self: flex-start;width: 50%;}#sk-container-id-3 div.sk-parallel-item:only-child::after {width: 0;}#sk-container-id-3 div.sk-dashed-wrapped {border: 1px dashed gray;margin: 0 0.4em 0.5em 0.4em;box-sizing: border-box;padding-bottom: 0.4em;background-color: white;}#sk-container-id-3 div.sk-label label {font-family: monospace;font-weight: bold;display: inline-block;line-height: 1.2em;}#sk-container-id-3 div.sk-label-container {text-align: center;}#sk-container-id-3 div.sk-container {/* jupyter's `normalize.less` sets `[hidden] { display: none; }` but bootstrap.min.css set `[hidden] { display: none !important; }` so we also need the `!important` here to be able to override the default hidden behavior on the sphinx rendered scikit-learn.org. See: https://github.com/scikit-learn/scikit-learn/issues/21755 */display: inline-block !important;position: relative;}#sk-container-id-3 div.sk-text-repr-fallback {display: none;}</style><div id=\"sk-container-id-3\" class=\"sk-top-container\"><div class=\"sk-text-repr-fallback\"><pre>SVC(decision_function_shape=&#x27;ovo&#x27;, probability=True, random_state=1)</pre><b>In a Jupyter environment, please rerun this cell to show the HTML representation or trust the notebook. <br />On GitHub, the HTML representation is unable to render, please try loading this page with nbviewer.org.</b></div><div class=\"sk-container\" hidden><div class=\"sk-item\"><div class=\"sk-estimator sk-toggleable\"><input class=\"sk-toggleable__control sk-hidden--visually\" id=\"sk-estimator-id-5\" type=\"checkbox\" checked><label for=\"sk-estimator-id-5\" class=\"sk-toggleable__label sk-toggleable__label-arrow\">SVC</label><div class=\"sk-toggleable__content\"><pre>SVC(decision_function_shape=&#x27;ovo&#x27;, probability=True, random_state=1)</pre></div></div></div></div></div>"
      ],
      "text/plain": [
       "SVC(decision_function_shape='ovo', probability=True, random_state=1)"
      ]
     },
     "execution_count": 26,
     "metadata": {},
     "output_type": "execute_result"
    }
   ],
   "source": [
    "clf_svm = SVC(decision_function_shape='ovo',\n",
    "              random_state=1,\n",
    "              probability=True)\n",
    "clf_svm.fit(X_train_scaled, y_train_resample)"
   ]
  },
  {
   "cell_type": "markdown",
   "metadata": {},
   "source": [
    "## Testing"
   ]
  },
  {
   "cell_type": "code",
   "execution_count": 23,
   "metadata": {},
   "outputs": [],
   "source": [
    "predictions = clf_svm.predict(X_test_scaled)\n",
    "cm = confusion_matrix(y_test, predictions)"
   ]
  },
  {
   "cell_type": "markdown",
   "metadata": {},
   "source": [
    "### SMOTE"
   ]
  },
  {
   "cell_type": "code",
   "execution_count": 104,
   "metadata": {},
   "outputs": [
    {
     "data": {
      "text/plain": [
       "<sklearn.metrics._plot.confusion_matrix.ConfusionMatrixDisplay at 0x209471a0220>"
      ]
     },
     "execution_count": 104,
     "metadata": {},
     "output_type": "execute_result"
    },
    {
     "data": {
      "image/png": "[encoded data removed]",
      "text/plain": [
       "<Figure size 640x480 with 2 Axes>"
      ]
     },
     "metadata": {},
     "output_type": "display_data"
    }
   ],
   "source": [
    "disp = ConfusionMatrixDisplay(confusion_matrix=cm,\n",
    "                              display_labels=clf_svm.classes_)\n",
    "disp.plot()"
   ]
  },
  {
   "cell_type": "code",
   "execution_count": 105,
   "metadata": {},
   "outputs": [
    {
     "name": "stdout",
     "output_type": "stream",
     "text": [
      "              precision    recall  f1-score   support\n",
      "\n",
      "           1       0.92      0.51      0.66       833\n",
      "           2       0.16      0.52      0.24       122\n",
      "           3       0.18      0.59      0.27        39\n",
      "\n",
      "    accuracy                           0.51       994\n",
      "   macro avg       0.42      0.54      0.39       994\n",
      "weighted avg       0.80      0.51      0.59       994\n",
      "\n"
     ]
    }
   ],
   "source": [
    "print(classification_report(y_test, predictions))"
   ]
  },
  {
   "cell_type": "code",
   "execution_count": 106,
   "metadata": {},
   "outputs": [
    {
     "data": {
      "text/plain": [
       "0.6829752918401493"
      ]
     },
     "execution_count": 106,
     "metadata": {},
     "output_type": "execute_result"
    }
   ],
   "source": [
    "roc_auc_score(y_test, clf_svc.predict_proba(X_test_scaled), multi_class='ovo')"
   ]
  },
  {
   "cell_type": "markdown",
   "metadata": {},
   "source": [
    "### Random Over Sampling"
   ]
  },
  {
   "cell_type": "code",
   "execution_count": 24,
   "metadata": {},
   "outputs": [
    {
     "data": {
      "text/plain": [
       "<sklearn.metrics._plot.confusion_matrix.ConfusionMatrixDisplay at 0x257630c7790>"
      ]
     },
     "execution_count": 24,
     "metadata": {},
     "output_type": "execute_result"
    },
    {
     "data": {
      "image/png": "[encoded data removed]",
      "text/plain": [
       "<Figure size 640x480 with 2 Axes>"
      ]
     },
     "metadata": {},
     "output_type": "display_data"
    }
   ],
   "source": [
    "disp = ConfusionMatrixDisplay(confusion_matrix=cm,\n",
    "                              display_labels=clf_svm.classes_)\n",
    "disp.plot()"
   ]
  },
  {
   "cell_type": "code",
   "execution_count": 25,
   "metadata": {},
   "outputs": [
    {
     "name": "stdout",
     "output_type": "stream",
     "text": [
      "              precision    recall  f1-score   support\n",
      "\n",
      "           1       0.92      0.82      0.86       833\n",
      "           2       0.35      0.43      0.38       122\n",
      "           3       0.12      0.31      0.17        39\n",
      "\n",
      "    accuracy                           0.75       994\n",
      "   macro avg       0.46      0.52      0.47       994\n",
      "weighted avg       0.82      0.75      0.78       994\n",
      "\n"
     ]
    }
   ],
   "source": [
    "print(classification_report(y_test, predictions))"
   ]
  },
  {
   "cell_type": "code",
   "execution_count": 26,
   "metadata": {},
   "outputs": [
    {
     "data": {
      "text/plain": [
       "0.6861294749089212"
      ]
     },
     "execution_count": 26,
     "metadata": {},
     "output_type": "execute_result"
    }
   ],
   "source": [
    "roc_auc_score(y_test, clf_svc.predict_proba(X_test_scaled), multi_class='ovo')"
   ]
  },
  {
   "cell_type": "markdown",
   "metadata": {},
   "source": [
    "## GridSearchCV"
   ]
  },
  {
   "cell_type": "code",
   "execution_count": 27,
   "metadata": {},
   "outputs": [],
   "source": [
    "param_grid = [\n",
    "    {\n",
    "        'C': [0.5, 1, 10, 30],\n",
    "        'gamma': ['scale', 1, 0.1, 0.01, 0.001],\n",
    "        'kernel': ['rbf']\n",
    "    }\n",
    "]"
   ]
  },
  {
   "cell_type": "code",
   "execution_count": 28,
   "metadata": {},
   "outputs": [],
   "source": [
    "optimal_params = GridSearchCV(\n",
    "    SVC(),\n",
    "    param_grid=param_grid,\n",
    "    cv=5,\n",
    "    scoring='accuracy',\n",
    "    verbose=3\n",
    ")"
   ]
  },
  {
   "cell_type": "code",
   "execution_count": 30,
   "metadata": {},
   "outputs": [
    {
     "name": "stdout",
     "output_type": "stream",
     "text": [
      "Fitting 5 folds for each of 20 candidates, totalling 100 fits\n",
      "[CV 1/5] END ....C=0.5, gamma=scale, kernel=rbf;, score=0.563 total time=   2.1s\n",
      "[CV 2/5] END ....C=0.5, gamma=scale, kernel=rbf;, score=0.589 total time=   2.1s\n",
      "[CV 3/5] END ....C=0.5, gamma=scale, kernel=rbf;, score=0.590 total time=   2.1s\n",
      "[CV 4/5] END ....C=0.5, gamma=scale, kernel=rbf;, score=0.566 total time=   2.1s\n",
      "[CV 5/5] END ....C=0.5, gamma=scale, kernel=rbf;, score=0.572 total time=   2.2s\n",
      "[CV 1/5] END ........C=0.5, gamma=1, kernel=rbf;, score=0.686 total time=   1.8s\n",
      "[CV 2/5] END ........C=0.5, gamma=1, kernel=rbf;, score=0.682 total time=   1.8s\n",
      "[CV 3/5] END ........C=0.5, gamma=1, kernel=rbf;, score=0.681 total time=   2.1s\n",
      "[CV 4/5] END ........C=0.5, gamma=1, kernel=rbf;, score=0.682 total time=   2.2s\n",
      "[CV 5/5] END ........C=0.5, gamma=1, kernel=rbf;, score=0.686 total time=   2.3s\n",
      "[CV 1/5] END ......C=0.5, gamma=0.1, kernel=rbf;, score=0.647 total time=   2.4s\n",
      "[CV 2/5] END ......C=0.5, gamma=0.1, kernel=rbf;, score=0.633 total time=   2.7s\n",
      "[CV 3/5] END ......C=0.5, gamma=0.1, kernel=rbf;, score=0.611 total time=   2.5s\n",
      "[CV 4/5] END ......C=0.5, gamma=0.1, kernel=rbf;, score=0.653 total time=   2.3s\n",
      "[CV 5/5] END ......C=0.5, gamma=0.1, kernel=rbf;, score=0.647 total time=   2.5s\n",
      "[CV 1/5] END .....C=0.5, gamma=0.01, kernel=rbf;, score=0.556 total time=   2.4s\n",
      "[CV 2/5] END .....C=0.5, gamma=0.01, kernel=rbf;, score=0.567 total time=   3.1s\n",
      "[CV 3/5] END .....C=0.5, gamma=0.01, kernel=rbf;, score=0.561 total time=   3.9s\n",
      "[CV 4/5] END .....C=0.5, gamma=0.01, kernel=rbf;, score=0.542 total time=   3.7s\n",
      "[CV 5/5] END .....C=0.5, gamma=0.01, kernel=rbf;, score=0.549 total time=   3.6s\n",
      "[CV 1/5] END ....C=0.5, gamma=0.001, kernel=rbf;, score=0.475 total time=   4.1s\n",
      "[CV 2/5] END ....C=0.5, gamma=0.001, kernel=rbf;, score=0.468 total time=   4.2s\n",
      "[CV 3/5] END ....C=0.5, gamma=0.001, kernel=rbf;, score=0.482 total time=   4.0s\n",
      "[CV 4/5] END ....C=0.5, gamma=0.001, kernel=rbf;, score=0.467 total time=   4.2s\n",
      "[CV 5/5] END ....C=0.5, gamma=0.001, kernel=rbf;, score=0.467 total time=   2.5s\n",
      "[CV 1/5] END ......C=1, gamma=scale, kernel=rbf;, score=0.586 total time=   2.5s\n",
      "[CV 2/5] END ......C=1, gamma=scale, kernel=rbf;, score=0.610 total time=   2.2s\n",
      "[CV 3/5] END ......C=1, gamma=scale, kernel=rbf;, score=0.604 total time=   2.2s\n",
      "[CV 4/5] END ......C=1, gamma=scale, kernel=rbf;, score=0.592 total time=   2.8s\n",
      "[CV 5/5] END ......C=1, gamma=scale, kernel=rbf;, score=0.590 total time=   2.2s\n",
      "[CV 1/5] END ..........C=1, gamma=1, kernel=rbf;, score=0.691 total time=   2.1s\n",
      "[CV 2/5] END ..........C=1, gamma=1, kernel=rbf;, score=0.690 total time=   3.2s\n",
      "[CV 3/5] END ..........C=1, gamma=1, kernel=rbf;, score=0.683 total time=   2.0s\n",
      "[CV 4/5] END ..........C=1, gamma=1, kernel=rbf;, score=0.682 total time=   2.1s\n",
      "[CV 5/5] END ..........C=1, gamma=1, kernel=rbf;, score=0.696 total time=   2.0s\n",
      "[CV 1/5] END ........C=1, gamma=0.1, kernel=rbf;, score=0.650 total time=   1.9s\n",
      "[CV 2/5] END ........C=1, gamma=0.1, kernel=rbf;, score=0.660 total time=   1.9s\n",
      "[CV 3/5] END ........C=1, gamma=0.1, kernel=rbf;, score=0.626 total time=   2.0s\n",
      "[CV 4/5] END ........C=1, gamma=0.1, kernel=rbf;, score=0.670 total time=   2.0s\n",
      "[CV 5/5] END ........C=1, gamma=0.1, kernel=rbf;, score=0.658 total time=   1.9s\n",
      "[CV 1/5] END .......C=1, gamma=0.01, kernel=rbf;, score=0.552 total time=   2.3s\n",
      "[CV 2/5] END .......C=1, gamma=0.01, kernel=rbf;, score=0.577 total time=   2.1s\n",
      "[CV 3/5] END .......C=1, gamma=0.01, kernel=rbf;, score=0.581 total time=   2.1s\n",
      "[CV 4/5] END .......C=1, gamma=0.01, kernel=rbf;, score=0.555 total time=   2.0s\n",
      "[CV 5/5] END .......C=1, gamma=0.01, kernel=rbf;, score=0.560 total time=   2.1s\n",
      "[CV 1/5] END ......C=1, gamma=0.001, kernel=rbf;, score=0.493 total time=   2.3s\n",
      "[CV 2/5] END ......C=1, gamma=0.001, kernel=rbf;, score=0.496 total time=   2.5s\n",
      "[CV 3/5] END ......C=1, gamma=0.001, kernel=rbf;, score=0.498 total time=   2.5s\n",
      "[CV 4/5] END ......C=1, gamma=0.001, kernel=rbf;, score=0.482 total time=   2.6s\n",
      "[CV 5/5] END ......C=1, gamma=0.001, kernel=rbf;, score=0.483 total time=   2.5s\n",
      "[CV 1/5] END .....C=10, gamma=scale, kernel=rbf;, score=0.649 total time=   1.9s\n",
      "[CV 2/5] END .....C=10, gamma=scale, kernel=rbf;, score=0.651 total time=   1.8s\n",
      "[CV 3/5] END .....C=10, gamma=scale, kernel=rbf;, score=0.615 total time=   1.9s\n",
      "[CV 4/5] END .....C=10, gamma=scale, kernel=rbf;, score=0.661 total time=   1.9s\n",
      "[CV 5/5] END .....C=10, gamma=scale, kernel=rbf;, score=0.627 total time=   2.0s\n",
      "[CV 1/5] END .........C=10, gamma=1, kernel=rbf;, score=0.711 total time=   1.8s\n",
      "[CV 2/5] END .........C=10, gamma=1, kernel=rbf;, score=0.709 total time=   1.8s\n",
      "[CV 3/5] END .........C=10, gamma=1, kernel=rbf;, score=0.710 total time=   1.6s\n",
      "[CV 4/5] END .........C=10, gamma=1, kernel=rbf;, score=0.710 total time=   1.7s\n",
      "[CV 5/5] END .........C=10, gamma=1, kernel=rbf;, score=0.721 total time=   1.7s\n",
      "[CV 1/5] END .......C=10, gamma=0.1, kernel=rbf;, score=0.682 total time=   1.7s\n",
      "[CV 2/5] END .......C=10, gamma=0.1, kernel=rbf;, score=0.693 total time=   1.7s\n",
      "[CV 3/5] END .......C=10, gamma=0.1, kernel=rbf;, score=0.683 total time=   1.9s\n",
      "[CV 4/5] END .......C=10, gamma=0.1, kernel=rbf;, score=0.679 total time=   1.9s\n",
      "[CV 5/5] END .......C=10, gamma=0.1, kernel=rbf;, score=0.679 total time=   1.8s\n",
      "[CV 1/5] END ......C=10, gamma=0.01, kernel=rbf;, score=0.629 total time=   1.9s\n",
      "[CV 2/5] END ......C=10, gamma=0.01, kernel=rbf;, score=0.647 total time=   1.9s\n",
      "[CV 3/5] END ......C=10, gamma=0.01, kernel=rbf;, score=0.600 total time=   1.7s\n",
      "[CV 4/5] END ......C=10, gamma=0.01, kernel=rbf;, score=0.639 total time=   1.9s\n",
      "[CV 5/5] END ......C=10, gamma=0.01, kernel=rbf;, score=0.644 total time=   2.1s\n",
      "[CV 1/5] END .....C=10, gamma=0.001, kernel=rbf;, score=0.544 total time=   2.2s\n",
      "[CV 2/5] END .....C=10, gamma=0.001, kernel=rbf;, score=0.561 total time=   2.5s\n",
      "[CV 3/5] END .....C=10, gamma=0.001, kernel=rbf;, score=0.566 total time=   2.7s\n",
      "[CV 4/5] END .....C=10, gamma=0.001, kernel=rbf;, score=0.557 total time=   2.7s\n",
      "[CV 5/5] END .....C=10, gamma=0.001, kernel=rbf;, score=0.558 total time=   2.5s\n",
      "[CV 1/5] END .....C=30, gamma=scale, kernel=rbf;, score=0.661 total time=   2.2s\n",
      "[CV 2/5] END .....C=30, gamma=scale, kernel=rbf;, score=0.657 total time=   2.2s\n",
      "[CV 3/5] END .....C=30, gamma=scale, kernel=rbf;, score=0.633 total time=   2.3s\n",
      "[CV 4/5] END .....C=30, gamma=scale, kernel=rbf;, score=0.652 total time=   2.2s\n",
      "[CV 5/5] END .....C=30, gamma=scale, kernel=rbf;, score=0.643 total time=   2.1s\n",
      "[CV 1/5] END .........C=30, gamma=1, kernel=rbf;, score=0.714 total time=   2.4s\n",
      "[CV 2/5] END .........C=30, gamma=1, kernel=rbf;, score=0.708 total time=   2.6s\n",
      "[CV 3/5] END .........C=30, gamma=1, kernel=rbf;, score=0.702 total time=   2.3s\n",
      "[CV 4/5] END .........C=30, gamma=1, kernel=rbf;, score=0.708 total time=   2.3s\n",
      "[CV 5/5] END .........C=30, gamma=1, kernel=rbf;, score=0.723 total time=   2.3s\n",
      "[CV 1/5] END .......C=30, gamma=0.1, kernel=rbf;, score=0.687 total time=   2.2s\n",
      "[CV 2/5] END .......C=30, gamma=0.1, kernel=rbf;, score=0.705 total time=   2.1s\n",
      "[CV 3/5] END .......C=30, gamma=0.1, kernel=rbf;, score=0.688 total time=   2.3s\n",
      "[CV 4/5] END .......C=30, gamma=0.1, kernel=rbf;, score=0.682 total time=   2.0s\n",
      "[CV 5/5] END .......C=30, gamma=0.1, kernel=rbf;, score=0.684 total time=   2.1s\n",
      "[CV 1/5] END ......C=30, gamma=0.01, kernel=rbf;, score=0.650 total time=   2.2s\n",
      "[CV 2/5] END ......C=30, gamma=0.01, kernel=rbf;, score=0.646 total time=   2.4s\n",
      "[CV 3/5] END ......C=30, gamma=0.01, kernel=rbf;, score=0.618 total time=   2.2s\n",
      "[CV 4/5] END ......C=30, gamma=0.01, kernel=rbf;, score=0.638 total time=   2.0s\n",
      "[CV 5/5] END ......C=30, gamma=0.01, kernel=rbf;, score=0.630 total time=   1.9s\n",
      "[CV 1/5] END .....C=30, gamma=0.001, kernel=rbf;, score=0.572 total time=   2.1s\n",
      "[CV 2/5] END .....C=30, gamma=0.001, kernel=rbf;, score=0.588 total time=   2.1s\n",
      "[CV 3/5] END .....C=30, gamma=0.001, kernel=rbf;, score=0.597 total time=   2.1s\n",
      "[CV 4/5] END .....C=30, gamma=0.001, kernel=rbf;, score=0.579 total time=   2.2s\n",
      "[CV 5/5] END .....C=30, gamma=0.001, kernel=rbf;, score=0.565 total time=   2.1s\n"
     ]
    },
    {
     "data": {
      "text/html": [
       "<style>#sk-container-id-4 {color: black;}#sk-container-id-4 pre{padding: 0;}#sk-container-id-4 div.sk-toggleable {background-color: white;}#sk-container-id-4 label.sk-toggleable__label {cursor: pointer;display: block;width: 100%;margin-bottom: 0;padding: 0.3em;box-sizing: border-box;text-align: center;}#sk-container-id-4 label.sk-toggleable__label-arrow:before {content: \"▸\";float: left;margin-right: 0.25em;color: #696969;}#sk-container-id-4 label.sk-toggleable__label-arrow:hover:before {color: black;}#sk-container-id-4 div.sk-estimator:hover label.sk-toggleable__label-arrow:before {color: black;}#sk-container-id-4 div.sk-toggleable__content {max-height: 0;max-width: 0;overflow: hidden;text-align: left;background-color: #f0f8ff;}#sk-container-id-4 div.sk-toggleable__content pre {margin: 0.2em;color: black;border-radius: 0.25em;background-color: #f0f8ff;}#sk-container-id-4 input.sk-toggleable__control:checked~div.sk-toggleable__content {max-height: 200px;max-width: 100%;overflow: auto;}#sk-container-id-4 input.sk-toggleable__control:checked~label.sk-toggleable__label-arrow:before {content: \"▾\";}#sk-container-id-4 div.sk-estimator input.sk-toggleable__control:checked~label.sk-toggleable__label {background-color: #d4ebff;}#sk-container-id-4 div.sk-label input.sk-toggleable__control:checked~label.sk-toggleable__label {background-color: #d4ebff;}#sk-container-id-4 input.sk-hidden--visually {border: 0;clip: rect(1px 1px 1px 1px);clip: rect(1px, 1px, 1px, 1px);height: 1px;margin: -1px;overflow: hidden;padding: 0;position: absolute;width: 1px;}#sk-container-id-4 div.sk-estimator {font-family: monospace;background-color: #f0f8ff;border: 1px dotted black;border-radius: 0.25em;box-sizing: border-box;margin-bottom: 0.5em;}#sk-container-id-4 div.sk-estimator:hover {background-color: #d4ebff;}#sk-container-id-4 div.sk-parallel-item::after {content: \"\";width: 100%;border-bottom: 1px solid gray;flex-grow: 1;}#sk-container-id-4 div.sk-label:hover label.sk-toggleable__label {background-color: #d4ebff;}#sk-container-id-4 div.sk-serial::before {content: \"\";position: absolute;border-left: 1px solid gray;box-sizing: border-box;top: 0;bottom: 0;left: 50%;z-index: 0;}#sk-container-id-4 div.sk-serial {display: flex;flex-direction: column;align-items: center;background-color: white;padding-right: 0.2em;padding-left: 0.2em;position: relative;}#sk-container-id-4 div.sk-item {position: relative;z-index: 1;}#sk-container-id-4 div.sk-parallel {display: flex;align-items: stretch;justify-content: center;background-color: white;position: relative;}#sk-container-id-4 div.sk-item::before, #sk-container-id-4 div.sk-parallel-item::before {content: \"\";position: absolute;border-left: 1px solid gray;box-sizing: border-box;top: 0;bottom: 0;left: 50%;z-index: -1;}#sk-container-id-4 div.sk-parallel-item {display: flex;flex-direction: column;z-index: 1;position: relative;background-color: white;}#sk-container-id-4 div.sk-parallel-item:first-child::after {align-self: flex-end;width: 50%;}#sk-container-id-4 div.sk-parallel-item:last-child::after {align-self: flex-start;width: 50%;}#sk-container-id-4 div.sk-parallel-item:only-child::after {width: 0;}#sk-container-id-4 div.sk-dashed-wrapped {border: 1px dashed gray;margin: 0 0.4em 0.5em 0.4em;box-sizing: border-box;padding-bottom: 0.4em;background-color: white;}#sk-container-id-4 div.sk-label label {font-family: monospace;font-weight: bold;display: inline-block;line-height: 1.2em;}#sk-container-id-4 div.sk-label-container {text-align: center;}#sk-container-id-4 div.sk-container {/* jupyter's `normalize.less` sets `[hidden] { display: none; }` but bootstrap.min.css set `[hidden] { display: none !important; }` so we also need the `!important` here to be able to override the default hidden behavior on the sphinx rendered scikit-learn.org. See: https://github.com/scikit-learn/scikit-learn/issues/21755 */display: inline-block !important;position: relative;}#sk-container-id-4 div.sk-text-repr-fallback {display: none;}</style><div id=\"sk-container-id-4\" class=\"sk-top-container\"><div class=\"sk-text-repr-fallback\"><pre>GridSearchCV(cv=5, estimator=SVC(),\n",
       "             param_grid=[{&#x27;C&#x27;: [0.5, 1, 10, 30],\n",
       "                          &#x27;gamma&#x27;: [&#x27;scale&#x27;, 1, 0.1, 0.01, 0.001],\n",
       "                          &#x27;kernel&#x27;: [&#x27;rbf&#x27;]}],\n",
       "             scoring=&#x27;accuracy&#x27;, verbose=3)</pre><b>In a Jupyter environment, please rerun this cell to show the HTML representation or trust the notebook. <br />On GitHub, the HTML representation is unable to render, please try loading this page with nbviewer.org.</b></div><div class=\"sk-container\" hidden><div class=\"sk-item sk-dashed-wrapped\"><div class=\"sk-label-container\"><div class=\"sk-label sk-toggleable\"><input class=\"sk-toggleable__control sk-hidden--visually\" id=\"sk-estimator-id-6\" type=\"checkbox\" ><label for=\"sk-estimator-id-6\" class=\"sk-toggleable__label sk-toggleable__label-arrow\">GridSearchCV</label><div class=\"sk-toggleable__content\"><pre>GridSearchCV(cv=5, estimator=SVC(),\n",
       "             param_grid=[{&#x27;C&#x27;: [0.5, 1, 10, 30],\n",
       "                          &#x27;gamma&#x27;: [&#x27;scale&#x27;, 1, 0.1, 0.01, 0.001],\n",
       "                          &#x27;kernel&#x27;: [&#x27;rbf&#x27;]}],\n",
       "             scoring=&#x27;accuracy&#x27;, verbose=3)</pre></div></div></div><div class=\"sk-parallel\"><div class=\"sk-parallel-item\"><div class=\"sk-item\"><div class=\"sk-label-container\"><div class=\"sk-label sk-toggleable\"><input class=\"sk-toggleable__control sk-hidden--visually\" id=\"sk-estimator-id-7\" type=\"checkbox\" ><label for=\"sk-estimator-id-7\" class=\"sk-toggleable__label sk-toggleable__label-arrow\">estimator: SVC</label><div class=\"sk-toggleable__content\"><pre>SVC()</pre></div></div></div><div class=\"sk-serial\"><div class=\"sk-item\"><div class=\"sk-estimator sk-toggleable\"><input class=\"sk-toggleable__control sk-hidden--visually\" id=\"sk-estimator-id-8\" type=\"checkbox\" ><label for=\"sk-estimator-id-8\" class=\"sk-toggleable__label sk-toggleable__label-arrow\">SVC</label><div class=\"sk-toggleable__content\"><pre>SVC()</pre></div></div></div></div></div></div></div></div></div></div>"
      ],
      "text/plain": [
       "GridSearchCV(cv=5, estimator=SVC(),\n",
       "             param_grid=[{'C': [0.5, 1, 10, 30],\n",
       "                          'gamma': ['scale', 1, 0.1, 0.01, 0.001],\n",
       "                          'kernel': ['rbf']}],\n",
       "             scoring='accuracy', verbose=3)"
      ]
     },
     "execution_count": 30,
     "metadata": {},
     "output_type": "execute_result"
    }
   ],
   "source": [
    "optimal_params.fit(X_train_scaled, y_train_resample)\n",
    "# print(optimal_params)"
   ]
  },
  {
   "cell_type": "code",
   "execution_count": 31,
   "metadata": {},
   "outputs": [
    {
     "data": {
      "text/plain": [
       "({'C': 10, 'gamma': 1, 'kernel': 'rbf'}, 0.7119860017497812)"
      ]
     },
     "execution_count": 31,
     "metadata": {},
     "output_type": "execute_result"
    }
   ],
   "source": [
    "optimal_params.best_params_, optimal_params.best_score_"
   ]
  },
  {
   "cell_type": "code",
   "execution_count": 37,
   "metadata": {},
   "outputs": [],
   "source": [
    "param_grid = [\n",
    "    {\n",
    "        'C': [0.5, 1, 10, 30],\n",
    "        'gamma': ['scale', 1, 0.1, 0.01, 0.001],\n",
    "        'kernel': ['linear']\n",
    "    }\n",
    "]"
   ]
  },
  {
   "cell_type": "code",
   "execution_count": 38,
   "metadata": {},
   "outputs": [],
   "source": [
    "optimal_params = GridSearchCV(\n",
    "    SVC(),\n",
    "    param_grid=param_grid,\n",
    "    cv=5,\n",
    "    scoring='f1_macro',\n",
    "    verbose=3\n",
    ")"
   ]
  },
  {
   "cell_type": "code",
   "execution_count": 40,
   "metadata": {},
   "outputs": [
    {
     "name": "stdout",
     "output_type": "stream",
     "text": [
      "Fitting 5 folds for each of 20 candidates, totalling 100 fits\n",
      "[CV 1/5] END .C=0.5, gamma=scale, kernel=linear;, score=0.589 total time=   1.4s\n",
      "[CV 2/5] END .C=0.5, gamma=scale, kernel=linear;, score=0.593 total time=   1.3s\n",
      "[CV 3/5] END .C=0.5, gamma=scale, kernel=linear;, score=0.609 total time=   1.0s\n",
      "[CV 4/5] END .C=0.5, gamma=scale, kernel=linear;, score=0.583 total time=   1.3s\n",
      "[CV 5/5] END .C=0.5, gamma=scale, kernel=linear;, score=0.597 total time=   1.4s\n",
      "[CV 1/5] END .....C=0.5, gamma=1, kernel=linear;, score=0.589 total time=   1.2s\n",
      "[CV 2/5] END .....C=0.5, gamma=1, kernel=linear;, score=0.593 total time=   1.7s\n",
      "[CV 3/5] END .....C=0.5, gamma=1, kernel=linear;, score=0.609 total time=   1.1s\n",
      "[CV 4/5] END .....C=0.5, gamma=1, kernel=linear;, score=0.583 total time=   1.4s\n",
      "[CV 5/5] END .....C=0.5, gamma=1, kernel=linear;, score=0.597 total time=   1.2s\n",
      "[CV 1/5] END ...C=0.5, gamma=0.1, kernel=linear;, score=0.589 total time=   1.1s\n",
      "[CV 2/5] END ...C=0.5, gamma=0.1, kernel=linear;, score=0.593 total time=   1.5s\n",
      "[CV 3/5] END ...C=0.5, gamma=0.1, kernel=linear;, score=0.609 total time=   1.3s\n",
      "[CV 4/5] END ...C=0.5, gamma=0.1, kernel=linear;, score=0.583 total time=   1.3s\n",
      "[CV 5/5] END ...C=0.5, gamma=0.1, kernel=linear;, score=0.597 total time=   1.1s\n",
      "[CV 1/5] END ..C=0.5, gamma=0.01, kernel=linear;, score=0.589 total time=   1.2s\n",
      "[CV 2/5] END ..C=0.5, gamma=0.01, kernel=linear;, score=0.593 total time=   1.3s\n",
      "[CV 3/5] END ..C=0.5, gamma=0.01, kernel=linear;, score=0.609 total time=   1.1s\n",
      "[CV 4/5] END ..C=0.5, gamma=0.01, kernel=linear;, score=0.583 total time=   1.3s\n",
      "[CV 5/5] END ..C=0.5, gamma=0.01, kernel=linear;, score=0.597 total time=   1.2s\n",
      "[CV 1/5] END .C=0.5, gamma=0.001, kernel=linear;, score=0.589 total time=   1.5s\n",
      "[CV 2/5] END .C=0.5, gamma=0.001, kernel=linear;, score=0.593 total time=   1.4s\n",
      "[CV 3/5] END .C=0.5, gamma=0.001, kernel=linear;, score=0.609 total time=   1.2s\n",
      "[CV 4/5] END .C=0.5, gamma=0.001, kernel=linear;, score=0.583 total time=   1.5s\n",
      "[CV 5/5] END .C=0.5, gamma=0.001, kernel=linear;, score=0.597 total time=   1.5s\n",
      "[CV 1/5] END ...C=1, gamma=scale, kernel=linear;, score=0.609 total time=   1.5s\n",
      "[CV 2/5] END ...C=1, gamma=scale, kernel=linear;, score=0.596 total time=   1.6s\n",
      "[CV 3/5] END ...C=1, gamma=scale, kernel=linear;, score=0.618 total time=   1.3s\n",
      "[CV 4/5] END ...C=1, gamma=scale, kernel=linear;, score=0.595 total time=   1.9s\n",
      "[CV 5/5] END ...C=1, gamma=scale, kernel=linear;, score=0.606 total time=   1.5s\n",
      "[CV 1/5] END .......C=1, gamma=1, kernel=linear;, score=0.609 total time=   1.1s\n",
      "[CV 2/5] END .......C=1, gamma=1, kernel=linear;, score=0.596 total time=   1.5s\n",
      "[CV 3/5] END .......C=1, gamma=1, kernel=linear;, score=0.618 total time=   1.5s\n",
      "[CV 4/5] END .......C=1, gamma=1, kernel=linear;, score=0.595 total time=   1.5s\n",
      "[CV 5/5] END .......C=1, gamma=1, kernel=linear;, score=0.606 total time=   1.5s\n",
      "[CV 1/5] END .....C=1, gamma=0.1, kernel=linear;, score=0.609 total time=   1.9s\n",
      "[CV 2/5] END .....C=1, gamma=0.1, kernel=linear;, score=0.596 total time=   1.4s\n",
      "[CV 3/5] END .....C=1, gamma=0.1, kernel=linear;, score=0.618 total time=   1.5s\n",
      "[CV 4/5] END .....C=1, gamma=0.1, kernel=linear;, score=0.595 total time=   1.9s\n",
      "[CV 5/5] END .....C=1, gamma=0.1, kernel=linear;, score=0.606 total time=   1.4s\n",
      "[CV 1/5] END ....C=1, gamma=0.01, kernel=linear;, score=0.609 total time=   1.7s\n",
      "[CV 2/5] END ....C=1, gamma=0.01, kernel=linear;, score=0.596 total time=   1.3s\n",
      "[CV 3/5] END ....C=1, gamma=0.01, kernel=linear;, score=0.618 total time=   1.3s\n",
      "[CV 4/5] END ....C=1, gamma=0.01, kernel=linear;, score=0.595 total time=   1.8s\n",
      "[CV 5/5] END ....C=1, gamma=0.01, kernel=linear;, score=0.606 total time=   1.5s\n",
      "[CV 1/5] END ...C=1, gamma=0.001, kernel=linear;, score=0.609 total time=   1.3s\n",
      "[CV 2/5] END ...C=1, gamma=0.001, kernel=linear;, score=0.596 total time=   1.9s\n",
      "[CV 3/5] END ...C=1, gamma=0.001, kernel=linear;, score=0.618 total time=   1.8s\n",
      "[CV 4/5] END ...C=1, gamma=0.001, kernel=linear;, score=0.595 total time=   1.8s\n",
      "[CV 5/5] END ...C=1, gamma=0.001, kernel=linear;, score=0.606 total time=   2.9s\n",
      "[CV 1/5] END ..C=10, gamma=scale, kernel=linear;, score=0.610 total time=   5.1s\n",
      "[CV 2/5] END ..C=10, gamma=scale, kernel=linear;, score=0.644 total time=   3.4s\n",
      "[CV 3/5] END ..C=10, gamma=scale, kernel=linear;, score=0.619 total time=   3.7s\n",
      "[CV 4/5] END ..C=10, gamma=scale, kernel=linear;, score=0.609 total time=   3.0s\n",
      "[CV 5/5] END ..C=10, gamma=scale, kernel=linear;, score=0.615 total time=   3.5s\n",
      "[CV 1/5] END ......C=10, gamma=1, kernel=linear;, score=0.610 total time=   5.5s\n",
      "[CV 2/5] END ......C=10, gamma=1, kernel=linear;, score=0.644 total time=   6.4s\n",
      "[CV 3/5] END ......C=10, gamma=1, kernel=linear;, score=0.619 total time=   6.4s\n",
      "[CV 4/5] END ......C=10, gamma=1, kernel=linear;, score=0.609 total time=   4.8s\n",
      "[CV 5/5] END ......C=10, gamma=1, kernel=linear;, score=0.615 total time=   4.8s\n",
      "[CV 1/5] END ....C=10, gamma=0.1, kernel=linear;, score=0.610 total time=   4.4s\n",
      "[CV 2/5] END ....C=10, gamma=0.1, kernel=linear;, score=0.644 total time=   7.1s\n",
      "[CV 3/5] END ....C=10, gamma=0.1, kernel=linear;, score=0.619 total time=   4.1s\n",
      "[CV 4/5] END ....C=10, gamma=0.1, kernel=linear;, score=0.609 total time=   3.2s\n",
      "[CV 5/5] END ....C=10, gamma=0.1, kernel=linear;, score=0.615 total time=   3.1s\n",
      "[CV 1/5] END ...C=10, gamma=0.01, kernel=linear;, score=0.610 total time=   2.8s\n",
      "[CV 2/5] END ...C=10, gamma=0.01, kernel=linear;, score=0.644 total time=   2.8s\n",
      "[CV 3/5] END ...C=10, gamma=0.01, kernel=linear;, score=0.619 total time=   3.7s\n",
      "[CV 4/5] END ...C=10, gamma=0.01, kernel=linear;, score=0.609 total time=   3.1s\n",
      "[CV 5/5] END ...C=10, gamma=0.01, kernel=linear;, score=0.615 total time=   3.4s\n",
      "[CV 1/5] END ..C=10, gamma=0.001, kernel=linear;, score=0.610 total time=   3.4s\n",
      "[CV 2/5] END ..C=10, gamma=0.001, kernel=linear;, score=0.644 total time=   3.8s\n",
      "[CV 3/5] END ..C=10, gamma=0.001, kernel=linear;, score=0.619 total time=   3.8s\n",
      "[CV 4/5] END ..C=10, gamma=0.001, kernel=linear;, score=0.609 total time=   3.2s\n",
      "[CV 5/5] END ..C=10, gamma=0.001, kernel=linear;, score=0.615 total time=   3.1s\n",
      "[CV 1/5] END ..C=30, gamma=scale, kernel=linear;, score=0.610 total time=   5.9s\n",
      "[CV 2/5] END ..C=30, gamma=scale, kernel=linear;, score=0.640 total time=   5.0s\n",
      "[CV 3/5] END ..C=30, gamma=scale, kernel=linear;, score=0.617 total time=   6.4s\n",
      "[CV 4/5] END ..C=30, gamma=scale, kernel=linear;, score=0.608 total time=   5.8s\n",
      "[CV 5/5] END ..C=30, gamma=scale, kernel=linear;, score=0.615 total time=   6.7s\n",
      "[CV 1/5] END ......C=30, gamma=1, kernel=linear;, score=0.610 total time=   5.3s\n",
      "[CV 2/5] END ......C=30, gamma=1, kernel=linear;, score=0.640 total time=   4.3s\n",
      "[CV 3/5] END ......C=30, gamma=1, kernel=linear;, score=0.617 total time=   6.3s\n",
      "[CV 4/5] END ......C=30, gamma=1, kernel=linear;, score=0.608 total time=   6.2s\n",
      "[CV 5/5] END ......C=30, gamma=1, kernel=linear;, score=0.615 total time=   9.9s\n",
      "[CV 1/5] END ....C=30, gamma=0.1, kernel=linear;, score=0.610 total time=   7.6s\n",
      "[CV 2/5] END ....C=30, gamma=0.1, kernel=linear;, score=0.640 total time=   5.8s\n",
      "[CV 3/5] END ....C=30, gamma=0.1, kernel=linear;, score=0.617 total time=   6.2s\n",
      "[CV 4/5] END ....C=30, gamma=0.1, kernel=linear;, score=0.608 total time=   5.1s\n",
      "[CV 5/5] END ....C=30, gamma=0.1, kernel=linear;, score=0.615 total time=   5.7s\n",
      "[CV 1/5] END ...C=30, gamma=0.01, kernel=linear;, score=0.610 total time=   4.9s\n",
      "[CV 2/5] END ...C=30, gamma=0.01, kernel=linear;, score=0.640 total time=   4.2s\n",
      "[CV 3/5] END ...C=30, gamma=0.01, kernel=linear;, score=0.617 total time=   5.7s\n",
      "[CV 4/5] END ...C=30, gamma=0.01, kernel=linear;, score=0.608 total time=   5.3s\n",
      "[CV 5/5] END ...C=30, gamma=0.01, kernel=linear;, score=0.615 total time=   6.6s\n",
      "[CV 1/5] END ..C=30, gamma=0.001, kernel=linear;, score=0.610 total time=   5.5s\n",
      "[CV 2/5] END ..C=30, gamma=0.001, kernel=linear;, score=0.640 total time=   4.0s\n",
      "[CV 3/5] END ..C=30, gamma=0.001, kernel=linear;, score=0.617 total time=   7.6s\n",
      "[CV 4/5] END ..C=30, gamma=0.001, kernel=linear;, score=0.608 total time=   7.2s\n",
      "[CV 5/5] END ..C=30, gamma=0.001, kernel=linear;, score=0.615 total time=   8.7s\n"
     ]
    },
    {
     "data": {
      "text/html": [
       "<style>#sk-container-id-6 {color: black;}#sk-container-id-6 pre{padding: 0;}#sk-container-id-6 div.sk-toggleable {background-color: white;}#sk-container-id-6 label.sk-toggleable__label {cursor: pointer;display: block;width: 100%;margin-bottom: 0;padding: 0.3em;box-sizing: border-box;text-align: center;}#sk-container-id-6 label.sk-toggleable__label-arrow:before {content: \"▸\";float: left;margin-right: 0.25em;color: #696969;}#sk-container-id-6 label.sk-toggleable__label-arrow:hover:before {color: black;}#sk-container-id-6 div.sk-estimator:hover label.sk-toggleable__label-arrow:before {color: black;}#sk-container-id-6 div.sk-toggleable__content {max-height: 0;max-width: 0;overflow: hidden;text-align: left;background-color: #f0f8ff;}#sk-container-id-6 div.sk-toggleable__content pre {margin: 0.2em;color: black;border-radius: 0.25em;background-color: #f0f8ff;}#sk-container-id-6 input.sk-toggleable__control:checked~div.sk-toggleable__content {max-height: 200px;max-width: 100%;overflow: auto;}#sk-container-id-6 input.sk-toggleable__control:checked~label.sk-toggleable__label-arrow:before {content: \"▾\";}#sk-container-id-6 div.sk-estimator input.sk-toggleable__control:checked~label.sk-toggleable__label {background-color: #d4ebff;}#sk-container-id-6 div.sk-label input.sk-toggleable__control:checked~label.sk-toggleable__label {background-color: #d4ebff;}#sk-container-id-6 input.sk-hidden--visually {border: 0;clip: rect(1px 1px 1px 1px);clip: rect(1px, 1px, 1px, 1px);height: 1px;margin: -1px;overflow: hidden;padding: 0;position: absolute;width: 1px;}#sk-container-id-6 div.sk-estimator {font-family: monospace;background-color: #f0f8ff;border: 1px dotted black;border-radius: 0.25em;box-sizing: border-box;margin-bottom: 0.5em;}#sk-container-id-6 div.sk-estimator:hover {background-color: #d4ebff;}#sk-container-id-6 div.sk-parallel-item::after {content: \"\";width: 100%;border-bottom: 1px solid gray;flex-grow: 1;}#sk-container-id-6 div.sk-label:hover label.sk-toggleable__label {background-color: #d4ebff;}#sk-container-id-6 div.sk-serial::before {content: \"\";position: absolute;border-left: 1px solid gray;box-sizing: border-box;top: 0;bottom: 0;left: 50%;z-index: 0;}#sk-container-id-6 div.sk-serial {display: flex;flex-direction: column;align-items: center;background-color: white;padding-right: 0.2em;padding-left: 0.2em;position: relative;}#sk-container-id-6 div.sk-item {position: relative;z-index: 1;}#sk-container-id-6 div.sk-parallel {display: flex;align-items: stretch;justify-content: center;background-color: white;position: relative;}#sk-container-id-6 div.sk-item::before, #sk-container-id-6 div.sk-parallel-item::before {content: \"\";position: absolute;border-left: 1px solid gray;box-sizing: border-box;top: 0;bottom: 0;left: 50%;z-index: -1;}#sk-container-id-6 div.sk-parallel-item {display: flex;flex-direction: column;z-index: 1;position: relative;background-color: white;}#sk-container-id-6 div.sk-parallel-item:first-child::after {align-self: flex-end;width: 50%;}#sk-container-id-6 div.sk-parallel-item:last-child::after {align-self: flex-start;width: 50%;}#sk-container-id-6 div.sk-parallel-item:only-child::after {width: 0;}#sk-container-id-6 div.sk-dashed-wrapped {border: 1px dashed gray;margin: 0 0.4em 0.5em 0.4em;box-sizing: border-box;padding-bottom: 0.4em;background-color: white;}#sk-container-id-6 div.sk-label label {font-family: monospace;font-weight: bold;display: inline-block;line-height: 1.2em;}#sk-container-id-6 div.sk-label-container {text-align: center;}#sk-container-id-6 div.sk-container {/* jupyter's `normalize.less` sets `[hidden] { display: none; }` but bootstrap.min.css set `[hidden] { display: none !important; }` so we also need the `!important` here to be able to override the default hidden behavior on the sphinx rendered scikit-learn.org. See: https://github.com/scikit-learn/scikit-learn/issues/21755 */display: inline-block !important;position: relative;}#sk-container-id-6 div.sk-text-repr-fallback {display: none;}</style><div id=\"sk-container-id-6\" class=\"sk-top-container\"><div class=\"sk-text-repr-fallback\"><pre>GridSearchCV(cv=5, estimator=SVC(),\n",
       "             param_grid=[{&#x27;C&#x27;: [0.5, 1, 10, 30],\n",
       "                          &#x27;gamma&#x27;: [&#x27;scale&#x27;, 1, 0.1, 0.01, 0.001],\n",
       "                          &#x27;kernel&#x27;: [&#x27;linear&#x27;]}],\n",
       "             scoring=&#x27;f1_macro&#x27;, verbose=3)</pre><b>In a Jupyter environment, please rerun this cell to show the HTML representation or trust the notebook. <br />On GitHub, the HTML representation is unable to render, please try loading this page with nbviewer.org.</b></div><div class=\"sk-container\" hidden><div class=\"sk-item sk-dashed-wrapped\"><div class=\"sk-label-container\"><div class=\"sk-label sk-toggleable\"><input class=\"sk-toggleable__control sk-hidden--visually\" id=\"sk-estimator-id-10\" type=\"checkbox\" ><label for=\"sk-estimator-id-10\" class=\"sk-toggleable__label sk-toggleable__label-arrow\">GridSearchCV</label><div class=\"sk-toggleable__content\"><pre>GridSearchCV(cv=5, estimator=SVC(),\n",
       "             param_grid=[{&#x27;C&#x27;: [0.5, 1, 10, 30],\n",
       "                          &#x27;gamma&#x27;: [&#x27;scale&#x27;, 1, 0.1, 0.01, 0.001],\n",
       "                          &#x27;kernel&#x27;: [&#x27;linear&#x27;]}],\n",
       "             scoring=&#x27;f1_macro&#x27;, verbose=3)</pre></div></div></div><div class=\"sk-parallel\"><div class=\"sk-parallel-item\"><div class=\"sk-item\"><div class=\"sk-label-container\"><div class=\"sk-label sk-toggleable\"><input class=\"sk-toggleable__control sk-hidden--visually\" id=\"sk-estimator-id-11\" type=\"checkbox\" ><label for=\"sk-estimator-id-11\" class=\"sk-toggleable__label sk-toggleable__label-arrow\">estimator: SVC</label><div class=\"sk-toggleable__content\"><pre>SVC()</pre></div></div></div><div class=\"sk-serial\"><div class=\"sk-item\"><div class=\"sk-estimator sk-toggleable\"><input class=\"sk-toggleable__control sk-hidden--visually\" id=\"sk-estimator-id-12\" type=\"checkbox\" ><label for=\"sk-estimator-id-12\" class=\"sk-toggleable__label sk-toggleable__label-arrow\">SVC</label><div class=\"sk-toggleable__content\"><pre>SVC()</pre></div></div></div></div></div></div></div></div></div></div>"
      ],
      "text/plain": [
       "GridSearchCV(cv=5, estimator=SVC(),\n",
       "             param_grid=[{'C': [0.5, 1, 10, 30],\n",
       "                          'gamma': ['scale', 1, 0.1, 0.01, 0.001],\n",
       "                          'kernel': ['linear']}],\n",
       "             scoring='f1_macro', verbose=3)"
      ]
     },
     "execution_count": 40,
     "metadata": {},
     "output_type": "execute_result"
    }
   ],
   "source": [
    "optimal_params.fit(X_train_scaled, y_train_resample)\n",
    "# print(optimal_params)"
   ]
  },
  {
   "cell_type": "code",
   "execution_count": 41,
   "metadata": {},
   "outputs": [
    {
     "data": {
      "text/plain": [
       "({'C': 10, 'gamma': 'scale', 'kernel': 'linear'}, 0.6193677907142293)"
      ]
     },
     "execution_count": 41,
     "metadata": {},
     "output_type": "execute_result"
    }
   ],
   "source": [
    "optimal_params.best_params_, optimal_params.best_score_"
   ]
  },
  {
   "cell_type": "markdown",
   "metadata": {},
   "source": [
    "## Training"
   ]
  },
  {
   "cell_type": "code",
   "execution_count": 42,
   "metadata": {},
   "outputs": [
    {
     "data": {
      "text/html": [
       "<style>#sk-container-id-7 {color: black;}#sk-container-id-7 pre{padding: 0;}#sk-container-id-7 div.sk-toggleable {background-color: white;}#sk-container-id-7 label.sk-toggleable__label {cursor: pointer;display: block;width: 100%;margin-bottom: 0;padding: 0.3em;box-sizing: border-box;text-align: center;}#sk-container-id-7 label.sk-toggleable__label-arrow:before {content: \"▸\";float: left;margin-right: 0.25em;color: #696969;}#sk-container-id-7 label.sk-toggleable__label-arrow:hover:before {color: black;}#sk-container-id-7 div.sk-estimator:hover label.sk-toggleable__label-arrow:before {color: black;}#sk-container-id-7 div.sk-toggleable__content {max-height: 0;max-width: 0;overflow: hidden;text-align: left;background-color: #f0f8ff;}#sk-container-id-7 div.sk-toggleable__content pre {margin: 0.2em;color: black;border-radius: 0.25em;background-color: #f0f8ff;}#sk-container-id-7 input.sk-toggleable__control:checked~div.sk-toggleable__content {max-height: 200px;max-width: 100%;overflow: auto;}#sk-container-id-7 input.sk-toggleable__control:checked~label.sk-toggleable__label-arrow:before {content: \"▾\";}#sk-container-id-7 div.sk-estimator input.sk-toggleable__control:checked~label.sk-toggleable__label {background-color: #d4ebff;}#sk-container-id-7 div.sk-label input.sk-toggleable__control:checked~label.sk-toggleable__label {background-color: #d4ebff;}#sk-container-id-7 input.sk-hidden--visually {border: 0;clip: rect(1px 1px 1px 1px);clip: rect(1px, 1px, 1px, 1px);height: 1px;margin: -1px;overflow: hidden;padding: 0;position: absolute;width: 1px;}#sk-container-id-7 div.sk-estimator {font-family: monospace;background-color: #f0f8ff;border: 1px dotted black;border-radius: 0.25em;box-sizing: border-box;margin-bottom: 0.5em;}#sk-container-id-7 div.sk-estimator:hover {background-color: #d4ebff;}#sk-container-id-7 div.sk-parallel-item::after {content: \"\";width: 100%;border-bottom: 1px solid gray;flex-grow: 1;}#sk-container-id-7 div.sk-label:hover label.sk-toggleable__label {background-color: #d4ebff;}#sk-container-id-7 div.sk-serial::before {content: \"\";position: absolute;border-left: 1px solid gray;box-sizing: border-box;top: 0;bottom: 0;left: 50%;z-index: 0;}#sk-container-id-7 div.sk-serial {display: flex;flex-direction: column;align-items: center;background-color: white;padding-right: 0.2em;padding-left: 0.2em;position: relative;}#sk-container-id-7 div.sk-item {position: relative;z-index: 1;}#sk-container-id-7 div.sk-parallel {display: flex;align-items: stretch;justify-content: center;background-color: white;position: relative;}#sk-container-id-7 div.sk-item::before, #sk-container-id-7 div.sk-parallel-item::before {content: \"\";position: absolute;border-left: 1px solid gray;box-sizing: border-box;top: 0;bottom: 0;left: 50%;z-index: -1;}#sk-container-id-7 div.sk-parallel-item {display: flex;flex-direction: column;z-index: 1;position: relative;background-color: white;}#sk-container-id-7 div.sk-parallel-item:first-child::after {align-self: flex-end;width: 50%;}#sk-container-id-7 div.sk-parallel-item:last-child::after {align-self: flex-start;width: 50%;}#sk-container-id-7 div.sk-parallel-item:only-child::after {width: 0;}#sk-container-id-7 div.sk-dashed-wrapped {border: 1px dashed gray;margin: 0 0.4em 0.5em 0.4em;box-sizing: border-box;padding-bottom: 0.4em;background-color: white;}#sk-container-id-7 div.sk-label label {font-family: monospace;font-weight: bold;display: inline-block;line-height: 1.2em;}#sk-container-id-7 div.sk-label-container {text-align: center;}#sk-container-id-7 div.sk-container {/* jupyter's `normalize.less` sets `[hidden] { display: none; }` but bootstrap.min.css set `[hidden] { display: none !important; }` so we also need the `!important` here to be able to override the default hidden behavior on the sphinx rendered scikit-learn.org. See: https://github.com/scikit-learn/scikit-learn/issues/21755 */display: inline-block !important;position: relative;}#sk-container-id-7 div.sk-text-repr-fallback {display: none;}</style><div id=\"sk-container-id-7\" class=\"sk-top-container\"><div class=\"sk-text-repr-fallback\"><pre>SVC(C=10, decision_function_shape=&#x27;ovo&#x27;, kernel=&#x27;linear&#x27;, probability=True,\n",
       "    random_state=1)</pre><b>In a Jupyter environment, please rerun this cell to show the HTML representation or trust the notebook. <br />On GitHub, the HTML representation is unable to render, please try loading this page with nbviewer.org.</b></div><div class=\"sk-container\" hidden><div class=\"sk-item\"><div class=\"sk-estimator sk-toggleable\"><input class=\"sk-toggleable__control sk-hidden--visually\" id=\"sk-estimator-id-13\" type=\"checkbox\" checked><label for=\"sk-estimator-id-13\" class=\"sk-toggleable__label sk-toggleable__label-arrow\">SVC</label><div class=\"sk-toggleable__content\"><pre>SVC(C=10, decision_function_shape=&#x27;ovo&#x27;, kernel=&#x27;linear&#x27;, probability=True,\n",
       "    random_state=1)</pre></div></div></div></div></div>"
      ],
      "text/plain": [
       "SVC(C=10, decision_function_shape='ovo', kernel='linear', probability=True,\n",
       "    random_state=1)"
      ]
     },
     "execution_count": 42,
     "metadata": {},
     "output_type": "execute_result"
    }
   ],
   "source": [
    "clf_svc = SVC(decision_function_shape='ovo',\n",
    "              random_state=1,\n",
    "              probability=True,\n",
    "              C=10,\n",
    "              gamma='scale',\n",
    "              kernel='linear')\n",
    "clf_svc.fit(X_train_scaled, y_train_resample)"
   ]
  },
  {
   "cell_type": "markdown",
   "metadata": {},
   "source": [
    "## Testing"
   ]
  },
  {
   "cell_type": "code",
   "execution_count": 47,
   "metadata": {},
   "outputs": [],
   "source": [
    "predictions = clf_svc.predict(X_test_scaled)\n",
    "cm = confusion_matrix(y_test, predictions)"
   ]
  },
  {
   "cell_type": "code",
   "execution_count": 48,
   "metadata": {},
   "outputs": [
    {
     "data": {
      "text/plain": [
       "<sklearn.metrics._plot.confusion_matrix.ConfusionMatrixDisplay at 0x113ecf7bcd0>"
      ]
     },
     "execution_count": 48,
     "metadata": {},
     "output_type": "execute_result"
    },
    {
     "data": {
      "image/png": "[encoded data removed]",
      "text/plain": [
       "<Figure size 640x480 with 2 Axes>"
      ]
     },
     "metadata": {},
     "output_type": "display_data"
    }
   ],
   "source": [
    "disp = ConfusionMatrixDisplay(confusion_matrix=cm,\n",
    "                              display_labels=clf_svc.classes_)\n",
    "disp.plot()"
   ]
  },
  {
   "cell_type": "code",
   "execution_count": 49,
   "metadata": {},
   "outputs": [
    {
     "name": "stdout",
     "output_type": "stream",
     "text": [
      "              precision    recall  f1-score   support\n",
      "\n",
      "           1       0.92      0.75      0.82       833\n",
      "           2       0.22      0.32      0.26       122\n",
      "           3       0.11      0.38      0.17        39\n",
      "\n",
      "    accuracy                           0.68       994\n",
      "   macro avg       0.41      0.48      0.42       994\n",
      "weighted avg       0.80      0.68      0.73       994\n",
      "\n"
     ]
    }
   ],
   "source": [
    "print(classification_report(y_test, predictions))"
   ]
  },
  {
   "cell_type": "code",
   "execution_count": 50,
   "metadata": {},
   "outputs": [
    {
     "data": {
      "text/plain": [
       "0.641857772953654"
      ]
     },
     "execution_count": 50,
     "metadata": {},
     "output_type": "execute_result"
    }
   ],
   "source": [
    "roc_auc_score(y_test, clf_svc.predict_proba(X_test_scaled), multi_class='ovo')"
   ]
  },
  {
   "cell_type": "code",
   "execution_count": null,
   "metadata": {},
   "outputs": [],
   "source": []
  }
 ],
 "metadata": {
  "kernelspec": {
   "display_name": "env",
   "language": "python",
   "name": "python3"
  },
  "language_info": {
   "codemirror_mode": {
    "name": "ipython",
    "version": 3
   },
   "file_extension": ".py",
   "mimetype": "text/x-python",
   "name": "python",
   "nbconvert_exporter": "python",
   "pygments_lexer": "ipython3",
   "version": "3.10.6"
  }
 },
 "nbformat": 4,
 "nbformat_minor": 2
}
