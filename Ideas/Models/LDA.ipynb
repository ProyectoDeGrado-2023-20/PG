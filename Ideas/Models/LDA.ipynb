{
 "cells": [
  {
   "cell_type": "markdown",
   "metadata": {},
   "source": [
    "# Librerías"
   ]
  },
  {
   "cell_type": "code",
   "execution_count": 1,
   "metadata": {},
   "outputs": [],
   "source": [
    "import pandas as pd\n",
    "import numpy as np\n",
    "from sklearn.model_selection import train_test_split\n",
    "from sklearn.preprocessing import StandardScaler\n",
    "from sklearn.discriminant_analysis import LinearDiscriminantAnalysis\n",
    "# from sklearn.model_selection import GridSearchCV\n",
    "from sklearn.metrics import confusion_matrix\n",
    "from sklearn.metrics import ConfusionMatrixDisplay\n",
    "from sklearn.metrics import classification_report\n",
    "from sklearn.metrics import roc_auc_score\n",
    "from imblearn.over_sampling import SMOTE\n",
    "from imblearn.over_sampling import RandomOverSampler\n",
    "from collections import Counter\n",
    "# import plotly.express as px\n",
    "# import plotly.graph_objects as go\n",
    "# import matplotlib.pyplot as plt\n",
    "# import json"
   ]
  },
  {
   "cell_type": "markdown",
   "metadata": {},
   "source": [
    "# Datos"
   ]
  },
  {
   "cell_type": "code",
   "execution_count": 2,
   "metadata": {},
   "outputs": [],
   "source": [
    "df = pd.read_csv('../../Data/IPS_Atencion_Capacidad_Transformed.csv')"
   ]
  },
  {
   "cell_type": "code",
   "execution_count": 3,
   "metadata": {},
   "outputs": [
    {
     "data": {
      "text/html": [
       "<div>\n",
       "<style scoped>\n",
       "    .dataframe tbody tr th:only-of-type {\n",
       "        vertical-align: middle;\n",
       "    }\n",
       "\n",
       "    .dataframe tbody tr th {\n",
       "        vertical-align: top;\n",
       "    }\n",
       "\n",
       "    .dataframe thead th {\n",
       "        text-align: right;\n",
       "    }\n",
       "</style>\n",
       "<table border=\"1\" class=\"dataframe\">\n",
       "  <thead>\n",
       "    <tr style=\"text-align: right;\">\n",
       "      <th></th>\n",
       "      <th>codigo_sede</th>\n",
       "      <th>num nivel atencion</th>\n",
       "      <th>naturaleza</th>\n",
       "      <th>Ambulancias-Básica</th>\n",
       "      <th>Ambulancias-Medicalizada</th>\n",
       "      <th>Camas-Adultos</th>\n",
       "      <th>Camas-Atención del Parto</th>\n",
       "      <th>Camas-Cuidado Agudo Mental</th>\n",
       "      <th>Camas-Cuidado Intensivo Adulto</th>\n",
       "      <th>Camas-Cuidado Intensivo Neonatal</th>\n",
       "      <th>...</th>\n",
       "      <th>Salas-Procedimientos</th>\n",
       "      <th>Salas-Quirófano</th>\n",
       "      <th>Salas-Sala de Cirugía</th>\n",
       "      <th>Salas-Sala de Radioterapia</th>\n",
       "      <th>Sillas-Otras patologías</th>\n",
       "      <th>Sillas-SPA</th>\n",
       "      <th>Sillas-Salud Mental</th>\n",
       "      <th>Sillas-Sillas de Hemodiálisis</th>\n",
       "      <th>Sillas-Sillas de Quimioterapia</th>\n",
       "      <th>Unidad movil-Unidad Móvil</th>\n",
       "    </tr>\n",
       "  </thead>\n",
       "  <tbody>\n",
       "    <tr>\n",
       "      <th>0</th>\n",
       "      <td>50010001201</td>\n",
       "      <td>NaN</td>\n",
       "      <td>Privada</td>\n",
       "      <td>0</td>\n",
       "      <td>0</td>\n",
       "      <td>0</td>\n",
       "      <td>0</td>\n",
       "      <td>0</td>\n",
       "      <td>0</td>\n",
       "      <td>0</td>\n",
       "      <td>...</td>\n",
       "      <td>1</td>\n",
       "      <td>0</td>\n",
       "      <td>0</td>\n",
       "      <td>0</td>\n",
       "      <td>0</td>\n",
       "      <td>0</td>\n",
       "      <td>0</td>\n",
       "      <td>0</td>\n",
       "      <td>0</td>\n",
       "      <td>0</td>\n",
       "    </tr>\n",
       "    <tr>\n",
       "      <th>1</th>\n",
       "      <td>50010016401</td>\n",
       "      <td>NaN</td>\n",
       "      <td>Privada</td>\n",
       "      <td>0</td>\n",
       "      <td>0</td>\n",
       "      <td>0</td>\n",
       "      <td>0</td>\n",
       "      <td>0</td>\n",
       "      <td>0</td>\n",
       "      <td>0</td>\n",
       "      <td>...</td>\n",
       "      <td>4</td>\n",
       "      <td>0</td>\n",
       "      <td>0</td>\n",
       "      <td>0</td>\n",
       "      <td>0</td>\n",
       "      <td>0</td>\n",
       "      <td>0</td>\n",
       "      <td>0</td>\n",
       "      <td>0</td>\n",
       "      <td>0</td>\n",
       "    </tr>\n",
       "    <tr>\n",
       "      <th>2</th>\n",
       "      <td>50010025201</td>\n",
       "      <td>NaN</td>\n",
       "      <td>Privada</td>\n",
       "      <td>0</td>\n",
       "      <td>0</td>\n",
       "      <td>0</td>\n",
       "      <td>0</td>\n",
       "      <td>0</td>\n",
       "      <td>0</td>\n",
       "      <td>0</td>\n",
       "      <td>...</td>\n",
       "      <td>1</td>\n",
       "      <td>0</td>\n",
       "      <td>0</td>\n",
       "      <td>0</td>\n",
       "      <td>0</td>\n",
       "      <td>0</td>\n",
       "      <td>0</td>\n",
       "      <td>0</td>\n",
       "      <td>0</td>\n",
       "      <td>0</td>\n",
       "    </tr>\n",
       "    <tr>\n",
       "      <th>3</th>\n",
       "      <td>50010025204</td>\n",
       "      <td>NaN</td>\n",
       "      <td>Privada</td>\n",
       "      <td>0</td>\n",
       "      <td>0</td>\n",
       "      <td>0</td>\n",
       "      <td>0</td>\n",
       "      <td>0</td>\n",
       "      <td>0</td>\n",
       "      <td>0</td>\n",
       "      <td>...</td>\n",
       "      <td>6</td>\n",
       "      <td>0</td>\n",
       "      <td>0</td>\n",
       "      <td>0</td>\n",
       "      <td>0</td>\n",
       "      <td>0</td>\n",
       "      <td>0</td>\n",
       "      <td>0</td>\n",
       "      <td>0</td>\n",
       "      <td>0</td>\n",
       "    </tr>\n",
       "    <tr>\n",
       "      <th>4</th>\n",
       "      <td>50010029701</td>\n",
       "      <td>NaN</td>\n",
       "      <td>Privada</td>\n",
       "      <td>0</td>\n",
       "      <td>0</td>\n",
       "      <td>0</td>\n",
       "      <td>0</td>\n",
       "      <td>0</td>\n",
       "      <td>0</td>\n",
       "      <td>0</td>\n",
       "      <td>...</td>\n",
       "      <td>0</td>\n",
       "      <td>0</td>\n",
       "      <td>0</td>\n",
       "      <td>0</td>\n",
       "      <td>0</td>\n",
       "      <td>0</td>\n",
       "      <td>0</td>\n",
       "      <td>0</td>\n",
       "      <td>0</td>\n",
       "      <td>1</td>\n",
       "    </tr>\n",
       "    <tr>\n",
       "      <th>...</th>\n",
       "      <td>...</td>\n",
       "      <td>...</td>\n",
       "      <td>...</td>\n",
       "      <td>...</td>\n",
       "      <td>...</td>\n",
       "      <td>...</td>\n",
       "      <td>...</td>\n",
       "      <td>...</td>\n",
       "      <td>...</td>\n",
       "      <td>...</td>\n",
       "      <td>...</td>\n",
       "      <td>...</td>\n",
       "      <td>...</td>\n",
       "      <td>...</td>\n",
       "      <td>...</td>\n",
       "      <td>...</td>\n",
       "      <td>...</td>\n",
       "      <td>...</td>\n",
       "      <td>...</td>\n",
       "      <td>...</td>\n",
       "      <td>...</td>\n",
       "    </tr>\n",
       "    <tr>\n",
       "      <th>15542</th>\n",
       "      <td>996240000609</td>\n",
       "      <td>2.0</td>\n",
       "      <td>Pública</td>\n",
       "      <td>2</td>\n",
       "      <td>0</td>\n",
       "      <td>6</td>\n",
       "      <td>0</td>\n",
       "      <td>0</td>\n",
       "      <td>0</td>\n",
       "      <td>0</td>\n",
       "      <td>...</td>\n",
       "      <td>1</td>\n",
       "      <td>0</td>\n",
       "      <td>0</td>\n",
       "      <td>0</td>\n",
       "      <td>0</td>\n",
       "      <td>0</td>\n",
       "      <td>0</td>\n",
       "      <td>0</td>\n",
       "      <td>0</td>\n",
       "      <td>0</td>\n",
       "    </tr>\n",
       "    <tr>\n",
       "      <th>15543</th>\n",
       "      <td>997730000607</td>\n",
       "      <td>2.0</td>\n",
       "      <td>Pública</td>\n",
       "      <td>3</td>\n",
       "      <td>0</td>\n",
       "      <td>12</td>\n",
       "      <td>0</td>\n",
       "      <td>0</td>\n",
       "      <td>0</td>\n",
       "      <td>0</td>\n",
       "      <td>...</td>\n",
       "      <td>1</td>\n",
       "      <td>0</td>\n",
       "      <td>0</td>\n",
       "      <td>0</td>\n",
       "      <td>0</td>\n",
       "      <td>0</td>\n",
       "      <td>0</td>\n",
       "      <td>0</td>\n",
       "      <td>0</td>\n",
       "      <td>0</td>\n",
       "    </tr>\n",
       "    <tr>\n",
       "      <th>15544</th>\n",
       "      <td>997730011401</td>\n",
       "      <td>NaN</td>\n",
       "      <td>Privada</td>\n",
       "      <td>0</td>\n",
       "      <td>0</td>\n",
       "      <td>0</td>\n",
       "      <td>0</td>\n",
       "      <td>0</td>\n",
       "      <td>0</td>\n",
       "      <td>0</td>\n",
       "      <td>...</td>\n",
       "      <td>0</td>\n",
       "      <td>0</td>\n",
       "      <td>0</td>\n",
       "      <td>0</td>\n",
       "      <td>0</td>\n",
       "      <td>0</td>\n",
       "      <td>0</td>\n",
       "      <td>0</td>\n",
       "      <td>0</td>\n",
       "      <td>0</td>\n",
       "    </tr>\n",
       "    <tr>\n",
       "      <th>15545</th>\n",
       "      <td>997730013001</td>\n",
       "      <td>NaN</td>\n",
       "      <td>Privada</td>\n",
       "      <td>0</td>\n",
       "      <td>0</td>\n",
       "      <td>0</td>\n",
       "      <td>0</td>\n",
       "      <td>0</td>\n",
       "      <td>0</td>\n",
       "      <td>0</td>\n",
       "      <td>...</td>\n",
       "      <td>1</td>\n",
       "      <td>0</td>\n",
       "      <td>0</td>\n",
       "      <td>0</td>\n",
       "      <td>0</td>\n",
       "      <td>0</td>\n",
       "      <td>0</td>\n",
       "      <td>0</td>\n",
       "      <td>0</td>\n",
       "      <td>0</td>\n",
       "    </tr>\n",
       "    <tr>\n",
       "      <th>15546</th>\n",
       "      <td>997730014501</td>\n",
       "      <td>NaN</td>\n",
       "      <td>Privada</td>\n",
       "      <td>0</td>\n",
       "      <td>0</td>\n",
       "      <td>0</td>\n",
       "      <td>0</td>\n",
       "      <td>0</td>\n",
       "      <td>0</td>\n",
       "      <td>0</td>\n",
       "      <td>...</td>\n",
       "      <td>0</td>\n",
       "      <td>0</td>\n",
       "      <td>0</td>\n",
       "      <td>0</td>\n",
       "      <td>0</td>\n",
       "      <td>0</td>\n",
       "      <td>0</td>\n",
       "      <td>0</td>\n",
       "      <td>0</td>\n",
       "      <td>0</td>\n",
       "    </tr>\n",
       "  </tbody>\n",
       "</table>\n",
       "<p>15547 rows × 66 columns</p>\n",
       "</div>"
      ],
      "text/plain": [
       "        codigo_sede  num nivel atencion naturaleza  Ambulancias-Básica  \\\n",
       "0       50010001201                 NaN    Privada                   0   \n",
       "1       50010016401                 NaN    Privada                   0   \n",
       "2       50010025201                 NaN    Privada                   0   \n",
       "3       50010025204                 NaN    Privada                   0   \n",
       "4       50010029701                 NaN    Privada                   0   \n",
       "...             ...                 ...        ...                 ...   \n",
       "15542  996240000609                 2.0    Pública                   2   \n",
       "15543  997730000607                 2.0    Pública                   3   \n",
       "15544  997730011401                 NaN    Privada                   0   \n",
       "15545  997730013001                 NaN    Privada                   0   \n",
       "15546  997730014501                 NaN    Privada                   0   \n",
       "\n",
       "       Ambulancias-Medicalizada  Camas-Adultos  Camas-Atención del Parto  \\\n",
       "0                             0              0                         0   \n",
       "1                             0              0                         0   \n",
       "2                             0              0                         0   \n",
       "3                             0              0                         0   \n",
       "4                             0              0                         0   \n",
       "...                         ...            ...                       ...   \n",
       "15542                         0              6                         0   \n",
       "15543                         0             12                         0   \n",
       "15544                         0              0                         0   \n",
       "15545                         0              0                         0   \n",
       "15546                         0              0                         0   \n",
       "\n",
       "       Camas-Cuidado Agudo Mental  Camas-Cuidado Intensivo Adulto  \\\n",
       "0                               0                               0   \n",
       "1                               0                               0   \n",
       "2                               0                               0   \n",
       "3                               0                               0   \n",
       "4                               0                               0   \n",
       "...                           ...                             ...   \n",
       "15542                           0                               0   \n",
       "15543                           0                               0   \n",
       "15544                           0                               0   \n",
       "15545                           0                               0   \n",
       "15546                           0                               0   \n",
       "\n",
       "       Camas-Cuidado Intensivo Neonatal  ...  Salas-Procedimientos  \\\n",
       "0                                     0  ...                     1   \n",
       "1                                     0  ...                     4   \n",
       "2                                     0  ...                     1   \n",
       "3                                     0  ...                     6   \n",
       "4                                     0  ...                     0   \n",
       "...                                 ...  ...                   ...   \n",
       "15542                                 0  ...                     1   \n",
       "15543                                 0  ...                     1   \n",
       "15544                                 0  ...                     0   \n",
       "15545                                 0  ...                     1   \n",
       "15546                                 0  ...                     0   \n",
       "\n",
       "       Salas-Quirófano  Salas-Sala de Cirugía  Salas-Sala de Radioterapia  \\\n",
       "0                    0                      0                           0   \n",
       "1                    0                      0                           0   \n",
       "2                    0                      0                           0   \n",
       "3                    0                      0                           0   \n",
       "4                    0                      0                           0   \n",
       "...                ...                    ...                         ...   \n",
       "15542                0                      0                           0   \n",
       "15543                0                      0                           0   \n",
       "15544                0                      0                           0   \n",
       "15545                0                      0                           0   \n",
       "15546                0                      0                           0   \n",
       "\n",
       "       Sillas-Otras patologías  Sillas-SPA  Sillas-Salud Mental  \\\n",
       "0                            0           0                    0   \n",
       "1                            0           0                    0   \n",
       "2                            0           0                    0   \n",
       "3                            0           0                    0   \n",
       "4                            0           0                    0   \n",
       "...                        ...         ...                  ...   \n",
       "15542                        0           0                    0   \n",
       "15543                        0           0                    0   \n",
       "15544                        0           0                    0   \n",
       "15545                        0           0                    0   \n",
       "15546                        0           0                    0   \n",
       "\n",
       "       Sillas-Sillas de Hemodiálisis  Sillas-Sillas de Quimioterapia  \\\n",
       "0                                  0                               0   \n",
       "1                                  0                               0   \n",
       "2                                  0                               0   \n",
       "3                                  0                               0   \n",
       "4                                  0                               0   \n",
       "...                              ...                             ...   \n",
       "15542                              0                               0   \n",
       "15543                              0                               0   \n",
       "15544                              0                               0   \n",
       "15545                              0                               0   \n",
       "15546                              0                               0   \n",
       "\n",
       "       Unidad movil-Unidad Móvil  \n",
       "0                              0  \n",
       "1                              0  \n",
       "2                              0  \n",
       "3                              0  \n",
       "4                              1  \n",
       "...                          ...  \n",
       "15542                          0  \n",
       "15543                          0  \n",
       "15544                          0  \n",
       "15545                          0  \n",
       "15546                          0  \n",
       "\n",
       "[15547 rows x 66 columns]"
      ]
     },
     "execution_count": 3,
     "metadata": {},
     "output_type": "execute_result"
    }
   ],
   "source": [
    "df"
   ]
  },
  {
   "cell_type": "code",
   "execution_count": 4,
   "metadata": {},
   "outputs": [],
   "source": [
    "df_publicas = df[df['naturaleza'] == 'Pública'].copy()\n",
    "df_publicas.dropna(inplace=True)\n",
    "df_publicas['num nivel atencion'] = df_publicas['num nivel atencion'].astype('int64')"
   ]
  },
  {
   "cell_type": "code",
   "execution_count": 5,
   "metadata": {},
   "outputs": [
    {
     "name": "stdout",
     "output_type": "stream",
     "text": [
      "<class 'pandas.core.frame.DataFrame'>\n",
      "Index: 3312 entries, 79 to 15543\n",
      "Data columns (total 66 columns):\n",
      " #   Column                                             Non-Null Count  Dtype \n",
      "---  ------                                             --------------  ----- \n",
      " 0   codigo_sede                                        3312 non-null   int64 \n",
      " 1   num nivel atencion                                 3312 non-null   int64 \n",
      " 2   naturaleza                                         3312 non-null   object\n",
      " 3   Ambulancias-Básica                                 3312 non-null   int64 \n",
      " 4   Ambulancias-Medicalizada                           3312 non-null   int64 \n",
      " 5   Camas-Adultos                                      3312 non-null   int64 \n",
      " 6   Camas-Atención del Parto                           3312 non-null   int64 \n",
      " 7   Camas-Cuidado Agudo Mental                         3312 non-null   int64 \n",
      " 8   Camas-Cuidado Intensivo Adulto                     3312 non-null   int64 \n",
      " 9   Camas-Cuidado Intensivo Neonatal                   3312 non-null   int64 \n",
      " 10  Camas-Cuidado Intensivo Pediátrico                 3312 non-null   int64 \n",
      " 11  Camas-Cuidado Intermedio Adulto                    3312 non-null   int64 \n",
      " 12  Camas-Cuidado Intermedio Neonatal                  3312 non-null   int64 \n",
      " 13  Camas-Cuidado Intermedio Pediátrico                3312 non-null   int64 \n",
      " 14  Camas-Cuidado básico neonatal                      3312 non-null   int64 \n",
      " 15  Camas-Cuna Básico Neonatal                         3312 non-null   int64 \n",
      " 16  Camas-Cuna Intensiva Neonatal                      3312 non-null   int64 \n",
      " 17  Camas-Cuna Intensiva Pediátrica                    3312 non-null   int64 \n",
      " 18  Camas-Cuna Intermedia Neonatal                     3312 non-null   int64 \n",
      " 19  Camas-Cuna Intermedia Pediátrica                   3312 non-null   int64 \n",
      " 20  Camas-Farmacodependencia                           3312 non-null   int64 \n",
      " 21  Camas-Incubadora Básico Neonatal                   3312 non-null   int64 \n",
      " 22  Camas-Incubadora Intensiva Neonatal                3312 non-null   int64 \n",
      " 23  Camas-Incubadora Intermedia Neonatal               3312 non-null   int64 \n",
      " 24  Camas-Institución Paciente Crónico                 3312 non-null   int64 \n",
      " 25  Camas-Intensiva Adultos                            3312 non-null   int64 \n",
      " 26  Camas-Intensiva Pediátrica                         3312 non-null   int64 \n",
      " 27  Camas-Intensiva Quemado Adulto                     3312 non-null   int64 \n",
      " 28  Camas-Intensiva Quemado pediátrica                 3312 non-null   int64 \n",
      " 29  Camas-Intermedia Adultos                           3312 non-null   int64 \n",
      " 30  Camas-Intermedia Pediátrica                        3312 non-null   int64 \n",
      " 31  Camas-Obstetricia                                  3312 non-null   int64 \n",
      " 32  Camas-Paciente crónico con ventilador              3312 non-null   int64 \n",
      " 33  Camas-Paciente crónico sin ventilador              3312 non-null   int64 \n",
      " 34  Camas-Pediátrica                                   3312 non-null   int64 \n",
      " 35  Camas-Psiquiatría                                  3312 non-null   int64 \n",
      " 36  Camas-SPA Adultos                                  3312 non-null   int64 \n",
      " 37  Camas-SPA Básico Adultos                           3312 non-null   int64 \n",
      " 38  Camas-SPA Básico Pediátricos                       3312 non-null   int64 \n",
      " 39  Camas-SPA Pediátricas                              3312 non-null   int64 \n",
      " 40  Camas-Salud Mental                                 3312 non-null   int64 \n",
      " 41  Camas-Salud Mental Adulto                          3312 non-null   int64 \n",
      " 42  Camas-Salud Mental Pediátrico                      3312 non-null   int64 \n",
      " 43  Camas-TPR                                          3312 non-null   int64 \n",
      " 44  Camas-Transplante de progenitores hematopoyeticos  3312 non-null   int64 \n",
      " 45  Camas-Unidad de Quemados Adulto                    3312 non-null   int64 \n",
      " 46  Camas-Unidad de Quemados Pediátrico                3312 non-null   int64 \n",
      " 47  Camillas-Observación Adultos Hombres               3312 non-null   int64 \n",
      " 48  Camillas-Observación Adultos Mujeres               3312 non-null   int64 \n",
      " 49  Camillas-Observación Pediátrica                    3312 non-null   int64 \n",
      " 50  Camillas-Otras patologías                          3312 non-null   int64 \n",
      " 51  Camillas-SPA                                       3312 non-null   int64 \n",
      " 52  Camillas-Salud Mental                              3312 non-null   int64 \n",
      " 53  Consultorios-Consulta Externa                      3312 non-null   int64 \n",
      " 54  Consultorios-Urgencias                             3312 non-null   int64 \n",
      " 55  Salas-Partos                                       3312 non-null   int64 \n",
      " 56  Salas-Procedimientos                               3312 non-null   int64 \n",
      " 57  Salas-Quirófano                                    3312 non-null   int64 \n",
      " 58  Salas-Sala de Cirugía                              3312 non-null   int64 \n",
      " 59  Salas-Sala de Radioterapia                         3312 non-null   int64 \n",
      " 60  Sillas-Otras patologías                            3312 non-null   int64 \n",
      " 61  Sillas-SPA                                         3312 non-null   int64 \n",
      " 62  Sillas-Salud Mental                                3312 non-null   int64 \n",
      " 63  Sillas-Sillas de Hemodiálisis                      3312 non-null   int64 \n",
      " 64  Sillas-Sillas de Quimioterapia                     3312 non-null   int64 \n",
      " 65  Unidad movil-Unidad Móvil                          3312 non-null   int64 \n",
      "dtypes: int64(65), object(1)\n",
      "memory usage: 1.7+ MB\n"
     ]
    }
   ],
   "source": [
    "df_publicas.info()"
   ]
  },
  {
   "cell_type": "code",
   "execution_count": 6,
   "metadata": {},
   "outputs": [
    {
     "data": {
      "text/html": [
       "<div>\n",
       "<style scoped>\n",
       "    .dataframe tbody tr th:only-of-type {\n",
       "        vertical-align: middle;\n",
       "    }\n",
       "\n",
       "    .dataframe tbody tr th {\n",
       "        vertical-align: top;\n",
       "    }\n",
       "\n",
       "    .dataframe thead th {\n",
       "        text-align: right;\n",
       "    }\n",
       "</style>\n",
       "<table border=\"1\" class=\"dataframe\">\n",
       "  <thead>\n",
       "    <tr style=\"text-align: right;\">\n",
       "      <th></th>\n",
       "      <th>codigo_sede</th>\n",
       "      <th>num nivel atencion</th>\n",
       "      <th>naturaleza</th>\n",
       "      <th>Ambulancias-Básica</th>\n",
       "      <th>Ambulancias-Medicalizada</th>\n",
       "      <th>Camas-Adultos</th>\n",
       "      <th>Camas-Atención del Parto</th>\n",
       "      <th>Camas-Cuidado Agudo Mental</th>\n",
       "      <th>Camas-Cuidado Intensivo Adulto</th>\n",
       "      <th>Camas-Cuidado Intensivo Neonatal</th>\n",
       "      <th>...</th>\n",
       "      <th>Salas-Procedimientos</th>\n",
       "      <th>Salas-Quirófano</th>\n",
       "      <th>Salas-Sala de Cirugía</th>\n",
       "      <th>Salas-Sala de Radioterapia</th>\n",
       "      <th>Sillas-Otras patologías</th>\n",
       "      <th>Sillas-SPA</th>\n",
       "      <th>Sillas-Salud Mental</th>\n",
       "      <th>Sillas-Sillas de Hemodiálisis</th>\n",
       "      <th>Sillas-Sillas de Quimioterapia</th>\n",
       "      <th>Unidad movil-Unidad Móvil</th>\n",
       "    </tr>\n",
       "  </thead>\n",
       "  <tbody>\n",
       "    <tr>\n",
       "      <th>79</th>\n",
       "      <td>50010214401</td>\n",
       "      <td>3</td>\n",
       "      <td>Pública</td>\n",
       "      <td>0</td>\n",
       "      <td>0</td>\n",
       "      <td>176</td>\n",
       "      <td>0</td>\n",
       "      <td>0</td>\n",
       "      <td>48</td>\n",
       "      <td>10</td>\n",
       "      <td>...</td>\n",
       "      <td>3</td>\n",
       "      <td>8</td>\n",
       "      <td>0</td>\n",
       "      <td>0</td>\n",
       "      <td>0</td>\n",
       "      <td>0</td>\n",
       "      <td>0</td>\n",
       "      <td>0</td>\n",
       "      <td>4</td>\n",
       "      <td>0</td>\n",
       "    </tr>\n",
       "    <tr>\n",
       "      <th>87</th>\n",
       "      <td>50010217802</td>\n",
       "      <td>2</td>\n",
       "      <td>Pública</td>\n",
       "      <td>0</td>\n",
       "      <td>2</td>\n",
       "      <td>47</td>\n",
       "      <td>0</td>\n",
       "      <td>0</td>\n",
       "      <td>0</td>\n",
       "      <td>0</td>\n",
       "      <td>...</td>\n",
       "      <td>1</td>\n",
       "      <td>0</td>\n",
       "      <td>3</td>\n",
       "      <td>0</td>\n",
       "      <td>0</td>\n",
       "      <td>0</td>\n",
       "      <td>0</td>\n",
       "      <td>0</td>\n",
       "      <td>0</td>\n",
       "      <td>0</td>\n",
       "    </tr>\n",
       "    <tr>\n",
       "      <th>88</th>\n",
       "      <td>50010217804</td>\n",
       "      <td>2</td>\n",
       "      <td>Pública</td>\n",
       "      <td>0</td>\n",
       "      <td>0</td>\n",
       "      <td>43</td>\n",
       "      <td>0</td>\n",
       "      <td>0</td>\n",
       "      <td>0</td>\n",
       "      <td>0</td>\n",
       "      <td>...</td>\n",
       "      <td>1</td>\n",
       "      <td>0</td>\n",
       "      <td>2</td>\n",
       "      <td>0</td>\n",
       "      <td>0</td>\n",
       "      <td>0</td>\n",
       "      <td>0</td>\n",
       "      <td>0</td>\n",
       "      <td>0</td>\n",
       "      <td>0</td>\n",
       "    </tr>\n",
       "    <tr>\n",
       "      <th>89</th>\n",
       "      <td>50010217807</td>\n",
       "      <td>2</td>\n",
       "      <td>Pública</td>\n",
       "      <td>0</td>\n",
       "      <td>0</td>\n",
       "      <td>12</td>\n",
       "      <td>0</td>\n",
       "      <td>0</td>\n",
       "      <td>0</td>\n",
       "      <td>0</td>\n",
       "      <td>...</td>\n",
       "      <td>1</td>\n",
       "      <td>0</td>\n",
       "      <td>0</td>\n",
       "      <td>0</td>\n",
       "      <td>0</td>\n",
       "      <td>0</td>\n",
       "      <td>0</td>\n",
       "      <td>0</td>\n",
       "      <td>0</td>\n",
       "      <td>0</td>\n",
       "    </tr>\n",
       "    <tr>\n",
       "      <th>90</th>\n",
       "      <td>50010217808</td>\n",
       "      <td>2</td>\n",
       "      <td>Pública</td>\n",
       "      <td>24</td>\n",
       "      <td>0</td>\n",
       "      <td>34</td>\n",
       "      <td>0</td>\n",
       "      <td>0</td>\n",
       "      <td>0</td>\n",
       "      <td>0</td>\n",
       "      <td>...</td>\n",
       "      <td>1</td>\n",
       "      <td>0</td>\n",
       "      <td>0</td>\n",
       "      <td>0</td>\n",
       "      <td>0</td>\n",
       "      <td>0</td>\n",
       "      <td>0</td>\n",
       "      <td>0</td>\n",
       "      <td>0</td>\n",
       "      <td>1</td>\n",
       "    </tr>\n",
       "    <tr>\n",
       "      <th>...</th>\n",
       "      <td>...</td>\n",
       "      <td>...</td>\n",
       "      <td>...</td>\n",
       "      <td>...</td>\n",
       "      <td>...</td>\n",
       "      <td>...</td>\n",
       "      <td>...</td>\n",
       "      <td>...</td>\n",
       "      <td>...</td>\n",
       "      <td>...</td>\n",
       "      <td>...</td>\n",
       "      <td>...</td>\n",
       "      <td>...</td>\n",
       "      <td>...</td>\n",
       "      <td>...</td>\n",
       "      <td>...</td>\n",
       "      <td>...</td>\n",
       "      <td>...</td>\n",
       "      <td>...</td>\n",
       "      <td>...</td>\n",
       "      <td>...</td>\n",
       "    </tr>\n",
       "    <tr>\n",
       "      <th>15535</th>\n",
       "      <td>976660000103</td>\n",
       "      <td>2</td>\n",
       "      <td>Pública</td>\n",
       "      <td>0</td>\n",
       "      <td>0</td>\n",
       "      <td>2</td>\n",
       "      <td>0</td>\n",
       "      <td>0</td>\n",
       "      <td>0</td>\n",
       "      <td>0</td>\n",
       "      <td>...</td>\n",
       "      <td>0</td>\n",
       "      <td>0</td>\n",
       "      <td>0</td>\n",
       "      <td>0</td>\n",
       "      <td>0</td>\n",
       "      <td>0</td>\n",
       "      <td>0</td>\n",
       "      <td>0</td>\n",
       "      <td>0</td>\n",
       "      <td>0</td>\n",
       "    </tr>\n",
       "    <tr>\n",
       "      <th>15536</th>\n",
       "      <td>990010000601</td>\n",
       "      <td>2</td>\n",
       "      <td>Pública</td>\n",
       "      <td>3</td>\n",
       "      <td>0</td>\n",
       "      <td>15</td>\n",
       "      <td>0</td>\n",
       "      <td>0</td>\n",
       "      <td>0</td>\n",
       "      <td>0</td>\n",
       "      <td>...</td>\n",
       "      <td>1</td>\n",
       "      <td>0</td>\n",
       "      <td>2</td>\n",
       "      <td>0</td>\n",
       "      <td>0</td>\n",
       "      <td>0</td>\n",
       "      <td>0</td>\n",
       "      <td>0</td>\n",
       "      <td>0</td>\n",
       "      <td>1</td>\n",
       "    </tr>\n",
       "    <tr>\n",
       "      <th>15540</th>\n",
       "      <td>995240000608</td>\n",
       "      <td>2</td>\n",
       "      <td>Pública</td>\n",
       "      <td>2</td>\n",
       "      <td>0</td>\n",
       "      <td>6</td>\n",
       "      <td>0</td>\n",
       "      <td>0</td>\n",
       "      <td>0</td>\n",
       "      <td>0</td>\n",
       "      <td>...</td>\n",
       "      <td>1</td>\n",
       "      <td>0</td>\n",
       "      <td>0</td>\n",
       "      <td>0</td>\n",
       "      <td>0</td>\n",
       "      <td>0</td>\n",
       "      <td>0</td>\n",
       "      <td>0</td>\n",
       "      <td>0</td>\n",
       "      <td>0</td>\n",
       "    </tr>\n",
       "    <tr>\n",
       "      <th>15542</th>\n",
       "      <td>996240000609</td>\n",
       "      <td>2</td>\n",
       "      <td>Pública</td>\n",
       "      <td>2</td>\n",
       "      <td>0</td>\n",
       "      <td>6</td>\n",
       "      <td>0</td>\n",
       "      <td>0</td>\n",
       "      <td>0</td>\n",
       "      <td>0</td>\n",
       "      <td>...</td>\n",
       "      <td>1</td>\n",
       "      <td>0</td>\n",
       "      <td>0</td>\n",
       "      <td>0</td>\n",
       "      <td>0</td>\n",
       "      <td>0</td>\n",
       "      <td>0</td>\n",
       "      <td>0</td>\n",
       "      <td>0</td>\n",
       "      <td>0</td>\n",
       "    </tr>\n",
       "    <tr>\n",
       "      <th>15543</th>\n",
       "      <td>997730000607</td>\n",
       "      <td>2</td>\n",
       "      <td>Pública</td>\n",
       "      <td>3</td>\n",
       "      <td>0</td>\n",
       "      <td>12</td>\n",
       "      <td>0</td>\n",
       "      <td>0</td>\n",
       "      <td>0</td>\n",
       "      <td>0</td>\n",
       "      <td>...</td>\n",
       "      <td>1</td>\n",
       "      <td>0</td>\n",
       "      <td>0</td>\n",
       "      <td>0</td>\n",
       "      <td>0</td>\n",
       "      <td>0</td>\n",
       "      <td>0</td>\n",
       "      <td>0</td>\n",
       "      <td>0</td>\n",
       "      <td>0</td>\n",
       "    </tr>\n",
       "  </tbody>\n",
       "</table>\n",
       "<p>3312 rows × 66 columns</p>\n",
       "</div>"
      ],
      "text/plain": [
       "        codigo_sede  num nivel atencion naturaleza  Ambulancias-Básica  \\\n",
       "79      50010214401                   3    Pública                   0   \n",
       "87      50010217802                   2    Pública                   0   \n",
       "88      50010217804                   2    Pública                   0   \n",
       "89      50010217807                   2    Pública                   0   \n",
       "90      50010217808                   2    Pública                  24   \n",
       "...             ...                 ...        ...                 ...   \n",
       "15535  976660000103                   2    Pública                   0   \n",
       "15536  990010000601                   2    Pública                   3   \n",
       "15540  995240000608                   2    Pública                   2   \n",
       "15542  996240000609                   2    Pública                   2   \n",
       "15543  997730000607                   2    Pública                   3   \n",
       "\n",
       "       Ambulancias-Medicalizada  Camas-Adultos  Camas-Atención del Parto  \\\n",
       "79                            0            176                         0   \n",
       "87                            2             47                         0   \n",
       "88                            0             43                         0   \n",
       "89                            0             12                         0   \n",
       "90                            0             34                         0   \n",
       "...                         ...            ...                       ...   \n",
       "15535                         0              2                         0   \n",
       "15536                         0             15                         0   \n",
       "15540                         0              6                         0   \n",
       "15542                         0              6                         0   \n",
       "15543                         0             12                         0   \n",
       "\n",
       "       Camas-Cuidado Agudo Mental  Camas-Cuidado Intensivo Adulto  \\\n",
       "79                              0                              48   \n",
       "87                              0                               0   \n",
       "88                              0                               0   \n",
       "89                              0                               0   \n",
       "90                              0                               0   \n",
       "...                           ...                             ...   \n",
       "15535                           0                               0   \n",
       "15536                           0                               0   \n",
       "15540                           0                               0   \n",
       "15542                           0                               0   \n",
       "15543                           0                               0   \n",
       "\n",
       "       Camas-Cuidado Intensivo Neonatal  ...  Salas-Procedimientos  \\\n",
       "79                                   10  ...                     3   \n",
       "87                                    0  ...                     1   \n",
       "88                                    0  ...                     1   \n",
       "89                                    0  ...                     1   \n",
       "90                                    0  ...                     1   \n",
       "...                                 ...  ...                   ...   \n",
       "15535                                 0  ...                     0   \n",
       "15536                                 0  ...                     1   \n",
       "15540                                 0  ...                     1   \n",
       "15542                                 0  ...                     1   \n",
       "15543                                 0  ...                     1   \n",
       "\n",
       "       Salas-Quirófano  Salas-Sala de Cirugía  Salas-Sala de Radioterapia  \\\n",
       "79                   8                      0                           0   \n",
       "87                   0                      3                           0   \n",
       "88                   0                      2                           0   \n",
       "89                   0                      0                           0   \n",
       "90                   0                      0                           0   \n",
       "...                ...                    ...                         ...   \n",
       "15535                0                      0                           0   \n",
       "15536                0                      2                           0   \n",
       "15540                0                      0                           0   \n",
       "15542                0                      0                           0   \n",
       "15543                0                      0                           0   \n",
       "\n",
       "       Sillas-Otras patologías  Sillas-SPA  Sillas-Salud Mental  \\\n",
       "79                           0           0                    0   \n",
       "87                           0           0                    0   \n",
       "88                           0           0                    0   \n",
       "89                           0           0                    0   \n",
       "90                           0           0                    0   \n",
       "...                        ...         ...                  ...   \n",
       "15535                        0           0                    0   \n",
       "15536                        0           0                    0   \n",
       "15540                        0           0                    0   \n",
       "15542                        0           0                    0   \n",
       "15543                        0           0                    0   \n",
       "\n",
       "       Sillas-Sillas de Hemodiálisis  Sillas-Sillas de Quimioterapia  \\\n",
       "79                                 0                               4   \n",
       "87                                 0                               0   \n",
       "88                                 0                               0   \n",
       "89                                 0                               0   \n",
       "90                                 0                               0   \n",
       "...                              ...                             ...   \n",
       "15535                              0                               0   \n",
       "15536                              0                               0   \n",
       "15540                              0                               0   \n",
       "15542                              0                               0   \n",
       "15543                              0                               0   \n",
       "\n",
       "       Unidad movil-Unidad Móvil  \n",
       "79                             0  \n",
       "87                             0  \n",
       "88                             0  \n",
       "89                             0  \n",
       "90                             1  \n",
       "...                          ...  \n",
       "15535                          0  \n",
       "15536                          1  \n",
       "15540                          0  \n",
       "15542                          0  \n",
       "15543                          0  \n",
       "\n",
       "[3312 rows x 66 columns]"
      ]
     },
     "execution_count": 6,
     "metadata": {},
     "output_type": "execute_result"
    }
   ],
   "source": [
    "df_publicas"
   ]
  },
  {
   "cell_type": "markdown",
   "metadata": {},
   "source": [
    "## Desbalanceo"
   ]
  },
  {
   "cell_type": "code",
   "execution_count": 7,
   "metadata": {},
   "outputs": [
    {
     "data": {
      "text/html": [
       "<div>\n",
       "<style scoped>\n",
       "    .dataframe tbody tr th:only-of-type {\n",
       "        vertical-align: middle;\n",
       "    }\n",
       "\n",
       "    .dataframe tbody tr th {\n",
       "        vertical-align: top;\n",
       "    }\n",
       "\n",
       "    .dataframe thead th {\n",
       "        text-align: right;\n",
       "    }\n",
       "</style>\n",
       "<table border=\"1\" class=\"dataframe\">\n",
       "  <thead>\n",
       "    <tr style=\"text-align: right;\">\n",
       "      <th></th>\n",
       "      <th>count</th>\n",
       "    </tr>\n",
       "    <tr>\n",
       "      <th>num nivel atencion</th>\n",
       "      <th></th>\n",
       "    </tr>\n",
       "  </thead>\n",
       "  <tbody>\n",
       "    <tr>\n",
       "      <th>1</th>\n",
       "      <td>2738</td>\n",
       "    </tr>\n",
       "    <tr>\n",
       "      <th>2</th>\n",
       "      <td>416</td>\n",
       "    </tr>\n",
       "    <tr>\n",
       "      <th>3</th>\n",
       "      <td>158</td>\n",
       "    </tr>\n",
       "  </tbody>\n",
       "</table>\n",
       "</div>"
      ],
      "text/plain": [
       "                    count\n",
       "num nivel atencion       \n",
       "1                    2738\n",
       "2                     416\n",
       "3                     158"
      ]
     },
     "execution_count": 7,
     "metadata": {},
     "output_type": "execute_result"
    }
   ],
   "source": [
    "df_publicas.groupby(['num nivel atencion']).agg(count=('codigo_sede', 'count'))"
   ]
  },
  {
   "cell_type": "markdown",
   "metadata": {},
   "source": [
    "# Modelo"
   ]
  },
  {
   "cell_type": "markdown",
   "metadata": {},
   "source": [
    "## X and Y"
   ]
  },
  {
   "cell_type": "code",
   "execution_count": 8,
   "metadata": {},
   "outputs": [],
   "source": [
    "y = df_publicas['num nivel atencion'].copy()\n",
    "X = df_publicas[list(df_publicas.columns)[3:]].copy()"
   ]
  },
  {
   "cell_type": "markdown",
   "metadata": {},
   "source": [
    "## Train - Test Split"
   ]
  },
  {
   "cell_type": "code",
   "execution_count": 9,
   "metadata": {},
   "outputs": [],
   "source": [
    "X_train, X_test, y_train, y_test = train_test_split(X, y, train_size=0.7, random_state=1, shuffle=True)"
   ]
  },
  {
   "cell_type": "code",
   "execution_count": 10,
   "metadata": {},
   "outputs": [
    {
     "data": {
      "text/plain": [
       "((2318, 63), (994, 63), (2318,), (994,))"
      ]
     },
     "execution_count": 10,
     "metadata": {},
     "output_type": "execute_result"
    }
   ],
   "source": [
    "X_train.shape, X_test.shape, y_train.shape, y_test.shape"
   ]
  },
  {
   "cell_type": "markdown",
   "metadata": {},
   "source": [
    "## Scale"
   ]
  },
  {
   "cell_type": "code",
   "execution_count": 11,
   "metadata": {},
   "outputs": [],
   "source": [
    "scaler = StandardScaler()\n",
    "scaler.fit(X_train)\n",
    "X_train_scaled = scaler.transform(X_train)\n",
    "X_test_scaled = scaler.transform(X_test)"
   ]
  },
  {
   "cell_type": "markdown",
   "metadata": {},
   "source": [
    "## Training"
   ]
  },
  {
   "cell_type": "code",
   "execution_count": 12,
   "metadata": {},
   "outputs": [
    {
     "data": {
      "text/html": [
       "<style>#sk-container-id-1 {color: black;}#sk-container-id-1 pre{padding: 0;}#sk-container-id-1 div.sk-toggleable {background-color: white;}#sk-container-id-1 label.sk-toggleable__label {cursor: pointer;display: block;width: 100%;margin-bottom: 0;padding: 0.3em;box-sizing: border-box;text-align: center;}#sk-container-id-1 label.sk-toggleable__label-arrow:before {content: \"▸\";float: left;margin-right: 0.25em;color: #696969;}#sk-container-id-1 label.sk-toggleable__label-arrow:hover:before {color: black;}#sk-container-id-1 div.sk-estimator:hover label.sk-toggleable__label-arrow:before {color: black;}#sk-container-id-1 div.sk-toggleable__content {max-height: 0;max-width: 0;overflow: hidden;text-align: left;background-color: #f0f8ff;}#sk-container-id-1 div.sk-toggleable__content pre {margin: 0.2em;color: black;border-radius: 0.25em;background-color: #f0f8ff;}#sk-container-id-1 input.sk-toggleable__control:checked~div.sk-toggleable__content {max-height: 200px;max-width: 100%;overflow: auto;}#sk-container-id-1 input.sk-toggleable__control:checked~label.sk-toggleable__label-arrow:before {content: \"▾\";}#sk-container-id-1 div.sk-estimator input.sk-toggleable__control:checked~label.sk-toggleable__label {background-color: #d4ebff;}#sk-container-id-1 div.sk-label input.sk-toggleable__control:checked~label.sk-toggleable__label {background-color: #d4ebff;}#sk-container-id-1 input.sk-hidden--visually {border: 0;clip: rect(1px 1px 1px 1px);clip: rect(1px, 1px, 1px, 1px);height: 1px;margin: -1px;overflow: hidden;padding: 0;position: absolute;width: 1px;}#sk-container-id-1 div.sk-estimator {font-family: monospace;background-color: #f0f8ff;border: 1px dotted black;border-radius: 0.25em;box-sizing: border-box;margin-bottom: 0.5em;}#sk-container-id-1 div.sk-estimator:hover {background-color: #d4ebff;}#sk-container-id-1 div.sk-parallel-item::after {content: \"\";width: 100%;border-bottom: 1px solid gray;flex-grow: 1;}#sk-container-id-1 div.sk-label:hover label.sk-toggleable__label {background-color: #d4ebff;}#sk-container-id-1 div.sk-serial::before {content: \"\";position: absolute;border-left: 1px solid gray;box-sizing: border-box;top: 0;bottom: 0;left: 50%;z-index: 0;}#sk-container-id-1 div.sk-serial {display: flex;flex-direction: column;align-items: center;background-color: white;padding-right: 0.2em;padding-left: 0.2em;position: relative;}#sk-container-id-1 div.sk-item {position: relative;z-index: 1;}#sk-container-id-1 div.sk-parallel {display: flex;align-items: stretch;justify-content: center;background-color: white;position: relative;}#sk-container-id-1 div.sk-item::before, #sk-container-id-1 div.sk-parallel-item::before {content: \"\";position: absolute;border-left: 1px solid gray;box-sizing: border-box;top: 0;bottom: 0;left: 50%;z-index: -1;}#sk-container-id-1 div.sk-parallel-item {display: flex;flex-direction: column;z-index: 1;position: relative;background-color: white;}#sk-container-id-1 div.sk-parallel-item:first-child::after {align-self: flex-end;width: 50%;}#sk-container-id-1 div.sk-parallel-item:last-child::after {align-self: flex-start;width: 50%;}#sk-container-id-1 div.sk-parallel-item:only-child::after {width: 0;}#sk-container-id-1 div.sk-dashed-wrapped {border: 1px dashed gray;margin: 0 0.4em 0.5em 0.4em;box-sizing: border-box;padding-bottom: 0.4em;background-color: white;}#sk-container-id-1 div.sk-label label {font-family: monospace;font-weight: bold;display: inline-block;line-height: 1.2em;}#sk-container-id-1 div.sk-label-container {text-align: center;}#sk-container-id-1 div.sk-container {/* jupyter's `normalize.less` sets `[hidden] { display: none; }` but bootstrap.min.css set `[hidden] { display: none !important; }` so we also need the `!important` here to be able to override the default hidden behavior on the sphinx rendered scikit-learn.org. See: https://github.com/scikit-learn/scikit-learn/issues/21755 */display: inline-block !important;position: relative;}#sk-container-id-1 div.sk-text-repr-fallback {display: none;}</style><div id=\"sk-container-id-1\" class=\"sk-top-container\"><div class=\"sk-text-repr-fallback\"><pre>LinearDiscriminantAnalysis()</pre><b>In a Jupyter environment, please rerun this cell to show the HTML representation or trust the notebook. <br />On GitHub, the HTML representation is unable to render, please try loading this page with nbviewer.org.</b></div><div class=\"sk-container\" hidden><div class=\"sk-item\"><div class=\"sk-estimator sk-toggleable\"><input class=\"sk-toggleable__control sk-hidden--visually\" id=\"sk-estimator-id-1\" type=\"checkbox\" checked><label for=\"sk-estimator-id-1\" class=\"sk-toggleable__label sk-toggleable__label-arrow\">LinearDiscriminantAnalysis</label><div class=\"sk-toggleable__content\"><pre>LinearDiscriminantAnalysis()</pre></div></div></div></div></div>"
      ],
      "text/plain": [
       "LinearDiscriminantAnalysis()"
      ]
     },
     "execution_count": 12,
     "metadata": {},
     "output_type": "execute_result"
    }
   ],
   "source": [
    "clf_lda = LinearDiscriminantAnalysis()\n",
    "clf_lda.fit(X_train_scaled, y_train)"
   ]
  },
  {
   "cell_type": "markdown",
   "metadata": {},
   "source": [
    "## Testing"
   ]
  },
  {
   "cell_type": "code",
   "execution_count": 13,
   "metadata": {},
   "outputs": [],
   "source": [
    "predictions = clf_lda.predict(X_test_scaled)\n",
    "cm = confusion_matrix(y_test, predictions)"
   ]
  },
  {
   "cell_type": "code",
   "execution_count": 14,
   "metadata": {},
   "outputs": [
    {
     "data": {
      "text/plain": [
       "<sklearn.metrics._plot.confusion_matrix.ConfusionMatrixDisplay at 0x1eeab579600>"
      ]
     },
     "execution_count": 14,
     "metadata": {},
     "output_type": "execute_result"
    },
    {
     "data": {
      "image/png": "[encoded data removed]",
      "text/plain": [
       "<Figure size 640x480 with 2 Axes>"
      ]
     },
     "metadata": {},
     "output_type": "display_data"
    }
   ],
   "source": [
    "disp = ConfusionMatrixDisplay(confusion_matrix=cm,\n",
    "                              display_labels=clf_lda.classes_)\n",
    "disp.plot()"
   ]
  },
  {
   "cell_type": "code",
   "execution_count": 15,
   "metadata": {},
   "outputs": [
    {
     "name": "stdout",
     "output_type": "stream",
     "text": [
      "              precision    recall  f1-score   support\n",
      "\n",
      "           1       0.88      0.99      0.93       833\n",
      "           2       0.72      0.23      0.35       122\n",
      "           3       0.33      0.13      0.19        39\n",
      "\n",
      "    accuracy                           0.87       994\n",
      "   macro avg       0.64      0.45      0.49       994\n",
      "weighted avg       0.84      0.87      0.83       994\n",
      "\n"
     ]
    }
   ],
   "source": [
    "print(classification_report(y_test, predictions))"
   ]
  },
  {
   "cell_type": "code",
   "execution_count": 16,
   "metadata": {},
   "outputs": [
    {
     "data": {
      "text/plain": [
       "0.6649619704964794"
      ]
     },
     "execution_count": 16,
     "metadata": {},
     "output_type": "execute_result"
    }
   ],
   "source": [
    "roc_auc_score(y_test, clf_lda.predict_proba(X_test_scaled), multi_class='ovo')"
   ]
  },
  {
   "cell_type": "markdown",
   "metadata": {},
   "source": [
    "## Oversampling"
   ]
  },
  {
   "cell_type": "code",
   "execution_count": 103,
   "metadata": {},
   "outputs": [],
   "source": [
    "sm = SMOTE(random_state=1)\n",
    "X_train_resample, y_train_resample = sm.fit_resample(X_train, y_train)"
   ]
  },
  {
   "cell_type": "code",
   "execution_count": 17,
   "metadata": {},
   "outputs": [],
   "source": [
    "ros = RandomOverSampler(random_state=1)\n",
    "X_train_resample, y_train_resample = ros.fit_resample(X_train, y_train)"
   ]
  },
  {
   "cell_type": "code",
   "execution_count": 18,
   "metadata": {},
   "outputs": [
    {
     "data": {
      "text/plain": [
       "((5715, 63), (994, 63), (5715,), (994,))"
      ]
     },
     "execution_count": 18,
     "metadata": {},
     "output_type": "execute_result"
    }
   ],
   "source": [
    "X_train_resample.shape, X_test.shape, y_train_resample.shape, y_test.shape"
   ]
  },
  {
   "cell_type": "code",
   "execution_count": 19,
   "metadata": {},
   "outputs": [],
   "source": [
    "counter = Counter(y)\n",
    "counter1 = Counter(y_train)\n",
    "counter2 = Counter(y_train_resample)"
   ]
  },
  {
   "cell_type": "code",
   "execution_count": 20,
   "metadata": {},
   "outputs": [
    {
     "data": {
      "text/plain": [
       "(Counter({1: 2738, 2: 416, 3: 158}),\n",
       " Counter({1: 1905, 2: 294, 3: 119}),\n",
       " Counter({1: 1905, 2: 1905, 3: 1905}))"
      ]
     },
     "execution_count": 20,
     "metadata": {},
     "output_type": "execute_result"
    }
   ],
   "source": [
    "counter, counter1, counter2"
   ]
  },
  {
   "cell_type": "markdown",
   "metadata": {},
   "source": [
    "## Scale"
   ]
  },
  {
   "cell_type": "code",
   "execution_count": 21,
   "metadata": {},
   "outputs": [],
   "source": [
    "scaler = StandardScaler()\n",
    "scaler.fit(X_train_resample)\n",
    "X_train_scaled = scaler.transform(X_train_resample)\n",
    "X_test_scaled = scaler.transform(X_test)"
   ]
  },
  {
   "cell_type": "markdown",
   "metadata": {},
   "source": [
    "## Training"
   ]
  },
  {
   "cell_type": "code",
   "execution_count": 22,
   "metadata": {},
   "outputs": [
    {
     "data": {
      "text/html": [
       "<style>#sk-container-id-2 {color: black;}#sk-container-id-2 pre{padding: 0;}#sk-container-id-2 div.sk-toggleable {background-color: white;}#sk-container-id-2 label.sk-toggleable__label {cursor: pointer;display: block;width: 100%;margin-bottom: 0;padding: 0.3em;box-sizing: border-box;text-align: center;}#sk-container-id-2 label.sk-toggleable__label-arrow:before {content: \"▸\";float: left;margin-right: 0.25em;color: #696969;}#sk-container-id-2 label.sk-toggleable__label-arrow:hover:before {color: black;}#sk-container-id-2 div.sk-estimator:hover label.sk-toggleable__label-arrow:before {color: black;}#sk-container-id-2 div.sk-toggleable__content {max-height: 0;max-width: 0;overflow: hidden;text-align: left;background-color: #f0f8ff;}#sk-container-id-2 div.sk-toggleable__content pre {margin: 0.2em;color: black;border-radius: 0.25em;background-color: #f0f8ff;}#sk-container-id-2 input.sk-toggleable__control:checked~div.sk-toggleable__content {max-height: 200px;max-width: 100%;overflow: auto;}#sk-container-id-2 input.sk-toggleable__control:checked~label.sk-toggleable__label-arrow:before {content: \"▾\";}#sk-container-id-2 div.sk-estimator input.sk-toggleable__control:checked~label.sk-toggleable__label {background-color: #d4ebff;}#sk-container-id-2 div.sk-label input.sk-toggleable__control:checked~label.sk-toggleable__label {background-color: #d4ebff;}#sk-container-id-2 input.sk-hidden--visually {border: 0;clip: rect(1px 1px 1px 1px);clip: rect(1px, 1px, 1px, 1px);height: 1px;margin: -1px;overflow: hidden;padding: 0;position: absolute;width: 1px;}#sk-container-id-2 div.sk-estimator {font-family: monospace;background-color: #f0f8ff;border: 1px dotted black;border-radius: 0.25em;box-sizing: border-box;margin-bottom: 0.5em;}#sk-container-id-2 div.sk-estimator:hover {background-color: #d4ebff;}#sk-container-id-2 div.sk-parallel-item::after {content: \"\";width: 100%;border-bottom: 1px solid gray;flex-grow: 1;}#sk-container-id-2 div.sk-label:hover label.sk-toggleable__label {background-color: #d4ebff;}#sk-container-id-2 div.sk-serial::before {content: \"\";position: absolute;border-left: 1px solid gray;box-sizing: border-box;top: 0;bottom: 0;left: 50%;z-index: 0;}#sk-container-id-2 div.sk-serial {display: flex;flex-direction: column;align-items: center;background-color: white;padding-right: 0.2em;padding-left: 0.2em;position: relative;}#sk-container-id-2 div.sk-item {position: relative;z-index: 1;}#sk-container-id-2 div.sk-parallel {display: flex;align-items: stretch;justify-content: center;background-color: white;position: relative;}#sk-container-id-2 div.sk-item::before, #sk-container-id-2 div.sk-parallel-item::before {content: \"\";position: absolute;border-left: 1px solid gray;box-sizing: border-box;top: 0;bottom: 0;left: 50%;z-index: -1;}#sk-container-id-2 div.sk-parallel-item {display: flex;flex-direction: column;z-index: 1;position: relative;background-color: white;}#sk-container-id-2 div.sk-parallel-item:first-child::after {align-self: flex-end;width: 50%;}#sk-container-id-2 div.sk-parallel-item:last-child::after {align-self: flex-start;width: 50%;}#sk-container-id-2 div.sk-parallel-item:only-child::after {width: 0;}#sk-container-id-2 div.sk-dashed-wrapped {border: 1px dashed gray;margin: 0 0.4em 0.5em 0.4em;box-sizing: border-box;padding-bottom: 0.4em;background-color: white;}#sk-container-id-2 div.sk-label label {font-family: monospace;font-weight: bold;display: inline-block;line-height: 1.2em;}#sk-container-id-2 div.sk-label-container {text-align: center;}#sk-container-id-2 div.sk-container {/* jupyter's `normalize.less` sets `[hidden] { display: none; }` but bootstrap.min.css set `[hidden] { display: none !important; }` so we also need the `!important` here to be able to override the default hidden behavior on the sphinx rendered scikit-learn.org. See: https://github.com/scikit-learn/scikit-learn/issues/21755 */display: inline-block !important;position: relative;}#sk-container-id-2 div.sk-text-repr-fallback {display: none;}</style><div id=\"sk-container-id-2\" class=\"sk-top-container\"><div class=\"sk-text-repr-fallback\"><pre>LinearDiscriminantAnalysis()</pre><b>In a Jupyter environment, please rerun this cell to show the HTML representation or trust the notebook. <br />On GitHub, the HTML representation is unable to render, please try loading this page with nbviewer.org.</b></div><div class=\"sk-container\" hidden><div class=\"sk-item\"><div class=\"sk-estimator sk-toggleable\"><input class=\"sk-toggleable__control sk-hidden--visually\" id=\"sk-estimator-id-2\" type=\"checkbox\" checked><label for=\"sk-estimator-id-2\" class=\"sk-toggleable__label sk-toggleable__label-arrow\">LinearDiscriminantAnalysis</label><div class=\"sk-toggleable__content\"><pre>LinearDiscriminantAnalysis()</pre></div></div></div></div></div>"
      ],
      "text/plain": [
       "LinearDiscriminantAnalysis()"
      ]
     },
     "execution_count": 22,
     "metadata": {},
     "output_type": "execute_result"
    }
   ],
   "source": [
    "clf_lda = LinearDiscriminantAnalysis()\n",
    "clf_lda.fit(X_train_scaled, y_train_resample)"
   ]
  },
  {
   "cell_type": "markdown",
   "metadata": {},
   "source": [
    "## Testing"
   ]
  },
  {
   "cell_type": "code",
   "execution_count": 23,
   "metadata": {},
   "outputs": [],
   "source": [
    "predictions = clf_lda.predict(X_test_scaled)\n",
    "cm = confusion_matrix(y_test, predictions)"
   ]
  },
  {
   "cell_type": "markdown",
   "metadata": {},
   "source": [
    "### SMOTE"
   ]
  },
  {
   "cell_type": "code",
   "execution_count": 110,
   "metadata": {},
   "outputs": [
    {
     "data": {
      "text/plain": [
       "<sklearn.metrics._plot.confusion_matrix.ConfusionMatrixDisplay at 0x20ff11c8040>"
      ]
     },
     "execution_count": 110,
     "metadata": {},
     "output_type": "execute_result"
    },
    {
     "data": {
      "image/png": "[encoded data removed]",
      "text/plain": [
       "<Figure size 640x480 with 2 Axes>"
      ]
     },
     "metadata": {},
     "output_type": "display_data"
    }
   ],
   "source": [
    "disp = ConfusionMatrixDisplay(confusion_matrix=cm,\n",
    "                              display_labels=clf_lda.classes_)\n",
    "disp.plot()"
   ]
  },
  {
   "cell_type": "code",
   "execution_count": 111,
   "metadata": {},
   "outputs": [
    {
     "name": "stdout",
     "output_type": "stream",
     "text": [
      "              precision    recall  f1-score   support\n",
      "\n",
      "           1       0.90      0.54      0.67       833\n",
      "           2       0.15      0.47      0.23       122\n",
      "           3       0.11      0.31      0.16        39\n",
      "\n",
      "    accuracy                           0.52       994\n",
      "   macro avg       0.38      0.44      0.35       994\n",
      "weighted avg       0.78      0.52      0.60       994\n",
      "\n"
     ]
    }
   ],
   "source": [
    "print(classification_report(y_test, predictions))"
   ]
  },
  {
   "cell_type": "code",
   "execution_count": 112,
   "metadata": {},
   "outputs": [
    {
     "data": {
      "text/plain": [
       "0.6254412651988076"
      ]
     },
     "execution_count": 112,
     "metadata": {},
     "output_type": "execute_result"
    }
   ],
   "source": [
    "roc_auc_score(y_test, clf_lda.predict_proba(X_test_scaled), multi_class='ovo')"
   ]
  },
  {
   "cell_type": "markdown",
   "metadata": {},
   "source": [
    "### Random Over Sampling"
   ]
  },
  {
   "cell_type": "code",
   "execution_count": 24,
   "metadata": {},
   "outputs": [
    {
     "data": {
      "text/plain": [
       "<sklearn.metrics._plot.confusion_matrix.ConfusionMatrixDisplay at 0x1eeac938460>"
      ]
     },
     "execution_count": 24,
     "metadata": {},
     "output_type": "execute_result"
    },
    {
     "data": {
      "image/png": "[encoded data removed]",
      "text/plain": [
       "<Figure size 640x480 with 2 Axes>"
      ]
     },
     "metadata": {},
     "output_type": "display_data"
    }
   ],
   "source": [
    "disp = ConfusionMatrixDisplay(confusion_matrix=cm,\n",
    "                              display_labels=clf_lda.classes_)\n",
    "disp.plot()"
   ]
  },
  {
   "cell_type": "code",
   "execution_count": 25,
   "metadata": {},
   "outputs": [
    {
     "name": "stdout",
     "output_type": "stream",
     "text": [
      "              precision    recall  f1-score   support\n",
      "\n",
      "           1       0.90      0.75      0.82       833\n",
      "           2       0.22      0.34      0.27       122\n",
      "           3       0.11      0.31      0.16        39\n",
      "\n",
      "    accuracy                           0.69       994\n",
      "   macro avg       0.41      0.47      0.42       994\n",
      "weighted avg       0.79      0.69      0.73       994\n",
      "\n"
     ]
    }
   ],
   "source": [
    "print(classification_report(y_test, predictions))"
   ]
  },
  {
   "cell_type": "code",
   "execution_count": 26,
   "metadata": {},
   "outputs": [
    {
     "data": {
      "text/plain": [
       "0.6425740956323681"
      ]
     },
     "execution_count": 26,
     "metadata": {},
     "output_type": "execute_result"
    }
   ],
   "source": [
    "roc_auc_score(y_test, clf_lda.predict_proba(X_test_scaled), multi_class='ovo')"
   ]
  }
 ],
 "metadata": {
  "kernelspec": {
   "display_name": "env",
   "language": "python",
   "name": "python3"
  },
  "language_info": {
   "codemirror_mode": {
    "name": "ipython",
    "version": 3
   },
   "file_extension": ".py",
   "mimetype": "text/x-python",
   "name": "python",
   "nbconvert_exporter": "python",
   "pygments_lexer": "ipython3",
   "version": "3.10.6"
  }
 },
 "nbformat": 4,
 "nbformat_minor": 2
}
