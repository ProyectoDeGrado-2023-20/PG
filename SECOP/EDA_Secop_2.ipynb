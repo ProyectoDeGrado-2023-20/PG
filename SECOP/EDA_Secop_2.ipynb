{
 "cells": [
  {
   "cell_type": "markdown",
   "metadata": {},
   "source": [
    "# EDA - SECOP II - Contratos Electronicos"
   ]
  },
  {
   "cell_type": "markdown",
   "metadata": {},
   "source": [
    "## Required Libraries"
   ]
  },
  {
   "cell_type": "code",
   "execution_count": 1,
   "metadata": {},
   "outputs": [],
   "source": [
    "import pandas as pd\n",
    "import numpy as np\n",
    "import matplotlib.pyplot as plt\n",
    "import plotly.express as px\n",
    "import seaborn as sns"
   ]
  },
  {
   "cell_type": "markdown",
   "metadata": {},
   "source": [
    "## Read the Original Data"
   ]
  },
  {
   "cell_type": "code",
   "execution_count": 2,
   "metadata": {},
   "outputs": [],
   "source": [
    "df = pd.read_csv(\"../Data/SECOP_II_Contratos_Electronicos.csv\")"
   ]
  },
  {
   "cell_type": "code",
   "execution_count": 3,
   "metadata": {},
   "outputs": [
    {
     "name": "stdout",
     "output_type": "stream",
     "text": [
      "<class 'pandas.core.frame.DataFrame'>\n",
      "RangeIndex: 373920 entries, 0 to 373919\n",
      "Data columns (total 71 columns):\n",
      "Nombre Entidad                                                        373920 non-null object\n",
      "Nit Entidad                                                           373920 non-null int64\n",
      "Departamento                                                          373920 non-null object\n",
      "Ciudad                                                                373920 non-null object\n",
      "Localización                                                          373920 non-null object\n",
      "Orden                                                                 373920 non-null object\n",
      "Sector                                                                373920 non-null object\n",
      "Rama                                                                  373920 non-null object\n",
      "Entidad Centralizada                                                  373920 non-null object\n",
      "Proceso de Compra                                                     373920 non-null object\n",
      "ID Contrato                                                           373920 non-null object\n",
      "Referencia del Contrato                                               373920 non-null object\n",
      "Estado Contrato                                                       373920 non-null object\n",
      "Codigo de Categoria Principal                                         373920 non-null object\n",
      "Descripcion del Proceso                                               373920 non-null object\n",
      "Tipo de Contrato                                                      373920 non-null object\n",
      "Modalidad de Contratacion                                             373920 non-null object\n",
      "Justificacion Modalidad de Contratacion                               373920 non-null object\n",
      "Fecha de Firma                                                        344973 non-null object\n",
      "Fecha de Inicio del Contrato                                          347806 non-null object\n",
      "Fecha de Fin del Contrato                                             369530 non-null object\n",
      "Fecha de Inicio de Ejecucion                                          65471 non-null object\n",
      "Fecha de Fin de Ejecucion                                             65739 non-null object\n",
      "Condiciones de Entrega                                                373920 non-null object\n",
      "TipoDocProveedor                                                      373920 non-null object\n",
      "Documento Proveedor                                                   373919 non-null object\n",
      "Proveedor Adjudicado                                                  373917 non-null object\n",
      "Es Grupo                                                              373920 non-null object\n",
      "Es Pyme                                                               373920 non-null object\n",
      "Habilita Pago Adelantado                                              373920 non-null object\n",
      "Liquidación                                                           373920 non-null object\n",
      "Obligación Ambiental                                                  373920 non-null object\n",
      "Obligaciones Postconsumo                                              373920 non-null object\n",
      "Reversion                                                             373920 non-null object\n",
      "Valor del Contrato                                                    373920 non-null int64\n",
      "Valor de pago adelantado                                              373920 non-null int64\n",
      "Valor Facturado                                                       373920 non-null int64\n",
      "Valor Pendiente de Pago                                               373920 non-null int64\n",
      "Valor Pagado                                                          373920 non-null int64\n",
      "Valor Amortizado                                                      373920 non-null int64\n",
      "Valor Pendiente de Amortizacion                                       373920 non-null int64\n",
      "Valor Pendiente de Ejecucion                                          371261 non-null float64\n",
      "Estado BPIN                                                           373920 non-null object\n",
      "Código BPIN                                                           373920 non-null object\n",
      "Anno BPIN                                                             373920 non-null object\n",
      "Saldo CDP                                                             373920 non-null int64\n",
      "Saldo Vigencia                                                        373920 non-null int64\n",
      "EsPostConflicto                                                       373920 non-null object\n",
      "URLProceso                                                            373920 non-null object\n",
      "Destino Gasto                                                         373920 non-null object\n",
      "Origen de los Recursos                                                373920 non-null object\n",
      "Dias Adicionados                                                      373920 non-null int64\n",
      "Puntos del Acuerdo                                                    373920 non-null object\n",
      "Pilares del Acuerdo                                                   373920 non-null object\n",
      "Nombre Representante Legal                                            373901 non-null object\n",
      "Nacionalidad Representante Legal                                      373904 non-null object\n",
      "Tipo de Identificación Representante Legal                            373920 non-null object\n",
      "Identificación Representante Legal                                    373904 non-null object\n",
      "Género Representante Legal                                            373920 non-null object\n",
      "Presupuesto General de la Nacion – PGN                                373920 non-null int64\n",
      "Sistema General de Participaciones                                    373920 non-null int64\n",
      "Sistema General de Regalías                                           373920 non-null int64\n",
      "Recursos Propios (Alcaldías, Gobernaciones y Resguardos Indígenas)    373920 non-null int64\n",
      "Recursos de Credito                                                   373920 non-null int64\n",
      "Recursos Propios                                                      373920 non-null int64\n",
      "Ultima Actualizacion                                                  367727 non-null object\n",
      "Codigo Entidad                                                        373920 non-null int64\n",
      "Fecha Inicio Liquidacion                                              27425 non-null object\n",
      "Fecha Fin Liquidacion                                                 27421 non-null object\n",
      "Codigo Proveedor                                                      373611 non-null object\n",
      "Objeto del Contrato                                                   363460 non-null object\n",
      "dtypes: float64(1), int64(18), object(52)\n",
      "memory usage: 202.5+ MB\n"
     ]
    }
   ],
   "source": [
    "df.info()"
   ]
  },
  {
   "cell_type": "markdown",
   "metadata": {},
   "source": [
    "## Drop Useless Columns"
   ]
  },
  {
   "cell_type": "code",
   "execution_count": 4,
   "metadata": {},
   "outputs": [
    {
     "data": {
      "text/plain": [
       "Index(['Nombre Entidad', 'Nit Entidad', 'Departamento', 'Ciudad',\n",
       "       'Localización', 'Orden', 'Sector', 'Rama', 'Entidad Centralizada',\n",
       "       'Proceso de Compra', 'ID Contrato', 'Referencia del Contrato',\n",
       "       'Estado Contrato', 'Codigo de Categoria Principal',\n",
       "       'Descripcion del Proceso', 'Tipo de Contrato',\n",
       "       'Modalidad de Contratacion', 'Justificacion Modalidad de Contratacion',\n",
       "       'Fecha de Firma', 'Fecha de Inicio del Contrato',\n",
       "       'Fecha de Fin del Contrato', 'Fecha de Inicio de Ejecucion',\n",
       "       'Fecha de Fin de Ejecucion', 'Condiciones de Entrega',\n",
       "       'TipoDocProveedor', 'Documento Proveedor', 'Proveedor Adjudicado',\n",
       "       'Es Grupo', 'Es Pyme', 'Habilita Pago Adelantado', 'Liquidación',\n",
       "       'Obligación Ambiental', 'Obligaciones Postconsumo', 'Reversion',\n",
       "       'Valor del Contrato', 'Valor de pago adelantado', 'Valor Facturado',\n",
       "       'Valor Pendiente de Pago', 'Valor Pagado', 'Valor Amortizado',\n",
       "       'Valor Pendiente de Amortizacion', 'Valor Pendiente de Ejecucion',\n",
       "       'Estado BPIN', 'Código BPIN', 'Anno BPIN', 'Saldo CDP',\n",
       "       'Saldo Vigencia', 'EsPostConflicto', 'URLProceso', 'Destino Gasto',\n",
       "       'Origen de los Recursos', 'Dias Adicionados', 'Puntos del Acuerdo',\n",
       "       'Pilares del Acuerdo', 'Nombre Representante Legal',\n",
       "       'Nacionalidad Representante Legal',\n",
       "       'Tipo de Identificación Representante Legal',\n",
       "       'Identificación Representante Legal', 'Género Representante Legal',\n",
       "       'Presupuesto General de la Nacion – PGN',\n",
       "       'Sistema General de Participaciones', 'Sistema General de Regalías',\n",
       "       'Recursos Propios (Alcaldías, Gobernaciones y Resguardos Indígenas)',\n",
       "       'Recursos de Credito', 'Recursos Propios', 'Ultima Actualizacion',\n",
       "       'Codigo Entidad', 'Fecha Inicio Liquidacion', 'Fecha Fin Liquidacion',\n",
       "       'Codigo Proveedor', 'Objeto del Contrato'],\n",
       "      dtype='object')"
      ]
     },
     "execution_count": 4,
     "metadata": {},
     "output_type": "execute_result"
    }
   ],
   "source": [
    "columns_original = list(df.columns)\n",
    "df.columns"
   ]
  },
  {
   "cell_type": "code",
   "execution_count": 5,
   "metadata": {},
   "outputs": [
    {
     "data": {
      "text/plain": [
       "23"
      ]
     },
     "execution_count": 5,
     "metadata": {},
     "output_type": "execute_result"
    }
   ],
   "source": [
    "columns_to_drop = [\n",
    "    # Sector already filtered in downloading\n",
    "    \"Sector\",\n",
    "    \n",
    "    \"Nombre Entidad\",\n",
    "    \"Nit Entidad\",\n",
    "    \"Localización\",\n",
    "    \"Proceso de Compra\",\n",
    "    \"ID Contrato\",\n",
    "    \"Referencia del Contrato\",\n",
    "    \"Codigo de Categoria Principal\",\n",
    "    \"Descripcion del Proceso\",\n",
    "    \"TipoDocProveedor\",\n",
    "    \"Documento Proveedor\",\n",
    "    \"Proveedor Adjudicado\",\n",
    "    \"URLProceso\",\n",
    "    \"Puntos del Acuerdo\",\n",
    "    \"Pilares del Acuerdo\",\n",
    "    \"Nombre Representante Legal\",\n",
    "    \"Tipo de Identificación Representante Legal\",\n",
    "    \"Identificación Representante Legal\",\n",
    "    \"Género Representante Legal\",\n",
    "    \"Ultima Actualizacion\",\n",
    "    \"Codigo Entidad\",\n",
    "    \"Codigo Proveedor\",\n",
    "    \"Objeto del Contrato\",\n",
    "]\n",
    "len(columns_to_drop)"
   ]
  },
  {
   "cell_type": "code",
   "execution_count": 6,
   "metadata": {},
   "outputs": [],
   "source": [
    "df_filtered = df.drop(columns=columns_to_drop, inplace=False).copy()"
   ]
  },
  {
   "cell_type": "code",
   "execution_count": 7,
   "metadata": {},
   "outputs": [],
   "source": [
    "columns_filtered = df_filtered.columns"
   ]
  },
  {
   "cell_type": "code",
   "execution_count": 8,
   "metadata": {},
   "outputs": [],
   "source": [
    "assert(len(columns_original) == (len(columns_filtered) + len(columns_to_drop)))"
   ]
  },
  {
   "cell_type": "code",
   "execution_count": 9,
   "metadata": {},
   "outputs": [
    {
     "name": "stdout",
     "output_type": "stream",
     "text": [
      "<class 'pandas.core.frame.DataFrame'>\n",
      "RangeIndex: 373920 entries, 0 to 373919\n",
      "Data columns (total 48 columns):\n",
      "Departamento                                                          373920 non-null object\n",
      "Ciudad                                                                373920 non-null object\n",
      "Orden                                                                 373920 non-null object\n",
      "Rama                                                                  373920 non-null object\n",
      "Entidad Centralizada                                                  373920 non-null object\n",
      "Estado Contrato                                                       373920 non-null object\n",
      "Tipo de Contrato                                                      373920 non-null object\n",
      "Modalidad de Contratacion                                             373920 non-null object\n",
      "Justificacion Modalidad de Contratacion                               373920 non-null object\n",
      "Fecha de Firma                                                        344973 non-null object\n",
      "Fecha de Inicio del Contrato                                          347806 non-null object\n",
      "Fecha de Fin del Contrato                                             369530 non-null object\n",
      "Fecha de Inicio de Ejecucion                                          65471 non-null object\n",
      "Fecha de Fin de Ejecucion                                             65739 non-null object\n",
      "Condiciones de Entrega                                                373920 non-null object\n",
      "Es Grupo                                                              373920 non-null object\n",
      "Es Pyme                                                               373920 non-null object\n",
      "Habilita Pago Adelantado                                              373920 non-null object\n",
      "Liquidación                                                           373920 non-null object\n",
      "Obligación Ambiental                                                  373920 non-null object\n",
      "Obligaciones Postconsumo                                              373920 non-null object\n",
      "Reversion                                                             373920 non-null object\n",
      "Valor del Contrato                                                    373920 non-null int64\n",
      "Valor de pago adelantado                                              373920 non-null int64\n",
      "Valor Facturado                                                       373920 non-null int64\n",
      "Valor Pendiente de Pago                                               373920 non-null int64\n",
      "Valor Pagado                                                          373920 non-null int64\n",
      "Valor Amortizado                                                      373920 non-null int64\n",
      "Valor Pendiente de Amortizacion                                       373920 non-null int64\n",
      "Valor Pendiente de Ejecucion                                          371261 non-null float64\n",
      "Estado BPIN                                                           373920 non-null object\n",
      "Código BPIN                                                           373920 non-null object\n",
      "Anno BPIN                                                             373920 non-null object\n",
      "Saldo CDP                                                             373920 non-null int64\n",
      "Saldo Vigencia                                                        373920 non-null int64\n",
      "EsPostConflicto                                                       373920 non-null object\n",
      "Destino Gasto                                                         373920 non-null object\n",
      "Origen de los Recursos                                                373920 non-null object\n",
      "Dias Adicionados                                                      373920 non-null int64\n",
      "Nacionalidad Representante Legal                                      373904 non-null object\n",
      "Presupuesto General de la Nacion – PGN                                373920 non-null int64\n",
      "Sistema General de Participaciones                                    373920 non-null int64\n",
      "Sistema General de Regalías                                           373920 non-null int64\n",
      "Recursos Propios (Alcaldías, Gobernaciones y Resguardos Indígenas)    373920 non-null int64\n",
      "Recursos de Credito                                                   373920 non-null int64\n",
      "Recursos Propios                                                      373920 non-null int64\n",
      "Fecha Inicio Liquidacion                                              27425 non-null object\n",
      "Fecha Fin Liquidacion                                                 27421 non-null object\n",
      "dtypes: float64(1), int64(16), object(31)\n",
      "memory usage: 136.9+ MB\n"
     ]
    }
   ],
   "source": [
    "df_filtered.info()"
   ]
  },
  {
   "cell_type": "code",
   "execution_count": 11,
   "metadata": {},
   "outputs": [
    {
     "data": {
      "text/html": [
       "<div>\n",
       "<style scoped>\n",
       "    .dataframe tbody tr th:only-of-type {\n",
       "        vertical-align: middle;\n",
       "    }\n",
       "\n",
       "    .dataframe tbody tr th {\n",
       "        vertical-align: top;\n",
       "    }\n",
       "\n",
       "    .dataframe thead th {\n",
       "        text-align: right;\n",
       "    }\n",
       "</style>\n",
       "<table border=\"1\" class=\"dataframe\">\n",
       "  <thead>\n",
       "    <tr style=\"text-align: right;\">\n",
       "      <th></th>\n",
       "      <th>Departamento</th>\n",
       "      <th>Ciudad</th>\n",
       "      <th>Orden</th>\n",
       "      <th>Rama</th>\n",
       "      <th>Entidad Centralizada</th>\n",
       "      <th>Estado Contrato</th>\n",
       "      <th>Tipo de Contrato</th>\n",
       "      <th>Modalidad de Contratacion</th>\n",
       "      <th>Justificacion Modalidad de Contratacion</th>\n",
       "      <th>Fecha de Firma</th>\n",
       "      <th>...</th>\n",
       "      <th>Dias Adicionados</th>\n",
       "      <th>Nacionalidad Representante Legal</th>\n",
       "      <th>Presupuesto General de la Nacion – PGN</th>\n",
       "      <th>Sistema General de Participaciones</th>\n",
       "      <th>Sistema General de Regalías</th>\n",
       "      <th>Recursos Propios (Alcaldías, Gobernaciones y Resguardos Indígenas)</th>\n",
       "      <th>Recursos de Credito</th>\n",
       "      <th>Recursos Propios</th>\n",
       "      <th>Fecha Inicio Liquidacion</th>\n",
       "      <th>Fecha Fin Liquidacion</th>\n",
       "    </tr>\n",
       "  </thead>\n",
       "  <tbody>\n",
       "    <tr>\n",
       "      <td>0</td>\n",
       "      <td>Distrito Capital de Bogotá</td>\n",
       "      <td>No Definido</td>\n",
       "      <td>Territorial</td>\n",
       "      <td>Ejecutivo</td>\n",
       "      <td>Descentralizada</td>\n",
       "      <td>Modificado</td>\n",
       "      <td>Prestación de servicios</td>\n",
       "      <td>Contratación régimen especial</td>\n",
       "      <td>Regla aplicable</td>\n",
       "      <td>03/14/2019</td>\n",
       "      <td>...</td>\n",
       "      <td>0</td>\n",
       "      <td>colombiana</td>\n",
       "      <td>0</td>\n",
       "      <td>0</td>\n",
       "      <td>0</td>\n",
       "      <td>0</td>\n",
       "      <td>0</td>\n",
       "      <td>0</td>\n",
       "      <td>NaN</td>\n",
       "      <td>NaN</td>\n",
       "    </tr>\n",
       "    <tr>\n",
       "      <td>1</td>\n",
       "      <td>Caldas</td>\n",
       "      <td>Filadelfia</td>\n",
       "      <td>Territorial</td>\n",
       "      <td>Corporación Autónoma</td>\n",
       "      <td>Centralizada</td>\n",
       "      <td>Modificado</td>\n",
       "      <td>DecreeLaw092/2017</td>\n",
       "      <td>Contratación régimen especial</td>\n",
       "      <td>Decree092/2017</td>\n",
       "      <td>01/17/2020</td>\n",
       "      <td>...</td>\n",
       "      <td>0</td>\n",
       "      <td>Colombiana</td>\n",
       "      <td>0</td>\n",
       "      <td>0</td>\n",
       "      <td>0</td>\n",
       "      <td>0</td>\n",
       "      <td>0</td>\n",
       "      <td>0</td>\n",
       "      <td>2020-03-31 17:00:00</td>\n",
       "      <td>2020-07-31 17:00:00</td>\n",
       "    </tr>\n",
       "    <tr>\n",
       "      <td>2</td>\n",
       "      <td>Distrito Capital de Bogotá</td>\n",
       "      <td>No Definido</td>\n",
       "      <td>Territorial</td>\n",
       "      <td>Ejecutivo</td>\n",
       "      <td>Descentralizada</td>\n",
       "      <td>terminado</td>\n",
       "      <td>Prestación de servicios</td>\n",
       "      <td>Contratación régimen especial</td>\n",
       "      <td>Regla aplicable</td>\n",
       "      <td>02/03/2020</td>\n",
       "      <td>...</td>\n",
       "      <td>0</td>\n",
       "      <td>COLOMBIA</td>\n",
       "      <td>0</td>\n",
       "      <td>0</td>\n",
       "      <td>0</td>\n",
       "      <td>0</td>\n",
       "      <td>0</td>\n",
       "      <td>0</td>\n",
       "      <td>NaN</td>\n",
       "      <td>NaN</td>\n",
       "    </tr>\n",
       "    <tr>\n",
       "      <td>3</td>\n",
       "      <td>Distrito Capital de Bogotá</td>\n",
       "      <td>No Definido</td>\n",
       "      <td>Territorial</td>\n",
       "      <td>Ejecutivo</td>\n",
       "      <td>Descentralizada</td>\n",
       "      <td>Modificado</td>\n",
       "      <td>Prestación de servicios</td>\n",
       "      <td>Contratación régimen especial</td>\n",
       "      <td>Regla aplicable</td>\n",
       "      <td>05/05/2022</td>\n",
       "      <td>...</td>\n",
       "      <td>0</td>\n",
       "      <td>Colombiano</td>\n",
       "      <td>0</td>\n",
       "      <td>0</td>\n",
       "      <td>0</td>\n",
       "      <td>152590122</td>\n",
       "      <td>0</td>\n",
       "      <td>0</td>\n",
       "      <td>NaN</td>\n",
       "      <td>NaN</td>\n",
       "    </tr>\n",
       "    <tr>\n",
       "      <td>4</td>\n",
       "      <td>Distrito Capital de Bogotá</td>\n",
       "      <td>No Definido</td>\n",
       "      <td>Territorial</td>\n",
       "      <td>Ejecutivo</td>\n",
       "      <td>Descentralizada</td>\n",
       "      <td>Modificado</td>\n",
       "      <td>Prestación de servicios</td>\n",
       "      <td>Contratación régimen especial</td>\n",
       "      <td>Regla aplicable</td>\n",
       "      <td>02/01/2020</td>\n",
       "      <td>...</td>\n",
       "      <td>122</td>\n",
       "      <td>COLOMBIANA</td>\n",
       "      <td>0</td>\n",
       "      <td>0</td>\n",
       "      <td>0</td>\n",
       "      <td>0</td>\n",
       "      <td>0</td>\n",
       "      <td>0</td>\n",
       "      <td>NaN</td>\n",
       "      <td>NaN</td>\n",
       "    </tr>\n",
       "  </tbody>\n",
       "</table>\n",
       "<p>5 rows × 48 columns</p>\n",
       "</div>"
      ],
      "text/plain": [
       "                 Departamento       Ciudad        Orden                  Rama  \\\n",
       "0  Distrito Capital de Bogotá  No Definido  Territorial             Ejecutivo   \n",
       "1                      Caldas   Filadelfia  Territorial  Corporación Autónoma   \n",
       "2  Distrito Capital de Bogotá  No Definido  Territorial             Ejecutivo   \n",
       "3  Distrito Capital de Bogotá  No Definido  Territorial             Ejecutivo   \n",
       "4  Distrito Capital de Bogotá  No Definido  Territorial             Ejecutivo   \n",
       "\n",
       "  Entidad Centralizada Estado Contrato         Tipo de Contrato  \\\n",
       "0      Descentralizada      Modificado  Prestación de servicios   \n",
       "1         Centralizada      Modificado        DecreeLaw092/2017   \n",
       "2      Descentralizada       terminado  Prestación de servicios   \n",
       "3      Descentralizada      Modificado  Prestación de servicios   \n",
       "4      Descentralizada      Modificado  Prestación de servicios   \n",
       "\n",
       "       Modalidad de Contratacion Justificacion Modalidad de Contratacion  \\\n",
       "0  Contratación régimen especial                         Regla aplicable   \n",
       "1  Contratación régimen especial                          Decree092/2017   \n",
       "2  Contratación régimen especial                         Regla aplicable   \n",
       "3  Contratación régimen especial                         Regla aplicable   \n",
       "4  Contratación régimen especial                         Regla aplicable   \n",
       "\n",
       "  Fecha de Firma  ... Dias Adicionados Nacionalidad Representante Legal  \\\n",
       "0     03/14/2019  ...                0                       colombiana   \n",
       "1     01/17/2020  ...                0                       Colombiana   \n",
       "2     02/03/2020  ...                0                         COLOMBIA   \n",
       "3     05/05/2022  ...                0                       Colombiano   \n",
       "4     02/01/2020  ...              122                       COLOMBIANA   \n",
       "\n",
       "  Presupuesto General de la Nacion – PGN Sistema General de Participaciones  \\\n",
       "0                                      0                                  0   \n",
       "1                                      0                                  0   \n",
       "2                                      0                                  0   \n",
       "3                                      0                                  0   \n",
       "4                                      0                                  0   \n",
       "\n",
       "  Sistema General de Regalías  \\\n",
       "0                           0   \n",
       "1                           0   \n",
       "2                           0   \n",
       "3                           0   \n",
       "4                           0   \n",
       "\n",
       "  Recursos Propios (Alcaldías, Gobernaciones y Resguardos Indígenas)  \\\n",
       "0                                                  0                   \n",
       "1                                                  0                   \n",
       "2                                                  0                   \n",
       "3                                          152590122                   \n",
       "4                                                  0                   \n",
       "\n",
       "  Recursos de Credito Recursos Propios Fecha Inicio Liquidacion  \\\n",
       "0                   0                0                      NaN   \n",
       "1                   0                0      2020-03-31 17:00:00   \n",
       "2                   0                0                      NaN   \n",
       "3                   0                0                      NaN   \n",
       "4                   0                0                      NaN   \n",
       "\n",
       "  Fecha Fin Liquidacion  \n",
       "0                   NaN  \n",
       "1   2020-07-31 17:00:00  \n",
       "2                   NaN  \n",
       "3                   NaN  \n",
       "4                   NaN  \n",
       "\n",
       "[5 rows x 48 columns]"
      ]
     },
     "execution_count": 11,
     "metadata": {},
     "output_type": "execute_result"
    }
   ],
   "source": [
    "df_filtered.head()"
   ]
  },
  {
   "cell_type": "markdown",
   "metadata": {},
   "source": [
    "## Exploratory Data Analysis"
   ]
  },
  {
   "cell_type": "code",
   "execution_count": null,
   "metadata": {},
   "outputs": [],
   "source": []
  },
  {
   "cell_type": "markdown",
   "metadata": {},
   "source": [
    "### Departamento"
   ]
  },
  {
   "cell_type": "code",
   "execution_count": 61,
   "metadata": {},
   "outputs": [],
   "source": [
    "category_counts = df['Departamento'].value_counts().reset_index()\n",
    "category_counts.columns = ['Departamento', 'Count']\n",
    "\n",
    "mean_count = category_counts['Count'].mean()\n",
    "median_count = category_counts['Count'].median()\n",
    "\n",
    "# Calculate the percentage for each category\n",
    "category_counts['Percentage'] = (category_counts['Count'] / category_counts['Count'].sum())\n",
    "\n",
    "# Calculate the cumulative percentage\n",
    "category_counts['Cumulative Percentage'] = category_counts['Percentage'].cumsum()\n",
    "\n",
    "total_rows = len(category_counts)\n",
    "category_counts['Row Cumulative Percentage'] = (category_counts.index + 1) / total_rows * 100"
   ]
  },
  {
   "cell_type": "code",
   "execution_count": 62,
   "metadata": {},
   "outputs": [
    {
     "data": {
      "text/html": [
       "<div>\n",
       "<style scoped>\n",
       "    .dataframe tbody tr th:only-of-type {\n",
       "        vertical-align: middle;\n",
       "    }\n",
       "\n",
       "    .dataframe tbody tr th {\n",
       "        vertical-align: top;\n",
       "    }\n",
       "\n",
       "    .dataframe thead th {\n",
       "        text-align: right;\n",
       "    }\n",
       "</style>\n",
       "<table border=\"1\" class=\"dataframe\">\n",
       "  <thead>\n",
       "    <tr style=\"text-align: right;\">\n",
       "      <th></th>\n",
       "      <th>Departamento</th>\n",
       "      <th>Count</th>\n",
       "      <th>Percentage</th>\n",
       "      <th>Cumulative Percentage</th>\n",
       "      <th>Row Cumulative Percentage</th>\n",
       "    </tr>\n",
       "  </thead>\n",
       "  <tbody>\n",
       "    <tr>\n",
       "      <th>0</th>\n",
       "      <td>Distrito Capital de Bogotá</td>\n",
       "      <td>217469</td>\n",
       "      <td>0.581592</td>\n",
       "      <td>0.581592</td>\n",
       "      <td>2.941176</td>\n",
       "    </tr>\n",
       "    <tr>\n",
       "      <th>1</th>\n",
       "      <td>Valle del Cauca</td>\n",
       "      <td>23916</td>\n",
       "      <td>0.063960</td>\n",
       "      <td>0.645553</td>\n",
       "      <td>5.882353</td>\n",
       "    </tr>\n",
       "    <tr>\n",
       "      <th>2</th>\n",
       "      <td>Antioquia</td>\n",
       "      <td>11919</td>\n",
       "      <td>0.031876</td>\n",
       "      <td>0.677428</td>\n",
       "      <td>8.823529</td>\n",
       "    </tr>\n",
       "    <tr>\n",
       "      <th>3</th>\n",
       "      <td>Cundinamarca</td>\n",
       "      <td>10756</td>\n",
       "      <td>0.028766</td>\n",
       "      <td>0.706194</td>\n",
       "      <td>11.764706</td>\n",
       "    </tr>\n",
       "    <tr>\n",
       "      <th>4</th>\n",
       "      <td>Atlántico</td>\n",
       "      <td>10156</td>\n",
       "      <td>0.027161</td>\n",
       "      <td>0.733355</td>\n",
       "      <td>14.705882</td>\n",
       "    </tr>\n",
       "    <tr>\n",
       "      <th>5</th>\n",
       "      <td>Tolima</td>\n",
       "      <td>9184</td>\n",
       "      <td>0.024561</td>\n",
       "      <td>0.757916</td>\n",
       "      <td>17.647059</td>\n",
       "    </tr>\n",
       "    <tr>\n",
       "      <th>6</th>\n",
       "      <td>Magdalena</td>\n",
       "      <td>8326</td>\n",
       "      <td>0.022267</td>\n",
       "      <td>0.780183</td>\n",
       "      <td>20.588235</td>\n",
       "    </tr>\n",
       "    <tr>\n",
       "      <th>7</th>\n",
       "      <td>Caldas</td>\n",
       "      <td>8291</td>\n",
       "      <td>0.022173</td>\n",
       "      <td>0.802356</td>\n",
       "      <td>23.529412</td>\n",
       "    </tr>\n",
       "    <tr>\n",
       "      <th>8</th>\n",
       "      <td>Santander</td>\n",
       "      <td>8004</td>\n",
       "      <td>0.021406</td>\n",
       "      <td>0.823762</td>\n",
       "      <td>26.470588</td>\n",
       "    </tr>\n",
       "    <tr>\n",
       "      <th>9</th>\n",
       "      <td>Norte de Santander</td>\n",
       "      <td>7827</td>\n",
       "      <td>0.020932</td>\n",
       "      <td>0.844694</td>\n",
       "      <td>29.411765</td>\n",
       "    </tr>\n",
       "    <tr>\n",
       "      <th>10</th>\n",
       "      <td>Bolívar</td>\n",
       "      <td>7176</td>\n",
       "      <td>0.019191</td>\n",
       "      <td>0.863885</td>\n",
       "      <td>32.352941</td>\n",
       "    </tr>\n",
       "    <tr>\n",
       "      <th>11</th>\n",
       "      <td>Nariño</td>\n",
       "      <td>6032</td>\n",
       "      <td>0.016132</td>\n",
       "      <td>0.880017</td>\n",
       "      <td>35.294118</td>\n",
       "    </tr>\n",
       "    <tr>\n",
       "      <th>12</th>\n",
       "      <td>Meta</td>\n",
       "      <td>6015</td>\n",
       "      <td>0.016086</td>\n",
       "      <td>0.896103</td>\n",
       "      <td>38.235294</td>\n",
       "    </tr>\n",
       "    <tr>\n",
       "      <th>13</th>\n",
       "      <td>Huila</td>\n",
       "      <td>4235</td>\n",
       "      <td>0.011326</td>\n",
       "      <td>0.907429</td>\n",
       "      <td>41.176471</td>\n",
       "    </tr>\n",
       "    <tr>\n",
       "      <th>14</th>\n",
       "      <td>Sucre</td>\n",
       "      <td>4125</td>\n",
       "      <td>0.011032</td>\n",
       "      <td>0.918461</td>\n",
       "      <td>44.117647</td>\n",
       "    </tr>\n",
       "    <tr>\n",
       "      <th>15</th>\n",
       "      <td>Casanare</td>\n",
       "      <td>3906</td>\n",
       "      <td>0.010446</td>\n",
       "      <td>0.928907</td>\n",
       "      <td>47.058824</td>\n",
       "    </tr>\n",
       "    <tr>\n",
       "      <th>16</th>\n",
       "      <td>Arauca</td>\n",
       "      <td>3731</td>\n",
       "      <td>0.009978</td>\n",
       "      <td>0.938885</td>\n",
       "      <td>50.000000</td>\n",
       "    </tr>\n",
       "    <tr>\n",
       "      <th>17</th>\n",
       "      <td>Vichada</td>\n",
       "      <td>3384</td>\n",
       "      <td>0.009050</td>\n",
       "      <td>0.947935</td>\n",
       "      <td>52.941176</td>\n",
       "    </tr>\n",
       "    <tr>\n",
       "      <th>18</th>\n",
       "      <td>Boyacá</td>\n",
       "      <td>3363</td>\n",
       "      <td>0.008994</td>\n",
       "      <td>0.956929</td>\n",
       "      <td>55.882353</td>\n",
       "    </tr>\n",
       "    <tr>\n",
       "      <th>19</th>\n",
       "      <td>Cauca</td>\n",
       "      <td>3262</td>\n",
       "      <td>0.008724</td>\n",
       "      <td>0.965653</td>\n",
       "      <td>58.823529</td>\n",
       "    </tr>\n",
       "    <tr>\n",
       "      <th>20</th>\n",
       "      <td>Cesar</td>\n",
       "      <td>2588</td>\n",
       "      <td>0.006921</td>\n",
       "      <td>0.972574</td>\n",
       "      <td>61.764706</td>\n",
       "    </tr>\n",
       "    <tr>\n",
       "      <th>21</th>\n",
       "      <td>No Definido</td>\n",
       "      <td>2032</td>\n",
       "      <td>0.005434</td>\n",
       "      <td>0.978009</td>\n",
       "      <td>64.705882</td>\n",
       "    </tr>\n",
       "    <tr>\n",
       "      <th>22</th>\n",
       "      <td>Córdoba</td>\n",
       "      <td>2016</td>\n",
       "      <td>0.005392</td>\n",
       "      <td>0.983400</td>\n",
       "      <td>67.647059</td>\n",
       "    </tr>\n",
       "    <tr>\n",
       "      <th>23</th>\n",
       "      <td>Chocó</td>\n",
       "      <td>1754</td>\n",
       "      <td>0.004691</td>\n",
       "      <td>0.988091</td>\n",
       "      <td>70.588235</td>\n",
       "    </tr>\n",
       "    <tr>\n",
       "      <th>24</th>\n",
       "      <td>Quindío</td>\n",
       "      <td>1134</td>\n",
       "      <td>0.003033</td>\n",
       "      <td>0.991124</td>\n",
       "      <td>73.529412</td>\n",
       "    </tr>\n",
       "    <tr>\n",
       "      <th>25</th>\n",
       "      <td>Caquetá</td>\n",
       "      <td>758</td>\n",
       "      <td>0.002027</td>\n",
       "      <td>0.993151</td>\n",
       "      <td>76.470588</td>\n",
       "    </tr>\n",
       "    <tr>\n",
       "      <th>26</th>\n",
       "      <td>Putumayo</td>\n",
       "      <td>627</td>\n",
       "      <td>0.001677</td>\n",
       "      <td>0.994828</td>\n",
       "      <td>79.411765</td>\n",
       "    </tr>\n",
       "    <tr>\n",
       "      <th>27</th>\n",
       "      <td>Amazonas</td>\n",
       "      <td>532</td>\n",
       "      <td>0.001423</td>\n",
       "      <td>0.996251</td>\n",
       "      <td>82.352941</td>\n",
       "    </tr>\n",
       "    <tr>\n",
       "      <th>28</th>\n",
       "      <td>Guaviare</td>\n",
       "      <td>370</td>\n",
       "      <td>0.000990</td>\n",
       "      <td>0.997240</td>\n",
       "      <td>85.294118</td>\n",
       "    </tr>\n",
       "    <tr>\n",
       "      <th>29</th>\n",
       "      <td>San Andrés, Providencia y Santa Catalina</td>\n",
       "      <td>362</td>\n",
       "      <td>0.000968</td>\n",
       "      <td>0.998208</td>\n",
       "      <td>88.235294</td>\n",
       "    </tr>\n",
       "    <tr>\n",
       "      <th>30</th>\n",
       "      <td>Vaupés</td>\n",
       "      <td>351</td>\n",
       "      <td>0.000939</td>\n",
       "      <td>0.999147</td>\n",
       "      <td>91.176471</td>\n",
       "    </tr>\n",
       "    <tr>\n",
       "      <th>31</th>\n",
       "      <td>Guainía</td>\n",
       "      <td>270</td>\n",
       "      <td>0.000722</td>\n",
       "      <td>0.999869</td>\n",
       "      <td>94.117647</td>\n",
       "    </tr>\n",
       "    <tr>\n",
       "      <th>32</th>\n",
       "      <td>La Guajira</td>\n",
       "      <td>42</td>\n",
       "      <td>0.000112</td>\n",
       "      <td>0.999981</td>\n",
       "      <td>97.058824</td>\n",
       "    </tr>\n",
       "    <tr>\n",
       "      <th>33</th>\n",
       "      <td>Risaralda</td>\n",
       "      <td>7</td>\n",
       "      <td>0.000019</td>\n",
       "      <td>1.000000</td>\n",
       "      <td>100.000000</td>\n",
       "    </tr>\n",
       "  </tbody>\n",
       "</table>\n",
       "</div>"
      ],
      "text/plain": [
       "                                Departamento   Count  Percentage  \\\n",
       "0                 Distrito Capital de Bogotá  217469    0.581592   \n",
       "1                            Valle del Cauca   23916    0.063960   \n",
       "2                                  Antioquia   11919    0.031876   \n",
       "3                               Cundinamarca   10756    0.028766   \n",
       "4                                  Atlántico   10156    0.027161   \n",
       "5                                     Tolima    9184    0.024561   \n",
       "6                                  Magdalena    8326    0.022267   \n",
       "7                                     Caldas    8291    0.022173   \n",
       "8                                  Santander    8004    0.021406   \n",
       "9                         Norte de Santander    7827    0.020932   \n",
       "10                                   Bolívar    7176    0.019191   \n",
       "11                                    Nariño    6032    0.016132   \n",
       "12                                      Meta    6015    0.016086   \n",
       "13                                     Huila    4235    0.011326   \n",
       "14                                     Sucre    4125    0.011032   \n",
       "15                                  Casanare    3906    0.010446   \n",
       "16                                    Arauca    3731    0.009978   \n",
       "17                                   Vichada    3384    0.009050   \n",
       "18                                    Boyacá    3363    0.008994   \n",
       "19                                     Cauca    3262    0.008724   \n",
       "20                                     Cesar    2588    0.006921   \n",
       "21                               No Definido    2032    0.005434   \n",
       "22                                   Córdoba    2016    0.005392   \n",
       "23                                     Chocó    1754    0.004691   \n",
       "24                                   Quindío    1134    0.003033   \n",
       "25                                   Caquetá     758    0.002027   \n",
       "26                                  Putumayo     627    0.001677   \n",
       "27                                  Amazonas     532    0.001423   \n",
       "28                                  Guaviare     370    0.000990   \n",
       "29  San Andrés, Providencia y Santa Catalina     362    0.000968   \n",
       "30                                    Vaupés     351    0.000939   \n",
       "31                                   Guainía     270    0.000722   \n",
       "32                                La Guajira      42    0.000112   \n",
       "33                                 Risaralda       7    0.000019   \n",
       "\n",
       "    Cumulative Percentage  Row Cumulative Percentage  \n",
       "0                0.581592                   2.941176  \n",
       "1                0.645553                   5.882353  \n",
       "2                0.677428                   8.823529  \n",
       "3                0.706194                  11.764706  \n",
       "4                0.733355                  14.705882  \n",
       "5                0.757916                  17.647059  \n",
       "6                0.780183                  20.588235  \n",
       "7                0.802356                  23.529412  \n",
       "8                0.823762                  26.470588  \n",
       "9                0.844694                  29.411765  \n",
       "10               0.863885                  32.352941  \n",
       "11               0.880017                  35.294118  \n",
       "12               0.896103                  38.235294  \n",
       "13               0.907429                  41.176471  \n",
       "14               0.918461                  44.117647  \n",
       "15               0.928907                  47.058824  \n",
       "16               0.938885                  50.000000  \n",
       "17               0.947935                  52.941176  \n",
       "18               0.956929                  55.882353  \n",
       "19               0.965653                  58.823529  \n",
       "20               0.972574                  61.764706  \n",
       "21               0.978009                  64.705882  \n",
       "22               0.983400                  67.647059  \n",
       "23               0.988091                  70.588235  \n",
       "24               0.991124                  73.529412  \n",
       "25               0.993151                  76.470588  \n",
       "26               0.994828                  79.411765  \n",
       "27               0.996251                  82.352941  \n",
       "28               0.997240                  85.294118  \n",
       "29               0.998208                  88.235294  \n",
       "30               0.999147                  91.176471  \n",
       "31               0.999869                  94.117647  \n",
       "32               0.999981                  97.058824  \n",
       "33               1.000000                 100.000000  "
      ]
     },
     "execution_count": 62,
     "metadata": {},
     "output_type": "execute_result"
    }
   ],
   "source": [
    "category_counts"
   ]
  },
  {
   "cell_type": "code",
   "execution_count": 63,
   "metadata": {},
   "outputs": [
    {
     "data": {
      "text/html": [
       "<div>\n",
       "<style scoped>\n",
       "    .dataframe tbody tr th:only-of-type {\n",
       "        vertical-align: middle;\n",
       "    }\n",
       "\n",
       "    .dataframe tbody tr th {\n",
       "        vertical-align: top;\n",
       "    }\n",
       "\n",
       "    .dataframe thead th {\n",
       "        text-align: right;\n",
       "    }\n",
       "</style>\n",
       "<table border=\"1\" class=\"dataframe\">\n",
       "  <thead>\n",
       "    <tr style=\"text-align: right;\">\n",
       "      <th></th>\n",
       "      <th>Count</th>\n",
       "      <th>Percentage</th>\n",
       "      <th>Cumulative Percentage</th>\n",
       "      <th>Row Cumulative Percentage</th>\n",
       "    </tr>\n",
       "  </thead>\n",
       "  <tbody>\n",
       "    <tr>\n",
       "      <th>count</th>\n",
       "      <td>34.000000</td>\n",
       "      <td>34.000000</td>\n",
       "      <td>34.000000</td>\n",
       "      <td>34.000000</td>\n",
       "    </tr>\n",
       "    <tr>\n",
       "      <th>mean</th>\n",
       "      <td>10997.647059</td>\n",
       "      <td>0.029412</td>\n",
       "      <td>0.895562</td>\n",
       "      <td>51.470588</td>\n",
       "    </tr>\n",
       "    <tr>\n",
       "      <th>std</th>\n",
       "      <td>36805.670772</td>\n",
       "      <td>0.098432</td>\n",
       "      <td>0.119061</td>\n",
       "      <td>29.288959</td>\n",
       "    </tr>\n",
       "    <tr>\n",
       "      <th>min</th>\n",
       "      <td>7.000000</td>\n",
       "      <td>0.000019</td>\n",
       "      <td>0.581592</td>\n",
       "      <td>2.941176</td>\n",
       "    </tr>\n",
       "    <tr>\n",
       "      <th>25%</th>\n",
       "      <td>852.000000</td>\n",
       "      <td>0.002279</td>\n",
       "      <td>0.828995</td>\n",
       "      <td>27.205882</td>\n",
       "    </tr>\n",
       "    <tr>\n",
       "      <th>50%</th>\n",
       "      <td>3557.500000</td>\n",
       "      <td>0.009514</td>\n",
       "      <td>0.943410</td>\n",
       "      <td>51.470588</td>\n",
       "    </tr>\n",
       "    <tr>\n",
       "      <th>75%</th>\n",
       "      <td>7959.750000</td>\n",
       "      <td>0.021287</td>\n",
       "      <td>0.992644</td>\n",
       "      <td>75.735294</td>\n",
       "    </tr>\n",
       "    <tr>\n",
       "      <th>max</th>\n",
       "      <td>217469.000000</td>\n",
       "      <td>0.581592</td>\n",
       "      <td>1.000000</td>\n",
       "      <td>100.000000</td>\n",
       "    </tr>\n",
       "  </tbody>\n",
       "</table>\n",
       "</div>"
      ],
      "text/plain": [
       "               Count  Percentage  Cumulative Percentage  \\\n",
       "count      34.000000   34.000000              34.000000   \n",
       "mean    10997.647059    0.029412               0.895562   \n",
       "std     36805.670772    0.098432               0.119061   \n",
       "min         7.000000    0.000019               0.581592   \n",
       "25%       852.000000    0.002279               0.828995   \n",
       "50%      3557.500000    0.009514               0.943410   \n",
       "75%      7959.750000    0.021287               0.992644   \n",
       "max    217469.000000    0.581592               1.000000   \n",
       "\n",
       "       Row Cumulative Percentage  \n",
       "count                  34.000000  \n",
       "mean                   51.470588  \n",
       "std                    29.288959  \n",
       "min                     2.941176  \n",
       "25%                    27.205882  \n",
       "50%                    51.470588  \n",
       "75%                    75.735294  \n",
       "max                   100.000000  "
      ]
     },
     "execution_count": 63,
     "metadata": {},
     "output_type": "execute_result"
    }
   ],
   "source": [
    "category_counts.describe()"
   ]
  },
  {
   "cell_type": "code",
   "execution_count": 64,
   "metadata": {},
   "outputs": [
    {
     "data": {
      "application/vnd.plotly.v1+json": {
       "config": {
        "plotlyServerURL": "https://plot.ly"
       },
       "data": [
        {
         "alignmentgroup": "True",
         "hovertemplate": "Departamento=%{x}<br>Count=%{y}<extra></extra>",
         "legendgroup": "",
         "marker": {
          "color": "#636efa",
          "pattern": {
           "shape": ""
          }
         },
         "name": "",
         "offsetgroup": "",
         "orientation": "v",
         "showlegend": false,
         "textposition": "auto",
         "type": "bar",
         "x": [
          "Distrito Capital de Bogotá",
          "Valle del Cauca",
          "Antioquia",
          "Cundinamarca",
          "Atlántico",
          "Tolima",
          "Magdalena",
          "Caldas",
          "Santander",
          "Norte de Santander",
          "Bolívar",
          "Nariño",
          "Meta",
          "Huila",
          "Sucre",
          "Casanare",
          "Arauca",
          "Vichada",
          "Boyacá",
          "Cauca",
          "Cesar",
          "No Definido",
          "Córdoba",
          "Chocó",
          "Quindío",
          "Caquetá",
          "Putumayo",
          "Amazonas",
          "Guaviare",
          "San Andrés, Providencia y Santa Catalina",
          "Vaupés",
          "Guainía",
          "La Guajira",
          "Risaralda"
         ],
         "xaxis": "x",
         "y": [
          217469,
          23916,
          11919,
          10756,
          10156,
          9184,
          8326,
          8291,
          8004,
          7827,
          7176,
          6032,
          6015,
          4235,
          4125,
          3906,
          3731,
          3384,
          3363,
          3262,
          2588,
          2032,
          2016,
          1754,
          1134,
          758,
          627,
          532,
          370,
          362,
          351,
          270,
          42,
          7
         ],
         "yaxis": "y"
        }
       ],
       "layout": {
        "barmode": "relative",
        "legend": {
         "tracegroupgap": 0
        },
        "shapes": [
         {
          "line": {
           "color": "red",
           "width": 2
          },
          "name": "Mean: 10997.65",
          "type": "line",
          "x0": -0.5,
          "x1": 33.5,
          "y0": 10997.64705882353,
          "y1": 10997.64705882353
         },
         {
          "line": {
           "color": "blue",
           "width": 2
          },
          "name": "Median: 3557.50",
          "type": "line",
          "x0": -0.5,
          "x1": 33.5,
          "y0": 3557.5,
          "y1": 3557.5
         }
        ],
        "template": {
         "data": {
          "bar": [
           {
            "error_x": {
             "color": "#2a3f5f"
            },
            "error_y": {
             "color": "#2a3f5f"
            },
            "marker": {
             "line": {
              "color": "#E5ECF6",
              "width": 0.5
             },
             "pattern": {
              "fillmode": "overlay",
              "size": 10,
              "solidity": 0.2
             }
            },
            "type": "bar"
           }
          ],
          "barpolar": [
           {
            "marker": {
             "line": {
              "color": "#E5ECF6",
              "width": 0.5
             },
             "pattern": {
              "fillmode": "overlay",
              "size": 10,
              "solidity": 0.2
             }
            },
            "type": "barpolar"
           }
          ],
          "carpet": [
           {
            "aaxis": {
             "endlinecolor": "#2a3f5f",
             "gridcolor": "white",
             "linecolor": "white",
             "minorgridcolor": "white",
             "startlinecolor": "#2a3f5f"
            },
            "baxis": {
             "endlinecolor": "#2a3f5f",
             "gridcolor": "white",
             "linecolor": "white",
             "minorgridcolor": "white",
             "startlinecolor": "#2a3f5f"
            },
            "type": "carpet"
           }
          ],
          "choropleth": [
           {
            "colorbar": {
             "outlinewidth": 0,
             "ticks": ""
            },
            "type": "choropleth"
           }
          ],
          "contour": [
           {
            "colorbar": {
             "outlinewidth": 0,
             "ticks": ""
            },
            "colorscale": [
             [
              0,
              "#0d0887"
             ],
             [
              0.1111111111111111,
              "#46039f"
             ],
             [
              0.2222222222222222,
              "#7201a8"
             ],
             [
              0.3333333333333333,
              "#9c179e"
             ],
             [
              0.4444444444444444,
              "#bd3786"
             ],
             [
              0.5555555555555556,
              "#d8576b"
             ],
             [
              0.6666666666666666,
              "#ed7953"
             ],
             [
              0.7777777777777778,
              "#fb9f3a"
             ],
             [
              0.8888888888888888,
              "#fdca26"
             ],
             [
              1,
              "#f0f921"
             ]
            ],
            "type": "contour"
           }
          ],
          "contourcarpet": [
           {
            "colorbar": {
             "outlinewidth": 0,
             "ticks": ""
            },
            "type": "contourcarpet"
           }
          ],
          "heatmap": [
           {
            "colorbar": {
             "outlinewidth": 0,
             "ticks": ""
            },
            "colorscale": [
             [
              0,
              "#0d0887"
             ],
             [
              0.1111111111111111,
              "#46039f"
             ],
             [
              0.2222222222222222,
              "#7201a8"
             ],
             [
              0.3333333333333333,
              "#9c179e"
             ],
             [
              0.4444444444444444,
              "#bd3786"
             ],
             [
              0.5555555555555556,
              "#d8576b"
             ],
             [
              0.6666666666666666,
              "#ed7953"
             ],
             [
              0.7777777777777778,
              "#fb9f3a"
             ],
             [
              0.8888888888888888,
              "#fdca26"
             ],
             [
              1,
              "#f0f921"
             ]
            ],
            "type": "heatmap"
           }
          ],
          "heatmapgl": [
           {
            "colorbar": {
             "outlinewidth": 0,
             "ticks": ""
            },
            "colorscale": [
             [
              0,
              "#0d0887"
             ],
             [
              0.1111111111111111,
              "#46039f"
             ],
             [
              0.2222222222222222,
              "#7201a8"
             ],
             [
              0.3333333333333333,
              "#9c179e"
             ],
             [
              0.4444444444444444,
              "#bd3786"
             ],
             [
              0.5555555555555556,
              "#d8576b"
             ],
             [
              0.6666666666666666,
              "#ed7953"
             ],
             [
              0.7777777777777778,
              "#fb9f3a"
             ],
             [
              0.8888888888888888,
              "#fdca26"
             ],
             [
              1,
              "#f0f921"
             ]
            ],
            "type": "heatmapgl"
           }
          ],
          "histogram": [
           {
            "marker": {
             "pattern": {
              "fillmode": "overlay",
              "size": 10,
              "solidity": 0.2
             }
            },
            "type": "histogram"
           }
          ],
          "histogram2d": [
           {
            "colorbar": {
             "outlinewidth": 0,
             "ticks": ""
            },
            "colorscale": [
             [
              0,
              "#0d0887"
             ],
             [
              0.1111111111111111,
              "#46039f"
             ],
             [
              0.2222222222222222,
              "#7201a8"
             ],
             [
              0.3333333333333333,
              "#9c179e"
             ],
             [
              0.4444444444444444,
              "#bd3786"
             ],
             [
              0.5555555555555556,
              "#d8576b"
             ],
             [
              0.6666666666666666,
              "#ed7953"
             ],
             [
              0.7777777777777778,
              "#fb9f3a"
             ],
             [
              0.8888888888888888,
              "#fdca26"
             ],
             [
              1,
              "#f0f921"
             ]
            ],
            "type": "histogram2d"
           }
          ],
          "histogram2dcontour": [
           {
            "colorbar": {
             "outlinewidth": 0,
             "ticks": ""
            },
            "colorscale": [
             [
              0,
              "#0d0887"
             ],
             [
              0.1111111111111111,
              "#46039f"
             ],
             [
              0.2222222222222222,
              "#7201a8"
             ],
             [
              0.3333333333333333,
              "#9c179e"
             ],
             [
              0.4444444444444444,
              "#bd3786"
             ],
             [
              0.5555555555555556,
              "#d8576b"
             ],
             [
              0.6666666666666666,
              "#ed7953"
             ],
             [
              0.7777777777777778,
              "#fb9f3a"
             ],
             [
              0.8888888888888888,
              "#fdca26"
             ],
             [
              1,
              "#f0f921"
             ]
            ],
            "type": "histogram2dcontour"
           }
          ],
          "mesh3d": [
           {
            "colorbar": {
             "outlinewidth": 0,
             "ticks": ""
            },
            "type": "mesh3d"
           }
          ],
          "parcoords": [
           {
            "line": {
             "colorbar": {
              "outlinewidth": 0,
              "ticks": ""
             }
            },
            "type": "parcoords"
           }
          ],
          "pie": [
           {
            "automargin": true,
            "type": "pie"
           }
          ],
          "scatter": [
           {
            "fillpattern": {
             "fillmode": "overlay",
             "size": 10,
             "solidity": 0.2
            },
            "type": "scatter"
           }
          ],
          "scatter3d": [
           {
            "line": {
             "colorbar": {
              "outlinewidth": 0,
              "ticks": ""
             }
            },
            "marker": {
             "colorbar": {
              "outlinewidth": 0,
              "ticks": ""
             }
            },
            "type": "scatter3d"
           }
          ],
          "scattercarpet": [
           {
            "marker": {
             "colorbar": {
              "outlinewidth": 0,
              "ticks": ""
             }
            },
            "type": "scattercarpet"
           }
          ],
          "scattergeo": [
           {
            "marker": {
             "colorbar": {
              "outlinewidth": 0,
              "ticks": ""
             }
            },
            "type": "scattergeo"
           }
          ],
          "scattergl": [
           {
            "marker": {
             "colorbar": {
              "outlinewidth": 0,
              "ticks": ""
             }
            },
            "type": "scattergl"
           }
          ],
          "scattermapbox": [
           {
            "marker": {
             "colorbar": {
              "outlinewidth": 0,
              "ticks": ""
             }
            },
            "type": "scattermapbox"
           }
          ],
          "scatterpolar": [
           {
            "marker": {
             "colorbar": {
              "outlinewidth": 0,
              "ticks": ""
             }
            },
            "type": "scatterpolar"
           }
          ],
          "scatterpolargl": [
           {
            "marker": {
             "colorbar": {
              "outlinewidth": 0,
              "ticks": ""
             }
            },
            "type": "scatterpolargl"
           }
          ],
          "scatterternary": [
           {
            "marker": {
             "colorbar": {
              "outlinewidth": 0,
              "ticks": ""
             }
            },
            "type": "scatterternary"
           }
          ],
          "surface": [
           {
            "colorbar": {
             "outlinewidth": 0,
             "ticks": ""
            },
            "colorscale": [
             [
              0,
              "#0d0887"
             ],
             [
              0.1111111111111111,
              "#46039f"
             ],
             [
              0.2222222222222222,
              "#7201a8"
             ],
             [
              0.3333333333333333,
              "#9c179e"
             ],
             [
              0.4444444444444444,
              "#bd3786"
             ],
             [
              0.5555555555555556,
              "#d8576b"
             ],
             [
              0.6666666666666666,
              "#ed7953"
             ],
             [
              0.7777777777777778,
              "#fb9f3a"
             ],
             [
              0.8888888888888888,
              "#fdca26"
             ],
             [
              1,
              "#f0f921"
             ]
            ],
            "type": "surface"
           }
          ],
          "table": [
           {
            "cells": {
             "fill": {
              "color": "#EBF0F8"
             },
             "line": {
              "color": "white"
             }
            },
            "header": {
             "fill": {
              "color": "#C8D4E3"
             },
             "line": {
              "color": "white"
             }
            },
            "type": "table"
           }
          ]
         },
         "layout": {
          "annotationdefaults": {
           "arrowcolor": "#2a3f5f",
           "arrowhead": 0,
           "arrowwidth": 1
          },
          "autotypenumbers": "strict",
          "coloraxis": {
           "colorbar": {
            "outlinewidth": 0,
            "ticks": ""
           }
          },
          "colorscale": {
           "diverging": [
            [
             0,
             "#8e0152"
            ],
            [
             0.1,
             "#c51b7d"
            ],
            [
             0.2,
             "#de77ae"
            ],
            [
             0.3,
             "#f1b6da"
            ],
            [
             0.4,
             "#fde0ef"
            ],
            [
             0.5,
             "#f7f7f7"
            ],
            [
             0.6,
             "#e6f5d0"
            ],
            [
             0.7,
             "#b8e186"
            ],
            [
             0.8,
             "#7fbc41"
            ],
            [
             0.9,
             "#4d9221"
            ],
            [
             1,
             "#276419"
            ]
           ],
           "sequential": [
            [
             0,
             "#0d0887"
            ],
            [
             0.1111111111111111,
             "#46039f"
            ],
            [
             0.2222222222222222,
             "#7201a8"
            ],
            [
             0.3333333333333333,
             "#9c179e"
            ],
            [
             0.4444444444444444,
             "#bd3786"
            ],
            [
             0.5555555555555556,
             "#d8576b"
            ],
            [
             0.6666666666666666,
             "#ed7953"
            ],
            [
             0.7777777777777778,
             "#fb9f3a"
            ],
            [
             0.8888888888888888,
             "#fdca26"
            ],
            [
             1,
             "#f0f921"
            ]
           ],
           "sequentialminus": [
            [
             0,
             "#0d0887"
            ],
            [
             0.1111111111111111,
             "#46039f"
            ],
            [
             0.2222222222222222,
             "#7201a8"
            ],
            [
             0.3333333333333333,
             "#9c179e"
            ],
            [
             0.4444444444444444,
             "#bd3786"
            ],
            [
             0.5555555555555556,
             "#d8576b"
            ],
            [
             0.6666666666666666,
             "#ed7953"
            ],
            [
             0.7777777777777778,
             "#fb9f3a"
            ],
            [
             0.8888888888888888,
             "#fdca26"
            ],
            [
             1,
             "#f0f921"
            ]
           ]
          },
          "colorway": [
           "#636efa",
           "#EF553B",
           "#00cc96",
           "#ab63fa",
           "#FFA15A",
           "#19d3f3",
           "#FF6692",
           "#B6E880",
           "#FF97FF",
           "#FECB52"
          ],
          "font": {
           "color": "#2a3f5f"
          },
          "geo": {
           "bgcolor": "white",
           "lakecolor": "white",
           "landcolor": "#E5ECF6",
           "showlakes": true,
           "showland": true,
           "subunitcolor": "white"
          },
          "hoverlabel": {
           "align": "left"
          },
          "hovermode": "closest",
          "mapbox": {
           "style": "light"
          },
          "paper_bgcolor": "white",
          "plot_bgcolor": "#E5ECF6",
          "polar": {
           "angularaxis": {
            "gridcolor": "white",
            "linecolor": "white",
            "ticks": ""
           },
           "bgcolor": "#E5ECF6",
           "radialaxis": {
            "gridcolor": "white",
            "linecolor": "white",
            "ticks": ""
           }
          },
          "scene": {
           "xaxis": {
            "backgroundcolor": "#E5ECF6",
            "gridcolor": "white",
            "gridwidth": 2,
            "linecolor": "white",
            "showbackground": true,
            "ticks": "",
            "zerolinecolor": "white"
           },
           "yaxis": {
            "backgroundcolor": "#E5ECF6",
            "gridcolor": "white",
            "gridwidth": 2,
            "linecolor": "white",
            "showbackground": true,
            "ticks": "",
            "zerolinecolor": "white"
           },
           "zaxis": {
            "backgroundcolor": "#E5ECF6",
            "gridcolor": "white",
            "gridwidth": 2,
            "linecolor": "white",
            "showbackground": true,
            "ticks": "",
            "zerolinecolor": "white"
           }
          },
          "shapedefaults": {
           "line": {
            "color": "#2a3f5f"
           }
          },
          "ternary": {
           "aaxis": {
            "gridcolor": "white",
            "linecolor": "white",
            "ticks": ""
           },
           "baxis": {
            "gridcolor": "white",
            "linecolor": "white",
            "ticks": ""
           },
           "bgcolor": "#E5ECF6",
           "caxis": {
            "gridcolor": "white",
            "linecolor": "white",
            "ticks": ""
           }
          },
          "title": {
           "x": 0.05
          },
          "xaxis": {
           "automargin": true,
           "gridcolor": "white",
           "linecolor": "white",
           "ticks": "",
           "title": {
            "standoff": 15
           },
           "zerolinecolor": "white",
           "zerolinewidth": 2
          },
          "yaxis": {
           "automargin": true,
           "gridcolor": "white",
           "linecolor": "white",
           "ticks": "",
           "title": {
            "standoff": 15
           },
           "zerolinecolor": "white",
           "zerolinewidth": 2
          }
         }
        },
        "title": {
         "text": "Contratos por Departamento"
        },
        "xaxis": {
         "anchor": "y",
         "domain": [
          0,
          1
         ],
         "title": {
          "text": "Departamento"
         }
        },
        "yaxis": {
         "anchor": "x",
         "domain": [
          0,
          1
         ],
         "title": {
          "text": "Contratos"
         }
        }
       }
      }
     },
     "metadata": {},
     "output_type": "display_data"
    }
   ],
   "source": [
    "# Create a bar plot using Plotly Express\n",
    "fig = px.bar(category_counts, x='Departamento', y='Count', title='Contratos por Departamento')\n",
    "# fig.update_traces(marker_color='skyblue')\n",
    "\n",
    "# Add horizontal lines for mean and median\n",
    "fig.add_shape(type='line',\n",
    "              x0=-0.5, x1=len(category_counts) - 0.5,\n",
    "              y0=mean_count, y1=mean_count,\n",
    "              line=dict(color='red', width=2),\n",
    "              name=f'Mean: {mean_count:.2f}')\n",
    "\n",
    "fig.add_shape(type='line',\n",
    "              x0=-0.5, x1=len(category_counts) - 0.5,\n",
    "              y0=median_count, y1=median_count,\n",
    "              line=dict(color='blue', width=2),\n",
    "              name=f'Median: {median_count:.2f}')\n",
    "\n",
    "# Customize the layout (optional)\n",
    "fig.update_layout(xaxis_title='Departamento', yaxis_title='Contratos'\n",
    "                #   , xaxis_tickangle=0\n",
    "                  )\n",
    "\n",
    "# Show the plot\n",
    "fig.show()"
   ]
  },
  {
   "cell_type": "markdown",
   "metadata": {},
   "source": [
    "#### Filtering Bogotá"
   ]
  },
  {
   "cell_type": "code",
   "execution_count": 65,
   "metadata": {},
   "outputs": [],
   "source": [
    "category_counts_without_bogota = category_counts[category_counts['Departamento'] != 'Distrito Capital de Bogotá']"
   ]
  },
  {
   "cell_type": "code",
   "execution_count": 66,
   "metadata": {},
   "outputs": [
    {
     "data": {
      "application/vnd.plotly.v1+json": {
       "config": {
        "plotlyServerURL": "https://plot.ly"
       },
       "data": [
        {
         "alignmentgroup": "True",
         "hovertemplate": "Departamento=%{x}<br>Count=%{y}<extra></extra>",
         "legendgroup": "",
         "marker": {
          "color": "#636efa",
          "pattern": {
           "shape": ""
          }
         },
         "name": "",
         "offsetgroup": "",
         "orientation": "v",
         "showlegend": false,
         "textposition": "auto",
         "type": "bar",
         "x": [
          "Valle del Cauca",
          "Antioquia",
          "Cundinamarca",
          "Atlántico",
          "Tolima",
          "Magdalena",
          "Caldas",
          "Santander",
          "Norte de Santander",
          "Bolívar",
          "Nariño",
          "Meta",
          "Huila",
          "Sucre",
          "Casanare",
          "Arauca",
          "Vichada",
          "Boyacá",
          "Cauca",
          "Cesar",
          "No Definido",
          "Córdoba",
          "Chocó",
          "Quindío",
          "Caquetá",
          "Putumayo",
          "Amazonas",
          "Guaviare",
          "San Andrés, Providencia y Santa Catalina",
          "Vaupés",
          "Guainía",
          "La Guajira",
          "Risaralda"
         ],
         "xaxis": "x",
         "y": [
          23916,
          11919,
          10756,
          10156,
          9184,
          8326,
          8291,
          8004,
          7827,
          7176,
          6032,
          6015,
          4235,
          4125,
          3906,
          3731,
          3384,
          3363,
          3262,
          2588,
          2032,
          2016,
          1754,
          1134,
          758,
          627,
          532,
          370,
          362,
          351,
          270,
          42,
          7
         ],
         "yaxis": "y"
        }
       ],
       "layout": {
        "barmode": "relative",
        "legend": {
         "tracegroupgap": 0
        },
        "shapes": [
         {
          "line": {
           "color": "red",
           "width": 2
          },
          "name": "Mean: 10997.65",
          "type": "line",
          "x0": -0.5,
          "x1": 33.5,
          "y0": 10997.64705882353,
          "y1": 10997.64705882353
         },
         {
          "line": {
           "color": "blue",
           "width": 2
          },
          "name": "Median: 3557.50",
          "type": "line",
          "x0": -0.5,
          "x1": 33.5,
          "y0": 3557.5,
          "y1": 3557.5
         }
        ],
        "template": {
         "data": {
          "bar": [
           {
            "error_x": {
             "color": "#2a3f5f"
            },
            "error_y": {
             "color": "#2a3f5f"
            },
            "marker": {
             "line": {
              "color": "#E5ECF6",
              "width": 0.5
             },
             "pattern": {
              "fillmode": "overlay",
              "size": 10,
              "solidity": 0.2
             }
            },
            "type": "bar"
           }
          ],
          "barpolar": [
           {
            "marker": {
             "line": {
              "color": "#E5ECF6",
              "width": 0.5
             },
             "pattern": {
              "fillmode": "overlay",
              "size": 10,
              "solidity": 0.2
             }
            },
            "type": "barpolar"
           }
          ],
          "carpet": [
           {
            "aaxis": {
             "endlinecolor": "#2a3f5f",
             "gridcolor": "white",
             "linecolor": "white",
             "minorgridcolor": "white",
             "startlinecolor": "#2a3f5f"
            },
            "baxis": {
             "endlinecolor": "#2a3f5f",
             "gridcolor": "white",
             "linecolor": "white",
             "minorgridcolor": "white",
             "startlinecolor": "#2a3f5f"
            },
            "type": "carpet"
           }
          ],
          "choropleth": [
           {
            "colorbar": {
             "outlinewidth": 0,
             "ticks": ""
            },
            "type": "choropleth"
           }
          ],
          "contour": [
           {
            "colorbar": {
             "outlinewidth": 0,
             "ticks": ""
            },
            "colorscale": [
             [
              0,
              "#0d0887"
             ],
             [
              0.1111111111111111,
              "#46039f"
             ],
             [
              0.2222222222222222,
              "#7201a8"
             ],
             [
              0.3333333333333333,
              "#9c179e"
             ],
             [
              0.4444444444444444,
              "#bd3786"
             ],
             [
              0.5555555555555556,
              "#d8576b"
             ],
             [
              0.6666666666666666,
              "#ed7953"
             ],
             [
              0.7777777777777778,
              "#fb9f3a"
             ],
             [
              0.8888888888888888,
              "#fdca26"
             ],
             [
              1,
              "#f0f921"
             ]
            ],
            "type": "contour"
           }
          ],
          "contourcarpet": [
           {
            "colorbar": {
             "outlinewidth": 0,
             "ticks": ""
            },
            "type": "contourcarpet"
           }
          ],
          "heatmap": [
           {
            "colorbar": {
             "outlinewidth": 0,
             "ticks": ""
            },
            "colorscale": [
             [
              0,
              "#0d0887"
             ],
             [
              0.1111111111111111,
              "#46039f"
             ],
             [
              0.2222222222222222,
              "#7201a8"
             ],
             [
              0.3333333333333333,
              "#9c179e"
             ],
             [
              0.4444444444444444,
              "#bd3786"
             ],
             [
              0.5555555555555556,
              "#d8576b"
             ],
             [
              0.6666666666666666,
              "#ed7953"
             ],
             [
              0.7777777777777778,
              "#fb9f3a"
             ],
             [
              0.8888888888888888,
              "#fdca26"
             ],
             [
              1,
              "#f0f921"
             ]
            ],
            "type": "heatmap"
           }
          ],
          "heatmapgl": [
           {
            "colorbar": {
             "outlinewidth": 0,
             "ticks": ""
            },
            "colorscale": [
             [
              0,
              "#0d0887"
             ],
             [
              0.1111111111111111,
              "#46039f"
             ],
             [
              0.2222222222222222,
              "#7201a8"
             ],
             [
              0.3333333333333333,
              "#9c179e"
             ],
             [
              0.4444444444444444,
              "#bd3786"
             ],
             [
              0.5555555555555556,
              "#d8576b"
             ],
             [
              0.6666666666666666,
              "#ed7953"
             ],
             [
              0.7777777777777778,
              "#fb9f3a"
             ],
             [
              0.8888888888888888,
              "#fdca26"
             ],
             [
              1,
              "#f0f921"
             ]
            ],
            "type": "heatmapgl"
           }
          ],
          "histogram": [
           {
            "marker": {
             "pattern": {
              "fillmode": "overlay",
              "size": 10,
              "solidity": 0.2
             }
            },
            "type": "histogram"
           }
          ],
          "histogram2d": [
           {
            "colorbar": {
             "outlinewidth": 0,
             "ticks": ""
            },
            "colorscale": [
             [
              0,
              "#0d0887"
             ],
             [
              0.1111111111111111,
              "#46039f"
             ],
             [
              0.2222222222222222,
              "#7201a8"
             ],
             [
              0.3333333333333333,
              "#9c179e"
             ],
             [
              0.4444444444444444,
              "#bd3786"
             ],
             [
              0.5555555555555556,
              "#d8576b"
             ],
             [
              0.6666666666666666,
              "#ed7953"
             ],
             [
              0.7777777777777778,
              "#fb9f3a"
             ],
             [
              0.8888888888888888,
              "#fdca26"
             ],
             [
              1,
              "#f0f921"
             ]
            ],
            "type": "histogram2d"
           }
          ],
          "histogram2dcontour": [
           {
            "colorbar": {
             "outlinewidth": 0,
             "ticks": ""
            },
            "colorscale": [
             [
              0,
              "#0d0887"
             ],
             [
              0.1111111111111111,
              "#46039f"
             ],
             [
              0.2222222222222222,
              "#7201a8"
             ],
             [
              0.3333333333333333,
              "#9c179e"
             ],
             [
              0.4444444444444444,
              "#bd3786"
             ],
             [
              0.5555555555555556,
              "#d8576b"
             ],
             [
              0.6666666666666666,
              "#ed7953"
             ],
             [
              0.7777777777777778,
              "#fb9f3a"
             ],
             [
              0.8888888888888888,
              "#fdca26"
             ],
             [
              1,
              "#f0f921"
             ]
            ],
            "type": "histogram2dcontour"
           }
          ],
          "mesh3d": [
           {
            "colorbar": {
             "outlinewidth": 0,
             "ticks": ""
            },
            "type": "mesh3d"
           }
          ],
          "parcoords": [
           {
            "line": {
             "colorbar": {
              "outlinewidth": 0,
              "ticks": ""
             }
            },
            "type": "parcoords"
           }
          ],
          "pie": [
           {
            "automargin": true,
            "type": "pie"
           }
          ],
          "scatter": [
           {
            "fillpattern": {
             "fillmode": "overlay",
             "size": 10,
             "solidity": 0.2
            },
            "type": "scatter"
           }
          ],
          "scatter3d": [
           {
            "line": {
             "colorbar": {
              "outlinewidth": 0,
              "ticks": ""
             }
            },
            "marker": {
             "colorbar": {
              "outlinewidth": 0,
              "ticks": ""
             }
            },
            "type": "scatter3d"
           }
          ],
          "scattercarpet": [
           {
            "marker": {
             "colorbar": {
              "outlinewidth": 0,
              "ticks": ""
             }
            },
            "type": "scattercarpet"
           }
          ],
          "scattergeo": [
           {
            "marker": {
             "colorbar": {
              "outlinewidth": 0,
              "ticks": ""
             }
            },
            "type": "scattergeo"
           }
          ],
          "scattergl": [
           {
            "marker": {
             "colorbar": {
              "outlinewidth": 0,
              "ticks": ""
             }
            },
            "type": "scattergl"
           }
          ],
          "scattermapbox": [
           {
            "marker": {
             "colorbar": {
              "outlinewidth": 0,
              "ticks": ""
             }
            },
            "type": "scattermapbox"
           }
          ],
          "scatterpolar": [
           {
            "marker": {
             "colorbar": {
              "outlinewidth": 0,
              "ticks": ""
             }
            },
            "type": "scatterpolar"
           }
          ],
          "scatterpolargl": [
           {
            "marker": {
             "colorbar": {
              "outlinewidth": 0,
              "ticks": ""
             }
            },
            "type": "scatterpolargl"
           }
          ],
          "scatterternary": [
           {
            "marker": {
             "colorbar": {
              "outlinewidth": 0,
              "ticks": ""
             }
            },
            "type": "scatterternary"
           }
          ],
          "surface": [
           {
            "colorbar": {
             "outlinewidth": 0,
             "ticks": ""
            },
            "colorscale": [
             [
              0,
              "#0d0887"
             ],
             [
              0.1111111111111111,
              "#46039f"
             ],
             [
              0.2222222222222222,
              "#7201a8"
             ],
             [
              0.3333333333333333,
              "#9c179e"
             ],
             [
              0.4444444444444444,
              "#bd3786"
             ],
             [
              0.5555555555555556,
              "#d8576b"
             ],
             [
              0.6666666666666666,
              "#ed7953"
             ],
             [
              0.7777777777777778,
              "#fb9f3a"
             ],
             [
              0.8888888888888888,
              "#fdca26"
             ],
             [
              1,
              "#f0f921"
             ]
            ],
            "type": "surface"
           }
          ],
          "table": [
           {
            "cells": {
             "fill": {
              "color": "#EBF0F8"
             },
             "line": {
              "color": "white"
             }
            },
            "header": {
             "fill": {
              "color": "#C8D4E3"
             },
             "line": {
              "color": "white"
             }
            },
            "type": "table"
           }
          ]
         },
         "layout": {
          "annotationdefaults": {
           "arrowcolor": "#2a3f5f",
           "arrowhead": 0,
           "arrowwidth": 1
          },
          "autotypenumbers": "strict",
          "coloraxis": {
           "colorbar": {
            "outlinewidth": 0,
            "ticks": ""
           }
          },
          "colorscale": {
           "diverging": [
            [
             0,
             "#8e0152"
            ],
            [
             0.1,
             "#c51b7d"
            ],
            [
             0.2,
             "#de77ae"
            ],
            [
             0.3,
             "#f1b6da"
            ],
            [
             0.4,
             "#fde0ef"
            ],
            [
             0.5,
             "#f7f7f7"
            ],
            [
             0.6,
             "#e6f5d0"
            ],
            [
             0.7,
             "#b8e186"
            ],
            [
             0.8,
             "#7fbc41"
            ],
            [
             0.9,
             "#4d9221"
            ],
            [
             1,
             "#276419"
            ]
           ],
           "sequential": [
            [
             0,
             "#0d0887"
            ],
            [
             0.1111111111111111,
             "#46039f"
            ],
            [
             0.2222222222222222,
             "#7201a8"
            ],
            [
             0.3333333333333333,
             "#9c179e"
            ],
            [
             0.4444444444444444,
             "#bd3786"
            ],
            [
             0.5555555555555556,
             "#d8576b"
            ],
            [
             0.6666666666666666,
             "#ed7953"
            ],
            [
             0.7777777777777778,
             "#fb9f3a"
            ],
            [
             0.8888888888888888,
             "#fdca26"
            ],
            [
             1,
             "#f0f921"
            ]
           ],
           "sequentialminus": [
            [
             0,
             "#0d0887"
            ],
            [
             0.1111111111111111,
             "#46039f"
            ],
            [
             0.2222222222222222,
             "#7201a8"
            ],
            [
             0.3333333333333333,
             "#9c179e"
            ],
            [
             0.4444444444444444,
             "#bd3786"
            ],
            [
             0.5555555555555556,
             "#d8576b"
            ],
            [
             0.6666666666666666,
             "#ed7953"
            ],
            [
             0.7777777777777778,
             "#fb9f3a"
            ],
            [
             0.8888888888888888,
             "#fdca26"
            ],
            [
             1,
             "#f0f921"
            ]
           ]
          },
          "colorway": [
           "#636efa",
           "#EF553B",
           "#00cc96",
           "#ab63fa",
           "#FFA15A",
           "#19d3f3",
           "#FF6692",
           "#B6E880",
           "#FF97FF",
           "#FECB52"
          ],
          "font": {
           "color": "#2a3f5f"
          },
          "geo": {
           "bgcolor": "white",
           "lakecolor": "white",
           "landcolor": "#E5ECF6",
           "showlakes": true,
           "showland": true,
           "subunitcolor": "white"
          },
          "hoverlabel": {
           "align": "left"
          },
          "hovermode": "closest",
          "mapbox": {
           "style": "light"
          },
          "paper_bgcolor": "white",
          "plot_bgcolor": "#E5ECF6",
          "polar": {
           "angularaxis": {
            "gridcolor": "white",
            "linecolor": "white",
            "ticks": ""
           },
           "bgcolor": "#E5ECF6",
           "radialaxis": {
            "gridcolor": "white",
            "linecolor": "white",
            "ticks": ""
           }
          },
          "scene": {
           "xaxis": {
            "backgroundcolor": "#E5ECF6",
            "gridcolor": "white",
            "gridwidth": 2,
            "linecolor": "white",
            "showbackground": true,
            "ticks": "",
            "zerolinecolor": "white"
           },
           "yaxis": {
            "backgroundcolor": "#E5ECF6",
            "gridcolor": "white",
            "gridwidth": 2,
            "linecolor": "white",
            "showbackground": true,
            "ticks": "",
            "zerolinecolor": "white"
           },
           "zaxis": {
            "backgroundcolor": "#E5ECF6",
            "gridcolor": "white",
            "gridwidth": 2,
            "linecolor": "white",
            "showbackground": true,
            "ticks": "",
            "zerolinecolor": "white"
           }
          },
          "shapedefaults": {
           "line": {
            "color": "#2a3f5f"
           }
          },
          "ternary": {
           "aaxis": {
            "gridcolor": "white",
            "linecolor": "white",
            "ticks": ""
           },
           "baxis": {
            "gridcolor": "white",
            "linecolor": "white",
            "ticks": ""
           },
           "bgcolor": "#E5ECF6",
           "caxis": {
            "gridcolor": "white",
            "linecolor": "white",
            "ticks": ""
           }
          },
          "title": {
           "x": 0.05
          },
          "xaxis": {
           "automargin": true,
           "gridcolor": "white",
           "linecolor": "white",
           "ticks": "",
           "title": {
            "standoff": 15
           },
           "zerolinecolor": "white",
           "zerolinewidth": 2
          },
          "yaxis": {
           "automargin": true,
           "gridcolor": "white",
           "linecolor": "white",
           "ticks": "",
           "title": {
            "standoff": 15
           },
           "zerolinecolor": "white",
           "zerolinewidth": 2
          }
         }
        },
        "title": {
         "text": "Contratos por Departamento"
        },
        "xaxis": {
         "anchor": "y",
         "domain": [
          0,
          1
         ],
         "title": {
          "text": "Departamento"
         }
        },
        "yaxis": {
         "anchor": "x",
         "domain": [
          0,
          1
         ],
         "title": {
          "text": "Contratos"
         }
        }
       }
      }
     },
     "metadata": {},
     "output_type": "display_data"
    }
   ],
   "source": [
    "# Create a bar plot using Plotly Express\n",
    "fig = px.bar(category_counts_without_bogota, x='Departamento', y='Count', title='Contratos por Departamento')\n",
    "# fig.update_traces(marker_color='skyblue')\n",
    "\n",
    "# Add horizontal lines for mean and median\n",
    "fig.add_shape(type='line',\n",
    "              x0=-0.5, x1=len(category_counts) - 0.5,\n",
    "              y0=mean_count, y1=mean_count,\n",
    "              line=dict(color='red', width=2),\n",
    "              name=f'Mean: {mean_count:.2f}')\n",
    "\n",
    "fig.add_shape(type='line',\n",
    "              x0=-0.5, x1=len(category_counts) - 0.5,\n",
    "              y0=median_count, y1=median_count,\n",
    "              line=dict(color='blue', width=2),\n",
    "              name=f'Median: {median_count:.2f}')\n",
    "\n",
    "# Customize the layout (optional)\n",
    "fig.update_layout(xaxis_title='Departamento', yaxis_title='Contratos'\n",
    "                #   , xaxis_tickangle=0\n",
    "                  )\n",
    "\n",
    "# Show the plot\n",
    "fig.show()"
   ]
  },
  {
   "cell_type": "markdown",
   "metadata": {},
   "source": [
    "#### Pareto Rule"
   ]
  },
  {
   "cell_type": "code",
   "execution_count": 67,
   "metadata": {},
   "outputs": [],
   "source": [
    "category_counts_cumulative_percentage = category_counts[category_counts['Cumulative Percentage'] <= 0.8]"
   ]
  },
  {
   "cell_type": "code",
   "execution_count": 69,
   "metadata": {},
   "outputs": [
    {
     "data": {
      "text/html": [
       "<div>\n",
       "<style scoped>\n",
       "    .dataframe tbody tr th:only-of-type {\n",
       "        vertical-align: middle;\n",
       "    }\n",
       "\n",
       "    .dataframe tbody tr th {\n",
       "        vertical-align: top;\n",
       "    }\n",
       "\n",
       "    .dataframe thead th {\n",
       "        text-align: right;\n",
       "    }\n",
       "</style>\n",
       "<table border=\"1\" class=\"dataframe\">\n",
       "  <thead>\n",
       "    <tr style=\"text-align: right;\">\n",
       "      <th></th>\n",
       "      <th>Departamento</th>\n",
       "      <th>Count</th>\n",
       "      <th>Percentage</th>\n",
       "      <th>Cumulative Percentage</th>\n",
       "      <th>Row Cumulative Percentage</th>\n",
       "    </tr>\n",
       "  </thead>\n",
       "  <tbody>\n",
       "    <tr>\n",
       "      <th>0</th>\n",
       "      <td>Distrito Capital de Bogotá</td>\n",
       "      <td>217469</td>\n",
       "      <td>0.581592</td>\n",
       "      <td>0.581592</td>\n",
       "      <td>2.941176</td>\n",
       "    </tr>\n",
       "    <tr>\n",
       "      <th>1</th>\n",
       "      <td>Valle del Cauca</td>\n",
       "      <td>23916</td>\n",
       "      <td>0.063960</td>\n",
       "      <td>0.645553</td>\n",
       "      <td>5.882353</td>\n",
       "    </tr>\n",
       "    <tr>\n",
       "      <th>2</th>\n",
       "      <td>Antioquia</td>\n",
       "      <td>11919</td>\n",
       "      <td>0.031876</td>\n",
       "      <td>0.677428</td>\n",
       "      <td>8.823529</td>\n",
       "    </tr>\n",
       "    <tr>\n",
       "      <th>3</th>\n",
       "      <td>Cundinamarca</td>\n",
       "      <td>10756</td>\n",
       "      <td>0.028766</td>\n",
       "      <td>0.706194</td>\n",
       "      <td>11.764706</td>\n",
       "    </tr>\n",
       "    <tr>\n",
       "      <th>4</th>\n",
       "      <td>Atlántico</td>\n",
       "      <td>10156</td>\n",
       "      <td>0.027161</td>\n",
       "      <td>0.733355</td>\n",
       "      <td>14.705882</td>\n",
       "    </tr>\n",
       "    <tr>\n",
       "      <th>5</th>\n",
       "      <td>Tolima</td>\n",
       "      <td>9184</td>\n",
       "      <td>0.024561</td>\n",
       "      <td>0.757916</td>\n",
       "      <td>17.647059</td>\n",
       "    </tr>\n",
       "    <tr>\n",
       "      <th>6</th>\n",
       "      <td>Magdalena</td>\n",
       "      <td>8326</td>\n",
       "      <td>0.022267</td>\n",
       "      <td>0.780183</td>\n",
       "      <td>20.588235</td>\n",
       "    </tr>\n",
       "  </tbody>\n",
       "</table>\n",
       "</div>"
      ],
      "text/plain": [
       "                 Departamento   Count  Percentage  Cumulative Percentage  \\\n",
       "0  Distrito Capital de Bogotá  217469    0.581592               0.581592   \n",
       "1             Valle del Cauca   23916    0.063960               0.645553   \n",
       "2                   Antioquia   11919    0.031876               0.677428   \n",
       "3                Cundinamarca   10756    0.028766               0.706194   \n",
       "4                   Atlántico   10156    0.027161               0.733355   \n",
       "5                      Tolima    9184    0.024561               0.757916   \n",
       "6                   Magdalena    8326    0.022267               0.780183   \n",
       "\n",
       "   Row Cumulative Percentage  \n",
       "0                   2.941176  \n",
       "1                   5.882353  \n",
       "2                   8.823529  \n",
       "3                  11.764706  \n",
       "4                  14.705882  \n",
       "5                  17.647059  \n",
       "6                  20.588235  "
      ]
     },
     "execution_count": 69,
     "metadata": {},
     "output_type": "execute_result"
    }
   ],
   "source": [
    "category_counts_cumulative_percentage"
   ]
  },
  {
   "cell_type": "code",
   "execution_count": 70,
   "metadata": {},
   "outputs": [
    {
     "data": {
      "application/vnd.plotly.v1+json": {
       "config": {
        "plotlyServerURL": "https://plot.ly"
       },
       "data": [
        {
         "alignmentgroup": "True",
         "hovertemplate": "Departamento=%{x}<br>Count=%{y}<extra></extra>",
         "legendgroup": "",
         "marker": {
          "color": "#636efa",
          "pattern": {
           "shape": ""
          }
         },
         "name": "",
         "offsetgroup": "",
         "orientation": "v",
         "showlegend": false,
         "textposition": "auto",
         "type": "bar",
         "x": [
          "Distrito Capital de Bogotá",
          "Valle del Cauca",
          "Antioquia",
          "Cundinamarca",
          "Atlántico",
          "Tolima",
          "Magdalena"
         ],
         "xaxis": "x",
         "y": [
          217469,
          23916,
          11919,
          10756,
          10156,
          9184,
          8326
         ],
         "yaxis": "y"
        }
       ],
       "layout": {
        "barmode": "relative",
        "legend": {
         "tracegroupgap": 0
        },
        "shapes": [
         {
          "line": {
           "color": "red",
           "width": 2
          },
          "name": "Mean: 10997.65",
          "type": "line",
          "x0": -0.5,
          "x1": 33.5,
          "y0": 10997.64705882353,
          "y1": 10997.64705882353
         },
         {
          "line": {
           "color": "blue",
           "width": 2
          },
          "name": "Median: 3557.50",
          "type": "line",
          "x0": -0.5,
          "x1": 33.5,
          "y0": 3557.5,
          "y1": 3557.5
         }
        ],
        "template": {
         "data": {
          "bar": [
           {
            "error_x": {
             "color": "#2a3f5f"
            },
            "error_y": {
             "color": "#2a3f5f"
            },
            "marker": {
             "line": {
              "color": "#E5ECF6",
              "width": 0.5
             },
             "pattern": {
              "fillmode": "overlay",
              "size": 10,
              "solidity": 0.2
             }
            },
            "type": "bar"
           }
          ],
          "barpolar": [
           {
            "marker": {
             "line": {
              "color": "#E5ECF6",
              "width": 0.5
             },
             "pattern": {
              "fillmode": "overlay",
              "size": 10,
              "solidity": 0.2
             }
            },
            "type": "barpolar"
           }
          ],
          "carpet": [
           {
            "aaxis": {
             "endlinecolor": "#2a3f5f",
             "gridcolor": "white",
             "linecolor": "white",
             "minorgridcolor": "white",
             "startlinecolor": "#2a3f5f"
            },
            "baxis": {
             "endlinecolor": "#2a3f5f",
             "gridcolor": "white",
             "linecolor": "white",
             "minorgridcolor": "white",
             "startlinecolor": "#2a3f5f"
            },
            "type": "carpet"
           }
          ],
          "choropleth": [
           {
            "colorbar": {
             "outlinewidth": 0,
             "ticks": ""
            },
            "type": "choropleth"
           }
          ],
          "contour": [
           {
            "colorbar": {
             "outlinewidth": 0,
             "ticks": ""
            },
            "colorscale": [
             [
              0,
              "#0d0887"
             ],
             [
              0.1111111111111111,
              "#46039f"
             ],
             [
              0.2222222222222222,
              "#7201a8"
             ],
             [
              0.3333333333333333,
              "#9c179e"
             ],
             [
              0.4444444444444444,
              "#bd3786"
             ],
             [
              0.5555555555555556,
              "#d8576b"
             ],
             [
              0.6666666666666666,
              "#ed7953"
             ],
             [
              0.7777777777777778,
              "#fb9f3a"
             ],
             [
              0.8888888888888888,
              "#fdca26"
             ],
             [
              1,
              "#f0f921"
             ]
            ],
            "type": "contour"
           }
          ],
          "contourcarpet": [
           {
            "colorbar": {
             "outlinewidth": 0,
             "ticks": ""
            },
            "type": "contourcarpet"
           }
          ],
          "heatmap": [
           {
            "colorbar": {
             "outlinewidth": 0,
             "ticks": ""
            },
            "colorscale": [
             [
              0,
              "#0d0887"
             ],
             [
              0.1111111111111111,
              "#46039f"
             ],
             [
              0.2222222222222222,
              "#7201a8"
             ],
             [
              0.3333333333333333,
              "#9c179e"
             ],
             [
              0.4444444444444444,
              "#bd3786"
             ],
             [
              0.5555555555555556,
              "#d8576b"
             ],
             [
              0.6666666666666666,
              "#ed7953"
             ],
             [
              0.7777777777777778,
              "#fb9f3a"
             ],
             [
              0.8888888888888888,
              "#fdca26"
             ],
             [
              1,
              "#f0f921"
             ]
            ],
            "type": "heatmap"
           }
          ],
          "heatmapgl": [
           {
            "colorbar": {
             "outlinewidth": 0,
             "ticks": ""
            },
            "colorscale": [
             [
              0,
              "#0d0887"
             ],
             [
              0.1111111111111111,
              "#46039f"
             ],
             [
              0.2222222222222222,
              "#7201a8"
             ],
             [
              0.3333333333333333,
              "#9c179e"
             ],
             [
              0.4444444444444444,
              "#bd3786"
             ],
             [
              0.5555555555555556,
              "#d8576b"
             ],
             [
              0.6666666666666666,
              "#ed7953"
             ],
             [
              0.7777777777777778,
              "#fb9f3a"
             ],
             [
              0.8888888888888888,
              "#fdca26"
             ],
             [
              1,
              "#f0f921"
             ]
            ],
            "type": "heatmapgl"
           }
          ],
          "histogram": [
           {
            "marker": {
             "pattern": {
              "fillmode": "overlay",
              "size": 10,
              "solidity": 0.2
             }
            },
            "type": "histogram"
           }
          ],
          "histogram2d": [
           {
            "colorbar": {
             "outlinewidth": 0,
             "ticks": ""
            },
            "colorscale": [
             [
              0,
              "#0d0887"
             ],
             [
              0.1111111111111111,
              "#46039f"
             ],
             [
              0.2222222222222222,
              "#7201a8"
             ],
             [
              0.3333333333333333,
              "#9c179e"
             ],
             [
              0.4444444444444444,
              "#bd3786"
             ],
             [
              0.5555555555555556,
              "#d8576b"
             ],
             [
              0.6666666666666666,
              "#ed7953"
             ],
             [
              0.7777777777777778,
              "#fb9f3a"
             ],
             [
              0.8888888888888888,
              "#fdca26"
             ],
             [
              1,
              "#f0f921"
             ]
            ],
            "type": "histogram2d"
           }
          ],
          "histogram2dcontour": [
           {
            "colorbar": {
             "outlinewidth": 0,
             "ticks": ""
            },
            "colorscale": [
             [
              0,
              "#0d0887"
             ],
             [
              0.1111111111111111,
              "#46039f"
             ],
             [
              0.2222222222222222,
              "#7201a8"
             ],
             [
              0.3333333333333333,
              "#9c179e"
             ],
             [
              0.4444444444444444,
              "#bd3786"
             ],
             [
              0.5555555555555556,
              "#d8576b"
             ],
             [
              0.6666666666666666,
              "#ed7953"
             ],
             [
              0.7777777777777778,
              "#fb9f3a"
             ],
             [
              0.8888888888888888,
              "#fdca26"
             ],
             [
              1,
              "#f0f921"
             ]
            ],
            "type": "histogram2dcontour"
           }
          ],
          "mesh3d": [
           {
            "colorbar": {
             "outlinewidth": 0,
             "ticks": ""
            },
            "type": "mesh3d"
           }
          ],
          "parcoords": [
           {
            "line": {
             "colorbar": {
              "outlinewidth": 0,
              "ticks": ""
             }
            },
            "type": "parcoords"
           }
          ],
          "pie": [
           {
            "automargin": true,
            "type": "pie"
           }
          ],
          "scatter": [
           {
            "fillpattern": {
             "fillmode": "overlay",
             "size": 10,
             "solidity": 0.2
            },
            "type": "scatter"
           }
          ],
          "scatter3d": [
           {
            "line": {
             "colorbar": {
              "outlinewidth": 0,
              "ticks": ""
             }
            },
            "marker": {
             "colorbar": {
              "outlinewidth": 0,
              "ticks": ""
             }
            },
            "type": "scatter3d"
           }
          ],
          "scattercarpet": [
           {
            "marker": {
             "colorbar": {
              "outlinewidth": 0,
              "ticks": ""
             }
            },
            "type": "scattercarpet"
           }
          ],
          "scattergeo": [
           {
            "marker": {
             "colorbar": {
              "outlinewidth": 0,
              "ticks": ""
             }
            },
            "type": "scattergeo"
           }
          ],
          "scattergl": [
           {
            "marker": {
             "colorbar": {
              "outlinewidth": 0,
              "ticks": ""
             }
            },
            "type": "scattergl"
           }
          ],
          "scattermapbox": [
           {
            "marker": {
             "colorbar": {
              "outlinewidth": 0,
              "ticks": ""
             }
            },
            "type": "scattermapbox"
           }
          ],
          "scatterpolar": [
           {
            "marker": {
             "colorbar": {
              "outlinewidth": 0,
              "ticks": ""
             }
            },
            "type": "scatterpolar"
           }
          ],
          "scatterpolargl": [
           {
            "marker": {
             "colorbar": {
              "outlinewidth": 0,
              "ticks": ""
             }
            },
            "type": "scatterpolargl"
           }
          ],
          "scatterternary": [
           {
            "marker": {
             "colorbar": {
              "outlinewidth": 0,
              "ticks": ""
             }
            },
            "type": "scatterternary"
           }
          ],
          "surface": [
           {
            "colorbar": {
             "outlinewidth": 0,
             "ticks": ""
            },
            "colorscale": [
             [
              0,
              "#0d0887"
             ],
             [
              0.1111111111111111,
              "#46039f"
             ],
             [
              0.2222222222222222,
              "#7201a8"
             ],
             [
              0.3333333333333333,
              "#9c179e"
             ],
             [
              0.4444444444444444,
              "#bd3786"
             ],
             [
              0.5555555555555556,
              "#d8576b"
             ],
             [
              0.6666666666666666,
              "#ed7953"
             ],
             [
              0.7777777777777778,
              "#fb9f3a"
             ],
             [
              0.8888888888888888,
              "#fdca26"
             ],
             [
              1,
              "#f0f921"
             ]
            ],
            "type": "surface"
           }
          ],
          "table": [
           {
            "cells": {
             "fill": {
              "color": "#EBF0F8"
             },
             "line": {
              "color": "white"
             }
            },
            "header": {
             "fill": {
              "color": "#C8D4E3"
             },
             "line": {
              "color": "white"
             }
            },
            "type": "table"
           }
          ]
         },
         "layout": {
          "annotationdefaults": {
           "arrowcolor": "#2a3f5f",
           "arrowhead": 0,
           "arrowwidth": 1
          },
          "autotypenumbers": "strict",
          "coloraxis": {
           "colorbar": {
            "outlinewidth": 0,
            "ticks": ""
           }
          },
          "colorscale": {
           "diverging": [
            [
             0,
             "#8e0152"
            ],
            [
             0.1,
             "#c51b7d"
            ],
            [
             0.2,
             "#de77ae"
            ],
            [
             0.3,
             "#f1b6da"
            ],
            [
             0.4,
             "#fde0ef"
            ],
            [
             0.5,
             "#f7f7f7"
            ],
            [
             0.6,
             "#e6f5d0"
            ],
            [
             0.7,
             "#b8e186"
            ],
            [
             0.8,
             "#7fbc41"
            ],
            [
             0.9,
             "#4d9221"
            ],
            [
             1,
             "#276419"
            ]
           ],
           "sequential": [
            [
             0,
             "#0d0887"
            ],
            [
             0.1111111111111111,
             "#46039f"
            ],
            [
             0.2222222222222222,
             "#7201a8"
            ],
            [
             0.3333333333333333,
             "#9c179e"
            ],
            [
             0.4444444444444444,
             "#bd3786"
            ],
            [
             0.5555555555555556,
             "#d8576b"
            ],
            [
             0.6666666666666666,
             "#ed7953"
            ],
            [
             0.7777777777777778,
             "#fb9f3a"
            ],
            [
             0.8888888888888888,
             "#fdca26"
            ],
            [
             1,
             "#f0f921"
            ]
           ],
           "sequentialminus": [
            [
             0,
             "#0d0887"
            ],
            [
             0.1111111111111111,
             "#46039f"
            ],
            [
             0.2222222222222222,
             "#7201a8"
            ],
            [
             0.3333333333333333,
             "#9c179e"
            ],
            [
             0.4444444444444444,
             "#bd3786"
            ],
            [
             0.5555555555555556,
             "#d8576b"
            ],
            [
             0.6666666666666666,
             "#ed7953"
            ],
            [
             0.7777777777777778,
             "#fb9f3a"
            ],
            [
             0.8888888888888888,
             "#fdca26"
            ],
            [
             1,
             "#f0f921"
            ]
           ]
          },
          "colorway": [
           "#636efa",
           "#EF553B",
           "#00cc96",
           "#ab63fa",
           "#FFA15A",
           "#19d3f3",
           "#FF6692",
           "#B6E880",
           "#FF97FF",
           "#FECB52"
          ],
          "font": {
           "color": "#2a3f5f"
          },
          "geo": {
           "bgcolor": "white",
           "lakecolor": "white",
           "landcolor": "#E5ECF6",
           "showlakes": true,
           "showland": true,
           "subunitcolor": "white"
          },
          "hoverlabel": {
           "align": "left"
          },
          "hovermode": "closest",
          "mapbox": {
           "style": "light"
          },
          "paper_bgcolor": "white",
          "plot_bgcolor": "#E5ECF6",
          "polar": {
           "angularaxis": {
            "gridcolor": "white",
            "linecolor": "white",
            "ticks": ""
           },
           "bgcolor": "#E5ECF6",
           "radialaxis": {
            "gridcolor": "white",
            "linecolor": "white",
            "ticks": ""
           }
          },
          "scene": {
           "xaxis": {
            "backgroundcolor": "#E5ECF6",
            "gridcolor": "white",
            "gridwidth": 2,
            "linecolor": "white",
            "showbackground": true,
            "ticks": "",
            "zerolinecolor": "white"
           },
           "yaxis": {
            "backgroundcolor": "#E5ECF6",
            "gridcolor": "white",
            "gridwidth": 2,
            "linecolor": "white",
            "showbackground": true,
            "ticks": "",
            "zerolinecolor": "white"
           },
           "zaxis": {
            "backgroundcolor": "#E5ECF6",
            "gridcolor": "white",
            "gridwidth": 2,
            "linecolor": "white",
            "showbackground": true,
            "ticks": "",
            "zerolinecolor": "white"
           }
          },
          "shapedefaults": {
           "line": {
            "color": "#2a3f5f"
           }
          },
          "ternary": {
           "aaxis": {
            "gridcolor": "white",
            "linecolor": "white",
            "ticks": ""
           },
           "baxis": {
            "gridcolor": "white",
            "linecolor": "white",
            "ticks": ""
           },
           "bgcolor": "#E5ECF6",
           "caxis": {
            "gridcolor": "white",
            "linecolor": "white",
            "ticks": ""
           }
          },
          "title": {
           "x": 0.05
          },
          "xaxis": {
           "automargin": true,
           "gridcolor": "white",
           "linecolor": "white",
           "ticks": "",
           "title": {
            "standoff": 15
           },
           "zerolinecolor": "white",
           "zerolinewidth": 2
          },
          "yaxis": {
           "automargin": true,
           "gridcolor": "white",
           "linecolor": "white",
           "ticks": "",
           "title": {
            "standoff": 15
           },
           "zerolinecolor": "white",
           "zerolinewidth": 2
          }
         }
        },
        "title": {
         "text": "Contratos por Departamento"
        },
        "xaxis": {
         "anchor": "y",
         "domain": [
          0,
          1
         ],
         "title": {
          "text": "Departamento"
         }
        },
        "yaxis": {
         "anchor": "x",
         "domain": [
          0,
          1
         ],
         "title": {
          "text": "Contratos"
         }
        }
       }
      }
     },
     "metadata": {},
     "output_type": "display_data"
    }
   ],
   "source": [
    "# Create a bar plot using Plotly Express\n",
    "fig = px.bar(category_counts_cumulative_percentage, x='Departamento', y='Count', title='Contratos por Departamento')\n",
    "# fig.update_traces(marker_color='skyblue')\n",
    "\n",
    "# Add horizontal lines for mean and median\n",
    "fig.add_shape(type='line',\n",
    "              x0=-0.5, x1=len(category_counts) - 0.5,\n",
    "              y0=mean_count, y1=mean_count,\n",
    "              line=dict(color='red', width=2),\n",
    "              name=f'Mean: {mean_count:.2f}')\n",
    "\n",
    "fig.add_shape(type='line',\n",
    "              x0=-0.5, x1=len(category_counts) - 0.5,\n",
    "              y0=median_count, y1=median_count,\n",
    "              line=dict(color='blue', width=2),\n",
    "              name=f'Median: {median_count:.2f}')\n",
    "\n",
    "# Customize the layout (optional)\n",
    "fig.update_layout(xaxis_title='Departamento', yaxis_title='Contratos'\n",
    "                #   , xaxis_tickangle=0\n",
    "                  )\n",
    "\n",
    "# Show the plot\n",
    "fig.show()"
   ]
  },
  {
   "cell_type": "code",
   "execution_count": 72,
   "metadata": {},
   "outputs": [],
   "source": [
    "category_counts_cumulative_percentage = category_counts[category_counts['Cumulative Percentage'] <= 0.8]\n",
    "category_counts_cumulative_percentage_without_bogota = category_counts_cumulative_percentage[category_counts_cumulative_percentage['Departamento'] != 'Distrito Capital de Bogotá']"
   ]
  },
  {
   "cell_type": "code",
   "execution_count": 73,
   "metadata": {},
   "outputs": [
    {
     "data": {
      "application/vnd.plotly.v1+json": {
       "config": {
        "plotlyServerURL": "https://plot.ly"
       },
       "data": [
        {
         "alignmentgroup": "True",
         "hovertemplate": "Departamento=%{x}<br>Count=%{y}<extra></extra>",
         "legendgroup": "",
         "marker": {
          "color": "#636efa",
          "pattern": {
           "shape": ""
          }
         },
         "name": "",
         "offsetgroup": "",
         "orientation": "v",
         "showlegend": false,
         "textposition": "auto",
         "type": "bar",
         "x": [
          "Valle del Cauca",
          "Antioquia",
          "Cundinamarca",
          "Atlántico",
          "Tolima",
          "Magdalena"
         ],
         "xaxis": "x",
         "y": [
          23916,
          11919,
          10756,
          10156,
          9184,
          8326
         ],
         "yaxis": "y"
        }
       ],
       "layout": {
        "barmode": "relative",
        "legend": {
         "tracegroupgap": 0
        },
        "shapes": [
         {
          "line": {
           "color": "red",
           "width": 2
          },
          "name": "Mean: 10997.65",
          "type": "line",
          "x0": -0.5,
          "x1": 33.5,
          "y0": 10997.64705882353,
          "y1": 10997.64705882353
         },
         {
          "line": {
           "color": "blue",
           "width": 2
          },
          "name": "Median: 3557.50",
          "type": "line",
          "x0": -0.5,
          "x1": 33.5,
          "y0": 3557.5,
          "y1": 3557.5
         }
        ],
        "template": {
         "data": {
          "bar": [
           {
            "error_x": {
             "color": "#2a3f5f"
            },
            "error_y": {
             "color": "#2a3f5f"
            },
            "marker": {
             "line": {
              "color": "#E5ECF6",
              "width": 0.5
             },
             "pattern": {
              "fillmode": "overlay",
              "size": 10,
              "solidity": 0.2
             }
            },
            "type": "bar"
           }
          ],
          "barpolar": [
           {
            "marker": {
             "line": {
              "color": "#E5ECF6",
              "width": 0.5
             },
             "pattern": {
              "fillmode": "overlay",
              "size": 10,
              "solidity": 0.2
             }
            },
            "type": "barpolar"
           }
          ],
          "carpet": [
           {
            "aaxis": {
             "endlinecolor": "#2a3f5f",
             "gridcolor": "white",
             "linecolor": "white",
             "minorgridcolor": "white",
             "startlinecolor": "#2a3f5f"
            },
            "baxis": {
             "endlinecolor": "#2a3f5f",
             "gridcolor": "white",
             "linecolor": "white",
             "minorgridcolor": "white",
             "startlinecolor": "#2a3f5f"
            },
            "type": "carpet"
           }
          ],
          "choropleth": [
           {
            "colorbar": {
             "outlinewidth": 0,
             "ticks": ""
            },
            "type": "choropleth"
           }
          ],
          "contour": [
           {
            "colorbar": {
             "outlinewidth": 0,
             "ticks": ""
            },
            "colorscale": [
             [
              0,
              "#0d0887"
             ],
             [
              0.1111111111111111,
              "#46039f"
             ],
             [
              0.2222222222222222,
              "#7201a8"
             ],
             [
              0.3333333333333333,
              "#9c179e"
             ],
             [
              0.4444444444444444,
              "#bd3786"
             ],
             [
              0.5555555555555556,
              "#d8576b"
             ],
             [
              0.6666666666666666,
              "#ed7953"
             ],
             [
              0.7777777777777778,
              "#fb9f3a"
             ],
             [
              0.8888888888888888,
              "#fdca26"
             ],
             [
              1,
              "#f0f921"
             ]
            ],
            "type": "contour"
           }
          ],
          "contourcarpet": [
           {
            "colorbar": {
             "outlinewidth": 0,
             "ticks": ""
            },
            "type": "contourcarpet"
           }
          ],
          "heatmap": [
           {
            "colorbar": {
             "outlinewidth": 0,
             "ticks": ""
            },
            "colorscale": [
             [
              0,
              "#0d0887"
             ],
             [
              0.1111111111111111,
              "#46039f"
             ],
             [
              0.2222222222222222,
              "#7201a8"
             ],
             [
              0.3333333333333333,
              "#9c179e"
             ],
             [
              0.4444444444444444,
              "#bd3786"
             ],
             [
              0.5555555555555556,
              "#d8576b"
             ],
             [
              0.6666666666666666,
              "#ed7953"
             ],
             [
              0.7777777777777778,
              "#fb9f3a"
             ],
             [
              0.8888888888888888,
              "#fdca26"
             ],
             [
              1,
              "#f0f921"
             ]
            ],
            "type": "heatmap"
           }
          ],
          "heatmapgl": [
           {
            "colorbar": {
             "outlinewidth": 0,
             "ticks": ""
            },
            "colorscale": [
             [
              0,
              "#0d0887"
             ],
             [
              0.1111111111111111,
              "#46039f"
             ],
             [
              0.2222222222222222,
              "#7201a8"
             ],
             [
              0.3333333333333333,
              "#9c179e"
             ],
             [
              0.4444444444444444,
              "#bd3786"
             ],
             [
              0.5555555555555556,
              "#d8576b"
             ],
             [
              0.6666666666666666,
              "#ed7953"
             ],
             [
              0.7777777777777778,
              "#fb9f3a"
             ],
             [
              0.8888888888888888,
              "#fdca26"
             ],
             [
              1,
              "#f0f921"
             ]
            ],
            "type": "heatmapgl"
           }
          ],
          "histogram": [
           {
            "marker": {
             "pattern": {
              "fillmode": "overlay",
              "size": 10,
              "solidity": 0.2
             }
            },
            "type": "histogram"
           }
          ],
          "histogram2d": [
           {
            "colorbar": {
             "outlinewidth": 0,
             "ticks": ""
            },
            "colorscale": [
             [
              0,
              "#0d0887"
             ],
             [
              0.1111111111111111,
              "#46039f"
             ],
             [
              0.2222222222222222,
              "#7201a8"
             ],
             [
              0.3333333333333333,
              "#9c179e"
             ],
             [
              0.4444444444444444,
              "#bd3786"
             ],
             [
              0.5555555555555556,
              "#d8576b"
             ],
             [
              0.6666666666666666,
              "#ed7953"
             ],
             [
              0.7777777777777778,
              "#fb9f3a"
             ],
             [
              0.8888888888888888,
              "#fdca26"
             ],
             [
              1,
              "#f0f921"
             ]
            ],
            "type": "histogram2d"
           }
          ],
          "histogram2dcontour": [
           {
            "colorbar": {
             "outlinewidth": 0,
             "ticks": ""
            },
            "colorscale": [
             [
              0,
              "#0d0887"
             ],
             [
              0.1111111111111111,
              "#46039f"
             ],
             [
              0.2222222222222222,
              "#7201a8"
             ],
             [
              0.3333333333333333,
              "#9c179e"
             ],
             [
              0.4444444444444444,
              "#bd3786"
             ],
             [
              0.5555555555555556,
              "#d8576b"
             ],
             [
              0.6666666666666666,
              "#ed7953"
             ],
             [
              0.7777777777777778,
              "#fb9f3a"
             ],
             [
              0.8888888888888888,
              "#fdca26"
             ],
             [
              1,
              "#f0f921"
             ]
            ],
            "type": "histogram2dcontour"
           }
          ],
          "mesh3d": [
           {
            "colorbar": {
             "outlinewidth": 0,
             "ticks": ""
            },
            "type": "mesh3d"
           }
          ],
          "parcoords": [
           {
            "line": {
             "colorbar": {
              "outlinewidth": 0,
              "ticks": ""
             }
            },
            "type": "parcoords"
           }
          ],
          "pie": [
           {
            "automargin": true,
            "type": "pie"
           }
          ],
          "scatter": [
           {
            "fillpattern": {
             "fillmode": "overlay",
             "size": 10,
             "solidity": 0.2
            },
            "type": "scatter"
           }
          ],
          "scatter3d": [
           {
            "line": {
             "colorbar": {
              "outlinewidth": 0,
              "ticks": ""
             }
            },
            "marker": {
             "colorbar": {
              "outlinewidth": 0,
              "ticks": ""
             }
            },
            "type": "scatter3d"
           }
          ],
          "scattercarpet": [
           {
            "marker": {
             "colorbar": {
              "outlinewidth": 0,
              "ticks": ""
             }
            },
            "type": "scattercarpet"
           }
          ],
          "scattergeo": [
           {
            "marker": {
             "colorbar": {
              "outlinewidth": 0,
              "ticks": ""
             }
            },
            "type": "scattergeo"
           }
          ],
          "scattergl": [
           {
            "marker": {
             "colorbar": {
              "outlinewidth": 0,
              "ticks": ""
             }
            },
            "type": "scattergl"
           }
          ],
          "scattermapbox": [
           {
            "marker": {
             "colorbar": {
              "outlinewidth": 0,
              "ticks": ""
             }
            },
            "type": "scattermapbox"
           }
          ],
          "scatterpolar": [
           {
            "marker": {
             "colorbar": {
              "outlinewidth": 0,
              "ticks": ""
             }
            },
            "type": "scatterpolar"
           }
          ],
          "scatterpolargl": [
           {
            "marker": {
             "colorbar": {
              "outlinewidth": 0,
              "ticks": ""
             }
            },
            "type": "scatterpolargl"
           }
          ],
          "scatterternary": [
           {
            "marker": {
             "colorbar": {
              "outlinewidth": 0,
              "ticks": ""
             }
            },
            "type": "scatterternary"
           }
          ],
          "surface": [
           {
            "colorbar": {
             "outlinewidth": 0,
             "ticks": ""
            },
            "colorscale": [
             [
              0,
              "#0d0887"
             ],
             [
              0.1111111111111111,
              "#46039f"
             ],
             [
              0.2222222222222222,
              "#7201a8"
             ],
             [
              0.3333333333333333,
              "#9c179e"
             ],
             [
              0.4444444444444444,
              "#bd3786"
             ],
             [
              0.5555555555555556,
              "#d8576b"
             ],
             [
              0.6666666666666666,
              "#ed7953"
             ],
             [
              0.7777777777777778,
              "#fb9f3a"
             ],
             [
              0.8888888888888888,
              "#fdca26"
             ],
             [
              1,
              "#f0f921"
             ]
            ],
            "type": "surface"
           }
          ],
          "table": [
           {
            "cells": {
             "fill": {
              "color": "#EBF0F8"
             },
             "line": {
              "color": "white"
             }
            },
            "header": {
             "fill": {
              "color": "#C8D4E3"
             },
             "line": {
              "color": "white"
             }
            },
            "type": "table"
           }
          ]
         },
         "layout": {
          "annotationdefaults": {
           "arrowcolor": "#2a3f5f",
           "arrowhead": 0,
           "arrowwidth": 1
          },
          "autotypenumbers": "strict",
          "coloraxis": {
           "colorbar": {
            "outlinewidth": 0,
            "ticks": ""
           }
          },
          "colorscale": {
           "diverging": [
            [
             0,
             "#8e0152"
            ],
            [
             0.1,
             "#c51b7d"
            ],
            [
             0.2,
             "#de77ae"
            ],
            [
             0.3,
             "#f1b6da"
            ],
            [
             0.4,
             "#fde0ef"
            ],
            [
             0.5,
             "#f7f7f7"
            ],
            [
             0.6,
             "#e6f5d0"
            ],
            [
             0.7,
             "#b8e186"
            ],
            [
             0.8,
             "#7fbc41"
            ],
            [
             0.9,
             "#4d9221"
            ],
            [
             1,
             "#276419"
            ]
           ],
           "sequential": [
            [
             0,
             "#0d0887"
            ],
            [
             0.1111111111111111,
             "#46039f"
            ],
            [
             0.2222222222222222,
             "#7201a8"
            ],
            [
             0.3333333333333333,
             "#9c179e"
            ],
            [
             0.4444444444444444,
             "#bd3786"
            ],
            [
             0.5555555555555556,
             "#d8576b"
            ],
            [
             0.6666666666666666,
             "#ed7953"
            ],
            [
             0.7777777777777778,
             "#fb9f3a"
            ],
            [
             0.8888888888888888,
             "#fdca26"
            ],
            [
             1,
             "#f0f921"
            ]
           ],
           "sequentialminus": [
            [
             0,
             "#0d0887"
            ],
            [
             0.1111111111111111,
             "#46039f"
            ],
            [
             0.2222222222222222,
             "#7201a8"
            ],
            [
             0.3333333333333333,
             "#9c179e"
            ],
            [
             0.4444444444444444,
             "#bd3786"
            ],
            [
             0.5555555555555556,
             "#d8576b"
            ],
            [
             0.6666666666666666,
             "#ed7953"
            ],
            [
             0.7777777777777778,
             "#fb9f3a"
            ],
            [
             0.8888888888888888,
             "#fdca26"
            ],
            [
             1,
             "#f0f921"
            ]
           ]
          },
          "colorway": [
           "#636efa",
           "#EF553B",
           "#00cc96",
           "#ab63fa",
           "#FFA15A",
           "#19d3f3",
           "#FF6692",
           "#B6E880",
           "#FF97FF",
           "#FECB52"
          ],
          "font": {
           "color": "#2a3f5f"
          },
          "geo": {
           "bgcolor": "white",
           "lakecolor": "white",
           "landcolor": "#E5ECF6",
           "showlakes": true,
           "showland": true,
           "subunitcolor": "white"
          },
          "hoverlabel": {
           "align": "left"
          },
          "hovermode": "closest",
          "mapbox": {
           "style": "light"
          },
          "paper_bgcolor": "white",
          "plot_bgcolor": "#E5ECF6",
          "polar": {
           "angularaxis": {
            "gridcolor": "white",
            "linecolor": "white",
            "ticks": ""
           },
           "bgcolor": "#E5ECF6",
           "radialaxis": {
            "gridcolor": "white",
            "linecolor": "white",
            "ticks": ""
           }
          },
          "scene": {
           "xaxis": {
            "backgroundcolor": "#E5ECF6",
            "gridcolor": "white",
            "gridwidth": 2,
            "linecolor": "white",
            "showbackground": true,
            "ticks": "",
            "zerolinecolor": "white"
           },
           "yaxis": {
            "backgroundcolor": "#E5ECF6",
            "gridcolor": "white",
            "gridwidth": 2,
            "linecolor": "white",
            "showbackground": true,
            "ticks": "",
            "zerolinecolor": "white"
           },
           "zaxis": {
            "backgroundcolor": "#E5ECF6",
            "gridcolor": "white",
            "gridwidth": 2,
            "linecolor": "white",
            "showbackground": true,
            "ticks": "",
            "zerolinecolor": "white"
           }
          },
          "shapedefaults": {
           "line": {
            "color": "#2a3f5f"
           }
          },
          "ternary": {
           "aaxis": {
            "gridcolor": "white",
            "linecolor": "white",
            "ticks": ""
           },
           "baxis": {
            "gridcolor": "white",
            "linecolor": "white",
            "ticks": ""
           },
           "bgcolor": "#E5ECF6",
           "caxis": {
            "gridcolor": "white",
            "linecolor": "white",
            "ticks": ""
           }
          },
          "title": {
           "x": 0.05
          },
          "xaxis": {
           "automargin": true,
           "gridcolor": "white",
           "linecolor": "white",
           "ticks": "",
           "title": {
            "standoff": 15
           },
           "zerolinecolor": "white",
           "zerolinewidth": 2
          },
          "yaxis": {
           "automargin": true,
           "gridcolor": "white",
           "linecolor": "white",
           "ticks": "",
           "title": {
            "standoff": 15
           },
           "zerolinecolor": "white",
           "zerolinewidth": 2
          }
         }
        },
        "title": {
         "text": "Contratos por Departamento"
        },
        "xaxis": {
         "anchor": "y",
         "domain": [
          0,
          1
         ],
         "title": {
          "text": "Departamento"
         }
        },
        "yaxis": {
         "anchor": "x",
         "domain": [
          0,
          1
         ],
         "title": {
          "text": "Contratos"
         }
        }
       }
      }
     },
     "metadata": {},
     "output_type": "display_data"
    }
   ],
   "source": [
    "# Create a bar plot using Plotly Express\n",
    "fig = px.bar(category_counts_cumulative_percentage_without_bogota, x='Departamento', y='Count', title='Contratos por Departamento')\n",
    "# fig.update_traces(marker_color='skyblue')\n",
    "\n",
    "# Add horizontal lines for mean and median\n",
    "fig.add_shape(type='line',\n",
    "              x0=-0.5, x1=len(category_counts) - 0.5,\n",
    "              y0=mean_count, y1=mean_count,\n",
    "              line=dict(color='red', width=2),\n",
    "              name=f'Mean: {mean_count:.2f}')\n",
    "\n",
    "fig.add_shape(type='line',\n",
    "              x0=-0.5, x1=len(category_counts) - 0.5,\n",
    "              y0=median_count, y1=median_count,\n",
    "              line=dict(color='blue', width=2),\n",
    "              name=f'Median: {median_count:.2f}')\n",
    "\n",
    "# Customize the layout (optional)\n",
    "fig.update_layout(xaxis_title='Departamento', yaxis_title='Contratos'\n",
    "                #   , xaxis_tickangle=0\n",
    "                  )\n",
    "\n",
    "# Show the plot\n",
    "fig.show()"
   ]
  }
 ],
 "metadata": {
  "kernelspec": {
   "display_name": "base",
   "language": "python",
   "name": "python3"
  },
  "language_info": {
   "codemirror_mode": {
    "name": "ipython",
    "version": 3
   },
   "file_extension": ".py",
   "mimetype": "text/x-python",
   "name": "python",
   "nbconvert_exporter": "python",
   "pygments_lexer": "ipython3",
   "version": "3.7.4"
  },
  "orig_nbformat": 4,
  "vscode": {
   "interpreter": {
    "hash": "40d3a090f54c6569ab1632332b64b2c03c39dcf918b08424e98f38b5ae0af88f"
   }
  }
 },
 "nbformat": 4,
 "nbformat_minor": 2
}
