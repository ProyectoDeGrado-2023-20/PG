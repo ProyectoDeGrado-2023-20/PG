{
 "cells": [
  {
   "cell_type": "code",
   "execution_count": 327,
   "metadata": {},
   "outputs": [],
   "source": [
    "from selenium import webdriver\n",
    "from selenium.webdriver.common.by import By\n",
    "from selenium.webdriver.support.select import Select\n",
    "from selenium.webdriver.support.ui import WebDriverWait\n",
    "from selenium.webdriver.support import expected_conditions as EC\n",
    "import pandas as pd"
   ]
  },
  {
   "cell_type": "code",
   "execution_count": 328,
   "metadata": {},
   "outputs": [],
   "source": [
    "siho_url = \"https://prestadores.minsalud.gov.co/SIHO/\""
   ]
  },
  {
   "cell_type": "code",
   "execution_count": 329,
   "metadata": {},
   "outputs": [],
   "source": [
    "options = webdriver.ChromeOptions()\n",
    "options.add_argument('--ignore-certificate-errors')\n",
    "options.add_argument('--incognito')\n",
    "options.add_argument('--headless')\n",
    "driver = webdriver.Chrome(options)"
   ]
  },
  {
   "cell_type": "code",
   "execution_count": 330,
   "metadata": {},
   "outputs": [],
   "source": [
    "driver.get(siho_url)"
   ]
  },
  {
   "cell_type": "code",
   "execution_count": 331,
   "metadata": {},
   "outputs": [
    {
     "data": {
      "text/plain": [
       "True"
      ]
     },
     "execution_count": 331,
     "metadata": {},
     "output_type": "execute_result"
    }
   ],
   "source": [
    "driver.save_screenshot(\"screenshot1.png\")"
   ]
  },
  {
   "cell_type": "code",
   "execution_count": 332,
   "metadata": {},
   "outputs": [
    {
     "data": {
      "text/plain": [
       "'<html><head>\\n\\t\\t<title>Información de Hospitales :: Dirección de Prestación de Servicios y Atención Primaria :: Ministerio de Salud y Protección Social</title>\\n\\t\\t<meta content=\"text/html; charset=windows-1252\" http-equiv=\"Content-Type\">\\n\\t\\t<meta name=\"description\" content=\"SIHO :: Sistema de Información Hospitalaria de la Dirección de Prestación de Servicios y Atención Primaria del Ministerio de Salud y Protección Social de Colombia.\">\\n\\t\\t<meta name=\"keywords\" content=\"Gestion, Hospitales, Publicos, SIHO, Proteccion, Social, Decreto 2193\">\\n        <link rel=\"SHORTCUT ICON\" href=\"images/siho.ico\">\\n\\t\\t<!--meta http-equiv=\"refresh\" content=\"5;url=/pubs\"-->\\n<!--\\n// Author: Germán Ricardo Aragón Ospina (garagonospina@hotmail.com)\\n// Update: 2010/05/31\\n// Actualización:   2012/01/13 Jail Tao Ortiz\\n//-->\\n\\t</head>\\n\\t<frameset border=\"0\" frameborder=\"0\" framespacing=\"0\" rows=\"70,*,18\">\\n\\t\\t<frame marginheight=\"1\" marginwidth=\"1\" name=\"areatop\" noresize=\"\" scrolling=\"no\" src=\"top.htm\">\\n\\t\\t<frame marginheight=\"20\" marginwidth=\"10\" name=\"areawork\" noresize=\"\" src=\"work.aspx\">\\n\\t\\t<frame marginheight=\"0\" marginwidth=\"0\" name=\"areastatus\" noresize=\"\" scrolling=\"no\" src=\"status.aspx\">\\n\\t</frameset>\\n</html>'"
      ]
     },
     "execution_count": 332,
     "metadata": {},
     "output_type": "execute_result"
    }
   ],
   "source": [
    "html = driver.page_source\n",
    "html"
   ]
  },
  {
   "cell_type": "code",
   "execution_count": 333,
   "metadata": {},
   "outputs": [],
   "source": [
    "frame_elements = driver.find_elements(By.TAG_NAME, \"frame\")"
   ]
  },
  {
   "cell_type": "code",
   "execution_count": 334,
   "metadata": {},
   "outputs": [],
   "source": [
    "driver.switch_to.frame(frame_elements[1])"
   ]
  },
  {
   "cell_type": "code",
   "execution_count": 335,
   "metadata": {},
   "outputs": [
    {
     "data": {
      "text/plain": [
       "'<html><head>\\n\\t\\t<title>work</title>\\n\\t\\t<meta content=\"Microsoft Visual Studio .NET 7.1\" name=\"GENERATOR\">\\n\\t\\t<meta content=\"C#\" name=\"CODE_LANGUAGE\">\\n\\t\\t<meta content=\"JavaScript\" name=\"vs_defaultClientScript\">\\n\\t\\t<meta content=\"http://schemas.microsoft.com/intellisense/ie5\" name=\"vs_targetSchema\">\\n\\t\\t<link href=\"includes/appestilos.css\" rel=\"stylesheet\">\\n\\t\\t<script language=\"javascript\">\\nfunction syncFrames()\\n{\\n/*\\n\\tif (top.opener)\\n\\t\\t{\\n\\t\\ttop.opener.location.href=\\'/SIHO/work.aspx?tOut=true\\';\\n\\t\\ttop.opener.focus();\\n\\t\\twindow.close();\\n\\t\\t}\\n\\telse\\n\\t\\ttop.parent.areastatus.location = \\'status.aspx\\';\\n*/\\n\\tif (window.document.Form1.tbid_usuario.value == \\'\\')\\n\\t   {\\n\\t   window.document.Form1.tbid_usuario.value=\\'invitado\\';\\n\\t   window.document.Form1.tbcontrasena.value=\\'invitado\\';\\n\\t   }\\n/*\\telse*/\\n\\t   top.parent.areastatus.location = \\'status.aspx\\';\\n\\n}\\n\\nfunction help()\\n{\\n\\turl=\"ayudas/ayudageneral.pdf\";\\n\\tnombre=\"ayuda\";\\n\\tatributos=\"toolbar=no,location=no,status=no,menubar=no,scrollbars=no,resizable=yes,width=350,height=300\";\\n\\tif (top.ayuda)\\n\\t\\ttop.ayuda.focus();\\n\\telse\\n\\t\\twindow.open(url,nombre,atributos);\\n}\\n\\nfunction about()\\n{\\n   url=\"acercade.htm\";\\n   nombre=\"acercade\";\\n   atributos=\"toolbar=no,location=no,status=no,menubar=no,scrollbars=no,resizable=no,width=350,height=300\";\\n   if (top.acercade)\\n      top.acercade.focus();\\n   else\\n      window.open(url,nombre,atributos);\\nreturn;\\n}\\n\\nfunction salir()\\n{\\n      top.window.close();\\nreturn;\\n}\\n\\nfunction reporte()\\n{\\n\\turl=\"ayudas/ReporteCumplimiento_2022.pdf\";\\n\\tnombre=\"ReporteCumplimiento\";\\n\\tatributos=\"toolbar=no,location=no,status=no,menubar=no,scrollbars=no,resizable=yes,width=350,height=300\";\\n\\tif (top.ReporteCumplimiento)\\n\\t\\ttop.ReporteCumplimiento.focus();\\n\\telse\\n\\t\\twindow.open(url,nombre,atributos);\\n}\\n\\nfunction doOutLine(object)\\n{\\n   var targetElement;\\n   var obj = object.name;\\n   targetElement = document.all(obj + \\'Child\\');\\n\\n   if (targetElement.style.display == \"block\")\\n      targetElement.style.display = \"none\";\\n   else\\n      targetElement.style.display = \"block\";\\n}\\n\\n\\t\\t</script>\\n\\t</head>\\n\\t<body bgcolor=\"#ffffff\" onload=\"syncFrames()\" marginwidth=\"10\" marginheight=\"20\">\\n\\t\\t<form name=\"Form1\" method=\"post\" action=\"./work.aspx\" id=\"Form1\">\\n<input type=\"hidden\" name=\"__VIEWSTATE\" id=\"__VIEWSTATE\" value=\"/wEPDwUJOTQyMzIxOTI3ZGTGVG3tnitgCzgmmr+jUwlcJpL2G1x64lNaZXhP6QtMrQ==\">\\n\\n<input type=\"hidden\" name=\"__VIEWSTATEGENERATOR\" id=\"__VIEWSTATEGENERATOR\" value=\"1532DAF9\">\\n<input type=\"hidden\" name=\"__EVENTVALIDATION\" id=\"__EVENTVALIDATION\" value=\"/wEdAASavozIRsHDpfTlMqyR+vV4N+LQ/gIVG6ifezZMWCXUi8o0G4mKGyw5Q/PBQb3URA9t8fuKsCMPoOSzzbQvlqRNVf3qVECr6ae2A7I9FpJn8yoCyzYR+kelIO/7CNCZLYY=\">\\n\\t\\t\\t<table cellspacing=\"0\" cellpadding=\"0\" width=\"100%\" border=\"0\">\\n\\t\\t\\t\\t<tbody><tr>\\n\\t\\t\\t\\t\\t<td valign=\"top\">\\n\\t\\t\\t\\t\\t\\t<!--Mensaje encima de login-->\\n\\t\\t\\t\\t\\t\\t<!--\\n\\t\\t\\t\\t\\t\\t<MARQUEE style=\"BORDER-RIGHT: #008844 1px solid; BORDER-TOP: #008844 1px solid; BORDER-LEFT: #008844 1px solid; WIDTH: 180px; BORDER-BOTTOM: #008844 1px solid; HEIGHT: 200px\"\\n\\t\\t\\t\\t\\t\\t\\tscrollDelay=\"150\" direction=\"up\" behavior=\"slide\" loop=\"-1\" bgColor=\"white\">\\n\\t\\t\\t\\t\\t\\t\\t\\t<P align=\"justify\"><FONT color=\"#000080\"><b>Por seguridad de su CONTRASEÑA</b>.<br><br></FONT>\\n\\t\\t\\t\\t\\t\\t\\t\\tNo utilice como contraseña el nombre de usuario.<br>\\n\\t\\t\\t\\t\\t\\t\\t\\tNo utilice contraseñas en blanco.<br>\\n\\t\\t\\t\\t\\t\\t\\t\\tPuede utilizar hasta 20 caracteres combinados entre letras, números y símbolos.<br>\\n\\t\\t\\t\\t\\t\\t\\t\\tNo diga sus contraseñas a terceros.<br>\\n\\t\\t\\t\\t\\t\\t\\t\\tSi almacena sus contraseñas hágalo en un lugar seguro.\\n\\t\\t\\t\\t\\t\\t\\t\\t</P>\\n\\t\\t\\t\\t\\t\\t</MARQUEE>\\n\\t\\t\\t\\t\\t\\t<BR>\\n\\t\\t\\t\\t\\t\\t<br>\\n-->\\n\\t\\t\\t\\t\\t\\t<!--Fin mensaje encima de login -->\\n\\t\\t\\t\\t\\t\\t<table id=\"Table1\" cellspacing=\"0\" cellpadding=\"0\" border=\"0\" style=\"width: 187px\">\\n\\t\\t\\t\\t\\t\\t\\t<tbody><tr>\\n\\t\\t\\t\\t\\t\\t\\t\\t<td>\\n\\t\\t\\t\\t\\t\\t\\t\\t\\t<table id=\"Table2\" cellspacing=\"0\" cellpadding=\"0\" width=\"100%\" border=\"0\">\\n\\t\\t\\t\\t\\t\\t\\t\\t\\t\\t<tbody><tr>\\n\\t\\t\\t\\t\\t\\t\\t\\t\\t\\t\\t<td valign=\"top\" background=\"images/rdlft.gif\" style=\"height: 23px\"><img height=\"1\" src=\"images/spacer.gif\" width=\"5\" border=\"0\"></td>\\n\\t\\t\\t\\t\\t\\t\\t\\t\\t\\t\\t<td class=\"tfolder\" style=\"width: 100%; height: 23px\" align=\"center\"><a href=\"#\" class=\"tfolder\" name=\"itemLogin\" onclick=\"javascript:doOutLine(this);\" title=\"Acceso a Funcionarios\">Entrada de&nbsp;Usuarios</a></td>\\n\\t\\t\\t\\t\\t\\t\\t\\t\\t\\t\\t<td valign=\"top\" background=\"images/rdrgt.gif\" style=\"height: 23px\" align=\"center\"><img height=\"1\" src=\"area_files/spacer.gif\" width=\"15\" border=\"0\"></td>\\n\\t\\t\\t\\t\\t\\t\\t\\t\\t\\t</tr>\\n\\t\\t\\t\\t\\t\\t\\t\\t\\t</tbody></table>\\n\\t\\t\\t\\t\\t\\t\\t\\t</td>\\n\\t\\t\\t\\t\\t\\t\\t</tr>\\n\\t\\t\\t\\t\\t\\t\\t<tr>\\n\\t\\t\\t\\t\\t\\t\\t\\t<td style=\"height: 558px\">\\n\\t\\t\\t\\t\\t\\t\\t\\t\\t<div id=\"itemLoginChild\" style=\"DISPLAY:block\">\\n\\t\\t\\t\\t\\t\\t\\t\\t\\t\\t<table id=\"Table3\" cellspacing=\"0\" cellpadding=\"1\" width=\"100%\" border=\"0\">\\n\\t\\t\\t\\t\\t\\t\\t\\t\\t\\t\\t<tbody><tr>\\n\\t\\t\\t\\t\\t\\t\\t\\t\\t\\t\\t\\t<td bgcolor=\"#0094C7\">\\n\\t\\t\\t\\t\\t\\t\\t\\t\\t\\t\\t\\t\\t<table id=\"Table4\" cellspacing=\"0\" cellpadding=\"0\" width=\"100%\" border=\"0\">\\n\\t\\t\\t\\t\\t\\t\\t\\t\\t\\t\\t\\t\\t\\t<tbody><tr>\\n\\t\\t\\t\\t\\t\\t\\t\\t\\t\\t\\t\\t\\t\\t\\t<td bgcolor=\"#ffffff\" style=\"width: 179px; height: 143px;\">\\n\\t\\t\\t\\t\\t\\t\\t\\t\\t\\t\\t\\t\\t\\t\\t\\t<table id=\"Table5\" cellspacing=\"0\" cellpadding=\"0\" border=\"0\" width=\"100%\">\\n\\t\\t\\t\\t\\t\\t\\t\\t\\t\\t\\t\\t\\t\\t\\t\\t\\t<tbody><tr>\\n\\t\\t\\t\\t\\t\\t\\t\\t\\t\\t\\t\\t\\t\\t\\t\\t\\t\\t<td style=\"height: 30px\" align=\"center\">\\n                                                                            Usuario</td>\\n\\t\\t\\t\\t\\t\\t\\t\\t\\t\\t\\t\\t\\t\\t\\t\\t\\t\\t<td style=\"height: 30px\" align=\"center\">\\n                                                                            <input name=\"tbid_usuario\" type=\"text\" maxlength=\"20\" id=\"tbid_usuario\" style=\"height:23px;width:100px;\"></td>\\n\\t\\t\\t\\t\\t\\t\\t\\t\\t\\t\\t\\t\\t\\t\\t\\t\\t</tr>\\n\\t\\t\\t\\t\\t\\t\\t\\t\\t\\t\\t\\t\\t\\t\\t\\t\\t<tr>\\n\\t\\t\\t\\t\\t\\t\\t\\t\\t\\t\\t\\t\\t\\t\\t\\t\\t\\t<td style=\"height: 30px\" align=\"center\">\\n                                                                            Contraseña</td>\\n\\t\\t\\t\\t\\t\\t\\t\\t\\t\\t\\t\\t\\t\\t\\t\\t\\t\\t<td style=\"height: 30px\" align=\"center\">\\n                                                                            <input name=\"tbcontrasena\" type=\"password\" id=\"tbcontrasena\" style=\"height:23px;width:100px;\"></td>\\n\\t\\t\\t\\t\\t\\t\\t\\t\\t\\t\\t\\t\\t\\t\\t\\t\\t</tr>\\n\\t\\t\\t\\t\\t\\t\\t\\t\\t\\t\\t\\t\\t\\t\\t\\t\\t<tr>\\n\\t\\t\\t\\t\\t\\t\\t\\t\\t\\t\\t\\t\\t\\t\\t\\t\\t\\t<td align=\"center\" colspan=\"2\">\\n                                                                            <br>\\n                                                                            <input type=\"submit\" name=\"btnIngresar\" value=\"Ingresar\" id=\"btnIngresar\" style=\"height:20px;width:90px;\"></td>\\n\\t\\t\\t\\t\\t\\t\\t\\t\\t\\t\\t\\t\\t\\t\\t\\t\\t</tr>\\n\\t\\t\\t\\t\\t\\t\\t\\t\\t\\t\\t\\t\\t\\t\\t\\t\\t<tr>\\n\\t\\t\\t\\t\\t\\t\\t\\t\\t\\t\\t\\t\\t\\t\\t\\t\\t\\t<td colspan=\"2\" style=\"height: 26px\" align=\"center\">\\n                                                                            <br>\\n                                                                            <span id=\"lblIngresar\" style=\"color:#CC0044;font-weight:normal;\"></span></td>\\n\\t\\t\\t\\t\\t\\t\\t\\t\\t\\t\\t\\t\\t\\t\\t\\t\\t</tr>\\n\\t\\t\\t\\t\\t\\t\\t\\t\\t\\t\\t\\t\\t\\t\\t\\t</tbody></table>\\n                                                                &nbsp; &nbsp; &nbsp;&nbsp;&nbsp; Registro: 20230721-PRO</td>\\n\\t\\t\\t\\t\\t\\t\\t\\t\\t\\t\\t\\t\\t\\t</tr>\\n\\t\\t\\t\\t\\t\\t\\t\\t\\t\\t\\t\\t\\t</tbody></table>\\n\\t\\t\\t\\t\\t\\t\\t\\t\\t\\t\\t\\t</td>\\n\\t\\t\\t\\t\\t\\t\\t\\t\\t\\t\\t</tr>\\n\\t\\t\\t\\t\\t\\t\\t\\t\\t\\t\\t<tr>\\n\\t\\t\\t\\t\\t\\t\\t\\t\\t\\t\\t\\t<td></td>\\n\\t\\t\\t\\t\\t\\t\\t\\t\\t\\t\\t</tr>\\n\\t\\t\\t\\t\\t\\t\\t\\t\\t\\t\\t<tr>\\n\\t\\t\\t\\t\\t\\t\\t\\t\\t\\t\\t\\t<td bgcolor=\"#0094C7\">\\n\\t\\t\\t\\t\\t\\t\\t\\t\\t\\t\\t\\t\\t<table cellpadding=\"0\" cellspacing=\"0\" border=\"0\" width=\"100%\" style=\"height: 1px\">\\n\\t\\t\\t\\t\\t\\t\\t\\t\\t\\t\\t\\t\\t\\t<tbody><tr>\\n\\t\\t\\t\\t\\t\\t\\t\\t\\t\\t\\t\\t\\t\\t\\t<td bgcolor=\"#ffffff\">\\n\\t\\t\\t\\t\\t\\t\\t\\t\\t\\t\\t\\t\\t\\t\\t\\t<table id=\"Table6\" cellspacing=\"0\" cellpadding=\"1\" border=\"0\">\\n\\t\\t\\t\\t\\t\\t\\t\\t\\t\\t\\t\\t\\t\\t\\t\\t\\t<tbody><tr>\\n\\t\\t\\t\\t\\t\\t\\t\\t\\t\\t\\t\\t\\t\\t\\t\\t\\t\\t<td style=\"height: 15px\"><img src=\"images/bullet.gif\" border=\"0\"></td>\\n\\t\\t\\t\\t\\t\\t\\t\\t\\t\\t\\t\\t\\t\\t\\t\\t\\t\\t<td style=\"height: 15px\"><a title=\"Ayuda General\" onclick=\"javaScript:help();\" href=\"#\">Ayuda</a></td>\\n\\t\\t\\t\\t\\t\\t\\t\\t\\t\\t\\t\\t\\t\\t\\t\\t\\t</tr>\\n\\t\\t\\t\\t\\t\\t\\t\\t\\t\\t\\t\\t\\t\\t\\t\\t</tbody></table>\\n\\t\\t\\t\\t\\t\\t\\t\\t\\t\\t\\t\\t\\t\\t\\t</td>\\n\\t\\t\\t\\t\\t\\t\\t\\t\\t\\t\\t\\t\\t\\t</tr>\\n\\t\\t\\t\\t\\t\\t\\t\\t\\t\\t\\t\\t\\t\\t<tr>\\n\\t\\t\\t\\t\\t\\t\\t\\t\\t\\t\\t\\t\\t\\t\\t<td bgcolor=\"#ffffff\">\\n\\t\\t\\t\\t\\t\\t\\t\\t\\t\\t\\t\\t\\t\\t\\t\\t<table cellspacing=\"0\" cellpadding=\"1\" border=\"0\">\\n\\t\\t\\t\\t\\t\\t\\t\\t\\t\\t\\t\\t\\t\\t\\t\\t\\t<tbody><tr>\\n\\t\\t\\t\\t\\t\\t\\t\\t\\t\\t\\t\\t\\t\\t\\t\\t\\t\\t<td><img src=\"images/bullet.gif\" border=\"0\"></td>\\n\\t\\t\\t\\t\\t\\t\\t\\t\\t\\t\\t\\t\\t\\t\\t\\t\\t\\t<td><a title=\"Acerca de ...\" onclick=\"javaScript:about();\" href=\"#\">Acerca De ...</a></td>\\n\\t\\t\\t\\t\\t\\t\\t\\t\\t\\t\\t\\t\\t\\t\\t\\t\\t</tr>\\n\\t\\t\\t\\t\\t\\t\\t\\t\\t\\t\\t\\t\\t\\t\\t\\t</tbody></table>\\n\\t\\t\\t\\t\\t\\t\\t\\t\\t\\t\\t\\t\\t\\t\\t</td>\\n\\t\\t\\t\\t\\t\\t\\t\\t\\t\\t\\t\\t\\t\\t</tr>\\n\\t\\t\\t\\t\\t\\t\\t\\t\\t\\t\\t\\t\\t\\t<tr>\\n\\t\\t\\t\\t\\t\\t\\t\\t\\t\\t\\t\\t\\t\\t\\t<td bgcolor=\"#ffffff\">\\n\\t\\t\\t\\t\\t\\t\\t\\t\\t\\t\\t\\t\\t\\t\\t\\t<table cellspacing=\"0\" cellpadding=\"1\" border=\"0\">\\n\\t\\t\\t\\t\\t\\t\\t\\t\\t\\t\\t\\t\\t\\t\\t\\t\\t<tbody><tr>\\n\\t\\t\\t\\t\\t\\t\\t\\t\\t\\t\\t\\t\\t\\t\\t\\t\\t\\t<td><img src=\"images/bullet.gif\" border=\"0\"></td>\\n\\t\\t\\t\\t\\t\\t\\t\\t\\t\\t\\t\\t\\t\\t\\t\\t\\t\\t<td><a title=\"Salir de la Aplicación\" onclick=\"javaScript:salir();\" href=\"#\">Salir</a></td>\\n\\t\\t\\t\\t\\t\\t\\t\\t\\t\\t\\t\\t\\t\\t\\t\\t\\t</tr>\\n\\t\\t\\t\\t\\t\\t\\t\\t\\t\\t\\t\\t\\t\\t\\t\\t</tbody></table>\\n\\t\\t\\t\\t\\t\\t\\t\\t\\t\\t\\t\\t\\t\\t\\t</td>\\n\\t\\t\\t\\t\\t\\t\\t\\t\\t\\t\\t\\t\\t\\t</tr>\\n                                                        <tr>\\n                                                            <td align=\"center\" bgcolor=\"#ffffff\" style=\"height: 28px\">\\n                                                                <span id=\"titulo\" style=\"color:Black;font-size:X-Small;font-weight:bold;font-style:italic;\">INFORMACIÓN</span></td>\\n                                                        </tr>\\n                                                        <tr>\\n                                                            <td align=\"center\" bgcolor=\"#ffffff\" style=\"height: 28px\">\\n                                                                Para consutar el cumplimiento en la oportunidad del reporte de que\\n                                                                trata el Decreto 2193 de 2004, compilado en la Sección 2, Capítulo 8, Título 3,Parte 5 del Libro\\n                                                                2 del Decreto 780 de 2016 - Decreto Único Reglamentario del Sector Salud y Protección\\n                                                                Social, de cada una de las ESE del País, con lo cual\\n                                                                se da cumplimiento a lo previsto en el anexo No. 2 de la Resolución 710 de 2012,\\n                                                                modificada por las Resoluciones\\n                                                                743 de 2013 y 408 de 2018.<br>\\n                                                                &nbsp;\\n                                                                <br>\\n                                                                Puede hacerlo a traves del siguiente\\n                                                                link:\\n                                                            </td>\\n                                                        </tr>\\n                                                        <tr>\\n                                                            <td align=\"center\" bgcolor=\"#ffffff\" style=\"height: 1px\">\\n                                                            </td>\\n                                                        </tr>\\n                                                        <tr>\\n                                                            <td bgcolor=\"#ffffff\" align=\"center\" font-bold=\"True\"> \\n                                                            <table id=\"Table7\" cellspacing=\"0\" cellpadding=\"1\" border=\"0\" style=\"font-weight: bold; color: blue; font-style: normal; text-decoration: underline\">\\n                                                                <tbody><tr>\\n                                                                    <td style=\"height: 15px\"><img src=\"images/bullet.gif\" border=\"0\" style=\"color: blue; text-decoration: underline\"></td>\\n                                                                    <td style=\"height: 15px\"><a title=\"Reporte Cumplimiento\" onclick=\"javaScript:reporte();\" href=\"#\">Reporte Cumplimiento 2022</a></td>\\n                                                                </tr>\\n                                                            </tbody></table>\\n                                                            </td>\\n                                                        </tr>\\n                                                        <tr>\\n                                                            <td align=\"center\" bgcolor=\"#ffffff\" font-bold=\"True\" style=\"height: 10px\">\\n                                                            </td>\\n                                                        </tr>\\n\\t\\t\\t\\t\\t\\t\\t\\t\\t\\t\\t\\t\\t</tbody></table>\\n\\t\\t\\t\\t\\t\\t\\t\\t\\t\\t\\t\\t</td>\\n\\t\\t\\t\\t\\t\\t\\t\\t\\t\\t\\t</tr>\\n\\t\\t\\t\\t\\t\\t\\t\\t\\t\\t</tbody></table>\\n\\t\\t\\t\\t\\t\\t\\t\\t\\t</div>\\n\\t\\t\\t\\t\\t\\t<marquee id=\"MARQUEE1\" style=\"BORDER-RIGHT: #0094C7 1px solid; BORDER-TOP: #0094C7 1px solid; VISIBILITY: hidden; BORDER-LEFT: #0094C7 1px solid; WIDTH: 187px; BORDER-BOTTOM: #0094C7 1px solid; HEIGHT: 160px\" scrolldelay=\"150\" direction=\"up\" behavior=\"slide\" loop=\"-1\" bgcolor=\"white\"></marquee>\\n                                    <br>\\n\\t\\t\\t\\t\\t\\t\\t\\t</td>\\n\\t\\t\\t\\t\\t\\t\\t</tr>\\n\\t\\t\\t\\t\\t\\t</tbody></table>\\n\\t\\t\\t\\t\\t\\t<!--Mensaje debajo de login-->\\n\\t\\t\\t\\t\\t\\t<br>\\n\\t\\t\\t\\t\\t\\t<br>\\n\\t\\t\\t\\t\\t\\t<!--Fin mensaje debajo de login -->\\n\\t\\t\\t\\t\\t</td>\\n\\t\\t\\t\\t\\t<td valign=\"top\">\\n\\t\\t\\t\\t\\t\\t<table cellspacing=\"0\" cellpadding=\"0\" width=\"100%\" border=\"0\">\\n\\t\\t\\t\\t\\t\\t\\t<!--Mensaje sobre menu\\n\\t\\t\\t\\t\\t\\t\\t<tr>\\n\\t\\t\\t\\t\\t\\t\\t\\t<td>\\n\\t\\t\\t\\t\\t\\t\\t\\t\\t<table border=\"0\" cellpadding=\"1\" cellspacing=\"0\" width=\"90%\">\\n\\t\\t\\t\\t\\t\\t\\t\\t\\t\\t<tr>\\n\\t\\t\\t\\t\\t\\t\\t\\t\\t\\t\\t<td bgColor=\"#008844\">\\n\\t\\t\\t\\t\\t\\t\\t\\t\\t\\t\\t\\t<table border=\"0\" cellpadding=\"0\" cellspacing=\"0\" width=\"100%\">\\n\\t\\t\\t\\t\\t\\t\\t\\t\\t\\t\\t\\t\\t<tr>\\n\\t\\t\\t\\t\\t\\t\\t\\t\\t\\t\\t\\t\\t\\t<td bgColor=\"#f7f7f7\">\\n\\t\\t\\t\\t\\t\\t\\t\\t\\t\\t\\t\\t\\t\\t\\t<marquee hspace=\"10\" width=\"500\">Ultima actualización: 6 de Marzo de 2006. Se \\n\\t\\t\\t\\t\\t\\t\\t\\t\\t\\t\\t\\t\\t\\t\\t\\tencuentra disponible la información de los periodos Enero-Marzo, Abril-Junio y \\n\\t\\t\\t\\t\\t\\t\\t\\t\\t\\t\\t\\t\\t\\t\\t\\tJulio-Septiembre de 2005</marquee>\\n\\t\\t\\t\\t\\t\\t\\t\\t\\t\\t\\t\\t\\t\\t</td>\\n\\t\\t\\t\\t\\t\\t\\t\\t\\t\\t\\t\\t\\t</tr>\\n\\t\\t\\t\\t\\t\\t\\t\\t\\t\\t\\t\\t</table>\\n\\t\\t\\t\\t\\t\\t\\t\\t\\t\\t\\t</td>\\n\\t\\t\\t\\t\\t\\t\\t\\t\\t\\t</tr>\\n\\t\\t\\t\\t\\t\\t\\t\\t\\t</table>\\n\\t\\t\\t\\t\\t\\t\\t\\t</td>\\n\\t\\t\\t\\t\\t\\t\\t</tr>\\n-->\\n\\t\\t\\t\\t\\t\\t\\t<tbody><tr>\\n\\t\\t\\t\\t\\t\\t\\t\\t<td><span id=\"lblmenu\" class=\"labelNormal\"></span></td>\\n\\t\\t\\t\\t\\t\\t\\t</tr>\\n\\t\\t\\t\\t\\t\\t</tbody></table>\\n\\t\\t\\t\\t\\t</td>\\n\\t\\t\\t\\t</tr>\\n\\t\\t\\t</tbody></table>\\n\\t\\t</form>\\n\\t\\n\\n</body></html>'"
      ]
     },
     "execution_count": 335,
     "metadata": {},
     "output_type": "execute_result"
    }
   ],
   "source": [
    "html = driver.page_source\n",
    "html"
   ]
  },
  {
   "cell_type": "code",
   "execution_count": 336,
   "metadata": {},
   "outputs": [],
   "source": [
    "search_button = driver.find_element(By.ID, \"btnIngresar\")\n",
    "search_button.click()"
   ]
  },
  {
   "cell_type": "code",
   "execution_count": 337,
   "metadata": {},
   "outputs": [
    {
     "data": {
      "text/plain": [
       "True"
      ]
     },
     "execution_count": 337,
     "metadata": {},
     "output_type": "execute_result"
    }
   ],
   "source": [
    "driver.save_screenshot(\"screenshot2.png\")"
   ]
  },
  {
   "cell_type": "code",
   "execution_count": 338,
   "metadata": {},
   "outputs": [
    {
     "data": {
      "text/plain": [
       "['61C9FC5F81E5B95F37DC0830B4EC67D8']"
      ]
     },
     "execution_count": 338,
     "metadata": {},
     "output_type": "execute_result"
    }
   ],
   "source": [
    "assert len(driver.window_handles) == 1\n",
    "driver.window_handles"
   ]
  },
  {
   "cell_type": "code",
   "execution_count": 339,
   "metadata": {},
   "outputs": [],
   "source": [
    "search_link = driver.find_element(By.LINK_TEXT, \"Capacidad Instalada\")\n",
    "search_link.click()"
   ]
  },
  {
   "cell_type": "code",
   "execution_count": 340,
   "metadata": {},
   "outputs": [
    {
     "data": {
      "text/plain": [
       "True"
      ]
     },
     "execution_count": 340,
     "metadata": {},
     "output_type": "execute_result"
    }
   ],
   "source": [
    "driver.save_screenshot(\"screenshot3.png\")"
   ]
  },
  {
   "cell_type": "code",
   "execution_count": 341,
   "metadata": {},
   "outputs": [],
   "source": [
    "driver.switch_to.default_content()"
   ]
  },
  {
   "cell_type": "code",
   "execution_count": 342,
   "metadata": {},
   "outputs": [
    {
     "data": {
      "text/plain": [
       "'<html><head>\\n\\t\\t<title>Información de Hospitales :: Dirección de Prestación de Servicios y Atención Primaria :: Ministerio de Salud y Protección Social</title>\\n\\t\\t<meta content=\"text/html; charset=windows-1252\" http-equiv=\"Content-Type\">\\n\\t\\t<meta name=\"description\" content=\"SIHO :: Sistema de Información Hospitalaria de la Dirección de Prestación de Servicios y Atención Primaria del Ministerio de Salud y Protección Social de Colombia.\">\\n\\t\\t<meta name=\"keywords\" content=\"Gestion, Hospitales, Publicos, SIHO, Proteccion, Social, Decreto 2193\">\\n        <link rel=\"SHORTCUT ICON\" href=\"images/siho.ico\">\\n\\t\\t<!--meta http-equiv=\"refresh\" content=\"5;url=/pubs\"-->\\n<!--\\n// Author: Germán Ricardo Aragón Ospina (garagonospina@hotmail.com)\\n// Update: 2010/05/31\\n// Actualización:   2012/01/13 Jail Tao Ortiz\\n//-->\\n\\t</head>\\n\\t<frameset border=\"0\" frameborder=\"0\" framespacing=\"0\" rows=\"70,*,18\">\\n\\t\\t<frame marginheight=\"1\" marginwidth=\"1\" name=\"areatop\" noresize=\"\" scrolling=\"no\" src=\"top.htm\">\\n\\t\\t<frame marginheight=\"20\" marginwidth=\"10\" name=\"areawork\" noresize=\"\" src=\"work.aspx\" cd_frame_id_=\"3ba6efec31781ace9a3664ac50136c22\">\\n\\t\\t<frame marginheight=\"0\" marginwidth=\"0\" name=\"areastatus\" noresize=\"\" scrolling=\"no\" src=\"status.aspx\">\\n\\t</frameset>\\n</html>'"
      ]
     },
     "execution_count": 342,
     "metadata": {},
     "output_type": "execute_result"
    }
   ],
   "source": [
    "html = driver.page_source\n",
    "html"
   ]
  },
  {
   "cell_type": "code",
   "execution_count": 343,
   "metadata": {},
   "outputs": [
    {
     "data": {
      "text/plain": [
       "['61C9FC5F81E5B95F37DC0830B4EC67D8', 'A9DAAE5A24145467FC2A3C8F8A0487C5']"
      ]
     },
     "execution_count": 343,
     "metadata": {},
     "output_type": "execute_result"
    }
   ],
   "source": [
    "assert len(driver.window_handles) == 2\n",
    "driver.window_handles"
   ]
  },
  {
   "cell_type": "code",
   "execution_count": 344,
   "metadata": {},
   "outputs": [],
   "source": [
    "driver.switch_to.window(driver.window_handles[1])"
   ]
  },
  {
   "cell_type": "code",
   "execution_count": 345,
   "metadata": {},
   "outputs": [
    {
     "data": {
      "text/plain": [
       "True"
      ]
     },
     "execution_count": 345,
     "metadata": {},
     "output_type": "execute_result"
    }
   ],
   "source": [
    "driver.save_screenshot(\"screenshot4.png\")"
   ]
  },
  {
   "cell_type": "code",
   "execution_count": 346,
   "metadata": {},
   "outputs": [
    {
     "data": {
      "text/plain": [
       "'<html xmlns=\"http://www.w3.org/1999/xhtml\"><head><title>\\n\\tCapacidad Instalada\\n</title><link href=\"../includes/appestilos.css\" rel=\"stylesheet\"></head>\\n<body bgcolor=\"#ffffff\">\\n    <form name=\"aspnetForm\" method=\"post\" action=\"./capacidadinstaladanacional.aspx?pageTitle=Capacidad+Instalada&amp;pageHlp=%2fSIHO%2fayudas%2finformes%2fcapacidad.pdf\" id=\"aspnetForm\">\\n<input type=\"hidden\" name=\"__VIEWSTATE\" id=\"__VIEWSTATE\" value=\"/wEPDwULLTIwNDI2NTY5MjEPZBYCZg9kFgICAw9kFggCDw8PFgIeC05hdmlnYXRlVXJsBSMvU0lITy9heXVkYXMvaW5mb3JtZXMvY2FwYWNpZGFkLnBkZmRkAhEPDxYCHgRUZXh0BRNDYXBhY2lkYWQgSW5zdGFsYWRhZGQCEw9kFgQCAQ9kFgJmD2QWAmYPZBYEAgEPEGQQFRUEMjAwMgQyMDAzBDIwMDQEMjAwNQQyMDA2BDIwMDcEMjAwOAQyMDA5BDIwMTAEMjAxMQQyMDEyBDIwMTMEMjAxNAQyMDE1BDIwMTYEMjAxNwQyMDE4BDIwMTkEMjAyMAQyMDIxBDIwMjIVFQQyMDAyBDIwMDMEMjAwNAQyMDA1BDIwMDYEMjAwNwQyMDA4BDIwMDkEMjAxMAQyMDExBDIwMTIEMjAxMwQyMDE0BDIwMTUEMjAxNgQyMDE3BDIwMTgEMjAxOQQyMDIwBDIwMjEEMjAyMhQrAxVnZ2dnZ2dnZ2dnZ2dnZ2dnZ2dnZ2dkZAIDDxAPFgYeDURhdGFUZXh0RmllbGQFBm5vbWJyZR4ORGF0YVZhbHVlRmllbGQFBmNvZGlnbx4LXyFEYXRhQm91bmRnZBAVJwAIQW1hem9uYXMJQW50aW9xdWlhBkFyYXVjYTpBcmNoaXBpw6lsYWdvIGRlIFNhbiBBbmRyw6lzLCBQcm92aWRlbmNpYSB5IFNhbnRhIENhdGFsaW5hCkF0bMOhbnRpY28fQmFycmFucXVpbGxhIERpc3RyaXRybyBFc3BlY2lhbA1Cb2dvdMOhLCBELkMuCEJvbMOtdmFyB0JveWFjw6EeQnVlbmF2ZW50dXJhIERpc3RyaXRvIEVzcGVjaWFsBkNhbGRhcxZDYWxpIERpc3RyaXRvIEVzcGVjaWFsCENhcXVldMOhG0NhcnRhZ2VuYSBEaXN0cml0byBFc3BlY2lhbAhDYXNhbmFyZQVDYXVjYQVDZXNhcgZDaG9jw7MIQ8OzcmRvYmEMQ3VuZGluYW1hcmNhCEd1YWluw61hCEd1YXZpYXJlBUh1aWxhCkxhIEd1YWppcmEJTWFnZGFsZW5hBE1ldGEHTmFyacOxbxJOb3J0ZSBkZSBTYW50YW5kZXIIUHV0dW1heW8IUXVpbmTDrW8JUmlzYXJhbGRhHVNhbnRhIE1hcnRhIERpc3RyaXRvIEVzcGVjaWFsCVNhbnRhbmRlcgVTdWNyZQZUb2xpbWEPVmFsbGUgZGVsIENhdWNhB1ZhdXDDqXMHVmljaGFkYRUnAAI5MQIwNQI4MQI4OAIwOAIwOQIxMQIxMwIxNQI3NwIxNwI3OAIxOAIxNAI4NQIxOQIyMAIyNwIyMwIyNQI5NAI5NQI0MQI0NAI0NwI1MAI1MgI1NAI4NgI2MwI2NgI0OAI2OAI3MAI3MwI3NgI5NwI5ORQrAydnZ2dnZ2dnZ2dnZ2dnZ2dnZ2dnZ2dnZ2dnZ2dnZ2dnZ2dnZ2dnZ2dkZAIDD2QWBmYPZBYCZg9kFgICAQ8PFgIfAQUITmFjaW9uYWxkZAIBD2QWAmYPZBYCAgEPPCsACwEADxYIHghEYXRhS2V5cxYAHgtfIUl0ZW1Db3VudGYeCVBhZ2VDb3VudAIBHhVfIURhdGFTb3VyY2VJdGVtQ291bnRmZGQCBA9kFgJmD2QWAgIBDzwrAAsBAA8WCB8FFgAfBmYfBwIBHwhmZGQCIw8PFgIfAAUjL1NJSE8vYXl1ZGFzL2luZm9ybWVzL2NhcGFjaWRhZC5wZGZkZBgBBR5fX0NvbnRyb2xzUmVxdWlyZVBvc3RCYWNrS2V5X18WBAUQX2N0bDA6aWJOdWV2b0hkcgURX2N0bDA6aWJCdXNjYXJIZHIFEF9jdGwwOmliTnVldm9GdHIFEV9jdGwwOmliQnVzY2FyRnRyvpQgRWWRSq5oMQKSz35/hUNWfCjAYzqHL7ZSFu9umXY=\">\\n\\n<input type=\"hidden\" name=\"__VIEWSTATEGENERATOR\" id=\"__VIEWSTATEGENERATOR\" value=\"CDDFEAAA\">\\n<input type=\"hidden\" name=\"__EVENTVALIDATION\" id=\"__EVENTVALIDATION\" value=\"/wEdAEHjgwh5F+4znJXcb1FtoY6W9f09lK5A3efx5e+2zoL0c8MnqKGR0rClTZ0V6RZIWXig9AnBtjjkg/VEAneC+d99h9tMfU8e9v1WYol5vWdJI6JRYX1r1HLm+1P+bJpa0Q6UtlKt+I6s0dFKPk1bR4R9/JIrGPbk0YKa3eocll4hPutj5xR1YFL/Uf8mgGvAvIZpdd4Y9hshvYycAsBkL5AK5qJlx/8+plToCkMvNhEfOvf09LlGgOEl7GJZyGi1Xbq7XLALwelQXA89io1tXN2xhYq3aYptZkHdp2HTQZR2OrxPibIic1qF/zAVkz9LJob1CSS9ilBgrPzOwalKkKiDH0gUP3oU716ueOS5MxO7R2aiCUlMlbsxPslWNuO4QO0XbmQLAuYoDFu+QjGv9Tw7Bs/H9MzvYxe4fd6/b3uqlbFjP/RfzZ9mH8XqnyTiIGoxAxZckwPeNh4kuXhUG/aTVYkKNt+UnfMkJmuwxiWyTIuMLOA52knlHouj4jwaT9COzwSpDegbgEWThrj900Tr6u93BoO0Jr2aHejoJ6d4Wu/OxG9jepiD/hwWS86FL2GurwaY3N3EdD7Hz01Y4ZL4XzXFNzxPfSYY7jSjxzGGkU3bxOSbX/eTuvnN65FKn9HLp6Tt2BaDM85pGPnzn3vWmSglbWxg1YXZev2Jj6nF8xXNjbuMoPoMGZ+1ZAtDHC1NyW5q8+xkgObj2PT+A8/kG7J4zUbTeSDrveEUKEjh8YuZnV0N1cuwhlkNAk5kYtNDUgE4hHLgzsq/0Y29KL4wmPMcT16lBftJOJ+/qI0HKcxqicS8jLehycCfsr93IRmkjjkyc2gydAYUIN2YCS6z/W9vLET03InEsEtqSNcdg0d84E12K33ftyoPXafhQ4S6eLunNsskMDPcMQjhtFK8+Ms2BL8UUPPMO9OTuzR7a3vIm49oatLWxVbS02WGBG/FepNG86aHWkvGQEC7CTBmCtPzuFhG24yzmMHzCfPpfxq4d60hPMuu/evl1usYJEukdpbPuDCH6odjciJRUjblivyNGgZmWGO9IKGEVnmYW7mr4cpC2ZEKURz58dt2hHI8HSB/DHFUeyJJFRs1sLHM9ClzmqMqemJ7ZcOATM/+mRAl0PKulRwqHgLBjO7IuAvMx158qChN3SEOrI1wLVF1hxGqcU/G/20od1FbgxZD7QgVBiBWEl0RjHTtpCcTAmI5utmSdkqQLF8EKi0nRbsf/2Gg4pcZBwZk69zUjxVQpcOwV+WXqQG2TJ9mtQDQFDO8WlGpgf8W6DsgyeC3tRbCJcspIvy3TwA9PYE044K0AySy3ZMDBFYf7VZ5oTgXHBdfB6Q//Z504WaHNVEuqY+Sq32b5I2AvK9tM7QwH9pS9zlYDVTEn/nR5ry/gToLQtz5aCsaXRwur/WHbC9P5umK\">\\n    <div>\\n        <table border=\"0\" cellpadding=\"0\" cellspacing=\"0\">\\n            <tbody><tr>\\n                <td>\\n                    </td>\\n                <td>\\n                    <img id=\"_ctl0_iGrabarHdr\" src=\"../images/grabar_dis.jpg\" align=\"bottom\" style=\"border-width:0px;\"></td>\\n                <td>\\n                    <input type=\"image\" name=\"_ctl0:ibNuevoHdr\" id=\"_ctl0_ibNuevoHdr\" src=\"../images/nuevo.jpg\" alt=\"Nuevo\" align=\"top\" style=\"border-width:0px;\"></td>\\n                <td>\\n                    <input type=\"image\" name=\"_ctl0:ibBuscarHdr\" id=\"_ctl0_ibBuscarHdr\" src=\"../images/buscar.jpg\" alt=\"Buscar\" align=\"bottom\" style=\"border-width:0px;\"></td>\\n                <td>\\n                    </td>\\n                <td>\\n                    </td>\\n                <td>\\n                    <img id=\"_ctl0_iEliminarHdr\" src=\"../images/eliminar_dis.jpg\" align=\"bottom\" style=\"border-width:0px;\"></td>\\n                <td>\\n                    <a id=\"_ctl0_hlAyudaHdr\" title=\"Ayuda\" href=\"/SIHO/ayudas/informes/capacidad.pdf\" target=\"_blank\" style=\"border-width:0px;\"><img title=\"Ayuda\" src=\"../images/ayuda.jpg\" alt=\"HyperLink\" border=\"0\"></a></td>\\n            </tr>\\n        </tbody></table>\\n        <br>\\n        <span id=\"_ctl0_lblTitulo\" class=\"titulo3\">Capacidad Instalada</span><br>\\n        <br>\\n        \\n<table id=\"Table1\" cellspacing=\"0\" cellpadding=\"0\" width=\"90%\" border=\"0\">\\n\\t<tbody><tr>\\n\\t\\t<td>\\n\\t\\t\\t<table id=\"_ctl0_ContentPlaceHolder1_tabForm\" cellspacing=\"0\" cellpadding=\"1\" border=\"0\">\\n\\t<tbody><tr>\\n\\t\\t<td bgcolor=\"#0094C7\">\\n\\t\\t\\t\\t\\t\\t<table id=\"Table2\" cellspacing=\"0\" cellpadding=\"0\" border=\"0\">\\n\\t\\t\\t\\t\\t\\t\\t<tbody><tr>\\n\\t\\t\\t\\t\\t\\t\\t\\t<td bgcolor=\"#ffffff\">\\n\\t\\t\\t\\t\\t\\t\\t\\t\\t<table id=\"Table3\" cellspacing=\"0\" cellpadding=\"2\" align=\"center\" border=\"0\">\\n\\t\\t\\t\\t\\t\\t\\t\\t\\t\\t<tbody><tr>\\n\\t\\t\\t\\t\\t\\t\\t\\t\\t\\t\\t<td>Año</td>\\n\\t\\t\\t\\t\\t\\t\\t\\t\\t\\t\\t<td>\\n\\t\\t\\t\\t\\t\\t\\t\\t\\t\\t\\t\\t<select name=\"_ctl0:ContentPlaceHolder1:ddano\" id=\"_ctl0_ContentPlaceHolder1_ddano\" style=\"width:80px;\">\\n\\t\\t\\t<option value=\"2002\">2002</option>\\n\\t\\t\\t<option value=\"2003\">2003</option>\\n\\t\\t\\t<option value=\"2004\">2004</option>\\n\\t\\t\\t<option value=\"2005\">2005</option>\\n\\t\\t\\t<option value=\"2006\">2006</option>\\n\\t\\t\\t<option value=\"2007\">2007</option>\\n\\t\\t\\t<option value=\"2008\">2008</option>\\n\\t\\t\\t<option value=\"2009\">2009</option>\\n\\t\\t\\t<option value=\"2010\">2010</option>\\n\\t\\t\\t<option value=\"2011\">2011</option>\\n\\t\\t\\t<option value=\"2012\">2012</option>\\n\\t\\t\\t<option value=\"2013\">2013</option>\\n\\t\\t\\t<option value=\"2014\">2014</option>\\n\\t\\t\\t<option value=\"2015\">2015</option>\\n\\t\\t\\t<option value=\"2016\">2016</option>\\n\\t\\t\\t<option value=\"2017\">2017</option>\\n\\t\\t\\t<option value=\"2018\">2018</option>\\n\\t\\t\\t<option value=\"2019\">2019</option>\\n\\t\\t\\t<option value=\"2020\">2020</option>\\n\\t\\t\\t<option value=\"2021\">2021</option>\\n\\t\\t\\t<option value=\"2022\">2022</option>\\n\\n\\t\\t</select></td>\\n\\t\\t\\t\\t\\t\\t\\t\\t\\t\\t</tr>\\n\\t\\t\\t\\t\\t\\t\\t\\t\\t\\t<tr>\\n\\t\\t\\t\\t\\t\\t\\t\\t\\t\\t\\t<td>Departamento</td>\\n\\t\\t\\t\\t\\t\\t\\t\\t\\t\\t\\t<td>\\n\\t\\t\\t\\t\\t\\t\\t\\t\\t\\t\\t\\t<select name=\"_ctl0:ContentPlaceHolder1:dddepa_codigo\" id=\"_ctl0_ContentPlaceHolder1_dddepa_codigo\" style=\"width:140px;\">\\n\\t\\t\\t<option value=\"\"></option>\\n\\t\\t\\t<option value=\"91\">Amazonas</option>\\n\\t\\t\\t<option value=\"05\">Antioquia</option>\\n\\t\\t\\t<option value=\"81\">Arauca</option>\\n\\t\\t\\t<option value=\"88\">Archipiélago de San Andrés, Providencia y Santa Catalina</option>\\n\\t\\t\\t<option value=\"08\">Atlántico</option>\\n\\t\\t\\t<option value=\"09\">Barranquilla Distritro Especial</option>\\n\\t\\t\\t<option value=\"11\">Bogotá, D.C.</option>\\n\\t\\t\\t<option value=\"13\">Bolívar</option>\\n\\t\\t\\t<option value=\"15\">Boyacá</option>\\n\\t\\t\\t<option value=\"77\">Buenaventura Distrito Especial</option>\\n\\t\\t\\t<option value=\"17\">Caldas</option>\\n\\t\\t\\t<option value=\"78\">Cali Distrito Especial</option>\\n\\t\\t\\t<option value=\"18\">Caquetá</option>\\n\\t\\t\\t<option value=\"14\">Cartagena Distrito Especial</option>\\n\\t\\t\\t<option value=\"85\">Casanare</option>\\n\\t\\t\\t<option value=\"19\">Cauca</option>\\n\\t\\t\\t<option value=\"20\">Cesar</option>\\n\\t\\t\\t<option value=\"27\">Chocó</option>\\n\\t\\t\\t<option value=\"23\">Córdoba</option>\\n\\t\\t\\t<option value=\"25\">Cundinamarca</option>\\n\\t\\t\\t<option value=\"94\">Guainía</option>\\n\\t\\t\\t<option value=\"95\">Guaviare</option>\\n\\t\\t\\t<option value=\"41\">Huila</option>\\n\\t\\t\\t<option value=\"44\">La Guajira</option>\\n\\t\\t\\t<option value=\"47\">Magdalena</option>\\n\\t\\t\\t<option value=\"50\">Meta</option>\\n\\t\\t\\t<option value=\"52\">Nariño</option>\\n\\t\\t\\t<option value=\"54\">Norte de Santander</option>\\n\\t\\t\\t<option value=\"86\">Putumayo</option>\\n\\t\\t\\t<option value=\"63\">Quindío</option>\\n\\t\\t\\t<option value=\"66\">Risaralda</option>\\n\\t\\t\\t<option value=\"48\">Santa Marta Distrito Especial</option>\\n\\t\\t\\t<option value=\"68\">Santander</option>\\n\\t\\t\\t<option value=\"70\">Sucre</option>\\n\\t\\t\\t<option value=\"73\">Tolima</option>\\n\\t\\t\\t<option value=\"76\">Valle del Cauca</option>\\n\\t\\t\\t<option value=\"97\">Vaupés</option>\\n\\t\\t\\t<option value=\"99\">Vichada</option>\\n\\n\\t\\t</select></td>\\n\\t\\t\\t\\t\\t\\t\\t\\t\\t\\t</tr>\\n\\t\\t\\t\\t\\t\\t\\t\\t\\t\\t<tr>\\n\\t\\t\\t\\t\\t\\t\\t\\t\\t\\t\\t<td colspan=\"2\">&nbsp;</td>\\n\\t\\t\\t\\t\\t\\t\\t\\t\\t\\t</tr>\\n\\t\\t\\t\\t\\t\\t\\t\\t\\t\\t<tr>\\n\\t\\t\\t\\t\\t\\t\\t\\t\\t\\t\\t<td align=\"center\" colspan=\"2\"></td>\\n\\t\\t\\t\\t\\t\\t\\t\\t\\t\\t</tr>\\n\\t\\t\\t\\t\\t\\t\\t\\t\\t</tbody></table>\\n\\t\\t\\t\\t\\t\\t\\t\\t</td>\\n\\t\\t\\t\\t\\t\\t\\t</tr>\\n\\t\\t\\t\\t\\t\\t</tbody></table>\\n\\t\\t\\t\\t\\t</td>\\n\\t</tr>\\n</tbody></table>\\n\\n\\t\\t</td>\\n\\t</tr>\\n\\t<tr>\\n\\t\\t<td>&nbsp;</td>\\n\\t</tr>\\n\\t<tr>\\n\\t\\t<td>\\n\\t\\t\\t<table id=\"_ctl0_ContentPlaceHolder1_tabGrid\" style=\"DISPLAY: none\" cellspacing=\"0\" cellpadding=\"1\" border=\"0\">\\n\\t<tbody><tr>\\n\\t\\t<td class=\"titulo3\">Capacidad instaladA\\n\\t\\t\\t\\t\\t\\t<span id=\"_ctl0_ContentPlaceHolder1_lblConsulta\" class=\"titulo3\">Nacional</span></td>\\n\\t</tr>\\n\\t<tr>\\n\\t\\t<td>\\n\\t\\t\\t\\t\\t\\t<table cellspacing=\"0\" rules=\"all\" bordercolor=\"#0094C7\" border=\"1\" id=\"_ctl0_ContentPlaceHolder1_dgInforme1\" style=\"background-color:White;border-color:#0094C7;border-collapse:collapse;\">\\n\\t\\t\\t<tbody><tr class=\"tfolder\" align=\"center\" style=\"color:#FFFFEE;\">\\n\\t\\t\\t\\t<td>Concepto</td><td>Cantidad</td>\\n\\t\\t\\t</tr>\\n\\t\\t</tbody></table></td>\\n\\t</tr>\\n\\t<tr>\\n\\t\\t<td>&nbsp;</td>\\n\\t</tr>\\n\\t<tr>\\n\\t\\t<td class=\"titulo3\">capacidad instalada por nivel</td>\\n\\t</tr>\\n\\t<tr>\\n\\t\\t<td>\\n\\t\\t\\t\\t\\t\\t<table cellspacing=\"0\" rules=\"all\" bordercolor=\"#0094C7\" border=\"1\" id=\"_ctl0_ContentPlaceHolder1_dgInforme2\" style=\"background-color:White;border-color:#0094C7;border-collapse:collapse;\">\\n\\t\\t\\t<tbody><tr class=\"tfolder\" align=\"center\" style=\"color:#FFFFEE;\">\\n\\t\\t\\t\\t<td>Nivel</td><td>Concepto</td><td>Cantidad</td><td>Porcentaje</td><td>Promedio</td>\\n\\t\\t\\t</tr>\\n\\t\\t</tbody></table></td>\\n\\t</tr>\\n</tbody></table>\\n\\n\\t\\t</td>\\n\\t</tr>\\n    <tr>\\n        <td>\\n            <span id=\"_ctl0_ContentPlaceHolder1_lblWarning\" class=\"labelNormal\"></span></td>\\n    </tr>\\n</tbody></table>\\n\\n        <br>\\n        <table border=\"0\" cellpadding=\"0\" cellspacing=\"0\">\\n            <tbody><tr>\\n                <td>\\n                    </td>\\n                <td>\\n                    <img id=\"_ctl0_iGrabarFtr\" src=\"../images/grabar_dis.jpg\" align=\"bottom\" style=\"border-width:0px;\"></td>\\n                <td>\\n                    <input type=\"image\" name=\"_ctl0:ibNuevoFtr\" id=\"_ctl0_ibNuevoFtr\" src=\"../images/nuevo.jpg\" alt=\"Nuevo\" align=\"top\" style=\"border-width:0px;\"></td>\\n                <td>\\n                    <input type=\"image\" name=\"_ctl0:ibBuscarFtr\" id=\"_ctl0_ibBuscarFtr\" src=\"../images/buscar.jpg\" alt=\"Buscar\" align=\"bottom\" style=\"border-width:0px;\"></td>\\n                <td>\\n                    </td>\\n                <td>\\n                    </td>\\n                <td>\\n                    <img id=\"_ctl0_iEliminarFtr\" src=\"../images/eliminar_dis.jpg\" align=\"bottom\" style=\"border-width:0px;\"></td>\\n                <td>\\n                    <a id=\"_ctl0_hlAyudaFtr\" title=\"Ayuda\" href=\"/SIHO/ayudas/informes/capacidad.pdf\" target=\"_blank\" style=\"border-width:0px;\"><img title=\"Ayuda\" src=\"../images/ayuda.jpg\" alt=\"HyperLink\" border=\"0\"></a></td>\\n            </tr>\\n        </tbody></table>\\n    </div>\\n    </form>\\n\\n\\n</body></html>'"
      ]
     },
     "execution_count": 346,
     "metadata": {},
     "output_type": "execute_result"
    }
   ],
   "source": [
    "html = driver.page_source\n",
    "html"
   ]
  },
  {
   "cell_type": "code",
   "execution_count": 347,
   "metadata": {},
   "outputs": [],
   "source": [
    "search_select = driver.find_element(By.ID, \"_ctl0_ContentPlaceHolder1_ddano\")\n",
    "select = Select(search_select)\n",
    "select_years = select"
   ]
  },
  {
   "cell_type": "code",
   "execution_count": 348,
   "metadata": {},
   "outputs": [
    {
     "data": {
      "text/plain": [
       "(['2002',\n",
       "  '2003',\n",
       "  '2004',\n",
       "  '2005',\n",
       "  '2006',\n",
       "  '2007',\n",
       "  '2008',\n",
       "  '2009',\n",
       "  '2010',\n",
       "  '2011',\n",
       "  '2012',\n",
       "  '2013',\n",
       "  '2014',\n",
       "  '2015',\n",
       "  '2016',\n",
       "  '2017',\n",
       "  '2018',\n",
       "  '2019',\n",
       "  '2020',\n",
       "  '2021',\n",
       "  '2022'],\n",
       " 21)"
      ]
     },
     "execution_count": 348,
     "metadata": {},
     "output_type": "execute_result"
    }
   ],
   "source": [
    "options_list = select.options\n",
    "options_list_values = [option.get_attribute(\"value\") for option in options_list]\n",
    "options_list_values, len(options_list_values)"
   ]
  },
  {
   "cell_type": "code",
   "execution_count": 349,
   "metadata": {},
   "outputs": [],
   "source": [
    "select.select_by_value(options_list_values[-1])"
   ]
  },
  {
   "cell_type": "code",
   "execution_count": 350,
   "metadata": {},
   "outputs": [
    {
     "data": {
      "text/plain": [
       "'2022'"
      ]
     },
     "execution_count": 350,
     "metadata": {},
     "output_type": "execute_result"
    }
   ],
   "source": [
    "select_years = select\n",
    "year_selected = select.all_selected_options[0].get_attribute(\"value\")\n",
    "year_selected"
   ]
  },
  {
   "cell_type": "code",
   "execution_count": 351,
   "metadata": {},
   "outputs": [
    {
     "data": {
      "text/plain": [
       "True"
      ]
     },
     "execution_count": 351,
     "metadata": {},
     "output_type": "execute_result"
    }
   ],
   "source": [
    "driver.save_screenshot(\"screenshot5.png\")"
   ]
  },
  {
   "cell_type": "code",
   "execution_count": 352,
   "metadata": {},
   "outputs": [],
   "source": [
    "search_select = driver.find_element(By.ID, \"_ctl0_ContentPlaceHolder1_dddepa_codigo\")\n",
    "select = Select(search_select)"
   ]
  },
  {
   "cell_type": "code",
   "execution_count": 353,
   "metadata": {},
   "outputs": [
    {
     "data": {
      "text/plain": [
       "(['',\n",
       "  'Amazonas',\n",
       "  'Antioquia',\n",
       "  'Arauca',\n",
       "  'Archipiélago de San Andrés, Providencia y Santa Catalina',\n",
       "  'Atlántico',\n",
       "  'Barranquilla Distritro Especial',\n",
       "  'Bogotá, D.C.',\n",
       "  'Bolívar',\n",
       "  'Boyacá',\n",
       "  'Buenaventura Distrito Especial',\n",
       "  'Caldas',\n",
       "  'Cali Distrito Especial',\n",
       "  'Caquetá',\n",
       "  'Cartagena Distrito Especial',\n",
       "  'Casanare',\n",
       "  'Cauca',\n",
       "  'Cesar',\n",
       "  'Chocó',\n",
       "  'Córdoba',\n",
       "  'Cundinamarca',\n",
       "  'Guainía',\n",
       "  'Guaviare',\n",
       "  'Huila',\n",
       "  'La Guajira',\n",
       "  'Magdalena',\n",
       "  'Meta',\n",
       "  'Nariño',\n",
       "  'Norte de Santander',\n",
       "  'Putumayo',\n",
       "  'Quindío',\n",
       "  'Risaralda',\n",
       "  'Santa Marta Distrito Especial',\n",
       "  'Santander',\n",
       "  'Sucre',\n",
       "  'Tolima',\n",
       "  'Valle del Cauca',\n",
       "  'Vaupés',\n",
       "  'Vichada'],\n",
       " 39)"
      ]
     },
     "execution_count": 353,
     "metadata": {},
     "output_type": "execute_result"
    }
   ],
   "source": [
    "options_list = select.options\n",
    "options_list_values = [option.text for option in options_list]\n",
    "options_list_values, len(options_list_values)"
   ]
  },
  {
   "cell_type": "code",
   "execution_count": 354,
   "metadata": {},
   "outputs": [],
   "source": [
    "select.select_by_visible_text(options_list_values[0])"
   ]
  },
  {
   "cell_type": "code",
   "execution_count": 355,
   "metadata": {},
   "outputs": [],
   "source": [
    "selected_department = select.all_selected_options[0].text\n",
    "selected_department\n",
    "\n",
    "buscar = selected_department\n",
    "if selected_department == '':\n",
    "    buscar = 'Nacional'"
   ]
  },
  {
   "cell_type": "code",
   "execution_count": 356,
   "metadata": {},
   "outputs": [
    {
     "data": {
      "text/plain": [
       "True"
      ]
     },
     "execution_count": 356,
     "metadata": {},
     "output_type": "execute_result"
    }
   ],
   "source": [
    "driver.save_screenshot(\"screenshot6.png\")"
   ]
  },
  {
   "cell_type": "code",
   "execution_count": 357,
   "metadata": {},
   "outputs": [
    {
     "name": "stdout",
     "output_type": "stream",
     "text": [
      "NACIONAL\n"
     ]
    },
    {
     "data": {
      "text/html": [
       "<div>\n",
       "<style scoped>\n",
       "    .dataframe tbody tr th:only-of-type {\n",
       "        vertical-align: middle;\n",
       "    }\n",
       "\n",
       "    .dataframe tbody tr th {\n",
       "        vertical-align: top;\n",
       "    }\n",
       "\n",
       "    .dataframe thead th {\n",
       "        text-align: right;\n",
       "    }\n",
       "</style>\n",
       "<table border=\"1\" class=\"dataframe\">\n",
       "  <thead>\n",
       "    <tr style=\"text-align: right;\">\n",
       "      <th></th>\n",
       "      <th>Concepto</th>\n",
       "      <th>Cantidad</th>\n",
       "    </tr>\n",
       "  </thead>\n",
       "  <tbody>\n",
       "    <tr>\n",
       "      <th>1</th>\n",
       "      <td>Camas de hospitalización</td>\n",
       "      <td>27.083</td>\n",
       "    </tr>\n",
       "    <tr>\n",
       "      <th>2</th>\n",
       "      <td>Camas de observación</td>\n",
       "      <td>10.468</td>\n",
       "    </tr>\n",
       "    <tr>\n",
       "      <th>3</th>\n",
       "      <td>Consultorios de consulta externa</td>\n",
       "      <td>13.656</td>\n",
       "    </tr>\n",
       "    <tr>\n",
       "      <th>4</th>\n",
       "      <td>Consultorios en el servicio de urgencias</td>\n",
       "      <td>7.213</td>\n",
       "    </tr>\n",
       "    <tr>\n",
       "      <th>5</th>\n",
       "      <td>Salas de quirófanos</td>\n",
       "      <td>548</td>\n",
       "    </tr>\n",
       "    <tr>\n",
       "      <th>6</th>\n",
       "      <td>Mesas de partos</td>\n",
       "      <td>1.072</td>\n",
       "    </tr>\n",
       "    <tr>\n",
       "      <th>7</th>\n",
       "      <td>Número de unidades de odontología</td>\n",
       "      <td>3.806</td>\n",
       "    </tr>\n",
       "  </tbody>\n",
       "</table>\n",
       "</div>"
      ],
      "text/plain": [
       "0                                  Concepto Cantidad\n",
       "1                  Camas de hospitalización   27.083\n",
       "2                      Camas de observación   10.468\n",
       "3          Consultorios de consulta externa   13.656\n",
       "4  Consultorios en el servicio de urgencias    7.213\n",
       "5                       Salas de quirófanos      548\n",
       "6                           Mesas de partos    1.072\n",
       "7         Número de unidades de odontología    3.806"
      ]
     },
     "execution_count": 357,
     "metadata": {},
     "output_type": "execute_result"
    }
   ],
   "source": [
    "search_button = driver.find_element(By.ID, \"_ctl0_ibBuscarFtr\")\n",
    "search_button.click()\n",
    "\n",
    "wait = WebDriverWait(driver, 10)\n",
    "\n",
    "def is_condition_met(driver):\n",
    "    try:\n",
    "        # Replace 'your_expected_value' and 'your_span_id' with the actual values\n",
    "        span_element = driver.find_element(By.ID, \"_ctl0_ContentPlaceHolder1_lblConsulta\")\n",
    "        print(span_element.text)\n",
    "        return span_element.text == buscar.upper()\n",
    "    except:\n",
    "        return False\n",
    "\n",
    "# condition = EC.text_to_be_present_in_element((By.ID, \"_ctl0_ContentPlaceHolder1_lblConsulta\"), selected_department)\n",
    "\n",
    "wait.until(is_condition_met)\n",
    "\n",
    "df = pd.read_html(driver.page_source, attrs={\"id\": \"_ctl0_ContentPlaceHolder1_dgInforme1\"})[0]\n",
    "new_header = df.iloc[0]\n",
    "df = df[1:]\n",
    "df.columns = new_header\n",
    "df"
   ]
  },
  {
   "cell_type": "code",
   "execution_count": 358,
   "metadata": {},
   "outputs": [
    {
     "data": {
      "text/plain": [
       "True"
      ]
     },
     "execution_count": 358,
     "metadata": {},
     "output_type": "execute_result"
    }
   ],
   "source": [
    "driver.save_screenshot(\"screenshot7.png\")"
   ]
  },
  {
   "cell_type": "code",
   "execution_count": 359,
   "metadata": {},
   "outputs": [
    {
     "data": {
      "text/plain": [
       "'<html xmlns=\"http://www.w3.org/1999/xhtml\"><head><title>\\n\\tCapacidad Instalada\\n</title><link href=\"../includes/appestilos.css\" rel=\"stylesheet\"></head>\\n<body bgcolor=\"#ffffff\">\\n    <form name=\"aspnetForm\" method=\"post\" action=\"./capacidadinstaladanacional.aspx?pageTitle=Capacidad+Instalada&amp;pageHlp=%2fSIHO%2fayudas%2finformes%2fcapacidad.pdf\" id=\"aspnetForm\">\\n<input type=\"hidden\" name=\"__VIEWSTATE\" id=\"__VIEWSTATE\" value=\"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\">\\n\\n<input type=\"hidden\" name=\"__VIEWSTATEGENERATOR\" id=\"__VIEWSTATEGENERATOR\" value=\"CDDFEAAA\">\\n<input type=\"hidden\" name=\"__EVENTVALIDATION\" id=\"__EVENTVALIDATION\" value=\"/wEdAEHZGInF+uVGW0RtTGauGz4v9f09lK5A3efx5e+2zoL0c8MnqKGR0rClTZ0V6RZIWXig9AnBtjjkg/VEAneC+d99h9tMfU8e9v1WYol5vWdJI6JRYX1r1HLm+1P+bJpa0Q6UtlKt+I6s0dFKPk1bR4R9/JIrGPbk0YKa3eocll4hPutj5xR1YFL/Uf8mgGvAvIZpdd4Y9hshvYycAsBkL5AK5qJlx/8+plToCkMvNhEfOvf09LlGgOEl7GJZyGi1Xbq7XLALwelQXA89io1tXN2xhYq3aYptZkHdp2HTQZR2OrxPibIic1qF/zAVkz9LJob1CSS9ilBgrPzOwalKkKiDH0gUP3oU716ueOS5MxO7R2aiCUlMlbsxPslWNuO4QO0XbmQLAuYoDFu+QjGv9Tw7Bs/H9MzvYxe4fd6/b3uqlbFjP/RfzZ9mH8XqnyTiIGoxAxZckwPeNh4kuXhUG/aTVYkKNt+UnfMkJmuwxiWyTIuMLOA52knlHouj4jwaT9COzwSpDegbgEWThrj900Tr6u93BoO0Jr2aHejoJ6d4Wu/OxG9jepiD/hwWS86FL2GurwaY3N3EdD7Hz01Y4ZL4XzXFNzxPfSYY7jSjxzGGkU3bxOSbX/eTuvnN65FKn9HLp6Tt2BaDM85pGPnzn3vWmSglbWxg1YXZev2Jj6nF8xXNjbuMoPoMGZ+1ZAtDHC1NyW5q8+xkgObj2PT+A8/kG7J4zUbTeSDrveEUKEjh8YuZnV0N1cuwhlkNAk5kYtNDUgE4hHLgzsq/0Y29KL4wmPMcT16lBftJOJ+/qI0HKcxqicS8jLehycCfsr93IRmkjjkyc2gydAYUIN2YCS6z/W9vLET03InEsEtqSNcdg0d84E12K33ftyoPXafhQ4S6eLunNsskMDPcMQjhtFK8+Ms2BL8UUPPMO9OTuzR7a3vIm49oatLWxVbS02WGBG/FepNG86aHWkvGQEC7CTBmCtPzuFhG24yzmMHzCfPpfxq4d60hPMuu/evl1usYJEukdpbPuDCH6odjciJRUjblivyNGgZmWGO9IKGEVnmYW7mr4cpC2ZEKURz58dt2hHI8HSB/DHFUeyJJFRs1sLHM9ClzmqMqemJ7ZcOATM/+mRAl0PKulRwqHgLBjO7IuAvMx158qChN3SEOrI1wLVF1hxGqcU/G/20od1FbgxZD7QgVBiBWEl0RjHTtpCcTAmI5utmSdkqQLF8EKi0nRbsf/2Gg4pcZBwZk69zUjxVQpcOwV+WXqQG2TJ9mtQDQFDO8WlGpgf8W6DsgyeC3tRbCJcspIvy3TwA9PYE044K0AySy3ZMDBFYf7VZ5oTgXHBdfB6Q//Z504WaHNVEuqY+Sq32b5I2AvK9tM7QwH9pS96yl6WpKD3PBLYepOj0R3vOIKdkTDDPwtM0HMl9PkFaY\">\\n    <div>\\n        <table border=\"0\" cellpadding=\"0\" cellspacing=\"0\">\\n            <tbody><tr>\\n                <td>\\n                    </td>\\n                <td>\\n                    <img id=\"_ctl0_iGrabarHdr\" src=\"../images/grabar_dis.jpg\" align=\"bottom\" style=\"border-width:0px;\"></td>\\n                <td>\\n                    <input type=\"image\" name=\"_ctl0:ibNuevoHdr\" id=\"_ctl0_ibNuevoHdr\" src=\"../images/nuevo.jpg\" alt=\"Nuevo\" align=\"top\" style=\"border-width:0px;\"></td>\\n                <td>\\n                    <input type=\"image\" name=\"_ctl0:ibBuscarHdr\" id=\"_ctl0_ibBuscarHdr\" src=\"../images/buscar.jpg\" alt=\"Buscar\" align=\"bottom\" style=\"border-width:0px;\"></td>\\n                <td>\\n                    </td>\\n                <td>\\n                    </td>\\n                <td>\\n                    <img id=\"_ctl0_iEliminarHdr\" src=\"../images/eliminar_dis.jpg\" align=\"bottom\" style=\"border-width:0px;\"></td>\\n                <td>\\n                    <a id=\"_ctl0_hlAyudaHdr\" title=\"Ayuda\" href=\"/SIHO/ayudas/informes/capacidad.pdf\" target=\"_blank\" style=\"border-width:0px;\"><img title=\"Ayuda\" src=\"../images/ayuda.jpg\" alt=\"HyperLink\" border=\"0\"></a></td>\\n            </tr>\\n        </tbody></table>\\n        <br>\\n        <span id=\"_ctl0_lblTitulo\" class=\"titulo3\">Capacidad Instalada</span><br>\\n        <br>\\n        \\n<table id=\"Table1\" cellspacing=\"0\" cellpadding=\"0\" width=\"90%\" border=\"0\">\\n\\t<tbody><tr>\\n\\t\\t<td>\\n\\t\\t\\t<table id=\"_ctl0_ContentPlaceHolder1_tabForm\" cellspacing=\"0\" cellpadding=\"1\" border=\"0\">\\n\\t<tbody><tr>\\n\\t\\t<td bgcolor=\"#0094C7\">\\n\\t\\t\\t\\t\\t\\t<table id=\"Table2\" cellspacing=\"0\" cellpadding=\"0\" border=\"0\">\\n\\t\\t\\t\\t\\t\\t\\t<tbody><tr>\\n\\t\\t\\t\\t\\t\\t\\t\\t<td bgcolor=\"#ffffff\">\\n\\t\\t\\t\\t\\t\\t\\t\\t\\t<table id=\"Table3\" cellspacing=\"0\" cellpadding=\"2\" align=\"center\" border=\"0\">\\n\\t\\t\\t\\t\\t\\t\\t\\t\\t\\t<tbody><tr>\\n\\t\\t\\t\\t\\t\\t\\t\\t\\t\\t\\t<td>Año</td>\\n\\t\\t\\t\\t\\t\\t\\t\\t\\t\\t\\t<td>\\n\\t\\t\\t\\t\\t\\t\\t\\t\\t\\t\\t\\t<select name=\"_ctl0:ContentPlaceHolder1:ddano\" id=\"_ctl0_ContentPlaceHolder1_ddano\" style=\"width:80px;\">\\n\\t\\t\\t<option value=\"2002\">2002</option>\\n\\t\\t\\t<option value=\"2003\">2003</option>\\n\\t\\t\\t<option value=\"2004\">2004</option>\\n\\t\\t\\t<option value=\"2005\">2005</option>\\n\\t\\t\\t<option value=\"2006\">2006</option>\\n\\t\\t\\t<option value=\"2007\">2007</option>\\n\\t\\t\\t<option value=\"2008\">2008</option>\\n\\t\\t\\t<option value=\"2009\">2009</option>\\n\\t\\t\\t<option value=\"2010\">2010</option>\\n\\t\\t\\t<option value=\"2011\">2011</option>\\n\\t\\t\\t<option value=\"2012\">2012</option>\\n\\t\\t\\t<option value=\"2013\">2013</option>\\n\\t\\t\\t<option value=\"2014\">2014</option>\\n\\t\\t\\t<option value=\"2015\">2015</option>\\n\\t\\t\\t<option value=\"2016\">2016</option>\\n\\t\\t\\t<option value=\"2017\">2017</option>\\n\\t\\t\\t<option value=\"2018\">2018</option>\\n\\t\\t\\t<option value=\"2019\">2019</option>\\n\\t\\t\\t<option value=\"2020\">2020</option>\\n\\t\\t\\t<option value=\"2021\">2021</option>\\n\\t\\t\\t<option selected=\"selected\" value=\"2022\">2022</option>\\n\\n\\t\\t</select></td>\\n\\t\\t\\t\\t\\t\\t\\t\\t\\t\\t</tr>\\n\\t\\t\\t\\t\\t\\t\\t\\t\\t\\t<tr>\\n\\t\\t\\t\\t\\t\\t\\t\\t\\t\\t\\t<td>Departamento</td>\\n\\t\\t\\t\\t\\t\\t\\t\\t\\t\\t\\t<td>\\n\\t\\t\\t\\t\\t\\t\\t\\t\\t\\t\\t\\t<select name=\"_ctl0:ContentPlaceHolder1:dddepa_codigo\" id=\"_ctl0_ContentPlaceHolder1_dddepa_codigo\" style=\"width:140px;\">\\n\\t\\t\\t<option selected=\"selected\" value=\"\"></option>\\n\\t\\t\\t<option value=\"91\">Amazonas</option>\\n\\t\\t\\t<option value=\"05\">Antioquia</option>\\n\\t\\t\\t<option value=\"81\">Arauca</option>\\n\\t\\t\\t<option value=\"88\">Archipiélago de San Andrés, Providencia y Santa Catalina</option>\\n\\t\\t\\t<option value=\"08\">Atlántico</option>\\n\\t\\t\\t<option value=\"09\">Barranquilla Distritro Especial</option>\\n\\t\\t\\t<option value=\"11\">Bogotá, D.C.</option>\\n\\t\\t\\t<option value=\"13\">Bolívar</option>\\n\\t\\t\\t<option value=\"15\">Boyacá</option>\\n\\t\\t\\t<option value=\"77\">Buenaventura Distrito Especial</option>\\n\\t\\t\\t<option value=\"17\">Caldas</option>\\n\\t\\t\\t<option value=\"78\">Cali Distrito Especial</option>\\n\\t\\t\\t<option value=\"18\">Caquetá</option>\\n\\t\\t\\t<option value=\"14\">Cartagena Distrito Especial</option>\\n\\t\\t\\t<option value=\"85\">Casanare</option>\\n\\t\\t\\t<option value=\"19\">Cauca</option>\\n\\t\\t\\t<option value=\"20\">Cesar</option>\\n\\t\\t\\t<option value=\"27\">Chocó</option>\\n\\t\\t\\t<option value=\"23\">Córdoba</option>\\n\\t\\t\\t<option value=\"25\">Cundinamarca</option>\\n\\t\\t\\t<option value=\"94\">Guainía</option>\\n\\t\\t\\t<option value=\"95\">Guaviare</option>\\n\\t\\t\\t<option value=\"41\">Huila</option>\\n\\t\\t\\t<option value=\"44\">La Guajira</option>\\n\\t\\t\\t<option value=\"47\">Magdalena</option>\\n\\t\\t\\t<option value=\"50\">Meta</option>\\n\\t\\t\\t<option value=\"52\">Nariño</option>\\n\\t\\t\\t<option value=\"54\">Norte de Santander</option>\\n\\t\\t\\t<option value=\"86\">Putumayo</option>\\n\\t\\t\\t<option value=\"63\">Quindío</option>\\n\\t\\t\\t<option value=\"66\">Risaralda</option>\\n\\t\\t\\t<option value=\"48\">Santa Marta Distrito Especial</option>\\n\\t\\t\\t<option value=\"68\">Santander</option>\\n\\t\\t\\t<option value=\"70\">Sucre</option>\\n\\t\\t\\t<option value=\"73\">Tolima</option>\\n\\t\\t\\t<option value=\"76\">Valle del Cauca</option>\\n\\t\\t\\t<option value=\"97\">Vaupés</option>\\n\\t\\t\\t<option value=\"99\">Vichada</option>\\n\\n\\t\\t</select></td>\\n\\t\\t\\t\\t\\t\\t\\t\\t\\t\\t</tr>\\n\\t\\t\\t\\t\\t\\t\\t\\t\\t\\t<tr>\\n\\t\\t\\t\\t\\t\\t\\t\\t\\t\\t\\t<td colspan=\"2\">&nbsp;</td>\\n\\t\\t\\t\\t\\t\\t\\t\\t\\t\\t</tr>\\n\\t\\t\\t\\t\\t\\t\\t\\t\\t\\t<tr>\\n\\t\\t\\t\\t\\t\\t\\t\\t\\t\\t\\t<td align=\"center\" colspan=\"2\"></td>\\n\\t\\t\\t\\t\\t\\t\\t\\t\\t\\t</tr>\\n\\t\\t\\t\\t\\t\\t\\t\\t\\t</tbody></table>\\n\\t\\t\\t\\t\\t\\t\\t\\t</td>\\n\\t\\t\\t\\t\\t\\t\\t</tr>\\n\\t\\t\\t\\t\\t\\t</tbody></table>\\n\\t\\t\\t\\t\\t</td>\\n\\t</tr>\\n</tbody></table>\\n\\n\\t\\t</td>\\n\\t</tr>\\n\\t<tr>\\n\\t\\t<td>&nbsp;</td>\\n\\t</tr>\\n\\t<tr>\\n\\t\\t<td>\\n\\t\\t\\t<table id=\"_ctl0_ContentPlaceHolder1_tabGrid\" style=\"DISPLAY: block;\" cellspacing=\"0\" cellpadding=\"1\" border=\"0\">\\n\\t<tbody><tr>\\n\\t\\t<td class=\"titulo3\">Capacidad instaladA\\n\\t\\t\\t\\t\\t\\t<span id=\"_ctl0_ContentPlaceHolder1_lblConsulta\" class=\"titulo3\">Nacional</span></td>\\n\\t</tr>\\n\\t<tr>\\n\\t\\t<td>\\n\\t\\t\\t\\t\\t\\t<table cellspacing=\"0\" rules=\"all\" bordercolor=\"#0094C7\" border=\"1\" id=\"_ctl0_ContentPlaceHolder1_dgInforme1\" style=\"background-color:White;border-color:#0094C7;border-collapse:collapse;\">\\n\\t\\t\\t<tbody><tr class=\"tfolder\" align=\"center\" style=\"color:#FFFFEE;\">\\n\\t\\t\\t\\t<td>Concepto</td><td>Cantidad</td>\\n\\t\\t\\t</tr><tr>\\n\\t\\t\\t\\t<td>Camas de hospitalización</td><td align=\"right\">27.083</td>\\n\\t\\t\\t</tr><tr>\\n\\t\\t\\t\\t<td>Camas de observación</td><td align=\"right\">10.468</td>\\n\\t\\t\\t</tr><tr>\\n\\t\\t\\t\\t<td>Consultorios de consulta externa</td><td align=\"right\">13.656</td>\\n\\t\\t\\t</tr><tr>\\n\\t\\t\\t\\t<td>Consultorios en el servicio de urgencias</td><td align=\"right\">7.213</td>\\n\\t\\t\\t</tr><tr>\\n\\t\\t\\t\\t<td>Salas de quirófanos</td><td align=\"right\">548</td>\\n\\t\\t\\t</tr><tr>\\n\\t\\t\\t\\t<td>Mesas de partos</td><td align=\"right\">1.072</td>\\n\\t\\t\\t</tr><tr>\\n\\t\\t\\t\\t<td>Número de unidades de odontología</td><td align=\"right\">3.806</td>\\n\\t\\t\\t</tr>\\n\\t\\t</tbody></table></td>\\n\\t</tr>\\n\\t<tr>\\n\\t\\t<td>&nbsp;</td>\\n\\t</tr>\\n\\t<tr>\\n\\t\\t<td class=\"titulo3\">capacidad instalada por nivel</td>\\n\\t</tr>\\n\\t<tr>\\n\\t\\t<td>\\n\\t\\t\\t\\t\\t\\t<table cellspacing=\"0\" rules=\"all\" bordercolor=\"#0094C7\" border=\"1\" id=\"_ctl0_ContentPlaceHolder1_dgInforme2\" style=\"background-color:White;border-color:#0094C7;border-collapse:collapse;\">\\n\\t\\t\\t<tbody><tr class=\"tfolder\" align=\"center\" style=\"color:#FFFFEE;\">\\n\\t\\t\\t\\t<td>Nivel</td><td>Concepto</td><td>Cantidad</td><td>Porcentaje</td><td>Promedio</td>\\n\\t\\t\\t</tr><tr>\\n\\t\\t\\t\\t<td align=\"center\">1</td><td>Camas de hospitalización</td><td align=\"right\">7.417</td><td align=\"right\">27,36</td><td align=\"right\">9,42</td>\\n\\t\\t\\t</tr><tr>\\n\\t\\t\\t\\t<td align=\"center\">2</td><td>Camas de hospitalización</td><td align=\"right\">10.560</td><td align=\"right\">38,95</td><td align=\"right\">96,00</td>\\n\\t\\t\\t</tr><tr>\\n\\t\\t\\t\\t<td align=\"center\">3</td><td>Camas de hospitalización</td><td align=\"right\">8.936</td><td align=\"right\">32,96</td><td align=\"right\">343,69</td>\\n\\t\\t\\t</tr><tr>\\n\\t\\t\\t\\t<td align=\"center\">9</td><td>Camas de hospitalización</td><td align=\"right\">170</td><td align=\"right\">0,63</td><td align=\"right\">15,45</td>\\n\\t\\t\\t</tr><tr>\\n\\t\\t\\t\\t<td align=\"center\">1</td><td>Camas de observación</td><td align=\"right\">5.393</td><td align=\"right\">51,41</td><td align=\"right\">6,85</td>\\n\\t\\t\\t</tr><tr>\\n\\t\\t\\t\\t<td align=\"center\">2</td><td>Camas de observación</td><td align=\"right\">2.824</td><td align=\"right\">26,92</td><td align=\"right\">25,67</td>\\n\\t\\t\\t</tr><tr>\\n\\t\\t\\t\\t<td align=\"center\">3</td><td>Camas de observación</td><td align=\"right\">2.152</td><td align=\"right\">20,51</td><td align=\"right\">82,77</td>\\n\\t\\t\\t</tr><tr>\\n\\t\\t\\t\\t<td align=\"center\">9</td><td>Camas de observación</td><td align=\"right\">99</td><td align=\"right\">0,94</td><td align=\"right\">9,00</td>\\n\\t\\t\\t</tr><tr>\\n\\t\\t\\t\\t<td align=\"center\">1</td><td>Consultorios de consulta externa</td><td align=\"right\">9.322</td><td align=\"right\">68,19</td><td align=\"right\">11,84</td>\\n\\t\\t\\t</tr><tr>\\n\\t\\t\\t\\t<td align=\"center\">2</td><td>Consultorios de consulta externa</td><td align=\"right\">2.638</td><td align=\"right\">19,30</td><td align=\"right\">23,98</td>\\n\\t\\t\\t</tr><tr>\\n\\t\\t\\t\\t<td align=\"center\">3</td><td>Consultorios de consulta externa</td><td align=\"right\">1.595</td><td align=\"right\">11,67</td><td align=\"right\">61,35</td>\\n\\t\\t\\t</tr><tr>\\n\\t\\t\\t\\t<td align=\"center\">9</td><td>Consultorios de consulta externa</td><td align=\"right\">101</td><td align=\"right\">0,74</td><td align=\"right\">9,18</td>\\n\\t\\t\\t</tr><tr>\\n\\t\\t\\t\\t<td align=\"center\">1</td><td>Consultorios en el servicio de urgencias</td><td align=\"right\">6.531</td><td align=\"right\">90,48</td><td align=\"right\">8,30</td>\\n\\t\\t\\t</tr><tr>\\n\\t\\t\\t\\t<td align=\"center\">2</td><td>Consultorios en el servicio de urgencias</td><td align=\"right\">433</td><td align=\"right\">6,00</td><td align=\"right\">3,94</td>\\n\\t\\t\\t</tr><tr>\\n\\t\\t\\t\\t<td align=\"center\">3</td><td>Consultorios en el servicio de urgencias</td><td align=\"right\">224</td><td align=\"right\">3,10</td><td align=\"right\">8,62</td>\\n\\t\\t\\t</tr><tr>\\n\\t\\t\\t\\t<td align=\"center\">9</td><td>Consultorios en el servicio de urgencias</td><td align=\"right\">25</td><td align=\"right\">0,35</td><td align=\"right\">2,27</td>\\n\\t\\t\\t</tr><tr>\\n\\t\\t\\t\\t<td align=\"center\">1</td><td>Salas de quirófanos</td><td align=\"right\">53</td><td align=\"right\">9,65</td><td align=\"right\">0,07</td>\\n\\t\\t\\t</tr><tr>\\n\\t\\t\\t\\t<td align=\"center\">2</td><td>Salas de quirófanos</td><td align=\"right\">275</td><td align=\"right\">50,09</td><td align=\"right\">2,50</td>\\n\\t\\t\\t</tr><tr>\\n\\t\\t\\t\\t<td align=\"center\">3</td><td>Salas de quirófanos</td><td align=\"right\">214</td><td align=\"right\">38,98</td><td align=\"right\">8,23</td>\\n\\t\\t\\t</tr><tr>\\n\\t\\t\\t\\t<td align=\"center\">9</td><td>Salas de quirófanos</td><td align=\"right\">6</td><td align=\"right\">1,09</td><td align=\"right\">0,55</td>\\n\\t\\t\\t</tr><tr>\\n\\t\\t\\t\\t<td align=\"center\">1</td><td>Mesas de partos</td><td align=\"right\">855</td><td align=\"right\">79,46</td><td align=\"right\">1,09</td>\\n\\t\\t\\t</tr><tr>\\n\\t\\t\\t\\t<td align=\"center\">2</td><td>Mesas de partos</td><td align=\"right\">150</td><td align=\"right\">13,94</td><td align=\"right\">1,36</td>\\n\\t\\t\\t</tr><tr>\\n\\t\\t\\t\\t<td align=\"center\">3</td><td>Mesas de partos</td><td align=\"right\">51</td><td align=\"right\">4,74</td><td align=\"right\">1,96</td>\\n\\t\\t\\t</tr><tr>\\n\\t\\t\\t\\t<td align=\"center\">9</td><td>Mesas de partos</td><td align=\"right\">16</td><td align=\"right\">1,49</td><td align=\"right\">1,45</td>\\n\\t\\t\\t</tr><tr>\\n\\t\\t\\t\\t<td align=\"center\">1</td><td>Número de unidades de odontología</td><td align=\"right\">3.067</td><td align=\"right\">80,44</td><td align=\"right\">3,90</td>\\n\\t\\t\\t</tr><tr>\\n\\t\\t\\t\\t<td align=\"center\">2</td><td>Número de unidades de odontología</td><td align=\"right\">477</td><td align=\"right\">12,51</td><td align=\"right\">4,34</td>\\n\\t\\t\\t</tr><tr>\\n\\t\\t\\t\\t<td align=\"center\">3</td><td>Número de unidades de odontología</td><td align=\"right\">236</td><td align=\"right\">6,19</td><td align=\"right\">9,08</td>\\n\\t\\t\\t</tr><tr>\\n\\t\\t\\t\\t<td align=\"center\">9</td><td>Número de unidades de odontología</td><td align=\"right\">26</td><td align=\"right\">0,68</td><td align=\"right\">2,36</td>\\n\\t\\t\\t</tr>\\n\\t\\t</tbody></table></td>\\n\\t</tr>\\n</tbody></table>\\n\\n\\t\\t</td>\\n\\t</tr>\\n    <tr>\\n        <td>\\n            <span id=\"_ctl0_ContentPlaceHolder1_lblWarning\" class=\"labelNormal\">Información del año 2022 en proceso de verificación y certificación.</span></td>\\n    </tr>\\n</tbody></table>\\n\\n        <br>\\n        <table border=\"0\" cellpadding=\"0\" cellspacing=\"0\">\\n            <tbody><tr>\\n                <td>\\n                    </td>\\n                <td>\\n                    <img id=\"_ctl0_iGrabarFtr\" src=\"../images/grabar_dis.jpg\" align=\"bottom\" style=\"border-width:0px;\"></td>\\n                <td>\\n                    <input type=\"image\" name=\"_ctl0:ibNuevoFtr\" id=\"_ctl0_ibNuevoFtr\" src=\"../images/nuevo.jpg\" alt=\"Nuevo\" align=\"top\" style=\"border-width:0px;\"></td>\\n                <td>\\n                    <input type=\"image\" name=\"_ctl0:ibBuscarFtr\" id=\"_ctl0_ibBuscarFtr\" src=\"../images/buscar.jpg\" alt=\"Buscar\" align=\"bottom\" style=\"border-width:0px;\"></td>\\n                <td>\\n                    </td>\\n                <td>\\n                    </td>\\n                <td>\\n                    <img id=\"_ctl0_iEliminarFtr\" src=\"../images/eliminar_dis.jpg\" align=\"bottom\" style=\"border-width:0px;\"></td>\\n                <td>\\n                    <a id=\"_ctl0_hlAyudaFtr\" title=\"Ayuda\" href=\"/SIHO/ayudas/informes/capacidad.pdf\" target=\"_blank\" style=\"border-width:0px;\"><img title=\"Ayuda\" src=\"../images/ayuda.jpg\" alt=\"HyperLink\" border=\"0\"></a></td>\\n            </tr>\\n        </tbody></table>\\n    </div>\\n    </form>\\n\\n\\n</body></html>'"
      ]
     },
     "execution_count": 359,
     "metadata": {},
     "output_type": "execute_result"
    }
   ],
   "source": [
    "html = driver.page_source\n",
    "html"
   ]
  },
  {
   "cell_type": "code",
   "execution_count": 363,
   "metadata": {},
   "outputs": [
    {
     "data": {
      "text/html": [
       "<div>\n",
       "<style scoped>\n",
       "    .dataframe tbody tr th:only-of-type {\n",
       "        vertical-align: middle;\n",
       "    }\n",
       "\n",
       "    .dataframe tbody tr th {\n",
       "        vertical-align: top;\n",
       "    }\n",
       "\n",
       "    .dataframe thead th {\n",
       "        text-align: right;\n",
       "    }\n",
       "</style>\n",
       "<table border=\"1\" class=\"dataframe\">\n",
       "  <thead>\n",
       "    <tr style=\"text-align: right;\">\n",
       "      <th></th>\n",
       "      <th>Departamento</th>\n",
       "      <th>Anio</th>\n",
       "      <th>Concepto</th>\n",
       "      <th>Cantidad</th>\n",
       "    </tr>\n",
       "  </thead>\n",
       "  <tbody>\n",
       "    <tr>\n",
       "      <th>1</th>\n",
       "      <td>Nacional</td>\n",
       "      <td>2022</td>\n",
       "      <td>Camas de hospitalización</td>\n",
       "      <td>27.083</td>\n",
       "    </tr>\n",
       "    <tr>\n",
       "      <th>2</th>\n",
       "      <td>Nacional</td>\n",
       "      <td>2022</td>\n",
       "      <td>Camas de observación</td>\n",
       "      <td>10.468</td>\n",
       "    </tr>\n",
       "    <tr>\n",
       "      <th>3</th>\n",
       "      <td>Nacional</td>\n",
       "      <td>2022</td>\n",
       "      <td>Consultorios de consulta externa</td>\n",
       "      <td>13.656</td>\n",
       "    </tr>\n",
       "    <tr>\n",
       "      <th>4</th>\n",
       "      <td>Nacional</td>\n",
       "      <td>2022</td>\n",
       "      <td>Consultorios en el servicio de urgencias</td>\n",
       "      <td>7.213</td>\n",
       "    </tr>\n",
       "    <tr>\n",
       "      <th>5</th>\n",
       "      <td>Nacional</td>\n",
       "      <td>2022</td>\n",
       "      <td>Salas de quirófanos</td>\n",
       "      <td>548</td>\n",
       "    </tr>\n",
       "    <tr>\n",
       "      <th>6</th>\n",
       "      <td>Nacional</td>\n",
       "      <td>2022</td>\n",
       "      <td>Mesas de partos</td>\n",
       "      <td>1.072</td>\n",
       "    </tr>\n",
       "    <tr>\n",
       "      <th>7</th>\n",
       "      <td>Nacional</td>\n",
       "      <td>2022</td>\n",
       "      <td>Número de unidades de odontología</td>\n",
       "      <td>3.806</td>\n",
       "    </tr>\n",
       "  </tbody>\n",
       "</table>\n",
       "</div>"
      ],
      "text/plain": [
       "0 Departamento  Anio                                  Concepto Cantidad\n",
       "1     Nacional  2022                  Camas de hospitalización   27.083\n",
       "2     Nacional  2022                      Camas de observación   10.468\n",
       "3     Nacional  2022          Consultorios de consulta externa   13.656\n",
       "4     Nacional  2022  Consultorios en el servicio de urgencias    7.213\n",
       "5     Nacional  2022                       Salas de quirófanos      548\n",
       "6     Nacional  2022                           Mesas de partos    1.072\n",
       "7     Nacional  2022         Número de unidades de odontología    3.806"
      ]
     },
     "execution_count": 363,
     "metadata": {},
     "output_type": "execute_result"
    }
   ],
   "source": [
    "df = pd.read_html(driver.page_source, attrs={\"id\": \"_ctl0_ContentPlaceHolder1_dgInforme1\"})[0]\n",
    "new_header = df.iloc[0]\n",
    "df = df[1:]\n",
    "df.columns = new_header\n",
    "df['Departamento'] = buscar\n",
    "df['Anio'] = year_selected\n",
    "df = df[['Departamento', 'Anio', 'Concepto', 'Cantidad']]\n",
    "df"
   ]
  },
  {
   "cell_type": "code",
   "execution_count": null,
   "metadata": {},
   "outputs": [
    {
     "data": {
      "text/html": [
       "<div>\n",
       "<style scoped>\n",
       "    .dataframe tbody tr th:only-of-type {\n",
       "        vertical-align: middle;\n",
       "    }\n",
       "\n",
       "    .dataframe tbody tr th {\n",
       "        vertical-align: top;\n",
       "    }\n",
       "\n",
       "    .dataframe thead th {\n",
       "        text-align: right;\n",
       "    }\n",
       "</style>\n",
       "<table border=\"1\" class=\"dataframe\">\n",
       "  <thead>\n",
       "    <tr style=\"text-align: right;\">\n",
       "      <th></th>\n",
       "      <th>0</th>\n",
       "      <th>1</th>\n",
       "      <th>2</th>\n",
       "      <th>3</th>\n",
       "      <th>4</th>\n",
       "    </tr>\n",
       "  </thead>\n",
       "  <tbody>\n",
       "    <tr>\n",
       "      <th>0</th>\n",
       "      <td>Nivel</td>\n",
       "      <td>Concepto</td>\n",
       "      <td>Cantidad</td>\n",
       "      <td>Porcentaje</td>\n",
       "      <td>Promedio</td>\n",
       "    </tr>\n",
       "    <tr>\n",
       "      <th>1</th>\n",
       "      <td>2</td>\n",
       "      <td>Camas de hospitalización</td>\n",
       "      <td>77</td>\n",
       "      <td>028</td>\n",
       "      <td>7700</td>\n",
       "    </tr>\n",
       "    <tr>\n",
       "      <th>2</th>\n",
       "      <td>2</td>\n",
       "      <td>Camas de observación</td>\n",
       "      <td>6</td>\n",
       "      <td>006</td>\n",
       "      <td>600</td>\n",
       "    </tr>\n",
       "    <tr>\n",
       "      <th>3</th>\n",
       "      <td>2</td>\n",
       "      <td>Consultorios de consulta externa</td>\n",
       "      <td>24</td>\n",
       "      <td>018</td>\n",
       "      <td>2400</td>\n",
       "    </tr>\n",
       "    <tr>\n",
       "      <th>4</th>\n",
       "      <td>2</td>\n",
       "      <td>Consultorios en el servicio de urgencias</td>\n",
       "      <td>5</td>\n",
       "      <td>007</td>\n",
       "      <td>500</td>\n",
       "    </tr>\n",
       "    <tr>\n",
       "      <th>5</th>\n",
       "      <td>2</td>\n",
       "      <td>Salas de quirófanos</td>\n",
       "      <td>2</td>\n",
       "      <td>036</td>\n",
       "      <td>200</td>\n",
       "    </tr>\n",
       "    <tr>\n",
       "      <th>6</th>\n",
       "      <td>2</td>\n",
       "      <td>Mesas de partos</td>\n",
       "      <td>5</td>\n",
       "      <td>046</td>\n",
       "      <td>500</td>\n",
       "    </tr>\n",
       "    <tr>\n",
       "      <th>7</th>\n",
       "      <td>2</td>\n",
       "      <td>Número de unidades de odontología</td>\n",
       "      <td>7</td>\n",
       "      <td>018</td>\n",
       "      <td>700</td>\n",
       "    </tr>\n",
       "  </tbody>\n",
       "</table>\n",
       "</div>"
      ],
      "text/plain": [
       "       0                                         1         2           3  \\\n",
       "0  Nivel                                  Concepto  Cantidad  Porcentaje   \n",
       "1      2                  Camas de hospitalización        77         028   \n",
       "2      2                      Camas de observación         6         006   \n",
       "3      2          Consultorios de consulta externa        24         018   \n",
       "4      2  Consultorios en el servicio de urgencias         5         007   \n",
       "5      2                       Salas de quirófanos         2         036   \n",
       "6      2                           Mesas de partos         5         046   \n",
       "7      2         Número de unidades de odontología         7         018   \n",
       "\n",
       "          4  \n",
       "0  Promedio  \n",
       "1      7700  \n",
       "2       600  \n",
       "3      2400  \n",
       "4       500  \n",
       "5       200  \n",
       "6       500  \n",
       "7       700  "
      ]
     },
     "execution_count": 33,
     "metadata": {},
     "output_type": "execute_result"
    }
   ],
   "source": [
    "df = pd.read_html(driver.page_source, attrs={\"id\": \"_ctl0_ContentPlaceHolder1_dgInforme2\"})[0]\n",
    "df"
   ]
  },
  {
   "cell_type": "code",
   "execution_count": null,
   "metadata": {},
   "outputs": [],
   "source": [
    "driver.quit()"
   ]
  }
 ],
 "metadata": {
  "kernelspec": {
   "display_name": "env",
   "language": "python",
   "name": "python3"
  },
  "language_info": {
   "codemirror_mode": {
    "name": "ipython",
    "version": 3
   },
   "file_extension": ".py",
   "mimetype": "text/x-python",
   "name": "python",
   "nbconvert_exporter": "python",
   "pygments_lexer": "ipython3",
   "version": "3.10.6"
  },
  "orig_nbformat": 4
 },
 "nbformat": 4,
 "nbformat_minor": 2
}
