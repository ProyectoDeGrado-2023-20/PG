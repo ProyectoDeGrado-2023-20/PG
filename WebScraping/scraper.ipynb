{
 "cells": [
  {
   "cell_type": "code",
   "execution_count": 25,
   "metadata": {},
   "outputs": [],
   "source": [
    "from bs4 import BeautifulSoup\n",
    "from selenium import webdriver\n",
    "from selenium.webdriver.common.by import By\n",
    "from selenium.webdriver.support.select import Select"
   ]
  },
  {
   "cell_type": "code",
   "execution_count": 2,
   "metadata": {},
   "outputs": [],
   "source": [
    "siho_url = \"https://prestadores.minsalud.gov.co/SIHO/\""
   ]
  },
  {
   "cell_type": "code",
   "execution_count": 3,
   "metadata": {},
   "outputs": [],
   "source": [
    "options = webdriver.ChromeOptions()\n",
    "options.add_argument('--ignore-certificate-errors')\n",
    "options.add_argument('--incognito')\n",
    "options.add_argument('--headless')\n",
    "driver = webdriver.Chrome(options)"
   ]
  },
  {
   "cell_type": "code",
   "execution_count": 4,
   "metadata": {},
   "outputs": [],
   "source": [
    "driver.get(siho_url)"
   ]
  },
  {
   "cell_type": "code",
   "execution_count": 5,
   "metadata": {},
   "outputs": [
    {
     "data": {
      "text/plain": [
       "True"
      ]
     },
     "execution_count": 5,
     "metadata": {},
     "output_type": "execute_result"
    }
   ],
   "source": [
    "driver.save_screenshot(\"screenshot1.png\")"
   ]
  },
  {
   "cell_type": "code",
   "execution_count": 6,
   "metadata": {},
   "outputs": [
    {
     "data": {
      "text/plain": [
       "'<html><head>\\n\\t\\t<title>Información de Hospitales :: Dirección de Prestación de Servicios y Atención Primaria :: Ministerio de Salud y Protección Social</title>\\n\\t\\t<meta content=\"text/html; charset=windows-1252\" http-equiv=\"Content-Type\">\\n\\t\\t<meta name=\"description\" content=\"SIHO :: Sistema de Información Hospitalaria de la Dirección de Prestación de Servicios y Atención Primaria del Ministerio de Salud y Protección Social de Colombia.\">\\n\\t\\t<meta name=\"keywords\" content=\"Gestion, Hospitales, Publicos, SIHO, Proteccion, Social, Decreto 2193\">\\n        <link rel=\"SHORTCUT ICON\" href=\"images/siho.ico\">\\n\\t\\t<!--meta http-equiv=\"refresh\" content=\"5;url=/pubs\"-->\\n<!--\\n// Author: Germán Ricardo Aragón Ospina (garagonospina@hotmail.com)\\n// Update: 2010/05/31\\n// Actualización:   2012/01/13 Jail Tao Ortiz\\n//-->\\n\\t</head>\\n\\t<frameset border=\"0\" frameborder=\"0\" framespacing=\"0\" rows=\"70,*,18\">\\n\\t\\t<frame marginheight=\"1\" marginwidth=\"1\" name=\"areatop\" noresize=\"\" scrolling=\"no\" src=\"top.htm\">\\n\\t\\t<frame marginheight=\"20\" marginwidth=\"10\" name=\"areawork\" noresize=\"\" src=\"work.aspx\">\\n\\t\\t<frame marginheight=\"0\" marginwidth=\"0\" name=\"areastatus\" noresize=\"\" scrolling=\"no\" src=\"status.aspx\">\\n\\t</frameset>\\n</html>'"
      ]
     },
     "execution_count": 6,
     "metadata": {},
     "output_type": "execute_result"
    }
   ],
   "source": [
    "html = driver.page_source\n",
    "html"
   ]
  },
  {
   "cell_type": "code",
   "execution_count": 7,
   "metadata": {},
   "outputs": [],
   "source": [
    "frame_elements = driver.find_elements(By.TAG_NAME, \"frame\")"
   ]
  },
  {
   "cell_type": "code",
   "execution_count": 8,
   "metadata": {},
   "outputs": [],
   "source": [
    "driver.switch_to.frame(frame_elements[1])"
   ]
  },
  {
   "cell_type": "code",
   "execution_count": 9,
   "metadata": {},
   "outputs": [
    {
     "data": {
      "text/plain": [
       "'<html><head>\\n\\t\\t<title>work</title>\\n\\t\\t<meta content=\"Microsoft Visual Studio .NET 7.1\" name=\"GENERATOR\">\\n\\t\\t<meta content=\"C#\" name=\"CODE_LANGUAGE\">\\n\\t\\t<meta content=\"JavaScript\" name=\"vs_defaultClientScript\">\\n\\t\\t<meta content=\"http://schemas.microsoft.com/intellisense/ie5\" name=\"vs_targetSchema\">\\n\\t\\t<link href=\"includes/appestilos.css\" rel=\"stylesheet\">\\n\\t\\t<script language=\"javascript\">\\nfunction syncFrames()\\n{\\n/*\\n\\tif (top.opener)\\n\\t\\t{\\n\\t\\ttop.opener.location.href=\\'/SIHO/work.aspx?tOut=true\\';\\n\\t\\ttop.opener.focus();\\n\\t\\twindow.close();\\n\\t\\t}\\n\\telse\\n\\t\\ttop.parent.areastatus.location = \\'status.aspx\\';\\n*/\\n\\tif (window.document.Form1.tbid_usuario.value == \\'\\')\\n\\t   {\\n\\t   window.document.Form1.tbid_usuario.value=\\'invitado\\';\\n\\t   window.document.Form1.tbcontrasena.value=\\'invitado\\';\\n\\t   }\\n/*\\telse*/\\n\\t   top.parent.areastatus.location = \\'status.aspx\\';\\n\\n}\\n\\nfunction help()\\n{\\n\\turl=\"ayudas/ayudageneral.pdf\";\\n\\tnombre=\"ayuda\";\\n\\tatributos=\"toolbar=no,location=no,status=no,menubar=no,scrollbars=no,resizable=yes,width=350,height=300\";\\n\\tif (top.ayuda)\\n\\t\\ttop.ayuda.focus();\\n\\telse\\n\\t\\twindow.open(url,nombre,atributos);\\n}\\n\\nfunction about()\\n{\\n   url=\"acercade.htm\";\\n   nombre=\"acercade\";\\n   atributos=\"toolbar=no,location=no,status=no,menubar=no,scrollbars=no,resizable=no,width=350,height=300\";\\n   if (top.acercade)\\n      top.acercade.focus();\\n   else\\n      window.open(url,nombre,atributos);\\nreturn;\\n}\\n\\nfunction salir()\\n{\\n      top.window.close();\\nreturn;\\n}\\n\\nfunction reporte()\\n{\\n\\turl=\"ayudas/ReporteCumplimiento_2022.pdf\";\\n\\tnombre=\"ReporteCumplimiento\";\\n\\tatributos=\"toolbar=no,location=no,status=no,menubar=no,scrollbars=no,resizable=yes,width=350,height=300\";\\n\\tif (top.ReporteCumplimiento)\\n\\t\\ttop.ReporteCumplimiento.focus();\\n\\telse\\n\\t\\twindow.open(url,nombre,atributos);\\n}\\n\\nfunction doOutLine(object)\\n{\\n   var targetElement;\\n   var obj = object.name;\\n   targetElement = document.all(obj + \\'Child\\');\\n\\n   if (targetElement.style.display == \"block\")\\n      targetElement.style.display = \"none\";\\n   else\\n      targetElement.style.display = \"block\";\\n}\\n\\n\\t\\t</script>\\n\\t</head>\\n\\t<body bgcolor=\"#ffffff\" onload=\"syncFrames()\" marginwidth=\"10\" marginheight=\"20\">\\n\\t\\t<form name=\"Form1\" method=\"post\" action=\"./work.aspx\" id=\"Form1\">\\n<input type=\"hidden\" name=\"__VIEWSTATE\" id=\"__VIEWSTATE\" value=\"/wEPDwUJOTQyMzIxOTI3ZGTGVG3tnitgCzgmmr+jUwlcJpL2G1x64lNaZXhP6QtMrQ==\">\\n\\n<input type=\"hidden\" name=\"__VIEWSTATEGENERATOR\" id=\"__VIEWSTATEGENERATOR\" value=\"1532DAF9\">\\n<input type=\"hidden\" name=\"__EVENTVALIDATION\" id=\"__EVENTVALIDATION\" value=\"/wEdAASavozIRsHDpfTlMqyR+vV4N+LQ/gIVG6ifezZMWCXUi8o0G4mKGyw5Q/PBQb3URA9t8fuKsCMPoOSzzbQvlqRNVf3qVECr6ae2A7I9FpJn8yoCyzYR+kelIO/7CNCZLYY=\">\\n\\t\\t\\t<table cellspacing=\"0\" cellpadding=\"0\" width=\"100%\" border=\"0\">\\n\\t\\t\\t\\t<tbody><tr>\\n\\t\\t\\t\\t\\t<td valign=\"top\">\\n\\t\\t\\t\\t\\t\\t<!--Mensaje encima de login-->\\n\\t\\t\\t\\t\\t\\t<!--\\n\\t\\t\\t\\t\\t\\t<MARQUEE style=\"BORDER-RIGHT: #008844 1px solid; BORDER-TOP: #008844 1px solid; BORDER-LEFT: #008844 1px solid; WIDTH: 180px; BORDER-BOTTOM: #008844 1px solid; HEIGHT: 200px\"\\n\\t\\t\\t\\t\\t\\t\\tscrollDelay=\"150\" direction=\"up\" behavior=\"slide\" loop=\"-1\" bgColor=\"white\">\\n\\t\\t\\t\\t\\t\\t\\t\\t<P align=\"justify\"><FONT color=\"#000080\"><b>Por seguridad de su CONTRASEÑA</b>.<br><br></FONT>\\n\\t\\t\\t\\t\\t\\t\\t\\tNo utilice como contraseña el nombre de usuario.<br>\\n\\t\\t\\t\\t\\t\\t\\t\\tNo utilice contraseñas en blanco.<br>\\n\\t\\t\\t\\t\\t\\t\\t\\tPuede utilizar hasta 20 caracteres combinados entre letras, números y símbolos.<br>\\n\\t\\t\\t\\t\\t\\t\\t\\tNo diga sus contraseñas a terceros.<br>\\n\\t\\t\\t\\t\\t\\t\\t\\tSi almacena sus contraseñas hágalo en un lugar seguro.\\n\\t\\t\\t\\t\\t\\t\\t\\t</P>\\n\\t\\t\\t\\t\\t\\t</MARQUEE>\\n\\t\\t\\t\\t\\t\\t<BR>\\n\\t\\t\\t\\t\\t\\t<br>\\n-->\\n\\t\\t\\t\\t\\t\\t<!--Fin mensaje encima de login -->\\n\\t\\t\\t\\t\\t\\t<table id=\"Table1\" cellspacing=\"0\" cellpadding=\"0\" border=\"0\" style=\"width: 187px\">\\n\\t\\t\\t\\t\\t\\t\\t<tbody><tr>\\n\\t\\t\\t\\t\\t\\t\\t\\t<td>\\n\\t\\t\\t\\t\\t\\t\\t\\t\\t<table id=\"Table2\" cellspacing=\"0\" cellpadding=\"0\" width=\"100%\" border=\"0\">\\n\\t\\t\\t\\t\\t\\t\\t\\t\\t\\t<tbody><tr>\\n\\t\\t\\t\\t\\t\\t\\t\\t\\t\\t\\t<td valign=\"top\" background=\"images/rdlft.gif\" style=\"height: 23px\"><img height=\"1\" src=\"images/spacer.gif\" width=\"5\" border=\"0\"></td>\\n\\t\\t\\t\\t\\t\\t\\t\\t\\t\\t\\t<td class=\"tfolder\" style=\"width: 100%; height: 23px\" align=\"center\"><a href=\"#\" class=\"tfolder\" name=\"itemLogin\" onclick=\"javascript:doOutLine(this);\" title=\"Acceso a Funcionarios\">Entrada de&nbsp;Usuarios</a></td>\\n\\t\\t\\t\\t\\t\\t\\t\\t\\t\\t\\t<td valign=\"top\" background=\"images/rdrgt.gif\" style=\"height: 23px\" align=\"center\"><img height=\"1\" src=\"area_files/spacer.gif\" width=\"15\" border=\"0\"></td>\\n\\t\\t\\t\\t\\t\\t\\t\\t\\t\\t</tr>\\n\\t\\t\\t\\t\\t\\t\\t\\t\\t</tbody></table>\\n\\t\\t\\t\\t\\t\\t\\t\\t</td>\\n\\t\\t\\t\\t\\t\\t\\t</tr>\\n\\t\\t\\t\\t\\t\\t\\t<tr>\\n\\t\\t\\t\\t\\t\\t\\t\\t<td style=\"height: 558px\">\\n\\t\\t\\t\\t\\t\\t\\t\\t\\t<div id=\"itemLoginChild\" style=\"DISPLAY:block\">\\n\\t\\t\\t\\t\\t\\t\\t\\t\\t\\t<table id=\"Table3\" cellspacing=\"0\" cellpadding=\"1\" width=\"100%\" border=\"0\">\\n\\t\\t\\t\\t\\t\\t\\t\\t\\t\\t\\t<tbody><tr>\\n\\t\\t\\t\\t\\t\\t\\t\\t\\t\\t\\t\\t<td bgcolor=\"#0094C7\">\\n\\t\\t\\t\\t\\t\\t\\t\\t\\t\\t\\t\\t\\t<table id=\"Table4\" cellspacing=\"0\" cellpadding=\"0\" width=\"100%\" border=\"0\">\\n\\t\\t\\t\\t\\t\\t\\t\\t\\t\\t\\t\\t\\t\\t<tbody><tr>\\n\\t\\t\\t\\t\\t\\t\\t\\t\\t\\t\\t\\t\\t\\t\\t<td bgcolor=\"#ffffff\" style=\"width: 179px; height: 143px;\">\\n\\t\\t\\t\\t\\t\\t\\t\\t\\t\\t\\t\\t\\t\\t\\t\\t<table id=\"Table5\" cellspacing=\"0\" cellpadding=\"0\" border=\"0\" width=\"100%\">\\n\\t\\t\\t\\t\\t\\t\\t\\t\\t\\t\\t\\t\\t\\t\\t\\t\\t<tbody><tr>\\n\\t\\t\\t\\t\\t\\t\\t\\t\\t\\t\\t\\t\\t\\t\\t\\t\\t\\t<td style=\"height: 30px\" align=\"center\">\\n                                                                            Usuario</td>\\n\\t\\t\\t\\t\\t\\t\\t\\t\\t\\t\\t\\t\\t\\t\\t\\t\\t\\t<td style=\"height: 30px\" align=\"center\">\\n                                                                            <input name=\"tbid_usuario\" type=\"text\" maxlength=\"20\" id=\"tbid_usuario\" style=\"height:23px;width:100px;\"></td>\\n\\t\\t\\t\\t\\t\\t\\t\\t\\t\\t\\t\\t\\t\\t\\t\\t\\t</tr>\\n\\t\\t\\t\\t\\t\\t\\t\\t\\t\\t\\t\\t\\t\\t\\t\\t\\t<tr>\\n\\t\\t\\t\\t\\t\\t\\t\\t\\t\\t\\t\\t\\t\\t\\t\\t\\t\\t<td style=\"height: 30px\" align=\"center\">\\n                                                                            Contraseña</td>\\n\\t\\t\\t\\t\\t\\t\\t\\t\\t\\t\\t\\t\\t\\t\\t\\t\\t\\t<td style=\"height: 30px\" align=\"center\">\\n                                                                            <input name=\"tbcontrasena\" type=\"password\" id=\"tbcontrasena\" style=\"height:23px;width:100px;\"></td>\\n\\t\\t\\t\\t\\t\\t\\t\\t\\t\\t\\t\\t\\t\\t\\t\\t\\t</tr>\\n\\t\\t\\t\\t\\t\\t\\t\\t\\t\\t\\t\\t\\t\\t\\t\\t\\t<tr>\\n\\t\\t\\t\\t\\t\\t\\t\\t\\t\\t\\t\\t\\t\\t\\t\\t\\t\\t<td align=\"center\" colspan=\"2\">\\n                                                                            <br>\\n                                                                            <input type=\"submit\" name=\"btnIngresar\" value=\"Ingresar\" id=\"btnIngresar\" style=\"height:20px;width:90px;\"></td>\\n\\t\\t\\t\\t\\t\\t\\t\\t\\t\\t\\t\\t\\t\\t\\t\\t\\t</tr>\\n\\t\\t\\t\\t\\t\\t\\t\\t\\t\\t\\t\\t\\t\\t\\t\\t\\t<tr>\\n\\t\\t\\t\\t\\t\\t\\t\\t\\t\\t\\t\\t\\t\\t\\t\\t\\t\\t<td colspan=\"2\" style=\"height: 26px\" align=\"center\">\\n                                                                            <br>\\n                                                                            <span id=\"lblIngresar\" style=\"color:#CC0044;font-weight:normal;\"></span></td>\\n\\t\\t\\t\\t\\t\\t\\t\\t\\t\\t\\t\\t\\t\\t\\t\\t\\t</tr>\\n\\t\\t\\t\\t\\t\\t\\t\\t\\t\\t\\t\\t\\t\\t\\t\\t</tbody></table>\\n                                                                &nbsp; &nbsp; &nbsp;&nbsp;&nbsp; Registro: 20230721-PRO</td>\\n\\t\\t\\t\\t\\t\\t\\t\\t\\t\\t\\t\\t\\t\\t</tr>\\n\\t\\t\\t\\t\\t\\t\\t\\t\\t\\t\\t\\t\\t</tbody></table>\\n\\t\\t\\t\\t\\t\\t\\t\\t\\t\\t\\t\\t</td>\\n\\t\\t\\t\\t\\t\\t\\t\\t\\t\\t\\t</tr>\\n\\t\\t\\t\\t\\t\\t\\t\\t\\t\\t\\t<tr>\\n\\t\\t\\t\\t\\t\\t\\t\\t\\t\\t\\t\\t<td></td>\\n\\t\\t\\t\\t\\t\\t\\t\\t\\t\\t\\t</tr>\\n\\t\\t\\t\\t\\t\\t\\t\\t\\t\\t\\t<tr>\\n\\t\\t\\t\\t\\t\\t\\t\\t\\t\\t\\t\\t<td bgcolor=\"#0094C7\">\\n\\t\\t\\t\\t\\t\\t\\t\\t\\t\\t\\t\\t\\t<table cellpadding=\"0\" cellspacing=\"0\" border=\"0\" width=\"100%\" style=\"height: 1px\">\\n\\t\\t\\t\\t\\t\\t\\t\\t\\t\\t\\t\\t\\t\\t<tbody><tr>\\n\\t\\t\\t\\t\\t\\t\\t\\t\\t\\t\\t\\t\\t\\t\\t<td bgcolor=\"#ffffff\">\\n\\t\\t\\t\\t\\t\\t\\t\\t\\t\\t\\t\\t\\t\\t\\t\\t<table id=\"Table6\" cellspacing=\"0\" cellpadding=\"1\" border=\"0\">\\n\\t\\t\\t\\t\\t\\t\\t\\t\\t\\t\\t\\t\\t\\t\\t\\t\\t<tbody><tr>\\n\\t\\t\\t\\t\\t\\t\\t\\t\\t\\t\\t\\t\\t\\t\\t\\t\\t\\t<td style=\"height: 15px\"><img src=\"images/bullet.gif\" border=\"0\"></td>\\n\\t\\t\\t\\t\\t\\t\\t\\t\\t\\t\\t\\t\\t\\t\\t\\t\\t\\t<td style=\"height: 15px\"><a title=\"Ayuda General\" onclick=\"javaScript:help();\" href=\"#\">Ayuda</a></td>\\n\\t\\t\\t\\t\\t\\t\\t\\t\\t\\t\\t\\t\\t\\t\\t\\t\\t</tr>\\n\\t\\t\\t\\t\\t\\t\\t\\t\\t\\t\\t\\t\\t\\t\\t\\t</tbody></table>\\n\\t\\t\\t\\t\\t\\t\\t\\t\\t\\t\\t\\t\\t\\t\\t</td>\\n\\t\\t\\t\\t\\t\\t\\t\\t\\t\\t\\t\\t\\t\\t</tr>\\n\\t\\t\\t\\t\\t\\t\\t\\t\\t\\t\\t\\t\\t\\t<tr>\\n\\t\\t\\t\\t\\t\\t\\t\\t\\t\\t\\t\\t\\t\\t\\t<td bgcolor=\"#ffffff\">\\n\\t\\t\\t\\t\\t\\t\\t\\t\\t\\t\\t\\t\\t\\t\\t\\t<table cellspacing=\"0\" cellpadding=\"1\" border=\"0\">\\n\\t\\t\\t\\t\\t\\t\\t\\t\\t\\t\\t\\t\\t\\t\\t\\t\\t<tbody><tr>\\n\\t\\t\\t\\t\\t\\t\\t\\t\\t\\t\\t\\t\\t\\t\\t\\t\\t\\t<td><img src=\"images/bullet.gif\" border=\"0\"></td>\\n\\t\\t\\t\\t\\t\\t\\t\\t\\t\\t\\t\\t\\t\\t\\t\\t\\t\\t<td><a title=\"Acerca de ...\" onclick=\"javaScript:about();\" href=\"#\">Acerca De ...</a></td>\\n\\t\\t\\t\\t\\t\\t\\t\\t\\t\\t\\t\\t\\t\\t\\t\\t\\t</tr>\\n\\t\\t\\t\\t\\t\\t\\t\\t\\t\\t\\t\\t\\t\\t\\t\\t</tbody></table>\\n\\t\\t\\t\\t\\t\\t\\t\\t\\t\\t\\t\\t\\t\\t\\t</td>\\n\\t\\t\\t\\t\\t\\t\\t\\t\\t\\t\\t\\t\\t\\t</tr>\\n\\t\\t\\t\\t\\t\\t\\t\\t\\t\\t\\t\\t\\t\\t<tr>\\n\\t\\t\\t\\t\\t\\t\\t\\t\\t\\t\\t\\t\\t\\t\\t<td bgcolor=\"#ffffff\">\\n\\t\\t\\t\\t\\t\\t\\t\\t\\t\\t\\t\\t\\t\\t\\t\\t<table cellspacing=\"0\" cellpadding=\"1\" border=\"0\">\\n\\t\\t\\t\\t\\t\\t\\t\\t\\t\\t\\t\\t\\t\\t\\t\\t\\t<tbody><tr>\\n\\t\\t\\t\\t\\t\\t\\t\\t\\t\\t\\t\\t\\t\\t\\t\\t\\t\\t<td><img src=\"images/bullet.gif\" border=\"0\"></td>\\n\\t\\t\\t\\t\\t\\t\\t\\t\\t\\t\\t\\t\\t\\t\\t\\t\\t\\t<td><a title=\"Salir de la Aplicación\" onclick=\"javaScript:salir();\" href=\"#\">Salir</a></td>\\n\\t\\t\\t\\t\\t\\t\\t\\t\\t\\t\\t\\t\\t\\t\\t\\t\\t</tr>\\n\\t\\t\\t\\t\\t\\t\\t\\t\\t\\t\\t\\t\\t\\t\\t\\t</tbody></table>\\n\\t\\t\\t\\t\\t\\t\\t\\t\\t\\t\\t\\t\\t\\t\\t</td>\\n\\t\\t\\t\\t\\t\\t\\t\\t\\t\\t\\t\\t\\t\\t</tr>\\n                                                        <tr>\\n                                                            <td align=\"center\" bgcolor=\"#ffffff\" style=\"height: 28px\">\\n                                                                <span id=\"titulo\" style=\"color:Black;font-size:X-Small;font-weight:bold;font-style:italic;\">INFORMACIÓN</span></td>\\n                                                        </tr>\\n                                                        <tr>\\n                                                            <td align=\"center\" bgcolor=\"#ffffff\" style=\"height: 28px\">\\n                                                                Para consutar el cumplimiento en la oportunidad del reporte de que\\n                                                                trata el Decreto 2193 de 2004, compilado en la Sección 2, Capítulo 8, Título 3,Parte 5 del Libro\\n                                                                2 del Decreto 780 de 2016 - Decreto Único Reglamentario del Sector Salud y Protección\\n                                                                Social, de cada una de las ESE del País, con lo cual\\n                                                                se da cumplimiento a lo previsto en el anexo No. 2 de la Resolución 710 de 2012,\\n                                                                modificada por las Resoluciones\\n                                                                743 de 2013 y 408 de 2018.<br>\\n                                                                &nbsp;\\n                                                                <br>\\n                                                                Puede hacerlo a traves del siguiente\\n                                                                link:\\n                                                            </td>\\n                                                        </tr>\\n                                                        <tr>\\n                                                            <td align=\"center\" bgcolor=\"#ffffff\" style=\"height: 1px\">\\n                                                            </td>\\n                                                        </tr>\\n                                                        <tr>\\n                                                            <td bgcolor=\"#ffffff\" align=\"center\" font-bold=\"True\"> \\n                                                            <table id=\"Table7\" cellspacing=\"0\" cellpadding=\"1\" border=\"0\" style=\"font-weight: bold; color: blue; font-style: normal; text-decoration: underline\">\\n                                                                <tbody><tr>\\n                                                                    <td style=\"height: 15px\"><img src=\"images/bullet.gif\" border=\"0\" style=\"color: blue; text-decoration: underline\"></td>\\n                                                                    <td style=\"height: 15px\"><a title=\"Reporte Cumplimiento\" onclick=\"javaScript:reporte();\" href=\"#\">Reporte Cumplimiento 2022</a></td>\\n                                                                </tr>\\n                                                            </tbody></table>\\n                                                            </td>\\n                                                        </tr>\\n                                                        <tr>\\n                                                            <td align=\"center\" bgcolor=\"#ffffff\" font-bold=\"True\" style=\"height: 10px\">\\n                                                            </td>\\n                                                        </tr>\\n\\t\\t\\t\\t\\t\\t\\t\\t\\t\\t\\t\\t\\t</tbody></table>\\n\\t\\t\\t\\t\\t\\t\\t\\t\\t\\t\\t\\t</td>\\n\\t\\t\\t\\t\\t\\t\\t\\t\\t\\t\\t</tr>\\n\\t\\t\\t\\t\\t\\t\\t\\t\\t\\t</tbody></table>\\n\\t\\t\\t\\t\\t\\t\\t\\t\\t</div>\\n\\t\\t\\t\\t\\t\\t<marquee id=\"MARQUEE1\" style=\"BORDER-RIGHT: #0094C7 1px solid; BORDER-TOP: #0094C7 1px solid; VISIBILITY: hidden; BORDER-LEFT: #0094C7 1px solid; WIDTH: 187px; BORDER-BOTTOM: #0094C7 1px solid; HEIGHT: 160px\" scrolldelay=\"150\" direction=\"up\" behavior=\"slide\" loop=\"-1\" bgcolor=\"white\"></marquee>\\n                                    <br>\\n\\t\\t\\t\\t\\t\\t\\t\\t</td>\\n\\t\\t\\t\\t\\t\\t\\t</tr>\\n\\t\\t\\t\\t\\t\\t</tbody></table>\\n\\t\\t\\t\\t\\t\\t<!--Mensaje debajo de login-->\\n\\t\\t\\t\\t\\t\\t<br>\\n\\t\\t\\t\\t\\t\\t<br>\\n\\t\\t\\t\\t\\t\\t<!--Fin mensaje debajo de login -->\\n\\t\\t\\t\\t\\t</td>\\n\\t\\t\\t\\t\\t<td valign=\"top\">\\n\\t\\t\\t\\t\\t\\t<table cellspacing=\"0\" cellpadding=\"0\" width=\"100%\" border=\"0\">\\n\\t\\t\\t\\t\\t\\t\\t<!--Mensaje sobre menu\\n\\t\\t\\t\\t\\t\\t\\t<tr>\\n\\t\\t\\t\\t\\t\\t\\t\\t<td>\\n\\t\\t\\t\\t\\t\\t\\t\\t\\t<table border=\"0\" cellpadding=\"1\" cellspacing=\"0\" width=\"90%\">\\n\\t\\t\\t\\t\\t\\t\\t\\t\\t\\t<tr>\\n\\t\\t\\t\\t\\t\\t\\t\\t\\t\\t\\t<td bgColor=\"#008844\">\\n\\t\\t\\t\\t\\t\\t\\t\\t\\t\\t\\t\\t<table border=\"0\" cellpadding=\"0\" cellspacing=\"0\" width=\"100%\">\\n\\t\\t\\t\\t\\t\\t\\t\\t\\t\\t\\t\\t\\t<tr>\\n\\t\\t\\t\\t\\t\\t\\t\\t\\t\\t\\t\\t\\t\\t<td bgColor=\"#f7f7f7\">\\n\\t\\t\\t\\t\\t\\t\\t\\t\\t\\t\\t\\t\\t\\t\\t<marquee hspace=\"10\" width=\"500\">Ultima actualización: 6 de Marzo de 2006. Se \\n\\t\\t\\t\\t\\t\\t\\t\\t\\t\\t\\t\\t\\t\\t\\t\\tencuentra disponible la información de los periodos Enero-Marzo, Abril-Junio y \\n\\t\\t\\t\\t\\t\\t\\t\\t\\t\\t\\t\\t\\t\\t\\t\\tJulio-Septiembre de 2005</marquee>\\n\\t\\t\\t\\t\\t\\t\\t\\t\\t\\t\\t\\t\\t\\t</td>\\n\\t\\t\\t\\t\\t\\t\\t\\t\\t\\t\\t\\t\\t</tr>\\n\\t\\t\\t\\t\\t\\t\\t\\t\\t\\t\\t\\t</table>\\n\\t\\t\\t\\t\\t\\t\\t\\t\\t\\t\\t</td>\\n\\t\\t\\t\\t\\t\\t\\t\\t\\t\\t</tr>\\n\\t\\t\\t\\t\\t\\t\\t\\t\\t</table>\\n\\t\\t\\t\\t\\t\\t\\t\\t</td>\\n\\t\\t\\t\\t\\t\\t\\t</tr>\\n-->\\n\\t\\t\\t\\t\\t\\t\\t<tbody><tr>\\n\\t\\t\\t\\t\\t\\t\\t\\t<td><span id=\"lblmenu\" class=\"labelNormal\"></span></td>\\n\\t\\t\\t\\t\\t\\t\\t</tr>\\n\\t\\t\\t\\t\\t\\t</tbody></table>\\n\\t\\t\\t\\t\\t</td>\\n\\t\\t\\t\\t</tr>\\n\\t\\t\\t</tbody></table>\\n\\t\\t</form>\\n\\t\\n\\n</body></html>'"
      ]
     },
     "execution_count": 9,
     "metadata": {},
     "output_type": "execute_result"
    }
   ],
   "source": [
    "html = driver.page_source\n",
    "html"
   ]
  },
  {
   "cell_type": "code",
   "execution_count": 10,
   "metadata": {},
   "outputs": [],
   "source": [
    "search_button = driver.find_element(By.ID, \"btnIngresar\")\n",
    "search_button.click()"
   ]
  },
  {
   "cell_type": "code",
   "execution_count": 11,
   "metadata": {},
   "outputs": [
    {
     "data": {
      "text/plain": [
       "True"
      ]
     },
     "execution_count": 11,
     "metadata": {},
     "output_type": "execute_result"
    }
   ],
   "source": [
    "driver.save_screenshot(\"screenshot2.png\")"
   ]
  },
  {
   "cell_type": "code",
   "execution_count": 12,
   "metadata": {},
   "outputs": [
    {
     "data": {
      "text/plain": [
       "['E68BA1E3B461B4C61B6711777B79302E']"
      ]
     },
     "execution_count": 12,
     "metadata": {},
     "output_type": "execute_result"
    }
   ],
   "source": [
    "assert len(driver.window_handles) == 1\n",
    "driver.window_handles"
   ]
  },
  {
   "cell_type": "code",
   "execution_count": 13,
   "metadata": {},
   "outputs": [],
   "source": [
    "search_link = driver.find_element(By.LINK_TEXT, \"Capacidad Instalada\")\n",
    "search_link.click()"
   ]
  },
  {
   "cell_type": "code",
   "execution_count": 14,
   "metadata": {},
   "outputs": [
    {
     "data": {
      "text/plain": [
       "True"
      ]
     },
     "execution_count": 14,
     "metadata": {},
     "output_type": "execute_result"
    }
   ],
   "source": [
    "driver.save_screenshot(\"screenshot3.png\")"
   ]
  },
  {
   "cell_type": "code",
   "execution_count": 15,
   "metadata": {},
   "outputs": [],
   "source": [
    "driver.switch_to.default_content()"
   ]
  },
  {
   "cell_type": "code",
   "execution_count": 16,
   "metadata": {},
   "outputs": [
    {
     "data": {
      "text/plain": [
       "'<html><head>\\n\\t\\t<title>Información de Hospitales :: Dirección de Prestación de Servicios y Atención Primaria :: Ministerio de Salud y Protección Social</title>\\n\\t\\t<meta content=\"text/html; charset=windows-1252\" http-equiv=\"Content-Type\">\\n\\t\\t<meta name=\"description\" content=\"SIHO :: Sistema de Información Hospitalaria de la Dirección de Prestación de Servicios y Atención Primaria del Ministerio de Salud y Protección Social de Colombia.\">\\n\\t\\t<meta name=\"keywords\" content=\"Gestion, Hospitales, Publicos, SIHO, Proteccion, Social, Decreto 2193\">\\n        <link rel=\"SHORTCUT ICON\" href=\"images/siho.ico\">\\n\\t\\t<!--meta http-equiv=\"refresh\" content=\"5;url=/pubs\"-->\\n<!--\\n// Author: Germán Ricardo Aragón Ospina (garagonospina@hotmail.com)\\n// Update: 2010/05/31\\n// Actualización:   2012/01/13 Jail Tao Ortiz\\n//-->\\n\\t</head>\\n\\t<frameset border=\"0\" frameborder=\"0\" framespacing=\"0\" rows=\"70,*,18\">\\n\\t\\t<frame marginheight=\"1\" marginwidth=\"1\" name=\"areatop\" noresize=\"\" scrolling=\"no\" src=\"top.htm\">\\n\\t\\t<frame marginheight=\"20\" marginwidth=\"10\" name=\"areawork\" noresize=\"\" src=\"work.aspx\" cd_frame_id_=\"0230b797ba785f21e90b1e8839a493f5\">\\n\\t\\t<frame marginheight=\"0\" marginwidth=\"0\" name=\"areastatus\" noresize=\"\" scrolling=\"no\" src=\"status.aspx\">\\n\\t</frameset>\\n</html>'"
      ]
     },
     "execution_count": 16,
     "metadata": {},
     "output_type": "execute_result"
    }
   ],
   "source": [
    "html = driver.page_source\n",
    "html"
   ]
  },
  {
   "cell_type": "code",
   "execution_count": 17,
   "metadata": {},
   "outputs": [
    {
     "data": {
      "text/plain": [
       "['E68BA1E3B461B4C61B6711777B79302E', 'BDC28EF5191BBD1D5D73CDC3962D385D']"
      ]
     },
     "execution_count": 17,
     "metadata": {},
     "output_type": "execute_result"
    }
   ],
   "source": [
    "assert len(driver.window_handles) == 2\n",
    "driver.window_handles"
   ]
  },
  {
   "cell_type": "code",
   "execution_count": 18,
   "metadata": {},
   "outputs": [],
   "source": [
    "driver.switch_to.window(driver.window_handles[1])"
   ]
  },
  {
   "cell_type": "code",
   "execution_count": 19,
   "metadata": {},
   "outputs": [
    {
     "data": {
      "text/plain": [
       "True"
      ]
     },
     "execution_count": 19,
     "metadata": {},
     "output_type": "execute_result"
    }
   ],
   "source": [
    "driver.save_screenshot(\"screenshot4.png\")"
   ]
  },
  {
   "cell_type": "code",
   "execution_count": 20,
   "metadata": {},
   "outputs": [
    {
     "data": {
      "text/plain": [
       "'<html xmlns=\"http://www.w3.org/1999/xhtml\"><head><title>\\n\\tCapacidad Instalada\\n</title><link href=\"../includes/appestilos.css\" rel=\"stylesheet\"></head>\\n<body bgcolor=\"#ffffff\">\\n    <form name=\"aspnetForm\" method=\"post\" action=\"./capacidadinstaladanacional.aspx?pageTitle=Capacidad+Instalada&amp;pageHlp=%2fSIHO%2fayudas%2finformes%2fcapacidad.pdf\" id=\"aspnetForm\">\\n<input type=\"hidden\" name=\"__VIEWSTATE\" id=\"__VIEWSTATE\" value=\"/wEPDwULLTIwNDI2NTY5MjEPZBYCZg9kFgICAw9kFggCDw8PFgIeC05hdmlnYXRlVXJsBSMvU0lITy9heXVkYXMvaW5mb3JtZXMvY2FwYWNpZGFkLnBkZmRkAhEPDxYCHgRUZXh0BRNDYXBhY2lkYWQgSW5zdGFsYWRhZGQCEw9kFgQCAQ9kFgJmD2QWAmYPZBYEAgEPEGQQFRUEMjAwMgQyMDAzBDIwMDQEMjAwNQQyMDA2BDIwMDcEMjAwOAQyMDA5BDIwMTAEMjAxMQQyMDEyBDIwMTMEMjAxNAQyMDE1BDIwMTYEMjAxNwQyMDE4BDIwMTkEMjAyMAQyMDIxBDIwMjIVFQQyMDAyBDIwMDMEMjAwNAQyMDA1BDIwMDYEMjAwNwQyMDA4BDIwMDkEMjAxMAQyMDExBDIwMTIEMjAxMwQyMDE0BDIwMTUEMjAxNgQyMDE3BDIwMTgEMjAxOQQyMDIwBDIwMjEEMjAyMhQrAxVnZ2dnZ2dnZ2dnZ2dnZ2dnZ2dnZ2dkZAIDDxAPFgYeDURhdGFUZXh0RmllbGQFBm5vbWJyZR4ORGF0YVZhbHVlRmllbGQFBmNvZGlnbx4LXyFEYXRhQm91bmRnZBAVJwAIQW1hem9uYXMJQW50aW9xdWlhBkFyYXVjYTpBcmNoaXBpw6lsYWdvIGRlIFNhbiBBbmRyw6lzLCBQcm92aWRlbmNpYSB5IFNhbnRhIENhdGFsaW5hCkF0bMOhbnRpY28fQmFycmFucXVpbGxhIERpc3RyaXRybyBFc3BlY2lhbA1Cb2dvdMOhLCBELkMuCEJvbMOtdmFyB0JveWFjw6EeQnVlbmF2ZW50dXJhIERpc3RyaXRvIEVzcGVjaWFsBkNhbGRhcxZDYWxpIERpc3RyaXRvIEVzcGVjaWFsCENhcXVldMOhG0NhcnRhZ2VuYSBEaXN0cml0byBFc3BlY2lhbAhDYXNhbmFyZQVDYXVjYQVDZXNhcgZDaG9jw7MIQ8OzcmRvYmEMQ3VuZGluYW1hcmNhCEd1YWluw61hCEd1YXZpYXJlBUh1aWxhCkxhIEd1YWppcmEJTWFnZGFsZW5hBE1ldGEHTmFyacOxbxJOb3J0ZSBkZSBTYW50YW5kZXIIUHV0dW1heW8IUXVpbmTDrW8JUmlzYXJhbGRhHVNhbnRhIE1hcnRhIERpc3RyaXRvIEVzcGVjaWFsCVNhbnRhbmRlcgVTdWNyZQZUb2xpbWEPVmFsbGUgZGVsIENhdWNhB1ZhdXDDqXMHVmljaGFkYRUnAAI5MQIwNQI4MQI4OAIwOAIwOQIxMQIxMwIxNQI3NwIxNwI3OAIxOAIxNAI4NQIxOQIyMAIyNwIyMwIyNQI5NAI5NQI0MQI0NAI0NwI1MAI1MgI1NAI4NgI2MwI2NgI0OAI2OAI3MAI3MwI3NgI5NwI5ORQrAydnZ2dnZ2dnZ2dnZ2dnZ2dnZ2dnZ2dnZ2dnZ2dnZ2dnZ2dnZ2dnZ2dkZAIDD2QWBmYPZBYCZg9kFgICAQ8PFgIfAQUITmFjaW9uYWxkZAIBD2QWAmYPZBYCAgEPPCsACwEADxYIHghEYXRhS2V5cxYAHgtfIUl0ZW1Db3VudGYeCVBhZ2VDb3VudAIBHhVfIURhdGFTb3VyY2VJdGVtQ291bnRmZGQCBA9kFgJmD2QWAgIBDzwrAAsBAA8WCB8FFgAfBmYfBwIBHwhmZGQCIw8PFgIfAAUjL1NJSE8vYXl1ZGFzL2luZm9ybWVzL2NhcGFjaWRhZC5wZGZkZBgBBR5fX0NvbnRyb2xzUmVxdWlyZVBvc3RCYWNrS2V5X18WBAUQX2N0bDA6aWJOdWV2b0hkcgURX2N0bDA6aWJCdXNjYXJIZHIFEF9jdGwwOmliTnVldm9GdHIFEV9jdGwwOmliQnVzY2FyRnRyvpQgRWWRSq5oMQKSz35/hUNWfCjAYzqHL7ZSFu9umXY=\">\\n\\n<input type=\"hidden\" name=\"__VIEWSTATEGENERATOR\" id=\"__VIEWSTATEGENERATOR\" value=\"CDDFEAAA\">\\n<input type=\"hidden\" name=\"__EVENTVALIDATION\" id=\"__EVENTVALIDATION\" value=\"/wEdAEHjgwh5F+4znJXcb1FtoY6W9f09lK5A3efx5e+2zoL0c8MnqKGR0rClTZ0V6RZIWXig9AnBtjjkg/VEAneC+d99h9tMfU8e9v1WYol5vWdJI6JRYX1r1HLm+1P+bJpa0Q6UtlKt+I6s0dFKPk1bR4R9/JIrGPbk0YKa3eocll4hPutj5xR1YFL/Uf8mgGvAvIZpdd4Y9hshvYycAsBkL5AK5qJlx/8+plToCkMvNhEfOvf09LlGgOEl7GJZyGi1Xbq7XLALwelQXA89io1tXN2xhYq3aYptZkHdp2HTQZR2OrxPibIic1qF/zAVkz9LJob1CSS9ilBgrPzOwalKkKiDH0gUP3oU716ueOS5MxO7R2aiCUlMlbsxPslWNuO4QO0XbmQLAuYoDFu+QjGv9Tw7Bs/H9MzvYxe4fd6/b3uqlbFjP/RfzZ9mH8XqnyTiIGoxAxZckwPeNh4kuXhUG/aTVYkKNt+UnfMkJmuwxiWyTIuMLOA52knlHouj4jwaT9COzwSpDegbgEWThrj900Tr6u93BoO0Jr2aHejoJ6d4Wu/OxG9jepiD/hwWS86FL2GurwaY3N3EdD7Hz01Y4ZL4XzXFNzxPfSYY7jSjxzGGkU3bxOSbX/eTuvnN65FKn9HLp6Tt2BaDM85pGPnzn3vWmSglbWxg1YXZev2Jj6nF8xXNjbuMoPoMGZ+1ZAtDHC1NyW5q8+xkgObj2PT+A8/kG7J4zUbTeSDrveEUKEjh8YuZnV0N1cuwhlkNAk5kYtNDUgE4hHLgzsq/0Y29KL4wmPMcT16lBftJOJ+/qI0HKcxqicS8jLehycCfsr93IRmkjjkyc2gydAYUIN2YCS6z/W9vLET03InEsEtqSNcdg0d84E12K33ftyoPXafhQ4S6eLunNsskMDPcMQjhtFK8+Ms2BL8UUPPMO9OTuzR7a3vIm49oatLWxVbS02WGBG/FepNG86aHWkvGQEC7CTBmCtPzuFhG24yzmMHzCfPpfxq4d60hPMuu/evl1usYJEukdpbPuDCH6odjciJRUjblivyNGgZmWGO9IKGEVnmYW7mr4cpC2ZEKURz58dt2hHI8HSB/DHFUeyJJFRs1sLHM9ClzmqMqemJ7ZcOATM/+mRAl0PKulRwqHgLBjO7IuAvMx158qChN3SEOrI1wLVF1hxGqcU/G/20od1FbgxZD7QgVBiBWEl0RjHTtpCcTAmI5utmSdkqQLF8EKi0nRbsf/2Gg4pcZBwZk69zUjxVQpcOwV+WXqQG2TJ9mtQDQFDO8WlGpgf8W6DsgyeC3tRbCJcspIvy3TwA9PYE044K0AySy3ZMDBFYf7VZ5oTgXHBdfB6Q//Z504WaHNVEuqY+Sq32b5I2AvK9tM7QwH9pS9zlYDVTEn/nR5ry/gToLQtz5aCsaXRwur/WHbC9P5umK\">\\n    <div>\\n        <table border=\"0\" cellpadding=\"0\" cellspacing=\"0\">\\n            <tbody><tr>\\n                <td>\\n                    </td>\\n                <td>\\n                    <img id=\"_ctl0_iGrabarHdr\" src=\"../images/grabar_dis.jpg\" align=\"bottom\" style=\"border-width:0px;\"></td>\\n                <td>\\n                    <input type=\"image\" name=\"_ctl0:ibNuevoHdr\" id=\"_ctl0_ibNuevoHdr\" src=\"../images/nuevo.jpg\" alt=\"Nuevo\" align=\"top\" style=\"border-width:0px;\"></td>\\n                <td>\\n                    <input type=\"image\" name=\"_ctl0:ibBuscarHdr\" id=\"_ctl0_ibBuscarHdr\" src=\"../images/buscar.jpg\" alt=\"Buscar\" align=\"bottom\" style=\"border-width:0px;\"></td>\\n                <td>\\n                    </td>\\n                <td>\\n                    </td>\\n                <td>\\n                    <img id=\"_ctl0_iEliminarHdr\" src=\"../images/eliminar_dis.jpg\" align=\"bottom\" style=\"border-width:0px;\"></td>\\n                <td>\\n                    <a id=\"_ctl0_hlAyudaHdr\" title=\"Ayuda\" href=\"/SIHO/ayudas/informes/capacidad.pdf\" target=\"_blank\" style=\"border-width:0px;\"><img title=\"Ayuda\" src=\"../images/ayuda.jpg\" alt=\"HyperLink\" border=\"0\"></a></td>\\n            </tr>\\n        </tbody></table>\\n        <br>\\n        <span id=\"_ctl0_lblTitulo\" class=\"titulo3\">Capacidad Instalada</span><br>\\n        <br>\\n        \\n<table id=\"Table1\" cellspacing=\"0\" cellpadding=\"0\" width=\"90%\" border=\"0\">\\n\\t<tbody><tr>\\n\\t\\t<td>\\n\\t\\t\\t<table id=\"_ctl0_ContentPlaceHolder1_tabForm\" cellspacing=\"0\" cellpadding=\"1\" border=\"0\">\\n\\t<tbody><tr>\\n\\t\\t<td bgcolor=\"#0094C7\">\\n\\t\\t\\t\\t\\t\\t<table id=\"Table2\" cellspacing=\"0\" cellpadding=\"0\" border=\"0\">\\n\\t\\t\\t\\t\\t\\t\\t<tbody><tr>\\n\\t\\t\\t\\t\\t\\t\\t\\t<td bgcolor=\"#ffffff\">\\n\\t\\t\\t\\t\\t\\t\\t\\t\\t<table id=\"Table3\" cellspacing=\"0\" cellpadding=\"2\" align=\"center\" border=\"0\">\\n\\t\\t\\t\\t\\t\\t\\t\\t\\t\\t<tbody><tr>\\n\\t\\t\\t\\t\\t\\t\\t\\t\\t\\t\\t<td>Año</td>\\n\\t\\t\\t\\t\\t\\t\\t\\t\\t\\t\\t<td>\\n\\t\\t\\t\\t\\t\\t\\t\\t\\t\\t\\t\\t<select name=\"_ctl0:ContentPlaceHolder1:ddano\" id=\"_ctl0_ContentPlaceHolder1_ddano\" style=\"width:80px;\">\\n\\t\\t\\t<option value=\"2002\">2002</option>\\n\\t\\t\\t<option value=\"2003\">2003</option>\\n\\t\\t\\t<option value=\"2004\">2004</option>\\n\\t\\t\\t<option value=\"2005\">2005</option>\\n\\t\\t\\t<option value=\"2006\">2006</option>\\n\\t\\t\\t<option value=\"2007\">2007</option>\\n\\t\\t\\t<option value=\"2008\">2008</option>\\n\\t\\t\\t<option value=\"2009\">2009</option>\\n\\t\\t\\t<option value=\"2010\">2010</option>\\n\\t\\t\\t<option value=\"2011\">2011</option>\\n\\t\\t\\t<option value=\"2012\">2012</option>\\n\\t\\t\\t<option value=\"2013\">2013</option>\\n\\t\\t\\t<option value=\"2014\">2014</option>\\n\\t\\t\\t<option value=\"2015\">2015</option>\\n\\t\\t\\t<option value=\"2016\">2016</option>\\n\\t\\t\\t<option value=\"2017\">2017</option>\\n\\t\\t\\t<option value=\"2018\">2018</option>\\n\\t\\t\\t<option value=\"2019\">2019</option>\\n\\t\\t\\t<option value=\"2020\">2020</option>\\n\\t\\t\\t<option value=\"2021\">2021</option>\\n\\t\\t\\t<option value=\"2022\">2022</option>\\n\\n\\t\\t</select></td>\\n\\t\\t\\t\\t\\t\\t\\t\\t\\t\\t</tr>\\n\\t\\t\\t\\t\\t\\t\\t\\t\\t\\t<tr>\\n\\t\\t\\t\\t\\t\\t\\t\\t\\t\\t\\t<td>Departamento</td>\\n\\t\\t\\t\\t\\t\\t\\t\\t\\t\\t\\t<td>\\n\\t\\t\\t\\t\\t\\t\\t\\t\\t\\t\\t\\t<select name=\"_ctl0:ContentPlaceHolder1:dddepa_codigo\" id=\"_ctl0_ContentPlaceHolder1_dddepa_codigo\" style=\"width:140px;\">\\n\\t\\t\\t<option value=\"\"></option>\\n\\t\\t\\t<option value=\"91\">Amazonas</option>\\n\\t\\t\\t<option value=\"05\">Antioquia</option>\\n\\t\\t\\t<option value=\"81\">Arauca</option>\\n\\t\\t\\t<option value=\"88\">Archipiélago de San Andrés, Providencia y Santa Catalina</option>\\n\\t\\t\\t<option value=\"08\">Atlántico</option>\\n\\t\\t\\t<option value=\"09\">Barranquilla Distritro Especial</option>\\n\\t\\t\\t<option value=\"11\">Bogotá, D.C.</option>\\n\\t\\t\\t<option value=\"13\">Bolívar</option>\\n\\t\\t\\t<option value=\"15\">Boyacá</option>\\n\\t\\t\\t<option value=\"77\">Buenaventura Distrito Especial</option>\\n\\t\\t\\t<option value=\"17\">Caldas</option>\\n\\t\\t\\t<option value=\"78\">Cali Distrito Especial</option>\\n\\t\\t\\t<option value=\"18\">Caquetá</option>\\n\\t\\t\\t<option value=\"14\">Cartagena Distrito Especial</option>\\n\\t\\t\\t<option value=\"85\">Casanare</option>\\n\\t\\t\\t<option value=\"19\">Cauca</option>\\n\\t\\t\\t<option value=\"20\">Cesar</option>\\n\\t\\t\\t<option value=\"27\">Chocó</option>\\n\\t\\t\\t<option value=\"23\">Córdoba</option>\\n\\t\\t\\t<option value=\"25\">Cundinamarca</option>\\n\\t\\t\\t<option value=\"94\">Guainía</option>\\n\\t\\t\\t<option value=\"95\">Guaviare</option>\\n\\t\\t\\t<option value=\"41\">Huila</option>\\n\\t\\t\\t<option value=\"44\">La Guajira</option>\\n\\t\\t\\t<option value=\"47\">Magdalena</option>\\n\\t\\t\\t<option value=\"50\">Meta</option>\\n\\t\\t\\t<option value=\"52\">Nariño</option>\\n\\t\\t\\t<option value=\"54\">Norte de Santander</option>\\n\\t\\t\\t<option value=\"86\">Putumayo</option>\\n\\t\\t\\t<option value=\"63\">Quindío</option>\\n\\t\\t\\t<option value=\"66\">Risaralda</option>\\n\\t\\t\\t<option value=\"48\">Santa Marta Distrito Especial</option>\\n\\t\\t\\t<option value=\"68\">Santander</option>\\n\\t\\t\\t<option value=\"70\">Sucre</option>\\n\\t\\t\\t<option value=\"73\">Tolima</option>\\n\\t\\t\\t<option value=\"76\">Valle del Cauca</option>\\n\\t\\t\\t<option value=\"97\">Vaupés</option>\\n\\t\\t\\t<option value=\"99\">Vichada</option>\\n\\n\\t\\t</select></td>\\n\\t\\t\\t\\t\\t\\t\\t\\t\\t\\t</tr>\\n\\t\\t\\t\\t\\t\\t\\t\\t\\t\\t<tr>\\n\\t\\t\\t\\t\\t\\t\\t\\t\\t\\t\\t<td colspan=\"2\">&nbsp;</td>\\n\\t\\t\\t\\t\\t\\t\\t\\t\\t\\t</tr>\\n\\t\\t\\t\\t\\t\\t\\t\\t\\t\\t<tr>\\n\\t\\t\\t\\t\\t\\t\\t\\t\\t\\t\\t<td align=\"center\" colspan=\"2\"></td>\\n\\t\\t\\t\\t\\t\\t\\t\\t\\t\\t</tr>\\n\\t\\t\\t\\t\\t\\t\\t\\t\\t</tbody></table>\\n\\t\\t\\t\\t\\t\\t\\t\\t</td>\\n\\t\\t\\t\\t\\t\\t\\t</tr>\\n\\t\\t\\t\\t\\t\\t</tbody></table>\\n\\t\\t\\t\\t\\t</td>\\n\\t</tr>\\n</tbody></table>\\n\\n\\t\\t</td>\\n\\t</tr>\\n\\t<tr>\\n\\t\\t<td>&nbsp;</td>\\n\\t</tr>\\n\\t<tr>\\n\\t\\t<td>\\n\\t\\t\\t<table id=\"_ctl0_ContentPlaceHolder1_tabGrid\" style=\"DISPLAY: none\" cellspacing=\"0\" cellpadding=\"1\" border=\"0\">\\n\\t<tbody><tr>\\n\\t\\t<td class=\"titulo3\">Capacidad instaladA\\n\\t\\t\\t\\t\\t\\t<span id=\"_ctl0_ContentPlaceHolder1_lblConsulta\" class=\"titulo3\">Nacional</span></td>\\n\\t</tr>\\n\\t<tr>\\n\\t\\t<td>\\n\\t\\t\\t\\t\\t\\t<table cellspacing=\"0\" rules=\"all\" bordercolor=\"#0094C7\" border=\"1\" id=\"_ctl0_ContentPlaceHolder1_dgInforme1\" style=\"background-color:White;border-color:#0094C7;border-collapse:collapse;\">\\n\\t\\t\\t<tbody><tr class=\"tfolder\" align=\"center\" style=\"color:#FFFFEE;\">\\n\\t\\t\\t\\t<td>Concepto</td><td>Cantidad</td>\\n\\t\\t\\t</tr>\\n\\t\\t</tbody></table></td>\\n\\t</tr>\\n\\t<tr>\\n\\t\\t<td>&nbsp;</td>\\n\\t</tr>\\n\\t<tr>\\n\\t\\t<td class=\"titulo3\">capacidad instalada por nivel</td>\\n\\t</tr>\\n\\t<tr>\\n\\t\\t<td>\\n\\t\\t\\t\\t\\t\\t<table cellspacing=\"0\" rules=\"all\" bordercolor=\"#0094C7\" border=\"1\" id=\"_ctl0_ContentPlaceHolder1_dgInforme2\" style=\"background-color:White;border-color:#0094C7;border-collapse:collapse;\">\\n\\t\\t\\t<tbody><tr class=\"tfolder\" align=\"center\" style=\"color:#FFFFEE;\">\\n\\t\\t\\t\\t<td>Nivel</td><td>Concepto</td><td>Cantidad</td><td>Porcentaje</td><td>Promedio</td>\\n\\t\\t\\t</tr>\\n\\t\\t</tbody></table></td>\\n\\t</tr>\\n</tbody></table>\\n\\n\\t\\t</td>\\n\\t</tr>\\n    <tr>\\n        <td>\\n            <span id=\"_ctl0_ContentPlaceHolder1_lblWarning\" class=\"labelNormal\"></span></td>\\n    </tr>\\n</tbody></table>\\n\\n        <br>\\n        <table border=\"0\" cellpadding=\"0\" cellspacing=\"0\">\\n            <tbody><tr>\\n                <td>\\n                    </td>\\n                <td>\\n                    <img id=\"_ctl0_iGrabarFtr\" src=\"../images/grabar_dis.jpg\" align=\"bottom\" style=\"border-width:0px;\"></td>\\n                <td>\\n                    <input type=\"image\" name=\"_ctl0:ibNuevoFtr\" id=\"_ctl0_ibNuevoFtr\" src=\"../images/nuevo.jpg\" alt=\"Nuevo\" align=\"top\" style=\"border-width:0px;\"></td>\\n                <td>\\n                    <input type=\"image\" name=\"_ctl0:ibBuscarFtr\" id=\"_ctl0_ibBuscarFtr\" src=\"../images/buscar.jpg\" alt=\"Buscar\" align=\"bottom\" style=\"border-width:0px;\"></td>\\n                <td>\\n                    </td>\\n                <td>\\n                    </td>\\n                <td>\\n                    <img id=\"_ctl0_iEliminarFtr\" src=\"../images/eliminar_dis.jpg\" align=\"bottom\" style=\"border-width:0px;\"></td>\\n                <td>\\n                    <a id=\"_ctl0_hlAyudaFtr\" title=\"Ayuda\" href=\"/SIHO/ayudas/informes/capacidad.pdf\" target=\"_blank\" style=\"border-width:0px;\"><img title=\"Ayuda\" src=\"../images/ayuda.jpg\" alt=\"HyperLink\" border=\"0\"></a></td>\\n            </tr>\\n        </tbody></table>\\n    </div>\\n    </form>\\n\\n\\n</body></html>'"
      ]
     },
     "execution_count": 20,
     "metadata": {},
     "output_type": "execute_result"
    }
   ],
   "source": [
    "html = driver.page_source\n",
    "html"
   ]
  },
  {
   "cell_type": "code",
   "execution_count": 21,
   "metadata": {},
   "outputs": [],
   "source": [
    "search_button = driver.find_element(By.ID, \"_ctl0_ibBuscarFtr\")\n",
    "search_button.click()"
   ]
  },
  {
   "cell_type": "code",
   "execution_count": 22,
   "metadata": {},
   "outputs": [
    {
     "data": {
      "text/plain": [
       "True"
      ]
     },
     "execution_count": 22,
     "metadata": {},
     "output_type": "execute_result"
    }
   ],
   "source": [
    "driver.save_screenshot(\"screenshot5.png\")"
   ]
  },
  {
   "cell_type": "code",
   "execution_count": 24,
   "metadata": {},
   "outputs": [
    {
     "data": {
      "text/plain": [
       "'<html xmlns=\"http://www.w3.org/1999/xhtml\"><head><title>\\n\\tCapacidad Instalada\\n</title><link href=\"../includes/appestilos.css\" rel=\"stylesheet\"></head>\\n<body bgcolor=\"#ffffff\">\\n    <form name=\"aspnetForm\" method=\"post\" action=\"./capacidadinstaladanacional.aspx?pageTitle=Capacidad+Instalada&amp;pageHlp=%2fSIHO%2fayudas%2finformes%2fcapacidad.pdf\" id=\"aspnetForm\">\\n<input type=\"hidden\" name=\"__VIEWSTATE\" id=\"__VIEWSTATE\" value=\"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\">\\n\\n<input type=\"hidden\" name=\"__VIEWSTATEGENERATOR\" id=\"__VIEWSTATEGENERATOR\" value=\"CDDFEAAA\">\\n<input type=\"hidden\" name=\"__EVENTVALIDATION\" id=\"__EVENTVALIDATION\" value=\"/wEdAEEWp0TwBhsiyx5VIoZ5vjdu9f09lK5A3efx5e+2zoL0c8MnqKGR0rClTZ0V6RZIWXig9AnBtjjkg/VEAneC+d99h9tMfU8e9v1WYol5vWdJI6JRYX1r1HLm+1P+bJpa0Q6UtlKt+I6s0dFKPk1bR4R9/JIrGPbk0YKa3eocll4hPutj5xR1YFL/Uf8mgGvAvIZpdd4Y9hshvYycAsBkL5AK5qJlx/8+plToCkMvNhEfOvf09LlGgOEl7GJZyGi1Xbq7XLALwelQXA89io1tXN2xhYq3aYptZkHdp2HTQZR2OrxPibIic1qF/zAVkz9LJob1CSS9ilBgrPzOwalKkKiDH0gUP3oU716ueOS5MxO7R2aiCUlMlbsxPslWNuO4QO0XbmQLAuYoDFu+QjGv9Tw7Bs/H9MzvYxe4fd6/b3uqlbFjP/RfzZ9mH8XqnyTiIGoxAxZckwPeNh4kuXhUG/aTVYkKNt+UnfMkJmuwxiWyTIuMLOA52knlHouj4jwaT9COzwSpDegbgEWThrj900Tr6u93BoO0Jr2aHejoJ6d4Wu/OxG9jepiD/hwWS86FL2GurwaY3N3EdD7Hz01Y4ZL4XzXFNzxPfSYY7jSjxzGGkU3bxOSbX/eTuvnN65FKn9HLp6Tt2BaDM85pGPnzn3vWmSglbWxg1YXZev2Jj6nF8xXNjbuMoPoMGZ+1ZAtDHC1NyW5q8+xkgObj2PT+A8/kG7J4zUbTeSDrveEUKEjh8YuZnV0N1cuwhlkNAk5kYtNDUgE4hHLgzsq/0Y29KL4wmPMcT16lBftJOJ+/qI0HKcxqicS8jLehycCfsr93IRmkjjkyc2gydAYUIN2YCS6z/W9vLET03InEsEtqSNcdg0d84E12K33ftyoPXafhQ4S6eLunNsskMDPcMQjhtFK8+Ms2BL8UUPPMO9OTuzR7a3vIm49oatLWxVbS02WGBG/FepNG86aHWkvGQEC7CTBmCtPzuFhG24yzmMHzCfPpfxq4d60hPMuu/evl1usYJEukdpbPuDCH6odjciJRUjblivyNGgZmWGO9IKGEVnmYW7mr4cpC2ZEKURz58dt2hHI8HSB/DHFUeyJJFRs1sLHM9ClzmqMqemJ7ZcOATM/+mRAl0PKulRwqHgLBjO7IuAvMx158qChN3SEOrI1wLVF1hxGqcU/G/20od1FbgxZD7QgVBiBWEl0RjHTtpCcTAmI5utmSdkqQLF8EKi0nRbsf/2Gg4pcZBwZk69zUjxVQpcOwV+WXqQG2TJ9mtQDQFDO8WlGpgf8W6DsgyeC3tRbCJcspIvy3TwA9PYE044K0AySy3ZMDBFYf7VZ5oTgXHBdfB6Q//Z504WaHNVEuqY+Sq32b5I2AvK9tM7QwH9pS9wAkDqQaRxHJrOT5A4gTZAEIGakTYvZrhSSOIpcii2ys\">\\n    <div>\\n        <table border=\"0\" cellpadding=\"0\" cellspacing=\"0\">\\n            <tbody><tr>\\n                <td>\\n                    </td>\\n                <td>\\n                    <img id=\"_ctl0_iGrabarHdr\" src=\"../images/grabar_dis.jpg\" align=\"bottom\" style=\"border-width:0px;\"></td>\\n                <td>\\n                    <input type=\"image\" name=\"_ctl0:ibNuevoHdr\" id=\"_ctl0_ibNuevoHdr\" src=\"../images/nuevo.jpg\" alt=\"Nuevo\" align=\"top\" style=\"border-width:0px;\"></td>\\n                <td>\\n                    <input type=\"image\" name=\"_ctl0:ibBuscarHdr\" id=\"_ctl0_ibBuscarHdr\" src=\"../images/buscar.jpg\" alt=\"Buscar\" align=\"bottom\" style=\"border-width:0px;\"></td>\\n                <td>\\n                    </td>\\n                <td>\\n                    </td>\\n                <td>\\n                    <img id=\"_ctl0_iEliminarHdr\" src=\"../images/eliminar_dis.jpg\" align=\"bottom\" style=\"border-width:0px;\"></td>\\n                <td>\\n                    <a id=\"_ctl0_hlAyudaHdr\" title=\"Ayuda\" href=\"/SIHO/ayudas/informes/capacidad.pdf\" target=\"_blank\" style=\"border-width:0px;\"><img title=\"Ayuda\" src=\"../images/ayuda.jpg\" alt=\"HyperLink\" border=\"0\"></a></td>\\n            </tr>\\n        </tbody></table>\\n        <br>\\n        <span id=\"_ctl0_lblTitulo\" class=\"titulo3\">Capacidad Instalada</span><br>\\n        <br>\\n        \\n<table id=\"Table1\" cellspacing=\"0\" cellpadding=\"0\" width=\"90%\" border=\"0\">\\n\\t<tbody><tr>\\n\\t\\t<td>\\n\\t\\t\\t<table id=\"_ctl0_ContentPlaceHolder1_tabForm\" cellspacing=\"0\" cellpadding=\"1\" border=\"0\">\\n\\t<tbody><tr>\\n\\t\\t<td bgcolor=\"#0094C7\">\\n\\t\\t\\t\\t\\t\\t<table id=\"Table2\" cellspacing=\"0\" cellpadding=\"0\" border=\"0\">\\n\\t\\t\\t\\t\\t\\t\\t<tbody><tr>\\n\\t\\t\\t\\t\\t\\t\\t\\t<td bgcolor=\"#ffffff\">\\n\\t\\t\\t\\t\\t\\t\\t\\t\\t<table id=\"Table3\" cellspacing=\"0\" cellpadding=\"2\" align=\"center\" border=\"0\">\\n\\t\\t\\t\\t\\t\\t\\t\\t\\t\\t<tbody><tr>\\n\\t\\t\\t\\t\\t\\t\\t\\t\\t\\t\\t<td>Año</td>\\n\\t\\t\\t\\t\\t\\t\\t\\t\\t\\t\\t<td>\\n\\t\\t\\t\\t\\t\\t\\t\\t\\t\\t\\t\\t<select name=\"_ctl0:ContentPlaceHolder1:ddano\" id=\"_ctl0_ContentPlaceHolder1_ddano\" style=\"width:80px;\">\\n\\t\\t\\t<option selected=\"selected\" value=\"2002\">2002</option>\\n\\t\\t\\t<option value=\"2003\">2003</option>\\n\\t\\t\\t<option value=\"2004\">2004</option>\\n\\t\\t\\t<option value=\"2005\">2005</option>\\n\\t\\t\\t<option value=\"2006\">2006</option>\\n\\t\\t\\t<option value=\"2007\">2007</option>\\n\\t\\t\\t<option value=\"2008\">2008</option>\\n\\t\\t\\t<option value=\"2009\">2009</option>\\n\\t\\t\\t<option value=\"2010\">2010</option>\\n\\t\\t\\t<option value=\"2011\">2011</option>\\n\\t\\t\\t<option value=\"2012\">2012</option>\\n\\t\\t\\t<option value=\"2013\">2013</option>\\n\\t\\t\\t<option value=\"2014\">2014</option>\\n\\t\\t\\t<option value=\"2015\">2015</option>\\n\\t\\t\\t<option value=\"2016\">2016</option>\\n\\t\\t\\t<option value=\"2017\">2017</option>\\n\\t\\t\\t<option value=\"2018\">2018</option>\\n\\t\\t\\t<option value=\"2019\">2019</option>\\n\\t\\t\\t<option value=\"2020\">2020</option>\\n\\t\\t\\t<option value=\"2021\">2021</option>\\n\\t\\t\\t<option value=\"2022\">2022</option>\\n\\n\\t\\t</select></td>\\n\\t\\t\\t\\t\\t\\t\\t\\t\\t\\t</tr>\\n\\t\\t\\t\\t\\t\\t\\t\\t\\t\\t<tr>\\n\\t\\t\\t\\t\\t\\t\\t\\t\\t\\t\\t<td>Departamento</td>\\n\\t\\t\\t\\t\\t\\t\\t\\t\\t\\t\\t<td>\\n\\t\\t\\t\\t\\t\\t\\t\\t\\t\\t\\t\\t<select name=\"_ctl0:ContentPlaceHolder1:dddepa_codigo\" id=\"_ctl0_ContentPlaceHolder1_dddepa_codigo\" style=\"width:140px;\">\\n\\t\\t\\t<option selected=\"selected\" value=\"\"></option>\\n\\t\\t\\t<option value=\"91\">Amazonas</option>\\n\\t\\t\\t<option value=\"05\">Antioquia</option>\\n\\t\\t\\t<option value=\"81\">Arauca</option>\\n\\t\\t\\t<option value=\"88\">Archipiélago de San Andrés, Providencia y Santa Catalina</option>\\n\\t\\t\\t<option value=\"08\">Atlántico</option>\\n\\t\\t\\t<option value=\"09\">Barranquilla Distritro Especial</option>\\n\\t\\t\\t<option value=\"11\">Bogotá, D.C.</option>\\n\\t\\t\\t<option value=\"13\">Bolívar</option>\\n\\t\\t\\t<option value=\"15\">Boyacá</option>\\n\\t\\t\\t<option value=\"77\">Buenaventura Distrito Especial</option>\\n\\t\\t\\t<option value=\"17\">Caldas</option>\\n\\t\\t\\t<option value=\"78\">Cali Distrito Especial</option>\\n\\t\\t\\t<option value=\"18\">Caquetá</option>\\n\\t\\t\\t<option value=\"14\">Cartagena Distrito Especial</option>\\n\\t\\t\\t<option value=\"85\">Casanare</option>\\n\\t\\t\\t<option value=\"19\">Cauca</option>\\n\\t\\t\\t<option value=\"20\">Cesar</option>\\n\\t\\t\\t<option value=\"27\">Chocó</option>\\n\\t\\t\\t<option value=\"23\">Córdoba</option>\\n\\t\\t\\t<option value=\"25\">Cundinamarca</option>\\n\\t\\t\\t<option value=\"94\">Guainía</option>\\n\\t\\t\\t<option value=\"95\">Guaviare</option>\\n\\t\\t\\t<option value=\"41\">Huila</option>\\n\\t\\t\\t<option value=\"44\">La Guajira</option>\\n\\t\\t\\t<option value=\"47\">Magdalena</option>\\n\\t\\t\\t<option value=\"50\">Meta</option>\\n\\t\\t\\t<option value=\"52\">Nariño</option>\\n\\t\\t\\t<option value=\"54\">Norte de Santander</option>\\n\\t\\t\\t<option value=\"86\">Putumayo</option>\\n\\t\\t\\t<option value=\"63\">Quindío</option>\\n\\t\\t\\t<option value=\"66\">Risaralda</option>\\n\\t\\t\\t<option value=\"48\">Santa Marta Distrito Especial</option>\\n\\t\\t\\t<option value=\"68\">Santander</option>\\n\\t\\t\\t<option value=\"70\">Sucre</option>\\n\\t\\t\\t<option value=\"73\">Tolima</option>\\n\\t\\t\\t<option value=\"76\">Valle del Cauca</option>\\n\\t\\t\\t<option value=\"97\">Vaupés</option>\\n\\t\\t\\t<option value=\"99\">Vichada</option>\\n\\n\\t\\t</select></td>\\n\\t\\t\\t\\t\\t\\t\\t\\t\\t\\t</tr>\\n\\t\\t\\t\\t\\t\\t\\t\\t\\t\\t<tr>\\n\\t\\t\\t\\t\\t\\t\\t\\t\\t\\t\\t<td colspan=\"2\">&nbsp;</td>\\n\\t\\t\\t\\t\\t\\t\\t\\t\\t\\t</tr>\\n\\t\\t\\t\\t\\t\\t\\t\\t\\t\\t<tr>\\n\\t\\t\\t\\t\\t\\t\\t\\t\\t\\t\\t<td align=\"center\" colspan=\"2\"></td>\\n\\t\\t\\t\\t\\t\\t\\t\\t\\t\\t</tr>\\n\\t\\t\\t\\t\\t\\t\\t\\t\\t</tbody></table>\\n\\t\\t\\t\\t\\t\\t\\t\\t</td>\\n\\t\\t\\t\\t\\t\\t\\t</tr>\\n\\t\\t\\t\\t\\t\\t</tbody></table>\\n\\t\\t\\t\\t\\t</td>\\n\\t</tr>\\n</tbody></table>\\n\\n\\t\\t</td>\\n\\t</tr>\\n\\t<tr>\\n\\t\\t<td>&nbsp;</td>\\n\\t</tr>\\n\\t<tr>\\n\\t\\t<td>\\n\\t\\t\\t<table id=\"_ctl0_ContentPlaceHolder1_tabGrid\" style=\"DISPLAY: block;\" cellspacing=\"0\" cellpadding=\"1\" border=\"0\">\\n\\t<tbody><tr>\\n\\t\\t<td class=\"titulo3\">Capacidad instaladA\\n\\t\\t\\t\\t\\t\\t<span id=\"_ctl0_ContentPlaceHolder1_lblConsulta\" class=\"titulo3\">Nacional</span></td>\\n\\t</tr>\\n\\t<tr>\\n\\t\\t<td>\\n\\t\\t\\t\\t\\t\\t<table cellspacing=\"0\" rules=\"all\" bordercolor=\"#0094C7\" border=\"1\" id=\"_ctl0_ContentPlaceHolder1_dgInforme1\" style=\"background-color:White;border-color:#0094C7;border-collapse:collapse;\">\\n\\t\\t\\t<tbody><tr class=\"tfolder\" align=\"center\" style=\"color:#FFFFEE;\">\\n\\t\\t\\t\\t<td>Concepto</td><td>Cantidad</td>\\n\\t\\t\\t</tr><tr>\\n\\t\\t\\t\\t<td>Camas de hospitalización</td><td align=\"right\">25.224</td>\\n\\t\\t\\t</tr><tr>\\n\\t\\t\\t\\t<td>Camas de observación</td><td align=\"right\">4.742</td>\\n\\t\\t\\t</tr><tr>\\n\\t\\t\\t\\t<td>Consultorios de consulta externa</td><td align=\"right\">6.131</td>\\n\\t\\t\\t</tr><tr>\\n\\t\\t\\t\\t<td>Consultorios en el servicio de urgencias</td><td align=\"right\">1.496</td>\\n\\t\\t\\t</tr><tr>\\n\\t\\t\\t\\t<td>Salas de quirófanos</td><td align=\"right\">810</td>\\n\\t\\t\\t</tr><tr>\\n\\t\\t\\t\\t<td>Mesas de partos</td><td align=\"right\">1.472</td>\\n\\t\\t\\t</tr><tr>\\n\\t\\t\\t\\t<td>Número de unidades de odontología</td><td align=\"right\">2.815</td>\\n\\t\\t\\t</tr>\\n\\t\\t</tbody></table></td>\\n\\t</tr>\\n\\t<tr>\\n\\t\\t<td>&nbsp;</td>\\n\\t</tr>\\n\\t<tr>\\n\\t\\t<td class=\"titulo3\">capacidad instalada por nivel</td>\\n\\t</tr>\\n\\t<tr>\\n\\t\\t<td>\\n\\t\\t\\t\\t\\t\\t<table cellspacing=\"0\" rules=\"all\" bordercolor=\"#0094C7\" border=\"1\" id=\"_ctl0_ContentPlaceHolder1_dgInforme2\" style=\"background-color:White;border-color:#0094C7;border-collapse:collapse;\">\\n\\t\\t\\t<tbody><tr class=\"tfolder\" align=\"center\" style=\"color:#FFFFEE;\">\\n\\t\\t\\t\\t<td>Nivel</td><td>Concepto</td><td>Cantidad</td><td>Porcentaje</td><td>Promedio</td>\\n\\t\\t\\t</tr><tr>\\n\\t\\t\\t\\t<td align=\"center\">1</td><td>Camas de hospitalización</td><td align=\"right\">9.385</td><td align=\"right\">37,17</td><td align=\"right\">11,29</td>\\n\\t\\t\\t</tr><tr>\\n\\t\\t\\t\\t<td align=\"center\">2</td><td>Camas de hospitalización</td><td align=\"right\">9.964</td><td align=\"right\">39,46</td><td align=\"right\">76,06</td>\\n\\t\\t\\t</tr><tr>\\n\\t\\t\\t\\t<td align=\"center\">3</td><td>Camas de hospitalización</td><td align=\"right\">5.875</td><td align=\"right\">23,27</td><td align=\"right\">202,59</td>\\n\\t\\t\\t</tr><tr>\\n\\t\\t\\t\\t<td align=\"center\">1</td><td>Camas de observación</td><td align=\"right\">2.528</td><td align=\"right\">53,24</td><td align=\"right\">3,09</td>\\n\\t\\t\\t</tr><tr>\\n\\t\\t\\t\\t<td align=\"center\">2</td><td>Camas de observación</td><td align=\"right\">1.308</td><td align=\"right\">27,55</td><td align=\"right\">10,06</td>\\n\\t\\t\\t</tr><tr>\\n\\t\\t\\t\\t<td align=\"center\">3</td><td>Camas de observación</td><td align=\"right\">906</td><td align=\"right\">19,08</td><td align=\"right\">31,24</td>\\n\\t\\t\\t</tr><tr>\\n\\t\\t\\t\\t<td align=\"center\">1</td><td>Consultorios de consulta externa</td><td align=\"right\">3.907</td><td align=\"right\">63,69</td><td align=\"right\">4,79</td>\\n\\t\\t\\t</tr><tr>\\n\\t\\t\\t\\t<td align=\"center\">2</td><td>Consultorios de consulta externa</td><td align=\"right\">1.614</td><td align=\"right\">26,31</td><td align=\"right\">12,51</td>\\n\\t\\t\\t</tr><tr>\\n\\t\\t\\t\\t<td align=\"center\">3</td><td>Consultorios de consulta externa</td><td align=\"right\">610</td><td align=\"right\">9,94</td><td align=\"right\">21,79</td>\\n\\t\\t\\t</tr><tr>\\n\\t\\t\\t\\t<td align=\"center\">1</td><td>Consultorios en el servicio de urgencias</td><td align=\"right\">1.040</td><td align=\"right\">69,47</td><td align=\"right\">1,30</td>\\n\\t\\t\\t</tr><tr>\\n\\t\\t\\t\\t<td align=\"center\">2</td><td>Consultorios en el servicio de urgencias</td><td align=\"right\">349</td><td align=\"right\">23,31</td><td align=\"right\">2,71</td>\\n\\t\\t\\t</tr><tr>\\n\\t\\t\\t\\t<td align=\"center\">3</td><td>Consultorios en el servicio de urgencias</td><td align=\"right\">107</td><td align=\"right\">7,15</td><td align=\"right\">3,82</td>\\n\\t\\t\\t</tr><tr>\\n\\t\\t\\t\\t<td align=\"center\">1</td><td>Salas de quirófanos</td><td align=\"right\">386</td><td align=\"right\">47,65</td><td align=\"right\">0,54</td>\\n\\t\\t\\t</tr><tr>\\n\\t\\t\\t\\t<td align=\"center\">2</td><td>Salas de quirófanos</td><td align=\"right\">276</td><td align=\"right\">34,07</td><td align=\"right\">2,21</td>\\n\\t\\t\\t</tr><tr>\\n\\t\\t\\t\\t<td align=\"center\">3</td><td>Salas de quirófanos</td><td align=\"right\">148</td><td align=\"right\">18,27</td><td align=\"right\">5,48</td>\\n\\t\\t\\t</tr><tr>\\n\\t\\t\\t\\t<td align=\"center\">1</td><td>Mesas de partos</td><td align=\"right\">1.187</td><td align=\"right\">80,58</td><td align=\"right\">1,48</td>\\n\\t\\t\\t</tr><tr>\\n\\t\\t\\t\\t<td align=\"center\">2</td><td>Mesas de partos</td><td align=\"right\">232</td><td align=\"right\">15,75</td><td align=\"right\">1,86</td>\\n\\t\\t\\t</tr><tr>\\n\\t\\t\\t\\t<td align=\"center\">3</td><td>Mesas de partos</td><td align=\"right\">53</td><td align=\"right\">3,60</td><td align=\"right\">2,04</td>\\n\\t\\t\\t</tr><tr>\\n\\t\\t\\t\\t<td align=\"center\">1</td><td>Número de unidades de odontología</td><td align=\"right\">2.257</td><td align=\"right\">80,12</td><td align=\"right\">2,79</td>\\n\\t\\t\\t</tr><tr>\\n\\t\\t\\t\\t<td align=\"center\">2</td><td>Número de unidades de odontología</td><td align=\"right\">518</td><td align=\"right\">18,39</td><td align=\"right\">4,35</td>\\n\\t\\t\\t</tr><tr>\\n\\t\\t\\t\\t<td align=\"center\">3</td><td>Número de unidades de odontología</td><td align=\"right\">40</td><td align=\"right\">1,42</td><td align=\"right\">1,82</td>\\n\\t\\t\\t</tr>\\n\\t\\t</tbody></table></td>\\n\\t</tr>\\n</tbody></table>\\n\\n\\t\\t</td>\\n\\t</tr>\\n    <tr>\\n        <td>\\n            <span id=\"_ctl0_ContentPlaceHolder1_lblWarning\" class=\"labelNormal\"></span></td>\\n    </tr>\\n</tbody></table>\\n\\n        <br>\\n        <table border=\"0\" cellpadding=\"0\" cellspacing=\"0\">\\n            <tbody><tr>\\n                <td>\\n                    </td>\\n                <td>\\n                    <img id=\"_ctl0_iGrabarFtr\" src=\"../images/grabar_dis.jpg\" align=\"bottom\" style=\"border-width:0px;\"></td>\\n                <td>\\n                    <input type=\"image\" name=\"_ctl0:ibNuevoFtr\" id=\"_ctl0_ibNuevoFtr\" src=\"../images/nuevo.jpg\" alt=\"Nuevo\" align=\"top\" style=\"border-width:0px;\"></td>\\n                <td>\\n                    <input type=\"image\" name=\"_ctl0:ibBuscarFtr\" id=\"_ctl0_ibBuscarFtr\" src=\"../images/buscar.jpg\" alt=\"Buscar\" align=\"bottom\" style=\"border-width:0px;\"></td>\\n                <td>\\n                    </td>\\n                <td>\\n                    </td>\\n                <td>\\n                    <img id=\"_ctl0_iEliminarFtr\" src=\"../images/eliminar_dis.jpg\" align=\"bottom\" style=\"border-width:0px;\"></td>\\n                <td>\\n                    <a id=\"_ctl0_hlAyudaFtr\" title=\"Ayuda\" href=\"/SIHO/ayudas/informes/capacidad.pdf\" target=\"_blank\" style=\"border-width:0px;\"><img title=\"Ayuda\" src=\"../images/ayuda.jpg\" alt=\"HyperLink\" border=\"0\"></a></td>\\n            </tr>\\n        </tbody></table>\\n    </div>\\n    </form>\\n\\n\\n</body></html>'"
      ]
     },
     "execution_count": 24,
     "metadata": {},
     "output_type": "execute_result"
    }
   ],
   "source": [
    "html = driver.page_source\n",
    "html"
   ]
  },
  {
   "cell_type": "code",
   "execution_count": 47,
   "metadata": {},
   "outputs": [],
   "source": [
    "search_select = driver.find_element(By.ID, \"_ctl0_ContentPlaceHolder1_ddano\")\n",
    "select = Select(search_select)"
   ]
  },
  {
   "cell_type": "code",
   "execution_count": 48,
   "metadata": {},
   "outputs": [
    {
     "data": {
      "text/plain": [
       "(['2002',\n",
       "  '2003',\n",
       "  '2004',\n",
       "  '2005',\n",
       "  '2006',\n",
       "  '2007',\n",
       "  '2008',\n",
       "  '2009',\n",
       "  '2010',\n",
       "  '2011',\n",
       "  '2012',\n",
       "  '2013',\n",
       "  '2014',\n",
       "  '2015',\n",
       "  '2016',\n",
       "  '2017',\n",
       "  '2018',\n",
       "  '2019',\n",
       "  '2020',\n",
       "  '2021',\n",
       "  '2022'],\n",
       " 21)"
      ]
     },
     "execution_count": 48,
     "metadata": {},
     "output_type": "execute_result"
    }
   ],
   "source": [
    "options_list = select.options\n",
    "options_list_values = [option.get_attribute(\"value\") for option in options_list]\n",
    "options_list_values, len(options_list_values)"
   ]
  },
  {
   "cell_type": "code",
   "execution_count": 41,
   "metadata": {},
   "outputs": [],
   "source": [
    "select.select_by_value(options_list_values[-1])"
   ]
  },
  {
   "cell_type": "code",
   "execution_count": 42,
   "metadata": {},
   "outputs": [
    {
     "data": {
      "text/plain": [
       "True"
      ]
     },
     "execution_count": 42,
     "metadata": {},
     "output_type": "execute_result"
    }
   ],
   "source": [
    "driver.save_screenshot(\"screenshot6.png\")"
   ]
  },
  {
   "cell_type": "code",
   "execution_count": 50,
   "metadata": {},
   "outputs": [],
   "source": [
    "search_select = driver.find_element(By.ID, \"_ctl0_ContentPlaceHolder1_dddepa_codigo\")\n",
    "select = Select(search_select)"
   ]
  },
  {
   "cell_type": "code",
   "execution_count": 51,
   "metadata": {},
   "outputs": [
    {
     "data": {
      "text/plain": [
       "(['',\n",
       "  'Amazonas',\n",
       "  'Antioquia',\n",
       "  'Arauca',\n",
       "  'Archipiélago de San Andrés, Providencia y Santa Catalina',\n",
       "  'Atlántico',\n",
       "  'Barranquilla Distritro Especial',\n",
       "  'Bogotá, D.C.',\n",
       "  'Bolívar',\n",
       "  'Boyacá',\n",
       "  'Buenaventura Distrito Especial',\n",
       "  'Caldas',\n",
       "  'Cali Distrito Especial',\n",
       "  'Caquetá',\n",
       "  'Cartagena Distrito Especial',\n",
       "  'Casanare',\n",
       "  'Cauca',\n",
       "  'Cesar',\n",
       "  'Chocó',\n",
       "  'Córdoba',\n",
       "  'Cundinamarca',\n",
       "  'Guainía',\n",
       "  'Guaviare',\n",
       "  'Huila',\n",
       "  'La Guajira',\n",
       "  'Magdalena',\n",
       "  'Meta',\n",
       "  'Nariño',\n",
       "  'Norte de Santander',\n",
       "  'Putumayo',\n",
       "  'Quindío',\n",
       "  'Risaralda',\n",
       "  'Santa Marta Distrito Especial',\n",
       "  'Santander',\n",
       "  'Sucre',\n",
       "  'Tolima',\n",
       "  'Valle del Cauca',\n",
       "  'Vaupés',\n",
       "  'Vichada'],\n",
       " 39)"
      ]
     },
     "execution_count": 51,
     "metadata": {},
     "output_type": "execute_result"
    }
   ],
   "source": [
    "options_list = select.options\n",
    "options_list_values = [option.text for option in options_list]\n",
    "options_list_values, len(options_list_values)"
   ]
  },
  {
   "cell_type": "code",
   "execution_count": 53,
   "metadata": {},
   "outputs": [],
   "source": [
    "select.select_by_visible_text(options_list_values[-1])"
   ]
  },
  {
   "cell_type": "code",
   "execution_count": 54,
   "metadata": {},
   "outputs": [
    {
     "data": {
      "text/plain": [
       "True"
      ]
     },
     "execution_count": 54,
     "metadata": {},
     "output_type": "execute_result"
    }
   ],
   "source": [
    "driver.save_screenshot(\"screenshot7.png\")"
   ]
  }
 ],
 "metadata": {
  "kernelspec": {
   "display_name": "env",
   "language": "python",
   "name": "python3"
  },
  "language_info": {
   "codemirror_mode": {
    "name": "ipython",
    "version": 3
   },
   "file_extension": ".py",
   "mimetype": "text/x-python",
   "name": "python",
   "nbconvert_exporter": "python",
   "pygments_lexer": "ipython3",
   "version": "3.10.6"
  },
  "orig_nbformat": 4
 },
 "nbformat": 4,
 "nbformat_minor": 2
}
