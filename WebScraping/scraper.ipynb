{
 "cells": [
  {
   "cell_type": "code",
   "execution_count": 1,
   "metadata": {},
   "outputs": [],
   "source": [
    "from bs4 import BeautifulSoup\n",
    "from selenium import webdriver\n",
    "from selenium.webdriver.common.by import By"
   ]
  },
  {
   "cell_type": "code",
   "execution_count": 2,
   "metadata": {},
   "outputs": [],
   "source": [
    "siho_url = \"https://prestadores.minsalud.gov.co/SIHO/\""
   ]
  },
  {
   "cell_type": "code",
   "execution_count": 3,
   "metadata": {},
   "outputs": [],
   "source": [
    "options = webdriver.ChromeOptions()\n",
    "options.add_argument('--ignore-certificate-errors')\n",
    "options.add_argument('--incognito')\n",
    "options.add_argument('--headless')\n",
    "driver = webdriver.Chrome(options)"
   ]
  },
  {
   "cell_type": "code",
   "execution_count": 4,
   "metadata": {},
   "outputs": [],
   "source": [
    "driver.get(siho_url)"
   ]
  },
  {
   "cell_type": "code",
   "execution_count": 5,
   "metadata": {},
   "outputs": [
    {
     "data": {
      "text/plain": [
       "True"
      ]
     },
     "execution_count": 5,
     "metadata": {},
     "output_type": "execute_result"
    }
   ],
   "source": [
    "driver.save_screenshot(\"screenshot1.png\")"
   ]
  },
  {
   "cell_type": "code",
   "execution_count": 6,
   "metadata": {},
   "outputs": [
    {
     "data": {
      "text/plain": [
       "'<html><head>\\n\\t\\t<title>Información de Hospitales :: Dirección de Prestación de Servicios y Atención Primaria :: Ministerio de Salud y Protección Social</title>\\n\\t\\t<meta content=\"text/html; charset=windows-1252\" http-equiv=\"Content-Type\">\\n\\t\\t<meta name=\"description\" content=\"SIHO :: Sistema de Información Hospitalaria de la Dirección de Prestación de Servicios y Atención Primaria del Ministerio de Salud y Protección Social de Colombia.\">\\n\\t\\t<meta name=\"keywords\" content=\"Gestion, Hospitales, Publicos, SIHO, Proteccion, Social, Decreto 2193\">\\n        <link rel=\"SHORTCUT ICON\" href=\"images/siho.ico\">\\n\\t\\t<!--meta http-equiv=\"refresh\" content=\"5;url=/pubs\"-->\\n<!--\\n// Author: Germán Ricardo Aragón Ospina (garagonospina@hotmail.com)\\n// Update: 2010/05/31\\n// Actualización:   2012/01/13 Jail Tao Ortiz\\n//-->\\n\\t</head>\\n\\t<frameset border=\"0\" frameborder=\"0\" framespacing=\"0\" rows=\"70,*,18\">\\n\\t\\t<frame marginheight=\"1\" marginwidth=\"1\" name=\"areatop\" noresize=\"\" scrolling=\"no\" src=\"top.htm\">\\n\\t\\t<frame marginheight=\"20\" marginwidth=\"10\" name=\"areawork\" noresize=\"\" src=\"work.aspx\">\\n\\t\\t<frame marginheight=\"0\" marginwidth=\"0\" name=\"areastatus\" noresize=\"\" scrolling=\"no\" src=\"status.aspx\">\\n\\t</frameset>\\n</html>'"
      ]
     },
     "execution_count": 6,
     "metadata": {},
     "output_type": "execute_result"
    }
   ],
   "source": [
    "html = driver.page_source\n",
    "html"
   ]
  },
  {
   "cell_type": "code",
   "execution_count": 7,
   "metadata": {},
   "outputs": [],
   "source": [
    "frame_elements = driver.find_elements(By.TAG_NAME, \"frame\")"
   ]
  },
  {
   "cell_type": "code",
   "execution_count": 8,
   "metadata": {},
   "outputs": [],
   "source": [
    "driver.switch_to.frame(frame_elements[1])"
   ]
  },
  {
   "cell_type": "code",
   "execution_count": 9,
   "metadata": {},
   "outputs": [
    {
     "data": {
      "text/plain": [
       "'<html><head>\\n\\t\\t<title>work</title>\\n\\t\\t<meta content=\"Microsoft Visual Studio .NET 7.1\" name=\"GENERATOR\">\\n\\t\\t<meta content=\"C#\" name=\"CODE_LANGUAGE\">\\n\\t\\t<meta content=\"JavaScript\" name=\"vs_defaultClientScript\">\\n\\t\\t<meta content=\"http://schemas.microsoft.com/intellisense/ie5\" name=\"vs_targetSchema\">\\n\\t\\t<link href=\"includes/appestilos.css\" rel=\"stylesheet\">\\n\\t\\t<script language=\"javascript\">\\nfunction syncFrames()\\n{\\n/*\\n\\tif (top.opener)\\n\\t\\t{\\n\\t\\ttop.opener.location.href=\\'/SIHO/work.aspx?tOut=true\\';\\n\\t\\ttop.opener.focus();\\n\\t\\twindow.close();\\n\\t\\t}\\n\\telse\\n\\t\\ttop.parent.areastatus.location = \\'status.aspx\\';\\n*/\\n\\tif (window.document.Form1.tbid_usuario.value == \\'\\')\\n\\t   {\\n\\t   window.document.Form1.tbid_usuario.value=\\'invitado\\';\\n\\t   window.document.Form1.tbcontrasena.value=\\'invitado\\';\\n\\t   }\\n/*\\telse*/\\n\\t   top.parent.areastatus.location = \\'status.aspx\\';\\n\\n}\\n\\nfunction help()\\n{\\n\\turl=\"ayudas/ayudageneral.pdf\";\\n\\tnombre=\"ayuda\";\\n\\tatributos=\"toolbar=no,location=no,status=no,menubar=no,scrollbars=no,resizable=yes,width=350,height=300\";\\n\\tif (top.ayuda)\\n\\t\\ttop.ayuda.focus();\\n\\telse\\n\\t\\twindow.open(url,nombre,atributos);\\n}\\n\\nfunction about()\\n{\\n   url=\"acercade.htm\";\\n   nombre=\"acercade\";\\n   atributos=\"toolbar=no,location=no,status=no,menubar=no,scrollbars=no,resizable=no,width=350,height=300\";\\n   if (top.acercade)\\n      top.acercade.focus();\\n   else\\n      window.open(url,nombre,atributos);\\nreturn;\\n}\\n\\nfunction salir()\\n{\\n      top.window.close();\\nreturn;\\n}\\n\\nfunction reporte()\\n{\\n\\turl=\"ayudas/ReporteCumplimiento_2022.pdf\";\\n\\tnombre=\"ReporteCumplimiento\";\\n\\tatributos=\"toolbar=no,location=no,status=no,menubar=no,scrollbars=no,resizable=yes,width=350,height=300\";\\n\\tif (top.ReporteCumplimiento)\\n\\t\\ttop.ReporteCumplimiento.focus();\\n\\telse\\n\\t\\twindow.open(url,nombre,atributos);\\n}\\n\\nfunction doOutLine(object)\\n{\\n   var targetElement;\\n   var obj = object.name;\\n   targetElement = document.all(obj + \\'Child\\');\\n\\n   if (targetElement.style.display == \"block\")\\n      targetElement.style.display = \"none\";\\n   else\\n      targetElement.style.display = \"block\";\\n}\\n\\n\\t\\t</script>\\n\\t</head>\\n\\t<body bgcolor=\"#ffffff\" onload=\"syncFrames()\" marginwidth=\"10\" marginheight=\"20\">\\n\\t\\t<form name=\"Form1\" method=\"post\" action=\"./work.aspx\" id=\"Form1\">\\n<input type=\"hidden\" name=\"__VIEWSTATE\" id=\"__VIEWSTATE\" value=\"/wEPDwUJOTQyMzIxOTI3ZGTGVG3tnitgCzgmmr+jUwlcJpL2G1x64lNaZXhP6QtMrQ==\">\\n\\n<input type=\"hidden\" name=\"__VIEWSTATEGENERATOR\" id=\"__VIEWSTATEGENERATOR\" value=\"1532DAF9\">\\n<input type=\"hidden\" name=\"__EVENTVALIDATION\" id=\"__EVENTVALIDATION\" value=\"/wEdAASavozIRsHDpfTlMqyR+vV4N+LQ/gIVG6ifezZMWCXUi8o0G4mKGyw5Q/PBQb3URA9t8fuKsCMPoOSzzbQvlqRNVf3qVECr6ae2A7I9FpJn8yoCyzYR+kelIO/7CNCZLYY=\">\\n\\t\\t\\t<table cellspacing=\"0\" cellpadding=\"0\" width=\"100%\" border=\"0\">\\n\\t\\t\\t\\t<tbody><tr>\\n\\t\\t\\t\\t\\t<td valign=\"top\">\\n\\t\\t\\t\\t\\t\\t<!--Mensaje encima de login-->\\n\\t\\t\\t\\t\\t\\t<!--\\n\\t\\t\\t\\t\\t\\t<MARQUEE style=\"BORDER-RIGHT: #008844 1px solid; BORDER-TOP: #008844 1px solid; BORDER-LEFT: #008844 1px solid; WIDTH: 180px; BORDER-BOTTOM: #008844 1px solid; HEIGHT: 200px\"\\n\\t\\t\\t\\t\\t\\t\\tscrollDelay=\"150\" direction=\"up\" behavior=\"slide\" loop=\"-1\" bgColor=\"white\">\\n\\t\\t\\t\\t\\t\\t\\t\\t<P align=\"justify\"><FONT color=\"#000080\"><b>Por seguridad de su CONTRASEÑA</b>.<br><br></FONT>\\n\\t\\t\\t\\t\\t\\t\\t\\tNo utilice como contraseña el nombre de usuario.<br>\\n\\t\\t\\t\\t\\t\\t\\t\\tNo utilice contraseñas en blanco.<br>\\n\\t\\t\\t\\t\\t\\t\\t\\tPuede utilizar hasta 20 caracteres combinados entre letras, números y símbolos.<br>\\n\\t\\t\\t\\t\\t\\t\\t\\tNo diga sus contraseñas a terceros.<br>\\n\\t\\t\\t\\t\\t\\t\\t\\tSi almacena sus contraseñas hágalo en un lugar seguro.\\n\\t\\t\\t\\t\\t\\t\\t\\t</P>\\n\\t\\t\\t\\t\\t\\t</MARQUEE>\\n\\t\\t\\t\\t\\t\\t<BR>\\n\\t\\t\\t\\t\\t\\t<br>\\n-->\\n\\t\\t\\t\\t\\t\\t<!--Fin mensaje encima de login -->\\n\\t\\t\\t\\t\\t\\t<table id=\"Table1\" cellspacing=\"0\" cellpadding=\"0\" border=\"0\" style=\"width: 187px\">\\n\\t\\t\\t\\t\\t\\t\\t<tbody><tr>\\n\\t\\t\\t\\t\\t\\t\\t\\t<td>\\n\\t\\t\\t\\t\\t\\t\\t\\t\\t<table id=\"Table2\" cellspacing=\"0\" cellpadding=\"0\" width=\"100%\" border=\"0\">\\n\\t\\t\\t\\t\\t\\t\\t\\t\\t\\t<tbody><tr>\\n\\t\\t\\t\\t\\t\\t\\t\\t\\t\\t\\t<td valign=\"top\" background=\"images/rdlft.gif\" style=\"height: 23px\"><img height=\"1\" src=\"images/spacer.gif\" width=\"5\" border=\"0\"></td>\\n\\t\\t\\t\\t\\t\\t\\t\\t\\t\\t\\t<td class=\"tfolder\" style=\"width: 100%; height: 23px\" align=\"center\"><a href=\"#\" class=\"tfolder\" name=\"itemLogin\" onclick=\"javascript:doOutLine(this);\" title=\"Acceso a Funcionarios\">Entrada de&nbsp;Usuarios</a></td>\\n\\t\\t\\t\\t\\t\\t\\t\\t\\t\\t\\t<td valign=\"top\" background=\"images/rdrgt.gif\" style=\"height: 23px\" align=\"center\"><img height=\"1\" src=\"area_files/spacer.gif\" width=\"15\" border=\"0\"></td>\\n\\t\\t\\t\\t\\t\\t\\t\\t\\t\\t</tr>\\n\\t\\t\\t\\t\\t\\t\\t\\t\\t</tbody></table>\\n\\t\\t\\t\\t\\t\\t\\t\\t</td>\\n\\t\\t\\t\\t\\t\\t\\t</tr>\\n\\t\\t\\t\\t\\t\\t\\t<tr>\\n\\t\\t\\t\\t\\t\\t\\t\\t<td style=\"height: 558px\">\\n\\t\\t\\t\\t\\t\\t\\t\\t\\t<div id=\"itemLoginChild\" style=\"DISPLAY:block\">\\n\\t\\t\\t\\t\\t\\t\\t\\t\\t\\t<table id=\"Table3\" cellspacing=\"0\" cellpadding=\"1\" width=\"100%\" border=\"0\">\\n\\t\\t\\t\\t\\t\\t\\t\\t\\t\\t\\t<tbody><tr>\\n\\t\\t\\t\\t\\t\\t\\t\\t\\t\\t\\t\\t<td bgcolor=\"#0094C7\">\\n\\t\\t\\t\\t\\t\\t\\t\\t\\t\\t\\t\\t\\t<table id=\"Table4\" cellspacing=\"0\" cellpadding=\"0\" width=\"100%\" border=\"0\">\\n\\t\\t\\t\\t\\t\\t\\t\\t\\t\\t\\t\\t\\t\\t<tbody><tr>\\n\\t\\t\\t\\t\\t\\t\\t\\t\\t\\t\\t\\t\\t\\t\\t<td bgcolor=\"#ffffff\" style=\"width: 179px; height: 143px;\">\\n\\t\\t\\t\\t\\t\\t\\t\\t\\t\\t\\t\\t\\t\\t\\t\\t<table id=\"Table5\" cellspacing=\"0\" cellpadding=\"0\" border=\"0\" width=\"100%\">\\n\\t\\t\\t\\t\\t\\t\\t\\t\\t\\t\\t\\t\\t\\t\\t\\t\\t<tbody><tr>\\n\\t\\t\\t\\t\\t\\t\\t\\t\\t\\t\\t\\t\\t\\t\\t\\t\\t\\t<td style=\"height: 30px\" align=\"center\">\\n                                                                            Usuario</td>\\n\\t\\t\\t\\t\\t\\t\\t\\t\\t\\t\\t\\t\\t\\t\\t\\t\\t\\t<td style=\"height: 30px\" align=\"center\">\\n                                                                            <input name=\"tbid_usuario\" type=\"text\" maxlength=\"20\" id=\"tbid_usuario\" style=\"height:23px;width:100px;\"></td>\\n\\t\\t\\t\\t\\t\\t\\t\\t\\t\\t\\t\\t\\t\\t\\t\\t\\t</tr>\\n\\t\\t\\t\\t\\t\\t\\t\\t\\t\\t\\t\\t\\t\\t\\t\\t\\t<tr>\\n\\t\\t\\t\\t\\t\\t\\t\\t\\t\\t\\t\\t\\t\\t\\t\\t\\t\\t<td style=\"height: 30px\" align=\"center\">\\n                                                                            Contraseña</td>\\n\\t\\t\\t\\t\\t\\t\\t\\t\\t\\t\\t\\t\\t\\t\\t\\t\\t\\t<td style=\"height: 30px\" align=\"center\">\\n                                                                            <input name=\"tbcontrasena\" type=\"password\" id=\"tbcontrasena\" style=\"height:23px;width:100px;\"></td>\\n\\t\\t\\t\\t\\t\\t\\t\\t\\t\\t\\t\\t\\t\\t\\t\\t\\t</tr>\\n\\t\\t\\t\\t\\t\\t\\t\\t\\t\\t\\t\\t\\t\\t\\t\\t\\t<tr>\\n\\t\\t\\t\\t\\t\\t\\t\\t\\t\\t\\t\\t\\t\\t\\t\\t\\t\\t<td align=\"center\" colspan=\"2\">\\n                                                                            <br>\\n                                                                            <input type=\"submit\" name=\"btnIngresar\" value=\"Ingresar\" id=\"btnIngresar\" style=\"height:20px;width:90px;\"></td>\\n\\t\\t\\t\\t\\t\\t\\t\\t\\t\\t\\t\\t\\t\\t\\t\\t\\t</tr>\\n\\t\\t\\t\\t\\t\\t\\t\\t\\t\\t\\t\\t\\t\\t\\t\\t\\t<tr>\\n\\t\\t\\t\\t\\t\\t\\t\\t\\t\\t\\t\\t\\t\\t\\t\\t\\t\\t<td colspan=\"2\" style=\"height: 26px\" align=\"center\">\\n                                                                            <br>\\n                                                                            <span id=\"lblIngresar\" style=\"color:#CC0044;font-weight:normal;\"></span></td>\\n\\t\\t\\t\\t\\t\\t\\t\\t\\t\\t\\t\\t\\t\\t\\t\\t\\t</tr>\\n\\t\\t\\t\\t\\t\\t\\t\\t\\t\\t\\t\\t\\t\\t\\t\\t</tbody></table>\\n                                                                &nbsp; &nbsp; &nbsp;&nbsp;&nbsp; Registro: 20230721-PRO</td>\\n\\t\\t\\t\\t\\t\\t\\t\\t\\t\\t\\t\\t\\t\\t</tr>\\n\\t\\t\\t\\t\\t\\t\\t\\t\\t\\t\\t\\t\\t</tbody></table>\\n\\t\\t\\t\\t\\t\\t\\t\\t\\t\\t\\t\\t</td>\\n\\t\\t\\t\\t\\t\\t\\t\\t\\t\\t\\t</tr>\\n\\t\\t\\t\\t\\t\\t\\t\\t\\t\\t\\t<tr>\\n\\t\\t\\t\\t\\t\\t\\t\\t\\t\\t\\t\\t<td></td>\\n\\t\\t\\t\\t\\t\\t\\t\\t\\t\\t\\t</tr>\\n\\t\\t\\t\\t\\t\\t\\t\\t\\t\\t\\t<tr>\\n\\t\\t\\t\\t\\t\\t\\t\\t\\t\\t\\t\\t<td bgcolor=\"#0094C7\">\\n\\t\\t\\t\\t\\t\\t\\t\\t\\t\\t\\t\\t\\t<table cellpadding=\"0\" cellspacing=\"0\" border=\"0\" width=\"100%\" style=\"height: 1px\">\\n\\t\\t\\t\\t\\t\\t\\t\\t\\t\\t\\t\\t\\t\\t<tbody><tr>\\n\\t\\t\\t\\t\\t\\t\\t\\t\\t\\t\\t\\t\\t\\t\\t<td bgcolor=\"#ffffff\">\\n\\t\\t\\t\\t\\t\\t\\t\\t\\t\\t\\t\\t\\t\\t\\t\\t<table id=\"Table6\" cellspacing=\"0\" cellpadding=\"1\" border=\"0\">\\n\\t\\t\\t\\t\\t\\t\\t\\t\\t\\t\\t\\t\\t\\t\\t\\t\\t<tbody><tr>\\n\\t\\t\\t\\t\\t\\t\\t\\t\\t\\t\\t\\t\\t\\t\\t\\t\\t\\t<td style=\"height: 15px\"><img src=\"images/bullet.gif\" border=\"0\"></td>\\n\\t\\t\\t\\t\\t\\t\\t\\t\\t\\t\\t\\t\\t\\t\\t\\t\\t\\t<td style=\"height: 15px\"><a title=\"Ayuda General\" onclick=\"javaScript:help();\" href=\"#\">Ayuda</a></td>\\n\\t\\t\\t\\t\\t\\t\\t\\t\\t\\t\\t\\t\\t\\t\\t\\t\\t</tr>\\n\\t\\t\\t\\t\\t\\t\\t\\t\\t\\t\\t\\t\\t\\t\\t\\t</tbody></table>\\n\\t\\t\\t\\t\\t\\t\\t\\t\\t\\t\\t\\t\\t\\t\\t</td>\\n\\t\\t\\t\\t\\t\\t\\t\\t\\t\\t\\t\\t\\t\\t</tr>\\n\\t\\t\\t\\t\\t\\t\\t\\t\\t\\t\\t\\t\\t\\t<tr>\\n\\t\\t\\t\\t\\t\\t\\t\\t\\t\\t\\t\\t\\t\\t\\t<td bgcolor=\"#ffffff\">\\n\\t\\t\\t\\t\\t\\t\\t\\t\\t\\t\\t\\t\\t\\t\\t\\t<table cellspacing=\"0\" cellpadding=\"1\" border=\"0\">\\n\\t\\t\\t\\t\\t\\t\\t\\t\\t\\t\\t\\t\\t\\t\\t\\t\\t<tbody><tr>\\n\\t\\t\\t\\t\\t\\t\\t\\t\\t\\t\\t\\t\\t\\t\\t\\t\\t\\t<td><img src=\"images/bullet.gif\" border=\"0\"></td>\\n\\t\\t\\t\\t\\t\\t\\t\\t\\t\\t\\t\\t\\t\\t\\t\\t\\t\\t<td><a title=\"Acerca de ...\" onclick=\"javaScript:about();\" href=\"#\">Acerca De ...</a></td>\\n\\t\\t\\t\\t\\t\\t\\t\\t\\t\\t\\t\\t\\t\\t\\t\\t\\t</tr>\\n\\t\\t\\t\\t\\t\\t\\t\\t\\t\\t\\t\\t\\t\\t\\t\\t</tbody></table>\\n\\t\\t\\t\\t\\t\\t\\t\\t\\t\\t\\t\\t\\t\\t\\t</td>\\n\\t\\t\\t\\t\\t\\t\\t\\t\\t\\t\\t\\t\\t\\t</tr>\\n\\t\\t\\t\\t\\t\\t\\t\\t\\t\\t\\t\\t\\t\\t<tr>\\n\\t\\t\\t\\t\\t\\t\\t\\t\\t\\t\\t\\t\\t\\t\\t<td bgcolor=\"#ffffff\">\\n\\t\\t\\t\\t\\t\\t\\t\\t\\t\\t\\t\\t\\t\\t\\t\\t<table cellspacing=\"0\" cellpadding=\"1\" border=\"0\">\\n\\t\\t\\t\\t\\t\\t\\t\\t\\t\\t\\t\\t\\t\\t\\t\\t\\t<tbody><tr>\\n\\t\\t\\t\\t\\t\\t\\t\\t\\t\\t\\t\\t\\t\\t\\t\\t\\t\\t<td><img src=\"images/bullet.gif\" border=\"0\"></td>\\n\\t\\t\\t\\t\\t\\t\\t\\t\\t\\t\\t\\t\\t\\t\\t\\t\\t\\t<td><a title=\"Salir de la Aplicación\" onclick=\"javaScript:salir();\" href=\"#\">Salir</a></td>\\n\\t\\t\\t\\t\\t\\t\\t\\t\\t\\t\\t\\t\\t\\t\\t\\t\\t</tr>\\n\\t\\t\\t\\t\\t\\t\\t\\t\\t\\t\\t\\t\\t\\t\\t\\t</tbody></table>\\n\\t\\t\\t\\t\\t\\t\\t\\t\\t\\t\\t\\t\\t\\t\\t</td>\\n\\t\\t\\t\\t\\t\\t\\t\\t\\t\\t\\t\\t\\t\\t</tr>\\n                                                        <tr>\\n                                                            <td align=\"center\" bgcolor=\"#ffffff\" style=\"height: 28px\">\\n                                                                <span id=\"titulo\" style=\"color:Black;font-size:X-Small;font-weight:bold;font-style:italic;\">INFORMACIÓN</span></td>\\n                                                        </tr>\\n                                                        <tr>\\n                                                            <td align=\"center\" bgcolor=\"#ffffff\" style=\"height: 28px\">\\n                                                                Para consutar el cumplimiento en la oportunidad del reporte de que\\n                                                                trata el Decreto 2193 de 2004, compilado en la Sección 2, Capítulo 8, Título 3,Parte 5 del Libro\\n                                                                2 del Decreto 780 de 2016 - Decreto Único Reglamentario del Sector Salud y Protección\\n                                                                Social, de cada una de las ESE del País, con lo cual\\n                                                                se da cumplimiento a lo previsto en el anexo No. 2 de la Resolución 710 de 2012,\\n                                                                modificada por las Resoluciones\\n                                                                743 de 2013 y 408 de 2018.<br>\\n                                                                &nbsp;\\n                                                                <br>\\n                                                                Puede hacerlo a traves del siguiente\\n                                                                link:\\n                                                            </td>\\n                                                        </tr>\\n                                                        <tr>\\n                                                            <td align=\"center\" bgcolor=\"#ffffff\" style=\"height: 1px\">\\n                                                            </td>\\n                                                        </tr>\\n                                                        <tr>\\n                                                            <td bgcolor=\"#ffffff\" align=\"center\" font-bold=\"True\"> \\n                                                            <table id=\"Table7\" cellspacing=\"0\" cellpadding=\"1\" border=\"0\" style=\"font-weight: bold; color: blue; font-style: normal; text-decoration: underline\">\\n                                                                <tbody><tr>\\n                                                                    <td style=\"height: 15px\"><img src=\"images/bullet.gif\" border=\"0\" style=\"color: blue; text-decoration: underline\"></td>\\n                                                                    <td style=\"height: 15px\"><a title=\"Reporte Cumplimiento\" onclick=\"javaScript:reporte();\" href=\"#\">Reporte Cumplimiento 2022</a></td>\\n                                                                </tr>\\n                                                            </tbody></table>\\n                                                            </td>\\n                                                        </tr>\\n                                                        <tr>\\n                                                            <td align=\"center\" bgcolor=\"#ffffff\" font-bold=\"True\" style=\"height: 10px\">\\n                                                            </td>\\n                                                        </tr>\\n\\t\\t\\t\\t\\t\\t\\t\\t\\t\\t\\t\\t\\t</tbody></table>\\n\\t\\t\\t\\t\\t\\t\\t\\t\\t\\t\\t\\t</td>\\n\\t\\t\\t\\t\\t\\t\\t\\t\\t\\t\\t</tr>\\n\\t\\t\\t\\t\\t\\t\\t\\t\\t\\t</tbody></table>\\n\\t\\t\\t\\t\\t\\t\\t\\t\\t</div>\\n\\t\\t\\t\\t\\t\\t<marquee id=\"MARQUEE1\" style=\"BORDER-RIGHT: #0094C7 1px solid; BORDER-TOP: #0094C7 1px solid; VISIBILITY: hidden; BORDER-LEFT: #0094C7 1px solid; WIDTH: 187px; BORDER-BOTTOM: #0094C7 1px solid; HEIGHT: 160px\" scrolldelay=\"150\" direction=\"up\" behavior=\"slide\" loop=\"-1\" bgcolor=\"white\"></marquee>\\n                                    <br>\\n\\t\\t\\t\\t\\t\\t\\t\\t</td>\\n\\t\\t\\t\\t\\t\\t\\t</tr>\\n\\t\\t\\t\\t\\t\\t</tbody></table>\\n\\t\\t\\t\\t\\t\\t<!--Mensaje debajo de login-->\\n\\t\\t\\t\\t\\t\\t<br>\\n\\t\\t\\t\\t\\t\\t<br>\\n\\t\\t\\t\\t\\t\\t<!--Fin mensaje debajo de login -->\\n\\t\\t\\t\\t\\t</td>\\n\\t\\t\\t\\t\\t<td valign=\"top\">\\n\\t\\t\\t\\t\\t\\t<table cellspacing=\"0\" cellpadding=\"0\" width=\"100%\" border=\"0\">\\n\\t\\t\\t\\t\\t\\t\\t<!--Mensaje sobre menu\\n\\t\\t\\t\\t\\t\\t\\t<tr>\\n\\t\\t\\t\\t\\t\\t\\t\\t<td>\\n\\t\\t\\t\\t\\t\\t\\t\\t\\t<table border=\"0\" cellpadding=\"1\" cellspacing=\"0\" width=\"90%\">\\n\\t\\t\\t\\t\\t\\t\\t\\t\\t\\t<tr>\\n\\t\\t\\t\\t\\t\\t\\t\\t\\t\\t\\t<td bgColor=\"#008844\">\\n\\t\\t\\t\\t\\t\\t\\t\\t\\t\\t\\t\\t<table border=\"0\" cellpadding=\"0\" cellspacing=\"0\" width=\"100%\">\\n\\t\\t\\t\\t\\t\\t\\t\\t\\t\\t\\t\\t\\t<tr>\\n\\t\\t\\t\\t\\t\\t\\t\\t\\t\\t\\t\\t\\t\\t<td bgColor=\"#f7f7f7\">\\n\\t\\t\\t\\t\\t\\t\\t\\t\\t\\t\\t\\t\\t\\t\\t<marquee hspace=\"10\" width=\"500\">Ultima actualización: 6 de Marzo de 2006. Se \\n\\t\\t\\t\\t\\t\\t\\t\\t\\t\\t\\t\\t\\t\\t\\t\\tencuentra disponible la información de los periodos Enero-Marzo, Abril-Junio y \\n\\t\\t\\t\\t\\t\\t\\t\\t\\t\\t\\t\\t\\t\\t\\t\\tJulio-Septiembre de 2005</marquee>\\n\\t\\t\\t\\t\\t\\t\\t\\t\\t\\t\\t\\t\\t\\t</td>\\n\\t\\t\\t\\t\\t\\t\\t\\t\\t\\t\\t\\t\\t</tr>\\n\\t\\t\\t\\t\\t\\t\\t\\t\\t\\t\\t\\t</table>\\n\\t\\t\\t\\t\\t\\t\\t\\t\\t\\t\\t</td>\\n\\t\\t\\t\\t\\t\\t\\t\\t\\t\\t</tr>\\n\\t\\t\\t\\t\\t\\t\\t\\t\\t</table>\\n\\t\\t\\t\\t\\t\\t\\t\\t</td>\\n\\t\\t\\t\\t\\t\\t\\t</tr>\\n-->\\n\\t\\t\\t\\t\\t\\t\\t<tbody><tr>\\n\\t\\t\\t\\t\\t\\t\\t\\t<td><span id=\"lblmenu\" class=\"labelNormal\"></span></td>\\n\\t\\t\\t\\t\\t\\t\\t</tr>\\n\\t\\t\\t\\t\\t\\t</tbody></table>\\n\\t\\t\\t\\t\\t</td>\\n\\t\\t\\t\\t</tr>\\n\\t\\t\\t</tbody></table>\\n\\t\\t</form>\\n\\t\\n\\n</body></html>'"
      ]
     },
     "execution_count": 9,
     "metadata": {},
     "output_type": "execute_result"
    }
   ],
   "source": [
    "html = driver.page_source\n",
    "html"
   ]
  },
  {
   "cell_type": "code",
   "execution_count": 10,
   "metadata": {},
   "outputs": [],
   "source": [
    "search_button = driver.find_element(By.ID, \"btnIngresar\")\n",
    "search_button.click()"
   ]
  },
  {
   "cell_type": "code",
   "execution_count": 11,
   "metadata": {},
   "outputs": [
    {
     "data": {
      "text/plain": [
       "True"
      ]
     },
     "execution_count": 11,
     "metadata": {},
     "output_type": "execute_result"
    }
   ],
   "source": [
    "driver.save_screenshot(\"screenshot2.png\")"
   ]
  },
  {
   "cell_type": "code",
   "execution_count": 12,
   "metadata": {},
   "outputs": [
    {
     "data": {
      "text/plain": [
       "['E68BA1E3B461B4C61B6711777B79302E']"
      ]
     },
     "execution_count": 12,
     "metadata": {},
     "output_type": "execute_result"
    }
   ],
   "source": [
    "assert len(driver.window_handles) == 1\n",
    "driver.window_handles"
   ]
  },
  {
   "cell_type": "code",
   "execution_count": 13,
   "metadata": {},
   "outputs": [],
   "source": [
    "search_link = driver.find_element(By.LINK_TEXT, \"Capacidad Instalada\")\n",
    "search_link.click()"
   ]
  },
  {
   "cell_type": "code",
   "execution_count": 14,
   "metadata": {},
   "outputs": [
    {
     "data": {
      "text/plain": [
       "True"
      ]
     },
     "execution_count": 14,
     "metadata": {},
     "output_type": "execute_result"
    }
   ],
   "source": [
    "driver.save_screenshot(\"screenshot3.png\")"
   ]
  },
  {
   "cell_type": "code",
   "execution_count": 15,
   "metadata": {},
   "outputs": [],
   "source": [
    "driver.switch_to.default_content()"
   ]
  },
  {
   "cell_type": "code",
   "execution_count": 16,
   "metadata": {},
   "outputs": [
    {
     "data": {
      "text/plain": [
       "'<html><head>\\n\\t\\t<title>Información de Hospitales :: Dirección de Prestación de Servicios y Atención Primaria :: Ministerio de Salud y Protección Social</title>\\n\\t\\t<meta content=\"text/html; charset=windows-1252\" http-equiv=\"Content-Type\">\\n\\t\\t<meta name=\"description\" content=\"SIHO :: Sistema de Información Hospitalaria de la Dirección de Prestación de Servicios y Atención Primaria del Ministerio de Salud y Protección Social de Colombia.\">\\n\\t\\t<meta name=\"keywords\" content=\"Gestion, Hospitales, Publicos, SIHO, Proteccion, Social, Decreto 2193\">\\n        <link rel=\"SHORTCUT ICON\" href=\"images/siho.ico\">\\n\\t\\t<!--meta http-equiv=\"refresh\" content=\"5;url=/pubs\"-->\\n<!--\\n// Author: Germán Ricardo Aragón Ospina (garagonospina@hotmail.com)\\n// Update: 2010/05/31\\n// Actualización:   2012/01/13 Jail Tao Ortiz\\n//-->\\n\\t</head>\\n\\t<frameset border=\"0\" frameborder=\"0\" framespacing=\"0\" rows=\"70,*,18\">\\n\\t\\t<frame marginheight=\"1\" marginwidth=\"1\" name=\"areatop\" noresize=\"\" scrolling=\"no\" src=\"top.htm\">\\n\\t\\t<frame marginheight=\"20\" marginwidth=\"10\" name=\"areawork\" noresize=\"\" src=\"work.aspx\" cd_frame_id_=\"0230b797ba785f21e90b1e8839a493f5\">\\n\\t\\t<frame marginheight=\"0\" marginwidth=\"0\" name=\"areastatus\" noresize=\"\" scrolling=\"no\" src=\"status.aspx\">\\n\\t</frameset>\\n</html>'"
      ]
     },
     "execution_count": 16,
     "metadata": {},
     "output_type": "execute_result"
    }
   ],
   "source": [
    "html = driver.page_source\n",
    "html"
   ]
  },
  {
   "cell_type": "code",
   "execution_count": 17,
   "metadata": {},
   "outputs": [
    {
     "data": {
      "text/plain": [
       "['E68BA1E3B461B4C61B6711777B79302E', 'BDC28EF5191BBD1D5D73CDC3962D385D']"
      ]
     },
     "execution_count": 17,
     "metadata": {},
     "output_type": "execute_result"
    }
   ],
   "source": [
    "assert len(driver.window_handles) == 2\n",
    "driver.window_handles"
   ]
  },
  {
   "cell_type": "code",
   "execution_count": 18,
   "metadata": {},
   "outputs": [],
   "source": [
    "driver.switch_to.window(driver.window_handles[1])"
   ]
  },
  {
   "cell_type": "code",
   "execution_count": 19,
   "metadata": {},
   "outputs": [
    {
     "data": {
      "text/plain": [
       "True"
      ]
     },
     "execution_count": 19,
     "metadata": {},
     "output_type": "execute_result"
    }
   ],
   "source": [
    "driver.save_screenshot(\"screenshot4.png\")"
   ]
  },
  {
   "cell_type": "code",
   "execution_count": null,
   "metadata": {},
   "outputs": [],
   "source": []
  },
  {
   "cell_type": "code",
   "execution_count": null,
   "metadata": {},
   "outputs": [
    {
     "data": {
      "text/plain": [
       "True"
      ]
     },
     "metadata": {},
     "output_type": "display_data"
    }
   ],
   "source": [
    "driver.save_screenshot(\"screenshot5.png\")"
   ]
  }
 ],
 "metadata": {
  "kernelspec": {
   "display_name": "env",
   "language": "python",
   "name": "python3"
  },
  "language_info": {
   "codemirror_mode": {
    "name": "ipython",
    "version": 3
   },
   "file_extension": ".py",
   "mimetype": "text/x-python",
   "name": "python",
   "nbconvert_exporter": "python",
   "pygments_lexer": "ipython3",
   "version": "3.10.6"
  },
  "orig_nbformat": 4
 },
 "nbformat": 4,
 "nbformat_minor": 2
}
